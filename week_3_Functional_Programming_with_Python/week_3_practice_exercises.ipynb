{
 "cells": [
  {
   "cell_type": "markdown",
   "id": "073a9495",
   "metadata": {},
   "source": [
    "# Week-3 Functional Programming with Python - Practice Exercises"
   ]
  },
  {
   "cell_type": "markdown",
   "id": "be7f2cad",
   "metadata": {},
   "source": [
    "### Let's begin with some hands-on practice exercises"
   ]
  },
  {
   "cell_type": "markdown",
   "id": "8d88526e",
   "metadata": {},
   "source": [
    "### 1. Write a Python function that takes two numbers as input and returns their sum."
   ]
  },
  {
   "cell_type": "code",
   "execution_count": null,
   "id": "19510e8e",
   "metadata": {},
   "outputs": [],
   "source": [
    "# type your code here"
   ]
  },
  {
   "cell_type": "markdown",
   "id": "fa567375",
   "metadata": {},
   "source": [
    "### 2.Write a Python function that takes a list of numbers as input and returns the maximum number from that list. "
   ]
  },
  {
   "cell_type": "code",
   "execution_count": null,
   "id": "e2475417",
   "metadata": {},
   "outputs": [],
   "source": [
    "# type your code here"
   ]
  },
  {
   "cell_type": "markdown",
   "id": "b266c086",
   "metadata": {},
   "source": [
    "### 3. Create a Python function that checks whether a given number is even or odd and returns a corresponding message."
   ]
  },
  {
   "cell_type": "code",
   "execution_count": null,
   "id": "8d098243",
   "metadata": {},
   "outputs": [],
   "source": [
    "# type your code here"
   ]
  },
  {
   "cell_type": "markdown",
   "id": "5f2459e0",
   "metadata": {},
   "source": [
    "### 4.Create a Python class representing an Item in an e-commerce system. Implement abstraction by providing methods to set the item details such as name, price, and description. Also, include a method to display the item details. Hide the implementation details of these methods."
   ]
  },
  {
   "cell_type": "code",
   "execution_count": null,
   "id": "eae8d71b",
   "metadata": {},
   "outputs": [],
   "source": [
    "# type your code here"
   ]
  },
  {
   "cell_type": "markdown",
   "id": "755aec83",
   "metadata": {},
   "source": [
    "### 5. Create a Python class representing a Customer in an e-commerce system. Implement abstraction by providing methods to set the customer details such as name, email, and address. Also, include a method to display the customer details. Hide the implementation details of these methods."
   ]
  },
  {
   "cell_type": "code",
   "execution_count": null,
   "id": "38623afb",
   "metadata": {},
   "outputs": [],
   "source": [
    "# type your code here"
   ]
  },
  {
   "cell_type": "markdown",
   "id": "d8a8477c",
   "metadata": {},
   "source": [
    "### 6.Create a Python class representing a Student. This class should have attributes like name, age, and grade. Implement methods to set and get these attributes."
   ]
  },
  {
   "cell_type": "code",
   "execution_count": null,
   "id": "3d6554de",
   "metadata": {},
   "outputs": [],
   "source": [
    "# type your code here"
   ]
  },
  {
   "cell_type": "markdown",
   "id": "08e017e9",
   "metadata": {},
   "source": [
    "### 7.Create a Python class representing a Circle. This class should have an attribute for the radius and methods to calculate the area and circumference of the circle."
   ]
  },
  {
   "cell_type": "code",
   "execution_count": null,
   "id": "5fe4f5e1",
   "metadata": {},
   "outputs": [],
   "source": [
    "# type your code here"
   ]
  },
  {
   "cell_type": "markdown",
   "id": "fed944f2",
   "metadata": {},
   "source": [
    "## Power Ahead!"
   ]
  },
  {
   "cell_type": "code",
   "execution_count": null,
   "id": "61aa3244",
   "metadata": {},
   "outputs": [],
   "source": []
  }
 ],
 "metadata": {
  "kernelspec": {
   "display_name": "Python 3 (ipykernel)",
   "language": "python",
   "name": "python3"
  },
  "language_info": {
   "codemirror_mode": {
    "name": "ipython",
    "version": 3
   },
   "file_extension": ".py",
   "mimetype": "text/x-python",
   "name": "python",
   "nbconvert_exporter": "python",
   "pygments_lexer": "ipython3",
   "version": "3.9.7"
  }
 },
 "nbformat": 4,
 "nbformat_minor": 5
}
