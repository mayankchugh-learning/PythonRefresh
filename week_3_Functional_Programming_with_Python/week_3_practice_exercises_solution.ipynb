{
 "cells": [
  {
   "cell_type": "markdown",
   "id": "073a9495",
   "metadata": {},
   "source": [
    "# Week-3 Functional Programming with Python - Practice Exercises"
   ]
  },
  {
   "cell_type": "markdown",
   "id": "be7f2cad",
   "metadata": {},
   "source": [
    "### Let's begin with some hands-on practice exercises"
   ]
  },
  {
   "cell_type": "markdown",
   "id": "8d88526e",
   "metadata": {},
   "source": [
    "### 1. Write a Python function that takes two numbers as input and returns their sum."
   ]
  },
  {
   "cell_type": "code",
   "execution_count": 1,
   "id": "19510e8e",
   "metadata": {},
   "outputs": [
    {
     "name": "stdout",
     "output_type": "stream",
     "text": [
      "The sum is: 8\n"
     ]
    }
   ],
   "source": [
    "# type your code here\n",
    "def add_numbers(num1, num2):\n",
    "    \"\"\"\n",
    "    Function to add two numbers.\n",
    "    \n",
    "    Parameters:\n",
    "    num1 (int or float): The first number.\n",
    "    num2 (int or float): The second number.\n",
    "    \n",
    "    Returns:\n",
    "    int or float: The sum of num1 and num2.\n",
    "    \"\"\"\n",
    "    return num1 + num2\n",
    "\n",
    "# Example usage of the function\n",
    "result = add_numbers(5, 3)\n",
    "print(\"The sum is:\", result)\n"
   ]
  },
  {
   "cell_type": "code",
   "execution_count": 2,
   "id": "1eb90e9d",
   "metadata": {},
   "outputs": [
    {
     "name": "stdout",
     "output_type": "stream",
     "text": [
      "7\n"
     ]
    }
   ],
   "source": [
    "def addtwonumber(a,b):\n",
    "    c = a+b\n",
    "    return c\n",
    "\n",
    "d=addtwonumber(3,4)\n",
    "print(d)"
   ]
  },
  {
   "cell_type": "markdown",
   "id": "fa567375",
   "metadata": {},
   "source": [
    "### 2.Write a Python function that takes a list of numbers as input and returns the maximum number from that list. "
   ]
  },
  {
   "cell_type": "code",
   "execution_count": 4,
   "id": "602b9d97",
   "metadata": {},
   "outputs": [
    {
     "name": "stdout",
     "output_type": "stream",
     "text": [
      "645\n"
     ]
    }
   ],
   "source": [
    "def maxnumber(l):\n",
    "    maxnumber= l[0]\n",
    "    for i in l:\n",
    "        if i > maxnumber:\n",
    "            maxnumber=i\n",
    "            \n",
    "    return maxnumber\n",
    "\n",
    "l = [23,45,66,77,2,3,6,34,645,44,3,0]\n",
    "\n",
    "print (maxnumber(l))\n"
   ]
  },
  {
   "cell_type": "code",
   "execution_count": 2,
   "id": "e2475417",
   "metadata": {},
   "outputs": [
    {
     "name": "stdout",
     "output_type": "stream",
     "text": [
      "The maximum number in the list is: 15\n"
     ]
    }
   ],
   "source": [
    "# type your code here\n",
    "def find_max(numbers):\n",
    "    \"\"\"\n",
    "    Function to find the maximum number in a list.\n",
    "    \n",
    "    Parameters:\n",
    "    numbers (list of int or float): The list of numbers.\n",
    "    \n",
    "    Returns:\n",
    "    int or float: The maximum number in the list.\n",
    "    \"\"\"\n",
    "    # Check if the list is empty\n",
    "    if not numbers:\n",
    "        return None\n",
    "    \n",
    "    # Initialize max_num with the first element of the list\n",
    "    max_num = numbers[0]\n",
    "    \n",
    "    # Iterate through the list to find the maximum number\n",
    "    for num in numbers:\n",
    "        if num > max_num:\n",
    "            max_num = num\n",
    "    \n",
    "    return max_num\n",
    "\n",
    "# Example usage of the function\n",
    "numbers = [5, 10, 3, 8, 15, 7]\n",
    "max_number = find_max(numbers)\n",
    "print(\"The maximum number in the list is:\", max_number)\n"
   ]
  },
  {
   "cell_type": "markdown",
   "id": "b266c086",
   "metadata": {},
   "source": [
    "### 3. Create a Python function that checks whether a given number is even or odd and returns a corresponding message."
   ]
  },
  {
   "cell_type": "code",
   "execution_count": 11,
   "id": "e48a98e2",
   "metadata": {},
   "outputs": [
    {
     "name": "stdout",
     "output_type": "stream",
     "text": [
      "number is even\n",
      "number is odd\n",
      "number is odd\n",
      "number is even\n",
      "number is even\n",
      "number is odd\n"
     ]
    }
   ],
   "source": [
    "def checkevenodd(number):\n",
    "    if(number%2 == 0):\n",
    "        print(\"number is even\")\n",
    "    else:\n",
    "        print(\"number is odd\")\n",
    "    \n",
    "checkevenodd(12)   \n",
    "\n",
    "checkevenodd(-13) \n",
    "checkevenodd(15)   \n",
    "\n",
    "checkevenodd(-16) \n",
    "checkevenodd(122)   \n",
    "\n",
    "checkevenodd(-131) \n"
   ]
  },
  {
   "cell_type": "code",
   "execution_count": 3,
   "id": "8d098243",
   "metadata": {},
   "outputs": [
    {
     "name": "stdout",
     "output_type": "stream",
     "text": [
      "The number 10 is even.\n",
      "The number 7 is odd.\n"
     ]
    }
   ],
   "source": [
    "# type your code here\n",
    "def check_even_odd(number):\n",
    "    \"\"\"\n",
    "    Function to check whether a given number is even or odd.\n",
    "    \n",
    "    Parameters:\n",
    "    number (int): The number to check.\n",
    "    \n",
    "    Returns:\n",
    "    str: A message indicating whether the number is even or odd.\n",
    "    \"\"\"\n",
    "    if number % 2 == 0:\n",
    "        return \"The number {} is even.\".format(number)\n",
    "    else:\n",
    "        return \"The number {} is odd.\".format(number)\n",
    "\n",
    "# Example usage of the function\n",
    "result1 = check_even_odd(10)\n",
    "print(result1)\n",
    "\n",
    "result2 = check_even_odd(7)\n",
    "print(result2)"
   ]
  },
  {
   "cell_type": "markdown",
   "id": "5f2459e0",
   "metadata": {},
   "source": [
    "### 4.Create a Python class representing an Item in an e-commerce system. Implement abstraction by providing methods to set the item details such as name, price, and description. Also, include a method to display the item details. Hide the implementation details of these methods."
   ]
  },
  {
   "cell_type": "code",
   "execution_count": 4,
   "id": "eae8d71b",
   "metadata": {},
   "outputs": [
    {
     "name": "stdout",
     "output_type": "stream",
     "text": [
      "Item Details:\n",
      "Name: Laptop\n",
      "Price: $ 999.99\n",
      "Description: A high-performance laptop with advanced features.\n"
     ]
    }
   ],
   "source": [
    "# type your code here\n",
    "class Item:\n",
    "    def __init__(self):\n",
    "        self._name = None\n",
    "        self._price = None\n",
    "        self._description = None\n",
    "    \n",
    "    def set_details(self, name, price, description):\n",
    "        \"\"\"\n",
    "        Method to set the details of the item.\n",
    "        \n",
    "        Parameters:\n",
    "        name (str): The name of the item.\n",
    "        price (float): The price of the item.\n",
    "        description (str): The description of the item.\n",
    "        \"\"\"\n",
    "        self._name = name\n",
    "        self._price = price\n",
    "        self._description = description\n",
    "    \n",
    "    def display_details(self):\n",
    "        \"\"\"\n",
    "        Method to display the details of the item.\n",
    "        \"\"\"\n",
    "        print(\"Item Details:\")\n",
    "        print(\"Name:\", self._name)\n",
    "        print(\"Price: $\", self._price)\n",
    "        print(\"Description:\", self._description)\n",
    "\n",
    "# Example usage of the Item class\n",
    "item1 = Item()\n",
    "item1.set_details(\"Laptop\", 999.99, \"A high-performance laptop with advanced features.\")\n",
    "item1.display_details()\n"
   ]
  },
  {
   "cell_type": "markdown",
   "id": "755aec83",
   "metadata": {},
   "source": [
    "### 5. Create a Python class representing a Customer in an e-commerce system. Implement abstraction by providing methods to set the customer details such as name, email, and address. Also, include a method to display the customer details. Hide the implementation details of these methods."
   ]
  },
  {
   "cell_type": "code",
   "execution_count": 5,
   "id": "38623afb",
   "metadata": {},
   "outputs": [
    {
     "name": "stdout",
     "output_type": "stream",
     "text": [
      "Customer Details:\n",
      "Name: John Doe\n",
      "Email: john@example.com\n",
      "Address: 123 Main St, City, Country\n"
     ]
    }
   ],
   "source": [
    "# type your code here\n",
    "class Customer:\n",
    "    def __init__(self):\n",
    "        self._name = None\n",
    "        self._email = None\n",
    "        self._address = None\n",
    "    \n",
    "    def set_details(self, name, email, address):\n",
    "        \"\"\"\n",
    "        Method to set the details of the customer.\n",
    "        \n",
    "        Parameters:\n",
    "        name (str): The name of the customer.\n",
    "        email (str): The email address of the customer.\n",
    "        address (str): The address of the customer.\n",
    "        \"\"\"\n",
    "        self._name = name\n",
    "        self._email = email\n",
    "        self._address = address\n",
    "    \n",
    "    def display_details(self):\n",
    "        \"\"\"\n",
    "        Method to display the details of the customer.\n",
    "        \"\"\"\n",
    "        print(\"Customer Details:\")\n",
    "        print(\"Name:\", self._name)\n",
    "        print(\"Email:\", self._email)\n",
    "        print(\"Address:\", self._address)\n",
    "\n",
    "# Example usage of the Customer class\n",
    "customer1 = Customer()\n",
    "customer1.set_details(\"John Doe\", \"john@example.com\", \"123 Main St, City, Country\")\n",
    "customer1.display_details()\n"
   ]
  },
  {
   "cell_type": "markdown",
   "id": "d8a8477c",
   "metadata": {},
   "source": [
    "### 6.Create a Python class representing a Student. This class should have attributes like name, age, and grade. Implement methods to set and get these attributes."
   ]
  },
  {
   "cell_type": "code",
   "execution_count": 7,
   "id": "3d6554de",
   "metadata": {},
   "outputs": [
    {
     "name": "stdout",
     "output_type": "stream",
     "text": [
      "Name: Alice\n",
      "Age: 16\n",
      "Grade: 11\n"
     ]
    }
   ],
   "source": [
    "# type your code here\n",
    "class Student:\n",
    "    def __init__(self):\n",
    "        self._name = None\n",
    "        self._age = None\n",
    "        self._grade = None\n",
    "    \n",
    "    def set_details(self, name, age, grade):\n",
    "        \"\"\"\n",
    "        Method to set the details of the student.\n",
    "        \n",
    "        Parameters:\n",
    "        name (str): The name of the student.\n",
    "        age (int): The age of the student.\n",
    "        grade (int): The grade of the student.\n",
    "        \"\"\"\n",
    "        self._name = name\n",
    "        self._age = age\n",
    "        self._grade = grade\n",
    "    \n",
    "    def get_name(self):\n",
    "        \"\"\"\n",
    "        Method to get the name of the student.\n",
    "        \n",
    "        Returns:\n",
    "        str: The name of the student.\n",
    "        \"\"\"\n",
    "        return self._name\n",
    "    \n",
    "    def get_age(self):\n",
    "        \"\"\"\n",
    "        Method to get the age of the student.\n",
    "        \n",
    "        Returns:\n",
    "        int: The age of the student.\n",
    "        \"\"\"\n",
    "        return self._age\n",
    "    \n",
    "    def get_grade(self):\n",
    "        \"\"\"\n",
    "        Method to get the grade of the student.\n",
    "        \n",
    "        Returns:\n",
    "        int: The grade of the student.\n",
    "        \"\"\"\n",
    "        return self._grade\n",
    "\n",
    "\n",
    "# Example usage of the Student class\n",
    "student = Student()\n",
    "student.set_details(\"Alice\", 16, 11)\n",
    "print(\"Name:\", student.get_name())\n",
    "print(\"Age:\", student.get_age())\n",
    "print(\"Grade:\", student.get_grade())\n"
   ]
  },
  {
   "cell_type": "markdown",
   "id": "08e017e9",
   "metadata": {},
   "source": [
    "### 7.Create a Python class representing a Circle. This class should have an attribute for the radius and methods to calculate the area and circumference of the circle."
   ]
  },
  {
   "cell_type": "code",
   "execution_count": 8,
   "id": "5fe4f5e1",
   "metadata": {},
   "outputs": [
    {
     "name": "stdout",
     "output_type": "stream",
     "text": [
      "Radius of the circle: 5\n",
      "Area of the circle: 78.53981633974483\n",
      "Circumference of the circle: 31.41592653589793\n"
     ]
    }
   ],
   "source": [
    "# type your code here\n",
    "import math\n",
    "\n",
    "class Circle:\n",
    "    def __init__(self, radius):\n",
    "        self.radius = radius\n",
    "    \n",
    "    def calculate_area(self):\n",
    "        \"\"\"\n",
    "        Method to calculate the area of the circle.\n",
    "        \n",
    "        Returns:\n",
    "        float: The area of the circle.\n",
    "        \"\"\"\n",
    "        return math.pi * self.radius ** 2\n",
    "    \n",
    "    def calculate_circumference(self):\n",
    "        \"\"\"\n",
    "        Method to calculate the circumference of the circle.\n",
    "        \n",
    "        Returns:\n",
    "        float: The circumference of the circle.\n",
    "        \"\"\"\n",
    "        return 2 * math.pi * self.radius\n",
    "\n",
    "\n",
    "# Example usage of the Circle class\n",
    "circle = Circle(5)\n",
    "print(\"Radius of the circle:\", circle.radius)\n",
    "print(\"Area of the circle:\", circle.calculate_area())\n",
    "print(\"Circumference of the circle:\", circle.calculate_circumference())\n"
   ]
  },
  {
   "cell_type": "markdown",
   "id": "fed944f2",
   "metadata": {},
   "source": [
    "## Power Ahead!"
   ]
  },
  {
   "cell_type": "code",
   "execution_count": null,
   "id": "61aa3244",
   "metadata": {},
   "outputs": [],
   "source": []
  }
 ],
 "metadata": {
  "kernelspec": {
   "display_name": "Python 3 (ipykernel)",
   "language": "python",
   "name": "python3"
  },
  "language_info": {
   "codemirror_mode": {
    "name": "ipython",
    "version": 3
   },
   "file_extension": ".py",
   "mimetype": "text/x-python",
   "name": "python",
   "nbconvert_exporter": "python",
   "pygments_lexer": "ipython3",
   "version": "3.9.7"
  }
 },
 "nbformat": 4,
 "nbformat_minor": 5
}
