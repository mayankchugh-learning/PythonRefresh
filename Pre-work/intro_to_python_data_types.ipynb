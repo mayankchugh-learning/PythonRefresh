{
 "cells": [
  {
   "cell_type": "code",
   "execution_count": null,
   "metadata": {},
   "outputs": [],
   "source": [
    "print(2+2+2)"
   ]
  },
  {
   "cell_type": "code",
   "execution_count": null,
   "metadata": {},
   "outputs": [],
   "source": [
    "print"
   ]
  },
  {
   "cell_type": "code",
   "execution_count": null,
   "metadata": {},
   "outputs": [],
   "source": []
  },
  {
   "cell_type": "code",
   "execution_count": null,
   "metadata": {},
   "outputs": [],
   "source": [
    "print('Hello, World!')"
   ]
  },
  {
   "cell_type": "markdown",
   "metadata": {},
   "source": [
    "# Introduction to python\n",
    "This is where we can add text\n",
    "\n",
    "We must designate this cell as a 'Markdown' cell.\n",
    "\n",
    "With a single hashtag we get a big section header.\n",
    "\n",
    "We can also add subsections.\n",
    "\n",
    "## Subsection\n",
    "\n",
    "It is convenient to communicate how your code works and what it is doing with markdown cells!\n",
    "\n",
    "You can also use LaTeX commands in-line with single dollar signs:  $\\int_0^\\infty f(x) dx$\n",
    "\n",
    "You can add LaTeX equations centered on their own lines with double dollar signs: $$\\sum_{i=1}^\\infty \\frac{1}{2^i}$$ \n",
    "\n",
    "\n"
   ]
  },
  {
   "cell_type": "markdown",
   "metadata": {},
   "source": [
    "# Shortcuts\n",
    "\n",
    "We can look at the existing keyboard shortcuts through the help menu, and we can make our own there\n",
    "\n",
    "The most important shortcuts are\n",
    "1. Shift + Enter\n",
    "2. Ctrl + Enter\n",
    "3. Alt + Enter\n",
    "4. Tab\n",
    "5. Shift + Tab"
   ]
  },
  {
   "cell_type": "code",
   "execution_count": null,
   "metadata": {},
   "outputs": [],
   "source": [
    "# we can add comments to code cells using a hashtag\n",
    "# on windows you can comment a line with 'ctrl + /'\n",
    "# on mac you can comment a line with 'cmd + /'\n",
    "#\n",
    "# assign a variable to a literal value\n",
    "a=3 # assign variable a to literal 3\n",
    "print('five times a is',5*a,'and 3 multiplied by a is',3*a)\n",
    "a=2\n",
    "print('five times a is',5*a,'and 3 multiplied by a is',3*a)\n"
   ]
  },
  {
   "cell_type": "code",
   "execution_count": null,
   "metadata": {},
   "outputs": [],
   "source": [
    "# we can also inspect the type of variables\n",
    "print('a is of type',type(a))\n",
    "b = 2.1\n",
    "print('b is of type',type(b))\n",
    "c = float(a)/b\n",
    "print('c is of type',type(c), 'and its value is',c)\n",
    "d = a/b\n",
    "print('d is of type',type(c), 'and its value is',d)\n"
   ]
  },
  {
   "cell_type": "markdown",
   "metadata": {},
   "source": [
    "# Collections of variables\n",
    "There are 4 main types of collections of variables in python\n",
    "1. list\n",
    "2. touple\n",
    "3. set\n",
    "4. dictionary\n"
   ]
  },
  {
   "cell_type": "code",
   "execution_count": null,
   "metadata": {},
   "outputs": [],
   "source": [
    "# a list is an ordered and indexed collection of values that are changeable and allows duplicates\n",
    "simple_list = ['Dan',2,3,4,'python',2.71]\n",
    "print(simple_list)\n",
    "print(simple_list[0])\n",
    "print(simple_list[3])\n",
    "print(simple_list[-1])\n",
    "print(simple_list[-2])\n",
    "print(len(simple_list))"
   ]
  },
  {
   "cell_type": "code",
   "execution_count": null,
   "metadata": {},
   "outputs": [],
   "source": [
    "# it is easy to change entries of a list\n",
    "simple_list[3] = 52\n",
    "print(simple_list[3]) # index is based on 0!!!\n",
    "simple_list.append('to the back')\n",
    "print(simple_list)\n",
    "print(len(simple_list))\n",
    "simple_list.pop(4)\n",
    "print(simple_list)"
   ]
  },
  {
   "cell_type": "code",
   "execution_count": null,
   "metadata": {},
   "outputs": [],
   "source": [
    "# it is easy to initialize a list of a particular size with all entries the same\n",
    "repeated_list = [5]*4\n",
    "print(repeated_list)"
   ]
  },
  {
   "cell_type": "code",
   "execution_count": null,
   "metadata": {},
   "outputs": [],
   "source": [
    "# we can even use lists as entries of a list\n",
    "simple_list[1] = [1,2,3]\n",
    "print(simple_list)\n",
    "print(simple_list[1])\n",
    "print(simple_list[1][1])"
   ]
  },
  {
   "cell_type": "code",
   "execution_count": null,
   "metadata": {},
   "outputs": [],
   "source": [
    "# copying lists is a little tricky\n",
    "list2 = simple_list\n",
    "print(list2)\n",
    "print(simple_list)\n",
    "list2[1] = 0\n",
    "print(list2)\n",
    "print(simple_list)"
   ]
  },
  {
   "cell_type": "code",
   "execution_count": null,
   "metadata": {},
   "outputs": [],
   "source": [
    "# we must use the copy method to prevent this behavior\n",
    "list3 = simple_list.copy()\n",
    "print(list3)\n",
    "print(simple_list)\n",
    "list3[0] = 'Mitchell'\n",
    "print(list3)\n",
    "print(simple_list)"
   ]
  },
  {
   "cell_type": "code",
   "execution_count": null,
   "metadata": {},
   "outputs": [],
   "source": [
    "# a tuple is an ordered collection of values that are unchangeable and allows duplicates\n",
    "simple_tuple = (12,42,11,99,2351)\n",
    "print(simple_tuple)\n",
    "print(simple_tuple[1])\n"
   ]
  },
  {
   "cell_type": "code",
   "execution_count": null,
   "metadata": {},
   "outputs": [],
   "source": [
    "# it is not possible to change entries in a touple\n",
    "simple_tuple[0] = 5"
   ]
  },
  {
   "cell_type": "code",
   "execution_count": null,
   "metadata": {},
   "outputs": [],
   "source": [
    "# you can work around this though...\n",
    "dummy = list(simple_tuple)\n",
    "dummy[0] = 5\n",
    "simple_tuple = tuple(dummy)\n",
    "print(simple_tuple)"
   ]
  },
  {
   "cell_type": "code",
   "execution_count": null,
   "metadata": {},
   "outputs": [],
   "source": [
    "# a set is an unordered collection of values that are changeable and does not allow duplicates\n",
    "simple_set = {11,-2,'water',-2}\n",
    "print(simple_set)"
   ]
  },
  {
   "cell_type": "code",
   "execution_count": null,
   "metadata": {},
   "outputs": [],
   "source": [
    "print(simple_set[1])"
   ]
  },
  {
   "cell_type": "code",
   "execution_count": null,
   "metadata": {},
   "outputs": [],
   "source": [
    "print('water' in simple_set)"
   ]
  },
  {
   "cell_type": "code",
   "execution_count": null,
   "metadata": {},
   "outputs": [],
   "source": [
    "# you can't change values but you can add and remove entries from a set\n",
    "simple_set.add(72)\n",
    "print(simple_set)\n",
    "simple_set.remove('water')\n",
    "print(simple_set)"
   ]
  },
  {
   "cell_type": "code",
   "execution_count": null,
   "metadata": {},
   "outputs": [],
   "source": [
    "# a dictionary is a collection of values that are unordered (but indexed) and changeable\n",
    "simple_dict = {\n",
    "    \"brand\": \"Apple\",\n",
    "    \"product\": \"iPhone\",\n",
    "    \"model\": \"X\"\n",
    "}\n",
    "print(simple_dict)\n",
    "print('I bought an',simple_dict['product'],\"model\",simple_dict['model'],'from',simple_dict['brand'])"
   ]
  },
  {
   "cell_type": "code",
   "execution_count": null,
   "metadata": {},
   "outputs": [],
   "source": [
    "simple_dict[\"model\"] = \"11 pro\"\n",
    "print('I bought an',simple_dict['product'],\"model\",simple_dict['model'],'from',simple_dict['brand'])"
   ]
  },
  {
   "cell_type": "code",
   "execution_count": null,
   "metadata": {},
   "outputs": [],
   "source": [
    "# we can also add entries to the dictionary\n",
    "simple_dict['color'] = 'red'\n",
    "print('I bought a',simple_dict[\"color\"],simple_dict['product'],\"model\",simple_dict['model'],'from',simple_dict['brand'])"
   ]
  },
  {
   "cell_type": "markdown",
   "metadata": {},
   "source": [
    "# Accessing data in lists\n",
    "A list is the main data type we will use for now and there are some rules we need to remember for accessing data in lists. \n",
    "\n",
    "Later we'll get into NumPy arrays, but the same rules here apply to them.\n",
    "\n",
    "With NumPy arrays we can access data in more ways."
   ]
  },
  {
   "cell_type": "code",
   "execution_count": null,
   "metadata": {},
   "outputs": [],
   "source": [
    "simple_list = [1,5,2,7,3,66,1923,11]\n",
    "# we can access multiple values in the list using the :\n",
    "# we must be careful though\n",
    "print(simple_list[2:5])\n",
    "# why isn't 66 in the output?\n",
    "# the number to the left of the : is inclusive, but the number to the right is exclusive\n",
    "print(simple_list[2:3])\n",
    "# we can also use negative numbers\n",
    "print(simple_list[-5:-1])"
   ]
  },
  {
   "cell_type": "markdown",
   "metadata": {},
   "source": [
    "# Wrapping up\n",
    "Once we are done with a notebook we can export it as an html file.\n",
    "\n",
    "File / Download as / HTML\n",
    "\n",
    "The code in this HTML file can't be re-run but is a concise way to communicate your results.\n",
    "And anyone can copy/paste your cell inputs"
   ]
  }
 ],
 "metadata": {
  "kernelspec": {
   "display_name": "Python 3",
   "language": "python",
   "name": "python3"
  },
  "language_info": {
   "codemirror_mode": {
    "name": "ipython",
    "version": 3
   },
   "file_extension": ".py",
   "mimetype": "text/x-python",
   "name": "python",
   "nbconvert_exporter": "python",
   "pygments_lexer": "ipython3",
   "version": "3.7.3"
  }
 },
 "nbformat": 4,
 "nbformat_minor": 2
}
