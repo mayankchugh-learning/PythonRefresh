{
 "cells": [
  {
   "cell_type": "markdown",
   "metadata": {},
   "source": [
    "# Python Pre Work"
   ]
  },
  {
   "cell_type": "markdown",
   "metadata": {},
   "source": [
    "## Content\n",
    "\n",
    "<a href = '#sec1'> 1.Strings </a>\n",
    "\n",
    "<a href = '#sec2'> 2. Data Structures </a>\n",
    "\n",
    "<a href = '#sec3'> 3. Loops,if else, elif </a>\n",
    "\n",
    "<a href = '#sec4'> 4. Funtions, lamdba, map and filter </a>"
   ]
  },
  {
   "cell_type": "markdown",
   "metadata": {},
   "source": [
    "Here in jupyter file  '#'  is used to show comments in code\n",
    "\n",
    "In Markdown '#' is used for headings, \"##\" for smaller font"
   ]
  },
  {
   "cell_type": "code",
   "execution_count": 1,
   "metadata": {},
   "outputs": [
    {
     "data": {
      "text/plain": [
       "4"
      ]
     },
     "execution_count": 1,
     "metadata": {},
     "output_type": "execute_result"
    }
   ],
   "source": [
    "# normal addition can directly be done in python\n",
    "2 + 2 "
   ]
  },
  {
   "cell_type": "code",
   "execution_count": 2,
   "metadata": {},
   "outputs": [
    {
     "name": "stdout",
     "output_type": "stream",
     "text": [
      "3\n"
     ]
    }
   ],
   "source": [
    "a = 1                     # assigning value 1 to variable a \n",
    "b = 2                     # 2 is assigned to b\n",
    "print(a+b)                # Print is used to show the desired output"
   ]
  },
  {
   "cell_type": "code",
   "execution_count": 3,
   "metadata": {},
   "outputs": [
    {
     "data": {
      "text/plain": [
       "-1"
      ]
     },
     "execution_count": 3,
     "metadata": {},
     "output_type": "execute_result"
    }
   ],
   "source": [
    "a+b\n",
    "a-b\n",
    "\n",
    "# if print is not used than the code is only shown\n",
    "# if you want to see output for both the operation will have to use print for both\n"
   ]
  },
  {
   "cell_type": "code",
   "execution_count": 4,
   "metadata": {},
   "outputs": [
    {
     "data": {
      "text/plain": [
       "int"
      ]
     },
     "execution_count": 4,
     "metadata": {},
     "output_type": "execute_result"
    }
   ],
   "source": [
    "type(a) #type function tells the type of the variable entered"
   ]
  },
  {
   "cell_type": "code",
   "execution_count": 5,
   "metadata": {},
   "outputs": [
    {
     "name": "stdout",
     "output_type": "stream",
     "text": [
      "3\n",
      "-1\n",
      "\n",
      "sum of a and b is 3\n",
      "\n",
      "Sum of A and b is'  3\n",
      "\n",
      "Sum\n",
      "of a + b\n",
      "is: 3\n"
     ]
    }
   ],
   "source": [
    "print(a+b)\n",
    "print(a-b)\n",
    "print()               #blank print will give space of a line between different print statements\n",
    "\n",
    "## you could use quotes to print a statement with the desired output\n",
    "print('sum of a and b is',a+b)\n",
    "print()\n",
    "## Use double quotes if there is single quote in the output statement itself, usually double quotes are preferred for print\n",
    "print(\"Sum of A and b is' \",a+b)\n",
    "print()\n",
    "## Use triple quotes if you want to print a paragraph\n",
    "print('''Sum\n",
    "of a + b\n",
    "is:''', a+b)"
   ]
  },
  {
   "cell_type": "markdown",
   "metadata": {},
   "source": [
    "<a id = 'sec1'></a>\n",
    "\n",
    "## Strings"
   ]
  },
  {
   "cell_type": "code",
   "execution_count": 6,
   "metadata": {},
   "outputs": [
    {
     "data": {
      "text/plain": [
       "'eat Learning 123 #'"
      ]
     },
     "execution_count": 6,
     "metadata": {},
     "output_type": "execute_result"
    }
   ],
   "source": [
    "s = \"Great Learning 123 #\"            #assigning a string to a variable s, string has both numbers,alphabetes and characters\n",
    "\n",
    "#counting in python always starts from 0\n",
    "s[2:]                              # this will give all the letters from 2, i.e. leave 0th and 1st letter"
   ]
  },
  {
   "cell_type": "code",
   "execution_count": 7,
   "metadata": {},
   "outputs": [
    {
     "data": {
      "text/plain": [
       "'eat'"
      ]
     },
     "execution_count": 7,
     "metadata": {},
     "output_type": "execute_result"
    }
   ],
   "source": [
    "s[2:5]             #This will give letters starting from 2nd till 4th\n",
    "# Note: if we give \"2:5\" it ends at 4th letter not 5th"
   ]
  },
  {
   "cell_type": "code",
   "execution_count": 8,
   "metadata": {},
   "outputs": [
    {
     "data": {
      "text/plain": [
       "'Great L'"
      ]
     },
     "execution_count": 8,
     "metadata": {},
     "output_type": "execute_result"
    }
   ],
   "source": [
    "s[:7]             #This will give letters from starting till 6th"
   ]
  },
  {
   "cell_type": "code",
   "execution_count": 9,
   "metadata": {},
   "outputs": [
    {
     "data": {
      "text/plain": [
       "'Great Learning 123 '"
      ]
     },
     "execution_count": 9,
     "metadata": {},
     "output_type": "execute_result"
    }
   ],
   "source": [
    "s[:-1]   #This will give letters from starting but leave the last one"
   ]
  },
  {
   "cell_type": "code",
   "execution_count": 10,
   "metadata": {},
   "outputs": [
    {
     "data": {
      "text/plain": [
       "'#'"
      ]
     },
     "execution_count": 10,
     "metadata": {},
     "output_type": "execute_result"
    }
   ],
   "source": [
    "s[-1:]    #This will only give the last letter"
   ]
  },
  {
   "cell_type": "code",
   "execution_count": 11,
   "metadata": {},
   "outputs": [
    {
     "data": {
      "text/plain": [
       "'ra e'"
      ]
     },
     "execution_count": 11,
     "metadata": {},
     "output_type": "execute_result"
    }
   ],
   "source": [
    "s[1:8:2]  # This will print letters starting from 1st position to the 7th position but will print alternate letters\n",
    "# Number after second colon denotes step size, 2 here leaves one out, if used 3 it will leave 2 out"
   ]
  },
  {
   "cell_type": "code",
   "execution_count": 12,
   "metadata": {},
   "outputs": [
    {
     "data": {
      "text/plain": [
       "str"
      ]
     },
     "execution_count": 12,
     "metadata": {},
     "output_type": "execute_result"
    }
   ],
   "source": [
    "type(s)           #type is used to find the of the element"
   ]
  },
  {
   "cell_type": "markdown",
   "metadata": {},
   "source": [
    "####  Q] Think how to print string in reverse order"
   ]
  },
  {
   "cell_type": "code",
   "execution_count": 13,
   "metadata": {},
   "outputs": [
    {
     "data": {
      "text/plain": [
       "20"
      ]
     },
     "execution_count": 13,
     "metadata": {},
     "output_type": "execute_result"
    }
   ],
   "source": [
    "len(s)    #len gives overall length of the string"
   ]
  },
  {
   "cell_type": "code",
   "execution_count": 14,
   "metadata": {},
   "outputs": [
    {
     "data": {
      "text/plain": [
       "'GREAT LEARNING 123 #'"
      ]
     },
     "execution_count": 14,
     "metadata": {},
     "output_type": "execute_result"
    }
   ],
   "source": [
    "s.upper()  #used for making every letter in string as uppercase(Capital letter)"
   ]
  },
  {
   "cell_type": "code",
   "execution_count": 15,
   "metadata": {},
   "outputs": [
    {
     "data": {
      "text/plain": [
       "'great learning 123 #'"
      ]
     },
     "execution_count": 15,
     "metadata": {},
     "output_type": "execute_result"
    }
   ],
   "source": [
    "s.lower()   #used for making every letter in string as lowercase(Small letter)"
   ]
  },
  {
   "cell_type": "code",
   "execution_count": 16,
   "metadata": {},
   "outputs": [
    {
     "data": {
      "text/plain": [
       "'Great learning 123 #'"
      ]
     },
     "execution_count": 16,
     "metadata": {},
     "output_type": "execute_result"
    }
   ],
   "source": [
    "s.capitalize()        #used when only first letter is supposed to be capital"
   ]
  },
  {
   "cell_type": "markdown",
   "metadata": {},
   "source": [
    "#### Take input from user and store it in two variables. Print the sum of those two variables as output"
   ]
  },
  {
   "cell_type": "code",
   "execution_count": 17,
   "metadata": {},
   "outputs": [
    {
     "name": "stdout",
     "output_type": "stream",
     "text": [
      "3\n",
      "4\n",
      "\n",
      "a is: 3 b is: 4 \n",
      " and therefore sum equals to: 7\n"
     ]
    }
   ],
   "source": [
    "a = input()                          # input command is used to take input from user and that will be stored in 'a'\n",
    "a = int(a)                           # input is stored in string format, therefore 'int' is used to convert it in integer\n",
    "b = int(input())\n",
    "print()\n",
    "print(\"a is:\",a,\"b is:\",b,\"\\n and therefore sum equals to:\",a+b)           # '\\n' is used to print the statement in next line"
   ]
  },
  {
   "cell_type": "code",
   "execution_count": 18,
   "metadata": {},
   "outputs": [
    {
     "name": "stdout",
     "output_type": "stream",
     "text": [
      "helloworld!\n",
      "hello world!\n",
      "\n",
      "hellohello\n"
     ]
    }
   ],
   "source": [
    "s1 = \"hello\"\n",
    "s2 = \"world!\"\n",
    "# concatenate two strings\n",
    "print(s1 + s2)\n",
    "print(s1,s2)\n",
    "print()\n",
    "\n",
    "# concatenate same string\n",
    "print(s1*2)"
   ]
  },
  {
   "cell_type": "markdown",
   "metadata": {},
   "source": [
    "#### Calculate BMI. The height and wt of the person should me inputed by user."
   ]
  },
  {
   "cell_type": "code",
   "execution_count": 19,
   "metadata": {},
   "outputs": [
    {
     "name": "stdout",
     "output_type": "stream",
     "text": [
      "Enter height in cm:177.5\n",
      "Enter weight in Kg:78\n",
      "\n",
      "Body Mass Index of the person 24.8\n"
     ]
    }
   ],
   "source": [
    "ht = float(input(\"Enter height in cm:\"))              # 'float' is the data type where values can be in decimal as well\n",
    "wt = float(input(\"Enter weight in Kg:\"))\n",
    "ht1 = ht/100                                          # coverting height to meters\n",
    "BMI = wt/(ht1**2)                                     # applying formula of BMI i.e weight per unit height square \n",
    "print()\n",
    "print (\"Body Mass Index of the person\",round(BMI,1))\n",
    "# round function is used to round off the decimal value, 1 here is for only 1 digit after decimal"
   ]
  },
  {
   "cell_type": "markdown",
   "metadata": {},
   "source": [
    "#### Swapping of variables"
   ]
  },
  {
   "cell_type": "code",
   "execution_count": 20,
   "metadata": {},
   "outputs": [
    {
     "name": "stdout",
     "output_type": "stream",
     "text": [
      "a: 12 b: 7\n",
      "\n",
      "a: 7 b: 12\n"
     ]
    }
   ],
   "source": [
    "a = 12\n",
    "b =7\n",
    "print(\"a:\",a,\"b:\",b)\n",
    "print()\n",
    "a,b = b,a               # assigning value of a to b and b to a\n",
    "print(\"a:\",a,\"b:\",b)"
   ]
  },
  {
   "cell_type": "markdown",
   "metadata": {},
   "source": [
    "#### Data Types\n",
    "\n",
    "1. Numeric : int or float\n",
    "\n",
    "2. Text/String\n",
    "\n",
    "3. Boolean = true/false\n",
    "(true = 1 and false =0)"
   ]
  },
  {
   "cell_type": "code",
   "execution_count": 21,
   "metadata": {},
   "outputs": [
    {
     "data": {
      "text/plain": [
       "2"
      ]
     },
     "execution_count": 21,
     "metadata": {},
     "output_type": "execute_result"
    }
   ],
   "source": [
    "True + True"
   ]
  },
  {
   "cell_type": "code",
   "execution_count": 22,
   "metadata": {},
   "outputs": [
    {
     "data": {
      "text/plain": [
       "1"
      ]
     },
     "execution_count": 22,
     "metadata": {},
     "output_type": "execute_result"
    }
   ],
   "source": [
    "False + True        #Value of false is '0' and True is '1'"
   ]
  },
  {
   "cell_type": "code",
   "execution_count": 23,
   "metadata": {},
   "outputs": [
    {
     "data": {
      "text/plain": [
       "True"
      ]
     },
     "execution_count": 23,
     "metadata": {},
     "output_type": "execute_result"
    }
   ],
   "source": [
    "# chech if true = 1\n",
    "True ==1 #Comparison\n",
    "## '==' check if the values are equal or not if equal it return boolean value"
   ]
  },
  {
   "cell_type": "code",
   "execution_count": 24,
   "metadata": {},
   "outputs": [
    {
     "data": {
      "text/plain": [
       "False"
      ]
     },
     "execution_count": 24,
     "metadata": {},
     "output_type": "execute_result"
    }
   ],
   "source": [
    "True != 1\n",
    "## '!=' check if the values are not equal,it return boolean value as well."
   ]
  },
  {
   "cell_type": "code",
   "execution_count": 25,
   "metadata": {},
   "outputs": [
    {
     "data": {
      "text/plain": [
       "bool"
      ]
     },
     "execution_count": 25,
     "metadata": {},
     "output_type": "execute_result"
    }
   ],
   "source": [
    "a = True\n",
    "type(a)"
   ]
  },
  {
   "cell_type": "markdown",
   "metadata": {},
   "source": [
    "<a id = 'sec2'></a>\n",
    "\n",
    "## Data Structures\n",
    "\n",
    "1. Sequence Types:\tlist, tuple\n",
    "\n",
    "2. Mapping Type:\tdict\n",
    "\n",
    "3. Set Types:\tset"
   ]
  },
  {
   "cell_type": "markdown",
   "metadata": {},
   "source": [
    "#### Bracket Summary\n",
    "\n",
    "( ): parenthesis used for calling the functions, ex: sum, mean etc.\n",
    "\n",
    "[ ]: indexing or accessing, going inside the object like string. Simply a list.\n",
    "\n",
    "{ }: Dictinories/sets in python"
   ]
  },
  {
   "cell_type": "markdown",
   "metadata": {},
   "source": [
    "#### List\n",
    "\n"
   ]
  },
  {
   "cell_type": "code",
   "execution_count": 26,
   "metadata": {},
   "outputs": [
    {
     "data": {
      "text/plain": [
       "list"
      ]
     },
     "execution_count": 26,
     "metadata": {},
     "output_type": "execute_result"
    }
   ],
   "source": [
    "l = [2,12,33,494,5,32,33,5,12]        # 'l' is the list containing different values \n",
    "type(l)"
   ]
  },
  {
   "cell_type": "code",
   "execution_count": 27,
   "metadata": {},
   "outputs": [
    {
     "data": {
      "text/plain": [
       "9"
      ]
     },
     "execution_count": 27,
     "metadata": {},
     "output_type": "execute_result"
    }
   ],
   "source": [
    "len(l)"
   ]
  },
  {
   "cell_type": "code",
   "execution_count": 28,
   "metadata": {},
   "outputs": [
    {
     "data": {
      "text/plain": [
       "2"
      ]
     },
     "execution_count": 28,
     "metadata": {},
     "output_type": "execute_result"
    }
   ],
   "source": [
    "l[0]       #first element of list"
   ]
  },
  {
   "cell_type": "code",
   "execution_count": 29,
   "metadata": {},
   "outputs": [
    {
     "data": {
      "text/plain": [
       "[81, 12, 33, 494, 5, 32, 33, 5, 12]"
      ]
     },
     "execution_count": 29,
     "metadata": {},
     "output_type": "execute_result"
    }
   ],
   "source": [
    "l[0]=81        #changing first value of the list\n",
    "l"
   ]
  },
  {
   "cell_type": "code",
   "execution_count": 30,
   "metadata": {},
   "outputs": [
    {
     "data": {
      "text/plain": [
       "[33, 494, 5]"
      ]
     },
     "execution_count": 30,
     "metadata": {},
     "output_type": "execute_result"
    }
   ],
   "source": [
    "l[2:5]        # shows the elements from 2nd position to 4th position"
   ]
  },
  {
   "cell_type": "code",
   "execution_count": 31,
   "metadata": {},
   "outputs": [
    {
     "data": {
      "text/plain": [
       "5"
      ]
     },
     "execution_count": 31,
     "metadata": {},
     "output_type": "execute_result"
    }
   ],
   "source": [
    "min(l)    #gives minimum value of the list"
   ]
  },
  {
   "cell_type": "code",
   "execution_count": 32,
   "metadata": {},
   "outputs": [
    {
     "data": {
      "text/plain": [
       "494"
      ]
     },
     "execution_count": 32,
     "metadata": {},
     "output_type": "execute_result"
    }
   ],
   "source": [
    "max(l)    #gives maximum value of the list"
   ]
  },
  {
   "cell_type": "code",
   "execution_count": 33,
   "metadata": {},
   "outputs": [
    {
     "name": "stdout",
     "output_type": "stream",
     "text": [
      "[5, 5, 12, 12, 32, 33, 33, 81, 494]\n"
     ]
    }
   ],
   "source": [
    "l.sort()     #used for sorting the list in ascending order\n",
    "print(l)     #in order to view changes done by the 'sort' function we will have to print list"
   ]
  },
  {
   "cell_type": "code",
   "execution_count": 34,
   "metadata": {},
   "outputs": [
    {
     "data": {
      "text/plain": [
       "[494, 81, 33, 33, 32, 12, 12, 5, 5]"
      ]
     },
     "execution_count": 34,
     "metadata": {},
     "output_type": "execute_result"
    }
   ],
   "source": [
    "l.sort(reverse=True)    #used for sorting the list in descending order\n",
    "l"
   ]
  },
  {
   "cell_type": "code",
   "execution_count": 35,
   "metadata": {},
   "outputs": [
    {
     "data": {
      "text/plain": [
       "2"
      ]
     },
     "execution_count": 35,
     "metadata": {},
     "output_type": "execute_result"
    }
   ],
   "source": [
    "l.count(12)            # here count function counts number of times 12 occurs in the list"
   ]
  },
  {
   "cell_type": "code",
   "execution_count": 36,
   "metadata": {},
   "outputs": [
    {
     "data": {
      "text/plain": [
       "[494, 81, 33, 33, 32, 12, 12, 5, 5]"
      ]
     },
     "execution_count": 36,
     "metadata": {},
     "output_type": "execute_result"
    }
   ],
   "source": [
    "ll = l.copy()            # 'copy' is used to copy the list as it is\n",
    "ll"
   ]
  },
  {
   "cell_type": "code",
   "execution_count": 37,
   "metadata": {},
   "outputs": [
    {
     "data": {
      "text/plain": [
       "4"
      ]
     },
     "execution_count": 37,
     "metadata": {},
     "output_type": "execute_result"
    }
   ],
   "source": [
    "l.index(32)            # gives the index of the value entered in the function"
   ]
  },
  {
   "cell_type": "code",
   "execution_count": 38,
   "metadata": {},
   "outputs": [
    {
     "data": {
      "text/plain": [
       "[494, 81, 33, 33, 32, 100, 12, 12, 5, 5]"
      ]
     },
     "execution_count": 38,
     "metadata": {},
     "output_type": "execute_result"
    }
   ],
   "source": [
    "l.insert(5,100)       # function takes two input\n",
    "                      # first the index where value is to be inserted and second the value to be inserted\n",
    "l                     # rest of the value are still there, it doesnt replace the existing value"
   ]
  },
  {
   "cell_type": "code",
   "execution_count": 39,
   "metadata": {},
   "outputs": [
    {
     "data": {
      "text/plain": [
       "[494, 81, 33, 32, 100, 12, 12, 5, 5]"
      ]
     },
     "execution_count": 39,
     "metadata": {},
     "output_type": "execute_result"
    }
   ],
   "source": [
    "l.remove(33)        #removes the value from the list, if duplicates are there, then only removes first one\n",
    "l"
   ]
  },
  {
   "cell_type": "code",
   "execution_count": 40,
   "metadata": {},
   "outputs": [
    {
     "name": "stdout",
     "output_type": "stream",
     "text": [
      "[494, 81, 33, 32, 100, 12, 12, 5, 5]\n",
      "\n",
      "[5, 5, 12, 12, 100, 32, 33, 81, 494]\n"
     ]
    }
   ],
   "source": [
    "print(l)\n",
    "print()\n",
    "l.reverse()          # reverse the order of list without disturbing the sequence\n",
    "print(l)"
   ]
  },
  {
   "cell_type": "code",
   "execution_count": 41,
   "metadata": {},
   "outputs": [
    {
     "name": "stdout",
     "output_type": "stream",
     "text": [
      "[5, 5, 12, 12, 100, 32, 33, 81, 494]\n",
      "\n",
      "32\n",
      "\n",
      "[5, 5, 12, 12, 100, 33, 81, 494]\n"
     ]
    }
   ],
   "source": [
    "print(l)\n",
    "z = l.pop(5)              # take the index as input, removes the value from that index of the list, and gives it as the output\n",
    "print()\n",
    "print(z)\n",
    "print()\n",
    "print(l)"
   ]
  },
  {
   "cell_type": "code",
   "execution_count": 42,
   "metadata": {},
   "outputs": [
    {
     "data": {
      "text/plain": [
       "[20, 31, 46, 55, 62, 3]"
      ]
     },
     "execution_count": 42,
     "metadata": {},
     "output_type": "execute_result"
    }
   ],
   "source": [
    "l1 = [20,31,46]\n",
    "l2 = [55,62,3]\n",
    "l1.extend(l2)             # extends the values from l2 list in l1\n",
    "l1"
   ]
  },
  {
   "cell_type": "code",
   "execution_count": 43,
   "metadata": {},
   "outputs": [
    {
     "data": {
      "text/plain": [
       "[55, 62, 3, [56, 2, 90]]"
      ]
     },
     "execution_count": 43,
     "metadata": {},
     "output_type": "execute_result"
    }
   ],
   "source": [
    "l3 = [56,2,90]\n",
    "l2.append(l3)          #whole list l3 becomes the last element of the list l2\n",
    "l2"
   ]
  },
  {
   "cell_type": "code",
   "execution_count": 44,
   "metadata": {},
   "outputs": [
    {
     "data": {
      "text/plain": [
       "[]"
      ]
     },
     "execution_count": 44,
     "metadata": {},
     "output_type": "execute_result"
    }
   ],
   "source": [
    "l.clear()   # emptys the list, delets all the elements from the list\n",
    "l"
   ]
  },
  {
   "cell_type": "markdown",
   "metadata": {},
   "source": [
    "#### Tuples"
   ]
  },
  {
   "cell_type": "code",
   "execution_count": 45,
   "metadata": {},
   "outputs": [
    {
     "data": {
      "text/plain": [
       "tuple"
      ]
     },
     "execution_count": 45,
     "metadata": {},
     "output_type": "execute_result"
    }
   ],
   "source": [
    "t = (23,12,49,34,12)             #tuples are a form of list, whose elements cannot be changed\n",
    "type(t)"
   ]
  },
  {
   "cell_type": "code",
   "execution_count": 46,
   "metadata": {},
   "outputs": [
    {
     "data": {
      "text/plain": [
       "2"
      ]
     },
     "execution_count": 46,
     "metadata": {},
     "output_type": "execute_result"
    }
   ],
   "source": [
    "t.count(12)"
   ]
  },
  {
   "cell_type": "code",
   "execution_count": 47,
   "metadata": {},
   "outputs": [
    {
     "data": {
      "text/plain": [
       "1"
      ]
     },
     "execution_count": 47,
     "metadata": {},
     "output_type": "execute_result"
    }
   ],
   "source": [
    "t.index(12)"
   ]
  },
  {
   "cell_type": "code",
   "execution_count": 48,
   "metadata": {},
   "outputs": [
    {
     "ename": "TypeError",
     "evalue": "'tuple' object does not support item assignment",
     "output_type": "error",
     "traceback": [
      "\u001b[1;31m---------------------------------------------------------------------------\u001b[0m",
      "\u001b[1;31mTypeError\u001b[0m                                 Traceback (most recent call last)",
      "\u001b[1;32m<ipython-input-48-c779490f875a>\u001b[0m in \u001b[0;36m<module>\u001b[1;34m\u001b[0m\n\u001b[1;32m----> 1\u001b[1;33m \u001b[0mt\u001b[0m\u001b[1;33m[\u001b[0m\u001b[1;36m0\u001b[0m\u001b[1;33m]\u001b[0m\u001b[1;33m=\u001b[0m\u001b[1;36m100\u001b[0m                     \u001b[1;31m# tried changing the first element of tuple, but shows error. Since tuples are immutable\u001b[0m\u001b[1;33m\u001b[0m\u001b[1;33m\u001b[0m\u001b[0m\n\u001b[0m",
      "\u001b[1;31mTypeError\u001b[0m: 'tuple' object does not support item assignment"
     ]
    }
   ],
   "source": [
    "t[0]=100                     # tried changing the first element of tuple, but shows error. Since tuples are immutable"
   ]
  },
  {
   "cell_type": "markdown",
   "metadata": {},
   "source": [
    "#### Dictionary"
   ]
  },
  {
   "cell_type": "code",
   "execution_count": 49,
   "metadata": {},
   "outputs": [
    {
     "data": {
      "text/plain": [
       "dict"
      ]
     },
     "execution_count": 49,
     "metadata": {},
     "output_type": "execute_result"
    }
   ],
   "source": [
    "d = {'Name':'John Wick','Age':47,'Address':'NY'}    #dictionary contains keys and values\n",
    "type(d)"
   ]
  },
  {
   "cell_type": "code",
   "execution_count": 50,
   "metadata": {},
   "outputs": [
    {
     "data": {
      "text/plain": [
       "{'Name': ['John Wick', 'Jason'], 'Age': [47, 50], 'Address': ['NY', 'LA']}"
      ]
     },
     "execution_count": 50,
     "metadata": {},
     "output_type": "execute_result"
    }
   ],
   "source": [
    "dd = {'Name':['John Wick','Jason'],'Age':[47,50],'Address':['NY','LA']} # values can be more than one\n",
    "dd"
   ]
  },
  {
   "cell_type": "code",
   "execution_count": 51,
   "metadata": {},
   "outputs": [
    {
     "data": {
      "text/plain": [
       "3"
      ]
     },
     "execution_count": 51,
     "metadata": {},
     "output_type": "execute_result"
    }
   ],
   "source": [
    "len(dd)         # length is based on number of keys"
   ]
  },
  {
   "cell_type": "code",
   "execution_count": 52,
   "metadata": {},
   "outputs": [
    {
     "data": {
      "text/plain": [
       "dict_keys(['Name', 'Age', 'Address'])"
      ]
     },
     "execution_count": 52,
     "metadata": {},
     "output_type": "execute_result"
    }
   ],
   "source": [
    "dd.keys()            # to get keys of the dict"
   ]
  },
  {
   "cell_type": "code",
   "execution_count": 53,
   "metadata": {},
   "outputs": [
    {
     "data": {
      "text/plain": [
       "dict_values([['John Wick', 'Jason'], [47, 50], ['NY', 'LA']])"
      ]
     },
     "execution_count": 53,
     "metadata": {},
     "output_type": "execute_result"
    }
   ],
   "source": [
    "dd.values()          # to get values of the dict"
   ]
  },
  {
   "cell_type": "code",
   "execution_count": 54,
   "metadata": {},
   "outputs": [
    {
     "data": {
      "text/plain": [
       "dict_items([('Name', ['John Wick', 'Jason']), ('Age', [47, 50]), ('Address', ['NY', 'LA'])])"
      ]
     },
     "execution_count": 54,
     "metadata": {},
     "output_type": "execute_result"
    }
   ],
   "source": [
    "dd.items()          # to get combination keys and values in one tuple"
   ]
  },
  {
   "cell_type": "code",
   "execution_count": 55,
   "metadata": {},
   "outputs": [
    {
     "data": {
      "text/plain": [
       "{'Age': 47, 'Address': 'NY'}"
      ]
     },
     "execution_count": 55,
     "metadata": {},
     "output_type": "execute_result"
    }
   ],
   "source": [
    "d.pop('Name')       #removes the key and values associated with it\n",
    "d"
   ]
  },
  {
   "cell_type": "code",
   "execution_count": 56,
   "metadata": {},
   "outputs": [
    {
     "data": {
      "text/plain": [
       "{'Age': 47, 'Address': 'LA', 'Name': 'John Wick'}"
      ]
     },
     "execution_count": 56,
     "metadata": {},
     "output_type": "execute_result"
    }
   ],
   "source": [
    "d1 = {'Name':'John Wick','Address':'LA'}        # update the dict, if the key is present it gets updated, if not it gets created\n",
    "d.update(d1)\n",
    "d"
   ]
  },
  {
   "cell_type": "code",
   "execution_count": 57,
   "metadata": {},
   "outputs": [
    {
     "data": {
      "text/plain": [
       "[47, 50]"
      ]
     },
     "execution_count": 57,
     "metadata": {},
     "output_type": "execute_result"
    }
   ],
   "source": [
    "dd.get('Age')  #gives the values associated with the input key"
   ]
  },
  {
   "cell_type": "code",
   "execution_count": 58,
   "metadata": {},
   "outputs": [
    {
     "data": {
      "text/plain": [
       "{'Age': 47, 'Address': 'LA', 'Name': 'John Wick'}"
      ]
     },
     "execution_count": 58,
     "metadata": {},
     "output_type": "execute_result"
    }
   ],
   "source": [
    "d2 = d.copy()   # copy the dict as it is\n",
    "d2"
   ]
  },
  {
   "cell_type": "code",
   "execution_count": 59,
   "metadata": {},
   "outputs": [
    {
     "data": {
      "text/plain": [
       "{}"
      ]
     },
     "execution_count": 59,
     "metadata": {},
     "output_type": "execute_result"
    }
   ],
   "source": [
    "d.clear()        #empty's the dict. Removes all keys and values\n",
    "d"
   ]
  },
  {
   "cell_type": "code",
   "execution_count": 60,
   "metadata": {},
   "outputs": [
    {
     "data": {
      "text/plain": [
       "{'A': None, 'B': None, 'C': None, 'D': None}"
      ]
     },
     "execution_count": 60,
     "metadata": {},
     "output_type": "execute_result"
    }
   ],
   "source": [
    "d = d.fromkeys(list('ABCD'))       # form keys in the dict based on the input, it has to be stored in another variable\n",
    "d"
   ]
  },
  {
   "cell_type": "code",
   "execution_count": 61,
   "metadata": {},
   "outputs": [
    {
     "data": {
      "text/plain": [
       "{'A': 11, 'B': None, 'C': None, 'D': [55, 34], 'E': 3}"
      ]
     },
     "execution_count": 61,
     "metadata": {},
     "output_type": "execute_result"
    }
   ],
   "source": [
    "d['A'] = 11               # assigning the value to key 'A'\n",
    "d['D'] = [55,34]\n",
    "d['E'] = 3                 # if the key isnt there, it creates and assigns the value\n",
    "d"
   ]
  },
  {
   "cell_type": "markdown",
   "metadata": {},
   "source": [
    "#### Sets"
   ]
  },
  {
   "cell_type": "code",
   "execution_count": 62,
   "metadata": {},
   "outputs": [],
   "source": [
    "set1 = {1,4,3,4,4,3,5,6,7,8,9,6,8,5,436,54,876,56}             #if only values are there then its a set not a dict\n",
    "set2 = {9,8,9,5,7,4,6,57,88,7654,8,876,467,887,65}"
   ]
  },
  {
   "cell_type": "code",
   "execution_count": 63,
   "metadata": {},
   "outputs": [
    {
     "data": {
      "text/plain": [
       "set"
      ]
     },
     "execution_count": 63,
     "metadata": {},
     "output_type": "execute_result"
    }
   ],
   "source": [
    "type(set1)"
   ]
  },
  {
   "cell_type": "code",
   "execution_count": 64,
   "metadata": {},
   "outputs": [
    {
     "data": {
      "text/plain": [
       "12"
      ]
     },
     "execution_count": 64,
     "metadata": {},
     "output_type": "execute_result"
    }
   ],
   "source": [
    "len(set1)"
   ]
  },
  {
   "cell_type": "code",
   "execution_count": 65,
   "metadata": {},
   "outputs": [
    {
     "data": {
      "text/plain": [
       "{1, 3, 4, 5, 6, 7, 8, 9, 54, 56, 436, 876}"
      ]
     },
     "execution_count": 65,
     "metadata": {},
     "output_type": "execute_result"
    }
   ],
   "source": [
    "set1                                # set doesnt have duplicate values"
   ]
  },
  {
   "cell_type": "code",
   "execution_count": 66,
   "metadata": {},
   "outputs": [
    {
     "name": "stdout",
     "output_type": "stream",
     "text": [
      "{1, 65, 3, 4, 5, 6, 7, 8, 9, 467, 88, 7654, 876, 436, 54, 887, 56, 57}\n"
     ]
    }
   ],
   "source": [
    "print(set1.union(set2))                 # gives union of the two sets i.e all the values in both the set"
   ]
  },
  {
   "cell_type": "code",
   "execution_count": 67,
   "metadata": {},
   "outputs": [
    {
     "data": {
      "text/plain": [
       "{4, 5, 6, 7, 8, 9, 876}"
      ]
     },
     "execution_count": 67,
     "metadata": {},
     "output_type": "execute_result"
    }
   ],
   "source": [
    "set1.intersection(set2)                 # gives intersection of the two sets i.e all same values in both the set"
   ]
  },
  {
   "cell_type": "code",
   "execution_count": 68,
   "metadata": {},
   "outputs": [
    {
     "data": {
      "text/plain": [
       "{1, 3, 54, 56, 436}"
      ]
     },
     "execution_count": 68,
     "metadata": {},
     "output_type": "execute_result"
    }
   ],
   "source": [
    "set1.difference(set2)                    # gives the values of set1 not present in set 2"
   ]
  },
  {
   "cell_type": "code",
   "execution_count": 69,
   "metadata": {},
   "outputs": [
    {
     "name": "stdout",
     "output_type": "stream",
     "text": [
      "{65, 1, 3, 7654, 467, 436, 54, 887, 88, 57, 56}\n"
     ]
    }
   ],
   "source": [
    "print(set1.symmetric_difference(set2))      # gives difference between the two sets i.e all values not similar in both the set"
   ]
  },
  {
   "cell_type": "markdown",
   "metadata": {},
   "source": [
    "<a id = 'sec3'></a>\n",
    "\n",
    "## Loops, IF else and Elif"
   ]
  },
  {
   "cell_type": "code",
   "execution_count": 70,
   "metadata": {},
   "outputs": [
    {
     "name": "stdout",
     "output_type": "stream",
     "text": [
      "b is greater than a\n"
     ]
    }
   ],
   "source": [
    "# Use IF ELSE staement, to find which of the two number is greater\n",
    "\n",
    "a = 12\n",
    "b = 90\n",
    "\n",
    "if a>b:                                           # There has to be some space in next line after IF statement\n",
    "    print(\"a is greater than b\")                  # or else induntation error will occur\n",
    "else:\n",
    "    print(\"b is greater than a\")"
   ]
  },
  {
   "cell_type": "markdown",
   "metadata": {},
   "source": [
    "#### Note: 'and' is used when both conditions has to be satisfied, 'or' is used when either of conditions has to be satisfied"
   ]
  },
  {
   "cell_type": "code",
   "execution_count": 71,
   "metadata": {},
   "outputs": [
    {
     "name": "stdout",
     "output_type": "stream",
     "text": [
      "c is greatest\n"
     ]
    }
   ],
   "source": [
    "# Find which of the three number is greater\n",
    "a = 12\n",
    "b = 40\n",
    "c = 100\n",
    "\n",
    "if a>b and a>c:                              #'and' is used when both conditions has to be satisfied,\n",
    "    print(\"a is greatest\")                   # if more than two cases elif is used\n",
    "elif b>a and b>c:\n",
    "    print(\"b is greatest\")    \n",
    "else:\n",
    "    print(\"c is greatest\")"
   ]
  },
  {
   "cell_type": "markdown",
   "metadata": {},
   "source": [
    "#### Write code to print grades according to marks obtained\n",
    "\n",
    "if 80 and above- excellent\n",
    "\n",
    "if 70 and above- Good\n",
    "\n",
    "if 60 and above- Average\n",
    "\n",
    "if less than 60- Not acceptable"
   ]
  },
  {
   "cell_type": "code",
   "execution_count": 72,
   "metadata": {},
   "outputs": [
    {
     "name": "stdout",
     "output_type": "stream",
     "text": [
      "Average\n"
     ]
    }
   ],
   "source": [
    "marks= 67\n",
    "\n",
    "if (marks>79):\n",
    "    print(\"Excellent\")\n",
    "elif (marks>69 and marks<80):\n",
    "    print(\"Good\")\n",
    "elif (marks>59 and marks<70):\n",
    "    print(\"Average\")\n",
    "else:\n",
    "    print(\"Not Acceptable\")"
   ]
  },
  {
   "cell_type": "markdown",
   "metadata": {},
   "source": [
    "#### For Loop"
   ]
  },
  {
   "cell_type": "code",
   "execution_count": 73,
   "metadata": {},
   "outputs": [
    {
     "data": {
      "text/plain": [
       "[0, 1, 2, 3, 4]"
      ]
     },
     "execution_count": 73,
     "metadata": {},
     "output_type": "execute_result"
    }
   ],
   "source": [
    "list(range(0,5))          #range 0 to 5 means it will take values 0,1,2,3,4"
   ]
  },
  {
   "cell_type": "code",
   "execution_count": 74,
   "metadata": {},
   "outputs": [
    {
     "name": "stdout",
     "output_type": "stream",
     "text": [
      "0\n",
      "1\n",
      "2\n",
      "3\n",
      "4\n"
     ]
    }
   ],
   "source": [
    "for x in range(0,5): # 0 is start, 5 is stop point i.e. loop will run 5 times (0,1,2,3,4)\n",
    "    print (x)        # in every iteration it prints the value of iteration"
   ]
  },
  {
   "cell_type": "code",
   "execution_count": 75,
   "metadata": {},
   "outputs": [
    {
     "name": "stdout",
     "output_type": "stream",
     "text": [
      "0\n",
      "2\n",
      "4\n"
     ]
    }
   ],
   "source": [
    "for z in range(0,5,2): # 0 is start, 5 is stop point and 2 is step (i.e. misses one value)\n",
    "    print (z)"
   ]
  },
  {
   "cell_type": "code",
   "execution_count": 76,
   "metadata": {},
   "outputs": [
    {
     "name": "stdout",
     "output_type": "stream",
     "text": [
      "56\n",
      "2\n",
      "90\n"
     ]
    }
   ],
   "source": [
    "for item in l3:              # here for loop is used to print each item in the list l\n",
    "    print(item)              # in every iteration it prints the each value of the list as per the index"
   ]
  },
  {
   "cell_type": "code",
   "execution_count": 77,
   "metadata": {},
   "outputs": [
    {
     "name": "stdout",
     "output_type": "stream",
     "text": [
      "Position in list: 0 , element is: 20\n",
      "Position in list: 1 , element is: 31\n",
      "Position in list: 2 , element is: 46\n",
      "Position in list: 3 , element is: 55\n",
      "Position in list: 4 , element is: 62\n",
      "Position in list: 5 , element is: 3\n"
     ]
    }
   ],
   "source": [
    "for item in range(0,len(l1)):\n",
    "    print(\"Position in list:\",item,\", element is:\",l1[item],)"
   ]
  },
  {
   "cell_type": "markdown",
   "metadata": {},
   "source": [
    "#### Print every 2nd element \"analyticsvidhya.com\""
   ]
  },
  {
   "cell_type": "code",
   "execution_count": 78,
   "metadata": {},
   "outputs": [
    {
     "name": "stdout",
     "output_type": "stream",
     "text": [
      "['a', 'a', 'y', 'i', 's', 'i', 'h', 'a', 'c', 'm']\n",
      "\n",
      "aayisihacm\n",
      "a-a-y-i-s-i-h-a-c-m\n"
     ]
    }
   ],
   "source": [
    "string = (\"analyticsvidhya.com\")\n",
    "se = []                         # blank list to store output from the loop\n",
    "for i in range(len(string)):      # runs from 0 till the length of the string\n",
    "    if i%2==0:                  # condition applied for even position, '%' gives remainder.\n",
    "                                # if 'i' divided by 2 leaves a remainder zero than 'if' codition will move forward.       \n",
    "        se.append(string[i])\n",
    "print(se)\n",
    "print()\n",
    "print(''.join(se))            # 'join' joins the elemnt of the list, the element should be string \n",
    "print('-'.join(se))           #  and '-' is used as method to join"
   ]
  },
  {
   "cell_type": "markdown",
   "metadata": {},
   "source": [
    "#### While Loop\n",
    "\n",
    "It can run for infinite iterations, where in 'for' loop case you have to specify the range. Here range can be specified or it can run unless you say it to break."
   ]
  },
  {
   "cell_type": "code",
   "execution_count": 79,
   "metadata": {},
   "outputs": [
    {
     "name": "stdout",
     "output_type": "stream",
     "text": [
      "0\n",
      "1\n",
      "2\n",
      "3\n",
      "4\n",
      "5\n",
      "6\n",
      "7\n",
      "8\n"
     ]
    }
   ],
   "source": [
    "i=0                # initiate a value of i\n",
    "while (i<=8):      # while loop will run till 'i' is equal to 8\n",
    "    print (i)      # this will print value of i in each iteration\n",
    "    i=i+1          # adding 1 in value of 'i' in each iteration"
   ]
  },
  {
   "cell_type": "markdown",
   "metadata": {},
   "source": [
    "#### Square of n numbers, input:4, output: 1,4,9,16"
   ]
  },
  {
   "cell_type": "code",
   "execution_count": 81,
   "metadata": {},
   "outputs": [
    {
     "name": "stdout",
     "output_type": "stream",
     "text": [
      "Enter a number 7\n",
      "0\n",
      "1\n",
      "4\n",
      "9\n",
      "16\n",
      "25\n",
      "36\n",
      "49\n"
     ]
    }
   ],
   "source": [
    "a=int(input(\"Enter a number \"))       \n",
    "i=0\n",
    "while (i<=a):           # loop will run till value of 'i' is equal to user's input\n",
    "    print(i*i)          # this will print square of the number\n",
    "    i+=1                # adding 1 in value of 'i' in each iteration"
   ]
  },
  {
   "cell_type": "markdown",
   "metadata": {},
   "source": [
    "#### Ask user the input of his choice whether he wants to convert the temperature from degree F to degree C or  from degree C to degree F\n",
    "\n",
    "Having said that, based on the choice, conversion of the temp should take place"
   ]
  },
  {
   "cell_type": "code",
   "execution_count": 82,
   "metadata": {},
   "outputs": [
    {
     "name": "stdout",
     "output_type": "stream",
     "text": [
      "Enter 0 for Temperature conversion in F to C\n",
      "Enter 1 for Temperature conversion in C to F\n",
      "Entre the Choice = 1\n",
      "Enter the temperature in degree Celsius = 37\n",
      "Temp in degree Fahrenheit =  98.6\n"
     ]
    }
   ],
   "source": [
    "print (\"Enter 0 for Temperature conversion in F to C\")\n",
    "print (\"Enter 1 for Temperature conversion in C to F\")\n",
    "\n",
    "while (True):                          # No condition is mentioned here, to terminated 'while' loop\n",
    "    a= input(\"Entre the Choice = \" )   # it will keep asking for choice unless its 0 or 1\n",
    "    if (a==\"0\" or a==\"1\"):\n",
    "        break                   # 'break' will end the while loop, i.e. if value of a is equal to 0 or 1, while loop terminates\n",
    "    \n",
    "        \n",
    "if (a==\"0\"):                    # if user input value is 0 this code will run\n",
    "    temp=float(input(\"Enter the temperature in degree Fahrenheit = \"))\n",
    "    C=(temp-32)*5/9                                                    # formula to convert fahrenheit to celsius\n",
    "    hare\n",
    "    print(\"Temp in degree Celsius = \",round(C,2))\n",
    "elif (a==\"1\"):                   # if user input value is 1 this code will run\n",
    "    temp=float(input(\"Enter the temperature in degree Celsius = \"))\n",
    "    F=(temp*9/5)+32                                                         # formula to convert celsius to fahrenheit\n",
    "    print(\"Temp in degree Fahrenheit = \",round(F,2))"
   ]
  },
  {
   "cell_type": "markdown",
   "metadata": {},
   "source": [
    "#### Use of in function to check how many elements of list1 are in list 2"
   ]
  },
  {
   "cell_type": "code",
   "execution_count": 2,
   "metadata": {},
   "outputs": [
    {
     "name": "stdout",
     "output_type": "stream",
     "text": [
      "Number of elements of list1 in list2 are: 5\n"
     ]
    }
   ],
   "source": [
    "list1 = [22,33,44,55,66,77,88,99]\n",
    "list2 = [11,222,33,444,55,66,777,88,99,10]\n",
    "\n",
    "c= 0\n",
    "for i in list1:\n",
    "    if i in list2:\n",
    "        c = c + 1\n",
    "        \n",
    "print(\"Number of elements of list1 in list2 are:\",c)"
   ]
  },
  {
   "cell_type": "markdown",
   "metadata": {},
   "source": [
    "<a id = 'sec4'></a>\n",
    "\n",
    "## Funtions, lamdba and map"
   ]
  },
  {
   "cell_type": "markdown",
   "metadata": {},
   "source": [
    "#### Functions\n",
    "\n",
    "1. optimize the code\n",
    "\n",
    "2. reuse it within the script/code window\n",
    "\n",
    "3. eliminate redundancy/repetition\n",
    "\n",
    "4. combination of if else, loops, statements, variables and it can have built in functions\n",
    "\n",
    "keyword: def ...to define function... Function name ...it is user defined name\n",
    "Parameter: the parameter are defined ny parenthesis\n",
    "\n",
    "Syntax: defunction_name(parameter)\n",
    "\n",
    "At the end return should be used to get the output of the function"
   ]
  },
  {
   "cell_type": "code",
   "execution_count": 83,
   "metadata": {},
   "outputs": [],
   "source": [
    "#Text function\n",
    "def hello(name):                         # a funtion that says hello with your name, if your name is entered as a parameter\n",
    "    return (\"Hello \" + name)"
   ]
  },
  {
   "cell_type": "code",
   "execution_count": 84,
   "metadata": {},
   "outputs": [
    {
     "data": {
      "text/plain": [
       "'Hello John'"
      ]
     },
     "execution_count": 84,
     "metadata": {},
     "output_type": "execute_result"
    }
   ],
   "source": [
    "hello('John')"
   ]
  },
  {
   "cell_type": "code",
   "execution_count": 85,
   "metadata": {},
   "outputs": [],
   "source": [
    "#a function to add three numbers\n",
    "def sum_nos(x,y,z):          \n",
    "    return (x+y+z)"
   ]
  },
  {
   "cell_type": "code",
   "execution_count": 86,
   "metadata": {},
   "outputs": [
    {
     "data": {
      "text/plain": [
       "15"
      ]
     },
     "execution_count": 86,
     "metadata": {},
     "output_type": "execute_result"
    }
   ],
   "source": [
    "sum_nos(4,5,6)"
   ]
  },
  {
   "cell_type": "markdown",
   "metadata": {},
   "source": [
    "#### Make a function that takes n arguments and print the even nos from those"
   ]
  },
  {
   "cell_type": "code",
   "execution_count": 87,
   "metadata": {},
   "outputs": [
    {
     "name": "stdout",
     "output_type": "stream",
     "text": [
      "2\n",
      "4\n",
      "6\n",
      "8\n"
     ]
    }
   ],
   "source": [
    "def even(*n):                     # '*' here means that function can take n number of inputs\n",
    "    for i in n:                   # loop is applied so that every element entered in the function should be considered\n",
    "        if (i%2==0):\n",
    "            print(i)\n",
    "\n",
    "even(1,2,3,4,5,6,7,8,9)"
   ]
  },
  {
   "cell_type": "markdown",
   "metadata": {},
   "source": [
    "#### Lambda\n",
    "\n",
    "It works same as a function, a temporary function.\n",
    "\n",
    "Lambda input variable : desired output\n",
    "\n",
    "is the syntax of lambda"
   ]
  },
  {
   "cell_type": "code",
   "execution_count": 88,
   "metadata": {},
   "outputs": [],
   "source": [
    "sq = lambda x:x**2               # lambda function for getting square of the number as output"
   ]
  },
  {
   "cell_type": "code",
   "execution_count": 89,
   "metadata": {},
   "outputs": [
    {
     "data": {
      "text/plain": [
       "625"
      ]
     },
     "execution_count": 89,
     "metadata": {},
     "output_type": "execute_result"
    }
   ],
   "source": [
    "sq(25)"
   ]
  },
  {
   "cell_type": "code",
   "execution_count": 90,
   "metadata": {},
   "outputs": [
    {
     "data": {
      "text/plain": [
       "64"
      ]
     },
     "execution_count": 90,
     "metadata": {},
     "output_type": "execute_result"
    }
   ],
   "source": [
    "divl= lambda x:x**2 if (x%2==0) else (\"abc\")\n",
    "# lambda function for getting square of the number as output when its even else 'abc' as an output\n",
    "divl(8)"
   ]
  },
  {
   "cell_type": "code",
   "execution_count": 91,
   "metadata": {},
   "outputs": [
    {
     "data": {
      "text/plain": [
       "'abc'"
      ]
     },
     "execution_count": 91,
     "metadata": {},
     "output_type": "execute_result"
    }
   ],
   "source": [
    "divl(7)"
   ]
  },
  {
   "cell_type": "markdown",
   "metadata": {},
   "source": [
    "#### Write the function that prints even if length of the name is even, else prints name itself"
   ]
  },
  {
   "cell_type": "code",
   "execution_count": 92,
   "metadata": {},
   "outputs": [],
   "source": [
    "def even_nam(x):                 \n",
    "    if(len(x)%2==0):             # 'if' condition helps to filter out names having length as even\n",
    "        return (\"even\")          # return function will give the output as \"even\"\n",
    "    else:\n",
    "        return (x)               # if the 'if' condition is not satisfied than, return function will give the name as it is."
   ]
  },
  {
   "cell_type": "code",
   "execution_count": 93,
   "metadata": {},
   "outputs": [],
   "source": [
    "nam = [\"raj\",\"rajveer\",\"raja\",\"rahulo\"]            # list of names"
   ]
  },
  {
   "cell_type": "code",
   "execution_count": 94,
   "metadata": {},
   "outputs": [
    {
     "data": {
      "text/plain": [
       "['raj', 'rajveer', 'even', 'even']"
      ]
     },
     "execution_count": 94,
     "metadata": {},
     "output_type": "execute_result"
    }
   ],
   "source": [
    "list(map(even_nam, nam))  # 'map' function links list of names and the function created\n",
    "                          # 'map' sees that function is applied to each element of the list\n",
    "                          # map function only does the mapping part, list is used to see the output"
   ]
  },
  {
   "cell_type": "code",
   "execution_count": 95,
   "metadata": {},
   "outputs": [],
   "source": [
    "em = lambda x:\"even\" if len(x)%2==0 else x\n",
    "# Here x is input variable and \"even\" is the output\n",
    "# because of 'if' condition \"even\" output will be only given when the 'if' condition is satisfied\n",
    "# or else 'else' condition output will be given"
   ]
  },
  {
   "cell_type": "code",
   "execution_count": 96,
   "metadata": {},
   "outputs": [
    {
     "data": {
      "text/plain": [
       "['raj', 'rajveer', 'even', 'even']"
      ]
     },
     "execution_count": 96,
     "metadata": {},
     "output_type": "execute_result"
    }
   ],
   "source": [
    "list(map(em, nam))"
   ]
  },
  {
   "cell_type": "markdown",
   "metadata": {},
   "source": [
    "#### Get only even numbers from the list as it is and odd numbers as zero, use map and lambda"
   ]
  },
  {
   "cell_type": "code",
   "execution_count": 97,
   "metadata": {},
   "outputs": [],
   "source": [
    "nums = [0,12,23,34,41,500,65,74,82,19,120]"
   ]
  },
  {
   "cell_type": "code",
   "execution_count": 98,
   "metadata": {},
   "outputs": [
    {
     "data": {
      "text/plain": [
       "[0, 12, 0, 34, 0, 500, 0, 74, 82, 0, 120]"
      ]
     },
     "execution_count": 98,
     "metadata": {},
     "output_type": "execute_result"
    }
   ],
   "source": [
    "list(map(lambda x: x if x%2==0 else 0,nums))"
   ]
  },
  {
   "cell_type": "markdown",
   "metadata": {},
   "source": [
    "# --------------------------------- HAPPY LEARNING ----------------------------------------------"
   ]
  },
  {
   "cell_type": "markdown",
   "metadata": {},
   "source": [
    "# Note:\n",
    "\n",
    "1. Start practicing python from Hackerank.\n",
    "https://www.hackerrank.com/domains/python\n",
    "\n",
    "\n",
    "2. Use w3schools site to clear your doubts.\n",
    "https://www.w3schools.com/python/default.asp\n",
    "\n",
    "\n",
    "3. Try solving your doubts on your own using google, it helps.\n",
    "\n",
    "\n",
    "4. Keep Practicing"
   ]
  }
 ],
 "metadata": {
  "kernelspec": {
   "display_name": "Python 3",
   "language": "python",
   "name": "python3"
  },
  "language_info": {
   "codemirror_mode": {
    "name": "ipython",
    "version": 3
   },
   "file_extension": ".py",
   "mimetype": "text/x-python",
   "name": "python",
   "nbconvert_exporter": "python",
   "pygments_lexer": "ipython3",
   "version": "3.7.4"
  }
 },
 "nbformat": 4,
 "nbformat_minor": 2
}
