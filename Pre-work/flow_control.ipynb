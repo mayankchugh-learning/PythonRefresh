{
 "cells": [
  {
   "cell_type": "markdown",
   "metadata": {},
   "source": [
    "# Flow control\n",
    "\n",
    "1. loops\n",
    "2. conditionals\n",
    "\n",
    "\n",
    "## Loops\n",
    "\n",
    "A loop is an efficient way to tell the computer to perform a command multiple times\n",
    "\n",
    "Each iteration of the loop can use new data to perform the command or depend on the previous loop\n",
    "\n",
    "There are 2 main types of loops: for, while\n"
   ]
  },
  {
   "cell_type": "code",
   "execution_count": 1,
   "metadata": {},
   "outputs": [
    {
     "name": "stdout",
     "output_type": "stream",
     "text": [
      "0\n",
      "1\n",
      "2\n",
      "3\n",
      "4\n",
      "5\n",
      "6\n",
      "2143\n",
      "123\n",
      "7834\n",
      "this line is not inside the loop\n",
      "the loop cycled 10 times\n"
     ]
    }
   ],
   "source": [
    "# for loops\n",
    "# there are a few ways to go through a for loop\n",
    "# one common method is to loop through a list\n",
    "# it is also possible to loop through other types of aggregated variables\n",
    "# but one rule remains the same\n",
    "# the insides of a loop are determined by tabs!!!!!!!!\n",
    "# this is also true for conditionals and user defined functions!!!!!!\n",
    "\n",
    "counter = 0\n",
    "simple_list = [0,1,2,3,4,5,6,2143,123,7834]\n",
    "for i in simple_list:\n",
    "    # the only lines that get executed in this loop are tabbed correctly!!!\n",
    "    print(i)\n",
    "    counter = counter + 1\n",
    "print('this line is not inside the loop')\n",
    "print('the loop cycled',counter,'times')"
   ]
  },
  {
   "cell_type": "code",
   "execution_count": 2,
   "metadata": {},
   "outputs": [
    {
     "name": "stdout",
     "output_type": "stream",
     "text": [
      "4\n",
      "5\n",
      "6\n",
      "outside of j loop\n",
      "8\n",
      "10\n",
      "12\n",
      "outside of j loop\n",
      "12\n",
      "15\n",
      "18\n",
      "outside of j loop\n",
      "outside of both loops\n"
     ]
    }
   ],
   "source": [
    "for i in simple_list[1:4]:\n",
    "    for j in simple_list[4:7]:\n",
    "        print(i*j)\n",
    "    print('outside of j loop')\n",
    "print('outside of both loops')\n",
    "    "
   ]
  },
  {
   "cell_type": "code",
   "execution_count": 3,
   "metadata": {},
   "outputs": [
    {
     "name": "stdout",
     "output_type": "stream",
     "text": [
      "range(0, 6)\n"
     ]
    }
   ],
   "source": [
    "# we may just want to loop over a range of values\n",
    "# we can do this with a 'range' type\n",
    "print(range(6))\n"
   ]
  },
  {
   "cell_type": "code",
   "execution_count": 4,
   "metadata": {},
   "outputs": [
    {
     "name": "stdout",
     "output_type": "stream",
     "text": [
      "0\n",
      "1\n",
      "2\n",
      "3\n",
      "4\n",
      "5\n"
     ]
    }
   ],
   "source": [
    "for i in range(6):\n",
    "    print(i)"
   ]
  },
  {
   "cell_type": "code",
   "execution_count": 5,
   "metadata": {},
   "outputs": [
    {
     "name": "stdout",
     "output_type": "stream",
     "text": [
      "4\n",
      "5\n",
      "6\n",
      "7\n",
      "8\n",
      "9\n"
     ]
    }
   ],
   "source": [
    "# we can specify the starting point of a range also\n",
    "# remember that the left value is inclusive and the right value is exclusive\n",
    "for i in range(4,10):\n",
    "    print(i)"
   ]
  },
  {
   "cell_type": "code",
   "execution_count": 7,
   "metadata": {},
   "outputs": [
    {
     "name": "stdout",
     "output_type": "stream",
     "text": [
      "2\n",
      "5\n",
      "8\n"
     ]
    }
   ],
   "source": [
    "# we can also increment by a specific amount\n",
    "for i in range(2,10,3):\n",
    "    print(i)"
   ]
  },
  {
   "cell_type": "code",
   "execution_count": 8,
   "metadata": {},
   "outputs": [
    {
     "data": {
      "text/plain": [
       "[6, 9, 12]"
      ]
     },
     "execution_count": 8,
     "metadata": {},
     "output_type": "execute_result"
    }
   ],
   "source": [
    "# we can convert a range type to a list though\n",
    "list(range(6,15,3))"
   ]
  },
  {
   "cell_type": "code",
   "execution_count": 9,
   "metadata": {},
   "outputs": [
    {
     "name": "stdout",
     "output_type": "stream",
     "text": [
      "4\n",
      "5\n",
      "6\n",
      "7\n",
      "8\n",
      "9\n",
      "outside of loop\n"
     ]
    }
   ],
   "source": [
    "# while loops are similar to most other languages\n",
    "# but the inside of the while loop is still determined by tabs\n",
    "i = 4\n",
    "while i < 10:\n",
    "    print(i)\n",
    "    i = i+1\n",
    "print('outside of loop')"
   ]
  },
  {
   "cell_type": "markdown",
   "metadata": {},
   "source": [
    "## Conditionals\n",
    "\n",
    "We will now look at conditional statements\n",
    "There are 3 types of conditionals\n",
    "1. if statement\n",
    "2. else statement\n",
    "3. elif statement"
   ]
  },
  {
   "cell_type": "code",
   "execution_count": 13,
   "metadata": {},
   "outputs": [
    {
     "name": "stdout",
     "output_type": "stream",
     "text": [
      "30 is greater than or equal to 10\n"
     ]
    }
   ],
   "source": [
    "i = 30\n",
    "if i<10:\n",
    "    print(i,'is less than 10')\n",
    "    print('run this also')\n",
    "else:\n",
    "    print(i,'is greater than or equal to 10')\n",
    "    \n",
    "\n"
   ]
  },
  {
   "cell_type": "code",
   "execution_count": 18,
   "metadata": {},
   "outputs": [
    {
     "name": "stdout",
     "output_type": "stream",
     "text": [
      "3 is between 3 and 10\n"
     ]
    }
   ],
   "source": [
    "i = 3\n",
    "if i > 10:\n",
    "    print(i,'is greater than 10')\n",
    "elif i < 3:\n",
    "    print(i,'is less than 3')\n",
    "elif i > 4:\n",
    "    print(i)\n",
    "else:\n",
    "    print(i,'is between 3 and 10')\n",
    "    \n"
   ]
  },
  {
   "cell_type": "code",
   "execution_count": null,
   "metadata": {},
   "outputs": [],
   "source": []
  }
 ],
 "metadata": {
  "kernelspec": {
   "display_name": "Python 3",
   "language": "python",
   "name": "python3"
  },
  "language_info": {
   "codemirror_mode": {
    "name": "ipython",
    "version": 3
   },
   "file_extension": ".py",
   "mimetype": "text/x-python",
   "name": "python",
   "nbconvert_exporter": "python",
   "pygments_lexer": "ipython3",
   "version": "3.7.3"
  }
 },
 "nbformat": 4,
 "nbformat_minor": 2
}
