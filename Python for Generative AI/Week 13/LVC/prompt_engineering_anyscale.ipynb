{
  "nbformat": 4,
  "nbformat_minor": 0,
  "metadata": {
    "colab": {
      "provenance": []
    },
    "kernelspec": {
      "name": "python3",
      "display_name": "Python 3"
    },
    "language_info": {
      "name": "python"
    },
    "widgets": {
      "application/vnd.jupyter.widget-state+json": {
        "5d37b2da793640d8bb0508a11c98d223": {
          "model_module": "@jupyter-widgets/controls",
          "model_name": "HBoxModel",
          "model_module_version": "1.5.0",
          "state": {
            "_dom_classes": [],
            "_model_module": "@jupyter-widgets/controls",
            "_model_module_version": "1.5.0",
            "_model_name": "HBoxModel",
            "_view_count": null,
            "_view_module": "@jupyter-widgets/controls",
            "_view_module_version": "1.5.0",
            "_view_name": "HBoxView",
            "box_style": "",
            "children": [
              "IPY_MODEL_594f97173c7d42dfbe79041da69b642b",
              "IPY_MODEL_2b812f7653c04e589c371dffee4059fb",
              "IPY_MODEL_9ed965290436484dae2eb2cfdfadff75"
            ],
            "layout": "IPY_MODEL_1a0a0f0ee0094b61a8adf7456928ce3a"
          }
        },
        "594f97173c7d42dfbe79041da69b642b": {
          "model_module": "@jupyter-widgets/controls",
          "model_name": "HTMLModel",
          "model_module_version": "1.5.0",
          "state": {
            "_dom_classes": [],
            "_model_module": "@jupyter-widgets/controls",
            "_model_module_version": "1.5.0",
            "_model_name": "HTMLModel",
            "_view_count": null,
            "_view_module": "@jupyter-widgets/controls",
            "_view_module_version": "1.5.0",
            "_view_name": "HTMLView",
            "description": "",
            "description_tooltip": null,
            "layout": "IPY_MODEL_293433d7f178492aa8368b1c7da2fb5c",
            "placeholder": "​",
            "style": "IPY_MODEL_26b99c0148204467811a0576b3146de2",
            "value": "Downloading readme: 100%"
          }
        },
        "2b812f7653c04e589c371dffee4059fb": {
          "model_module": "@jupyter-widgets/controls",
          "model_name": "FloatProgressModel",
          "model_module_version": "1.5.0",
          "state": {
            "_dom_classes": [],
            "_model_module": "@jupyter-widgets/controls",
            "_model_module_version": "1.5.0",
            "_model_name": "FloatProgressModel",
            "_view_count": null,
            "_view_module": "@jupyter-widgets/controls",
            "_view_module_version": "1.5.0",
            "_view_name": "ProgressView",
            "bar_style": "success",
            "description": "",
            "description_tooltip": null,
            "layout": "IPY_MODEL_4502c186650449b39946ecc83c0b53a3",
            "max": 287,
            "min": 0,
            "orientation": "horizontal",
            "style": "IPY_MODEL_f0776b6880034aa58ca7d53dfab2bd44",
            "value": 287
          }
        },
        "9ed965290436484dae2eb2cfdfadff75": {
          "model_module": "@jupyter-widgets/controls",
          "model_name": "HTMLModel",
          "model_module_version": "1.5.0",
          "state": {
            "_dom_classes": [],
            "_model_module": "@jupyter-widgets/controls",
            "_model_module_version": "1.5.0",
            "_model_name": "HTMLModel",
            "_view_count": null,
            "_view_module": "@jupyter-widgets/controls",
            "_view_module_version": "1.5.0",
            "_view_name": "HTMLView",
            "description": "",
            "description_tooltip": null,
            "layout": "IPY_MODEL_60492216818c426ebb4a247335575c2d",
            "placeholder": "​",
            "style": "IPY_MODEL_31514f45981b4d2eaa026cd8cdfad3f0",
            "value": " 287/287 [00:00&lt;00:00, 11.8kB/s]"
          }
        },
        "1a0a0f0ee0094b61a8adf7456928ce3a": {
          "model_module": "@jupyter-widgets/base",
          "model_name": "LayoutModel",
          "model_module_version": "1.2.0",
          "state": {
            "_model_module": "@jupyter-widgets/base",
            "_model_module_version": "1.2.0",
            "_model_name": "LayoutModel",
            "_view_count": null,
            "_view_module": "@jupyter-widgets/base",
            "_view_module_version": "1.2.0",
            "_view_name": "LayoutView",
            "align_content": null,
            "align_items": null,
            "align_self": null,
            "border": null,
            "bottom": null,
            "display": null,
            "flex": null,
            "flex_flow": null,
            "grid_area": null,
            "grid_auto_columns": null,
            "grid_auto_flow": null,
            "grid_auto_rows": null,
            "grid_column": null,
            "grid_gap": null,
            "grid_row": null,
            "grid_template_areas": null,
            "grid_template_columns": null,
            "grid_template_rows": null,
            "height": null,
            "justify_content": null,
            "justify_items": null,
            "left": null,
            "margin": null,
            "max_height": null,
            "max_width": null,
            "min_height": null,
            "min_width": null,
            "object_fit": null,
            "object_position": null,
            "order": null,
            "overflow": null,
            "overflow_x": null,
            "overflow_y": null,
            "padding": null,
            "right": null,
            "top": null,
            "visibility": null,
            "width": null
          }
        },
        "293433d7f178492aa8368b1c7da2fb5c": {
          "model_module": "@jupyter-widgets/base",
          "model_name": "LayoutModel",
          "model_module_version": "1.2.0",
          "state": {
            "_model_module": "@jupyter-widgets/base",
            "_model_module_version": "1.2.0",
            "_model_name": "LayoutModel",
            "_view_count": null,
            "_view_module": "@jupyter-widgets/base",
            "_view_module_version": "1.2.0",
            "_view_name": "LayoutView",
            "align_content": null,
            "align_items": null,
            "align_self": null,
            "border": null,
            "bottom": null,
            "display": null,
            "flex": null,
            "flex_flow": null,
            "grid_area": null,
            "grid_auto_columns": null,
            "grid_auto_flow": null,
            "grid_auto_rows": null,
            "grid_column": null,
            "grid_gap": null,
            "grid_row": null,
            "grid_template_areas": null,
            "grid_template_columns": null,
            "grid_template_rows": null,
            "height": null,
            "justify_content": null,
            "justify_items": null,
            "left": null,
            "margin": null,
            "max_height": null,
            "max_width": null,
            "min_height": null,
            "min_width": null,
            "object_fit": null,
            "object_position": null,
            "order": null,
            "overflow": null,
            "overflow_x": null,
            "overflow_y": null,
            "padding": null,
            "right": null,
            "top": null,
            "visibility": null,
            "width": null
          }
        },
        "26b99c0148204467811a0576b3146de2": {
          "model_module": "@jupyter-widgets/controls",
          "model_name": "DescriptionStyleModel",
          "model_module_version": "1.5.0",
          "state": {
            "_model_module": "@jupyter-widgets/controls",
            "_model_module_version": "1.5.0",
            "_model_name": "DescriptionStyleModel",
            "_view_count": null,
            "_view_module": "@jupyter-widgets/base",
            "_view_module_version": "1.2.0",
            "_view_name": "StyleView",
            "description_width": ""
          }
        },
        "4502c186650449b39946ecc83c0b53a3": {
          "model_module": "@jupyter-widgets/base",
          "model_name": "LayoutModel",
          "model_module_version": "1.2.0",
          "state": {
            "_model_module": "@jupyter-widgets/base",
            "_model_module_version": "1.2.0",
            "_model_name": "LayoutModel",
            "_view_count": null,
            "_view_module": "@jupyter-widgets/base",
            "_view_module_version": "1.2.0",
            "_view_name": "LayoutView",
            "align_content": null,
            "align_items": null,
            "align_self": null,
            "border": null,
            "bottom": null,
            "display": null,
            "flex": null,
            "flex_flow": null,
            "grid_area": null,
            "grid_auto_columns": null,
            "grid_auto_flow": null,
            "grid_auto_rows": null,
            "grid_column": null,
            "grid_gap": null,
            "grid_row": null,
            "grid_template_areas": null,
            "grid_template_columns": null,
            "grid_template_rows": null,
            "height": null,
            "justify_content": null,
            "justify_items": null,
            "left": null,
            "margin": null,
            "max_height": null,
            "max_width": null,
            "min_height": null,
            "min_width": null,
            "object_fit": null,
            "object_position": null,
            "order": null,
            "overflow": null,
            "overflow_x": null,
            "overflow_y": null,
            "padding": null,
            "right": null,
            "top": null,
            "visibility": null,
            "width": null
          }
        },
        "f0776b6880034aa58ca7d53dfab2bd44": {
          "model_module": "@jupyter-widgets/controls",
          "model_name": "ProgressStyleModel",
          "model_module_version": "1.5.0",
          "state": {
            "_model_module": "@jupyter-widgets/controls",
            "_model_module_version": "1.5.0",
            "_model_name": "ProgressStyleModel",
            "_view_count": null,
            "_view_module": "@jupyter-widgets/base",
            "_view_module_version": "1.2.0",
            "_view_name": "StyleView",
            "bar_color": null,
            "description_width": ""
          }
        },
        "60492216818c426ebb4a247335575c2d": {
          "model_module": "@jupyter-widgets/base",
          "model_name": "LayoutModel",
          "model_module_version": "1.2.0",
          "state": {
            "_model_module": "@jupyter-widgets/base",
            "_model_module_version": "1.2.0",
            "_model_name": "LayoutModel",
            "_view_count": null,
            "_view_module": "@jupyter-widgets/base",
            "_view_module_version": "1.2.0",
            "_view_name": "LayoutView",
            "align_content": null,
            "align_items": null,
            "align_self": null,
            "border": null,
            "bottom": null,
            "display": null,
            "flex": null,
            "flex_flow": null,
            "grid_area": null,
            "grid_auto_columns": null,
            "grid_auto_flow": null,
            "grid_auto_rows": null,
            "grid_column": null,
            "grid_gap": null,
            "grid_row": null,
            "grid_template_areas": null,
            "grid_template_columns": null,
            "grid_template_rows": null,
            "height": null,
            "justify_content": null,
            "justify_items": null,
            "left": null,
            "margin": null,
            "max_height": null,
            "max_width": null,
            "min_height": null,
            "min_width": null,
            "object_fit": null,
            "object_position": null,
            "order": null,
            "overflow": null,
            "overflow_x": null,
            "overflow_y": null,
            "padding": null,
            "right": null,
            "top": null,
            "visibility": null,
            "width": null
          }
        },
        "31514f45981b4d2eaa026cd8cdfad3f0": {
          "model_module": "@jupyter-widgets/controls",
          "model_name": "DescriptionStyleModel",
          "model_module_version": "1.5.0",
          "state": {
            "_model_module": "@jupyter-widgets/controls",
            "_model_module_version": "1.5.0",
            "_model_name": "DescriptionStyleModel",
            "_view_count": null,
            "_view_module": "@jupyter-widgets/base",
            "_view_module_version": "1.2.0",
            "_view_name": "StyleView",
            "description_width": ""
          }
        },
        "3bfac462d6734fb089a2d9f5881e6e7b": {
          "model_module": "@jupyter-widgets/controls",
          "model_name": "HBoxModel",
          "model_module_version": "1.5.0",
          "state": {
            "_dom_classes": [],
            "_model_module": "@jupyter-widgets/controls",
            "_model_module_version": "1.5.0",
            "_model_name": "HBoxModel",
            "_view_count": null,
            "_view_module": "@jupyter-widgets/controls",
            "_view_module_version": "1.5.0",
            "_view_name": "HBoxView",
            "box_style": "",
            "children": [
              "IPY_MODEL_7c90f6d1dfe941668fcc6f7ff5e69d21",
              "IPY_MODEL_fa2d0d365f2c40bc97ce707a92fadaf9",
              "IPY_MODEL_ec5d5eb2927b4d42b2a20034b7786a01"
            ],
            "layout": "IPY_MODEL_b3b977df50444f7fa70d3449f9bd9913"
          }
        },
        "7c90f6d1dfe941668fcc6f7ff5e69d21": {
          "model_module": "@jupyter-widgets/controls",
          "model_name": "HTMLModel",
          "model_module_version": "1.5.0",
          "state": {
            "_dom_classes": [],
            "_model_module": "@jupyter-widgets/controls",
            "_model_module_version": "1.5.0",
            "_model_name": "HTMLModel",
            "_view_count": null,
            "_view_module": "@jupyter-widgets/controls",
            "_view_module_version": "1.5.0",
            "_view_name": "HTMLView",
            "description": "",
            "description_tooltip": null,
            "layout": "IPY_MODEL_1d1adcb82bd74d7b884cc1daf535cadb",
            "placeholder": "​",
            "style": "IPY_MODEL_cf060eec025c4a34902abf2eee53c8a8",
            "value": "Downloading data: 100%"
          }
        },
        "fa2d0d365f2c40bc97ce707a92fadaf9": {
          "model_module": "@jupyter-widgets/controls",
          "model_name": "FloatProgressModel",
          "model_module_version": "1.5.0",
          "state": {
            "_dom_classes": [],
            "_model_module": "@jupyter-widgets/controls",
            "_model_module_version": "1.5.0",
            "_model_name": "FloatProgressModel",
            "_view_count": null,
            "_view_module": "@jupyter-widgets/controls",
            "_view_module_version": "1.5.0",
            "_view_name": "ProgressView",
            "bar_style": "success",
            "description": "",
            "description_tooltip": null,
            "layout": "IPY_MODEL_6109cd7e40144d4eb26b3bcf22c9f635",
            "max": 29804,
            "min": 0,
            "orientation": "horizontal",
            "style": "IPY_MODEL_7332a94a99624128a4d7231d97d5039d",
            "value": 29804
          }
        },
        "ec5d5eb2927b4d42b2a20034b7786a01": {
          "model_module": "@jupyter-widgets/controls",
          "model_name": "HTMLModel",
          "model_module_version": "1.5.0",
          "state": {
            "_dom_classes": [],
            "_model_module": "@jupyter-widgets/controls",
            "_model_module_version": "1.5.0",
            "_model_name": "HTMLModel",
            "_view_count": null,
            "_view_module": "@jupyter-widgets/controls",
            "_view_module_version": "1.5.0",
            "_view_name": "HTMLView",
            "description": "",
            "description_tooltip": null,
            "layout": "IPY_MODEL_4c34bc95e42b4301900c65049cb1afbc",
            "placeholder": "​",
            "style": "IPY_MODEL_834038dd62124fdd8f87f4d0d9696e8f",
            "value": " 29.8k/29.8k [00:00&lt;00:00, 272kB/s]"
          }
        },
        "b3b977df50444f7fa70d3449f9bd9913": {
          "model_module": "@jupyter-widgets/base",
          "model_name": "LayoutModel",
          "model_module_version": "1.2.0",
          "state": {
            "_model_module": "@jupyter-widgets/base",
            "_model_module_version": "1.2.0",
            "_model_name": "LayoutModel",
            "_view_count": null,
            "_view_module": "@jupyter-widgets/base",
            "_view_module_version": "1.2.0",
            "_view_name": "LayoutView",
            "align_content": null,
            "align_items": null,
            "align_self": null,
            "border": null,
            "bottom": null,
            "display": null,
            "flex": null,
            "flex_flow": null,
            "grid_area": null,
            "grid_auto_columns": null,
            "grid_auto_flow": null,
            "grid_auto_rows": null,
            "grid_column": null,
            "grid_gap": null,
            "grid_row": null,
            "grid_template_areas": null,
            "grid_template_columns": null,
            "grid_template_rows": null,
            "height": null,
            "justify_content": null,
            "justify_items": null,
            "left": null,
            "margin": null,
            "max_height": null,
            "max_width": null,
            "min_height": null,
            "min_width": null,
            "object_fit": null,
            "object_position": null,
            "order": null,
            "overflow": null,
            "overflow_x": null,
            "overflow_y": null,
            "padding": null,
            "right": null,
            "top": null,
            "visibility": null,
            "width": null
          }
        },
        "1d1adcb82bd74d7b884cc1daf535cadb": {
          "model_module": "@jupyter-widgets/base",
          "model_name": "LayoutModel",
          "model_module_version": "1.2.0",
          "state": {
            "_model_module": "@jupyter-widgets/base",
            "_model_module_version": "1.2.0",
            "_model_name": "LayoutModel",
            "_view_count": null,
            "_view_module": "@jupyter-widgets/base",
            "_view_module_version": "1.2.0",
            "_view_name": "LayoutView",
            "align_content": null,
            "align_items": null,
            "align_self": null,
            "border": null,
            "bottom": null,
            "display": null,
            "flex": null,
            "flex_flow": null,
            "grid_area": null,
            "grid_auto_columns": null,
            "grid_auto_flow": null,
            "grid_auto_rows": null,
            "grid_column": null,
            "grid_gap": null,
            "grid_row": null,
            "grid_template_areas": null,
            "grid_template_columns": null,
            "grid_template_rows": null,
            "height": null,
            "justify_content": null,
            "justify_items": null,
            "left": null,
            "margin": null,
            "max_height": null,
            "max_width": null,
            "min_height": null,
            "min_width": null,
            "object_fit": null,
            "object_position": null,
            "order": null,
            "overflow": null,
            "overflow_x": null,
            "overflow_y": null,
            "padding": null,
            "right": null,
            "top": null,
            "visibility": null,
            "width": null
          }
        },
        "cf060eec025c4a34902abf2eee53c8a8": {
          "model_module": "@jupyter-widgets/controls",
          "model_name": "DescriptionStyleModel",
          "model_module_version": "1.5.0",
          "state": {
            "_model_module": "@jupyter-widgets/controls",
            "_model_module_version": "1.5.0",
            "_model_name": "DescriptionStyleModel",
            "_view_count": null,
            "_view_module": "@jupyter-widgets/base",
            "_view_module_version": "1.2.0",
            "_view_name": "StyleView",
            "description_width": ""
          }
        },
        "6109cd7e40144d4eb26b3bcf22c9f635": {
          "model_module": "@jupyter-widgets/base",
          "model_name": "LayoutModel",
          "model_module_version": "1.2.0",
          "state": {
            "_model_module": "@jupyter-widgets/base",
            "_model_module_version": "1.2.0",
            "_model_name": "LayoutModel",
            "_view_count": null,
            "_view_module": "@jupyter-widgets/base",
            "_view_module_version": "1.2.0",
            "_view_name": "LayoutView",
            "align_content": null,
            "align_items": null,
            "align_self": null,
            "border": null,
            "bottom": null,
            "display": null,
            "flex": null,
            "flex_flow": null,
            "grid_area": null,
            "grid_auto_columns": null,
            "grid_auto_flow": null,
            "grid_auto_rows": null,
            "grid_column": null,
            "grid_gap": null,
            "grid_row": null,
            "grid_template_areas": null,
            "grid_template_columns": null,
            "grid_template_rows": null,
            "height": null,
            "justify_content": null,
            "justify_items": null,
            "left": null,
            "margin": null,
            "max_height": null,
            "max_width": null,
            "min_height": null,
            "min_width": null,
            "object_fit": null,
            "object_position": null,
            "order": null,
            "overflow": null,
            "overflow_x": null,
            "overflow_y": null,
            "padding": null,
            "right": null,
            "top": null,
            "visibility": null,
            "width": null
          }
        },
        "7332a94a99624128a4d7231d97d5039d": {
          "model_module": "@jupyter-widgets/controls",
          "model_name": "ProgressStyleModel",
          "model_module_version": "1.5.0",
          "state": {
            "_model_module": "@jupyter-widgets/controls",
            "_model_module_version": "1.5.0",
            "_model_name": "ProgressStyleModel",
            "_view_count": null,
            "_view_module": "@jupyter-widgets/base",
            "_view_module_version": "1.2.0",
            "_view_name": "StyleView",
            "bar_color": null,
            "description_width": ""
          }
        },
        "4c34bc95e42b4301900c65049cb1afbc": {
          "model_module": "@jupyter-widgets/base",
          "model_name": "LayoutModel",
          "model_module_version": "1.2.0",
          "state": {
            "_model_module": "@jupyter-widgets/base",
            "_model_module_version": "1.2.0",
            "_model_name": "LayoutModel",
            "_view_count": null,
            "_view_module": "@jupyter-widgets/base",
            "_view_module_version": "1.2.0",
            "_view_name": "LayoutView",
            "align_content": null,
            "align_items": null,
            "align_self": null,
            "border": null,
            "bottom": null,
            "display": null,
            "flex": null,
            "flex_flow": null,
            "grid_area": null,
            "grid_auto_columns": null,
            "grid_auto_flow": null,
            "grid_auto_rows": null,
            "grid_column": null,
            "grid_gap": null,
            "grid_row": null,
            "grid_template_areas": null,
            "grid_template_columns": null,
            "grid_template_rows": null,
            "height": null,
            "justify_content": null,
            "justify_items": null,
            "left": null,
            "margin": null,
            "max_height": null,
            "max_width": null,
            "min_height": null,
            "min_width": null,
            "object_fit": null,
            "object_position": null,
            "order": null,
            "overflow": null,
            "overflow_x": null,
            "overflow_y": null,
            "padding": null,
            "right": null,
            "top": null,
            "visibility": null,
            "width": null
          }
        },
        "834038dd62124fdd8f87f4d0d9696e8f": {
          "model_module": "@jupyter-widgets/controls",
          "model_name": "DescriptionStyleModel",
          "model_module_version": "1.5.0",
          "state": {
            "_model_module": "@jupyter-widgets/controls",
            "_model_module_version": "1.5.0",
            "_model_name": "DescriptionStyleModel",
            "_view_count": null,
            "_view_module": "@jupyter-widgets/base",
            "_view_module_version": "1.2.0",
            "_view_name": "StyleView",
            "description_width": ""
          }
        },
        "40bec1ff82014b86bf4da24f459fa834": {
          "model_module": "@jupyter-widgets/controls",
          "model_name": "HBoxModel",
          "model_module_version": "1.5.0",
          "state": {
            "_dom_classes": [],
            "_model_module": "@jupyter-widgets/controls",
            "_model_module_version": "1.5.0",
            "_model_name": "HBoxModel",
            "_view_count": null,
            "_view_module": "@jupyter-widgets/controls",
            "_view_module_version": "1.5.0",
            "_view_name": "HBoxView",
            "box_style": "",
            "children": [
              "IPY_MODEL_5925203068da4094800171644513b411",
              "IPY_MODEL_be6f25a0dae448e192246675239827da",
              "IPY_MODEL_38312c0430e445b8aa44ce6654e2f93a"
            ],
            "layout": "IPY_MODEL_d588af464ad2420bbab6707bae18ea66"
          }
        },
        "5925203068da4094800171644513b411": {
          "model_module": "@jupyter-widgets/controls",
          "model_name": "HTMLModel",
          "model_module_version": "1.5.0",
          "state": {
            "_dom_classes": [],
            "_model_module": "@jupyter-widgets/controls",
            "_model_module_version": "1.5.0",
            "_model_name": "HTMLModel",
            "_view_count": null,
            "_view_module": "@jupyter-widgets/controls",
            "_view_module_version": "1.5.0",
            "_view_name": "HTMLView",
            "description": "",
            "description_tooltip": null,
            "layout": "IPY_MODEL_06b43869440744c495ede4e6f9960628",
            "placeholder": "​",
            "style": "IPY_MODEL_a951d54fdbb64efcb5f45e998ca34d7e",
            "value": "Downloading data: 100%"
          }
        },
        "be6f25a0dae448e192246675239827da": {
          "model_module": "@jupyter-widgets/controls",
          "model_name": "FloatProgressModel",
          "model_module_version": "1.5.0",
          "state": {
            "_dom_classes": [],
            "_model_module": "@jupyter-widgets/controls",
            "_model_module_version": "1.5.0",
            "_model_name": "FloatProgressModel",
            "_view_count": null,
            "_view_module": "@jupyter-widgets/controls",
            "_view_module_version": "1.5.0",
            "_view_name": "ProgressView",
            "bar_style": "success",
            "description": "",
            "description_tooltip": null,
            "layout": "IPY_MODEL_b8ba91ffc4354b1e840ac027d3f3eb78",
            "max": 24078,
            "min": 0,
            "orientation": "horizontal",
            "style": "IPY_MODEL_3d60bc3000e44407a38026e1b5f9b221",
            "value": 24078
          }
        },
        "38312c0430e445b8aa44ce6654e2f93a": {
          "model_module": "@jupyter-widgets/controls",
          "model_name": "HTMLModel",
          "model_module_version": "1.5.0",
          "state": {
            "_dom_classes": [],
            "_model_module": "@jupyter-widgets/controls",
            "_model_module_version": "1.5.0",
            "_model_name": "HTMLModel",
            "_view_count": null,
            "_view_module": "@jupyter-widgets/controls",
            "_view_module_version": "1.5.0",
            "_view_name": "HTMLView",
            "description": "",
            "description_tooltip": null,
            "layout": "IPY_MODEL_97c32204e4564164a0e2037adfe859f1",
            "placeholder": "​",
            "style": "IPY_MODEL_5c3e33b1dba44a2f82fa8c13dadf1534",
            "value": " 24.1k/24.1k [00:00&lt;00:00, 192kB/s]"
          }
        },
        "d588af464ad2420bbab6707bae18ea66": {
          "model_module": "@jupyter-widgets/base",
          "model_name": "LayoutModel",
          "model_module_version": "1.2.0",
          "state": {
            "_model_module": "@jupyter-widgets/base",
            "_model_module_version": "1.2.0",
            "_model_name": "LayoutModel",
            "_view_count": null,
            "_view_module": "@jupyter-widgets/base",
            "_view_module_version": "1.2.0",
            "_view_name": "LayoutView",
            "align_content": null,
            "align_items": null,
            "align_self": null,
            "border": null,
            "bottom": null,
            "display": null,
            "flex": null,
            "flex_flow": null,
            "grid_area": null,
            "grid_auto_columns": null,
            "grid_auto_flow": null,
            "grid_auto_rows": null,
            "grid_column": null,
            "grid_gap": null,
            "grid_row": null,
            "grid_template_areas": null,
            "grid_template_columns": null,
            "grid_template_rows": null,
            "height": null,
            "justify_content": null,
            "justify_items": null,
            "left": null,
            "margin": null,
            "max_height": null,
            "max_width": null,
            "min_height": null,
            "min_width": null,
            "object_fit": null,
            "object_position": null,
            "order": null,
            "overflow": null,
            "overflow_x": null,
            "overflow_y": null,
            "padding": null,
            "right": null,
            "top": null,
            "visibility": null,
            "width": null
          }
        },
        "06b43869440744c495ede4e6f9960628": {
          "model_module": "@jupyter-widgets/base",
          "model_name": "LayoutModel",
          "model_module_version": "1.2.0",
          "state": {
            "_model_module": "@jupyter-widgets/base",
            "_model_module_version": "1.2.0",
            "_model_name": "LayoutModel",
            "_view_count": null,
            "_view_module": "@jupyter-widgets/base",
            "_view_module_version": "1.2.0",
            "_view_name": "LayoutView",
            "align_content": null,
            "align_items": null,
            "align_self": null,
            "border": null,
            "bottom": null,
            "display": null,
            "flex": null,
            "flex_flow": null,
            "grid_area": null,
            "grid_auto_columns": null,
            "grid_auto_flow": null,
            "grid_auto_rows": null,
            "grid_column": null,
            "grid_gap": null,
            "grid_row": null,
            "grid_template_areas": null,
            "grid_template_columns": null,
            "grid_template_rows": null,
            "height": null,
            "justify_content": null,
            "justify_items": null,
            "left": null,
            "margin": null,
            "max_height": null,
            "max_width": null,
            "min_height": null,
            "min_width": null,
            "object_fit": null,
            "object_position": null,
            "order": null,
            "overflow": null,
            "overflow_x": null,
            "overflow_y": null,
            "padding": null,
            "right": null,
            "top": null,
            "visibility": null,
            "width": null
          }
        },
        "a951d54fdbb64efcb5f45e998ca34d7e": {
          "model_module": "@jupyter-widgets/controls",
          "model_name": "DescriptionStyleModel",
          "model_module_version": "1.5.0",
          "state": {
            "_model_module": "@jupyter-widgets/controls",
            "_model_module_version": "1.5.0",
            "_model_name": "DescriptionStyleModel",
            "_view_count": null,
            "_view_module": "@jupyter-widgets/base",
            "_view_module_version": "1.2.0",
            "_view_name": "StyleView",
            "description_width": ""
          }
        },
        "b8ba91ffc4354b1e840ac027d3f3eb78": {
          "model_module": "@jupyter-widgets/base",
          "model_name": "LayoutModel",
          "model_module_version": "1.2.0",
          "state": {
            "_model_module": "@jupyter-widgets/base",
            "_model_module_version": "1.2.0",
            "_model_name": "LayoutModel",
            "_view_count": null,
            "_view_module": "@jupyter-widgets/base",
            "_view_module_version": "1.2.0",
            "_view_name": "LayoutView",
            "align_content": null,
            "align_items": null,
            "align_self": null,
            "border": null,
            "bottom": null,
            "display": null,
            "flex": null,
            "flex_flow": null,
            "grid_area": null,
            "grid_auto_columns": null,
            "grid_auto_flow": null,
            "grid_auto_rows": null,
            "grid_column": null,
            "grid_gap": null,
            "grid_row": null,
            "grid_template_areas": null,
            "grid_template_columns": null,
            "grid_template_rows": null,
            "height": null,
            "justify_content": null,
            "justify_items": null,
            "left": null,
            "margin": null,
            "max_height": null,
            "max_width": null,
            "min_height": null,
            "min_width": null,
            "object_fit": null,
            "object_position": null,
            "order": null,
            "overflow": null,
            "overflow_x": null,
            "overflow_y": null,
            "padding": null,
            "right": null,
            "top": null,
            "visibility": null,
            "width": null
          }
        },
        "3d60bc3000e44407a38026e1b5f9b221": {
          "model_module": "@jupyter-widgets/controls",
          "model_name": "ProgressStyleModel",
          "model_module_version": "1.5.0",
          "state": {
            "_model_module": "@jupyter-widgets/controls",
            "_model_module_version": "1.5.0",
            "_model_name": "ProgressStyleModel",
            "_view_count": null,
            "_view_module": "@jupyter-widgets/base",
            "_view_module_version": "1.2.0",
            "_view_name": "StyleView",
            "bar_color": null,
            "description_width": ""
          }
        },
        "97c32204e4564164a0e2037adfe859f1": {
          "model_module": "@jupyter-widgets/base",
          "model_name": "LayoutModel",
          "model_module_version": "1.2.0",
          "state": {
            "_model_module": "@jupyter-widgets/base",
            "_model_module_version": "1.2.0",
            "_model_name": "LayoutModel",
            "_view_count": null,
            "_view_module": "@jupyter-widgets/base",
            "_view_module_version": "1.2.0",
            "_view_name": "LayoutView",
            "align_content": null,
            "align_items": null,
            "align_self": null,
            "border": null,
            "bottom": null,
            "display": null,
            "flex": null,
            "flex_flow": null,
            "grid_area": null,
            "grid_auto_columns": null,
            "grid_auto_flow": null,
            "grid_auto_rows": null,
            "grid_column": null,
            "grid_gap": null,
            "grid_row": null,
            "grid_template_areas": null,
            "grid_template_columns": null,
            "grid_template_rows": null,
            "height": null,
            "justify_content": null,
            "justify_items": null,
            "left": null,
            "margin": null,
            "max_height": null,
            "max_width": null,
            "min_height": null,
            "min_width": null,
            "object_fit": null,
            "object_position": null,
            "order": null,
            "overflow": null,
            "overflow_x": null,
            "overflow_y": null,
            "padding": null,
            "right": null,
            "top": null,
            "visibility": null,
            "width": null
          }
        },
        "5c3e33b1dba44a2f82fa8c13dadf1534": {
          "model_module": "@jupyter-widgets/controls",
          "model_name": "DescriptionStyleModel",
          "model_module_version": "1.5.0",
          "state": {
            "_model_module": "@jupyter-widgets/controls",
            "_model_module_version": "1.5.0",
            "_model_name": "DescriptionStyleModel",
            "_view_count": null,
            "_view_module": "@jupyter-widgets/base",
            "_view_module_version": "1.2.0",
            "_view_name": "StyleView",
            "description_width": ""
          }
        },
        "e05c329fccbf4587951b0bdda146cde0": {
          "model_module": "@jupyter-widgets/controls",
          "model_name": "HBoxModel",
          "model_module_version": "1.5.0",
          "state": {
            "_dom_classes": [],
            "_model_module": "@jupyter-widgets/controls",
            "_model_module_version": "1.5.0",
            "_model_name": "HBoxModel",
            "_view_count": null,
            "_view_module": "@jupyter-widgets/controls",
            "_view_module_version": "1.5.0",
            "_view_name": "HBoxView",
            "box_style": "",
            "children": [
              "IPY_MODEL_ea921e129d064765a13c60b06c2b7a5f",
              "IPY_MODEL_d1fac2477b96424c96937c000a3d0433",
              "IPY_MODEL_f0170e10431046e0bb464381de1ee6ef"
            ],
            "layout": "IPY_MODEL_6e2c1094f7a64ce5bcb53a88d76dc172"
          }
        },
        "ea921e129d064765a13c60b06c2b7a5f": {
          "model_module": "@jupyter-widgets/controls",
          "model_name": "HTMLModel",
          "model_module_version": "1.5.0",
          "state": {
            "_dom_classes": [],
            "_model_module": "@jupyter-widgets/controls",
            "_model_module_version": "1.5.0",
            "_model_name": "HTMLModel",
            "_view_count": null,
            "_view_module": "@jupyter-widgets/controls",
            "_view_module_version": "1.5.0",
            "_view_name": "HTMLView",
            "description": "",
            "description_tooltip": null,
            "layout": "IPY_MODEL_f86cbb0e0590493fb4bfe68677be55f7",
            "placeholder": "​",
            "style": "IPY_MODEL_2e3a330885d04635a798071bfa09c73a",
            "value": "Generating examples split: 100%"
          }
        },
        "d1fac2477b96424c96937c000a3d0433": {
          "model_module": "@jupyter-widgets/controls",
          "model_name": "FloatProgressModel",
          "model_module_version": "1.5.0",
          "state": {
            "_dom_classes": [],
            "_model_module": "@jupyter-widgets/controls",
            "_model_module_version": "1.5.0",
            "_model_name": "FloatProgressModel",
            "_view_count": null,
            "_view_module": "@jupyter-widgets/controls",
            "_view_module_version": "1.5.0",
            "_view_name": "ProgressView",
            "bar_style": "success",
            "description": "",
            "description_tooltip": null,
            "layout": "IPY_MODEL_3484b8749eae49d0a6a7bf0ce7fa3b5c",
            "max": 32,
            "min": 0,
            "orientation": "horizontal",
            "style": "IPY_MODEL_4fca9532c79646b4858645bd318687a7",
            "value": 32
          }
        },
        "f0170e10431046e0bb464381de1ee6ef": {
          "model_module": "@jupyter-widgets/controls",
          "model_name": "HTMLModel",
          "model_module_version": "1.5.0",
          "state": {
            "_dom_classes": [],
            "_model_module": "@jupyter-widgets/controls",
            "_model_module_version": "1.5.0",
            "_model_name": "HTMLModel",
            "_view_count": null,
            "_view_module": "@jupyter-widgets/controls",
            "_view_module_version": "1.5.0",
            "_view_name": "HTMLView",
            "description": "",
            "description_tooltip": null,
            "layout": "IPY_MODEL_d30716dcee0f405e9cfe2291c4e20830",
            "placeholder": "​",
            "style": "IPY_MODEL_e87fd578eeb84a88ab9381cf8bee5010",
            "value": " 32/32 [00:00&lt;00:00, 440.20 examples/s]"
          }
        },
        "6e2c1094f7a64ce5bcb53a88d76dc172": {
          "model_module": "@jupyter-widgets/base",
          "model_name": "LayoutModel",
          "model_module_version": "1.2.0",
          "state": {
            "_model_module": "@jupyter-widgets/base",
            "_model_module_version": "1.2.0",
            "_model_name": "LayoutModel",
            "_view_count": null,
            "_view_module": "@jupyter-widgets/base",
            "_view_module_version": "1.2.0",
            "_view_name": "LayoutView",
            "align_content": null,
            "align_items": null,
            "align_self": null,
            "border": null,
            "bottom": null,
            "display": null,
            "flex": null,
            "flex_flow": null,
            "grid_area": null,
            "grid_auto_columns": null,
            "grid_auto_flow": null,
            "grid_auto_rows": null,
            "grid_column": null,
            "grid_gap": null,
            "grid_row": null,
            "grid_template_areas": null,
            "grid_template_columns": null,
            "grid_template_rows": null,
            "height": null,
            "justify_content": null,
            "justify_items": null,
            "left": null,
            "margin": null,
            "max_height": null,
            "max_width": null,
            "min_height": null,
            "min_width": null,
            "object_fit": null,
            "object_position": null,
            "order": null,
            "overflow": null,
            "overflow_x": null,
            "overflow_y": null,
            "padding": null,
            "right": null,
            "top": null,
            "visibility": null,
            "width": null
          }
        },
        "f86cbb0e0590493fb4bfe68677be55f7": {
          "model_module": "@jupyter-widgets/base",
          "model_name": "LayoutModel",
          "model_module_version": "1.2.0",
          "state": {
            "_model_module": "@jupyter-widgets/base",
            "_model_module_version": "1.2.0",
            "_model_name": "LayoutModel",
            "_view_count": null,
            "_view_module": "@jupyter-widgets/base",
            "_view_module_version": "1.2.0",
            "_view_name": "LayoutView",
            "align_content": null,
            "align_items": null,
            "align_self": null,
            "border": null,
            "bottom": null,
            "display": null,
            "flex": null,
            "flex_flow": null,
            "grid_area": null,
            "grid_auto_columns": null,
            "grid_auto_flow": null,
            "grid_auto_rows": null,
            "grid_column": null,
            "grid_gap": null,
            "grid_row": null,
            "grid_template_areas": null,
            "grid_template_columns": null,
            "grid_template_rows": null,
            "height": null,
            "justify_content": null,
            "justify_items": null,
            "left": null,
            "margin": null,
            "max_height": null,
            "max_width": null,
            "min_height": null,
            "min_width": null,
            "object_fit": null,
            "object_position": null,
            "order": null,
            "overflow": null,
            "overflow_x": null,
            "overflow_y": null,
            "padding": null,
            "right": null,
            "top": null,
            "visibility": null,
            "width": null
          }
        },
        "2e3a330885d04635a798071bfa09c73a": {
          "model_module": "@jupyter-widgets/controls",
          "model_name": "DescriptionStyleModel",
          "model_module_version": "1.5.0",
          "state": {
            "_model_module": "@jupyter-widgets/controls",
            "_model_module_version": "1.5.0",
            "_model_name": "DescriptionStyleModel",
            "_view_count": null,
            "_view_module": "@jupyter-widgets/base",
            "_view_module_version": "1.2.0",
            "_view_name": "StyleView",
            "description_width": ""
          }
        },
        "3484b8749eae49d0a6a7bf0ce7fa3b5c": {
          "model_module": "@jupyter-widgets/base",
          "model_name": "LayoutModel",
          "model_module_version": "1.2.0",
          "state": {
            "_model_module": "@jupyter-widgets/base",
            "_model_module_version": "1.2.0",
            "_model_name": "LayoutModel",
            "_view_count": null,
            "_view_module": "@jupyter-widgets/base",
            "_view_module_version": "1.2.0",
            "_view_name": "LayoutView",
            "align_content": null,
            "align_items": null,
            "align_self": null,
            "border": null,
            "bottom": null,
            "display": null,
            "flex": null,
            "flex_flow": null,
            "grid_area": null,
            "grid_auto_columns": null,
            "grid_auto_flow": null,
            "grid_auto_rows": null,
            "grid_column": null,
            "grid_gap": null,
            "grid_row": null,
            "grid_template_areas": null,
            "grid_template_columns": null,
            "grid_template_rows": null,
            "height": null,
            "justify_content": null,
            "justify_items": null,
            "left": null,
            "margin": null,
            "max_height": null,
            "max_width": null,
            "min_height": null,
            "min_width": null,
            "object_fit": null,
            "object_position": null,
            "order": null,
            "overflow": null,
            "overflow_x": null,
            "overflow_y": null,
            "padding": null,
            "right": null,
            "top": null,
            "visibility": null,
            "width": null
          }
        },
        "4fca9532c79646b4858645bd318687a7": {
          "model_module": "@jupyter-widgets/controls",
          "model_name": "ProgressStyleModel",
          "model_module_version": "1.5.0",
          "state": {
            "_model_module": "@jupyter-widgets/controls",
            "_model_module_version": "1.5.0",
            "_model_name": "ProgressStyleModel",
            "_view_count": null,
            "_view_module": "@jupyter-widgets/base",
            "_view_module_version": "1.2.0",
            "_view_name": "StyleView",
            "bar_color": null,
            "description_width": ""
          }
        },
        "d30716dcee0f405e9cfe2291c4e20830": {
          "model_module": "@jupyter-widgets/base",
          "model_name": "LayoutModel",
          "model_module_version": "1.2.0",
          "state": {
            "_model_module": "@jupyter-widgets/base",
            "_model_module_version": "1.2.0",
            "_model_name": "LayoutModel",
            "_view_count": null,
            "_view_module": "@jupyter-widgets/base",
            "_view_module_version": "1.2.0",
            "_view_name": "LayoutView",
            "align_content": null,
            "align_items": null,
            "align_self": null,
            "border": null,
            "bottom": null,
            "display": null,
            "flex": null,
            "flex_flow": null,
            "grid_area": null,
            "grid_auto_columns": null,
            "grid_auto_flow": null,
            "grid_auto_rows": null,
            "grid_column": null,
            "grid_gap": null,
            "grid_row": null,
            "grid_template_areas": null,
            "grid_template_columns": null,
            "grid_template_rows": null,
            "height": null,
            "justify_content": null,
            "justify_items": null,
            "left": null,
            "margin": null,
            "max_height": null,
            "max_width": null,
            "min_height": null,
            "min_width": null,
            "object_fit": null,
            "object_position": null,
            "order": null,
            "overflow": null,
            "overflow_x": null,
            "overflow_y": null,
            "padding": null,
            "right": null,
            "top": null,
            "visibility": null,
            "width": null
          }
        },
        "e87fd578eeb84a88ab9381cf8bee5010": {
          "model_module": "@jupyter-widgets/controls",
          "model_name": "DescriptionStyleModel",
          "model_module_version": "1.5.0",
          "state": {
            "_model_module": "@jupyter-widgets/controls",
            "_model_module_version": "1.5.0",
            "_model_name": "DescriptionStyleModel",
            "_view_count": null,
            "_view_module": "@jupyter-widgets/base",
            "_view_module_version": "1.2.0",
            "_view_name": "StyleView",
            "description_width": ""
          }
        },
        "a95cda6c9e264214a4b11ce36acccce8": {
          "model_module": "@jupyter-widgets/controls",
          "model_name": "HBoxModel",
          "model_module_version": "1.5.0",
          "state": {
            "_dom_classes": [],
            "_model_module": "@jupyter-widgets/controls",
            "_model_module_version": "1.5.0",
            "_model_name": "HBoxModel",
            "_view_count": null,
            "_view_module": "@jupyter-widgets/controls",
            "_view_module_version": "1.5.0",
            "_view_name": "HBoxView",
            "box_style": "",
            "children": [
              "IPY_MODEL_4548ab389e084d1ba891edd806a101c2",
              "IPY_MODEL_1060d3672cfd4eb6b66d36e614f2bb97",
              "IPY_MODEL_338baf35cd3a4bf8863f404db9d01351"
            ],
            "layout": "IPY_MODEL_04d9055541ae47849c84ebc847a05e18"
          }
        },
        "4548ab389e084d1ba891edd806a101c2": {
          "model_module": "@jupyter-widgets/controls",
          "model_name": "HTMLModel",
          "model_module_version": "1.5.0",
          "state": {
            "_dom_classes": [],
            "_model_module": "@jupyter-widgets/controls",
            "_model_module_version": "1.5.0",
            "_model_name": "HTMLModel",
            "_view_count": null,
            "_view_module": "@jupyter-widgets/controls",
            "_view_module_version": "1.5.0",
            "_view_name": "HTMLView",
            "description": "",
            "description_tooltip": null,
            "layout": "IPY_MODEL_dda6271f1c114d8e9edeabe179ef31e9",
            "placeholder": "​",
            "style": "IPY_MODEL_435097f4ba7e4d5b8886541b1ba12e37",
            "value": "Generating gold_examples split: 100%"
          }
        },
        "1060d3672cfd4eb6b66d36e614f2bb97": {
          "model_module": "@jupyter-widgets/controls",
          "model_name": "FloatProgressModel",
          "model_module_version": "1.5.0",
          "state": {
            "_dom_classes": [],
            "_model_module": "@jupyter-widgets/controls",
            "_model_module_version": "1.5.0",
            "_model_name": "FloatProgressModel",
            "_view_count": null,
            "_view_module": "@jupyter-widgets/controls",
            "_view_module_version": "1.5.0",
            "_view_name": "ProgressView",
            "bar_style": "success",
            "description": "",
            "description_tooltip": null,
            "layout": "IPY_MODEL_d1f58eaa9d2e4b21869ec1f63c68596e",
            "max": 32,
            "min": 0,
            "orientation": "horizontal",
            "style": "IPY_MODEL_4b1fa66effea462ab382e9809b07bf44",
            "value": 32
          }
        },
        "338baf35cd3a4bf8863f404db9d01351": {
          "model_module": "@jupyter-widgets/controls",
          "model_name": "HTMLModel",
          "model_module_version": "1.5.0",
          "state": {
            "_dom_classes": [],
            "_model_module": "@jupyter-widgets/controls",
            "_model_module_version": "1.5.0",
            "_model_name": "HTMLModel",
            "_view_count": null,
            "_view_module": "@jupyter-widgets/controls",
            "_view_module_version": "1.5.0",
            "_view_name": "HTMLView",
            "description": "",
            "description_tooltip": null,
            "layout": "IPY_MODEL_f6b5a5f7db5c4dbebe6e0386413024ca",
            "placeholder": "​",
            "style": "IPY_MODEL_a89d74f278b7465f81059e54056793a3",
            "value": " 32/32 [00:00&lt;00:00, 1029.38 examples/s]"
          }
        },
        "04d9055541ae47849c84ebc847a05e18": {
          "model_module": "@jupyter-widgets/base",
          "model_name": "LayoutModel",
          "model_module_version": "1.2.0",
          "state": {
            "_model_module": "@jupyter-widgets/base",
            "_model_module_version": "1.2.0",
            "_model_name": "LayoutModel",
            "_view_count": null,
            "_view_module": "@jupyter-widgets/base",
            "_view_module_version": "1.2.0",
            "_view_name": "LayoutView",
            "align_content": null,
            "align_items": null,
            "align_self": null,
            "border": null,
            "bottom": null,
            "display": null,
            "flex": null,
            "flex_flow": null,
            "grid_area": null,
            "grid_auto_columns": null,
            "grid_auto_flow": null,
            "grid_auto_rows": null,
            "grid_column": null,
            "grid_gap": null,
            "grid_row": null,
            "grid_template_areas": null,
            "grid_template_columns": null,
            "grid_template_rows": null,
            "height": null,
            "justify_content": null,
            "justify_items": null,
            "left": null,
            "margin": null,
            "max_height": null,
            "max_width": null,
            "min_height": null,
            "min_width": null,
            "object_fit": null,
            "object_position": null,
            "order": null,
            "overflow": null,
            "overflow_x": null,
            "overflow_y": null,
            "padding": null,
            "right": null,
            "top": null,
            "visibility": null,
            "width": null
          }
        },
        "dda6271f1c114d8e9edeabe179ef31e9": {
          "model_module": "@jupyter-widgets/base",
          "model_name": "LayoutModel",
          "model_module_version": "1.2.0",
          "state": {
            "_model_module": "@jupyter-widgets/base",
            "_model_module_version": "1.2.0",
            "_model_name": "LayoutModel",
            "_view_count": null,
            "_view_module": "@jupyter-widgets/base",
            "_view_module_version": "1.2.0",
            "_view_name": "LayoutView",
            "align_content": null,
            "align_items": null,
            "align_self": null,
            "border": null,
            "bottom": null,
            "display": null,
            "flex": null,
            "flex_flow": null,
            "grid_area": null,
            "grid_auto_columns": null,
            "grid_auto_flow": null,
            "grid_auto_rows": null,
            "grid_column": null,
            "grid_gap": null,
            "grid_row": null,
            "grid_template_areas": null,
            "grid_template_columns": null,
            "grid_template_rows": null,
            "height": null,
            "justify_content": null,
            "justify_items": null,
            "left": null,
            "margin": null,
            "max_height": null,
            "max_width": null,
            "min_height": null,
            "min_width": null,
            "object_fit": null,
            "object_position": null,
            "order": null,
            "overflow": null,
            "overflow_x": null,
            "overflow_y": null,
            "padding": null,
            "right": null,
            "top": null,
            "visibility": null,
            "width": null
          }
        },
        "435097f4ba7e4d5b8886541b1ba12e37": {
          "model_module": "@jupyter-widgets/controls",
          "model_name": "DescriptionStyleModel",
          "model_module_version": "1.5.0",
          "state": {
            "_model_module": "@jupyter-widgets/controls",
            "_model_module_version": "1.5.0",
            "_model_name": "DescriptionStyleModel",
            "_view_count": null,
            "_view_module": "@jupyter-widgets/base",
            "_view_module_version": "1.2.0",
            "_view_name": "StyleView",
            "description_width": ""
          }
        },
        "d1f58eaa9d2e4b21869ec1f63c68596e": {
          "model_module": "@jupyter-widgets/base",
          "model_name": "LayoutModel",
          "model_module_version": "1.2.0",
          "state": {
            "_model_module": "@jupyter-widgets/base",
            "_model_module_version": "1.2.0",
            "_model_name": "LayoutModel",
            "_view_count": null,
            "_view_module": "@jupyter-widgets/base",
            "_view_module_version": "1.2.0",
            "_view_name": "LayoutView",
            "align_content": null,
            "align_items": null,
            "align_self": null,
            "border": null,
            "bottom": null,
            "display": null,
            "flex": null,
            "flex_flow": null,
            "grid_area": null,
            "grid_auto_columns": null,
            "grid_auto_flow": null,
            "grid_auto_rows": null,
            "grid_column": null,
            "grid_gap": null,
            "grid_row": null,
            "grid_template_areas": null,
            "grid_template_columns": null,
            "grid_template_rows": null,
            "height": null,
            "justify_content": null,
            "justify_items": null,
            "left": null,
            "margin": null,
            "max_height": null,
            "max_width": null,
            "min_height": null,
            "min_width": null,
            "object_fit": null,
            "object_position": null,
            "order": null,
            "overflow": null,
            "overflow_x": null,
            "overflow_y": null,
            "padding": null,
            "right": null,
            "top": null,
            "visibility": null,
            "width": null
          }
        },
        "4b1fa66effea462ab382e9809b07bf44": {
          "model_module": "@jupyter-widgets/controls",
          "model_name": "ProgressStyleModel",
          "model_module_version": "1.5.0",
          "state": {
            "_model_module": "@jupyter-widgets/controls",
            "_model_module_version": "1.5.0",
            "_model_name": "ProgressStyleModel",
            "_view_count": null,
            "_view_module": "@jupyter-widgets/base",
            "_view_module_version": "1.2.0",
            "_view_name": "StyleView",
            "bar_color": null,
            "description_width": ""
          }
        },
        "f6b5a5f7db5c4dbebe6e0386413024ca": {
          "model_module": "@jupyter-widgets/base",
          "model_name": "LayoutModel",
          "model_module_version": "1.2.0",
          "state": {
            "_model_module": "@jupyter-widgets/base",
            "_model_module_version": "1.2.0",
            "_model_name": "LayoutModel",
            "_view_count": null,
            "_view_module": "@jupyter-widgets/base",
            "_view_module_version": "1.2.0",
            "_view_name": "LayoutView",
            "align_content": null,
            "align_items": null,
            "align_self": null,
            "border": null,
            "bottom": null,
            "display": null,
            "flex": null,
            "flex_flow": null,
            "grid_area": null,
            "grid_auto_columns": null,
            "grid_auto_flow": null,
            "grid_auto_rows": null,
            "grid_column": null,
            "grid_gap": null,
            "grid_row": null,
            "grid_template_areas": null,
            "grid_template_columns": null,
            "grid_template_rows": null,
            "height": null,
            "justify_content": null,
            "justify_items": null,
            "left": null,
            "margin": null,
            "max_height": null,
            "max_width": null,
            "min_height": null,
            "min_width": null,
            "object_fit": null,
            "object_position": null,
            "order": null,
            "overflow": null,
            "overflow_x": null,
            "overflow_y": null,
            "padding": null,
            "right": null,
            "top": null,
            "visibility": null,
            "width": null
          }
        },
        "a89d74f278b7465f81059e54056793a3": {
          "model_module": "@jupyter-widgets/controls",
          "model_name": "DescriptionStyleModel",
          "model_module_version": "1.5.0",
          "state": {
            "_model_module": "@jupyter-widgets/controls",
            "_model_module_version": "1.5.0",
            "_model_name": "DescriptionStyleModel",
            "_view_count": null,
            "_view_module": "@jupyter-widgets/base",
            "_view_module_version": "1.2.0",
            "_view_name": "StyleView",
            "description_width": ""
          }
        }
      }
    }
  },
  "cells": [
    {
      "cell_type": "markdown",
      "source": [
        "# Learning Objectives\n",
        "\n",
        "Use Anyscale APIs to:\n",
        "- Design effective prompts and scale them\n",
        "- Implement zero-shot and few-shot prompts for classification and summarization\n",
        "- Illustrate how LLMs could be used to evaluate the output of summarization tasks"
      ],
      "metadata": {
        "id": "v1LJgyWNmZ8U"
      }
    },
    {
      "cell_type": "markdown",
      "source": [
        "# Setup"
      ],
      "metadata": {
        "id": "CHMPXikbmX-d"
      }
    },
    {
      "cell_type": "markdown",
      "source": [
        "Anyscale provides seamless integration with the OpenAI API to provide access to open source models. This is beneficial because we can switch over to Open AI APIs if needed with minimal code changes."
      ],
      "metadata": {
        "id": "gOovp2TUnghM"
      }
    },
    {
      "cell_type": "code",
      "source": [
        "!pip install -q openai==1.23.2 datasets"
      ],
      "metadata": {
        "colab": {
          "base_uri": "https://localhost:8080/"
        },
        "id": "2GEbx0_Wl9kR",
        "outputId": "2f9a9537-5966-4156-b260-5065b569b517"
      },
      "execution_count": 1,
      "outputs": [
        {
          "output_type": "stream",
          "name": "stdout",
          "text": [
            "\u001b[2K     \u001b[90m━━━━━━━━━━━━━━━━━━━━━━━━━━━━━━━━━━━━━━━━\u001b[0m \u001b[32m311.2/311.2 kB\u001b[0m \u001b[31m3.9 MB/s\u001b[0m eta \u001b[36m0:00:00\u001b[0m\n",
            "\u001b[2K     \u001b[90m━━━━━━━━━━━━━━━━━━━━━━━━━━━━━━━━━━━━━━━━\u001b[0m \u001b[32m542.0/542.0 kB\u001b[0m \u001b[31m7.8 MB/s\u001b[0m eta \u001b[36m0:00:00\u001b[0m\n",
            "\u001b[2K     \u001b[90m━━━━━━━━━━━━━━━━━━━━━━━━━━━━━━━━━━━━━━━━\u001b[0m \u001b[32m75.6/75.6 kB\u001b[0m \u001b[31m5.6 MB/s\u001b[0m eta \u001b[36m0:00:00\u001b[0m\n",
            "\u001b[2K     \u001b[90m━━━━━━━━━━━━━━━━━━━━━━━━━━━━━━━━━━━━━━━━\u001b[0m \u001b[32m116.3/116.3 kB\u001b[0m \u001b[31m6.4 MB/s\u001b[0m eta \u001b[36m0:00:00\u001b[0m\n",
            "\u001b[2K     \u001b[90m━━━━━━━━━━━━━━━━━━━━━━━━━━━━━━━━━━━━━━━━\u001b[0m \u001b[32m194.1/194.1 kB\u001b[0m \u001b[31m7.7 MB/s\u001b[0m eta \u001b[36m0:00:00\u001b[0m\n",
            "\u001b[2K     \u001b[90m━━━━━━━━━━━━━━━━━━━━━━━━━━━━━━━━━━━━━━━━\u001b[0m \u001b[32m134.8/134.8 kB\u001b[0m \u001b[31m8.9 MB/s\u001b[0m eta \u001b[36m0:00:00\u001b[0m\n",
            "\u001b[2K     \u001b[90m━━━━━━━━━━━━━━━━━━━━━━━━━━━━━━━━━━━━━━━━\u001b[0m \u001b[32m77.9/77.9 kB\u001b[0m \u001b[31m4.8 MB/s\u001b[0m eta \u001b[36m0:00:00\u001b[0m\n",
            "\u001b[2K     \u001b[90m━━━━━━━━━━━━━━━━━━━━━━━━━━━━━━━━━━━━━━━━\u001b[0m \u001b[32m58.3/58.3 kB\u001b[0m \u001b[31m4.4 MB/s\u001b[0m eta \u001b[36m0:00:00\u001b[0m\n",
            "\u001b[?25h"
          ]
        }
      ]
    },
    {
      "cell_type": "markdown",
      "source": [
        "# Authentication"
      ],
      "metadata": {
        "id": "63mZ2xytmsTc"
      }
    },
    {
      "cell_type": "markdown",
      "source": [
        "Paste your Anyscale API key in the secrets tab in the left panel."
      ],
      "metadata": {
        "id": "3J5b8_SRm3cA"
      }
    },
    {
      "cell_type": "markdown",
      "source": [
        "![image.png](data:image/png;base64,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)"
      ],
      "metadata": {
        "id": "kp-C-CE8m8nk"
      }
    },
    {
      "cell_type": "markdown",
      "source": [
        "Ensure that you enable notebook access"
      ],
      "metadata": {
        "id": "f9WZ8iKqnSUe"
      }
    },
    {
      "cell_type": "markdown",
      "source": [
        "![image.png](data:image/png;base64,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)"
      ],
      "metadata": {
        "id": "s_mxFB7fnQ65"
      }
    },
    {
      "cell_type": "markdown",
      "source": [
        "Note that this is a one-time process. The Anyscale API key is now available for all the notebooks linked to this Google account."
      ],
      "metadata": {
        "id": "dXi_1axjs5w1"
      }
    },
    {
      "cell_type": "code",
      "execution_count": 2,
      "metadata": {
        "id": "HKMjqQpFl4kd"
      },
      "outputs": [],
      "source": [
        "import pandas as pd\n",
        "\n",
        "from openai import OpenAI\n",
        "from datasets import load_dataset\n",
        "\n",
        "from google.colab import userdata\n",
        "from tqdm import tqdm"
      ]
    },
    {
      "cell_type": "markdown",
      "source": [
        "Now we can read the API key from Colab secrets. This way we do not expose our API keys in a notebook."
      ],
      "metadata": {
        "id": "Vw8EUgYgn7HJ"
      }
    },
    {
      "cell_type": "code",
      "source": [
        "anyscale_api_key = userdata.get('anyscale_api_key')"
      ],
      "metadata": {
        "id": "v3TzU6ZpnxD-"
      },
      "execution_count": 3,
      "outputs": []
    },
    {
      "cell_type": "code",
      "source": [
        "client = OpenAI(\n",
        "    base_url=\"https://api.endpoints.anyscale.com/v1\",\n",
        "    api_key=anyscale_api_key\n",
        ")"
      ],
      "metadata": {
        "id": "YxEMDfdxnzfJ"
      },
      "execution_count": 4,
      "outputs": []
    },
    {
      "cell_type": "code",
      "source": [
        "model_name = 'mlabonne/NeuralHermes-2.5-Mistral-7B'"
      ],
      "metadata": {
        "id": "bqPNG9DFoKeU"
      },
      "execution_count": 5,
      "outputs": []
    },
    {
      "cell_type": "markdown",
      "source": [
        "# ChatCompletions API"
      ],
      "metadata": {
        "id": "q_BO4rOgoW9s"
      }
    },
    {
      "cell_type": "code",
      "source": [
        "user_input = \"\"\"\n",
        "Assign sentiment to the following product review. Answer only in one word.\n",
        "\n",
        "### Review:\n",
        "The price is definitely justified for airpods pro 2.\n",
        "Pros:\n",
        "\n",
        "- noise cancellation is amazing\n",
        "- Dolby Atmos perfect\n",
        "- spatial audio works accurately, head tracking so good\n",
        "- I can hear more instruments in the songs which I didn't hear it before😀\n",
        "- the earpods volume will be lowered if you're start speaking to someone, I was suprised about this feature\n",
        "\n",
        "Cons:\n",
        "\n",
        "- touch controls placement is at the end of the earpods, means you have to slightly touch it to operate the volume or next song. Etc..since my fingers are big I found it little difficult operate\n",
        "\"\"\""
      ],
      "metadata": {
        "id": "GapbHPamp2Kt"
      },
      "execution_count": 6,
      "outputs": []
    },
    {
      "cell_type": "code",
      "source": [
        "response = client.chat.completions.create(\n",
        "    model=model_name,\n",
        "    messages=[\n",
        "        {\"role\": \"user\", \"content\": user_input}\n",
        "    ]\n",
        ")"
      ],
      "metadata": {
        "id": "Mu0y_6tAoQme"
      },
      "execution_count": 7,
      "outputs": []
    },
    {
      "cell_type": "markdown",
      "source": [
        "Notice the above messages format. It is a list of dictionaries where the role of the message demarcates the input."
      ],
      "metadata": {
        "id": "-zzHfU-orcSQ"
      }
    },
    {
      "cell_type": "code",
      "source": [
        "response.model_dump()"
      ],
      "metadata": {
        "colab": {
          "base_uri": "https://localhost:8080/"
        },
        "id": "16qW97U_qW1f",
        "outputId": "95a51226-d189-43a3-e68b-090131847cd0"
      },
      "execution_count": 8,
      "outputs": [
        {
          "output_type": "execute_result",
          "data": {
            "text/plain": [
              "{'id': 'mlabonne/NeuralHermes-2.5-Mistral-7B-bbe18eae-f789-4d27-a1f3-380790375daa',\n",
              " 'choices': [{'finish_reason': 'stop',\n",
              "   'index': 0,\n",
              "   'logprobs': None,\n",
              "   'message': {'content': 'Positive',\n",
              "    'role': 'assistant',\n",
              "    'function_call': None,\n",
              "    'tool_calls': None,\n",
              "    'tool_call_id': None}}],\n",
              " 'created': 1716554771,\n",
              " 'model': 'mlabonne/NeuralHermes-2.5-Mistral-7B',\n",
              " 'object': 'text_completion',\n",
              " 'system_fingerprint': None,\n",
              " 'usage': {'completion_tokens': 3, 'prompt_tokens': 220, 'total_tokens': 223}}"
            ]
          },
          "metadata": {},
          "execution_count": 8
        }
      ]
    },
    {
      "cell_type": "markdown",
      "source": [
        "We can extract the prediction from the model like so:"
      ],
      "metadata": {
        "id": "5mMlom_xq4mZ"
      }
    },
    {
      "cell_type": "code",
      "source": [
        "response.choices[0].message.content"
      ],
      "metadata": {
        "colab": {
          "base_uri": "https://localhost:8080/",
          "height": 35
        },
        "id": "UvLt-HRVqcG6",
        "outputId": "500b89cf-c617-43fd-d165-b9f3ac291df6"
      },
      "execution_count": 9,
      "outputs": [
        {
          "output_type": "execute_result",
          "data": {
            "text/plain": [
              "'Positive'"
            ],
            "application/vnd.google.colaboratory.intrinsic+json": {
              "type": "string"
            }
          },
          "metadata": {},
          "execution_count": 9
        }
      ]
    },
    {
      "cell_type": "markdown",
      "source": [
        "The token usage metrics are also included in the response and can be extracted like so:"
      ],
      "metadata": {
        "id": "64h6ymd1tFYB"
      }
    },
    {
      "cell_type": "code",
      "source": [
        "response.usage"
      ],
      "metadata": {
        "colab": {
          "base_uri": "https://localhost:8080/"
        },
        "id": "KCohf8zAtI5T",
        "outputId": "bd7c189e-eb88-4fde-ce45-a2529d1df9c2"
      },
      "execution_count": 10,
      "outputs": [
        {
          "output_type": "execute_result",
          "data": {
            "text/plain": [
              "CompletionUsage(completion_tokens=3, prompt_tokens=220, total_tokens=223)"
            ]
          },
          "metadata": {},
          "execution_count": 10
        }
      ]
    },
    {
      "cell_type": "markdown",
      "source": [
        "# Prompt Parameters"
      ],
      "metadata": {
        "id": "GXsBx6WerPxq"
      }
    },
    {
      "cell_type": "markdown",
      "source": [
        "Two important parameters modify the nature of output from the LLM - `temperature` and `max_tokens`. Temperature is the most important parameter that controls the variability in the output. In situations where a creative output is expected, having a high temperature is beneficial."
      ],
      "metadata": {
        "id": "l1r8eK8FrTPR"
      }
    },
    {
      "cell_type": "code",
      "source": [
        "user_input = \"\"\"\n",
        "You are a marketer for the gaming company Razer.\n",
        "Below is the metadata about the Razer Ornata V3 X gaming keyboard:\n",
        "Brand: Razer\n",
        "Series: Ornata V3 X\n",
        "Item model number: RZ03-04470200-R3U1\n",
        "Hardware Platform: PC\n",
        "Operating System: Microsoft Windows\n",
        "Item Weight: 2.97 pounds\n",
        "Product Dimensions: 17.46 x 5.68 x 1.23 inches\n",
        "Item Dimensions LxWxH: 17.46 x 5.68 x 1.23 inches\n",
        "Color: Classic Black\n",
        "Manufacturer: Razer\n",
        "Language: English\n",
        "ASIN: B09X6GJ691\n",
        "Special Features: Low-Profile Keys, Spill Resistant, Ergonomic Wrist Rest, Chroma RGB Lighting, Silent Membrane Switches, Cable Routing Options\n",
        "With this information, write a sleek \"About this item\" description that will be used on its Amazon product page.\n",
        "Use bullet points to delineate key features mentioned in the description.\n",
        "\"\"\""
      ],
      "metadata": {
        "id": "k5yGO8V4q0m9"
      },
      "execution_count": 11,
      "outputs": []
    },
    {
      "cell_type": "code",
      "source": [
        "response = client.chat.completions.create(\n",
        "    model=model_name,\n",
        "    messages=[\n",
        "        {\"role\": \"user\", \"content\": user_input}\n",
        "    ],\n",
        "    temperature=0.4\n",
        ")"
      ],
      "metadata": {
        "id": "jeAkViBcrZet"
      },
      "execution_count": 12,
      "outputs": []
    },
    {
      "cell_type": "code",
      "source": [
        "print(response.choices[0].message.content)"
      ],
      "metadata": {
        "colab": {
          "base_uri": "https://localhost:8080/"
        },
        "id": "PRVYaafTscEY",
        "outputId": "d0fd277a-ca2c-4181-d2c1-bc0a00731bbc"
      },
      "execution_count": 13,
      "outputs": [
        {
          "output_type": "stream",
          "name": "stdout",
          "text": [
            "Introducing the Razer Ornata V3 X Gaming Keyboard - a masterpiece of innovation and style, tailored to elevate your gaming experience.\n",
            "\n",
            "• Unleash the Power of Chroma RGB: Customize your keyboard with 16.8 million color options, synchronize lighting effects with other Chroma-enabled devices, and immerse yourself in a world of vibrant visuals.\n",
            "\n",
            "• Low-Profile Keys for Precision: Experience the perfect blend of tactile feedback and speed with our low-profile mechanical switches. They're designed to provide ultimate responsiveness and accuracy for every keystroke.\n",
            "\n",
            "• Spill-Resistant for Peace of Mind: Accidents happen, but not with the Ornata V3 X. Its advanced design ensures your keyboard can withstand liquid spills, giving you the confidence to game without worry.\n",
            "\n",
            "• Ergonomic Wrist Rest for Comfort: The detachable, soft-touch wrist rest is designed to reduce fatigue and strain during those intense gaming sessions, ensuring your hands stay comfortable for hours on end.\n",
            "\n",
            "• Silent Membrane Switches for Quiet Gaming: Enjoy a quieter gaming environment without sacrificing performance. The Ornata V3 X features silent membrane switches that provide a whisper-quiet typing experience.\n",
            "\n",
            "• Cable Routing Options for Tidy Setup: Customize your cable management with multiple routing options, keeping your desk organized and clutter-free for a cleaner, more professional setup.\n",
            "\n",
            "Experience the ultimate in gaming comfort, performance, and style with the Razer Ornata V3 X Gaming Keyboard.\n"
          ]
        }
      ]
    },
    {
      "cell_type": "markdown",
      "source": [
        "We can modify the output length like so:"
      ],
      "metadata": {
        "id": "1LqOWR_hsl7S"
      }
    },
    {
      "cell_type": "code",
      "source": [
        "response = client.chat.completions.create(\n",
        "    model=model_name,\n",
        "    messages=[\n",
        "        {\"role\": \"user\", \"content\": user_input}\n",
        "    ],\n",
        "    temperature=0.4,\n",
        "    max_tokens=800\n",
        ")"
      ],
      "metadata": {
        "id": "HjJOnJpYsi8m"
      },
      "execution_count": 14,
      "outputs": []
    },
    {
      "cell_type": "code",
      "source": [
        "print(response.choices[0].message.content)"
      ],
      "metadata": {
        "colab": {
          "base_uri": "https://localhost:8080/"
        },
        "id": "91HdIyq_spvn",
        "outputId": "0e9cc55f-133d-4b95-8a22-3173696dae99"
      },
      "execution_count": 15,
      "outputs": [
        {
          "output_type": "stream",
          "name": "stdout",
          "text": [
            "Introducing the Razer Ornata V3 X Gaming Keyboard - a masterpiece of design and functionality, tailored to elevate your gaming experience.\n",
            "\n",
            "- Sleek and Sturdy: Weighing in at 2.97 pounds, this keyboard boasts a robust construction that's built to withstand the rigors of intense gaming sessions.\n",
            "\n",
            "- Ergonomic Comfort: The Ornata V3 X features an ergonomic wrist rest, ensuring that you can game for hours without experiencing discomfort or strain.\n",
            "\n",
            "- Low-Profile Keys: The low-profile keys on this keyboard offer an optimal balance between responsiveness and tactile feedback, giving you the competitive edge you need in fast-paced games.\n",
            "\n",
            "- Spill Resistant: Accidents happen, but worry not! With the Razer Ornata V3 X's spill-resistant design, you can focus on your game without fear of liquid damage.\n",
            "\n",
            "- RGB Lighting Spectacle: Customize your keyboard with the stunning Chroma RGB lighting, offering 16.8 million color options to match your style or set the perfect gaming ambiance.\n",
            "\n",
            "- Silent Membrane Switches: Experience the best of both worlds - the quietness of a membrane keyboard with the tactile feedback of a mechanical one, thanks to Razer's innovative Silent Membrane Switches.\n",
            "\n",
            "- Versatile Connectivity: The Razer Ornata V3 X is compatible with PCs running Microsoft Windows, ensuring seamless integration with your gaming setup.\n",
            "\n",
            "- Compact Design: With dimensions of 17.46 x 5.68 x 1.23 inches, this keyboard is designed to fit comfortably on any desk without compromising on functionality.\n",
            "\n",
            "Experience the perfect blend of style, comfort, and performance with the Razer Ornata V3 X Gaming Keyboard. Get ready to take your gaming to new heights with this remarkable addition to your setup.\n"
          ]
        }
      ]
    },
    {
      "cell_type": "markdown",
      "source": [
        "# Zero-shot Prompt"
      ],
      "metadata": {
        "id": "XdD7aPnotDGF"
      }
    },
    {
      "cell_type": "markdown",
      "source": [
        "The key idea behind zero-shot prompts is that the model can leverage its general language understanding and knowledge to generate relevant responses, even for tasks it has not been explicitly trained on. This is achieved by providing the model with a prompt that includes a description or instruction about the desired task or topic, without any additional training data specific to that task.\n",
        "\n",
        "Zero-shot prompts are useful in simple classification scenarios (for e.g., sentiment assignment)."
      ],
      "metadata": {
        "id": "ZkYRdRLjtGHW"
      }
    },
    {
      "cell_type": "markdown",
      "source": [
        "![image.png](data:image/png;base64,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)"
      ],
      "metadata": {
        "id": "8GBp3cCf-wGf"
      }
    },
    {
      "cell_type": "code",
      "source": [
        "system_message = \"\"\"\n",
        "Classify customer reviews in the input as positive or negative in sentiment.\n",
        "Do not explain your answer. Your answer should only contain the label: positive or negative.\n",
        "\"\"\""
      ],
      "metadata": {
        "id": "Vxz70cH_svlT"
      },
      "execution_count": 16,
      "outputs": []
    },
    {
      "cell_type": "code",
      "source": [
        "user_message_template = \"###Review: {review}\""
      ],
      "metadata": {
        "id": "boQkvVn8thrw"
      },
      "execution_count": 17,
      "outputs": []
    },
    {
      "cell_type": "markdown",
      "source": [
        "Using a template for user input allows us to replace the placeholder `{review}` dynamically using string formatting."
      ],
      "metadata": {
        "id": "dryFbJBgt3s2"
      }
    },
    {
      "cell_type": "code",
      "source": [
        "customer_review = \"\"\"\n",
        "I couldn't be happier with my experience at your store!\n",
        "The staff went above and beyond to assist me, providing exceptional customer service.\n",
        "They were friendly, knowledgeable, and genuinely eager to help.\n",
        "The product I purchased exceeded my expectations and was exactly what I was looking for.\n",
        "From start to finish, everything was seamless and enjoyable.\n",
        "I will definitely be returning and recommending your store to all my friends and family.\n",
        "Thank you for making my shopping experience so wonderful!\n",
        "\"\"\""
      ],
      "metadata": {
        "id": "6CJdChGotrqT"
      },
      "execution_count": 18,
      "outputs": []
    },
    {
      "cell_type": "code",
      "source": [
        "user_input = user_message_template.format(review=customer_review)"
      ],
      "metadata": {
        "id": "0g32LWO3tyzU"
      },
      "execution_count": 19,
      "outputs": []
    },
    {
      "cell_type": "markdown",
      "source": [
        "Notice how we are using Python's string formatting methods to replace the variable `review` with `customer_review`."
      ],
      "metadata": {
        "id": "YFlX7sHrxvYm"
      }
    },
    {
      "cell_type": "code",
      "source": [
        "zero_shot_prompt = [\n",
        "    {\"role\": \"system\", \"content\": system_message},\n",
        "    {\"role\": \"user\", \"content\": user_input}\n",
        "]"
      ],
      "metadata": {
        "id": "9pZ1O9YhtwGM"
      },
      "execution_count": 20,
      "outputs": []
    },
    {
      "cell_type": "markdown",
      "source": [
        "Notice how the prompt now has two roles: `system` and `user`."
      ],
      "metadata": {
        "id": "2FmG4N1duB00"
      }
    },
    {
      "cell_type": "code",
      "source": [
        "response = client.chat.completions.create(\n",
        "    model=model_name,\n",
        "    messages=zero_shot_prompt,\n",
        "    temperature=0\n",
        ")"
      ],
      "metadata": {
        "id": "Sa1C81Ndt2Za"
      },
      "execution_count": 21,
      "outputs": []
    },
    {
      "cell_type": "code",
      "source": [
        "print(response.choices[0].message.content)"
      ],
      "metadata": {
        "colab": {
          "base_uri": "https://localhost:8080/"
        },
        "id": "6UneXERhuLFV",
        "outputId": "b2cb6477-dc2c-402c-918b-461055ba2ed4"
      },
      "execution_count": 22,
      "outputs": [
        {
          "output_type": "stream",
          "name": "stdout",
          "text": [
            "positive\n"
          ]
        }
      ]
    },
    {
      "cell_type": "markdown",
      "source": [
        "We can now use the same user message template for a different review."
      ],
      "metadata": {
        "id": "43u5CXENuShM"
      }
    },
    {
      "cell_type": "code",
      "source": [
        "customer_review = \"\"\"\"\n",
        "I am extremely disappointed with the service I received at your store!\n",
        "The staff was rude and unhelpful, showing no regard for my concerns.\n",
        "Not only did they ignore my requests for assistance, but they also had the audacity to speak to me condescendingly.\n",
        "It's clear that your company values profit over customer satisfaction.\n",
        "I will never shop here again and will make sure to spread the word about my awful experience.\n",
        "You've lost a loyal customer, and I hope others steer clear of your establishment!\n",
        "\"\"\""
      ],
      "metadata": {
        "id": "tAH_yGExuN-j"
      },
      "execution_count": 23,
      "outputs": []
    },
    {
      "cell_type": "code",
      "source": [
        "user_input = user_message_template.format(review=customer_review)\n",
        "\n",
        "zero_shot_prompt = [\n",
        "    {\"role\": \"system\", \"content\": system_message},\n",
        "    {\"role\": \"user\", \"content\": user_input}\n",
        "]\n",
        "\n",
        "response = client.chat.completions.create(\n",
        "    model=model_name,\n",
        "    messages=zero_shot_prompt,\n",
        "    temperature=0\n",
        ")\n",
        "\n",
        "print(response.choices[0].message.content)"
      ],
      "metadata": {
        "colab": {
          "base_uri": "https://localhost:8080/"
        },
        "id": "-xTphgj3uVzJ",
        "outputId": "5a3153f3-b864-497b-af63-aae2f8b95b02"
      },
      "execution_count": 24,
      "outputs": [
        {
          "output_type": "stream",
          "name": "stdout",
          "text": [
            "negative\n"
          ]
        }
      ]
    },
    {
      "cell_type": "markdown",
      "source": [
        "The performance of the prompt on a set of examples cna be measured using the usual classification metrics such as accuracy or F1 score."
      ],
      "metadata": {
        "id": "Hk_kLYbxsBOt"
      }
    },
    {
      "cell_type": "markdown",
      "source": [
        "# Few-shot prompt"
      ],
      "metadata": {
        "id": "zYBc00Ciu7HT"
      }
    },
    {
      "cell_type": "markdown",
      "source": [
        "The idea behind few-shot prompts is to adapt a pre-trained model using a small number of examples or demonstrations related to the target task. This allows the model to observe task-specific patterns and improve its performance on that particular task. The key idea here is to provide instructive examples of expected outputs."
      ],
      "metadata": {
        "id": "T0eogvd4yh-6"
      }
    },
    {
      "cell_type": "markdown",
      "source": [
        "![image.png](data:image/png;base64,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)"
      ],
      "metadata": {
        "id": "o5AkNvjK-nVK"
      }
    },
    {
      "cell_type": "code",
      "source": [
        "dataset = load_dataset(\"pgurazada1/dialogsum\")"
      ],
      "metadata": {
        "colab": {
          "base_uri": "https://localhost:8080/",
          "height": 177,
          "referenced_widgets": [
            "5d37b2da793640d8bb0508a11c98d223",
            "594f97173c7d42dfbe79041da69b642b",
            "2b812f7653c04e589c371dffee4059fb",
            "9ed965290436484dae2eb2cfdfadff75",
            "1a0a0f0ee0094b61a8adf7456928ce3a",
            "293433d7f178492aa8368b1c7da2fb5c",
            "26b99c0148204467811a0576b3146de2",
            "4502c186650449b39946ecc83c0b53a3",
            "f0776b6880034aa58ca7d53dfab2bd44",
            "60492216818c426ebb4a247335575c2d",
            "31514f45981b4d2eaa026cd8cdfad3f0",
            "3bfac462d6734fb089a2d9f5881e6e7b",
            "7c90f6d1dfe941668fcc6f7ff5e69d21",
            "fa2d0d365f2c40bc97ce707a92fadaf9",
            "ec5d5eb2927b4d42b2a20034b7786a01",
            "b3b977df50444f7fa70d3449f9bd9913",
            "1d1adcb82bd74d7b884cc1daf535cadb",
            "cf060eec025c4a34902abf2eee53c8a8",
            "6109cd7e40144d4eb26b3bcf22c9f635",
            "7332a94a99624128a4d7231d97d5039d",
            "4c34bc95e42b4301900c65049cb1afbc",
            "834038dd62124fdd8f87f4d0d9696e8f",
            "40bec1ff82014b86bf4da24f459fa834",
            "5925203068da4094800171644513b411",
            "be6f25a0dae448e192246675239827da",
            "38312c0430e445b8aa44ce6654e2f93a",
            "d588af464ad2420bbab6707bae18ea66",
            "06b43869440744c495ede4e6f9960628",
            "a951d54fdbb64efcb5f45e998ca34d7e",
            "b8ba91ffc4354b1e840ac027d3f3eb78",
            "3d60bc3000e44407a38026e1b5f9b221",
            "97c32204e4564164a0e2037adfe859f1",
            "5c3e33b1dba44a2f82fa8c13dadf1534",
            "e05c329fccbf4587951b0bdda146cde0",
            "ea921e129d064765a13c60b06c2b7a5f",
            "d1fac2477b96424c96937c000a3d0433",
            "f0170e10431046e0bb464381de1ee6ef",
            "6e2c1094f7a64ce5bcb53a88d76dc172",
            "f86cbb0e0590493fb4bfe68677be55f7",
            "2e3a330885d04635a798071bfa09c73a",
            "3484b8749eae49d0a6a7bf0ce7fa3b5c",
            "4fca9532c79646b4858645bd318687a7",
            "d30716dcee0f405e9cfe2291c4e20830",
            "e87fd578eeb84a88ab9381cf8bee5010",
            "a95cda6c9e264214a4b11ce36acccce8",
            "4548ab389e084d1ba891edd806a101c2",
            "1060d3672cfd4eb6b66d36e614f2bb97",
            "338baf35cd3a4bf8863f404db9d01351",
            "04d9055541ae47849c84ebc847a05e18",
            "dda6271f1c114d8e9edeabe179ef31e9",
            "435097f4ba7e4d5b8886541b1ba12e37",
            "d1f58eaa9d2e4b21869ec1f63c68596e",
            "4b1fa66effea462ab382e9809b07bf44",
            "f6b5a5f7db5c4dbebe6e0386413024ca",
            "a89d74f278b7465f81059e54056793a3"
          ]
        },
        "id": "uj-JwOwDug0R",
        "outputId": "966363ad-4b41-42e5-c1b2-a30327000932"
      },
      "execution_count": 25,
      "outputs": [
        {
          "output_type": "display_data",
          "data": {
            "text/plain": [
              "Downloading readme:   0%|          | 0.00/287 [00:00<?, ?B/s]"
            ],
            "application/vnd.jupyter.widget-view+json": {
              "version_major": 2,
              "version_minor": 0,
              "model_id": "5d37b2da793640d8bb0508a11c98d223"
            }
          },
          "metadata": {}
        },
        {
          "output_type": "display_data",
          "data": {
            "text/plain": [
              "Downloading data:   0%|          | 0.00/29.8k [00:00<?, ?B/s]"
            ],
            "application/vnd.jupyter.widget-view+json": {
              "version_major": 2,
              "version_minor": 0,
              "model_id": "3bfac462d6734fb089a2d9f5881e6e7b"
            }
          },
          "metadata": {}
        },
        {
          "output_type": "display_data",
          "data": {
            "text/plain": [
              "Downloading data:   0%|          | 0.00/24.1k [00:00<?, ?B/s]"
            ],
            "application/vnd.jupyter.widget-view+json": {
              "version_major": 2,
              "version_minor": 0,
              "model_id": "40bec1ff82014b86bf4da24f459fa834"
            }
          },
          "metadata": {}
        },
        {
          "output_type": "display_data",
          "data": {
            "text/plain": [
              "Generating examples split:   0%|          | 0/32 [00:00<?, ? examples/s]"
            ],
            "application/vnd.jupyter.widget-view+json": {
              "version_major": 2,
              "version_minor": 0,
              "model_id": "e05c329fccbf4587951b0bdda146cde0"
            }
          },
          "metadata": {}
        },
        {
          "output_type": "display_data",
          "data": {
            "text/plain": [
              "Generating gold_examples split:   0%|          | 0/32 [00:00<?, ? examples/s]"
            ],
            "application/vnd.jupyter.widget-view+json": {
              "version_major": 2,
              "version_minor": 0,
              "model_id": "a95cda6c9e264214a4b11ce36acccce8"
            }
          },
          "metadata": {}
        }
      ]
    },
    {
      "cell_type": "markdown",
      "source": [
        "Let us now assemble 4 examples from this dataset of 32 dialogue examples."
      ],
      "metadata": {
        "id": "HnAS-aquzBDw"
      }
    },
    {
      "cell_type": "code",
      "source": [
        "dialogue_summary_examples_df = dataset['examples'].to_pandas()"
      ],
      "metadata": {
        "id": "bk_wmd87zJ_I"
      },
      "execution_count": 28,
      "outputs": []
    },
    {
      "cell_type": "code",
      "source": [
        "examples_df = dialogue_summary_examples_df.sample(4)"
      ],
      "metadata": {
        "id": "IY4WSdiJzM13"
      },
      "execution_count": 29,
      "outputs": []
    },
    {
      "cell_type": "code",
      "source": [
        "examples_df"
      ],
      "metadata": {
        "colab": {
          "base_uri": "https://localhost:8080/",
          "height": 175
        },
        "id": "OjPJQK2Dzwdx",
        "outputId": "c990246b-de07-4425-d277-9070ecb70366"
      },
      "execution_count": 30,
      "outputs": [
        {
          "output_type": "execute_result",
          "data": {
            "text/plain": [
              "                                             dialogue  \\\n",
              "18  #Person1#: Don't be too sad. If you really thi...   \n",
              "1   #Person1#: Hey. Owen! Have you gone on your fa...   \n",
              "9   #Person1#: Hello. May I help you?\\n#Person2#: ...   \n",
              "23  #Person1#: When could we meet to discuss the p...   \n",
              "\n",
              "                                              summary  \n",
              "18  #Person1# encourages #Person2# to divorce but ...  \n",
              "1   Owen tells #Person1# he and his family went to...  \n",
              "9   #Person2# checks the arrival of #Person2#'s co...  \n",
              "23  #Person1# and #Person2# schedules their projec...  "
            ],
            "text/html": [
              "\n",
              "  <div id=\"df-b7e5170a-8c78-4fc8-ab3f-d9f188c2eaa3\" class=\"colab-df-container\">\n",
              "    <div>\n",
              "<style scoped>\n",
              "    .dataframe tbody tr th:only-of-type {\n",
              "        vertical-align: middle;\n",
              "    }\n",
              "\n",
              "    .dataframe tbody tr th {\n",
              "        vertical-align: top;\n",
              "    }\n",
              "\n",
              "    .dataframe thead th {\n",
              "        text-align: right;\n",
              "    }\n",
              "</style>\n",
              "<table border=\"1\" class=\"dataframe\">\n",
              "  <thead>\n",
              "    <tr style=\"text-align: right;\">\n",
              "      <th></th>\n",
              "      <th>dialogue</th>\n",
              "      <th>summary</th>\n",
              "    </tr>\n",
              "  </thead>\n",
              "  <tbody>\n",
              "    <tr>\n",
              "      <th>18</th>\n",
              "      <td>#Person1#: Don't be too sad. If you really thi...</td>\n",
              "      <td>#Person1# encourages #Person2# to divorce but ...</td>\n",
              "    </tr>\n",
              "    <tr>\n",
              "      <th>1</th>\n",
              "      <td>#Person1#: Hey. Owen! Have you gone on your fa...</td>\n",
              "      <td>Owen tells #Person1# he and his family went to...</td>\n",
              "    </tr>\n",
              "    <tr>\n",
              "      <th>9</th>\n",
              "      <td>#Person1#: Hello. May I help you?\\n#Person2#: ...</td>\n",
              "      <td>#Person2# checks the arrival of #Person2#'s co...</td>\n",
              "    </tr>\n",
              "    <tr>\n",
              "      <th>23</th>\n",
              "      <td>#Person1#: When could we meet to discuss the p...</td>\n",
              "      <td>#Person1# and #Person2# schedules their projec...</td>\n",
              "    </tr>\n",
              "  </tbody>\n",
              "</table>\n",
              "</div>\n",
              "    <div class=\"colab-df-buttons\">\n",
              "\n",
              "  <div class=\"colab-df-container\">\n",
              "    <button class=\"colab-df-convert\" onclick=\"convertToInteractive('df-b7e5170a-8c78-4fc8-ab3f-d9f188c2eaa3')\"\n",
              "            title=\"Convert this dataframe to an interactive table.\"\n",
              "            style=\"display:none;\">\n",
              "\n",
              "  <svg xmlns=\"http://www.w3.org/2000/svg\" height=\"24px\" viewBox=\"0 -960 960 960\">\n",
              "    <path d=\"M120-120v-720h720v720H120Zm60-500h600v-160H180v160Zm220 220h160v-160H400v160Zm0 220h160v-160H400v160ZM180-400h160v-160H180v160Zm440 0h160v-160H620v160ZM180-180h160v-160H180v160Zm440 0h160v-160H620v160Z\"/>\n",
              "  </svg>\n",
              "    </button>\n",
              "\n",
              "  <style>\n",
              "    .colab-df-container {\n",
              "      display:flex;\n",
              "      gap: 12px;\n",
              "    }\n",
              "\n",
              "    .colab-df-convert {\n",
              "      background-color: #E8F0FE;\n",
              "      border: none;\n",
              "      border-radius: 50%;\n",
              "      cursor: pointer;\n",
              "      display: none;\n",
              "      fill: #1967D2;\n",
              "      height: 32px;\n",
              "      padding: 0 0 0 0;\n",
              "      width: 32px;\n",
              "    }\n",
              "\n",
              "    .colab-df-convert:hover {\n",
              "      background-color: #E2EBFA;\n",
              "      box-shadow: 0px 1px 2px rgba(60, 64, 67, 0.3), 0px 1px 3px 1px rgba(60, 64, 67, 0.15);\n",
              "      fill: #174EA6;\n",
              "    }\n",
              "\n",
              "    .colab-df-buttons div {\n",
              "      margin-bottom: 4px;\n",
              "    }\n",
              "\n",
              "    [theme=dark] .colab-df-convert {\n",
              "      background-color: #3B4455;\n",
              "      fill: #D2E3FC;\n",
              "    }\n",
              "\n",
              "    [theme=dark] .colab-df-convert:hover {\n",
              "      background-color: #434B5C;\n",
              "      box-shadow: 0px 1px 3px 1px rgba(0, 0, 0, 0.15);\n",
              "      filter: drop-shadow(0px 1px 2px rgba(0, 0, 0, 0.3));\n",
              "      fill: #FFFFFF;\n",
              "    }\n",
              "  </style>\n",
              "\n",
              "    <script>\n",
              "      const buttonEl =\n",
              "        document.querySelector('#df-b7e5170a-8c78-4fc8-ab3f-d9f188c2eaa3 button.colab-df-convert');\n",
              "      buttonEl.style.display =\n",
              "        google.colab.kernel.accessAllowed ? 'block' : 'none';\n",
              "\n",
              "      async function convertToInteractive(key) {\n",
              "        const element = document.querySelector('#df-b7e5170a-8c78-4fc8-ab3f-d9f188c2eaa3');\n",
              "        const dataTable =\n",
              "          await google.colab.kernel.invokeFunction('convertToInteractive',\n",
              "                                                    [key], {});\n",
              "        if (!dataTable) return;\n",
              "\n",
              "        const docLinkHtml = 'Like what you see? Visit the ' +\n",
              "          '<a target=\"_blank\" href=https://colab.research.google.com/notebooks/data_table.ipynb>data table notebook</a>'\n",
              "          + ' to learn more about interactive tables.';\n",
              "        element.innerHTML = '';\n",
              "        dataTable['output_type'] = 'display_data';\n",
              "        await google.colab.output.renderOutput(dataTable, element);\n",
              "        const docLink = document.createElement('div');\n",
              "        docLink.innerHTML = docLinkHtml;\n",
              "        element.appendChild(docLink);\n",
              "      }\n",
              "    </script>\n",
              "  </div>\n",
              "\n",
              "\n",
              "<div id=\"df-240ef867-27f6-4a56-a367-81ccb4e588d9\">\n",
              "  <button class=\"colab-df-quickchart\" onclick=\"quickchart('df-240ef867-27f6-4a56-a367-81ccb4e588d9')\"\n",
              "            title=\"Suggest charts\"\n",
              "            style=\"display:none;\">\n",
              "\n",
              "<svg xmlns=\"http://www.w3.org/2000/svg\" height=\"24px\"viewBox=\"0 0 24 24\"\n",
              "     width=\"24px\">\n",
              "    <g>\n",
              "        <path d=\"M19 3H5c-1.1 0-2 .9-2 2v14c0 1.1.9 2 2 2h14c1.1 0 2-.9 2-2V5c0-1.1-.9-2-2-2zM9 17H7v-7h2v7zm4 0h-2V7h2v10zm4 0h-2v-4h2v4z\"/>\n",
              "    </g>\n",
              "</svg>\n",
              "  </button>\n",
              "\n",
              "<style>\n",
              "  .colab-df-quickchart {\n",
              "      --bg-color: #E8F0FE;\n",
              "      --fill-color: #1967D2;\n",
              "      --hover-bg-color: #E2EBFA;\n",
              "      --hover-fill-color: #174EA6;\n",
              "      --disabled-fill-color: #AAA;\n",
              "      --disabled-bg-color: #DDD;\n",
              "  }\n",
              "\n",
              "  [theme=dark] .colab-df-quickchart {\n",
              "      --bg-color: #3B4455;\n",
              "      --fill-color: #D2E3FC;\n",
              "      --hover-bg-color: #434B5C;\n",
              "      --hover-fill-color: #FFFFFF;\n",
              "      --disabled-bg-color: #3B4455;\n",
              "      --disabled-fill-color: #666;\n",
              "  }\n",
              "\n",
              "  .colab-df-quickchart {\n",
              "    background-color: var(--bg-color);\n",
              "    border: none;\n",
              "    border-radius: 50%;\n",
              "    cursor: pointer;\n",
              "    display: none;\n",
              "    fill: var(--fill-color);\n",
              "    height: 32px;\n",
              "    padding: 0;\n",
              "    width: 32px;\n",
              "  }\n",
              "\n",
              "  .colab-df-quickchart:hover {\n",
              "    background-color: var(--hover-bg-color);\n",
              "    box-shadow: 0 1px 2px rgba(60, 64, 67, 0.3), 0 1px 3px 1px rgba(60, 64, 67, 0.15);\n",
              "    fill: var(--button-hover-fill-color);\n",
              "  }\n",
              "\n",
              "  .colab-df-quickchart-complete:disabled,\n",
              "  .colab-df-quickchart-complete:disabled:hover {\n",
              "    background-color: var(--disabled-bg-color);\n",
              "    fill: var(--disabled-fill-color);\n",
              "    box-shadow: none;\n",
              "  }\n",
              "\n",
              "  .colab-df-spinner {\n",
              "    border: 2px solid var(--fill-color);\n",
              "    border-color: transparent;\n",
              "    border-bottom-color: var(--fill-color);\n",
              "    animation:\n",
              "      spin 1s steps(1) infinite;\n",
              "  }\n",
              "\n",
              "  @keyframes spin {\n",
              "    0% {\n",
              "      border-color: transparent;\n",
              "      border-bottom-color: var(--fill-color);\n",
              "      border-left-color: var(--fill-color);\n",
              "    }\n",
              "    20% {\n",
              "      border-color: transparent;\n",
              "      border-left-color: var(--fill-color);\n",
              "      border-top-color: var(--fill-color);\n",
              "    }\n",
              "    30% {\n",
              "      border-color: transparent;\n",
              "      border-left-color: var(--fill-color);\n",
              "      border-top-color: var(--fill-color);\n",
              "      border-right-color: var(--fill-color);\n",
              "    }\n",
              "    40% {\n",
              "      border-color: transparent;\n",
              "      border-right-color: var(--fill-color);\n",
              "      border-top-color: var(--fill-color);\n",
              "    }\n",
              "    60% {\n",
              "      border-color: transparent;\n",
              "      border-right-color: var(--fill-color);\n",
              "    }\n",
              "    80% {\n",
              "      border-color: transparent;\n",
              "      border-right-color: var(--fill-color);\n",
              "      border-bottom-color: var(--fill-color);\n",
              "    }\n",
              "    90% {\n",
              "      border-color: transparent;\n",
              "      border-bottom-color: var(--fill-color);\n",
              "    }\n",
              "  }\n",
              "</style>\n",
              "\n",
              "  <script>\n",
              "    async function quickchart(key) {\n",
              "      const quickchartButtonEl =\n",
              "        document.querySelector('#' + key + ' button');\n",
              "      quickchartButtonEl.disabled = true;  // To prevent multiple clicks.\n",
              "      quickchartButtonEl.classList.add('colab-df-spinner');\n",
              "      try {\n",
              "        const charts = await google.colab.kernel.invokeFunction(\n",
              "            'suggestCharts', [key], {});\n",
              "      } catch (error) {\n",
              "        console.error('Error during call to suggestCharts:', error);\n",
              "      }\n",
              "      quickchartButtonEl.classList.remove('colab-df-spinner');\n",
              "      quickchartButtonEl.classList.add('colab-df-quickchart-complete');\n",
              "    }\n",
              "    (() => {\n",
              "      let quickchartButtonEl =\n",
              "        document.querySelector('#df-240ef867-27f6-4a56-a367-81ccb4e588d9 button');\n",
              "      quickchartButtonEl.style.display =\n",
              "        google.colab.kernel.accessAllowed ? 'block' : 'none';\n",
              "    })();\n",
              "  </script>\n",
              "</div>\n",
              "    </div>\n",
              "  </div>\n"
            ],
            "application/vnd.google.colaboratory.intrinsic+json": {
              "type": "dataframe",
              "variable_name": "examples_df",
              "summary": "{\n  \"name\": \"examples_df\",\n  \"rows\": 4,\n  \"fields\": [\n    {\n      \"column\": \"dialogue\",\n      \"properties\": {\n        \"dtype\": \"string\",\n        \"num_unique_values\": 4,\n        \"samples\": [\n          \"#Person1#: Hey. Owen! Have you gone on your family vacation yet?\\n#Person2#: Oh, yes. I got so tired. My son began to cry the moment we got on the train. It was very embarrassing because we took the over-night train and the noise made it difficult for other people in the cabin to sleep.\\n#Person1#: Didn't you bring his favorite toy?\\n#Person2#: Yes, we did. Fortunately we put his Teddy Bear in the bag, and finally he fell asleep at mid-night with it in his arms.\\n#Person1#: Where did you go? You've got a beautiful tan.\\n#Person2#: My wife didn't like to go to amusement parks, so we compromised and finally went to the seaside. I think vacation in summer is not good.\\n#Person1#: You must have had a great time. Most children love to play in the sand on the beach and go swimming.\\n#Person2#: Yes, he was every excited to see the blue sea and picked up many seashells to give as gift for his classmates in kindergarten.\\n#Person1#: His friends will be very happy to get the little souvenir.\\n#Person2#: And I taught him how to swim in the sea. It was fun and made him braver than before. After we returned home, he wasn't afraid to sleep alone in his bedroom.\",\n          \"#Person1#: When could we meet to discuss the project?\\n#Person2#: I will be available on Monday or Tuesday. Choose which day is best for you.\\n#Person1#: I prefer Monday.\\n#Person2#: Good. Can you come in the morning or would afternoon be best?\\n#Person1#: Either one is OK.\\n#Person2#: Great! When I check with the others, I will send you an exact time. When you come, be prepared to do your presentation.\\n#Person1#: I will be prepared to do my presentation.\\n#Person2#: Who would you like to see there? Just the sub-committee or should we ask the whole committee?\\n#Person1#: Everyone needs to be there.\\n#Person2#: That will probably be best. Do you need help with directions?\\n#Person1#: I think I know where it is. Maybe you could send me directions just to make sure.\\n#Person2#: OK. We will e-mail you all the information you need tomorrow. Have a good day!\",\n          \"#Person1#: Don't be too sad. If you really think that you have no feeling with him, then, in my opinion, getting divorced maybe is the best way to solve the problem.\\n#Person2#: I know clearly at the bottom of my heart. I just can't set my mind at rest because of the child. She's little. She cannot understand us and accept such truth.\\n#Person1#: Yeah, child is the matter. Don't tell Jenny the truth, only tell her the white lie. When she grows up, you find the suitable opportunity to tell her.\\n#Person2#: I see. OK.\"\n        ],\n        \"semantic_type\": \"\",\n        \"description\": \"\"\n      }\n    },\n    {\n      \"column\": \"summary\",\n      \"properties\": {\n        \"dtype\": \"string\",\n        \"num_unique_values\": 4,\n        \"samples\": [\n          \"Owen tells #Person1# he and his family went to the seaside for vacation. Owen was tired from taking care of his crying son on the train, but his son was excited about the sea and picked up seashells as gifts for his classmates. Owen taught him how to swim in the sea.\",\n          \"#Person1# and #Person2# schedules their project discussion. #Person2# asks #Person1# to prepare the presentation and will email #Person1# all the information #Person1# needs.\",\n          \"#Person1# encourages #Person2# to divorce but #Person2# is worried about her daughter. #Person1# suggests her telling the white lie.\"\n        ],\n        \"semantic_type\": \"\",\n        \"description\": \"\"\n      }\n    }\n  ]\n}"
            }
          },
          "metadata": {},
          "execution_count": 30
        }
      ]
    },
    {
      "cell_type": "markdown",
      "source": [
        "We can now construct the few-shot prompt like so:"
      ],
      "metadata": {
        "id": "79nwBfbEz-4K"
      }
    },
    {
      "cell_type": "code",
      "source": [
        "system_message = \"\"\"\n",
        "Summarize the dialogue mentioned in the user input. Be specific and concise in your summary.\n",
        "\"\"\""
      ],
      "metadata": {
        "id": "km5Z1UZG0CsP"
      },
      "execution_count": 31,
      "outputs": []
    },
    {
      "cell_type": "code",
      "source": [
        "few_shot_prompt = [{'role':'system', 'content': system_message}]"
      ],
      "metadata": {
        "id": "zUCIR5y5z-q8"
      },
      "execution_count": 32,
      "outputs": []
    },
    {
      "cell_type": "markdown",
      "source": [
        "We need to iterate over the rows of the examples DataFrame to append these examples as `user` and `assistant` messages to the few-shot prompt. We achieve this using the `iterrows` method."
      ],
      "metadata": {
        "id": "v5izQDTZ0j9W"
      }
    },
    {
      "cell_type": "code",
      "source": [
        "for index, row in examples_df.iterrows():\n",
        "    print('Example Dialogue:')\n",
        "    print(row[0])\n",
        "    print('Example Summary:')\n",
        "    print(row[1])\n",
        "    break"
      ],
      "metadata": {
        "colab": {
          "base_uri": "https://localhost:8080/"
        },
        "id": "MnO95cWwzx2g",
        "outputId": "94085b72-b4cd-4a8e-c48d-008a07121133"
      },
      "execution_count": 33,
      "outputs": [
        {
          "output_type": "stream",
          "name": "stdout",
          "text": [
            "Example Dialogue:\n",
            "#Person1#: Don't be too sad. If you really think that you have no feeling with him, then, in my opinion, getting divorced maybe is the best way to solve the problem.\n",
            "#Person2#: I know clearly at the bottom of my heart. I just can't set my mind at rest because of the child. She's little. She cannot understand us and accept such truth.\n",
            "#Person1#: Yeah, child is the matter. Don't tell Jenny the truth, only tell her the white lie. When she grows up, you find the suitable opportunity to tell her.\n",
            "#Person2#: I see. OK.\n",
            "Example Summary:\n",
            "#Person1# encourages #Person2# to divorce but #Person2# is worried about her daughter. #Person1# suggests her telling the white lie.\n"
          ]
        }
      ]
    },
    {
      "cell_type": "code",
      "source": [
        "for index, row in examples_df.iterrows():\n",
        "    user_input_example = row[0]\n",
        "    assistant_output_example = row[1]\n",
        "\n",
        "    few_shot_prompt.append(\n",
        "        {\n",
        "            'role': 'user',\n",
        "            'content': user_input_example\n",
        "        }\n",
        "    )\n",
        "\n",
        "    few_shot_prompt.append(\n",
        "        {\n",
        "            'role': 'assistant',\n",
        "            'content': assistant_output_example\n",
        "        }\n",
        "    )"
      ],
      "metadata": {
        "id": "sPijIvrO0vPK"
      },
      "execution_count": 34,
      "outputs": []
    },
    {
      "cell_type": "code",
      "source": [
        "few_shot_prompt"
      ],
      "metadata": {
        "colab": {
          "base_uri": "https://localhost:8080/"
        },
        "id": "8DDKcTk60N4i",
        "outputId": "a6f27e0e-09fc-4a56-e1ac-37b9c94acd34"
      },
      "execution_count": 35,
      "outputs": [
        {
          "output_type": "execute_result",
          "data": {
            "text/plain": [
              "[{'role': 'system',\n",
              "  'content': '\\nSummarize the dialogue mentioned in the user input. Be specific and concise in your summary.\\n'},\n",
              " {'role': 'user',\n",
              "  'content': \"#Person1#: Don't be too sad. If you really think that you have no feeling with him, then, in my opinion, getting divorced maybe is the best way to solve the problem.\\n#Person2#: I know clearly at the bottom of my heart. I just can't set my mind at rest because of the child. She's little. She cannot understand us and accept such truth.\\n#Person1#: Yeah, child is the matter. Don't tell Jenny the truth, only tell her the white lie. When she grows up, you find the suitable opportunity to tell her.\\n#Person2#: I see. OK.\"},\n",
              " {'role': 'assistant',\n",
              "  'content': '#Person1# encourages #Person2# to divorce but #Person2# is worried about her daughter. #Person1# suggests her telling the white lie.'},\n",
              " {'role': 'user',\n",
              "  'content': \"#Person1#: Hey. Owen! Have you gone on your family vacation yet?\\n#Person2#: Oh, yes. I got so tired. My son began to cry the moment we got on the train. It was very embarrassing because we took the over-night train and the noise made it difficult for other people in the cabin to sleep.\\n#Person1#: Didn't you bring his favorite toy?\\n#Person2#: Yes, we did. Fortunately we put his Teddy Bear in the bag, and finally he fell asleep at mid-night with it in his arms.\\n#Person1#: Where did you go? You've got a beautiful tan.\\n#Person2#: My wife didn't like to go to amusement parks, so we compromised and finally went to the seaside. I think vacation in summer is not good.\\n#Person1#: You must have had a great time. Most children love to play in the sand on the beach and go swimming.\\n#Person2#: Yes, he was every excited to see the blue sea and picked up many seashells to give as gift for his classmates in kindergarten.\\n#Person1#: His friends will be very happy to get the little souvenir.\\n#Person2#: And I taught him how to swim in the sea. It was fun and made him braver than before. After we returned home, he wasn't afraid to sleep alone in his bedroom.\"},\n",
              " {'role': 'assistant',\n",
              "  'content': 'Owen tells #Person1# he and his family went to the seaside for vacation. Owen was tired from taking care of his crying son on the train, but his son was excited about the sea and picked up seashells as gifts for his classmates. Owen taught him how to swim in the sea.'},\n",
              " {'role': 'user',\n",
              "  'content': \"#Person1#: Hello. May I help you?\\n#Person2#: Hi. Last month, our company, Turner Interiors of Beijing, ordered some documents under our new L / C. What I want to do is check and see if the documents have arrived yet.\\n#Person1#: Let me find that on my screen. . . yes, the L / C is right here. I'm sorry ; the documents don't seem to be here yet.\\n#Person2#: Oh, dear. When do you think they will arrive?\\n#Person1#: It should be around 5 working days, but different cases take different times. Sorry I can't be more precise.\"},\n",
              " {'role': 'assistant',\n",
              "  'content': \"#Person2# checks the arrival of #Person2#'s company's documents with #Person1#'s assistance.\"},\n",
              " {'role': 'user',\n",
              "  'content': '#Person1#: When could we meet to discuss the project?\\n#Person2#: I will be available on Monday or Tuesday. Choose which day is best for you.\\n#Person1#: I prefer Monday.\\n#Person2#: Good. Can you come in the morning or would afternoon be best?\\n#Person1#: Either one is OK.\\n#Person2#: Great! When I check with the others, I will send you an exact time. When you come, be prepared to do your presentation.\\n#Person1#: I will be prepared to do my presentation.\\n#Person2#: Who would you like to see there? Just the sub-committee or should we ask the whole committee?\\n#Person1#: Everyone needs to be there.\\n#Person2#: That will probably be best. Do you need help with directions?\\n#Person1#: I think I know where it is. Maybe you could send me directions just to make sure.\\n#Person2#: OK. We will e-mail you all the information you need tomorrow. Have a good day!'},\n",
              " {'role': 'assistant',\n",
              "  'content': '#Person1# and #Person2# schedules their project discussion. #Person2# asks #Person1# to prepare the presentation and will email #Person1# all the information #Person1# needs.'}]"
            ]
          },
          "metadata": {},
          "execution_count": 35
        }
      ]
    },
    {
      "cell_type": "markdown",
      "source": [
        "Now, we have the few-shot prompt ready for use. Let us use this with one test example. Test examples are often referred to as *gold examples* since they are used to evaluate the prompt."
      ],
      "metadata": {
        "id": "bM7IU4Or1nYD"
      }
    },
    {
      "cell_type": "code",
      "source": [
        "dialogue_summary_gold_examples_df = dataset['gold_examples'].to_pandas()\n",
        "\n",
        "gold_examples_df = dialogue_summary_gold_examples_df.sample(1)"
      ],
      "metadata": {
        "id": "1gfuUnpM1A-k"
      },
      "execution_count": 36,
      "outputs": []
    },
    {
      "cell_type": "code",
      "source": [
        "gold_examples_df"
      ],
      "metadata": {
        "colab": {
          "base_uri": "https://localhost:8080/",
          "height": 81
        },
        "id": "mPiVlsUa2ZVx",
        "outputId": "95239c80-0277-4681-9760-3f091bce6743"
      },
      "execution_count": 37,
      "outputs": [
        {
          "output_type": "execute_result",
          "data": {
            "text/plain": [
              "                                             dialogue  \\\n",
              "19  #Person1#: It's partly your own fault. You sho...   \n",
              "\n",
              "                                              summary  \n",
              "19  #Person1# blames #Person2# for letting someone...  "
            ],
            "text/html": [
              "\n",
              "  <div id=\"df-40e52101-48ba-40d4-a029-84b77ead3115\" class=\"colab-df-container\">\n",
              "    <div>\n",
              "<style scoped>\n",
              "    .dataframe tbody tr th:only-of-type {\n",
              "        vertical-align: middle;\n",
              "    }\n",
              "\n",
              "    .dataframe tbody tr th {\n",
              "        vertical-align: top;\n",
              "    }\n",
              "\n",
              "    .dataframe thead th {\n",
              "        text-align: right;\n",
              "    }\n",
              "</style>\n",
              "<table border=\"1\" class=\"dataframe\">\n",
              "  <thead>\n",
              "    <tr style=\"text-align: right;\">\n",
              "      <th></th>\n",
              "      <th>dialogue</th>\n",
              "      <th>summary</th>\n",
              "    </tr>\n",
              "  </thead>\n",
              "  <tbody>\n",
              "    <tr>\n",
              "      <th>19</th>\n",
              "      <td>#Person1#: It's partly your own fault. You sho...</td>\n",
              "      <td>#Person1# blames #Person2# for letting someone...</td>\n",
              "    </tr>\n",
              "  </tbody>\n",
              "</table>\n",
              "</div>\n",
              "    <div class=\"colab-df-buttons\">\n",
              "\n",
              "  <div class=\"colab-df-container\">\n",
              "    <button class=\"colab-df-convert\" onclick=\"convertToInteractive('df-40e52101-48ba-40d4-a029-84b77ead3115')\"\n",
              "            title=\"Convert this dataframe to an interactive table.\"\n",
              "            style=\"display:none;\">\n",
              "\n",
              "  <svg xmlns=\"http://www.w3.org/2000/svg\" height=\"24px\" viewBox=\"0 -960 960 960\">\n",
              "    <path d=\"M120-120v-720h720v720H120Zm60-500h600v-160H180v160Zm220 220h160v-160H400v160Zm0 220h160v-160H400v160ZM180-400h160v-160H180v160Zm440 0h160v-160H620v160ZM180-180h160v-160H180v160Zm440 0h160v-160H620v160Z\"/>\n",
              "  </svg>\n",
              "    </button>\n",
              "\n",
              "  <style>\n",
              "    .colab-df-container {\n",
              "      display:flex;\n",
              "      gap: 12px;\n",
              "    }\n",
              "\n",
              "    .colab-df-convert {\n",
              "      background-color: #E8F0FE;\n",
              "      border: none;\n",
              "      border-radius: 50%;\n",
              "      cursor: pointer;\n",
              "      display: none;\n",
              "      fill: #1967D2;\n",
              "      height: 32px;\n",
              "      padding: 0 0 0 0;\n",
              "      width: 32px;\n",
              "    }\n",
              "\n",
              "    .colab-df-convert:hover {\n",
              "      background-color: #E2EBFA;\n",
              "      box-shadow: 0px 1px 2px rgba(60, 64, 67, 0.3), 0px 1px 3px 1px rgba(60, 64, 67, 0.15);\n",
              "      fill: #174EA6;\n",
              "    }\n",
              "\n",
              "    .colab-df-buttons div {\n",
              "      margin-bottom: 4px;\n",
              "    }\n",
              "\n",
              "    [theme=dark] .colab-df-convert {\n",
              "      background-color: #3B4455;\n",
              "      fill: #D2E3FC;\n",
              "    }\n",
              "\n",
              "    [theme=dark] .colab-df-convert:hover {\n",
              "      background-color: #434B5C;\n",
              "      box-shadow: 0px 1px 3px 1px rgba(0, 0, 0, 0.15);\n",
              "      filter: drop-shadow(0px 1px 2px rgba(0, 0, 0, 0.3));\n",
              "      fill: #FFFFFF;\n",
              "    }\n",
              "  </style>\n",
              "\n",
              "    <script>\n",
              "      const buttonEl =\n",
              "        document.querySelector('#df-40e52101-48ba-40d4-a029-84b77ead3115 button.colab-df-convert');\n",
              "      buttonEl.style.display =\n",
              "        google.colab.kernel.accessAllowed ? 'block' : 'none';\n",
              "\n",
              "      async function convertToInteractive(key) {\n",
              "        const element = document.querySelector('#df-40e52101-48ba-40d4-a029-84b77ead3115');\n",
              "        const dataTable =\n",
              "          await google.colab.kernel.invokeFunction('convertToInteractive',\n",
              "                                                    [key], {});\n",
              "        if (!dataTable) return;\n",
              "\n",
              "        const docLinkHtml = 'Like what you see? Visit the ' +\n",
              "          '<a target=\"_blank\" href=https://colab.research.google.com/notebooks/data_table.ipynb>data table notebook</a>'\n",
              "          + ' to learn more about interactive tables.';\n",
              "        element.innerHTML = '';\n",
              "        dataTable['output_type'] = 'display_data';\n",
              "        await google.colab.output.renderOutput(dataTable, element);\n",
              "        const docLink = document.createElement('div');\n",
              "        docLink.innerHTML = docLinkHtml;\n",
              "        element.appendChild(docLink);\n",
              "      }\n",
              "    </script>\n",
              "  </div>\n",
              "\n",
              "    </div>\n",
              "  </div>\n"
            ],
            "application/vnd.google.colaboratory.intrinsic+json": {
              "type": "dataframe",
              "variable_name": "gold_examples_df",
              "summary": "{\n  \"name\": \"gold_examples_df\",\n  \"rows\": 1,\n  \"fields\": [\n    {\n      \"column\": \"dialogue\",\n      \"properties\": {\n        \"dtype\": \"string\",\n        \"num_unique_values\": 1,\n        \"samples\": [\n          \"#Person1#: It's partly your own fault. You should never let in anyone like that unless you're expecting him.\\n#Person2#: It's all very well to say that, but someone cones to the door and says 'electricity' or 'gas' and you automatically think he is OK, especially if he shows you a card.\"\n        ],\n        \"semantic_type\": \"\",\n        \"description\": \"\"\n      }\n    },\n    {\n      \"column\": \"summary\",\n      \"properties\": {\n        \"dtype\": \"string\",\n        \"num_unique_values\": 1,\n        \"samples\": [\n          \"#Person1# blames #Person2# for letting someone in without much discretion.\"\n        ],\n        \"semantic_type\": \"\",\n        \"description\": \"\"\n      }\n    }\n  ]\n}"
            }
          },
          "metadata": {},
          "execution_count": 37
        }
      ]
    },
    {
      "cell_type": "markdown",
      "source": [
        "To extract the dialogue, we iterate on the rows as before."
      ],
      "metadata": {
        "id": "wsqdxZ4k3PJQ"
      }
    },
    {
      "cell_type": "code",
      "source": [
        "for index, row in gold_examples_df.iterrows():\n",
        "    gold_dialogue = row[0]\n",
        "    gold_summary = row[1]"
      ],
      "metadata": {
        "id": "d8L4FouC29rf"
      },
      "execution_count": 38,
      "outputs": []
    },
    {
      "cell_type": "code",
      "source": [
        "gold_dialogue"
      ],
      "metadata": {
        "colab": {
          "base_uri": "https://localhost:8080/",
          "height": 53
        },
        "id": "wESNWRNe9kYm",
        "outputId": "1742888a-8fcf-41ea-afdd-fb87a8eb97db"
      },
      "execution_count": 39,
      "outputs": [
        {
          "output_type": "execute_result",
          "data": {
            "text/plain": [
              "\"#Person1#: It's partly your own fault. You should never let in anyone like that unless you're expecting him.\\n#Person2#: It's all very well to say that, but someone cones to the door and says 'electricity' or 'gas' and you automatically think he is OK, especially if he shows you a card.\""
            ],
            "application/vnd.google.colaboratory.intrinsic+json": {
              "type": "string"
            }
          },
          "metadata": {},
          "execution_count": 39
        }
      ]
    },
    {
      "cell_type": "code",
      "source": [
        "user_input = [{'role':'user', 'content': gold_dialogue}]"
      ],
      "metadata": {
        "id": "IITsP5E52TZR"
      },
      "execution_count": 40,
      "outputs": []
    },
    {
      "cell_type": "code",
      "source": [
        "user_input"
      ],
      "metadata": {
        "colab": {
          "base_uri": "https://localhost:8080/"
        },
        "id": "NrjdKmj72wN8",
        "outputId": "450e7be1-44ad-4714-f346-b88bf4f7ec59"
      },
      "execution_count": 41,
      "outputs": [
        {
          "output_type": "execute_result",
          "data": {
            "text/plain": [
              "[{'role': 'user',\n",
              "  'content': \"#Person1#: It's partly your own fault. You should never let in anyone like that unless you're expecting him.\\n#Person2#: It's all very well to say that, but someone cones to the door and says 'electricity' or 'gas' and you automatically think he is OK, especially if he shows you a card.\"}]"
            ]
          },
          "metadata": {},
          "execution_count": 41
        }
      ]
    },
    {
      "cell_type": "code",
      "source": [
        "response = client.chat.completions.create(\n",
        "    model=model_name,\n",
        "    messages=few_shot_prompt + user_input,\n",
        "    temperature=0\n",
        ")"
      ],
      "metadata": {
        "id": "x3qIXTY62xh9"
      },
      "execution_count": 42,
      "outputs": []
    },
    {
      "cell_type": "markdown",
      "source": [
        "Notice how we are appending the user input to the few shot prompt assembled above."
      ],
      "metadata": {
        "id": "7qBMxREe3g55"
      }
    },
    {
      "cell_type": "code",
      "source": [
        "print(response.choices[0].message.content)"
      ],
      "metadata": {
        "colab": {
          "base_uri": "https://localhost:8080/"
        },
        "id": "e7pofkxN3fv2",
        "outputId": "ffbd3521-63e7-4b95-d691-bc32f07ae992"
      },
      "execution_count": 43,
      "outputs": [
        {
          "output_type": "stream",
          "name": "stdout",
          "text": [
            "#Person1# believes #Person2# should be more cautious about letting strangers in. #Person2# explains that people often trust utility workers.\n"
          ]
        }
      ]
    },
    {
      "cell_type": "code",
      "source": [
        "gold_summary"
      ],
      "metadata": {
        "colab": {
          "base_uri": "https://localhost:8080/",
          "height": 35
        },
        "id": "kt-k-FYB3s_I",
        "outputId": "93c9a331-7e03-475d-86ca-bf3151e37e54"
      },
      "execution_count": 44,
      "outputs": [
        {
          "output_type": "execute_result",
          "data": {
            "text/plain": [
              "'#Person1# blames #Person2# for letting someone in without much discretion.'"
            ],
            "application/vnd.google.colaboratory.intrinsic+json": {
              "type": "string"
            }
          },
          "metadata": {},
          "execution_count": 44
        }
      ]
    },
    {
      "cell_type": "markdown",
      "source": [
        "We can repeat this process for all the 32 gold examples in the dataset and ascertain the quality of summarization. However, an even better approach is to understand if the summary is a good reflection of the content of the dialogue (human summary might not be the ideal baseline). To accomplish this, we use a more powerful model to act as a judge. This process is depicted in the figure below. An alternative approach is to compare the predictions and ground truths using metrics such as BERTScore. The advantage of using LLMs as judges is that we do not need human baselines (that are costly to collect), while writing down the rubrics for assessment is usually an easier task."
      ],
      "metadata": {
        "id": "QuUVPFwQitJ-"
      }
    },
    {
      "cell_type": "markdown",
      "source": [
        "![image.png](data:image/png;base64,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)"
      ],
      "metadata": {
        "id": "IX0XBbK-kCiQ"
      }
    },
    {
      "cell_type": "code",
      "source": [
        "rater_model = \"mistralai/Mixtral-8x7B-Instruct-v0.1\""
      ],
      "metadata": {
        "id": "_Mv-9eLKkO5q"
      },
      "execution_count": 45,
      "outputs": []
    },
    {
      "cell_type": "code",
      "source": [
        "rater_system_message = \"\"\"\n",
        "You are tasked with rating AI-generated summaries of dialogues based on the given metric.\n",
        "You will be presented a dialogue and an AI generated summary of the dialogue as the input.\n",
        "In the input, the dialogue will begin with ###Dialogue while the AI generated summary will begin with ###Summary.\n",
        "\n",
        "Evaluation criteria:\n",
        "The task is to judge the extent to which the metric is followed by the summary.\n",
        "1 - The metric is not followed at all\n",
        "2 - The metric is followed only to a limited extent\n",
        "3 - The metric is followed to a good extent\n",
        "4 - The metric is followed mostly\n",
        "5 - The metric is followed completely\n",
        "\n",
        "Metric:\n",
        "The summary should cover all the aspects that are majorly being discussed in the dialogue.\n",
        "\n",
        "Instructions:\n",
        "1. First write down the steps that are needed to evaluate the summary as per the metric.\n",
        "2. Give a step-by-step explanation if the summary adheres to the metric considering the dialogues as the input.\n",
        "3. Next, evaluate the extent to which the metric is followed.\n",
        "4. Use the previous information to rate the summary using the evaluaton criteria and assign a score.\n",
        "\"\"\""
      ],
      "metadata": {
        "id": "2dDxkZdyKSnh"
      },
      "execution_count": 46,
      "outputs": []
    },
    {
      "cell_type": "code",
      "source": [
        "rater_user_message_template = \"\"\"\n",
        "###Dialogue\n",
        "{dialogue}\n",
        "\n",
        "###Summary\n",
        "{summary}\n",
        "\"\"\""
      ],
      "metadata": {
        "id": "qAlT5npqh6PQ"
      },
      "execution_count": 47,
      "outputs": []
    },
    {
      "cell_type": "code",
      "source": [
        "predictions, ratings = [], []"
      ],
      "metadata": {
        "id": "0mbE4GI7nnTE"
      },
      "execution_count": 48,
      "outputs": []
    },
    {
      "cell_type": "code",
      "source": [
        "for index, row in tqdm(dialogue_summary_gold_examples_df.iterrows()):\n",
        "    gold_dialogue = row[0]\n",
        "    gold_summary = row[1]\n",
        "\n",
        "    user_input = [{'role':'user', 'content': gold_dialogue}]\n",
        "\n",
        "    response = client.chat.completions.create(\n",
        "        model=model_name,\n",
        "        messages=few_shot_prompt + user_input\n",
        "    )\n",
        "\n",
        "    prediction = response.choices[0].message.content\n",
        "\n",
        "    rater_prompt = [\n",
        "        {'role': 'system',\n",
        "         'content': rater_system_message\n",
        "        },\n",
        "        {\n",
        "            'role': 'user',\n",
        "            'content': rater_user_message_template.format(\n",
        "                dialogue=gold_dialogue,\n",
        "                summary=prediction\n",
        "            )\n",
        "        }\n",
        "    ]\n",
        "\n",
        "    response = client.chat.completions.create(\n",
        "        model=rater_model,\n",
        "        messages=rater_prompt\n",
        "    )\n",
        "\n",
        "    predictions.append(prediction)\n",
        "    ratings.append(response.choices[0].message.content)"
      ],
      "metadata": {
        "colab": {
          "base_uri": "https://localhost:8080/"
        },
        "id": "MMkUTeM3nfsn",
        "outputId": "6ed6977d-9259-4282-a81e-ab6eb4d41850"
      },
      "execution_count": 49,
      "outputs": [
        {
          "output_type": "stream",
          "name": "stderr",
          "text": [
            "32it [05:17,  9.93s/it]\n"
          ]
        }
      ]
    },
    {
      "cell_type": "code",
      "source": [
        "pd.DataFrame(\n",
        "    {'dialogue': dialogue_summary_gold_examples_df.dialogue,\n",
        "     'prediction': predictions,\n",
        "     'rating': ratings\n",
        "     }\n",
        ")"
      ],
      "metadata": {
        "colab": {
          "base_uri": "https://localhost:8080/",
          "height": 1000
        },
        "id": "M-IIHhQhpHBM",
        "outputId": "a387a0a0-cf99-44cb-98bd-842a0d2d96c2"
      },
      "execution_count": 50,
      "outputs": [
        {
          "output_type": "execute_result",
          "data": {
            "text/plain": [
              "                                             dialogue  \\\n",
              "0   #Person1#: do you have any plans for dinner to...   \n",
              "1   #Person1#: Are you an art aficionado?\\n#Person...   \n",
              "2   #Person1#: Sally,here is a letter for us. It's...   \n",
              "3   #Person1#: So, did I tell you about my New Yea...   \n",
              "4   #Person1#: I'm coming to pick up my ticket. Th...   \n",
              "5   #Person1#: Hi, Dan, I'm calling to check on th...   \n",
              "6   #Person1#: Tom, I've got good news for you.\\n#...   \n",
              "7   #Person1#: How did your company's fundraiser g...   \n",
              "8   #Person1#: OK, Mrs Thomas. I finished cleaning...   \n",
              "9   #Person1#: Mr. Wilson. We are very regretful a...   \n",
              "10  #Person1#: Hi, Fanny.\\n#Person2#: Hi, Andy.\\n#...   \n",
              "11  #Person1#: You mustn't touch the wet paint, Bi...   \n",
              "12  #Person1#: Tomorrow is Mike's birthday. I have...   \n",
              "13  #Person1#: Is anybody in?\\n#Person2#: How can ...   \n",
              "14  #Person1#: Would you like to go to the party t...   \n",
              "15  #Person1#: Welcome to Danny's, may I take your...   \n",
              "16  #Person1#: Good morning. What can I do for you...   \n",
              "17  #Person1#: Excuse me, could you tell me where ...   \n",
              "18  #Person1#: Excuse me. What's happened? What pl...   \n",
              "19  #Person1#: It's partly your own fault. You sho...   \n",
              "20  #Person1#: Hi, I made a reservation for a mid-...   \n",
              "21  #Person1#: I think spring is finally here.\\n#P...   \n",
              "22  #Person1#: Would you please recommend some Chi...   \n",
              "23  #Person1#: John? It's Susan Miller.\\n#Person2#...   \n",
              "24  #Person1#: Were you born in Los Angeles?\\n#Per...   \n",
              "25  #Person1#: Well, I'd better get back to work. ...   \n",
              "26  #Person1#: Hello, this is Francis.\\n#Person2#:...   \n",
              "27  #Person1#: Brian, do you know how to speak Eng...   \n",
              "28  #Person1#: Honey, of course I forgive you! I l...   \n",
              "29  #Person1#: My throat is really dry.\\n#Person2#...   \n",
              "30  #Person1#: Hello? Hello?\\n#Person2#: ...\\n#Per...   \n",
              "31  #Person1#: I have to go up to London for a cou...   \n",
              "\n",
              "                                           prediction  \\\n",
              "0   #Person2# initially plans to eat a frozen pizz...   \n",
              "1   #Person1# shares their love for art, particula...   \n",
              "2   Tom writes a letter to Sally and John which #P...   \n",
              "3   #Person1# announces their New Year's resolutio...   \n",
              "4   #Person1# wants to buy a ticket and shows thei...   \n",
              "5   #Person1# calls #Person2# regarding a delayed ...   \n",
              "6   #Person1# informs #Person2# that he has won th...   \n",
              "7   #Person2# describes their successful company's...   \n",
              "8   #Person1# completed various tasks for #Person2...   \n",
              "9   #Person1# apologizes for mistakes in goods and...   \n",
              "10  #Person2# shares their bad dream with #Person1...   \n",
              "11  #Person1# warns #Person2# not to touch wet pai...   \n",
              "12  #Person1# and #Person2# discuss receiving an i...   \n",
              "13  #Person1# complains of a headache and slight f...   \n",
              "14  #Person1# and #Person2# learn about Ruojia's m...   \n",
              "15  #Person2# orders a turkey sandwich with cheese...   \n",
              "16  #Person2# complains about the noise in their r...   \n",
              "17  #Person1# asks #Person2# for directions to Pek...   \n",
              "18  #Person1# faces an unexpected airport closure ...   \n",
              "19  #Person1# holds #Person2# responsible for allo...   \n",
              "20  #Person1# criticizes #Person2# for not having ...   \n",
              "21  #Person1# and #Person2# discuss how spring is ...   \n",
              "22  #Person1# requests Chinese wine recommendation...   \n",
              "23  #Person1#, Susan Miller, asks #Person2#, John,...   \n",
              "24  #Person2# was born in Chicago, moved to Wilmet...   \n",
              "25  #Person1# and #Person2# plan to meet after wor...   \n",
              "26  #Person1# and #Person2# discuss meeting to wor...   \n",
              "27  #Person1# discusses with #Person2# his ability...   \n",
              "28  #Person2# returns home after dealing with fore...   \n",
              "29  #Person1# is feeling parched and considering g...   \n",
              "30  #Person1# receives unwanted calls from #Person...   \n",
              "31  In the dialogue, #Person1# plans to go to Lond...   \n",
              "\n",
              "                                               rating  \n",
              "0    Steps to evaluate the summary as per the metr...  \n",
              "1    Steps to evaluate the summary:\\n\\n1. Identify...  \n",
              "2    Steps to evaluate the summary as per the metr...  \n",
              "3    Steps to evaluate the summary:\\n1. Identify t...  \n",
              "4    Steps to evaluate the summary as per the metr...  \n",
              "5    1. The steps to evaluate the summary as per t...  \n",
              "6    Steps to evaluate the summary as per the metr...  \n",
              "7    Steps to evaluate the summary as per the metr...  \n",
              "8    Step 1: To evaluate the summary, I would foll...  \n",
              "9    Step 1: To evaluate the summary as per the me...  \n",
              "10   Steps to evaluate the summary as per the metr...  \n",
              "11   Step 1: Identify the major aspects being disc...  \n",
              "12   Step 1: Evaluation Steps\\n1. Identify the mai...  \n",
              "13   Step 1: To evaluate the summary as per the me...  \n",
              "14   Steps to evaluate the summary as per the metr...  \n",
              "15   1. The steps to evaluate the summary as per t...  \n",
              "16   Steps to evaluate the summary as per the metr...  \n",
              "17   1. The steps to evaluate the summary as per t...  \n",
              "18   Step 1: Identify the main topics discussed in...  \n",
              "19   1. Steps to evaluate the summary based on the...  \n",
              "20   1. The steps to evaluate the summary as per t...  \n",
              "21   Steps to evaluate the summary:\\n1. Identify t...  \n",
              "22   Step 1: To evaluate the summary as per the me...  \n",
              "23   Step 1: Evaluation Steps\\n1. Identify the maj...  \n",
              "24   1. The steps to evaluate the summary as per t...  \n",
              "25   Steps to evaluate the summary as per the metr...  \n",
              "26   Step 1: To evaluate the summary as per the me...  \n",
              "27   1. Steps to evaluate the summary as per the m...  \n",
              "28   1. The steps to evaluate the summary as per t...  \n",
              "29   1. Steps to evaluate the summary as per the m...  \n",
              "30   1. The steps to evaluate the summary as per t...  \n",
              "31   Step 1: Identify the main aspects being discu...  "
            ],
            "text/html": [
              "\n",
              "  <div id=\"df-8ae094de-c19c-4736-a64b-e0fde2ed4b15\" class=\"colab-df-container\">\n",
              "    <div>\n",
              "<style scoped>\n",
              "    .dataframe tbody tr th:only-of-type {\n",
              "        vertical-align: middle;\n",
              "    }\n",
              "\n",
              "    .dataframe tbody tr th {\n",
              "        vertical-align: top;\n",
              "    }\n",
              "\n",
              "    .dataframe thead th {\n",
              "        text-align: right;\n",
              "    }\n",
              "</style>\n",
              "<table border=\"1\" class=\"dataframe\">\n",
              "  <thead>\n",
              "    <tr style=\"text-align: right;\">\n",
              "      <th></th>\n",
              "      <th>dialogue</th>\n",
              "      <th>prediction</th>\n",
              "      <th>rating</th>\n",
              "    </tr>\n",
              "  </thead>\n",
              "  <tbody>\n",
              "    <tr>\n",
              "      <th>0</th>\n",
              "      <td>#Person1#: do you have any plans for dinner to...</td>\n",
              "      <td>#Person2# initially plans to eat a frozen pizz...</td>\n",
              "      <td>Steps to evaluate the summary as per the metr...</td>\n",
              "    </tr>\n",
              "    <tr>\n",
              "      <th>1</th>\n",
              "      <td>#Person1#: Are you an art aficionado?\\n#Person...</td>\n",
              "      <td>#Person1# shares their love for art, particula...</td>\n",
              "      <td>Steps to evaluate the summary:\\n\\n1. Identify...</td>\n",
              "    </tr>\n",
              "    <tr>\n",
              "      <th>2</th>\n",
              "      <td>#Person1#: Sally,here is a letter for us. It's...</td>\n",
              "      <td>Tom writes a letter to Sally and John which #P...</td>\n",
              "      <td>Steps to evaluate the summary as per the metr...</td>\n",
              "    </tr>\n",
              "    <tr>\n",
              "      <th>3</th>\n",
              "      <td>#Person1#: So, did I tell you about my New Yea...</td>\n",
              "      <td>#Person1# announces their New Year's resolutio...</td>\n",
              "      <td>Steps to evaluate the summary:\\n1. Identify t...</td>\n",
              "    </tr>\n",
              "    <tr>\n",
              "      <th>4</th>\n",
              "      <td>#Person1#: I'm coming to pick up my ticket. Th...</td>\n",
              "      <td>#Person1# wants to buy a ticket and shows thei...</td>\n",
              "      <td>Steps to evaluate the summary as per the metr...</td>\n",
              "    </tr>\n",
              "    <tr>\n",
              "      <th>5</th>\n",
              "      <td>#Person1#: Hi, Dan, I'm calling to check on th...</td>\n",
              "      <td>#Person1# calls #Person2# regarding a delayed ...</td>\n",
              "      <td>1. The steps to evaluate the summary as per t...</td>\n",
              "    </tr>\n",
              "    <tr>\n",
              "      <th>6</th>\n",
              "      <td>#Person1#: Tom, I've got good news for you.\\n#...</td>\n",
              "      <td>#Person1# informs #Person2# that he has won th...</td>\n",
              "      <td>Steps to evaluate the summary as per the metr...</td>\n",
              "    </tr>\n",
              "    <tr>\n",
              "      <th>7</th>\n",
              "      <td>#Person1#: How did your company's fundraiser g...</td>\n",
              "      <td>#Person2# describes their successful company's...</td>\n",
              "      <td>Steps to evaluate the summary as per the metr...</td>\n",
              "    </tr>\n",
              "    <tr>\n",
              "      <th>8</th>\n",
              "      <td>#Person1#: OK, Mrs Thomas. I finished cleaning...</td>\n",
              "      <td>#Person1# completed various tasks for #Person2...</td>\n",
              "      <td>Step 1: To evaluate the summary, I would foll...</td>\n",
              "    </tr>\n",
              "    <tr>\n",
              "      <th>9</th>\n",
              "      <td>#Person1#: Mr. Wilson. We are very regretful a...</td>\n",
              "      <td>#Person1# apologizes for mistakes in goods and...</td>\n",
              "      <td>Step 1: To evaluate the summary as per the me...</td>\n",
              "    </tr>\n",
              "    <tr>\n",
              "      <th>10</th>\n",
              "      <td>#Person1#: Hi, Fanny.\\n#Person2#: Hi, Andy.\\n#...</td>\n",
              "      <td>#Person2# shares their bad dream with #Person1...</td>\n",
              "      <td>Steps to evaluate the summary as per the metr...</td>\n",
              "    </tr>\n",
              "    <tr>\n",
              "      <th>11</th>\n",
              "      <td>#Person1#: You mustn't touch the wet paint, Bi...</td>\n",
              "      <td>#Person1# warns #Person2# not to touch wet pai...</td>\n",
              "      <td>Step 1: Identify the major aspects being disc...</td>\n",
              "    </tr>\n",
              "    <tr>\n",
              "      <th>12</th>\n",
              "      <td>#Person1#: Tomorrow is Mike's birthday. I have...</td>\n",
              "      <td>#Person1# and #Person2# discuss receiving an i...</td>\n",
              "      <td>Step 1: Evaluation Steps\\n1. Identify the mai...</td>\n",
              "    </tr>\n",
              "    <tr>\n",
              "      <th>13</th>\n",
              "      <td>#Person1#: Is anybody in?\\n#Person2#: How can ...</td>\n",
              "      <td>#Person1# complains of a headache and slight f...</td>\n",
              "      <td>Step 1: To evaluate the summary as per the me...</td>\n",
              "    </tr>\n",
              "    <tr>\n",
              "      <th>14</th>\n",
              "      <td>#Person1#: Would you like to go to the party t...</td>\n",
              "      <td>#Person1# and #Person2# learn about Ruojia's m...</td>\n",
              "      <td>Steps to evaluate the summary as per the metr...</td>\n",
              "    </tr>\n",
              "    <tr>\n",
              "      <th>15</th>\n",
              "      <td>#Person1#: Welcome to Danny's, may I take your...</td>\n",
              "      <td>#Person2# orders a turkey sandwich with cheese...</td>\n",
              "      <td>1. The steps to evaluate the summary as per t...</td>\n",
              "    </tr>\n",
              "    <tr>\n",
              "      <th>16</th>\n",
              "      <td>#Person1#: Good morning. What can I do for you...</td>\n",
              "      <td>#Person2# complains about the noise in their r...</td>\n",
              "      <td>Steps to evaluate the summary as per the metr...</td>\n",
              "    </tr>\n",
              "    <tr>\n",
              "      <th>17</th>\n",
              "      <td>#Person1#: Excuse me, could you tell me where ...</td>\n",
              "      <td>#Person1# asks #Person2# for directions to Pek...</td>\n",
              "      <td>1. The steps to evaluate the summary as per t...</td>\n",
              "    </tr>\n",
              "    <tr>\n",
              "      <th>18</th>\n",
              "      <td>#Person1#: Excuse me. What's happened? What pl...</td>\n",
              "      <td>#Person1# faces an unexpected airport closure ...</td>\n",
              "      <td>Step 1: Identify the main topics discussed in...</td>\n",
              "    </tr>\n",
              "    <tr>\n",
              "      <th>19</th>\n",
              "      <td>#Person1#: It's partly your own fault. You sho...</td>\n",
              "      <td>#Person1# holds #Person2# responsible for allo...</td>\n",
              "      <td>1. Steps to evaluate the summary based on the...</td>\n",
              "    </tr>\n",
              "    <tr>\n",
              "      <th>20</th>\n",
              "      <td>#Person1#: Hi, I made a reservation for a mid-...</td>\n",
              "      <td>#Person1# criticizes #Person2# for not having ...</td>\n",
              "      <td>1. The steps to evaluate the summary as per t...</td>\n",
              "    </tr>\n",
              "    <tr>\n",
              "      <th>21</th>\n",
              "      <td>#Person1#: I think spring is finally here.\\n#P...</td>\n",
              "      <td>#Person1# and #Person2# discuss how spring is ...</td>\n",
              "      <td>Steps to evaluate the summary:\\n1. Identify t...</td>\n",
              "    </tr>\n",
              "    <tr>\n",
              "      <th>22</th>\n",
              "      <td>#Person1#: Would you please recommend some Chi...</td>\n",
              "      <td>#Person1# requests Chinese wine recommendation...</td>\n",
              "      <td>Step 1: To evaluate the summary as per the me...</td>\n",
              "    </tr>\n",
              "    <tr>\n",
              "      <th>23</th>\n",
              "      <td>#Person1#: John? It's Susan Miller.\\n#Person2#...</td>\n",
              "      <td>#Person1#, Susan Miller, asks #Person2#, John,...</td>\n",
              "      <td>Step 1: Evaluation Steps\\n1. Identify the maj...</td>\n",
              "    </tr>\n",
              "    <tr>\n",
              "      <th>24</th>\n",
              "      <td>#Person1#: Were you born in Los Angeles?\\n#Per...</td>\n",
              "      <td>#Person2# was born in Chicago, moved to Wilmet...</td>\n",
              "      <td>1. The steps to evaluate the summary as per t...</td>\n",
              "    </tr>\n",
              "    <tr>\n",
              "      <th>25</th>\n",
              "      <td>#Person1#: Well, I'd better get back to work. ...</td>\n",
              "      <td>#Person1# and #Person2# plan to meet after wor...</td>\n",
              "      <td>Steps to evaluate the summary as per the metr...</td>\n",
              "    </tr>\n",
              "    <tr>\n",
              "      <th>26</th>\n",
              "      <td>#Person1#: Hello, this is Francis.\\n#Person2#:...</td>\n",
              "      <td>#Person1# and #Person2# discuss meeting to wor...</td>\n",
              "      <td>Step 1: To evaluate the summary as per the me...</td>\n",
              "    </tr>\n",
              "    <tr>\n",
              "      <th>27</th>\n",
              "      <td>#Person1#: Brian, do you know how to speak Eng...</td>\n",
              "      <td>#Person1# discusses with #Person2# his ability...</td>\n",
              "      <td>1. Steps to evaluate the summary as per the m...</td>\n",
              "    </tr>\n",
              "    <tr>\n",
              "      <th>28</th>\n",
              "      <td>#Person1#: Honey, of course I forgive you! I l...</td>\n",
              "      <td>#Person2# returns home after dealing with fore...</td>\n",
              "      <td>1. The steps to evaluate the summary as per t...</td>\n",
              "    </tr>\n",
              "    <tr>\n",
              "      <th>29</th>\n",
              "      <td>#Person1#: My throat is really dry.\\n#Person2#...</td>\n",
              "      <td>#Person1# is feeling parched and considering g...</td>\n",
              "      <td>1. Steps to evaluate the summary as per the m...</td>\n",
              "    </tr>\n",
              "    <tr>\n",
              "      <th>30</th>\n",
              "      <td>#Person1#: Hello? Hello?\\n#Person2#: ...\\n#Per...</td>\n",
              "      <td>#Person1# receives unwanted calls from #Person...</td>\n",
              "      <td>1. The steps to evaluate the summary as per t...</td>\n",
              "    </tr>\n",
              "    <tr>\n",
              "      <th>31</th>\n",
              "      <td>#Person1#: I have to go up to London for a cou...</td>\n",
              "      <td>In the dialogue, #Person1# plans to go to Lond...</td>\n",
              "      <td>Step 1: Identify the main aspects being discu...</td>\n",
              "    </tr>\n",
              "  </tbody>\n",
              "</table>\n",
              "</div>\n",
              "    <div class=\"colab-df-buttons\">\n",
              "\n",
              "  <div class=\"colab-df-container\">\n",
              "    <button class=\"colab-df-convert\" onclick=\"convertToInteractive('df-8ae094de-c19c-4736-a64b-e0fde2ed4b15')\"\n",
              "            title=\"Convert this dataframe to an interactive table.\"\n",
              "            style=\"display:none;\">\n",
              "\n",
              "  <svg xmlns=\"http://www.w3.org/2000/svg\" height=\"24px\" viewBox=\"0 -960 960 960\">\n",
              "    <path d=\"M120-120v-720h720v720H120Zm60-500h600v-160H180v160Zm220 220h160v-160H400v160Zm0 220h160v-160H400v160ZM180-400h160v-160H180v160Zm440 0h160v-160H620v160ZM180-180h160v-160H180v160Zm440 0h160v-160H620v160Z\"/>\n",
              "  </svg>\n",
              "    </button>\n",
              "\n",
              "  <style>\n",
              "    .colab-df-container {\n",
              "      display:flex;\n",
              "      gap: 12px;\n",
              "    }\n",
              "\n",
              "    .colab-df-convert {\n",
              "      background-color: #E8F0FE;\n",
              "      border: none;\n",
              "      border-radius: 50%;\n",
              "      cursor: pointer;\n",
              "      display: none;\n",
              "      fill: #1967D2;\n",
              "      height: 32px;\n",
              "      padding: 0 0 0 0;\n",
              "      width: 32px;\n",
              "    }\n",
              "\n",
              "    .colab-df-convert:hover {\n",
              "      background-color: #E2EBFA;\n",
              "      box-shadow: 0px 1px 2px rgba(60, 64, 67, 0.3), 0px 1px 3px 1px rgba(60, 64, 67, 0.15);\n",
              "      fill: #174EA6;\n",
              "    }\n",
              "\n",
              "    .colab-df-buttons div {\n",
              "      margin-bottom: 4px;\n",
              "    }\n",
              "\n",
              "    [theme=dark] .colab-df-convert {\n",
              "      background-color: #3B4455;\n",
              "      fill: #D2E3FC;\n",
              "    }\n",
              "\n",
              "    [theme=dark] .colab-df-convert:hover {\n",
              "      background-color: #434B5C;\n",
              "      box-shadow: 0px 1px 3px 1px rgba(0, 0, 0, 0.15);\n",
              "      filter: drop-shadow(0px 1px 2px rgba(0, 0, 0, 0.3));\n",
              "      fill: #FFFFFF;\n",
              "    }\n",
              "  </style>\n",
              "\n",
              "    <script>\n",
              "      const buttonEl =\n",
              "        document.querySelector('#df-8ae094de-c19c-4736-a64b-e0fde2ed4b15 button.colab-df-convert');\n",
              "      buttonEl.style.display =\n",
              "        google.colab.kernel.accessAllowed ? 'block' : 'none';\n",
              "\n",
              "      async function convertToInteractive(key) {\n",
              "        const element = document.querySelector('#df-8ae094de-c19c-4736-a64b-e0fde2ed4b15');\n",
              "        const dataTable =\n",
              "          await google.colab.kernel.invokeFunction('convertToInteractive',\n",
              "                                                    [key], {});\n",
              "        if (!dataTable) return;\n",
              "\n",
              "        const docLinkHtml = 'Like what you see? Visit the ' +\n",
              "          '<a target=\"_blank\" href=https://colab.research.google.com/notebooks/data_table.ipynb>data table notebook</a>'\n",
              "          + ' to learn more about interactive tables.';\n",
              "        element.innerHTML = '';\n",
              "        dataTable['output_type'] = 'display_data';\n",
              "        await google.colab.output.renderOutput(dataTable, element);\n",
              "        const docLink = document.createElement('div');\n",
              "        docLink.innerHTML = docLinkHtml;\n",
              "        element.appendChild(docLink);\n",
              "      }\n",
              "    </script>\n",
              "  </div>\n",
              "\n",
              "\n",
              "<div id=\"df-5ce430b7-00d8-40d6-b2df-d463f9dc5bb2\">\n",
              "  <button class=\"colab-df-quickchart\" onclick=\"quickchart('df-5ce430b7-00d8-40d6-b2df-d463f9dc5bb2')\"\n",
              "            title=\"Suggest charts\"\n",
              "            style=\"display:none;\">\n",
              "\n",
              "<svg xmlns=\"http://www.w3.org/2000/svg\" height=\"24px\"viewBox=\"0 0 24 24\"\n",
              "     width=\"24px\">\n",
              "    <g>\n",
              "        <path d=\"M19 3H5c-1.1 0-2 .9-2 2v14c0 1.1.9 2 2 2h14c1.1 0 2-.9 2-2V5c0-1.1-.9-2-2-2zM9 17H7v-7h2v7zm4 0h-2V7h2v10zm4 0h-2v-4h2v4z\"/>\n",
              "    </g>\n",
              "</svg>\n",
              "  </button>\n",
              "\n",
              "<style>\n",
              "  .colab-df-quickchart {\n",
              "      --bg-color: #E8F0FE;\n",
              "      --fill-color: #1967D2;\n",
              "      --hover-bg-color: #E2EBFA;\n",
              "      --hover-fill-color: #174EA6;\n",
              "      --disabled-fill-color: #AAA;\n",
              "      --disabled-bg-color: #DDD;\n",
              "  }\n",
              "\n",
              "  [theme=dark] .colab-df-quickchart {\n",
              "      --bg-color: #3B4455;\n",
              "      --fill-color: #D2E3FC;\n",
              "      --hover-bg-color: #434B5C;\n",
              "      --hover-fill-color: #FFFFFF;\n",
              "      --disabled-bg-color: #3B4455;\n",
              "      --disabled-fill-color: #666;\n",
              "  }\n",
              "\n",
              "  .colab-df-quickchart {\n",
              "    background-color: var(--bg-color);\n",
              "    border: none;\n",
              "    border-radius: 50%;\n",
              "    cursor: pointer;\n",
              "    display: none;\n",
              "    fill: var(--fill-color);\n",
              "    height: 32px;\n",
              "    padding: 0;\n",
              "    width: 32px;\n",
              "  }\n",
              "\n",
              "  .colab-df-quickchart:hover {\n",
              "    background-color: var(--hover-bg-color);\n",
              "    box-shadow: 0 1px 2px rgba(60, 64, 67, 0.3), 0 1px 3px 1px rgba(60, 64, 67, 0.15);\n",
              "    fill: var(--button-hover-fill-color);\n",
              "  }\n",
              "\n",
              "  .colab-df-quickchart-complete:disabled,\n",
              "  .colab-df-quickchart-complete:disabled:hover {\n",
              "    background-color: var(--disabled-bg-color);\n",
              "    fill: var(--disabled-fill-color);\n",
              "    box-shadow: none;\n",
              "  }\n",
              "\n",
              "  .colab-df-spinner {\n",
              "    border: 2px solid var(--fill-color);\n",
              "    border-color: transparent;\n",
              "    border-bottom-color: var(--fill-color);\n",
              "    animation:\n",
              "      spin 1s steps(1) infinite;\n",
              "  }\n",
              "\n",
              "  @keyframes spin {\n",
              "    0% {\n",
              "      border-color: transparent;\n",
              "      border-bottom-color: var(--fill-color);\n",
              "      border-left-color: var(--fill-color);\n",
              "    }\n",
              "    20% {\n",
              "      border-color: transparent;\n",
              "      border-left-color: var(--fill-color);\n",
              "      border-top-color: var(--fill-color);\n",
              "    }\n",
              "    30% {\n",
              "      border-color: transparent;\n",
              "      border-left-color: var(--fill-color);\n",
              "      border-top-color: var(--fill-color);\n",
              "      border-right-color: var(--fill-color);\n",
              "    }\n",
              "    40% {\n",
              "      border-color: transparent;\n",
              "      border-right-color: var(--fill-color);\n",
              "      border-top-color: var(--fill-color);\n",
              "    }\n",
              "    60% {\n",
              "      border-color: transparent;\n",
              "      border-right-color: var(--fill-color);\n",
              "    }\n",
              "    80% {\n",
              "      border-color: transparent;\n",
              "      border-right-color: var(--fill-color);\n",
              "      border-bottom-color: var(--fill-color);\n",
              "    }\n",
              "    90% {\n",
              "      border-color: transparent;\n",
              "      border-bottom-color: var(--fill-color);\n",
              "    }\n",
              "  }\n",
              "</style>\n",
              "\n",
              "  <script>\n",
              "    async function quickchart(key) {\n",
              "      const quickchartButtonEl =\n",
              "        document.querySelector('#' + key + ' button');\n",
              "      quickchartButtonEl.disabled = true;  // To prevent multiple clicks.\n",
              "      quickchartButtonEl.classList.add('colab-df-spinner');\n",
              "      try {\n",
              "        const charts = await google.colab.kernel.invokeFunction(\n",
              "            'suggestCharts', [key], {});\n",
              "      } catch (error) {\n",
              "        console.error('Error during call to suggestCharts:', error);\n",
              "      }\n",
              "      quickchartButtonEl.classList.remove('colab-df-spinner');\n",
              "      quickchartButtonEl.classList.add('colab-df-quickchart-complete');\n",
              "    }\n",
              "    (() => {\n",
              "      let quickchartButtonEl =\n",
              "        document.querySelector('#df-5ce430b7-00d8-40d6-b2df-d463f9dc5bb2 button');\n",
              "      quickchartButtonEl.style.display =\n",
              "        google.colab.kernel.accessAllowed ? 'block' : 'none';\n",
              "    })();\n",
              "  </script>\n",
              "</div>\n",
              "    </div>\n",
              "  </div>\n"
            ],
            "application/vnd.google.colaboratory.intrinsic+json": {
              "type": "dataframe",
              "summary": "{\n  \"name\": \")\",\n  \"rows\": 32,\n  \"fields\": [\n    {\n      \"column\": \"dialogue\",\n      \"properties\": {\n        \"dtype\": \"string\",\n        \"num_unique_values\": 32,\n        \"samples\": [\n          \"#Person1#: My throat is really dry.\\n#Person2#: Do you want to go get something to drink?\\n#Person1#: Yes, I'm parched.\\n#Person2#: What did you want to drink?\\n#Person1#: I was thinking about getting a soda.\\n#Person2#: Do you know that soda doesn't quench your thirst?\\n#Person1#: Why not?\\n#Person2#: Soda is really bad for you.\\n#Person1#: I don't know what else to drink.\\n#Person2#: You're supposed to drink water when you're dehydrated.\\n#Person1#: I would like some water.\\n#Person2#: That's what will keep you from being thirsty.\",\n          \"#Person1#: Welcome to Danny's, may I take your order please?\\n#Person2#: Yeah, I'd like a turkey sandwich.\\n#Person1#: Alright, do you want cheese on your sandwich?\\n#Person2#: Yes, please and I'd like some other things to go with a sandwich for lunch.\\n#Person1#: Of course, you have your choice of soup or a salad and a medium drink.\\n#Person2#: What is the soup of the day?\\n#Person1#: We have beef with vegetables or chicken with rice.\\n#Person2#: Oh, I'll have beef with vegetables then and the Diet Coke.\\n#Person1#: Great, your total is $9.\\n#Person2#: Here's a 10, keep the change.\\n#Person1#: Thank you.\",\n          \"#Person1#: Were you born in Los Angeles?\\n#Person2#: No. I was born in Chicago as a matter of fact.\\n#Person1#: Oh, were you?\\n#Person2#: Yeah, I grew up in the suburbs, in Wilmette, and then I moved out here when I was fourteen.\\n#Person1#: So you went to high school here?\\n#Person2#: Yeah, that's right. I graduated from Lincoln High.\\n#Person1#: And then you went to college?\\n#Person2#: No, not exactly. First I went to Europe.\\n#Person1#: Oh. To travel?\\n#Person2#: Well, yes, and I also lived in Munich for a while.\\n#Person1#: When did you arrive in Munich?\\n#Person2#: Let me see now. That was about eleven years ago. Yeah, in 1995.\\n#Person1#: And how long did you stay there?\\n#Person2#: For almost two years.\\n#Person1#: Oh, that must have been very interesting.\"\n        ],\n        \"semantic_type\": \"\",\n        \"description\": \"\"\n      }\n    },\n    {\n      \"column\": \"prediction\",\n      \"properties\": {\n        \"dtype\": \"string\",\n        \"num_unique_values\": 32,\n        \"samples\": [\n          \"#Person1# is feeling parched and considering getting a soda. #Person2# informs #Person1# that soda isn't good for dehydration and suggests drinking water instead.\",\n          \"#Person2# orders a turkey sandwich with cheese and beef vegetable soup at Danny's. The total cost is $9 and #Person2# pays with a $10 bill.\",\n          \"#Person2# was born in Chicago, moved to Wilmette when young, and attended Lincoln High. They visited Europe and lived in Munich for two years before returning to California, where the conversation with #Person1# took place.\"\n        ],\n        \"semantic_type\": \"\",\n        \"description\": \"\"\n      }\n    },\n    {\n      \"column\": \"rating\",\n      \"properties\": {\n        \"dtype\": \"string\",\n        \"num_unique_values\": 32,\n        \"samples\": [\n          \" 1. Steps to evaluate the summary as per the metric:\\n   a. Identify the major aspects being discussed in the dialogue.\\n   b. Check if the summary covers all these aspects.\\n\\n2. Step-by-step explanation if the summary adheres to the metric considering the dialogues as the input:\\n   a. In the dialogue, the major aspects being discussed include #Person1#'s dry throat, considering getting a soda to drink, and #Person2#'s suggestion to drink water instead due to soda not being good for dehydration.\\n   b. The summary covers the fact that #Person1# is feeling parched, they were considering getting a soda, and #Person2# suggests drinking water instead. The summary does not explicitly mention that soda is not good for dehydration, but it implies this idea.\\n\\n3. Extent to which the metric is followed:\\n   The summary adheres mostly to the metric. It covers all the major aspects being discussed, and though it does not explicitly mention that soda is not good for dehydration, it does imply this idea, making the summary mostly accurate.\\n\\n4. Evaluation score:\\n   Based on the above analysis, I would assign the score as \\\"4 - The metric is followed mostly,\\\" as the summary adheres mostly to the metric.\",\n          \" 1. The steps to evaluate the summary as per the metric are:\\n- Identify the major aspects being discussed in the dialogue.\\n- Check if all those aspects are covered in the summary.\\n\\n2. Step-by-step explanation:\\n- The major aspects being discussed in the dialogue are:\\n  a. Person2 ordering a turkey sandwich with cheese.\\n  b. Person2 asking for something to go with the sandwich for lunch, to which the response is a choice of soup or salad with a medium drink.\\n  c. Person2 choosing beef with vegetables soup.\\n  d. The total cost of the order being $9.\\n  e. Person2 paying with a $10 bill.\\n- The summary covers all the above mentioned aspects, i.e. Person2 ordering a turkey sandwich with cheese, choosing beef vegetable soup, and paying with a $10 bill, and the total cost being $9.\\n\\n3. Based on the above explanation, the summary adheres to the metric and covers all the major aspects discussed in the dialogue.\\n\\n4. The metric is followed completely, as all the major aspects discussed in the dialogue are covered in the summary. Therefore, I would rate the summary as a 5.\",\n          \" 1. The steps to evaluate the summary as per the metric are:\\n   a. Identify the main topics discussed in the dialogue.\\n   b. Check if the summary includes all the major aspects covered in the dialogue.\\n  \"\n        ],\n        \"semantic_type\": \"\",\n        \"description\": \"\"\n      }\n    }\n  ]\n}"
            }
          },
          "metadata": {},
          "execution_count": 50
        }
      ]
    },
    {
      "cell_type": "markdown",
      "source": [
        "These detailed ratings could be used to diagnose issues with the prompt or the model used."
      ],
      "metadata": {
        "id": "8vfH3PWYq1_D"
      }
    }
  ]
}