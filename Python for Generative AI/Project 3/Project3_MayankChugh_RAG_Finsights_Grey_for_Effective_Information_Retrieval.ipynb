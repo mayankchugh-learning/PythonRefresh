{
  "nbformat": 4,
  "nbformat_minor": 0,
  "metadata": {
    "colab": {
      "provenance": [],
      "gpuType": "T4"
    },
    "kernelspec": {
      "name": "python3",
      "display_name": "Python 3"
    },
    "language_info": {
      "name": "python"
    },
    "accelerator": "GPU",
    "widgets": {
      "application/vnd.jupyter.widget-state+json": {
        "540e126108cf49588b9875c735e8a719": {
          "model_module": "@jupyter-widgets/controls",
          "model_name": "HBoxModel",
          "model_module_version": "1.5.0",
          "state": {
            "_dom_classes": [],
            "_model_module": "@jupyter-widgets/controls",
            "_model_module_version": "1.5.0",
            "_model_name": "HBoxModel",
            "_view_count": null,
            "_view_module": "@jupyter-widgets/controls",
            "_view_module_version": "1.5.0",
            "_view_name": "HBoxView",
            "box_style": "",
            "children": [
              "IPY_MODEL_4e20732c9e4f4e4dbb1f46674dd8c39a",
              "IPY_MODEL_3d4b90a537294f6fbbfec26b42ad0dc0",
              "IPY_MODEL_0869ab4412a24c80af6fa55d27d5ae15"
            ],
            "layout": "IPY_MODEL_49cf346a9e154ceb865cb8f220f2cca9"
          }
        },
        "4e20732c9e4f4e4dbb1f46674dd8c39a": {
          "model_module": "@jupyter-widgets/controls",
          "model_name": "HTMLModel",
          "model_module_version": "1.5.0",
          "state": {
            "_dom_classes": [],
            "_model_module": "@jupyter-widgets/controls",
            "_model_module_version": "1.5.0",
            "_model_name": "HTMLModel",
            "_view_count": null,
            "_view_module": "@jupyter-widgets/controls",
            "_view_module_version": "1.5.0",
            "_view_name": "HTMLView",
            "description": "",
            "description_tooltip": null,
            "layout": "IPY_MODEL_49ecc794134c43ec85fc94679ff2a230",
            "placeholder": "​",
            "style": "IPY_MODEL_367c7c4b8dab4816a631d7c2b9083d37",
            "value": "modules.json: 100%"
          }
        },
        "3d4b90a537294f6fbbfec26b42ad0dc0": {
          "model_module": "@jupyter-widgets/controls",
          "model_name": "FloatProgressModel",
          "model_module_version": "1.5.0",
          "state": {
            "_dom_classes": [],
            "_model_module": "@jupyter-widgets/controls",
            "_model_module_version": "1.5.0",
            "_model_name": "FloatProgressModel",
            "_view_count": null,
            "_view_module": "@jupyter-widgets/controls",
            "_view_module_version": "1.5.0",
            "_view_name": "ProgressView",
            "bar_style": "success",
            "description": "",
            "description_tooltip": null,
            "layout": "IPY_MODEL_5756ecc5ebad4c8faf1dc50064a5fcf4",
            "max": 385,
            "min": 0,
            "orientation": "horizontal",
            "style": "IPY_MODEL_2c1fb94cf67f4e0aaa42f8d3f4fb1f31",
            "value": 385
          }
        },
        "0869ab4412a24c80af6fa55d27d5ae15": {
          "model_module": "@jupyter-widgets/controls",
          "model_name": "HTMLModel",
          "model_module_version": "1.5.0",
          "state": {
            "_dom_classes": [],
            "_model_module": "@jupyter-widgets/controls",
            "_model_module_version": "1.5.0",
            "_model_name": "HTMLModel",
            "_view_count": null,
            "_view_module": "@jupyter-widgets/controls",
            "_view_module_version": "1.5.0",
            "_view_name": "HTMLView",
            "description": "",
            "description_tooltip": null,
            "layout": "IPY_MODEL_47f7441698044e619d736e80489ca866",
            "placeholder": "​",
            "style": "IPY_MODEL_c39225f475c54c7d9188a783705a9b3d",
            "value": " 385/385 [00:00&lt;00:00, 24.5kB/s]"
          }
        },
        "49cf346a9e154ceb865cb8f220f2cca9": {
          "model_module": "@jupyter-widgets/base",
          "model_name": "LayoutModel",
          "model_module_version": "1.2.0",
          "state": {
            "_model_module": "@jupyter-widgets/base",
            "_model_module_version": "1.2.0",
            "_model_name": "LayoutModel",
            "_view_count": null,
            "_view_module": "@jupyter-widgets/base",
            "_view_module_version": "1.2.0",
            "_view_name": "LayoutView",
            "align_content": null,
            "align_items": null,
            "align_self": null,
            "border": null,
            "bottom": null,
            "display": null,
            "flex": null,
            "flex_flow": null,
            "grid_area": null,
            "grid_auto_columns": null,
            "grid_auto_flow": null,
            "grid_auto_rows": null,
            "grid_column": null,
            "grid_gap": null,
            "grid_row": null,
            "grid_template_areas": null,
            "grid_template_columns": null,
            "grid_template_rows": null,
            "height": null,
            "justify_content": null,
            "justify_items": null,
            "left": null,
            "margin": null,
            "max_height": null,
            "max_width": null,
            "min_height": null,
            "min_width": null,
            "object_fit": null,
            "object_position": null,
            "order": null,
            "overflow": null,
            "overflow_x": null,
            "overflow_y": null,
            "padding": null,
            "right": null,
            "top": null,
            "visibility": null,
            "width": null
          }
        },
        "49ecc794134c43ec85fc94679ff2a230": {
          "model_module": "@jupyter-widgets/base",
          "model_name": "LayoutModel",
          "model_module_version": "1.2.0",
          "state": {
            "_model_module": "@jupyter-widgets/base",
            "_model_module_version": "1.2.0",
            "_model_name": "LayoutModel",
            "_view_count": null,
            "_view_module": "@jupyter-widgets/base",
            "_view_module_version": "1.2.0",
            "_view_name": "LayoutView",
            "align_content": null,
            "align_items": null,
            "align_self": null,
            "border": null,
            "bottom": null,
            "display": null,
            "flex": null,
            "flex_flow": null,
            "grid_area": null,
            "grid_auto_columns": null,
            "grid_auto_flow": null,
            "grid_auto_rows": null,
            "grid_column": null,
            "grid_gap": null,
            "grid_row": null,
            "grid_template_areas": null,
            "grid_template_columns": null,
            "grid_template_rows": null,
            "height": null,
            "justify_content": null,
            "justify_items": null,
            "left": null,
            "margin": null,
            "max_height": null,
            "max_width": null,
            "min_height": null,
            "min_width": null,
            "object_fit": null,
            "object_position": null,
            "order": null,
            "overflow": null,
            "overflow_x": null,
            "overflow_y": null,
            "padding": null,
            "right": null,
            "top": null,
            "visibility": null,
            "width": null
          }
        },
        "367c7c4b8dab4816a631d7c2b9083d37": {
          "model_module": "@jupyter-widgets/controls",
          "model_name": "DescriptionStyleModel",
          "model_module_version": "1.5.0",
          "state": {
            "_model_module": "@jupyter-widgets/controls",
            "_model_module_version": "1.5.0",
            "_model_name": "DescriptionStyleModel",
            "_view_count": null,
            "_view_module": "@jupyter-widgets/base",
            "_view_module_version": "1.2.0",
            "_view_name": "StyleView",
            "description_width": ""
          }
        },
        "5756ecc5ebad4c8faf1dc50064a5fcf4": {
          "model_module": "@jupyter-widgets/base",
          "model_name": "LayoutModel",
          "model_module_version": "1.2.0",
          "state": {
            "_model_module": "@jupyter-widgets/base",
            "_model_module_version": "1.2.0",
            "_model_name": "LayoutModel",
            "_view_count": null,
            "_view_module": "@jupyter-widgets/base",
            "_view_module_version": "1.2.0",
            "_view_name": "LayoutView",
            "align_content": null,
            "align_items": null,
            "align_self": null,
            "border": null,
            "bottom": null,
            "display": null,
            "flex": null,
            "flex_flow": null,
            "grid_area": null,
            "grid_auto_columns": null,
            "grid_auto_flow": null,
            "grid_auto_rows": null,
            "grid_column": null,
            "grid_gap": null,
            "grid_row": null,
            "grid_template_areas": null,
            "grid_template_columns": null,
            "grid_template_rows": null,
            "height": null,
            "justify_content": null,
            "justify_items": null,
            "left": null,
            "margin": null,
            "max_height": null,
            "max_width": null,
            "min_height": null,
            "min_width": null,
            "object_fit": null,
            "object_position": null,
            "order": null,
            "overflow": null,
            "overflow_x": null,
            "overflow_y": null,
            "padding": null,
            "right": null,
            "top": null,
            "visibility": null,
            "width": null
          }
        },
        "2c1fb94cf67f4e0aaa42f8d3f4fb1f31": {
          "model_module": "@jupyter-widgets/controls",
          "model_name": "ProgressStyleModel",
          "model_module_version": "1.5.0",
          "state": {
            "_model_module": "@jupyter-widgets/controls",
            "_model_module_version": "1.5.0",
            "_model_name": "ProgressStyleModel",
            "_view_count": null,
            "_view_module": "@jupyter-widgets/base",
            "_view_module_version": "1.2.0",
            "_view_name": "StyleView",
            "bar_color": null,
            "description_width": ""
          }
        },
        "47f7441698044e619d736e80489ca866": {
          "model_module": "@jupyter-widgets/base",
          "model_name": "LayoutModel",
          "model_module_version": "1.2.0",
          "state": {
            "_model_module": "@jupyter-widgets/base",
            "_model_module_version": "1.2.0",
            "_model_name": "LayoutModel",
            "_view_count": null,
            "_view_module": "@jupyter-widgets/base",
            "_view_module_version": "1.2.0",
            "_view_name": "LayoutView",
            "align_content": null,
            "align_items": null,
            "align_self": null,
            "border": null,
            "bottom": null,
            "display": null,
            "flex": null,
            "flex_flow": null,
            "grid_area": null,
            "grid_auto_columns": null,
            "grid_auto_flow": null,
            "grid_auto_rows": null,
            "grid_column": null,
            "grid_gap": null,
            "grid_row": null,
            "grid_template_areas": null,
            "grid_template_columns": null,
            "grid_template_rows": null,
            "height": null,
            "justify_content": null,
            "justify_items": null,
            "left": null,
            "margin": null,
            "max_height": null,
            "max_width": null,
            "min_height": null,
            "min_width": null,
            "object_fit": null,
            "object_position": null,
            "order": null,
            "overflow": null,
            "overflow_x": null,
            "overflow_y": null,
            "padding": null,
            "right": null,
            "top": null,
            "visibility": null,
            "width": null
          }
        },
        "c39225f475c54c7d9188a783705a9b3d": {
          "model_module": "@jupyter-widgets/controls",
          "model_name": "DescriptionStyleModel",
          "model_module_version": "1.5.0",
          "state": {
            "_model_module": "@jupyter-widgets/controls",
            "_model_module_version": "1.5.0",
            "_model_name": "DescriptionStyleModel",
            "_view_count": null,
            "_view_module": "@jupyter-widgets/base",
            "_view_module_version": "1.2.0",
            "_view_name": "StyleView",
            "description_width": ""
          }
        },
        "b44f5a01a16f4538bda7c6182cf45871": {
          "model_module": "@jupyter-widgets/controls",
          "model_name": "HBoxModel",
          "model_module_version": "1.5.0",
          "state": {
            "_dom_classes": [],
            "_model_module": "@jupyter-widgets/controls",
            "_model_module_version": "1.5.0",
            "_model_name": "HBoxModel",
            "_view_count": null,
            "_view_module": "@jupyter-widgets/controls",
            "_view_module_version": "1.5.0",
            "_view_name": "HBoxView",
            "box_style": "",
            "children": [
              "IPY_MODEL_9d01c136731c49f6bb483d06e6b15cf6",
              "IPY_MODEL_a1bb54a6c8dd4ad8a3683b4ceb707b7b",
              "IPY_MODEL_3f687a8cf5c348bd936e54cfd1f0bf5d"
            ],
            "layout": "IPY_MODEL_70024e6c2c1442d9b194c718fd2dc8af"
          }
        },
        "9d01c136731c49f6bb483d06e6b15cf6": {
          "model_module": "@jupyter-widgets/controls",
          "model_name": "HTMLModel",
          "model_module_version": "1.5.0",
          "state": {
            "_dom_classes": [],
            "_model_module": "@jupyter-widgets/controls",
            "_model_module_version": "1.5.0",
            "_model_name": "HTMLModel",
            "_view_count": null,
            "_view_module": "@jupyter-widgets/controls",
            "_view_module_version": "1.5.0",
            "_view_name": "HTMLView",
            "description": "",
            "description_tooltip": null,
            "layout": "IPY_MODEL_6dc55e58c7d842f2975b67e06418d54d",
            "placeholder": "​",
            "style": "IPY_MODEL_04ce4f5d9c8546cda87031acdf2ef721",
            "value": "README.md: 100%"
          }
        },
        "a1bb54a6c8dd4ad8a3683b4ceb707b7b": {
          "model_module": "@jupyter-widgets/controls",
          "model_name": "FloatProgressModel",
          "model_module_version": "1.5.0",
          "state": {
            "_dom_classes": [],
            "_model_module": "@jupyter-widgets/controls",
            "_model_module_version": "1.5.0",
            "_model_name": "FloatProgressModel",
            "_view_count": null,
            "_view_module": "@jupyter-widgets/controls",
            "_view_module_version": "1.5.0",
            "_view_name": "ProgressView",
            "bar_style": "success",
            "description": "",
            "description_tooltip": null,
            "layout": "IPY_MODEL_6900e7c682b4431994a909d9026a327c",
            "max": 67863,
            "min": 0,
            "orientation": "horizontal",
            "style": "IPY_MODEL_89bdd47fa8eb4e1fbfe77585e2f2a294",
            "value": 67863
          }
        },
        "3f687a8cf5c348bd936e54cfd1f0bf5d": {
          "model_module": "@jupyter-widgets/controls",
          "model_name": "HTMLModel",
          "model_module_version": "1.5.0",
          "state": {
            "_dom_classes": [],
            "_model_module": "@jupyter-widgets/controls",
            "_model_module_version": "1.5.0",
            "_model_name": "HTMLModel",
            "_view_count": null,
            "_view_module": "@jupyter-widgets/controls",
            "_view_module_version": "1.5.0",
            "_view_name": "HTMLView",
            "description": "",
            "description_tooltip": null,
            "layout": "IPY_MODEL_3a68dfc1cff54b6ead5c4a0461c988c4",
            "placeholder": "​",
            "style": "IPY_MODEL_ca8ce9d0898143e19b9c18252fb4ab51",
            "value": " 67.9k/67.9k [00:00&lt;00:00, 3.93MB/s]"
          }
        },
        "70024e6c2c1442d9b194c718fd2dc8af": {
          "model_module": "@jupyter-widgets/base",
          "model_name": "LayoutModel",
          "model_module_version": "1.2.0",
          "state": {
            "_model_module": "@jupyter-widgets/base",
            "_model_module_version": "1.2.0",
            "_model_name": "LayoutModel",
            "_view_count": null,
            "_view_module": "@jupyter-widgets/base",
            "_view_module_version": "1.2.0",
            "_view_name": "LayoutView",
            "align_content": null,
            "align_items": null,
            "align_self": null,
            "border": null,
            "bottom": null,
            "display": null,
            "flex": null,
            "flex_flow": null,
            "grid_area": null,
            "grid_auto_columns": null,
            "grid_auto_flow": null,
            "grid_auto_rows": null,
            "grid_column": null,
            "grid_gap": null,
            "grid_row": null,
            "grid_template_areas": null,
            "grid_template_columns": null,
            "grid_template_rows": null,
            "height": null,
            "justify_content": null,
            "justify_items": null,
            "left": null,
            "margin": null,
            "max_height": null,
            "max_width": null,
            "min_height": null,
            "min_width": null,
            "object_fit": null,
            "object_position": null,
            "order": null,
            "overflow": null,
            "overflow_x": null,
            "overflow_y": null,
            "padding": null,
            "right": null,
            "top": null,
            "visibility": null,
            "width": null
          }
        },
        "6dc55e58c7d842f2975b67e06418d54d": {
          "model_module": "@jupyter-widgets/base",
          "model_name": "LayoutModel",
          "model_module_version": "1.2.0",
          "state": {
            "_model_module": "@jupyter-widgets/base",
            "_model_module_version": "1.2.0",
            "_model_name": "LayoutModel",
            "_view_count": null,
            "_view_module": "@jupyter-widgets/base",
            "_view_module_version": "1.2.0",
            "_view_name": "LayoutView",
            "align_content": null,
            "align_items": null,
            "align_self": null,
            "border": null,
            "bottom": null,
            "display": null,
            "flex": null,
            "flex_flow": null,
            "grid_area": null,
            "grid_auto_columns": null,
            "grid_auto_flow": null,
            "grid_auto_rows": null,
            "grid_column": null,
            "grid_gap": null,
            "grid_row": null,
            "grid_template_areas": null,
            "grid_template_columns": null,
            "grid_template_rows": null,
            "height": null,
            "justify_content": null,
            "justify_items": null,
            "left": null,
            "margin": null,
            "max_height": null,
            "max_width": null,
            "min_height": null,
            "min_width": null,
            "object_fit": null,
            "object_position": null,
            "order": null,
            "overflow": null,
            "overflow_x": null,
            "overflow_y": null,
            "padding": null,
            "right": null,
            "top": null,
            "visibility": null,
            "width": null
          }
        },
        "04ce4f5d9c8546cda87031acdf2ef721": {
          "model_module": "@jupyter-widgets/controls",
          "model_name": "DescriptionStyleModel",
          "model_module_version": "1.5.0",
          "state": {
            "_model_module": "@jupyter-widgets/controls",
            "_model_module_version": "1.5.0",
            "_model_name": "DescriptionStyleModel",
            "_view_count": null,
            "_view_module": "@jupyter-widgets/base",
            "_view_module_version": "1.2.0",
            "_view_name": "StyleView",
            "description_width": ""
          }
        },
        "6900e7c682b4431994a909d9026a327c": {
          "model_module": "@jupyter-widgets/base",
          "model_name": "LayoutModel",
          "model_module_version": "1.2.0",
          "state": {
            "_model_module": "@jupyter-widgets/base",
            "_model_module_version": "1.2.0",
            "_model_name": "LayoutModel",
            "_view_count": null,
            "_view_module": "@jupyter-widgets/base",
            "_view_module_version": "1.2.0",
            "_view_name": "LayoutView",
            "align_content": null,
            "align_items": null,
            "align_self": null,
            "border": null,
            "bottom": null,
            "display": null,
            "flex": null,
            "flex_flow": null,
            "grid_area": null,
            "grid_auto_columns": null,
            "grid_auto_flow": null,
            "grid_auto_rows": null,
            "grid_column": null,
            "grid_gap": null,
            "grid_row": null,
            "grid_template_areas": null,
            "grid_template_columns": null,
            "grid_template_rows": null,
            "height": null,
            "justify_content": null,
            "justify_items": null,
            "left": null,
            "margin": null,
            "max_height": null,
            "max_width": null,
            "min_height": null,
            "min_width": null,
            "object_fit": null,
            "object_position": null,
            "order": null,
            "overflow": null,
            "overflow_x": null,
            "overflow_y": null,
            "padding": null,
            "right": null,
            "top": null,
            "visibility": null,
            "width": null
          }
        },
        "89bdd47fa8eb4e1fbfe77585e2f2a294": {
          "model_module": "@jupyter-widgets/controls",
          "model_name": "ProgressStyleModel",
          "model_module_version": "1.5.0",
          "state": {
            "_model_module": "@jupyter-widgets/controls",
            "_model_module_version": "1.5.0",
            "_model_name": "ProgressStyleModel",
            "_view_count": null,
            "_view_module": "@jupyter-widgets/base",
            "_view_module_version": "1.2.0",
            "_view_name": "StyleView",
            "bar_color": null,
            "description_width": ""
          }
        },
        "3a68dfc1cff54b6ead5c4a0461c988c4": {
          "model_module": "@jupyter-widgets/base",
          "model_name": "LayoutModel",
          "model_module_version": "1.2.0",
          "state": {
            "_model_module": "@jupyter-widgets/base",
            "_model_module_version": "1.2.0",
            "_model_name": "LayoutModel",
            "_view_count": null,
            "_view_module": "@jupyter-widgets/base",
            "_view_module_version": "1.2.0",
            "_view_name": "LayoutView",
            "align_content": null,
            "align_items": null,
            "align_self": null,
            "border": null,
            "bottom": null,
            "display": null,
            "flex": null,
            "flex_flow": null,
            "grid_area": null,
            "grid_auto_columns": null,
            "grid_auto_flow": null,
            "grid_auto_rows": null,
            "grid_column": null,
            "grid_gap": null,
            "grid_row": null,
            "grid_template_areas": null,
            "grid_template_columns": null,
            "grid_template_rows": null,
            "height": null,
            "justify_content": null,
            "justify_items": null,
            "left": null,
            "margin": null,
            "max_height": null,
            "max_width": null,
            "min_height": null,
            "min_width": null,
            "object_fit": null,
            "object_position": null,
            "order": null,
            "overflow": null,
            "overflow_x": null,
            "overflow_y": null,
            "padding": null,
            "right": null,
            "top": null,
            "visibility": null,
            "width": null
          }
        },
        "ca8ce9d0898143e19b9c18252fb4ab51": {
          "model_module": "@jupyter-widgets/controls",
          "model_name": "DescriptionStyleModel",
          "model_module_version": "1.5.0",
          "state": {
            "_model_module": "@jupyter-widgets/controls",
            "_model_module_version": "1.5.0",
            "_model_name": "DescriptionStyleModel",
            "_view_count": null,
            "_view_module": "@jupyter-widgets/base",
            "_view_module_version": "1.2.0",
            "_view_name": "StyleView",
            "description_width": ""
          }
        },
        "22adcf12a7114bbeae87cfbf26abdea2": {
          "model_module": "@jupyter-widgets/controls",
          "model_name": "HBoxModel",
          "model_module_version": "1.5.0",
          "state": {
            "_dom_classes": [],
            "_model_module": "@jupyter-widgets/controls",
            "_model_module_version": "1.5.0",
            "_model_name": "HBoxModel",
            "_view_count": null,
            "_view_module": "@jupyter-widgets/controls",
            "_view_module_version": "1.5.0",
            "_view_name": "HBoxView",
            "box_style": "",
            "children": [
              "IPY_MODEL_d06c35fc544445b89ac6bbdddf773a58",
              "IPY_MODEL_7ed67cdcb1674e51a1f26fac382a3578",
              "IPY_MODEL_92ec5b030b6e4092a2efdd8cbe4a6130"
            ],
            "layout": "IPY_MODEL_c820484acc184119bc7a84b9bfb99cc6"
          }
        },
        "d06c35fc544445b89ac6bbdddf773a58": {
          "model_module": "@jupyter-widgets/controls",
          "model_name": "HTMLModel",
          "model_module_version": "1.5.0",
          "state": {
            "_dom_classes": [],
            "_model_module": "@jupyter-widgets/controls",
            "_model_module_version": "1.5.0",
            "_model_name": "HTMLModel",
            "_view_count": null,
            "_view_module": "@jupyter-widgets/controls",
            "_view_module_version": "1.5.0",
            "_view_name": "HTMLView",
            "description": "",
            "description_tooltip": null,
            "layout": "IPY_MODEL_6cd90a0866c94ac3a410332e36e69ff1",
            "placeholder": "​",
            "style": "IPY_MODEL_237043a8eaaf49a3912db565eb6ec829",
            "value": "sentence_bert_config.json: 100%"
          }
        },
        "7ed67cdcb1674e51a1f26fac382a3578": {
          "model_module": "@jupyter-widgets/controls",
          "model_name": "FloatProgressModel",
          "model_module_version": "1.5.0",
          "state": {
            "_dom_classes": [],
            "_model_module": "@jupyter-widgets/controls",
            "_model_module_version": "1.5.0",
            "_model_name": "FloatProgressModel",
            "_view_count": null,
            "_view_module": "@jupyter-widgets/controls",
            "_view_module_version": "1.5.0",
            "_view_name": "ProgressView",
            "bar_style": "success",
            "description": "",
            "description_tooltip": null,
            "layout": "IPY_MODEL_5de7fd7021804b7c91bba1a48093278a",
            "max": 57,
            "min": 0,
            "orientation": "horizontal",
            "style": "IPY_MODEL_290ff67c0e084db9911e9caa8887c089",
            "value": 57
          }
        },
        "92ec5b030b6e4092a2efdd8cbe4a6130": {
          "model_module": "@jupyter-widgets/controls",
          "model_name": "HTMLModel",
          "model_module_version": "1.5.0",
          "state": {
            "_dom_classes": [],
            "_model_module": "@jupyter-widgets/controls",
            "_model_module_version": "1.5.0",
            "_model_name": "HTMLModel",
            "_view_count": null,
            "_view_module": "@jupyter-widgets/controls",
            "_view_module_version": "1.5.0",
            "_view_name": "HTMLView",
            "description": "",
            "description_tooltip": null,
            "layout": "IPY_MODEL_7e99d300d06646a1a41739a00f330d8c",
            "placeholder": "​",
            "style": "IPY_MODEL_5616b4df00ba48c9b2f0de203e47871f",
            "value": " 57.0/57.0 [00:00&lt;00:00, 3.91kB/s]"
          }
        },
        "c820484acc184119bc7a84b9bfb99cc6": {
          "model_module": "@jupyter-widgets/base",
          "model_name": "LayoutModel",
          "model_module_version": "1.2.0",
          "state": {
            "_model_module": "@jupyter-widgets/base",
            "_model_module_version": "1.2.0",
            "_model_name": "LayoutModel",
            "_view_count": null,
            "_view_module": "@jupyter-widgets/base",
            "_view_module_version": "1.2.0",
            "_view_name": "LayoutView",
            "align_content": null,
            "align_items": null,
            "align_self": null,
            "border": null,
            "bottom": null,
            "display": null,
            "flex": null,
            "flex_flow": null,
            "grid_area": null,
            "grid_auto_columns": null,
            "grid_auto_flow": null,
            "grid_auto_rows": null,
            "grid_column": null,
            "grid_gap": null,
            "grid_row": null,
            "grid_template_areas": null,
            "grid_template_columns": null,
            "grid_template_rows": null,
            "height": null,
            "justify_content": null,
            "justify_items": null,
            "left": null,
            "margin": null,
            "max_height": null,
            "max_width": null,
            "min_height": null,
            "min_width": null,
            "object_fit": null,
            "object_position": null,
            "order": null,
            "overflow": null,
            "overflow_x": null,
            "overflow_y": null,
            "padding": null,
            "right": null,
            "top": null,
            "visibility": null,
            "width": null
          }
        },
        "6cd90a0866c94ac3a410332e36e69ff1": {
          "model_module": "@jupyter-widgets/base",
          "model_name": "LayoutModel",
          "model_module_version": "1.2.0",
          "state": {
            "_model_module": "@jupyter-widgets/base",
            "_model_module_version": "1.2.0",
            "_model_name": "LayoutModel",
            "_view_count": null,
            "_view_module": "@jupyter-widgets/base",
            "_view_module_version": "1.2.0",
            "_view_name": "LayoutView",
            "align_content": null,
            "align_items": null,
            "align_self": null,
            "border": null,
            "bottom": null,
            "display": null,
            "flex": null,
            "flex_flow": null,
            "grid_area": null,
            "grid_auto_columns": null,
            "grid_auto_flow": null,
            "grid_auto_rows": null,
            "grid_column": null,
            "grid_gap": null,
            "grid_row": null,
            "grid_template_areas": null,
            "grid_template_columns": null,
            "grid_template_rows": null,
            "height": null,
            "justify_content": null,
            "justify_items": null,
            "left": null,
            "margin": null,
            "max_height": null,
            "max_width": null,
            "min_height": null,
            "min_width": null,
            "object_fit": null,
            "object_position": null,
            "order": null,
            "overflow": null,
            "overflow_x": null,
            "overflow_y": null,
            "padding": null,
            "right": null,
            "top": null,
            "visibility": null,
            "width": null
          }
        },
        "237043a8eaaf49a3912db565eb6ec829": {
          "model_module": "@jupyter-widgets/controls",
          "model_name": "DescriptionStyleModel",
          "model_module_version": "1.5.0",
          "state": {
            "_model_module": "@jupyter-widgets/controls",
            "_model_module_version": "1.5.0",
            "_model_name": "DescriptionStyleModel",
            "_view_count": null,
            "_view_module": "@jupyter-widgets/base",
            "_view_module_version": "1.2.0",
            "_view_name": "StyleView",
            "description_width": ""
          }
        },
        "5de7fd7021804b7c91bba1a48093278a": {
          "model_module": "@jupyter-widgets/base",
          "model_name": "LayoutModel",
          "model_module_version": "1.2.0",
          "state": {
            "_model_module": "@jupyter-widgets/base",
            "_model_module_version": "1.2.0",
            "_model_name": "LayoutModel",
            "_view_count": null,
            "_view_module": "@jupyter-widgets/base",
            "_view_module_version": "1.2.0",
            "_view_name": "LayoutView",
            "align_content": null,
            "align_items": null,
            "align_self": null,
            "border": null,
            "bottom": null,
            "display": null,
            "flex": null,
            "flex_flow": null,
            "grid_area": null,
            "grid_auto_columns": null,
            "grid_auto_flow": null,
            "grid_auto_rows": null,
            "grid_column": null,
            "grid_gap": null,
            "grid_row": null,
            "grid_template_areas": null,
            "grid_template_columns": null,
            "grid_template_rows": null,
            "height": null,
            "justify_content": null,
            "justify_items": null,
            "left": null,
            "margin": null,
            "max_height": null,
            "max_width": null,
            "min_height": null,
            "min_width": null,
            "object_fit": null,
            "object_position": null,
            "order": null,
            "overflow": null,
            "overflow_x": null,
            "overflow_y": null,
            "padding": null,
            "right": null,
            "top": null,
            "visibility": null,
            "width": null
          }
        },
        "290ff67c0e084db9911e9caa8887c089": {
          "model_module": "@jupyter-widgets/controls",
          "model_name": "ProgressStyleModel",
          "model_module_version": "1.5.0",
          "state": {
            "_model_module": "@jupyter-widgets/controls",
            "_model_module_version": "1.5.0",
            "_model_name": "ProgressStyleModel",
            "_view_count": null,
            "_view_module": "@jupyter-widgets/base",
            "_view_module_version": "1.2.0",
            "_view_name": "StyleView",
            "bar_color": null,
            "description_width": ""
          }
        },
        "7e99d300d06646a1a41739a00f330d8c": {
          "model_module": "@jupyter-widgets/base",
          "model_name": "LayoutModel",
          "model_module_version": "1.2.0",
          "state": {
            "_model_module": "@jupyter-widgets/base",
            "_model_module_version": "1.2.0",
            "_model_name": "LayoutModel",
            "_view_count": null,
            "_view_module": "@jupyter-widgets/base",
            "_view_module_version": "1.2.0",
            "_view_name": "LayoutView",
            "align_content": null,
            "align_items": null,
            "align_self": null,
            "border": null,
            "bottom": null,
            "display": null,
            "flex": null,
            "flex_flow": null,
            "grid_area": null,
            "grid_auto_columns": null,
            "grid_auto_flow": null,
            "grid_auto_rows": null,
            "grid_column": null,
            "grid_gap": null,
            "grid_row": null,
            "grid_template_areas": null,
            "grid_template_columns": null,
            "grid_template_rows": null,
            "height": null,
            "justify_content": null,
            "justify_items": null,
            "left": null,
            "margin": null,
            "max_height": null,
            "max_width": null,
            "min_height": null,
            "min_width": null,
            "object_fit": null,
            "object_position": null,
            "order": null,
            "overflow": null,
            "overflow_x": null,
            "overflow_y": null,
            "padding": null,
            "right": null,
            "top": null,
            "visibility": null,
            "width": null
          }
        },
        "5616b4df00ba48c9b2f0de203e47871f": {
          "model_module": "@jupyter-widgets/controls",
          "model_name": "DescriptionStyleModel",
          "model_module_version": "1.5.0",
          "state": {
            "_model_module": "@jupyter-widgets/controls",
            "_model_module_version": "1.5.0",
            "_model_name": "DescriptionStyleModel",
            "_view_count": null,
            "_view_module": "@jupyter-widgets/base",
            "_view_module_version": "1.2.0",
            "_view_name": "StyleView",
            "description_width": ""
          }
        },
        "9618231bfa0b4d14967847353f633041": {
          "model_module": "@jupyter-widgets/controls",
          "model_name": "HBoxModel",
          "model_module_version": "1.5.0",
          "state": {
            "_dom_classes": [],
            "_model_module": "@jupyter-widgets/controls",
            "_model_module_version": "1.5.0",
            "_model_name": "HBoxModel",
            "_view_count": null,
            "_view_module": "@jupyter-widgets/controls",
            "_view_module_version": "1.5.0",
            "_view_name": "HBoxView",
            "box_style": "",
            "children": [
              "IPY_MODEL_87dd489a0c9740749514b644dc14e796",
              "IPY_MODEL_9f417e2730134ab1b47d683fac5af385",
              "IPY_MODEL_3729887667f04279a15f26cdd263f14f"
            ],
            "layout": "IPY_MODEL_9c1a2158be19405fb3f059c439033783"
          }
        },
        "87dd489a0c9740749514b644dc14e796": {
          "model_module": "@jupyter-widgets/controls",
          "model_name": "HTMLModel",
          "model_module_version": "1.5.0",
          "state": {
            "_dom_classes": [],
            "_model_module": "@jupyter-widgets/controls",
            "_model_module_version": "1.5.0",
            "_model_name": "HTMLModel",
            "_view_count": null,
            "_view_module": "@jupyter-widgets/controls",
            "_view_module_version": "1.5.0",
            "_view_name": "HTMLView",
            "description": "",
            "description_tooltip": null,
            "layout": "IPY_MODEL_207f93f5562d478ba6742eebff754d17",
            "placeholder": "​",
            "style": "IPY_MODEL_7f62282e90ce48bda87815065014677d",
            "value": "config.json: 100%"
          }
        },
        "9f417e2730134ab1b47d683fac5af385": {
          "model_module": "@jupyter-widgets/controls",
          "model_name": "FloatProgressModel",
          "model_module_version": "1.5.0",
          "state": {
            "_dom_classes": [],
            "_model_module": "@jupyter-widgets/controls",
            "_model_module_version": "1.5.0",
            "_model_name": "FloatProgressModel",
            "_view_count": null,
            "_view_module": "@jupyter-widgets/controls",
            "_view_module_version": "1.5.0",
            "_view_name": "ProgressView",
            "bar_style": "success",
            "description": "",
            "description_tooltip": null,
            "layout": "IPY_MODEL_25d54530a25147f7a2726c33098dce74",
            "max": 619,
            "min": 0,
            "orientation": "horizontal",
            "style": "IPY_MODEL_be895161432142d394e69b858430350b",
            "value": 619
          }
        },
        "3729887667f04279a15f26cdd263f14f": {
          "model_module": "@jupyter-widgets/controls",
          "model_name": "HTMLModel",
          "model_module_version": "1.5.0",
          "state": {
            "_dom_classes": [],
            "_model_module": "@jupyter-widgets/controls",
            "_model_module_version": "1.5.0",
            "_model_name": "HTMLModel",
            "_view_count": null,
            "_view_module": "@jupyter-widgets/controls",
            "_view_module_version": "1.5.0",
            "_view_name": "HTMLView",
            "description": "",
            "description_tooltip": null,
            "layout": "IPY_MODEL_0acb56c2339b475cb1af3dedb3555b0f",
            "placeholder": "​",
            "style": "IPY_MODEL_1bef1a4f7f294e3b94f535c970e854f3",
            "value": " 619/619 [00:00&lt;00:00, 53.1kB/s]"
          }
        },
        "9c1a2158be19405fb3f059c439033783": {
          "model_module": "@jupyter-widgets/base",
          "model_name": "LayoutModel",
          "model_module_version": "1.2.0",
          "state": {
            "_model_module": "@jupyter-widgets/base",
            "_model_module_version": "1.2.0",
            "_model_name": "LayoutModel",
            "_view_count": null,
            "_view_module": "@jupyter-widgets/base",
            "_view_module_version": "1.2.0",
            "_view_name": "LayoutView",
            "align_content": null,
            "align_items": null,
            "align_self": null,
            "border": null,
            "bottom": null,
            "display": null,
            "flex": null,
            "flex_flow": null,
            "grid_area": null,
            "grid_auto_columns": null,
            "grid_auto_flow": null,
            "grid_auto_rows": null,
            "grid_column": null,
            "grid_gap": null,
            "grid_row": null,
            "grid_template_areas": null,
            "grid_template_columns": null,
            "grid_template_rows": null,
            "height": null,
            "justify_content": null,
            "justify_items": null,
            "left": null,
            "margin": null,
            "max_height": null,
            "max_width": null,
            "min_height": null,
            "min_width": null,
            "object_fit": null,
            "object_position": null,
            "order": null,
            "overflow": null,
            "overflow_x": null,
            "overflow_y": null,
            "padding": null,
            "right": null,
            "top": null,
            "visibility": null,
            "width": null
          }
        },
        "207f93f5562d478ba6742eebff754d17": {
          "model_module": "@jupyter-widgets/base",
          "model_name": "LayoutModel",
          "model_module_version": "1.2.0",
          "state": {
            "_model_module": "@jupyter-widgets/base",
            "_model_module_version": "1.2.0",
            "_model_name": "LayoutModel",
            "_view_count": null,
            "_view_module": "@jupyter-widgets/base",
            "_view_module_version": "1.2.0",
            "_view_name": "LayoutView",
            "align_content": null,
            "align_items": null,
            "align_self": null,
            "border": null,
            "bottom": null,
            "display": null,
            "flex": null,
            "flex_flow": null,
            "grid_area": null,
            "grid_auto_columns": null,
            "grid_auto_flow": null,
            "grid_auto_rows": null,
            "grid_column": null,
            "grid_gap": null,
            "grid_row": null,
            "grid_template_areas": null,
            "grid_template_columns": null,
            "grid_template_rows": null,
            "height": null,
            "justify_content": null,
            "justify_items": null,
            "left": null,
            "margin": null,
            "max_height": null,
            "max_width": null,
            "min_height": null,
            "min_width": null,
            "object_fit": null,
            "object_position": null,
            "order": null,
            "overflow": null,
            "overflow_x": null,
            "overflow_y": null,
            "padding": null,
            "right": null,
            "top": null,
            "visibility": null,
            "width": null
          }
        },
        "7f62282e90ce48bda87815065014677d": {
          "model_module": "@jupyter-widgets/controls",
          "model_name": "DescriptionStyleModel",
          "model_module_version": "1.5.0",
          "state": {
            "_model_module": "@jupyter-widgets/controls",
            "_model_module_version": "1.5.0",
            "_model_name": "DescriptionStyleModel",
            "_view_count": null,
            "_view_module": "@jupyter-widgets/base",
            "_view_module_version": "1.2.0",
            "_view_name": "StyleView",
            "description_width": ""
          }
        },
        "25d54530a25147f7a2726c33098dce74": {
          "model_module": "@jupyter-widgets/base",
          "model_name": "LayoutModel",
          "model_module_version": "1.2.0",
          "state": {
            "_model_module": "@jupyter-widgets/base",
            "_model_module_version": "1.2.0",
            "_model_name": "LayoutModel",
            "_view_count": null,
            "_view_module": "@jupyter-widgets/base",
            "_view_module_version": "1.2.0",
            "_view_name": "LayoutView",
            "align_content": null,
            "align_items": null,
            "align_self": null,
            "border": null,
            "bottom": null,
            "display": null,
            "flex": null,
            "flex_flow": null,
            "grid_area": null,
            "grid_auto_columns": null,
            "grid_auto_flow": null,
            "grid_auto_rows": null,
            "grid_column": null,
            "grid_gap": null,
            "grid_row": null,
            "grid_template_areas": null,
            "grid_template_columns": null,
            "grid_template_rows": null,
            "height": null,
            "justify_content": null,
            "justify_items": null,
            "left": null,
            "margin": null,
            "max_height": null,
            "max_width": null,
            "min_height": null,
            "min_width": null,
            "object_fit": null,
            "object_position": null,
            "order": null,
            "overflow": null,
            "overflow_x": null,
            "overflow_y": null,
            "padding": null,
            "right": null,
            "top": null,
            "visibility": null,
            "width": null
          }
        },
        "be895161432142d394e69b858430350b": {
          "model_module": "@jupyter-widgets/controls",
          "model_name": "ProgressStyleModel",
          "model_module_version": "1.5.0",
          "state": {
            "_model_module": "@jupyter-widgets/controls",
            "_model_module_version": "1.5.0",
            "_model_name": "ProgressStyleModel",
            "_view_count": null,
            "_view_module": "@jupyter-widgets/base",
            "_view_module_version": "1.2.0",
            "_view_name": "StyleView",
            "bar_color": null,
            "description_width": ""
          }
        },
        "0acb56c2339b475cb1af3dedb3555b0f": {
          "model_module": "@jupyter-widgets/base",
          "model_name": "LayoutModel",
          "model_module_version": "1.2.0",
          "state": {
            "_model_module": "@jupyter-widgets/base",
            "_model_module_version": "1.2.0",
            "_model_name": "LayoutModel",
            "_view_count": null,
            "_view_module": "@jupyter-widgets/base",
            "_view_module_version": "1.2.0",
            "_view_name": "LayoutView",
            "align_content": null,
            "align_items": null,
            "align_self": null,
            "border": null,
            "bottom": null,
            "display": null,
            "flex": null,
            "flex_flow": null,
            "grid_area": null,
            "grid_auto_columns": null,
            "grid_auto_flow": null,
            "grid_auto_rows": null,
            "grid_column": null,
            "grid_gap": null,
            "grid_row": null,
            "grid_template_areas": null,
            "grid_template_columns": null,
            "grid_template_rows": null,
            "height": null,
            "justify_content": null,
            "justify_items": null,
            "left": null,
            "margin": null,
            "max_height": null,
            "max_width": null,
            "min_height": null,
            "min_width": null,
            "object_fit": null,
            "object_position": null,
            "order": null,
            "overflow": null,
            "overflow_x": null,
            "overflow_y": null,
            "padding": null,
            "right": null,
            "top": null,
            "visibility": null,
            "width": null
          }
        },
        "1bef1a4f7f294e3b94f535c970e854f3": {
          "model_module": "@jupyter-widgets/controls",
          "model_name": "DescriptionStyleModel",
          "model_module_version": "1.5.0",
          "state": {
            "_model_module": "@jupyter-widgets/controls",
            "_model_module_version": "1.5.0",
            "_model_name": "DescriptionStyleModel",
            "_view_count": null,
            "_view_module": "@jupyter-widgets/base",
            "_view_module_version": "1.2.0",
            "_view_name": "StyleView",
            "description_width": ""
          }
        },
        "55e58225fc9a4e70ab7f2559d5802ade": {
          "model_module": "@jupyter-widgets/controls",
          "model_name": "HBoxModel",
          "model_module_version": "1.5.0",
          "state": {
            "_dom_classes": [],
            "_model_module": "@jupyter-widgets/controls",
            "_model_module_version": "1.5.0",
            "_model_name": "HBoxModel",
            "_view_count": null,
            "_view_module": "@jupyter-widgets/controls",
            "_view_module_version": "1.5.0",
            "_view_name": "HBoxView",
            "box_style": "",
            "children": [
              "IPY_MODEL_5dab101d00a54ae2a7aa21c337122dc9",
              "IPY_MODEL_5358de7a195b4002af84be2da19f1e83",
              "IPY_MODEL_a09a53111d59470d9c5d6b73908a6a9a"
            ],
            "layout": "IPY_MODEL_42acfdfa4aaf402d8f93a9753755ac4c"
          }
        },
        "5dab101d00a54ae2a7aa21c337122dc9": {
          "model_module": "@jupyter-widgets/controls",
          "model_name": "HTMLModel",
          "model_module_version": "1.5.0",
          "state": {
            "_dom_classes": [],
            "_model_module": "@jupyter-widgets/controls",
            "_model_module_version": "1.5.0",
            "_model_name": "HTMLModel",
            "_view_count": null,
            "_view_module": "@jupyter-widgets/controls",
            "_view_module_version": "1.5.0",
            "_view_name": "HTMLView",
            "description": "",
            "description_tooltip": null,
            "layout": "IPY_MODEL_f63ada8120784239a3b0d1fa85afd998",
            "placeholder": "​",
            "style": "IPY_MODEL_140977de805a4de993ac53f64c497d35",
            "value": "model.safetensors: 100%"
          }
        },
        "5358de7a195b4002af84be2da19f1e83": {
          "model_module": "@jupyter-widgets/controls",
          "model_name": "FloatProgressModel",
          "model_module_version": "1.5.0",
          "state": {
            "_dom_classes": [],
            "_model_module": "@jupyter-widgets/controls",
            "_model_module_version": "1.5.0",
            "_model_name": "FloatProgressModel",
            "_view_count": null,
            "_view_module": "@jupyter-widgets/controls",
            "_view_module_version": "1.5.0",
            "_view_name": "ProgressView",
            "bar_style": "success",
            "description": "",
            "description_tooltip": null,
            "layout": "IPY_MODEL_1f6a909d873242598f8239f8f95f3040",
            "max": 670332568,
            "min": 0,
            "orientation": "horizontal",
            "style": "IPY_MODEL_d9310702e05440f1953b32b29eac6e26",
            "value": 670332568
          }
        },
        "a09a53111d59470d9c5d6b73908a6a9a": {
          "model_module": "@jupyter-widgets/controls",
          "model_name": "HTMLModel",
          "model_module_version": "1.5.0",
          "state": {
            "_dom_classes": [],
            "_model_module": "@jupyter-widgets/controls",
            "_model_module_version": "1.5.0",
            "_model_name": "HTMLModel",
            "_view_count": null,
            "_view_module": "@jupyter-widgets/controls",
            "_view_module_version": "1.5.0",
            "_view_name": "HTMLView",
            "description": "",
            "description_tooltip": null,
            "layout": "IPY_MODEL_77c959fae6c541e9994d6b464ddc6241",
            "placeholder": "​",
            "style": "IPY_MODEL_2abe3f114c534dd09283f887a7e97e33",
            "value": " 670M/670M [00:03&lt;00:00, 244MB/s]"
          }
        },
        "42acfdfa4aaf402d8f93a9753755ac4c": {
          "model_module": "@jupyter-widgets/base",
          "model_name": "LayoutModel",
          "model_module_version": "1.2.0",
          "state": {
            "_model_module": "@jupyter-widgets/base",
            "_model_module_version": "1.2.0",
            "_model_name": "LayoutModel",
            "_view_count": null,
            "_view_module": "@jupyter-widgets/base",
            "_view_module_version": "1.2.0",
            "_view_name": "LayoutView",
            "align_content": null,
            "align_items": null,
            "align_self": null,
            "border": null,
            "bottom": null,
            "display": null,
            "flex": null,
            "flex_flow": null,
            "grid_area": null,
            "grid_auto_columns": null,
            "grid_auto_flow": null,
            "grid_auto_rows": null,
            "grid_column": null,
            "grid_gap": null,
            "grid_row": null,
            "grid_template_areas": null,
            "grid_template_columns": null,
            "grid_template_rows": null,
            "height": null,
            "justify_content": null,
            "justify_items": null,
            "left": null,
            "margin": null,
            "max_height": null,
            "max_width": null,
            "min_height": null,
            "min_width": null,
            "object_fit": null,
            "object_position": null,
            "order": null,
            "overflow": null,
            "overflow_x": null,
            "overflow_y": null,
            "padding": null,
            "right": null,
            "top": null,
            "visibility": null,
            "width": null
          }
        },
        "f63ada8120784239a3b0d1fa85afd998": {
          "model_module": "@jupyter-widgets/base",
          "model_name": "LayoutModel",
          "model_module_version": "1.2.0",
          "state": {
            "_model_module": "@jupyter-widgets/base",
            "_model_module_version": "1.2.0",
            "_model_name": "LayoutModel",
            "_view_count": null,
            "_view_module": "@jupyter-widgets/base",
            "_view_module_version": "1.2.0",
            "_view_name": "LayoutView",
            "align_content": null,
            "align_items": null,
            "align_self": null,
            "border": null,
            "bottom": null,
            "display": null,
            "flex": null,
            "flex_flow": null,
            "grid_area": null,
            "grid_auto_columns": null,
            "grid_auto_flow": null,
            "grid_auto_rows": null,
            "grid_column": null,
            "grid_gap": null,
            "grid_row": null,
            "grid_template_areas": null,
            "grid_template_columns": null,
            "grid_template_rows": null,
            "height": null,
            "justify_content": null,
            "justify_items": null,
            "left": null,
            "margin": null,
            "max_height": null,
            "max_width": null,
            "min_height": null,
            "min_width": null,
            "object_fit": null,
            "object_position": null,
            "order": null,
            "overflow": null,
            "overflow_x": null,
            "overflow_y": null,
            "padding": null,
            "right": null,
            "top": null,
            "visibility": null,
            "width": null
          }
        },
        "140977de805a4de993ac53f64c497d35": {
          "model_module": "@jupyter-widgets/controls",
          "model_name": "DescriptionStyleModel",
          "model_module_version": "1.5.0",
          "state": {
            "_model_module": "@jupyter-widgets/controls",
            "_model_module_version": "1.5.0",
            "_model_name": "DescriptionStyleModel",
            "_view_count": null,
            "_view_module": "@jupyter-widgets/base",
            "_view_module_version": "1.2.0",
            "_view_name": "StyleView",
            "description_width": ""
          }
        },
        "1f6a909d873242598f8239f8f95f3040": {
          "model_module": "@jupyter-widgets/base",
          "model_name": "LayoutModel",
          "model_module_version": "1.2.0",
          "state": {
            "_model_module": "@jupyter-widgets/base",
            "_model_module_version": "1.2.0",
            "_model_name": "LayoutModel",
            "_view_count": null,
            "_view_module": "@jupyter-widgets/base",
            "_view_module_version": "1.2.0",
            "_view_name": "LayoutView",
            "align_content": null,
            "align_items": null,
            "align_self": null,
            "border": null,
            "bottom": null,
            "display": null,
            "flex": null,
            "flex_flow": null,
            "grid_area": null,
            "grid_auto_columns": null,
            "grid_auto_flow": null,
            "grid_auto_rows": null,
            "grid_column": null,
            "grid_gap": null,
            "grid_row": null,
            "grid_template_areas": null,
            "grid_template_columns": null,
            "grid_template_rows": null,
            "height": null,
            "justify_content": null,
            "justify_items": null,
            "left": null,
            "margin": null,
            "max_height": null,
            "max_width": null,
            "min_height": null,
            "min_width": null,
            "object_fit": null,
            "object_position": null,
            "order": null,
            "overflow": null,
            "overflow_x": null,
            "overflow_y": null,
            "padding": null,
            "right": null,
            "top": null,
            "visibility": null,
            "width": null
          }
        },
        "d9310702e05440f1953b32b29eac6e26": {
          "model_module": "@jupyter-widgets/controls",
          "model_name": "ProgressStyleModel",
          "model_module_version": "1.5.0",
          "state": {
            "_model_module": "@jupyter-widgets/controls",
            "_model_module_version": "1.5.0",
            "_model_name": "ProgressStyleModel",
            "_view_count": null,
            "_view_module": "@jupyter-widgets/base",
            "_view_module_version": "1.2.0",
            "_view_name": "StyleView",
            "bar_color": null,
            "description_width": ""
          }
        },
        "77c959fae6c541e9994d6b464ddc6241": {
          "model_module": "@jupyter-widgets/base",
          "model_name": "LayoutModel",
          "model_module_version": "1.2.0",
          "state": {
            "_model_module": "@jupyter-widgets/base",
            "_model_module_version": "1.2.0",
            "_model_name": "LayoutModel",
            "_view_count": null,
            "_view_module": "@jupyter-widgets/base",
            "_view_module_version": "1.2.0",
            "_view_name": "LayoutView",
            "align_content": null,
            "align_items": null,
            "align_self": null,
            "border": null,
            "bottom": null,
            "display": null,
            "flex": null,
            "flex_flow": null,
            "grid_area": null,
            "grid_auto_columns": null,
            "grid_auto_flow": null,
            "grid_auto_rows": null,
            "grid_column": null,
            "grid_gap": null,
            "grid_row": null,
            "grid_template_areas": null,
            "grid_template_columns": null,
            "grid_template_rows": null,
            "height": null,
            "justify_content": null,
            "justify_items": null,
            "left": null,
            "margin": null,
            "max_height": null,
            "max_width": null,
            "min_height": null,
            "min_width": null,
            "object_fit": null,
            "object_position": null,
            "order": null,
            "overflow": null,
            "overflow_x": null,
            "overflow_y": null,
            "padding": null,
            "right": null,
            "top": null,
            "visibility": null,
            "width": null
          }
        },
        "2abe3f114c534dd09283f887a7e97e33": {
          "model_module": "@jupyter-widgets/controls",
          "model_name": "DescriptionStyleModel",
          "model_module_version": "1.5.0",
          "state": {
            "_model_module": "@jupyter-widgets/controls",
            "_model_module_version": "1.5.0",
            "_model_name": "DescriptionStyleModel",
            "_view_count": null,
            "_view_module": "@jupyter-widgets/base",
            "_view_module_version": "1.2.0",
            "_view_name": "StyleView",
            "description_width": ""
          }
        },
        "e78392c1ec3d417b830418729d658446": {
          "model_module": "@jupyter-widgets/controls",
          "model_name": "HBoxModel",
          "model_module_version": "1.5.0",
          "state": {
            "_dom_classes": [],
            "_model_module": "@jupyter-widgets/controls",
            "_model_module_version": "1.5.0",
            "_model_name": "HBoxModel",
            "_view_count": null,
            "_view_module": "@jupyter-widgets/controls",
            "_view_module_version": "1.5.0",
            "_view_name": "HBoxView",
            "box_style": "",
            "children": [
              "IPY_MODEL_c351816d5e2243d89b2aa7feac7232a4",
              "IPY_MODEL_c15398a2d2a04df08f642e5266674a2a",
              "IPY_MODEL_877f28a7981f420792b8372c86ca835f"
            ],
            "layout": "IPY_MODEL_d6881026c148470693337cf6b8a95556"
          }
        },
        "c351816d5e2243d89b2aa7feac7232a4": {
          "model_module": "@jupyter-widgets/controls",
          "model_name": "HTMLModel",
          "model_module_version": "1.5.0",
          "state": {
            "_dom_classes": [],
            "_model_module": "@jupyter-widgets/controls",
            "_model_module_version": "1.5.0",
            "_model_name": "HTMLModel",
            "_view_count": null,
            "_view_module": "@jupyter-widgets/controls",
            "_view_module_version": "1.5.0",
            "_view_name": "HTMLView",
            "description": "",
            "description_tooltip": null,
            "layout": "IPY_MODEL_0d00dae6fa3f436288e699a88002753d",
            "placeholder": "​",
            "style": "IPY_MODEL_ebb7eac324b540339cab14e3a4199444",
            "value": "tokenizer_config.json: 100%"
          }
        },
        "c15398a2d2a04df08f642e5266674a2a": {
          "model_module": "@jupyter-widgets/controls",
          "model_name": "FloatProgressModel",
          "model_module_version": "1.5.0",
          "state": {
            "_dom_classes": [],
            "_model_module": "@jupyter-widgets/controls",
            "_model_module_version": "1.5.0",
            "_model_name": "FloatProgressModel",
            "_view_count": null,
            "_view_module": "@jupyter-widgets/controls",
            "_view_module_version": "1.5.0",
            "_view_name": "ProgressView",
            "bar_style": "success",
            "description": "",
            "description_tooltip": null,
            "layout": "IPY_MODEL_fad30b0627b04527a9257d3159cac83c",
            "max": 342,
            "min": 0,
            "orientation": "horizontal",
            "style": "IPY_MODEL_9dc1d324ebea4b098629812dac67a67f",
            "value": 342
          }
        },
        "877f28a7981f420792b8372c86ca835f": {
          "model_module": "@jupyter-widgets/controls",
          "model_name": "HTMLModel",
          "model_module_version": "1.5.0",
          "state": {
            "_dom_classes": [],
            "_model_module": "@jupyter-widgets/controls",
            "_model_module_version": "1.5.0",
            "_model_name": "HTMLModel",
            "_view_count": null,
            "_view_module": "@jupyter-widgets/controls",
            "_view_module_version": "1.5.0",
            "_view_name": "HTMLView",
            "description": "",
            "description_tooltip": null,
            "layout": "IPY_MODEL_94bfd4a243424cdab98a2c0702c9118f",
            "placeholder": "​",
            "style": "IPY_MODEL_2746471defa54f91a16b5823bc743280",
            "value": " 342/342 [00:00&lt;00:00, 21.6kB/s]"
          }
        },
        "d6881026c148470693337cf6b8a95556": {
          "model_module": "@jupyter-widgets/base",
          "model_name": "LayoutModel",
          "model_module_version": "1.2.0",
          "state": {
            "_model_module": "@jupyter-widgets/base",
            "_model_module_version": "1.2.0",
            "_model_name": "LayoutModel",
            "_view_count": null,
            "_view_module": "@jupyter-widgets/base",
            "_view_module_version": "1.2.0",
            "_view_name": "LayoutView",
            "align_content": null,
            "align_items": null,
            "align_self": null,
            "border": null,
            "bottom": null,
            "display": null,
            "flex": null,
            "flex_flow": null,
            "grid_area": null,
            "grid_auto_columns": null,
            "grid_auto_flow": null,
            "grid_auto_rows": null,
            "grid_column": null,
            "grid_gap": null,
            "grid_row": null,
            "grid_template_areas": null,
            "grid_template_columns": null,
            "grid_template_rows": null,
            "height": null,
            "justify_content": null,
            "justify_items": null,
            "left": null,
            "margin": null,
            "max_height": null,
            "max_width": null,
            "min_height": null,
            "min_width": null,
            "object_fit": null,
            "object_position": null,
            "order": null,
            "overflow": null,
            "overflow_x": null,
            "overflow_y": null,
            "padding": null,
            "right": null,
            "top": null,
            "visibility": null,
            "width": null
          }
        },
        "0d00dae6fa3f436288e699a88002753d": {
          "model_module": "@jupyter-widgets/base",
          "model_name": "LayoutModel",
          "model_module_version": "1.2.0",
          "state": {
            "_model_module": "@jupyter-widgets/base",
            "_model_module_version": "1.2.0",
            "_model_name": "LayoutModel",
            "_view_count": null,
            "_view_module": "@jupyter-widgets/base",
            "_view_module_version": "1.2.0",
            "_view_name": "LayoutView",
            "align_content": null,
            "align_items": null,
            "align_self": null,
            "border": null,
            "bottom": null,
            "display": null,
            "flex": null,
            "flex_flow": null,
            "grid_area": null,
            "grid_auto_columns": null,
            "grid_auto_flow": null,
            "grid_auto_rows": null,
            "grid_column": null,
            "grid_gap": null,
            "grid_row": null,
            "grid_template_areas": null,
            "grid_template_columns": null,
            "grid_template_rows": null,
            "height": null,
            "justify_content": null,
            "justify_items": null,
            "left": null,
            "margin": null,
            "max_height": null,
            "max_width": null,
            "min_height": null,
            "min_width": null,
            "object_fit": null,
            "object_position": null,
            "order": null,
            "overflow": null,
            "overflow_x": null,
            "overflow_y": null,
            "padding": null,
            "right": null,
            "top": null,
            "visibility": null,
            "width": null
          }
        },
        "ebb7eac324b540339cab14e3a4199444": {
          "model_module": "@jupyter-widgets/controls",
          "model_name": "DescriptionStyleModel",
          "model_module_version": "1.5.0",
          "state": {
            "_model_module": "@jupyter-widgets/controls",
            "_model_module_version": "1.5.0",
            "_model_name": "DescriptionStyleModel",
            "_view_count": null,
            "_view_module": "@jupyter-widgets/base",
            "_view_module_version": "1.2.0",
            "_view_name": "StyleView",
            "description_width": ""
          }
        },
        "fad30b0627b04527a9257d3159cac83c": {
          "model_module": "@jupyter-widgets/base",
          "model_name": "LayoutModel",
          "model_module_version": "1.2.0",
          "state": {
            "_model_module": "@jupyter-widgets/base",
            "_model_module_version": "1.2.0",
            "_model_name": "LayoutModel",
            "_view_count": null,
            "_view_module": "@jupyter-widgets/base",
            "_view_module_version": "1.2.0",
            "_view_name": "LayoutView",
            "align_content": null,
            "align_items": null,
            "align_self": null,
            "border": null,
            "bottom": null,
            "display": null,
            "flex": null,
            "flex_flow": null,
            "grid_area": null,
            "grid_auto_columns": null,
            "grid_auto_flow": null,
            "grid_auto_rows": null,
            "grid_column": null,
            "grid_gap": null,
            "grid_row": null,
            "grid_template_areas": null,
            "grid_template_columns": null,
            "grid_template_rows": null,
            "height": null,
            "justify_content": null,
            "justify_items": null,
            "left": null,
            "margin": null,
            "max_height": null,
            "max_width": null,
            "min_height": null,
            "min_width": null,
            "object_fit": null,
            "object_position": null,
            "order": null,
            "overflow": null,
            "overflow_x": null,
            "overflow_y": null,
            "padding": null,
            "right": null,
            "top": null,
            "visibility": null,
            "width": null
          }
        },
        "9dc1d324ebea4b098629812dac67a67f": {
          "model_module": "@jupyter-widgets/controls",
          "model_name": "ProgressStyleModel",
          "model_module_version": "1.5.0",
          "state": {
            "_model_module": "@jupyter-widgets/controls",
            "_model_module_version": "1.5.0",
            "_model_name": "ProgressStyleModel",
            "_view_count": null,
            "_view_module": "@jupyter-widgets/base",
            "_view_module_version": "1.2.0",
            "_view_name": "StyleView",
            "bar_color": null,
            "description_width": ""
          }
        },
        "94bfd4a243424cdab98a2c0702c9118f": {
          "model_module": "@jupyter-widgets/base",
          "model_name": "LayoutModel",
          "model_module_version": "1.2.0",
          "state": {
            "_model_module": "@jupyter-widgets/base",
            "_model_module_version": "1.2.0",
            "_model_name": "LayoutModel",
            "_view_count": null,
            "_view_module": "@jupyter-widgets/base",
            "_view_module_version": "1.2.0",
            "_view_name": "LayoutView",
            "align_content": null,
            "align_items": null,
            "align_self": null,
            "border": null,
            "bottom": null,
            "display": null,
            "flex": null,
            "flex_flow": null,
            "grid_area": null,
            "grid_auto_columns": null,
            "grid_auto_flow": null,
            "grid_auto_rows": null,
            "grid_column": null,
            "grid_gap": null,
            "grid_row": null,
            "grid_template_areas": null,
            "grid_template_columns": null,
            "grid_template_rows": null,
            "height": null,
            "justify_content": null,
            "justify_items": null,
            "left": null,
            "margin": null,
            "max_height": null,
            "max_width": null,
            "min_height": null,
            "min_width": null,
            "object_fit": null,
            "object_position": null,
            "order": null,
            "overflow": null,
            "overflow_x": null,
            "overflow_y": null,
            "padding": null,
            "right": null,
            "top": null,
            "visibility": null,
            "width": null
          }
        },
        "2746471defa54f91a16b5823bc743280": {
          "model_module": "@jupyter-widgets/controls",
          "model_name": "DescriptionStyleModel",
          "model_module_version": "1.5.0",
          "state": {
            "_model_module": "@jupyter-widgets/controls",
            "_model_module_version": "1.5.0",
            "_model_name": "DescriptionStyleModel",
            "_view_count": null,
            "_view_module": "@jupyter-widgets/base",
            "_view_module_version": "1.2.0",
            "_view_name": "StyleView",
            "description_width": ""
          }
        },
        "8b00455f699d4e61a79b859a3bb94ea9": {
          "model_module": "@jupyter-widgets/controls",
          "model_name": "HBoxModel",
          "model_module_version": "1.5.0",
          "state": {
            "_dom_classes": [],
            "_model_module": "@jupyter-widgets/controls",
            "_model_module_version": "1.5.0",
            "_model_name": "HBoxModel",
            "_view_count": null,
            "_view_module": "@jupyter-widgets/controls",
            "_view_module_version": "1.5.0",
            "_view_name": "HBoxView",
            "box_style": "",
            "children": [
              "IPY_MODEL_e55c598d92234b18b6cd2574f9867b82",
              "IPY_MODEL_7b2781f958b04ab48fa414f2f7003709",
              "IPY_MODEL_d8c7d744bdcc4699ac12c250d677edde"
            ],
            "layout": "IPY_MODEL_e37158873c6a46c2a020ac9b5e56c0dc"
          }
        },
        "e55c598d92234b18b6cd2574f9867b82": {
          "model_module": "@jupyter-widgets/controls",
          "model_name": "HTMLModel",
          "model_module_version": "1.5.0",
          "state": {
            "_dom_classes": [],
            "_model_module": "@jupyter-widgets/controls",
            "_model_module_version": "1.5.0",
            "_model_name": "HTMLModel",
            "_view_count": null,
            "_view_module": "@jupyter-widgets/controls",
            "_view_module_version": "1.5.0",
            "_view_name": "HTMLView",
            "description": "",
            "description_tooltip": null,
            "layout": "IPY_MODEL_c74a56b2e419412086d5982b2d6ac9cf",
            "placeholder": "​",
            "style": "IPY_MODEL_8a0e1dd2a3f548689d6e7c6eec5e7165",
            "value": "vocab.txt: 100%"
          }
        },
        "7b2781f958b04ab48fa414f2f7003709": {
          "model_module": "@jupyter-widgets/controls",
          "model_name": "FloatProgressModel",
          "model_module_version": "1.5.0",
          "state": {
            "_dom_classes": [],
            "_model_module": "@jupyter-widgets/controls",
            "_model_module_version": "1.5.0",
            "_model_name": "FloatProgressModel",
            "_view_count": null,
            "_view_module": "@jupyter-widgets/controls",
            "_view_module_version": "1.5.0",
            "_view_name": "ProgressView",
            "bar_style": "success",
            "description": "",
            "description_tooltip": null,
            "layout": "IPY_MODEL_4de11be882d64aa597751b49da90ed1e",
            "max": 231508,
            "min": 0,
            "orientation": "horizontal",
            "style": "IPY_MODEL_9f0287dd82fb4dc8801dd8d14c72c676",
            "value": 231508
          }
        },
        "d8c7d744bdcc4699ac12c250d677edde": {
          "model_module": "@jupyter-widgets/controls",
          "model_name": "HTMLModel",
          "model_module_version": "1.5.0",
          "state": {
            "_dom_classes": [],
            "_model_module": "@jupyter-widgets/controls",
            "_model_module_version": "1.5.0",
            "_model_name": "HTMLModel",
            "_view_count": null,
            "_view_module": "@jupyter-widgets/controls",
            "_view_module_version": "1.5.0",
            "_view_name": "HTMLView",
            "description": "",
            "description_tooltip": null,
            "layout": "IPY_MODEL_ca492e52a7c548b890f5611d152c721e",
            "placeholder": "​",
            "style": "IPY_MODEL_0ce8789bd2a5415bb85d314afde3807c",
            "value": " 232k/232k [00:00&lt;00:00, 1.72MB/s]"
          }
        },
        "e37158873c6a46c2a020ac9b5e56c0dc": {
          "model_module": "@jupyter-widgets/base",
          "model_name": "LayoutModel",
          "model_module_version": "1.2.0",
          "state": {
            "_model_module": "@jupyter-widgets/base",
            "_model_module_version": "1.2.0",
            "_model_name": "LayoutModel",
            "_view_count": null,
            "_view_module": "@jupyter-widgets/base",
            "_view_module_version": "1.2.0",
            "_view_name": "LayoutView",
            "align_content": null,
            "align_items": null,
            "align_self": null,
            "border": null,
            "bottom": null,
            "display": null,
            "flex": null,
            "flex_flow": null,
            "grid_area": null,
            "grid_auto_columns": null,
            "grid_auto_flow": null,
            "grid_auto_rows": null,
            "grid_column": null,
            "grid_gap": null,
            "grid_row": null,
            "grid_template_areas": null,
            "grid_template_columns": null,
            "grid_template_rows": null,
            "height": null,
            "justify_content": null,
            "justify_items": null,
            "left": null,
            "margin": null,
            "max_height": null,
            "max_width": null,
            "min_height": null,
            "min_width": null,
            "object_fit": null,
            "object_position": null,
            "order": null,
            "overflow": null,
            "overflow_x": null,
            "overflow_y": null,
            "padding": null,
            "right": null,
            "top": null,
            "visibility": null,
            "width": null
          }
        },
        "c74a56b2e419412086d5982b2d6ac9cf": {
          "model_module": "@jupyter-widgets/base",
          "model_name": "LayoutModel",
          "model_module_version": "1.2.0",
          "state": {
            "_model_module": "@jupyter-widgets/base",
            "_model_module_version": "1.2.0",
            "_model_name": "LayoutModel",
            "_view_count": null,
            "_view_module": "@jupyter-widgets/base",
            "_view_module_version": "1.2.0",
            "_view_name": "LayoutView",
            "align_content": null,
            "align_items": null,
            "align_self": null,
            "border": null,
            "bottom": null,
            "display": null,
            "flex": null,
            "flex_flow": null,
            "grid_area": null,
            "grid_auto_columns": null,
            "grid_auto_flow": null,
            "grid_auto_rows": null,
            "grid_column": null,
            "grid_gap": null,
            "grid_row": null,
            "grid_template_areas": null,
            "grid_template_columns": null,
            "grid_template_rows": null,
            "height": null,
            "justify_content": null,
            "justify_items": null,
            "left": null,
            "margin": null,
            "max_height": null,
            "max_width": null,
            "min_height": null,
            "min_width": null,
            "object_fit": null,
            "object_position": null,
            "order": null,
            "overflow": null,
            "overflow_x": null,
            "overflow_y": null,
            "padding": null,
            "right": null,
            "top": null,
            "visibility": null,
            "width": null
          }
        },
        "8a0e1dd2a3f548689d6e7c6eec5e7165": {
          "model_module": "@jupyter-widgets/controls",
          "model_name": "DescriptionStyleModel",
          "model_module_version": "1.5.0",
          "state": {
            "_model_module": "@jupyter-widgets/controls",
            "_model_module_version": "1.5.0",
            "_model_name": "DescriptionStyleModel",
            "_view_count": null,
            "_view_module": "@jupyter-widgets/base",
            "_view_module_version": "1.2.0",
            "_view_name": "StyleView",
            "description_width": ""
          }
        },
        "4de11be882d64aa597751b49da90ed1e": {
          "model_module": "@jupyter-widgets/base",
          "model_name": "LayoutModel",
          "model_module_version": "1.2.0",
          "state": {
            "_model_module": "@jupyter-widgets/base",
            "_model_module_version": "1.2.0",
            "_model_name": "LayoutModel",
            "_view_count": null,
            "_view_module": "@jupyter-widgets/base",
            "_view_module_version": "1.2.0",
            "_view_name": "LayoutView",
            "align_content": null,
            "align_items": null,
            "align_self": null,
            "border": null,
            "bottom": null,
            "display": null,
            "flex": null,
            "flex_flow": null,
            "grid_area": null,
            "grid_auto_columns": null,
            "grid_auto_flow": null,
            "grid_auto_rows": null,
            "grid_column": null,
            "grid_gap": null,
            "grid_row": null,
            "grid_template_areas": null,
            "grid_template_columns": null,
            "grid_template_rows": null,
            "height": null,
            "justify_content": null,
            "justify_items": null,
            "left": null,
            "margin": null,
            "max_height": null,
            "max_width": null,
            "min_height": null,
            "min_width": null,
            "object_fit": null,
            "object_position": null,
            "order": null,
            "overflow": null,
            "overflow_x": null,
            "overflow_y": null,
            "padding": null,
            "right": null,
            "top": null,
            "visibility": null,
            "width": null
          }
        },
        "9f0287dd82fb4dc8801dd8d14c72c676": {
          "model_module": "@jupyter-widgets/controls",
          "model_name": "ProgressStyleModel",
          "model_module_version": "1.5.0",
          "state": {
            "_model_module": "@jupyter-widgets/controls",
            "_model_module_version": "1.5.0",
            "_model_name": "ProgressStyleModel",
            "_view_count": null,
            "_view_module": "@jupyter-widgets/base",
            "_view_module_version": "1.2.0",
            "_view_name": "StyleView",
            "bar_color": null,
            "description_width": ""
          }
        },
        "ca492e52a7c548b890f5611d152c721e": {
          "model_module": "@jupyter-widgets/base",
          "model_name": "LayoutModel",
          "model_module_version": "1.2.0",
          "state": {
            "_model_module": "@jupyter-widgets/base",
            "_model_module_version": "1.2.0",
            "_model_name": "LayoutModel",
            "_view_count": null,
            "_view_module": "@jupyter-widgets/base",
            "_view_module_version": "1.2.0",
            "_view_name": "LayoutView",
            "align_content": null,
            "align_items": null,
            "align_self": null,
            "border": null,
            "bottom": null,
            "display": null,
            "flex": null,
            "flex_flow": null,
            "grid_area": null,
            "grid_auto_columns": null,
            "grid_auto_flow": null,
            "grid_auto_rows": null,
            "grid_column": null,
            "grid_gap": null,
            "grid_row": null,
            "grid_template_areas": null,
            "grid_template_columns": null,
            "grid_template_rows": null,
            "height": null,
            "justify_content": null,
            "justify_items": null,
            "left": null,
            "margin": null,
            "max_height": null,
            "max_width": null,
            "min_height": null,
            "min_width": null,
            "object_fit": null,
            "object_position": null,
            "order": null,
            "overflow": null,
            "overflow_x": null,
            "overflow_y": null,
            "padding": null,
            "right": null,
            "top": null,
            "visibility": null,
            "width": null
          }
        },
        "0ce8789bd2a5415bb85d314afde3807c": {
          "model_module": "@jupyter-widgets/controls",
          "model_name": "DescriptionStyleModel",
          "model_module_version": "1.5.0",
          "state": {
            "_model_module": "@jupyter-widgets/controls",
            "_model_module_version": "1.5.0",
            "_model_name": "DescriptionStyleModel",
            "_view_count": null,
            "_view_module": "@jupyter-widgets/base",
            "_view_module_version": "1.2.0",
            "_view_name": "StyleView",
            "description_width": ""
          }
        },
        "d5a9035ad0494054aa46e4388bb7c7ec": {
          "model_module": "@jupyter-widgets/controls",
          "model_name": "HBoxModel",
          "model_module_version": "1.5.0",
          "state": {
            "_dom_classes": [],
            "_model_module": "@jupyter-widgets/controls",
            "_model_module_version": "1.5.0",
            "_model_name": "HBoxModel",
            "_view_count": null,
            "_view_module": "@jupyter-widgets/controls",
            "_view_module_version": "1.5.0",
            "_view_name": "HBoxView",
            "box_style": "",
            "children": [
              "IPY_MODEL_5ca00fc640674a7fa6fe29544c9773d2",
              "IPY_MODEL_3e25dd5574a2415087e69bf9f8fe9f85",
              "IPY_MODEL_f4f6c7a6de9e41ecb4aa489f53e5fecd"
            ],
            "layout": "IPY_MODEL_d6f58e3a43594fbca399b241c1889ee6"
          }
        },
        "5ca00fc640674a7fa6fe29544c9773d2": {
          "model_module": "@jupyter-widgets/controls",
          "model_name": "HTMLModel",
          "model_module_version": "1.5.0",
          "state": {
            "_dom_classes": [],
            "_model_module": "@jupyter-widgets/controls",
            "_model_module_version": "1.5.0",
            "_model_name": "HTMLModel",
            "_view_count": null,
            "_view_module": "@jupyter-widgets/controls",
            "_view_module_version": "1.5.0",
            "_view_name": "HTMLView",
            "description": "",
            "description_tooltip": null,
            "layout": "IPY_MODEL_e87249a362a84b33ba5d3696a96409aa",
            "placeholder": "​",
            "style": "IPY_MODEL_57da8d378b5645ffa532f2182176319c",
            "value": "tokenizer.json: 100%"
          }
        },
        "3e25dd5574a2415087e69bf9f8fe9f85": {
          "model_module": "@jupyter-widgets/controls",
          "model_name": "FloatProgressModel",
          "model_module_version": "1.5.0",
          "state": {
            "_dom_classes": [],
            "_model_module": "@jupyter-widgets/controls",
            "_model_module_version": "1.5.0",
            "_model_name": "FloatProgressModel",
            "_view_count": null,
            "_view_module": "@jupyter-widgets/controls",
            "_view_module_version": "1.5.0",
            "_view_name": "ProgressView",
            "bar_style": "success",
            "description": "",
            "description_tooltip": null,
            "layout": "IPY_MODEL_de69a84104c6406db7a37cebc1e7f90b",
            "max": 711661,
            "min": 0,
            "orientation": "horizontal",
            "style": "IPY_MODEL_f197a8fdcc004dc596c67b8e73a03b1f",
            "value": 711661
          }
        },
        "f4f6c7a6de9e41ecb4aa489f53e5fecd": {
          "model_module": "@jupyter-widgets/controls",
          "model_name": "HTMLModel",
          "model_module_version": "1.5.0",
          "state": {
            "_dom_classes": [],
            "_model_module": "@jupyter-widgets/controls",
            "_model_module_version": "1.5.0",
            "_model_name": "HTMLModel",
            "_view_count": null,
            "_view_module": "@jupyter-widgets/controls",
            "_view_module_version": "1.5.0",
            "_view_name": "HTMLView",
            "description": "",
            "description_tooltip": null,
            "layout": "IPY_MODEL_4484c7220923426d9cb7f47bcaa6591f",
            "placeholder": "​",
            "style": "IPY_MODEL_7fff36d9cf3a40619b5b73601bdfddec",
            "value": " 712k/712k [00:00&lt;00:00, 9.64MB/s]"
          }
        },
        "d6f58e3a43594fbca399b241c1889ee6": {
          "model_module": "@jupyter-widgets/base",
          "model_name": "LayoutModel",
          "model_module_version": "1.2.0",
          "state": {
            "_model_module": "@jupyter-widgets/base",
            "_model_module_version": "1.2.0",
            "_model_name": "LayoutModel",
            "_view_count": null,
            "_view_module": "@jupyter-widgets/base",
            "_view_module_version": "1.2.0",
            "_view_name": "LayoutView",
            "align_content": null,
            "align_items": null,
            "align_self": null,
            "border": null,
            "bottom": null,
            "display": null,
            "flex": null,
            "flex_flow": null,
            "grid_area": null,
            "grid_auto_columns": null,
            "grid_auto_flow": null,
            "grid_auto_rows": null,
            "grid_column": null,
            "grid_gap": null,
            "grid_row": null,
            "grid_template_areas": null,
            "grid_template_columns": null,
            "grid_template_rows": null,
            "height": null,
            "justify_content": null,
            "justify_items": null,
            "left": null,
            "margin": null,
            "max_height": null,
            "max_width": null,
            "min_height": null,
            "min_width": null,
            "object_fit": null,
            "object_position": null,
            "order": null,
            "overflow": null,
            "overflow_x": null,
            "overflow_y": null,
            "padding": null,
            "right": null,
            "top": null,
            "visibility": null,
            "width": null
          }
        },
        "e87249a362a84b33ba5d3696a96409aa": {
          "model_module": "@jupyter-widgets/base",
          "model_name": "LayoutModel",
          "model_module_version": "1.2.0",
          "state": {
            "_model_module": "@jupyter-widgets/base",
            "_model_module_version": "1.2.0",
            "_model_name": "LayoutModel",
            "_view_count": null,
            "_view_module": "@jupyter-widgets/base",
            "_view_module_version": "1.2.0",
            "_view_name": "LayoutView",
            "align_content": null,
            "align_items": null,
            "align_self": null,
            "border": null,
            "bottom": null,
            "display": null,
            "flex": null,
            "flex_flow": null,
            "grid_area": null,
            "grid_auto_columns": null,
            "grid_auto_flow": null,
            "grid_auto_rows": null,
            "grid_column": null,
            "grid_gap": null,
            "grid_row": null,
            "grid_template_areas": null,
            "grid_template_columns": null,
            "grid_template_rows": null,
            "height": null,
            "justify_content": null,
            "justify_items": null,
            "left": null,
            "margin": null,
            "max_height": null,
            "max_width": null,
            "min_height": null,
            "min_width": null,
            "object_fit": null,
            "object_position": null,
            "order": null,
            "overflow": null,
            "overflow_x": null,
            "overflow_y": null,
            "padding": null,
            "right": null,
            "top": null,
            "visibility": null,
            "width": null
          }
        },
        "57da8d378b5645ffa532f2182176319c": {
          "model_module": "@jupyter-widgets/controls",
          "model_name": "DescriptionStyleModel",
          "model_module_version": "1.5.0",
          "state": {
            "_model_module": "@jupyter-widgets/controls",
            "_model_module_version": "1.5.0",
            "_model_name": "DescriptionStyleModel",
            "_view_count": null,
            "_view_module": "@jupyter-widgets/base",
            "_view_module_version": "1.2.0",
            "_view_name": "StyleView",
            "description_width": ""
          }
        },
        "de69a84104c6406db7a37cebc1e7f90b": {
          "model_module": "@jupyter-widgets/base",
          "model_name": "LayoutModel",
          "model_module_version": "1.2.0",
          "state": {
            "_model_module": "@jupyter-widgets/base",
            "_model_module_version": "1.2.0",
            "_model_name": "LayoutModel",
            "_view_count": null,
            "_view_module": "@jupyter-widgets/base",
            "_view_module_version": "1.2.0",
            "_view_name": "LayoutView",
            "align_content": null,
            "align_items": null,
            "align_self": null,
            "border": null,
            "bottom": null,
            "display": null,
            "flex": null,
            "flex_flow": null,
            "grid_area": null,
            "grid_auto_columns": null,
            "grid_auto_flow": null,
            "grid_auto_rows": null,
            "grid_column": null,
            "grid_gap": null,
            "grid_row": null,
            "grid_template_areas": null,
            "grid_template_columns": null,
            "grid_template_rows": null,
            "height": null,
            "justify_content": null,
            "justify_items": null,
            "left": null,
            "margin": null,
            "max_height": null,
            "max_width": null,
            "min_height": null,
            "min_width": null,
            "object_fit": null,
            "object_position": null,
            "order": null,
            "overflow": null,
            "overflow_x": null,
            "overflow_y": null,
            "padding": null,
            "right": null,
            "top": null,
            "visibility": null,
            "width": null
          }
        },
        "f197a8fdcc004dc596c67b8e73a03b1f": {
          "model_module": "@jupyter-widgets/controls",
          "model_name": "ProgressStyleModel",
          "model_module_version": "1.5.0",
          "state": {
            "_model_module": "@jupyter-widgets/controls",
            "_model_module_version": "1.5.0",
            "_model_name": "ProgressStyleModel",
            "_view_count": null,
            "_view_module": "@jupyter-widgets/base",
            "_view_module_version": "1.2.0",
            "_view_name": "StyleView",
            "bar_color": null,
            "description_width": ""
          }
        },
        "4484c7220923426d9cb7f47bcaa6591f": {
          "model_module": "@jupyter-widgets/base",
          "model_name": "LayoutModel",
          "model_module_version": "1.2.0",
          "state": {
            "_model_module": "@jupyter-widgets/base",
            "_model_module_version": "1.2.0",
            "_model_name": "LayoutModel",
            "_view_count": null,
            "_view_module": "@jupyter-widgets/base",
            "_view_module_version": "1.2.0",
            "_view_name": "LayoutView",
            "align_content": null,
            "align_items": null,
            "align_self": null,
            "border": null,
            "bottom": null,
            "display": null,
            "flex": null,
            "flex_flow": null,
            "grid_area": null,
            "grid_auto_columns": null,
            "grid_auto_flow": null,
            "grid_auto_rows": null,
            "grid_column": null,
            "grid_gap": null,
            "grid_row": null,
            "grid_template_areas": null,
            "grid_template_columns": null,
            "grid_template_rows": null,
            "height": null,
            "justify_content": null,
            "justify_items": null,
            "left": null,
            "margin": null,
            "max_height": null,
            "max_width": null,
            "min_height": null,
            "min_width": null,
            "object_fit": null,
            "object_position": null,
            "order": null,
            "overflow": null,
            "overflow_x": null,
            "overflow_y": null,
            "padding": null,
            "right": null,
            "top": null,
            "visibility": null,
            "width": null
          }
        },
        "7fff36d9cf3a40619b5b73601bdfddec": {
          "model_module": "@jupyter-widgets/controls",
          "model_name": "DescriptionStyleModel",
          "model_module_version": "1.5.0",
          "state": {
            "_model_module": "@jupyter-widgets/controls",
            "_model_module_version": "1.5.0",
            "_model_name": "DescriptionStyleModel",
            "_view_count": null,
            "_view_module": "@jupyter-widgets/base",
            "_view_module_version": "1.2.0",
            "_view_name": "StyleView",
            "description_width": ""
          }
        },
        "1482976367bc4c2fb855134922c1f841": {
          "model_module": "@jupyter-widgets/controls",
          "model_name": "HBoxModel",
          "model_module_version": "1.5.0",
          "state": {
            "_dom_classes": [],
            "_model_module": "@jupyter-widgets/controls",
            "_model_module_version": "1.5.0",
            "_model_name": "HBoxModel",
            "_view_count": null,
            "_view_module": "@jupyter-widgets/controls",
            "_view_module_version": "1.5.0",
            "_view_name": "HBoxView",
            "box_style": "",
            "children": [
              "IPY_MODEL_21eb099860b346bbbb7779ae53679d45",
              "IPY_MODEL_05d48fc7eb6141de89e4b73cab743579",
              "IPY_MODEL_5e8929ad7a2e4f7e927491dd0eea5e89"
            ],
            "layout": "IPY_MODEL_02daacdc307e49ecbd29b031a196f5f3"
          }
        },
        "21eb099860b346bbbb7779ae53679d45": {
          "model_module": "@jupyter-widgets/controls",
          "model_name": "HTMLModel",
          "model_module_version": "1.5.0",
          "state": {
            "_dom_classes": [],
            "_model_module": "@jupyter-widgets/controls",
            "_model_module_version": "1.5.0",
            "_model_name": "HTMLModel",
            "_view_count": null,
            "_view_module": "@jupyter-widgets/controls",
            "_view_module_version": "1.5.0",
            "_view_name": "HTMLView",
            "description": "",
            "description_tooltip": null,
            "layout": "IPY_MODEL_c8c7dc7dbcba4feebc10eddb1a09ca54",
            "placeholder": "​",
            "style": "IPY_MODEL_c465aea5c9794e91814a53ca9defeb61",
            "value": "special_tokens_map.json: 100%"
          }
        },
        "05d48fc7eb6141de89e4b73cab743579": {
          "model_module": "@jupyter-widgets/controls",
          "model_name": "FloatProgressModel",
          "model_module_version": "1.5.0",
          "state": {
            "_dom_classes": [],
            "_model_module": "@jupyter-widgets/controls",
            "_model_module_version": "1.5.0",
            "_model_name": "FloatProgressModel",
            "_view_count": null,
            "_view_module": "@jupyter-widgets/controls",
            "_view_module_version": "1.5.0",
            "_view_name": "ProgressView",
            "bar_style": "success",
            "description": "",
            "description_tooltip": null,
            "layout": "IPY_MODEL_9cf1fe94eb2d4deb91da50f8d1d37a9c",
            "max": 125,
            "min": 0,
            "orientation": "horizontal",
            "style": "IPY_MODEL_5d0657455a414e98ab4fcaa5a084115f",
            "value": 125
          }
        },
        "5e8929ad7a2e4f7e927491dd0eea5e89": {
          "model_module": "@jupyter-widgets/controls",
          "model_name": "HTMLModel",
          "model_module_version": "1.5.0",
          "state": {
            "_dom_classes": [],
            "_model_module": "@jupyter-widgets/controls",
            "_model_module_version": "1.5.0",
            "_model_name": "HTMLModel",
            "_view_count": null,
            "_view_module": "@jupyter-widgets/controls",
            "_view_module_version": "1.5.0",
            "_view_name": "HTMLView",
            "description": "",
            "description_tooltip": null,
            "layout": "IPY_MODEL_47c48cc935974203b531fea141e5bd70",
            "placeholder": "​",
            "style": "IPY_MODEL_1c59cdf1157c42b182e28b20e27c5579",
            "value": " 125/125 [00:00&lt;00:00, 7.05kB/s]"
          }
        },
        "02daacdc307e49ecbd29b031a196f5f3": {
          "model_module": "@jupyter-widgets/base",
          "model_name": "LayoutModel",
          "model_module_version": "1.2.0",
          "state": {
            "_model_module": "@jupyter-widgets/base",
            "_model_module_version": "1.2.0",
            "_model_name": "LayoutModel",
            "_view_count": null,
            "_view_module": "@jupyter-widgets/base",
            "_view_module_version": "1.2.0",
            "_view_name": "LayoutView",
            "align_content": null,
            "align_items": null,
            "align_self": null,
            "border": null,
            "bottom": null,
            "display": null,
            "flex": null,
            "flex_flow": null,
            "grid_area": null,
            "grid_auto_columns": null,
            "grid_auto_flow": null,
            "grid_auto_rows": null,
            "grid_column": null,
            "grid_gap": null,
            "grid_row": null,
            "grid_template_areas": null,
            "grid_template_columns": null,
            "grid_template_rows": null,
            "height": null,
            "justify_content": null,
            "justify_items": null,
            "left": null,
            "margin": null,
            "max_height": null,
            "max_width": null,
            "min_height": null,
            "min_width": null,
            "object_fit": null,
            "object_position": null,
            "order": null,
            "overflow": null,
            "overflow_x": null,
            "overflow_y": null,
            "padding": null,
            "right": null,
            "top": null,
            "visibility": null,
            "width": null
          }
        },
        "c8c7dc7dbcba4feebc10eddb1a09ca54": {
          "model_module": "@jupyter-widgets/base",
          "model_name": "LayoutModel",
          "model_module_version": "1.2.0",
          "state": {
            "_model_module": "@jupyter-widgets/base",
            "_model_module_version": "1.2.0",
            "_model_name": "LayoutModel",
            "_view_count": null,
            "_view_module": "@jupyter-widgets/base",
            "_view_module_version": "1.2.0",
            "_view_name": "LayoutView",
            "align_content": null,
            "align_items": null,
            "align_self": null,
            "border": null,
            "bottom": null,
            "display": null,
            "flex": null,
            "flex_flow": null,
            "grid_area": null,
            "grid_auto_columns": null,
            "grid_auto_flow": null,
            "grid_auto_rows": null,
            "grid_column": null,
            "grid_gap": null,
            "grid_row": null,
            "grid_template_areas": null,
            "grid_template_columns": null,
            "grid_template_rows": null,
            "height": null,
            "justify_content": null,
            "justify_items": null,
            "left": null,
            "margin": null,
            "max_height": null,
            "max_width": null,
            "min_height": null,
            "min_width": null,
            "object_fit": null,
            "object_position": null,
            "order": null,
            "overflow": null,
            "overflow_x": null,
            "overflow_y": null,
            "padding": null,
            "right": null,
            "top": null,
            "visibility": null,
            "width": null
          }
        },
        "c465aea5c9794e91814a53ca9defeb61": {
          "model_module": "@jupyter-widgets/controls",
          "model_name": "DescriptionStyleModel",
          "model_module_version": "1.5.0",
          "state": {
            "_model_module": "@jupyter-widgets/controls",
            "_model_module_version": "1.5.0",
            "_model_name": "DescriptionStyleModel",
            "_view_count": null,
            "_view_module": "@jupyter-widgets/base",
            "_view_module_version": "1.2.0",
            "_view_name": "StyleView",
            "description_width": ""
          }
        },
        "9cf1fe94eb2d4deb91da50f8d1d37a9c": {
          "model_module": "@jupyter-widgets/base",
          "model_name": "LayoutModel",
          "model_module_version": "1.2.0",
          "state": {
            "_model_module": "@jupyter-widgets/base",
            "_model_module_version": "1.2.0",
            "_model_name": "LayoutModel",
            "_view_count": null,
            "_view_module": "@jupyter-widgets/base",
            "_view_module_version": "1.2.0",
            "_view_name": "LayoutView",
            "align_content": null,
            "align_items": null,
            "align_self": null,
            "border": null,
            "bottom": null,
            "display": null,
            "flex": null,
            "flex_flow": null,
            "grid_area": null,
            "grid_auto_columns": null,
            "grid_auto_flow": null,
            "grid_auto_rows": null,
            "grid_column": null,
            "grid_gap": null,
            "grid_row": null,
            "grid_template_areas": null,
            "grid_template_columns": null,
            "grid_template_rows": null,
            "height": null,
            "justify_content": null,
            "justify_items": null,
            "left": null,
            "margin": null,
            "max_height": null,
            "max_width": null,
            "min_height": null,
            "min_width": null,
            "object_fit": null,
            "object_position": null,
            "order": null,
            "overflow": null,
            "overflow_x": null,
            "overflow_y": null,
            "padding": null,
            "right": null,
            "top": null,
            "visibility": null,
            "width": null
          }
        },
        "5d0657455a414e98ab4fcaa5a084115f": {
          "model_module": "@jupyter-widgets/controls",
          "model_name": "ProgressStyleModel",
          "model_module_version": "1.5.0",
          "state": {
            "_model_module": "@jupyter-widgets/controls",
            "_model_module_version": "1.5.0",
            "_model_name": "ProgressStyleModel",
            "_view_count": null,
            "_view_module": "@jupyter-widgets/base",
            "_view_module_version": "1.2.0",
            "_view_name": "StyleView",
            "bar_color": null,
            "description_width": ""
          }
        },
        "47c48cc935974203b531fea141e5bd70": {
          "model_module": "@jupyter-widgets/base",
          "model_name": "LayoutModel",
          "model_module_version": "1.2.0",
          "state": {
            "_model_module": "@jupyter-widgets/base",
            "_model_module_version": "1.2.0",
            "_model_name": "LayoutModel",
            "_view_count": null,
            "_view_module": "@jupyter-widgets/base",
            "_view_module_version": "1.2.0",
            "_view_name": "LayoutView",
            "align_content": null,
            "align_items": null,
            "align_self": null,
            "border": null,
            "bottom": null,
            "display": null,
            "flex": null,
            "flex_flow": null,
            "grid_area": null,
            "grid_auto_columns": null,
            "grid_auto_flow": null,
            "grid_auto_rows": null,
            "grid_column": null,
            "grid_gap": null,
            "grid_row": null,
            "grid_template_areas": null,
            "grid_template_columns": null,
            "grid_template_rows": null,
            "height": null,
            "justify_content": null,
            "justify_items": null,
            "left": null,
            "margin": null,
            "max_height": null,
            "max_width": null,
            "min_height": null,
            "min_width": null,
            "object_fit": null,
            "object_position": null,
            "order": null,
            "overflow": null,
            "overflow_x": null,
            "overflow_y": null,
            "padding": null,
            "right": null,
            "top": null,
            "visibility": null,
            "width": null
          }
        },
        "1c59cdf1157c42b182e28b20e27c5579": {
          "model_module": "@jupyter-widgets/controls",
          "model_name": "DescriptionStyleModel",
          "model_module_version": "1.5.0",
          "state": {
            "_model_module": "@jupyter-widgets/controls",
            "_model_module_version": "1.5.0",
            "_model_name": "DescriptionStyleModel",
            "_view_count": null,
            "_view_module": "@jupyter-widgets/base",
            "_view_module_version": "1.2.0",
            "_view_name": "StyleView",
            "description_width": ""
          }
        },
        "361f84f22e87462db9c0bfc3b21ad991": {
          "model_module": "@jupyter-widgets/controls",
          "model_name": "HBoxModel",
          "model_module_version": "1.5.0",
          "state": {
            "_dom_classes": [],
            "_model_module": "@jupyter-widgets/controls",
            "_model_module_version": "1.5.0",
            "_model_name": "HBoxModel",
            "_view_count": null,
            "_view_module": "@jupyter-widgets/controls",
            "_view_module_version": "1.5.0",
            "_view_name": "HBoxView",
            "box_style": "",
            "children": [
              "IPY_MODEL_1ae25d962b6b40b286d06eb94ed5947e",
              "IPY_MODEL_3721dd3402904d6297677b5857b895ce",
              "IPY_MODEL_4916f1d1450347429960ec8a0d7997f4"
            ],
            "layout": "IPY_MODEL_d6972443d3c8481d89195d3f3f41873a"
          }
        },
        "1ae25d962b6b40b286d06eb94ed5947e": {
          "model_module": "@jupyter-widgets/controls",
          "model_name": "HTMLModel",
          "model_module_version": "1.5.0",
          "state": {
            "_dom_classes": [],
            "_model_module": "@jupyter-widgets/controls",
            "_model_module_version": "1.5.0",
            "_model_name": "HTMLModel",
            "_view_count": null,
            "_view_module": "@jupyter-widgets/controls",
            "_view_module_version": "1.5.0",
            "_view_name": "HTMLView",
            "description": "",
            "description_tooltip": null,
            "layout": "IPY_MODEL_8992c6a99e274e02b0c680c62d091570",
            "placeholder": "​",
            "style": "IPY_MODEL_9c246f8a0168447ba745e7ee46af5c72",
            "value": "1_Pooling/config.json: 100%"
          }
        },
        "3721dd3402904d6297677b5857b895ce": {
          "model_module": "@jupyter-widgets/controls",
          "model_name": "FloatProgressModel",
          "model_module_version": "1.5.0",
          "state": {
            "_dom_classes": [],
            "_model_module": "@jupyter-widgets/controls",
            "_model_module_version": "1.5.0",
            "_model_name": "FloatProgressModel",
            "_view_count": null,
            "_view_module": "@jupyter-widgets/controls",
            "_view_module_version": "1.5.0",
            "_view_name": "ProgressView",
            "bar_style": "success",
            "description": "",
            "description_tooltip": null,
            "layout": "IPY_MODEL_266c88dc165e434283313e77e74afc41",
            "max": 191,
            "min": 0,
            "orientation": "horizontal",
            "style": "IPY_MODEL_f82de940299849d38a27863eccb93430",
            "value": 191
          }
        },
        "4916f1d1450347429960ec8a0d7997f4": {
          "model_module": "@jupyter-widgets/controls",
          "model_name": "HTMLModel",
          "model_module_version": "1.5.0",
          "state": {
            "_dom_classes": [],
            "_model_module": "@jupyter-widgets/controls",
            "_model_module_version": "1.5.0",
            "_model_name": "HTMLModel",
            "_view_count": null,
            "_view_module": "@jupyter-widgets/controls",
            "_view_module_version": "1.5.0",
            "_view_name": "HTMLView",
            "description": "",
            "description_tooltip": null,
            "layout": "IPY_MODEL_7fa1a2f76f48411e892d3a26297408fe",
            "placeholder": "​",
            "style": "IPY_MODEL_462f6d396a9a4123828eca24a22adb0c",
            "value": " 191/191 [00:00&lt;00:00, 14.4kB/s]"
          }
        },
        "d6972443d3c8481d89195d3f3f41873a": {
          "model_module": "@jupyter-widgets/base",
          "model_name": "LayoutModel",
          "model_module_version": "1.2.0",
          "state": {
            "_model_module": "@jupyter-widgets/base",
            "_model_module_version": "1.2.0",
            "_model_name": "LayoutModel",
            "_view_count": null,
            "_view_module": "@jupyter-widgets/base",
            "_view_module_version": "1.2.0",
            "_view_name": "LayoutView",
            "align_content": null,
            "align_items": null,
            "align_self": null,
            "border": null,
            "bottom": null,
            "display": null,
            "flex": null,
            "flex_flow": null,
            "grid_area": null,
            "grid_auto_columns": null,
            "grid_auto_flow": null,
            "grid_auto_rows": null,
            "grid_column": null,
            "grid_gap": null,
            "grid_row": null,
            "grid_template_areas": null,
            "grid_template_columns": null,
            "grid_template_rows": null,
            "height": null,
            "justify_content": null,
            "justify_items": null,
            "left": null,
            "margin": null,
            "max_height": null,
            "max_width": null,
            "min_height": null,
            "min_width": null,
            "object_fit": null,
            "object_position": null,
            "order": null,
            "overflow": null,
            "overflow_x": null,
            "overflow_y": null,
            "padding": null,
            "right": null,
            "top": null,
            "visibility": null,
            "width": null
          }
        },
        "8992c6a99e274e02b0c680c62d091570": {
          "model_module": "@jupyter-widgets/base",
          "model_name": "LayoutModel",
          "model_module_version": "1.2.0",
          "state": {
            "_model_module": "@jupyter-widgets/base",
            "_model_module_version": "1.2.0",
            "_model_name": "LayoutModel",
            "_view_count": null,
            "_view_module": "@jupyter-widgets/base",
            "_view_module_version": "1.2.0",
            "_view_name": "LayoutView",
            "align_content": null,
            "align_items": null,
            "align_self": null,
            "border": null,
            "bottom": null,
            "display": null,
            "flex": null,
            "flex_flow": null,
            "grid_area": null,
            "grid_auto_columns": null,
            "grid_auto_flow": null,
            "grid_auto_rows": null,
            "grid_column": null,
            "grid_gap": null,
            "grid_row": null,
            "grid_template_areas": null,
            "grid_template_columns": null,
            "grid_template_rows": null,
            "height": null,
            "justify_content": null,
            "justify_items": null,
            "left": null,
            "margin": null,
            "max_height": null,
            "max_width": null,
            "min_height": null,
            "min_width": null,
            "object_fit": null,
            "object_position": null,
            "order": null,
            "overflow": null,
            "overflow_x": null,
            "overflow_y": null,
            "padding": null,
            "right": null,
            "top": null,
            "visibility": null,
            "width": null
          }
        },
        "9c246f8a0168447ba745e7ee46af5c72": {
          "model_module": "@jupyter-widgets/controls",
          "model_name": "DescriptionStyleModel",
          "model_module_version": "1.5.0",
          "state": {
            "_model_module": "@jupyter-widgets/controls",
            "_model_module_version": "1.5.0",
            "_model_name": "DescriptionStyleModel",
            "_view_count": null,
            "_view_module": "@jupyter-widgets/base",
            "_view_module_version": "1.2.0",
            "_view_name": "StyleView",
            "description_width": ""
          }
        },
        "266c88dc165e434283313e77e74afc41": {
          "model_module": "@jupyter-widgets/base",
          "model_name": "LayoutModel",
          "model_module_version": "1.2.0",
          "state": {
            "_model_module": "@jupyter-widgets/base",
            "_model_module_version": "1.2.0",
            "_model_name": "LayoutModel",
            "_view_count": null,
            "_view_module": "@jupyter-widgets/base",
            "_view_module_version": "1.2.0",
            "_view_name": "LayoutView",
            "align_content": null,
            "align_items": null,
            "align_self": null,
            "border": null,
            "bottom": null,
            "display": null,
            "flex": null,
            "flex_flow": null,
            "grid_area": null,
            "grid_auto_columns": null,
            "grid_auto_flow": null,
            "grid_auto_rows": null,
            "grid_column": null,
            "grid_gap": null,
            "grid_row": null,
            "grid_template_areas": null,
            "grid_template_columns": null,
            "grid_template_rows": null,
            "height": null,
            "justify_content": null,
            "justify_items": null,
            "left": null,
            "margin": null,
            "max_height": null,
            "max_width": null,
            "min_height": null,
            "min_width": null,
            "object_fit": null,
            "object_position": null,
            "order": null,
            "overflow": null,
            "overflow_x": null,
            "overflow_y": null,
            "padding": null,
            "right": null,
            "top": null,
            "visibility": null,
            "width": null
          }
        },
        "f82de940299849d38a27863eccb93430": {
          "model_module": "@jupyter-widgets/controls",
          "model_name": "ProgressStyleModel",
          "model_module_version": "1.5.0",
          "state": {
            "_model_module": "@jupyter-widgets/controls",
            "_model_module_version": "1.5.0",
            "_model_name": "ProgressStyleModel",
            "_view_count": null,
            "_view_module": "@jupyter-widgets/base",
            "_view_module_version": "1.2.0",
            "_view_name": "StyleView",
            "bar_color": null,
            "description_width": ""
          }
        },
        "7fa1a2f76f48411e892d3a26297408fe": {
          "model_module": "@jupyter-widgets/base",
          "model_name": "LayoutModel",
          "model_module_version": "1.2.0",
          "state": {
            "_model_module": "@jupyter-widgets/base",
            "_model_module_version": "1.2.0",
            "_model_name": "LayoutModel",
            "_view_count": null,
            "_view_module": "@jupyter-widgets/base",
            "_view_module_version": "1.2.0",
            "_view_name": "LayoutView",
            "align_content": null,
            "align_items": null,
            "align_self": null,
            "border": null,
            "bottom": null,
            "display": null,
            "flex": null,
            "flex_flow": null,
            "grid_area": null,
            "grid_auto_columns": null,
            "grid_auto_flow": null,
            "grid_auto_rows": null,
            "grid_column": null,
            "grid_gap": null,
            "grid_row": null,
            "grid_template_areas": null,
            "grid_template_columns": null,
            "grid_template_rows": null,
            "height": null,
            "justify_content": null,
            "justify_items": null,
            "left": null,
            "margin": null,
            "max_height": null,
            "max_width": null,
            "min_height": null,
            "min_width": null,
            "object_fit": null,
            "object_position": null,
            "order": null,
            "overflow": null,
            "overflow_x": null,
            "overflow_y": null,
            "padding": null,
            "right": null,
            "top": null,
            "visibility": null,
            "width": null
          }
        },
        "462f6d396a9a4123828eca24a22adb0c": {
          "model_module": "@jupyter-widgets/controls",
          "model_name": "DescriptionStyleModel",
          "model_module_version": "1.5.0",
          "state": {
            "_model_module": "@jupyter-widgets/controls",
            "_model_module_version": "1.5.0",
            "_model_name": "DescriptionStyleModel",
            "_view_count": null,
            "_view_module": "@jupyter-widgets/base",
            "_view_module_version": "1.2.0",
            "_view_name": "StyleView",
            "description_width": ""
          }
        }
      }
    }
  },
  "cells": [
    {
      "cell_type": "markdown",
      "source": [
        "# Finsights Grey - RAG for Effective Information Retrieval\n"
      ],
      "metadata": {
        "id": "N-SSaZ34Ejlu"
      }
    },
    {
      "cell_type": "markdown",
      "source": [
        "## Business Use Case"
      ],
      "metadata": {
        "id": "_aswaepKTclI"
      }
    },
    {
      "cell_type": "markdown",
      "source": [
        "**Problem Statement:**\n",
        "\n",
        "Finsights Grey Inc. is an innovative financial technology firm that specializes in providing advanced analytics and insights for investment management and financial planning. The company handles an extensive collection of 10-K reports from various industry players, which contain detailed information about financial performance, risk factors, market trends, and strategic initiatives. Despite the richness of these documents, Finsights Grey's financial analysts struggle with extracting actionable insights efficiently in a short span due to the manual and labor-intensive nature of the analysis. Going through the document to find the exact information needed at the moment takes too long. This bottleneck hampers the company's ability to deliver timely and accurate recommendations to its clients. To overcome these challenges, Finsights Grey Inc. aims to implement a Retrieval-Augmented Generation (RAG) model to automate the extraction, summarization, and analysis of information from the 10-K reports, thereby enhancing the accuracy and speed of their investment insights.\n",
        "\n",
        "**Objective:**\n",
        "\n",
        "As a Gen AI Data Scientist hired by Finsights Grey Inc., the objective is to develop an advanced RAG-based system to streamline the extraction and analysis of key information from 10-K reports. You are asked to deploy a Gradio app on HuggingFace spaces that can RAG 10-k reports and answer the questions of financial analysts swiftly.\n",
        "\n",
        "The project will involve testing the RAG system on a current business problem. The Financial analysts are asked to research major cloud and AI platforms such as Amazon AWS, Google Cloud, Microsoft Azure, Meta AI, and IBM Watson to determine the most effective platform for this application. The primary goals include improving the efficiency of data extraction. Once the project is deployed, the system will be tested by a financial analyst with the following questions. Accurate text retrieval for these questions will imply the project's success.\n",
        "\n",
        "**Questions:**\n",
        "\n",
        "1. Has the company made any significant acquisitions in the AI space, and how are these acquisitions being integrated into the company's strategy?\n",
        "\n",
        "2. How much capital has been allocated towards AI research and development?\n",
        "\n",
        "3. What initiatives has the company implemented to address ethical concerns surrounding AI, such as fairness, accountability, and privacy?\n",
        "\n",
        "4. How does the company plan to differentiate itself in the AI space relative to competitors?\n",
        "\n",
        "Each Question must be asked for each of the five companies on the HuggingFace spaces.\n",
        "\n",
        "\n",
        "**By successfully developing this project, we aim to:**\n",
        "\n",
        "Improve the productivity of financial analysts by providing a competent tool.\n",
        "\n",
        "Provide timely insights to improve client recommendations.\n",
        "\n",
        "Strengthen FinTech Insights Inc.’s competitive edge by delivering more reliable and faster insights to clients.\n"
      ],
      "metadata": {
        "id": "1_Nst0jMYzGu"
      }
    },
    {
      "cell_type": "markdown",
      "source": [
        "**Connect to a T4 GPU Instance to create the Vector Database.**"
      ],
      "metadata": {
        "id": "QaB-Mqiprrb0"
      }
    },
    {
      "cell_type": "markdown",
      "source": [
        "### Setup"
      ],
      "metadata": {
        "id": "UgAFFFruPmpH"
      }
    },
    {
      "cell_type": "code",
      "source": [
        "# Install the necessary libraries\n",
        "!pip install -q openai==1.23.2 \\\n",
        "                tiktoken==0.6.0 \\\n",
        "                pypdf==4.0.1 \\\n",
        "                langchain==0.1.1 \\\n",
        "                langchain-community==0.0.13 \\\n",
        "                chromadb==0.4.22 \\\n",
        "                sentence-transformers==2.3.1"
      ],
      "metadata": {
        "id": "yC_5gAl0PoPM",
        "colab": {
          "base_uri": "https://localhost:8080/"
        },
        "outputId": "d0e16882-dbdf-4ac6-f398-c7601e798cb8"
      },
      "execution_count": null,
      "outputs": [
        {
          "output_type": "stream",
          "name": "stdout",
          "text": [
            "\u001b[2K     \u001b[90m━━━━━━━━━━━━━━━━━━━━━━━━━━━━━━━━━━━━━━━━\u001b[0m \u001b[32m311.2/311.2 kB\u001b[0m \u001b[31m3.6 MB/s\u001b[0m eta \u001b[36m0:00:00\u001b[0m\n",
            "\u001b[2K     \u001b[90m━━━━━━━━━━━━━━━━━━━━━━━━━━━━━━━━━━━━━━━━\u001b[0m \u001b[32m1.8/1.8 MB\u001b[0m \u001b[31m14.9 MB/s\u001b[0m eta \u001b[36m0:00:00\u001b[0m\n",
            "\u001b[2K     \u001b[90m━━━━━━━━━━━━━━━━━━━━━━━━━━━━━━━━━━━━━━━━\u001b[0m \u001b[32m284.0/284.0 kB\u001b[0m \u001b[31m13.5 MB/s\u001b[0m eta \u001b[36m0:00:00\u001b[0m\n",
            "\u001b[2K     \u001b[90m━━━━━━━━━━━━━━━━━━━━━━━━━━━━━━━━━━━━━━━━\u001b[0m \u001b[32m802.4/802.4 kB\u001b[0m \u001b[31m15.7 MB/s\u001b[0m eta \u001b[36m0:00:00\u001b[0m\n",
            "\u001b[2K     \u001b[90m━━━━━━━━━━━━━━━━━━━━━━━━━━━━━━━━━━━━━━━━\u001b[0m \u001b[32m1.6/1.6 MB\u001b[0m \u001b[31m18.5 MB/s\u001b[0m eta \u001b[36m0:00:00\u001b[0m\n",
            "\u001b[2K     \u001b[90m━━━━━━━━━━━━━━━━━━━━━━━━━━━━━━━━━━━━━━━━\u001b[0m \u001b[32m509.0/509.0 kB\u001b[0m \u001b[31m12.7 MB/s\u001b[0m eta \u001b[36m0:00:00\u001b[0m\n",
            "\u001b[2K     \u001b[90m━━━━━━━━━━━━━━━━━━━━━━━━━━━━━━━━━━━━━━━━\u001b[0m \u001b[32m132.8/132.8 kB\u001b[0m \u001b[31m8.5 MB/s\u001b[0m eta \u001b[36m0:00:00\u001b[0m\n",
            "\u001b[2K     \u001b[90m━━━━━━━━━━━━━━━━━━━━━━━━━━━━━━━━━━━━━━━━\u001b[0m \u001b[32m75.6/75.6 kB\u001b[0m \u001b[31m3.8 MB/s\u001b[0m eta \u001b[36m0:00:00\u001b[0m\n",
            "\u001b[2K     \u001b[90m━━━━━━━━━━━━━━━━━━━━━━━━━━━━━━━━━━━━━━━━\u001b[0m \u001b[32m302.9/302.9 kB\u001b[0m \u001b[31m12.3 MB/s\u001b[0m eta \u001b[36m0:00:00\u001b[0m\n",
            "\u001b[2K     \u001b[90m━━━━━━━━━━━━━━━━━━━━━━━━━━━━━━━━━━━━━━━━\u001b[0m \u001b[32m56.5/56.5 kB\u001b[0m \u001b[31m3.0 MB/s\u001b[0m eta \u001b[36m0:00:00\u001b[0m\n",
            "\u001b[2K     \u001b[90m━━━━━━━━━━━━━━━━━━━━━━━━━━━━━━━━━━━━━━━━\u001b[0m \u001b[32m2.4/2.4 MB\u001b[0m \u001b[31m32.3 MB/s\u001b[0m eta \u001b[36m0:00:00\u001b[0m\n",
            "\u001b[2K     \u001b[90m━━━━━━━━━━━━━━━━━━━━━━━━━━━━━━━━━━━━━━━━\u001b[0m \u001b[32m92.0/92.0 kB\u001b[0m \u001b[31m5.4 MB/s\u001b[0m eta \u001b[36m0:00:00\u001b[0m\n",
            "\u001b[2K     \u001b[90m━━━━━━━━━━━━━━━━━━━━━━━━━━━━━━━━━━━━━━━━\u001b[0m \u001b[32m62.4/62.4 kB\u001b[0m \u001b[31m4.5 MB/s\u001b[0m eta \u001b[36m0:00:00\u001b[0m\n",
            "\u001b[2K     \u001b[90m━━━━━━━━━━━━━━━━━━━━━━━━━━━━━━━━━━━━━━━━\u001b[0m \u001b[32m41.3/41.3 kB\u001b[0m \u001b[31m2.8 MB/s\u001b[0m eta \u001b[36m0:00:00\u001b[0m\n",
            "\u001b[2K     \u001b[90m━━━━━━━━━━━━━━━━━━━━━━━━━━━━━━━━━━━━━━━━\u001b[0m \u001b[32m5.4/5.4 MB\u001b[0m \u001b[31m52.3 MB/s\u001b[0m eta \u001b[36m0:00:00\u001b[0m\n",
            "\u001b[2K     \u001b[90m━━━━━━━━━━━━━━━━━━━━━━━━━━━━━━━━━━━━━━━━\u001b[0m \u001b[32m6.8/6.8 MB\u001b[0m \u001b[31m73.0 MB/s\u001b[0m eta \u001b[36m0:00:00\u001b[0m\n",
            "\u001b[2K     \u001b[90m━━━━━━━━━━━━━━━━━━━━━━━━━━━━━━━━━━━━━━━━\u001b[0m \u001b[32m59.9/59.9 kB\u001b[0m \u001b[31m5.9 MB/s\u001b[0m eta \u001b[36m0:00:00\u001b[0m\n",
            "\u001b[2K     \u001b[90m━━━━━━━━━━━━━━━━━━━━━━━━━━━━━━━━━━━━━━━━\u001b[0m \u001b[32m107.0/107.0 kB\u001b[0m \u001b[31m9.5 MB/s\u001b[0m eta \u001b[36m0:00:00\u001b[0m\n",
            "\u001b[2K     \u001b[90m━━━━━━━━━━━━━━━━━━━━━━━━━━━━━━━━━━━━━━━━\u001b[0m \u001b[32m67.3/67.3 kB\u001b[0m \u001b[31m7.9 MB/s\u001b[0m eta \u001b[36m0:00:00\u001b[0m\n",
            "\u001b[?25h  Installing build dependencies ... \u001b[?25l\u001b[?25hdone\n",
            "  Getting requirements to build wheel ... \u001b[?25l\u001b[?25hdone\n",
            "  Preparing metadata (pyproject.toml) ... \u001b[?25l\u001b[?25hdone\n",
            "\u001b[2K     \u001b[90m━━━━━━━━━━━━━━━━━━━━━━━━━━━━━━━━━━━━━━━━\u001b[0m \u001b[32m283.7/283.7 kB\u001b[0m \u001b[31m30.8 MB/s\u001b[0m eta \u001b[36m0:00:00\u001b[0m\n",
            "\u001b[2K     \u001b[90m━━━━━━━━━━━━━━━━━━━━━━━━━━━━━━━━━━━━━━━━\u001b[0m \u001b[32m1.7/1.7 MB\u001b[0m \u001b[31m76.3 MB/s\u001b[0m eta \u001b[36m0:00:00\u001b[0m\n",
            "\u001b[2K     \u001b[90m━━━━━━━━━━━━━━━━━━━━━━━━━━━━━━━━━━━━━━━━\u001b[0m \u001b[32m67.6/67.6 kB\u001b[0m \u001b[31m8.5 MB/s\u001b[0m eta \u001b[36m0:00:00\u001b[0m\n",
            "\u001b[2K     \u001b[90m━━━━━━━━━━━━━━━━━━━━━━━━━━━━━━━━━━━━━━━━\u001b[0m \u001b[32m49.2/49.2 kB\u001b[0m \u001b[31m6.6 MB/s\u001b[0m eta \u001b[36m0:00:00\u001b[0m\n",
            "\u001b[2K     \u001b[90m━━━━━━━━━━━━━━━━━━━━━━━━━━━━━━━━━━━━━━━━\u001b[0m \u001b[32m71.9/71.9 kB\u001b[0m \u001b[31m10.2 MB/s\u001b[0m eta \u001b[36m0:00:00\u001b[0m\n",
            "\u001b[2K     \u001b[90m━━━━━━━━━━━━━━━━━━━━━━━━━━━━━━━━━━━━━━━━\u001b[0m \u001b[32m53.6/53.6 kB\u001b[0m \u001b[31m7.2 MB/s\u001b[0m eta \u001b[36m0:00:00\u001b[0m\n",
            "\u001b[2K     \u001b[90m━━━━━━━━━━━━━━━━━━━━━━━━━━━━━━━━━━━━━━━━\u001b[0m \u001b[32m145.0/145.0 kB\u001b[0m \u001b[31m19.1 MB/s\u001b[0m eta \u001b[36m0:00:00\u001b[0m\n",
            "\u001b[2K     \u001b[90m━━━━━━━━━━━━━━━━━━━━━━━━━━━━━━━━━━━━━━━━\u001b[0m \u001b[32m77.9/77.9 kB\u001b[0m \u001b[31m8.0 MB/s\u001b[0m eta \u001b[36m0:00:00\u001b[0m\n",
            "\u001b[2K     \u001b[90m━━━━━━━━━━━━━━━━━━━━━━━━━━━━━━━━━━━━━━━━\u001b[0m \u001b[32m58.3/58.3 kB\u001b[0m \u001b[31m7.9 MB/s\u001b[0m eta \u001b[36m0:00:00\u001b[0m\n",
            "\u001b[2K     \u001b[90m━━━━━━━━━━━━━━━━━━━━━━━━━━━━━━━━━━━━━━━━\u001b[0m \u001b[32m302.9/302.9 kB\u001b[0m \u001b[31m19.8 MB/s\u001b[0m eta \u001b[36m0:00:00\u001b[0m\n",
            "\u001b[2K     \u001b[90m━━━━━━━━━━━━━━━━━━━━━━━━━━━━━━━━━━━━━━━━\u001b[0m \u001b[32m302.8/302.8 kB\u001b[0m \u001b[31m21.7 MB/s\u001b[0m eta \u001b[36m0:00:00\u001b[0m\n",
            "\u001b[2K     \u001b[90m━━━━━━━━━━━━━━━━━━━━━━━━━━━━━━━━━━━━━━━━\u001b[0m \u001b[32m303.0/303.0 kB\u001b[0m \u001b[31m4.1 MB/s\u001b[0m eta \u001b[36m0:00:00\u001b[0m\n",
            "\u001b[2K     \u001b[90m━━━━━━━━━━━━━━━━━━━━━━━━━━━━━━━━━━━━━━━━\u001b[0m \u001b[32m302.9/302.9 kB\u001b[0m \u001b[31m28.7 MB/s\u001b[0m eta \u001b[36m0:00:00\u001b[0m\n",
            "\u001b[2K     \u001b[90m━━━━━━━━━━━━━━━━━━━━━━━━━━━━━━━━━━━━━━━━\u001b[0m \u001b[32m302.2/302.2 kB\u001b[0m \u001b[31m25.6 MB/s\u001b[0m eta \u001b[36m0:00:00\u001b[0m\n",
            "\u001b[2K     \u001b[90m━━━━━━━━━━━━━━━━━━━━━━━━━━━━━━━━━━━━━━━━\u001b[0m \u001b[32m299.3/299.3 kB\u001b[0m \u001b[31m28.5 MB/s\u001b[0m eta \u001b[36m0:00:00\u001b[0m\n",
            "\u001b[2K     \u001b[90m━━━━━━━━━━━━━━━━━━━━━━━━━━━━━━━━━━━━━━━━\u001b[0m \u001b[32m291.3/291.3 kB\u001b[0m \u001b[31m27.3 MB/s\u001b[0m eta \u001b[36m0:00:00\u001b[0m\n",
            "\u001b[2K     \u001b[90m━━━━━━━━━━━━━━━━━━━━━━━━━━━━━━━━━━━━━━━━\u001b[0m \u001b[32m290.2/290.2 kB\u001b[0m \u001b[31m30.7 MB/s\u001b[0m eta \u001b[36m0:00:00\u001b[0m\n",
            "\u001b[2K     \u001b[90m━━━━━━━━━━━━━━━━━━━━━━━━━━━━━━━━━━━━━━━━\u001b[0m \u001b[32m289.1/289.1 kB\u001b[0m \u001b[31m29.4 MB/s\u001b[0m eta \u001b[36m0:00:00\u001b[0m\n",
            "\u001b[2K     \u001b[90m━━━━━━━━━━━━━━━━━━━━━━━━━━━━━━━━━━━━━━━━\u001b[0m \u001b[32m287.5/287.5 kB\u001b[0m \u001b[31m28.7 MB/s\u001b[0m eta \u001b[36m0:00:00\u001b[0m\n",
            "\u001b[2K     \u001b[90m━━━━━━━━━━━━━━━━━━━━━━━━━━━━━━━━━━━━━━━━\u001b[0m \u001b[32m278.4/278.4 kB\u001b[0m \u001b[31m30.1 MB/s\u001b[0m eta \u001b[36m0:00:00\u001b[0m\n",
            "\u001b[2K     \u001b[90m━━━━━━━━━━━━━━━━━━━━━━━━━━━━━━━━━━━━━━━━\u001b[0m \u001b[32m276.8/276.8 kB\u001b[0m \u001b[31m26.9 MB/s\u001b[0m eta \u001b[36m0:00:00\u001b[0m\n",
            "\u001b[2K     \u001b[90m━━━━━━━━━━━━━━━━━━━━━━━━━━━━━━━━━━━━━━━━\u001b[0m \u001b[32m276.6/276.6 kB\u001b[0m \u001b[31m26.8 MB/s\u001b[0m eta \u001b[36m0:00:00\u001b[0m\n",
            "\u001b[2K     \u001b[90m━━━━━━━━━━━━━━━━━━━━━━━━━━━━━━━━━━━━━━━━\u001b[0m \u001b[32m279.2/279.2 kB\u001b[0m \u001b[31m23.3 MB/s\u001b[0m eta \u001b[36m0:00:00\u001b[0m\n",
            "\u001b[2K     \u001b[90m━━━━━━━━━━━━━━━━━━━━━━━━━━━━━━━━━━━━━━━━\u001b[0m \u001b[32m274.6/274.6 kB\u001b[0m \u001b[31m18.1 MB/s\u001b[0m eta \u001b[36m0:00:00\u001b[0m\n",
            "\u001b[2K     \u001b[90m━━━━━━━━━━━━━━━━━━━━━━━━━━━━━━━━━━━━━━━━\u001b[0m \u001b[32m273.9/273.9 kB\u001b[0m \u001b[31m2.3 MB/s\u001b[0m eta \u001b[36m0:00:00\u001b[0m\n",
            "\u001b[2K     \u001b[90m━━━━━━━━━━━━━━━━━━━━━━━━━━━━━━━━━━━━━━━━\u001b[0m \u001b[32m273.0/273.0 kB\u001b[0m \u001b[31m25.2 MB/s\u001b[0m eta \u001b[36m0:00:00\u001b[0m\n",
            "\u001b[2K     \u001b[90m━━━━━━━━━━━━━━━━━━━━━━━━━━━━━━━━━━━━━━━━\u001b[0m \u001b[32m271.6/271.6 kB\u001b[0m \u001b[31m25.8 MB/s\u001b[0m eta \u001b[36m0:00:00\u001b[0m\n",
            "\u001b[2K     \u001b[90m━━━━━━━━━━━━━━━━━━━━━━━━━━━━━━━━━━━━━━━━\u001b[0m \u001b[32m269.1/269.1 kB\u001b[0m \u001b[31m27.0 MB/s\u001b[0m eta \u001b[36m0:00:00\u001b[0m\n",
            "\u001b[2K     \u001b[90m━━━━━━━━━━━━━━━━━━━━━━━━━━━━━━━━━━━━━━━━\u001b[0m \u001b[32m260.9/260.9 kB\u001b[0m \u001b[31m14.6 MB/s\u001b[0m eta \u001b[36m0:00:00\u001b[0m\n",
            "\u001b[2K     \u001b[90m━━━━━━━━━━━━━━━━━━━━━━━━━━━━━━━━━━━━━━━━\u001b[0m \u001b[32m258.8/258.8 kB\u001b[0m \u001b[31m24.5 MB/s\u001b[0m eta \u001b[36m0:00:00\u001b[0m\n",
            "\u001b[2K     \u001b[90m━━━━━━━━━━━━━━━━━━━━━━━━━━━━━━━━━━━━━━━━\u001b[0m \u001b[32m256.9/256.9 kB\u001b[0m \u001b[31m26.6 MB/s\u001b[0m eta \u001b[36m0:00:00\u001b[0m\n",
            "\u001b[2K     \u001b[90m━━━━━━━━━━━━━━━━━━━━━━━━━━━━━━━━━━━━━━━━\u001b[0m \u001b[32m252.6/252.6 kB\u001b[0m \u001b[31m20.7 MB/s\u001b[0m eta \u001b[36m0:00:00\u001b[0m\n",
            "\u001b[2K     \u001b[90m━━━━━━━━━━━━━━━━━━━━━━━━━━━━━━━━━━━━━━━━\u001b[0m \u001b[32m252.4/252.4 kB\u001b[0m \u001b[31m25.1 MB/s\u001b[0m eta \u001b[36m0:00:00\u001b[0m\n",
            "\u001b[2K     \u001b[90m━━━━━━━━━━━━━━━━━━━━━━━━━━━━━━━━━━━━━━━━\u001b[0m \u001b[32m250.8/250.8 kB\u001b[0m \u001b[31m22.1 MB/s\u001b[0m eta \u001b[36m0:00:00\u001b[0m\n",
            "\u001b[2K     \u001b[90m━━━━━━━━━━━━━━━━━━━━━━━━━━━━━━━━━━━━━━━━\u001b[0m \u001b[32m246.4/246.4 kB\u001b[0m \u001b[31m24.4 MB/s\u001b[0m eta \u001b[36m0:00:00\u001b[0m\n",
            "\u001b[2K     \u001b[90m━━━━━━━━━━━━━━━━━━━━━━━━━━━━━━━━━━━━━━━━\u001b[0m \u001b[32m242.1/242.1 kB\u001b[0m \u001b[31m23.8 MB/s\u001b[0m eta \u001b[36m0:00:00\u001b[0m\n",
            "\u001b[2K     \u001b[90m━━━━━━━━━━━━━━━━━━━━━━━━━━━━━━━━━━━━━━━━\u001b[0m \u001b[32m241.3/241.3 kB\u001b[0m \u001b[31m18.3 MB/s\u001b[0m eta \u001b[36m0:00:00\u001b[0m\n",
            "\u001b[2K     \u001b[90m━━━━━━━━━━━━━━━━━━━━━━━━━━━━━━━━━━━━━━━━\u001b[0m \u001b[32m241.2/241.2 kB\u001b[0m \u001b[31m23.3 MB/s\u001b[0m eta \u001b[36m0:00:00\u001b[0m\n",
            "\u001b[2K     \u001b[90m━━━━━━━━━━━━━━━━━━━━━━━━━━━━━━━━━━━━━━━━\u001b[0m \u001b[32m55.4/55.4 kB\u001b[0m \u001b[31m6.3 MB/s\u001b[0m eta \u001b[36m0:00:00\u001b[0m\n",
            "\u001b[2K     \u001b[90m━━━━━━━━━━━━━━━━━━━━━━━━━━━━━━━━━━━━━━━━\u001b[0m \u001b[32m53.0/53.0 kB\u001b[0m \u001b[31m6.8 MB/s\u001b[0m eta \u001b[36m0:00:00\u001b[0m\n",
            "\u001b[2K     \u001b[90m━━━━━━━━━━━━━━━━━━━━━━━━━━━━━━━━━━━━━━━━\u001b[0m \u001b[32m46.0/46.0 kB\u001b[0m \u001b[31m4.3 MB/s\u001b[0m eta \u001b[36m0:00:00\u001b[0m\n",
            "\u001b[2K     \u001b[90m━━━━━━━━━━━━━━━━━━━━━━━━━━━━━━━━━━━━━━━━\u001b[0m \u001b[32m52.5/52.5 kB\u001b[0m \u001b[31m6.2 MB/s\u001b[0m eta \u001b[36m0:00:00\u001b[0m\n",
            "\u001b[2K     \u001b[90m━━━━━━━━━━━━━━━━━━━━━━━━━━━━━━━━━━━━━━━━\u001b[0m \u001b[32m130.5/130.5 kB\u001b[0m \u001b[31m12.8 MB/s\u001b[0m eta \u001b[36m0:00:00\u001b[0m\n",
            "\u001b[2K     \u001b[90m━━━━━━━━━━━━━━━━━━━━━━━━━━━━━━━━━━━━━━━━\u001b[0m \u001b[32m21.3/21.3 MB\u001b[0m \u001b[31m68.0 MB/s\u001b[0m eta \u001b[36m0:00:00\u001b[0m\n",
            "\u001b[2K     \u001b[90m━━━━━━━━━━━━━━━━━━━━━━━━━━━━━━━━━━━━━━━━\u001b[0m \u001b[32m341.4/341.4 kB\u001b[0m \u001b[31m30.6 MB/s\u001b[0m eta \u001b[36m0:00:00\u001b[0m\n",
            "\u001b[2K     \u001b[90m━━━━━━━━━━━━━━━━━━━━━━━━━━━━━━━━━━━━━━━━\u001b[0m \u001b[32m3.4/3.4 MB\u001b[0m \u001b[31m74.2 MB/s\u001b[0m eta \u001b[36m0:00:00\u001b[0m\n",
            "\u001b[2K     \u001b[90m━━━━━━━━━━━━━━━━━━━━━━━━━━━━━━━━━━━━━━━━\u001b[0m \u001b[32m1.2/1.2 MB\u001b[0m \u001b[31m59.4 MB/s\u001b[0m eta \u001b[36m0:00:00\u001b[0m\n",
            "\u001b[2K     \u001b[90m━━━━━━━━━━━━━━━━━━━━━━━━━━━━━━━━━━━━━━━━\u001b[0m \u001b[32m130.2/130.2 kB\u001b[0m \u001b[31m7.0 MB/s\u001b[0m eta \u001b[36m0:00:00\u001b[0m\n",
            "\u001b[2K     \u001b[90m━━━━━━━━━━━━━━━━━━━━━━━━━━━━━━━━━━━━━━━━\u001b[0m \u001b[32m307.7/307.7 kB\u001b[0m \u001b[31m31.8 MB/s\u001b[0m eta \u001b[36m0:00:00\u001b[0m\n",
            "\u001b[2K     \u001b[90m━━━━━━━━━━━━━━━━━━━━━━━━━━━━━━━━━━━━━━━━\u001b[0m \u001b[32m86.8/86.8 kB\u001b[0m \u001b[31m11.1 MB/s\u001b[0m eta \u001b[36m0:00:00\u001b[0m\n",
            "\u001b[?25h  Building wheel for pypika (pyproject.toml) ... \u001b[?25l\u001b[?25hdone\n"
          ]
        }
      ]
    },
    {
      "cell_type": "code",
      "execution_count": null,
      "metadata": {
        "id": "HKMjqQpFl4kd"
      },
      "outputs": [],
      "source": [
        "# Import the necessary Libraries\n",
        "import json\n",
        "import tiktoken\n",
        "\n",
        "import pandas as pd\n",
        "\n",
        "from openai import OpenAI\n",
        "\n",
        "from langchain.text_splitter import RecursiveCharacterTextSplitter\n",
        "\n",
        "from langchain_community.document_loaders import PyPDFDirectoryLoader\n",
        "from langchain_community.embeddings.sentence_transformer import (\n",
        "    SentenceTransformerEmbeddings\n",
        ")\n",
        "from langchain_community.vectorstores import Chroma\n",
        "\n",
        "from google.colab import userdata, drive"
      ]
    },
    {
      "cell_type": "markdown",
      "source": [
        "# Impementing RAG"
      ],
      "metadata": {
        "id": "1OhFS7PMZFUA"
      }
    },
    {
      "cell_type": "markdown",
      "source": [
        "### Prepare Data"
      ],
      "metadata": {
        "id": "WT9dh1VXTfaX"
      }
    },
    {
      "cell_type": "markdown",
      "source": [
        "Let's start by loading the dataset."
      ],
      "metadata": {
        "id": "DiQVSdzoT4hf"
      }
    },
    {
      "cell_type": "code",
      "source": [
        "#Upload Dataset-10k.zip and unzip it dataset folder using -d option\n",
        "!unzip Dataset-10k.zip -d dataset"
      ],
      "metadata": {
        "id": "w3GmULkltJ4r",
        "colab": {
          "base_uri": "https://localhost:8080/"
        },
        "outputId": "1b59d325-f0a0-4225-8e41-5d8bfcbaa456"
      },
      "execution_count": null,
      "outputs": [
        {
          "output_type": "stream",
          "name": "stdout",
          "text": [
            "Archive:  Dataset-10k.zip\n",
            "  inflating: dataset/IBM-10-k-2023.pdf  \n",
            "  inflating: dataset/Meta-10-k-2023.pdf  \n",
            "  inflating: dataset/aws-10-k-2023.pdf  \n",
            "  inflating: dataset/google-10-k-2023.pdf  \n",
            "  inflating: dataset/msft-10-k-2023.pdf  \n"
          ]
        }
      ]
    },
    {
      "cell_type": "markdown",
      "source": [
        "## DB Creation"
      ],
      "metadata": {
        "id": "yt8gTrjLNqgw"
      }
    },
    {
      "cell_type": "markdown",
      "source": [
        "### Chunking"
      ],
      "metadata": {
        "id": "xlmmenddNiYe"
      }
    },
    {
      "cell_type": "code",
      "source": [
        "# Provide pdf_folder_location\n",
        "pdf_folder_location = \"dataset\""
      ],
      "metadata": {
        "id": "Um45nt-AUDJ0"
      },
      "execution_count": null,
      "outputs": []
    },
    {
      "cell_type": "code",
      "source": [
        "# Load the directory to pdf_loader\n",
        "pdf_loader = PyPDFDirectoryLoader(pdf_folder_location)"
      ],
      "metadata": {
        "id": "LZPJAjBpsEq-"
      },
      "execution_count": null,
      "outputs": []
    },
    {
      "cell_type": "code",
      "source": [
        "# Create text_splitter using recursive splitter\n",
        "text_splitter = RecursiveCharacterTextSplitter.from_tiktoken_encoder(\n",
        "    encoding_name='cl100k_base',\n",
        "    chunk_size=512,\n",
        "    chunk_overlap=16\n",
        ")"
      ],
      "metadata": {
        "id": "rWpisKbHqbB3"
      },
      "execution_count": null,
      "outputs": []
    },
    {
      "cell_type": "code",
      "source": [
        "# Create chunks\n",
        "report_chunks = pdf_loader.load_and_split(text_splitter)"
      ],
      "metadata": {
        "id": "R0tRVdBNrCuE"
      },
      "execution_count": null,
      "outputs": []
    },
    {
      "cell_type": "code",
      "source": [
        "# Check the total number of chunks\n",
        "len(report_chunks)"
      ],
      "metadata": {
        "id": "lw7FoLzfrKOR",
        "colab": {
          "base_uri": "https://localhost:8080/"
        },
        "outputId": "2107ca56-4214-4d4c-aa36-dd6528861ffe"
      },
      "execution_count": null,
      "outputs": [
        {
          "output_type": "execute_result",
          "data": {
            "text/plain": [
              "908"
            ]
          },
          "metadata": {},
          "execution_count": 9
        }
      ]
    },
    {
      "cell_type": "code",
      "source": [
        "# Check the first object in report_chunks and print it\n",
        "report_chunks[0]"
      ],
      "metadata": {
        "id": "oVfipQe-CL0Z",
        "colab": {
          "base_uri": "https://localhost:8080/"
        },
        "outputId": "150ff8a5-6fae-4b17-8baa-5525daa24331"
      },
      "execution_count": null,
      "outputs": [
        {
          "output_type": "execute_result",
          "data": {
            "text/plain": [
              "Document(page_content='UNITED STATES\\nSECURITIES AND EXCHANGE COMMISSION\\nWASHINGTON, D.C. 20549\\nFORM 10-K\\nANNUAL REPORT\\npursuant to Section 13  or 15 (d) of the\\nSecurities Exchange Act of 1934\\nFOR THE YEAR ENDED DECEMBER 31, 2023\\n1-2360\\n(Commission file number)\\nINTERNATIONAL BUSINESS MACHINES CORPORATION\\n(Exact name of registrant as specified in its charter)\\nNew York  \\n(State of Incorporation) 13-0871985\\n(IRS Employer Identification Number)\\nOne New Orchard Road\\nArmonk , New York\\n(Address of principal executive offices)10504  \\n(Zip Code)\\n914-499-1900\\n(Registrant’s telephone number)\\nSecurities registered pursuant to Section 12(b) of the Act:\\nTitle of each class Trading Symbol Name of each exchange on which registered\\nCapital stock, par value $.20 per share IBM New York Stock Exchange\\nNYSE Chicago\\n1.125% Notes due 2024 IBM 24A New York Stock Exchange\\n2.875% Notes due 2025 IBM 25A New York Stock Exchange\\n0.950% Notes due 2025 IBM 25B New York Stock Exchange\\n0.875% Notes due 2025 IBM 25C New York Stock Exchange\\n0.300% Notes due 2026 IBM 26B New York Stock Exchange\\n1.250% Notes due 2027 IBM 27B New York Stock Exchange\\n3.375% Notes due 2027 IBM 27F New York Stock Exchange\\n0.300% Notes due 2028 IBM 28B New York Stock Exchange\\n1.750% Notes due 2028 IBM 28A New York Stock Exchange\\n1.500% Notes due 2029 IBM 29 New York Stock Exchange\\n0.875% Notes due 2030 IBM 30A New York Stock Exchange\\n1.750% Notes due 2031 IBM 31 New York Stock Exchange\\n3.625% Notes due 2031 IBM 31B New York Stock Exchange\\n0.650% Notes due 2032 IBM 32A New York Stock Exchange\\n1.250% Notes due 2034 IBM 34 New York Stock Exchange\\n3.750% Notes due 2035 IBM 35 New York Stock Exchange', metadata={'source': 'dataset/IBM-10-k-2023.pdf', 'page': 0})"
            ]
          },
          "metadata": {},
          "execution_count": 10
        }
      ]
    },
    {
      "cell_type": "markdown",
      "source": [
        "### Database Creation"
      ],
      "metadata": {
        "id": "k_N1t3Fdbn1r"
      }
    },
    {
      "cell_type": "code",
      "source": [
        "#Create a Colelction Name\n",
        "collection_name = 'report_10k_collection'"
      ],
      "metadata": {
        "id": "WiN4bZqGvVdg"
      },
      "execution_count": null,
      "outputs": []
    },
    {
      "cell_type": "code",
      "source": [
        "embedding_model_name='thenlper/gte-large'"
      ],
      "metadata": {
        "id": "4Cde91e9tpn6"
      },
      "execution_count": null,
      "outputs": []
    },
    {
      "cell_type": "code",
      "source": [
        "# Initiate the embedding model 'thenlper/gte-large'\n",
        "embedding_model = SentenceTransformerEmbeddings(model_name=embedding_model_name)"
      ],
      "metadata": {
        "id": "nwusGdTRxhhP",
        "colab": {
          "base_uri": "https://localhost:8080/",
          "height": 393,
          "referenced_widgets": [
            "540e126108cf49588b9875c735e8a719",
            "4e20732c9e4f4e4dbb1f46674dd8c39a",
            "3d4b90a537294f6fbbfec26b42ad0dc0",
            "0869ab4412a24c80af6fa55d27d5ae15",
            "49cf346a9e154ceb865cb8f220f2cca9",
            "49ecc794134c43ec85fc94679ff2a230",
            "367c7c4b8dab4816a631d7c2b9083d37",
            "5756ecc5ebad4c8faf1dc50064a5fcf4",
            "2c1fb94cf67f4e0aaa42f8d3f4fb1f31",
            "47f7441698044e619d736e80489ca866",
            "c39225f475c54c7d9188a783705a9b3d",
            "b44f5a01a16f4538bda7c6182cf45871",
            "9d01c136731c49f6bb483d06e6b15cf6",
            "a1bb54a6c8dd4ad8a3683b4ceb707b7b",
            "3f687a8cf5c348bd936e54cfd1f0bf5d",
            "70024e6c2c1442d9b194c718fd2dc8af",
            "6dc55e58c7d842f2975b67e06418d54d",
            "04ce4f5d9c8546cda87031acdf2ef721",
            "6900e7c682b4431994a909d9026a327c",
            "89bdd47fa8eb4e1fbfe77585e2f2a294",
            "3a68dfc1cff54b6ead5c4a0461c988c4",
            "ca8ce9d0898143e19b9c18252fb4ab51",
            "22adcf12a7114bbeae87cfbf26abdea2",
            "d06c35fc544445b89ac6bbdddf773a58",
            "7ed67cdcb1674e51a1f26fac382a3578",
            "92ec5b030b6e4092a2efdd8cbe4a6130",
            "c820484acc184119bc7a84b9bfb99cc6",
            "6cd90a0866c94ac3a410332e36e69ff1",
            "237043a8eaaf49a3912db565eb6ec829",
            "5de7fd7021804b7c91bba1a48093278a",
            "290ff67c0e084db9911e9caa8887c089",
            "7e99d300d06646a1a41739a00f330d8c",
            "5616b4df00ba48c9b2f0de203e47871f",
            "9618231bfa0b4d14967847353f633041",
            "87dd489a0c9740749514b644dc14e796",
            "9f417e2730134ab1b47d683fac5af385",
            "3729887667f04279a15f26cdd263f14f",
            "9c1a2158be19405fb3f059c439033783",
            "207f93f5562d478ba6742eebff754d17",
            "7f62282e90ce48bda87815065014677d",
            "25d54530a25147f7a2726c33098dce74",
            "be895161432142d394e69b858430350b",
            "0acb56c2339b475cb1af3dedb3555b0f",
            "1bef1a4f7f294e3b94f535c970e854f3",
            "55e58225fc9a4e70ab7f2559d5802ade",
            "5dab101d00a54ae2a7aa21c337122dc9",
            "5358de7a195b4002af84be2da19f1e83",
            "a09a53111d59470d9c5d6b73908a6a9a",
            "42acfdfa4aaf402d8f93a9753755ac4c",
            "f63ada8120784239a3b0d1fa85afd998",
            "140977de805a4de993ac53f64c497d35",
            "1f6a909d873242598f8239f8f95f3040",
            "d9310702e05440f1953b32b29eac6e26",
            "77c959fae6c541e9994d6b464ddc6241",
            "2abe3f114c534dd09283f887a7e97e33",
            "e78392c1ec3d417b830418729d658446",
            "c351816d5e2243d89b2aa7feac7232a4",
            "c15398a2d2a04df08f642e5266674a2a",
            "877f28a7981f420792b8372c86ca835f",
            "d6881026c148470693337cf6b8a95556",
            "0d00dae6fa3f436288e699a88002753d",
            "ebb7eac324b540339cab14e3a4199444",
            "fad30b0627b04527a9257d3159cac83c",
            "9dc1d324ebea4b098629812dac67a67f",
            "94bfd4a243424cdab98a2c0702c9118f",
            "2746471defa54f91a16b5823bc743280",
            "8b00455f699d4e61a79b859a3bb94ea9",
            "e55c598d92234b18b6cd2574f9867b82",
            "7b2781f958b04ab48fa414f2f7003709",
            "d8c7d744bdcc4699ac12c250d677edde",
            "e37158873c6a46c2a020ac9b5e56c0dc",
            "c74a56b2e419412086d5982b2d6ac9cf",
            "8a0e1dd2a3f548689d6e7c6eec5e7165",
            "4de11be882d64aa597751b49da90ed1e",
            "9f0287dd82fb4dc8801dd8d14c72c676",
            "ca492e52a7c548b890f5611d152c721e",
            "0ce8789bd2a5415bb85d314afde3807c",
            "d5a9035ad0494054aa46e4388bb7c7ec",
            "5ca00fc640674a7fa6fe29544c9773d2",
            "3e25dd5574a2415087e69bf9f8fe9f85",
            "f4f6c7a6de9e41ecb4aa489f53e5fecd",
            "d6f58e3a43594fbca399b241c1889ee6",
            "e87249a362a84b33ba5d3696a96409aa",
            "57da8d378b5645ffa532f2182176319c",
            "de69a84104c6406db7a37cebc1e7f90b",
            "f197a8fdcc004dc596c67b8e73a03b1f",
            "4484c7220923426d9cb7f47bcaa6591f",
            "7fff36d9cf3a40619b5b73601bdfddec",
            "1482976367bc4c2fb855134922c1f841",
            "21eb099860b346bbbb7779ae53679d45",
            "05d48fc7eb6141de89e4b73cab743579",
            "5e8929ad7a2e4f7e927491dd0eea5e89",
            "02daacdc307e49ecbd29b031a196f5f3",
            "c8c7dc7dbcba4feebc10eddb1a09ca54",
            "c465aea5c9794e91814a53ca9defeb61",
            "9cf1fe94eb2d4deb91da50f8d1d37a9c",
            "5d0657455a414e98ab4fcaa5a084115f",
            "47c48cc935974203b531fea141e5bd70",
            "1c59cdf1157c42b182e28b20e27c5579",
            "361f84f22e87462db9c0bfc3b21ad991",
            "1ae25d962b6b40b286d06eb94ed5947e",
            "3721dd3402904d6297677b5857b895ce",
            "4916f1d1450347429960ec8a0d7997f4",
            "d6972443d3c8481d89195d3f3f41873a",
            "8992c6a99e274e02b0c680c62d091570",
            "9c246f8a0168447ba745e7ee46af5c72",
            "266c88dc165e434283313e77e74afc41",
            "f82de940299849d38a27863eccb93430",
            "7fa1a2f76f48411e892d3a26297408fe",
            "462f6d396a9a4123828eca24a22adb0c"
          ]
        },
        "outputId": "841248ae-2b6b-41b1-97cc-532be05fcc00"
      },
      "execution_count": null,
      "outputs": [
        {
          "output_type": "display_data",
          "data": {
            "text/plain": [
              "modules.json:   0%|          | 0.00/385 [00:00<?, ?B/s]"
            ],
            "application/vnd.jupyter.widget-view+json": {
              "version_major": 2,
              "version_minor": 0,
              "model_id": "540e126108cf49588b9875c735e8a719"
            }
          },
          "metadata": {}
        },
        {
          "output_type": "display_data",
          "data": {
            "text/plain": [
              "README.md:   0%|          | 0.00/67.9k [00:00<?, ?B/s]"
            ],
            "application/vnd.jupyter.widget-view+json": {
              "version_major": 2,
              "version_minor": 0,
              "model_id": "b44f5a01a16f4538bda7c6182cf45871"
            }
          },
          "metadata": {}
        },
        {
          "output_type": "display_data",
          "data": {
            "text/plain": [
              "sentence_bert_config.json:   0%|          | 0.00/57.0 [00:00<?, ?B/s]"
            ],
            "application/vnd.jupyter.widget-view+json": {
              "version_major": 2,
              "version_minor": 0,
              "model_id": "22adcf12a7114bbeae87cfbf26abdea2"
            }
          },
          "metadata": {}
        },
        {
          "output_type": "stream",
          "name": "stderr",
          "text": [
            "/usr/local/lib/python3.10/dist-packages/huggingface_hub/file_download.py:1132: FutureWarning: `resume_download` is deprecated and will be removed in version 1.0.0. Downloads always resume when possible. If you want to force a new download, use `force_download=True`.\n",
            "  warnings.warn(\n"
          ]
        },
        {
          "output_type": "display_data",
          "data": {
            "text/plain": [
              "config.json:   0%|          | 0.00/619 [00:00<?, ?B/s]"
            ],
            "application/vnd.jupyter.widget-view+json": {
              "version_major": 2,
              "version_minor": 0,
              "model_id": "9618231bfa0b4d14967847353f633041"
            }
          },
          "metadata": {}
        },
        {
          "output_type": "display_data",
          "data": {
            "text/plain": [
              "model.safetensors:   0%|          | 0.00/670M [00:00<?, ?B/s]"
            ],
            "application/vnd.jupyter.widget-view+json": {
              "version_major": 2,
              "version_minor": 0,
              "model_id": "55e58225fc9a4e70ab7f2559d5802ade"
            }
          },
          "metadata": {}
        },
        {
          "output_type": "display_data",
          "data": {
            "text/plain": [
              "tokenizer_config.json:   0%|          | 0.00/342 [00:00<?, ?B/s]"
            ],
            "application/vnd.jupyter.widget-view+json": {
              "version_major": 2,
              "version_minor": 0,
              "model_id": "e78392c1ec3d417b830418729d658446"
            }
          },
          "metadata": {}
        },
        {
          "output_type": "display_data",
          "data": {
            "text/plain": [
              "vocab.txt:   0%|          | 0.00/232k [00:00<?, ?B/s]"
            ],
            "application/vnd.jupyter.widget-view+json": {
              "version_major": 2,
              "version_minor": 0,
              "model_id": "8b00455f699d4e61a79b859a3bb94ea9"
            }
          },
          "metadata": {}
        },
        {
          "output_type": "display_data",
          "data": {
            "text/plain": [
              "tokenizer.json:   0%|          | 0.00/712k [00:00<?, ?B/s]"
            ],
            "application/vnd.jupyter.widget-view+json": {
              "version_major": 2,
              "version_minor": 0,
              "model_id": "d5a9035ad0494054aa46e4388bb7c7ec"
            }
          },
          "metadata": {}
        },
        {
          "output_type": "display_data",
          "data": {
            "text/plain": [
              "special_tokens_map.json:   0%|          | 0.00/125 [00:00<?, ?B/s]"
            ],
            "application/vnd.jupyter.widget-view+json": {
              "version_major": 2,
              "version_minor": 0,
              "model_id": "1482976367bc4c2fb855134922c1f841"
            }
          },
          "metadata": {}
        },
        {
          "output_type": "display_data",
          "data": {
            "text/plain": [
              "1_Pooling/config.json:   0%|          | 0.00/191 [00:00<?, ?B/s]"
            ],
            "application/vnd.jupyter.widget-view+json": {
              "version_major": 2,
              "version_minor": 0,
              "model_id": "361f84f22e87462db9c0bfc3b21ad991"
            }
          },
          "metadata": {}
        }
      ]
    },
    {
      "cell_type": "code",
      "source": [
        "# Create the vector Database\n",
        "vectorstore = Chroma.from_documents(\n",
        "    report_chunks,\n",
        "    embedding_model,\n",
        "    collection_name=collection_name,\n",
        "    persist_directory='./report_10kdb'\n",
        ")"
      ],
      "metadata": {
        "id": "VskCNDYLufyG"
      },
      "execution_count": null,
      "outputs": []
    },
    {
      "cell_type": "code",
      "source": [
        "# Persist the DB\n",
        "vectorstore.persist()"
      ],
      "metadata": {
        "id": "9Y6xEorcdO2q"
      },
      "execution_count": null,
      "outputs": []
    },
    {
      "cell_type": "code",
      "source": [
        "vectorstore_persisted = Chroma(\n",
        "    collection_name=collection_name,\n",
        "    persist_directory='./report_10kdb',\n",
        "    embedding_function=embedding_model\n",
        ")"
      ],
      "metadata": {
        "id": "8UoxnwDNukt7"
      },
      "execution_count": null,
      "outputs": []
    },
    {
      "cell_type": "code",
      "source": [
        "retriever = vectorstore_persisted.as_retriever(\n",
        "    search_type='similarity',\n",
        "    search_kwargs={'k': 5}\n",
        ")"
      ],
      "metadata": {
        "id": "WoH6R00hurDl"
      },
      "execution_count": null,
      "outputs": []
    },
    {
      "cell_type": "code",
      "source": [
        "#Mount the Google Drive\n",
        "drive.mount('/content/drive')"
      ],
      "metadata": {
        "id": "WKirzhpjtc0H",
        "collapsed": true,
        "colab": {
          "base_uri": "https://localhost:8080/"
        },
        "outputId": "601b4c14-06bf-4d1b-9a51-278973ee2818"
      },
      "execution_count": null,
      "outputs": [
        {
          "output_type": "stream",
          "name": "stdout",
          "text": [
            "Mounted at /content/drive\n"
          ]
        }
      ]
    },
    {
      "cell_type": "code",
      "source": [
        "#Copy the persisted database to your drive\n",
        "!cp -r report_10kdb /content/drive/MyDrive/"
      ],
      "metadata": {
        "id": "i5LcRZwRZfAg"
      },
      "execution_count": null,
      "outputs": []
    },
    {
      "cell_type": "markdown",
      "source": [
        "## Load Retriever with Vector DB from Google Drive"
      ],
      "metadata": {
        "id": "u1aFqhrgvSwH"
      }
    },
    {
      "cell_type": "code",
      "source": [
        "embedding_model = SentenceTransformerEmbeddings(model_name='thenlper/gte-large')"
      ],
      "metadata": {
        "colab": {
          "base_uri": "https://localhost:8080/"
        },
        "id": "2RVRXrixvY3B",
        "outputId": "5a54857b-221d-4b7e-e1f2-47d75b540379"
      },
      "execution_count": null,
      "outputs": [
        {
          "output_type": "stream",
          "name": "stderr",
          "text": [
            "/usr/local/lib/python3.10/dist-packages/huggingface_hub/file_download.py:1132: FutureWarning: `resume_download` is deprecated and will be removed in version 1.0.0. Downloads always resume when possible. If you want to force a new download, use `force_download=True`.\n",
            "  warnings.warn(\n"
          ]
        }
      ]
    },
    {
      "cell_type": "markdown",
      "source": [
        "Since we persisted the database to a Google Drive location, we can download the database to the instance using its unique id like so:"
      ],
      "metadata": {
        "id": "OYKQ70yYvd7J"
      }
    },
    {
      "cell_type": "code",
      "source": [
        "persisted_vectordb_location = '/content/drive/MyDrive/report_10kdb'"
      ],
      "metadata": {
        "id": "dDD8_GyZvdML"
      },
      "execution_count": null,
      "outputs": []
    },
    {
      "cell_type": "markdown",
      "source": [
        "In practise, the database is maintained as a separate entity and CRUD operations are managed just as one would for normal databases (e.g., relational databases)."
      ],
      "metadata": {
        "id": "d3bFkvqpvm0q"
      }
    },
    {
      "cell_type": "code",
      "source": [
        "dataset_10k_collection = 'report_10k_collection'"
      ],
      "metadata": {
        "id": "g78z6NxZvo73"
      },
      "execution_count": null,
      "outputs": []
    },
    {
      "cell_type": "code",
      "source": [
        "vectorstore_persisted = Chroma(\n",
        "    collection_name=dataset_10k_collection,\n",
        "    persist_directory=persisted_vectordb_location,\n",
        "    embedding_function=embedding_model\n",
        ")"
      ],
      "metadata": {
        "id": "43cW8ul5vzKf"
      },
      "execution_count": null,
      "outputs": []
    },
    {
      "cell_type": "code",
      "source": [
        "retriever = vectorstore_persisted.as_retriever(\n",
        "    search_type='similarity',\n",
        "    search_kwargs={'k': 5}\n",
        ")"
      ],
      "metadata": {
        "id": "Z0QpGlOgv5oc"
      },
      "execution_count": null,
      "outputs": []
    },
    {
      "cell_type": "markdown",
      "source": [
        "# Retrieve DB from GDrive"
      ],
      "metadata": {
        "id": "63vOMlzZr3_z"
      }
    },
    {
      "cell_type": "markdown",
      "source": [
        "###**Set up CPU Instance**"
      ],
      "metadata": {
        "id": "SbAoNV-p_qzu"
      }
    },
    {
      "cell_type": "code",
      "source": [
        "# Install the required packages\n",
        "!pip install -q openai==1.23.2 \\\n",
        "                tiktoken==0.6.0 \\\n",
        "                langchain==0.1.1 \\\n",
        "                langchain-community==0.0.13 \\\n",
        "                chromadb==0.4.22 \\\n",
        "                sentence-transformers==2.3.1"
      ],
      "metadata": {
        "id": "2hjde8i9_vru"
      },
      "execution_count": null,
      "outputs": []
    },
    {
      "cell_type": "code",
      "execution_count": null,
      "metadata": {
        "id": "AqCsRMmk_vsB"
      },
      "outputs": [],
      "source": [
        "# Import the necessary Libraries\n",
        "import json\n",
        "import tiktoken\n",
        "\n",
        "import pandas as pd\n",
        "\n",
        "from openai import OpenAI\n",
        "\n",
        "from langchain_community.embeddings.sentence_transformer import (\n",
        "    SentenceTransformerEmbeddings\n",
        ")\n",
        "from langchain_community.vectorstores import Chroma\n",
        "\n",
        "from google.colab import userdata, drive"
      ]
    },
    {
      "cell_type": "markdown",
      "source": [
        "### Set up Anyscale Credentials"
      ],
      "metadata": {
        "id": "EUkvNfpk_vsB"
      }
    },
    {
      "cell_type": "code",
      "source": [
        "#get anyscale api key\n",
        "anyscale_api_key = userdata.get('anyscale_api_key')"
      ],
      "metadata": {
        "id": "lc758roT_vsB"
      },
      "execution_count": null,
      "outputs": []
    },
    {
      "cell_type": "code",
      "source": [
        "# Initialise the client\n",
        "client = OpenAI(\n",
        "    base_url=\"https://api.endpoints.anyscale.com/v1\",\n",
        "    api_key=anyscale_api_key\n",
        ")"
      ],
      "metadata": {
        "id": "In-6IKIu_vsC"
      },
      "execution_count": null,
      "outputs": []
    },
    {
      "cell_type": "markdown",
      "source": [
        "We are going to use Mixtral 8x7B model for this exercise due to it's higher performance."
      ],
      "metadata": {
        "id": "_Ni1pOcNyLff"
      }
    },
    {
      "cell_type": "code",
      "source": [
        "#Provide the model name\n",
        "model_name = 'mistralai/Mixtral-8x7B-Instruct-v0.1'"
      ],
      "metadata": {
        "id": "8mpSn4JH_vsC"
      },
      "execution_count": null,
      "outputs": []
    },
    {
      "cell_type": "markdown",
      "source": [
        "### Mount Google Drive"
      ],
      "metadata": {
        "id": "wM1yEibVATdI"
      }
    },
    {
      "cell_type": "code",
      "source": [
        "#Mount the Google Drive\n",
        "drive.mount('/content/drive')"
      ],
      "metadata": {
        "id": "luDxXO3MAYDv",
        "colab": {
          "base_uri": "https://localhost:8080/"
        },
        "outputId": "fd4594a8-193f-43a7-bdfe-08933dd6063c"
      },
      "execution_count": null,
      "outputs": [
        {
          "output_type": "stream",
          "name": "stdout",
          "text": [
            "Drive already mounted at /content/drive; to attempt to forcibly remount, call drive.mount(\"/content/drive\", force_remount=True).\n"
          ]
        }
      ]
    },
    {
      "cell_type": "markdown",
      "source": [
        "Since we persisted the database to a Google Drive location, we can download the database to the instance using its unique id like so:"
      ],
      "metadata": {
        "id": "ho39FMSIyvfH"
      }
    },
    {
      "cell_type": "markdown",
      "source": [
        "### Load Vector DB from Google Drive"
      ],
      "metadata": {
        "id": "G972qLW-uI3-"
      }
    },
    {
      "cell_type": "code",
      "source": [
        "# Initialise the embedding model\n",
        "embedding_model = SentenceTransformerEmbeddings(model_name='thenlper/gte-large')"
      ],
      "metadata": {
        "id": "GVwgNoHguTMN"
      },
      "execution_count": null,
      "outputs": []
    },
    {
      "cell_type": "code",
      "source": [
        "# Load the persisted DB\n",
        "persisted_vectordb_location = '/content/drive/MyDrive/report_10kdb'"
      ],
      "metadata": {
        "id": "cOuFyoLzaQ_P"
      },
      "execution_count": null,
      "outputs": []
    },
    {
      "cell_type": "markdown",
      "source": [
        "In practise, the database is maintained as a separate entity and CRUD operations are managed just as one would for normal databases (e.g., relational databases)."
      ],
      "metadata": {
        "id": "lYERGpfuy9QZ"
      }
    },
    {
      "cell_type": "code",
      "source": [
        "#Create a Colelction Name\n",
        "collection_name = 'report_10k_collection'"
      ],
      "metadata": {
        "id": "3Slhfsp3AFLg"
      },
      "execution_count": null,
      "outputs": []
    },
    {
      "cell_type": "code",
      "source": [
        "# Load the persisted DB\n",
        "reports_db = Chroma(\n",
        "    collection_name=collection_name,\n",
        "    persist_directory=persisted_vectordb_location,\n",
        "    embedding_function=embedding_model\n",
        ")"
      ],
      "metadata": {
        "id": "o3VQmzZnuLzw"
      },
      "execution_count": null,
      "outputs": []
    },
    {
      "cell_type": "markdown",
      "source": [
        "### Test your DB"
      ],
      "metadata": {
        "id": "cOZOClNCtRNN"
      }
    },
    {
      "cell_type": "code",
      "source": [
        "user_question = \"How is the company integrating AI across their various business units, and what specific examples are provided in the reports of AI enhancing operational efficiencies or customer experiences?\""
      ],
      "metadata": {
        "id": "BORXQBpDD9pj"
      },
      "execution_count": null,
      "outputs": []
    },
    {
      "cell_type": "code",
      "source": [
        "# Perform similarity search on the user_question\n",
        "# You must add an extra parameter to the similarity search  function so that you can filter the response based on the 'source'  in the metadata of the doc\n",
        "# The filter can be added as a parameter to the similarity search function\n",
        "# This will allow you to retrieve chunks from a particular document\n",
        "# Use the same format to filter your response based on the company.\n",
        "docs = reports_db.similarity_search(user_question, k=5, filter = {\"source\":\"dataset/google-10-k-2023.pdf\"}) # Note the format to add a filter. You must apply the same in your app.py file that you will upload on huggingface spaces"
      ],
      "metadata": {
        "id": "5v9d4I4WcmSQ"
      },
      "execution_count": null,
      "outputs": []
    },
    {
      "cell_type": "code",
      "source": [
        "# Print the retrieved docs, their source and the page number\n",
        "# (page number can be accessed using doc.metadata['page'] )\n",
        "for i, doc in enumerate(docs):\n",
        "    print(f\"Retrieved chunk {i+1}: \\n\")\n",
        "    print(doc.page_content.replace('\\t', ' '))\n",
        "    print(\"Source: \", doc.metadata['page'],\"\\n ===================================================== \\n\")\n",
        "    print('\\n')"
      ],
      "metadata": {
        "id": "z1qh4cktdg7s",
        "colab": {
          "base_uri": "https://localhost:8080/"
        },
        "outputId": "3edc9c9c-ebff-4b09-bb8b-c072f06c164d"
      },
      "execution_count": null,
      "outputs": [
        {
          "output_type": "stream",
          "name": "stdout",
          "text": [
            "Retrieved chunk 1: \n",
            "\n",
            "Our business environment is rapidly evolving and intensely competitive. Our businesses face changing \n",
            "technologies, shifting user needs, and frequent introductions of rival products and services. To compete successfully, \n",
            "we must accurately anticipate technology developments and deliver innovative, relevant and useful products, services, \n",
            "and technologies in a timely manner. As our businesses evolve, the competitive pressure to innovate will encompass a \n",
            "wider range of products and services. We must continue to invest significant resources in technical infrastructure and \n",
            "R&D, including through acquisitions, in order to enhance our technology, products , and services . \n",
            "We have many competitors in different industries. Our current and potential domestic and international \n",
            "competitors range from large and established companies to emerging start-ups. Some competitors have longer \n",
            "operating histories and well-established relationships in various sectors. They can use their experience and resources \n",
            "in ways that could affect our competitive position, including by making acquisitions  and entering into other strategic \n",
            "arrangements ; continuing to invest heavily in technical infrastructure, R&D, and in talent;  initiating intellectual property \n",
            "and competition claims (whether or not meritorious); and continuing to compete for users, advertisers, customers, and \n",
            "content providers. Further, discrepancies in enforcement of existing laws may enable our lesser known competitors to \n",
            "aggressively interpret those laws without commensurate scrutiny, thereby affording them competitive advantages. Our \n",
            "competitors may also be able to innovate and provide products and services faster than we can or may foresee the \n",
            "need for products and services before we do. \n",
            "We are expanding our investment in AI across the entire company . This includes generative AI and continuing to \n",
            "integrate AI capabilities into our products and services. AI technology and services are highly competitive, rapidly \n",
            "evolving, and require significant investment, including development and operational costs, to meet the changing needs \n",
            "and expectations of our existing users and attract new users. Our ability to deploy certain AI technologies critical for \n",
            "our products and services and for our business strategy may depend on the availability and pricing of third-party \n",
            "equipment and technical infrastructure. Additionally, other companies may develop AI products and technologies that \n",
            "are similar or superior to our technologies or more cost-effective to deploy. Other companies may also have (or in the \n",
            "future may obtain) patents or other proprietary rights that would prevent, limit, or interfere with our ability to make, use, \n",
            "or sell our own AI products and services.\n",
            "Source:  11 \n",
            " ===================================================== \n",
            "\n",
            "\n",
            "\n",
            "Retrieved chunk 2: \n",
            "\n",
            "it can generalize and seamlessly understand, operate across, and combine different types of information, including \n",
            "text, code, audio, images, and video. Our teams across Alphabet will leverage Gemini, as well as other AI models we \n",
            "have previously developed and announced, across our business to deliver the best product and service experience s \n",
            "for our use rs, advertisers, partners, customers, and developers.\n",
            "We believe our approach to AI must be both bold and responsible. That means developing AI in a way that \n",
            "maximizes the positive benefits to society while addressing the challenges, guided by our AI P rinciples.  We published \n",
            "these in 2018, as one of the first companies to articulate principles that put beneficial use, users, safety, and avoidance \n",
            "of harms above business considerations. While there is natural tension between being bold and being responsible, we \n",
            "believe it is possible — and in fact critical — to embrace that tension productively.\n",
            "Enable Organizations and Developers to Innovate on Google Cloud\n",
            "AI is not only a powerful enabler, it is also a major platform shift. Globally, businesses from startups to large \n",
            "enterprises, and the public sector are thinking about how to drive transformation. That is why we are focused on \n",
            "making it easy and scalable for others to innovate, and grow, with AI. That means providing the most advanced \n",
            "computing infrastructure and expanding access to Google’s latest AI models that have been rigorously tested in our \n",
            "own products. Our Vertex AI platform gives developers the ability to train, tune, augment, and deploy applications using \n",
            "generative AI models and services such as Enterprise Search and Conversations. Duet AI for Google Cloud provides \n",
            "pre-packaged AI agents that assist developers to write, test, document, and operate software.\n",
            "Improve Knowledge, Learning, Creativity, and Productivity\n",
            "Things that we now consider routine – like spell check, mobile check deposit, or Google Search, Google \n",
            "Translate, and Google Maps – all use AI. As AI continues to improve rapidly, we are focused on giving helpful features \n",
            "to our users as we continue to deliver on our mission to organize the world’s information and make it universally \n",
            "accessible and useful.\n",
            "While we have been integrating AI into our products for years, we are now embedding the power of generative AI \n",
            "to continue helping our users express themselves and get things done. For example, Duet AI in Google Workspace\n",
            "Source:  5 \n",
            " ===================================================== \n",
            "\n",
            "\n",
            "\n",
            "Retrieved chunk 3: \n",
            "\n",
            "•Collaboration Tools:  Google Workspace and Duet AI in Google Workspace provide easy-to-use, secure \n",
            "communication and collaboration tools, including apps like Gmail, Docs, Drive, Calendar, Meet, and more. \n",
            "These tools enable secure hybrid and remote work, boosting productivity and collaboration. AI has been used \n",
            "in Google Workspace for years to improve grammar, efficiency, security, and more with features like Smart \n",
            "Reply, Smart Compose, and malware and phishing protection in Gmail.  Duet AI in Google Workspace helps \n",
            "users write, organize, visualize, accelerate workflows, and have richer meetings.\n",
            "•AI Platform and Duet AI for Google Cloud:  Our Vertex AI platform gives developers the ability to train, tune, \n",
            "augment, and deploy applications using generative AI models and services such as Enterprise Search and \n",
            "Conversations. Duet AI for Google Cloud provides pre-packaged AI agents that assist developers to write, test, \n",
            "document, and operate software.\n",
            "Other Bets\n",
            " Across Alphabet, we are also using technology to try to solve big problems that affect a wide variety of industries \n",
            "from improving transportation and health technology to exploring solutions to address climate change. Alphabet’s \n",
            "investment in the portfolio of Other Bets includes businesses that are at various stages of development, ranging from \n",
            "those in the R&D phase to those that are in the beginning stages of commercialization. Our goal is for them to become \n",
            "thriving, successful businesses. Other Bets operate as independent companies and some of them have their own \n",
            "boards with independent members and outside investors. While these early-stage businesses naturally come with \n",
            "considerable uncertainty, s ome of them are already generating revenue and making important strides in their \n",
            "industries.  Revenues from Other Bets are generated primarily from the sale of healthcare-related services and internet \n",
            "services.\n",
            "Competition\n",
            "Our business is characterized by rapid change as well as new and disruptive technologies. We face formidable \n",
            "competition in every aspect of our business, including, among others, from:\n",
            "•general purpose search engines and information services;\n",
            "•vertical search engines and e-commerce providers for queries related to travel, jobs, and health, which users \n",
            "may navigate directly to rather than go through Google;\n",
            "•online advertising platforms and networks;\n",
            "•other forms of advertising, such as billboards, magazines, newspapers, radio, and television as our advertisers\n",
            "Source:  8 \n",
            " ===================================================== \n",
            "\n",
            "\n",
            "\n",
            "Retrieved chunk 4: \n",
            "\n",
            "or sell our own AI products and services.\n",
            "Our financial condition and operating results may also suffer if our products and services are not responsive to the \n",
            "evolving needs and desires of our users, advertisers, publishers, customers, and content providers. As new and \n",
            "existing technologies continue to develop, competitors and new entrants may be able to offer experiences that are, or Table of Contents Alphabet Inc.\n",
            "11.\n",
            "Source:  11 \n",
            " ===================================================== \n",
            "\n",
            "\n",
            "\n",
            "Retrieved chunk 5: \n",
            "\n",
            "social media or other platforms, which could harm our business. It is hard to predict the challenges we may encounter \n",
            "in adapting our products and services and developing competitive new products and services. We expect to continue \n",
            "to devote significant resources to creating and supporting products and services across multiple platforms and devices. \n",
            "Failing to attract and retain a substantial number of new device manufacturers, suppliers, distributors, developers, and \n",
            "users, or failing to develop products and technologies that work well on new devices and platforms, could harm our \n",
            "business, financial condition, and operating results and ability to capture future business opportunities. \n",
            "Issues in the development and use of AI may result in reputational harm and increased liability exposure. \n",
            "Our evolving AI-related efforts may give rise to risks related to harmful content, inaccuracies, discrimination, \n",
            "intellectual property infringement or misappropriation, defamation, data privacy, cybersecurity, and other issues . As a \n",
            "result of these and other challenges associated with innovative technologies, our implementation of AI systems could \n",
            "subject us to competitive harm, regulatory action, legal liability (including under new and proposed legislation and \n",
            "regulations), new applications of existing data protection, privacy, intellectual property, and other laws, and brand or \n",
            "reputational harm. \n",
            "Some uses of AI will present ethical issues and may have broad effects on society. In order to implement A I \n",
            "responsibly and minimize unintended harmful effects, we have already devoted and will continue to invest significant  \n",
            "resources to develop, test, and maintain our products and services, but we may not be able to identify or resolve all AI-\n",
            "related issues, deficiencies, and/or failures before they arise. Unintended consequences, uses, or customization of our \n",
            "AI tools and systems may negatively affect human rights, privacy, employment, or other social concerns, which may \n",
            "result in claims, lawsuits, brand or reputational harm, and increased regulatory scrutiny, any of which could harm our \n",
            "business, financial condition, and operating results.\n",
            "Data privacy  and security concerns relating to our technology and our practices could harm our \n",
            "reputation, cause us to incur significant liability, and deter current and potential users or customers from \n",
            "using our products and services. Computer viruses, software bugs or defects, security breaches, and attacks \n",
            "on our systems could result in the improper disclosure and use of user data and interference with our users’\n",
            "Source:  16 \n",
            " ===================================================== \n",
            "\n",
            "\n",
            "\n"
          ]
        }
      ]
    },
    {
      "cell_type": "code",
      "source": [
        "retriever = reports_db.as_retriever(\n",
        "    search_type='similarity',\n",
        "    search_kwargs={'k': 5}\n",
        ")"
      ],
      "metadata": {
        "id": "MvgaGP_10Dbu"
      },
      "execution_count": null,
      "outputs": []
    },
    {
      "cell_type": "markdown",
      "source": [
        "The vectorDB seems to work fine, let's move on to the next step."
      ],
      "metadata": {
        "id": "GafPomlm0Gow"
      }
    },
    {
      "cell_type": "markdown",
      "source": [
        "## RAG Q&A"
      ],
      "metadata": {
        "id": "pv9oH4ukXLSa"
      }
    },
    {
      "cell_type": "markdown",
      "source": [
        "### Prompt Design"
      ],
      "metadata": {
        "id": "s343-PgW6P-K"
      }
    },
    {
      "cell_type": "markdown",
      "source": [
        "Let's formulate a prompt to fetch a Retrieval Augmented Generation from the LLM.\n",
        "\n",
        "It is essential to ensure that the LLM does not generate hallucinated or random answers when faced with irrelevant information in the retrieved documents. Additionally, the LLM should provide the source of the information it offers. Including source citations will enhance the reliability and credibility of our chatbot."
      ],
      "metadata": {
        "id": "2Kebiuh_0N8g"
      }
    },
    {
      "cell_type": "code",
      "source": [
        "qna_system_message = \"\"\"\n",
        "You are an AI assistant to help Finsights Grey Inc., an innovative financial technology firm, develop a Retrieval-Augmented Generation (RAG) system to automate the extraction, summarization, and analysis of information from 10-K reports. Your knowledge base was last updated in August 2023.\n",
        "\n",
        "User input will have the context required by you to answer user questions. This context will begin with the token: ###Context.\n",
        "The context contains references to specific portions of a 10-K report relevant to the user query.\n",
        "\n",
        "User questions will begin with the token: ###Question.\n",
        "Your response should only be about the question asked and the context provided.\n",
        "Answer only using the context provided.\n",
        "Do not mention anything about the context in your final answer.\n",
        "If the answer is not found in the context, it is very important for you to respond with \"I don't know.\"\n",
        "Always quote the source when you use the context. Cite the relevant source at the end of your response under the section - Source:\n",
        "Do not make up sources. Use the links provided in the sources section of the context and nothing else. You are prohibited from providing other links/sources.\n",
        "Here is an example of how to structure your response:\n",
        "\n",
        "Answer:\n",
        "[Answer]\n",
        "\n",
        "Source:\n",
        "[Source]\n",
        "\"\"\""
      ],
      "metadata": {
        "id": "gLbe8IhuRyZ-"
      },
      "execution_count": null,
      "outputs": []
    },
    {
      "cell_type": "code",
      "source": [
        "# Create a message template\n",
        "qna_user_message_template = \"\"\"\n",
        "###Context\n",
        "Here are some documents and their source links that are relevant to the question mentioned below.\n",
        "{context}\n",
        "\n",
        "###Question\n",
        "{question}\n",
        "\"\"\""
      ],
      "metadata": {
        "id": "bDexqi8c6Xmm"
      },
      "execution_count": null,
      "outputs": []
    },
    {
      "cell_type": "markdown",
      "source": [
        "### Composing the response"
      ],
      "metadata": {
        "id": "G_ekBjVM60P1"
      }
    },
    {
      "cell_type": "code",
      "source": [
        "# Create a variable company to store the source of the context so that you can filter the similarity search\n",
        "company = \"dataset/aws-10-k-2023.pdf\""
      ],
      "metadata": {
        "id": "nCaep30PJeDN"
      },
      "execution_count": null,
      "outputs": []
    },
    {
      "cell_type": "code",
      "source": [
        "# Fetch relevant documents and create context for query by joining page_content and page number of the retrieved docs\n",
        "relevant_document_chunks = retriever.get_relevant_documents(company)\n",
        "context_list = [d.page_content for d in relevant_document_chunks]\n",
        "context_for_query = \". \".join(context_list)\n",
        "\n",
        "print(context_for_query) # Print the whole context_for_query (after joining all the chunks. It should contain page number of every chunk)"
      ],
      "metadata": {
        "id": "aHXY6BcV676h",
        "colab": {
          "base_uri": "https://localhost:8080/"
        },
        "outputId": "e8dde304-9d9e-4e99-d3ea-9011c738ab31"
      },
      "execution_count": null,
      "outputs": [
        {
          "output_type": "stream",
          "name": "stdout",
          "text": [
            "Table of Contents\n",
            "Results of Operations\n",
            "We have organized our operations into three segments: North America, International, and AWS. These segments reflect the way the Company evaluates\n",
            "its business performance and manages its operations. See Item 8 of Part II, “Financial Statements and Supplementary Data — Note 10 — Segment\n",
            "Information.”\n",
            "Overview\n",
            "Macroeconomic factors, including inflation, increased interest rates, significant capital market volatility, the prolonged COVID-19 pandemic, global\n",
            "supply chain constraints, and global economic and geopolitical developments, have direct and indirect impacts on our results of operations that are difficult to\n",
            "isolate and quantify. These factors contributed to increases in our operating costs during 2022, particularly across our North America and International\n",
            "segments, primarily due to a return to more normal, seasonal demand volumes in relation to our fulfillment network fixed costs, increased transportation and\n",
            "utility costs, and increased wage rates. In addition, rising fuel, utility, and food costs, rising interest rates, and recessionary fears may impact customer demand\n",
            "and our ability to forecast consumer spending patterns. We also expect the current macroeconomic environment and enterprise customer cost optimization\n",
            "efforts to impact our AWS revenue growth rates. We expect some or all of these factors to continue to impact our operations into Q1 2023.\n",
            "Net Sales\n",
            "Net sales include product and service sales. Product sales represent revenue from the sale of products and related shipping fees and digital media content\n",
            "where we record revenue gross. Service sales primarily represent third-party seller fees, which includes commissions and any related fulfillment and shipping\n",
            "fees, AWS sales, advertising services, Amazon Prime membership fees, and certain digital content subscriptions. Net sales information is as follows (in\n",
            "millions):\n",
            "  Year Ended December 31,\n",
            " 2021 2022\n",
            "Net Sales:\n",
            "North America $ 279,833 $ 315,880 \n",
            "International 127,787 118,007 \n",
            "AWS 62,202 80,096 \n",
            "Consolidated $ 469,822 $ 513,983 \n",
            "Year-over-year Percentage Growth (Decline):\n",
            "North America 18 % 13 %\n",
            "International 22 (8)\n",
            "AWS 37 29 \n",
            "Consolidated 22 9 \n",
            "Year-over-year Percentage Growth, excluding the effect of foreign exchange rates:\n",
            "North America 18 % 13 %\n",
            "International 20 4 \n",
            "AWS 37 29 \n",
            "Consolidated 21 13 \n",
            "Net sales mix:. Table of Contents\n",
            "Note 10 — SEGMENT INFORMATION\n",
            "We have organized our operations into three segments: North America, International, and AWS. We allocate to segment results the operating expenses\n",
            "“Fulfillment,” “Technology and content,” “Sales and marketing,” and “General and administrative” based on usage, which is generally reflected in the segment\n",
            "in which the costs are incurred. The majority of technology infrastructure costs are allocated to the AWS segment based on usage. The majority of the\n",
            "remaining non-infrastructure technology costs are incurred in the U.S. and are allocated to our North America segment. There are no internal revenue\n",
            "transactions between our reportable segments. These segments reflect the way our chief operating decision maker evaluates the Company’s business\n",
            "performance and manages its operations.\n",
            "North America\n",
            "The North America segment primarily consists of amounts earned from retail sales of consumer products (including from sellers) and subscriptions\n",
            "through North America-focused online and physical stores. This segment includes export sales from these online stores.\n",
            "International\n",
            "The International segment primarily consists of amounts earned from retail sales of consumer products (including from sellers) and subscriptions through\n",
            "internationally-focused online stores. This segment includes export sales from these internationally-focused online stores (including export sales from these\n",
            "online stores to customers in the U.S., Mexico, and Canada), but excludes export sales from our North America-focused online stores.\n",
            "AWS\n",
            "The AWS segment consists of amounts earned from global sales of compute, storage, database, and other services for start-ups, enterprises, government\n",
            "agencies, and academic institutions.\n",
            "Information on reportable segments and reconciliation to consolidated net income (loss) is as follows (in millions):\n",
            "  Year Ended December 31,\n",
            " 2020 2021 2022\n",
            "North America\n",
            "Net sales $ 236,282 $ 279,833 $ 315,880 \n",
            "Operating expenses 227,631 272,562 318,727 \n",
            "Operating income (loss) $ 8,651 $ 7,271 $ (2,847)\n",
            "International\n",
            "Net sales $ 104,412 $ 127,787 $ 118,007 \n",
            "Operating expenses 103,695 128,711 125,753 \n",
            "Operating income (loss) $ 717 $ (924)$ (7,746)\n",
            "AWS\n",
            "Net sales $ 45,370 $ 62,202 $ 80,096 \n",
            "Operating expenses 31,839 43,670 57,255. Table of Contents\n",
            "transaction costs, our level of productivity and accuracy, changes in volume, size, and weight of units received and fulfilled, the extent to which third-party\n",
            "sellers utilize Fulfillment by Amazon services, timing of fulfillment network and physical store expansion, the extent we utilize fulfillment services provided\n",
            "by third parties, mix of products and services sold, and our ability to affect customer service contacts per unit by implementing improvements in our operations\n",
            "and enhancements to our customer self-service features. Additionally, sales by our sellers have higher payment processing and related transaction costs as a\n",
            "percentage of net sales compared to our retail sales because payment processing costs are based on the gross purchase price of underlying transactions.\n",
            "The increase in fulfillment costs in absolute dollars in 2022, compared to the prior year, is primarily due to increased investments in our fulfillment\n",
            "network and variable costs corresponding with increased product and service sales volume and inventory levels, and increased wage rates and incentives.\n",
            "Changes in foreign exchange rates reduced fulfillment costs by $2.5 billion in 2022.\n",
            "We seek to expand our fulfillment network to accommodate a greater selection and in-stock inventory levels and to meet anticipated shipment volumes\n",
            "from sales of our own products as well as sales by third parties for which we provide the fulfillment services. We regularly evaluate our facility requirements.\n",
            "Technology and Content\n",
            "Technology and content costs include payroll and related expenses for employees involved in the research and development of new and existing products\n",
            "and services, development, design, and maintenance of our stores, curation and display of products and services made available in our online stores, and\n",
            "infrastructure costs. Infrastructure costs include servers, networking equipment, and data center related depreciation and amortization, rent, utilities, and other\n",
            "expenses necessary to support AWS and other Amazon businesses. Collectively, these costs reflect the investments we make in order to offer a wide variety of\n",
            "products and services to our customers, including expenditures related to initiatives to build and deploy innovative and efficient software and electronic devices\n",
            "and the development of a satellite network for global broadband service and autonomous vehicles for ride-hailing services.\n",
            "We seek to invest efficiently in numerous areas of technology and content so we may continue to enhance the customer experience and improve our\n",
            "process efficiency through rapid technology developments, while operating at an ever increasing scale. Our technology and content investment and capital\n",
            "spending projects often support a variety of product and service offerings due to geographic expansion and the cross-functionality of our systems and. Table of Contents\n",
            "Total segment assets exclude corporate assets, such as cash and cash equivalents, marketable securities, other long-term investments, corporate facilities,\n",
            "goodwill and other acquired intangible assets, and tax assets. Technology infrastructure assets are allocated among the segments based on usage, with the\n",
            "majority allocated to the AWS segment. Total segment assets reconciled to consolidated amounts are as follows (in millions):\n",
            " December 31,\n",
            " 2020 2021 2022\n",
            "North America (1) $ 108,405 $ 161,255 $ 185,268 \n",
            "International (1) 42,212 57,983 64,666 \n",
            "AWS (2) 47,574 63,835 88,491 \n",
            "Corporate 123,004 137,476 124,250 \n",
            "Consolidated $ 321,195 $ 420,549 $ 462,675 \n",
            "___________________\n",
            "(1)North America and International segment assets primarily consist of property and equipment, operating leases, inventory, and accounts receivable.\n",
            "(2)AWS segment assets primarily consist of property and equipment and accounts receivable.\n",
            "Property and equipment, net by segment is as follows (in millions):\n",
            " December 31,\n",
            " 2020 2021 2022\n",
            "North America $ 54,912 $ 83,640 $ 90,076 \n",
            "International 15,375 21,718 23,347 \n",
            "AWS 32,151 43,245 60,324 \n",
            "Corporate 10,676 11,678 12,968 \n",
            "Consolidated $ 113,114 $ 160,281 $ 186,715 \n",
            "Total net additions to property and equipment by segment are as follows (in millions):\n",
            " Year Ended December 31,\n",
            " 2020 2021 2022\n",
            "North America (1) $ 29,889 $ 37,397 $ 23,682 \n",
            "International (1) 8,072 10,259 6,711 \n",
            "AWS (2) 16,530 22,047 27,755 \n",
            "Corporate 3,485 2,622 2,688 \n",
            "Consolidated $ 57,976 $ 72,325 $ 60,836 \n",
            "___________________. The increase in AWS operating income in absolute dollars in 2022, compared to the prior year, is primarily due to increased sales and cost structure\n",
            "productivity, including a reduction in depreciation and amortization expense from our change in the estimated useful lives of our servers and networking\n",
            "equipment, partially offset by increased payroll and related expenses and spending on technology infrastructure, all of which were primarily driven by\n",
            "additional investments to support AWS business growth. Changes in foreign currency exchange rates positively impacted operating income by $1.4 billion in\n",
            "2022.\n",
            "24\n"
          ]
        }
      ]
    },
    {
      "cell_type": "code",
      "source": [
        "# Craft the messages to pass to chat.completions.create\n",
        "prompt = [\n",
        "    {'role':'system', 'content': qna_system_message},\n",
        "    {'role': 'user', 'content': qna_user_message_template.format(\n",
        "         context=context_for_query,\n",
        "         question=company\n",
        "        )\n",
        "    }\n",
        "]"
      ],
      "metadata": {
        "id": "WknFs_EVgeF3"
      },
      "execution_count": null,
      "outputs": []
    },
    {
      "cell_type": "code",
      "source": [
        "# Get a response from the LLM\n",
        "# Handle errors using try-except\n",
        "# print the content of the response\n",
        "\n",
        "\n",
        "response = client.chat.completions.create(\n",
        "    model=model_name,\n",
        "    messages=prompt,\n",
        "    temperature=0\n",
        ")\n",
        "\n",
        "answer = response.choices[0].message.content.strip()\n",
        "\n",
        "print(answer)"
      ],
      "metadata": {
        "id": "80DjKW0Xg6-W",
        "colab": {
          "base_uri": "https://localhost:8080/"
        },
        "outputId": "0b3307dc-d806-47e3-82ed-8f072f7b3892"
      },
      "execution_count": null,
      "outputs": [
        {
          "output_type": "stream",
          "name": "stdout",
          "text": [
            "Answer:\n",
            "The AWS segment consists of amounts earned from global sales of compute, storage, database, and other services for start-ups, enterprises, government agencies, and academic institutions. The increase in AWS operating income in absolute dollars in 2022, compared to the prior year, is primarily due to increased sales and cost structure productivity, including a reduction in depreciation and amortization expense from our change in the estimated useful lives of our servers and networking equipment, partially offset by increased payroll and related expenses and spending on technology infrastructure, all of which were primarily driven by additional investments to support AWS business growth. Changes in foreign currency exchange rates positively impacted operating income by $1.4 billion in 2\n"
          ]
        }
      ]
    },
    {
      "cell_type": "markdown",
      "source": [
        "# Evaluation"
      ],
      "metadata": {
        "id": "DcSJf2Z37Nhg"
      }
    },
    {
      "cell_type": "markdown",
      "source": [
        "### Craft prompts for evaluation"
      ],
      "metadata": {
        "id": "QpD2svFIM7gF"
      }
    },
    {
      "cell_type": "code",
      "source": [
        "# Pick a model that's offers more performace as a rater_model. Most of the time a model with more parameters is more performant.\n",
        "rater_model = \"mistralai/Mixtral-8x7B-Instruct-v0.1\""
      ],
      "metadata": {
        "id": "_Mv-9eLKkO5q"
      },
      "execution_count": null,
      "outputs": []
    },
    {
      "cell_type": "code",
      "source": [
        "# Create a prompt for the rater LLM to check the groundedness of the response\n",
        "groundedness_rater_system_message = \"\"\"\n",
        "You are tasked with rating AI generated answers to questions posed by users.\n",
        "You will be presented a question, context used by the AI system to generate the answer and an AI generated answer to the question.\n",
        "In the input, the question will begin with ###Question, the context will begin with ###Context while the AI generated answer will begin with ###Answer.\n",
        "\n",
        "Evaluation criteria:\n",
        "The task is to judge the extent to which the metric is followed by the answer.\n",
        "1 - The metric is not followed at all\n",
        "2 - The metric is followed only to a limited extent\n",
        "3 - The metric is followed to a good extent\n",
        "4 - The metric is followed mostly\n",
        "5 - The metric is followed completely\n",
        "\n",
        "Metric:\n",
        "The answer should be derived only from the information presented in the context\n",
        "\n",
        "Instructions:\n",
        "1. First write down the steps that are needed to evaluate the answer as per the metric.\n",
        "2. Give a step-by-step explanation if the answer adheres to the metric considering the question and context as the input.\n",
        "3. Next, evaluate the extent to which the metric is followed.\n",
        "4. Use the previous information to rate the answer using the evaluaton criteria and assign a score.\n",
        "\"\"\""
      ],
      "metadata": {
        "id": "2dDxkZdyKSnh"
      },
      "execution_count": null,
      "outputs": []
    },
    {
      "cell_type": "code",
      "source": [
        "# Create a prompt for the rater LLM to check the relevance of the response\n",
        "relevance_rater_system_message = \"\"\"\n",
        "You are tasked with rating AI generated answers to questions posed by users.\n",
        "You will be presented a question, context used by the AI system to generate the answer and an AI generated answer to the question.\n",
        "In the input, the question will begin with ###Question, the context will begin with ###Context while the AI generated answer will begin with ###Answer.\n",
        "\n",
        "Evaluation criteria:\n",
        "The task is to judge the extent to which the metric is followed by the answer.\n",
        "1 - The metric is not followed at all\n",
        "2 - The metric is followed only to a limited extent\n",
        "3 - The metric is followed to a good extent\n",
        "4 - The metric is followed mostly\n",
        "5 - The metric is followed completely\n",
        "\n",
        "Metric:\n",
        "Relevance measures how well the answer addresses the main aspects of the question, based on the context.\n",
        "Consider whether all and only the important aspects are contained in the answer when evaluating relevance.\n",
        "\n",
        "Instructions:\n",
        "1. First write down the steps that are needed to evaluate the context as per the metric.\n",
        "2. Give a step-by-step explanation if the context adheres to the metric considering the question as the input.\n",
        "3. Next, evaluate the extent to which the metric is followed.\n",
        "4. Use the previous information to rate the context using the evaluaton criteria and assign a score.\n",
        "\"\"\""
      ],
      "metadata": {
        "id": "NIosu2Wk7OVs"
      },
      "execution_count": null,
      "outputs": []
    },
    {
      "cell_type": "code",
      "source": [
        "#Create user message template such that question, answer and context can be provided through it.\n",
        "user_message_template = \"\"\"\n",
        "###Question\n",
        "{question}\n",
        "\n",
        "###Context\n",
        "{context}\n",
        "\n",
        "###Answer\n",
        "{answer}\n",
        "\"\"\""
      ],
      "metadata": {
        "id": "7boMupgh_Gux"
      },
      "execution_count": null,
      "outputs": []
    },
    {
      "cell_type": "markdown",
      "source": [
        "### Test the Evaluation on One Sample"
      ],
      "metadata": {
        "id": "GdBhlbmlLMJX"
      }
    },
    {
      "cell_type": "code",
      "source": [
        "user_input = \"How much is the company investing in research and development, and what are the key areas of focus for innovation?\""
      ],
      "metadata": {
        "id": "GHoSgUumAmzk"
      },
      "execution_count": null,
      "outputs": []
    },
    {
      "cell_type": "code",
      "source": [
        "# Fetch relevant documents and create context for query by joining page_content and page number of the retrieved docs\n",
        "relevant_document_chunks = retriever.get_relevant_documents(user_input)\n",
        "context_list = [d.page_content for d in relevant_document_chunks]\n",
        "context_for_query = \". \".join(context_list)"
      ],
      "metadata": {
        "id": "6RpPvWtZrb0q"
      },
      "execution_count": null,
      "outputs": []
    },
    {
      "cell_type": "code",
      "source": [
        "# Create the messages for chat.completion.create()\n",
        "prompt = [\n",
        "    {'role':'system', 'content': qna_system_message},\n",
        "    {'role': 'user', 'content': qna_user_message_template.format(\n",
        "         context=context_for_query,\n",
        "         question=user_input\n",
        "        )\n",
        "    }\n",
        "]\n",
        "\n",
        "response = client.chat.completions.create(\n",
        "    model=model_name,\n",
        "    messages=prompt,\n",
        "    temperature=0\n",
        ")"
      ],
      "metadata": {
        "id": "IgzkA4TmAtKW"
      },
      "execution_count": null,
      "outputs": []
    },
    {
      "cell_type": "code",
      "source": [
        "# Get a response from the LLM\n",
        "# Handle errors using try-except\n",
        "answer = response.choices[0].message.content.strip()\n",
        "\n",
        "print(answer)"
      ],
      "metadata": {
        "id": "n-d-5j4HBo0V",
        "colab": {
          "base_uri": "https://localhost:8080/"
        },
        "outputId": "9e616262-1f50-412a-ef1d-6f5913b43b1c"
      },
      "execution_count": null,
      "outputs": [
        {
          "output_type": "stream",
          "name": "stdout",
          "text": [
            "Answer:\n",
            "The company is investing a total of $88.15 billion in research and development for the year 2023. The key areas of focus for innovation include:\n",
            "\n",
            "1. Cloud and AI: Developing Azure AI platform and cloud infrastructure, server, database, CRM, ERP, software development tools and services, AI cognitive services, and other business process applications and services for enterprises.\n",
            "\n",
            "2. Strategic Missions and Technologies: Incubating technical products and support solutions with transformative potential for the future of cloud computing and continued company growth across quantum computing, Azure Space & Missions Engineering, telecommunications, and Microsoft Federal Sales and Delivery.\n",
            "\n",
            "3. Experiences and Devices: Delivering high value end-user experiences across products, services, and devices, including Microsoft 365, Windows, Microsoft Teams, Search (including Microsoft Edge and Bing Chat) and other advertising-based services, and the Surface line of devices.\n",
            "\n",
            "4. Microsoft Security: Delivering a comprehensive portfolio of services that protect customers' digital infrastructure through cloud platform and application security, data protection and governance, identity and network access, and device management.\n",
            "\n",
            "5. Technology and Research: Focusing on fundamental research, product and business incubations, and forward-looking AI innovations that span infrastructure, services, and applications.\n",
            "\n",
            "6. LinkedIn: Focusing on services that transform the way professionals grow their network and find jobs and the way businesses hire, market, sell, and learn.\n",
            "\n",
            "7. Gaming: Developing hardware, content, and services across a large range of platforms to help grow the user base through game experiences and social interaction.\n",
            "\n",
            "Additionally, the company is making significant investments in their metaverse efforts, including developing virtual and augmented reality devices, software for social platforms, neural interfaces, and other foundational technologies.\n",
            "\n",
            "Source:\n",
            "###Context\n",
            "- \"We develop most of our products and services internally through the following engineering groups...\"\n",
            "- \"Many of our RL investments are directed toward long-term, cutting-edge research and development for products for the metaverse...\"\n",
            "- \"In 2023, our RL segment reduced our overall operating profit by approximately $16.12 billion...\"\n",
            "- \"In 2023, 80% of our total costs and expenses were recognized in FoA and 20% were recognized in RL. Our FoA investments were $70.13 billion in 2023 and include expenses relating to headcount, data centers and technical infrastructure as part of our efforts to develop our apps and our advertising services. We are also making significant investments in our metaverse efforts, including developing virtual and augmented reality devices, software for social platforms, neural interfaces, and other foundational technologies. Our total RL investments were $18.02 billion in 2023...\"\n",
            "###Source\n",
            "https://www.microsoft.com/en-us/Investor/earnings/FY-2023-Q2/press-release-FY23-Q2.aspx\n"
          ]
        }
      ]
    },
    {
      "cell_type": "code",
      "source": [
        "# Create messages for groundness LLM\n",
        "groundedness_prompt = [\n",
        "    {'role':'system', 'content': groundedness_rater_system_message},\n",
        "    {'role': 'user', 'content': user_message_template.format(\n",
        "        question=user_input,\n",
        "        context=context_for_query,\n",
        "        answer=answer\n",
        "        )\n",
        "    }\n",
        "]"
      ],
      "metadata": {
        "id": "8VvvK6U4A6tz"
      },
      "execution_count": null,
      "outputs": []
    },
    {
      "cell_type": "code",
      "source": [
        "# Print the response of the rater LLM on groundedness\n",
        "response = client.chat.completions.create(\n",
        "    model=rater_model,\n",
        "    messages=groundedness_prompt,\n",
        "    temperature=0\n",
        ")\n",
        "\n",
        "print(response.choices[0].message.content)"
      ],
      "metadata": {
        "id": "nDDj3KfLBSCG",
        "colab": {
          "base_uri": "https://localhost:8080/"
        },
        "outputId": "aa4b7b23-b3d7-4586-9e82-21c32be24780"
      },
      "execution_count": null,
      "outputs": [
        {
          "output_type": "stream",
          "name": "stdout",
          "text": [
            " 1. The steps to evaluate the answer based on the metric are:\n",
            "- Identify the key points in the answer related to the investment in research and development and the key areas of focus for innovation.\n",
            "- Check if the key points are supported by the context provided.\n",
            "- Verify if the answer mentions any information that is not present in the context.\n",
            "\n",
            "2. The answer mentions the total investment in research and development for the year 2023 and the key areas of focus for innovation. These details are supported by the context, which mentions the total costs and expenses for 2023, with 80% recognized in FoA and 20% in RL, and the key areas of focus for innovation. The context also mentions the significant investments in the metaverse efforts. The answer does not mention any information that is not present in the context.\n",
            "\n",
            "3. The metric is followed completely, as the answer is derived only from the information presented in the context.\n",
            "\n",
            "4. The answer adheres to the metric to a complete extent, so I would rate it as:\n",
            "5 - The metric is followed completely.\n"
          ]
        }
      ]
    },
    {
      "cell_type": "code",
      "source": [
        "# Print the response of the rater LLM on relevance\n",
        "relevance_prompt = [\n",
        "    {'role':'system', 'content': relevance_rater_system_message},\n",
        "    {'role': 'user', 'content': user_message_template.format(\n",
        "        question=user_input,\n",
        "        context=context_for_query,\n",
        "        answer=answer\n",
        "        )\n",
        "    }\n",
        "]"
      ],
      "metadata": {
        "id": "6ujo5RUKBlpO"
      },
      "execution_count": null,
      "outputs": []
    },
    {
      "cell_type": "code",
      "source": [
        "# Print the response of the rater LLM on relevance\n",
        "response = client.chat.completions.create(\n",
        "    model=rater_model,\n",
        "    messages=relevance_prompt,\n",
        "    temperature=0\n",
        ")\n",
        "\n",
        "print(response.choices[0].message.content)"
      ],
      "metadata": {
        "id": "mEpI9Kj-BlpO",
        "colab": {
          "base_uri": "https://localhost:8080/"
        },
        "outputId": "69d5c180-7062-4900-a215-0cfdb5a25130"
      },
      "execution_count": null,
      "outputs": [
        {
          "output_type": "stream",
          "name": "stdout",
          "text": [
            " 1. Steps to evaluate the context as per the relevance metric:\n",
            "- Identify the main aspects of the question: The main aspects of the question are the amount of investment in research and development and the key areas of focus for innovation.\n",
            "- Analyze the context to see if it provides information about the main aspects of the question.\n",
            "\n",
            "2. Step-by-step explanation if the context adheres to the metric:\n",
            "- The context provides information about the company's investment in research and development: \"We develop most of our products and services internally through the following engineering groups... Our FoA investments were $70.13 billion in 2023 and include expenses relating to headcount, data centers and technical infrastructure as part of our efforts to develop our apps and our advertising services.\"\n",
            "- The context also provides information about the key areas of focus for innovation: \"Cloud and AI – focuses on making IT professionals, developers, partners, independent software vendors, and their systems more productive and efficient through development of Azure AI platform and cloud infrastructure, server, database, CRM, ERP, software development tools and services (including GitHub), AI cognitive services, and other business process applications and services for enterprises... Strategic Missions and Technologies – focuses on incubating technical products and support solutions with transformative potential for the future of cloud computing and continued company growth across quantum computing, Azure Space & Missions Engineering, telecommunications, and Microsoft Federal Sales and Delivery... Experiences and Devices – focuses on delivering high value end-user experiences across our products, services, and devices, including Microsoft 365, Windows, Microsoft Teams, Search (including Microsoft Edge and Bing Chat) and other advertising-based services, and the Surface line of devices... Microsoft Security – focuses on delivering a comprehensive portfolio of services that protect our customers’ digital infrastructure through cloud platform and application security, data protection and governance, identity and network access, and device management... Technology and Research – focuses on fundamental research, product and business incubations, and forward-looking AI innovations that span infrastructure, services, and applications... LinkedIn – focuses on our services that transform the way professionals grow their network and find jobs and the way businesses hire, market, sell, and learn... Gaming – focuses on developing hardware, content, and services across a large range of platforms to help grow our user base through game experiences and social interaction.\"\n",
            "\n",
            "3. Evaluation of the extent to which the metric is followed:\n",
            "- The context provides information about both the amount of investment in research and development and the key areas of focus for innovation, making it relevant to the question.\n",
            "\n",
            "4. Rating the context using the evaluation criteria and assigning a score:\n",
            "- The context is relevant to the question and provides information about all the important aspects of the question. Therefore, it receives a score of 4, which means the metric is followed mostly.\n"
          ]
        }
      ]
    },
    {
      "cell_type": "markdown",
      "source": [
        "### Evaluation on multiple-queries"
      ],
      "metadata": {
        "id": "-kcSAZbLL5JS"
      }
    },
    {
      "cell_type": "code",
      "source": [
        "# List of queries\n",
        "queries = [ \"What are the company’s policies and frameworks regarding AI ethics, governance, and responsible AI use as detailed in their 10-K reports?\",\n",
        "           \"What are the primary business segments of the company, and how does each segment contribute to the overall revenue and profitability?\",\n",
        "            \"What are the key risk factors identified in the 10-K report that could potentially impact the company’s business operations and financial performance?\"\n",
        "\n",
        "]\n",
        "# Create a DataFrame to store the results\n",
        "df = pd.DataFrame(columns=['query', 'response', 'context', 'groundedness_evaluation', 'relevance_evaluation'])\n",
        "\n",
        "# run a loop to get answer for every query and every company and then rate them on groundedness and relevance\n",
        "# store the query, response, context,groundedness_evaluation, relevance_evaluation in a dataframe\n",
        "\n",
        "for query in queries:\n",
        "\n",
        "\n",
        "    relevant_document_chunks = retriever.get_relevant_documents(query)\n",
        "    #context_list = [d.page_content + \"\\n ###Source: \" + d.metadata['page'] + \"\\n\\n \" for d in relevant_document_chunks]\n",
        "    context_list = [d.page_content for d in relevant_document_chunks]\n",
        "\n",
        "    context_for_query = \". \".join(context_list)\n",
        "\n",
        "    prompt = [\n",
        "        {'role':'system', 'content': qna_system_message},\n",
        "        {'role': 'user', 'content': qna_user_message_template.format(\n",
        "            context=context_for_query,\n",
        "            question=query\n",
        "            )\n",
        "        }\n",
        "    ]\n",
        "\n",
        "    response = client.chat.completions.create(\n",
        "        model=model_name,\n",
        "        messages=prompt,\n",
        "        temperature=0\n",
        "    )\n",
        "\n",
        "    answer = response.choices[0].message.content.strip()\n",
        "    # print(context_for_query)\n",
        "    # print(\"++++++++++++++++++++++++++++++++++++++++++++++++++++++++++++++++++++\")\n",
        "    # print(answer)\n",
        "    # print(\"====================================================================\")\n",
        "\n",
        "    # Groundedness prompt\n",
        "    groundedness_prompt = [\n",
        "        {'role':'system', 'content': groundedness_rater_system_message},\n",
        "        {'role': 'user', 'content': user_message_template.format(\n",
        "            question=query,\n",
        "            context=context_for_query,\n",
        "            answer=answer\n",
        "            )\n",
        "        }\n",
        "    ]\n",
        "\n",
        "    # Get the groundedness response\n",
        "    response = client.chat.completions.create(\n",
        "        model=rater_model,\n",
        "        messages=groundedness_prompt,\n",
        "        temperature=0\n",
        "    )\n",
        "    groundedness_response = response.choices[0].message.content\n",
        "\n",
        "    # Relevance prompt\n",
        "    relevance_prompt = [\n",
        "        {'role':'system', 'content': relevance_rater_system_message},\n",
        "        {'role': 'user', 'content': user_message_template.format(\n",
        "            question=query,\n",
        "            context=context_for_query,\n",
        "            answer=answer\n",
        "            )\n",
        "        }\n",
        "    ]\n",
        "\n",
        "    # Get the relevance response\n",
        "    response = client.chat.completions.create(\n",
        "        model=rater_model,\n",
        "        messages=relevance_prompt,\n",
        "        temperature=0\n",
        "    )\n",
        "    relevance_response = response.choices[0].message.content\n",
        "\n",
        "    # Store the query and responses in the DataFrame\n",
        "    df = pd.concat([df, pd.DataFrame([{'query': query,'response': answer, 'context': context_for_query, 'groundedness_evaluation': groundedness_response, 'relevance_evaluation': relevance_response}])], ignore_index=True)\n",
        "df.head(13)"
      ],
      "metadata": {
        "id": "k-JtmXvE_4PC",
        "colab": {
          "base_uri": "https://localhost:8080/",
          "height": 230
        },
        "outputId": "f0c5e022-6273-4933-9ba3-572025629148"
      },
      "execution_count": null,
      "outputs": [
        {
          "output_type": "execute_result",
          "data": {
            "text/plain": [
              "                                               query  \\\n",
              "0  What are the company’s policies and frameworks...   \n",
              "1  What are the primary business segments of the ...   \n",
              "2  What are the key risk factors identified in th...   \n",
              "\n",
              "                                            response  \\\n",
              "0  Answer:\\nThe company has a commitment to respo...   \n",
              "1  Answer:\\nThe primary business segments of the ...   \n",
              "2  Answer:\\nThe key risk factors identified in the 1   \n",
              "\n",
              "                                             context  \\\n",
              "0  5 to launch a Generative AI Skills Grant Chall...   \n",
              "1  of our key businesses. The segments enable the...   \n",
              "2  Table of Contents\\nItem 1A.Risk Factors\\nCerta...   \n",
              "\n",
              "                             groundedness_evaluation  \\\n",
              "0   Steps to evaluate the answer:\\n\\n1. Identify ...   \n",
              "1   Steps to evaluate the answer:\\n1. Identify th...   \n",
              "2   1. First, read through the question, context,...   \n",
              "\n",
              "                                relevance_evaluation  \n",
              "0   1. To evaluate the context as per the relevan...  \n",
              "1   1. The steps to evaluate the context as per t...  \n",
              "2   1. To evaluate the context as per the relevan...  "
            ],
            "text/html": [
              "\n",
              "  <div id=\"df-fa49f4f2-9b3d-4df8-bc8c-72b9a9b00734\" class=\"colab-df-container\">\n",
              "    <div>\n",
              "<style scoped>\n",
              "    .dataframe tbody tr th:only-of-type {\n",
              "        vertical-align: middle;\n",
              "    }\n",
              "\n",
              "    .dataframe tbody tr th {\n",
              "        vertical-align: top;\n",
              "    }\n",
              "\n",
              "    .dataframe thead th {\n",
              "        text-align: right;\n",
              "    }\n",
              "</style>\n",
              "<table border=\"1\" class=\"dataframe\">\n",
              "  <thead>\n",
              "    <tr style=\"text-align: right;\">\n",
              "      <th></th>\n",
              "      <th>query</th>\n",
              "      <th>response</th>\n",
              "      <th>context</th>\n",
              "      <th>groundedness_evaluation</th>\n",
              "      <th>relevance_evaluation</th>\n",
              "    </tr>\n",
              "  </thead>\n",
              "  <tbody>\n",
              "    <tr>\n",
              "      <th>0</th>\n",
              "      <td>What are the company’s policies and frameworks...</td>\n",
              "      <td>Answer:\\nThe company has a commitment to respo...</td>\n",
              "      <td>5 to launch a Generative AI Skills Grant Chall...</td>\n",
              "      <td>Steps to evaluate the answer:\\n\\n1. Identify ...</td>\n",
              "      <td>1. To evaluate the context as per the relevan...</td>\n",
              "    </tr>\n",
              "    <tr>\n",
              "      <th>1</th>\n",
              "      <td>What are the primary business segments of the ...</td>\n",
              "      <td>Answer:\\nThe primary business segments of the ...</td>\n",
              "      <td>of our key businesses. The segments enable the...</td>\n",
              "      <td>Steps to evaluate the answer:\\n1. Identify th...</td>\n",
              "      <td>1. The steps to evaluate the context as per t...</td>\n",
              "    </tr>\n",
              "    <tr>\n",
              "      <th>2</th>\n",
              "      <td>What are the key risk factors identified in th...</td>\n",
              "      <td>Answer:\\nThe key risk factors identified in the 1</td>\n",
              "      <td>Table of Contents\\nItem 1A.Risk Factors\\nCerta...</td>\n",
              "      <td>1. First, read through the question, context,...</td>\n",
              "      <td>1. To evaluate the context as per the relevan...</td>\n",
              "    </tr>\n",
              "  </tbody>\n",
              "</table>\n",
              "</div>\n",
              "    <div class=\"colab-df-buttons\">\n",
              "\n",
              "  <div class=\"colab-df-container\">\n",
              "    <button class=\"colab-df-convert\" onclick=\"convertToInteractive('df-fa49f4f2-9b3d-4df8-bc8c-72b9a9b00734')\"\n",
              "            title=\"Convert this dataframe to an interactive table.\"\n",
              "            style=\"display:none;\">\n",
              "\n",
              "  <svg xmlns=\"http://www.w3.org/2000/svg\" height=\"24px\" viewBox=\"0 -960 960 960\">\n",
              "    <path d=\"M120-120v-720h720v720H120Zm60-500h600v-160H180v160Zm220 220h160v-160H400v160Zm0 220h160v-160H400v160ZM180-400h160v-160H180v160Zm440 0h160v-160H620v160ZM180-180h160v-160H180v160Zm440 0h160v-160H620v160Z\"/>\n",
              "  </svg>\n",
              "    </button>\n",
              "\n",
              "  <style>\n",
              "    .colab-df-container {\n",
              "      display:flex;\n",
              "      gap: 12px;\n",
              "    }\n",
              "\n",
              "    .colab-df-convert {\n",
              "      background-color: #E8F0FE;\n",
              "      border: none;\n",
              "      border-radius: 50%;\n",
              "      cursor: pointer;\n",
              "      display: none;\n",
              "      fill: #1967D2;\n",
              "      height: 32px;\n",
              "      padding: 0 0 0 0;\n",
              "      width: 32px;\n",
              "    }\n",
              "\n",
              "    .colab-df-convert:hover {\n",
              "      background-color: #E2EBFA;\n",
              "      box-shadow: 0px 1px 2px rgba(60, 64, 67, 0.3), 0px 1px 3px 1px rgba(60, 64, 67, 0.15);\n",
              "      fill: #174EA6;\n",
              "    }\n",
              "\n",
              "    .colab-df-buttons div {\n",
              "      margin-bottom: 4px;\n",
              "    }\n",
              "\n",
              "    [theme=dark] .colab-df-convert {\n",
              "      background-color: #3B4455;\n",
              "      fill: #D2E3FC;\n",
              "    }\n",
              "\n",
              "    [theme=dark] .colab-df-convert:hover {\n",
              "      background-color: #434B5C;\n",
              "      box-shadow: 0px 1px 3px 1px rgba(0, 0, 0, 0.15);\n",
              "      filter: drop-shadow(0px 1px 2px rgba(0, 0, 0, 0.3));\n",
              "      fill: #FFFFFF;\n",
              "    }\n",
              "  </style>\n",
              "\n",
              "    <script>\n",
              "      const buttonEl =\n",
              "        document.querySelector('#df-fa49f4f2-9b3d-4df8-bc8c-72b9a9b00734 button.colab-df-convert');\n",
              "      buttonEl.style.display =\n",
              "        google.colab.kernel.accessAllowed ? 'block' : 'none';\n",
              "\n",
              "      async function convertToInteractive(key) {\n",
              "        const element = document.querySelector('#df-fa49f4f2-9b3d-4df8-bc8c-72b9a9b00734');\n",
              "        const dataTable =\n",
              "          await google.colab.kernel.invokeFunction('convertToInteractive',\n",
              "                                                    [key], {});\n",
              "        if (!dataTable) return;\n",
              "\n",
              "        const docLinkHtml = 'Like what you see? Visit the ' +\n",
              "          '<a target=\"_blank\" href=https://colab.research.google.com/notebooks/data_table.ipynb>data table notebook</a>'\n",
              "          + ' to learn more about interactive tables.';\n",
              "        element.innerHTML = '';\n",
              "        dataTable['output_type'] = 'display_data';\n",
              "        await google.colab.output.renderOutput(dataTable, element);\n",
              "        const docLink = document.createElement('div');\n",
              "        docLink.innerHTML = docLinkHtml;\n",
              "        element.appendChild(docLink);\n",
              "      }\n",
              "    </script>\n",
              "  </div>\n",
              "\n",
              "\n",
              "<div id=\"df-2e28beba-036d-4786-a045-5747005b66da\">\n",
              "  <button class=\"colab-df-quickchart\" onclick=\"quickchart('df-2e28beba-036d-4786-a045-5747005b66da')\"\n",
              "            title=\"Suggest charts\"\n",
              "            style=\"display:none;\">\n",
              "\n",
              "<svg xmlns=\"http://www.w3.org/2000/svg\" height=\"24px\"viewBox=\"0 0 24 24\"\n",
              "     width=\"24px\">\n",
              "    <g>\n",
              "        <path d=\"M19 3H5c-1.1 0-2 .9-2 2v14c0 1.1.9 2 2 2h14c1.1 0 2-.9 2-2V5c0-1.1-.9-2-2-2zM9 17H7v-7h2v7zm4 0h-2V7h2v10zm4 0h-2v-4h2v4z\"/>\n",
              "    </g>\n",
              "</svg>\n",
              "  </button>\n",
              "\n",
              "<style>\n",
              "  .colab-df-quickchart {\n",
              "      --bg-color: #E8F0FE;\n",
              "      --fill-color: #1967D2;\n",
              "      --hover-bg-color: #E2EBFA;\n",
              "      --hover-fill-color: #174EA6;\n",
              "      --disabled-fill-color: #AAA;\n",
              "      --disabled-bg-color: #DDD;\n",
              "  }\n",
              "\n",
              "  [theme=dark] .colab-df-quickchart {\n",
              "      --bg-color: #3B4455;\n",
              "      --fill-color: #D2E3FC;\n",
              "      --hover-bg-color: #434B5C;\n",
              "      --hover-fill-color: #FFFFFF;\n",
              "      --disabled-bg-color: #3B4455;\n",
              "      --disabled-fill-color: #666;\n",
              "  }\n",
              "\n",
              "  .colab-df-quickchart {\n",
              "    background-color: var(--bg-color);\n",
              "    border: none;\n",
              "    border-radius: 50%;\n",
              "    cursor: pointer;\n",
              "    display: none;\n",
              "    fill: var(--fill-color);\n",
              "    height: 32px;\n",
              "    padding: 0;\n",
              "    width: 32px;\n",
              "  }\n",
              "\n",
              "  .colab-df-quickchart:hover {\n",
              "    background-color: var(--hover-bg-color);\n",
              "    box-shadow: 0 1px 2px rgba(60, 64, 67, 0.3), 0 1px 3px 1px rgba(60, 64, 67, 0.15);\n",
              "    fill: var(--button-hover-fill-color);\n",
              "  }\n",
              "\n",
              "  .colab-df-quickchart-complete:disabled,\n",
              "  .colab-df-quickchart-complete:disabled:hover {\n",
              "    background-color: var(--disabled-bg-color);\n",
              "    fill: var(--disabled-fill-color);\n",
              "    box-shadow: none;\n",
              "  }\n",
              "\n",
              "  .colab-df-spinner {\n",
              "    border: 2px solid var(--fill-color);\n",
              "    border-color: transparent;\n",
              "    border-bottom-color: var(--fill-color);\n",
              "    animation:\n",
              "      spin 1s steps(1) infinite;\n",
              "  }\n",
              "\n",
              "  @keyframes spin {\n",
              "    0% {\n",
              "      border-color: transparent;\n",
              "      border-bottom-color: var(--fill-color);\n",
              "      border-left-color: var(--fill-color);\n",
              "    }\n",
              "    20% {\n",
              "      border-color: transparent;\n",
              "      border-left-color: var(--fill-color);\n",
              "      border-top-color: var(--fill-color);\n",
              "    }\n",
              "    30% {\n",
              "      border-color: transparent;\n",
              "      border-left-color: var(--fill-color);\n",
              "      border-top-color: var(--fill-color);\n",
              "      border-right-color: var(--fill-color);\n",
              "    }\n",
              "    40% {\n",
              "      border-color: transparent;\n",
              "      border-right-color: var(--fill-color);\n",
              "      border-top-color: var(--fill-color);\n",
              "    }\n",
              "    60% {\n",
              "      border-color: transparent;\n",
              "      border-right-color: var(--fill-color);\n",
              "    }\n",
              "    80% {\n",
              "      border-color: transparent;\n",
              "      border-right-color: var(--fill-color);\n",
              "      border-bottom-color: var(--fill-color);\n",
              "    }\n",
              "    90% {\n",
              "      border-color: transparent;\n",
              "      border-bottom-color: var(--fill-color);\n",
              "    }\n",
              "  }\n",
              "</style>\n",
              "\n",
              "  <script>\n",
              "    async function quickchart(key) {\n",
              "      const quickchartButtonEl =\n",
              "        document.querySelector('#' + key + ' button');\n",
              "      quickchartButtonEl.disabled = true;  // To prevent multiple clicks.\n",
              "      quickchartButtonEl.classList.add('colab-df-spinner');\n",
              "      try {\n",
              "        const charts = await google.colab.kernel.invokeFunction(\n",
              "            'suggestCharts', [key], {});\n",
              "      } catch (error) {\n",
              "        console.error('Error during call to suggestCharts:', error);\n",
              "      }\n",
              "      quickchartButtonEl.classList.remove('colab-df-spinner');\n",
              "      quickchartButtonEl.classList.add('colab-df-quickchart-complete');\n",
              "    }\n",
              "    (() => {\n",
              "      let quickchartButtonEl =\n",
              "        document.querySelector('#df-2e28beba-036d-4786-a045-5747005b66da button');\n",
              "      quickchartButtonEl.style.display =\n",
              "        google.colab.kernel.accessAllowed ? 'block' : 'none';\n",
              "    })();\n",
              "  </script>\n",
              "</div>\n",
              "    </div>\n",
              "  </div>\n"
            ],
            "application/vnd.google.colaboratory.intrinsic+json": {
              "type": "dataframe",
              "variable_name": "df",
              "summary": "{\n  \"name\": \"df\",\n  \"rows\": 3,\n  \"fields\": [\n    {\n      \"column\": \"query\",\n      \"properties\": {\n        \"dtype\": \"string\",\n        \"num_unique_values\": 3,\n        \"samples\": [\n          \"What are the company\\u2019s policies and frameworks regarding AI ethics, governance, and responsible AI use as detailed in their 10-K reports?\",\n          \"What are the primary business segments of the company, and how does each segment contribute to the overall revenue and profitability?\",\n          \"What are the key risk factors identified in the 10-K report that could potentially impact the company\\u2019s business operations and financial performance?\"\n        ],\n        \"semantic_type\": \"\",\n        \"description\": \"\"\n      }\n    },\n    {\n      \"column\": \"response\",\n      \"properties\": {\n        \"dtype\": \"string\",\n        \"num_unique_values\": 3,\n        \"samples\": [\n          \"Answer:\\nThe company has a commitment to responsible AI, which includes the development of implementation processes, tools, training, and practices to support compliance. They also enable their customers and partners to develop and deploy AI safely through AI customer commitments and services like Azure AI Studio. The company works with other industry leaders, civil society, and governments to advocate for AI regulations and governance globally. They have released their Governing AI Blueprint, which outlines concrete legal and policy recommendations for AI guardrails, and are signatories to the eight voluntary commitments developed with the US White House. The company also develops AI technology that they make available to third-parties for use in their own products and services, but they cannot control the practices of these third parties or guarantee that such technologies will not be used for improper purposes.\\n\\nSource:\\n+ ###Context\\n- 5 to launch a Generative AI Skills Grant Challenge \\n- Our commitment to responsible AI is not new. Since 2017, we\\u2019ve worked to develop our responsible AI practice, recognizing that trust is never given but earned through action.\\n- We have translated our AI principles into a core set of implementation processes, as well as tools, training, and practices to support compliance.\\n- We also enable our customers and partners to develop and deploy AI safely, including through our AI customer commitments and services like Azure AI Studio, with its content safety tooling and access to our Responsible AI dashboard.\\n- Building AI responsibly requires that we work with other industry leaders, civil society, and governments to advocate for AI regulations and governance globally.\\n- This year, we released our Governing AI Blueprint, which outlines concrete legal and policy recommendations for AI guardrails.\\n- We are signatories to the eight voluntary commitments developed with the US White House, and proud of the six additional commitments we\\u2019ve made to further strengthen and operationalize the principles of safety, security, and trust.\\n- We are also developing AI technology that we make available via open source, commercial, and non-commercial license agreements to third-parties that can use this technology for use in their own products and services.\\n- We may not have insight into, or control over, the practices of third parties who may utilize such AI technologies.\",\n          \"Answer:\\nThe primary business segments of the company are Productivity and Business Processes, Intelligent Cloud, and More Personal Computing. In the fiscal year 2023, the Productivity and Business Processes segment contributed $69,274 million to the overall revenue, with an operating income of $34,189 million. The Intelligent Cloud segment contributed $87,907 million to the overall revenue, with an operating income of $37,884 million. The More Personal Computing segment contributed $54,734 million to the overall revenue, with an operating income of $16,450 million.\\n\\nSource:\\n###Context\\nOur reportable segments are described below.\\n\\nProductivity and Business Processes\\nOur Productivity and Business Processes segment consists of products and services in our portfolio of productivity, communication, and information services, spanning a variety of devices and platforms. This segment primarily comprises:\\n\\u2022 Office Commercial (Office 365 subscriptions, the Office 365 portion of Microsoft 365 Commercial subscriptions, and Office licensed on -premises), comprising Office, Exchange, SharePoint, Microsoft Teams, Office 365 Security and Compliance, Microsoft Viva, and Microsoft 365 Copilot.\\n\\u2022 Office Consumer, including Microsoft 365 Consumer subscriptions, Office licensed on -premises, and other Office services.\\n\\u2022 LinkedIn, including Talent Solutions, Marketing Solutions, Premium Subscriptions, and Sales Solutions.\\n\\u2022 Dynamics business solutions, including Dynamics 365, comprising a set of intelligent, cloud-based applications across ERP, CRM (including Customer Insights), Power Apps, and Power Automate; and on -premises ERP and CRM applications.\\n\\nIntelligent Cloud\\nOur Intelligent Cloud segment consists of our public, private, and hybrid server products and cloud services that can power modern business and developers. This segment primarily comprises:\\n\\u2022 Server products and cloud services, including Azure and other cloud services; SQL Server, Windows Server.\\n\\n###Context\\nSegment revenue and operating income were as follows during the periods presented:\\n\\n(In millions)\\nYear Ended June 30, 2023 2022 2021\\nRevenue\\nProductivity and Business Processes $ 69,274 $ 63,364 $ 53,915\\nIntelligent Cloud 87,907 74,965 59,728\\nMore Personal Computing 54,734 59,941 54,445\\nTotal $ 211,915 $ 198,270 $ 168,088\\n\\nOperating Income\\nProductivity and Business Processes $ 34,189 $ 29,690 $ 24,351\\nIntelligent Cloud 37,884 33,203 26,471\\nMore Personal Computing 16,450 20,490 19,094\\nTotal $ 88,523 $ 83,383 $ 69,916.\\n\\n###Source\\nNOTE 19 \\u2013 SEGMENT INFORMATION AND GEOGRAPHIC DATA\\nIn its operation of the business, management, including our chief operating decision maker, who is also our Chief Executive Officer, reviews certain financial information, including segmented internal profit and loss statements prepared on a basis not consistent with GAAP. During the periods presented, we reported our financial performance based on the following segments: Productivity and Business Processes, Intelligent Cloud, and More Personal Computing.\",\n          \"Answer:\\nThe key risk factors identified in the 1\"\n        ],\n        \"semantic_type\": \"\",\n        \"description\": \"\"\n      }\n    },\n    {\n      \"column\": \"context\",\n      \"properties\": {\n        \"dtype\": \"string\",\n        \"num_unique_values\": 3,\n        \"samples\": [\n          \"5 to launch a Generative AI Skills Grant Challenge  to explore how nonprofit, social enterprise, and research or academic \\ninstitutions can empower the workforce to use this new generation of AI.  \\nHow can we earn trust?  \\nTo create positive impact with technology, people need to be able to trust the technolo gies they use and the companies \\nbehind them. For us, earning trust spans the responsible use of AI, protecting privacy, and advancing digital safety and \\ncybersecurity.  \\nOur commitment to responsible AI is not new. Since 2017, we\\u2019ve worked to develop our re sponsible AI practice, recognizing \\nthat trust is never given but earned through action.  \\nWe have translated our AI principles into a core set of implementation processes, as well as tools, training, and practices \\nto support compliance. But internal program s aren\\u2019t enough. We also enable our customers and partners to develop and \\ndeploy AI safely, including through our AI customer commitments and services like Azure AI Studio, with its content safety \\ntooling and access to our Responsible AI dashboard.  \\nBuildi ng AI responsibly requires that we work with other industry leaders, civil society, and governments to advocate for AI \\nregulations and governance globally. This year, we released our Governing AI Blueprint, which outlines concrete legal and \\npolicy recommen dations for AI guardrails. We are signatories to the eight voluntary commitments developed with the US \\nWhite House, and proud of the six additional commitments we\\u2019ve made to further strengthen and operationalize the \\nprinciples of safety, security, and trus t.  \\nThe era of AI heightens the importance of cybersecurity, and we deepened our work across the private and public sectors \\nto improve cyber -resilience. We\\u2019ve continued to support Ukraine in defending critical infrastructure, detecting and disrupting \\ncyber attacks and cyberinfluence operations, and providing intelligence related to these attacks. Our Microsoft Threat \\nAnalysis Center team produced more than 500 intelligence reports to help keep customers and the public informed. And we \\npublished our third ann ual Microsoft Digital Defense Report, sharing our learnings and security recommendations.  \\nWe also remain committed to creating safe experiences online and protecting customers from illegal and harmful content \\nand conduct, while respecting human rights. We supported the Christchurch Call Initiative on Algorithmic Outcomes to. Further, we face significant competition from other companies that are developing their own AI features and technologies. Other companies may\\ndevelop AI features and technologies that are similar or superior to our technologies or are more cost-effective to develop and deploy. Given the long history of\\ndevelopment in the AI sector, other parties may have (or in the future may obtain) patents or other proprietary rights that would prevent, limit, or interfere with\\nour ability to make, use, or sell our own AI features. Further, our ability to continue to develop and effectively deploy AI technologies is dependent on access to\\nspecific third-party equipment and other physical infrastructure, such as processing hardware and network capacity, as to which we cannot control the\\navailability or pricing, especially in a highly competitive environment.\\nWe are also developing AI technology that we make available via open source, commercial, and non-commercial license agreements to third-parties that\\ncan use this technology for use in their own products and services. We may not have insight into, or control over, the practices of third parties who may utilize\\nsuch AI technologies. As such, we cannot guarantee that third parties will not use such AI technologies for improper purposes, including through the\\ndissemination of illegal, inaccurate, defamatory or harmful content, intellectual property infringement or misappropriation, furthering bias or discrimination,\\ncybersecurity attacks, data privacy violations, other activities that threaten people's safety or well-being on- or offline, or to develop competing technologies.\\nWhile we may mitigate certain risks associated with the improper use of our AI models through both technical measures and the inclusion of contractual\\nrestrictions on third-party use in any agreement between us and any third party, we cannot guarantee that such measures will be effective. Such improper use by\\nany third party could adversely affect our business, reputation, or financial results or subject us to legal liability.\\nIt is not possible to predict all of the risks related to the use of AI and changes in laws, rules, directives, and regulations governing the use of AI may\\nadversely affect our ability to develop and use AI or subject us to legal liability.\\n22. social media or other platforms, which could harm our business. It is hard to predict the challenges we may encounter \\nin adapting our products and services and developing competitive new products and services. We expect to continue \\nto devote significant resources to creating and supporting products and services across multiple platforms and devices. \\nFailing to attract and retain a substantial number of new device manufacturers, suppliers, distributors, developers, and \\nusers, or failing to develop products and technologies that work well on new devices and platforms, could harm our \\nbusiness, financial condition, and operating results and ability to capture future business opportunities. \\nIssues in the development and use of AI may result in reputational harm and increased liability exposure. \\nOur evolving AI-related efforts may give rise to risks related to harmful content, inaccuracies, discrimination, \\nintellectual property infringement or misappropriation, defamation, data privacy, cybersecurity, and other issues . As a \\nresult of these and other challenges associated with innovative technologies, our implementation of AI systems could \\nsubject us to competitive harm, regulatory action, legal liability (including under new and proposed legislation and \\nregulations), new applications of existing data protection, privacy, intellectual property, and other laws, and brand or \\nreputational harm. \\nSome uses of AI will present ethical issues and may have broad effects on society. In order to implement A I \\nresponsibly and minimize unintended harmful effects, we have already devoted and will continue to invest significant  \\nresources to develop, test, and maintain our products and services, but we may not be able to identify or resolve all AI-\\nrelated issues, deficiencies, and/or failures before they arise. Unintended consequences, uses, or customization of our \\nAI tools and systems may negatively affect human rights, privacy, employment, or other social concerns, which may \\nresult in claims, lawsuits, brand or reputational harm, and increased regulatory scrutiny, any of which could harm our \\nbusiness, financial condition, and operating results.\\nData privacy  and security concerns relating to our technology and our practices could harm our \\nreputation, cause us to incur significant liability, and deter current and potential users or customers from \\nusing our products and services. Computer viruses, software bugs or defects, security breaches, and attacks \\non our systems could result in the improper disclosure and use of user data and interference with our users\\u2019. efforts to protect the security and integrity of our platform;\\n\\u2022we adopt terms, policies, or procedures related to areas such as sharing, content, user data, or advertising, or we take, or fail to take, actions to enforce\\nour policies, that are perceived negatively by our users or the general public, including as a result of decisions or recommendations from the\\nindependent Oversight Board regarding content on our platform;\\n\\u2022we elect to focus our product decisions on longer-term initiatives that do not prioritize near-term user growth and engagement (for example, we have\\nannounced plans to focus product decisions on optimizing the young adult experience in the long term);\\n\\u2022we make changes in our user account login or registration processes or changes in how we promote different products and services across our family\\nof products;\\n\\u2022initiatives designed to attract and retain users and engagement, including the use of evolving technologies such as generative artificial intelligence, are\\nunsuccessful or discontinued, whether as a result of actions by us, our competitors, or other third parties, or otherwise;\\n17. Table of Contents\\nIf our new products or changes to existing products fail to engage users, marketers, or developers, or if our business plans are unsuccessful, we may fail\\nto attract or retain users or to generate sufficient revenue, operating margin, or other value to justify our investments, and our business may be adversely\\naffected.\\nWe may not be successful in our artificial intelligence initiatives, which could adversely affect our business, reputation, or financial results.\\nWe are making significant investments in AI initiatives, including generative AI, to, among other things, recommend relevant content across our\\nproducts, enhance our advertising tools, develop new products, and develop new features for existing products. In particular, we expect our AI initiatives will\\nrequire increased investment in infrastructure and headcount.\\nThere are significant risks involved in developing and deploying AI and there can be no assurance that the usage of AI will enhance our products or\\nservices or be beneficial to our business, including our efficiency or profitability. For example, our AI-related efforts, particularly those related to generative AI,\\nsubject us to risks related to harmful or illegal content, accuracy, misinformation (including related to elections), bias, discrimination, toxicity, intellectual\\nproperty infringement or misappropriation, defamation, data privacy, cybersecurity, and sanctions and export controls, among others. It is also uncertain how\\nvarious laws related to online services, intermediary liability, and other issues will apply to content generated by AI. In addition, we are subject to the risks of\\nnew or enhanced governmental or regulatory scrutiny, litigation, or other legal liability, ethical concerns, negative consumer perceptions as to automation and\\nAI, activities that threaten people's safety or well-being on- or offline, or other complications that could adversely affect our business, reputation, or financial\\nresults.\\nAs a result of the complexity and rapid development of AI, it is also the subject of evolving review by various governmental and regulatory agencies in\\njurisdictions around the world, which are applying, or are considering applying, platform moderation, intellectual property, cybersecurity, and data protection\\nlaws to AI and/or are considering general legal frameworks on AI. We may not always be able to anticipate how courts and regulators will apply existing laws\\nto AI, predict how new legal frameworks will develop to address AI, or otherwise respond to these frameworks as they are still rapidly evolving. We may also\\nhave to expend resources to adjust our offerings in certain jurisdictions if the legal frameworks on AI are not consistent across jurisdictions.\",\n          \"of our key businesses. The segments enable the alignment of strategies and objectives across the development, sales, \\nmarketing, and services organizations, and they provide a framework for timely and rational allocation of resources within \\nbusinesses.  \\nAdditional information on our operating segments and geographic and product information is contained in Note 19 \\u2013 \\nSegment Information and Geographic Data of the Notes to Financial Statements.  \\nOur reportable segments are described below.  \\nProductivity and Bus iness Processes  \\nOur Productivity and Business Processes segment consists of products and services in our portfolio of productivity, \\ncommunication, and information services, spanning a variety of devices and platforms. This segment primarily comprises:  \\n\\u2022 Office Commercial (Office 365 subscriptions, the Office 365 portion of Microsoft 365 Commercial subscriptions, \\nand Office licensed on -premises), comprising Office, Exchange, SharePoint, Microsoft Teams, Office 365 \\nSecurity and Compliance, Microsoft Viva, a nd Microsoft 365 Copilot.  \\n\\u2022 Office Consumer, including Microsoft 365 Consumer subscriptions, Office licensed on -premises, and other \\nOffice services.  \\n\\u2022 LinkedIn, including Talent Solutions, Marketing Solutions, Premium Subscriptions, and Sales Solutions.. 75 Revenue and costs are generally directly attributed to our segments. However, due to the integrated structure of our \\nbusiness, certain revenue recognized and costs incurred by one segment may benefit other segments. Revenue from \\ncertain contracts is allocated amon g the segments based on the relative value of the underlying products and services, \\nwhich can include allocation based on actual prices charged, prices when sold separately, or estimated costs plus a profit \\nmargin. Cost of revenue is allocated in certain c ases based on a relative revenue methodology. Operating expenses that \\nare allocated primarily include those relating to marketing of products and services from which multiple segments benefit \\nand are generally allocated based on relative gross margin.  \\nIn addition, certain costs are incurred at a corporate level and allocated to our segments. These allocated costs generally \\ninclude legal, including settlements and fines, information technology, human resources, finance, excise taxes, field selling , \\nshared f acilities services, customer service and support, and severance incurred as part of a corporate program. Each \\nallocation is measured differently based on the specific facts and circumstances of the costs being allocated and is generall y \\nbased on relative g ross margin or relative headcount.  \\nSegment revenue and operating income were as follows during the periods presented:  \\n  \\n(In millions)          \\n        \\nYear Ended June  30, 2023  2022  2021  \\n        \\nRevenue        \\n        \\nProductivity and Business Processes  $ 69,274   $ 63,364   $ 53,915   \\nIntelligent Cloud   87,907    74,965    59,728   \\nMore Personal Computing   54,734    59,941    54,445         \\nTotal  $  211,915   $  198,270   $  168,088           \\n  \\nOperating Income  \\n        \\nProductivity and Business Processes  $ 34,189   $ 29,690   $ 24,351   \\nIntelligent Cloud   37,884    33,203    26,471   \\nMore Personal Computing   16,450    20,490    19,094         \\nTotal  $ 88,523   $ 83,383   $ 69,916. 74 subject to certain limitations. We match a portion of each dollar a participant contributes into the plans. Employer -funded \\nretirement benef its for all plans were $1.6  billion, $1.4  billion, and $1.2  billion in fiscal years 2023, 2022, and 2021, \\nrespectively, and were expensed as contributed.  \\nNOTE 19  \\u2014 SEGMENT INFORMATION AND GEOGRAPHIC DATA  \\nIn its operation of the business, management, incl uding our chief operating decision maker, who is also our Chief Executive \\nOfficer, reviews certain financial information, including segmented internal profit and loss statements prepared on a basis \\nnot consistent with GAAP. During the periods presented, we  reported our financial performance based on the following \\nsegments: Productivity and Business Processes, Intelligent Cloud, and More Personal Computing.  \\nWe have recast certain prior period amounts to conform to the way we internally manage and monitor ou r business.  \\nOur reportable segments are described below.  \\nProductivity and Business Processes  \\nOur Productivity and Business Processes segment consists of products and services in our portfolio of productivity, \\ncommunication, and information services, spa nning a variety of devices and platforms. This segment primarily comprises:  \\n\\u2022 Office Commercial (Office 365 subscriptions, the Office 365 portion of Microsoft 365 Commercial subscriptions, \\nand Office licensed on -premises), comprising Office, Exchange, Sha rePoint, Microsoft Teams, Office 365 \\nSecurity and Compliance, Microsoft Viva, and Microsoft 365 Copilot.  \\n\\u2022 Office Consumer, including Microsoft 365 Consumer subscriptions, Office licensed on -premises, and other \\nOffice services.  \\n\\u2022 LinkedIn, including Tale nt Solutions, Marketing Solutions, Premium Subscriptions, and Sales Solutions.  \\n\\u2022 Dynamics business solutions, including Dynamics 365, comprising a set of intelligent, cloud -based applications \\nacross ERP, CRM (including Customer Insights), Power Apps, and Power Automate; and on -premises ERP \\nand CRM applications.  \\nIntelligent Cloud  \\nOur Intelligent Cloud segment consists of our public, private, and hybrid server products and cloud services that can power \\nmodern business and developers. This segment primarily comprises:  \\n\\u2022 Server products and cloud services, including Azure and other c loud services; SQL Server, Windows Server,. 29 Additional information on our reportable segments is contained in Note 19 \\u2013 Segment Information and Geographic Data of \\nthe Notes to  Financial Statements.  \\nMetrics  \\nWe use metrics in assessing the performance of our business and to make informed decisions regarding the allocation of \\nresources. We disclose metrics to enable investors to evaluate progress against our ambitions, provide t ransparency into \\nperformance trends, and reflect the continued evolution of our products and services. Our commercial and other business \\nmetrics are fundamentally connected based on how customers use our products and services. The metrics are disclosed in \\nthe MD&A or the Notes to Financial Statements. Financial metrics are calculated based on financial results prepared in \\naccordance with accounting principles generally accepted in the United States of America (\\u201cGAAP\\u201d), and growth \\ncomparisons relate to the c orresponding period of last fiscal year.  \\nIn the first quarter of fiscal year 2023, we made updates to the presentation and method of calculation for certain metrics, \\nmost notably expanding our Surface metric into a broader Devices metric to incorporate ad ditional revenue streams, along \\nwith other minor changes to align with how we manage our businesses.  \\nCommercial  \\nOur commercial business primarily consists of Server products and cloud services, Office Commercial, Windows \\nCommercial, the commercial portio n of LinkedIn, Enterprise Services, and Dynamics. Our commercial metrics allow \\nmanagement and investors to assess the overall health of our commercial business and include leading indicators of future \\nperformance.  \\n  \\nCommercial remaining performance obliga tion Commercial portion of revenue allocated to remaining \\nperformance obligations, which includes unearned revenue \\nand amounts that will be invoiced and recognized as \\nrevenue in future periods  \\n    \\nMicrosoft Cloud revenue  Revenue from Azure and other cloud services, Office 365 \\nCommercial, the commercial portion of LinkedIn, Dynamics \\n365, and other commercial cloud properties  \\n    \\nMicrosoft Cloud gross margin percentage  Gross margin percentage for our Microsoft Cloud business  \\n  \\nProductivity and Business Processes and Intelligent Cloud  \\nMetrics related to our Productivity and Business Processes and Intelligent Cloud segments assess the health of our core \\nbusinesses within these segments. The metrics reflect our cloud and on -premis es product strategies and trends.  \\n  \\nOffice Commercial products and cloud services revenue \\ngrowth  Revenue from Office Commercial products and cloud \\nservices (Office 365 subscriptions, the Office 365 portion of. Table of Contents\\nNote 16. Segment and Geographical Information\\nWe report our financial results for our two reportable segments: Family of Apps (FoA) and Reality Labs (RL). FoA includes Facebook, Instagram,\\nMessenger, WhatsApp, and other services. RL includes our augmented, mixed and virtual reality related consumer hardware, software, and content. Our\\noperating segments are the same as our reportable segments.\\nOur chief executive officer is our chief operating decision maker (CODM), who allocates resources to and assesses the performance of each operating\\nsegment using information about the operating segment's revenue and income (loss) from operations. Our CODM does not evaluate operating segments using\\nasset or liability information.\\nRevenue and costs and expenses are generally directly attributed to our segments. These costs and expenses include certain product development related\\noperating expenses, costs associated with partnership arrangements, consumer hardware product costs, content costs, legal-related costs, and severance costs.\\nIndirect costs are allocated to segments based on a reasonable allocation methodology, when such costs are significant to the performance measures of the\\noperating segments. Indirect cost of revenue is allocated to our segments based on usage, such as costs related to the operation of our data centers and technical\\ninfrastructure. Indirect operating expenses, such as facilities, information technology, certain shared research and development activities, recruiting, physical\\nsecurity expenses, and certain restructuring costs, are mostly allocated based on headcount.\\nThe following table sets forth our segment information of revenue and income (loss) from operations (in millions):\\n Year Ended December 31, \\n 2023 2022 2021\\nRevenue:\\nFamily of Apps $ 133,006 $ 114,450 $ 115,655 \\nReality Labs 1,896 2,159 2,274 \\nTotal revenue $ 134,902 $ 116,609 $ 117,929 \\nIncome (loss) from operations:\\nFamily of Apps $ 62,871 $ 42,661 $ 56,946 \\nReality Labs (16,120) (13,717) (10,193)\\nTotal income from operations $ 46,751 $ 28,944 $ 46,753 \\nFor information regarding revenue disaggregated by geography, see Note 2 \\u2014 Revenue.\\nThe following table sets forth our long-lived assets by geographic area, which consist of property and equipment, net and operating lease right-of-use\",\n          \"Table of Contents\\nItem 1A.Risk Factors\\nCertain factors may have a material adverse effect on our business, financial condition, and results of operations. You should consider carefully the risks and\\nuncertainties described below, in addition to other information contained in this Annual Report on Form 10-K, including our consolidated financial statements\\nand related notes. The risks and uncertainties described below are not the only ones we face. Additional risks and uncertainties that we are unaware of, or that\\nwe currently believe are not material, may also become important factors that adversely affect our business. If any of the following risks actually occurs, our\\nbusiness, financial condition, results of operations, and future prospects could be materially and adversely affected. In that event, the trading price of our\\nClass A common stock could decline, and you could lose part or all of your investment.\\nSummary Risk Factors\\nOur business is subject to a number of risks, including risks that may prevent us from achieving our business objectives or may adversely affect our\\nbusiness, financial condition, results of operations, cash flows, and prospects. These risks are discussed more fully below and include, but are not limited to,\\nrisks related to:\\nRisks Related to Our Product Offerings\\n\\u2022our ability to add and retain users and maintain levels of user engagement with our products;\\n\\u2022the loss of, or reduction in spending by, our marketers;\\n\\u2022reduced availability of data signals used by our ad targeting and measurement tools;\\n\\u2022ineffective operation with mobile operating systems or changes in our relationships with mobile operating system partners;\\n\\u2022failure of our new products, or changes to our existing products, to attract or retain users or generate revenue;\\nRisks Related to Our Business Operations and Financial Results\\n\\u2022our ability to compete effectively;\\n\\u2022fluctuations in our financial results;\\n\\u2022unfavorable media coverage and other risks affecting our ability to maintain and enhance our brands;\\n\\u2022our ability to build, maintain, and scale our technical infrastructure, and risks associated with disruptions in our service, catastrophic events, and\\ncrises;\\n\\u2022operating our business in multiple countries around the world;\\n\\u2022acquisitions and our ability to successfully integrate our acquisitions;\\n\\u2022litigation, including class action lawsuits;\\nRisks Related to Government Regulation and Enforcement\\n\\u2022government restrictions on access to Facebook or our other products, or other actions that impair our ability to sell advertising, in their countries;. partnerships around strategic initiatives .\\n\\u2022We continue to face an evolving regulatory environment, and we are subject to claims, lawsuits, \\ninvestigations, and other forms of potential legal liability, which could affect our business practices and \\nfinancial results.\\nChanges in social, political, economic, tax, and regulatory conditions or in laws  and policies governing a wide \\nrange of topics and related legal matters, including investigations, lawsuits, and regulatory actions, have resulted in \\nfines and caused us to change our business practices . As these global trends continue, our cost of doing business may \\nincrease, our ability to pursue certain business models or offer certain products or services may be limited, and we \\nmay need to change our business practices to comply with evolving regulatory and legal matters . Examples include t he \\nantitrust complaints filed by  the U.S. Department of Justice and a number of state Attorneys General; legislative \\nproposals and pending litigation in the U.S., EU, and around the world that could diminish or eliminate safe harbor \\nprotection for websites and online platforms; and the Digital Markets Act and Digital Services Act in Europe and various \\nlegislative proposals in the U.S. focused on large technology platforms. For additional information, see Item 1A Risk \\nFactors and Legal Matters in Note 10  of the Notes to Consolidated Financial Statements included in Part II, Item 8 of \\nthis Annual Report on Form 10-K.\\n\\u2022Our employees are critical to our success and we expect to continue investing in them.\\nOur employees are among our best assets  and are critical for our continued success. We expect to continue \\nhiring talented employees around the globe and to provide competitive compensation programs. For additional \\ninformation, see Culture and Workforce in Part I, Item 1 Business of this Annual Report on Form 10-K.\\nRevenues and Monetization Metrics\\nWe generate revenues by delivering relevant, cost-effective online advertising; cloud-based solutions that provide \\nenterprise customers of all sizes with infrastructure and platform services as well as communication and collaboration \\ntools; sales of other products and services, such as apps and in-app purchases, and devices; and fees received for \\nconsumer subscription-based products. For additional information on how we recognize revenue, see Note 1  of the \\nNotes to Consolidated Financial Statements included in Item 8 of this Annual Report on Form 10-K.. downward pressure on our operating margins from increasing regulations, increasing competition, and increasing costs \\nfor many aspects of our business. Further, certain of our costs and expenses are generally less variable in nature and \\nmay not correlate to changes in revenue. W e may  also not be able to execute our efforts to re-engineer our cost base \\nsuccessfully or in a timely manner. Due to these factors and the evolving nature of our business, our historical revenue \\ngrowth rate and historical operating margin may not be indicative of our future performance. For additional information, \\nsee Trends in Our Business and Financial Effect and Revenues and Monetization Metrics in Part II, Item 7 of this \\nAnnual Report on Form 10-K. \\nOur intellectual property rights are valuable, and any inability to protect them could reduce the value of \\nour products, services, and brands as well as affect our ability to compete. \\nOur patents, trademarks, trade secrets, copyrights, and other intellectual property rights are important assets for \\nus. Various events outside of our control pose a threat to our intellectual property rights, as well as to our products, \\nservices, and technologies. For example, effective intellectual property protection may not be available in every country \\nin which our products and services are distributed or made available through the Internet. Also, the efforts we have \\ntaken to protect our proprietary rights may not be sufficient or effective. Although we seek to obtain patent protection \\nfor our innovations, it is possible we may not be able to protect some of these innovations. Moreover, we may not have \\nadequate patent or copyright protection for certain innovations that later turn out to be important. There is always the \\npossibility that the scope of the protection gained will be insufficient or that an issued patent may be deemed invalid or \\nunenforceable. \\nWe also seek to maintain certain intellectual property as trade secrets. The secrecy of such trade secrets and \\nother sensitive information could be compromised, which could cause us to lose the competitive advantage resulting \\nfrom these trade secrets. We also face risks associated with our trademarks. For example, there is a risk that the word \\n\\u201cGoogle\\u201d could become so commonly used that it becomes synonymous with the word \\u201csearch.\\u201d Some courts have \\nruled that \\\"Google\\\" is a protectable trademark, but it is possible that other courts, particularly those outside of the U.S.,. ITEM 1A. RISK FACTORS\\nOur operations and financial results are subject to various risks and uncertainties, including but not limited to \\nthose described below, which could harm our business, reputation, financial condition, and operating results, and affect \\nthe trading price of our Class A and Class C stock.\\nRisks Specific to our Company\\nWe generate a significant portion of our revenues from advertising. Reduced spending by advertisers, a \\nloss of partners, or new and existing technologies that block ads online and/or affect our ability to customize \\nads could harm our business. \\nWe generated more than 75% of total  revenues from online advertising in 2023. Many of our advertisers, \\ncompanies that distribute our products and services, digital publishers, and content providers can terminate their \\ncontracts with us at any time. These partners may not continue to do business with us if we do not create more value \\n(such as increased numbers of users or customers, new sales leads, increased brand awareness, or more effective \\nmonetization) than their available alternatives. Changes to our advertising policies and data privacy practice s, such as \\nour initiatives to phase out third-party cookies,  as well as changes to other companies\\u2019 advertising and/or data privacy \\npractices have in the past, and may in the future, affect the advertising that we are able to provide. In addition, \\ntechnologies have been developed that make customized ads more difficult, or that block the display of ads altogether, \\nand some providers of online services have integrated these technologies that could potentially impair the availability \\nand functionality of third-party digital advertising. Failing to provide superior value or deliver advertisements effectively \\nand competitively could harm our business, reputation, financial condition, and operating results. \\nIn addition, expenditures by advertisers tend to correlate with overall economic conditions. Adverse \\nmacroeconomic conditions have affected, and may in the future affect, the demand for advertising, resulting in \\nfluctuations in the amounts our advertisers spend on advertising, which could harm our financial condition and \\noperating results. \\nWe face intense competition. If we do not continue to innovate and provide products and services that \\nare useful to users, customers, and other partners, we may not remain competitive, which could harm our \\nbusiness, financial condition, and operating results. \\nOur business environment is rapidly evolving and intensely competitive. Our businesses face changing. Table of Contents\\nItem 7. Management\\u2019s Discussion and Analysis of Financial Condition and Results of Operations\\nForward-Looking Statements\\nThis Annual Report on Form 10-K includes forward-looking statements within the meaning of the Private Securities Litigation Reform Act of 1995. All\\nstatements other than statements of historical fact, including statements regarding guidance, industry prospects, or future results of operations or financial\\nposition, made in this Annual Report on Form 10-K are forward-looking. We use words such as anticipates, believes, expects, future, intends, and similar\\nexpressions to identify forward-looking statements. Forward-looking statements reflect management\\u2019s current expectations and are inherently uncertain. Actual\\nresults and outcomes could differ materially for a variety of reasons, including, among others, fluctuations in foreign exchange rates, changes in global\\neconomic conditions and customer demand and spending, inflation, interest rates, regional labor market and global supply chain constraints, world events, the\\nrate of growth of the Internet, online commerce, and cloud services, the amount that Amazon.com invests in new business opportunities and the timing of those\\ninvestments, the mix of products and services sold to customers, the mix of net sales derived from products as compared with services, the extent to which we\\nowe income or other taxes, competition, management of growth, potential fluctuations in operating results, international growth and expansion, the outcomes\\nof claims, litigation, government investigations, and other proceedings, fulfillment, sortation, delivery, and data center optimization, risks of inventory\\nmanagement, variability in demand, the degree to which we enter into, maintain, and develop commercial agreements, proposed and completed acquisitions\\nand strategic transactions, payments risks, and risks of fulfillment throughput and productivity. In addition, global economic and geopolitical conditions and\\nadditional or unforeseen circumstances, developments, or events may give rise to or amplify many of these risks. These risks and uncertainties, as well as other\\nrisks and uncertainties that could cause our actual results or outcomes to differ significantly from management\\u2019s expectations, are described in greater detail in\\nItem 1A of Part I, \\u201cRisk Factors.\\u201d\\nOverview\\nOur primary source of revenue is the sale of a wide range of products and services to customers. The products offered through our stores include\\nmerchandise and content we have purchased for resale and products offered by third-party sellers, and we also manufacture and sell electronic devices and\"\n        ],\n        \"semantic_type\": \"\",\n        \"description\": \"\"\n      }\n    },\n    {\n      \"column\": \"groundedness_evaluation\",\n      \"properties\": {\n        \"dtype\": \"string\",\n        \"num_unique_values\": 3,\n        \"samples\": [\n          \" Steps to evaluate the answer:\\n\\n1. Identify the main points in the answer related to the company's policies and frameworks regarding AI ethics, governance, and responsible AI use.\\n2. Check if these main points are present in the context.\\n3. Verify if the answer provides information solely based on the context.\\n\\nStep-by-step explanation:\\n\\n1. The main points in the answer are:\\n   - The company's commitment to responsible AI.\\n   - Development of implementation processes, tools, training, and practices for compliance.\\n   - Enabling customers and partners to develop and deploy AI safely.\\n   - Working with industry leaders, civil society, and governments for AI regulations and governance.\\n   - The release of the Governing AI Blueprint and being signatories to the US White House commitments.\\n   - Making AI technology available to third-parties and not controlling their practices.\\n\\n2. These main points are all present in the context:\\n   - The company's commitment to responsible AI is mentioned in the context.\\n   - Development of implementation processes, tools, training, and practices for compliance is mentioned.\\n   - Enabling customers and partners to develop and deploy AI safely is mentioned in the context.\\n   - Working with industry leaders, civil society, and governments for AI regulations and governance is mentioned.\\n   - The release of the Governing AI Blueprint and being signatories to the US White House commitments are mentioned.\\n   - Making AI technology available to third-parties is mentioned in the context.\\n\\n3. The answer does not provide any information from external sources and is solely based on the context.\\n\\nEvaluation:\\nThe metric is followed completely. The answer is derived only from the information presented in the context, and all the main points in the answer are present in the context.\\n\\nScore: 5\",\n          \" Steps to evaluate the answer:\\n1. Identify the primary business segments mentioned in the answer.\\n2. Check if the contribution of each segment to the overall revenue and operating income is correct.\\n3. Verify if the revenue and operating income figures are consistent with the context.\\n\\nStep-by-step explanation:\\n\\n1. The primary business segments mentioned in the answer are Productivity and Business Processes, Intelligent Cloud, and More Personal Computing. These segments are consistent with the context.\\n2. The contribution of each segment to the overall revenue and operating income is correct. The answer states that Productivity and Business Processes contributed $69,274 million to the overall revenue, with an operating income of $34,189 million. The Intelligent Cloud segment contributed $87,907 million to the overall revenue, with an operating income of $37,884 million. The More Personal Computing segment contributed $54,734 million to the overall revenue, with an operating income of $16,450 million. These figures are consistent with the context.\\n\\nExtent to which the metric is followed:\\nThe metric is followed completely, as the answer is derived only from the information presented in the context.\\n\\nAnswer rating:\\n5 (The metric is followed completely)\",\n          \" 1. First, read through the question, context, and answer thoroughly to understand the input.\\n2. Identify the key components of the metric: the answer should be derived only from the information presented in the context.\\n3. Check if the answer is derived from the context by comparing the information presented in the answer and the context.\\n4. In this case, the answer \\\"The key risk factors identified in the 10-K report include those related to product offerings, business operations and financial results, government regulation and enforcement, intellectual property rights, and competition.\\\" can be found in the context, specifically in the \\\"Summary Risk Factors\\\" section.\\n5. Therefore, the answer adheres to the metric of being derived only from the information presented in the context.\\n6. The metric is followed completely.\\n7. Score: 5.\"\n        ],\n        \"semantic_type\": \"\",\n        \"description\": \"\"\n      }\n    },\n    {\n      \"column\": \"relevance_evaluation\",\n      \"properties\": {\n        \"dtype\": \"string\",\n        \"num_unique_values\": 3,\n        \"samples\": [\n          \" 1. To evaluate the context as per the relevance metric, the following steps can be taken:\\n\\na. Identify the main aspects of the question, which in this case are the company's policies and frameworks regarding AI ethics, governance, and responsible AI use.\\n\\nb. Analyze the context to determine if it addresses these main aspects.\\n\\nc. Evaluate if the context only contains information relevant to the question and does not stray off-topic.\\n\\n2. Applying these steps to the given context, the following can be observed:\\n\\na. The main aspects of the question are the company's policies and frameworks regarding AI ethics, governance, and responsible AI use.\\n\\nb. The context does address these main aspects by mentioning the company's commitment to responsible AI, their development of implementation processes, tools, training, and practices to support compliance, and their advocacy for AI regulations and governance globally. The context also mentions the Governing AI Blueprint and their voluntary commitments developed with the US White House.\\n\\nc. The context does not stray off-topic and only contains information relevant to the question.\\n\\n3. Based on the above analysis, the context adheres to the relevance metric to a good extent.\\n\\n4. Therefore, the context can be rated as follows:\\n\\n1 - The metric is not followed at all\\n2 - The metric is followed only to a limited extent\\n3 - The metric is followed to a good extent\\n4 - The metric is followed mostly\\n5 - The metric is followed completely\\n\\nRating: 3 - The metric is followed to a good extent.\",\n          \" 1. The steps to evaluate the context as per the relevance metric would be:\\n   a. Identify the primary aspects of the question, which are the primary business segments of the company and their contribution to overall revenue and profitability.\\n   b. Analyze the context to determine if it provides information about the primary business segments and their contribution to overall revenue and profitability.\\n   c. Evaluate if the context only contains information about the primary business segments and their contribution to overall revenue and profitability, or if it includes additional, irrelevant information.\\n\\n2. The context provides information about the primary business segments of the company and their contribution to overall revenue and profitability, as it lists the reportable segments and their revenue and operating income for the years 2023, 2022, and 2\",\n          \" 1. To evaluate the context as per the relevance metric, follow the steps below:\\n\\na. Identify the question's main aspects: In this case, the main aspects of the question are the key risk factors that could impact the company's business operations and financial performance.\\n\\nb. Analyze the context to determine if it addresses the main aspects of the question: In this context, the \\\"Summary Risk Factors\\\" section lists several risks related to the company's product offerings, business operations, financial results, government regulation, and employee base.\\n\\nc. Evaluate if the context contains all and only the important aspects of the answer: The context provides a comprehensive list of risk factors that could impact the company's business operations and financial performance, making it relevant to the question.\\n\\n2. Step-by-step explanation of the context adhering to the metric:\\n\\na. Identify the question's main aspects: The main aspects of the question are the key risk factors that could impact the company's business operations and financial performance.\\n\\nb. Analyze the context: The context starts with a clear statement that the company is subject to various risks and uncertainties, and proceeds to list several risks related to the company's product offerings, business operations, financial results, government regulation, and employee base.\\n\\nc. Evaluate the context: The context provided is relevant to the question, as it addresses all the main aspects of the question by listing various risk factors that could impact the company's business operations and financial performance.\\n\\n3. Extent to which the metric is followed: The context follows the relevance metric completely, as it addresses all the main aspects of the question and provides a comprehensive list of risk factors that could impact the company's business operations and financial performance.\\n\\n4. Assign a score: Since the context follows the relevance metric completely, a score of 5 is assigned.\"\n        ],\n        \"semantic_type\": \"\",\n        \"description\": \"\"\n      }\n    }\n  ]\n}"
            }
          },
          "metadata": {},
          "execution_count": 57
        }
      ]
    },
    {
      "cell_type": "code",
      "source": [
        "# Your Dataframe should have 15 rows - 3 queries for each of 5 companies - 3*5 = 15\n",
        "# Show the top 10 rows of the dataframe\n",
        "df.head(10)"
      ],
      "metadata": {
        "id": "RDtcGJMTsZ1E",
        "colab": {
          "base_uri": "https://localhost:8080/",
          "height": 230
        },
        "outputId": "3c668f1f-c556-4b04-b095-0a2c71a414db"
      },
      "execution_count": null,
      "outputs": [
        {
          "output_type": "execute_result",
          "data": {
            "text/plain": [
              "                                               query  \\\n",
              "0  What are the company’s policies and frameworks...   \n",
              "1  What are the primary business segments of the ...   \n",
              "2  What are the key risk factors identified in th...   \n",
              "\n",
              "                                            response  \\\n",
              "0  Answer:\\nThe company has a commitment to respo...   \n",
              "1  Answer:\\nThe primary business segments of the ...   \n",
              "2  Answer:\\nThe key risk factors identified in the 1   \n",
              "\n",
              "                                             context  \\\n",
              "0  5 to launch a Generative AI Skills Grant Chall...   \n",
              "1  of our key businesses. The segments enable the...   \n",
              "2  Table of Contents\\nItem 1A.Risk Factors\\nCerta...   \n",
              "\n",
              "                             groundedness_evaluation  \\\n",
              "0   Steps to evaluate the answer:\\n\\n1. Identify ...   \n",
              "1   Steps to evaluate the answer:\\n1. Identify th...   \n",
              "2   1. First, read through the question, context,...   \n",
              "\n",
              "                                relevance_evaluation  \n",
              "0   1. To evaluate the context as per the relevan...  \n",
              "1   1. The steps to evaluate the context as per t...  \n",
              "2   1. To evaluate the context as per the relevan...  "
            ],
            "text/html": [
              "\n",
              "  <div id=\"df-fb44723a-6527-449b-8be2-f403c0bf3198\" class=\"colab-df-container\">\n",
              "    <div>\n",
              "<style scoped>\n",
              "    .dataframe tbody tr th:only-of-type {\n",
              "        vertical-align: middle;\n",
              "    }\n",
              "\n",
              "    .dataframe tbody tr th {\n",
              "        vertical-align: top;\n",
              "    }\n",
              "\n",
              "    .dataframe thead th {\n",
              "        text-align: right;\n",
              "    }\n",
              "</style>\n",
              "<table border=\"1\" class=\"dataframe\">\n",
              "  <thead>\n",
              "    <tr style=\"text-align: right;\">\n",
              "      <th></th>\n",
              "      <th>query</th>\n",
              "      <th>response</th>\n",
              "      <th>context</th>\n",
              "      <th>groundedness_evaluation</th>\n",
              "      <th>relevance_evaluation</th>\n",
              "    </tr>\n",
              "  </thead>\n",
              "  <tbody>\n",
              "    <tr>\n",
              "      <th>0</th>\n",
              "      <td>What are the company’s policies and frameworks...</td>\n",
              "      <td>Answer:\\nThe company has a commitment to respo...</td>\n",
              "      <td>5 to launch a Generative AI Skills Grant Chall...</td>\n",
              "      <td>Steps to evaluate the answer:\\n\\n1. Identify ...</td>\n",
              "      <td>1. To evaluate the context as per the relevan...</td>\n",
              "    </tr>\n",
              "    <tr>\n",
              "      <th>1</th>\n",
              "      <td>What are the primary business segments of the ...</td>\n",
              "      <td>Answer:\\nThe primary business segments of the ...</td>\n",
              "      <td>of our key businesses. The segments enable the...</td>\n",
              "      <td>Steps to evaluate the answer:\\n1. Identify th...</td>\n",
              "      <td>1. The steps to evaluate the context as per t...</td>\n",
              "    </tr>\n",
              "    <tr>\n",
              "      <th>2</th>\n",
              "      <td>What are the key risk factors identified in th...</td>\n",
              "      <td>Answer:\\nThe key risk factors identified in the 1</td>\n",
              "      <td>Table of Contents\\nItem 1A.Risk Factors\\nCerta...</td>\n",
              "      <td>1. First, read through the question, context,...</td>\n",
              "      <td>1. To evaluate the context as per the relevan...</td>\n",
              "    </tr>\n",
              "  </tbody>\n",
              "</table>\n",
              "</div>\n",
              "    <div class=\"colab-df-buttons\">\n",
              "\n",
              "  <div class=\"colab-df-container\">\n",
              "    <button class=\"colab-df-convert\" onclick=\"convertToInteractive('df-fb44723a-6527-449b-8be2-f403c0bf3198')\"\n",
              "            title=\"Convert this dataframe to an interactive table.\"\n",
              "            style=\"display:none;\">\n",
              "\n",
              "  <svg xmlns=\"http://www.w3.org/2000/svg\" height=\"24px\" viewBox=\"0 -960 960 960\">\n",
              "    <path d=\"M120-120v-720h720v720H120Zm60-500h600v-160H180v160Zm220 220h160v-160H400v160Zm0 220h160v-160H400v160ZM180-400h160v-160H180v160Zm440 0h160v-160H620v160ZM180-180h160v-160H180v160Zm440 0h160v-160H620v160Z\"/>\n",
              "  </svg>\n",
              "    </button>\n",
              "\n",
              "  <style>\n",
              "    .colab-df-container {\n",
              "      display:flex;\n",
              "      gap: 12px;\n",
              "    }\n",
              "\n",
              "    .colab-df-convert {\n",
              "      background-color: #E8F0FE;\n",
              "      border: none;\n",
              "      border-radius: 50%;\n",
              "      cursor: pointer;\n",
              "      display: none;\n",
              "      fill: #1967D2;\n",
              "      height: 32px;\n",
              "      padding: 0 0 0 0;\n",
              "      width: 32px;\n",
              "    }\n",
              "\n",
              "    .colab-df-convert:hover {\n",
              "      background-color: #E2EBFA;\n",
              "      box-shadow: 0px 1px 2px rgba(60, 64, 67, 0.3), 0px 1px 3px 1px rgba(60, 64, 67, 0.15);\n",
              "      fill: #174EA6;\n",
              "    }\n",
              "\n",
              "    .colab-df-buttons div {\n",
              "      margin-bottom: 4px;\n",
              "    }\n",
              "\n",
              "    [theme=dark] .colab-df-convert {\n",
              "      background-color: #3B4455;\n",
              "      fill: #D2E3FC;\n",
              "    }\n",
              "\n",
              "    [theme=dark] .colab-df-convert:hover {\n",
              "      background-color: #434B5C;\n",
              "      box-shadow: 0px 1px 3px 1px rgba(0, 0, 0, 0.15);\n",
              "      filter: drop-shadow(0px 1px 2px rgba(0, 0, 0, 0.3));\n",
              "      fill: #FFFFFF;\n",
              "    }\n",
              "  </style>\n",
              "\n",
              "    <script>\n",
              "      const buttonEl =\n",
              "        document.querySelector('#df-fb44723a-6527-449b-8be2-f403c0bf3198 button.colab-df-convert');\n",
              "      buttonEl.style.display =\n",
              "        google.colab.kernel.accessAllowed ? 'block' : 'none';\n",
              "\n",
              "      async function convertToInteractive(key) {\n",
              "        const element = document.querySelector('#df-fb44723a-6527-449b-8be2-f403c0bf3198');\n",
              "        const dataTable =\n",
              "          await google.colab.kernel.invokeFunction('convertToInteractive',\n",
              "                                                    [key], {});\n",
              "        if (!dataTable) return;\n",
              "\n",
              "        const docLinkHtml = 'Like what you see? Visit the ' +\n",
              "          '<a target=\"_blank\" href=https://colab.research.google.com/notebooks/data_table.ipynb>data table notebook</a>'\n",
              "          + ' to learn more about interactive tables.';\n",
              "        element.innerHTML = '';\n",
              "        dataTable['output_type'] = 'display_data';\n",
              "        await google.colab.output.renderOutput(dataTable, element);\n",
              "        const docLink = document.createElement('div');\n",
              "        docLink.innerHTML = docLinkHtml;\n",
              "        element.appendChild(docLink);\n",
              "      }\n",
              "    </script>\n",
              "  </div>\n",
              "\n",
              "\n",
              "<div id=\"df-b26b7f7d-8e0f-4a64-9251-0e38d4520fed\">\n",
              "  <button class=\"colab-df-quickchart\" onclick=\"quickchart('df-b26b7f7d-8e0f-4a64-9251-0e38d4520fed')\"\n",
              "            title=\"Suggest charts\"\n",
              "            style=\"display:none;\">\n",
              "\n",
              "<svg xmlns=\"http://www.w3.org/2000/svg\" height=\"24px\"viewBox=\"0 0 24 24\"\n",
              "     width=\"24px\">\n",
              "    <g>\n",
              "        <path d=\"M19 3H5c-1.1 0-2 .9-2 2v14c0 1.1.9 2 2 2h14c1.1 0 2-.9 2-2V5c0-1.1-.9-2-2-2zM9 17H7v-7h2v7zm4 0h-2V7h2v10zm4 0h-2v-4h2v4z\"/>\n",
              "    </g>\n",
              "</svg>\n",
              "  </button>\n",
              "\n",
              "<style>\n",
              "  .colab-df-quickchart {\n",
              "      --bg-color: #E8F0FE;\n",
              "      --fill-color: #1967D2;\n",
              "      --hover-bg-color: #E2EBFA;\n",
              "      --hover-fill-color: #174EA6;\n",
              "      --disabled-fill-color: #AAA;\n",
              "      --disabled-bg-color: #DDD;\n",
              "  }\n",
              "\n",
              "  [theme=dark] .colab-df-quickchart {\n",
              "      --bg-color: #3B4455;\n",
              "      --fill-color: #D2E3FC;\n",
              "      --hover-bg-color: #434B5C;\n",
              "      --hover-fill-color: #FFFFFF;\n",
              "      --disabled-bg-color: #3B4455;\n",
              "      --disabled-fill-color: #666;\n",
              "  }\n",
              "\n",
              "  .colab-df-quickchart {\n",
              "    background-color: var(--bg-color);\n",
              "    border: none;\n",
              "    border-radius: 50%;\n",
              "    cursor: pointer;\n",
              "    display: none;\n",
              "    fill: var(--fill-color);\n",
              "    height: 32px;\n",
              "    padding: 0;\n",
              "    width: 32px;\n",
              "  }\n",
              "\n",
              "  .colab-df-quickchart:hover {\n",
              "    background-color: var(--hover-bg-color);\n",
              "    box-shadow: 0 1px 2px rgba(60, 64, 67, 0.3), 0 1px 3px 1px rgba(60, 64, 67, 0.15);\n",
              "    fill: var(--button-hover-fill-color);\n",
              "  }\n",
              "\n",
              "  .colab-df-quickchart-complete:disabled,\n",
              "  .colab-df-quickchart-complete:disabled:hover {\n",
              "    background-color: var(--disabled-bg-color);\n",
              "    fill: var(--disabled-fill-color);\n",
              "    box-shadow: none;\n",
              "  }\n",
              "\n",
              "  .colab-df-spinner {\n",
              "    border: 2px solid var(--fill-color);\n",
              "    border-color: transparent;\n",
              "    border-bottom-color: var(--fill-color);\n",
              "    animation:\n",
              "      spin 1s steps(1) infinite;\n",
              "  }\n",
              "\n",
              "  @keyframes spin {\n",
              "    0% {\n",
              "      border-color: transparent;\n",
              "      border-bottom-color: var(--fill-color);\n",
              "      border-left-color: var(--fill-color);\n",
              "    }\n",
              "    20% {\n",
              "      border-color: transparent;\n",
              "      border-left-color: var(--fill-color);\n",
              "      border-top-color: var(--fill-color);\n",
              "    }\n",
              "    30% {\n",
              "      border-color: transparent;\n",
              "      border-left-color: var(--fill-color);\n",
              "      border-top-color: var(--fill-color);\n",
              "      border-right-color: var(--fill-color);\n",
              "    }\n",
              "    40% {\n",
              "      border-color: transparent;\n",
              "      border-right-color: var(--fill-color);\n",
              "      border-top-color: var(--fill-color);\n",
              "    }\n",
              "    60% {\n",
              "      border-color: transparent;\n",
              "      border-right-color: var(--fill-color);\n",
              "    }\n",
              "    80% {\n",
              "      border-color: transparent;\n",
              "      border-right-color: var(--fill-color);\n",
              "      border-bottom-color: var(--fill-color);\n",
              "    }\n",
              "    90% {\n",
              "      border-color: transparent;\n",
              "      border-bottom-color: var(--fill-color);\n",
              "    }\n",
              "  }\n",
              "</style>\n",
              "\n",
              "  <script>\n",
              "    async function quickchart(key) {\n",
              "      const quickchartButtonEl =\n",
              "        document.querySelector('#' + key + ' button');\n",
              "      quickchartButtonEl.disabled = true;  // To prevent multiple clicks.\n",
              "      quickchartButtonEl.classList.add('colab-df-spinner');\n",
              "      try {\n",
              "        const charts = await google.colab.kernel.invokeFunction(\n",
              "            'suggestCharts', [key], {});\n",
              "      } catch (error) {\n",
              "        console.error('Error during call to suggestCharts:', error);\n",
              "      }\n",
              "      quickchartButtonEl.classList.remove('colab-df-spinner');\n",
              "      quickchartButtonEl.classList.add('colab-df-quickchart-complete');\n",
              "    }\n",
              "    (() => {\n",
              "      let quickchartButtonEl =\n",
              "        document.querySelector('#df-b26b7f7d-8e0f-4a64-9251-0e38d4520fed button');\n",
              "      quickchartButtonEl.style.display =\n",
              "        google.colab.kernel.accessAllowed ? 'block' : 'none';\n",
              "    })();\n",
              "  </script>\n",
              "</div>\n",
              "    </div>\n",
              "  </div>\n"
            ],
            "application/vnd.google.colaboratory.intrinsic+json": {
              "type": "dataframe",
              "variable_name": "df",
              "summary": "{\n  \"name\": \"df\",\n  \"rows\": 3,\n  \"fields\": [\n    {\n      \"column\": \"query\",\n      \"properties\": {\n        \"dtype\": \"string\",\n        \"num_unique_values\": 3,\n        \"samples\": [\n          \"What are the company\\u2019s policies and frameworks regarding AI ethics, governance, and responsible AI use as detailed in their 10-K reports?\",\n          \"What are the primary business segments of the company, and how does each segment contribute to the overall revenue and profitability?\",\n          \"What are the key risk factors identified in the 10-K report that could potentially impact the company\\u2019s business operations and financial performance?\"\n        ],\n        \"semantic_type\": \"\",\n        \"description\": \"\"\n      }\n    },\n    {\n      \"column\": \"response\",\n      \"properties\": {\n        \"dtype\": \"string\",\n        \"num_unique_values\": 3,\n        \"samples\": [\n          \"Answer:\\nThe company has a commitment to responsible AI, which includes the development of implementation processes, tools, training, and practices to support compliance. They also enable their customers and partners to develop and deploy AI safely through AI customer commitments and services like Azure AI Studio. The company works with other industry leaders, civil society, and governments to advocate for AI regulations and governance globally. They have released their Governing AI Blueprint, which outlines concrete legal and policy recommendations for AI guardrails, and are signatories to the eight voluntary commitments developed with the US White House. The company also develops AI technology that they make available to third-parties for use in their own products and services, but they cannot control the practices of these third parties or guarantee that such technologies will not be used for improper purposes.\\n\\nSource:\\n+ ###Context\\n- 5 to launch a Generative AI Skills Grant Challenge \\n- Our commitment to responsible AI is not new. Since 2017, we\\u2019ve worked to develop our responsible AI practice, recognizing that trust is never given but earned through action.\\n- We have translated our AI principles into a core set of implementation processes, as well as tools, training, and practices to support compliance.\\n- We also enable our customers and partners to develop and deploy AI safely, including through our AI customer commitments and services like Azure AI Studio, with its content safety tooling and access to our Responsible AI dashboard.\\n- Building AI responsibly requires that we work with other industry leaders, civil society, and governments to advocate for AI regulations and governance globally.\\n- This year, we released our Governing AI Blueprint, which outlines concrete legal and policy recommendations for AI guardrails.\\n- We are signatories to the eight voluntary commitments developed with the US White House, and proud of the six additional commitments we\\u2019ve made to further strengthen and operationalize the principles of safety, security, and trust.\\n- We are also developing AI technology that we make available via open source, commercial, and non-commercial license agreements to third-parties that can use this technology for use in their own products and services.\\n- We may not have insight into, or control over, the practices of third parties who may utilize such AI technologies.\",\n          \"Answer:\\nThe primary business segments of the company are Productivity and Business Processes, Intelligent Cloud, and More Personal Computing. In the fiscal year 2023, the Productivity and Business Processes segment contributed $69,274 million to the overall revenue, with an operating income of $34,189 million. The Intelligent Cloud segment contributed $87,907 million to the overall revenue, with an operating income of $37,884 million. The More Personal Computing segment contributed $54,734 million to the overall revenue, with an operating income of $16,450 million.\\n\\nSource:\\n###Context\\nOur reportable segments are described below.\\n\\nProductivity and Business Processes\\nOur Productivity and Business Processes segment consists of products and services in our portfolio of productivity, communication, and information services, spanning a variety of devices and platforms. This segment primarily comprises:\\n\\u2022 Office Commercial (Office 365 subscriptions, the Office 365 portion of Microsoft 365 Commercial subscriptions, and Office licensed on -premises), comprising Office, Exchange, SharePoint, Microsoft Teams, Office 365 Security and Compliance, Microsoft Viva, and Microsoft 365 Copilot.\\n\\u2022 Office Consumer, including Microsoft 365 Consumer subscriptions, Office licensed on -premises, and other Office services.\\n\\u2022 LinkedIn, including Talent Solutions, Marketing Solutions, Premium Subscriptions, and Sales Solutions.\\n\\u2022 Dynamics business solutions, including Dynamics 365, comprising a set of intelligent, cloud-based applications across ERP, CRM (including Customer Insights), Power Apps, and Power Automate; and on -premises ERP and CRM applications.\\n\\nIntelligent Cloud\\nOur Intelligent Cloud segment consists of our public, private, and hybrid server products and cloud services that can power modern business and developers. This segment primarily comprises:\\n\\u2022 Server products and cloud services, including Azure and other cloud services; SQL Server, Windows Server.\\n\\n###Context\\nSegment revenue and operating income were as follows during the periods presented:\\n\\n(In millions)\\nYear Ended June 30, 2023 2022 2021\\nRevenue\\nProductivity and Business Processes $ 69,274 $ 63,364 $ 53,915\\nIntelligent Cloud 87,907 74,965 59,728\\nMore Personal Computing 54,734 59,941 54,445\\nTotal $ 211,915 $ 198,270 $ 168,088\\n\\nOperating Income\\nProductivity and Business Processes $ 34,189 $ 29,690 $ 24,351\\nIntelligent Cloud 37,884 33,203 26,471\\nMore Personal Computing 16,450 20,490 19,094\\nTotal $ 88,523 $ 83,383 $ 69,916.\\n\\n###Source\\nNOTE 19 \\u2013 SEGMENT INFORMATION AND GEOGRAPHIC DATA\\nIn its operation of the business, management, including our chief operating decision maker, who is also our Chief Executive Officer, reviews certain financial information, including segmented internal profit and loss statements prepared on a basis not consistent with GAAP. During the periods presented, we reported our financial performance based on the following segments: Productivity and Business Processes, Intelligent Cloud, and More Personal Computing.\",\n          \"Answer:\\nThe key risk factors identified in the 1\"\n        ],\n        \"semantic_type\": \"\",\n        \"description\": \"\"\n      }\n    },\n    {\n      \"column\": \"context\",\n      \"properties\": {\n        \"dtype\": \"string\",\n        \"num_unique_values\": 3,\n        \"samples\": [\n          \"5 to launch a Generative AI Skills Grant Challenge  to explore how nonprofit, social enterprise, and research or academic \\ninstitutions can empower the workforce to use this new generation of AI.  \\nHow can we earn trust?  \\nTo create positive impact with technology, people need to be able to trust the technolo gies they use and the companies \\nbehind them. For us, earning trust spans the responsible use of AI, protecting privacy, and advancing digital safety and \\ncybersecurity.  \\nOur commitment to responsible AI is not new. Since 2017, we\\u2019ve worked to develop our re sponsible AI practice, recognizing \\nthat trust is never given but earned through action.  \\nWe have translated our AI principles into a core set of implementation processes, as well as tools, training, and practices \\nto support compliance. But internal program s aren\\u2019t enough. We also enable our customers and partners to develop and \\ndeploy AI safely, including through our AI customer commitments and services like Azure AI Studio, with its content safety \\ntooling and access to our Responsible AI dashboard.  \\nBuildi ng AI responsibly requires that we work with other industry leaders, civil society, and governments to advocate for AI \\nregulations and governance globally. This year, we released our Governing AI Blueprint, which outlines concrete legal and \\npolicy recommen dations for AI guardrails. We are signatories to the eight voluntary commitments developed with the US \\nWhite House, and proud of the six additional commitments we\\u2019ve made to further strengthen and operationalize the \\nprinciples of safety, security, and trus t.  \\nThe era of AI heightens the importance of cybersecurity, and we deepened our work across the private and public sectors \\nto improve cyber -resilience. We\\u2019ve continued to support Ukraine in defending critical infrastructure, detecting and disrupting \\ncyber attacks and cyberinfluence operations, and providing intelligence related to these attacks. Our Microsoft Threat \\nAnalysis Center team produced more than 500 intelligence reports to help keep customers and the public informed. And we \\npublished our third ann ual Microsoft Digital Defense Report, sharing our learnings and security recommendations.  \\nWe also remain committed to creating safe experiences online and protecting customers from illegal and harmful content \\nand conduct, while respecting human rights. We supported the Christchurch Call Initiative on Algorithmic Outcomes to. Further, we face significant competition from other companies that are developing their own AI features and technologies. Other companies may\\ndevelop AI features and technologies that are similar or superior to our technologies or are more cost-effective to develop and deploy. Given the long history of\\ndevelopment in the AI sector, other parties may have (or in the future may obtain) patents or other proprietary rights that would prevent, limit, or interfere with\\nour ability to make, use, or sell our own AI features. Further, our ability to continue to develop and effectively deploy AI technologies is dependent on access to\\nspecific third-party equipment and other physical infrastructure, such as processing hardware and network capacity, as to which we cannot control the\\navailability or pricing, especially in a highly competitive environment.\\nWe are also developing AI technology that we make available via open source, commercial, and non-commercial license agreements to third-parties that\\ncan use this technology for use in their own products and services. We may not have insight into, or control over, the practices of third parties who may utilize\\nsuch AI technologies. As such, we cannot guarantee that third parties will not use such AI technologies for improper purposes, including through the\\ndissemination of illegal, inaccurate, defamatory or harmful content, intellectual property infringement or misappropriation, furthering bias or discrimination,\\ncybersecurity attacks, data privacy violations, other activities that threaten people's safety or well-being on- or offline, or to develop competing technologies.\\nWhile we may mitigate certain risks associated with the improper use of our AI models through both technical measures and the inclusion of contractual\\nrestrictions on third-party use in any agreement between us and any third party, we cannot guarantee that such measures will be effective. Such improper use by\\nany third party could adversely affect our business, reputation, or financial results or subject us to legal liability.\\nIt is not possible to predict all of the risks related to the use of AI and changes in laws, rules, directives, and regulations governing the use of AI may\\nadversely affect our ability to develop and use AI or subject us to legal liability.\\n22. social media or other platforms, which could harm our business. It is hard to predict the challenges we may encounter \\nin adapting our products and services and developing competitive new products and services. We expect to continue \\nto devote significant resources to creating and supporting products and services across multiple platforms and devices. \\nFailing to attract and retain a substantial number of new device manufacturers, suppliers, distributors, developers, and \\nusers, or failing to develop products and technologies that work well on new devices and platforms, could harm our \\nbusiness, financial condition, and operating results and ability to capture future business opportunities. \\nIssues in the development and use of AI may result in reputational harm and increased liability exposure. \\nOur evolving AI-related efforts may give rise to risks related to harmful content, inaccuracies, discrimination, \\nintellectual property infringement or misappropriation, defamation, data privacy, cybersecurity, and other issues . As a \\nresult of these and other challenges associated with innovative technologies, our implementation of AI systems could \\nsubject us to competitive harm, regulatory action, legal liability (including under new and proposed legislation and \\nregulations), new applications of existing data protection, privacy, intellectual property, and other laws, and brand or \\nreputational harm. \\nSome uses of AI will present ethical issues and may have broad effects on society. In order to implement A I \\nresponsibly and minimize unintended harmful effects, we have already devoted and will continue to invest significant  \\nresources to develop, test, and maintain our products and services, but we may not be able to identify or resolve all AI-\\nrelated issues, deficiencies, and/or failures before they arise. Unintended consequences, uses, or customization of our \\nAI tools and systems may negatively affect human rights, privacy, employment, or other social concerns, which may \\nresult in claims, lawsuits, brand or reputational harm, and increased regulatory scrutiny, any of which could harm our \\nbusiness, financial condition, and operating results.\\nData privacy  and security concerns relating to our technology and our practices could harm our \\nreputation, cause us to incur significant liability, and deter current and potential users or customers from \\nusing our products and services. Computer viruses, software bugs or defects, security breaches, and attacks \\non our systems could result in the improper disclosure and use of user data and interference with our users\\u2019. efforts to protect the security and integrity of our platform;\\n\\u2022we adopt terms, policies, or procedures related to areas such as sharing, content, user data, or advertising, or we take, or fail to take, actions to enforce\\nour policies, that are perceived negatively by our users or the general public, including as a result of decisions or recommendations from the\\nindependent Oversight Board regarding content on our platform;\\n\\u2022we elect to focus our product decisions on longer-term initiatives that do not prioritize near-term user growth and engagement (for example, we have\\nannounced plans to focus product decisions on optimizing the young adult experience in the long term);\\n\\u2022we make changes in our user account login or registration processes or changes in how we promote different products and services across our family\\nof products;\\n\\u2022initiatives designed to attract and retain users and engagement, including the use of evolving technologies such as generative artificial intelligence, are\\nunsuccessful or discontinued, whether as a result of actions by us, our competitors, or other third parties, or otherwise;\\n17. Table of Contents\\nIf our new products or changes to existing products fail to engage users, marketers, or developers, or if our business plans are unsuccessful, we may fail\\nto attract or retain users or to generate sufficient revenue, operating margin, or other value to justify our investments, and our business may be adversely\\naffected.\\nWe may not be successful in our artificial intelligence initiatives, which could adversely affect our business, reputation, or financial results.\\nWe are making significant investments in AI initiatives, including generative AI, to, among other things, recommend relevant content across our\\nproducts, enhance our advertising tools, develop new products, and develop new features for existing products. In particular, we expect our AI initiatives will\\nrequire increased investment in infrastructure and headcount.\\nThere are significant risks involved in developing and deploying AI and there can be no assurance that the usage of AI will enhance our products or\\nservices or be beneficial to our business, including our efficiency or profitability. For example, our AI-related efforts, particularly those related to generative AI,\\nsubject us to risks related to harmful or illegal content, accuracy, misinformation (including related to elections), bias, discrimination, toxicity, intellectual\\nproperty infringement or misappropriation, defamation, data privacy, cybersecurity, and sanctions and export controls, among others. It is also uncertain how\\nvarious laws related to online services, intermediary liability, and other issues will apply to content generated by AI. In addition, we are subject to the risks of\\nnew or enhanced governmental or regulatory scrutiny, litigation, or other legal liability, ethical concerns, negative consumer perceptions as to automation and\\nAI, activities that threaten people's safety or well-being on- or offline, or other complications that could adversely affect our business, reputation, or financial\\nresults.\\nAs a result of the complexity and rapid development of AI, it is also the subject of evolving review by various governmental and regulatory agencies in\\njurisdictions around the world, which are applying, or are considering applying, platform moderation, intellectual property, cybersecurity, and data protection\\nlaws to AI and/or are considering general legal frameworks on AI. We may not always be able to anticipate how courts and regulators will apply existing laws\\nto AI, predict how new legal frameworks will develop to address AI, or otherwise respond to these frameworks as they are still rapidly evolving. We may also\\nhave to expend resources to adjust our offerings in certain jurisdictions if the legal frameworks on AI are not consistent across jurisdictions.\",\n          \"of our key businesses. The segments enable the alignment of strategies and objectives across the development, sales, \\nmarketing, and services organizations, and they provide a framework for timely and rational allocation of resources within \\nbusinesses.  \\nAdditional information on our operating segments and geographic and product information is contained in Note 19 \\u2013 \\nSegment Information and Geographic Data of the Notes to Financial Statements.  \\nOur reportable segments are described below.  \\nProductivity and Bus iness Processes  \\nOur Productivity and Business Processes segment consists of products and services in our portfolio of productivity, \\ncommunication, and information services, spanning a variety of devices and platforms. This segment primarily comprises:  \\n\\u2022 Office Commercial (Office 365 subscriptions, the Office 365 portion of Microsoft 365 Commercial subscriptions, \\nand Office licensed on -premises), comprising Office, Exchange, SharePoint, Microsoft Teams, Office 365 \\nSecurity and Compliance, Microsoft Viva, a nd Microsoft 365 Copilot.  \\n\\u2022 Office Consumer, including Microsoft 365 Consumer subscriptions, Office licensed on -premises, and other \\nOffice services.  \\n\\u2022 LinkedIn, including Talent Solutions, Marketing Solutions, Premium Subscriptions, and Sales Solutions.. 75 Revenue and costs are generally directly attributed to our segments. However, due to the integrated structure of our \\nbusiness, certain revenue recognized and costs incurred by one segment may benefit other segments. Revenue from \\ncertain contracts is allocated amon g the segments based on the relative value of the underlying products and services, \\nwhich can include allocation based on actual prices charged, prices when sold separately, or estimated costs plus a profit \\nmargin. Cost of revenue is allocated in certain c ases based on a relative revenue methodology. Operating expenses that \\nare allocated primarily include those relating to marketing of products and services from which multiple segments benefit \\nand are generally allocated based on relative gross margin.  \\nIn addition, certain costs are incurred at a corporate level and allocated to our segments. These allocated costs generally \\ninclude legal, including settlements and fines, information technology, human resources, finance, excise taxes, field selling , \\nshared f acilities services, customer service and support, and severance incurred as part of a corporate program. Each \\nallocation is measured differently based on the specific facts and circumstances of the costs being allocated and is generall y \\nbased on relative g ross margin or relative headcount.  \\nSegment revenue and operating income were as follows during the periods presented:  \\n  \\n(In millions)          \\n        \\nYear Ended June  30, 2023  2022  2021  \\n        \\nRevenue        \\n        \\nProductivity and Business Processes  $ 69,274   $ 63,364   $ 53,915   \\nIntelligent Cloud   87,907    74,965    59,728   \\nMore Personal Computing   54,734    59,941    54,445         \\nTotal  $  211,915   $  198,270   $  168,088           \\n  \\nOperating Income  \\n        \\nProductivity and Business Processes  $ 34,189   $ 29,690   $ 24,351   \\nIntelligent Cloud   37,884    33,203    26,471   \\nMore Personal Computing   16,450    20,490    19,094         \\nTotal  $ 88,523   $ 83,383   $ 69,916. 74 subject to certain limitations. We match a portion of each dollar a participant contributes into the plans. Employer -funded \\nretirement benef its for all plans were $1.6  billion, $1.4  billion, and $1.2  billion in fiscal years 2023, 2022, and 2021, \\nrespectively, and were expensed as contributed.  \\nNOTE 19  \\u2014 SEGMENT INFORMATION AND GEOGRAPHIC DATA  \\nIn its operation of the business, management, incl uding our chief operating decision maker, who is also our Chief Executive \\nOfficer, reviews certain financial information, including segmented internal profit and loss statements prepared on a basis \\nnot consistent with GAAP. During the periods presented, we  reported our financial performance based on the following \\nsegments: Productivity and Business Processes, Intelligent Cloud, and More Personal Computing.  \\nWe have recast certain prior period amounts to conform to the way we internally manage and monitor ou r business.  \\nOur reportable segments are described below.  \\nProductivity and Business Processes  \\nOur Productivity and Business Processes segment consists of products and services in our portfolio of productivity, \\ncommunication, and information services, spa nning a variety of devices and platforms. This segment primarily comprises:  \\n\\u2022 Office Commercial (Office 365 subscriptions, the Office 365 portion of Microsoft 365 Commercial subscriptions, \\nand Office licensed on -premises), comprising Office, Exchange, Sha rePoint, Microsoft Teams, Office 365 \\nSecurity and Compliance, Microsoft Viva, and Microsoft 365 Copilot.  \\n\\u2022 Office Consumer, including Microsoft 365 Consumer subscriptions, Office licensed on -premises, and other \\nOffice services.  \\n\\u2022 LinkedIn, including Tale nt Solutions, Marketing Solutions, Premium Subscriptions, and Sales Solutions.  \\n\\u2022 Dynamics business solutions, including Dynamics 365, comprising a set of intelligent, cloud -based applications \\nacross ERP, CRM (including Customer Insights), Power Apps, and Power Automate; and on -premises ERP \\nand CRM applications.  \\nIntelligent Cloud  \\nOur Intelligent Cloud segment consists of our public, private, and hybrid server products and cloud services that can power \\nmodern business and developers. This segment primarily comprises:  \\n\\u2022 Server products and cloud services, including Azure and other c loud services; SQL Server, Windows Server,. 29 Additional information on our reportable segments is contained in Note 19 \\u2013 Segment Information and Geographic Data of \\nthe Notes to  Financial Statements.  \\nMetrics  \\nWe use metrics in assessing the performance of our business and to make informed decisions regarding the allocation of \\nresources. We disclose metrics to enable investors to evaluate progress against our ambitions, provide t ransparency into \\nperformance trends, and reflect the continued evolution of our products and services. Our commercial and other business \\nmetrics are fundamentally connected based on how customers use our products and services. The metrics are disclosed in \\nthe MD&A or the Notes to Financial Statements. Financial metrics are calculated based on financial results prepared in \\naccordance with accounting principles generally accepted in the United States of America (\\u201cGAAP\\u201d), and growth \\ncomparisons relate to the c orresponding period of last fiscal year.  \\nIn the first quarter of fiscal year 2023, we made updates to the presentation and method of calculation for certain metrics, \\nmost notably expanding our Surface metric into a broader Devices metric to incorporate ad ditional revenue streams, along \\nwith other minor changes to align with how we manage our businesses.  \\nCommercial  \\nOur commercial business primarily consists of Server products and cloud services, Office Commercial, Windows \\nCommercial, the commercial portio n of LinkedIn, Enterprise Services, and Dynamics. Our commercial metrics allow \\nmanagement and investors to assess the overall health of our commercial business and include leading indicators of future \\nperformance.  \\n  \\nCommercial remaining performance obliga tion Commercial portion of revenue allocated to remaining \\nperformance obligations, which includes unearned revenue \\nand amounts that will be invoiced and recognized as \\nrevenue in future periods  \\n    \\nMicrosoft Cloud revenue  Revenue from Azure and other cloud services, Office 365 \\nCommercial, the commercial portion of LinkedIn, Dynamics \\n365, and other commercial cloud properties  \\n    \\nMicrosoft Cloud gross margin percentage  Gross margin percentage for our Microsoft Cloud business  \\n  \\nProductivity and Business Processes and Intelligent Cloud  \\nMetrics related to our Productivity and Business Processes and Intelligent Cloud segments assess the health of our core \\nbusinesses within these segments. The metrics reflect our cloud and on -premis es product strategies and trends.  \\n  \\nOffice Commercial products and cloud services revenue \\ngrowth  Revenue from Office Commercial products and cloud \\nservices (Office 365 subscriptions, the Office 365 portion of. Table of Contents\\nNote 16. Segment and Geographical Information\\nWe report our financial results for our two reportable segments: Family of Apps (FoA) and Reality Labs (RL). FoA includes Facebook, Instagram,\\nMessenger, WhatsApp, and other services. RL includes our augmented, mixed and virtual reality related consumer hardware, software, and content. Our\\noperating segments are the same as our reportable segments.\\nOur chief executive officer is our chief operating decision maker (CODM), who allocates resources to and assesses the performance of each operating\\nsegment using information about the operating segment's revenue and income (loss) from operations. Our CODM does not evaluate operating segments using\\nasset or liability information.\\nRevenue and costs and expenses are generally directly attributed to our segments. These costs and expenses include certain product development related\\noperating expenses, costs associated with partnership arrangements, consumer hardware product costs, content costs, legal-related costs, and severance costs.\\nIndirect costs are allocated to segments based on a reasonable allocation methodology, when such costs are significant to the performance measures of the\\noperating segments. Indirect cost of revenue is allocated to our segments based on usage, such as costs related to the operation of our data centers and technical\\ninfrastructure. Indirect operating expenses, such as facilities, information technology, certain shared research and development activities, recruiting, physical\\nsecurity expenses, and certain restructuring costs, are mostly allocated based on headcount.\\nThe following table sets forth our segment information of revenue and income (loss) from operations (in millions):\\n Year Ended December 31, \\n 2023 2022 2021\\nRevenue:\\nFamily of Apps $ 133,006 $ 114,450 $ 115,655 \\nReality Labs 1,896 2,159 2,274 \\nTotal revenue $ 134,902 $ 116,609 $ 117,929 \\nIncome (loss) from operations:\\nFamily of Apps $ 62,871 $ 42,661 $ 56,946 \\nReality Labs (16,120) (13,717) (10,193)\\nTotal income from operations $ 46,751 $ 28,944 $ 46,753 \\nFor information regarding revenue disaggregated by geography, see Note 2 \\u2014 Revenue.\\nThe following table sets forth our long-lived assets by geographic area, which consist of property and equipment, net and operating lease right-of-use\",\n          \"Table of Contents\\nItem 1A.Risk Factors\\nCertain factors may have a material adverse effect on our business, financial condition, and results of operations. You should consider carefully the risks and\\nuncertainties described below, in addition to other information contained in this Annual Report on Form 10-K, including our consolidated financial statements\\nand related notes. The risks and uncertainties described below are not the only ones we face. Additional risks and uncertainties that we are unaware of, or that\\nwe currently believe are not material, may also become important factors that adversely affect our business. If any of the following risks actually occurs, our\\nbusiness, financial condition, results of operations, and future prospects could be materially and adversely affected. In that event, the trading price of our\\nClass A common stock could decline, and you could lose part or all of your investment.\\nSummary Risk Factors\\nOur business is subject to a number of risks, including risks that may prevent us from achieving our business objectives or may adversely affect our\\nbusiness, financial condition, results of operations, cash flows, and prospects. These risks are discussed more fully below and include, but are not limited to,\\nrisks related to:\\nRisks Related to Our Product Offerings\\n\\u2022our ability to add and retain users and maintain levels of user engagement with our products;\\n\\u2022the loss of, or reduction in spending by, our marketers;\\n\\u2022reduced availability of data signals used by our ad targeting and measurement tools;\\n\\u2022ineffective operation with mobile operating systems or changes in our relationships with mobile operating system partners;\\n\\u2022failure of our new products, or changes to our existing products, to attract or retain users or generate revenue;\\nRisks Related to Our Business Operations and Financial Results\\n\\u2022our ability to compete effectively;\\n\\u2022fluctuations in our financial results;\\n\\u2022unfavorable media coverage and other risks affecting our ability to maintain and enhance our brands;\\n\\u2022our ability to build, maintain, and scale our technical infrastructure, and risks associated with disruptions in our service, catastrophic events, and\\ncrises;\\n\\u2022operating our business in multiple countries around the world;\\n\\u2022acquisitions and our ability to successfully integrate our acquisitions;\\n\\u2022litigation, including class action lawsuits;\\nRisks Related to Government Regulation and Enforcement\\n\\u2022government restrictions on access to Facebook or our other products, or other actions that impair our ability to sell advertising, in their countries;. partnerships around strategic initiatives .\\n\\u2022We continue to face an evolving regulatory environment, and we are subject to claims, lawsuits, \\ninvestigations, and other forms of potential legal liability, which could affect our business practices and \\nfinancial results.\\nChanges in social, political, economic, tax, and regulatory conditions or in laws  and policies governing a wide \\nrange of topics and related legal matters, including investigations, lawsuits, and regulatory actions, have resulted in \\nfines and caused us to change our business practices . As these global trends continue, our cost of doing business may \\nincrease, our ability to pursue certain business models or offer certain products or services may be limited, and we \\nmay need to change our business practices to comply with evolving regulatory and legal matters . Examples include t he \\nantitrust complaints filed by  the U.S. Department of Justice and a number of state Attorneys General; legislative \\nproposals and pending litigation in the U.S., EU, and around the world that could diminish or eliminate safe harbor \\nprotection for websites and online platforms; and the Digital Markets Act and Digital Services Act in Europe and various \\nlegislative proposals in the U.S. focused on large technology platforms. For additional information, see Item 1A Risk \\nFactors and Legal Matters in Note 10  of the Notes to Consolidated Financial Statements included in Part II, Item 8 of \\nthis Annual Report on Form 10-K.\\n\\u2022Our employees are critical to our success and we expect to continue investing in them.\\nOur employees are among our best assets  and are critical for our continued success. We expect to continue \\nhiring talented employees around the globe and to provide competitive compensation programs. For additional \\ninformation, see Culture and Workforce in Part I, Item 1 Business of this Annual Report on Form 10-K.\\nRevenues and Monetization Metrics\\nWe generate revenues by delivering relevant, cost-effective online advertising; cloud-based solutions that provide \\nenterprise customers of all sizes with infrastructure and platform services as well as communication and collaboration \\ntools; sales of other products and services, such as apps and in-app purchases, and devices; and fees received for \\nconsumer subscription-based products. For additional information on how we recognize revenue, see Note 1  of the \\nNotes to Consolidated Financial Statements included in Item 8 of this Annual Report on Form 10-K.. downward pressure on our operating margins from increasing regulations, increasing competition, and increasing costs \\nfor many aspects of our business. Further, certain of our costs and expenses are generally less variable in nature and \\nmay not correlate to changes in revenue. W e may  also not be able to execute our efforts to re-engineer our cost base \\nsuccessfully or in a timely manner. Due to these factors and the evolving nature of our business, our historical revenue \\ngrowth rate and historical operating margin may not be indicative of our future performance. For additional information, \\nsee Trends in Our Business and Financial Effect and Revenues and Monetization Metrics in Part II, Item 7 of this \\nAnnual Report on Form 10-K. \\nOur intellectual property rights are valuable, and any inability to protect them could reduce the value of \\nour products, services, and brands as well as affect our ability to compete. \\nOur patents, trademarks, trade secrets, copyrights, and other intellectual property rights are important assets for \\nus. Various events outside of our control pose a threat to our intellectual property rights, as well as to our products, \\nservices, and technologies. For example, effective intellectual property protection may not be available in every country \\nin which our products and services are distributed or made available through the Internet. Also, the efforts we have \\ntaken to protect our proprietary rights may not be sufficient or effective. Although we seek to obtain patent protection \\nfor our innovations, it is possible we may not be able to protect some of these innovations. Moreover, we may not have \\nadequate patent or copyright protection for certain innovations that later turn out to be important. There is always the \\npossibility that the scope of the protection gained will be insufficient or that an issued patent may be deemed invalid or \\nunenforceable. \\nWe also seek to maintain certain intellectual property as trade secrets. The secrecy of such trade secrets and \\nother sensitive information could be compromised, which could cause us to lose the competitive advantage resulting \\nfrom these trade secrets. We also face risks associated with our trademarks. For example, there is a risk that the word \\n\\u201cGoogle\\u201d could become so commonly used that it becomes synonymous with the word \\u201csearch.\\u201d Some courts have \\nruled that \\\"Google\\\" is a protectable trademark, but it is possible that other courts, particularly those outside of the U.S.,. ITEM 1A. RISK FACTORS\\nOur operations and financial results are subject to various risks and uncertainties, including but not limited to \\nthose described below, which could harm our business, reputation, financial condition, and operating results, and affect \\nthe trading price of our Class A and Class C stock.\\nRisks Specific to our Company\\nWe generate a significant portion of our revenues from advertising. Reduced spending by advertisers, a \\nloss of partners, or new and existing technologies that block ads online and/or affect our ability to customize \\nads could harm our business. \\nWe generated more than 75% of total  revenues from online advertising in 2023. Many of our advertisers, \\ncompanies that distribute our products and services, digital publishers, and content providers can terminate their \\ncontracts with us at any time. These partners may not continue to do business with us if we do not create more value \\n(such as increased numbers of users or customers, new sales leads, increased brand awareness, or more effective \\nmonetization) than their available alternatives. Changes to our advertising policies and data privacy practice s, such as \\nour initiatives to phase out third-party cookies,  as well as changes to other companies\\u2019 advertising and/or data privacy \\npractices have in the past, and may in the future, affect the advertising that we are able to provide. In addition, \\ntechnologies have been developed that make customized ads more difficult, or that block the display of ads altogether, \\nand some providers of online services have integrated these technologies that could potentially impair the availability \\nand functionality of third-party digital advertising. Failing to provide superior value or deliver advertisements effectively \\nand competitively could harm our business, reputation, financial condition, and operating results. \\nIn addition, expenditures by advertisers tend to correlate with overall economic conditions. Adverse \\nmacroeconomic conditions have affected, and may in the future affect, the demand for advertising, resulting in \\nfluctuations in the amounts our advertisers spend on advertising, which could harm our financial condition and \\noperating results. \\nWe face intense competition. If we do not continue to innovate and provide products and services that \\nare useful to users, customers, and other partners, we may not remain competitive, which could harm our \\nbusiness, financial condition, and operating results. \\nOur business environment is rapidly evolving and intensely competitive. Our businesses face changing. Table of Contents\\nItem 7. Management\\u2019s Discussion and Analysis of Financial Condition and Results of Operations\\nForward-Looking Statements\\nThis Annual Report on Form 10-K includes forward-looking statements within the meaning of the Private Securities Litigation Reform Act of 1995. All\\nstatements other than statements of historical fact, including statements regarding guidance, industry prospects, or future results of operations or financial\\nposition, made in this Annual Report on Form 10-K are forward-looking. We use words such as anticipates, believes, expects, future, intends, and similar\\nexpressions to identify forward-looking statements. Forward-looking statements reflect management\\u2019s current expectations and are inherently uncertain. Actual\\nresults and outcomes could differ materially for a variety of reasons, including, among others, fluctuations in foreign exchange rates, changes in global\\neconomic conditions and customer demand and spending, inflation, interest rates, regional labor market and global supply chain constraints, world events, the\\nrate of growth of the Internet, online commerce, and cloud services, the amount that Amazon.com invests in new business opportunities and the timing of those\\ninvestments, the mix of products and services sold to customers, the mix of net sales derived from products as compared with services, the extent to which we\\nowe income or other taxes, competition, management of growth, potential fluctuations in operating results, international growth and expansion, the outcomes\\nof claims, litigation, government investigations, and other proceedings, fulfillment, sortation, delivery, and data center optimization, risks of inventory\\nmanagement, variability in demand, the degree to which we enter into, maintain, and develop commercial agreements, proposed and completed acquisitions\\nand strategic transactions, payments risks, and risks of fulfillment throughput and productivity. In addition, global economic and geopolitical conditions and\\nadditional or unforeseen circumstances, developments, or events may give rise to or amplify many of these risks. These risks and uncertainties, as well as other\\nrisks and uncertainties that could cause our actual results or outcomes to differ significantly from management\\u2019s expectations, are described in greater detail in\\nItem 1A of Part I, \\u201cRisk Factors.\\u201d\\nOverview\\nOur primary source of revenue is the sale of a wide range of products and services to customers. The products offered through our stores include\\nmerchandise and content we have purchased for resale and products offered by third-party sellers, and we also manufacture and sell electronic devices and\"\n        ],\n        \"semantic_type\": \"\",\n        \"description\": \"\"\n      }\n    },\n    {\n      \"column\": \"groundedness_evaluation\",\n      \"properties\": {\n        \"dtype\": \"string\",\n        \"num_unique_values\": 3,\n        \"samples\": [\n          \" Steps to evaluate the answer:\\n\\n1. Identify the main points in the answer related to the company's policies and frameworks regarding AI ethics, governance, and responsible AI use.\\n2. Check if these main points are present in the context.\\n3. Verify if the answer provides information solely based on the context.\\n\\nStep-by-step explanation:\\n\\n1. The main points in the answer are:\\n   - The company's commitment to responsible AI.\\n   - Development of implementation processes, tools, training, and practices for compliance.\\n   - Enabling customers and partners to develop and deploy AI safely.\\n   - Working with industry leaders, civil society, and governments for AI regulations and governance.\\n   - The release of the Governing AI Blueprint and being signatories to the US White House commitments.\\n   - Making AI technology available to third-parties and not controlling their practices.\\n\\n2. These main points are all present in the context:\\n   - The company's commitment to responsible AI is mentioned in the context.\\n   - Development of implementation processes, tools, training, and practices for compliance is mentioned.\\n   - Enabling customers and partners to develop and deploy AI safely is mentioned in the context.\\n   - Working with industry leaders, civil society, and governments for AI regulations and governance is mentioned.\\n   - The release of the Governing AI Blueprint and being signatories to the US White House commitments are mentioned.\\n   - Making AI technology available to third-parties is mentioned in the context.\\n\\n3. The answer does not provide any information from external sources and is solely based on the context.\\n\\nEvaluation:\\nThe metric is followed completely. The answer is derived only from the information presented in the context, and all the main points in the answer are present in the context.\\n\\nScore: 5\",\n          \" Steps to evaluate the answer:\\n1. Identify the primary business segments mentioned in the answer.\\n2. Check if the contribution of each segment to the overall revenue and operating income is correct.\\n3. Verify if the revenue and operating income figures are consistent with the context.\\n\\nStep-by-step explanation:\\n\\n1. The primary business segments mentioned in the answer are Productivity and Business Processes, Intelligent Cloud, and More Personal Computing. These segments are consistent with the context.\\n2. The contribution of each segment to the overall revenue and operating income is correct. The answer states that Productivity and Business Processes contributed $69,274 million to the overall revenue, with an operating income of $34,189 million. The Intelligent Cloud segment contributed $87,907 million to the overall revenue, with an operating income of $37,884 million. The More Personal Computing segment contributed $54,734 million to the overall revenue, with an operating income of $16,450 million. These figures are consistent with the context.\\n\\nExtent to which the metric is followed:\\nThe metric is followed completely, as the answer is derived only from the information presented in the context.\\n\\nAnswer rating:\\n5 (The metric is followed completely)\",\n          \" 1. First, read through the question, context, and answer thoroughly to understand the input.\\n2. Identify the key components of the metric: the answer should be derived only from the information presented in the context.\\n3. Check if the answer is derived from the context by comparing the information presented in the answer and the context.\\n4. In this case, the answer \\\"The key risk factors identified in the 10-K report include those related to product offerings, business operations and financial results, government regulation and enforcement, intellectual property rights, and competition.\\\" can be found in the context, specifically in the \\\"Summary Risk Factors\\\" section.\\n5. Therefore, the answer adheres to the metric of being derived only from the information presented in the context.\\n6. The metric is followed completely.\\n7. Score: 5.\"\n        ],\n        \"semantic_type\": \"\",\n        \"description\": \"\"\n      }\n    },\n    {\n      \"column\": \"relevance_evaluation\",\n      \"properties\": {\n        \"dtype\": \"string\",\n        \"num_unique_values\": 3,\n        \"samples\": [\n          \" 1. To evaluate the context as per the relevance metric, the following steps can be taken:\\n\\na. Identify the main aspects of the question, which in this case are the company's policies and frameworks regarding AI ethics, governance, and responsible AI use.\\n\\nb. Analyze the context to determine if it addresses these main aspects.\\n\\nc. Evaluate if the context only contains information relevant to the question and does not stray off-topic.\\n\\n2. Applying these steps to the given context, the following can be observed:\\n\\na. The main aspects of the question are the company's policies and frameworks regarding AI ethics, governance, and responsible AI use.\\n\\nb. The context does address these main aspects by mentioning the company's commitment to responsible AI, their development of implementation processes, tools, training, and practices to support compliance, and their advocacy for AI regulations and governance globally. The context also mentions the Governing AI Blueprint and their voluntary commitments developed with the US White House.\\n\\nc. The context does not stray off-topic and only contains information relevant to the question.\\n\\n3. Based on the above analysis, the context adheres to the relevance metric to a good extent.\\n\\n4. Therefore, the context can be rated as follows:\\n\\n1 - The metric is not followed at all\\n2 - The metric is followed only to a limited extent\\n3 - The metric is followed to a good extent\\n4 - The metric is followed mostly\\n5 - The metric is followed completely\\n\\nRating: 3 - The metric is followed to a good extent.\",\n          \" 1. The steps to evaluate the context as per the relevance metric would be:\\n   a. Identify the primary aspects of the question, which are the primary business segments of the company and their contribution to overall revenue and profitability.\\n   b. Analyze the context to determine if it provides information about the primary business segments and their contribution to overall revenue and profitability.\\n   c. Evaluate if the context only contains information about the primary business segments and their contribution to overall revenue and profitability, or if it includes additional, irrelevant information.\\n\\n2. The context provides information about the primary business segments of the company and their contribution to overall revenue and profitability, as it lists the reportable segments and their revenue and operating income for the years 2023, 2022, and 2\",\n          \" 1. To evaluate the context as per the relevance metric, follow the steps below:\\n\\na. Identify the question's main aspects: In this case, the main aspects of the question are the key risk factors that could impact the company's business operations and financial performance.\\n\\nb. Analyze the context to determine if it addresses the main aspects of the question: In this context, the \\\"Summary Risk Factors\\\" section lists several risks related to the company's product offerings, business operations, financial results, government regulation, and employee base.\\n\\nc. Evaluate if the context contains all and only the important aspects of the answer: The context provides a comprehensive list of risk factors that could impact the company's business operations and financial performance, making it relevant to the question.\\n\\n2. Step-by-step explanation of the context adhering to the metric:\\n\\na. Identify the question's main aspects: The main aspects of the question are the key risk factors that could impact the company's business operations and financial performance.\\n\\nb. Analyze the context: The context starts with a clear statement that the company is subject to various risks and uncertainties, and proceeds to list several risks related to the company's product offerings, business operations, financial results, government regulation, and employee base.\\n\\nc. Evaluate the context: The context provided is relevant to the question, as it addresses all the main aspects of the question by listing various risk factors that could impact the company's business operations and financial performance.\\n\\n3. Extent to which the metric is followed: The context follows the relevance metric completely, as it addresses all the main aspects of the question and provides a comprehensive list of risk factors that could impact the company's business operations and financial performance.\\n\\n4. Assign a score: Since the context follows the relevance metric completely, a score of 5 is assigned.\"\n        ],\n        \"semantic_type\": \"\",\n        \"description\": \"\"\n      }\n    }\n  ]\n}"
            }
          },
          "metadata": {},
          "execution_count": 58
        }
      ]
    },
    {
      "cell_type": "markdown",
      "source": [
        "You might experience some hallucination in LLM's response. Try to change your prompt to mitigate this. Selecting a good model will also help mitigating hallucination, increase groundedness and relevance."
      ],
      "metadata": {
        "id": "XmH3MYjoMAH5"
      }
    },
    {
      "cell_type": "markdown",
      "source": [
        "# Gradio Interface"
      ],
      "metadata": {
        "id": "AZ0hiDYNR-Hr"
      }
    },
    {
      "cell_type": "code",
      "source": [
        "%%writefile requirements.txt\n",
        "openai==1.23.2\n",
        "chromadb==0.4.22\n",
        "langchain==0.1.9\n",
        "langchain-community==0.0.32\n",
        "sentence-transformers==2.3.1\n",
        "gradio"
      ],
      "metadata": {
        "colab": {
          "base_uri": "https://localhost:8080/"
        },
        "id": "FRtddGwRnYT4",
        "outputId": "ae3ad3a1-5016-4c12-c8d8-5300c950f305"
      },
      "execution_count": null,
      "outputs": [
        {
          "output_type": "stream",
          "name": "stdout",
          "text": [
            "Writing requirements.txt\n"
          ]
        }
      ]
    },
    {
      "cell_type": "code",
      "source": [
        "%%writefile app.py\n",
        "\n",
        "# Import the necessary Libraries\n",
        "import os\n",
        "import uuid\n",
        "import json\n",
        "\n",
        "import gradio as gr\n",
        "\n",
        "from openai import OpenAI\n",
        "\n",
        "from langchain_community.embeddings.sentence_transformer import SentenceTransformerEmbeddings\n",
        "from langchain_community.vectorstores import Chroma\n",
        "\n",
        "from huggingface_hub import CommitScheduler\n",
        "from pathlib import Path\n",
        "from dotenv import load_dotenv\n",
        "\n",
        "\n",
        "# Create Client\n",
        "load_dotenv()\n",
        "\n",
        "os.environ[\"ANYSCALE_API_KEY\"]=os.getenv(\"ANYSCALE_API_KEY\")\n",
        "\n",
        "client = OpenAI(\n",
        "    base_url=\"https://api.endpoints.anyscale.com/v1\",\n",
        "    api_key=os.environ['ANYSCALE_API_KEY']\n",
        ")\n",
        "\n",
        "embedding_model = SentenceTransformerEmbeddings(model_name='thenlper/gte-large')\n",
        "# Define the embedding model and the vectorstore\n",
        "\n",
        "collection_name = 'report-10k-2024'\n",
        "\n",
        "vectorstore_persisted = Chroma(\n",
        "    collection_name=collection_name,\n",
        "    persist_directory='./report_10kdb',\n",
        "    embedding_function=embedding_model\n",
        ")\n",
        "\n",
        "# Load the persisted vectorDB\n",
        "\n",
        "retriever = vectorstore_persisted.as_retriever(\n",
        "    search_type='similarity',\n",
        "    search_kwargs={'k': 5}\n",
        ")\n",
        "\n",
        "\n",
        "# Prepare the logging functionality\n",
        "\n",
        "log_file = Path(\"logs/\") / f\"data_{uuid.uuid4()}.json\"\n",
        "log_folder = log_file.parent\n",
        "\n",
        "scheduler = CommitScheduler(\n",
        "    repo_id=\"RAG-investment-recommendation-log\",\n",
        "    repo_type=\"dataset\",\n",
        "    folder_path=log_folder,\n",
        "    path_in_repo=\"data\",\n",
        "    every=2\n",
        ")\n",
        "\n",
        "# Define the Q&A system message\n",
        "\n",
        "qna_system_message = \"\"\"\n",
        "You are an AI assistant to help Finsights Grey Inc., an innovative financial technology firm, develop a Retrieval-Augmented Generation (RAG) system to automate the extraction, summarization, and analysis of information from 10-K reports. Your knowledge base was last updated in August 2023.\n",
        "\n",
        "User input will have the context required by you to answer user questions. This context will begin with the token: ###Context.\n",
        "The context contains references to specific portions of a 10-K report relevant to the user query.\n",
        "\n",
        "User questions will begin with the token: ###Question.\n",
        "Your response should only be about the question asked and the context provided.\n",
        "Answer only using the context provided.\n",
        "Do not mention anything about the context in your final answer.\n",
        "If the answer is not found in the context, it is very important for you to respond with \"I don't know.\"\n",
        "Always quote the source when you use the context. Cite the relevant source at the end of your response under the section - Source:\n",
        "Do not make up sources. Use the links provided in the sources section of the context and nothing else. You are prohibited from providing other links/sources.\n",
        "Here is an example of how to structure your response:\n",
        "\n",
        "Answer:\n",
        "[Answer]\n",
        "\n",
        "Source:\n",
        "[Source]\n",
        "\"\"\"\n",
        "\n",
        "# Define the user message template\n",
        "qna_user_message_template = \"\"\"\n",
        "###Context\n",
        "Here are some documents that are relevant to the question.\n",
        "{context}\n",
        "```\n",
        "{question}\n",
        "```\n",
        "\"\"\"\n",
        "\n",
        "# Define the predict function that runs when 'Submit' is clicked or when a API request is made\n",
        "def predict(user_input,company):\n",
        "\n",
        "    filter = \"dataset/\"+company+\"-10-k-2023.pdf\"\n",
        "    relevant_document_chunks = vectorstore_persisted.similarity_search(user_input, k=5, filter={\"source\":filter})\n",
        "\n",
        "    # Create context_for_query\n",
        "    context_list = [d.page_content for d in relevant_document_chunks]\n",
        "    context_for_query = \".\".join(context_list)\n",
        "\n",
        "    # Create messages\n",
        "    prompt = [\n",
        "        {'role':'system', 'content': qna_system_message},\n",
        "        {'role': 'user', 'content': qna_user_message_template.format(\n",
        "            context=context_for_query,\n",
        "            question=user_input\n",
        "            )\n",
        "        }\n",
        "    ]\n",
        "\n",
        "    # Get response from the LLM\n",
        "    try:\n",
        "        response = client.chat.completions.create(\n",
        "            model='mistralai/Mixtral-8x7B-Instruct-v0.1',\n",
        "            messages=prompt,\n",
        "            temperature=0\n",
        "        )\n",
        "\n",
        "        prediction = response.choices[0].message.content\n",
        "\n",
        "    except Exception as e:\n",
        "        prediction = e\n",
        "\n",
        "    # While the prediction is made, log both the inputs and outputs to a local log file\n",
        "    # While writing to the log file, ensure that the commit scheduler is locked to avoid parallel\n",
        "    # access\n",
        "\n",
        "    with scheduler.lock:\n",
        "        with log_file.open(\"a\") as f:\n",
        "            f.write(json.dumps(\n",
        "                {\n",
        "                    'user_input': user_input,\n",
        "                    'retrieved_context': context_for_query,\n",
        "                    'model_response': prediction\n",
        "                }\n",
        "            ))\n",
        "            f.write(\"\\n\")\n",
        "\n",
        "    return prediction\n",
        "\n",
        "\n",
        "def get_predict(question, company):\n",
        "    # Implement your prediction logic here\n",
        "    if company == \"AWS\":\n",
        "        # Perform prediction for AWS\n",
        "        selectedCompany = \"aws\"\n",
        "    elif company == \"IBM\":\n",
        "        # Perform prediction for IBM\n",
        "        selectedCompany = \"IBM\"\n",
        "    elif company == \"Google\":\n",
        "        # Perform prediction for Google\n",
        "       selectedCompany = \"Google\"\n",
        "    elif company == \"Meta\":\n",
        "        # Perform prediction for Meta\n",
        "        selectedCompany = \"meta\"\n",
        "    elif company == \"Microsoft\":\n",
        "        # Perform prediction for Microsoft\n",
        "        selectedCompany = \"msft\"\n",
        "    else:\n",
        "        return \"Invalid company selected\"\n",
        "\n",
        "    output = predict(question, selectedCompany)\n",
        "    return output\n",
        "\n",
        "# Set-up the Gradio UI\n",
        "# Add text box and radio button to the interface\n",
        "# The radio button is used to select the company 10k report in which the context needs to be retrieved.\n",
        "\n",
        "# Create the interface\n",
        "# For the inputs parameter of Interface provide [textbox,company]\n",
        "\n",
        "with gr.Blocks(theme=\"gradio/seafoam@>=0.0.1,<0.1.0\") as demo:\n",
        "    with gr.Row():\n",
        "        company = gr.Radio([\"AWS\", \"IBM\", \"Google\", \"Meta\", \"Microsoft\"], label=\"Select a company\")\n",
        "        question = gr.Textbox(label=\"Enter your question\")\n",
        "\n",
        "\n",
        "    submit = gr.Button(\"Submit\")\n",
        "    output = gr.Textbox(label=\"Output\")\n",
        "\n",
        "    submit.click(\n",
        "        fn=get_predict,\n",
        "        inputs=[question, company],\n",
        "        outputs=output\n",
        "    )\n",
        "\n",
        "demo.queue()\n",
        "demo.launch()"
      ],
      "metadata": {
        "id": "vHvL5tOCSCyh",
        "colab": {
          "base_uri": "https://localhost:8080/"
        },
        "outputId": "d606b2aa-3bf0-4bf1-fd8b-c510de32c004"
      },
      "execution_count": null,
      "outputs": [
        {
          "output_type": "stream",
          "name": "stdout",
          "text": [
            "Overwriting app.py\n"
          ]
        }
      ]
    },
    {
      "cell_type": "markdown",
      "source": [
        "### Paste your gradio app link and logs link\n",
        "\n",
        "*   app link here\n",
        "\n",
        "https://huggingface.co/spaces/mayankchugh-learning/RAG-Finsights-Grey-for-Effective-Information-Retrieval\n",
        "\n",
        "User  - demouser\n",
        "\n",
        "Password - Pass@12345\n",
        "\n",
        "*   logs_dataset link here\n",
        "\n",
        "https://huggingface.co/datasets/mayankchugh-learning/RAG-investment-recommendation-log\n",
        "\n",
        "\n",
        "Note: Make sure your Hugging Face space repository and the logs_dataset are set to public. If it's private, the evaluator won't be able to access the app you've built, which could result in losing marks."
      ],
      "metadata": {
        "id": "-T4NaXQaiCSk"
      }
    },
    {
      "cell_type": "markdown",
      "source": [
        "# Convert ipynb to HTML"
      ],
      "metadata": {
        "id": "2agZVT6-inHs"
      }
    },
    {
      "cell_type": "markdown",
      "source": [
        "Instructions:\n",
        "1. Go to File\n",
        "2. Download these current working Notebook in to ipynb format\n",
        "3. Now, run the below code, select the notebook from local where you downloaded the file\n",
        "4. Wait for few sec, your notebook will automatically converted in to html format and save in your local pc\n"
      ],
      "metadata": {
        "id": "xuPA2F1dikeM"
      }
    },
    {
      "cell_type": "code",
      "source": [
        "# @title HTML Convert\n",
        "# Upload ipynb\n",
        " from google.colab import files\n",
        " f = files.upload()\n",
        "\n",
        "# Convert ipynb to html\n",
        "# import subprocess\n",
        " ile0 = list(f.keys())[0]\n",
        "# _ = subprocess.run([\"pip\", \"install\", \"nbconvert\"])\n",
        "_ = subprocess.run([\"jupyter\", \"nbconvert\", file0, \"--to\", \"html\"])\n",
        "\n",
        "# download the html\n",
        " files.download(file0[:-5]+\"html\")\n"
      ],
      "metadata": {
        "id": "p7-uT_rmiqYG"
      },
      "execution_count": null,
      "outputs": []
    },
    {
      "cell_type": "markdown",
      "source": [
        "## Power Ahead!"
      ],
      "metadata": {
        "id": "IupYsIVREnKU"
      }
    }
  ]
}