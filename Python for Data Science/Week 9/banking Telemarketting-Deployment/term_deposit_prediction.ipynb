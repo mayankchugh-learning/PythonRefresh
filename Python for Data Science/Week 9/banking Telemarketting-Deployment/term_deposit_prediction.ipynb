{
 "cells": [
  {
   "cell_type": "markdown",
   "metadata": {
    "id": "lXl834EwgO2r"
   },
   "source": [
    "# Online and Batch Predictions using the Gradio API"
   ]
  },
  {
   "cell_type": "code",
   "execution_count": 2,
   "metadata": {
    "colab": {
     "base_uri": "https://localhost:8080/"
    },
    "executionInfo": {
     "elapsed": 9361,
     "status": "ok",
     "timestamp": 1713176966537,
     "user": {
      "displayName": "Praneeth Kumar",
      "userId": "00144813861466085627"
     },
     "user_tz": -330
    },
    "id": "AqkyIqoQhORh",
    "outputId": "6b04ce0c-0255-4d03-8e4d-04e4de8a3436"
   },
   "outputs": [],
   "source": [
    "# Install the gradio_client package silently\n",
    "!pip install -q gradio_client"
   ]
  },
  {
   "cell_type": "code",
   "execution_count": 3,
   "metadata": {
    "id": "_6hqa3y5hWQ2"
   },
   "outputs": [],
   "source": [
    "import time  # Import the time module for time-related functions\n",
    "from gradio_client import Client  # Import the Gradio client for interacting with Gradio interfaces\n",
    "from sklearn.datasets import fetch_openml  # Import fetch_openml to fetch datasets\n",
    "from sklearn.model_selection import train_test_split  # Import train_test_split for splitting datasets\n",
    "from tqdm import tqdm  # Import tqdm for progress bars"
   ]
  },
  {
   "cell_type": "markdown",
   "metadata": {
    "id": "nHr-lJsMiAr3"
   },
   "source": [
    "# Test Data"
   ]
  },
  {
   "cell_type": "code",
   "execution_count": 4,
   "metadata": {
    "id": "UkgdHHg2hzRg"
   },
   "outputs": [],
   "source": [
    "import pandas as pd  # Import pandas for data manipulation\n",
    "from sklearn.model_selection import train_test_split  # Import train_test_split for splitting datasets\n",
    "\n",
    "# Read the dataset from the CSV file into a DataFrame\n",
    "data_df = pd.read_csv(\"Bank_Telemarketing.csv\")\n",
    "\n",
    "# Drop the specified columns from the DataFrame\n",
    "data_df = data_df.drop(columns=['customer_id', 'email_id', 'first_name', 'last_name'])\n",
    "\n",
    "# Define numerical and categorical feature columns\n",
    "numerical_features = data_df[['Age', 'Duration(Sec)', 'CC Contact Freq', 'Days Since PC', 'PC Contact Freq']].columns\n",
    "categorical_features = data_df.select_dtypes(include=['object']).columns\n",
    "\n",
    "# Separate features (X) and target variable (y)\n",
    "X = data_df.drop('subscribed', axis=1)\n",
    "y = data_df['subscribed']\n",
    "\n",
    "# Split the dataset into training and testing sets\n",
    "Xtrain, Xtest, ytrain, ytest = train_test_split(\n",
    "    X, y,\n",
    "    test_size=0.2,\n",
    "    random_state=42\n",
    ")"
   ]
  },
  {
   "cell_type": "code",
   "execution_count": 5,
   "metadata": {
    "colab": {
     "base_uri": "https://localhost:8080/"
    },
    "executionInfo": {
     "elapsed": 8,
     "status": "ok",
     "timestamp": 1713176969210,
     "user": {
      "displayName": "Praneeth Kumar",
      "userId": "00144813861466085627"
     },
     "user_tz": -330
    },
    "id": "8polBKfli8zm",
    "outputId": "9e14ae5c-5ab9-4621-e4e7-c21a1b6a1a89"
   },
   "outputs": [
    {
     "data": {
      "text/plain": [
       "(8237, 15)"
      ]
     },
     "execution_count": 5,
     "metadata": {},
     "output_type": "execute_result"
    }
   ],
   "source": [
    "# Check the shape of the testing features dataset\n",
    "Xtest.shape"
   ]
  },
  {
   "cell_type": "code",
   "execution_count": 6,
   "metadata": {
    "colab": {
     "base_uri": "https://localhost:8080/",
     "height": 196
    },
    "executionInfo": {
     "elapsed": 465,
     "status": "ok",
     "timestamp": 1713176969670,
     "user": {
      "displayName": "Praneeth Kumar",
      "userId": "00144813861466085627"
     },
     "user_tz": -330
    },
    "id": "2u29J1KRiZfz",
    "outputId": "8e858137-3a83-4cee-e3fc-ff6d39b7aa86"
   },
   "outputs": [
    {
     "data": {
      "text/html": [
       "<div>\n",
       "<style scoped>\n",
       "    .dataframe tbody tr th:only-of-type {\n",
       "        vertical-align: middle;\n",
       "    }\n",
       "\n",
       "    .dataframe tbody tr th {\n",
       "        vertical-align: top;\n",
       "    }\n",
       "\n",
       "    .dataframe thead th {\n",
       "        text-align: right;\n",
       "    }\n",
       "</style>\n",
       "<table border=\"1\" class=\"dataframe\">\n",
       "  <thead>\n",
       "    <tr style=\"text-align: right;\">\n",
       "      <th></th>\n",
       "      <th>Age</th>\n",
       "      <th>Job</th>\n",
       "      <th>Marital Status</th>\n",
       "      <th>Education</th>\n",
       "      <th>Defaulter</th>\n",
       "      <th>Home Loan</th>\n",
       "      <th>Personal Loan</th>\n",
       "      <th>Communication Type</th>\n",
       "      <th>Last Contacted</th>\n",
       "      <th>Day of Week</th>\n",
       "      <th>Duration(Sec)</th>\n",
       "      <th>CC Contact Freq</th>\n",
       "      <th>Days Since PC</th>\n",
       "      <th>PC Contact Freq</th>\n",
       "      <th>PC Outcome</th>\n",
       "    </tr>\n",
       "  </thead>\n",
       "  <tbody>\n",
       "    <tr>\n",
       "      <th>28870</th>\n",
       "      <td>45.0</td>\n",
       "      <td>blue-collar</td>\n",
       "      <td>married</td>\n",
       "      <td>Others</td>\n",
       "      <td>no</td>\n",
       "      <td>yes</td>\n",
       "      <td>no</td>\n",
       "      <td>cellular</td>\n",
       "      <td>apr</td>\n",
       "      <td>thu</td>\n",
       "      <td>944</td>\n",
       "      <td>1</td>\n",
       "      <td>0</td>\n",
       "      <td>1</td>\n",
       "      <td>failure</td>\n",
       "    </tr>\n",
       "    <tr>\n",
       "      <th>24606</th>\n",
       "      <td>46.0</td>\n",
       "      <td>entrepreneur</td>\n",
       "      <td>married</td>\n",
       "      <td>university degree</td>\n",
       "      <td>no</td>\n",
       "      <td>yes</td>\n",
       "      <td>yes</td>\n",
       "      <td>cellular</td>\n",
       "      <td>nov</td>\n",
       "      <td>mon</td>\n",
       "      <td>78</td>\n",
       "      <td>2</td>\n",
       "      <td>0</td>\n",
       "      <td>1</td>\n",
       "      <td>failure</td>\n",
       "    </tr>\n",
       "    <tr>\n",
       "      <th>5382</th>\n",
       "      <td>26.0</td>\n",
       "      <td>services</td>\n",
       "      <td>single</td>\n",
       "      <td>high school</td>\n",
       "      <td>no</td>\n",
       "      <td>no</td>\n",
       "      <td>no</td>\n",
       "      <td>telephone</td>\n",
       "      <td>may</td>\n",
       "      <td>fri</td>\n",
       "      <td>211</td>\n",
       "      <td>4</td>\n",
       "      <td>0</td>\n",
       "      <td>0</td>\n",
       "      <td>nonexistent</td>\n",
       "    </tr>\n",
       "  </tbody>\n",
       "</table>\n",
       "</div>"
      ],
      "text/plain": [
       "        Age           Job Marital Status          Education Defaulter  \\\n",
       "28870  45.0   blue-collar        married             Others        no   \n",
       "24606  46.0  entrepreneur        married  university degree        no   \n",
       "5382   26.0      services         single        high school        no   \n",
       "\n",
       "      Home Loan Personal Loan Communication Type Last Contacted Day of Week  \\\n",
       "28870       yes            no           cellular            apr         thu   \n",
       "24606       yes           yes           cellular            nov         mon   \n",
       "5382         no            no          telephone            may         fri   \n",
       "\n",
       "       Duration(Sec)  CC Contact Freq  Days Since PC  PC Contact Freq  \\\n",
       "28870            944                1              0                1   \n",
       "24606             78                2              0                1   \n",
       "5382             211                4              0                0   \n",
       "\n",
       "        PC Outcome  \n",
       "28870      failure  \n",
       "24606      failure  \n",
       "5382   nonexistent  "
      ]
     },
     "execution_count": 6,
     "metadata": {},
     "output_type": "execute_result"
    }
   ],
   "source": [
    "# Display the first 3 rows of the testing features dataset\n",
    "Xtest.head(3)"
   ]
  },
  {
   "cell_type": "code",
   "execution_count": 7,
   "metadata": {
    "id": "ASIgBQoqfVNe"
   },
   "outputs": [],
   "source": [
    "# Rearrange the columns in to numerical and categorical features\n",
    "Xtest = Xtest[['Age', 'Duration(Sec)', 'CC Contact Freq', 'Days Since PC',\n",
    "               'PC Contact Freq','Job', 'Marital Status', 'Education', 'Defaulter', 'Home Loan',\n",
    "               'Personal Loan', 'Communication Type', 'Last Contacted', 'Day of Week',\n",
    "               'PC Outcome']]"
   ]
  },
  {
   "cell_type": "code",
   "execution_count": 8,
   "metadata": {
    "colab": {
     "base_uri": "https://localhost:8080/"
    },
    "executionInfo": {
     "elapsed": 3,
     "status": "ok",
     "timestamp": 1713180156083,
     "user": {
      "displayName": "Praneeth Kumar",
      "userId": "00144813861466085627"
     },
     "user_tz": -330
    },
    "id": "8Lqv_mP3igAN",
    "outputId": "d2d57809-958d-4076-d0cd-5025261dc7b2"
   },
   "outputs": [
    {
     "data": {
      "text/plain": [
       "[26.0,\n",
       " 211,\n",
       " 4,\n",
       " 0,\n",
       " 0,\n",
       " 'services',\n",
       " 'single',\n",
       " 'high school',\n",
       " 'no',\n",
       " 'no',\n",
       " 'no',\n",
       " 'telephone',\n",
       " 'may',\n",
       " 'fri',\n",
       " 'nonexistent']"
      ]
     },
     "execution_count": 8,
     "metadata": {},
     "output_type": "execute_result"
    }
   ],
   "source": [
    "# Retrieve the values of a specific row (index 5382) from the testing features dataset and convert them to a list\n",
    "Xtest.loc[5382].tolist()"
   ]
  },
  {
   "cell_type": "code",
   "execution_count": 9,
   "metadata": {
    "id": "J7GEWMhwjCdC"
   },
   "outputs": [],
   "source": [
    "# Randomly sample 100 rows from the testing features dataset\n",
    "Xtest_sample = Xtest.sample(100)"
   ]
  },
  {
   "cell_type": "code",
   "execution_count": 10,
   "metadata": {
    "id": "UsC7wJJPjGhu"
   },
   "outputs": [],
   "source": [
    "# Convert the sampled rows from the DataFrame to a list of tuples\n",
    "Xtest_sample_rows = list(Xtest_sample.itertuples(index=False, name=None))"
   ]
  },
  {
   "cell_type": "code",
   "execution_count": 11,
   "metadata": {
    "colab": {
     "base_uri": "https://localhost:8080/"
    },
    "executionInfo": {
     "elapsed": 3,
     "status": "ok",
     "timestamp": 1713180162395,
     "user": {
      "displayName": "Praneeth Kumar",
      "userId": "00144813861466085627"
     },
     "user_tz": -330
    },
    "id": "4pgM6Xgtj3zj",
    "outputId": "0f90f624-8aa6-40f3-8fd3-517268649129"
   },
   "outputs": [
    {
     "data": {
      "text/plain": [
       "(30.0,\n",
       " 283,\n",
       " 1,\n",
       " 0,\n",
       " 0,\n",
       " 'management',\n",
       " 'married',\n",
       " 'university degree',\n",
       " 'no',\n",
       " 'no',\n",
       " 'no',\n",
       " 'cellular',\n",
       " 'may',\n",
       " 'wed',\n",
       " 'nonexistent')"
      ]
     },
     "execution_count": 11,
     "metadata": {},
     "output_type": "execute_result"
    }
   ],
   "source": [
    "# Access the first tuple in the list of sampled rows\n",
    "Xtest_sample_rows[0]"
   ]
  },
  {
   "cell_type": "markdown",
   "metadata": {
    "id": "R76BjqoEiQZp"
   },
   "source": [
    "# Inference"
   ]
  },
  {
   "cell_type": "code",
   "execution_count": 12,
   "metadata": {
    "executionInfo": {
     "elapsed": 4,
     "status": "ok",
     "timestamp": 1713445929648,
     "user": {
      "displayName": "Praneeth Kumar",
      "userId": "00144813861466085627"
     },
     "user_tz": -330
    },
    "id": "DmLUATIshX8x"
   },
   "outputs": [
    {
     "name": "stdout",
     "output_type": "stream",
     "text": [
      "Loaded as API: https://mayankchugh-learning-tele-marketing.hf.space ✔\n"
     ]
    }
   ],
   "source": [
    "# Create a Gradio client instance for the specified Gradio interface\n",
    "client = Client(\"mayankchugh-learning/Tele-Marketing\")"
   ]
  },
  {
   "cell_type": "markdown",
   "metadata": {
    "id": "LlNyuobOk-Nz"
   },
   "source": [
    "## Online/Real time"
   ]
  },
  {
   "cell_type": "code",
   "execution_count": 13,
   "metadata": {
    "id": "zwCtvdcqkIG2"
   },
   "outputs": [],
   "source": [
    "# Submit a prediction request to the Gradio interface with the given input values\n",
    "job = client.predict(\n",
    "    age=3,\n",
    "    duration=3,\n",
    "    cc_contact_freq=3,\n",
    "    days_since_pc=3,\n",
    "    pc_contact_freq=3,\n",
    "    job=\"admin.\",\n",
    "    marital_status=\"married\",\n",
    "    education=\"experience\",\n",
    "    defaulter=\"yes\",\n",
    "    home_loan=\"yes\",\n",
    "    personal_loan=\"yes\",\n",
    "    communication_type=\"cellular\",\n",
    "    last_contacted=\"may\",\n",
    "    day_of_week=\"thu\",\n",
    "    pc_outcome=\"success\",\n",
    "    api_name=\"/predict\"\n",
    ")"
   ]
  },
  {
   "cell_type": "code",
   "execution_count": 14,
   "metadata": {
    "colab": {
     "base_uri": "https://localhost:8080/"
    },
    "executionInfo": {
     "elapsed": 4,
     "status": "ok",
     "timestamp": 1713180164726,
     "user": {
      "displayName": "Praneeth Kumar",
      "userId": "00144813861466085627"
     },
     "user_tz": -330
    },
    "id": "iXPyA3WYkvII",
    "outputId": "1933f76f-1d4b-4596-903d-9a48fe5ecae3"
   },
   "outputs": [
    {
     "name": "stdout",
     "output_type": "stream",
     "text": [
      "{'label': '0', 'confidences': None}\n"
     ]
    }
   ],
   "source": [
    "# Print the prediction result returned by the Gradio interface\n",
    "print(job)"
   ]
  },
  {
   "cell_type": "markdown",
   "metadata": {
    "id": "iDORkOkBlNTf"
   },
   "source": [
    "## Batch"
   ]
  },
  {
   "cell_type": "code",
   "execution_count": 15,
   "metadata": {
    "id": "0xGAU0EelVnV"
   },
   "outputs": [],
   "source": [
    "# Initialize an empty list to store batch predictions\n",
    "batch_predictions = []"
   ]
  },
  {
   "cell_type": "code",
   "execution_count": 16,
   "metadata": {
    "colab": {
     "base_uri": "https://localhost:8080/"
    },
    "executionInfo": {
     "elapsed": 123030,
     "status": "ok",
     "timestamp": 1713180288965,
     "user": {
      "displayName": "Praneeth Kumar",
      "userId": "00144813861466085627"
     },
     "user_tz": -330
    },
    "id": "0kYU2lspj_h2",
    "outputId": "2a8a34da-9116-4eaf-9962-9799bb18dab5"
   },
   "outputs": [
    {
     "name": "stderr",
     "output_type": "stream",
     "text": [
      "100%|███████████████████████████████████████████████████████████████████████████████████████████████████████████████████████████████████████████████████████████████████████████████| 100/100 [06:31<00:00,  3.91s/it]\n"
     ]
    }
   ],
   "source": [
    "from tqdm import tqdm  # Import tqdm for progress bars\n",
    "import time  # Import time for time-related functions\n",
    "\n",
    "batch_predictions = []  # Initialize an empty list to store batch predictions\n",
    "\n",
    "# Iterate through the sampled rows and submit prediction requests to the Gradio interface\n",
    "for row in tqdm(Xtest_sample_rows):\n",
    "    try:\n",
    "        # Submit a prediction request for the current row\n",
    "        job = client.submit(\n",
    "            age=row[0],\n",
    "            duration=row[1],\n",
    "            cc_contact_freq=row[2],\n",
    "            days_since_pc=row[3],\n",
    "            pc_contact_freq=row[4],\n",
    "            job=row[5],\n",
    "            marital_status=row[6],\n",
    "            education=row[7],\n",
    "            defaulter=row[8],\n",
    "            home_loan=row[9],\n",
    "            personal_loan=row[10],\n",
    "            communication_type=row[11],\n",
    "            last_contacted=row[12],\n",
    "            day_of_week=row[13],\n",
    "            pc_outcome=row[14],\n",
    "            api_name=\"/predict\"\n",
    "        )\n",
    "\n",
    "        # Wait for the job to complete and get the result\n",
    "        job_result = job.result()\n",
    "\n",
    "        # Append the prediction result to batch_predictions\n",
    "        batch_predictions.append(job_result)\n",
    "\n",
    "        # Sleep for 1 second before processing the next row\n",
    "        time.sleep(1)\n",
    "\n",
    "    except Exception as e:\n",
    "        # Print any exceptions that occur during prediction\n",
    "        print(f\"Error processing row {row}: {e}\")\n",
    "        # If you want to continue processing other rows even after an error,\n",
    "        # comment out the following line. Otherwise, the loop will stop on the first error.\n",
    "        # break"
   ]
  },
  {
   "cell_type": "code",
   "execution_count": 17,
   "metadata": {
    "colab": {
     "base_uri": "https://localhost:8080/"
    },
    "executionInfo": {
     "elapsed": 429,
     "status": "ok",
     "timestamp": 1713180292258,
     "user": {
      "displayName": "Praneeth Kumar",
      "userId": "00144813861466085627"
     },
     "user_tz": -330
    },
    "id": "rZu_UaAznHS2",
    "outputId": "f60b6b89-94ce-47c6-c684-3529867ec98f"
   },
   "outputs": [
    {
     "data": {
      "text/plain": [
       "[{'label': '0', 'confidences': None},\n",
       " {'label': '0', 'confidences': None},\n",
       " {'label': '0', 'confidences': None},\n",
       " {'label': '1', 'confidences': None},\n",
       " {'label': '0', 'confidences': None},\n",
       " {'label': '0', 'confidences': None},\n",
       " {'label': '0', 'confidences': None},\n",
       " {'label': '0', 'confidences': None},\n",
       " {'label': '0', 'confidences': None},\n",
       " {'label': '0', 'confidences': None},\n",
       " {'label': '0', 'confidences': None},\n",
       " {'label': '0', 'confidences': None},\n",
       " {'label': '0', 'confidences': None},\n",
       " {'label': '0', 'confidences': None}]"
      ]
     },
     "execution_count": 17,
     "metadata": {},
     "output_type": "execute_result"
    }
   ],
   "source": [
    "# Display the first 14 predictions from the batch_predictions list\n",
    "batch_predictions[0:14]"
   ]
  },
  {
   "cell_type": "code",
   "execution_count": null,
   "metadata": {},
   "outputs": [],
   "source": []
  }
 ],
 "metadata": {
  "colab": {
   "provenance": []
  },
  "kernelspec": {
   "display_name": "Python 3 (ipykernel)",
   "language": "python",
   "name": "python3"
  },
  "language_info": {
   "codemirror_mode": {
    "name": "ipython",
    "version": 3
   },
   "file_extension": ".py",
   "mimetype": "text/x-python",
   "name": "python",
   "nbconvert_exporter": "python",
   "pygments_lexer": "ipython3",
   "version": "3.11.7"
  }
 },
 "nbformat": 4,
 "nbformat_minor": 1
}
