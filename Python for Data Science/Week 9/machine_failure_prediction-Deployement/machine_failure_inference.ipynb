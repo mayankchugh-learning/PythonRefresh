{
 "cells": [
  {
   "cell_type": "code",
   "execution_count": 26,
   "metadata": {
    "colab": {
     "base_uri": "https://localhost:8080/"
    },
    "id": "AqkyIqoQhORh",
    "outputId": "8de02391-27d0-42aa-887b-578b2d6b79dc"
   },
   "outputs": [],
   "source": [
    "# Install the gradio_client package silently\n",
    "!pip install -q gradio_client\n"
   ]
  },
  {
   "cell_type": "code",
   "execution_count": 27,
   "metadata": {
    "id": "_6hqa3y5hWQ2"
   },
   "outputs": [],
   "source": [
    "import time  # Import the time module for time-related functions\n",
    "from gradio_client import Client  # Import the Gradio client for interacting with Gradio interfaces\n",
    "from sklearn.datasets import fetch_openml  # Import fetch_openml to fetch datasets\n",
    "from sklearn.model_selection import train_test_split  # Import train_test_split for splitting datasets\n",
    "from tqdm import tqdm  # Import tqdm for progress bars"
   ]
  },
  {
   "cell_type": "markdown",
   "metadata": {
    "id": "nHr-lJsMiAr3"
   },
   "source": [
    "# Test Data"
   ]
  },
  {
   "cell_type": "code",
   "execution_count": 28,
   "metadata": {
    "id": "UkgdHHg2hzRg"
   },
   "outputs": [],
   "source": [
    "# Fetch the dataset with ID 42890 in a DataFrame format\n",
    "dataset = fetch_openml(data_id=42890, as_frame=True, parser=\"auto\")\n",
    "\n",
    "# Extract the data from the dataset\n",
    "data_df = dataset.data\n",
    "\n",
    "# Define the target variable\n",
    "target = 'Machine failure'\n",
    "\n",
    "# Define numeric and categorical features\n",
    "numeric_features = [\n",
    "    'Air temperature [K]',\n",
    "    'Process temperature [K]',\n",
    "    'Rotational speed [rpm]',\n",
    "    'Torque [Nm]',\n",
    "    'Tool wear [min]'\n",
    "]\n",
    "categorical_features = ['Type']\n",
    "\n",
    "# Select the features and target variable from the DataFrame\n",
    "X = data_df[numeric_features + categorical_features]\n",
    "y = data_df[target]\n",
    "\n",
    "# Split the dataset into training and testing sets\n",
    "Xtrain, Xtest, ytrain, ytest = train_test_split(\n",
    "    X, y,\n",
    "    test_size=0.2,\n",
    "    random_state=42\n",
    ")"
   ]
  },
  {
   "cell_type": "code",
   "execution_count": 29,
   "metadata": {
    "colab": {
     "base_uri": "https://localhost:8080/"
    },
    "id": "8polBKfli8zm",
    "outputId": "b8933ac6-2117-4bab-a801-c05d9e1ea1e4"
   },
   "outputs": [
    {
     "data": {
      "text/plain": [
       "(2000, 6)"
      ]
     },
     "execution_count": 29,
     "metadata": {},
     "output_type": "execute_result"
    }
   ],
   "source": [
    "# Check the shape of the testing features dataset\n",
    "Xtest.shape"
   ]
  },
  {
   "cell_type": "code",
   "execution_count": 30,
   "metadata": {
    "colab": {
     "base_uri": "https://localhost:8080/",
     "height": 143
    },
    "id": "2u29J1KRiZfz",
    "outputId": "0bf3a999-fb58-48fe-aaee-035ea5a54f74"
   },
   "outputs": [
    {
     "data": {
      "text/html": [
       "<div>\n",
       "<style scoped>\n",
       "    .dataframe tbody tr th:only-of-type {\n",
       "        vertical-align: middle;\n",
       "    }\n",
       "\n",
       "    .dataframe tbody tr th {\n",
       "        vertical-align: top;\n",
       "    }\n",
       "\n",
       "    .dataframe thead th {\n",
       "        text-align: right;\n",
       "    }\n",
       "</style>\n",
       "<table border=\"1\" class=\"dataframe\">\n",
       "  <thead>\n",
       "    <tr style=\"text-align: right;\">\n",
       "      <th></th>\n",
       "      <th>Air temperature [K]</th>\n",
       "      <th>Process temperature [K]</th>\n",
       "      <th>Rotational speed [rpm]</th>\n",
       "      <th>Torque [Nm]</th>\n",
       "      <th>Tool wear [min]</th>\n",
       "      <th>Type</th>\n",
       "    </tr>\n",
       "  </thead>\n",
       "  <tbody>\n",
       "    <tr>\n",
       "      <th>6252</th>\n",
       "      <td>300.8</td>\n",
       "      <td>310.3</td>\n",
       "      <td>1538</td>\n",
       "      <td>36.1</td>\n",
       "      <td>198</td>\n",
       "      <td>L</td>\n",
       "    </tr>\n",
       "    <tr>\n",
       "      <th>4684</th>\n",
       "      <td>303.6</td>\n",
       "      <td>311.8</td>\n",
       "      <td>1421</td>\n",
       "      <td>44.8</td>\n",
       "      <td>101</td>\n",
       "      <td>M</td>\n",
       "    </tr>\n",
       "    <tr>\n",
       "      <th>1731</th>\n",
       "      <td>298.3</td>\n",
       "      <td>307.9</td>\n",
       "      <td>1485</td>\n",
       "      <td>42.0</td>\n",
       "      <td>117</td>\n",
       "      <td>M</td>\n",
       "    </tr>\n",
       "  </tbody>\n",
       "</table>\n",
       "</div>"
      ],
      "text/plain": [
       "      Air temperature [K]  Process temperature [K]  Rotational speed [rpm]  \\\n",
       "6252                300.8                    310.3                    1538   \n",
       "4684                303.6                    311.8                    1421   \n",
       "1731                298.3                    307.9                    1485   \n",
       "\n",
       "      Torque [Nm]  Tool wear [min] Type  \n",
       "6252         36.1              198    L  \n",
       "4684         44.8              101    M  \n",
       "1731         42.0              117    M  "
      ]
     },
     "execution_count": 30,
     "metadata": {},
     "output_type": "execute_result"
    }
   ],
   "source": [
    "# Display the first 3 rows of the testing features dataset\n",
    "Xtest.head(3)"
   ]
  },
  {
   "cell_type": "code",
   "execution_count": 31,
   "metadata": {
    "colab": {
     "base_uri": "https://localhost:8080/"
    },
    "id": "8Lqv_mP3igAN",
    "outputId": "a159e22e-f082-445b-baa3-76293dde003b"
   },
   "outputs": [
    {
     "data": {
      "text/plain": [
       "[300.8, 310.3, 1538, 36.1, 198, 'L']"
      ]
     },
     "execution_count": 31,
     "metadata": {},
     "output_type": "execute_result"
    }
   ],
   "source": [
    "# Retrieve the values of a specific row (index 6252) from the testing features dataset and convert them to a list\n",
    "Xtest.loc[6252].tolist()"
   ]
  },
  {
   "cell_type": "code",
   "execution_count": 32,
   "metadata": {
    "id": "J7GEWMhwjCdC"
   },
   "outputs": [],
   "source": [
    "# Randomly sample 100 rows from the testing features dataset\n",
    "Xtest_sample = Xtest.sample(100)"
   ]
  },
  {
   "cell_type": "code",
   "execution_count": 33,
   "metadata": {
    "id": "UsC7wJJPjGhu"
   },
   "outputs": [],
   "source": [
    "# Convert the sampled rows from the DataFrame to a list of tuples\n",
    "Xtest_sample_rows = list(Xtest_sample.itertuples(index=False, name=None))"
   ]
  },
  {
   "cell_type": "code",
   "execution_count": 34,
   "metadata": {
    "colab": {
     "base_uri": "https://localhost:8080/"
    },
    "id": "4pgM6Xgtj3zj",
    "outputId": "1192bdbe-c955-4dcb-c33c-b3c947952f3e"
   },
   "outputs": [
    {
     "data": {
      "text/plain": [
       "(300.5, 310.4, 1702, 33.1, 71, 'L')"
      ]
     },
     "execution_count": 34,
     "metadata": {},
     "output_type": "execute_result"
    }
   ],
   "source": [
    "# Access the first tuple in the list of sampled rows\n",
    "Xtest_sample_rows[0]"
   ]
  },
  {
   "cell_type": "markdown",
   "metadata": {
    "id": "R76BjqoEiQZp"
   },
   "source": [
    "# Inference"
   ]
  },
  {
   "cell_type": "code",
   "execution_count": 35,
   "metadata": {
    "colab": {
     "base_uri": "https://localhost:8080/"
    },
    "id": "DmLUATIshX8x",
    "outputId": "2985eb39-0cbd-4095-8c3b-5924696a3c9a"
   },
   "outputs": [
    {
     "name": "stdout",
     "output_type": "stream",
     "text": [
      "Loaded as API: https://mayankchugh-learning-machinelearning-demo.hf.space ✔\n"
     ]
    }
   ],
   "source": [
    "# Create a Gradio client instance for the specified Gradio interface\n",
    "client = Client(\"mayankchugh-learning/machinelearning-demo\")"
   ]
  },
  {
   "cell_type": "markdown",
   "metadata": {
    "id": "LlNyuobOk-Nz"
   },
   "source": [
    "## Online/Real time"
   ]
  },
  {
   "cell_type": "code",
   "execution_count": 36,
   "metadata": {
    "id": "zwCtvdcqkIG2"
   },
   "outputs": [],
   "source": [
    "# Submit a prediction request to the Gradio interface with the given input values\n",
    "job = client.submit(\n",
    "    air_temperature=300.5,\n",
    "    process_temperature=310.5,\n",
    "    rotational_speed=1695,\n",
    "    torque=26.7,\n",
    "    tool_wear=28,\n",
    "    type=\"L\",\n",
    "    api_name=\"/predict\"\n",
    ")"
   ]
  },
  {
   "cell_type": "code",
   "execution_count": 37,
   "metadata": {
    "colab": {
     "base_uri": "https://localhost:8080/"
    },
    "id": "iXPyA3WYkvII",
    "outputId": "5cf471e0-c615-481a-865a-911b4659b0fe"
   },
   "outputs": [
    {
     "name": "stdout",
     "output_type": "stream",
     "text": [
      "{'label': '0', 'confidences': None}\n"
     ]
    }
   ],
   "source": [
    "# Print the result of the prediction job\n",
    "print(job.result())"
   ]
  },
  {
   "cell_type": "markdown",
   "metadata": {
    "id": "iDORkOkBlNTf"
   },
   "source": [
    "## Batch"
   ]
  },
  {
   "cell_type": "code",
   "execution_count": 38,
   "metadata": {
    "id": "0xGAU0EelVnV"
   },
   "outputs": [],
   "source": [
    "# Initialize an empty list to store batch predictions\n",
    "batch_predictions = []"
   ]
  },
  {
   "cell_type": "code",
   "execution_count": 39,
   "metadata": {
    "colab": {
     "base_uri": "https://localhost:8080/"
    },
    "id": "0kYU2lspj_h2",
    "outputId": "022608f6-90d2-4210-b5a7-bdd14dd26649"
   },
   "outputs": [
    {
     "name": "stderr",
     "output_type": "stream",
     "text": [
      "100%|███████████████████████████████████████████████████████████████████████████████████████████████████████████████████████████████████████████████████████████████████████████████| 100/100 [07:00<00:00,  4.20s/it]\n"
     ]
    }
   ],
   "source": [
    "# Iterate through the sampled rows and submit prediction requests to the Gradio interface\n",
    "# Store the results in batch_predictions list\n",
    "for row in tqdm(Xtest_sample_rows):\n",
    "    try:\n",
    "        # Submit a prediction request for the current row\n",
    "        job = client.submit(\n",
    "            air_temperature=row[0],\n",
    "            process_temperature=row[1],\n",
    "            rotational_speed=row[2],\n",
    "            torque=row[3],\n",
    "            tool_wear=row[4],\n",
    "            type=row[5],\n",
    "            api_name=\"/predict\"\n",
    "        )\n",
    "\n",
    "        # Append the prediction result to batch_predictions\n",
    "        batch_predictions.append(job.result())\n",
    "\n",
    "        # Sleep for 1 second before the next request\n",
    "        time.sleep(1)\n",
    "\n",
    "    except Exception as e:\n",
    "        # Print any exceptions that occur during the prediction\n",
    "        print(e)"
   ]
  },
  {
   "cell_type": "code",
   "execution_count": 40,
   "metadata": {
    "colab": {
     "base_uri": "https://localhost:8080/"
    },
    "id": "rZu_UaAznHS2",
    "outputId": "f90ad4b0-652f-416d-a833-042a0207fc1f"
   },
   "outputs": [
    {
     "data": {
      "text/plain": [
       "[{'label': '0', 'confidences': None},\n",
       " {'label': '0', 'confidences': None},\n",
       " {'label': '0', 'confidences': None},\n",
       " {'label': '0', 'confidences': None},\n",
       " {'label': '0', 'confidences': None}]"
      ]
     },
     "execution_count": 40,
     "metadata": {},
     "output_type": "execute_result"
    }
   ],
   "source": [
    "# Display the first 5 predictions from the batch_predictions list\n",
    "batch_predictions[0:5]"
   ]
  },
  {
   "cell_type": "code",
   "execution_count": null,
   "metadata": {},
   "outputs": [],
   "source": []
  }
 ],
 "metadata": {
  "colab": {
   "provenance": []
  },
  "kernelspec": {
   "display_name": "Python 3 (ipykernel)",
   "language": "python",
   "name": "python3"
  },
  "language_info": {
   "codemirror_mode": {
    "name": "ipython",
    "version": 3
   },
   "file_extension": ".py",
   "mimetype": "text/x-python",
   "name": "python",
   "nbconvert_exporter": "python",
   "pygments_lexer": "ipython3",
   "version": "3.11.7"
  }
 },
 "nbformat": 4,
 "nbformat_minor": 1
}
