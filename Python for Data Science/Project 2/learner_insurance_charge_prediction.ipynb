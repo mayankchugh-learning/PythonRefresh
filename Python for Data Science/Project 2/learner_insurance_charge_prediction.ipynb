{
  "cells": [
    {
      "cell_type": "markdown",
      "metadata": {
        "application/vnd.databricks.v1+cell": {
          "cellMetadata": {},
          "inputWidgets": {},
          "nuid": "0cb5ef7a-9e51-4567-8c10-a3db1097b933",
          "showTitle": false,
          "title": ""
        },
        "id": "_qN9He6rIr6V"
      },
      "source": [
        "# Healthylife insurance charge prediction - Project 2\n",
        "\n",
        "## Problem Statement\n",
        "HealthyLife is a leading insurance company headquartered in New York City, serving customers nationwide with a range of insurance policies, including health, auto, and life insurance. Currently, the company relies on traditional methods to assess insurance charges based on customer details such as age, sex, and BMI. However, they face challenges in accurately predicting insurance charges due to limited insights into how different customer attributes impact premiums. This uncertainty leads to potential underpricing or overpricing of policies, affecting both profitability and customer satisfaction. To address these challenges, the company is looking to leverage advanced predictive modeling techniques to enhance its insurance charge estimation process and provide more accurate and personalized pricing to customers.\n",
        "\n",
        "## Objective\n",
        "As a Data Scientist hired by the insurance company, the objective is to develop an app and implement a predictive model for estimating insurance charges based on customer attributes. The primary challenges to solve include improving the accuracy of insurance charge predictions by incorporating various customer attributes, streamlining the underwriting process to enhance efficiency and customer experience, and maintaining regulatory compliance while optimizing pricing strategies also analyze and identify the driftness in model and data to understand the model behavior overtime\n",
        "\n",
        "By achieving these objectives\n",
        "\n",
        "\n",
        "*   We aim to achieve more accurate and personalized insurance charge estimations\n",
        "*   Reducing the risks of underpricing and overpricing\n",
        "*   Improve customer satisfaction and loyalty through fair and competitive pricing\n",
        "*   Ensuring transparency and compliance with regulatory requirements in pricing strategies will further strengthen our competitive position in the market and enhance overall business performance\n",
        "\n",
        "\n",
        "\n",
        "\n",
        "\n",
        "\n"
      ]
    },
    {
      "cell_type": "markdown",
      "metadata": {
        "application/vnd.databricks.v1+cell": {
          "cellMetadata": {},
          "inputWidgets": {},
          "nuid": "b400c9af-eb88-48be-b024-2404852e3277",
          "showTitle": false,
          "title": ""
        },
        "id": "tUPXEl4CIr6Z"
      },
      "source": [
        "\n",
        "### Import the required libraries"
      ]
    },
    {
      "cell_type": "code",
      "execution_count": null,
      "metadata": {
        "application/vnd.databricks.v1+cell": {
          "cellMetadata": {
            "byteLimit": 2048000,
            "rowLimit": 10000
          },
          "inputWidgets": {},
          "nuid": "69c6950d-190a-4c7d-a5a2-a42164f4833b",
          "showTitle": false,
          "title": ""
        },
        "id": "HHLvdMVqIr6a"
      },
      "outputs": [],
      "source": []
    },
    {
      "cell_type": "markdown",
      "metadata": {
        "application/vnd.databricks.v1+cell": {
          "cellMetadata": {},
          "inputWidgets": {},
          "nuid": "c6c273cf-1eb1-4631-9938-0935c87034c6",
          "showTitle": false,
          "title": ""
        },
        "id": "7FiBsl6wIr6c"
      },
      "source": [
        "## Import the Data"
      ]
    },
    {
      "cell_type": "code",
      "execution_count": null,
      "metadata": {
        "application/vnd.databricks.v1+cell": {
          "cellMetadata": {
            "byteLimit": 2048000,
            "rowLimit": 10000
          },
          "inputWidgets": {},
          "nuid": "de73d795-30fe-4891-8a22-2356863aaef3",
          "showTitle": false,
          "title": ""
        },
        "id": "2SevoX_RIr6c"
      },
      "outputs": [],
      "source": [
        "# Read data"
      ]
    },
    {
      "cell_type": "code",
      "source": [
        "# split data in to numerical and categorical"
      ],
      "metadata": {
        "id": "ma5FcX253xB3"
      },
      "execution_count": null,
      "outputs": []
    },
    {
      "cell_type": "code",
      "source": [
        "# display the statistical summary of the numerical, categorical and target data"
      ],
      "metadata": {
        "id": "n1xa7yKN32pW"
      },
      "execution_count": null,
      "outputs": []
    },
    {
      "cell_type": "markdown",
      "source": [
        "#### Write your insights and findings from the statistical summary\n",
        "\n",
        "* --\n",
        "* --\n",
        "* --"
      ],
      "metadata": {
        "id": "MOCSwvDc4BTN"
      }
    },
    {
      "cell_type": "code",
      "source": [
        "# Check the missing values"
      ],
      "metadata": {
        "id": "KYlX7n_Evvnx"
      },
      "execution_count": null,
      "outputs": []
    },
    {
      "cell_type": "code",
      "source": [
        "# check duplicated rows"
      ],
      "metadata": {
        "id": "pcakHRkyvw0i"
      },
      "execution_count": null,
      "outputs": []
    },
    {
      "cell_type": "code",
      "source": [
        "# display the info of the dataset"
      ],
      "metadata": {
        "id": "NTsboKy7vzPh"
      },
      "execution_count": null,
      "outputs": []
    },
    {
      "cell_type": "code",
      "source": [
        "# drop the columns which was not required for modelling"
      ],
      "metadata": {
        "id": "uWhAkj_xv2j-"
      },
      "execution_count": null,
      "outputs": []
    },
    {
      "cell_type": "markdown",
      "source": [
        "## Exploratory data analysis"
      ],
      "metadata": {
        "id": "eULT8QQMwIzJ"
      }
    },
    {
      "cell_type": "markdown",
      "source": [
        "#### Charges amount distribution per sex"
      ],
      "metadata": {
        "id": "AvFxKicqwnBf"
      }
    },
    {
      "cell_type": "code",
      "source": [
        "# Display a histogram to visualize the distribution of charges based on sex in the dataset"
      ],
      "metadata": {
        "id": "Bnjg0xTnv70C"
      },
      "execution_count": null,
      "outputs": []
    },
    {
      "cell_type": "markdown",
      "source": [
        "#### Distribution of Age"
      ],
      "metadata": {
        "id": "b8L8J9mIweIj"
      }
    },
    {
      "cell_type": "code",
      "source": [
        "# Create a histogram to display the age distribution in the dataset"
      ],
      "metadata": {
        "id": "VE0lxH_GwQDY"
      },
      "execution_count": null,
      "outputs": []
    },
    {
      "cell_type": "markdown",
      "source": [
        "#### Charges amount distribution per smoker"
      ],
      "metadata": {
        "id": "iAT8o40ZwuFg"
      }
    },
    {
      "cell_type": "code",
      "source": [
        "# Show a histogram to visualize the distribution of charges amounts based on smoking status in the dataset"
      ],
      "metadata": {
        "id": "J8HjGfZowqaN"
      },
      "execution_count": null,
      "outputs": []
    },
    {
      "cell_type": "markdown",
      "source": [
        "#### Average BMI per age"
      ],
      "metadata": {
        "id": "web1ZseGx4Zb"
      }
    },
    {
      "cell_type": "code",
      "source": [
        "# Display a line plot showing the average BMI per age using markers to highlight the data points"
      ],
      "metadata": {
        "id": "ZkYMtoh6xNEQ"
      },
      "execution_count": null,
      "outputs": []
    },
    {
      "cell_type": "markdown",
      "source": [
        "As we can see with time - the average BMI score starts getting higher to unhealthier ranges."
      ],
      "metadata": {
        "id": "AGKsqXSgxXYc"
      }
    },
    {
      "cell_type": "markdown",
      "source": [
        "#### Age vs charges"
      ],
      "metadata": {
        "id": "_1t2E2y0xt5H"
      }
    },
    {
      "cell_type": "code",
      "source": [
        "# Create a scatter plot to show the relationship between age and charges in the dataset."
      ],
      "metadata": {
        "id": "gnucUaCbxf_e"
      },
      "execution_count": null,
      "outputs": []
    },
    {
      "cell_type": "markdown",
      "metadata": {
        "application/vnd.databricks.v1+cell": {
          "cellMetadata": {},
          "inputWidgets": {},
          "nuid": "44a30d2c-d116-40a9-b7a0-964d5c827f25",
          "showTitle": false,
          "title": ""
        },
        "id": "tHKW8Ie5Ir6g"
      },
      "source": [
        "## Model Estimation"
      ]
    },
    {
      "cell_type": "code",
      "source": [
        "# write you are code here"
      ],
      "metadata": {
        "id": "LqY0f158634p"
      },
      "execution_count": null,
      "outputs": []
    },
    {
      "cell_type": "markdown",
      "metadata": {
        "application/vnd.databricks.v1+cell": {
          "cellMetadata": {},
          "inputWidgets": {},
          "nuid": "5674b6d3-48a3-478c-af4b-6dc237a52f49",
          "showTitle": false,
          "title": ""
        },
        "id": "_1MBYq-CIr6j"
      },
      "source": [
        "## Model Evaluation"
      ]
    },
    {
      "cell_type": "code",
      "source": [
        "# write you are code here"
      ],
      "metadata": {
        "id": "rQKMBte_677I"
      },
      "execution_count": null,
      "outputs": []
    },
    {
      "cell_type": "markdown",
      "source": [
        "## Serialization"
      ],
      "metadata": {
        "id": "XGjFkRf5JTnC"
      }
    },
    {
      "cell_type": "code",
      "source": [
        "# Display information about the scikit-learn package"
      ],
      "metadata": {
        "id": "Q2pHKRtaJR9R"
      },
      "execution_count": null,
      "outputs": []
    },
    {
      "cell_type": "code",
      "source": [
        "# Generate a requirements.txt file for the project's dependencies"
      ],
      "metadata": {
        "id": "Wa0cqxINNTPq"
      },
      "execution_count": null,
      "outputs": []
    },
    {
      "cell_type": "code",
      "source": [
        "# Create a training script which we can use to train and save model"
      ],
      "metadata": {
        "id": "wtMeSwLfJf7K"
      },
      "execution_count": null,
      "outputs": []
    },
    {
      "cell_type": "code",
      "source": [
        "# Execute the training script"
      ],
      "metadata": {
        "id": "q9CmkTbsLn8C"
      },
      "execution_count": null,
      "outputs": []
    },
    {
      "cell_type": "markdown",
      "source": [
        "## Test Predictions"
      ],
      "metadata": {
        "id": "lFC4HfHjMR2G"
      }
    },
    {
      "cell_type": "code",
      "source": [
        "# write you are code here"
      ],
      "metadata": {
        "id": "GHUn9EEf7oW-"
      },
      "execution_count": null,
      "outputs": []
    },
    {
      "cell_type": "markdown",
      "source": [
        "# Gradio Interface"
      ],
      "metadata": {
        "id": "aTVpZrMJJq0Q"
      }
    },
    {
      "cell_type": "code",
      "source": [
        "%%writefile app.py\n",
        "# Import the libraries\n",
        "\n",
        "\n",
        "\n",
        "# Run the training script placed in the same directory as app.py\n",
        "# The training script will train and persist a linear regression\n",
        "# model with the filename 'model.joblib'\n",
        "\n",
        "\n",
        "\n",
        "\n",
        "# Load the freshly trained model from disk\n",
        "\n",
        "\n",
        "# Prepare the logging functionality\n",
        "log_file = Path(\"logs/\") / f\"data_{uuid.uuid4()}.json\"\n",
        "log_folder = log_file.parent\n",
        "\n",
        "scheduler = CommitScheduler(\n",
        "    repo_id=\"-----------\",  # provide a name \"insurance-charge-mlops-logs\" for the repo_id\n",
        "    repo_type=\"dataset\",\n",
        "    folder_path=log_folder,\n",
        "    path_in_repo=\"data\",\n",
        "    every=2\n",
        ")\n",
        "\n",
        "# Define the predict function which will take features, convert to dataframe and make predictions using the saved model\n",
        "# the functions runs when 'Submit' is clicked or when a API request is made\n",
        "\n",
        "\n",
        "    # While the prediction is made, log both the inputs and outputs to a  log file\n",
        "    # While writing to the log file, ensure that the commit scheduler is locked to avoid parallel\n",
        "    # access\n",
        "\n",
        "    with scheduler.lock:\n",
        "        with log_file.open(\"a\") as f:\n",
        "            f.write(json.dumps(\n",
        "                {\n",
        "                    'age': age,\n",
        "                    'bmi': bmi,\n",
        "                    'children': children,\n",
        "                    'sex': sex,\n",
        "                    'smoker': smoker,\n",
        "                    'region': region,\n",
        "                    'prediction': prediction[0]\n",
        "                }\n",
        "            ))\n",
        "            f.write(\"\\n\")\n",
        "\n",
        "    return prediction[0]\n",
        "\n",
        "\n",
        "\n",
        "# Set up UI components for input and output\n",
        "\n",
        "\n",
        "\n",
        "# Create the gradio interface, make title \"HealthyLife Insurance Charge Prediction\"\n",
        "\n",
        "\n",
        "# Launch with a load balancer\n",
        "demo.queue()\n",
        "demo.launch(share=False)"
      ],
      "metadata": {
        "colab": {
          "base_uri": "https://localhost:8080/"
        },
        "id": "xMloE1BhI4TK",
        "outputId": "ad3debce-2317-4e27-8e5b-e069afba4366"
      },
      "execution_count": null,
      "outputs": [
        {
          "output_type": "stream",
          "name": "stdout",
          "text": [
            "Writing app.py\n"
          ]
        }
      ]
    },
    {
      "cell_type": "markdown",
      "source": [
        "# Online/Batch Inferencing"
      ],
      "metadata": {
        "id": "U7r22COUnPhT"
      }
    },
    {
      "cell_type": "markdown",
      "source": [
        "### Paste your gradio app link\n",
        "\n",
        "*   app link here\n",
        "\n",
        "Note: Make sure your Hugging Face space repository is set to public. If it's private, the evaluator won't be able to access the app you've built, which could result in losing marks."
      ],
      "metadata": {
        "id": "khY2e1FzM29z"
      }
    },
    {
      "cell_type": "code",
      "execution_count": null,
      "metadata": {
        "id": "AqkyIqoQhORh"
      },
      "outputs": [],
      "source": [
        "# Install the gradio_client package silently"
      ]
    },
    {
      "cell_type": "code",
      "source": [
        "# import the libraries"
      ],
      "metadata": {
        "id": "_6hqa3y5hWQ2"
      },
      "execution_count": null,
      "outputs": []
    },
    {
      "cell_type": "markdown",
      "source": [
        "## Test Data"
      ],
      "metadata": {
        "id": "nHr-lJsMiAr3"
      }
    },
    {
      "cell_type": "code",
      "source": [
        "# Read the insurance dataset from a CSV file into a DataFrame\n",
        "\n",
        "# Define the target variable\n",
        "\n",
        "# Define the numeric features used for modeling\n",
        "\n",
        "# Define the categorical features used for modeling\n",
        "\n",
        "# Print a message indicating that data subsets are being created\n",
        "\n",
        "# Create a variable X by combining numeric and categorical features\n",
        "\n",
        "# Create the target variable y\n",
        "\n",
        "# Split the data into training and testing sets"
      ],
      "metadata": {
        "id": "UkgdHHg2hzRg"
      },
      "execution_count": null,
      "outputs": []
    },
    {
      "cell_type": "code",
      "source": [
        "# Check the shape of the testing features dataset\n"
      ],
      "metadata": {
        "id": "8polBKfli8zm"
      },
      "execution_count": null,
      "outputs": []
    },
    {
      "cell_type": "code",
      "source": [
        "# Display the first 3 rows of the testing features dataset\n"
      ],
      "metadata": {
        "id": "2u29J1KRiZfz"
      },
      "execution_count": null,
      "outputs": []
    },
    {
      "cell_type": "code",
      "source": [
        "# Retrieve the values of a specific row (index 764) from the testing features dataset and convert them to a list\n"
      ],
      "metadata": {
        "id": "8Lqv_mP3igAN"
      },
      "execution_count": null,
      "outputs": []
    },
    {
      "cell_type": "code",
      "source": [
        "# Randomly sample 100 rows from the testing features dataset\n"
      ],
      "metadata": {
        "id": "J7GEWMhwjCdC"
      },
      "execution_count": null,
      "outputs": []
    },
    {
      "cell_type": "code",
      "source": [
        "# Convert the sampled rows from the DataFrame to a list of tuples\n"
      ],
      "metadata": {
        "id": "UsC7wJJPjGhu"
      },
      "execution_count": null,
      "outputs": []
    },
    {
      "cell_type": "code",
      "source": [
        "# Access the first tuple in the list of sampled rows\n"
      ],
      "metadata": {
        "id": "4pgM6Xgtj3zj"
      },
      "execution_count": null,
      "outputs": []
    },
    {
      "cell_type": "markdown",
      "source": [
        "## Inference"
      ],
      "metadata": {
        "id": "R76BjqoEiQZp"
      }
    },
    {
      "cell_type": "code",
      "source": [
        "# Create a Gradio client instance for the specified Gradio interface\n"
      ],
      "metadata": {
        "id": "DmLUATIshX8x"
      },
      "execution_count": null,
      "outputs": []
    },
    {
      "cell_type": "markdown",
      "source": [
        "## Online/Real time"
      ],
      "metadata": {
        "id": "LlNyuobOk-Nz"
      }
    },
    {
      "cell_type": "code",
      "source": [
        "# Submit a single data point prediction request to the Gradio interface\n"
      ],
      "metadata": {
        "id": "zwCtvdcqkIG2"
      },
      "execution_count": null,
      "outputs": []
    },
    {
      "cell_type": "code",
      "source": [
        "# Print the result of the prediction job\n"
      ],
      "metadata": {
        "id": "iXPyA3WYkvII"
      },
      "execution_count": null,
      "outputs": []
    },
    {
      "cell_type": "markdown",
      "source": [
        "## Batch"
      ],
      "metadata": {
        "id": "iDORkOkBlNTf"
      }
    },
    {
      "cell_type": "code",
      "source": [
        "# Initialize an empty list to store batch predictions\n",
        "batch_predictions = []"
      ],
      "metadata": {
        "id": "0xGAU0EelVnV"
      },
      "execution_count": null,
      "outputs": []
    },
    {
      "cell_type": "code",
      "source": [
        "# Iterate through the sampled rows and submit prediction requests to the Gradio interface\n",
        "# Store the results in batch_predictions list\n",
        "for row in tqdm(Xtest_sample_rows):\n",
        "    try:\n",
        "        # Submit a prediction request for the current row\n",
        "\n",
        "\n",
        "        # Append the prediction result to batch_predictions\n",
        "        batch_predictions.append(int(round(float(prediction))))\n",
        "\n",
        "        # Sleep for 1 second before the next request\n",
        "\n",
        "\n",
        "    except Exception as e:\n",
        "        # Print any exceptions that occur during the prediction\n",
        "        print(e)"
      ],
      "metadata": {
        "id": "0kYU2lspj_h2"
      },
      "execution_count": null,
      "outputs": []
    },
    {
      "cell_type": "code",
      "source": [
        "# Display the first 10 predictions from the batch_predictions list\n"
      ],
      "metadata": {
        "id": "rZu_UaAznHS2"
      },
      "execution_count": null,
      "outputs": []
    },
    {
      "cell_type": "markdown",
      "source": [
        "# Unit Testing"
      ],
      "metadata": {
        "id": "zP1JzlQMSTg6"
      }
    },
    {
      "cell_type": "markdown",
      "source": [
        "## Setup"
      ],
      "metadata": {
        "id": "jEVa0FtsSGhm"
      }
    },
    {
      "cell_type": "code",
      "execution_count": null,
      "metadata": {
        "id": "tIQG_KE1RS6Z"
      },
      "outputs": [],
      "source": [
        "# Install the gradio_client package silently using pip"
      ]
    },
    {
      "cell_type": "code",
      "source": [
        "# import the required libraries"
      ],
      "metadata": {
        "id": "doHAgE2LRiQz"
      },
      "execution_count": null,
      "outputs": []
    },
    {
      "cell_type": "code",
      "source": [
        "client = Client(\"---paste your gradio app api---\")"
      ],
      "metadata": {
        "id": "OpABIcusRvEa"
      },
      "execution_count": null,
      "outputs": []
    },
    {
      "cell_type": "markdown",
      "source": [
        "## Baseline Checks"
      ],
      "metadata": {
        "id": "OHo1oI7KVzYb"
      }
    },
    {
      "cell_type": "markdown",
      "source": [
        "Test Data"
      ],
      "metadata": {
        "id": "EKUB01C0WAyj"
      }
    },
    {
      "cell_type": "code",
      "source": [
        "# Read the insurance dataset from a CSV file into a DataFrame\n",
        "\n",
        "# Define the target variable and features\n",
        "\n",
        "# Display a message indicating the creation of data subsets\n",
        "\n",
        "# Create feature matrix (X) and target vector (y)\n",
        "\n",
        "# Split the dataset into training and testing sets\n",
        "\n",
        "# Sample 100 rows from the testing set for evaluation\n",
        "\n",
        "# Convert the sampled test set into a list of tuples\n"
      ],
      "metadata": {
        "id": "VCzBR-eMWC2W",
        "colab": {
          "base_uri": "https://localhost:8080/"
        },
        "outputId": "2bc60a39-647e-4f98-e1ae-fc690c7fc6e1"
      },
      "execution_count": null,
      "outputs": [
        {
          "output_type": "stream",
          "name": "stdout",
          "text": [
            "Creating data subsets\n"
          ]
        }
      ]
    },
    {
      "cell_type": "markdown",
      "source": [
        "Predictions on the test data"
      ],
      "metadata": {
        "id": "mhF9vyYc_g7x"
      }
    },
    {
      "cell_type": "code",
      "source": [
        "# Initialize an empty list to store baseline test predictions\n",
        "baseline_test_predictions = []\n",
        "\n",
        "# Iterate over each row in the sampled test set\n",
        "for row in tqdm(Xtest_sample_rows):\n",
        "    try:\n",
        "        # Submit a prediction request to the client API using the row data\n",
        "\n",
        "        # Retrieve the prediction result and append it to the predictions list\n",
        "\n",
        "\n",
        "        baseline_test_predictions.append(int(round(float(prediction))))\n",
        "\n",
        "    # Handle any exceptions that may occur during prediction\n",
        "    except Exception as e:\n",
        "        print(e)"
      ],
      "metadata": {
        "id": "q8ZKCrLI8ojC"
      },
      "execution_count": null,
      "outputs": []
    },
    {
      "cell_type": "markdown",
      "source": [
        "Estimation of accuracy on the test sample. use RMSE and R-squared to measure the performance of the model"
      ],
      "metadata": {
        "id": "QCoDzuji_imC"
      }
    },
    {
      "cell_type": "code",
      "source": [
        "print(f\"RMSE: {mean_squared_error(ytest_sample, baseline_test_predictions, squared=False)}\")"
      ],
      "metadata": {
        "id": "00rW-LbEBxJC"
      },
      "execution_count": null,
      "outputs": []
    },
    {
      "cell_type": "code",
      "source": [
        "print(f\"R-squared: {r2_score(ytest_sample, baseline_test_predictions)}\")"
      ],
      "metadata": {
        "id": "konWIsg7Jw9u"
      },
      "execution_count": null,
      "outputs": []
    },
    {
      "cell_type": "markdown",
      "source": [
        "If the Mean Absolute Error (MAE) or Root Mean Square Error (RMSE) is lower than the existing baseline (human or a previous model version), we move on to unit tests."
      ],
      "metadata": {
        "id": "aBtvtTxqCAsg"
      }
    },
    {
      "cell_type": "markdown",
      "source": [
        "## Unit Tests"
      ],
      "metadata": {
        "id": "UYQ9dFH1Sifk"
      }
    },
    {
      "cell_type": "markdown",
      "source": [
        "### Perturbation tests"
      ],
      "metadata": {
        "id": "9ODYyMxQSset"
      }
    },
    {
      "cell_type": "markdown",
      "source": [
        "*Baseline*"
      ],
      "metadata": {
        "id": "XwyF7v1AUNAJ"
      }
    },
    {
      "cell_type": "code",
      "source": [],
      "metadata": {
        "id": "OnTktOwFRyJC"
      },
      "execution_count": null,
      "outputs": []
    },
    {
      "cell_type": "code",
      "source": [],
      "metadata": {
        "id": "RTGtOIptR2rr"
      },
      "execution_count": null,
      "outputs": []
    },
    {
      "cell_type": "markdown",
      "source": [
        "*Test (perturbed baseline)*"
      ],
      "metadata": {
        "id": "g_N9bnY1UUug"
      }
    },
    {
      "cell_type": "code",
      "source": [],
      "metadata": {
        "id": "797YohbXUWLe"
      },
      "execution_count": null,
      "outputs": []
    },
    {
      "cell_type": "code",
      "source": [],
      "metadata": {
        "id": "dsSSrjx7UZDE"
      },
      "execution_count": null,
      "outputs": []
    },
    {
      "cell_type": "markdown",
      "source": [
        "### Known edge-cases (criticial subgroups)"
      ],
      "metadata": {
        "id": "jJncHf4GUg0k"
      }
    },
    {
      "cell_type": "markdown",
      "source": [
        "In this scenario, a known edge case is that when a person is smoker , the insurance charge should be high. Let us see if the model can recognize this state."
      ],
      "metadata": {
        "id": "QL375h4NC7Ut"
      }
    },
    {
      "cell_type": "code",
      "source": [],
      "metadata": {
        "id": "kmHUHwvNU0aX"
      },
      "execution_count": null,
      "outputs": []
    },
    {
      "cell_type": "code",
      "source": [],
      "metadata": {
        "id": "9uNLOqyVU7ND"
      },
      "execution_count": null,
      "outputs": []
    },
    {
      "cell_type": "markdown",
      "source": [
        "If the unit tests pass, the model is ready to be tagged for release to staging and production."
      ],
      "metadata": {
        "id": "_tVEv4avDKof"
      }
    },
    {
      "cell_type": "markdown",
      "source": [
        "# Identify the driftness in model and data"
      ],
      "metadata": {
        "id": "Hb23BIvtG2mX"
      }
    },
    {
      "cell_type": "markdown",
      "source": [
        "## Setup"
      ],
      "metadata": {
        "id": "BbniRN4uHJm8"
      }
    },
    {
      "cell_type": "code",
      "source": [
        "# !pip install -q datasets"
      ],
      "metadata": {
        "id": "XL3gZp3-HLm_"
      },
      "execution_count": null,
      "outputs": []
    },
    {
      "cell_type": "code",
      "execution_count": null,
      "metadata": {
        "id": "XouCDxIAGM02"
      },
      "outputs": [],
      "source": [
        "# import the required libraries"
      ]
    },
    {
      "cell_type": "markdown",
      "source": [
        "## Monitoring Setup"
      ],
      "metadata": {
        "id": "Jgp0N6GvKo93"
      }
    },
    {
      "cell_type": "markdown",
      "source": [
        "## Access Training Data"
      ],
      "metadata": {
        "id": "l5U9dw9MH2ut"
      }
    },
    {
      "cell_type": "code",
      "source": [
        "# Read the insurance dataset from a CSV file into a DataFrame\n",
        "\n",
        "# Define the target variable\n",
        "\n",
        "# Define the numeric features used for modeling\n",
        "\n",
        "# Define the categorical features used for modeling\n",
        "\n",
        "# Print a message indicating that data subsets are being created\n",
        "\n",
        "# Create a variable X by combining numeric and categorical features\n",
        "\n",
        "# Create the target variable y\n",
        "\n",
        "# Split the data into training and testing sets"
      ],
      "metadata": {
        "id": "e0c2oV_9H4BB",
        "colab": {
          "base_uri": "https://localhost:8080/"
        },
        "outputId": "e4b5017c-1c20-4d3a-b10c-81d424cc4fd8"
      },
      "execution_count": null,
      "outputs": [
        {
          "output_type": "stream",
          "name": "stdout",
          "text": [
            "Creating data subsets\n"
          ]
        }
      ]
    },
    {
      "cell_type": "markdown",
      "source": [
        "## Access Logs"
      ],
      "metadata": {
        "id": "YyFnWVYjHSoV"
      }
    },
    {
      "cell_type": "markdown",
      "source": [
        "We connect to the dataset of all the production logs and extract a 30% random sample to execute the monitoring workflow."
      ],
      "metadata": {
        "id": "eXg9Xnx0HiLt"
      }
    },
    {
      "cell_type": "code",
      "source": [
        "prediction_logs = load_dataset(\"--paste your log dataset api---\")"
      ],
      "metadata": {
        "id": "bR3gvxS3HT5D"
      },
      "execution_count": null,
      "outputs": []
    },
    {
      "cell_type": "code",
      "source": [
        "# Convert the 'train' logs from a Dask DataFrame to a Pandas DataFrame"
      ],
      "metadata": {
        "id": "BGVckeDiHZdo"
      },
      "execution_count": null,
      "outputs": []
    },
    {
      "cell_type": "code",
      "source": [
        "# Sample 30% of the rows from the prediction logs DataFrame with a random state 42"
      ],
      "metadata": {
        "id": "_CDETBvgHZ25"
      },
      "execution_count": null,
      "outputs": []
    },
    {
      "cell_type": "code",
      "source": [
        "# print the 5 sample data points"
      ],
      "metadata": {
        "id": "Yz5e79YEgRbu"
      },
      "execution_count": null,
      "outputs": []
    },
    {
      "cell_type": "markdown",
      "source": [
        "## Model Drift Checks"
      ],
      "metadata": {
        "id": "q-ELgi6VPF41"
      }
    },
    {
      "cell_type": "markdown",
      "source": [
        "### Predicted Targets vs Training Targets"
      ],
      "metadata": {
        "id": "qeZrIECqLA-K"
      }
    },
    {
      "cell_type": "code",
      "source": [
        "import matplotlib.pyplot as plt\n",
        "import seaborn as sns\n",
        "\n",
        "# Plotting the distributions of actual target values and predicted values\n",
        "plt.figure(figsize=(12, 6))\n",
        "\n",
        "plt.subplot(211)\n",
        "# Plot the histogram with a KDE (Kernel Density Estimation) curve\n",
        "# write your code here\n",
        "plt.title(\"Distribution of actual target values in training data\")\n",
        "plt.xlabel(\"Actual Target Values\")\n",
        "plt.ylabel(\"Frequency\")\n",
        "\n",
        "# Distribution of predicted target values from the deployed model\n",
        "plt.subplot(212)\n",
        "# Plot a histogram with a KDE (Kernel Density Estimation) curve for the predicted values from the sample prediction logs DataFrame\n",
        "# write your code here\n",
        "plt.title(\"Distribution of predicted target values from the deployed model\")\n",
        "plt.xlabel(\"Predicted Target Values\")\n",
        "plt.ylabel(\"Frequency\")\n",
        "\n",
        "plt.tight_layout()\n",
        "plt.show()"
      ],
      "metadata": {
        "id": "CsxP3oPQLIH3"
      },
      "execution_count": null,
      "outputs": []
    },
    {
      "cell_type": "code",
      "source": [
        "# Calculate mean of actual values in training data (sum(target y) / len(target y))\n",
        "mean_training_data ="
      ],
      "metadata": {
        "id": "KXAbBSD6gu5k"
      },
      "execution_count": null,
      "outputs": []
    },
    {
      "cell_type": "code",
      "source": [
        "# Calculate mean of predicted values in sample logs (sum(logs.prediction) / len(logs.prediction))\n",
        "mean_sample_logs ="
      ],
      "metadata": {
        "id": "ZYzySK8ghRbL"
      },
      "execution_count": null,
      "outputs": []
    },
    {
      "cell_type": "code",
      "source": [
        "# Calculate variance of actual values in training data\n",
        "variance = sum((y - mean_training_data)**2 for y in ytrain) / len(ytrain)"
      ],
      "metadata": {
        "id": "OOW4FmBkgw6O"
      },
      "execution_count": null,
      "outputs": []
    },
    {
      "cell_type": "code",
      "source": [
        "# Calculate absolute difference between means\n",
        "diff = abs()"
      ],
      "metadata": {
        "id": "NHcCLynOhLbu"
      },
      "execution_count": null,
      "outputs": []
    },
    {
      "cell_type": "code",
      "source": [
        "# Check for model drift\n",
        "if diff > 2 * math.sqrt(variance):\n",
        "    print(\"Model Drift Detected!\")\n",
        "else:\n",
        "    print(\"No Model Drift!\")"
      ],
      "metadata": {
        "colab": {
          "base_uri": "https://localhost:8080/"
        },
        "id": "2rlSdxR8SgI1",
        "outputId": "f95b31a8-ad78-4817-fd94-d327a8924687"
      },
      "execution_count": null,
      "outputs": [
        {
          "output_type": "stream",
          "name": "stdout",
          "text": [
            "No Model Drift!\n"
          ]
        }
      ]
    },
    {
      "cell_type": "markdown",
      "source": [
        "## Data Drift Checks"
      ],
      "metadata": {
        "id": "YjPEZAWKPuVK"
      }
    },
    {
      "cell_type": "markdown",
      "source": [
        "### Live Features vs Training Features"
      ],
      "metadata": {
        "id": "rb6-YR-IizG3"
      }
    },
    {
      "cell_type": "code",
      "source": [
        "mean_age_training_data =\n",
        "std_age_training_data =\n",
        "\n",
        "mean_age_sample_logs ="
      ],
      "metadata": {
        "id": "_purGOSINX3N"
      },
      "execution_count": null,
      "outputs": []
    },
    {
      "cell_type": "code",
      "source": [
        "(mean_age_training_data, mean_age_sample_logs)"
      ],
      "metadata": {
        "id": "vwW2BDa2jy3l"
      },
      "execution_count": null,
      "outputs": []
    },
    {
      "cell_type": "code",
      "source": [
        "mean_feature_training_data = 39.35\n",
        "mean_feature_sample_logs = 37.04\n",
        "std_feature_training_data = 14.07\n",
        "\n",
        "mean_diff = abs()\n",
        "\n",
        "if mean_diff > 2 * std_feature_training_data:\n",
        "    print(\"Data Drift Detected!\")\n",
        "else:\n",
        "    print(\"No Data Drift!\")"
      ],
      "metadata": {
        "id": "AYncqI_SkMuz"
      },
      "execution_count": null,
      "outputs": []
    },
    {
      "cell_type": "markdown",
      "source": [
        "The current model stays in production unless we detect model drift or data drift."
      ],
      "metadata": {
        "id": "QWnhVQDqmQ7Y"
      }
    },
    {
      "cell_type": "markdown",
      "source": [
        "# Convert ipynb to HTML"
      ],
      "metadata": {
        "id": "U2TN5Ik4KzvA"
      }
    },
    {
      "cell_type": "markdown",
      "source": [
        "Instructions:\n",
        "1. Go to File\n",
        "2. Download these current working Notebook in to ipynb format\n",
        "3. Now, run the below code, select the notebook from local where you downloaded the file\n",
        "4. Wait for few sec, your notebook will automatically converted in to html format and save in your local pc\n"
      ],
      "metadata": {
        "id": "VVmwzqQUOnXD"
      }
    },
    {
      "cell_type": "code",
      "source": [
        "# @title HTML Convert\n",
        "# Upload ipynb\n",
        "from google.colab import files\n",
        "f = files.upload()\n",
        "\n",
        "# Convert ipynb to html\n",
        "import subprocess\n",
        "file0 = list(f.keys())[0]\n",
        "_ = subprocess.run([\"pip\", \"install\", \"nbconvert\"])\n",
        "_ = subprocess.run([\"jupyter\", \"nbconvert\", file0, \"--to\", \"html\"])\n",
        "\n",
        "# download the html\n",
        "files.download(file0[:-5]+\"html\")\n"
      ],
      "metadata": {
        "id": "LEwxxs0LBivA",
        "cellView": "form"
      },
      "execution_count": null,
      "outputs": []
    },
    {
      "cell_type": "markdown",
      "source": [
        "## Power Ahead!"
      ],
      "metadata": {
        "id": "KM_NcbJvLjhm"
      }
    }
  ],
  "metadata": {
    "application/vnd.databricks.v1+notebook": {
      "dashboards": [],
      "language": "python",
      "notebookMetadata": {
        "pythonIndentUnit": 4
      },
      "notebookName": "diamond_price_prediction",
      "widgets": {}
    },
    "colab": {
      "provenance": [],
      "collapsed_sections": [
        "_qN9He6rIr6V",
        "aTVpZrMJJq0Q",
        "U7r22COUnPhT",
        "zP1JzlQMSTg6",
        "Hb23BIvtG2mX"
      ]
    },
    "language_info": {
      "name": "python"
    },
    "kernelspec": {
      "name": "python3",
      "display_name": "Python 3"
    }
  },
  "nbformat": 4,
  "nbformat_minor": 0
}