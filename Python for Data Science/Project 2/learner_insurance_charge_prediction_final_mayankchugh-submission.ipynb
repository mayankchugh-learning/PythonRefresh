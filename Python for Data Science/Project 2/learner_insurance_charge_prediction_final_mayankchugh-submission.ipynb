{
  "cells": [
    {
      "cell_type": "markdown",
      "metadata": {
        "application/vnd.databricks.v1+cell": {
          "cellMetadata": {},
          "inputWidgets": {},
          "nuid": "0cb5ef7a-9e51-4567-8c10-a3db1097b933",
          "showTitle": false,
          "title": ""
        },
        "id": "_qN9He6rIr6V"
      },
      "source": [
        "# Healthylife insurance charge prediction - Project 2\n",
        "\n",
        "## Problem Statement\n",
        "HealthyLife is a leading insurance company headquartered in New York City, serving customers nationwide with a range of insurance policies, including health, auto, and life insurance. Currently, the company relies on traditional methods to assess insurance charges based on customer details such as age, sex, and BMI. However, they face challenges in accurately predicting insurance charges due to limited insights into how different customer attributes impact premiums. This uncertainty leads to potential underpricing or overpricing of policies, affecting both profitability and customer satisfaction. To address these challenges, the company is looking to leverage advanced predictive modeling techniques to enhance its insurance charge estimation process and provide more accurate and personalized pricing to customers.\n",
        "\n",
        "## Objective\n",
        "As a Data Scientist hired by the insurance company, the objective is to develop an app and implement a predictive model for estimating insurance charges based on customer attributes. The primary challenges to solve include improving the accuracy of insurance charge predictions by incorporating various customer attributes, streamlining the underwriting process to enhance efficiency and customer experience, and maintaining regulatory compliance while optimizing pricing strategies also analyze and identify the driftness in model and data to understand the model behavior overtime\n",
        "\n",
        "By achieving these objectives\n",
        "\n",
        "\n",
        "*   We aim to achieve more accurate and personalized insurance charge estimations\n",
        "*   Reducing the risks of underpricing and overpricing\n",
        "*   Improve customer satisfaction and loyalty through fair and competitive pricing\n",
        "*   Ensuring transparency and compliance with regulatory requirements in pricing strategies will further strengthen our competitive position in the market and enhance overall business performance\n",
        "\n",
        "\n",
        "\n",
        "\n",
        "\n",
        "\n"
      ]
    },
    {
      "cell_type": "markdown",
      "metadata": {
        "application/vnd.databricks.v1+cell": {
          "cellMetadata": {},
          "inputWidgets": {},
          "nuid": "b400c9af-eb88-48be-b024-2404852e3277",
          "showTitle": false,
          "title": ""
        },
        "id": "tUPXEl4CIr6Z"
      },
      "source": [
        "\n",
        "### Import the required libraries"
      ]
    },
    {
      "cell_type": "code",
      "execution_count": 1,
      "metadata": {
        "application/vnd.databricks.v1+cell": {
          "cellMetadata": {
            "byteLimit": 2048000,
            "rowLimit": 10000
          },
          "inputWidgets": {},
          "nuid": "69c6950d-190a-4c7d-a5a2-a42164f4833b",
          "showTitle": false,
          "title": ""
        },
        "id": "HHLvdMVqIr6a"
      },
      "outputs": [],
      "source": [
        "# Importing necessary libraries\n",
        "import pandas as pd\n",
        "import sklearn\n",
        "import joblib\n",
        "import matplotlib.pyplot as plt\n",
        "import seaborn as sns\n",
        "\n",
        "# Fetching dataset from sklearn's openml module\n",
        "from sklearn.datasets import fetch_openml\n",
        "\n",
        "# Importing preprocessing modules from sklearn\n",
        "from sklearn.preprocessing import StandardScaler, OneHotEncoder, LabelEncoder\n",
        "from sklearn.compose import make_column_transformer\n",
        "from sklearn.impute import SimpleImputer\n",
        "from sklearn.pipeline import Pipeline\n",
        "\n",
        "# Importing make_pipeline function from pipeline module\n",
        "from sklearn.pipeline import make_pipeline\n",
        "\n",
        "# Importing train_test_split and RandomizedSearchCV from model_selection module\n",
        "from sklearn.model_selection import train_test_split, RandomizedSearchCV\n",
        "\n",
        "# Importing LogisticRegression model and evaluation metrics from linear_model and metrics modules\n",
        "# from sklearn.linear_model import LogisticRegression\n",
        "from sklearn.metrics import accuracy_score, classification_report\n",
        "from sklearn.metrics import mean_squared_error, r2_score\n",
        "from sklearn.linear_model import LinearRegression"
      ]
    },
    {
      "cell_type": "code",
      "source": [
        "# Configure scikit-learn to display pipeline diagrams for visualizing the structure of machine learning pipelines\n",
        "sklearn.set_config(display='diagram')"
      ],
      "metadata": {
        "id": "LEfvf0or7HWZ"
      },
      "execution_count": 2,
      "outputs": []
    },
    {
      "cell_type": "markdown",
      "metadata": {
        "application/vnd.databricks.v1+cell": {
          "cellMetadata": {},
          "inputWidgets": {},
          "nuid": "c6c273cf-1eb1-4631-9938-0935c87034c6",
          "showTitle": false,
          "title": ""
        },
        "id": "7FiBsl6wIr6c"
      },
      "source": [
        "## Import the Data"
      ]
    },
    {
      "cell_type": "code",
      "execution_count": 3,
      "metadata": {
        "application/vnd.databricks.v1+cell": {
          "cellMetadata": {
            "byteLimit": 2048000,
            "rowLimit": 10000
          },
          "inputWidgets": {},
          "nuid": "de73d795-30fe-4891-8a22-2356863aaef3",
          "showTitle": false,
          "title": ""
        },
        "id": "2SevoX_RIr6c"
      },
      "outputs": [],
      "source": [
        "# Read the data\n",
        "data_df = pd.read_csv(\"insurance.csv\")"
      ]
    },
    {
      "cell_type": "code",
      "source": [
        "data_df.sample(5)"
      ],
      "metadata": {
        "colab": {
          "base_uri": "https://localhost:8080/",
          "height": 206
        },
        "id": "gMgrG3eQAj9n",
        "outputId": "ddb8c5e7-7cb6-44ce-d4c0-cb60e342d4d8"
      },
      "execution_count": 4,
      "outputs": [
        {
          "output_type": "execute_result",
          "data": {
            "text/plain": [
              "     index  age     sex     bmi  children smoker     region      charges\n",
              "111    111   55  female  29.700         2     no  southwest  11881.35800\n",
              "44      44   38    male  37.050         1     no  northeast   6079.67150\n",
              "786    786   60    male  36.955         0     no  northeast  12741.16745\n",
              "318    318   44  female  27.645         0     no  northwest   7421.19455\n",
              "923    923   34    male  35.815         0     no  northwest   4320.41085"
            ],
            "text/html": [
              "\n",
              "  <div id=\"df-c49c790a-293d-454d-a542-f1d2b706e9f0\" class=\"colab-df-container\">\n",
              "    <div>\n",
              "<style scoped>\n",
              "    .dataframe tbody tr th:only-of-type {\n",
              "        vertical-align: middle;\n",
              "    }\n",
              "\n",
              "    .dataframe tbody tr th {\n",
              "        vertical-align: top;\n",
              "    }\n",
              "\n",
              "    .dataframe thead th {\n",
              "        text-align: right;\n",
              "    }\n",
              "</style>\n",
              "<table border=\"1\" class=\"dataframe\">\n",
              "  <thead>\n",
              "    <tr style=\"text-align: right;\">\n",
              "      <th></th>\n",
              "      <th>index</th>\n",
              "      <th>age</th>\n",
              "      <th>sex</th>\n",
              "      <th>bmi</th>\n",
              "      <th>children</th>\n",
              "      <th>smoker</th>\n",
              "      <th>region</th>\n",
              "      <th>charges</th>\n",
              "    </tr>\n",
              "  </thead>\n",
              "  <tbody>\n",
              "    <tr>\n",
              "      <th>111</th>\n",
              "      <td>111</td>\n",
              "      <td>55</td>\n",
              "      <td>female</td>\n",
              "      <td>29.700</td>\n",
              "      <td>2</td>\n",
              "      <td>no</td>\n",
              "      <td>southwest</td>\n",
              "      <td>11881.35800</td>\n",
              "    </tr>\n",
              "    <tr>\n",
              "      <th>44</th>\n",
              "      <td>44</td>\n",
              "      <td>38</td>\n",
              "      <td>male</td>\n",
              "      <td>37.050</td>\n",
              "      <td>1</td>\n",
              "      <td>no</td>\n",
              "      <td>northeast</td>\n",
              "      <td>6079.67150</td>\n",
              "    </tr>\n",
              "    <tr>\n",
              "      <th>786</th>\n",
              "      <td>786</td>\n",
              "      <td>60</td>\n",
              "      <td>male</td>\n",
              "      <td>36.955</td>\n",
              "      <td>0</td>\n",
              "      <td>no</td>\n",
              "      <td>northeast</td>\n",
              "      <td>12741.16745</td>\n",
              "    </tr>\n",
              "    <tr>\n",
              "      <th>318</th>\n",
              "      <td>318</td>\n",
              "      <td>44</td>\n",
              "      <td>female</td>\n",
              "      <td>27.645</td>\n",
              "      <td>0</td>\n",
              "      <td>no</td>\n",
              "      <td>northwest</td>\n",
              "      <td>7421.19455</td>\n",
              "    </tr>\n",
              "    <tr>\n",
              "      <th>923</th>\n",
              "      <td>923</td>\n",
              "      <td>34</td>\n",
              "      <td>male</td>\n",
              "      <td>35.815</td>\n",
              "      <td>0</td>\n",
              "      <td>no</td>\n",
              "      <td>northwest</td>\n",
              "      <td>4320.41085</td>\n",
              "    </tr>\n",
              "  </tbody>\n",
              "</table>\n",
              "</div>\n",
              "    <div class=\"colab-df-buttons\">\n",
              "\n",
              "  <div class=\"colab-df-container\">\n",
              "    <button class=\"colab-df-convert\" onclick=\"convertToInteractive('df-c49c790a-293d-454d-a542-f1d2b706e9f0')\"\n",
              "            title=\"Convert this dataframe to an interactive table.\"\n",
              "            style=\"display:none;\">\n",
              "\n",
              "  <svg xmlns=\"http://www.w3.org/2000/svg\" height=\"24px\" viewBox=\"0 -960 960 960\">\n",
              "    <path d=\"M120-120v-720h720v720H120Zm60-500h600v-160H180v160Zm220 220h160v-160H400v160Zm0 220h160v-160H400v160ZM180-400h160v-160H180v160Zm440 0h160v-160H620v160ZM180-180h160v-160H180v160Zm440 0h160v-160H620v160Z\"/>\n",
              "  </svg>\n",
              "    </button>\n",
              "\n",
              "  <style>\n",
              "    .colab-df-container {\n",
              "      display:flex;\n",
              "      gap: 12px;\n",
              "    }\n",
              "\n",
              "    .colab-df-convert {\n",
              "      background-color: #E8F0FE;\n",
              "      border: none;\n",
              "      border-radius: 50%;\n",
              "      cursor: pointer;\n",
              "      display: none;\n",
              "      fill: #1967D2;\n",
              "      height: 32px;\n",
              "      padding: 0 0 0 0;\n",
              "      width: 32px;\n",
              "    }\n",
              "\n",
              "    .colab-df-convert:hover {\n",
              "      background-color: #E2EBFA;\n",
              "      box-shadow: 0px 1px 2px rgba(60, 64, 67, 0.3), 0px 1px 3px 1px rgba(60, 64, 67, 0.15);\n",
              "      fill: #174EA6;\n",
              "    }\n",
              "\n",
              "    .colab-df-buttons div {\n",
              "      margin-bottom: 4px;\n",
              "    }\n",
              "\n",
              "    [theme=dark] .colab-df-convert {\n",
              "      background-color: #3B4455;\n",
              "      fill: #D2E3FC;\n",
              "    }\n",
              "\n",
              "    [theme=dark] .colab-df-convert:hover {\n",
              "      background-color: #434B5C;\n",
              "      box-shadow: 0px 1px 3px 1px rgba(0, 0, 0, 0.15);\n",
              "      filter: drop-shadow(0px 1px 2px rgba(0, 0, 0, 0.3));\n",
              "      fill: #FFFFFF;\n",
              "    }\n",
              "  </style>\n",
              "\n",
              "    <script>\n",
              "      const buttonEl =\n",
              "        document.querySelector('#df-c49c790a-293d-454d-a542-f1d2b706e9f0 button.colab-df-convert');\n",
              "      buttonEl.style.display =\n",
              "        google.colab.kernel.accessAllowed ? 'block' : 'none';\n",
              "\n",
              "      async function convertToInteractive(key) {\n",
              "        const element = document.querySelector('#df-c49c790a-293d-454d-a542-f1d2b706e9f0');\n",
              "        const dataTable =\n",
              "          await google.colab.kernel.invokeFunction('convertToInteractive',\n",
              "                                                    [key], {});\n",
              "        if (!dataTable) return;\n",
              "\n",
              "        const docLinkHtml = 'Like what you see? Visit the ' +\n",
              "          '<a target=\"_blank\" href=https://colab.research.google.com/notebooks/data_table.ipynb>data table notebook</a>'\n",
              "          + ' to learn more about interactive tables.';\n",
              "        element.innerHTML = '';\n",
              "        dataTable['output_type'] = 'display_data';\n",
              "        await google.colab.output.renderOutput(dataTable, element);\n",
              "        const docLink = document.createElement('div');\n",
              "        docLink.innerHTML = docLinkHtml;\n",
              "        element.appendChild(docLink);\n",
              "      }\n",
              "    </script>\n",
              "  </div>\n",
              "\n",
              "\n",
              "<div id=\"df-dc776bec-e835-4a82-a736-3ac75ec54eb6\">\n",
              "  <button class=\"colab-df-quickchart\" onclick=\"quickchart('df-dc776bec-e835-4a82-a736-3ac75ec54eb6')\"\n",
              "            title=\"Suggest charts\"\n",
              "            style=\"display:none;\">\n",
              "\n",
              "<svg xmlns=\"http://www.w3.org/2000/svg\" height=\"24px\"viewBox=\"0 0 24 24\"\n",
              "     width=\"24px\">\n",
              "    <g>\n",
              "        <path d=\"M19 3H5c-1.1 0-2 .9-2 2v14c0 1.1.9 2 2 2h14c1.1 0 2-.9 2-2V5c0-1.1-.9-2-2-2zM9 17H7v-7h2v7zm4 0h-2V7h2v10zm4 0h-2v-4h2v4z\"/>\n",
              "    </g>\n",
              "</svg>\n",
              "  </button>\n",
              "\n",
              "<style>\n",
              "  .colab-df-quickchart {\n",
              "      --bg-color: #E8F0FE;\n",
              "      --fill-color: #1967D2;\n",
              "      --hover-bg-color: #E2EBFA;\n",
              "      --hover-fill-color: #174EA6;\n",
              "      --disabled-fill-color: #AAA;\n",
              "      --disabled-bg-color: #DDD;\n",
              "  }\n",
              "\n",
              "  [theme=dark] .colab-df-quickchart {\n",
              "      --bg-color: #3B4455;\n",
              "      --fill-color: #D2E3FC;\n",
              "      --hover-bg-color: #434B5C;\n",
              "      --hover-fill-color: #FFFFFF;\n",
              "      --disabled-bg-color: #3B4455;\n",
              "      --disabled-fill-color: #666;\n",
              "  }\n",
              "\n",
              "  .colab-df-quickchart {\n",
              "    background-color: var(--bg-color);\n",
              "    border: none;\n",
              "    border-radius: 50%;\n",
              "    cursor: pointer;\n",
              "    display: none;\n",
              "    fill: var(--fill-color);\n",
              "    height: 32px;\n",
              "    padding: 0;\n",
              "    width: 32px;\n",
              "  }\n",
              "\n",
              "  .colab-df-quickchart:hover {\n",
              "    background-color: var(--hover-bg-color);\n",
              "    box-shadow: 0 1px 2px rgba(60, 64, 67, 0.3), 0 1px 3px 1px rgba(60, 64, 67, 0.15);\n",
              "    fill: var(--button-hover-fill-color);\n",
              "  }\n",
              "\n",
              "  .colab-df-quickchart-complete:disabled,\n",
              "  .colab-df-quickchart-complete:disabled:hover {\n",
              "    background-color: var(--disabled-bg-color);\n",
              "    fill: var(--disabled-fill-color);\n",
              "    box-shadow: none;\n",
              "  }\n",
              "\n",
              "  .colab-df-spinner {\n",
              "    border: 2px solid var(--fill-color);\n",
              "    border-color: transparent;\n",
              "    border-bottom-color: var(--fill-color);\n",
              "    animation:\n",
              "      spin 1s steps(1) infinite;\n",
              "  }\n",
              "\n",
              "  @keyframes spin {\n",
              "    0% {\n",
              "      border-color: transparent;\n",
              "      border-bottom-color: var(--fill-color);\n",
              "      border-left-color: var(--fill-color);\n",
              "    }\n",
              "    20% {\n",
              "      border-color: transparent;\n",
              "      border-left-color: var(--fill-color);\n",
              "      border-top-color: var(--fill-color);\n",
              "    }\n",
              "    30% {\n",
              "      border-color: transparent;\n",
              "      border-left-color: var(--fill-color);\n",
              "      border-top-color: var(--fill-color);\n",
              "      border-right-color: var(--fill-color);\n",
              "    }\n",
              "    40% {\n",
              "      border-color: transparent;\n",
              "      border-right-color: var(--fill-color);\n",
              "      border-top-color: var(--fill-color);\n",
              "    }\n",
              "    60% {\n",
              "      border-color: transparent;\n",
              "      border-right-color: var(--fill-color);\n",
              "    }\n",
              "    80% {\n",
              "      border-color: transparent;\n",
              "      border-right-color: var(--fill-color);\n",
              "      border-bottom-color: var(--fill-color);\n",
              "    }\n",
              "    90% {\n",
              "      border-color: transparent;\n",
              "      border-bottom-color: var(--fill-color);\n",
              "    }\n",
              "  }\n",
              "</style>\n",
              "\n",
              "  <script>\n",
              "    async function quickchart(key) {\n",
              "      const quickchartButtonEl =\n",
              "        document.querySelector('#' + key + ' button');\n",
              "      quickchartButtonEl.disabled = true;  // To prevent multiple clicks.\n",
              "      quickchartButtonEl.classList.add('colab-df-spinner');\n",
              "      try {\n",
              "        const charts = await google.colab.kernel.invokeFunction(\n",
              "            'suggestCharts', [key], {});\n",
              "      } catch (error) {\n",
              "        console.error('Error during call to suggestCharts:', error);\n",
              "      }\n",
              "      quickchartButtonEl.classList.remove('colab-df-spinner');\n",
              "      quickchartButtonEl.classList.add('colab-df-quickchart-complete');\n",
              "    }\n",
              "    (() => {\n",
              "      let quickchartButtonEl =\n",
              "        document.querySelector('#df-dc776bec-e835-4a82-a736-3ac75ec54eb6 button');\n",
              "      quickchartButtonEl.style.display =\n",
              "        google.colab.kernel.accessAllowed ? 'block' : 'none';\n",
              "    })();\n",
              "  </script>\n",
              "</div>\n",
              "    </div>\n",
              "  </div>\n"
            ],
            "application/vnd.google.colaboratory.intrinsic+json": {
              "type": "dataframe",
              "summary": "{\n  \"name\": \"data_df\",\n  \"rows\": 5,\n  \"fields\": [\n    {\n      \"column\": \"index\",\n      \"properties\": {\n        \"dtype\": \"number\",\n        \"std\": 397,\n        \"min\": 44,\n        \"max\": 923,\n        \"num_unique_values\": 5,\n        \"samples\": [\n          44,\n          923,\n          786\n        ],\n        \"semantic_type\": \"\",\n        \"description\": \"\"\n      }\n    },\n    {\n      \"column\": \"age\",\n      \"properties\": {\n        \"dtype\": \"number\",\n        \"std\": 11,\n        \"min\": 34,\n        \"max\": 60,\n        \"num_unique_values\": 5,\n        \"samples\": [\n          38,\n          34,\n          60\n        ],\n        \"semantic_type\": \"\",\n        \"description\": \"\"\n      }\n    },\n    {\n      \"column\": \"sex\",\n      \"properties\": {\n        \"dtype\": \"category\",\n        \"num_unique_values\": 2,\n        \"samples\": [\n          \"male\",\n          \"female\"\n        ],\n        \"semantic_type\": \"\",\n        \"description\": \"\"\n      }\n    },\n    {\n      \"column\": \"bmi\",\n      \"properties\": {\n        \"dtype\": \"number\",\n        \"std\": 4.432756760752838,\n        \"min\": 27.645,\n        \"max\": 37.05,\n        \"num_unique_values\": 5,\n        \"samples\": [\n          37.05,\n          35.815\n        ],\n        \"semantic_type\": \"\",\n        \"description\": \"\"\n      }\n    },\n    {\n      \"column\": \"children\",\n      \"properties\": {\n        \"dtype\": \"number\",\n        \"std\": 0,\n        \"min\": 0,\n        \"max\": 2,\n        \"num_unique_values\": 3,\n        \"samples\": [\n          2,\n          1\n        ],\n        \"semantic_type\": \"\",\n        \"description\": \"\"\n      }\n    },\n    {\n      \"column\": \"smoker\",\n      \"properties\": {\n        \"dtype\": \"category\",\n        \"num_unique_values\": 1,\n        \"samples\": [\n          \"no\"\n        ],\n        \"semantic_type\": \"\",\n        \"description\": \"\"\n      }\n    },\n    {\n      \"column\": \"region\",\n      \"properties\": {\n        \"dtype\": \"string\",\n        \"num_unique_values\": 3,\n        \"samples\": [\n          \"southwest\"\n        ],\n        \"semantic_type\": \"\",\n        \"description\": \"\"\n      }\n    },\n    {\n      \"column\": \"charges\",\n      \"properties\": {\n        \"dtype\": \"number\",\n        \"std\": 3671.213298678996,\n        \"min\": 4320.41085,\n        \"max\": 12741.16745,\n        \"num_unique_values\": 5,\n        \"samples\": [\n          6079.6715\n        ],\n        \"semantic_type\": \"\",\n        \"description\": \"\"\n      }\n    }\n  ]\n}"
            }
          },
          "metadata": {},
          "execution_count": 4
        }
      ]
    },
    {
      "cell_type": "code",
      "source": [
        "# Print the top 5 rows from the data\n",
        "data_df.head()"
      ],
      "metadata": {
        "colab": {
          "base_uri": "https://localhost:8080/",
          "height": 206
        },
        "id": "bKOAqwM37T3P",
        "outputId": "d3378ee1-35fb-4b34-ac92-0f9507526ab0"
      },
      "execution_count": 5,
      "outputs": [
        {
          "output_type": "execute_result",
          "data": {
            "text/plain": [
              "   index  age     sex     bmi  children smoker     region      charges\n",
              "0      0   19  female  27.900         0    yes  southwest  16884.92400\n",
              "1      1   18    male  33.770         1     no  southeast   1725.55230\n",
              "2      2   28    male  33.000         3     no  southeast   4449.46200\n",
              "3      3   33    male  22.705         0     no  northwest  21984.47061\n",
              "4      4   32    male  28.880         0     no  northwest   3866.85520"
            ],
            "text/html": [
              "\n",
              "  <div id=\"df-b6412e35-16de-41ba-8947-4b722b8b25c4\" class=\"colab-df-container\">\n",
              "    <div>\n",
              "<style scoped>\n",
              "    .dataframe tbody tr th:only-of-type {\n",
              "        vertical-align: middle;\n",
              "    }\n",
              "\n",
              "    .dataframe tbody tr th {\n",
              "        vertical-align: top;\n",
              "    }\n",
              "\n",
              "    .dataframe thead th {\n",
              "        text-align: right;\n",
              "    }\n",
              "</style>\n",
              "<table border=\"1\" class=\"dataframe\">\n",
              "  <thead>\n",
              "    <tr style=\"text-align: right;\">\n",
              "      <th></th>\n",
              "      <th>index</th>\n",
              "      <th>age</th>\n",
              "      <th>sex</th>\n",
              "      <th>bmi</th>\n",
              "      <th>children</th>\n",
              "      <th>smoker</th>\n",
              "      <th>region</th>\n",
              "      <th>charges</th>\n",
              "    </tr>\n",
              "  </thead>\n",
              "  <tbody>\n",
              "    <tr>\n",
              "      <th>0</th>\n",
              "      <td>0</td>\n",
              "      <td>19</td>\n",
              "      <td>female</td>\n",
              "      <td>27.900</td>\n",
              "      <td>0</td>\n",
              "      <td>yes</td>\n",
              "      <td>southwest</td>\n",
              "      <td>16884.92400</td>\n",
              "    </tr>\n",
              "    <tr>\n",
              "      <th>1</th>\n",
              "      <td>1</td>\n",
              "      <td>18</td>\n",
              "      <td>male</td>\n",
              "      <td>33.770</td>\n",
              "      <td>1</td>\n",
              "      <td>no</td>\n",
              "      <td>southeast</td>\n",
              "      <td>1725.55230</td>\n",
              "    </tr>\n",
              "    <tr>\n",
              "      <th>2</th>\n",
              "      <td>2</td>\n",
              "      <td>28</td>\n",
              "      <td>male</td>\n",
              "      <td>33.000</td>\n",
              "      <td>3</td>\n",
              "      <td>no</td>\n",
              "      <td>southeast</td>\n",
              "      <td>4449.46200</td>\n",
              "    </tr>\n",
              "    <tr>\n",
              "      <th>3</th>\n",
              "      <td>3</td>\n",
              "      <td>33</td>\n",
              "      <td>male</td>\n",
              "      <td>22.705</td>\n",
              "      <td>0</td>\n",
              "      <td>no</td>\n",
              "      <td>northwest</td>\n",
              "      <td>21984.47061</td>\n",
              "    </tr>\n",
              "    <tr>\n",
              "      <th>4</th>\n",
              "      <td>4</td>\n",
              "      <td>32</td>\n",
              "      <td>male</td>\n",
              "      <td>28.880</td>\n",
              "      <td>0</td>\n",
              "      <td>no</td>\n",
              "      <td>northwest</td>\n",
              "      <td>3866.85520</td>\n",
              "    </tr>\n",
              "  </tbody>\n",
              "</table>\n",
              "</div>\n",
              "    <div class=\"colab-df-buttons\">\n",
              "\n",
              "  <div class=\"colab-df-container\">\n",
              "    <button class=\"colab-df-convert\" onclick=\"convertToInteractive('df-b6412e35-16de-41ba-8947-4b722b8b25c4')\"\n",
              "            title=\"Convert this dataframe to an interactive table.\"\n",
              "            style=\"display:none;\">\n",
              "\n",
              "  <svg xmlns=\"http://www.w3.org/2000/svg\" height=\"24px\" viewBox=\"0 -960 960 960\">\n",
              "    <path d=\"M120-120v-720h720v720H120Zm60-500h600v-160H180v160Zm220 220h160v-160H400v160Zm0 220h160v-160H400v160ZM180-400h160v-160H180v160Zm440 0h160v-160H620v160ZM180-180h160v-160H180v160Zm440 0h160v-160H620v160Z\"/>\n",
              "  </svg>\n",
              "    </button>\n",
              "\n",
              "  <style>\n",
              "    .colab-df-container {\n",
              "      display:flex;\n",
              "      gap: 12px;\n",
              "    }\n",
              "\n",
              "    .colab-df-convert {\n",
              "      background-color: #E8F0FE;\n",
              "      border: none;\n",
              "      border-radius: 50%;\n",
              "      cursor: pointer;\n",
              "      display: none;\n",
              "      fill: #1967D2;\n",
              "      height: 32px;\n",
              "      padding: 0 0 0 0;\n",
              "      width: 32px;\n",
              "    }\n",
              "\n",
              "    .colab-df-convert:hover {\n",
              "      background-color: #E2EBFA;\n",
              "      box-shadow: 0px 1px 2px rgba(60, 64, 67, 0.3), 0px 1px 3px 1px rgba(60, 64, 67, 0.15);\n",
              "      fill: #174EA6;\n",
              "    }\n",
              "\n",
              "    .colab-df-buttons div {\n",
              "      margin-bottom: 4px;\n",
              "    }\n",
              "\n",
              "    [theme=dark] .colab-df-convert {\n",
              "      background-color: #3B4455;\n",
              "      fill: #D2E3FC;\n",
              "    }\n",
              "\n",
              "    [theme=dark] .colab-df-convert:hover {\n",
              "      background-color: #434B5C;\n",
              "      box-shadow: 0px 1px 3px 1px rgba(0, 0, 0, 0.15);\n",
              "      filter: drop-shadow(0px 1px 2px rgba(0, 0, 0, 0.3));\n",
              "      fill: #FFFFFF;\n",
              "    }\n",
              "  </style>\n",
              "\n",
              "    <script>\n",
              "      const buttonEl =\n",
              "        document.querySelector('#df-b6412e35-16de-41ba-8947-4b722b8b25c4 button.colab-df-convert');\n",
              "      buttonEl.style.display =\n",
              "        google.colab.kernel.accessAllowed ? 'block' : 'none';\n",
              "\n",
              "      async function convertToInteractive(key) {\n",
              "        const element = document.querySelector('#df-b6412e35-16de-41ba-8947-4b722b8b25c4');\n",
              "        const dataTable =\n",
              "          await google.colab.kernel.invokeFunction('convertToInteractive',\n",
              "                                                    [key], {});\n",
              "        if (!dataTable) return;\n",
              "\n",
              "        const docLinkHtml = 'Like what you see? Visit the ' +\n",
              "          '<a target=\"_blank\" href=https://colab.research.google.com/notebooks/data_table.ipynb>data table notebook</a>'\n",
              "          + ' to learn more about interactive tables.';\n",
              "        element.innerHTML = '';\n",
              "        dataTable['output_type'] = 'display_data';\n",
              "        await google.colab.output.renderOutput(dataTable, element);\n",
              "        const docLink = document.createElement('div');\n",
              "        docLink.innerHTML = docLinkHtml;\n",
              "        element.appendChild(docLink);\n",
              "      }\n",
              "    </script>\n",
              "  </div>\n",
              "\n",
              "\n",
              "<div id=\"df-ec694b26-cc5d-44e0-833c-2e4d592bfffe\">\n",
              "  <button class=\"colab-df-quickchart\" onclick=\"quickchart('df-ec694b26-cc5d-44e0-833c-2e4d592bfffe')\"\n",
              "            title=\"Suggest charts\"\n",
              "            style=\"display:none;\">\n",
              "\n",
              "<svg xmlns=\"http://www.w3.org/2000/svg\" height=\"24px\"viewBox=\"0 0 24 24\"\n",
              "     width=\"24px\">\n",
              "    <g>\n",
              "        <path d=\"M19 3H5c-1.1 0-2 .9-2 2v14c0 1.1.9 2 2 2h14c1.1 0 2-.9 2-2V5c0-1.1-.9-2-2-2zM9 17H7v-7h2v7zm4 0h-2V7h2v10zm4 0h-2v-4h2v4z\"/>\n",
              "    </g>\n",
              "</svg>\n",
              "  </button>\n",
              "\n",
              "<style>\n",
              "  .colab-df-quickchart {\n",
              "      --bg-color: #E8F0FE;\n",
              "      --fill-color: #1967D2;\n",
              "      --hover-bg-color: #E2EBFA;\n",
              "      --hover-fill-color: #174EA6;\n",
              "      --disabled-fill-color: #AAA;\n",
              "      --disabled-bg-color: #DDD;\n",
              "  }\n",
              "\n",
              "  [theme=dark] .colab-df-quickchart {\n",
              "      --bg-color: #3B4455;\n",
              "      --fill-color: #D2E3FC;\n",
              "      --hover-bg-color: #434B5C;\n",
              "      --hover-fill-color: #FFFFFF;\n",
              "      --disabled-bg-color: #3B4455;\n",
              "      --disabled-fill-color: #666;\n",
              "  }\n",
              "\n",
              "  .colab-df-quickchart {\n",
              "    background-color: var(--bg-color);\n",
              "    border: none;\n",
              "    border-radius: 50%;\n",
              "    cursor: pointer;\n",
              "    display: none;\n",
              "    fill: var(--fill-color);\n",
              "    height: 32px;\n",
              "    padding: 0;\n",
              "    width: 32px;\n",
              "  }\n",
              "\n",
              "  .colab-df-quickchart:hover {\n",
              "    background-color: var(--hover-bg-color);\n",
              "    box-shadow: 0 1px 2px rgba(60, 64, 67, 0.3), 0 1px 3px 1px rgba(60, 64, 67, 0.15);\n",
              "    fill: var(--button-hover-fill-color);\n",
              "  }\n",
              "\n",
              "  .colab-df-quickchart-complete:disabled,\n",
              "  .colab-df-quickchart-complete:disabled:hover {\n",
              "    background-color: var(--disabled-bg-color);\n",
              "    fill: var(--disabled-fill-color);\n",
              "    box-shadow: none;\n",
              "  }\n",
              "\n",
              "  .colab-df-spinner {\n",
              "    border: 2px solid var(--fill-color);\n",
              "    border-color: transparent;\n",
              "    border-bottom-color: var(--fill-color);\n",
              "    animation:\n",
              "      spin 1s steps(1) infinite;\n",
              "  }\n",
              "\n",
              "  @keyframes spin {\n",
              "    0% {\n",
              "      border-color: transparent;\n",
              "      border-bottom-color: var(--fill-color);\n",
              "      border-left-color: var(--fill-color);\n",
              "    }\n",
              "    20% {\n",
              "      border-color: transparent;\n",
              "      border-left-color: var(--fill-color);\n",
              "      border-top-color: var(--fill-color);\n",
              "    }\n",
              "    30% {\n",
              "      border-color: transparent;\n",
              "      border-left-color: var(--fill-color);\n",
              "      border-top-color: var(--fill-color);\n",
              "      border-right-color: var(--fill-color);\n",
              "    }\n",
              "    40% {\n",
              "      border-color: transparent;\n",
              "      border-right-color: var(--fill-color);\n",
              "      border-top-color: var(--fill-color);\n",
              "    }\n",
              "    60% {\n",
              "      border-color: transparent;\n",
              "      border-right-color: var(--fill-color);\n",
              "    }\n",
              "    80% {\n",
              "      border-color: transparent;\n",
              "      border-right-color: var(--fill-color);\n",
              "      border-bottom-color: var(--fill-color);\n",
              "    }\n",
              "    90% {\n",
              "      border-color: transparent;\n",
              "      border-bottom-color: var(--fill-color);\n",
              "    }\n",
              "  }\n",
              "</style>\n",
              "\n",
              "  <script>\n",
              "    async function quickchart(key) {\n",
              "      const quickchartButtonEl =\n",
              "        document.querySelector('#' + key + ' button');\n",
              "      quickchartButtonEl.disabled = true;  // To prevent multiple clicks.\n",
              "      quickchartButtonEl.classList.add('colab-df-spinner');\n",
              "      try {\n",
              "        const charts = await google.colab.kernel.invokeFunction(\n",
              "            'suggestCharts', [key], {});\n",
              "      } catch (error) {\n",
              "        console.error('Error during call to suggestCharts:', error);\n",
              "      }\n",
              "      quickchartButtonEl.classList.remove('colab-df-spinner');\n",
              "      quickchartButtonEl.classList.add('colab-df-quickchart-complete');\n",
              "    }\n",
              "    (() => {\n",
              "      let quickchartButtonEl =\n",
              "        document.querySelector('#df-ec694b26-cc5d-44e0-833c-2e4d592bfffe button');\n",
              "      quickchartButtonEl.style.display =\n",
              "        google.colab.kernel.accessAllowed ? 'block' : 'none';\n",
              "    })();\n",
              "  </script>\n",
              "</div>\n",
              "    </div>\n",
              "  </div>\n"
            ],
            "application/vnd.google.colaboratory.intrinsic+json": {
              "type": "dataframe",
              "variable_name": "data_df",
              "summary": "{\n  \"name\": \"data_df\",\n  \"rows\": 1338,\n  \"fields\": [\n    {\n      \"column\": \"index\",\n      \"properties\": {\n        \"dtype\": \"number\",\n        \"std\": 386,\n        \"min\": 0,\n        \"max\": 1337,\n        \"num_unique_values\": 1338,\n        \"samples\": [\n          764,\n          887,\n          890\n        ],\n        \"semantic_type\": \"\",\n        \"description\": \"\"\n      }\n    },\n    {\n      \"column\": \"age\",\n      \"properties\": {\n        \"dtype\": \"number\",\n        \"std\": 14,\n        \"min\": 18,\n        \"max\": 64,\n        \"num_unique_values\": 47,\n        \"samples\": [\n          21,\n          45,\n          36\n        ],\n        \"semantic_type\": \"\",\n        \"description\": \"\"\n      }\n    },\n    {\n      \"column\": \"sex\",\n      \"properties\": {\n        \"dtype\": \"category\",\n        \"num_unique_values\": 2,\n        \"samples\": [\n          \"male\",\n          \"female\"\n        ],\n        \"semantic_type\": \"\",\n        \"description\": \"\"\n      }\n    },\n    {\n      \"column\": \"bmi\",\n      \"properties\": {\n        \"dtype\": \"number\",\n        \"std\": 6.098186911679014,\n        \"min\": 15.96,\n        \"max\": 53.13,\n        \"num_unique_values\": 548,\n        \"samples\": [\n          23.18,\n          26.885\n        ],\n        \"semantic_type\": \"\",\n        \"description\": \"\"\n      }\n    },\n    {\n      \"column\": \"children\",\n      \"properties\": {\n        \"dtype\": \"number\",\n        \"std\": 1,\n        \"min\": 0,\n        \"max\": 5,\n        \"num_unique_values\": 6,\n        \"samples\": [\n          0,\n          1\n        ],\n        \"semantic_type\": \"\",\n        \"description\": \"\"\n      }\n    },\n    {\n      \"column\": \"smoker\",\n      \"properties\": {\n        \"dtype\": \"category\",\n        \"num_unique_values\": 2,\n        \"samples\": [\n          \"no\",\n          \"yes\"\n        ],\n        \"semantic_type\": \"\",\n        \"description\": \"\"\n      }\n    },\n    {\n      \"column\": \"region\",\n      \"properties\": {\n        \"dtype\": \"category\",\n        \"num_unique_values\": 4,\n        \"samples\": [\n          \"southeast\",\n          \"northeast\"\n        ],\n        \"semantic_type\": \"\",\n        \"description\": \"\"\n      }\n    },\n    {\n      \"column\": \"charges\",\n      \"properties\": {\n        \"dtype\": \"number\",\n        \"std\": 12110.011236694001,\n        \"min\": 1121.8739,\n        \"max\": 63770.42801,\n        \"num_unique_values\": 1337,\n        \"samples\": [\n          8688.85885,\n          5708.867\n        ],\n        \"semantic_type\": \"\",\n        \"description\": \"\"\n      }\n    }\n  ]\n}"
            }
          },
          "metadata": {},
          "execution_count": 5
        }
      ]
    },
    {
      "cell_type": "markdown",
      "source": [
        "# Data Description\n",
        "\n",
        "* Index: Unique identifier for each record in the dataset\n",
        "* age: Age os the customer\n",
        "* bmi: Body Mass Index (BMI) of the customer\n",
        "* children: Number of children/dependents covered by the insurance\n",
        "* smoker: Indicates if the customer is a smoker (yes or no)\n",
        "* region: Geographic region of the customer (e.g., northwest, southeast, southwest, northeast)\n",
        "* charges: Estimated insurance charges for the customer based on the provided details  "
      ],
      "metadata": {
        "id": "l8TKMjZbyR18"
      }
    },
    {
      "cell_type": "code",
      "source": [
        "data_df.info()"
      ],
      "metadata": {
        "colab": {
          "base_uri": "https://localhost:8080/"
        },
        "id": "EYvJ8Ij-7bSZ",
        "outputId": "67193b69-5d83-4334-c279-6b9ea1947ca3"
      },
      "execution_count": 6,
      "outputs": [
        {
          "output_type": "stream",
          "name": "stdout",
          "text": [
            "<class 'pandas.core.frame.DataFrame'>\n",
            "RangeIndex: 1338 entries, 0 to 1337\n",
            "Data columns (total 8 columns):\n",
            " #   Column    Non-Null Count  Dtype  \n",
            "---  ------    --------------  -----  \n",
            " 0   index     1338 non-null   int64  \n",
            " 1   age       1338 non-null   int64  \n",
            " 2   sex       1338 non-null   object \n",
            " 3   bmi       1338 non-null   float64\n",
            " 4   children  1338 non-null   int64  \n",
            " 5   smoker    1338 non-null   object \n",
            " 6   region    1338 non-null   object \n",
            " 7   charges   1338 non-null   float64\n",
            "dtypes: float64(2), int64(3), object(3)\n",
            "memory usage: 83.8+ KB\n"
          ]
        }
      ]
    },
    {
      "cell_type": "code",
      "source": [
        "# Get the column names in the dataset\n",
        "data_df.columns"
      ],
      "metadata": {
        "colab": {
          "base_uri": "https://localhost:8080/"
        },
        "id": "jY9zEp0C7sq9",
        "outputId": "f1b092eb-662e-48af-e66f-8ea3ccac34e8"
      },
      "execution_count": 7,
      "outputs": [
        {
          "output_type": "execute_result",
          "data": {
            "text/plain": [
              "Index(['index', 'age', 'sex', 'bmi', 'children', 'smoker', 'region',\n",
              "       'charges'],\n",
              "      dtype='object')"
            ]
          },
          "metadata": {},
          "execution_count": 7
        }
      ]
    },
    {
      "cell_type": "code",
      "source": [
        "target = 'charges'\n",
        "numeric_features = ['age', 'bmi', 'children']\n",
        "categorical_features = ['sex', 'smoker','region']"
      ],
      "metadata": {
        "id": "2HWCwlXvzrSX"
      },
      "execution_count": 8,
      "outputs": []
    },
    {
      "cell_type": "code",
      "source": [
        "# Get the shape of the data\n",
        "data_df.shape"
      ],
      "metadata": {
        "colab": {
          "base_uri": "https://localhost:8080/"
        },
        "id": "QldZQvQl7xUS",
        "outputId": "c77e6216-3b69-4800-d4b8-c7d26d245ed0"
      },
      "execution_count": 9,
      "outputs": [
        {
          "output_type": "execute_result",
          "data": {
            "text/plain": [
              "(1338, 8)"
            ]
          },
          "metadata": {},
          "execution_count": 9
        }
      ]
    },
    {
      "cell_type": "code",
      "source": [
        "# Check is there any missing values iin the dataset\n",
        "data_df.isnull().sum()"
      ],
      "metadata": {
        "colab": {
          "base_uri": "https://localhost:8080/"
        },
        "id": "4OOc0o_X71Fx",
        "outputId": "d0675c78-ab75-4458-d7f2-51a35178d766"
      },
      "execution_count": 10,
      "outputs": [
        {
          "output_type": "execute_result",
          "data": {
            "text/plain": [
              "index       0\n",
              "age         0\n",
              "sex         0\n",
              "bmi         0\n",
              "children    0\n",
              "smoker      0\n",
              "region      0\n",
              "charges     0\n",
              "dtype: int64"
            ]
          },
          "metadata": {},
          "execution_count": 10
        }
      ]
    },
    {
      "cell_type": "code",
      "source": [
        "# Store the numerical features in a new varable called numerical_features\n",
        "numerical_features =data_df[['age', 'bmi', 'children']].columns"
      ],
      "metadata": {
        "id": "fhXWAk2B8t2v"
      },
      "execution_count": 11,
      "outputs": []
    },
    {
      "cell_type": "code",
      "source": [
        "numerical_features"
      ],
      "metadata": {
        "colab": {
          "base_uri": "https://localhost:8080/"
        },
        "id": "pXW6C0XS9LLh",
        "outputId": "b5c7cc0c-5cfe-46ec-8468-057b5597a1ee"
      },
      "execution_count": 12,
      "outputs": [
        {
          "output_type": "execute_result",
          "data": {
            "text/plain": [
              "Index(['age', 'bmi', 'children'], dtype='object')"
            ]
          },
          "metadata": {},
          "execution_count": 12
        }
      ]
    },
    {
      "cell_type": "code",
      "source": [
        "# Store the categorical features in a new varable called categorical_features\n",
        "categorical_features = data_df.select_dtypes(include=['object']).columns"
      ],
      "metadata": {
        "id": "wCh9zcNv9TVB"
      },
      "execution_count": 13,
      "outputs": []
    },
    {
      "cell_type": "code",
      "source": [
        "categorical_features"
      ],
      "metadata": {
        "colab": {
          "base_uri": "https://localhost:8080/"
        },
        "id": "E65ZqZ_N9Xm1",
        "outputId": "7d4472bc-01ea-457f-89df-8140a9cb875b"
      },
      "execution_count": 14,
      "outputs": [
        {
          "output_type": "execute_result",
          "data": {
            "text/plain": [
              "Index(['sex', 'smoker', 'region'], dtype='object')"
            ]
          },
          "metadata": {},
          "execution_count": 14
        }
      ]
    },
    {
      "cell_type": "code",
      "source": [
        "# Get the count of the children\n",
        "data_df['children'].value_counts()"
      ],
      "metadata": {
        "colab": {
          "base_uri": "https://localhost:8080/"
        },
        "id": "WV0Klbco9kvT",
        "outputId": "4fc8e2ba-4c9e-419c-97a3-113c780c5c69"
      },
      "execution_count": 15,
      "outputs": [
        {
          "output_type": "execute_result",
          "data": {
            "text/plain": [
              "children\n",
              "0    574\n",
              "1    324\n",
              "2    240\n",
              "3    157\n",
              "4     25\n",
              "5     18\n",
              "Name: count, dtype: int64"
            ]
          },
          "metadata": {},
          "execution_count": 15
        }
      ]
    },
    {
      "cell_type": "code",
      "source": [
        "# split data in to numerical and categorical\n",
        "numerical_cols = data_df.select_dtypes(include=[\"int64\", \"float64\"]).columns\n",
        "categorical_cols = data_df.select_dtypes(include=[\"object\"]).columns\n",
        "\n",
        "# Create separate dataframes for numerical and categorical data\n",
        "numerical_data = data_df[numerical_cols]\n",
        "categorical_data = data_df[categorical_cols]"
      ],
      "metadata": {
        "id": "ma5FcX253xB3"
      },
      "execution_count": 16,
      "outputs": []
    },
    {
      "cell_type": "code",
      "source": [
        "numerical_data"
      ],
      "metadata": {
        "colab": {
          "base_uri": "https://localhost:8080/",
          "height": 424
        },
        "id": "Ezh5D_G0hx8Z",
        "outputId": "4cc2d6f1-1406-4069-dfad-1f9d01bf7a49"
      },
      "execution_count": 17,
      "outputs": [
        {
          "output_type": "execute_result",
          "data": {
            "text/plain": [
              "      index  age     bmi  children      charges\n",
              "0         0   19  27.900         0  16884.92400\n",
              "1         1   18  33.770         1   1725.55230\n",
              "2         2   28  33.000         3   4449.46200\n",
              "3         3   33  22.705         0  21984.47061\n",
              "4         4   32  28.880         0   3866.85520\n",
              "...     ...  ...     ...       ...          ...\n",
              "1333   1333   50  30.970         3  10600.54830\n",
              "1334   1334   18  31.920         0   2205.98080\n",
              "1335   1335   18  36.850         0   1629.83350\n",
              "1336   1336   21  25.800         0   2007.94500\n",
              "1337   1337   61  29.070         0  29141.36030\n",
              "\n",
              "[1338 rows x 5 columns]"
            ],
            "text/html": [
              "\n",
              "  <div id=\"df-b4036a63-bb96-489a-a6f1-35560dc77060\" class=\"colab-df-container\">\n",
              "    <div>\n",
              "<style scoped>\n",
              "    .dataframe tbody tr th:only-of-type {\n",
              "        vertical-align: middle;\n",
              "    }\n",
              "\n",
              "    .dataframe tbody tr th {\n",
              "        vertical-align: top;\n",
              "    }\n",
              "\n",
              "    .dataframe thead th {\n",
              "        text-align: right;\n",
              "    }\n",
              "</style>\n",
              "<table border=\"1\" class=\"dataframe\">\n",
              "  <thead>\n",
              "    <tr style=\"text-align: right;\">\n",
              "      <th></th>\n",
              "      <th>index</th>\n",
              "      <th>age</th>\n",
              "      <th>bmi</th>\n",
              "      <th>children</th>\n",
              "      <th>charges</th>\n",
              "    </tr>\n",
              "  </thead>\n",
              "  <tbody>\n",
              "    <tr>\n",
              "      <th>0</th>\n",
              "      <td>0</td>\n",
              "      <td>19</td>\n",
              "      <td>27.900</td>\n",
              "      <td>0</td>\n",
              "      <td>16884.92400</td>\n",
              "    </tr>\n",
              "    <tr>\n",
              "      <th>1</th>\n",
              "      <td>1</td>\n",
              "      <td>18</td>\n",
              "      <td>33.770</td>\n",
              "      <td>1</td>\n",
              "      <td>1725.55230</td>\n",
              "    </tr>\n",
              "    <tr>\n",
              "      <th>2</th>\n",
              "      <td>2</td>\n",
              "      <td>28</td>\n",
              "      <td>33.000</td>\n",
              "      <td>3</td>\n",
              "      <td>4449.46200</td>\n",
              "    </tr>\n",
              "    <tr>\n",
              "      <th>3</th>\n",
              "      <td>3</td>\n",
              "      <td>33</td>\n",
              "      <td>22.705</td>\n",
              "      <td>0</td>\n",
              "      <td>21984.47061</td>\n",
              "    </tr>\n",
              "    <tr>\n",
              "      <th>4</th>\n",
              "      <td>4</td>\n",
              "      <td>32</td>\n",
              "      <td>28.880</td>\n",
              "      <td>0</td>\n",
              "      <td>3866.85520</td>\n",
              "    </tr>\n",
              "    <tr>\n",
              "      <th>...</th>\n",
              "      <td>...</td>\n",
              "      <td>...</td>\n",
              "      <td>...</td>\n",
              "      <td>...</td>\n",
              "      <td>...</td>\n",
              "    </tr>\n",
              "    <tr>\n",
              "      <th>1333</th>\n",
              "      <td>1333</td>\n",
              "      <td>50</td>\n",
              "      <td>30.970</td>\n",
              "      <td>3</td>\n",
              "      <td>10600.54830</td>\n",
              "    </tr>\n",
              "    <tr>\n",
              "      <th>1334</th>\n",
              "      <td>1334</td>\n",
              "      <td>18</td>\n",
              "      <td>31.920</td>\n",
              "      <td>0</td>\n",
              "      <td>2205.98080</td>\n",
              "    </tr>\n",
              "    <tr>\n",
              "      <th>1335</th>\n",
              "      <td>1335</td>\n",
              "      <td>18</td>\n",
              "      <td>36.850</td>\n",
              "      <td>0</td>\n",
              "      <td>1629.83350</td>\n",
              "    </tr>\n",
              "    <tr>\n",
              "      <th>1336</th>\n",
              "      <td>1336</td>\n",
              "      <td>21</td>\n",
              "      <td>25.800</td>\n",
              "      <td>0</td>\n",
              "      <td>2007.94500</td>\n",
              "    </tr>\n",
              "    <tr>\n",
              "      <th>1337</th>\n",
              "      <td>1337</td>\n",
              "      <td>61</td>\n",
              "      <td>29.070</td>\n",
              "      <td>0</td>\n",
              "      <td>29141.36030</td>\n",
              "    </tr>\n",
              "  </tbody>\n",
              "</table>\n",
              "<p>1338 rows × 5 columns</p>\n",
              "</div>\n",
              "    <div class=\"colab-df-buttons\">\n",
              "\n",
              "  <div class=\"colab-df-container\">\n",
              "    <button class=\"colab-df-convert\" onclick=\"convertToInteractive('df-b4036a63-bb96-489a-a6f1-35560dc77060')\"\n",
              "            title=\"Convert this dataframe to an interactive table.\"\n",
              "            style=\"display:none;\">\n",
              "\n",
              "  <svg xmlns=\"http://www.w3.org/2000/svg\" height=\"24px\" viewBox=\"0 -960 960 960\">\n",
              "    <path d=\"M120-120v-720h720v720H120Zm60-500h600v-160H180v160Zm220 220h160v-160H400v160Zm0 220h160v-160H400v160ZM180-400h160v-160H180v160Zm440 0h160v-160H620v160ZM180-180h160v-160H180v160Zm440 0h160v-160H620v160Z\"/>\n",
              "  </svg>\n",
              "    </button>\n",
              "\n",
              "  <style>\n",
              "    .colab-df-container {\n",
              "      display:flex;\n",
              "      gap: 12px;\n",
              "    }\n",
              "\n",
              "    .colab-df-convert {\n",
              "      background-color: #E8F0FE;\n",
              "      border: none;\n",
              "      border-radius: 50%;\n",
              "      cursor: pointer;\n",
              "      display: none;\n",
              "      fill: #1967D2;\n",
              "      height: 32px;\n",
              "      padding: 0 0 0 0;\n",
              "      width: 32px;\n",
              "    }\n",
              "\n",
              "    .colab-df-convert:hover {\n",
              "      background-color: #E2EBFA;\n",
              "      box-shadow: 0px 1px 2px rgba(60, 64, 67, 0.3), 0px 1px 3px 1px rgba(60, 64, 67, 0.15);\n",
              "      fill: #174EA6;\n",
              "    }\n",
              "\n",
              "    .colab-df-buttons div {\n",
              "      margin-bottom: 4px;\n",
              "    }\n",
              "\n",
              "    [theme=dark] .colab-df-convert {\n",
              "      background-color: #3B4455;\n",
              "      fill: #D2E3FC;\n",
              "    }\n",
              "\n",
              "    [theme=dark] .colab-df-convert:hover {\n",
              "      background-color: #434B5C;\n",
              "      box-shadow: 0px 1px 3px 1px rgba(0, 0, 0, 0.15);\n",
              "      filter: drop-shadow(0px 1px 2px rgba(0, 0, 0, 0.3));\n",
              "      fill: #FFFFFF;\n",
              "    }\n",
              "  </style>\n",
              "\n",
              "    <script>\n",
              "      const buttonEl =\n",
              "        document.querySelector('#df-b4036a63-bb96-489a-a6f1-35560dc77060 button.colab-df-convert');\n",
              "      buttonEl.style.display =\n",
              "        google.colab.kernel.accessAllowed ? 'block' : 'none';\n",
              "\n",
              "      async function convertToInteractive(key) {\n",
              "        const element = document.querySelector('#df-b4036a63-bb96-489a-a6f1-35560dc77060');\n",
              "        const dataTable =\n",
              "          await google.colab.kernel.invokeFunction('convertToInteractive',\n",
              "                                                    [key], {});\n",
              "        if (!dataTable) return;\n",
              "\n",
              "        const docLinkHtml = 'Like what you see? Visit the ' +\n",
              "          '<a target=\"_blank\" href=https://colab.research.google.com/notebooks/data_table.ipynb>data table notebook</a>'\n",
              "          + ' to learn more about interactive tables.';\n",
              "        element.innerHTML = '';\n",
              "        dataTable['output_type'] = 'display_data';\n",
              "        await google.colab.output.renderOutput(dataTable, element);\n",
              "        const docLink = document.createElement('div');\n",
              "        docLink.innerHTML = docLinkHtml;\n",
              "        element.appendChild(docLink);\n",
              "      }\n",
              "    </script>\n",
              "  </div>\n",
              "\n",
              "\n",
              "<div id=\"df-526e78e3-fd35-486e-87ce-c09653c1e8dd\">\n",
              "  <button class=\"colab-df-quickchart\" onclick=\"quickchart('df-526e78e3-fd35-486e-87ce-c09653c1e8dd')\"\n",
              "            title=\"Suggest charts\"\n",
              "            style=\"display:none;\">\n",
              "\n",
              "<svg xmlns=\"http://www.w3.org/2000/svg\" height=\"24px\"viewBox=\"0 0 24 24\"\n",
              "     width=\"24px\">\n",
              "    <g>\n",
              "        <path d=\"M19 3H5c-1.1 0-2 .9-2 2v14c0 1.1.9 2 2 2h14c1.1 0 2-.9 2-2V5c0-1.1-.9-2-2-2zM9 17H7v-7h2v7zm4 0h-2V7h2v10zm4 0h-2v-4h2v4z\"/>\n",
              "    </g>\n",
              "</svg>\n",
              "  </button>\n",
              "\n",
              "<style>\n",
              "  .colab-df-quickchart {\n",
              "      --bg-color: #E8F0FE;\n",
              "      --fill-color: #1967D2;\n",
              "      --hover-bg-color: #E2EBFA;\n",
              "      --hover-fill-color: #174EA6;\n",
              "      --disabled-fill-color: #AAA;\n",
              "      --disabled-bg-color: #DDD;\n",
              "  }\n",
              "\n",
              "  [theme=dark] .colab-df-quickchart {\n",
              "      --bg-color: #3B4455;\n",
              "      --fill-color: #D2E3FC;\n",
              "      --hover-bg-color: #434B5C;\n",
              "      --hover-fill-color: #FFFFFF;\n",
              "      --disabled-bg-color: #3B4455;\n",
              "      --disabled-fill-color: #666;\n",
              "  }\n",
              "\n",
              "  .colab-df-quickchart {\n",
              "    background-color: var(--bg-color);\n",
              "    border: none;\n",
              "    border-radius: 50%;\n",
              "    cursor: pointer;\n",
              "    display: none;\n",
              "    fill: var(--fill-color);\n",
              "    height: 32px;\n",
              "    padding: 0;\n",
              "    width: 32px;\n",
              "  }\n",
              "\n",
              "  .colab-df-quickchart:hover {\n",
              "    background-color: var(--hover-bg-color);\n",
              "    box-shadow: 0 1px 2px rgba(60, 64, 67, 0.3), 0 1px 3px 1px rgba(60, 64, 67, 0.15);\n",
              "    fill: var(--button-hover-fill-color);\n",
              "  }\n",
              "\n",
              "  .colab-df-quickchart-complete:disabled,\n",
              "  .colab-df-quickchart-complete:disabled:hover {\n",
              "    background-color: var(--disabled-bg-color);\n",
              "    fill: var(--disabled-fill-color);\n",
              "    box-shadow: none;\n",
              "  }\n",
              "\n",
              "  .colab-df-spinner {\n",
              "    border: 2px solid var(--fill-color);\n",
              "    border-color: transparent;\n",
              "    border-bottom-color: var(--fill-color);\n",
              "    animation:\n",
              "      spin 1s steps(1) infinite;\n",
              "  }\n",
              "\n",
              "  @keyframes spin {\n",
              "    0% {\n",
              "      border-color: transparent;\n",
              "      border-bottom-color: var(--fill-color);\n",
              "      border-left-color: var(--fill-color);\n",
              "    }\n",
              "    20% {\n",
              "      border-color: transparent;\n",
              "      border-left-color: var(--fill-color);\n",
              "      border-top-color: var(--fill-color);\n",
              "    }\n",
              "    30% {\n",
              "      border-color: transparent;\n",
              "      border-left-color: var(--fill-color);\n",
              "      border-top-color: var(--fill-color);\n",
              "      border-right-color: var(--fill-color);\n",
              "    }\n",
              "    40% {\n",
              "      border-color: transparent;\n",
              "      border-right-color: var(--fill-color);\n",
              "      border-top-color: var(--fill-color);\n",
              "    }\n",
              "    60% {\n",
              "      border-color: transparent;\n",
              "      border-right-color: var(--fill-color);\n",
              "    }\n",
              "    80% {\n",
              "      border-color: transparent;\n",
              "      border-right-color: var(--fill-color);\n",
              "      border-bottom-color: var(--fill-color);\n",
              "    }\n",
              "    90% {\n",
              "      border-color: transparent;\n",
              "      border-bottom-color: var(--fill-color);\n",
              "    }\n",
              "  }\n",
              "</style>\n",
              "\n",
              "  <script>\n",
              "    async function quickchart(key) {\n",
              "      const quickchartButtonEl =\n",
              "        document.querySelector('#' + key + ' button');\n",
              "      quickchartButtonEl.disabled = true;  // To prevent multiple clicks.\n",
              "      quickchartButtonEl.classList.add('colab-df-spinner');\n",
              "      try {\n",
              "        const charts = await google.colab.kernel.invokeFunction(\n",
              "            'suggestCharts', [key], {});\n",
              "      } catch (error) {\n",
              "        console.error('Error during call to suggestCharts:', error);\n",
              "      }\n",
              "      quickchartButtonEl.classList.remove('colab-df-spinner');\n",
              "      quickchartButtonEl.classList.add('colab-df-quickchart-complete');\n",
              "    }\n",
              "    (() => {\n",
              "      let quickchartButtonEl =\n",
              "        document.querySelector('#df-526e78e3-fd35-486e-87ce-c09653c1e8dd button');\n",
              "      quickchartButtonEl.style.display =\n",
              "        google.colab.kernel.accessAllowed ? 'block' : 'none';\n",
              "    })();\n",
              "  </script>\n",
              "</div>\n",
              "    </div>\n",
              "  </div>\n"
            ],
            "application/vnd.google.colaboratory.intrinsic+json": {
              "type": "dataframe",
              "variable_name": "numerical_data",
              "summary": "{\n  \"name\": \"numerical_data\",\n  \"rows\": 1338,\n  \"fields\": [\n    {\n      \"column\": \"index\",\n      \"properties\": {\n        \"dtype\": \"number\",\n        \"std\": 386,\n        \"min\": 0,\n        \"max\": 1337,\n        \"num_unique_values\": 1338,\n        \"samples\": [\n          764,\n          887,\n          890\n        ],\n        \"semantic_type\": \"\",\n        \"description\": \"\"\n      }\n    },\n    {\n      \"column\": \"age\",\n      \"properties\": {\n        \"dtype\": \"number\",\n        \"std\": 14,\n        \"min\": 18,\n        \"max\": 64,\n        \"num_unique_values\": 47,\n        \"samples\": [\n          21,\n          45,\n          36\n        ],\n        \"semantic_type\": \"\",\n        \"description\": \"\"\n      }\n    },\n    {\n      \"column\": \"bmi\",\n      \"properties\": {\n        \"dtype\": \"number\",\n        \"std\": 6.098186911679014,\n        \"min\": 15.96,\n        \"max\": 53.13,\n        \"num_unique_values\": 548,\n        \"samples\": [\n          23.18,\n          26.885,\n          29.26\n        ],\n        \"semantic_type\": \"\",\n        \"description\": \"\"\n      }\n    },\n    {\n      \"column\": \"children\",\n      \"properties\": {\n        \"dtype\": \"number\",\n        \"std\": 1,\n        \"min\": 0,\n        \"max\": 5,\n        \"num_unique_values\": 6,\n        \"samples\": [\n          0,\n          1,\n          4\n        ],\n        \"semantic_type\": \"\",\n        \"description\": \"\"\n      }\n    },\n    {\n      \"column\": \"charges\",\n      \"properties\": {\n        \"dtype\": \"number\",\n        \"std\": 12110.011236694001,\n        \"min\": 1121.8739,\n        \"max\": 63770.42801,\n        \"num_unique_values\": 1337,\n        \"samples\": [\n          8688.85885,\n          5708.867,\n          11436.73815\n        ],\n        \"semantic_type\": \"\",\n        \"description\": \"\"\n      }\n    }\n  ]\n}"
            }
          },
          "metadata": {},
          "execution_count": 17
        }
      ]
    },
    {
      "cell_type": "code",
      "source": [
        "categorical_data"
      ],
      "metadata": {
        "colab": {
          "base_uri": "https://localhost:8080/",
          "height": 424
        },
        "id": "hf9dnLDOhxxP",
        "outputId": "d7008b98-365f-4fca-fb14-4bd065a84597"
      },
      "execution_count": 18,
      "outputs": [
        {
          "output_type": "execute_result",
          "data": {
            "text/plain": [
              "         sex smoker     region\n",
              "0     female    yes  southwest\n",
              "1       male     no  southeast\n",
              "2       male     no  southeast\n",
              "3       male     no  northwest\n",
              "4       male     no  northwest\n",
              "...      ...    ...        ...\n",
              "1333    male     no  northwest\n",
              "1334  female     no  northeast\n",
              "1335  female     no  southeast\n",
              "1336  female     no  southwest\n",
              "1337  female    yes  northwest\n",
              "\n",
              "[1338 rows x 3 columns]"
            ],
            "text/html": [
              "\n",
              "  <div id=\"df-2d3f7acf-618d-4f75-b1a6-4fc1d536b9fb\" class=\"colab-df-container\">\n",
              "    <div>\n",
              "<style scoped>\n",
              "    .dataframe tbody tr th:only-of-type {\n",
              "        vertical-align: middle;\n",
              "    }\n",
              "\n",
              "    .dataframe tbody tr th {\n",
              "        vertical-align: top;\n",
              "    }\n",
              "\n",
              "    .dataframe thead th {\n",
              "        text-align: right;\n",
              "    }\n",
              "</style>\n",
              "<table border=\"1\" class=\"dataframe\">\n",
              "  <thead>\n",
              "    <tr style=\"text-align: right;\">\n",
              "      <th></th>\n",
              "      <th>sex</th>\n",
              "      <th>smoker</th>\n",
              "      <th>region</th>\n",
              "    </tr>\n",
              "  </thead>\n",
              "  <tbody>\n",
              "    <tr>\n",
              "      <th>0</th>\n",
              "      <td>female</td>\n",
              "      <td>yes</td>\n",
              "      <td>southwest</td>\n",
              "    </tr>\n",
              "    <tr>\n",
              "      <th>1</th>\n",
              "      <td>male</td>\n",
              "      <td>no</td>\n",
              "      <td>southeast</td>\n",
              "    </tr>\n",
              "    <tr>\n",
              "      <th>2</th>\n",
              "      <td>male</td>\n",
              "      <td>no</td>\n",
              "      <td>southeast</td>\n",
              "    </tr>\n",
              "    <tr>\n",
              "      <th>3</th>\n",
              "      <td>male</td>\n",
              "      <td>no</td>\n",
              "      <td>northwest</td>\n",
              "    </tr>\n",
              "    <tr>\n",
              "      <th>4</th>\n",
              "      <td>male</td>\n",
              "      <td>no</td>\n",
              "      <td>northwest</td>\n",
              "    </tr>\n",
              "    <tr>\n",
              "      <th>...</th>\n",
              "      <td>...</td>\n",
              "      <td>...</td>\n",
              "      <td>...</td>\n",
              "    </tr>\n",
              "    <tr>\n",
              "      <th>1333</th>\n",
              "      <td>male</td>\n",
              "      <td>no</td>\n",
              "      <td>northwest</td>\n",
              "    </tr>\n",
              "    <tr>\n",
              "      <th>1334</th>\n",
              "      <td>female</td>\n",
              "      <td>no</td>\n",
              "      <td>northeast</td>\n",
              "    </tr>\n",
              "    <tr>\n",
              "      <th>1335</th>\n",
              "      <td>female</td>\n",
              "      <td>no</td>\n",
              "      <td>southeast</td>\n",
              "    </tr>\n",
              "    <tr>\n",
              "      <th>1336</th>\n",
              "      <td>female</td>\n",
              "      <td>no</td>\n",
              "      <td>southwest</td>\n",
              "    </tr>\n",
              "    <tr>\n",
              "      <th>1337</th>\n",
              "      <td>female</td>\n",
              "      <td>yes</td>\n",
              "      <td>northwest</td>\n",
              "    </tr>\n",
              "  </tbody>\n",
              "</table>\n",
              "<p>1338 rows × 3 columns</p>\n",
              "</div>\n",
              "    <div class=\"colab-df-buttons\">\n",
              "\n",
              "  <div class=\"colab-df-container\">\n",
              "    <button class=\"colab-df-convert\" onclick=\"convertToInteractive('df-2d3f7acf-618d-4f75-b1a6-4fc1d536b9fb')\"\n",
              "            title=\"Convert this dataframe to an interactive table.\"\n",
              "            style=\"display:none;\">\n",
              "\n",
              "  <svg xmlns=\"http://www.w3.org/2000/svg\" height=\"24px\" viewBox=\"0 -960 960 960\">\n",
              "    <path d=\"M120-120v-720h720v720H120Zm60-500h600v-160H180v160Zm220 220h160v-160H400v160Zm0 220h160v-160H400v160ZM180-400h160v-160H180v160Zm440 0h160v-160H620v160ZM180-180h160v-160H180v160Zm440 0h160v-160H620v160Z\"/>\n",
              "  </svg>\n",
              "    </button>\n",
              "\n",
              "  <style>\n",
              "    .colab-df-container {\n",
              "      display:flex;\n",
              "      gap: 12px;\n",
              "    }\n",
              "\n",
              "    .colab-df-convert {\n",
              "      background-color: #E8F0FE;\n",
              "      border: none;\n",
              "      border-radius: 50%;\n",
              "      cursor: pointer;\n",
              "      display: none;\n",
              "      fill: #1967D2;\n",
              "      height: 32px;\n",
              "      padding: 0 0 0 0;\n",
              "      width: 32px;\n",
              "    }\n",
              "\n",
              "    .colab-df-convert:hover {\n",
              "      background-color: #E2EBFA;\n",
              "      box-shadow: 0px 1px 2px rgba(60, 64, 67, 0.3), 0px 1px 3px 1px rgba(60, 64, 67, 0.15);\n",
              "      fill: #174EA6;\n",
              "    }\n",
              "\n",
              "    .colab-df-buttons div {\n",
              "      margin-bottom: 4px;\n",
              "    }\n",
              "\n",
              "    [theme=dark] .colab-df-convert {\n",
              "      background-color: #3B4455;\n",
              "      fill: #D2E3FC;\n",
              "    }\n",
              "\n",
              "    [theme=dark] .colab-df-convert:hover {\n",
              "      background-color: #434B5C;\n",
              "      box-shadow: 0px 1px 3px 1px rgba(0, 0, 0, 0.15);\n",
              "      filter: drop-shadow(0px 1px 2px rgba(0, 0, 0, 0.3));\n",
              "      fill: #FFFFFF;\n",
              "    }\n",
              "  </style>\n",
              "\n",
              "    <script>\n",
              "      const buttonEl =\n",
              "        document.querySelector('#df-2d3f7acf-618d-4f75-b1a6-4fc1d536b9fb button.colab-df-convert');\n",
              "      buttonEl.style.display =\n",
              "        google.colab.kernel.accessAllowed ? 'block' : 'none';\n",
              "\n",
              "      async function convertToInteractive(key) {\n",
              "        const element = document.querySelector('#df-2d3f7acf-618d-4f75-b1a6-4fc1d536b9fb');\n",
              "        const dataTable =\n",
              "          await google.colab.kernel.invokeFunction('convertToInteractive',\n",
              "                                                    [key], {});\n",
              "        if (!dataTable) return;\n",
              "\n",
              "        const docLinkHtml = 'Like what you see? Visit the ' +\n",
              "          '<a target=\"_blank\" href=https://colab.research.google.com/notebooks/data_table.ipynb>data table notebook</a>'\n",
              "          + ' to learn more about interactive tables.';\n",
              "        element.innerHTML = '';\n",
              "        dataTable['output_type'] = 'display_data';\n",
              "        await google.colab.output.renderOutput(dataTable, element);\n",
              "        const docLink = document.createElement('div');\n",
              "        docLink.innerHTML = docLinkHtml;\n",
              "        element.appendChild(docLink);\n",
              "      }\n",
              "    </script>\n",
              "  </div>\n",
              "\n",
              "\n",
              "<div id=\"df-b48540d8-30db-4699-936b-07b49101d0a6\">\n",
              "  <button class=\"colab-df-quickchart\" onclick=\"quickchart('df-b48540d8-30db-4699-936b-07b49101d0a6')\"\n",
              "            title=\"Suggest charts\"\n",
              "            style=\"display:none;\">\n",
              "\n",
              "<svg xmlns=\"http://www.w3.org/2000/svg\" height=\"24px\"viewBox=\"0 0 24 24\"\n",
              "     width=\"24px\">\n",
              "    <g>\n",
              "        <path d=\"M19 3H5c-1.1 0-2 .9-2 2v14c0 1.1.9 2 2 2h14c1.1 0 2-.9 2-2V5c0-1.1-.9-2-2-2zM9 17H7v-7h2v7zm4 0h-2V7h2v10zm4 0h-2v-4h2v4z\"/>\n",
              "    </g>\n",
              "</svg>\n",
              "  </button>\n",
              "\n",
              "<style>\n",
              "  .colab-df-quickchart {\n",
              "      --bg-color: #E8F0FE;\n",
              "      --fill-color: #1967D2;\n",
              "      --hover-bg-color: #E2EBFA;\n",
              "      --hover-fill-color: #174EA6;\n",
              "      --disabled-fill-color: #AAA;\n",
              "      --disabled-bg-color: #DDD;\n",
              "  }\n",
              "\n",
              "  [theme=dark] .colab-df-quickchart {\n",
              "      --bg-color: #3B4455;\n",
              "      --fill-color: #D2E3FC;\n",
              "      --hover-bg-color: #434B5C;\n",
              "      --hover-fill-color: #FFFFFF;\n",
              "      --disabled-bg-color: #3B4455;\n",
              "      --disabled-fill-color: #666;\n",
              "  }\n",
              "\n",
              "  .colab-df-quickchart {\n",
              "    background-color: var(--bg-color);\n",
              "    border: none;\n",
              "    border-radius: 50%;\n",
              "    cursor: pointer;\n",
              "    display: none;\n",
              "    fill: var(--fill-color);\n",
              "    height: 32px;\n",
              "    padding: 0;\n",
              "    width: 32px;\n",
              "  }\n",
              "\n",
              "  .colab-df-quickchart:hover {\n",
              "    background-color: var(--hover-bg-color);\n",
              "    box-shadow: 0 1px 2px rgba(60, 64, 67, 0.3), 0 1px 3px 1px rgba(60, 64, 67, 0.15);\n",
              "    fill: var(--button-hover-fill-color);\n",
              "  }\n",
              "\n",
              "  .colab-df-quickchart-complete:disabled,\n",
              "  .colab-df-quickchart-complete:disabled:hover {\n",
              "    background-color: var(--disabled-bg-color);\n",
              "    fill: var(--disabled-fill-color);\n",
              "    box-shadow: none;\n",
              "  }\n",
              "\n",
              "  .colab-df-spinner {\n",
              "    border: 2px solid var(--fill-color);\n",
              "    border-color: transparent;\n",
              "    border-bottom-color: var(--fill-color);\n",
              "    animation:\n",
              "      spin 1s steps(1) infinite;\n",
              "  }\n",
              "\n",
              "  @keyframes spin {\n",
              "    0% {\n",
              "      border-color: transparent;\n",
              "      border-bottom-color: var(--fill-color);\n",
              "      border-left-color: var(--fill-color);\n",
              "    }\n",
              "    20% {\n",
              "      border-color: transparent;\n",
              "      border-left-color: var(--fill-color);\n",
              "      border-top-color: var(--fill-color);\n",
              "    }\n",
              "    30% {\n",
              "      border-color: transparent;\n",
              "      border-left-color: var(--fill-color);\n",
              "      border-top-color: var(--fill-color);\n",
              "      border-right-color: var(--fill-color);\n",
              "    }\n",
              "    40% {\n",
              "      border-color: transparent;\n",
              "      border-right-color: var(--fill-color);\n",
              "      border-top-color: var(--fill-color);\n",
              "    }\n",
              "    60% {\n",
              "      border-color: transparent;\n",
              "      border-right-color: var(--fill-color);\n",
              "    }\n",
              "    80% {\n",
              "      border-color: transparent;\n",
              "      border-right-color: var(--fill-color);\n",
              "      border-bottom-color: var(--fill-color);\n",
              "    }\n",
              "    90% {\n",
              "      border-color: transparent;\n",
              "      border-bottom-color: var(--fill-color);\n",
              "    }\n",
              "  }\n",
              "</style>\n",
              "\n",
              "  <script>\n",
              "    async function quickchart(key) {\n",
              "      const quickchartButtonEl =\n",
              "        document.querySelector('#' + key + ' button');\n",
              "      quickchartButtonEl.disabled = true;  // To prevent multiple clicks.\n",
              "      quickchartButtonEl.classList.add('colab-df-spinner');\n",
              "      try {\n",
              "        const charts = await google.colab.kernel.invokeFunction(\n",
              "            'suggestCharts', [key], {});\n",
              "      } catch (error) {\n",
              "        console.error('Error during call to suggestCharts:', error);\n",
              "      }\n",
              "      quickchartButtonEl.classList.remove('colab-df-spinner');\n",
              "      quickchartButtonEl.classList.add('colab-df-quickchart-complete');\n",
              "    }\n",
              "    (() => {\n",
              "      let quickchartButtonEl =\n",
              "        document.querySelector('#df-b48540d8-30db-4699-936b-07b49101d0a6 button');\n",
              "      quickchartButtonEl.style.display =\n",
              "        google.colab.kernel.accessAllowed ? 'block' : 'none';\n",
              "    })();\n",
              "  </script>\n",
              "</div>\n",
              "    </div>\n",
              "  </div>\n"
            ],
            "application/vnd.google.colaboratory.intrinsic+json": {
              "type": "dataframe",
              "variable_name": "categorical_data",
              "summary": "{\n  \"name\": \"categorical_data\",\n  \"rows\": 1338,\n  \"fields\": [\n    {\n      \"column\": \"sex\",\n      \"properties\": {\n        \"dtype\": \"category\",\n        \"num_unique_values\": 2,\n        \"samples\": [\n          \"male\",\n          \"female\"\n        ],\n        \"semantic_type\": \"\",\n        \"description\": \"\"\n      }\n    },\n    {\n      \"column\": \"smoker\",\n      \"properties\": {\n        \"dtype\": \"category\",\n        \"num_unique_values\": 2,\n        \"samples\": [\n          \"no\",\n          \"yes\"\n        ],\n        \"semantic_type\": \"\",\n        \"description\": \"\"\n      }\n    },\n    {\n      \"column\": \"region\",\n      \"properties\": {\n        \"dtype\": \"category\",\n        \"num_unique_values\": 4,\n        \"samples\": [\n          \"southeast\",\n          \"northeast\"\n        ],\n        \"semantic_type\": \"\",\n        \"description\": \"\"\n      }\n    }\n  ]\n}"
            }
          },
          "metadata": {},
          "execution_count": 18
        }
      ]
    },
    {
      "cell_type": "markdown",
      "source": [
        "# Display the statistical summary of the numerical, categorical and target data"
      ],
      "metadata": {
        "id": "D3vmn7g-D_0w"
      }
    },
    {
      "cell_type": "code",
      "source": [
        "# Display statistical summary of numerical data\n",
        "numerical_summary = numerical_data.describe()\n",
        "print(\"Statistical summary of numerical data:\")\n",
        "print(numerical_summary)"
      ],
      "metadata": {
        "colab": {
          "base_uri": "https://localhost:8080/"
        },
        "id": "Y9WDZjJ0C5YC",
        "outputId": "278f3c78-3d7c-41e1-b6a6-01e82cf84497"
      },
      "execution_count": 19,
      "outputs": [
        {
          "output_type": "stream",
          "name": "stdout",
          "text": [
            "Statistical summary of numerical data:\n",
            "             index          age          bmi     children       charges\n",
            "count  1338.000000  1338.000000  1338.000000  1338.000000   1338.000000\n",
            "mean    668.500000    39.207025    30.663397     1.094918  13270.422265\n",
            "std     386.391641    14.049960     6.098187     1.205493  12110.011237\n",
            "min       0.000000    18.000000    15.960000     0.000000   1121.873900\n",
            "25%     334.250000    27.000000    26.296250     0.000000   4740.287150\n",
            "50%     668.500000    39.000000    30.400000     1.000000   9382.033000\n",
            "75%    1002.750000    51.000000    34.693750     2.000000  16639.912515\n",
            "max    1337.000000    64.000000    53.130000     5.000000  63770.428010\n"
          ]
        }
      ]
    },
    {
      "cell_type": "code",
      "source": [
        "# Display statistical summary of categorical data\n",
        "categorical_summary = categorical_data.describe(include=\"all\")\n",
        "print(\"\\nStatistical summary of categorical data:\")\n",
        "print(categorical_summary)"
      ],
      "metadata": {
        "colab": {
          "base_uri": "https://localhost:8080/"
        },
        "id": "uuHnecMfDnsY",
        "outputId": "b1094e65-ad94-48e4-cd3e-0c5672f7b126"
      },
      "execution_count": 20,
      "outputs": [
        {
          "output_type": "stream",
          "name": "stdout",
          "text": [
            "\n",
            "Statistical summary of categorical data:\n",
            "         sex smoker     region\n",
            "count   1338   1338       1338\n",
            "unique     2      2          4\n",
            "top     male     no  southeast\n",
            "freq     676   1064        364\n"
          ]
        }
      ]
    },
    {
      "cell_type": "code",
      "source": [
        "# Display statistical summary of target data\n",
        "target_data = data_df[\"charges\"]\n",
        "target_summary = target_data.describe()\n",
        "print(\"\\nStatistical summary of target data:\")\n",
        "print(target_summary)"
      ],
      "metadata": {
        "colab": {
          "base_uri": "https://localhost:8080/"
        },
        "id": "sUmkKc662GuK",
        "outputId": "a146a222-5074-46a8-91dd-4ee24ddbdbd5"
      },
      "execution_count": 21,
      "outputs": [
        {
          "output_type": "stream",
          "name": "stdout",
          "text": [
            "\n",
            "Statistical summary of target data:\n",
            "count     1338.000000\n",
            "mean     13270.422265\n",
            "std      12110.011237\n",
            "min       1121.873900\n",
            "25%       4740.287150\n",
            "50%       9382.033000\n",
            "75%      16639.912515\n",
            "max      63770.428010\n",
            "Name: charges, dtype: float64\n"
          ]
        }
      ]
    },
    {
      "cell_type": "markdown",
      "source": [
        "#### Write your insights and findings from the statistical summary\n",
        "\n",
        "Based on the statistical summary of the data, here are some insights and findings:\n",
        "\n",
        "#### Numerical Data:\n",
        "\n",
        "* -- Age: The data ranges from the minimum age of 19 to the maximum age, indicating a diverse age group in the dataset.\n",
        "* -- BMI: The BMI values range from the minimum to the maximum, indicating variations in body mass index among the individuals.\n",
        "* -- Children: The number of children ranges from 0 to the maximum, suggesting a mix of individuals with and without children.\n",
        "* -- Charges: The charges vary significantly, with a range from the minimum to the maximum value. Further analysis is needed to understand the factors influencing these charges.\n",
        "\n",
        "#### Categorical Data:\n",
        "\n",
        "* -- Sex: The dataset includes both male and female individuals, with no missing values.\n",
        "* -- Smoker: The dataset contains information about smoking habits, with 'yes' indicating smokers and 'no' indicating non-smokers.\n",
        "* -- Region: The dataset includes individuals from different regions, namely 'southwest', 'southeast', 'northwest', and 'northeast'.\n",
        "\n",
        "#### Target Data:\n",
        "\n",
        "* -- Charges: The charges variable represents the insurance charges for individuals. The statistical summary provides information about the minimum, maximum, mean, and quartile values, giving an overview of the distribution of insurance charges.\n",
        "\n"
      ],
      "metadata": {
        "id": "MOCSwvDc4BTN"
      }
    },
    {
      "cell_type": "code",
      "source": [
        "# Check for missing values\n",
        "missing_values = data_df.isnull().sum()\n",
        "\n",
        "print(\"Missing values in the dataset:\")\n",
        "print(missing_values)"
      ],
      "metadata": {
        "id": "KYlX7n_Evvnx",
        "colab": {
          "base_uri": "https://localhost:8080/"
        },
        "outputId": "968af06c-b2b0-4054-c65b-8398cb72fc06"
      },
      "execution_count": 22,
      "outputs": [
        {
          "output_type": "stream",
          "name": "stdout",
          "text": [
            "Missing values in the dataset:\n",
            "index       0\n",
            "age         0\n",
            "sex         0\n",
            "bmi         0\n",
            "children    0\n",
            "smoker      0\n",
            "region      0\n",
            "charges     0\n",
            "dtype: int64\n"
          ]
        }
      ]
    },
    {
      "cell_type": "code",
      "source": [
        "# Check for duplicated rows\n",
        "duplicated_rows = data_df[data_df.duplicated()]\n",
        "\n",
        "# Print the duplicated rows\n",
        "print(\"Duplicated rows:\")\n",
        "print(duplicated_rows)"
      ],
      "metadata": {
        "id": "pcakHRkyvw0i",
        "colab": {
          "base_uri": "https://localhost:8080/"
        },
        "outputId": "c35b4dca-5a61-46f1-f3f5-6418a70b93d5"
      },
      "execution_count": 23,
      "outputs": [
        {
          "output_type": "stream",
          "name": "stdout",
          "text": [
            "Duplicated rows:\n",
            "Empty DataFrame\n",
            "Columns: [index, age, sex, bmi, children, smoker, region, charges]\n",
            "Index: []\n"
          ]
        }
      ]
    },
    {
      "cell_type": "code",
      "source": [
        "data_df.duplicated().sum()"
      ],
      "metadata": {
        "colab": {
          "base_uri": "https://localhost:8080/"
        },
        "id": "Js3wbB1a25Un",
        "outputId": "809deaa3-66cc-44f9-9a83-c59b65dcb067"
      },
      "execution_count": 24,
      "outputs": [
        {
          "output_type": "execute_result",
          "data": {
            "text/plain": [
              "0"
            ]
          },
          "metadata": {},
          "execution_count": 24
        }
      ]
    },
    {
      "cell_type": "code",
      "source": [
        "# display the info of the dataset\n",
        "data_df.info()"
      ],
      "metadata": {
        "id": "NTsboKy7vzPh",
        "colab": {
          "base_uri": "https://localhost:8080/"
        },
        "outputId": "8f694e6d-c314-4759-a812-64478c03d422"
      },
      "execution_count": 25,
      "outputs": [
        {
          "output_type": "stream",
          "name": "stdout",
          "text": [
            "<class 'pandas.core.frame.DataFrame'>\n",
            "RangeIndex: 1338 entries, 0 to 1337\n",
            "Data columns (total 8 columns):\n",
            " #   Column    Non-Null Count  Dtype  \n",
            "---  ------    --------------  -----  \n",
            " 0   index     1338 non-null   int64  \n",
            " 1   age       1338 non-null   int64  \n",
            " 2   sex       1338 non-null   object \n",
            " 3   bmi       1338 non-null   float64\n",
            " 4   children  1338 non-null   int64  \n",
            " 5   smoker    1338 non-null   object \n",
            " 6   region    1338 non-null   object \n",
            " 7   charges   1338 non-null   float64\n",
            "dtypes: float64(2), int64(3), object(3)\n",
            "memory usage: 83.8+ KB\n"
          ]
        }
      ]
    },
    {
      "cell_type": "code",
      "source": [
        "# drop the columns which was not required for modelling\n",
        "# List of columns to drop\n",
        "columns_to_drop = ['index']\n",
        "\n",
        "# Drop the columns\n",
        "data_df = data_df.drop(columns=columns_to_drop)\n",
        "\n",
        "# Display the modified DataFrame\n",
        "print(data_df)"
      ],
      "metadata": {
        "id": "uWhAkj_xv2j-",
        "colab": {
          "base_uri": "https://localhost:8080/"
        },
        "outputId": "aa4079b2-4c42-4b1c-84e3-f2d40f1aa248"
      },
      "execution_count": 26,
      "outputs": [
        {
          "output_type": "stream",
          "name": "stdout",
          "text": [
            "      age     sex     bmi  children smoker     region      charges\n",
            "0      19  female  27.900         0    yes  southwest  16884.92400\n",
            "1      18    male  33.770         1     no  southeast   1725.55230\n",
            "2      28    male  33.000         3     no  southeast   4449.46200\n",
            "3      33    male  22.705         0     no  northwest  21984.47061\n",
            "4      32    male  28.880         0     no  northwest   3866.85520\n",
            "...   ...     ...     ...       ...    ...        ...          ...\n",
            "1333   50    male  30.970         3     no  northwest  10600.54830\n",
            "1334   18  female  31.920         0     no  northeast   2205.98080\n",
            "1335   18  female  36.850         0     no  southeast   1629.83350\n",
            "1336   21  female  25.800         0     no  southwest   2007.94500\n",
            "1337   61  female  29.070         0    yes  northwest  29141.36030\n",
            "\n",
            "[1338 rows x 7 columns]\n"
          ]
        }
      ]
    },
    {
      "cell_type": "markdown",
      "source": [
        "## Exploratory data analysis"
      ],
      "metadata": {
        "id": "eULT8QQMwIzJ"
      }
    },
    {
      "cell_type": "markdown",
      "source": [
        "#### Charges amount distribution per sex"
      ],
      "metadata": {
        "id": "AvFxKicqwnBf"
      }
    },
    {
      "cell_type": "code",
      "source": [
        "# Display a histogram to visualize the distribution of charges based on sex in the dataset\n",
        "# Filter the data by sex\n",
        "plt.figure(figsize=(9,6))\n",
        "plt.xlabel('Charges')\n",
        "plt.ylabel('Frequency')\n",
        "plt.title('Distribution of Charges by Sex')\n",
        "\n",
        "sns.histplot(data_df, x='charges',hue=\"sex\", kde=True, alpha=0.6, linewidth=1)"
      ],
      "metadata": {
        "colab": {
          "base_uri": "https://localhost:8080/",
          "height": 582
        },
        "id": "gUSugvfM3xdB",
        "outputId": "b35a2545-198d-4a82-8abe-3d6a5eb486f7"
      },
      "execution_count": 27,
      "outputs": [
        {
          "output_type": "execute_result",
          "data": {
            "text/plain": [
              "<Axes: title={'center': 'Distribution of Charges by Sex'}, xlabel='Charges', ylabel='Frequency'>"
            ]
          },
          "metadata": {},
          "execution_count": 27
        },
        {
          "output_type": "display_data",
          "data": {
            "text/plain": [
              "<Figure size 900x600 with 1 Axes>"
            ],
            "image/png": "[encoded data removed]"
          },
          "metadata": {}
        }
      ]
    },
    {
      "cell_type": "markdown",
      "source": [
        "It appears that the charges for males and females are the same; however, there are more males then females with chages exceeding $3200"
      ],
      "metadata": {
        "id": "E9cLxkNx5eHC"
      }
    },
    {
      "cell_type": "markdown",
      "source": [
        "#### Distribution of Age"
      ],
      "metadata": {
        "id": "b8L8J9mIweIj"
      }
    },
    {
      "cell_type": "code",
      "source": [
        "# Create a histogram to display the age distribution in the dataset\n",
        "plt.figure(figsize=(9,6))\n",
        "# Set plot labels and title\n",
        "plt.xlabel('Age')\n",
        "plt.ylabel('Frequency')\n",
        "plt.title('Age Distribution')\n",
        "sns.histplot(data_df, x='age', kde=True, alpha=0.6, bins=20, linewidth=2)"
      ],
      "metadata": {
        "colab": {
          "base_uri": "https://localhost:8080/",
          "height": 582
        },
        "id": "HO73WBlV5I0P",
        "outputId": "c75730aa-d99e-4749-92bf-b3c115c68414"
      },
      "execution_count": 28,
      "outputs": [
        {
          "output_type": "execute_result",
          "data": {
            "text/plain": [
              "<Axes: title={'center': 'Age Distribution'}, xlabel='Age', ylabel='Frequency'>"
            ]
          },
          "metadata": {},
          "execution_count": 28
        },
        {
          "output_type": "display_data",
          "data": {
            "text/plain": [
              "<Figure size 900x600 with 1 Axes>"
            ],
            "image/png": "[encoded data removed]"
          },
          "metadata": {}
        }
      ]
    },
    {
      "cell_type": "markdown",
      "source": [
        "#### Charges amount distribution per smoker"
      ],
      "metadata": {
        "id": "iAT8o40ZwuFg"
      }
    },
    {
      "cell_type": "code",
      "source": [
        "# Show a histogram to visualize the distribution of charges amounts based on smoking status in the dataset\n",
        "plt.figure(figsize=(9,6))\n",
        "# Set plot labels and title\n",
        "plt.xlabel('Charges')\n",
        "plt.ylabel('Frequency')\n",
        "plt.title('Distribution of Charges by Smoking Status')\n",
        "\n",
        "\n",
        "sns.histplot(data_df, x='charges', hue=\"smoker\", kde=True, alpha=0.6, linewidth=1)"
      ],
      "metadata": {
        "colab": {
          "base_uri": "https://localhost:8080/",
          "height": 582
        },
        "id": "AnFF4OcACUFQ",
        "outputId": "9a08b9ac-c64f-407b-b6ee-2ac3947f1098"
      },
      "execution_count": 29,
      "outputs": [
        {
          "output_type": "execute_result",
          "data": {
            "text/plain": [
              "<Axes: title={'center': 'Distribution of Charges by Smoking Status'}, xlabel='Charges', ylabel='Frequency'>"
            ]
          },
          "metadata": {},
          "execution_count": 29
        },
        {
          "output_type": "display_data",
          "data": {
            "text/plain": [
              "<Figure size 900x600 with 1 Axes>"
            ],
            "image/png": "[encoded data removed]"
          },
          "metadata": {}
        }
      ]
    },
    {
      "cell_type": "markdown",
      "source": [
        "#### Average BMI per age"
      ],
      "metadata": {
        "id": "web1ZseGx4Zb"
      }
    },
    {
      "cell_type": "code",
      "source": [
        "# Display a line plot showing the average BMI per age using markers to highlight the data points\n",
        "plt.figure(figsize=(14,6))\n",
        "sns.lineplot(data_df, x='age', y='bmi',  marker='o', linewidth=4, markersize=10, markerfacecolor=\"white\", markeredgewidth=2)\n",
        "\n",
        "# Set plot labels and title\n",
        "plt.xlabel('Age')\n",
        "plt.ylabel('Average BMI')\n",
        "plt.title('Average BMI per Age')\n",
        "plt.style.use(\"ggplot\")\n",
        "# Show the plot\n",
        "plt.show()"
      ],
      "metadata": {
        "id": "ZkYMtoh6xNEQ",
        "colab": {
          "base_uri": "https://localhost:8080/",
          "height": 534
        },
        "outputId": "a8857162-4edc-4ef9-d27d-f36bd03f5523"
      },
      "execution_count": 30,
      "outputs": [
        {
          "output_type": "display_data",
          "data": {
            "text/plain": [
              "<Figure size 1400x600 with 1 Axes>"
            ],
            "image/png": "[encoded data removed]"
          },
          "metadata": {}
        }
      ]
    },
    {
      "cell_type": "markdown",
      "source": [
        "As we can see with time - the average BMI score starts getting higher to unhealthier ranges."
      ],
      "metadata": {
        "id": "AGKsqXSgxXYc"
      }
    },
    {
      "cell_type": "markdown",
      "source": [
        "#### Age vs charges"
      ],
      "metadata": {
        "id": "_1t2E2y0xt5H"
      }
    },
    {
      "cell_type": "code",
      "source": [
        "# Create a scatter plot to show the relationship between age and charges in the dataset.\n",
        "plt.figure(figsize=(14,6))\n",
        "sns.scatterplot(data_df, x='age', y='charges', s=30)\n",
        "\n",
        "# Set plot labels and title\n",
        "plt.xlabel('Age')\n",
        "plt.ylabel('Charges')\n",
        "plt.title('Relationship between Age and Charges')\n",
        "plt.style.use(\"ggplot\")\n",
        "# Show the plot\n",
        "plt.show()"
      ],
      "metadata": {
        "colab": {
          "base_uri": "https://localhost:8080/",
          "height": 525
        },
        "id": "_5_5lVmsJFAz",
        "outputId": "82b56e8b-c305-4b94-eb15-1951713356e1"
      },
      "execution_count": 31,
      "outputs": [
        {
          "output_type": "display_data",
          "data": {
            "text/plain": [
              "<Figure size 1400x600 with 1 Axes>"
            ],
            "image/png": "[encoded data removed]"
          },
          "metadata": {}
        }
      ]
    },
    {
      "cell_type": "markdown",
      "metadata": {
        "application/vnd.databricks.v1+cell": {
          "cellMetadata": {},
          "inputWidgets": {},
          "nuid": "44a30d2c-d116-40a9-b7a0-964d5c827f25",
          "showTitle": false,
          "title": ""
        },
        "id": "tHKW8Ie5Ir6g"
      },
      "source": [
        "## Model Estimation"
      ]
    },
    {
      "cell_type": "code",
      "source": [
        "categorical_features"
      ],
      "metadata": {
        "colab": {
          "base_uri": "https://localhost:8080/"
        },
        "id": "5v2zPxeFzJAS",
        "outputId": "2e635ef0-203a-43f2-c9ed-8606a3909dc9"
      },
      "execution_count": 32,
      "outputs": [
        {
          "output_type": "execute_result",
          "data": {
            "text/plain": [
              "Index(['sex', 'smoker', 'region'], dtype='object')"
            ]
          },
          "metadata": {},
          "execution_count": 32
        }
      ]
    },
    {
      "cell_type": "code",
      "source": [
        "numerical_features"
      ],
      "metadata": {
        "colab": {
          "base_uri": "https://localhost:8080/"
        },
        "id": "WYy2ritUzKjV",
        "outputId": "9cb2aab1-648d-46ed-bb3b-d4ceb36f8cc5"
      },
      "execution_count": 33,
      "outputs": [
        {
          "output_type": "execute_result",
          "data": {
            "text/plain": [
              "Index(['age', 'bmi', 'children'], dtype='object')"
            ]
          },
          "metadata": {},
          "execution_count": 33
        }
      ]
    },
    {
      "cell_type": "code",
      "source": [
        "target = 'charges'\n",
        "numeric_features = ['age', 'bmi', 'children']\n",
        "categorical_features = ['sex', 'smoker','region']"
      ],
      "metadata": {
        "id": "zh63LhOrFE7a"
      },
      "execution_count": 34,
      "outputs": []
    },
    {
      "cell_type": "code",
      "source": [
        "X = data_df[numeric_features + categorical_features]\n",
        "y = data_df[target]"
      ],
      "metadata": {
        "id": "PYOP_AJ2EywQ"
      },
      "execution_count": 35,
      "outputs": []
    },
    {
      "cell_type": "code",
      "source": [
        "# Split the data into training and testing sets\n",
        "# Xtrain, Xtest, ytrain, ytest = train_test_split(X, y, test_size=0.2, random_state=42)\n",
        "# Split the independenet and dependent features in to x and y variables with a test size 0.2% and random at 42\n",
        "Xtrain, Xtest, ytrain, ytest = train_test_split(\n",
        "    X, y,\n",
        "    test_size=0.2,\n",
        "    random_state=42\n",
        ")"
      ],
      "metadata": {
        "id": "dAtV241alQm5"
      },
      "execution_count": 36,
      "outputs": []
    },
    {
      "cell_type": "markdown",
      "source": [
        "\n",
        "This code creates a pipeline named numerical_pipeline to process numerical features. It consists of two steps:\n",
        "\n",
        "'imputer': Imputes missing values using the mean strategy with SimpleImputer.\n",
        "\n",
        "'scaler': Standardizes the numerical features using StandardScaler."
      ],
      "metadata": {
        "id": "KWQ1JixMqwUS"
      }
    },
    {
      "cell_type": "code",
      "source": [
        "# Creating a pipeline for categorical feature processing, including imputation of missing values with the most frequent value and one-hot encoding with handling of unknown categories.\n",
        "categorical_pipeline = Pipeline([\n",
        "    ('imputer', SimpleImputer(strategy='most_frequent')),\n",
        "    ('onehot', OneHotEncoder(handle_unknown='ignore'))\n",
        "])"
      ],
      "metadata": {
        "id": "qVrzNe_3qieB"
      },
      "execution_count": 37,
      "outputs": []
    },
    {
      "cell_type": "markdown",
      "source": [
        "This code constructs a pipeline named categorical_pipeline for processing categorical features, involving imputation of missing values using the most frequent value and one-hot encoding with handling of unknown categories."
      ],
      "metadata": {
        "id": "eu9iKs-2q54l"
      }
    },
    {
      "cell_type": "code",
      "source": [
        "# Creating a column transformer named preprocessor to apply specific pipelines to numerical and categorical features separately.\n",
        "preprocessor = make_column_transformer(\n",
        "    (StandardScaler(), numeric_features),\n",
        "    (OneHotEncoder(handle_unknown='ignore'), categorical_features)\n",
        ")"
      ],
      "metadata": {
        "id": "5oBQKQ0jrDBt"
      },
      "execution_count": 38,
      "outputs": []
    },
    {
      "cell_type": "code",
      "source": [
        "# Creating a Linear regression model with parallel processing enabled (-1 indicates using all available cores) for improved training efficiency.\n",
        "model_linear_regression = LinearRegression(n_jobs=-1)"
      ],
      "metadata": {
        "id": "nn7vMv7CrHsB"
      },
      "execution_count": 39,
      "outputs": []
    },
    {
      "cell_type": "code",
      "source": [
        "# Creating a pipeline combining preprocessing steps (imputation and encoding) with logistic regression modeling.\n",
        "model_pipeline = make_pipeline(\n",
        "    preprocessor,  # Applying preprocessing steps\n",
        "    model_linear_regression  # Training logistic regression model\n",
        ")"
      ],
      "metadata": {
        "id": "ijgNfiLsrLyq"
      },
      "execution_count": 40,
      "outputs": []
    },
    {
      "cell_type": "code",
      "source": [
        "# Fit the model on training data\n",
        "model_pipeline.fit(Xtrain, ytrain)"
      ],
      "metadata": {
        "colab": {
          "base_uri": "https://localhost:8080/",
          "height": 192
        },
        "id": "UunX92VurOpI",
        "outputId": "dd518b52-3b6a-4477-ecd4-9d716473709d"
      },
      "execution_count": 41,
      "outputs": [
        {
          "output_type": "execute_result",
          "data": {
            "text/plain": [
              "Pipeline(steps=[('columntransformer',\n",
              "                 ColumnTransformer(transformers=[('standardscaler',\n",
              "                                                  StandardScaler(),\n",
              "                                                  ['age', 'bmi', 'children']),\n",
              "                                                 ('onehotencoder',\n",
              "                                                  OneHotEncoder(handle_unknown='ignore'),\n",
              "                                                  ['sex', 'smoker',\n",
              "                                                   'region'])])),\n",
              "                ('linearregression', LinearRegression(n_jobs=-1))])"
            ],
            "text/html": [
              "<style>#sk-container-id-1 {color: black;background-color: white;}#sk-container-id-1 pre{padding: 0;}#sk-container-id-1 div.sk-toggleable {background-color: white;}#sk-container-id-1 label.sk-toggleable__label {cursor: pointer;display: block;width: 100%;margin-bottom: 0;padding: 0.3em;box-sizing: border-box;text-align: center;}#sk-container-id-1 label.sk-toggleable__label-arrow:before {content: \"▸\";float: left;margin-right: 0.25em;color: #696969;}#sk-container-id-1 label.sk-toggleable__label-arrow:hover:before {color: black;}#sk-container-id-1 div.sk-estimator:hover label.sk-toggleable__label-arrow:before {color: black;}#sk-container-id-1 div.sk-toggleable__content {max-height: 0;max-width: 0;overflow: hidden;text-align: left;background-color: #f0f8ff;}#sk-container-id-1 div.sk-toggleable__content pre {margin: 0.2em;color: black;border-radius: 0.25em;background-color: #f0f8ff;}#sk-container-id-1 input.sk-toggleable__control:checked~div.sk-toggleable__content {max-height: 200px;max-width: 100%;overflow: auto;}#sk-container-id-1 input.sk-toggleable__control:checked~label.sk-toggleable__label-arrow:before {content: \"▾\";}#sk-container-id-1 div.sk-estimator input.sk-toggleable__control:checked~label.sk-toggleable__label {background-color: #d4ebff;}#sk-container-id-1 div.sk-label input.sk-toggleable__control:checked~label.sk-toggleable__label {background-color: #d4ebff;}#sk-container-id-1 input.sk-hidden--visually {border: 0;clip: rect(1px 1px 1px 1px);clip: rect(1px, 1px, 1px, 1px);height: 1px;margin: -1px;overflow: hidden;padding: 0;position: absolute;width: 1px;}#sk-container-id-1 div.sk-estimator {font-family: monospace;background-color: #f0f8ff;border: 1px dotted black;border-radius: 0.25em;box-sizing: border-box;margin-bottom: 0.5em;}#sk-container-id-1 div.sk-estimator:hover {background-color: #d4ebff;}#sk-container-id-1 div.sk-parallel-item::after {content: \"\";width: 100%;border-bottom: 1px solid gray;flex-grow: 1;}#sk-container-id-1 div.sk-label:hover label.sk-toggleable__label {background-color: #d4ebff;}#sk-container-id-1 div.sk-serial::before {content: \"\";position: absolute;border-left: 1px solid gray;box-sizing: border-box;top: 0;bottom: 0;left: 50%;z-index: 0;}#sk-container-id-1 div.sk-serial {display: flex;flex-direction: column;align-items: center;background-color: white;padding-right: 0.2em;padding-left: 0.2em;position: relative;}#sk-container-id-1 div.sk-item {position: relative;z-index: 1;}#sk-container-id-1 div.sk-parallel {display: flex;align-items: stretch;justify-content: center;background-color: white;position: relative;}#sk-container-id-1 div.sk-item::before, #sk-container-id-1 div.sk-parallel-item::before {content: \"\";position: absolute;border-left: 1px solid gray;box-sizing: border-box;top: 0;bottom: 0;left: 50%;z-index: -1;}#sk-container-id-1 div.sk-parallel-item {display: flex;flex-direction: column;z-index: 1;position: relative;background-color: white;}#sk-container-id-1 div.sk-parallel-item:first-child::after {align-self: flex-end;width: 50%;}#sk-container-id-1 div.sk-parallel-item:last-child::after {align-self: flex-start;width: 50%;}#sk-container-id-1 div.sk-parallel-item:only-child::after {width: 0;}#sk-container-id-1 div.sk-dashed-wrapped {border: 1px dashed gray;margin: 0 0.4em 0.5em 0.4em;box-sizing: border-box;padding-bottom: 0.4em;background-color: white;}#sk-container-id-1 div.sk-label label {font-family: monospace;font-weight: bold;display: inline-block;line-height: 1.2em;}#sk-container-id-1 div.sk-label-container {text-align: center;}#sk-container-id-1 div.sk-container {/* jupyter's `normalize.less` sets `[hidden] { display: none; }` but bootstrap.min.css set `[hidden] { display: none !important; }` so we also need the `!important` here to be able to override the default hidden behavior on the sphinx rendered scikit-learn.org. See: https://github.com/scikit-learn/scikit-learn/issues/21755 */display: inline-block !important;position: relative;}#sk-container-id-1 div.sk-text-repr-fallback {display: none;}</style><div id=\"sk-container-id-1\" class=\"sk-top-container\"><div class=\"sk-text-repr-fallback\"><pre>Pipeline(steps=[(&#x27;columntransformer&#x27;,\n",
              "                 ColumnTransformer(transformers=[(&#x27;standardscaler&#x27;,\n",
              "                                                  StandardScaler(),\n",
              "                                                  [&#x27;age&#x27;, &#x27;bmi&#x27;, &#x27;children&#x27;]),\n",
              "                                                 (&#x27;onehotencoder&#x27;,\n",
              "                                                  OneHotEncoder(handle_unknown=&#x27;ignore&#x27;),\n",
              "                                                  [&#x27;sex&#x27;, &#x27;smoker&#x27;,\n",
              "                                                   &#x27;region&#x27;])])),\n",
              "                (&#x27;linearregression&#x27;, LinearRegression(n_jobs=-1))])</pre><b>In a Jupyter environment, please rerun this cell to show the HTML representation or trust the notebook. <br />On GitHub, the HTML representation is unable to render, please try loading this page with nbviewer.org.</b></div><div class=\"sk-container\" hidden><div class=\"sk-item sk-dashed-wrapped\"><div class=\"sk-label-container\"><div class=\"sk-label sk-toggleable\"><input class=\"sk-toggleable__control sk-hidden--visually\" id=\"sk-estimator-id-1\" type=\"checkbox\" ><label for=\"sk-estimator-id-1\" class=\"sk-toggleable__label sk-toggleable__label-arrow\">Pipeline</label><div class=\"sk-toggleable__content\"><pre>Pipeline(steps=[(&#x27;columntransformer&#x27;,\n",
              "                 ColumnTransformer(transformers=[(&#x27;standardscaler&#x27;,\n",
              "                                                  StandardScaler(),\n",
              "                                                  [&#x27;age&#x27;, &#x27;bmi&#x27;, &#x27;children&#x27;]),\n",
              "                                                 (&#x27;onehotencoder&#x27;,\n",
              "                                                  OneHotEncoder(handle_unknown=&#x27;ignore&#x27;),\n",
              "                                                  [&#x27;sex&#x27;, &#x27;smoker&#x27;,\n",
              "                                                   &#x27;region&#x27;])])),\n",
              "                (&#x27;linearregression&#x27;, LinearRegression(n_jobs=-1))])</pre></div></div></div><div class=\"sk-serial\"><div class=\"sk-item sk-dashed-wrapped\"><div class=\"sk-label-container\"><div class=\"sk-label sk-toggleable\"><input class=\"sk-toggleable__control sk-hidden--visually\" id=\"sk-estimator-id-2\" type=\"checkbox\" ><label for=\"sk-estimator-id-2\" class=\"sk-toggleable__label sk-toggleable__label-arrow\">columntransformer: ColumnTransformer</label><div class=\"sk-toggleable__content\"><pre>ColumnTransformer(transformers=[(&#x27;standardscaler&#x27;, StandardScaler(),\n",
              "                                 [&#x27;age&#x27;, &#x27;bmi&#x27;, &#x27;children&#x27;]),\n",
              "                                (&#x27;onehotencoder&#x27;,\n",
              "                                 OneHotEncoder(handle_unknown=&#x27;ignore&#x27;),\n",
              "                                 [&#x27;sex&#x27;, &#x27;smoker&#x27;, &#x27;region&#x27;])])</pre></div></div></div><div class=\"sk-parallel\"><div class=\"sk-parallel-item\"><div class=\"sk-item\"><div class=\"sk-label-container\"><div class=\"sk-label sk-toggleable\"><input class=\"sk-toggleable__control sk-hidden--visually\" id=\"sk-estimator-id-3\" type=\"checkbox\" ><label for=\"sk-estimator-id-3\" class=\"sk-toggleable__label sk-toggleable__label-arrow\">standardscaler</label><div class=\"sk-toggleable__content\"><pre>[&#x27;age&#x27;, &#x27;bmi&#x27;, &#x27;children&#x27;]</pre></div></div></div><div class=\"sk-serial\"><div class=\"sk-item\"><div class=\"sk-estimator sk-toggleable\"><input class=\"sk-toggleable__control sk-hidden--visually\" id=\"sk-estimator-id-4\" type=\"checkbox\" ><label for=\"sk-estimator-id-4\" class=\"sk-toggleable__label sk-toggleable__label-arrow\">StandardScaler</label><div class=\"sk-toggleable__content\"><pre>StandardScaler()</pre></div></div></div></div></div></div><div class=\"sk-parallel-item\"><div class=\"sk-item\"><div class=\"sk-label-container\"><div class=\"sk-label sk-toggleable\"><input class=\"sk-toggleable__control sk-hidden--visually\" id=\"sk-estimator-id-5\" type=\"checkbox\" ><label for=\"sk-estimator-id-5\" class=\"sk-toggleable__label sk-toggleable__label-arrow\">onehotencoder</label><div class=\"sk-toggleable__content\"><pre>[&#x27;sex&#x27;, &#x27;smoker&#x27;, &#x27;region&#x27;]</pre></div></div></div><div class=\"sk-serial\"><div class=\"sk-item\"><div class=\"sk-estimator sk-toggleable\"><input class=\"sk-toggleable__control sk-hidden--visually\" id=\"sk-estimator-id-6\" type=\"checkbox\" ><label for=\"sk-estimator-id-6\" class=\"sk-toggleable__label sk-toggleable__label-arrow\">OneHotEncoder</label><div class=\"sk-toggleable__content\"><pre>OneHotEncoder(handle_unknown=&#x27;ignore&#x27;)</pre></div></div></div></div></div></div></div></div><div class=\"sk-item\"><div class=\"sk-estimator sk-toggleable\"><input class=\"sk-toggleable__control sk-hidden--visually\" id=\"sk-estimator-id-7\" type=\"checkbox\" ><label for=\"sk-estimator-id-7\" class=\"sk-toggleable__label sk-toggleable__label-arrow\">LinearRegression</label><div class=\"sk-toggleable__content\"><pre>LinearRegression(n_jobs=-1)</pre></div></div></div></div></div></div></div>"
            ]
          },
          "metadata": {},
          "execution_count": 41
        }
      ]
    },
    {
      "cell_type": "markdown",
      "metadata": {
        "application/vnd.databricks.v1+cell": {
          "cellMetadata": {},
          "inputWidgets": {},
          "nuid": "5674b6d3-48a3-478c-af4b-6dc237a52f49",
          "showTitle": false,
          "title": ""
        },
        "id": "_1MBYq-CIr6j"
      },
      "source": [
        "## Model Evaluation"
      ]
    },
    {
      "cell_type": "code",
      "source": [
        "# Make predictions on the testing data\n",
        "model_pipeline.predict(Xtest)"
      ],
      "metadata": {
        "colab": {
          "base_uri": "https://localhost:8080/"
        },
        "id": "4d-UQvZooVFm",
        "outputId": "5fc9c96a-7e1e-4373-fe94-f79394c3773b"
      },
      "execution_count": 42,
      "outputs": [
        {
          "output_type": "execute_result",
          "data": {
            "text/plain": [
              "array([ 8969.55027444,  7068.74744287, 36858.41091155,  9454.67850053,\n",
              "       26973.17345656, 10864.11316424,   170.28084136, 16903.45028662,\n",
              "        1092.43093614, 11218.34318352, 28101.68455267,  9377.73460205,\n",
              "        5263.0595179 , 38416.04221107, 40255.82339284, 37098.25353123,\n",
              "       15240.39392306, 35912.88264434,  9112.52398703, 31461.92108909,\n",
              "        3847.68845883, 10130.12001517,  2370.54189389,  7140.21550828,\n",
              "       11301.76782638, 12961.65366224, 14509.47251876,  6159.8976107 ,\n",
              "        9963.85857263,  2177.85718217,  9115.93673493, 13073.68932159,\n",
              "        4561.82376202,  3408.20756033,  4459.81359745, 13032.06505076,\n",
              "        1979.99357292,  8813.28303302, 33271.29124448, 32585.51583927,\n",
              "        3908.76090964,  4326.10774721, 14142.81326533, 11423.45494846,\n",
              "        8774.13955311, 12097.28051001,  5281.57353499,  3150.5596042 ,\n",
              "       35494.46461214,  9150.1124786 , 15836.84575621,  2343.57470069,\n",
              "       12364.78414194,  1482.29488266, 13389.06105161, 12573.57395972,\n",
              "        4341.83680558, 32165.33688042, 13321.3360032 , 12896.82071102,\n",
              "       14167.99421483, 10506.17623512, 16360.78543548,  7763.89824584,\n",
              "       11839.25019431,  4061.19750503, 26652.40230125, 10930.14138671,\n",
              "        2137.41385988,  6209.01123411, 10729.82391284, 11628.3104129 ,\n",
              "       10981.04528946,  9166.50818596, 11954.27732874,  6747.85121734,\n",
              "        7248.5304713 , 10735.16710748,  6580.84819774,  8762.00329355,\n",
              "        3767.13383454, 36632.4975496 ,  6378.11979721, 30842.09248656,\n",
              "       34846.52451051, 35278.07387112,  7019.444352  , 12861.38414264,\n",
              "        9942.30149778, 14473.5260648 , 17693.37304474, 35258.24845137,\n",
              "       33029.58968269,  6185.91730447, 31999.98962535,  9481.33158273,\n",
              "       29444.04271523,  3674.48498404, 28308.26432106,  5823.36495229,\n",
              "        5407.76752001,  1883.4947576 , 11499.675042  , 15075.90690632,\n",
              "       11699.63163008,  4308.82427855,  9895.1840044 , 31708.40056201,\n",
              "         -86.87094667, 32819.71429004,  3280.69178415, 10183.88853878,\n",
              "       14318.76389179, 31642.35684542, 11461.57806791,  3929.23701831,\n",
              "       13107.89313088, 31810.99450607,  8152.02593593,  3238.08417076,\n",
              "        8439.56108376, 10594.63871458, 15219.68736374,  5647.8808143 ,\n",
              "        3781.95285499, 10228.944897  , 10900.12933883, 11122.74845192,\n",
              "       14438.14112575,  7430.31504776,  5386.22676759,  9231.32739901,\n",
              "        9343.76283713, 12538.27606344,  8337.66982683, 15333.36900871,\n",
              "        8411.2145439 , 31797.27496298, 35785.91843418, 31603.71967017,\n",
              "        6011.96229251, 12607.03584641,  6013.5115031 , 14560.79590559,\n",
              "        2493.47989441, 32963.45524228,  6265.14380504,  5034.62173797,\n",
              "       14344.81347407,  6941.1412259 , 38670.01270366,  3087.58741836,\n",
              "        5885.8752536 , 31686.24200595, 11562.61859836,  8476.04749512,\n",
              "       14806.72486264,  9814.46186143, 27105.71831469, 33453.83352069,\n",
              "       14551.8999207 ,  1684.36856768, 13166.96197398,  2222.76894041,\n",
              "        5449.59393727, 11568.96325488, 39807.96912709, 36500.65163031,\n",
              "       34001.37945748,  3897.27856532,  7456.14132125,  8661.82084477,\n",
              "       12450.92458882,  4813.53293089,  2047.65528159, 32112.11251984,\n",
              "       25111.52085938, 17484.27663755, 26411.46181822, 10159.52421   ,\n",
              "       37260.32666386,  -441.23918333,  6779.55013103,  7781.45337795,\n",
              "        4367.95988484,  5105.87170813,  5919.18675042,  4305.71645941,\n",
              "       15191.08806502, 11132.09935114,  6932.80116584,  2525.64793222,\n",
              "        1536.05183213, 31944.78284317, 16414.12251517, 12011.53367195,\n",
              "        1268.05926603, 12531.25953189,  1564.93415917,  8737.33621694,\n",
              "        1873.03940488, 33916.22971211, 10858.38635063,  2603.43633853,\n",
              "       25674.40250332, 26343.43022704,  9430.91152033,  1800.73500777,\n",
              "       13261.42480211,  1120.17810533, 10386.66427709, 10567.29006474,\n",
              "       16944.25995713, 26846.54662457,  6939.11178393,  5193.04710054,\n",
              "        5846.00017265, 13229.60536846, 11098.33930228,  8362.28134289,\n",
              "        5135.53940151, 12308.34064139, 13861.17886997, 35773.70926219,\n",
              "        4157.01930317, 28917.86562624,  -914.37342357,  2873.71150671,\n",
              "       11046.2540774 , 15683.06950225,  5210.67532324,  6888.38518351,\n",
              "        3854.31140958, 31312.64705453,  7241.43226665, 12405.99508651,\n",
              "        5619.17039188,  9528.22557021, 36314.009043  ,  4429.40596906,\n",
              "        9667.91523953, 31161.15738995,  5747.13292318,  4603.37294255,\n",
              "        1048.35533791,  4832.6604097 ,  4574.9041044 ,  6507.30666036,\n",
              "       18659.12407756, -1545.57184934,  2376.4352498 , 10694.62157146,\n",
              "        3151.28919904, 10209.96361187,  3733.89128353,  5125.08103172,\n",
              "       12400.90700504,  6218.65296628,  8231.63765089,  7590.50155269,\n",
              "        8924.15352268, 10482.90359975, 27808.04576398, 39061.50093248,\n",
              "       11761.4991981 ,  7687.56363151, 40920.29151165, 12318.58665305])"
            ]
          },
          "metadata": {},
          "execution_count": 42
        }
      ]
    },
    {
      "cell_type": "code",
      "source": [
        "# Evaluate the model using mean squared error\n",
        "print(f\"RMSE: {mean_squared_error(ytest, model_pipeline.predict(Xtest), squared=False)}\")"
      ],
      "metadata": {
        "id": "rQKMBte_677I",
        "colab": {
          "base_uri": "https://localhost:8080/"
        },
        "outputId": "1ef41cae-8489-4e4d-915a-7146edabb6fe"
      },
      "execution_count": 43,
      "outputs": [
        {
          "output_type": "stream",
          "name": "stdout",
          "text": [
            "RMSE: 5796.284659276274\n"
          ]
        }
      ]
    },
    {
      "cell_type": "code",
      "source": [
        "# Evaluate the model using R-squared score\n",
        "print(f\"R-squared: {r2_score(ytest, model_pipeline.predict(Xtest))}\")"
      ],
      "metadata": {
        "colab": {
          "base_uri": "https://localhost:8080/"
        },
        "id": "RUzCW19Xlmby",
        "outputId": "0ace3f0c-6c71-412d-ab3c-24ee1cede001"
      },
      "execution_count": 44,
      "outputs": [
        {
          "output_type": "stream",
          "name": "stdout",
          "text": [
            "R-squared: 0.7835929767120722\n"
          ]
        }
      ]
    },
    {
      "cell_type": "markdown",
      "source": [
        "## Serialization"
      ],
      "metadata": {
        "id": "XGjFkRf5JTnC"
      }
    },
    {
      "cell_type": "code",
      "source": [
        "# Display information about the scikit-learn package\n",
        "print(\"Scikit-learn version:\", sklearn.__version__)\n",
        "\n",
        "# Display scikit-learn package information\n",
        "print(sklearn)"
      ],
      "metadata": {
        "id": "Q2pHKRtaJR9R",
        "colab": {
          "base_uri": "https://localhost:8080/"
        },
        "outputId": "7280bebb-e3b0-4833-aef7-9d6ae0912973"
      },
      "execution_count": 45,
      "outputs": [
        {
          "output_type": "stream",
          "name": "stdout",
          "text": [
            "Scikit-learn version: 1.2.2\n",
            "<module 'sklearn' from '/usr/local/lib/python3.10/dist-packages/sklearn/__init__.py'>\n"
          ]
        }
      ]
    },
    {
      "cell_type": "code",
      "source": [
        "# This command displays information about the installed version of the scikit-learn library.\n",
        "!pip show scikit-learn"
      ],
      "metadata": {
        "colab": {
          "base_uri": "https://localhost:8080/"
        },
        "id": "SSHdCeNdmzFh",
        "outputId": "3e7f5b88-7577-4395-e6c2-9c08060e0da2"
      },
      "execution_count": 46,
      "outputs": [
        {
          "output_type": "stream",
          "name": "stdout",
          "text": [
            "Name: scikit-learn\n",
            "Version: 1.2.2\n",
            "Summary: A set of python modules for machine learning and data mining\n",
            "Home-page: http://scikit-learn.org\n",
            "Author: \n",
            "Author-email: \n",
            "License: new BSD\n",
            "Location: /usr/local/lib/python3.10/dist-packages\n",
            "Requires: joblib, numpy, scipy, threadpoolctl\n",
            "Required-by: bigframes, fastai, imbalanced-learn, librosa, mlxtend, qudida, sklearn-pandas, yellowbrick\n"
          ]
        }
      ]
    },
    {
      "cell_type": "code",
      "source": [
        "# Generate a requirements.txt file for the project's dependencies\n",
        "%%writefile requirements.txt\n",
        "scikit-learn==1.2.2"
      ],
      "metadata": {
        "id": "Wa0cqxINNTPq",
        "colab": {
          "base_uri": "https://localhost:8080/"
        },
        "outputId": "39af9809-b5f0-4b38-abe3-b279e47804c6"
      },
      "execution_count": 47,
      "outputs": [
        {
          "output_type": "stream",
          "name": "stdout",
          "text": [
            "Writing requirements.txt\n"
          ]
        }
      ]
    },
    {
      "cell_type": "code",
      "source": [
        "%%writefile train.py\n",
        "import pandas as pd\n",
        "import joblib\n",
        "\n",
        "from sklearn.datasets import fetch_openml\n",
        "\n",
        "from sklearn.preprocessing import StandardScaler, OneHotEncoder\n",
        "from sklearn.compose import make_column_transformer\n",
        "\n",
        "from sklearn.pipeline import make_pipeline\n",
        "\n",
        "from sklearn.model_selection import train_test_split\n",
        "\n",
        "from sklearn.linear_model import LinearRegression\n",
        "from sklearn.metrics import mean_squared_error, r2_score\n",
        "\n",
        "# Read the data\n",
        "data_df = pd.read_csv(\"insurance.csv\")\n",
        "\n",
        "target = 'charges'\n",
        "numeric_features = ['age', 'bmi', 'children']\n",
        "categorical_features = ['sex', 'smoker','region']\n",
        "\n",
        "print(\"Creating data subsets\")\n",
        "\n",
        "X = data_df[numeric_features + categorical_features]\n",
        "y = data_df[target]\n",
        "\n",
        "Xtrain, Xtest, ytrain, ytest = train_test_split(\n",
        "    X, y,\n",
        "    test_size=0.2,\n",
        "    random_state=42\n",
        ")\n",
        "\n",
        "preprocessor = make_column_transformer(\n",
        "    (StandardScaler(), numeric_features),\n",
        "    (OneHotEncoder(handle_unknown='ignore'), categorical_features)\n",
        ")\n",
        "\n",
        "model_linear_regression = LinearRegression(n_jobs=-1)\n",
        "\n",
        "print(\"Estimating Model Pipeline\")\n",
        "\n",
        "model_pipeline = make_pipeline(\n",
        "    preprocessor,\n",
        "    model_linear_regression\n",
        ")\n",
        "\n",
        "model_pipeline.fit(Xtrain, ytrain)\n",
        "\n",
        "print(\"Logging Metrics\")\n",
        "print(f\"R-squared: {r2_score(ytest, model_pipeline.predict(Xtest))}\")\n",
        "\n",
        "print(\"Serializing Model\")\n",
        "\n",
        "saved_model_path = \"model.joblib\"\n",
        "\n",
        "joblib.dump(model_pipeline, saved_model_path)\n"
      ],
      "metadata": {
        "id": "wtMeSwLfJf7K",
        "colab": {
          "base_uri": "https://localhost:8080/"
        },
        "outputId": "b1bd65e1-7c95-49c1-8396-93b7620cd9be"
      },
      "execution_count": 48,
      "outputs": [
        {
          "output_type": "stream",
          "name": "stdout",
          "text": [
            "Writing train.py\n"
          ]
        }
      ]
    },
    {
      "cell_type": "code",
      "source": [
        "# Execute the training script\n",
        "# Run the script\n",
        "!python train.py"
      ],
      "metadata": {
        "id": "q9CmkTbsLn8C",
        "colab": {
          "base_uri": "https://localhost:8080/"
        },
        "outputId": "7f019735-1ec2-4bc5-ebbd-b7579f3daabb"
      },
      "execution_count": 49,
      "outputs": [
        {
          "output_type": "stream",
          "name": "stdout",
          "text": [
            "Creating data subsets\n",
            "Estimating Model Pipeline\n",
            "Logging Metrics\n",
            "R-squared: 0.7835929767120722\n",
            "Serializing Model\n"
          ]
        }
      ]
    },
    {
      "cell_type": "markdown",
      "source": [
        "## Test Predictions"
      ],
      "metadata": {
        "id": "lFC4HfHjMR2G"
      }
    },
    {
      "cell_type": "code",
      "source": [
        "# write you are code here\n",
        "# Load the saved model\n",
        "saved_model = joblib.load(\"model.joblib\")"
      ],
      "metadata": {
        "id": "GHUn9EEf7oW-"
      },
      "execution_count": 50,
      "outputs": []
    },
    {
      "cell_type": "code",
      "source": [
        "# Get the architecture of saved model\n",
        "saved_model"
      ],
      "metadata": {
        "colab": {
          "base_uri": "https://localhost:8080/",
          "height": 192
        },
        "id": "fuszH1ROpyDe",
        "outputId": "a67b06ba-56a5-4495-cb05-953ad77c6755"
      },
      "execution_count": 51,
      "outputs": [
        {
          "output_type": "execute_result",
          "data": {
            "text/plain": [
              "Pipeline(steps=[('columntransformer',\n",
              "                 ColumnTransformer(transformers=[('standardscaler',\n",
              "                                                  StandardScaler(),\n",
              "                                                  ['age', 'bmi', 'children']),\n",
              "                                                 ('onehotencoder',\n",
              "                                                  OneHotEncoder(handle_unknown='ignore'),\n",
              "                                                  ['sex', 'smoker',\n",
              "                                                   'region'])])),\n",
              "                ('linearregression', LinearRegression(n_jobs=-1))])"
            ],
            "text/html": [
              "<style>#sk-container-id-2 {color: black;background-color: white;}#sk-container-id-2 pre{padding: 0;}#sk-container-id-2 div.sk-toggleable {background-color: white;}#sk-container-id-2 label.sk-toggleable__label {cursor: pointer;display: block;width: 100%;margin-bottom: 0;padding: 0.3em;box-sizing: border-box;text-align: center;}#sk-container-id-2 label.sk-toggleable__label-arrow:before {content: \"▸\";float: left;margin-right: 0.25em;color: #696969;}#sk-container-id-2 label.sk-toggleable__label-arrow:hover:before {color: black;}#sk-container-id-2 div.sk-estimator:hover label.sk-toggleable__label-arrow:before {color: black;}#sk-container-id-2 div.sk-toggleable__content {max-height: 0;max-width: 0;overflow: hidden;text-align: left;background-color: #f0f8ff;}#sk-container-id-2 div.sk-toggleable__content pre {margin: 0.2em;color: black;border-radius: 0.25em;background-color: #f0f8ff;}#sk-container-id-2 input.sk-toggleable__control:checked~div.sk-toggleable__content {max-height: 200px;max-width: 100%;overflow: auto;}#sk-container-id-2 input.sk-toggleable__control:checked~label.sk-toggleable__label-arrow:before {content: \"▾\";}#sk-container-id-2 div.sk-estimator input.sk-toggleable__control:checked~label.sk-toggleable__label {background-color: #d4ebff;}#sk-container-id-2 div.sk-label input.sk-toggleable__control:checked~label.sk-toggleable__label {background-color: #d4ebff;}#sk-container-id-2 input.sk-hidden--visually {border: 0;clip: rect(1px 1px 1px 1px);clip: rect(1px, 1px, 1px, 1px);height: 1px;margin: -1px;overflow: hidden;padding: 0;position: absolute;width: 1px;}#sk-container-id-2 div.sk-estimator {font-family: monospace;background-color: #f0f8ff;border: 1px dotted black;border-radius: 0.25em;box-sizing: border-box;margin-bottom: 0.5em;}#sk-container-id-2 div.sk-estimator:hover {background-color: #d4ebff;}#sk-container-id-2 div.sk-parallel-item::after {content: \"\";width: 100%;border-bottom: 1px solid gray;flex-grow: 1;}#sk-container-id-2 div.sk-label:hover label.sk-toggleable__label {background-color: #d4ebff;}#sk-container-id-2 div.sk-serial::before {content: \"\";position: absolute;border-left: 1px solid gray;box-sizing: border-box;top: 0;bottom: 0;left: 50%;z-index: 0;}#sk-container-id-2 div.sk-serial {display: flex;flex-direction: column;align-items: center;background-color: white;padding-right: 0.2em;padding-left: 0.2em;position: relative;}#sk-container-id-2 div.sk-item {position: relative;z-index: 1;}#sk-container-id-2 div.sk-parallel {display: flex;align-items: stretch;justify-content: center;background-color: white;position: relative;}#sk-container-id-2 div.sk-item::before, #sk-container-id-2 div.sk-parallel-item::before {content: \"\";position: absolute;border-left: 1px solid gray;box-sizing: border-box;top: 0;bottom: 0;left: 50%;z-index: -1;}#sk-container-id-2 div.sk-parallel-item {display: flex;flex-direction: column;z-index: 1;position: relative;background-color: white;}#sk-container-id-2 div.sk-parallel-item:first-child::after {align-self: flex-end;width: 50%;}#sk-container-id-2 div.sk-parallel-item:last-child::after {align-self: flex-start;width: 50%;}#sk-container-id-2 div.sk-parallel-item:only-child::after {width: 0;}#sk-container-id-2 div.sk-dashed-wrapped {border: 1px dashed gray;margin: 0 0.4em 0.5em 0.4em;box-sizing: border-box;padding-bottom: 0.4em;background-color: white;}#sk-container-id-2 div.sk-label label {font-family: monospace;font-weight: bold;display: inline-block;line-height: 1.2em;}#sk-container-id-2 div.sk-label-container {text-align: center;}#sk-container-id-2 div.sk-container {/* jupyter's `normalize.less` sets `[hidden] { display: none; }` but bootstrap.min.css set `[hidden] { display: none !important; }` so we also need the `!important` here to be able to override the default hidden behavior on the sphinx rendered scikit-learn.org. See: https://github.com/scikit-learn/scikit-learn/issues/21755 */display: inline-block !important;position: relative;}#sk-container-id-2 div.sk-text-repr-fallback {display: none;}</style><div id=\"sk-container-id-2\" class=\"sk-top-container\"><div class=\"sk-text-repr-fallback\"><pre>Pipeline(steps=[(&#x27;columntransformer&#x27;,\n",
              "                 ColumnTransformer(transformers=[(&#x27;standardscaler&#x27;,\n",
              "                                                  StandardScaler(),\n",
              "                                                  [&#x27;age&#x27;, &#x27;bmi&#x27;, &#x27;children&#x27;]),\n",
              "                                                 (&#x27;onehotencoder&#x27;,\n",
              "                                                  OneHotEncoder(handle_unknown=&#x27;ignore&#x27;),\n",
              "                                                  [&#x27;sex&#x27;, &#x27;smoker&#x27;,\n",
              "                                                   &#x27;region&#x27;])])),\n",
              "                (&#x27;linearregression&#x27;, LinearRegression(n_jobs=-1))])</pre><b>In a Jupyter environment, please rerun this cell to show the HTML representation or trust the notebook. <br />On GitHub, the HTML representation is unable to render, please try loading this page with nbviewer.org.</b></div><div class=\"sk-container\" hidden><div class=\"sk-item sk-dashed-wrapped\"><div class=\"sk-label-container\"><div class=\"sk-label sk-toggleable\"><input class=\"sk-toggleable__control sk-hidden--visually\" id=\"sk-estimator-id-8\" type=\"checkbox\" ><label for=\"sk-estimator-id-8\" class=\"sk-toggleable__label sk-toggleable__label-arrow\">Pipeline</label><div class=\"sk-toggleable__content\"><pre>Pipeline(steps=[(&#x27;columntransformer&#x27;,\n",
              "                 ColumnTransformer(transformers=[(&#x27;standardscaler&#x27;,\n",
              "                                                  StandardScaler(),\n",
              "                                                  [&#x27;age&#x27;, &#x27;bmi&#x27;, &#x27;children&#x27;]),\n",
              "                                                 (&#x27;onehotencoder&#x27;,\n",
              "                                                  OneHotEncoder(handle_unknown=&#x27;ignore&#x27;),\n",
              "                                                  [&#x27;sex&#x27;, &#x27;smoker&#x27;,\n",
              "                                                   &#x27;region&#x27;])])),\n",
              "                (&#x27;linearregression&#x27;, LinearRegression(n_jobs=-1))])</pre></div></div></div><div class=\"sk-serial\"><div class=\"sk-item sk-dashed-wrapped\"><div class=\"sk-label-container\"><div class=\"sk-label sk-toggleable\"><input class=\"sk-toggleable__control sk-hidden--visually\" id=\"sk-estimator-id-9\" type=\"checkbox\" ><label for=\"sk-estimator-id-9\" class=\"sk-toggleable__label sk-toggleable__label-arrow\">columntransformer: ColumnTransformer</label><div class=\"sk-toggleable__content\"><pre>ColumnTransformer(transformers=[(&#x27;standardscaler&#x27;, StandardScaler(),\n",
              "                                 [&#x27;age&#x27;, &#x27;bmi&#x27;, &#x27;children&#x27;]),\n",
              "                                (&#x27;onehotencoder&#x27;,\n",
              "                                 OneHotEncoder(handle_unknown=&#x27;ignore&#x27;),\n",
              "                                 [&#x27;sex&#x27;, &#x27;smoker&#x27;, &#x27;region&#x27;])])</pre></div></div></div><div class=\"sk-parallel\"><div class=\"sk-parallel-item\"><div class=\"sk-item\"><div class=\"sk-label-container\"><div class=\"sk-label sk-toggleable\"><input class=\"sk-toggleable__control sk-hidden--visually\" id=\"sk-estimator-id-10\" type=\"checkbox\" ><label for=\"sk-estimator-id-10\" class=\"sk-toggleable__label sk-toggleable__label-arrow\">standardscaler</label><div class=\"sk-toggleable__content\"><pre>[&#x27;age&#x27;, &#x27;bmi&#x27;, &#x27;children&#x27;]</pre></div></div></div><div class=\"sk-serial\"><div class=\"sk-item\"><div class=\"sk-estimator sk-toggleable\"><input class=\"sk-toggleable__control sk-hidden--visually\" id=\"sk-estimator-id-11\" type=\"checkbox\" ><label for=\"sk-estimator-id-11\" class=\"sk-toggleable__label sk-toggleable__label-arrow\">StandardScaler</label><div class=\"sk-toggleable__content\"><pre>StandardScaler()</pre></div></div></div></div></div></div><div class=\"sk-parallel-item\"><div class=\"sk-item\"><div class=\"sk-label-container\"><div class=\"sk-label sk-toggleable\"><input class=\"sk-toggleable__control sk-hidden--visually\" id=\"sk-estimator-id-12\" type=\"checkbox\" ><label for=\"sk-estimator-id-12\" class=\"sk-toggleable__label sk-toggleable__label-arrow\">onehotencoder</label><div class=\"sk-toggleable__content\"><pre>[&#x27;sex&#x27;, &#x27;smoker&#x27;, &#x27;region&#x27;]</pre></div></div></div><div class=\"sk-serial\"><div class=\"sk-item\"><div class=\"sk-estimator sk-toggleable\"><input class=\"sk-toggleable__control sk-hidden--visually\" id=\"sk-estimator-id-13\" type=\"checkbox\" ><label for=\"sk-estimator-id-13\" class=\"sk-toggleable__label sk-toggleable__label-arrow\">OneHotEncoder</label><div class=\"sk-toggleable__content\"><pre>OneHotEncoder(handle_unknown=&#x27;ignore&#x27;)</pre></div></div></div></div></div></div></div></div><div class=\"sk-item\"><div class=\"sk-estimator sk-toggleable\"><input class=\"sk-toggleable__control sk-hidden--visually\" id=\"sk-estimator-id-14\" type=\"checkbox\" ><label for=\"sk-estimator-id-14\" class=\"sk-toggleable__label sk-toggleable__label-arrow\">LinearRegression</label><div class=\"sk-toggleable__content\"><pre>LinearRegression(n_jobs=-1)</pre></div></div></div></div></div></div></div>"
            ]
          },
          "metadata": {},
          "execution_count": 51
        }
      ]
    },
    {
      "cell_type": "code",
      "source": [
        "saved_model.predict(Xtest)"
      ],
      "metadata": {
        "colab": {
          "base_uri": "https://localhost:8080/"
        },
        "id": "N0ch1OTjF8aH",
        "outputId": "44330432-9a38-43d1-a396-195c8b749453"
      },
      "execution_count": 52,
      "outputs": [
        {
          "output_type": "execute_result",
          "data": {
            "text/plain": [
              "array([ 8969.55027444,  7068.74744287, 36858.41091155,  9454.67850053,\n",
              "       26973.17345656, 10864.11316424,   170.28084136, 16903.45028662,\n",
              "        1092.43093614, 11218.34318352, 28101.68455267,  9377.73460205,\n",
              "        5263.0595179 , 38416.04221107, 40255.82339284, 37098.25353123,\n",
              "       15240.39392306, 35912.88264434,  9112.52398703, 31461.92108909,\n",
              "        3847.68845883, 10130.12001517,  2370.54189389,  7140.21550828,\n",
              "       11301.76782638, 12961.65366224, 14509.47251876,  6159.8976107 ,\n",
              "        9963.85857263,  2177.85718217,  9115.93673493, 13073.68932159,\n",
              "        4561.82376202,  3408.20756033,  4459.81359745, 13032.06505076,\n",
              "        1979.99357292,  8813.28303302, 33271.29124448, 32585.51583927,\n",
              "        3908.76090964,  4326.10774721, 14142.81326533, 11423.45494846,\n",
              "        8774.13955311, 12097.28051001,  5281.57353499,  3150.5596042 ,\n",
              "       35494.46461214,  9150.1124786 , 15836.84575621,  2343.57470069,\n",
              "       12364.78414194,  1482.29488266, 13389.06105161, 12573.57395972,\n",
              "        4341.83680558, 32165.33688042, 13321.3360032 , 12896.82071102,\n",
              "       14167.99421483, 10506.17623512, 16360.78543548,  7763.89824584,\n",
              "       11839.25019431,  4061.19750503, 26652.40230125, 10930.14138671,\n",
              "        2137.41385988,  6209.01123411, 10729.82391284, 11628.3104129 ,\n",
              "       10981.04528946,  9166.50818596, 11954.27732874,  6747.85121734,\n",
              "        7248.5304713 , 10735.16710748,  6580.84819774,  8762.00329355,\n",
              "        3767.13383454, 36632.4975496 ,  6378.11979721, 30842.09248656,\n",
              "       34846.52451051, 35278.07387112,  7019.444352  , 12861.38414264,\n",
              "        9942.30149778, 14473.5260648 , 17693.37304474, 35258.24845137,\n",
              "       33029.58968269,  6185.91730447, 31999.98962535,  9481.33158273,\n",
              "       29444.04271523,  3674.48498404, 28308.26432106,  5823.36495229,\n",
              "        5407.76752001,  1883.4947576 , 11499.675042  , 15075.90690632,\n",
              "       11699.63163008,  4308.82427855,  9895.1840044 , 31708.40056201,\n",
              "         -86.87094667, 32819.71429004,  3280.69178415, 10183.88853878,\n",
              "       14318.76389179, 31642.35684542, 11461.57806791,  3929.23701831,\n",
              "       13107.89313088, 31810.99450607,  8152.02593593,  3238.08417076,\n",
              "        8439.56108376, 10594.63871458, 15219.68736374,  5647.8808143 ,\n",
              "        3781.95285499, 10228.944897  , 10900.12933883, 11122.74845192,\n",
              "       14438.14112575,  7430.31504776,  5386.22676759,  9231.32739901,\n",
              "        9343.76283713, 12538.27606344,  8337.66982683, 15333.36900871,\n",
              "        8411.2145439 , 31797.27496298, 35785.91843418, 31603.71967017,\n",
              "        6011.96229251, 12607.03584641,  6013.5115031 , 14560.79590559,\n",
              "        2493.47989441, 32963.45524228,  6265.14380504,  5034.62173797,\n",
              "       14344.81347407,  6941.1412259 , 38670.01270366,  3087.58741836,\n",
              "        5885.8752536 , 31686.24200595, 11562.61859836,  8476.04749512,\n",
              "       14806.72486264,  9814.46186143, 27105.71831469, 33453.83352069,\n",
              "       14551.8999207 ,  1684.36856768, 13166.96197398,  2222.76894041,\n",
              "        5449.59393727, 11568.96325488, 39807.96912709, 36500.65163031,\n",
              "       34001.37945748,  3897.27856532,  7456.14132125,  8661.82084477,\n",
              "       12450.92458882,  4813.53293089,  2047.65528159, 32112.11251984,\n",
              "       25111.52085938, 17484.27663755, 26411.46181822, 10159.52421   ,\n",
              "       37260.32666386,  -441.23918333,  6779.55013103,  7781.45337795,\n",
              "        4367.95988484,  5105.87170813,  5919.18675042,  4305.71645941,\n",
              "       15191.08806502, 11132.09935114,  6932.80116584,  2525.64793222,\n",
              "        1536.05183213, 31944.78284317, 16414.12251517, 12011.53367195,\n",
              "        1268.05926603, 12531.25953189,  1564.93415917,  8737.33621694,\n",
              "        1873.03940488, 33916.22971211, 10858.38635063,  2603.43633853,\n",
              "       25674.40250332, 26343.43022704,  9430.91152033,  1800.73500777,\n",
              "       13261.42480211,  1120.17810533, 10386.66427709, 10567.29006474,\n",
              "       16944.25995713, 26846.54662457,  6939.11178393,  5193.04710054,\n",
              "        5846.00017265, 13229.60536846, 11098.33930228,  8362.28134289,\n",
              "        5135.53940151, 12308.34064139, 13861.17886997, 35773.70926219,\n",
              "        4157.01930317, 28917.86562624,  -914.37342357,  2873.71150671,\n",
              "       11046.2540774 , 15683.06950225,  5210.67532324,  6888.38518351,\n",
              "        3854.31140958, 31312.64705453,  7241.43226665, 12405.99508651,\n",
              "        5619.17039188,  9528.22557021, 36314.009043  ,  4429.40596906,\n",
              "        9667.91523953, 31161.15738995,  5747.13292318,  4603.37294255,\n",
              "        1048.35533791,  4832.6604097 ,  4574.9041044 ,  6507.30666036,\n",
              "       18659.12407756, -1545.57184934,  2376.4352498 , 10694.62157146,\n",
              "        3151.28919904, 10209.96361187,  3733.89128353,  5125.08103172,\n",
              "       12400.90700504,  6218.65296628,  8231.63765089,  7590.50155269,\n",
              "        8924.15352268, 10482.90359975, 27808.04576398, 39061.50093248,\n",
              "       11761.4991981 ,  7687.56363151, 40920.29151165, 12318.58665305])"
            ]
          },
          "metadata": {},
          "execution_count": 52
        }
      ]
    },
    {
      "cell_type": "markdown",
      "source": [
        "# Gradio Interface"
      ],
      "metadata": {
        "id": "aTVpZrMJJq0Q"
      }
    },
    {
      "cell_type": "code",
      "source": [
        "import pandas as pd\n",
        "\n",
        "# Read the CSV file\n",
        "df = pd.read_csv(\"insurance.csv\")\n",
        "\n",
        "# Get distinct values for each column\n",
        "distinct_values = {}\n",
        "for column in df.columns:\n",
        "    distinct_values[column] = df[column].unique()\n",
        "\n",
        "# Print distinct values for each column\n",
        "for column, values in distinct_values.items():\n",
        "    print(f\"Distinct values for column '{column}':\")\n",
        "    print(values)\n",
        "    print()"
      ],
      "metadata": {
        "colab": {
          "base_uri": "https://localhost:8080/"
        },
        "id": "3l87CYnQ52oF",
        "outputId": "465a2c47-cdcf-4db0-b856-644b01eea872"
      },
      "execution_count": 53,
      "outputs": [
        {
          "output_type": "stream",
          "name": "stdout",
          "text": [
            "Distinct values for column 'index':\n",
            "[   0    1    2 ... 1335 1336 1337]\n",
            "\n",
            "Distinct values for column 'age':\n",
            "[19 18 28 33 32 31 46 37 60 25 62 23 56 27 52 30 34 59 63 55 22 26 35 24\n",
            " 41 38 36 21 48 40 58 53 43 64 20 61 44 57 29 45 54 49 47 51 42 50 39]\n",
            "\n",
            "Distinct values for column 'sex':\n",
            "['female' 'male']\n",
            "\n",
            "Distinct values for column 'bmi':\n",
            "[27.9   33.77  33.    22.705 28.88  25.74  33.44  27.74  29.83  25.84\n",
            " 26.22  26.29  34.4   39.82  42.13  24.6   30.78  23.845 40.3   35.3\n",
            " 36.005 32.4   34.1   31.92  28.025 27.72  23.085 32.775 17.385 36.3\n",
            " 35.6   26.315 28.6   28.31  36.4   20.425 32.965 20.8   36.67  39.9\n",
            " 26.6   36.63  21.78  30.8   37.05  37.3   38.665 34.77  24.53  35.2\n",
            " 35.625 33.63  28.    34.43  28.69  36.955 31.825 31.68  22.88  37.335\n",
            " 27.36  33.66  24.7   25.935 22.42  28.9   39.1   36.19  23.98  24.75\n",
            " 28.5   28.1   32.01  27.4   34.01  29.59  35.53  39.805 26.885 38.285\n",
            " 37.62  41.23  34.8   22.895 31.16  27.2   26.98  39.49  24.795 31.3\n",
            " 38.28  19.95  19.3   31.6   25.46  30.115 29.92  27.5   28.4   30.875\n",
            " 27.94  35.09  29.7   35.72  32.205 28.595 49.06  27.17  23.37  37.1\n",
            " 23.75  28.975 31.35  33.915 28.785 28.3   37.4   17.765 34.7   26.505\n",
            " 22.04  35.9   25.555 28.05  25.175 31.9   36.    32.49  25.3   29.735\n",
            " 38.83  30.495 37.73  37.43  24.13  37.145 39.52  24.42  27.83  36.85\n",
            " 39.6   29.8   29.64  28.215 37.    33.155 18.905 41.47  30.3   15.96\n",
            " 33.345 37.7   27.835 29.2   26.41  30.69  41.895 30.9   32.2   32.11\n",
            " 31.57  26.2   30.59  32.8   18.05  39.33  32.23  24.035 36.08  22.3\n",
            " 26.4   31.8   26.73  23.1   23.21  33.7   33.25  24.64  33.88  38.06\n",
            " 41.91  31.635 36.195 17.8   24.51  22.22  38.39  29.07  22.135 26.8\n",
            " 30.02  35.86  20.9   17.29  34.21  25.365 40.15  24.415 25.2   26.84\n",
            " 24.32  42.35  19.8   32.395 30.2   29.37  34.2   27.455 27.55  20.615\n",
            " 24.3   31.79  21.56  28.12  40.565 27.645 31.2   26.62  48.07  36.765\n",
            " 33.4   45.54  28.82  22.99  27.7   25.41  34.39  22.61  37.51  38.\n",
            " 33.33  34.865 33.06  35.97  31.4   25.27  40.945 34.105 36.48  33.8\n",
            " 36.7   36.385 34.5   32.3   27.6   29.26  35.75  23.18  25.6   35.245\n",
            " 43.89  20.79  30.5   21.7   21.89  24.985 32.015 30.4   21.09  22.23\n",
            " 32.9   24.89  31.46  17.955 30.685 43.34  39.05  30.21  31.445 19.855\n",
            " 31.02  38.17  20.6   47.52  20.4   38.38  24.31  23.6   21.12  30.03\n",
            " 17.48  20.235 17.195 23.9   35.15  35.64  22.6   39.16  27.265 29.165\n",
            " 16.815 33.1   26.9   33.11  31.73  46.75  29.45  32.68  33.5   43.01\n",
            " 36.52  26.695 25.65  29.6   38.6   23.4   46.53  30.14  30.    38.095\n",
            " 28.38  28.7   33.82  24.09  32.67  25.1   32.56  41.325 39.5   34.3\n",
            " 31.065 21.47  25.08  43.4   25.7   27.93  39.2   26.03  30.25  28.93\n",
            " 35.7   35.31  31.    44.22  26.07  25.8   39.425 40.48  38.9   47.41\n",
            " 35.435 46.7   46.2   21.4   23.8   44.77  32.12  29.1   37.29  43.12\n",
            " 36.86  34.295 23.465 45.43  23.65  20.7   28.27  35.91  29.    19.57\n",
            " 31.13  21.85  40.26  33.725 29.48  32.6   37.525 23.655 37.8   19.\n",
            " 21.3   33.535 42.46  38.95  36.1   29.3   39.7   38.19  42.4   34.96\n",
            " 42.68  31.54  29.81  21.375 40.81  17.4   20.3   18.5   26.125 41.69\n",
            " 24.1   36.2   40.185 39.27  34.87  44.745 29.545 23.54  40.47  40.66\n",
            " 36.6   35.4   27.075 28.405 21.755 40.28  30.1   32.1   23.7   35.5\n",
            " 29.15  27.    37.905 22.77  22.8   34.58  27.1   19.475 26.7   34.32\n",
            " 24.4   41.14  22.515 41.8   26.18  42.24  26.51  35.815 41.42  36.575\n",
            " 42.94  21.01  24.225 17.67  31.5   31.1   32.78  32.45  50.38  47.6\n",
            " 25.4   29.9   43.7   24.86  28.8   29.5   29.04  38.94  44.    20.045\n",
            " 40.92  35.1   29.355 32.585 32.34  39.8   24.605 33.99  28.2   25.\n",
            " 33.2   23.2   20.1   32.5   37.18  46.09  39.93  35.8   31.255 18.335\n",
            " 42.9   26.79  39.615 25.9   25.745 28.16  23.56  40.5   35.42  39.995\n",
            " 34.675 20.52  23.275 36.29  32.7   19.19  20.13  23.32  45.32  34.6\n",
            " 18.715 21.565 23.    37.07  52.58  42.655 21.66  32.    18.3   47.74\n",
            " 22.1   19.095 31.24  29.925 20.35  25.85  42.75  18.6   23.87  45.9\n",
            " 21.5   30.305 44.88  41.1   40.37  28.49  33.55  40.375 27.28  17.86\n",
            " 33.3   39.14  21.945 24.97  23.94  34.485 21.8   23.3   36.96  21.28\n",
            " 29.4   27.3   37.9   37.715 23.76  25.52  27.61  27.06  39.4   34.9\n",
            " 22.    30.36  27.8   53.13  39.71  32.87  44.7   30.97 ]\n",
            "\n",
            "Distinct values for column 'children':\n",
            "[0 1 3 2 5 4]\n",
            "\n",
            "Distinct values for column 'smoker':\n",
            "['yes' 'no']\n",
            "\n",
            "Distinct values for column 'region':\n",
            "['southwest' 'southeast' 'northwest' 'northeast']\n",
            "\n",
            "Distinct values for column 'charges':\n",
            "[16884.924   1725.5523  4449.462  ...  1629.8335  2007.945  29141.3603]\n",
            "\n"
          ]
        }
      ]
    },
    {
      "cell_type": "code",
      "source": [
        "%%writefile app.py\n",
        "# Import the libraries\n",
        "import os\n",
        "import uuid\n",
        "import joblib\n",
        "import json\n",
        "\n",
        "import gradio as gr\n",
        "import pandas as pd\n",
        "\n",
        "from huggingface_hub import CommitScheduler\n",
        "from pathlib import Path\n",
        "\n",
        "\n",
        "# Run the training script placed in the same directory as app.py\n",
        "# The training script will train and persist a linear regression\n",
        "# model with the filename 'model.joblib'\n",
        "\n",
        "os.system(\"pyhton train.py\")\n",
        "\n",
        "# Load the freshly trained model from disk\n",
        "insurance_charges_predictor = joblib.load('model.joblib')\n",
        "\n",
        "# Prepare the logging functionality\n",
        "log_file = Path(\"logs/\") / f\"data_{uuid.uuid4()}.json\"\n",
        "log_folder = log_file.parent\n",
        "\n",
        "scheduler = CommitScheduler(\n",
        "    repo_id=\"insurance-charge-mlops-logs\",  # provide a name \"insurance-charge-mlops-logs\" for the repo_id\n",
        "    repo_type=\"dataset\",\n",
        "    folder_path=log_folder,\n",
        "    path_in_repo=\"data\",\n",
        "    every=2\n",
        ")\n",
        "\n",
        "# Define the predict function which will take features, convert to dataframe and make predictions using the saved model\n",
        "# the functions runs when 'Submit' is clicked or when a API request is made\n",
        "\n",
        "\n",
        "def predict_insurance_charge(age, bmi, children, sex, smoker, region):\n",
        "    sample = {\n",
        "        'age': age,\n",
        "        'bmi': bmi,\n",
        "        'children': children,\n",
        "        'sex': sex,\n",
        "        'smoker': smoker,\n",
        "        'region': region\n",
        "    }\n",
        "    data_point = pd.DataFrame([sample])\n",
        "    prediction = insurance_charges_predictor.predict(data_point).tolist()\n",
        "\n",
        "\n",
        "    # While the prediction is made, log both the inputs and outputs to a  log file\n",
        "    # While writing to the log file, ensure that the commit scheduler is locked to avoid parallel\n",
        "    # access\n",
        "\n",
        "    with scheduler.lock:\n",
        "        with log_file.open(\"a\") as f:\n",
        "            f.write(json.dumps(\n",
        "                {\n",
        "                    'age': age,\n",
        "                    'bmi': bmi,\n",
        "                    'children': children,\n",
        "                    'sex': sex,\n",
        "                    'smoker': smoker,\n",
        "                    'region': region,\n",
        "                    'prediction': prediction[0]\n",
        "                }\n",
        "            ))\n",
        "            f.write(\"\\n\")\n",
        "\n",
        "    return prediction[0]\n",
        "\n",
        "\n",
        "\n",
        "# Set up UI components for input and output\n",
        "\n",
        "\n",
        "age_input = gr.Number(label=\"Age\")\n",
        "bmi_input = gr.Number(label=\"BMI\")\n",
        "children_input = gr.Number(label=\"Children\")\n",
        "sex_input = gr.Dropdown([\"female\",\"male\"],label=\"Sex\")\n",
        "smoker_input = gr.Dropdown([\"yes\", \"no\"],label=\"Smoker\")\n",
        "region_input = gr.Dropdown([\"southwest\", \"southeast\", \"northwest\", \"northeast\"],label=\"Region\")\n",
        "\n",
        "model_output = gr.Label(label=\"HealthyLife Insurance Charge Prediction - Predict the cost for your Medical Insurance!\")\n",
        "\n",
        "# Create the gradio interface, make title \"HealthyLife Insurance Charge Prediction\"\n",
        "demo = gr.Interface(\n",
        "    fn=predict_insurance_charge,\n",
        "    #age, bmi, children, sex, smoker, region\n",
        "    inputs=[age_input, bmi_input, children_input,\n",
        "            sex_input, smoker_input, region_input],\n",
        "    outputs=model_output,\n",
        "    title=\"HealthyLife Insurance Charge Prediction\",\n",
        "    description=\"This API allows you to predict the HealthyLife Insurance Charge\",\n",
        "    allow_flagging=\"auto\",\n",
        "    examples=[[33,33,44,5,'male','no','southeast'],\n",
        "              [50,25,175,0,'male',' no','northeast'],\n",
        "              [52,38,380,2,'female',' no','northeast']],\n",
        "    concurrency_limit=16\n",
        ")\n",
        "\n",
        "# Launch with a load balancer\n",
        "demo.queue()\n",
        "demo.launch(share=False)"
      ],
      "metadata": {
        "colab": {
          "base_uri": "https://localhost:8080/"
        },
        "id": "xMloE1BhI4TK",
        "outputId": "f58251ae-4708-4fc7-b98f-2a1fa3bd14c5"
      },
      "execution_count": 54,
      "outputs": [
        {
          "output_type": "stream",
          "name": "stdout",
          "text": [
            "Writing app.py\n"
          ]
        }
      ]
    },
    {
      "cell_type": "code",
      "source": [
        "%%writefile app.py\n",
        "import os\n",
        "import uuid\n",
        "import joblib\n",
        "import json\n",
        "\n",
        "import gradio as gr\n",
        "import pandas as pd\n",
        "\n",
        "from huggingface_hub import CommitScheduler\n",
        "from pathlib import Path\n",
        "\n",
        "# Run the training script placed in the same directory as app.py\n",
        "# The training script will train and persist a logistic regression\n",
        "# model with the filename 'model.joblib'\n",
        "\n",
        "os.system(\"python train.py\")\n",
        "\n",
        "# Load the freshly trained model from disk\n",
        "\n",
        "insurance_charge_predictor = joblib.load('model.joblib')\n",
        "\n",
        "# Prepare the logging functionality\n",
        "\n",
        "log_file = Path(\"logs/\") / f\"data_{uuid.uuid4()}.json\"\n",
        "log_folder = log_file.parent\n",
        "\n",
        "scheduler = CommitScheduler(\n",
        "    repo_id=\"insurance-charge-mlops-logs\",\n",
        "    repo_type=\"dataset\",\n",
        "    folder_path=log_folder,\n",
        "    path_in_repo=\"data\",\n",
        "    every=2\n",
        ")\n",
        "\n",
        "# Define the predict function that runs when 'Submit' is clicked or when a API request is made\n",
        "def predict_insurance_charge(age, bmi, children,sex, smoker, region):\n",
        "    sample = {\n",
        "        'age': age,\n",
        "        'bmi': bmi,\n",
        "        'children': children,\n",
        "        'sex': sex,\n",
        "        'smoker': smoker,\n",
        "        'region': region\n",
        "    }\n",
        "\n",
        "    data_point = pd.DataFrame([sample])\n",
        "    prediction = insurance_charge_predictor.predict(data_point).tolist()\n",
        "\n",
        "    # While the prediction is made, log both the inputs and outputs to a local log file\n",
        "    # While writing to the log file, ensure that the commit scheduler is locked to avoid parallel\n",
        "    # access\n",
        "\n",
        "    with scheduler.lock:\n",
        "        with log_file.open(\"a\") as f:\n",
        "            f.write(json.dumps(\n",
        "                {\n",
        "                    'age': age,\n",
        "                    'bmi': bmi,\n",
        "                    'children': children,\n",
        "                    'sex': sex,\n",
        "                    'smoker': smoker,\n",
        "                    'region': region,\n",
        "                    'prediction': prediction[0]\n",
        "                }\n",
        "            ))\n",
        "            f.write(\"\\n\")\n",
        "\n",
        "    return round(prediction[0],2)\n",
        "\n",
        "# Set up UI components for input and output\n",
        "\n",
        "age_input = gr.Number(label='age')\n",
        "bmi_input = gr.Number(label='bmi')\n",
        "children_input = gr.Number(label='children')\n",
        "sex_input = gr.Dropdown(['female','male'],label='sex')\n",
        "smoker_input = gr.Dropdown(['yes','no'],label='smoker')\n",
        "region_input = gr.Dropdown(\n",
        "    ['southeast', 'southwest', 'northwest', 'northeast'],\n",
        "    label='region'\n",
        ")\n",
        "\n",
        "model_output = gr.Label(label=\"Insurance Charges\")\n",
        "\n",
        "# Create the interface\n",
        "demo = gr.Interface(\n",
        "    fn=predict_insurance_charge,\n",
        "    inputs=[age_input, bmi_input, children_input,sex_input, smoker_input, region_input],\n",
        "    outputs=model_output,\n",
        "    title=\"HealthyLife Insurance Charge Prediction\",\n",
        "    description=\"This API allows you to predict the estimating insurance charges based on customer attributes\",\n",
        "    examples=[[33,33.44,5,'male','no','southeast'],\n",
        "              [58,25.175,0,'male','no','northeast'],\n",
        "              [52,38.380,2,'female','no','northeast']],\n",
        "    concurrency_limit=16\n",
        ")\n",
        "\n",
        "# Launch with a load balancer\n",
        "demo.queue()\n",
        "demo.launch(share=False)"
      ],
      "metadata": {
        "colab": {
          "base_uri": "https://localhost:8080/"
        },
        "id": "CzxqVKxQQDQz",
        "outputId": "265ebb1f-de4e-41bd-b73c-42766bdc69ba"
      },
      "execution_count": 55,
      "outputs": [
        {
          "output_type": "stream",
          "name": "stdout",
          "text": [
            "Overwriting app.py\n"
          ]
        }
      ]
    },
    {
      "cell_type": "markdown",
      "source": [
        "# Online/Batch Inferencing"
      ],
      "metadata": {
        "id": "U7r22COUnPhT"
      }
    },
    {
      "cell_type": "markdown",
      "source": [
        "### Paste your gradio app link\n",
        "\n",
        "* App Link - https://huggingface.co/spaces/mayankchugh-learning/insurance-cost\n",
        "\n",
        "*   app link here\n",
        "\n",
        "Note: Make sure your Hugging Face space repository is set to public. If it's private, the evaluator won't be able to access the app you've built, which could result in losing marks."
      ],
      "metadata": {
        "id": "khY2e1FzM29z"
      }
    },
    {
      "cell_type": "code",
      "execution_count": 56,
      "metadata": {
        "id": "AqkyIqoQhORh"
      },
      "outputs": [],
      "source": [
        "# Install the gradio_client package silently\n",
        "!pip install -q gradio_client"
      ]
    },
    {
      "cell_type": "code",
      "source": [
        "import time  # Import the time module for time-related functions\n",
        "from gradio_client import Client  # Import the Gradio client for interacting with Gradio interfaces\n",
        "from sklearn.datasets import fetch_openml  # Import fetch_openml to fetch datasets\n",
        "from sklearn.model_selection import train_test_split  # Import train_test_split for splitting datasets\n",
        "from tqdm import tqdm  # Import tqdm for progress bars"
      ],
      "metadata": {
        "id": "_6hqa3y5hWQ2"
      },
      "execution_count": 57,
      "outputs": []
    },
    {
      "cell_type": "markdown",
      "source": [
        "## Test Data"
      ],
      "metadata": {
        "id": "nHr-lJsMiAr3"
      }
    },
    {
      "cell_type": "code",
      "source": [
        "import pandas as pd  # Import pandas for data manipulation\n",
        "from sklearn.model_selection import train_test_split  # Import train_test_split for splitting datasets\n",
        "\n",
        "# Read the dataset from the CSV file into a DataFrame\n",
        "data_df = pd.read_csv(\"insurance.csv\")\n",
        "\n",
        "# Define the target variable\n",
        "target = 'charges'\n",
        "\n",
        "# Define the numeric features used for modeling\n",
        "numeric_features = ['age', 'bmi', 'children']\n",
        "\n",
        "# Define the categorical features used for modeling\n",
        "categorical_features = ['sex', 'smoker','region']\n",
        "\n",
        "# Separate features (X) and target variable (y)\n",
        "X = data_df.drop('charges', axis=1)\n",
        "y = data_df['charges']\n",
        "\n",
        "# Display a message indicating the creation of data subsets\n",
        "print(\"data subsets are being created\")\n",
        "\n",
        "# Split the dataset into training and testing sets\n",
        "Xtrain, Xtest, ytrain, ytest = train_test_split(\n",
        "    X, y,\n",
        "    test_size=0.2,\n",
        "    random_state=42\n",
        ")"
      ],
      "metadata": {
        "id": "UkgdHHg2hzRg",
        "colab": {
          "base_uri": "https://localhost:8080/"
        },
        "outputId": "42f1638d-fee4-4c3f-be89-5be15fc7e28e"
      },
      "execution_count": 58,
      "outputs": [
        {
          "output_type": "stream",
          "name": "stdout",
          "text": [
            "data subsets are being created\n"
          ]
        }
      ]
    },
    {
      "cell_type": "code",
      "source": [
        "# Check the shape of the testing features dataset\n",
        "Xtest.shape"
      ],
      "metadata": {
        "id": "8polBKfli8zm",
        "colab": {
          "base_uri": "https://localhost:8080/"
        },
        "outputId": "236917c9-a48c-4efc-909e-3342d1f173dd"
      },
      "execution_count": 59,
      "outputs": [
        {
          "output_type": "execute_result",
          "data": {
            "text/plain": [
              "(268, 7)"
            ]
          },
          "metadata": {},
          "execution_count": 59
        }
      ]
    },
    {
      "cell_type": "code",
      "source": [
        "# Display the first 3 rows of the testing features dataset\n",
        "Xtest.head(3)"
      ],
      "metadata": {
        "id": "2u29J1KRiZfz",
        "colab": {
          "base_uri": "https://localhost:8080/",
          "height": 143
        },
        "outputId": "7ba7ec1e-7dc8-45f5-e397-5b8525d44e85"
      },
      "execution_count": 60,
      "outputs": [
        {
          "output_type": "execute_result",
          "data": {
            "text/plain": [
              "     index  age     sex     bmi  children smoker     region\n",
              "764    764   45  female  25.175         2     no  northeast\n",
              "887    887   36  female  30.020         0     no  northwest\n",
              "890    890   64  female  26.885         0    yes  northwest"
            ],
            "text/html": [
              "\n",
              "  <div id=\"df-a8a2d61b-1d03-4697-8255-73e691f89980\" class=\"colab-df-container\">\n",
              "    <div>\n",
              "<style scoped>\n",
              "    .dataframe tbody tr th:only-of-type {\n",
              "        vertical-align: middle;\n",
              "    }\n",
              "\n",
              "    .dataframe tbody tr th {\n",
              "        vertical-align: top;\n",
              "    }\n",
              "\n",
              "    .dataframe thead th {\n",
              "        text-align: right;\n",
              "    }\n",
              "</style>\n",
              "<table border=\"1\" class=\"dataframe\">\n",
              "  <thead>\n",
              "    <tr style=\"text-align: right;\">\n",
              "      <th></th>\n",
              "      <th>index</th>\n",
              "      <th>age</th>\n",
              "      <th>sex</th>\n",
              "      <th>bmi</th>\n",
              "      <th>children</th>\n",
              "      <th>smoker</th>\n",
              "      <th>region</th>\n",
              "    </tr>\n",
              "  </thead>\n",
              "  <tbody>\n",
              "    <tr>\n",
              "      <th>764</th>\n",
              "      <td>764</td>\n",
              "      <td>45</td>\n",
              "      <td>female</td>\n",
              "      <td>25.175</td>\n",
              "      <td>2</td>\n",
              "      <td>no</td>\n",
              "      <td>northeast</td>\n",
              "    </tr>\n",
              "    <tr>\n",
              "      <th>887</th>\n",
              "      <td>887</td>\n",
              "      <td>36</td>\n",
              "      <td>female</td>\n",
              "      <td>30.020</td>\n",
              "      <td>0</td>\n",
              "      <td>no</td>\n",
              "      <td>northwest</td>\n",
              "    </tr>\n",
              "    <tr>\n",
              "      <th>890</th>\n",
              "      <td>890</td>\n",
              "      <td>64</td>\n",
              "      <td>female</td>\n",
              "      <td>26.885</td>\n",
              "      <td>0</td>\n",
              "      <td>yes</td>\n",
              "      <td>northwest</td>\n",
              "    </tr>\n",
              "  </tbody>\n",
              "</table>\n",
              "</div>\n",
              "    <div class=\"colab-df-buttons\">\n",
              "\n",
              "  <div class=\"colab-df-container\">\n",
              "    <button class=\"colab-df-convert\" onclick=\"convertToInteractive('df-a8a2d61b-1d03-4697-8255-73e691f89980')\"\n",
              "            title=\"Convert this dataframe to an interactive table.\"\n",
              "            style=\"display:none;\">\n",
              "\n",
              "  <svg xmlns=\"http://www.w3.org/2000/svg\" height=\"24px\" viewBox=\"0 -960 960 960\">\n",
              "    <path d=\"M120-120v-720h720v720H120Zm60-500h600v-160H180v160Zm220 220h160v-160H400v160Zm0 220h160v-160H400v160ZM180-400h160v-160H180v160Zm440 0h160v-160H620v160ZM180-180h160v-160H180v160Zm440 0h160v-160H620v160Z\"/>\n",
              "  </svg>\n",
              "    </button>\n",
              "\n",
              "  <style>\n",
              "    .colab-df-container {\n",
              "      display:flex;\n",
              "      gap: 12px;\n",
              "    }\n",
              "\n",
              "    .colab-df-convert {\n",
              "      background-color: #E8F0FE;\n",
              "      border: none;\n",
              "      border-radius: 50%;\n",
              "      cursor: pointer;\n",
              "      display: none;\n",
              "      fill: #1967D2;\n",
              "      height: 32px;\n",
              "      padding: 0 0 0 0;\n",
              "      width: 32px;\n",
              "    }\n",
              "\n",
              "    .colab-df-convert:hover {\n",
              "      background-color: #E2EBFA;\n",
              "      box-shadow: 0px 1px 2px rgba(60, 64, 67, 0.3), 0px 1px 3px 1px rgba(60, 64, 67, 0.15);\n",
              "      fill: #174EA6;\n",
              "    }\n",
              "\n",
              "    .colab-df-buttons div {\n",
              "      margin-bottom: 4px;\n",
              "    }\n",
              "\n",
              "    [theme=dark] .colab-df-convert {\n",
              "      background-color: #3B4455;\n",
              "      fill: #D2E3FC;\n",
              "    }\n",
              "\n",
              "    [theme=dark] .colab-df-convert:hover {\n",
              "      background-color: #434B5C;\n",
              "      box-shadow: 0px 1px 3px 1px rgba(0, 0, 0, 0.15);\n",
              "      filter: drop-shadow(0px 1px 2px rgba(0, 0, 0, 0.3));\n",
              "      fill: #FFFFFF;\n",
              "    }\n",
              "  </style>\n",
              "\n",
              "    <script>\n",
              "      const buttonEl =\n",
              "        document.querySelector('#df-a8a2d61b-1d03-4697-8255-73e691f89980 button.colab-df-convert');\n",
              "      buttonEl.style.display =\n",
              "        google.colab.kernel.accessAllowed ? 'block' : 'none';\n",
              "\n",
              "      async function convertToInteractive(key) {\n",
              "        const element = document.querySelector('#df-a8a2d61b-1d03-4697-8255-73e691f89980');\n",
              "        const dataTable =\n",
              "          await google.colab.kernel.invokeFunction('convertToInteractive',\n",
              "                                                    [key], {});\n",
              "        if (!dataTable) return;\n",
              "\n",
              "        const docLinkHtml = 'Like what you see? Visit the ' +\n",
              "          '<a target=\"_blank\" href=https://colab.research.google.com/notebooks/data_table.ipynb>data table notebook</a>'\n",
              "          + ' to learn more about interactive tables.';\n",
              "        element.innerHTML = '';\n",
              "        dataTable['output_type'] = 'display_data';\n",
              "        await google.colab.output.renderOutput(dataTable, element);\n",
              "        const docLink = document.createElement('div');\n",
              "        docLink.innerHTML = docLinkHtml;\n",
              "        element.appendChild(docLink);\n",
              "      }\n",
              "    </script>\n",
              "  </div>\n",
              "\n",
              "\n",
              "<div id=\"df-430186e4-b010-45e6-8212-13a9dad116b8\">\n",
              "  <button class=\"colab-df-quickchart\" onclick=\"quickchart('df-430186e4-b010-45e6-8212-13a9dad116b8')\"\n",
              "            title=\"Suggest charts\"\n",
              "            style=\"display:none;\">\n",
              "\n",
              "<svg xmlns=\"http://www.w3.org/2000/svg\" height=\"24px\"viewBox=\"0 0 24 24\"\n",
              "     width=\"24px\">\n",
              "    <g>\n",
              "        <path d=\"M19 3H5c-1.1 0-2 .9-2 2v14c0 1.1.9 2 2 2h14c1.1 0 2-.9 2-2V5c0-1.1-.9-2-2-2zM9 17H7v-7h2v7zm4 0h-2V7h2v10zm4 0h-2v-4h2v4z\"/>\n",
              "    </g>\n",
              "</svg>\n",
              "  </button>\n",
              "\n",
              "<style>\n",
              "  .colab-df-quickchart {\n",
              "      --bg-color: #E8F0FE;\n",
              "      --fill-color: #1967D2;\n",
              "      --hover-bg-color: #E2EBFA;\n",
              "      --hover-fill-color: #174EA6;\n",
              "      --disabled-fill-color: #AAA;\n",
              "      --disabled-bg-color: #DDD;\n",
              "  }\n",
              "\n",
              "  [theme=dark] .colab-df-quickchart {\n",
              "      --bg-color: #3B4455;\n",
              "      --fill-color: #D2E3FC;\n",
              "      --hover-bg-color: #434B5C;\n",
              "      --hover-fill-color: #FFFFFF;\n",
              "      --disabled-bg-color: #3B4455;\n",
              "      --disabled-fill-color: #666;\n",
              "  }\n",
              "\n",
              "  .colab-df-quickchart {\n",
              "    background-color: var(--bg-color);\n",
              "    border: none;\n",
              "    border-radius: 50%;\n",
              "    cursor: pointer;\n",
              "    display: none;\n",
              "    fill: var(--fill-color);\n",
              "    height: 32px;\n",
              "    padding: 0;\n",
              "    width: 32px;\n",
              "  }\n",
              "\n",
              "  .colab-df-quickchart:hover {\n",
              "    background-color: var(--hover-bg-color);\n",
              "    box-shadow: 0 1px 2px rgba(60, 64, 67, 0.3), 0 1px 3px 1px rgba(60, 64, 67, 0.15);\n",
              "    fill: var(--button-hover-fill-color);\n",
              "  }\n",
              "\n",
              "  .colab-df-quickchart-complete:disabled,\n",
              "  .colab-df-quickchart-complete:disabled:hover {\n",
              "    background-color: var(--disabled-bg-color);\n",
              "    fill: var(--disabled-fill-color);\n",
              "    box-shadow: none;\n",
              "  }\n",
              "\n",
              "  .colab-df-spinner {\n",
              "    border: 2px solid var(--fill-color);\n",
              "    border-color: transparent;\n",
              "    border-bottom-color: var(--fill-color);\n",
              "    animation:\n",
              "      spin 1s steps(1) infinite;\n",
              "  }\n",
              "\n",
              "  @keyframes spin {\n",
              "    0% {\n",
              "      border-color: transparent;\n",
              "      border-bottom-color: var(--fill-color);\n",
              "      border-left-color: var(--fill-color);\n",
              "    }\n",
              "    20% {\n",
              "      border-color: transparent;\n",
              "      border-left-color: var(--fill-color);\n",
              "      border-top-color: var(--fill-color);\n",
              "    }\n",
              "    30% {\n",
              "      border-color: transparent;\n",
              "      border-left-color: var(--fill-color);\n",
              "      border-top-color: var(--fill-color);\n",
              "      border-right-color: var(--fill-color);\n",
              "    }\n",
              "    40% {\n",
              "      border-color: transparent;\n",
              "      border-right-color: var(--fill-color);\n",
              "      border-top-color: var(--fill-color);\n",
              "    }\n",
              "    60% {\n",
              "      border-color: transparent;\n",
              "      border-right-color: var(--fill-color);\n",
              "    }\n",
              "    80% {\n",
              "      border-color: transparent;\n",
              "      border-right-color: var(--fill-color);\n",
              "      border-bottom-color: var(--fill-color);\n",
              "    }\n",
              "    90% {\n",
              "      border-color: transparent;\n",
              "      border-bottom-color: var(--fill-color);\n",
              "    }\n",
              "  }\n",
              "</style>\n",
              "\n",
              "  <script>\n",
              "    async function quickchart(key) {\n",
              "      const quickchartButtonEl =\n",
              "        document.querySelector('#' + key + ' button');\n",
              "      quickchartButtonEl.disabled = true;  // To prevent multiple clicks.\n",
              "      quickchartButtonEl.classList.add('colab-df-spinner');\n",
              "      try {\n",
              "        const charts = await google.colab.kernel.invokeFunction(\n",
              "            'suggestCharts', [key], {});\n",
              "      } catch (error) {\n",
              "        console.error('Error during call to suggestCharts:', error);\n",
              "      }\n",
              "      quickchartButtonEl.classList.remove('colab-df-spinner');\n",
              "      quickchartButtonEl.classList.add('colab-df-quickchart-complete');\n",
              "    }\n",
              "    (() => {\n",
              "      let quickchartButtonEl =\n",
              "        document.querySelector('#df-430186e4-b010-45e6-8212-13a9dad116b8 button');\n",
              "      quickchartButtonEl.style.display =\n",
              "        google.colab.kernel.accessAllowed ? 'block' : 'none';\n",
              "    })();\n",
              "  </script>\n",
              "</div>\n",
              "    </div>\n",
              "  </div>\n"
            ],
            "application/vnd.google.colaboratory.intrinsic+json": {
              "type": "dataframe",
              "variable_name": "Xtest",
              "summary": "{\n  \"name\": \"Xtest\",\n  \"rows\": 268,\n  \"fields\": [\n    {\n      \"column\": \"index\",\n      \"properties\": {\n        \"dtype\": \"number\",\n        \"std\": 387,\n        \"min\": 23,\n        \"max\": 1327,\n        \"num_unique_values\": 268,\n        \"samples\": [\n          210,\n          1274,\n          513\n        ],\n        \"semantic_type\": \"\",\n        \"description\": \"\"\n      }\n    },\n    {\n      \"column\": \"age\",\n      \"properties\": {\n        \"dtype\": \"number\",\n        \"std\": 13,\n        \"min\": 18,\n        \"max\": 64,\n        \"num_unique_values\": 47,\n        \"samples\": [\n          33,\n          62,\n          59\n        ],\n        \"semantic_type\": \"\",\n        \"description\": \"\"\n      }\n    },\n    {\n      \"column\": \"sex\",\n      \"properties\": {\n        \"dtype\": \"category\",\n        \"num_unique_values\": 2,\n        \"samples\": [\n          \"male\",\n          \"female\"\n        ],\n        \"semantic_type\": \"\",\n        \"description\": \"\"\n      }\n    },\n    {\n      \"column\": \"bmi\",\n      \"properties\": {\n        \"dtype\": \"number\",\n        \"std\": 6.307050840899217,\n        \"min\": 16.815,\n        \"max\": 52.58,\n        \"num_unique_values\": 206,\n        \"samples\": [\n          38.94,\n          28.69\n        ],\n        \"semantic_type\": \"\",\n        \"description\": \"\"\n      }\n    },\n    {\n      \"column\": \"children\",\n      \"properties\": {\n        \"dtype\": \"number\",\n        \"std\": 1,\n        \"min\": 0,\n        \"max\": 5,\n        \"num_unique_values\": 6,\n        \"samples\": [\n          2,\n          0\n        ],\n        \"semantic_type\": \"\",\n        \"description\": \"\"\n      }\n    },\n    {\n      \"column\": \"smoker\",\n      \"properties\": {\n        \"dtype\": \"category\",\n        \"num_unique_values\": 2,\n        \"samples\": [\n          \"yes\",\n          \"no\"\n        ],\n        \"semantic_type\": \"\",\n        \"description\": \"\"\n      }\n    },\n    {\n      \"column\": \"region\",\n      \"properties\": {\n        \"dtype\": \"category\",\n        \"num_unique_values\": 4,\n        \"samples\": [\n          \"northwest\",\n          \"southeast\"\n        ],\n        \"semantic_type\": \"\",\n        \"description\": \"\"\n      }\n    }\n  ]\n}"
            }
          },
          "metadata": {},
          "execution_count": 60
        }
      ]
    },
    {
      "cell_type": "code",
      "source": [
        "# # Rearrange the columns in to numerical and categorical features\n",
        "Xtest = Xtest[['age', 'bmi', 'children','sex', 'smoker','region']]"
      ],
      "metadata": {
        "id": "Gul2169B1NNS"
      },
      "execution_count": 61,
      "outputs": []
    },
    {
      "cell_type": "code",
      "source": [
        "# Retrieve the values of a specific row (index 764) from the testing features dataset and convert them to a list\n",
        "Xtest.loc[764].tolist()"
      ],
      "metadata": {
        "id": "8Lqv_mP3igAN",
        "colab": {
          "base_uri": "https://localhost:8080/"
        },
        "outputId": "7a69c359-cc08-4187-bdc2-7eb131a1b218"
      },
      "execution_count": 62,
      "outputs": [
        {
          "output_type": "execute_result",
          "data": {
            "text/plain": [
              "[45, 25.175, 2, 'female', 'no', 'northeast']"
            ]
          },
          "metadata": {},
          "execution_count": 62
        }
      ]
    },
    {
      "cell_type": "code",
      "source": [
        "# Randomly sample 100 rows from the testing features dataset\n",
        "Xtest_sample = Xtest.sample(100)"
      ],
      "metadata": {
        "id": "J7GEWMhwjCdC"
      },
      "execution_count": 63,
      "outputs": []
    },
    {
      "cell_type": "code",
      "source": [
        "# Convert the sampled rows from the DataFrame to a list of tuples\n",
        "Xtest_sample_rows = list(Xtest_sample.itertuples(index=False, name=None))"
      ],
      "metadata": {
        "id": "UsC7wJJPjGhu"
      },
      "execution_count": 64,
      "outputs": []
    },
    {
      "cell_type": "code",
      "source": [
        "# Access the first tuple in the list of sampled rows\n",
        "Xtest_sample_rows[0]"
      ],
      "metadata": {
        "id": "4pgM6Xgtj3zj",
        "colab": {
          "base_uri": "https://localhost:8080/"
        },
        "outputId": "7fc3af17-d4f9-4e90-d1bc-f8bad9511d3f"
      },
      "execution_count": 65,
      "outputs": [
        {
          "output_type": "execute_result",
          "data": {
            "text/plain": [
              "(18, 26.125, 0, 'male', 'no', 'northeast')"
            ]
          },
          "metadata": {},
          "execution_count": 65
        }
      ]
    },
    {
      "cell_type": "markdown",
      "source": [
        "## Inference"
      ],
      "metadata": {
        "id": "R76BjqoEiQZp"
      }
    },
    {
      "cell_type": "code",
      "source": [
        "# Create a Gradio client instance for the specified Gradio interface\n",
        "client = Client(\"mayankchugh-learning/insurance-cost\")"
      ],
      "metadata": {
        "id": "DmLUATIshX8x",
        "colab": {
          "base_uri": "https://localhost:8080/"
        },
        "outputId": "071004ce-810e-474c-a182-03932c3af0e3"
      },
      "execution_count": 66,
      "outputs": [
        {
          "output_type": "stream",
          "name": "stdout",
          "text": [
            "Loaded as API: https://mayankchugh-learning-insurance-cost.hf.space ✔\n"
          ]
        }
      ]
    },
    {
      "cell_type": "markdown",
      "source": [
        "## Online/Real time"
      ],
      "metadata": {
        "id": "LlNyuobOk-Nz"
      }
    },
    {
      "cell_type": "code",
      "source": [
        "# Submit a single data point prediction request to the Gradio interface\n",
        "job = client.predict(\n",
        "    age=33,\n",
        "    bmi=32.90,\n",
        "    children=1,\n",
        "    sex=\"male\",\n",
        "    smoker=\"no\",\n",
        "    region=\"southhwest\",\n",
        "    api_name=\"/predict\"\n",
        ")\n"
      ],
      "metadata": {
        "id": "QMm_APOdQvfb"
      },
      "execution_count": 67,
      "outputs": []
    },
    {
      "cell_type": "code",
      "source": [
        "# Print the result of the prediction job\n",
        "print(job)"
      ],
      "metadata": {
        "colab": {
          "base_uri": "https://localhost:8080/"
        },
        "id": "iIGws-7FQ2nt",
        "outputId": "bc8c7fda-edae-44a1-f977-add683a4cc4c"
      },
      "execution_count": 68,
      "outputs": [
        {
          "output_type": "stream",
          "name": "stdout",
          "text": [
            "{'label': '7586.43', 'confidences': None}\n"
          ]
        }
      ]
    },
    {
      "cell_type": "code",
      "source": [
        "# Submit a single data point prediction request to the Gradio interface\n",
        "job = client.predict(\n",
        "    age=35,\n",
        "    bmi=32,\n",
        "    children=3,\n",
        "    sex=\"female\",\n",
        "    smoker=\"yes\",\n",
        "    region=\"northwest\",\n",
        "    api_name=\"/predict\"\n",
        ")\n"
      ],
      "metadata": {
        "id": "zwCtvdcqkIG2"
      },
      "execution_count": 69,
      "outputs": []
    },
    {
      "cell_type": "code",
      "source": [
        "# Print the result of the prediction job\n",
        "print(job)"
      ],
      "metadata": {
        "id": "iXPyA3WYkvII",
        "colab": {
          "base_uri": "https://localhost:8080/"
        },
        "outputId": "ddae212f-4083-4322-f5b9-2a819cc65af5"
      },
      "execution_count": 70,
      "outputs": [
        {
          "output_type": "stream",
          "name": "stdout",
          "text": [
            "{'label': '32406.18', 'confidences': None}\n"
          ]
        }
      ]
    },
    {
      "cell_type": "markdown",
      "source": [
        "## Batch"
      ],
      "metadata": {
        "id": "iDORkOkBlNTf"
      }
    },
    {
      "cell_type": "code",
      "source": [
        "# Initialize an empty list to store batch predictions\n",
        "batch_predictions = []"
      ],
      "metadata": {
        "id": "0xGAU0EelVnV"
      },
      "execution_count": 71,
      "outputs": []
    },
    {
      "cell_type": "code",
      "source": [
        "# Iterate through the sampled rows and submit prediction requests to the Gradio interface\n",
        "# Store the results in batch_predictions list\n",
        "for row in tqdm(Xtest_sample_rows):\n",
        "    try:\n",
        "        # Submit a prediction request for the current row\n",
        "        job = client.submit(\n",
        "            age=row[0],\n",
        "            bmi=row[1],\n",
        "            children=row[2],\n",
        "            sex=row[3],\n",
        "            smoker=row[4],\n",
        "            region=row[5],\n",
        "            api_name=\"/predict\"\n",
        "        )\n",
        "\n",
        "        # Wait for the job to complete and get the result\n",
        "        prediction = job.result()['label']\n",
        "        # Append the prediction result to batch_predictions\n",
        "        batch_predictions.append(int(round(float(prediction))))\n",
        "\n",
        "        # Sleep for 1 second before processing the next row\n",
        "        time.sleep(1)\n",
        "\n",
        "    except Exception as e:\n",
        "        # Print any exceptions that occur during the prediction\n",
        "        print(e)\n"
      ],
      "metadata": {
        "id": "0kYU2lspj_h2",
        "colab": {
          "base_uri": "https://localhost:8080/"
        },
        "outputId": "bf423f3a-6f7a-4b82-e0d7-1f772a46199e"
      },
      "execution_count": 72,
      "outputs": [
        {
          "output_type": "stream",
          "name": "stderr",
          "text": [
            "100%|██████████| 100/100 [02:56<00:00,  1.77s/it]\n"
          ]
        }
      ]
    },
    {
      "cell_type": "code",
      "source": [
        "# Display the first 10 predictions from the batch_predictions list\n",
        "batch_predictions[0:10]"
      ],
      "metadata": {
        "id": "rZu_UaAznHS2",
        "colab": {
          "base_uri": "https://localhost:8080/"
        },
        "outputId": "a05d08e4-c8b8-48b7-d427-2d06bc742f5c"
      },
      "execution_count": 73,
      "outputs": [
        {
          "output_type": "execute_result",
          "data": {
            "text/plain": [
              "[1482, 5450, 5619, 4575, 9668, 11123, 10160, 14143, 11563, 39062]"
            ]
          },
          "metadata": {},
          "execution_count": 73
        }
      ]
    },
    {
      "cell_type": "markdown",
      "source": [
        "# Unit Testing"
      ],
      "metadata": {
        "id": "zP1JzlQMSTg6"
      }
    },
    {
      "cell_type": "markdown",
      "source": [
        "## Setup"
      ],
      "metadata": {
        "id": "jEVa0FtsSGhm"
      }
    },
    {
      "cell_type": "code",
      "execution_count": 74,
      "metadata": {
        "id": "tIQG_KE1RS6Z"
      },
      "outputs": [],
      "source": [
        "# Install the gradio_client package silently using pip\n",
        "!pip install -q gradio_client"
      ]
    },
    {
      "cell_type": "code",
      "source": [
        "# Import necessary libraries\n",
        "from gradio_client import Client  # Import the Gradio client for interacting with Gradio interfaces\n",
        "from sklearn.model_selection import train_test_split  # Import train_test_split for splitting datasets\n",
        "from tqdm import tqdm  # Import tqdm for progress bars\n",
        "from sklearn.metrics import mean_squared_error, r2_score"
      ],
      "metadata": {
        "id": "doHAgE2LRiQz"
      },
      "execution_count": 75,
      "outputs": []
    },
    {
      "cell_type": "code",
      "source": [
        "# Create a Gradio client instance for the specified Gradio interface\n",
        "client = Client(\"mayankchugh-learning/insurance-cost\")"
      ],
      "metadata": {
        "id": "OpABIcusRvEa",
        "colab": {
          "base_uri": "https://localhost:8080/"
        },
        "outputId": "5101067e-e8f8-4cd1-c096-70e9c77d0a6e"
      },
      "execution_count": 76,
      "outputs": [
        {
          "output_type": "stream",
          "name": "stdout",
          "text": [
            "Loaded as API: https://mayankchugh-learning-insurance-cost.hf.space ✔\n"
          ]
        }
      ]
    },
    {
      "cell_type": "markdown",
      "source": [
        "## Baseline Checks"
      ],
      "metadata": {
        "id": "OHo1oI7KVzYb"
      }
    },
    {
      "cell_type": "markdown",
      "source": [
        "Test Data"
      ],
      "metadata": {
        "id": "EKUB01C0WAyj"
      }
    },
    {
      "cell_type": "code",
      "source": [
        "import pandas as pd  # Import pandas for data manipulation\n",
        "from sklearn.model_selection import train_test_split  # Import train_test_split for splitting datasets\n",
        "\n",
        "# Read the dataset from the CSV file into a DataFrame\n",
        "data_df = pd.read_csv(\"insurance.csv\")\n",
        "\n",
        "# Define the target variable and features\n",
        "# Define the target variable\n",
        "target = 'charges'\n",
        "\n",
        "# Define the numeric features used for modeling\n",
        "numeric_features = ['age', 'bmi', 'children']\n",
        "\n",
        "# Define the categorical features used for modeling\n",
        "categorical_features = ['sex', 'smoker','region']\n",
        "\n",
        "# Display a message indicating the creation of data subsets\n",
        "print(\"data subsets are being created\")\n",
        "\n",
        "# Create feature matrix (X) and target vector (y)\n",
        "X = data_df.drop('charges', axis=1)\n",
        "y = data_df['charges']\n",
        "\n",
        "\n",
        "# Split the dataset into training and testing sets\n",
        "Xtrain, Xtest, ytrain, ytest = train_test_split(\n",
        "    X, y,\n",
        "    test_size=0.2,\n",
        "    random_state=42\n",
        ")\n",
        "\n",
        "# Rearrange the columns in to numerical and categorical features\n",
        "Xtest = Xtest[['age', 'bmi', 'children', 'sex', 'smoker','region']]\n",
        "\n",
        "\n",
        "# Randomly sample 100 rows from the testing features dataset\n",
        "Xtest_sample = Xtest.sample(100)\n",
        "ytest_sample = ytest.loc[Xtest_sample.index]\n",
        "\n",
        "# Convert the sampled rows from the DataFrame to a list of tuples\n",
        "Xtest_sample_rows = list(Xtest_sample.itertuples(index=False, name=None))"
      ],
      "metadata": {
        "id": "VCzBR-eMWC2W",
        "colab": {
          "base_uri": "https://localhost:8080/"
        },
        "outputId": "8fdb1019-10f7-4d55-a5ae-7819e70cb203"
      },
      "execution_count": 77,
      "outputs": [
        {
          "output_type": "stream",
          "name": "stdout",
          "text": [
            "data subsets are being created\n"
          ]
        }
      ]
    },
    {
      "cell_type": "code",
      "source": [
        "Xtest_sample_rows"
      ],
      "metadata": {
        "colab": {
          "base_uri": "https://localhost:8080/"
        },
        "id": "Au_cJBLYQ0V9",
        "outputId": "ef807161-e623-417e-a946-e66cbbd0f485"
      },
      "execution_count": 78,
      "outputs": [
        {
          "output_type": "execute_result",
          "data": {
            "text/plain": [
              "[(18, 26.125, 0, 'male', 'no', 'northeast'),\n",
              " (23, 36.67, 2, 'female', 'yes', 'northeast'),\n",
              " (33, 35.245, 0, 'male', 'no', 'northeast'),\n",
              " (64, 40.48, 0, 'male', 'no', 'southeast'),\n",
              " (21, 35.72, 0, 'female', 'no', 'northwest'),\n",
              " (63, 27.74, 0, 'female', 'yes', 'northeast'),\n",
              " (60, 40.92, 0, 'male', 'yes', 'southeast'),\n",
              " (29, 29.59, 1, 'female', 'no', 'southeast'),\n",
              " (19, 33.11, 0, 'female', 'yes', 'southeast'),\n",
              " (57, 23.18, 0, 'female', 'no', 'northwest'),\n",
              " (46, 32.3, 2, 'female', 'no', 'northeast'),\n",
              " (41, 33.06, 2, 'female', 'no', 'northwest'),\n",
              " (35, 30.5, 1, 'male', 'no', 'southwest'),\n",
              " (19, 17.48, 0, 'male', 'no', 'northwest'),\n",
              " (38, 37.05, 1, 'male', 'no', 'northeast'),\n",
              " (64, 37.905, 0, 'male', 'no', 'northwest'),\n",
              " (43, 26.885, 0, 'female', 'yes', 'northwest'),\n",
              " (19, 33.1, 0, 'male', 'no', 'southwest'),\n",
              " (22, 33.77, 0, 'male', 'no', 'southeast'),\n",
              " (32, 17.765, 2, 'female', 'yes', 'northwest'),\n",
              " (18, 29.37, 1, 'male', 'no', 'southeast'),\n",
              " (44, 31.35, 1, 'male', 'yes', 'northeast'),\n",
              " (54, 32.68, 0, 'female', 'no', 'northeast'),\n",
              " (49, 25.6, 2, 'male', 'yes', 'southwest'),\n",
              " (43, 38.06, 2, 'male', 'yes', 'southeast'),\n",
              " (19, 31.825, 1, 'female', 'no', 'northwest'),\n",
              " (34, 31.92, 1, 'female', 'yes', 'northeast'),\n",
              " (19, 22.515, 0, 'female', 'no', 'northwest'),\n",
              " (49, 28.69, 3, 'male', 'no', 'northwest'),\n",
              " (46, 48.07, 2, 'female', 'no', 'northeast'),\n",
              " (25, 22.515, 1, 'female', 'no', 'northwest'),\n",
              " (29, 24.6, 2, 'female', 'no', 'southwest'),\n",
              " (22, 32.11, 0, 'male', 'no', 'northwest'),\n",
              " (21, 36.85, 0, 'male', 'no', 'southeast'),\n",
              " (47, 25.41, 1, 'male', 'yes', 'southeast'),\n",
              " (43, 35.97, 3, 'male', 'yes', 'southeast'),\n",
              " (28, 17.29, 0, 'female', 'no', 'northeast'),\n",
              " (30, 24.4, 3, 'male', 'yes', 'southwest'),\n",
              " (36, 30.02, 0, 'female', 'no', 'northwest'),\n",
              " (52, 30.875, 0, 'female', 'no', 'northeast'),\n",
              " (41, 40.26, 0, 'male', 'no', 'southeast'),\n",
              " (43, 26.7, 2, 'female', 'yes', 'southwest'),\n",
              " (34, 33.25, 1, 'female', 'no', 'northeast'),\n",
              " (55, 32.775, 0, 'male', 'no', 'northwest'),\n",
              " (53, 33.25, 0, 'female', 'no', 'northeast'),\n",
              " (31, 25.935, 1, 'male', 'no', 'northwest'),\n",
              " (63, 37.7, 0, 'female', 'yes', 'southwest'),\n",
              " (59, 37.1, 1, 'male', 'no', 'southwest'),\n",
              " (35, 34.21, 1, 'female', 'no', 'southeast'),\n",
              " (25, 24.3, 3, 'female', 'no', 'southwest'),\n",
              " (43, 27.8, 0, 'male', 'yes', 'southwest'),\n",
              " (30, 23.655, 3, 'female', 'yes', 'northwest'),\n",
              " (21, 16.815, 1, 'female', 'no', 'northeast'),\n",
              " (26, 22.23, 0, 'female', 'no', 'northwest'),\n",
              " (30, 19.95, 3, 'female', 'no', 'northwest'),\n",
              " (51, 34.2, 1, 'female', 'no', 'southwest'),\n",
              " (44, 39.52, 0, 'male', 'no', 'northwest'),\n",
              " (27, 24.75, 0, 'female', 'yes', 'southeast'),\n",
              " (43, 32.6, 2, 'male', 'no', 'southwest'),\n",
              " (28, 27.5, 2, 'female', 'no', 'southwest'),\n",
              " (31, 30.495, 3, 'female', 'no', 'northeast'),\n",
              " (59, 27.5, 1, 'male', 'no', 'southwest'),\n",
              " (30, 44.22, 2, 'male', 'no', 'southeast'),\n",
              " (53, 36.86, 3, 'female', 'yes', 'northwest'),\n",
              " (19, 28.6, 5, 'female', 'no', 'southwest'),\n",
              " (20, 29.6, 0, 'female', 'no', 'southwest'),\n",
              " (54, 47.41, 0, 'female', 'yes', 'southeast'),\n",
              " (28, 31.68, 0, 'male', 'yes', 'southeast'),\n",
              " (47, 29.37, 1, 'female', 'no', 'southeast'),\n",
              " (47, 38.94, 2, 'male', 'yes', 'southeast'),\n",
              " (41, 32.2, 2, 'male', 'no', 'southwest'),\n",
              " (58, 32.395, 1, 'female', 'no', 'northeast'),\n",
              " (48, 40.15, 0, 'male', 'no', 'southeast'),\n",
              " (49, 22.515, 0, 'male', 'no', 'northeast'),\n",
              " (51, 33.915, 0, 'female', 'no', 'northeast'),\n",
              " (22, 23.18, 0, 'female', 'no', 'northeast'),\n",
              " (40, 41.42, 1, 'female', 'no', 'northwest'),\n",
              " (63, 31.8, 0, 'female', 'no', 'southwest'),\n",
              " (23, 27.36, 1, 'male', 'no', 'northwest'),\n",
              " (20, 26.84, 1, 'female', 'yes', 'southeast'),\n",
              " (23, 37.1, 3, 'male', 'no', 'southwest'),\n",
              " (28, 25.8, 0, 'female', 'no', 'southwest'),\n",
              " (18, 29.165, 0, 'female', 'no', 'northeast'),\n",
              " (22, 39.805, 0, 'female', 'no', 'northeast'),\n",
              " (32, 28.93, 1, 'male', 'yes', 'southeast'),\n",
              " (40, 24.97, 2, 'male', 'no', 'southeast'),\n",
              " (30, 25.46, 0, 'male', 'no', 'northeast'),\n",
              " (62, 38.83, 0, 'male', 'no', 'southeast'),\n",
              " (26, 30.0, 1, 'male', 'no', 'southwest'),\n",
              " (40, 28.69, 3, 'female', 'no', 'northwest'),\n",
              " (25, 20.8, 1, 'female', 'no', 'southwest'),\n",
              " (43, 30.685, 2, 'female', 'no', 'northwest'),\n",
              " (19, 27.265, 2, 'male', 'no', 'northwest'),\n",
              " (49, 42.68, 2, 'female', 'no', 'southeast'),\n",
              " (52, 27.36, 0, 'male', 'yes', 'northwest'),\n",
              " (42, 30.0, 0, 'male', 'yes', 'southwest'),\n",
              " (41, 34.2, 2, 'male', 'no', 'northwest'),\n",
              " (49, 29.83, 1, 'male', 'no', 'northeast'),\n",
              " (20, 33.33, 0, 'male', 'no', 'southeast'),\n",
              " (50, 31.825, 0, 'male', 'yes', 'northeast')]"
            ]
          },
          "metadata": {},
          "execution_count": 78
        }
      ]
    },
    {
      "cell_type": "markdown",
      "source": [
        "Predictions on the test data"
      ],
      "metadata": {
        "id": "mhF9vyYc_g7x"
      }
    },
    {
      "cell_type": "code",
      "source": [
        "# Initialize an empty list to store baseline test predictions\n",
        "baseline_test_predictions = []\n",
        "\n",
        "# Iterate through the sampled rows and submit prediction requests to the Gradio interface\n",
        "for row in tqdm(Xtest_sample_rows):\n",
        "    try:\n",
        "        # Submit a prediction request for the current row\n",
        "        job = client.submit(\n",
        "            age=row[0],\n",
        "            bmi=row[1],\n",
        "            children=row[2],\n",
        "            sex=row[3],\n",
        "            smoker=row[4],\n",
        "            region=row[5],\n",
        "            api_name=\"/predict\"\n",
        "        )\n",
        "\n",
        "        # Get the prediction result and append it to baseline_test_predictions\n",
        "        prediction = job.result()['label']\n",
        "        baseline_test_predictions.append(int(round(float(prediction))))\n",
        "        # baseline_test_predictions.append(int(prediction))\n",
        "\n",
        "    except Exception as e:\n",
        "        # Print any exceptions that occur during prediction\n",
        "        print(e)"
      ],
      "metadata": {
        "id": "q8ZKCrLI8ojC",
        "colab": {
          "base_uri": "https://localhost:8080/"
        },
        "outputId": "d0181242-dd64-4ccf-ff8e-1a903658e579"
      },
      "execution_count": 79,
      "outputs": [
        {
          "output_type": "stream",
          "name": "stderr",
          "text": [
            "100%|██████████| 100/100 [01:19<00:00,  1.25it/s]\n"
          ]
        }
      ]
    },
    {
      "cell_type": "markdown",
      "source": [
        "Estimation of accuracy on the test sample. use RMSE and R-squared to measure the performance of the model"
      ],
      "metadata": {
        "id": "QCoDzuji_imC"
      }
    },
    {
      "cell_type": "code",
      "source": [
        "print(f\"RMSE: {mean_squared_error(ytest_sample, baseline_test_predictions, squared=False)}\")"
      ],
      "metadata": {
        "id": "00rW-LbEBxJC",
        "colab": {
          "base_uri": "https://localhost:8080/"
        },
        "outputId": "b331c93b-6865-4967-94bd-ad4e22799f12"
      },
      "execution_count": 80,
      "outputs": [
        {
          "output_type": "stream",
          "name": "stdout",
          "text": [
            "RMSE: 6522.2574186588445\n"
          ]
        }
      ]
    },
    {
      "cell_type": "code",
      "source": [
        "print(f\"R-squared: {r2_score(ytest_sample, baseline_test_predictions)}\")"
      ],
      "metadata": {
        "id": "konWIsg7Jw9u",
        "colab": {
          "base_uri": "https://localhost:8080/"
        },
        "outputId": "58f5a289-dd7b-45de-f485-488d62add8e8"
      },
      "execution_count": 81,
      "outputs": [
        {
          "output_type": "stream",
          "name": "stdout",
          "text": [
            "R-squared: 0.7744136357616855\n"
          ]
        }
      ]
    },
    {
      "cell_type": "markdown",
      "source": [
        "If the Mean Absolute Error (MAE) or Root Mean Square Error (RMSE) is lower than the existing baseline (human or a previous model version), we move on to unit tests."
      ],
      "metadata": {
        "id": "aBtvtTxqCAsg"
      }
    },
    {
      "cell_type": "markdown",
      "source": [
        "## Unit Tests"
      ],
      "metadata": {
        "id": "UYQ9dFH1Sifk"
      }
    },
    {
      "cell_type": "markdown",
      "source": [
        "### Perturbation tests"
      ],
      "metadata": {
        "id": "9ODYyMxQSset"
      }
    },
    {
      "cell_type": "markdown",
      "source": [
        "*Baseline*"
      ],
      "metadata": {
        "id": "XwyF7v1AUNAJ"
      }
    },
    {
      "cell_type": "code",
      "source": [
        "# Submit a prediction request to the Gradio interface with the given input values\n",
        "job = client.submit(\n",
        "    age=35,\n",
        "    bmi=32,\n",
        "    children=3,\n",
        "    sex=\"female\",\n",
        "    smoker=\"yes\",\n",
        "    region=\"northwest\",\n",
        "    api_name=\"/predict\"\n",
        ")"
      ],
      "metadata": {
        "id": "OnTktOwFRyJC"
      },
      "execution_count": 82,
      "outputs": []
    },
    {
      "cell_type": "code",
      "source": [
        "print(job.result()['label'])"
      ],
      "metadata": {
        "id": "RTGtOIptR2rr",
        "colab": {
          "base_uri": "https://localhost:8080/"
        },
        "outputId": "436b27c3-fc65-485e-cc30-ef391097b3cd"
      },
      "execution_count": 83,
      "outputs": [
        {
          "output_type": "stream",
          "name": "stdout",
          "text": [
            "32406.18\n"
          ]
        }
      ]
    },
    {
      "cell_type": "markdown",
      "source": [
        "*Test (perturbed baseline)*"
      ],
      "metadata": {
        "id": "g_N9bnY1UUug"
      }
    },
    {
      "cell_type": "code",
      "source": [
        "job = client.submit(\n",
        "    age=33,\n",
        "    bmi=32.90,\n",
        "    children=1,\n",
        "    sex=\"male\",\n",
        "    smoker=\"no\",\n",
        "    region=\"southhwest\",\n",
        "    api_name=\"/predict\"\n",
        ")"
      ],
      "metadata": {
        "id": "797YohbXUWLe"
      },
      "execution_count": 84,
      "outputs": []
    },
    {
      "cell_type": "code",
      "source": [
        "print(job.result()['label'])"
      ],
      "metadata": {
        "id": "dsSSrjx7UZDE",
        "colab": {
          "base_uri": "https://localhost:8080/"
        },
        "outputId": "02ae4828-fc92-4e9a-b077-930ac8c94391"
      },
      "execution_count": 85,
      "outputs": [
        {
          "output_type": "stream",
          "name": "stdout",
          "text": [
            "7586.43\n"
          ]
        }
      ]
    },
    {
      "cell_type": "markdown",
      "source": [
        "### Known edge-cases (criticial subgroups)"
      ],
      "metadata": {
        "id": "jJncHf4GUg0k"
      }
    },
    {
      "cell_type": "markdown",
      "source": [
        "In this scenario, a known edge case is that when a person is smoker , the insurance charge should be high. Let us see if the model can recognize this state."
      ],
      "metadata": {
        "id": "QL375h4NC7Ut"
      }
    },
    {
      "cell_type": "code",
      "source": [
        "job = client.submit(\n",
        "    age=65,\n",
        "    bmi=48.90,\n",
        "    children=5,\n",
        "    sex=\"male\",\n",
        "    smoker=\"yes\",\n",
        "    region=\"southwest\"\n",
        ")"
      ],
      "metadata": {
        "id": "kmHUHwvNU0aX"
      },
      "execution_count": 86,
      "outputs": []
    },
    {
      "cell_type": "code",
      "source": [
        "print(job.result()['label'])"
      ],
      "metadata": {
        "id": "9uNLOqyVU7ND",
        "colab": {
          "base_uri": "https://localhost:8080/"
        },
        "outputId": "7ff9cf2b-f09d-40c9-83f4-9b15c6a3f8e2"
      },
      "execution_count": 87,
      "outputs": [
        {
          "output_type": "stream",
          "name": "stdout",
          "text": [
            "46205.16\n"
          ]
        }
      ]
    },
    {
      "cell_type": "markdown",
      "source": [
        "If the unit tests pass, the model is ready to be tagged for release to staging and production."
      ],
      "metadata": {
        "id": "_tVEv4avDKof"
      }
    },
    {
      "cell_type": "code",
      "source": [
        "# @title Unit Test Interface\n",
        "age=33 # @param\n",
        "bmi=39 # @param\n",
        "children=3 # @param\n",
        "sex=\"male\" # @param ['male', 'female']\n",
        "smoker=\"yes\" # @param ['yes', 'no']\n",
        "region=\"southeast\" # @param ['southwest', 'southeast', 'northwest', 'northeast']\n",
        "\n",
        "job = client.submit(\n",
        "      age = age,\n",
        "      bmi = bmi,\n",
        "      children = children,\n",
        "      sex = sex,\n",
        "      smoker = smoker,\n",
        "      region = region,\n",
        "    api_name=\"/predict\"\n",
        ")\n",
        "\n",
        "charges = job.result()['label']\n",
        "print(f\"customer charges?: {charges}\")"
      ],
      "metadata": {
        "colab": {
          "base_uri": "https://localhost:8080/"
        },
        "cellView": "form",
        "id": "UgsJJUakC417",
        "outputId": "3af45ea5-f68b-483b-f540-b9251f8ada33"
      },
      "execution_count": 88,
      "outputs": [
        {
          "output_type": "stream",
          "name": "stdout",
          "text": [
            "customer charges?: 33946.1\n"
          ]
        }
      ]
    },
    {
      "cell_type": "markdown",
      "source": [
        "# Identify the driftness in model and data"
      ],
      "metadata": {
        "id": "Hb23BIvtG2mX"
      }
    },
    {
      "cell_type": "markdown",
      "source": [
        "## Setup"
      ],
      "metadata": {
        "id": "BbniRN4uHJm8"
      }
    },
    {
      "cell_type": "code",
      "source": [
        "# !pip install -q datasets\n",
        "!pip install -q datasets"
      ],
      "metadata": {
        "id": "XL3gZp3-HLm_"
      },
      "execution_count": 89,
      "outputs": []
    },
    {
      "cell_type": "code",
      "execution_count": 90,
      "metadata": {
        "id": "XouCDxIAGM02"
      },
      "outputs": [],
      "source": [
        "# import the required libraries\n",
        "import math  # Import the math module for mathematical functions\n",
        "import pandas as pd  # Import pandas for data manipulation\n",
        "\n",
        "import matplotlib.pyplot as plt  # Import matplotlib for plotting\n",
        "import seaborn as sns  # Import seaborn for visualization enhancements\n",
        "\n",
        "from datasets import load_dataset  # Import load_dataset function from datasets module\n",
        "\n",
        "from sklearn.model_selection import train_test_split  # Import train_test_split for splitting datasets\n",
        "from sklearn.metrics import mean_squared_error, r2_score"
      ]
    },
    {
      "cell_type": "code",
      "source": [
        "# Set the context for seaborn plots\n",
        "sns.set_context('talk')"
      ],
      "metadata": {
        "id": "54JSlfoWISSu"
      },
      "execution_count": 91,
      "outputs": []
    },
    {
      "cell_type": "markdown",
      "source": [
        "## Monitoring Setup"
      ],
      "metadata": {
        "id": "Jgp0N6GvKo93"
      }
    },
    {
      "cell_type": "markdown",
      "source": [
        "## Access Training Data"
      ],
      "metadata": {
        "id": "l5U9dw9MH2ut"
      }
    },
    {
      "cell_type": "code",
      "source": [
        "# Read the insurance dataset from a CSV file into a DataFrame\n",
        "data_df = pd.read_csv(\"insurance.csv\")\n",
        "\n",
        "# Define the target variable\n",
        "target = 'charges'\n",
        "\n",
        "# Define the numeric features used for modeling\n",
        "numeric_features = ['age', 'bmi', 'children']\n",
        "\n",
        "# Define the categorical features used for modeling\n",
        "categorical_features = ['sex', 'smoker','region']\n",
        "\n",
        "# Display a message indicating the creation of data subsets\n",
        "print(\"data subsets are being created\")\n",
        "\n",
        "# Create feature matrix (X) and target vector (y)\n",
        "X = data_df.drop('charges', axis=1)\n",
        "y = data_df['charges']\n",
        "\n",
        "# Split the dataset into training and testing sets\n",
        "Xtrain, Xtest, ytrain, ytest = train_test_split(\n",
        "    X, y,\n",
        "    test_size=0.2,\n",
        "    random_state=42\n",
        ")\n",
        "\n",
        "# Rearrange the columns in to numerical and categorical features\n",
        "Xtest = Xtest[['age', 'bmi', 'children', 'sex', 'smoker','region']]"
      ],
      "metadata": {
        "id": "e0c2oV_9H4BB",
        "colab": {
          "base_uri": "https://localhost:8080/"
        },
        "outputId": "bd1b413b-aeff-45b8-cbb5-84959a7a158a"
      },
      "execution_count": 92,
      "outputs": [
        {
          "output_type": "stream",
          "name": "stdout",
          "text": [
            "data subsets are being created\n"
          ]
        }
      ]
    },
    {
      "cell_type": "markdown",
      "source": [
        "## Access Logs"
      ],
      "metadata": {
        "id": "YyFnWVYjHSoV"
      }
    },
    {
      "cell_type": "markdown",
      "source": [
        "We connect to the dataset of all the production logs and extract a 30% random sample to execute the monitoring workflow."
      ],
      "metadata": {
        "id": "eXg9Xnx0HiLt"
      }
    },
    {
      "cell_type": "code",
      "source": [
        "prediction_logs = load_dataset(\"mayankchugh-learning/insurance-charge-mlops-logs\")"
      ],
      "metadata": {
        "id": "bR3gvxS3HT5D",
        "colab": {
          "base_uri": "https://localhost:8080/",
          "height": 177,
          "referenced_widgets": [
            "fe09b6bb85c248c4a4c9e31561747eac",
            "bab128e86cf24b36ab8b814b760b8d01",
            "9d3f3817a9c045258dea9381206c593a",
            "703557bd866641d9957fcccf97241619",
            "19e7701eccca4cbc8526f70350d86113",
            "f0d9a66ecef24ffa8c3e2ddebf2d6bcf",
            "96d62c4ace014637a51941482d27d4d9",
            "05eb752cdcdf4047b410e9403f3ae889",
            "7094f02a9f394bc68c735bc83a6502ee",
            "a8d063cd26d34fb9b23dd492cbcc90f3",
            "705d234cb4bd4d6cb9e22b93e6fd4774",
            "cce6bee263fd4507869fcd20ea6c1f2c",
            "c068d4ea0119479eb18a7f566b3dca18",
            "48c185b287ff4153b6573c8f4be629e0",
            "6ae637431fe04ef5a3ae262b04179e06",
            "e8d421ea6e584e1a9f1014c06f9d0983",
            "2f55ad2446ed4f3aa496126fe4769e50",
            "a530ca72121544ffad883cb2c0db7a02",
            "db118d4151324e20a8e4058fab0180d4",
            "edf464edae94460bba16cc87a4b2e0e2",
            "a42024cda1514926b750d5d2a6e12d45",
            "42723e8cf33042fc80304c237b8b11d1",
            "738d7eed132e483aa54f94feb810b8e0",
            "bcdc01679d5947fdad69e2516d2a169f",
            "0c478b0b317143c08a9a2546eaaf1ebf",
            "2301c3611dbb467dbc85fc0d8bd309bd",
            "dbf6970e689a422880961c772d05b478",
            "29758ff47477438fb17bd8666271b1d9",
            "eab0f6322fcf4a27ab45893416b8e0cc",
            "d5255d0ca65b42a5ba4fb1517212ea2a",
            "f8e12f050ec54c94ac5219c6e92c22e2",
            "77fb136cc72045d69425f0b641b4c930",
            "b375ba5253094ede93871c2b2beb1de4",
            "d6bede6f19f0408eaf470fd13c1d55d3",
            "f9d3c8b0852440e890df4c5fb4abe113",
            "528dacab802449debbfa3366a08161c7",
            "58854796151647ef9835b73463b2a27b",
            "535910c3c87d4199a919ebd0d94d5fb6",
            "2e1c0f3371094a2fa13f18edc5daa89f",
            "131af9b423964ee78ef70a2d5d547e49",
            "a70fa34682f7437191c682dcdf788ed8",
            "7746499487304645ad07f434e0e8ae1c",
            "b97e1d470fbe41e49326159ac1508f06",
            "5b3d9cfa48e44e968d3e50edf18ea5d5",
            "e6b7f5cdcafd4d689922c98c46ffc489",
            "158f447f7cbe47d6bf950a5afe3eda76",
            "88e3427878c74315a96bfb5007751019",
            "8cf043d4d6534587b6dbc026da2554ce",
            "d487f2bc0a32400bb9982f92e13ccb33",
            "00aa5be4c1a14c20bf72f05cc34a89c5",
            "fdfb22710de3422aa98d14fe05377b17",
            "a9a784255b4242c396ec071d7aa0ba2d",
            "dcc4a1bd14a949c4a369c9b808554a71",
            "2c1add083fdc4728bda8e047a5fbeac2",
            "fab6ead9017f474b9969a1a9b28f3894"
          ]
        },
        "outputId": "e9352365-47f3-4265-9ace-d2a39376e41c"
      },
      "execution_count": 93,
      "outputs": [
        {
          "output_type": "display_data",
          "data": {
            "text/plain": [
              "Downloading readme:   0%|          | 0.00/24.0 [00:00<?, ?B/s]"
            ],
            "application/vnd.jupyter.widget-view+json": {
              "version_major": 2,
              "version_minor": 0,
              "model_id": "fe09b6bb85c248c4a4c9e31561747eac"
            }
          },
          "metadata": {}
        },
        {
          "output_type": "display_data",
          "data": {
            "text/plain": [
              "Downloading data:   0%|          | 0.00/59.3k [00:00<?, ?B/s]"
            ],
            "application/vnd.jupyter.widget-view+json": {
              "version_major": 2,
              "version_minor": 0,
              "model_id": "cce6bee263fd4507869fcd20ea6c1f2c"
            }
          },
          "metadata": {}
        },
        {
          "output_type": "display_data",
          "data": {
            "text/plain": [
              "Downloading data:   0%|          | 0.00/203k [00:00<?, ?B/s]"
            ],
            "application/vnd.jupyter.widget-view+json": {
              "version_major": 2,
              "version_minor": 0,
              "model_id": "738d7eed132e483aa54f94feb810b8e0"
            }
          },
          "metadata": {}
        },
        {
          "output_type": "display_data",
          "data": {
            "text/plain": [
              "Downloading data:   0%|          | 0.00/13.3k [00:00<?, ?B/s]"
            ],
            "application/vnd.jupyter.widget-view+json": {
              "version_major": 2,
              "version_minor": 0,
              "model_id": "d6bede6f19f0408eaf470fd13c1d55d3"
            }
          },
          "metadata": {}
        },
        {
          "output_type": "display_data",
          "data": {
            "text/plain": [
              "Generating train split:   0%|          | 0/2124 [00:00<?, ? examples/s]"
            ],
            "application/vnd.jupyter.widget-view+json": {
              "version_major": 2,
              "version_minor": 0,
              "model_id": "e6b7f5cdcafd4d689922c98c46ffc489"
            }
          },
          "metadata": {}
        }
      ]
    },
    {
      "cell_type": "code",
      "source": [
        "# Convert the 'train' logs from a Dask DataFrame to a Pandas DataFrame\n",
        "prediction_logs_df = prediction_logs['train'].to_pandas()"
      ],
      "metadata": {
        "id": "BGVckeDiHZdo"
      },
      "execution_count": 94,
      "outputs": []
    },
    {
      "cell_type": "code",
      "source": [
        "# Sample 30% of the rows from the prediction logs DataFrame with a random state 42\n",
        "prediction_logs_sample_df = prediction_logs_df.sample(frac=0.3, random_state=42)"
      ],
      "metadata": {
        "id": "_CDETBvgHZ25"
      },
      "execution_count": 95,
      "outputs": []
    },
    {
      "cell_type": "code",
      "source": [
        "# Display a random sample of 5 rows from the prediction_logs_sample_df DataFrame\n",
        "prediction_logs_sample_df.sample(5)"
      ],
      "metadata": {
        "id": "Yz5e79YEgRbu",
        "colab": {
          "base_uri": "https://localhost:8080/",
          "height": 206
        },
        "outputId": "68705983-f94d-456a-a282-9235d0725323"
      },
      "execution_count": 96,
      "outputs": [
        {
          "output_type": "execute_result",
          "data": {
            "text/plain": [
              "      age     bmi  children     sex smoker     region    prediction\n",
              "817    53  20.900         0    male    yes  southeast  31708.400562\n",
              "1319   26  33.915         1    male     no  northwest   6218.652966\n",
              "1584   51  18.050         0  female     no  northwest   6888.385184\n",
              "1765   28  25.935         1  female     no  northwest   4061.197505\n",
              "292    47  45.320         1  female     no  southeast  15191.088065"
            ],
            "text/html": [
              "\n",
              "  <div id=\"df-6c4dc78c-4bd7-4c36-85ee-305552b0c304\" class=\"colab-df-container\">\n",
              "    <div>\n",
              "<style scoped>\n",
              "    .dataframe tbody tr th:only-of-type {\n",
              "        vertical-align: middle;\n",
              "    }\n",
              "\n",
              "    .dataframe tbody tr th {\n",
              "        vertical-align: top;\n",
              "    }\n",
              "\n",
              "    .dataframe thead th {\n",
              "        text-align: right;\n",
              "    }\n",
              "</style>\n",
              "<table border=\"1\" class=\"dataframe\">\n",
              "  <thead>\n",
              "    <tr style=\"text-align: right;\">\n",
              "      <th></th>\n",
              "      <th>age</th>\n",
              "      <th>bmi</th>\n",
              "      <th>children</th>\n",
              "      <th>sex</th>\n",
              "      <th>smoker</th>\n",
              "      <th>region</th>\n",
              "      <th>prediction</th>\n",
              "    </tr>\n",
              "  </thead>\n",
              "  <tbody>\n",
              "    <tr>\n",
              "      <th>817</th>\n",
              "      <td>53</td>\n",
              "      <td>20.900</td>\n",
              "      <td>0</td>\n",
              "      <td>male</td>\n",
              "      <td>yes</td>\n",
              "      <td>southeast</td>\n",
              "      <td>31708.400562</td>\n",
              "    </tr>\n",
              "    <tr>\n",
              "      <th>1319</th>\n",
              "      <td>26</td>\n",
              "      <td>33.915</td>\n",
              "      <td>1</td>\n",
              "      <td>male</td>\n",
              "      <td>no</td>\n",
              "      <td>northwest</td>\n",
              "      <td>6218.652966</td>\n",
              "    </tr>\n",
              "    <tr>\n",
              "      <th>1584</th>\n",
              "      <td>51</td>\n",
              "      <td>18.050</td>\n",
              "      <td>0</td>\n",
              "      <td>female</td>\n",
              "      <td>no</td>\n",
              "      <td>northwest</td>\n",
              "      <td>6888.385184</td>\n",
              "    </tr>\n",
              "    <tr>\n",
              "      <th>1765</th>\n",
              "      <td>28</td>\n",
              "      <td>25.935</td>\n",
              "      <td>1</td>\n",
              "      <td>female</td>\n",
              "      <td>no</td>\n",
              "      <td>northwest</td>\n",
              "      <td>4061.197505</td>\n",
              "    </tr>\n",
              "    <tr>\n",
              "      <th>292</th>\n",
              "      <td>47</td>\n",
              "      <td>45.320</td>\n",
              "      <td>1</td>\n",
              "      <td>female</td>\n",
              "      <td>no</td>\n",
              "      <td>southeast</td>\n",
              "      <td>15191.088065</td>\n",
              "    </tr>\n",
              "  </tbody>\n",
              "</table>\n",
              "</div>\n",
              "    <div class=\"colab-df-buttons\">\n",
              "\n",
              "  <div class=\"colab-df-container\">\n",
              "    <button class=\"colab-df-convert\" onclick=\"convertToInteractive('df-6c4dc78c-4bd7-4c36-85ee-305552b0c304')\"\n",
              "            title=\"Convert this dataframe to an interactive table.\"\n",
              "            style=\"display:none;\">\n",
              "\n",
              "  <svg xmlns=\"http://www.w3.org/2000/svg\" height=\"24px\" viewBox=\"0 -960 960 960\">\n",
              "    <path d=\"M120-120v-720h720v720H120Zm60-500h600v-160H180v160Zm220 220h160v-160H400v160Zm0 220h160v-160H400v160ZM180-400h160v-160H180v160Zm440 0h160v-160H620v160ZM180-180h160v-160H180v160Zm440 0h160v-160H620v160Z\"/>\n",
              "  </svg>\n",
              "    </button>\n",
              "\n",
              "  <style>\n",
              "    .colab-df-container {\n",
              "      display:flex;\n",
              "      gap: 12px;\n",
              "    }\n",
              "\n",
              "    .colab-df-convert {\n",
              "      background-color: #E8F0FE;\n",
              "      border: none;\n",
              "      border-radius: 50%;\n",
              "      cursor: pointer;\n",
              "      display: none;\n",
              "      fill: #1967D2;\n",
              "      height: 32px;\n",
              "      padding: 0 0 0 0;\n",
              "      width: 32px;\n",
              "    }\n",
              "\n",
              "    .colab-df-convert:hover {\n",
              "      background-color: #E2EBFA;\n",
              "      box-shadow: 0px 1px 2px rgba(60, 64, 67, 0.3), 0px 1px 3px 1px rgba(60, 64, 67, 0.15);\n",
              "      fill: #174EA6;\n",
              "    }\n",
              "\n",
              "    .colab-df-buttons div {\n",
              "      margin-bottom: 4px;\n",
              "    }\n",
              "\n",
              "    [theme=dark] .colab-df-convert {\n",
              "      background-color: #3B4455;\n",
              "      fill: #D2E3FC;\n",
              "    }\n",
              "\n",
              "    [theme=dark] .colab-df-convert:hover {\n",
              "      background-color: #434B5C;\n",
              "      box-shadow: 0px 1px 3px 1px rgba(0, 0, 0, 0.15);\n",
              "      filter: drop-shadow(0px 1px 2px rgba(0, 0, 0, 0.3));\n",
              "      fill: #FFFFFF;\n",
              "    }\n",
              "  </style>\n",
              "\n",
              "    <script>\n",
              "      const buttonEl =\n",
              "        document.querySelector('#df-6c4dc78c-4bd7-4c36-85ee-305552b0c304 button.colab-df-convert');\n",
              "      buttonEl.style.display =\n",
              "        google.colab.kernel.accessAllowed ? 'block' : 'none';\n",
              "\n",
              "      async function convertToInteractive(key) {\n",
              "        const element = document.querySelector('#df-6c4dc78c-4bd7-4c36-85ee-305552b0c304');\n",
              "        const dataTable =\n",
              "          await google.colab.kernel.invokeFunction('convertToInteractive',\n",
              "                                                    [key], {});\n",
              "        if (!dataTable) return;\n",
              "\n",
              "        const docLinkHtml = 'Like what you see? Visit the ' +\n",
              "          '<a target=\"_blank\" href=https://colab.research.google.com/notebooks/data_table.ipynb>data table notebook</a>'\n",
              "          + ' to learn more about interactive tables.';\n",
              "        element.innerHTML = '';\n",
              "        dataTable['output_type'] = 'display_data';\n",
              "        await google.colab.output.renderOutput(dataTable, element);\n",
              "        const docLink = document.createElement('div');\n",
              "        docLink.innerHTML = docLinkHtml;\n",
              "        element.appendChild(docLink);\n",
              "      }\n",
              "    </script>\n",
              "  </div>\n",
              "\n",
              "\n",
              "<div id=\"df-de8ffbe8-88a4-4152-a42c-2c0e0a61101d\">\n",
              "  <button class=\"colab-df-quickchart\" onclick=\"quickchart('df-de8ffbe8-88a4-4152-a42c-2c0e0a61101d')\"\n",
              "            title=\"Suggest charts\"\n",
              "            style=\"display:none;\">\n",
              "\n",
              "<svg xmlns=\"http://www.w3.org/2000/svg\" height=\"24px\"viewBox=\"0 0 24 24\"\n",
              "     width=\"24px\">\n",
              "    <g>\n",
              "        <path d=\"M19 3H5c-1.1 0-2 .9-2 2v14c0 1.1.9 2 2 2h14c1.1 0 2-.9 2-2V5c0-1.1-.9-2-2-2zM9 17H7v-7h2v7zm4 0h-2V7h2v10zm4 0h-2v-4h2v4z\"/>\n",
              "    </g>\n",
              "</svg>\n",
              "  </button>\n",
              "\n",
              "<style>\n",
              "  .colab-df-quickchart {\n",
              "      --bg-color: #E8F0FE;\n",
              "      --fill-color: #1967D2;\n",
              "      --hover-bg-color: #E2EBFA;\n",
              "      --hover-fill-color: #174EA6;\n",
              "      --disabled-fill-color: #AAA;\n",
              "      --disabled-bg-color: #DDD;\n",
              "  }\n",
              "\n",
              "  [theme=dark] .colab-df-quickchart {\n",
              "      --bg-color: #3B4455;\n",
              "      --fill-color: #D2E3FC;\n",
              "      --hover-bg-color: #434B5C;\n",
              "      --hover-fill-color: #FFFFFF;\n",
              "      --disabled-bg-color: #3B4455;\n",
              "      --disabled-fill-color: #666;\n",
              "  }\n",
              "\n",
              "  .colab-df-quickchart {\n",
              "    background-color: var(--bg-color);\n",
              "    border: none;\n",
              "    border-radius: 50%;\n",
              "    cursor: pointer;\n",
              "    display: none;\n",
              "    fill: var(--fill-color);\n",
              "    height: 32px;\n",
              "    padding: 0;\n",
              "    width: 32px;\n",
              "  }\n",
              "\n",
              "  .colab-df-quickchart:hover {\n",
              "    background-color: var(--hover-bg-color);\n",
              "    box-shadow: 0 1px 2px rgba(60, 64, 67, 0.3), 0 1px 3px 1px rgba(60, 64, 67, 0.15);\n",
              "    fill: var(--button-hover-fill-color);\n",
              "  }\n",
              "\n",
              "  .colab-df-quickchart-complete:disabled,\n",
              "  .colab-df-quickchart-complete:disabled:hover {\n",
              "    background-color: var(--disabled-bg-color);\n",
              "    fill: var(--disabled-fill-color);\n",
              "    box-shadow: none;\n",
              "  }\n",
              "\n",
              "  .colab-df-spinner {\n",
              "    border: 2px solid var(--fill-color);\n",
              "    border-color: transparent;\n",
              "    border-bottom-color: var(--fill-color);\n",
              "    animation:\n",
              "      spin 1s steps(1) infinite;\n",
              "  }\n",
              "\n",
              "  @keyframes spin {\n",
              "    0% {\n",
              "      border-color: transparent;\n",
              "      border-bottom-color: var(--fill-color);\n",
              "      border-left-color: var(--fill-color);\n",
              "    }\n",
              "    20% {\n",
              "      border-color: transparent;\n",
              "      border-left-color: var(--fill-color);\n",
              "      border-top-color: var(--fill-color);\n",
              "    }\n",
              "    30% {\n",
              "      border-color: transparent;\n",
              "      border-left-color: var(--fill-color);\n",
              "      border-top-color: var(--fill-color);\n",
              "      border-right-color: var(--fill-color);\n",
              "    }\n",
              "    40% {\n",
              "      border-color: transparent;\n",
              "      border-right-color: var(--fill-color);\n",
              "      border-top-color: var(--fill-color);\n",
              "    }\n",
              "    60% {\n",
              "      border-color: transparent;\n",
              "      border-right-color: var(--fill-color);\n",
              "    }\n",
              "    80% {\n",
              "      border-color: transparent;\n",
              "      border-right-color: var(--fill-color);\n",
              "      border-bottom-color: var(--fill-color);\n",
              "    }\n",
              "    90% {\n",
              "      border-color: transparent;\n",
              "      border-bottom-color: var(--fill-color);\n",
              "    }\n",
              "  }\n",
              "</style>\n",
              "\n",
              "  <script>\n",
              "    async function quickchart(key) {\n",
              "      const quickchartButtonEl =\n",
              "        document.querySelector('#' + key + ' button');\n",
              "      quickchartButtonEl.disabled = true;  // To prevent multiple clicks.\n",
              "      quickchartButtonEl.classList.add('colab-df-spinner');\n",
              "      try {\n",
              "        const charts = await google.colab.kernel.invokeFunction(\n",
              "            'suggestCharts', [key], {});\n",
              "      } catch (error) {\n",
              "        console.error('Error during call to suggestCharts:', error);\n",
              "      }\n",
              "      quickchartButtonEl.classList.remove('colab-df-spinner');\n",
              "      quickchartButtonEl.classList.add('colab-df-quickchart-complete');\n",
              "    }\n",
              "    (() => {\n",
              "      let quickchartButtonEl =\n",
              "        document.querySelector('#df-de8ffbe8-88a4-4152-a42c-2c0e0a61101d button');\n",
              "      quickchartButtonEl.style.display =\n",
              "        google.colab.kernel.accessAllowed ? 'block' : 'none';\n",
              "    })();\n",
              "  </script>\n",
              "</div>\n",
              "    </div>\n",
              "  </div>\n"
            ],
            "application/vnd.google.colaboratory.intrinsic+json": {
              "type": "dataframe",
              "summary": "{\n  \"name\": \"prediction_logs_sample_df\",\n  \"rows\": 5,\n  \"fields\": [\n    {\n      \"column\": \"age\",\n      \"properties\": {\n        \"dtype\": \"number\",\n        \"std\": 12,\n        \"min\": 26,\n        \"max\": 53,\n        \"num_unique_values\": 5,\n        \"samples\": [\n          26,\n          47,\n          51\n        ],\n        \"semantic_type\": \"\",\n        \"description\": \"\"\n      }\n    },\n    {\n      \"column\": \"bmi\",\n      \"properties\": {\n        \"dtype\": \"number\",\n        \"std\": 11.014212068958905,\n        \"min\": 18.05,\n        \"max\": 45.32,\n        \"num_unique_values\": 5,\n        \"samples\": [\n          33.915,\n          45.32,\n          18.05\n        ],\n        \"semantic_type\": \"\",\n        \"description\": \"\"\n      }\n    },\n    {\n      \"column\": \"children\",\n      \"properties\": {\n        \"dtype\": \"number\",\n        \"std\": 0,\n        \"min\": 0,\n        \"max\": 1,\n        \"num_unique_values\": 2,\n        \"samples\": [\n          1,\n          0\n        ],\n        \"semantic_type\": \"\",\n        \"description\": \"\"\n      }\n    },\n    {\n      \"column\": \"sex\",\n      \"properties\": {\n        \"dtype\": \"category\",\n        \"num_unique_values\": 2,\n        \"samples\": [\n          \"female\",\n          \"male\"\n        ],\n        \"semantic_type\": \"\",\n        \"description\": \"\"\n      }\n    },\n    {\n      \"column\": \"smoker\",\n      \"properties\": {\n        \"dtype\": \"category\",\n        \"num_unique_values\": 2,\n        \"samples\": [\n          \"no\",\n          \"yes\"\n        ],\n        \"semantic_type\": \"\",\n        \"description\": \"\"\n      }\n    },\n    {\n      \"column\": \"region\",\n      \"properties\": {\n        \"dtype\": \"category\",\n        \"num_unique_values\": 2,\n        \"samples\": [\n          \"northwest\",\n          \"southeast\"\n        ],\n        \"semantic_type\": \"\",\n        \"description\": \"\"\n      }\n    },\n    {\n      \"column\": \"prediction\",\n      \"properties\": {\n        \"dtype\": \"number\",\n        \"std\": 11378.400416965842,\n        \"min\": 4061.197505034841,\n        \"max\": 31708.40056201168,\n        \"num_unique_values\": 5,\n        \"samples\": [\n          6218.652966282703,\n          15191.088065017768\n        ],\n        \"semantic_type\": \"\",\n        \"description\": \"\"\n      }\n    }\n  ]\n}"
            }
          },
          "metadata": {},
          "execution_count": 96
        }
      ]
    },
    {
      "cell_type": "markdown",
      "source": [
        "## Model Drift Checks"
      ],
      "metadata": {
        "id": "q-ELgi6VPF41"
      }
    },
    {
      "cell_type": "markdown",
      "source": [
        "### Predicted Targets vs Training Targets"
      ],
      "metadata": {
        "id": "qeZrIECqLA-K"
      }
    },
    {
      "cell_type": "code",
      "source": [
        "import matplotlib.pyplot as plt  # Import matplotlib for plotting\n",
        "import seaborn as sns  # Import seaborn for visualization enhancements\n",
        "\n",
        "# Create a figure with two subplots\n",
        "plt.figure(figsize=(12, 6))\n",
        "\n",
        "# Plot the distribution of targets in the training data\n",
        "plt.subplot(211)\n",
        "sns.histplot(x=ytrain, kde= True, bins=30, color='blue')\n",
        "plt.title(\"Distribution of actual targets values in training data\")\n",
        "plt.xlabel(\"Actual Target Values\")\n",
        "plt.ylabel(\"Frequency\")\n",
        "\n",
        "# Plot the distribution of predicted targets from the deployed model\n",
        "plt.subplot(212)\n",
        "sns.histplot(prediction_logs_sample_df.prediction,  kde= True, bins=30, color='green')\n",
        "plt.title(\"Distribution of predicted targets values from the deployed model\")\n",
        "plt.xlabel(\"Actual Target Values\")\n",
        "plt.ylabel(\"Frequency\")\n",
        "\n",
        "# Adjust layout to prevent overlap\n",
        "plt.tight_layout()\n",
        "plt.show()"
      ],
      "metadata": {
        "colab": {
          "base_uri": "https://localhost:8080/",
          "height": 544
        },
        "id": "xJaLlmQSq6J6",
        "outputId": "7748c879-d8e7-414b-ba04-54ef607475bd"
      },
      "execution_count": 97,
      "outputs": [
        {
          "output_type": "display_data",
          "data": {
            "text/plain": [
              "<Figure size 1200x600 with 2 Axes>"
            ],
            "image/png": "[encoded data removed]"
          },
          "metadata": {}
        }
      ]
    },
    {
      "cell_type": "code",
      "source": [
        "# Calculate mean of actual values in training data (sum(target y) / len(target y))\n",
        "mean_training_data = sum(ytrain) / len(ytrain)"
      ],
      "metadata": {
        "id": "KXAbBSD6gu5k"
      },
      "execution_count": 98,
      "outputs": []
    },
    {
      "cell_type": "code",
      "source": [
        "# Calculate mean of predicted values in sample logs (sum(logs.prediction) / len(logs.prediction))\n",
        "mean_sample_logs = sum(prediction_logs_sample_df.prediction) / len(prediction_logs_sample_df.prediction)"
      ],
      "metadata": {
        "id": "ZYzySK8ghRbL"
      },
      "execution_count": 99,
      "outputs": []
    },
    {
      "cell_type": "code",
      "source": [
        "# Calculate variance of actual values in training data\n",
        "variance = sum((y - mean_training_data)**2 for y in ytrain) / len(ytrain)"
      ],
      "metadata": {
        "id": "OOW4FmBkgw6O"
      },
      "execution_count": 100,
      "outputs": []
    },
    {
      "cell_type": "code",
      "source": [
        "# Calculate absolute difference between means\n",
        "diff = abs(mean_training_data - mean_sample_logs)"
      ],
      "metadata": {
        "id": "NHcCLynOhLbu"
      },
      "execution_count": 101,
      "outputs": []
    },
    {
      "cell_type": "code",
      "source": [
        "# Check for model drift\n",
        "if diff > 2 * math.sqrt(variance):\n",
        "    print(\"Model Drift Detected!\")\n",
        "else:\n",
        "    print(\"No Model Drift!\")"
      ],
      "metadata": {
        "colab": {
          "base_uri": "https://localhost:8080/"
        },
        "id": "2rlSdxR8SgI1",
        "outputId": "26bdb2f5-3564-4e0f-fadb-e4312561cc54"
      },
      "execution_count": 102,
      "outputs": [
        {
          "output_type": "stream",
          "name": "stdout",
          "text": [
            "No Model Drift!\n"
          ]
        }
      ]
    },
    {
      "cell_type": "code",
      "source": [
        "# @title Target Check\n",
        "\n",
        "mean_training_data = 0.1127 # @param\n",
        "mean_sample_logs = 0.16 # @param\n",
        "training_data_size = 41183 # @param\n",
        "\n",
        "variance = sum((y - mean_training_data)**2 for y in ytrain) / training_data_size\n",
        "# variance = (mean_training_data * (1-mean_training_data))/training_data_size\n",
        "diff = abs(mean_training_data - mean_sample_logs)\n",
        "\n",
        "if diff > 2 * math.sqrt(variance):\n",
        "    print(\"Model Drift Detected!\")\n",
        "else:\n",
        "    print(\"No Model Drift!\")\n"
      ],
      "metadata": {
        "colab": {
          "base_uri": "https://localhost:8080/"
        },
        "id": "2n-JRfaIlAh2",
        "outputId": "9276bdc9-7676-4a77-fa19-c996dd0f590b"
      },
      "execution_count": 103,
      "outputs": [
        {
          "output_type": "stream",
          "name": "stdout",
          "text": [
            "No Model Drift!\n"
          ]
        }
      ]
    },
    {
      "cell_type": "markdown",
      "source": [
        "## Data Drift Checks"
      ],
      "metadata": {
        "id": "YjPEZAWKPuVK"
      }
    },
    {
      "cell_type": "markdown",
      "source": [
        "### Live Features vs Training Features"
      ],
      "metadata": {
        "id": "rb6-YR-IizG3"
      }
    },
    {
      "cell_type": "code",
      "source": [
        "mean_age_training_data = Xtrain['age'].mean()\n",
        "std_age_training_data = Xtrain['age'].std()\n",
        "\n",
        "mean_age_sample_logs = prediction_logs_sample_df['age'].mean()"
      ],
      "metadata": {
        "id": "_purGOSINX3N"
      },
      "execution_count": 104,
      "outputs": []
    },
    {
      "cell_type": "code",
      "source": [
        "(mean_age_training_data, mean_age_sample_logs)"
      ],
      "metadata": {
        "id": "vwW2BDa2jy3l",
        "colab": {
          "base_uri": "https://localhost:8080/"
        },
        "outputId": "37addd04-320c-44b4-9fc0-ca3b18c1506a"
      },
      "execution_count": 105,
      "outputs": [
        {
          "output_type": "execute_result",
          "data": {
            "text/plain": [
              "(39.357009345794395, 38.53375196232339)"
            ]
          },
          "metadata": {},
          "execution_count": 105
        }
      ]
    },
    {
      "cell_type": "code",
      "source": [
        "mean_feature_training_data = 39.35\n",
        "mean_feature_sample_logs = 37.04\n",
        "std_feature_training_data = 14.07\n",
        "\n",
        "mean_diff = abs(mean_age_training_data - mean_age_sample_logs)\n",
        "\n",
        "if mean_diff > 2 * std_feature_training_data:\n",
        "    print(\"Data Drift Detected!\")\n",
        "else:\n",
        "    print(\"No Data Drift!\")"
      ],
      "metadata": {
        "id": "AYncqI_SkMuz",
        "colab": {
          "base_uri": "https://localhost:8080/"
        },
        "outputId": "50d113de-4ed5-4fec-872b-41d612c94d25"
      },
      "execution_count": 106,
      "outputs": [
        {
          "output_type": "stream",
          "name": "stdout",
          "text": [
            "No Data Drift!\n"
          ]
        }
      ]
    },
    {
      "cell_type": "code",
      "source": [
        "std_age_training_data"
      ],
      "metadata": {
        "colab": {
          "base_uri": "https://localhost:8080/"
        },
        "id": "__hfj0G2mwTR",
        "outputId": "1979a066-224e-4ee2-b9c5-625a7849a28d"
      },
      "execution_count": 107,
      "outputs": [
        {
          "output_type": "execute_result",
          "data": {
            "text/plain": [
              "14.073960139337272"
            ]
          },
          "metadata": {},
          "execution_count": 107
        }
      ]
    },
    {
      "cell_type": "code",
      "source": [
        "# @title Feature Distribution Check\n",
        "\n",
        "mean_feature_training_data = 40.020 # @param\n",
        "mean_feature_sample_logs = 39.493 # @param\n",
        "std_feature_training_data = 10.435 # @param\n",
        "\n",
        "mean_diff = abs(mean_feature_training_data - mean_feature_sample_logs)\n",
        "\n",
        "if mean_diff > 2 * std_feature_training_data:\n",
        "    print(\"Data Drift Detected!\")\n",
        "else:\n",
        "    print(\"No Data Drift!\")\n"
      ],
      "metadata": {
        "colab": {
          "base_uri": "https://localhost:8080/"
        },
        "id": "hcFMFMaOm1V7",
        "outputId": "934eb390-31a6-47fe-e4db-c926a69ea250"
      },
      "execution_count": 108,
      "outputs": [
        {
          "output_type": "stream",
          "name": "stdout",
          "text": [
            "No Data Drift!\n"
          ]
        }
      ]
    },
    {
      "cell_type": "markdown",
      "source": [
        "The current model stays in production unless we detect model drift or data drift."
      ],
      "metadata": {
        "id": "QWnhVQDqmQ7Y"
      }
    },
    {
      "cell_type": "markdown",
      "source": [
        "# Convert ipynb to HTML"
      ],
      "metadata": {
        "id": "U2TN5Ik4KzvA"
      }
    },
    {
      "cell_type": "markdown",
      "source": [
        "Instructions:\n",
        "1. Go to File\n",
        "2. Download these current working Notebook in to ipynb format\n",
        "3. Now, run the below code, select the notebook from local where you downloaded the file\n",
        "4. Wait for few sec, your notebook will automatically converted in to html format and save in your local pc\n"
      ],
      "metadata": {
        "id": "VVmwzqQUOnXD"
      }
    },
    {
      "cell_type": "code",
      "source": [
        "# @title HTML Convert\n",
        "# Upload ipynb\n",
        "from google.colab import files\n",
        "f = files.upload()\n",
        "\n",
        "# Convert ipynb to html\n",
        "import subprocess\n",
        "file0 = list(f.keys())[0]\n",
        "_ = subprocess.run([\"pip\", \"install\", \"nbconvert\"])\n",
        "_ = subprocess.run([\"jupyter\", \"nbconvert\", file0, \"--to\", \"html\"])\n",
        "\n",
        "# download the html\"\n",
        "files.download(file0[:-5]+\"html\")\n"
      ],
      "metadata": {
        "id": "LEwxxs0LBivA"
      },
      "execution_count": null,
      "outputs": []
    },
    {
      "cell_type": "markdown",
      "source": [
        "## Power Ahead!"
      ],
      "metadata": {
        "id": "KM_NcbJvLjhm"
      }
    }
  ],
  "metadata": {
    "application/vnd.databricks.v1+notebook": {
      "dashboards": [],
      "language": "python",
      "notebookMetadata": {
        "pythonIndentUnit": 4
      },
      "notebookName": "diamond_price_prediction",
      "widgets": {}
    },
    "colab": {
      "provenance": []
    },
    "language_info": {
      "name": "python"
    },
    "kernelspec": {
      "name": "python3",
      "display_name": "Python 3"
    },
    "widgets": {
      "application/vnd.jupyter.widget-state+json": {
        "fe09b6bb85c248c4a4c9e31561747eac": {
          "model_module": "@jupyter-widgets/controls",
          "model_name": "HBoxModel",
          "model_module_version": "1.5.0",
          "state": {
            "_dom_classes": [],
            "_model_module": "@jupyter-widgets/controls",
            "_model_module_version": "1.5.0",
            "_model_name": "HBoxModel",
            "_view_count": null,
            "_view_module": "@jupyter-widgets/controls",
            "_view_module_version": "1.5.0",
            "_view_name": "HBoxView",
            "box_style": "",
            "children": [
              "IPY_MODEL_bab128e86cf24b36ab8b814b760b8d01",
              "IPY_MODEL_9d3f3817a9c045258dea9381206c593a",
              "IPY_MODEL_703557bd866641d9957fcccf97241619"
            ],
            "layout": "IPY_MODEL_19e7701eccca4cbc8526f70350d86113"
          }
        },
        "bab128e86cf24b36ab8b814b760b8d01": {
          "model_module": "@jupyter-widgets/controls",
          "model_name": "HTMLModel",
          "model_module_version": "1.5.0",
          "state": {
            "_dom_classes": [],
            "_model_module": "@jupyter-widgets/controls",
            "_model_module_version": "1.5.0",
            "_model_name": "HTMLModel",
            "_view_count": null,
            "_view_module": "@jupyter-widgets/controls",
            "_view_module_version": "1.5.0",
            "_view_name": "HTMLView",
            "description": "",
            "description_tooltip": null,
            "layout": "IPY_MODEL_f0d9a66ecef24ffa8c3e2ddebf2d6bcf",
            "placeholder": "​",
            "style": "IPY_MODEL_96d62c4ace014637a51941482d27d4d9",
            "value": "Downloading readme: 100%"
          }
        },
        "9d3f3817a9c045258dea9381206c593a": {
          "model_module": "@jupyter-widgets/controls",
          "model_name": "FloatProgressModel",
          "model_module_version": "1.5.0",
          "state": {
            "_dom_classes": [],
            "_model_module": "@jupyter-widgets/controls",
            "_model_module_version": "1.5.0",
            "_model_name": "FloatProgressModel",
            "_view_count": null,
            "_view_module": "@jupyter-widgets/controls",
            "_view_module_version": "1.5.0",
            "_view_name": "ProgressView",
            "bar_style": "success",
            "description": "",
            "description_tooltip": null,
            "layout": "IPY_MODEL_05eb752cdcdf4047b410e9403f3ae889",
            "max": 24,
            "min": 0,
            "orientation": "horizontal",
            "style": "IPY_MODEL_7094f02a9f394bc68c735bc83a6502ee",
            "value": 24
          }
        },
        "703557bd866641d9957fcccf97241619": {
          "model_module": "@jupyter-widgets/controls",
          "model_name": "HTMLModel",
          "model_module_version": "1.5.0",
          "state": {
            "_dom_classes": [],
            "_model_module": "@jupyter-widgets/controls",
            "_model_module_version": "1.5.0",
            "_model_name": "HTMLModel",
            "_view_count": null,
            "_view_module": "@jupyter-widgets/controls",
            "_view_module_version": "1.5.0",
            "_view_name": "HTMLView",
            "description": "",
            "description_tooltip": null,
            "layout": "IPY_MODEL_a8d063cd26d34fb9b23dd492cbcc90f3",
            "placeholder": "​",
            "style": "IPY_MODEL_705d234cb4bd4d6cb9e22b93e6fd4774",
            "value": " 24.0/24.0 [00:00&lt;00:00, 640B/s]"
          }
        },
        "19e7701eccca4cbc8526f70350d86113": {
          "model_module": "@jupyter-widgets/base",
          "model_name": "LayoutModel",
          "model_module_version": "1.2.0",
          "state": {
            "_model_module": "@jupyter-widgets/base",
            "_model_module_version": "1.2.0",
            "_model_name": "LayoutModel",
            "_view_count": null,
            "_view_module": "@jupyter-widgets/base",
            "_view_module_version": "1.2.0",
            "_view_name": "LayoutView",
            "align_content": null,
            "align_items": null,
            "align_self": null,
            "border": null,
            "bottom": null,
            "display": null,
            "flex": null,
            "flex_flow": null,
            "grid_area": null,
            "grid_auto_columns": null,
            "grid_auto_flow": null,
            "grid_auto_rows": null,
            "grid_column": null,
            "grid_gap": null,
            "grid_row": null,
            "grid_template_areas": null,
            "grid_template_columns": null,
            "grid_template_rows": null,
            "height": null,
            "justify_content": null,
            "justify_items": null,
            "left": null,
            "margin": null,
            "max_height": null,
            "max_width": null,
            "min_height": null,
            "min_width": null,
            "object_fit": null,
            "object_position": null,
            "order": null,
            "overflow": null,
            "overflow_x": null,
            "overflow_y": null,
            "padding": null,
            "right": null,
            "top": null,
            "visibility": null,
            "width": null
          }
        },
        "f0d9a66ecef24ffa8c3e2ddebf2d6bcf": {
          "model_module": "@jupyter-widgets/base",
          "model_name": "LayoutModel",
          "model_module_version": "1.2.0",
          "state": {
            "_model_module": "@jupyter-widgets/base",
            "_model_module_version": "1.2.0",
            "_model_name": "LayoutModel",
            "_view_count": null,
            "_view_module": "@jupyter-widgets/base",
            "_view_module_version": "1.2.0",
            "_view_name": "LayoutView",
            "align_content": null,
            "align_items": null,
            "align_self": null,
            "border": null,
            "bottom": null,
            "display": null,
            "flex": null,
            "flex_flow": null,
            "grid_area": null,
            "grid_auto_columns": null,
            "grid_auto_flow": null,
            "grid_auto_rows": null,
            "grid_column": null,
            "grid_gap": null,
            "grid_row": null,
            "grid_template_areas": null,
            "grid_template_columns": null,
            "grid_template_rows": null,
            "height": null,
            "justify_content": null,
            "justify_items": null,
            "left": null,
            "margin": null,
            "max_height": null,
            "max_width": null,
            "min_height": null,
            "min_width": null,
            "object_fit": null,
            "object_position": null,
            "order": null,
            "overflow": null,
            "overflow_x": null,
            "overflow_y": null,
            "padding": null,
            "right": null,
            "top": null,
            "visibility": null,
            "width": null
          }
        },
        "96d62c4ace014637a51941482d27d4d9": {
          "model_module": "@jupyter-widgets/controls",
          "model_name": "DescriptionStyleModel",
          "model_module_version": "1.5.0",
          "state": {
            "_model_module": "@jupyter-widgets/controls",
            "_model_module_version": "1.5.0",
            "_model_name": "DescriptionStyleModel",
            "_view_count": null,
            "_view_module": "@jupyter-widgets/base",
            "_view_module_version": "1.2.0",
            "_view_name": "StyleView",
            "description_width": ""
          }
        },
        "05eb752cdcdf4047b410e9403f3ae889": {
          "model_module": "@jupyter-widgets/base",
          "model_name": "LayoutModel",
          "model_module_version": "1.2.0",
          "state": {
            "_model_module": "@jupyter-widgets/base",
            "_model_module_version": "1.2.0",
            "_model_name": "LayoutModel",
            "_view_count": null,
            "_view_module": "@jupyter-widgets/base",
            "_view_module_version": "1.2.0",
            "_view_name": "LayoutView",
            "align_content": null,
            "align_items": null,
            "align_self": null,
            "border": null,
            "bottom": null,
            "display": null,
            "flex": null,
            "flex_flow": null,
            "grid_area": null,
            "grid_auto_columns": null,
            "grid_auto_flow": null,
            "grid_auto_rows": null,
            "grid_column": null,
            "grid_gap": null,
            "grid_row": null,
            "grid_template_areas": null,
            "grid_template_columns": null,
            "grid_template_rows": null,
            "height": null,
            "justify_content": null,
            "justify_items": null,
            "left": null,
            "margin": null,
            "max_height": null,
            "max_width": null,
            "min_height": null,
            "min_width": null,
            "object_fit": null,
            "object_position": null,
            "order": null,
            "overflow": null,
            "overflow_x": null,
            "overflow_y": null,
            "padding": null,
            "right": null,
            "top": null,
            "visibility": null,
            "width": null
          }
        },
        "7094f02a9f394bc68c735bc83a6502ee": {
          "model_module": "@jupyter-widgets/controls",
          "model_name": "ProgressStyleModel",
          "model_module_version": "1.5.0",
          "state": {
            "_model_module": "@jupyter-widgets/controls",
            "_model_module_version": "1.5.0",
            "_model_name": "ProgressStyleModel",
            "_view_count": null,
            "_view_module": "@jupyter-widgets/base",
            "_view_module_version": "1.2.0",
            "_view_name": "StyleView",
            "bar_color": null,
            "description_width": ""
          }
        },
        "a8d063cd26d34fb9b23dd492cbcc90f3": {
          "model_module": "@jupyter-widgets/base",
          "model_name": "LayoutModel",
          "model_module_version": "1.2.0",
          "state": {
            "_model_module": "@jupyter-widgets/base",
            "_model_module_version": "1.2.0",
            "_model_name": "LayoutModel",
            "_view_count": null,
            "_view_module": "@jupyter-widgets/base",
            "_view_module_version": "1.2.0",
            "_view_name": "LayoutView",
            "align_content": null,
            "align_items": null,
            "align_self": null,
            "border": null,
            "bottom": null,
            "display": null,
            "flex": null,
            "flex_flow": null,
            "grid_area": null,
            "grid_auto_columns": null,
            "grid_auto_flow": null,
            "grid_auto_rows": null,
            "grid_column": null,
            "grid_gap": null,
            "grid_row": null,
            "grid_template_areas": null,
            "grid_template_columns": null,
            "grid_template_rows": null,
            "height": null,
            "justify_content": null,
            "justify_items": null,
            "left": null,
            "margin": null,
            "max_height": null,
            "max_width": null,
            "min_height": null,
            "min_width": null,
            "object_fit": null,
            "object_position": null,
            "order": null,
            "overflow": null,
            "overflow_x": null,
            "overflow_y": null,
            "padding": null,
            "right": null,
            "top": null,
            "visibility": null,
            "width": null
          }
        },
        "705d234cb4bd4d6cb9e22b93e6fd4774": {
          "model_module": "@jupyter-widgets/controls",
          "model_name": "DescriptionStyleModel",
          "model_module_version": "1.5.0",
          "state": {
            "_model_module": "@jupyter-widgets/controls",
            "_model_module_version": "1.5.0",
            "_model_name": "DescriptionStyleModel",
            "_view_count": null,
            "_view_module": "@jupyter-widgets/base",
            "_view_module_version": "1.2.0",
            "_view_name": "StyleView",
            "description_width": ""
          }
        },
        "cce6bee263fd4507869fcd20ea6c1f2c": {
          "model_module": "@jupyter-widgets/controls",
          "model_name": "HBoxModel",
          "model_module_version": "1.5.0",
          "state": {
            "_dom_classes": [],
            "_model_module": "@jupyter-widgets/controls",
            "_model_module_version": "1.5.0",
            "_model_name": "HBoxModel",
            "_view_count": null,
            "_view_module": "@jupyter-widgets/controls",
            "_view_module_version": "1.5.0",
            "_view_name": "HBoxView",
            "box_style": "",
            "children": [
              "IPY_MODEL_c068d4ea0119479eb18a7f566b3dca18",
              "IPY_MODEL_48c185b287ff4153b6573c8f4be629e0",
              "IPY_MODEL_6ae637431fe04ef5a3ae262b04179e06"
            ],
            "layout": "IPY_MODEL_e8d421ea6e584e1a9f1014c06f9d0983"
          }
        },
        "c068d4ea0119479eb18a7f566b3dca18": {
          "model_module": "@jupyter-widgets/controls",
          "model_name": "HTMLModel",
          "model_module_version": "1.5.0",
          "state": {
            "_dom_classes": [],
            "_model_module": "@jupyter-widgets/controls",
            "_model_module_version": "1.5.0",
            "_model_name": "HTMLModel",
            "_view_count": null,
            "_view_module": "@jupyter-widgets/controls",
            "_view_module_version": "1.5.0",
            "_view_name": "HTMLView",
            "description": "",
            "description_tooltip": null,
            "layout": "IPY_MODEL_2f55ad2446ed4f3aa496126fe4769e50",
            "placeholder": "​",
            "style": "IPY_MODEL_a530ca72121544ffad883cb2c0db7a02",
            "value": "Downloading data: 100%"
          }
        },
        "48c185b287ff4153b6573c8f4be629e0": {
          "model_module": "@jupyter-widgets/controls",
          "model_name": "FloatProgressModel",
          "model_module_version": "1.5.0",
          "state": {
            "_dom_classes": [],
            "_model_module": "@jupyter-widgets/controls",
            "_model_module_version": "1.5.0",
            "_model_name": "FloatProgressModel",
            "_view_count": null,
            "_view_module": "@jupyter-widgets/controls",
            "_view_module_version": "1.5.0",
            "_view_name": "ProgressView",
            "bar_style": "success",
            "description": "",
            "description_tooltip": null,
            "layout": "IPY_MODEL_db118d4151324e20a8e4058fab0180d4",
            "max": 59314,
            "min": 0,
            "orientation": "horizontal",
            "style": "IPY_MODEL_edf464edae94460bba16cc87a4b2e0e2",
            "value": 59314
          }
        },
        "6ae637431fe04ef5a3ae262b04179e06": {
          "model_module": "@jupyter-widgets/controls",
          "model_name": "HTMLModel",
          "model_module_version": "1.5.0",
          "state": {
            "_dom_classes": [],
            "_model_module": "@jupyter-widgets/controls",
            "_model_module_version": "1.5.0",
            "_model_name": "HTMLModel",
            "_view_count": null,
            "_view_module": "@jupyter-widgets/controls",
            "_view_module_version": "1.5.0",
            "_view_name": "HTMLView",
            "description": "",
            "description_tooltip": null,
            "layout": "IPY_MODEL_a42024cda1514926b750d5d2a6e12d45",
            "placeholder": "​",
            "style": "IPY_MODEL_42723e8cf33042fc80304c237b8b11d1",
            "value": " 59.3k/59.3k [00:00&lt;00:00, 473kB/s]"
          }
        },
        "e8d421ea6e584e1a9f1014c06f9d0983": {
          "model_module": "@jupyter-widgets/base",
          "model_name": "LayoutModel",
          "model_module_version": "1.2.0",
          "state": {
            "_model_module": "@jupyter-widgets/base",
            "_model_module_version": "1.2.0",
            "_model_name": "LayoutModel",
            "_view_count": null,
            "_view_module": "@jupyter-widgets/base",
            "_view_module_version": "1.2.0",
            "_view_name": "LayoutView",
            "align_content": null,
            "align_items": null,
            "align_self": null,
            "border": null,
            "bottom": null,
            "display": null,
            "flex": null,
            "flex_flow": null,
            "grid_area": null,
            "grid_auto_columns": null,
            "grid_auto_flow": null,
            "grid_auto_rows": null,
            "grid_column": null,
            "grid_gap": null,
            "grid_row": null,
            "grid_template_areas": null,
            "grid_template_columns": null,
            "grid_template_rows": null,
            "height": null,
            "justify_content": null,
            "justify_items": null,
            "left": null,
            "margin": null,
            "max_height": null,
            "max_width": null,
            "min_height": null,
            "min_width": null,
            "object_fit": null,
            "object_position": null,
            "order": null,
            "overflow": null,
            "overflow_x": null,
            "overflow_y": null,
            "padding": null,
            "right": null,
            "top": null,
            "visibility": null,
            "width": null
          }
        },
        "2f55ad2446ed4f3aa496126fe4769e50": {
          "model_module": "@jupyter-widgets/base",
          "model_name": "LayoutModel",
          "model_module_version": "1.2.0",
          "state": {
            "_model_module": "@jupyter-widgets/base",
            "_model_module_version": "1.2.0",
            "_model_name": "LayoutModel",
            "_view_count": null,
            "_view_module": "@jupyter-widgets/base",
            "_view_module_version": "1.2.0",
            "_view_name": "LayoutView",
            "align_content": null,
            "align_items": null,
            "align_self": null,
            "border": null,
            "bottom": null,
            "display": null,
            "flex": null,
            "flex_flow": null,
            "grid_area": null,
            "grid_auto_columns": null,
            "grid_auto_flow": null,
            "grid_auto_rows": null,
            "grid_column": null,
            "grid_gap": null,
            "grid_row": null,
            "grid_template_areas": null,
            "grid_template_columns": null,
            "grid_template_rows": null,
            "height": null,
            "justify_content": null,
            "justify_items": null,
            "left": null,
            "margin": null,
            "max_height": null,
            "max_width": null,
            "min_height": null,
            "min_width": null,
            "object_fit": null,
            "object_position": null,
            "order": null,
            "overflow": null,
            "overflow_x": null,
            "overflow_y": null,
            "padding": null,
            "right": null,
            "top": null,
            "visibility": null,
            "width": null
          }
        },
        "a530ca72121544ffad883cb2c0db7a02": {
          "model_module": "@jupyter-widgets/controls",
          "model_name": "DescriptionStyleModel",
          "model_module_version": "1.5.0",
          "state": {
            "_model_module": "@jupyter-widgets/controls",
            "_model_module_version": "1.5.0",
            "_model_name": "DescriptionStyleModel",
            "_view_count": null,
            "_view_module": "@jupyter-widgets/base",
            "_view_module_version": "1.2.0",
            "_view_name": "StyleView",
            "description_width": ""
          }
        },
        "db118d4151324e20a8e4058fab0180d4": {
          "model_module": "@jupyter-widgets/base",
          "model_name": "LayoutModel",
          "model_module_version": "1.2.0",
          "state": {
            "_model_module": "@jupyter-widgets/base",
            "_model_module_version": "1.2.0",
            "_model_name": "LayoutModel",
            "_view_count": null,
            "_view_module": "@jupyter-widgets/base",
            "_view_module_version": "1.2.0",
            "_view_name": "LayoutView",
            "align_content": null,
            "align_items": null,
            "align_self": null,
            "border": null,
            "bottom": null,
            "display": null,
            "flex": null,
            "flex_flow": null,
            "grid_area": null,
            "grid_auto_columns": null,
            "grid_auto_flow": null,
            "grid_auto_rows": null,
            "grid_column": null,
            "grid_gap": null,
            "grid_row": null,
            "grid_template_areas": null,
            "grid_template_columns": null,
            "grid_template_rows": null,
            "height": null,
            "justify_content": null,
            "justify_items": null,
            "left": null,
            "margin": null,
            "max_height": null,
            "max_width": null,
            "min_height": null,
            "min_width": null,
            "object_fit": null,
            "object_position": null,
            "order": null,
            "overflow": null,
            "overflow_x": null,
            "overflow_y": null,
            "padding": null,
            "right": null,
            "top": null,
            "visibility": null,
            "width": null
          }
        },
        "edf464edae94460bba16cc87a4b2e0e2": {
          "model_module": "@jupyter-widgets/controls",
          "model_name": "ProgressStyleModel",
          "model_module_version": "1.5.0",
          "state": {
            "_model_module": "@jupyter-widgets/controls",
            "_model_module_version": "1.5.0",
            "_model_name": "ProgressStyleModel",
            "_view_count": null,
            "_view_module": "@jupyter-widgets/base",
            "_view_module_version": "1.2.0",
            "_view_name": "StyleView",
            "bar_color": null,
            "description_width": ""
          }
        },
        "a42024cda1514926b750d5d2a6e12d45": {
          "model_module": "@jupyter-widgets/base",
          "model_name": "LayoutModel",
          "model_module_version": "1.2.0",
          "state": {
            "_model_module": "@jupyter-widgets/base",
            "_model_module_version": "1.2.0",
            "_model_name": "LayoutModel",
            "_view_count": null,
            "_view_module": "@jupyter-widgets/base",
            "_view_module_version": "1.2.0",
            "_view_name": "LayoutView",
            "align_content": null,
            "align_items": null,
            "align_self": null,
            "border": null,
            "bottom": null,
            "display": null,
            "flex": null,
            "flex_flow": null,
            "grid_area": null,
            "grid_auto_columns": null,
            "grid_auto_flow": null,
            "grid_auto_rows": null,
            "grid_column": null,
            "grid_gap": null,
            "grid_row": null,
            "grid_template_areas": null,
            "grid_template_columns": null,
            "grid_template_rows": null,
            "height": null,
            "justify_content": null,
            "justify_items": null,
            "left": null,
            "margin": null,
            "max_height": null,
            "max_width": null,
            "min_height": null,
            "min_width": null,
            "object_fit": null,
            "object_position": null,
            "order": null,
            "overflow": null,
            "overflow_x": null,
            "overflow_y": null,
            "padding": null,
            "right": null,
            "top": null,
            "visibility": null,
            "width": null
          }
        },
        "42723e8cf33042fc80304c237b8b11d1": {
          "model_module": "@jupyter-widgets/controls",
          "model_name": "DescriptionStyleModel",
          "model_module_version": "1.5.0",
          "state": {
            "_model_module": "@jupyter-widgets/controls",
            "_model_module_version": "1.5.0",
            "_model_name": "DescriptionStyleModel",
            "_view_count": null,
            "_view_module": "@jupyter-widgets/base",
            "_view_module_version": "1.2.0",
            "_view_name": "StyleView",
            "description_width": ""
          }
        },
        "738d7eed132e483aa54f94feb810b8e0": {
          "model_module": "@jupyter-widgets/controls",
          "model_name": "HBoxModel",
          "model_module_version": "1.5.0",
          "state": {
            "_dom_classes": [],
            "_model_module": "@jupyter-widgets/controls",
            "_model_module_version": "1.5.0",
            "_model_name": "HBoxModel",
            "_view_count": null,
            "_view_module": "@jupyter-widgets/controls",
            "_view_module_version": "1.5.0",
            "_view_name": "HBoxView",
            "box_style": "",
            "children": [
              "IPY_MODEL_bcdc01679d5947fdad69e2516d2a169f",
              "IPY_MODEL_0c478b0b317143c08a9a2546eaaf1ebf",
              "IPY_MODEL_2301c3611dbb467dbc85fc0d8bd309bd"
            ],
            "layout": "IPY_MODEL_dbf6970e689a422880961c772d05b478"
          }
        },
        "bcdc01679d5947fdad69e2516d2a169f": {
          "model_module": "@jupyter-widgets/controls",
          "model_name": "HTMLModel",
          "model_module_version": "1.5.0",
          "state": {
            "_dom_classes": [],
            "_model_module": "@jupyter-widgets/controls",
            "_model_module_version": "1.5.0",
            "_model_name": "HTMLModel",
            "_view_count": null,
            "_view_module": "@jupyter-widgets/controls",
            "_view_module_version": "1.5.0",
            "_view_name": "HTMLView",
            "description": "",
            "description_tooltip": null,
            "layout": "IPY_MODEL_29758ff47477438fb17bd8666271b1d9",
            "placeholder": "​",
            "style": "IPY_MODEL_eab0f6322fcf4a27ab45893416b8e0cc",
            "value": "Downloading data: 100%"
          }
        },
        "0c478b0b317143c08a9a2546eaaf1ebf": {
          "model_module": "@jupyter-widgets/controls",
          "model_name": "FloatProgressModel",
          "model_module_version": "1.5.0",
          "state": {
            "_dom_classes": [],
            "_model_module": "@jupyter-widgets/controls",
            "_model_module_version": "1.5.0",
            "_model_name": "FloatProgressModel",
            "_view_count": null,
            "_view_module": "@jupyter-widgets/controls",
            "_view_module_version": "1.5.0",
            "_view_name": "ProgressView",
            "bar_style": "success",
            "description": "",
            "description_tooltip": null,
            "layout": "IPY_MODEL_d5255d0ca65b42a5ba4fb1517212ea2a",
            "max": 202578,
            "min": 0,
            "orientation": "horizontal",
            "style": "IPY_MODEL_f8e12f050ec54c94ac5219c6e92c22e2",
            "value": 202578
          }
        },
        "2301c3611dbb467dbc85fc0d8bd309bd": {
          "model_module": "@jupyter-widgets/controls",
          "model_name": "HTMLModel",
          "model_module_version": "1.5.0",
          "state": {
            "_dom_classes": [],
            "_model_module": "@jupyter-widgets/controls",
            "_model_module_version": "1.5.0",
            "_model_name": "HTMLModel",
            "_view_count": null,
            "_view_module": "@jupyter-widgets/controls",
            "_view_module_version": "1.5.0",
            "_view_name": "HTMLView",
            "description": "",
            "description_tooltip": null,
            "layout": "IPY_MODEL_77fb136cc72045d69425f0b641b4c930",
            "placeholder": "​",
            "style": "IPY_MODEL_b375ba5253094ede93871c2b2beb1de4",
            "value": " 203k/203k [00:00&lt;00:00, 1.62MB/s]"
          }
        },
        "dbf6970e689a422880961c772d05b478": {
          "model_module": "@jupyter-widgets/base",
          "model_name": "LayoutModel",
          "model_module_version": "1.2.0",
          "state": {
            "_model_module": "@jupyter-widgets/base",
            "_model_module_version": "1.2.0",
            "_model_name": "LayoutModel",
            "_view_count": null,
            "_view_module": "@jupyter-widgets/base",
            "_view_module_version": "1.2.0",
            "_view_name": "LayoutView",
            "align_content": null,
            "align_items": null,
            "align_self": null,
            "border": null,
            "bottom": null,
            "display": null,
            "flex": null,
            "flex_flow": null,
            "grid_area": null,
            "grid_auto_columns": null,
            "grid_auto_flow": null,
            "grid_auto_rows": null,
            "grid_column": null,
            "grid_gap": null,
            "grid_row": null,
            "grid_template_areas": null,
            "grid_template_columns": null,
            "grid_template_rows": null,
            "height": null,
            "justify_content": null,
            "justify_items": null,
            "left": null,
            "margin": null,
            "max_height": null,
            "max_width": null,
            "min_height": null,
            "min_width": null,
            "object_fit": null,
            "object_position": null,
            "order": null,
            "overflow": null,
            "overflow_x": null,
            "overflow_y": null,
            "padding": null,
            "right": null,
            "top": null,
            "visibility": null,
            "width": null
          }
        },
        "29758ff47477438fb17bd8666271b1d9": {
          "model_module": "@jupyter-widgets/base",
          "model_name": "LayoutModel",
          "model_module_version": "1.2.0",
          "state": {
            "_model_module": "@jupyter-widgets/base",
            "_model_module_version": "1.2.0",
            "_model_name": "LayoutModel",
            "_view_count": null,
            "_view_module": "@jupyter-widgets/base",
            "_view_module_version": "1.2.0",
            "_view_name": "LayoutView",
            "align_content": null,
            "align_items": null,
            "align_self": null,
            "border": null,
            "bottom": null,
            "display": null,
            "flex": null,
            "flex_flow": null,
            "grid_area": null,
            "grid_auto_columns": null,
            "grid_auto_flow": null,
            "grid_auto_rows": null,
            "grid_column": null,
            "grid_gap": null,
            "grid_row": null,
            "grid_template_areas": null,
            "grid_template_columns": null,
            "grid_template_rows": null,
            "height": null,
            "justify_content": null,
            "justify_items": null,
            "left": null,
            "margin": null,
            "max_height": null,
            "max_width": null,
            "min_height": null,
            "min_width": null,
            "object_fit": null,
            "object_position": null,
            "order": null,
            "overflow": null,
            "overflow_x": null,
            "overflow_y": null,
            "padding": null,
            "right": null,
            "top": null,
            "visibility": null,
            "width": null
          }
        },
        "eab0f6322fcf4a27ab45893416b8e0cc": {
          "model_module": "@jupyter-widgets/controls",
          "model_name": "DescriptionStyleModel",
          "model_module_version": "1.5.0",
          "state": {
            "_model_module": "@jupyter-widgets/controls",
            "_model_module_version": "1.5.0",
            "_model_name": "DescriptionStyleModel",
            "_view_count": null,
            "_view_module": "@jupyter-widgets/base",
            "_view_module_version": "1.2.0",
            "_view_name": "StyleView",
            "description_width": ""
          }
        },
        "d5255d0ca65b42a5ba4fb1517212ea2a": {
          "model_module": "@jupyter-widgets/base",
          "model_name": "LayoutModel",
          "model_module_version": "1.2.0",
          "state": {
            "_model_module": "@jupyter-widgets/base",
            "_model_module_version": "1.2.0",
            "_model_name": "LayoutModel",
            "_view_count": null,
            "_view_module": "@jupyter-widgets/base",
            "_view_module_version": "1.2.0",
            "_view_name": "LayoutView",
            "align_content": null,
            "align_items": null,
            "align_self": null,
            "border": null,
            "bottom": null,
            "display": null,
            "flex": null,
            "flex_flow": null,
            "grid_area": null,
            "grid_auto_columns": null,
            "grid_auto_flow": null,
            "grid_auto_rows": null,
            "grid_column": null,
            "grid_gap": null,
            "grid_row": null,
            "grid_template_areas": null,
            "grid_template_columns": null,
            "grid_template_rows": null,
            "height": null,
            "justify_content": null,
            "justify_items": null,
            "left": null,
            "margin": null,
            "max_height": null,
            "max_width": null,
            "min_height": null,
            "min_width": null,
            "object_fit": null,
            "object_position": null,
            "order": null,
            "overflow": null,
            "overflow_x": null,
            "overflow_y": null,
            "padding": null,
            "right": null,
            "top": null,
            "visibility": null,
            "width": null
          }
        },
        "f8e12f050ec54c94ac5219c6e92c22e2": {
          "model_module": "@jupyter-widgets/controls",
          "model_name": "ProgressStyleModel",
          "model_module_version": "1.5.0",
          "state": {
            "_model_module": "@jupyter-widgets/controls",
            "_model_module_version": "1.5.0",
            "_model_name": "ProgressStyleModel",
            "_view_count": null,
            "_view_module": "@jupyter-widgets/base",
            "_view_module_version": "1.2.0",
            "_view_name": "StyleView",
            "bar_color": null,
            "description_width": ""
          }
        },
        "77fb136cc72045d69425f0b641b4c930": {
          "model_module": "@jupyter-widgets/base",
          "model_name": "LayoutModel",
          "model_module_version": "1.2.0",
          "state": {
            "_model_module": "@jupyter-widgets/base",
            "_model_module_version": "1.2.0",
            "_model_name": "LayoutModel",
            "_view_count": null,
            "_view_module": "@jupyter-widgets/base",
            "_view_module_version": "1.2.0",
            "_view_name": "LayoutView",
            "align_content": null,
            "align_items": null,
            "align_self": null,
            "border": null,
            "bottom": null,
            "display": null,
            "flex": null,
            "flex_flow": null,
            "grid_area": null,
            "grid_auto_columns": null,
            "grid_auto_flow": null,
            "grid_auto_rows": null,
            "grid_column": null,
            "grid_gap": null,
            "grid_row": null,
            "grid_template_areas": null,
            "grid_template_columns": null,
            "grid_template_rows": null,
            "height": null,
            "justify_content": null,
            "justify_items": null,
            "left": null,
            "margin": null,
            "max_height": null,
            "max_width": null,
            "min_height": null,
            "min_width": null,
            "object_fit": null,
            "object_position": null,
            "order": null,
            "overflow": null,
            "overflow_x": null,
            "overflow_y": null,
            "padding": null,
            "right": null,
            "top": null,
            "visibility": null,
            "width": null
          }
        },
        "b375ba5253094ede93871c2b2beb1de4": {
          "model_module": "@jupyter-widgets/controls",
          "model_name": "DescriptionStyleModel",
          "model_module_version": "1.5.0",
          "state": {
            "_model_module": "@jupyter-widgets/controls",
            "_model_module_version": "1.5.0",
            "_model_name": "DescriptionStyleModel",
            "_view_count": null,
            "_view_module": "@jupyter-widgets/base",
            "_view_module_version": "1.2.0",
            "_view_name": "StyleView",
            "description_width": ""
          }
        },
        "d6bede6f19f0408eaf470fd13c1d55d3": {
          "model_module": "@jupyter-widgets/controls",
          "model_name": "HBoxModel",
          "model_module_version": "1.5.0",
          "state": {
            "_dom_classes": [],
            "_model_module": "@jupyter-widgets/controls",
            "_model_module_version": "1.5.0",
            "_model_name": "HBoxModel",
            "_view_count": null,
            "_view_module": "@jupyter-widgets/controls",
            "_view_module_version": "1.5.0",
            "_view_name": "HBoxView",
            "box_style": "",
            "children": [
              "IPY_MODEL_f9d3c8b0852440e890df4c5fb4abe113",
              "IPY_MODEL_528dacab802449debbfa3366a08161c7",
              "IPY_MODEL_58854796151647ef9835b73463b2a27b"
            ],
            "layout": "IPY_MODEL_535910c3c87d4199a919ebd0d94d5fb6"
          }
        },
        "f9d3c8b0852440e890df4c5fb4abe113": {
          "model_module": "@jupyter-widgets/controls",
          "model_name": "HTMLModel",
          "model_module_version": "1.5.0",
          "state": {
            "_dom_classes": [],
            "_model_module": "@jupyter-widgets/controls",
            "_model_module_version": "1.5.0",
            "_model_name": "HTMLModel",
            "_view_count": null,
            "_view_module": "@jupyter-widgets/controls",
            "_view_module_version": "1.5.0",
            "_view_name": "HTMLView",
            "description": "",
            "description_tooltip": null,
            "layout": "IPY_MODEL_2e1c0f3371094a2fa13f18edc5daa89f",
            "placeholder": "​",
            "style": "IPY_MODEL_131af9b423964ee78ef70a2d5d547e49",
            "value": "Downloading data: 100%"
          }
        },
        "528dacab802449debbfa3366a08161c7": {
          "model_module": "@jupyter-widgets/controls",
          "model_name": "FloatProgressModel",
          "model_module_version": "1.5.0",
          "state": {
            "_dom_classes": [],
            "_model_module": "@jupyter-widgets/controls",
            "_model_module_version": "1.5.0",
            "_model_name": "FloatProgressModel",
            "_view_count": null,
            "_view_module": "@jupyter-widgets/controls",
            "_view_module_version": "1.5.0",
            "_view_name": "ProgressView",
            "bar_style": "success",
            "description": "",
            "description_tooltip": null,
            "layout": "IPY_MODEL_a70fa34682f7437191c682dcdf788ed8",
            "max": 13338,
            "min": 0,
            "orientation": "horizontal",
            "style": "IPY_MODEL_7746499487304645ad07f434e0e8ae1c",
            "value": 13338
          }
        },
        "58854796151647ef9835b73463b2a27b": {
          "model_module": "@jupyter-widgets/controls",
          "model_name": "HTMLModel",
          "model_module_version": "1.5.0",
          "state": {
            "_dom_classes": [],
            "_model_module": "@jupyter-widgets/controls",
            "_model_module_version": "1.5.0",
            "_model_name": "HTMLModel",
            "_view_count": null,
            "_view_module": "@jupyter-widgets/controls",
            "_view_module_version": "1.5.0",
            "_view_name": "HTMLView",
            "description": "",
            "description_tooltip": null,
            "layout": "IPY_MODEL_b97e1d470fbe41e49326159ac1508f06",
            "placeholder": "​",
            "style": "IPY_MODEL_5b3d9cfa48e44e968d3e50edf18ea5d5",
            "value": " 13.3k/13.3k [00:00&lt;00:00, 101kB/s]"
          }
        },
        "535910c3c87d4199a919ebd0d94d5fb6": {
          "model_module": "@jupyter-widgets/base",
          "model_name": "LayoutModel",
          "model_module_version": "1.2.0",
          "state": {
            "_model_module": "@jupyter-widgets/base",
            "_model_module_version": "1.2.0",
            "_model_name": "LayoutModel",
            "_view_count": null,
            "_view_module": "@jupyter-widgets/base",
            "_view_module_version": "1.2.0",
            "_view_name": "LayoutView",
            "align_content": null,
            "align_items": null,
            "align_self": null,
            "border": null,
            "bottom": null,
            "display": null,
            "flex": null,
            "flex_flow": null,
            "grid_area": null,
            "grid_auto_columns": null,
            "grid_auto_flow": null,
            "grid_auto_rows": null,
            "grid_column": null,
            "grid_gap": null,
            "grid_row": null,
            "grid_template_areas": null,
            "grid_template_columns": null,
            "grid_template_rows": null,
            "height": null,
            "justify_content": null,
            "justify_items": null,
            "left": null,
            "margin": null,
            "max_height": null,
            "max_width": null,
            "min_height": null,
            "min_width": null,
            "object_fit": null,
            "object_position": null,
            "order": null,
            "overflow": null,
            "overflow_x": null,
            "overflow_y": null,
            "padding": null,
            "right": null,
            "top": null,
            "visibility": null,
            "width": null
          }
        },
        "2e1c0f3371094a2fa13f18edc5daa89f": {
          "model_module": "@jupyter-widgets/base",
          "model_name": "LayoutModel",
          "model_module_version": "1.2.0",
          "state": {
            "_model_module": "@jupyter-widgets/base",
            "_model_module_version": "1.2.0",
            "_model_name": "LayoutModel",
            "_view_count": null,
            "_view_module": "@jupyter-widgets/base",
            "_view_module_version": "1.2.0",
            "_view_name": "LayoutView",
            "align_content": null,
            "align_items": null,
            "align_self": null,
            "border": null,
            "bottom": null,
            "display": null,
            "flex": null,
            "flex_flow": null,
            "grid_area": null,
            "grid_auto_columns": null,
            "grid_auto_flow": null,
            "grid_auto_rows": null,
            "grid_column": null,
            "grid_gap": null,
            "grid_row": null,
            "grid_template_areas": null,
            "grid_template_columns": null,
            "grid_template_rows": null,
            "height": null,
            "justify_content": null,
            "justify_items": null,
            "left": null,
            "margin": null,
            "max_height": null,
            "max_width": null,
            "min_height": null,
            "min_width": null,
            "object_fit": null,
            "object_position": null,
            "order": null,
            "overflow": null,
            "overflow_x": null,
            "overflow_y": null,
            "padding": null,
            "right": null,
            "top": null,
            "visibility": null,
            "width": null
          }
        },
        "131af9b423964ee78ef70a2d5d547e49": {
          "model_module": "@jupyter-widgets/controls",
          "model_name": "DescriptionStyleModel",
          "model_module_version": "1.5.0",
          "state": {
            "_model_module": "@jupyter-widgets/controls",
            "_model_module_version": "1.5.0",
            "_model_name": "DescriptionStyleModel",
            "_view_count": null,
            "_view_module": "@jupyter-widgets/base",
            "_view_module_version": "1.2.0",
            "_view_name": "StyleView",
            "description_width": ""
          }
        },
        "a70fa34682f7437191c682dcdf788ed8": {
          "model_module": "@jupyter-widgets/base",
          "model_name": "LayoutModel",
          "model_module_version": "1.2.0",
          "state": {
            "_model_module": "@jupyter-widgets/base",
            "_model_module_version": "1.2.0",
            "_model_name": "LayoutModel",
            "_view_count": null,
            "_view_module": "@jupyter-widgets/base",
            "_view_module_version": "1.2.0",
            "_view_name": "LayoutView",
            "align_content": null,
            "align_items": null,
            "align_self": null,
            "border": null,
            "bottom": null,
            "display": null,
            "flex": null,
            "flex_flow": null,
            "grid_area": null,
            "grid_auto_columns": null,
            "grid_auto_flow": null,
            "grid_auto_rows": null,
            "grid_column": null,
            "grid_gap": null,
            "grid_row": null,
            "grid_template_areas": null,
            "grid_template_columns": null,
            "grid_template_rows": null,
            "height": null,
            "justify_content": null,
            "justify_items": null,
            "left": null,
            "margin": null,
            "max_height": null,
            "max_width": null,
            "min_height": null,
            "min_width": null,
            "object_fit": null,
            "object_position": null,
            "order": null,
            "overflow": null,
            "overflow_x": null,
            "overflow_y": null,
            "padding": null,
            "right": null,
            "top": null,
            "visibility": null,
            "width": null
          }
        },
        "7746499487304645ad07f434e0e8ae1c": {
          "model_module": "@jupyter-widgets/controls",
          "model_name": "ProgressStyleModel",
          "model_module_version": "1.5.0",
          "state": {
            "_model_module": "@jupyter-widgets/controls",
            "_model_module_version": "1.5.0",
            "_model_name": "ProgressStyleModel",
            "_view_count": null,
            "_view_module": "@jupyter-widgets/base",
            "_view_module_version": "1.2.0",
            "_view_name": "StyleView",
            "bar_color": null,
            "description_width": ""
          }
        },
        "b97e1d470fbe41e49326159ac1508f06": {
          "model_module": "@jupyter-widgets/base",
          "model_name": "LayoutModel",
          "model_module_version": "1.2.0",
          "state": {
            "_model_module": "@jupyter-widgets/base",
            "_model_module_version": "1.2.0",
            "_model_name": "LayoutModel",
            "_view_count": null,
            "_view_module": "@jupyter-widgets/base",
            "_view_module_version": "1.2.0",
            "_view_name": "LayoutView",
            "align_content": null,
            "align_items": null,
            "align_self": null,
            "border": null,
            "bottom": null,
            "display": null,
            "flex": null,
            "flex_flow": null,
            "grid_area": null,
            "grid_auto_columns": null,
            "grid_auto_flow": null,
            "grid_auto_rows": null,
            "grid_column": null,
            "grid_gap": null,
            "grid_row": null,
            "grid_template_areas": null,
            "grid_template_columns": null,
            "grid_template_rows": null,
            "height": null,
            "justify_content": null,
            "justify_items": null,
            "left": null,
            "margin": null,
            "max_height": null,
            "max_width": null,
            "min_height": null,
            "min_width": null,
            "object_fit": null,
            "object_position": null,
            "order": null,
            "overflow": null,
            "overflow_x": null,
            "overflow_y": null,
            "padding": null,
            "right": null,
            "top": null,
            "visibility": null,
            "width": null
          }
        },
        "5b3d9cfa48e44e968d3e50edf18ea5d5": {
          "model_module": "@jupyter-widgets/controls",
          "model_name": "DescriptionStyleModel",
          "model_module_version": "1.5.0",
          "state": {
            "_model_module": "@jupyter-widgets/controls",
            "_model_module_version": "1.5.0",
            "_model_name": "DescriptionStyleModel",
            "_view_count": null,
            "_view_module": "@jupyter-widgets/base",
            "_view_module_version": "1.2.0",
            "_view_name": "StyleView",
            "description_width": ""
          }
        },
        "e6b7f5cdcafd4d689922c98c46ffc489": {
          "model_module": "@jupyter-widgets/controls",
          "model_name": "HBoxModel",
          "model_module_version": "1.5.0",
          "state": {
            "_dom_classes": [],
            "_model_module": "@jupyter-widgets/controls",
            "_model_module_version": "1.5.0",
            "_model_name": "HBoxModel",
            "_view_count": null,
            "_view_module": "@jupyter-widgets/controls",
            "_view_module_version": "1.5.0",
            "_view_name": "HBoxView",
            "box_style": "",
            "children": [
              "IPY_MODEL_158f447f7cbe47d6bf950a5afe3eda76",
              "IPY_MODEL_88e3427878c74315a96bfb5007751019",
              "IPY_MODEL_8cf043d4d6534587b6dbc026da2554ce"
            ],
            "layout": "IPY_MODEL_d487f2bc0a32400bb9982f92e13ccb33"
          }
        },
        "158f447f7cbe47d6bf950a5afe3eda76": {
          "model_module": "@jupyter-widgets/controls",
          "model_name": "HTMLModel",
          "model_module_version": "1.5.0",
          "state": {
            "_dom_classes": [],
            "_model_module": "@jupyter-widgets/controls",
            "_model_module_version": "1.5.0",
            "_model_name": "HTMLModel",
            "_view_count": null,
            "_view_module": "@jupyter-widgets/controls",
            "_view_module_version": "1.5.0",
            "_view_name": "HTMLView",
            "description": "",
            "description_tooltip": null,
            "layout": "IPY_MODEL_00aa5be4c1a14c20bf72f05cc34a89c5",
            "placeholder": "​",
            "style": "IPY_MODEL_fdfb22710de3422aa98d14fe05377b17",
            "value": "Generating train split: 100%"
          }
        },
        "88e3427878c74315a96bfb5007751019": {
          "model_module": "@jupyter-widgets/controls",
          "model_name": "FloatProgressModel",
          "model_module_version": "1.5.0",
          "state": {
            "_dom_classes": [],
            "_model_module": "@jupyter-widgets/controls",
            "_model_module_version": "1.5.0",
            "_model_name": "FloatProgressModel",
            "_view_count": null,
            "_view_module": "@jupyter-widgets/controls",
            "_view_module_version": "1.5.0",
            "_view_name": "ProgressView",
            "bar_style": "success",
            "description": "",
            "description_tooltip": null,
            "layout": "IPY_MODEL_a9a784255b4242c396ec071d7aa0ba2d",
            "max": 2124,
            "min": 0,
            "orientation": "horizontal",
            "style": "IPY_MODEL_dcc4a1bd14a949c4a369c9b808554a71",
            "value": 2124
          }
        },
        "8cf043d4d6534587b6dbc026da2554ce": {
          "model_module": "@jupyter-widgets/controls",
          "model_name": "HTMLModel",
          "model_module_version": "1.5.0",
          "state": {
            "_dom_classes": [],
            "_model_module": "@jupyter-widgets/controls",
            "_model_module_version": "1.5.0",
            "_model_name": "HTMLModel",
            "_view_count": null,
            "_view_module": "@jupyter-widgets/controls",
            "_view_module_version": "1.5.0",
            "_view_name": "HTMLView",
            "description": "",
            "description_tooltip": null,
            "layout": "IPY_MODEL_2c1add083fdc4728bda8e047a5fbeac2",
            "placeholder": "​",
            "style": "IPY_MODEL_fab6ead9017f474b9969a1a9b28f3894",
            "value": " 2124/2124 [00:00&lt;00:00, 18200.56 examples/s]"
          }
        },
        "d487f2bc0a32400bb9982f92e13ccb33": {
          "model_module": "@jupyter-widgets/base",
          "model_name": "LayoutModel",
          "model_module_version": "1.2.0",
          "state": {
            "_model_module": "@jupyter-widgets/base",
            "_model_module_version": "1.2.0",
            "_model_name": "LayoutModel",
            "_view_count": null,
            "_view_module": "@jupyter-widgets/base",
            "_view_module_version": "1.2.0",
            "_view_name": "LayoutView",
            "align_content": null,
            "align_items": null,
            "align_self": null,
            "border": null,
            "bottom": null,
            "display": null,
            "flex": null,
            "flex_flow": null,
            "grid_area": null,
            "grid_auto_columns": null,
            "grid_auto_flow": null,
            "grid_auto_rows": null,
            "grid_column": null,
            "grid_gap": null,
            "grid_row": null,
            "grid_template_areas": null,
            "grid_template_columns": null,
            "grid_template_rows": null,
            "height": null,
            "justify_content": null,
            "justify_items": null,
            "left": null,
            "margin": null,
            "max_height": null,
            "max_width": null,
            "min_height": null,
            "min_width": null,
            "object_fit": null,
            "object_position": null,
            "order": null,
            "overflow": null,
            "overflow_x": null,
            "overflow_y": null,
            "padding": null,
            "right": null,
            "top": null,
            "visibility": null,
            "width": null
          }
        },
        "00aa5be4c1a14c20bf72f05cc34a89c5": {
          "model_module": "@jupyter-widgets/base",
          "model_name": "LayoutModel",
          "model_module_version": "1.2.0",
          "state": {
            "_model_module": "@jupyter-widgets/base",
            "_model_module_version": "1.2.0",
            "_model_name": "LayoutModel",
            "_view_count": null,
            "_view_module": "@jupyter-widgets/base",
            "_view_module_version": "1.2.0",
            "_view_name": "LayoutView",
            "align_content": null,
            "align_items": null,
            "align_self": null,
            "border": null,
            "bottom": null,
            "display": null,
            "flex": null,
            "flex_flow": null,
            "grid_area": null,
            "grid_auto_columns": null,
            "grid_auto_flow": null,
            "grid_auto_rows": null,
            "grid_column": null,
            "grid_gap": null,
            "grid_row": null,
            "grid_template_areas": null,
            "grid_template_columns": null,
            "grid_template_rows": null,
            "height": null,
            "justify_content": null,
            "justify_items": null,
            "left": null,
            "margin": null,
            "max_height": null,
            "max_width": null,
            "min_height": null,
            "min_width": null,
            "object_fit": null,
            "object_position": null,
            "order": null,
            "overflow": null,
            "overflow_x": null,
            "overflow_y": null,
            "padding": null,
            "right": null,
            "top": null,
            "visibility": null,
            "width": null
          }
        },
        "fdfb22710de3422aa98d14fe05377b17": {
          "model_module": "@jupyter-widgets/controls",
          "model_name": "DescriptionStyleModel",
          "model_module_version": "1.5.0",
          "state": {
            "_model_module": "@jupyter-widgets/controls",
            "_model_module_version": "1.5.0",
            "_model_name": "DescriptionStyleModel",
            "_view_count": null,
            "_view_module": "@jupyter-widgets/base",
            "_view_module_version": "1.2.0",
            "_view_name": "StyleView",
            "description_width": ""
          }
        },
        "a9a784255b4242c396ec071d7aa0ba2d": {
          "model_module": "@jupyter-widgets/base",
          "model_name": "LayoutModel",
          "model_module_version": "1.2.0",
          "state": {
            "_model_module": "@jupyter-widgets/base",
            "_model_module_version": "1.2.0",
            "_model_name": "LayoutModel",
            "_view_count": null,
            "_view_module": "@jupyter-widgets/base",
            "_view_module_version": "1.2.0",
            "_view_name": "LayoutView",
            "align_content": null,
            "align_items": null,
            "align_self": null,
            "border": null,
            "bottom": null,
            "display": null,
            "flex": null,
            "flex_flow": null,
            "grid_area": null,
            "grid_auto_columns": null,
            "grid_auto_flow": null,
            "grid_auto_rows": null,
            "grid_column": null,
            "grid_gap": null,
            "grid_row": null,
            "grid_template_areas": null,
            "grid_template_columns": null,
            "grid_template_rows": null,
            "height": null,
            "justify_content": null,
            "justify_items": null,
            "left": null,
            "margin": null,
            "max_height": null,
            "max_width": null,
            "min_height": null,
            "min_width": null,
            "object_fit": null,
            "object_position": null,
            "order": null,
            "overflow": null,
            "overflow_x": null,
            "overflow_y": null,
            "padding": null,
            "right": null,
            "top": null,
            "visibility": null,
            "width": null
          }
        },
        "dcc4a1bd14a949c4a369c9b808554a71": {
          "model_module": "@jupyter-widgets/controls",
          "model_name": "ProgressStyleModel",
          "model_module_version": "1.5.0",
          "state": {
            "_model_module": "@jupyter-widgets/controls",
            "_model_module_version": "1.5.0",
            "_model_name": "ProgressStyleModel",
            "_view_count": null,
            "_view_module": "@jupyter-widgets/base",
            "_view_module_version": "1.2.0",
            "_view_name": "StyleView",
            "bar_color": null,
            "description_width": ""
          }
        },
        "2c1add083fdc4728bda8e047a5fbeac2": {
          "model_module": "@jupyter-widgets/base",
          "model_name": "LayoutModel",
          "model_module_version": "1.2.0",
          "state": {
            "_model_module": "@jupyter-widgets/base",
            "_model_module_version": "1.2.0",
            "_model_name": "LayoutModel",
            "_view_count": null,
            "_view_module": "@jupyter-widgets/base",
            "_view_module_version": "1.2.0",
            "_view_name": "LayoutView",
            "align_content": null,
            "align_items": null,
            "align_self": null,
            "border": null,
            "bottom": null,
            "display": null,
            "flex": null,
            "flex_flow": null,
            "grid_area": null,
            "grid_auto_columns": null,
            "grid_auto_flow": null,
            "grid_auto_rows": null,
            "grid_column": null,
            "grid_gap": null,
            "grid_row": null,
            "grid_template_areas": null,
            "grid_template_columns": null,
            "grid_template_rows": null,
            "height": null,
            "justify_content": null,
            "justify_items": null,
            "left": null,
            "margin": null,
            "max_height": null,
            "max_width": null,
            "min_height": null,
            "min_width": null,
            "object_fit": null,
            "object_position": null,
            "order": null,
            "overflow": null,
            "overflow_x": null,
            "overflow_y": null,
            "padding": null,
            "right": null,
            "top": null,
            "visibility": null,
            "width": null
          }
        },
        "fab6ead9017f474b9969a1a9b28f3894": {
          "model_module": "@jupyter-widgets/controls",
          "model_name": "DescriptionStyleModel",
          "model_module_version": "1.5.0",
          "state": {
            "_model_module": "@jupyter-widgets/controls",
            "_model_module_version": "1.5.0",
            "_model_name": "DescriptionStyleModel",
            "_view_count": null,
            "_view_module": "@jupyter-widgets/base",
            "_view_module_version": "1.2.0",
            "_view_name": "StyleView",
            "description_width": ""
          }
        }
      }
    }
  },
  "nbformat": 4,
  "nbformat_minor": 0
}