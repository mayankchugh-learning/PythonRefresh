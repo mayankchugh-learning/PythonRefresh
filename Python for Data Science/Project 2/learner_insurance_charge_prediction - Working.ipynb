{
  "cells": [
    {
      "cell_type": "markdown",
      "metadata": {
        "application/vnd.databricks.v1+cell": {
          "cellMetadata": {},
          "inputWidgets": {},
          "nuid": "0cb5ef7a-9e51-4567-8c10-a3db1097b933",
          "showTitle": false,
          "title": ""
        },
        "id": "_qN9He6rIr6V"
      },
      "source": [
        "# Healthylife insurance charge prediction - Project 2\n",
        "\n",
        "## Problem Statement\n",
        "HealthyLife is a leading insurance company headquartered in New York City, serving customers nationwide with a range of insurance policies, including health, auto, and life insurance. Currently, the company relies on traditional methods to assess insurance charges based on customer details such as age, sex, and BMI. However, they face challenges in accurately predicting insurance charges due to limited insights into how different customer attributes impact premiums. This uncertainty leads to potential underpricing or overpricing of policies, affecting both profitability and customer satisfaction. To address these challenges, the company is looking to leverage advanced predictive modeling techniques to enhance its insurance charge estimation process and provide more accurate and personalized pricing to customers.\n",
        "\n",
        "## Objective\n",
        "As a Data Scientist hired by the insurance company, the objective is to develop an app and implement a predictive model for estimating insurance charges based on customer attributes. The primary challenges to solve include improving the accuracy of insurance charge predictions by incorporating various customer attributes, streamlining the underwriting process to enhance efficiency and customer experience, and maintaining regulatory compliance while optimizing pricing strategies also analyze and identify the driftness in model and data to understand the model behavior overtime\n",
        "\n",
        "By achieving these objectives\n",
        "\n",
        "\n",
        "*   We aim to achieve more accurate and personalized insurance charge estimations\n",
        "*   Reducing the risks of underpricing and overpricing\n",
        "*   Improve customer satisfaction and loyalty through fair and competitive pricing\n",
        "*   Ensuring transparency and compliance with regulatory requirements in pricing strategies will further strengthen our competitive position in the market and enhance overall business performance\n",
        "\n",
        "\n",
        "\n",
        "\n",
        "\n",
        "\n"
      ]
    },
    {
      "cell_type": "markdown",
      "metadata": {
        "application/vnd.databricks.v1+cell": {
          "cellMetadata": {},
          "inputWidgets": {},
          "nuid": "b400c9af-eb88-48be-b024-2404852e3277",
          "showTitle": false,
          "title": ""
        },
        "id": "tUPXEl4CIr6Z"
      },
      "source": [
        "\n",
        "### Import the required libraries"
      ]
    },
    {
      "cell_type": "code",
      "execution_count": 59,
      "metadata": {
        "application/vnd.databricks.v1+cell": {
          "cellMetadata": {
            "byteLimit": 2048000,
            "rowLimit": 10000
          },
          "inputWidgets": {},
          "nuid": "69c6950d-190a-4c7d-a5a2-a42164f4833b",
          "showTitle": false,
          "title": ""
        },
        "id": "HHLvdMVqIr6a"
      },
      "outputs": [],
      "source": [
        "# Importing necessary libraries\n",
        "import pandas as pd\n",
        "import sklearn\n",
        "import joblib\n",
        "import matplotlib.pyplot as plt\n",
        "\n",
        "# Fetching dataset from sklearn's openml module\n",
        "from sklearn.datasets import fetch_openml\n",
        "\n",
        "# Importing preprocessing modules from sklearn\n",
        "from sklearn.preprocessing import StandardScaler, OneHotEncoder, LabelEncoder\n",
        "from sklearn.compose import make_column_transformer\n",
        "from sklearn.impute import SimpleImputer\n",
        "from sklearn.pipeline import Pipeline\n",
        "\n",
        "# Importing make_pipeline function from pipeline module\n",
        "from sklearn.pipeline import make_pipeline\n",
        "\n",
        "# Importing train_test_split and RandomizedSearchCV from model_selection module\n",
        "from sklearn.model_selection import train_test_split, RandomizedSearchCV\n",
        "\n",
        "# Importing LogisticRegression model and evaluation metrics from linear_model and metrics modules\n",
        "# from sklearn.linear_model import LogisticRegression\n",
        "from sklearn.metrics import accuracy_score, classification_report\n",
        "from sklearn.metrics import mean_squared_error, r2_score\n",
        "from sklearn.linear_model import LinearRegression"
      ]
    },
    {
      "cell_type": "code",
      "source": [
        "# Configure scikit-learn to display pipeline diagrams for visualizing the structure of machine learning pipelines\n",
        "sklearn.set_config(display='diagram')"
      ],
      "metadata": {
        "id": "LEfvf0or7HWZ"
      },
      "execution_count": 62,
      "outputs": []
    },
    {
      "cell_type": "markdown",
      "metadata": {
        "application/vnd.databricks.v1+cell": {
          "cellMetadata": {},
          "inputWidgets": {},
          "nuid": "c6c273cf-1eb1-4631-9938-0935c87034c6",
          "showTitle": false,
          "title": ""
        },
        "id": "7FiBsl6wIr6c"
      },
      "source": [
        "## Import the Data"
      ]
    },
    {
      "cell_type": "code",
      "execution_count": 63,
      "metadata": {
        "application/vnd.databricks.v1+cell": {
          "cellMetadata": {
            "byteLimit": 2048000,
            "rowLimit": 10000
          },
          "inputWidgets": {},
          "nuid": "de73d795-30fe-4891-8a22-2356863aaef3",
          "showTitle": false,
          "title": ""
        },
        "id": "2SevoX_RIr6c"
      },
      "outputs": [],
      "source": [
        "# Read the data\n",
        "data_df = pd.read_csv(\"insurance.csv\")"
      ]
    },
    {
      "cell_type": "code",
      "source": [
        "# Print the top 5 rows from the data\n",
        "data_df.head()"
      ],
      "metadata": {
        "colab": {
          "base_uri": "https://localhost:8080/",
          "height": 206
        },
        "id": "bKOAqwM37T3P",
        "outputId": "10a43ead-9bea-4744-af1d-6057f1e2595a"
      },
      "execution_count": 64,
      "outputs": [
        {
          "output_type": "execute_result",
          "data": {
            "text/plain": [
              "   index  age     sex     bmi  children smoker     region      charges\n",
              "0      0   19  female  27.900         0    yes  southwest  16884.92400\n",
              "1      1   18    male  33.770         1     no  southeast   1725.55230\n",
              "2      2   28    male  33.000         3     no  southeast   4449.46200\n",
              "3      3   33    male  22.705         0     no  northwest  21984.47061\n",
              "4      4   32    male  28.880         0     no  northwest   3866.85520"
            ],
            "text/html": [
              "\n",
              "  <div id=\"df-f216e061-007f-4d10-95fc-2fc1954cd0ac\" class=\"colab-df-container\">\n",
              "    <div>\n",
              "<style scoped>\n",
              "    .dataframe tbody tr th:only-of-type {\n",
              "        vertical-align: middle;\n",
              "    }\n",
              "\n",
              "    .dataframe tbody tr th {\n",
              "        vertical-align: top;\n",
              "    }\n",
              "\n",
              "    .dataframe thead th {\n",
              "        text-align: right;\n",
              "    }\n",
              "</style>\n",
              "<table border=\"1\" class=\"dataframe\">\n",
              "  <thead>\n",
              "    <tr style=\"text-align: right;\">\n",
              "      <th></th>\n",
              "      <th>index</th>\n",
              "      <th>age</th>\n",
              "      <th>sex</th>\n",
              "      <th>bmi</th>\n",
              "      <th>children</th>\n",
              "      <th>smoker</th>\n",
              "      <th>region</th>\n",
              "      <th>charges</th>\n",
              "    </tr>\n",
              "  </thead>\n",
              "  <tbody>\n",
              "    <tr>\n",
              "      <th>0</th>\n",
              "      <td>0</td>\n",
              "      <td>19</td>\n",
              "      <td>female</td>\n",
              "      <td>27.900</td>\n",
              "      <td>0</td>\n",
              "      <td>yes</td>\n",
              "      <td>southwest</td>\n",
              "      <td>16884.92400</td>\n",
              "    </tr>\n",
              "    <tr>\n",
              "      <th>1</th>\n",
              "      <td>1</td>\n",
              "      <td>18</td>\n",
              "      <td>male</td>\n",
              "      <td>33.770</td>\n",
              "      <td>1</td>\n",
              "      <td>no</td>\n",
              "      <td>southeast</td>\n",
              "      <td>1725.55230</td>\n",
              "    </tr>\n",
              "    <tr>\n",
              "      <th>2</th>\n",
              "      <td>2</td>\n",
              "      <td>28</td>\n",
              "      <td>male</td>\n",
              "      <td>33.000</td>\n",
              "      <td>3</td>\n",
              "      <td>no</td>\n",
              "      <td>southeast</td>\n",
              "      <td>4449.46200</td>\n",
              "    </tr>\n",
              "    <tr>\n",
              "      <th>3</th>\n",
              "      <td>3</td>\n",
              "      <td>33</td>\n",
              "      <td>male</td>\n",
              "      <td>22.705</td>\n",
              "      <td>0</td>\n",
              "      <td>no</td>\n",
              "      <td>northwest</td>\n",
              "      <td>21984.47061</td>\n",
              "    </tr>\n",
              "    <tr>\n",
              "      <th>4</th>\n",
              "      <td>4</td>\n",
              "      <td>32</td>\n",
              "      <td>male</td>\n",
              "      <td>28.880</td>\n",
              "      <td>0</td>\n",
              "      <td>no</td>\n",
              "      <td>northwest</td>\n",
              "      <td>3866.85520</td>\n",
              "    </tr>\n",
              "  </tbody>\n",
              "</table>\n",
              "</div>\n",
              "    <div class=\"colab-df-buttons\">\n",
              "\n",
              "  <div class=\"colab-df-container\">\n",
              "    <button class=\"colab-df-convert\" onclick=\"convertToInteractive('df-f216e061-007f-4d10-95fc-2fc1954cd0ac')\"\n",
              "            title=\"Convert this dataframe to an interactive table.\"\n",
              "            style=\"display:none;\">\n",
              "\n",
              "  <svg xmlns=\"http://www.w3.org/2000/svg\" height=\"24px\" viewBox=\"0 -960 960 960\">\n",
              "    <path d=\"M120-120v-720h720v720H120Zm60-500h600v-160H180v160Zm220 220h160v-160H400v160Zm0 220h160v-160H400v160ZM180-400h160v-160H180v160Zm440 0h160v-160H620v160ZM180-180h160v-160H180v160Zm440 0h160v-160H620v160Z\"/>\n",
              "  </svg>\n",
              "    </button>\n",
              "\n",
              "  <style>\n",
              "    .colab-df-container {\n",
              "      display:flex;\n",
              "      gap: 12px;\n",
              "    }\n",
              "\n",
              "    .colab-df-convert {\n",
              "      background-color: #E8F0FE;\n",
              "      border: none;\n",
              "      border-radius: 50%;\n",
              "      cursor: pointer;\n",
              "      display: none;\n",
              "      fill: #1967D2;\n",
              "      height: 32px;\n",
              "      padding: 0 0 0 0;\n",
              "      width: 32px;\n",
              "    }\n",
              "\n",
              "    .colab-df-convert:hover {\n",
              "      background-color: #E2EBFA;\n",
              "      box-shadow: 0px 1px 2px rgba(60, 64, 67, 0.3), 0px 1px 3px 1px rgba(60, 64, 67, 0.15);\n",
              "      fill: #174EA6;\n",
              "    }\n",
              "\n",
              "    .colab-df-buttons div {\n",
              "      margin-bottom: 4px;\n",
              "    }\n",
              "\n",
              "    [theme=dark] .colab-df-convert {\n",
              "      background-color: #3B4455;\n",
              "      fill: #D2E3FC;\n",
              "    }\n",
              "\n",
              "    [theme=dark] .colab-df-convert:hover {\n",
              "      background-color: #434B5C;\n",
              "      box-shadow: 0px 1px 3px 1px rgba(0, 0, 0, 0.15);\n",
              "      filter: drop-shadow(0px 1px 2px rgba(0, 0, 0, 0.3));\n",
              "      fill: #FFFFFF;\n",
              "    }\n",
              "  </style>\n",
              "\n",
              "    <script>\n",
              "      const buttonEl =\n",
              "        document.querySelector('#df-f216e061-007f-4d10-95fc-2fc1954cd0ac button.colab-df-convert');\n",
              "      buttonEl.style.display =\n",
              "        google.colab.kernel.accessAllowed ? 'block' : 'none';\n",
              "\n",
              "      async function convertToInteractive(key) {\n",
              "        const element = document.querySelector('#df-f216e061-007f-4d10-95fc-2fc1954cd0ac');\n",
              "        const dataTable =\n",
              "          await google.colab.kernel.invokeFunction('convertToInteractive',\n",
              "                                                    [key], {});\n",
              "        if (!dataTable) return;\n",
              "\n",
              "        const docLinkHtml = 'Like what you see? Visit the ' +\n",
              "          '<a target=\"_blank\" href=https://colab.research.google.com/notebooks/data_table.ipynb>data table notebook</a>'\n",
              "          + ' to learn more about interactive tables.';\n",
              "        element.innerHTML = '';\n",
              "        dataTable['output_type'] = 'display_data';\n",
              "        await google.colab.output.renderOutput(dataTable, element);\n",
              "        const docLink = document.createElement('div');\n",
              "        docLink.innerHTML = docLinkHtml;\n",
              "        element.appendChild(docLink);\n",
              "      }\n",
              "    </script>\n",
              "  </div>\n",
              "\n",
              "\n",
              "<div id=\"df-028dc7d5-d49a-4cac-b814-bbd182852954\">\n",
              "  <button class=\"colab-df-quickchart\" onclick=\"quickchart('df-028dc7d5-d49a-4cac-b814-bbd182852954')\"\n",
              "            title=\"Suggest charts\"\n",
              "            style=\"display:none;\">\n",
              "\n",
              "<svg xmlns=\"http://www.w3.org/2000/svg\" height=\"24px\"viewBox=\"0 0 24 24\"\n",
              "     width=\"24px\">\n",
              "    <g>\n",
              "        <path d=\"M19 3H5c-1.1 0-2 .9-2 2v14c0 1.1.9 2 2 2h14c1.1 0 2-.9 2-2V5c0-1.1-.9-2-2-2zM9 17H7v-7h2v7zm4 0h-2V7h2v10zm4 0h-2v-4h2v4z\"/>\n",
              "    </g>\n",
              "</svg>\n",
              "  </button>\n",
              "\n",
              "<style>\n",
              "  .colab-df-quickchart {\n",
              "      --bg-color: #E8F0FE;\n",
              "      --fill-color: #1967D2;\n",
              "      --hover-bg-color: #E2EBFA;\n",
              "      --hover-fill-color: #174EA6;\n",
              "      --disabled-fill-color: #AAA;\n",
              "      --disabled-bg-color: #DDD;\n",
              "  }\n",
              "\n",
              "  [theme=dark] .colab-df-quickchart {\n",
              "      --bg-color: #3B4455;\n",
              "      --fill-color: #D2E3FC;\n",
              "      --hover-bg-color: #434B5C;\n",
              "      --hover-fill-color: #FFFFFF;\n",
              "      --disabled-bg-color: #3B4455;\n",
              "      --disabled-fill-color: #666;\n",
              "  }\n",
              "\n",
              "  .colab-df-quickchart {\n",
              "    background-color: var(--bg-color);\n",
              "    border: none;\n",
              "    border-radius: 50%;\n",
              "    cursor: pointer;\n",
              "    display: none;\n",
              "    fill: var(--fill-color);\n",
              "    height: 32px;\n",
              "    padding: 0;\n",
              "    width: 32px;\n",
              "  }\n",
              "\n",
              "  .colab-df-quickchart:hover {\n",
              "    background-color: var(--hover-bg-color);\n",
              "    box-shadow: 0 1px 2px rgba(60, 64, 67, 0.3), 0 1px 3px 1px rgba(60, 64, 67, 0.15);\n",
              "    fill: var(--button-hover-fill-color);\n",
              "  }\n",
              "\n",
              "  .colab-df-quickchart-complete:disabled,\n",
              "  .colab-df-quickchart-complete:disabled:hover {\n",
              "    background-color: var(--disabled-bg-color);\n",
              "    fill: var(--disabled-fill-color);\n",
              "    box-shadow: none;\n",
              "  }\n",
              "\n",
              "  .colab-df-spinner {\n",
              "    border: 2px solid var(--fill-color);\n",
              "    border-color: transparent;\n",
              "    border-bottom-color: var(--fill-color);\n",
              "    animation:\n",
              "      spin 1s steps(1) infinite;\n",
              "  }\n",
              "\n",
              "  @keyframes spin {\n",
              "    0% {\n",
              "      border-color: transparent;\n",
              "      border-bottom-color: var(--fill-color);\n",
              "      border-left-color: var(--fill-color);\n",
              "    }\n",
              "    20% {\n",
              "      border-color: transparent;\n",
              "      border-left-color: var(--fill-color);\n",
              "      border-top-color: var(--fill-color);\n",
              "    }\n",
              "    30% {\n",
              "      border-color: transparent;\n",
              "      border-left-color: var(--fill-color);\n",
              "      border-top-color: var(--fill-color);\n",
              "      border-right-color: var(--fill-color);\n",
              "    }\n",
              "    40% {\n",
              "      border-color: transparent;\n",
              "      border-right-color: var(--fill-color);\n",
              "      border-top-color: var(--fill-color);\n",
              "    }\n",
              "    60% {\n",
              "      border-color: transparent;\n",
              "      border-right-color: var(--fill-color);\n",
              "    }\n",
              "    80% {\n",
              "      border-color: transparent;\n",
              "      border-right-color: var(--fill-color);\n",
              "      border-bottom-color: var(--fill-color);\n",
              "    }\n",
              "    90% {\n",
              "      border-color: transparent;\n",
              "      border-bottom-color: var(--fill-color);\n",
              "    }\n",
              "  }\n",
              "</style>\n",
              "\n",
              "  <script>\n",
              "    async function quickchart(key) {\n",
              "      const quickchartButtonEl =\n",
              "        document.querySelector('#' + key + ' button');\n",
              "      quickchartButtonEl.disabled = true;  // To prevent multiple clicks.\n",
              "      quickchartButtonEl.classList.add('colab-df-spinner');\n",
              "      try {\n",
              "        const charts = await google.colab.kernel.invokeFunction(\n",
              "            'suggestCharts', [key], {});\n",
              "      } catch (error) {\n",
              "        console.error('Error during call to suggestCharts:', error);\n",
              "      }\n",
              "      quickchartButtonEl.classList.remove('colab-df-spinner');\n",
              "      quickchartButtonEl.classList.add('colab-df-quickchart-complete');\n",
              "    }\n",
              "    (() => {\n",
              "      let quickchartButtonEl =\n",
              "        document.querySelector('#df-028dc7d5-d49a-4cac-b814-bbd182852954 button');\n",
              "      quickchartButtonEl.style.display =\n",
              "        google.colab.kernel.accessAllowed ? 'block' : 'none';\n",
              "    })();\n",
              "  </script>\n",
              "</div>\n",
              "    </div>\n",
              "  </div>\n"
            ],
            "application/vnd.google.colaboratory.intrinsic+json": {
              "type": "dataframe",
              "variable_name": "data_df",
              "summary": "{\n  \"name\": \"data_df\",\n  \"rows\": 1338,\n  \"fields\": [\n    {\n      \"column\": \"index\",\n      \"properties\": {\n        \"dtype\": \"number\",\n        \"std\": 386,\n        \"min\": 0,\n        \"max\": 1337,\n        \"num_unique_values\": 1338,\n        \"samples\": [\n          764,\n          887,\n          890\n        ],\n        \"semantic_type\": \"\",\n        \"description\": \"\"\n      }\n    },\n    {\n      \"column\": \"age\",\n      \"properties\": {\n        \"dtype\": \"number\",\n        \"std\": 14,\n        \"min\": 18,\n        \"max\": 64,\n        \"num_unique_values\": 47,\n        \"samples\": [\n          21,\n          45,\n          36\n        ],\n        \"semantic_type\": \"\",\n        \"description\": \"\"\n      }\n    },\n    {\n      \"column\": \"sex\",\n      \"properties\": {\n        \"dtype\": \"category\",\n        \"num_unique_values\": 2,\n        \"samples\": [\n          \"male\",\n          \"female\"\n        ],\n        \"semantic_type\": \"\",\n        \"description\": \"\"\n      }\n    },\n    {\n      \"column\": \"bmi\",\n      \"properties\": {\n        \"dtype\": \"number\",\n        \"std\": 6.098186911679014,\n        \"min\": 15.96,\n        \"max\": 53.13,\n        \"num_unique_values\": 548,\n        \"samples\": [\n          23.18,\n          26.885\n        ],\n        \"semantic_type\": \"\",\n        \"description\": \"\"\n      }\n    },\n    {\n      \"column\": \"children\",\n      \"properties\": {\n        \"dtype\": \"number\",\n        \"std\": 1,\n        \"min\": 0,\n        \"max\": 5,\n        \"num_unique_values\": 6,\n        \"samples\": [\n          0,\n          1\n        ],\n        \"semantic_type\": \"\",\n        \"description\": \"\"\n      }\n    },\n    {\n      \"column\": \"smoker\",\n      \"properties\": {\n        \"dtype\": \"category\",\n        \"num_unique_values\": 2,\n        \"samples\": [\n          \"no\",\n          \"yes\"\n        ],\n        \"semantic_type\": \"\",\n        \"description\": \"\"\n      }\n    },\n    {\n      \"column\": \"region\",\n      \"properties\": {\n        \"dtype\": \"category\",\n        \"num_unique_values\": 4,\n        \"samples\": [\n          \"southeast\",\n          \"northeast\"\n        ],\n        \"semantic_type\": \"\",\n        \"description\": \"\"\n      }\n    },\n    {\n      \"column\": \"charges\",\n      \"properties\": {\n        \"dtype\": \"number\",\n        \"std\": 12110.011236694001,\n        \"min\": 1121.8739,\n        \"max\": 63770.42801,\n        \"num_unique_values\": 1337,\n        \"samples\": [\n          8688.85885,\n          5708.867\n        ],\n        \"semantic_type\": \"\",\n        \"description\": \"\"\n      }\n    }\n  ]\n}"
            }
          },
          "metadata": {},
          "execution_count": 64
        }
      ]
    },
    {
      "cell_type": "code",
      "source": [
        "data_df.info()"
      ],
      "metadata": {
        "colab": {
          "base_uri": "https://localhost:8080/"
        },
        "id": "EYvJ8Ij-7bSZ",
        "outputId": "c1177ed0-6a8d-4c39-f961-5b9533dc32ad"
      },
      "execution_count": 65,
      "outputs": [
        {
          "output_type": "stream",
          "name": "stdout",
          "text": [
            "<class 'pandas.core.frame.DataFrame'>\n",
            "RangeIndex: 1338 entries, 0 to 1337\n",
            "Data columns (total 8 columns):\n",
            " #   Column    Non-Null Count  Dtype  \n",
            "---  ------    --------------  -----  \n",
            " 0   index     1338 non-null   int64  \n",
            " 1   age       1338 non-null   int64  \n",
            " 2   sex       1338 non-null   object \n",
            " 3   bmi       1338 non-null   float64\n",
            " 4   children  1338 non-null   int64  \n",
            " 5   smoker    1338 non-null   object \n",
            " 6   region    1338 non-null   object \n",
            " 7   charges   1338 non-null   float64\n",
            "dtypes: float64(2), int64(3), object(3)\n",
            "memory usage: 83.8+ KB\n"
          ]
        }
      ]
    },
    {
      "cell_type": "code",
      "source": [
        "# Get the column names in the dataset\n",
        "data_df.columns"
      ],
      "metadata": {
        "colab": {
          "base_uri": "https://localhost:8080/"
        },
        "id": "jY9zEp0C7sq9",
        "outputId": "c57c6ef8-92a1-4d04-d7e3-43ab2aaef274"
      },
      "execution_count": 66,
      "outputs": [
        {
          "output_type": "execute_result",
          "data": {
            "text/plain": [
              "Index(['index', 'age', 'sex', 'bmi', 'children', 'smoker', 'region',\n",
              "       'charges'],\n",
              "      dtype='object')"
            ]
          },
          "metadata": {},
          "execution_count": 66
        }
      ]
    },
    {
      "cell_type": "code",
      "source": [
        "# Get the shape of the data\n",
        "data_df.shape"
      ],
      "metadata": {
        "colab": {
          "base_uri": "https://localhost:8080/"
        },
        "id": "QldZQvQl7xUS",
        "outputId": "a02e7052-182b-497d-a38a-06facc0339e9"
      },
      "execution_count": 67,
      "outputs": [
        {
          "output_type": "execute_result",
          "data": {
            "text/plain": [
              "(1338, 8)"
            ]
          },
          "metadata": {},
          "execution_count": 67
        }
      ]
    },
    {
      "cell_type": "code",
      "source": [
        "# Check is there any missing values iin the dataset\n",
        "data_df.isnull().sum()"
      ],
      "metadata": {
        "colab": {
          "base_uri": "https://localhost:8080/"
        },
        "id": "4OOc0o_X71Fx",
        "outputId": "662c0db4-5fb4-4324-af79-bd078bc2351b"
      },
      "execution_count": 68,
      "outputs": [
        {
          "output_type": "execute_result",
          "data": {
            "text/plain": [
              "index       0\n",
              "age         0\n",
              "sex         0\n",
              "bmi         0\n",
              "children    0\n",
              "smoker      0\n",
              "region      0\n",
              "charges     0\n",
              "dtype: int64"
            ]
          },
          "metadata": {},
          "execution_count": 68
        }
      ]
    },
    {
      "cell_type": "code",
      "source": [
        "# Store the numerical features in a new varable called numerical_features\n",
        "numerical_features =data_df[['age', 'bmi', 'children']].columns"
      ],
      "metadata": {
        "id": "fhXWAk2B8t2v"
      },
      "execution_count": 71,
      "outputs": []
    },
    {
      "cell_type": "code",
      "source": [
        "numerical_features"
      ],
      "metadata": {
        "colab": {
          "base_uri": "https://localhost:8080/"
        },
        "id": "pXW6C0XS9LLh",
        "outputId": "b059332b-72d5-4005-8c44-358980004548"
      },
      "execution_count": 72,
      "outputs": [
        {
          "output_type": "execute_result",
          "data": {
            "text/plain": [
              "Index(['age', 'bmi', 'children'], dtype='object')"
            ]
          },
          "metadata": {},
          "execution_count": 72
        }
      ]
    },
    {
      "cell_type": "code",
      "source": [
        "# Store the categorical features in a new varable called categorical_features\n",
        "categorical_features = data_df.select_dtypes(include=['object']).columns"
      ],
      "metadata": {
        "id": "wCh9zcNv9TVB"
      },
      "execution_count": 73,
      "outputs": []
    },
    {
      "cell_type": "code",
      "source": [
        "categorical_features"
      ],
      "metadata": {
        "colab": {
          "base_uri": "https://localhost:8080/"
        },
        "id": "E65ZqZ_N9Xm1",
        "outputId": "b5c24e05-342e-4a24-8a8f-42501f57426e"
      },
      "execution_count": 74,
      "outputs": [
        {
          "output_type": "execute_result",
          "data": {
            "text/plain": [
              "Index(['sex', 'smoker', 'region'], dtype='object')"
            ]
          },
          "metadata": {},
          "execution_count": 74
        }
      ]
    },
    {
      "cell_type": "code",
      "source": [
        "# Get the count of the children\n",
        "data_df['children'].value_counts()"
      ],
      "metadata": {
        "colab": {
          "base_uri": "https://localhost:8080/"
        },
        "id": "WV0Klbco9kvT",
        "outputId": "f0edef28-0ba9-4fe0-cda1-e00b9013104d"
      },
      "execution_count": 75,
      "outputs": [
        {
          "output_type": "execute_result",
          "data": {
            "text/plain": [
              "children\n",
              "0    574\n",
              "1    324\n",
              "2    240\n",
              "3    157\n",
              "4     25\n",
              "5     18\n",
              "Name: count, dtype: int64"
            ]
          },
          "metadata": {},
          "execution_count": 75
        }
      ]
    },
    {
      "cell_type": "code",
      "source": [
        "# split data in to numerical and categorical\n",
        "numerical_cols = data_df.select_dtypes(include=[\"int64\", \"float64\"]).columns\n",
        "categorical_cols = data_df.select_dtypes(include=[\"object\"]).columns\n",
        "\n",
        "# Create separate dataframes for numerical and categorical data\n",
        "numerical_data = data_df[numerical_cols]\n",
        "categorical_data = data_df[categorical_cols]"
      ],
      "metadata": {
        "id": "ma5FcX253xB3"
      },
      "execution_count": 76,
      "outputs": []
    },
    {
      "cell_type": "code",
      "source": [
        "numerical_data"
      ],
      "metadata": {
        "colab": {
          "base_uri": "https://localhost:8080/",
          "height": 424
        },
        "id": "Ezh5D_G0hx8Z",
        "outputId": "0f76e343-64e0-47ac-f096-ec9fc0a78a8c"
      },
      "execution_count": 77,
      "outputs": [
        {
          "output_type": "execute_result",
          "data": {
            "text/plain": [
              "      index  age     bmi  children      charges\n",
              "0         0   19  27.900         0  16884.92400\n",
              "1         1   18  33.770         1   1725.55230\n",
              "2         2   28  33.000         3   4449.46200\n",
              "3         3   33  22.705         0  21984.47061\n",
              "4         4   32  28.880         0   3866.85520\n",
              "...     ...  ...     ...       ...          ...\n",
              "1333   1333   50  30.970         3  10600.54830\n",
              "1334   1334   18  31.920         0   2205.98080\n",
              "1335   1335   18  36.850         0   1629.83350\n",
              "1336   1336   21  25.800         0   2007.94500\n",
              "1337   1337   61  29.070         0  29141.36030\n",
              "\n",
              "[1338 rows x 5 columns]"
            ],
            "text/html": [
              "\n",
              "  <div id=\"df-eab529e9-3588-4213-8e45-09f07a46a507\" class=\"colab-df-container\">\n",
              "    <div>\n",
              "<style scoped>\n",
              "    .dataframe tbody tr th:only-of-type {\n",
              "        vertical-align: middle;\n",
              "    }\n",
              "\n",
              "    .dataframe tbody tr th {\n",
              "        vertical-align: top;\n",
              "    }\n",
              "\n",
              "    .dataframe thead th {\n",
              "        text-align: right;\n",
              "    }\n",
              "</style>\n",
              "<table border=\"1\" class=\"dataframe\">\n",
              "  <thead>\n",
              "    <tr style=\"text-align: right;\">\n",
              "      <th></th>\n",
              "      <th>index</th>\n",
              "      <th>age</th>\n",
              "      <th>bmi</th>\n",
              "      <th>children</th>\n",
              "      <th>charges</th>\n",
              "    </tr>\n",
              "  </thead>\n",
              "  <tbody>\n",
              "    <tr>\n",
              "      <th>0</th>\n",
              "      <td>0</td>\n",
              "      <td>19</td>\n",
              "      <td>27.900</td>\n",
              "      <td>0</td>\n",
              "      <td>16884.92400</td>\n",
              "    </tr>\n",
              "    <tr>\n",
              "      <th>1</th>\n",
              "      <td>1</td>\n",
              "      <td>18</td>\n",
              "      <td>33.770</td>\n",
              "      <td>1</td>\n",
              "      <td>1725.55230</td>\n",
              "    </tr>\n",
              "    <tr>\n",
              "      <th>2</th>\n",
              "      <td>2</td>\n",
              "      <td>28</td>\n",
              "      <td>33.000</td>\n",
              "      <td>3</td>\n",
              "      <td>4449.46200</td>\n",
              "    </tr>\n",
              "    <tr>\n",
              "      <th>3</th>\n",
              "      <td>3</td>\n",
              "      <td>33</td>\n",
              "      <td>22.705</td>\n",
              "      <td>0</td>\n",
              "      <td>21984.47061</td>\n",
              "    </tr>\n",
              "    <tr>\n",
              "      <th>4</th>\n",
              "      <td>4</td>\n",
              "      <td>32</td>\n",
              "      <td>28.880</td>\n",
              "      <td>0</td>\n",
              "      <td>3866.85520</td>\n",
              "    </tr>\n",
              "    <tr>\n",
              "      <th>...</th>\n",
              "      <td>...</td>\n",
              "      <td>...</td>\n",
              "      <td>...</td>\n",
              "      <td>...</td>\n",
              "      <td>...</td>\n",
              "    </tr>\n",
              "    <tr>\n",
              "      <th>1333</th>\n",
              "      <td>1333</td>\n",
              "      <td>50</td>\n",
              "      <td>30.970</td>\n",
              "      <td>3</td>\n",
              "      <td>10600.54830</td>\n",
              "    </tr>\n",
              "    <tr>\n",
              "      <th>1334</th>\n",
              "      <td>1334</td>\n",
              "      <td>18</td>\n",
              "      <td>31.920</td>\n",
              "      <td>0</td>\n",
              "      <td>2205.98080</td>\n",
              "    </tr>\n",
              "    <tr>\n",
              "      <th>1335</th>\n",
              "      <td>1335</td>\n",
              "      <td>18</td>\n",
              "      <td>36.850</td>\n",
              "      <td>0</td>\n",
              "      <td>1629.83350</td>\n",
              "    </tr>\n",
              "    <tr>\n",
              "      <th>1336</th>\n",
              "      <td>1336</td>\n",
              "      <td>21</td>\n",
              "      <td>25.800</td>\n",
              "      <td>0</td>\n",
              "      <td>2007.94500</td>\n",
              "    </tr>\n",
              "    <tr>\n",
              "      <th>1337</th>\n",
              "      <td>1337</td>\n",
              "      <td>61</td>\n",
              "      <td>29.070</td>\n",
              "      <td>0</td>\n",
              "      <td>29141.36030</td>\n",
              "    </tr>\n",
              "  </tbody>\n",
              "</table>\n",
              "<p>1338 rows × 5 columns</p>\n",
              "</div>\n",
              "    <div class=\"colab-df-buttons\">\n",
              "\n",
              "  <div class=\"colab-df-container\">\n",
              "    <button class=\"colab-df-convert\" onclick=\"convertToInteractive('df-eab529e9-3588-4213-8e45-09f07a46a507')\"\n",
              "            title=\"Convert this dataframe to an interactive table.\"\n",
              "            style=\"display:none;\">\n",
              "\n",
              "  <svg xmlns=\"http://www.w3.org/2000/svg\" height=\"24px\" viewBox=\"0 -960 960 960\">\n",
              "    <path d=\"M120-120v-720h720v720H120Zm60-500h600v-160H180v160Zm220 220h160v-160H400v160Zm0 220h160v-160H400v160ZM180-400h160v-160H180v160Zm440 0h160v-160H620v160ZM180-180h160v-160H180v160Zm440 0h160v-160H620v160Z\"/>\n",
              "  </svg>\n",
              "    </button>\n",
              "\n",
              "  <style>\n",
              "    .colab-df-container {\n",
              "      display:flex;\n",
              "      gap: 12px;\n",
              "    }\n",
              "\n",
              "    .colab-df-convert {\n",
              "      background-color: #E8F0FE;\n",
              "      border: none;\n",
              "      border-radius: 50%;\n",
              "      cursor: pointer;\n",
              "      display: none;\n",
              "      fill: #1967D2;\n",
              "      height: 32px;\n",
              "      padding: 0 0 0 0;\n",
              "      width: 32px;\n",
              "    }\n",
              "\n",
              "    .colab-df-convert:hover {\n",
              "      background-color: #E2EBFA;\n",
              "      box-shadow: 0px 1px 2px rgba(60, 64, 67, 0.3), 0px 1px 3px 1px rgba(60, 64, 67, 0.15);\n",
              "      fill: #174EA6;\n",
              "    }\n",
              "\n",
              "    .colab-df-buttons div {\n",
              "      margin-bottom: 4px;\n",
              "    }\n",
              "\n",
              "    [theme=dark] .colab-df-convert {\n",
              "      background-color: #3B4455;\n",
              "      fill: #D2E3FC;\n",
              "    }\n",
              "\n",
              "    [theme=dark] .colab-df-convert:hover {\n",
              "      background-color: #434B5C;\n",
              "      box-shadow: 0px 1px 3px 1px rgba(0, 0, 0, 0.15);\n",
              "      filter: drop-shadow(0px 1px 2px rgba(0, 0, 0, 0.3));\n",
              "      fill: #FFFFFF;\n",
              "    }\n",
              "  </style>\n",
              "\n",
              "    <script>\n",
              "      const buttonEl =\n",
              "        document.querySelector('#df-eab529e9-3588-4213-8e45-09f07a46a507 button.colab-df-convert');\n",
              "      buttonEl.style.display =\n",
              "        google.colab.kernel.accessAllowed ? 'block' : 'none';\n",
              "\n",
              "      async function convertToInteractive(key) {\n",
              "        const element = document.querySelector('#df-eab529e9-3588-4213-8e45-09f07a46a507');\n",
              "        const dataTable =\n",
              "          await google.colab.kernel.invokeFunction('convertToInteractive',\n",
              "                                                    [key], {});\n",
              "        if (!dataTable) return;\n",
              "\n",
              "        const docLinkHtml = 'Like what you see? Visit the ' +\n",
              "          '<a target=\"_blank\" href=https://colab.research.google.com/notebooks/data_table.ipynb>data table notebook</a>'\n",
              "          + ' to learn more about interactive tables.';\n",
              "        element.innerHTML = '';\n",
              "        dataTable['output_type'] = 'display_data';\n",
              "        await google.colab.output.renderOutput(dataTable, element);\n",
              "        const docLink = document.createElement('div');\n",
              "        docLink.innerHTML = docLinkHtml;\n",
              "        element.appendChild(docLink);\n",
              "      }\n",
              "    </script>\n",
              "  </div>\n",
              "\n",
              "\n",
              "<div id=\"df-2f258e57-e042-436a-a032-6cc45957f4e9\">\n",
              "  <button class=\"colab-df-quickchart\" onclick=\"quickchart('df-2f258e57-e042-436a-a032-6cc45957f4e9')\"\n",
              "            title=\"Suggest charts\"\n",
              "            style=\"display:none;\">\n",
              "\n",
              "<svg xmlns=\"http://www.w3.org/2000/svg\" height=\"24px\"viewBox=\"0 0 24 24\"\n",
              "     width=\"24px\">\n",
              "    <g>\n",
              "        <path d=\"M19 3H5c-1.1 0-2 .9-2 2v14c0 1.1.9 2 2 2h14c1.1 0 2-.9 2-2V5c0-1.1-.9-2-2-2zM9 17H7v-7h2v7zm4 0h-2V7h2v10zm4 0h-2v-4h2v4z\"/>\n",
              "    </g>\n",
              "</svg>\n",
              "  </button>\n",
              "\n",
              "<style>\n",
              "  .colab-df-quickchart {\n",
              "      --bg-color: #E8F0FE;\n",
              "      --fill-color: #1967D2;\n",
              "      --hover-bg-color: #E2EBFA;\n",
              "      --hover-fill-color: #174EA6;\n",
              "      --disabled-fill-color: #AAA;\n",
              "      --disabled-bg-color: #DDD;\n",
              "  }\n",
              "\n",
              "  [theme=dark] .colab-df-quickchart {\n",
              "      --bg-color: #3B4455;\n",
              "      --fill-color: #D2E3FC;\n",
              "      --hover-bg-color: #434B5C;\n",
              "      --hover-fill-color: #FFFFFF;\n",
              "      --disabled-bg-color: #3B4455;\n",
              "      --disabled-fill-color: #666;\n",
              "  }\n",
              "\n",
              "  .colab-df-quickchart {\n",
              "    background-color: var(--bg-color);\n",
              "    border: none;\n",
              "    border-radius: 50%;\n",
              "    cursor: pointer;\n",
              "    display: none;\n",
              "    fill: var(--fill-color);\n",
              "    height: 32px;\n",
              "    padding: 0;\n",
              "    width: 32px;\n",
              "  }\n",
              "\n",
              "  .colab-df-quickchart:hover {\n",
              "    background-color: var(--hover-bg-color);\n",
              "    box-shadow: 0 1px 2px rgba(60, 64, 67, 0.3), 0 1px 3px 1px rgba(60, 64, 67, 0.15);\n",
              "    fill: var(--button-hover-fill-color);\n",
              "  }\n",
              "\n",
              "  .colab-df-quickchart-complete:disabled,\n",
              "  .colab-df-quickchart-complete:disabled:hover {\n",
              "    background-color: var(--disabled-bg-color);\n",
              "    fill: var(--disabled-fill-color);\n",
              "    box-shadow: none;\n",
              "  }\n",
              "\n",
              "  .colab-df-spinner {\n",
              "    border: 2px solid var(--fill-color);\n",
              "    border-color: transparent;\n",
              "    border-bottom-color: var(--fill-color);\n",
              "    animation:\n",
              "      spin 1s steps(1) infinite;\n",
              "  }\n",
              "\n",
              "  @keyframes spin {\n",
              "    0% {\n",
              "      border-color: transparent;\n",
              "      border-bottom-color: var(--fill-color);\n",
              "      border-left-color: var(--fill-color);\n",
              "    }\n",
              "    20% {\n",
              "      border-color: transparent;\n",
              "      border-left-color: var(--fill-color);\n",
              "      border-top-color: var(--fill-color);\n",
              "    }\n",
              "    30% {\n",
              "      border-color: transparent;\n",
              "      border-left-color: var(--fill-color);\n",
              "      border-top-color: var(--fill-color);\n",
              "      border-right-color: var(--fill-color);\n",
              "    }\n",
              "    40% {\n",
              "      border-color: transparent;\n",
              "      border-right-color: var(--fill-color);\n",
              "      border-top-color: var(--fill-color);\n",
              "    }\n",
              "    60% {\n",
              "      border-color: transparent;\n",
              "      border-right-color: var(--fill-color);\n",
              "    }\n",
              "    80% {\n",
              "      border-color: transparent;\n",
              "      border-right-color: var(--fill-color);\n",
              "      border-bottom-color: var(--fill-color);\n",
              "    }\n",
              "    90% {\n",
              "      border-color: transparent;\n",
              "      border-bottom-color: var(--fill-color);\n",
              "    }\n",
              "  }\n",
              "</style>\n",
              "\n",
              "  <script>\n",
              "    async function quickchart(key) {\n",
              "      const quickchartButtonEl =\n",
              "        document.querySelector('#' + key + ' button');\n",
              "      quickchartButtonEl.disabled = true;  // To prevent multiple clicks.\n",
              "      quickchartButtonEl.classList.add('colab-df-spinner');\n",
              "      try {\n",
              "        const charts = await google.colab.kernel.invokeFunction(\n",
              "            'suggestCharts', [key], {});\n",
              "      } catch (error) {\n",
              "        console.error('Error during call to suggestCharts:', error);\n",
              "      }\n",
              "      quickchartButtonEl.classList.remove('colab-df-spinner');\n",
              "      quickchartButtonEl.classList.add('colab-df-quickchart-complete');\n",
              "    }\n",
              "    (() => {\n",
              "      let quickchartButtonEl =\n",
              "        document.querySelector('#df-2f258e57-e042-436a-a032-6cc45957f4e9 button');\n",
              "      quickchartButtonEl.style.display =\n",
              "        google.colab.kernel.accessAllowed ? 'block' : 'none';\n",
              "    })();\n",
              "  </script>\n",
              "</div>\n",
              "    </div>\n",
              "  </div>\n"
            ],
            "application/vnd.google.colaboratory.intrinsic+json": {
              "type": "dataframe",
              "variable_name": "numerical_data",
              "summary": "{\n  \"name\": \"numerical_data\",\n  \"rows\": 1338,\n  \"fields\": [\n    {\n      \"column\": \"index\",\n      \"properties\": {\n        \"dtype\": \"number\",\n        \"std\": 386,\n        \"min\": 0,\n        \"max\": 1337,\n        \"num_unique_values\": 1338,\n        \"samples\": [\n          764,\n          887,\n          890\n        ],\n        \"semantic_type\": \"\",\n        \"description\": \"\"\n      }\n    },\n    {\n      \"column\": \"age\",\n      \"properties\": {\n        \"dtype\": \"number\",\n        \"std\": 14,\n        \"min\": 18,\n        \"max\": 64,\n        \"num_unique_values\": 47,\n        \"samples\": [\n          21,\n          45,\n          36\n        ],\n        \"semantic_type\": \"\",\n        \"description\": \"\"\n      }\n    },\n    {\n      \"column\": \"bmi\",\n      \"properties\": {\n        \"dtype\": \"number\",\n        \"std\": 6.098186911679014,\n        \"min\": 15.96,\n        \"max\": 53.13,\n        \"num_unique_values\": 548,\n        \"samples\": [\n          23.18,\n          26.885,\n          29.26\n        ],\n        \"semantic_type\": \"\",\n        \"description\": \"\"\n      }\n    },\n    {\n      \"column\": \"children\",\n      \"properties\": {\n        \"dtype\": \"number\",\n        \"std\": 1,\n        \"min\": 0,\n        \"max\": 5,\n        \"num_unique_values\": 6,\n        \"samples\": [\n          0,\n          1,\n          4\n        ],\n        \"semantic_type\": \"\",\n        \"description\": \"\"\n      }\n    },\n    {\n      \"column\": \"charges\",\n      \"properties\": {\n        \"dtype\": \"number\",\n        \"std\": 12110.011236694001,\n        \"min\": 1121.8739,\n        \"max\": 63770.42801,\n        \"num_unique_values\": 1337,\n        \"samples\": [\n          8688.85885,\n          5708.867,\n          11436.73815\n        ],\n        \"semantic_type\": \"\",\n        \"description\": \"\"\n      }\n    }\n  ]\n}"
            }
          },
          "metadata": {},
          "execution_count": 77
        }
      ]
    },
    {
      "cell_type": "code",
      "source": [
        "categorical_data"
      ],
      "metadata": {
        "colab": {
          "base_uri": "https://localhost:8080/",
          "height": 424
        },
        "id": "hf9dnLDOhxxP",
        "outputId": "7bc9963b-b0a7-43c6-fb77-ba25ca64b211"
      },
      "execution_count": 78,
      "outputs": [
        {
          "output_type": "execute_result",
          "data": {
            "text/plain": [
              "         sex smoker     region\n",
              "0     female    yes  southwest\n",
              "1       male     no  southeast\n",
              "2       male     no  southeast\n",
              "3       male     no  northwest\n",
              "4       male     no  northwest\n",
              "...      ...    ...        ...\n",
              "1333    male     no  northwest\n",
              "1334  female     no  northeast\n",
              "1335  female     no  southeast\n",
              "1336  female     no  southwest\n",
              "1337  female    yes  northwest\n",
              "\n",
              "[1338 rows x 3 columns]"
            ],
            "text/html": [
              "\n",
              "  <div id=\"df-bb2c60dc-7a59-4a24-afcc-4ac2e777c0b8\" class=\"colab-df-container\">\n",
              "    <div>\n",
              "<style scoped>\n",
              "    .dataframe tbody tr th:only-of-type {\n",
              "        vertical-align: middle;\n",
              "    }\n",
              "\n",
              "    .dataframe tbody tr th {\n",
              "        vertical-align: top;\n",
              "    }\n",
              "\n",
              "    .dataframe thead th {\n",
              "        text-align: right;\n",
              "    }\n",
              "</style>\n",
              "<table border=\"1\" class=\"dataframe\">\n",
              "  <thead>\n",
              "    <tr style=\"text-align: right;\">\n",
              "      <th></th>\n",
              "      <th>sex</th>\n",
              "      <th>smoker</th>\n",
              "      <th>region</th>\n",
              "    </tr>\n",
              "  </thead>\n",
              "  <tbody>\n",
              "    <tr>\n",
              "      <th>0</th>\n",
              "      <td>female</td>\n",
              "      <td>yes</td>\n",
              "      <td>southwest</td>\n",
              "    </tr>\n",
              "    <tr>\n",
              "      <th>1</th>\n",
              "      <td>male</td>\n",
              "      <td>no</td>\n",
              "      <td>southeast</td>\n",
              "    </tr>\n",
              "    <tr>\n",
              "      <th>2</th>\n",
              "      <td>male</td>\n",
              "      <td>no</td>\n",
              "      <td>southeast</td>\n",
              "    </tr>\n",
              "    <tr>\n",
              "      <th>3</th>\n",
              "      <td>male</td>\n",
              "      <td>no</td>\n",
              "      <td>northwest</td>\n",
              "    </tr>\n",
              "    <tr>\n",
              "      <th>4</th>\n",
              "      <td>male</td>\n",
              "      <td>no</td>\n",
              "      <td>northwest</td>\n",
              "    </tr>\n",
              "    <tr>\n",
              "      <th>...</th>\n",
              "      <td>...</td>\n",
              "      <td>...</td>\n",
              "      <td>...</td>\n",
              "    </tr>\n",
              "    <tr>\n",
              "      <th>1333</th>\n",
              "      <td>male</td>\n",
              "      <td>no</td>\n",
              "      <td>northwest</td>\n",
              "    </tr>\n",
              "    <tr>\n",
              "      <th>1334</th>\n",
              "      <td>female</td>\n",
              "      <td>no</td>\n",
              "      <td>northeast</td>\n",
              "    </tr>\n",
              "    <tr>\n",
              "      <th>1335</th>\n",
              "      <td>female</td>\n",
              "      <td>no</td>\n",
              "      <td>southeast</td>\n",
              "    </tr>\n",
              "    <tr>\n",
              "      <th>1336</th>\n",
              "      <td>female</td>\n",
              "      <td>no</td>\n",
              "      <td>southwest</td>\n",
              "    </tr>\n",
              "    <tr>\n",
              "      <th>1337</th>\n",
              "      <td>female</td>\n",
              "      <td>yes</td>\n",
              "      <td>northwest</td>\n",
              "    </tr>\n",
              "  </tbody>\n",
              "</table>\n",
              "<p>1338 rows × 3 columns</p>\n",
              "</div>\n",
              "    <div class=\"colab-df-buttons\">\n",
              "\n",
              "  <div class=\"colab-df-container\">\n",
              "    <button class=\"colab-df-convert\" onclick=\"convertToInteractive('df-bb2c60dc-7a59-4a24-afcc-4ac2e777c0b8')\"\n",
              "            title=\"Convert this dataframe to an interactive table.\"\n",
              "            style=\"display:none;\">\n",
              "\n",
              "  <svg xmlns=\"http://www.w3.org/2000/svg\" height=\"24px\" viewBox=\"0 -960 960 960\">\n",
              "    <path d=\"M120-120v-720h720v720H120Zm60-500h600v-160H180v160Zm220 220h160v-160H400v160Zm0 220h160v-160H400v160ZM180-400h160v-160H180v160Zm440 0h160v-160H620v160ZM180-180h160v-160H180v160Zm440 0h160v-160H620v160Z\"/>\n",
              "  </svg>\n",
              "    </button>\n",
              "\n",
              "  <style>\n",
              "    .colab-df-container {\n",
              "      display:flex;\n",
              "      gap: 12px;\n",
              "    }\n",
              "\n",
              "    .colab-df-convert {\n",
              "      background-color: #E8F0FE;\n",
              "      border: none;\n",
              "      border-radius: 50%;\n",
              "      cursor: pointer;\n",
              "      display: none;\n",
              "      fill: #1967D2;\n",
              "      height: 32px;\n",
              "      padding: 0 0 0 0;\n",
              "      width: 32px;\n",
              "    }\n",
              "\n",
              "    .colab-df-convert:hover {\n",
              "      background-color: #E2EBFA;\n",
              "      box-shadow: 0px 1px 2px rgba(60, 64, 67, 0.3), 0px 1px 3px 1px rgba(60, 64, 67, 0.15);\n",
              "      fill: #174EA6;\n",
              "    }\n",
              "\n",
              "    .colab-df-buttons div {\n",
              "      margin-bottom: 4px;\n",
              "    }\n",
              "\n",
              "    [theme=dark] .colab-df-convert {\n",
              "      background-color: #3B4455;\n",
              "      fill: #D2E3FC;\n",
              "    }\n",
              "\n",
              "    [theme=dark] .colab-df-convert:hover {\n",
              "      background-color: #434B5C;\n",
              "      box-shadow: 0px 1px 3px 1px rgba(0, 0, 0, 0.15);\n",
              "      filter: drop-shadow(0px 1px 2px rgba(0, 0, 0, 0.3));\n",
              "      fill: #FFFFFF;\n",
              "    }\n",
              "  </style>\n",
              "\n",
              "    <script>\n",
              "      const buttonEl =\n",
              "        document.querySelector('#df-bb2c60dc-7a59-4a24-afcc-4ac2e777c0b8 button.colab-df-convert');\n",
              "      buttonEl.style.display =\n",
              "        google.colab.kernel.accessAllowed ? 'block' : 'none';\n",
              "\n",
              "      async function convertToInteractive(key) {\n",
              "        const element = document.querySelector('#df-bb2c60dc-7a59-4a24-afcc-4ac2e777c0b8');\n",
              "        const dataTable =\n",
              "          await google.colab.kernel.invokeFunction('convertToInteractive',\n",
              "                                                    [key], {});\n",
              "        if (!dataTable) return;\n",
              "\n",
              "        const docLinkHtml = 'Like what you see? Visit the ' +\n",
              "          '<a target=\"_blank\" href=https://colab.research.google.com/notebooks/data_table.ipynb>data table notebook</a>'\n",
              "          + ' to learn more about interactive tables.';\n",
              "        element.innerHTML = '';\n",
              "        dataTable['output_type'] = 'display_data';\n",
              "        await google.colab.output.renderOutput(dataTable, element);\n",
              "        const docLink = document.createElement('div');\n",
              "        docLink.innerHTML = docLinkHtml;\n",
              "        element.appendChild(docLink);\n",
              "      }\n",
              "    </script>\n",
              "  </div>\n",
              "\n",
              "\n",
              "<div id=\"df-0131e088-bbb9-4d86-b0e4-574d173b9681\">\n",
              "  <button class=\"colab-df-quickchart\" onclick=\"quickchart('df-0131e088-bbb9-4d86-b0e4-574d173b9681')\"\n",
              "            title=\"Suggest charts\"\n",
              "            style=\"display:none;\">\n",
              "\n",
              "<svg xmlns=\"http://www.w3.org/2000/svg\" height=\"24px\"viewBox=\"0 0 24 24\"\n",
              "     width=\"24px\">\n",
              "    <g>\n",
              "        <path d=\"M19 3H5c-1.1 0-2 .9-2 2v14c0 1.1.9 2 2 2h14c1.1 0 2-.9 2-2V5c0-1.1-.9-2-2-2zM9 17H7v-7h2v7zm4 0h-2V7h2v10zm4 0h-2v-4h2v4z\"/>\n",
              "    </g>\n",
              "</svg>\n",
              "  </button>\n",
              "\n",
              "<style>\n",
              "  .colab-df-quickchart {\n",
              "      --bg-color: #E8F0FE;\n",
              "      --fill-color: #1967D2;\n",
              "      --hover-bg-color: #E2EBFA;\n",
              "      --hover-fill-color: #174EA6;\n",
              "      --disabled-fill-color: #AAA;\n",
              "      --disabled-bg-color: #DDD;\n",
              "  }\n",
              "\n",
              "  [theme=dark] .colab-df-quickchart {\n",
              "      --bg-color: #3B4455;\n",
              "      --fill-color: #D2E3FC;\n",
              "      --hover-bg-color: #434B5C;\n",
              "      --hover-fill-color: #FFFFFF;\n",
              "      --disabled-bg-color: #3B4455;\n",
              "      --disabled-fill-color: #666;\n",
              "  }\n",
              "\n",
              "  .colab-df-quickchart {\n",
              "    background-color: var(--bg-color);\n",
              "    border: none;\n",
              "    border-radius: 50%;\n",
              "    cursor: pointer;\n",
              "    display: none;\n",
              "    fill: var(--fill-color);\n",
              "    height: 32px;\n",
              "    padding: 0;\n",
              "    width: 32px;\n",
              "  }\n",
              "\n",
              "  .colab-df-quickchart:hover {\n",
              "    background-color: var(--hover-bg-color);\n",
              "    box-shadow: 0 1px 2px rgba(60, 64, 67, 0.3), 0 1px 3px 1px rgba(60, 64, 67, 0.15);\n",
              "    fill: var(--button-hover-fill-color);\n",
              "  }\n",
              "\n",
              "  .colab-df-quickchart-complete:disabled,\n",
              "  .colab-df-quickchart-complete:disabled:hover {\n",
              "    background-color: var(--disabled-bg-color);\n",
              "    fill: var(--disabled-fill-color);\n",
              "    box-shadow: none;\n",
              "  }\n",
              "\n",
              "  .colab-df-spinner {\n",
              "    border: 2px solid var(--fill-color);\n",
              "    border-color: transparent;\n",
              "    border-bottom-color: var(--fill-color);\n",
              "    animation:\n",
              "      spin 1s steps(1) infinite;\n",
              "  }\n",
              "\n",
              "  @keyframes spin {\n",
              "    0% {\n",
              "      border-color: transparent;\n",
              "      border-bottom-color: var(--fill-color);\n",
              "      border-left-color: var(--fill-color);\n",
              "    }\n",
              "    20% {\n",
              "      border-color: transparent;\n",
              "      border-left-color: var(--fill-color);\n",
              "      border-top-color: var(--fill-color);\n",
              "    }\n",
              "    30% {\n",
              "      border-color: transparent;\n",
              "      border-left-color: var(--fill-color);\n",
              "      border-top-color: var(--fill-color);\n",
              "      border-right-color: var(--fill-color);\n",
              "    }\n",
              "    40% {\n",
              "      border-color: transparent;\n",
              "      border-right-color: var(--fill-color);\n",
              "      border-top-color: var(--fill-color);\n",
              "    }\n",
              "    60% {\n",
              "      border-color: transparent;\n",
              "      border-right-color: var(--fill-color);\n",
              "    }\n",
              "    80% {\n",
              "      border-color: transparent;\n",
              "      border-right-color: var(--fill-color);\n",
              "      border-bottom-color: var(--fill-color);\n",
              "    }\n",
              "    90% {\n",
              "      border-color: transparent;\n",
              "      border-bottom-color: var(--fill-color);\n",
              "    }\n",
              "  }\n",
              "</style>\n",
              "\n",
              "  <script>\n",
              "    async function quickchart(key) {\n",
              "      const quickchartButtonEl =\n",
              "        document.querySelector('#' + key + ' button');\n",
              "      quickchartButtonEl.disabled = true;  // To prevent multiple clicks.\n",
              "      quickchartButtonEl.classList.add('colab-df-spinner');\n",
              "      try {\n",
              "        const charts = await google.colab.kernel.invokeFunction(\n",
              "            'suggestCharts', [key], {});\n",
              "      } catch (error) {\n",
              "        console.error('Error during call to suggestCharts:', error);\n",
              "      }\n",
              "      quickchartButtonEl.classList.remove('colab-df-spinner');\n",
              "      quickchartButtonEl.classList.add('colab-df-quickchart-complete');\n",
              "    }\n",
              "    (() => {\n",
              "      let quickchartButtonEl =\n",
              "        document.querySelector('#df-0131e088-bbb9-4d86-b0e4-574d173b9681 button');\n",
              "      quickchartButtonEl.style.display =\n",
              "        google.colab.kernel.accessAllowed ? 'block' : 'none';\n",
              "    })();\n",
              "  </script>\n",
              "</div>\n",
              "    </div>\n",
              "  </div>\n"
            ],
            "application/vnd.google.colaboratory.intrinsic+json": {
              "type": "dataframe",
              "variable_name": "categorical_data",
              "summary": "{\n  \"name\": \"categorical_data\",\n  \"rows\": 1338,\n  \"fields\": [\n    {\n      \"column\": \"sex\",\n      \"properties\": {\n        \"dtype\": \"category\",\n        \"num_unique_values\": 2,\n        \"samples\": [\n          \"male\",\n          \"female\"\n        ],\n        \"semantic_type\": \"\",\n        \"description\": \"\"\n      }\n    },\n    {\n      \"column\": \"smoker\",\n      \"properties\": {\n        \"dtype\": \"category\",\n        \"num_unique_values\": 2,\n        \"samples\": [\n          \"no\",\n          \"yes\"\n        ],\n        \"semantic_type\": \"\",\n        \"description\": \"\"\n      }\n    },\n    {\n      \"column\": \"region\",\n      \"properties\": {\n        \"dtype\": \"category\",\n        \"num_unique_values\": 4,\n        \"samples\": [\n          \"southeast\",\n          \"northeast\"\n        ],\n        \"semantic_type\": \"\",\n        \"description\": \"\"\n      }\n    }\n  ]\n}"
            }
          },
          "metadata": {},
          "execution_count": 78
        }
      ]
    },
    {
      "cell_type": "markdown",
      "source": [
        "# Display the statistical summary of the numerical, categorical and target data"
      ],
      "metadata": {
        "id": "D3vmn7g-D_0w"
      }
    },
    {
      "cell_type": "code",
      "source": [
        "# Display statistical summary of numerical data\n",
        "numerical_summary = numerical_data.describe()\n",
        "print(\"Statistical summary of numerical data:\")\n",
        "print(numerical_summary)"
      ],
      "metadata": {
        "colab": {
          "base_uri": "https://localhost:8080/"
        },
        "id": "Y9WDZjJ0C5YC",
        "outputId": "6af28a40-8db8-43d8-8323-dd2b6a5ae70b"
      },
      "execution_count": 79,
      "outputs": [
        {
          "output_type": "stream",
          "name": "stdout",
          "text": [
            "Statistical summary of numerical data:\n",
            "             index          age          bmi     children       charges\n",
            "count  1338.000000  1338.000000  1338.000000  1338.000000   1338.000000\n",
            "mean    668.500000    39.207025    30.663397     1.094918  13270.422265\n",
            "std     386.391641    14.049960     6.098187     1.205493  12110.011237\n",
            "min       0.000000    18.000000    15.960000     0.000000   1121.873900\n",
            "25%     334.250000    27.000000    26.296250     0.000000   4740.287150\n",
            "50%     668.500000    39.000000    30.400000     1.000000   9382.033000\n",
            "75%    1002.750000    51.000000    34.693750     2.000000  16639.912515\n",
            "max    1337.000000    64.000000    53.130000     5.000000  63770.428010\n"
          ]
        }
      ]
    },
    {
      "cell_type": "code",
      "source": [
        "# Display statistical summary of categorical data\n",
        "categorical_summary = categorical_data.describe(include=\"all\")\n",
        "print(\"\\nStatistical summary of categorical data:\")\n",
        "print(categorical_summary)"
      ],
      "metadata": {
        "colab": {
          "base_uri": "https://localhost:8080/"
        },
        "id": "uuHnecMfDnsY",
        "outputId": "f50d6f63-3cd9-4e5c-a170-d5b531447851"
      },
      "execution_count": 80,
      "outputs": [
        {
          "output_type": "stream",
          "name": "stdout",
          "text": [
            "\n",
            "Statistical summary of categorical data:\n",
            "         sex smoker     region\n",
            "count   1338   1338       1338\n",
            "unique     2      2          4\n",
            "top     male     no  southeast\n",
            "freq     676   1064        364\n"
          ]
        }
      ]
    },
    {
      "cell_type": "code",
      "source": [
        "# Display statistical summary of target data\n",
        "target_data = data_df[\"charges\"]\n",
        "target_summary = target_data.describe()\n",
        "print(\"\\nStatistical summary of target data:\")\n",
        "print(target_summary)"
      ],
      "metadata": {
        "colab": {
          "base_uri": "https://localhost:8080/"
        },
        "id": "wAVfzy4kDx-O",
        "outputId": "af86b57b-4368-4381-8b0e-862cad980f16"
      },
      "execution_count": 81,
      "outputs": [
        {
          "output_type": "stream",
          "name": "stdout",
          "text": [
            "\n",
            "Statistical summary of target data:\n",
            "count     1338.000000\n",
            "mean     13270.422265\n",
            "std      12110.011237\n",
            "min       1121.873900\n",
            "25%       4740.287150\n",
            "50%       9382.033000\n",
            "75%      16639.912515\n",
            "max      63770.428010\n",
            "Name: charges, dtype: float64\n"
          ]
        }
      ]
    },
    {
      "cell_type": "markdown",
      "source": [
        "#### Write your insights and findings from the statistical summary\n",
        "\n",
        "Based on the statistical summary of the data, here are some insights and findings:\n",
        "\n",
        "#### Numerical Data:\n",
        "\n",
        "* -- Age: The data ranges from the minimum age of 19 to the maximum age, indicating a diverse age group in the dataset.\n",
        "* -- BMI: The BMI values range from the minimum to the maximum, indicating variations in body mass index among the individuals.\n",
        "* -- Children: The number of children ranges from 0 to the maximum, suggesting a mix of individuals with and without children.\n",
        "* -- Charges: The charges vary significantly, with a range from the minimum to the maximum value. Further analysis is needed to understand the factors influencing these charges.\n",
        "\n",
        "#### Categorical Data:\n",
        "\n",
        "* -- Sex: The dataset includes both male and female individuals, with no missing values.\n",
        "* -- Smoker: The dataset contains information about smoking habits, with 'yes' indicating smokers and 'no' indicating non-smokers.\n",
        "* -- Region: The dataset includes individuals from different regions, namely 'southwest', 'southeast', 'northwest', and 'northeast'.\n",
        "\n",
        "#### Target Data:\n",
        "\n",
        "* -- Charges: The charges variable represents the insurance charges for individuals. The statistical summary provides information about the minimum, maximum, mean, and quartile values, giving an overview of the distribution of insurance charges.\n",
        "\n"
      ],
      "metadata": {
        "id": "MOCSwvDc4BTN"
      }
    },
    {
      "cell_type": "code",
      "source": [
        "# Check for missing values\n",
        "missing_values = data_df.isnull().sum()\n",
        "\n",
        "print(\"Missing values in the dataset:\")\n",
        "print(missing_values)"
      ],
      "metadata": {
        "id": "KYlX7n_Evvnx",
        "colab": {
          "base_uri": "https://localhost:8080/"
        },
        "outputId": "38d48775-27c8-4897-c491-849367b3c157"
      },
      "execution_count": 82,
      "outputs": [
        {
          "output_type": "stream",
          "name": "stdout",
          "text": [
            "Missing values in the dataset:\n",
            "index       0\n",
            "age         0\n",
            "sex         0\n",
            "bmi         0\n",
            "children    0\n",
            "smoker      0\n",
            "region      0\n",
            "charges     0\n",
            "dtype: int64\n"
          ]
        }
      ]
    },
    {
      "cell_type": "code",
      "source": [
        "# Check for duplicated rows\n",
        "duplicated_rows = data_df[data_df.duplicated()]\n",
        "\n",
        "# Print the duplicated rows\n",
        "print(\"Duplicated rows:\")\n",
        "print(duplicated_rows)"
      ],
      "metadata": {
        "id": "pcakHRkyvw0i",
        "colab": {
          "base_uri": "https://localhost:8080/"
        },
        "outputId": "c51e4511-1ab2-4b6d-da8f-b3d8dca14a4d"
      },
      "execution_count": 83,
      "outputs": [
        {
          "output_type": "stream",
          "name": "stdout",
          "text": [
            "Duplicated rows:\n",
            "Empty DataFrame\n",
            "Columns: [index, age, sex, bmi, children, smoker, region, charges]\n",
            "Index: []\n"
          ]
        }
      ]
    },
    {
      "cell_type": "code",
      "source": [
        "# display the info of the dataset\n",
        "data_df.info()"
      ],
      "metadata": {
        "id": "NTsboKy7vzPh",
        "colab": {
          "base_uri": "https://localhost:8080/"
        },
        "outputId": "57a9343d-ee19-4eca-bfe4-504c2b2c14b4"
      },
      "execution_count": 84,
      "outputs": [
        {
          "output_type": "stream",
          "name": "stdout",
          "text": [
            "<class 'pandas.core.frame.DataFrame'>\n",
            "RangeIndex: 1338 entries, 0 to 1337\n",
            "Data columns (total 8 columns):\n",
            " #   Column    Non-Null Count  Dtype  \n",
            "---  ------    --------------  -----  \n",
            " 0   index     1338 non-null   int64  \n",
            " 1   age       1338 non-null   int64  \n",
            " 2   sex       1338 non-null   object \n",
            " 3   bmi       1338 non-null   float64\n",
            " 4   children  1338 non-null   int64  \n",
            " 5   smoker    1338 non-null   object \n",
            " 6   region    1338 non-null   object \n",
            " 7   charges   1338 non-null   float64\n",
            "dtypes: float64(2), int64(3), object(3)\n",
            "memory usage: 83.8+ KB\n"
          ]
        }
      ]
    },
    {
      "cell_type": "code",
      "source": [
        "# drop the columns which was not required for modelling\n",
        "# List of columns to drop\n",
        "columns_to_drop = ['index', 'region']\n",
        "\n",
        "# Drop the columns\n",
        "data_df = data_df.drop(columns=columns_to_drop)\n",
        "\n",
        "# Display the modified DataFrame\n",
        "print(data_df)"
      ],
      "metadata": {
        "id": "uWhAkj_xv2j-",
        "colab": {
          "base_uri": "https://localhost:8080/"
        },
        "outputId": "bba58444-5669-4c2a-b2f7-e546098b5a55"
      },
      "execution_count": 85,
      "outputs": [
        {
          "output_type": "stream",
          "name": "stdout",
          "text": [
            "      age     sex     bmi  children smoker      charges\n",
            "0      19  female  27.900         0    yes  16884.92400\n",
            "1      18    male  33.770         1     no   1725.55230\n",
            "2      28    male  33.000         3     no   4449.46200\n",
            "3      33    male  22.705         0     no  21984.47061\n",
            "4      32    male  28.880         0     no   3866.85520\n",
            "...   ...     ...     ...       ...    ...          ...\n",
            "1333   50    male  30.970         3     no  10600.54830\n",
            "1334   18  female  31.920         0     no   2205.98080\n",
            "1335   18  female  36.850         0     no   1629.83350\n",
            "1336   21  female  25.800         0     no   2007.94500\n",
            "1337   61  female  29.070         0    yes  29141.36030\n",
            "\n",
            "[1338 rows x 6 columns]\n"
          ]
        }
      ]
    },
    {
      "cell_type": "markdown",
      "source": [
        "## Exploratory data analysis"
      ],
      "metadata": {
        "id": "eULT8QQMwIzJ"
      }
    },
    {
      "cell_type": "markdown",
      "source": [
        "#### Charges amount distribution per sex"
      ],
      "metadata": {
        "id": "AvFxKicqwnBf"
      }
    },
    {
      "cell_type": "code",
      "source": [
        "# Display a histogram to visualize the distribution of charges based on sex in the dataset\n",
        "# Filter the data by sex\n",
        "female_charges = data_df[data_df['sex'] == 'female']['charges']\n",
        "male_charges = data_df[data_df['sex'] == 'male']['charges']\n",
        "\n",
        "# Create a histogram\n",
        "plt.hist(female_charges, bins=30, alpha=0.5, label='Female')\n",
        "plt.hist(male_charges, bins=30, alpha=0.5, label='Male')\n",
        "\n",
        "# Set plot labels and title\n",
        "plt.xlabel('Charges')\n",
        "plt.ylabel('Frequency')\n",
        "plt.title('Distribution of Charges by Sex')\n",
        "\n",
        "# Add a legend\n",
        "plt.legend()\n",
        "\n",
        "# Show the plot\n",
        "plt.show()"
      ],
      "metadata": {
        "id": "Bnjg0xTnv70C",
        "colab": {
          "base_uri": "https://localhost:8080/",
          "height": 472
        },
        "outputId": "56bf6139-6146-4b15-9c38-fc3ecf356ac9"
      },
      "execution_count": 86,
      "outputs": [
        {
          "output_type": "display_data",
          "data": {
            "text/plain": [
              "<Figure size 640x480 with 1 Axes>"
            ],
            "image/png": "[encoded data removed]"
          },
          "metadata": {}
        }
      ]
    },
    {
      "cell_type": "markdown",
      "source": [
        "#### Distribution of Age"
      ],
      "metadata": {
        "id": "b8L8J9mIweIj"
      }
    },
    {
      "cell_type": "code",
      "source": [
        "# Create a histogram to display the age distribution in the dataset\n",
        "# Extract the 'age' column\n",
        "age_data = data_df['age']\n",
        "\n",
        "# Create a histogram\n",
        "plt.hist(age_data, bins=30, edgecolor='black')\n",
        "\n",
        "# Set plot labels and title\n",
        "plt.xlabel('Age')\n",
        "plt.ylabel('Frequency')\n",
        "plt.title('Age Distribution')\n",
        "\n",
        "# Show the plot\n",
        "plt.show()"
      ],
      "metadata": {
        "id": "VE0lxH_GwQDY",
        "colab": {
          "base_uri": "https://localhost:8080/",
          "height": 472
        },
        "outputId": "6966e311-fa3c-4c14-ec9f-f9159bc3d5c1"
      },
      "execution_count": 87,
      "outputs": [
        {
          "output_type": "display_data",
          "data": {
            "text/plain": [
              "<Figure size 640x480 with 1 Axes>"
            ],
            "image/png": "[encoded data removed]"
          },
          "metadata": {}
        }
      ]
    },
    {
      "cell_type": "markdown",
      "source": [
        "#### Charges amount distribution per smoker"
      ],
      "metadata": {
        "id": "iAT8o40ZwuFg"
      }
    },
    {
      "cell_type": "code",
      "source": [
        "# Show a histogram to visualize the distribution of charges amounts based on smoking status in the dataset\n",
        "# Filter the data by smoking status\n",
        "smoker_charges = data_df[data_df['smoker'] == 'yes']['charges']\n",
        "non_smoker_charges = data_df[data_df['smoker'] == 'no']['charges']\n",
        "\n",
        "# Create a histogram\n",
        "plt.hist(smoker_charges, bins=30, alpha=0.5, label='Smoker')\n",
        "plt.hist(non_smoker_charges, bins=30, alpha=0.5, label='Non-Smoker')\n",
        "\n",
        "# Set plot labels and title\n",
        "plt.xlabel('Charges')\n",
        "plt.ylabel('Frequency')\n",
        "plt.title('Distribution of Charges by Smoking Status')\n",
        "\n",
        "# Add a legend\n",
        "plt.legend()\n",
        "\n",
        "# Show the plot\n",
        "plt.show()"
      ],
      "metadata": {
        "id": "J8HjGfZowqaN",
        "colab": {
          "base_uri": "https://localhost:8080/",
          "height": 472
        },
        "outputId": "22738f2e-a388-472d-ef70-f03893efb2d3"
      },
      "execution_count": 88,
      "outputs": [
        {
          "output_type": "display_data",
          "data": {
            "text/plain": [
              "<Figure size 640x480 with 1 Axes>"
            ],
            "image/png": "[encoded data removed]"
          },
          "metadata": {}
        }
      ]
    },
    {
      "cell_type": "markdown",
      "source": [
        "#### Average BMI per age"
      ],
      "metadata": {
        "id": "web1ZseGx4Zb"
      }
    },
    {
      "cell_type": "code",
      "source": [
        "# Display a line plot showing the average BMI per age using markers to highlight the data points\n",
        "# Calculate the average BMI per age\n",
        "average_bmi = data_df.groupby('age')['bmi'].mean()\n",
        "\n",
        "# Create a line plot with markers\n",
        "plt.plot(average_bmi.index, average_bmi.values, marker='o')\n",
        "\n",
        "# Set plot labels and title\n",
        "plt.xlabel('Age')\n",
        "plt.ylabel('Average BMI')\n",
        "plt.title('Average BMI per Age')\n",
        "\n",
        "# Show the plot\n",
        "plt.show()"
      ],
      "metadata": {
        "id": "ZkYMtoh6xNEQ",
        "colab": {
          "base_uri": "https://localhost:8080/",
          "height": 472
        },
        "outputId": "d1835673-cdfa-4b4f-c39a-1b70d3089208"
      },
      "execution_count": 89,
      "outputs": [
        {
          "output_type": "display_data",
          "data": {
            "text/plain": [
              "<Figure size 640x480 with 1 Axes>"
            ],
            "image/png": "[encoded data removed]"
          },
          "metadata": {}
        }
      ]
    },
    {
      "cell_type": "markdown",
      "source": [
        "As we can see with time - the average BMI score starts getting higher to unhealthier ranges."
      ],
      "metadata": {
        "id": "AGKsqXSgxXYc"
      }
    },
    {
      "cell_type": "markdown",
      "source": [
        "#### Age vs charges"
      ],
      "metadata": {
        "id": "_1t2E2y0xt5H"
      }
    },
    {
      "cell_type": "code",
      "source": [
        "# Create a scatter plot to show the relationship between age and charges in the dataset.\n",
        "# Extract the 'age' and 'charges' columns\n",
        "age_data = data_df['age']\n",
        "charges_data = data_df['charges']\n",
        "\n",
        "# Create a scatter plot\n",
        "plt.scatter(age_data, charges_data, alpha=0.5)\n",
        "\n",
        "# Set plot labels and title\n",
        "plt.xlabel('Age')\n",
        "plt.ylabel('Charges')\n",
        "plt.title('Relationship between Age and Charges')\n",
        "\n",
        "# Show the plot\n",
        "plt.show()"
      ],
      "metadata": {
        "id": "gnucUaCbxf_e",
        "colab": {
          "base_uri": "https://localhost:8080/",
          "height": 472
        },
        "outputId": "40aea86b-1406-4c94-9a9b-f2215c853c5e"
      },
      "execution_count": 90,
      "outputs": [
        {
          "output_type": "display_data",
          "data": {
            "text/plain": [
              "<Figure size 640x480 with 1 Axes>"
            ],
            "image/png": "[encoded data removed]"
          },
          "metadata": {}
        }
      ]
    },
    {
      "cell_type": "markdown",
      "metadata": {
        "application/vnd.databricks.v1+cell": {
          "cellMetadata": {},
          "inputWidgets": {},
          "nuid": "44a30d2c-d116-40a9-b7a0-964d5c827f25",
          "showTitle": false,
          "title": ""
        },
        "id": "tHKW8Ie5Ir6g"
      },
      "source": [
        "## Model Estimation"
      ]
    },
    {
      "cell_type": "code",
      "source": [
        "categorical_features"
      ],
      "metadata": {
        "colab": {
          "base_uri": "https://localhost:8080/"
        },
        "id": "5v2zPxeFzJAS",
        "outputId": "255d419e-de16-4a43-d7fc-12f3ffe4bc8c"
      },
      "execution_count": 91,
      "outputs": [
        {
          "output_type": "execute_result",
          "data": {
            "text/plain": [
              "Index(['sex', 'smoker', 'region'], dtype='object')"
            ]
          },
          "metadata": {},
          "execution_count": 91
        }
      ]
    },
    {
      "cell_type": "code",
      "source": [
        "numerical_features"
      ],
      "metadata": {
        "colab": {
          "base_uri": "https://localhost:8080/"
        },
        "id": "WYy2ritUzKjV",
        "outputId": "1b0ae260-8c85-451d-9bbc-7aeab8303e71"
      },
      "execution_count": 92,
      "outputs": [
        {
          "output_type": "execute_result",
          "data": {
            "text/plain": [
              "Index(['age', 'bmi', 'children'], dtype='object')"
            ]
          },
          "metadata": {},
          "execution_count": 92
        }
      ]
    },
    {
      "cell_type": "code",
      "source": [
        "# write you are code here\n",
        "# Select the features and target variable\n",
        "\n",
        "features = data_df[['age', 'bmi', 'children', 'sex', 'smoker']]\n",
        "target = data_df['charges']"
      ],
      "metadata": {
        "id": "UTg9tlphlNE4"
      },
      "execution_count": 93,
      "outputs": []
    },
    {
      "cell_type": "code",
      "source": [
        "X = data_df.drop('charges',axis=1)\n",
        "y = data_df['charges']"
      ],
      "metadata": {
        "id": "eaT7eDhV1Wbb"
      },
      "execution_count": 94,
      "outputs": []
    },
    {
      "cell_type": "code",
      "source": [
        "target = 'charges'\n",
        "numeric_features = ['age', 'bmi', 'children']\n",
        "categorical_features = ['sex', 'smoker']"
      ],
      "metadata": {
        "id": "zh63LhOrFE7a"
      },
      "execution_count": 109,
      "outputs": []
    },
    {
      "cell_type": "code",
      "source": [
        "X = data_df[numeric_features + categorical_features]\n",
        "y = data_df[target]"
      ],
      "metadata": {
        "id": "PYOP_AJ2EywQ"
      },
      "execution_count": 111,
      "outputs": []
    },
    {
      "cell_type": "code",
      "source": [
        "# Split the data into training and testing sets\n",
        "# Xtrain, Xtest, ytrain, ytest = train_test_split(X, y, test_size=0.2, random_state=42)\n",
        "# Split the independenet and dependent features in to x and y variables with a test size 0.2% and random at 42\n",
        "Xtrain, Xtest, ytrain, ytest = train_test_split(\n",
        "    X, y,\n",
        "    test_size=0.2,\n",
        "    random_state=42\n",
        ")"
      ],
      "metadata": {
        "id": "dAtV241alQm5"
      },
      "execution_count": 112,
      "outputs": []
    },
    {
      "cell_type": "code",
      "source": [
        "# Creating a pipeline for numerical feature processing, including imputation of missing values with mean and standard scaling.\n",
        "numerical_pipeline = Pipeline([\n",
        "    ('imputer', SimpleImputer(strategy='median')),\n",
        "    ('scaler', StandardScaler())\n",
        "])"
      ],
      "metadata": {
        "id": "hYLBiEsNqcal"
      },
      "execution_count": 113,
      "outputs": []
    },
    {
      "cell_type": "markdown",
      "source": [
        "\n",
        "This code creates a pipeline named numerical_pipeline to process numerical features. It consists of two steps:\n",
        "\n",
        "'imputer': Imputes missing values using the mean strategy with SimpleImputer.\n",
        "\n",
        "'scaler': Standardizes the numerical features using StandardScaler."
      ],
      "metadata": {
        "id": "KWQ1JixMqwUS"
      }
    },
    {
      "cell_type": "code",
      "source": [
        "# Creating a pipeline for categorical feature processing, including imputation of missing values with the most frequent value and one-hot encoding with handling of unknown categories.\n",
        "categorical_pipeline = Pipeline([\n",
        "    ('imputer', SimpleImputer(strategy='most_frequent')),\n",
        "    ('onehot', OneHotEncoder(handle_unknown='ignore'))\n",
        "])"
      ],
      "metadata": {
        "id": "qVrzNe_3qieB"
      },
      "execution_count": 114,
      "outputs": []
    },
    {
      "cell_type": "markdown",
      "source": [
        "This code constructs a pipeline named categorical_pipeline for processing categorical features, involving imputation of missing values using the most frequent value and one-hot encoding with handling of unknown categories."
      ],
      "metadata": {
        "id": "eu9iKs-2q54l"
      }
    },
    {
      "cell_type": "code",
      "source": [
        "# Creating a column transformer named preprocessor to apply specific pipelines to numerical and categorical features separately.\n",
        "preprocessor = make_column_transformer(\n",
        "    (StandardScaler(), numeric_features),\n",
        "    (OneHotEncoder(handle_unknown='ignore'), categorical_features)\n",
        ")"
      ],
      "metadata": {
        "id": "5oBQKQ0jrDBt"
      },
      "execution_count": 115,
      "outputs": []
    },
    {
      "cell_type": "code",
      "source": [
        "preprocessor"
      ],
      "metadata": {
        "colab": {
          "base_uri": "https://localhost:8080/",
          "height": 118
        },
        "id": "ammrWn2xsK0b",
        "outputId": "7b2f68fd-c094-469a-dc06-9ea110d20d34"
      },
      "execution_count": 116,
      "outputs": [
        {
          "output_type": "execute_result",
          "data": {
            "text/plain": [
              "ColumnTransformer(transformers=[('standardscaler', StandardScaler(),\n",
              "                                 ['age', 'bmi', 'children']),\n",
              "                                ('onehotencoder',\n",
              "                                 OneHotEncoder(handle_unknown='ignore'),\n",
              "                                 ['sex', 'smoker'])])"
            ],
            "text/html": [
              "<style>#sk-container-id-10 {color: black;background-color: white;}#sk-container-id-10 pre{padding: 0;}#sk-container-id-10 div.sk-toggleable {background-color: white;}#sk-container-id-10 label.sk-toggleable__label {cursor: pointer;display: block;width: 100%;margin-bottom: 0;padding: 0.3em;box-sizing: border-box;text-align: center;}#sk-container-id-10 label.sk-toggleable__label-arrow:before {content: \"▸\";float: left;margin-right: 0.25em;color: #696969;}#sk-container-id-10 label.sk-toggleable__label-arrow:hover:before {color: black;}#sk-container-id-10 div.sk-estimator:hover label.sk-toggleable__label-arrow:before {color: black;}#sk-container-id-10 div.sk-toggleable__content {max-height: 0;max-width: 0;overflow: hidden;text-align: left;background-color: #f0f8ff;}#sk-container-id-10 div.sk-toggleable__content pre {margin: 0.2em;color: black;border-radius: 0.25em;background-color: #f0f8ff;}#sk-container-id-10 input.sk-toggleable__control:checked~div.sk-toggleable__content {max-height: 200px;max-width: 100%;overflow: auto;}#sk-container-id-10 input.sk-toggleable__control:checked~label.sk-toggleable__label-arrow:before {content: \"▾\";}#sk-container-id-10 div.sk-estimator input.sk-toggleable__control:checked~label.sk-toggleable__label {background-color: #d4ebff;}#sk-container-id-10 div.sk-label input.sk-toggleable__control:checked~label.sk-toggleable__label {background-color: #d4ebff;}#sk-container-id-10 input.sk-hidden--visually {border: 0;clip: rect(1px 1px 1px 1px);clip: rect(1px, 1px, 1px, 1px);height: 1px;margin: -1px;overflow: hidden;padding: 0;position: absolute;width: 1px;}#sk-container-id-10 div.sk-estimator {font-family: monospace;background-color: #f0f8ff;border: 1px dotted black;border-radius: 0.25em;box-sizing: border-box;margin-bottom: 0.5em;}#sk-container-id-10 div.sk-estimator:hover {background-color: #d4ebff;}#sk-container-id-10 div.sk-parallel-item::after {content: \"\";width: 100%;border-bottom: 1px solid gray;flex-grow: 1;}#sk-container-id-10 div.sk-label:hover label.sk-toggleable__label {background-color: #d4ebff;}#sk-container-id-10 div.sk-serial::before {content: \"\";position: absolute;border-left: 1px solid gray;box-sizing: border-box;top: 0;bottom: 0;left: 50%;z-index: 0;}#sk-container-id-10 div.sk-serial {display: flex;flex-direction: column;align-items: center;background-color: white;padding-right: 0.2em;padding-left: 0.2em;position: relative;}#sk-container-id-10 div.sk-item {position: relative;z-index: 1;}#sk-container-id-10 div.sk-parallel {display: flex;align-items: stretch;justify-content: center;background-color: white;position: relative;}#sk-container-id-10 div.sk-item::before, #sk-container-id-10 div.sk-parallel-item::before {content: \"\";position: absolute;border-left: 1px solid gray;box-sizing: border-box;top: 0;bottom: 0;left: 50%;z-index: -1;}#sk-container-id-10 div.sk-parallel-item {display: flex;flex-direction: column;z-index: 1;position: relative;background-color: white;}#sk-container-id-10 div.sk-parallel-item:first-child::after {align-self: flex-end;width: 50%;}#sk-container-id-10 div.sk-parallel-item:last-child::after {align-self: flex-start;width: 50%;}#sk-container-id-10 div.sk-parallel-item:only-child::after {width: 0;}#sk-container-id-10 div.sk-dashed-wrapped {border: 1px dashed gray;margin: 0 0.4em 0.5em 0.4em;box-sizing: border-box;padding-bottom: 0.4em;background-color: white;}#sk-container-id-10 div.sk-label label {font-family: monospace;font-weight: bold;display: inline-block;line-height: 1.2em;}#sk-container-id-10 div.sk-label-container {text-align: center;}#sk-container-id-10 div.sk-container {/* jupyter's `normalize.less` sets `[hidden] { display: none; }` but bootstrap.min.css set `[hidden] { display: none !important; }` so we also need the `!important` here to be able to override the default hidden behavior on the sphinx rendered scikit-learn.org. See: https://github.com/scikit-learn/scikit-learn/issues/21755 */display: inline-block !important;position: relative;}#sk-container-id-10 div.sk-text-repr-fallback {display: none;}</style><div id=\"sk-container-id-10\" class=\"sk-top-container\"><div class=\"sk-text-repr-fallback\"><pre>ColumnTransformer(transformers=[(&#x27;standardscaler&#x27;, StandardScaler(),\n",
              "                                 [&#x27;age&#x27;, &#x27;bmi&#x27;, &#x27;children&#x27;]),\n",
              "                                (&#x27;onehotencoder&#x27;,\n",
              "                                 OneHotEncoder(handle_unknown=&#x27;ignore&#x27;),\n",
              "                                 [&#x27;sex&#x27;, &#x27;smoker&#x27;])])</pre><b>In a Jupyter environment, please rerun this cell to show the HTML representation or trust the notebook. <br />On GitHub, the HTML representation is unable to render, please try loading this page with nbviewer.org.</b></div><div class=\"sk-container\" hidden><div class=\"sk-item sk-dashed-wrapped\"><div class=\"sk-label-container\"><div class=\"sk-label sk-toggleable\"><input class=\"sk-toggleable__control sk-hidden--visually\" id=\"sk-estimator-id-52\" type=\"checkbox\" ><label for=\"sk-estimator-id-52\" class=\"sk-toggleable__label sk-toggleable__label-arrow\">ColumnTransformer</label><div class=\"sk-toggleable__content\"><pre>ColumnTransformer(transformers=[(&#x27;standardscaler&#x27;, StandardScaler(),\n",
              "                                 [&#x27;age&#x27;, &#x27;bmi&#x27;, &#x27;children&#x27;]),\n",
              "                                (&#x27;onehotencoder&#x27;,\n",
              "                                 OneHotEncoder(handle_unknown=&#x27;ignore&#x27;),\n",
              "                                 [&#x27;sex&#x27;, &#x27;smoker&#x27;])])</pre></div></div></div><div class=\"sk-parallel\"><div class=\"sk-parallel-item\"><div class=\"sk-item\"><div class=\"sk-label-container\"><div class=\"sk-label sk-toggleable\"><input class=\"sk-toggleable__control sk-hidden--visually\" id=\"sk-estimator-id-53\" type=\"checkbox\" ><label for=\"sk-estimator-id-53\" class=\"sk-toggleable__label sk-toggleable__label-arrow\">standardscaler</label><div class=\"sk-toggleable__content\"><pre>[&#x27;age&#x27;, &#x27;bmi&#x27;, &#x27;children&#x27;]</pre></div></div></div><div class=\"sk-serial\"><div class=\"sk-item\"><div class=\"sk-estimator sk-toggleable\"><input class=\"sk-toggleable__control sk-hidden--visually\" id=\"sk-estimator-id-54\" type=\"checkbox\" ><label for=\"sk-estimator-id-54\" class=\"sk-toggleable__label sk-toggleable__label-arrow\">StandardScaler</label><div class=\"sk-toggleable__content\"><pre>StandardScaler()</pre></div></div></div></div></div></div><div class=\"sk-parallel-item\"><div class=\"sk-item\"><div class=\"sk-label-container\"><div class=\"sk-label sk-toggleable\"><input class=\"sk-toggleable__control sk-hidden--visually\" id=\"sk-estimator-id-55\" type=\"checkbox\" ><label for=\"sk-estimator-id-55\" class=\"sk-toggleable__label sk-toggleable__label-arrow\">onehotencoder</label><div class=\"sk-toggleable__content\"><pre>[&#x27;sex&#x27;, &#x27;smoker&#x27;]</pre></div></div></div><div class=\"sk-serial\"><div class=\"sk-item\"><div class=\"sk-estimator sk-toggleable\"><input class=\"sk-toggleable__control sk-hidden--visually\" id=\"sk-estimator-id-56\" type=\"checkbox\" ><label for=\"sk-estimator-id-56\" class=\"sk-toggleable__label sk-toggleable__label-arrow\">OneHotEncoder</label><div class=\"sk-toggleable__content\"><pre>OneHotEncoder(handle_unknown=&#x27;ignore&#x27;)</pre></div></div></div></div></div></div></div></div></div></div>"
            ]
          },
          "metadata": {},
          "execution_count": 116
        }
      ]
    },
    {
      "cell_type": "code",
      "source": [
        "# Creating a Linear regression model with parallel processing enabled (-1 indicates using all available cores) for improved training efficiency.\n",
        "model_linear_regression = LinearRegression(n_jobs=-1)"
      ],
      "metadata": {
        "id": "nn7vMv7CrHsB"
      },
      "execution_count": 117,
      "outputs": []
    },
    {
      "cell_type": "code",
      "source": [
        "model_linear_regression"
      ],
      "metadata": {
        "colab": {
          "base_uri": "https://localhost:8080/",
          "height": 75
        },
        "id": "ZE2EELWlsN02",
        "outputId": "4d80b3a0-8dfa-4926-e456-0e7be5f14a7a"
      },
      "execution_count": 118,
      "outputs": [
        {
          "output_type": "execute_result",
          "data": {
            "text/plain": [
              "LinearRegression(n_jobs=-1)"
            ],
            "text/html": [
              "<style>#sk-container-id-11 {color: black;background-color: white;}#sk-container-id-11 pre{padding: 0;}#sk-container-id-11 div.sk-toggleable {background-color: white;}#sk-container-id-11 label.sk-toggleable__label {cursor: pointer;display: block;width: 100%;margin-bottom: 0;padding: 0.3em;box-sizing: border-box;text-align: center;}#sk-container-id-11 label.sk-toggleable__label-arrow:before {content: \"▸\";float: left;margin-right: 0.25em;color: #696969;}#sk-container-id-11 label.sk-toggleable__label-arrow:hover:before {color: black;}#sk-container-id-11 div.sk-estimator:hover label.sk-toggleable__label-arrow:before {color: black;}#sk-container-id-11 div.sk-toggleable__content {max-height: 0;max-width: 0;overflow: hidden;text-align: left;background-color: #f0f8ff;}#sk-container-id-11 div.sk-toggleable__content pre {margin: 0.2em;color: black;border-radius: 0.25em;background-color: #f0f8ff;}#sk-container-id-11 input.sk-toggleable__control:checked~div.sk-toggleable__content {max-height: 200px;max-width: 100%;overflow: auto;}#sk-container-id-11 input.sk-toggleable__control:checked~label.sk-toggleable__label-arrow:before {content: \"▾\";}#sk-container-id-11 div.sk-estimator input.sk-toggleable__control:checked~label.sk-toggleable__label {background-color: #d4ebff;}#sk-container-id-11 div.sk-label input.sk-toggleable__control:checked~label.sk-toggleable__label {background-color: #d4ebff;}#sk-container-id-11 input.sk-hidden--visually {border: 0;clip: rect(1px 1px 1px 1px);clip: rect(1px, 1px, 1px, 1px);height: 1px;margin: -1px;overflow: hidden;padding: 0;position: absolute;width: 1px;}#sk-container-id-11 div.sk-estimator {font-family: monospace;background-color: #f0f8ff;border: 1px dotted black;border-radius: 0.25em;box-sizing: border-box;margin-bottom: 0.5em;}#sk-container-id-11 div.sk-estimator:hover {background-color: #d4ebff;}#sk-container-id-11 div.sk-parallel-item::after {content: \"\";width: 100%;border-bottom: 1px solid gray;flex-grow: 1;}#sk-container-id-11 div.sk-label:hover label.sk-toggleable__label {background-color: #d4ebff;}#sk-container-id-11 div.sk-serial::before {content: \"\";position: absolute;border-left: 1px solid gray;box-sizing: border-box;top: 0;bottom: 0;left: 50%;z-index: 0;}#sk-container-id-11 div.sk-serial {display: flex;flex-direction: column;align-items: center;background-color: white;padding-right: 0.2em;padding-left: 0.2em;position: relative;}#sk-container-id-11 div.sk-item {position: relative;z-index: 1;}#sk-container-id-11 div.sk-parallel {display: flex;align-items: stretch;justify-content: center;background-color: white;position: relative;}#sk-container-id-11 div.sk-item::before, #sk-container-id-11 div.sk-parallel-item::before {content: \"\";position: absolute;border-left: 1px solid gray;box-sizing: border-box;top: 0;bottom: 0;left: 50%;z-index: -1;}#sk-container-id-11 div.sk-parallel-item {display: flex;flex-direction: column;z-index: 1;position: relative;background-color: white;}#sk-container-id-11 div.sk-parallel-item:first-child::after {align-self: flex-end;width: 50%;}#sk-container-id-11 div.sk-parallel-item:last-child::after {align-self: flex-start;width: 50%;}#sk-container-id-11 div.sk-parallel-item:only-child::after {width: 0;}#sk-container-id-11 div.sk-dashed-wrapped {border: 1px dashed gray;margin: 0 0.4em 0.5em 0.4em;box-sizing: border-box;padding-bottom: 0.4em;background-color: white;}#sk-container-id-11 div.sk-label label {font-family: monospace;font-weight: bold;display: inline-block;line-height: 1.2em;}#sk-container-id-11 div.sk-label-container {text-align: center;}#sk-container-id-11 div.sk-container {/* jupyter's `normalize.less` sets `[hidden] { display: none; }` but bootstrap.min.css set `[hidden] { display: none !important; }` so we also need the `!important` here to be able to override the default hidden behavior on the sphinx rendered scikit-learn.org. See: https://github.com/scikit-learn/scikit-learn/issues/21755 */display: inline-block !important;position: relative;}#sk-container-id-11 div.sk-text-repr-fallback {display: none;}</style><div id=\"sk-container-id-11\" class=\"sk-top-container\"><div class=\"sk-text-repr-fallback\"><pre>LinearRegression(n_jobs=-1)</pre><b>In a Jupyter environment, please rerun this cell to show the HTML representation or trust the notebook. <br />On GitHub, the HTML representation is unable to render, please try loading this page with nbviewer.org.</b></div><div class=\"sk-container\" hidden><div class=\"sk-item\"><div class=\"sk-estimator sk-toggleable\"><input class=\"sk-toggleable__control sk-hidden--visually\" id=\"sk-estimator-id-57\" type=\"checkbox\" checked><label for=\"sk-estimator-id-57\" class=\"sk-toggleable__label sk-toggleable__label-arrow\">LinearRegression</label><div class=\"sk-toggleable__content\"><pre>LinearRegression(n_jobs=-1)</pre></div></div></div></div></div>"
            ]
          },
          "metadata": {},
          "execution_count": 118
        }
      ]
    },
    {
      "cell_type": "code",
      "source": [
        "# Creating a pipeline combining preprocessing steps (imputation and encoding) with logistic regression modeling.\n",
        "model_pipeline = make_pipeline(\n",
        "    preprocessor,  # Applying preprocessing steps\n",
        "    model_linear_regression  # Training logistic regression model\n",
        ")"
      ],
      "metadata": {
        "id": "ijgNfiLsrLyq"
      },
      "execution_count": 119,
      "outputs": []
    },
    {
      "cell_type": "code",
      "source": [
        "model_pipeline"
      ],
      "metadata": {
        "colab": {
          "base_uri": "https://localhost:8080/",
          "height": 192
        },
        "id": "Ua3wnJtNsQpG",
        "outputId": "3f117f1d-734e-4457-8b5f-9dcc9c5c9754"
      },
      "execution_count": 120,
      "outputs": [
        {
          "output_type": "execute_result",
          "data": {
            "text/plain": [
              "Pipeline(steps=[('columntransformer',\n",
              "                 ColumnTransformer(transformers=[('standardscaler',\n",
              "                                                  StandardScaler(),\n",
              "                                                  ['age', 'bmi', 'children']),\n",
              "                                                 ('onehotencoder',\n",
              "                                                  OneHotEncoder(handle_unknown='ignore'),\n",
              "                                                  ['sex', 'smoker'])])),\n",
              "                ('linearregression', LinearRegression(n_jobs=-1))])"
            ],
            "text/html": [
              "<style>#sk-container-id-12 {color: black;background-color: white;}#sk-container-id-12 pre{padding: 0;}#sk-container-id-12 div.sk-toggleable {background-color: white;}#sk-container-id-12 label.sk-toggleable__label {cursor: pointer;display: block;width: 100%;margin-bottom: 0;padding: 0.3em;box-sizing: border-box;text-align: center;}#sk-container-id-12 label.sk-toggleable__label-arrow:before {content: \"▸\";float: left;margin-right: 0.25em;color: #696969;}#sk-container-id-12 label.sk-toggleable__label-arrow:hover:before {color: black;}#sk-container-id-12 div.sk-estimator:hover label.sk-toggleable__label-arrow:before {color: black;}#sk-container-id-12 div.sk-toggleable__content {max-height: 0;max-width: 0;overflow: hidden;text-align: left;background-color: #f0f8ff;}#sk-container-id-12 div.sk-toggleable__content pre {margin: 0.2em;color: black;border-radius: 0.25em;background-color: #f0f8ff;}#sk-container-id-12 input.sk-toggleable__control:checked~div.sk-toggleable__content {max-height: 200px;max-width: 100%;overflow: auto;}#sk-container-id-12 input.sk-toggleable__control:checked~label.sk-toggleable__label-arrow:before {content: \"▾\";}#sk-container-id-12 div.sk-estimator input.sk-toggleable__control:checked~label.sk-toggleable__label {background-color: #d4ebff;}#sk-container-id-12 div.sk-label input.sk-toggleable__control:checked~label.sk-toggleable__label {background-color: #d4ebff;}#sk-container-id-12 input.sk-hidden--visually {border: 0;clip: rect(1px 1px 1px 1px);clip: rect(1px, 1px, 1px, 1px);height: 1px;margin: -1px;overflow: hidden;padding: 0;position: absolute;width: 1px;}#sk-container-id-12 div.sk-estimator {font-family: monospace;background-color: #f0f8ff;border: 1px dotted black;border-radius: 0.25em;box-sizing: border-box;margin-bottom: 0.5em;}#sk-container-id-12 div.sk-estimator:hover {background-color: #d4ebff;}#sk-container-id-12 div.sk-parallel-item::after {content: \"\";width: 100%;border-bottom: 1px solid gray;flex-grow: 1;}#sk-container-id-12 div.sk-label:hover label.sk-toggleable__label {background-color: #d4ebff;}#sk-container-id-12 div.sk-serial::before {content: \"\";position: absolute;border-left: 1px solid gray;box-sizing: border-box;top: 0;bottom: 0;left: 50%;z-index: 0;}#sk-container-id-12 div.sk-serial {display: flex;flex-direction: column;align-items: center;background-color: white;padding-right: 0.2em;padding-left: 0.2em;position: relative;}#sk-container-id-12 div.sk-item {position: relative;z-index: 1;}#sk-container-id-12 div.sk-parallel {display: flex;align-items: stretch;justify-content: center;background-color: white;position: relative;}#sk-container-id-12 div.sk-item::before, #sk-container-id-12 div.sk-parallel-item::before {content: \"\";position: absolute;border-left: 1px solid gray;box-sizing: border-box;top: 0;bottom: 0;left: 50%;z-index: -1;}#sk-container-id-12 div.sk-parallel-item {display: flex;flex-direction: column;z-index: 1;position: relative;background-color: white;}#sk-container-id-12 div.sk-parallel-item:first-child::after {align-self: flex-end;width: 50%;}#sk-container-id-12 div.sk-parallel-item:last-child::after {align-self: flex-start;width: 50%;}#sk-container-id-12 div.sk-parallel-item:only-child::after {width: 0;}#sk-container-id-12 div.sk-dashed-wrapped {border: 1px dashed gray;margin: 0 0.4em 0.5em 0.4em;box-sizing: border-box;padding-bottom: 0.4em;background-color: white;}#sk-container-id-12 div.sk-label label {font-family: monospace;font-weight: bold;display: inline-block;line-height: 1.2em;}#sk-container-id-12 div.sk-label-container {text-align: center;}#sk-container-id-12 div.sk-container {/* jupyter's `normalize.less` sets `[hidden] { display: none; }` but bootstrap.min.css set `[hidden] { display: none !important; }` so we also need the `!important` here to be able to override the default hidden behavior on the sphinx rendered scikit-learn.org. See: https://github.com/scikit-learn/scikit-learn/issues/21755 */display: inline-block !important;position: relative;}#sk-container-id-12 div.sk-text-repr-fallback {display: none;}</style><div id=\"sk-container-id-12\" class=\"sk-top-container\"><div class=\"sk-text-repr-fallback\"><pre>Pipeline(steps=[(&#x27;columntransformer&#x27;,\n",
              "                 ColumnTransformer(transformers=[(&#x27;standardscaler&#x27;,\n",
              "                                                  StandardScaler(),\n",
              "                                                  [&#x27;age&#x27;, &#x27;bmi&#x27;, &#x27;children&#x27;]),\n",
              "                                                 (&#x27;onehotencoder&#x27;,\n",
              "                                                  OneHotEncoder(handle_unknown=&#x27;ignore&#x27;),\n",
              "                                                  [&#x27;sex&#x27;, &#x27;smoker&#x27;])])),\n",
              "                (&#x27;linearregression&#x27;, LinearRegression(n_jobs=-1))])</pre><b>In a Jupyter environment, please rerun this cell to show the HTML representation or trust the notebook. <br />On GitHub, the HTML representation is unable to render, please try loading this page with nbviewer.org.</b></div><div class=\"sk-container\" hidden><div class=\"sk-item sk-dashed-wrapped\"><div class=\"sk-label-container\"><div class=\"sk-label sk-toggleable\"><input class=\"sk-toggleable__control sk-hidden--visually\" id=\"sk-estimator-id-58\" type=\"checkbox\" ><label for=\"sk-estimator-id-58\" class=\"sk-toggleable__label sk-toggleable__label-arrow\">Pipeline</label><div class=\"sk-toggleable__content\"><pre>Pipeline(steps=[(&#x27;columntransformer&#x27;,\n",
              "                 ColumnTransformer(transformers=[(&#x27;standardscaler&#x27;,\n",
              "                                                  StandardScaler(),\n",
              "                                                  [&#x27;age&#x27;, &#x27;bmi&#x27;, &#x27;children&#x27;]),\n",
              "                                                 (&#x27;onehotencoder&#x27;,\n",
              "                                                  OneHotEncoder(handle_unknown=&#x27;ignore&#x27;),\n",
              "                                                  [&#x27;sex&#x27;, &#x27;smoker&#x27;])])),\n",
              "                (&#x27;linearregression&#x27;, LinearRegression(n_jobs=-1))])</pre></div></div></div><div class=\"sk-serial\"><div class=\"sk-item sk-dashed-wrapped\"><div class=\"sk-label-container\"><div class=\"sk-label sk-toggleable\"><input class=\"sk-toggleable__control sk-hidden--visually\" id=\"sk-estimator-id-59\" type=\"checkbox\" ><label for=\"sk-estimator-id-59\" class=\"sk-toggleable__label sk-toggleable__label-arrow\">columntransformer: ColumnTransformer</label><div class=\"sk-toggleable__content\"><pre>ColumnTransformer(transformers=[(&#x27;standardscaler&#x27;, StandardScaler(),\n",
              "                                 [&#x27;age&#x27;, &#x27;bmi&#x27;, &#x27;children&#x27;]),\n",
              "                                (&#x27;onehotencoder&#x27;,\n",
              "                                 OneHotEncoder(handle_unknown=&#x27;ignore&#x27;),\n",
              "                                 [&#x27;sex&#x27;, &#x27;smoker&#x27;])])</pre></div></div></div><div class=\"sk-parallel\"><div class=\"sk-parallel-item\"><div class=\"sk-item\"><div class=\"sk-label-container\"><div class=\"sk-label sk-toggleable\"><input class=\"sk-toggleable__control sk-hidden--visually\" id=\"sk-estimator-id-60\" type=\"checkbox\" ><label for=\"sk-estimator-id-60\" class=\"sk-toggleable__label sk-toggleable__label-arrow\">standardscaler</label><div class=\"sk-toggleable__content\"><pre>[&#x27;age&#x27;, &#x27;bmi&#x27;, &#x27;children&#x27;]</pre></div></div></div><div class=\"sk-serial\"><div class=\"sk-item\"><div class=\"sk-estimator sk-toggleable\"><input class=\"sk-toggleable__control sk-hidden--visually\" id=\"sk-estimator-id-61\" type=\"checkbox\" ><label for=\"sk-estimator-id-61\" class=\"sk-toggleable__label sk-toggleable__label-arrow\">StandardScaler</label><div class=\"sk-toggleable__content\"><pre>StandardScaler()</pre></div></div></div></div></div></div><div class=\"sk-parallel-item\"><div class=\"sk-item\"><div class=\"sk-label-container\"><div class=\"sk-label sk-toggleable\"><input class=\"sk-toggleable__control sk-hidden--visually\" id=\"sk-estimator-id-62\" type=\"checkbox\" ><label for=\"sk-estimator-id-62\" class=\"sk-toggleable__label sk-toggleable__label-arrow\">onehotencoder</label><div class=\"sk-toggleable__content\"><pre>[&#x27;sex&#x27;, &#x27;smoker&#x27;]</pre></div></div></div><div class=\"sk-serial\"><div class=\"sk-item\"><div class=\"sk-estimator sk-toggleable\"><input class=\"sk-toggleable__control sk-hidden--visually\" id=\"sk-estimator-id-63\" type=\"checkbox\" ><label for=\"sk-estimator-id-63\" class=\"sk-toggleable__label sk-toggleable__label-arrow\">OneHotEncoder</label><div class=\"sk-toggleable__content\"><pre>OneHotEncoder(handle_unknown=&#x27;ignore&#x27;)</pre></div></div></div></div></div></div></div></div><div class=\"sk-item\"><div class=\"sk-estimator sk-toggleable\"><input class=\"sk-toggleable__control sk-hidden--visually\" id=\"sk-estimator-id-64\" type=\"checkbox\" ><label for=\"sk-estimator-id-64\" class=\"sk-toggleable__label sk-toggleable__label-arrow\">LinearRegression</label><div class=\"sk-toggleable__content\"><pre>LinearRegression(n_jobs=-1)</pre></div></div></div></div></div></div></div>"
            ]
          },
          "metadata": {},
          "execution_count": 120
        }
      ]
    },
    {
      "cell_type": "code",
      "source": [
        "# Fit the model on training data\n",
        "model_pipeline.fit(Xtrain, ytrain)"
      ],
      "metadata": {
        "colab": {
          "base_uri": "https://localhost:8080/",
          "height": 192
        },
        "id": "UunX92VurOpI",
        "outputId": "aef1696b-ff12-46db-b1e0-51fd6a268b05"
      },
      "execution_count": 121,
      "outputs": [
        {
          "output_type": "execute_result",
          "data": {
            "text/plain": [
              "Pipeline(steps=[('columntransformer',\n",
              "                 ColumnTransformer(transformers=[('standardscaler',\n",
              "                                                  StandardScaler(),\n",
              "                                                  ['age', 'bmi', 'children']),\n",
              "                                                 ('onehotencoder',\n",
              "                                                  OneHotEncoder(handle_unknown='ignore'),\n",
              "                                                  ['sex', 'smoker'])])),\n",
              "                ('linearregression', LinearRegression(n_jobs=-1))])"
            ],
            "text/html": [
              "<style>#sk-container-id-13 {color: black;background-color: white;}#sk-container-id-13 pre{padding: 0;}#sk-container-id-13 div.sk-toggleable {background-color: white;}#sk-container-id-13 label.sk-toggleable__label {cursor: pointer;display: block;width: 100%;margin-bottom: 0;padding: 0.3em;box-sizing: border-box;text-align: center;}#sk-container-id-13 label.sk-toggleable__label-arrow:before {content: \"▸\";float: left;margin-right: 0.25em;color: #696969;}#sk-container-id-13 label.sk-toggleable__label-arrow:hover:before {color: black;}#sk-container-id-13 div.sk-estimator:hover label.sk-toggleable__label-arrow:before {color: black;}#sk-container-id-13 div.sk-toggleable__content {max-height: 0;max-width: 0;overflow: hidden;text-align: left;background-color: #f0f8ff;}#sk-container-id-13 div.sk-toggleable__content pre {margin: 0.2em;color: black;border-radius: 0.25em;background-color: #f0f8ff;}#sk-container-id-13 input.sk-toggleable__control:checked~div.sk-toggleable__content {max-height: 200px;max-width: 100%;overflow: auto;}#sk-container-id-13 input.sk-toggleable__control:checked~label.sk-toggleable__label-arrow:before {content: \"▾\";}#sk-container-id-13 div.sk-estimator input.sk-toggleable__control:checked~label.sk-toggleable__label {background-color: #d4ebff;}#sk-container-id-13 div.sk-label input.sk-toggleable__control:checked~label.sk-toggleable__label {background-color: #d4ebff;}#sk-container-id-13 input.sk-hidden--visually {border: 0;clip: rect(1px 1px 1px 1px);clip: rect(1px, 1px, 1px, 1px);height: 1px;margin: -1px;overflow: hidden;padding: 0;position: absolute;width: 1px;}#sk-container-id-13 div.sk-estimator {font-family: monospace;background-color: #f0f8ff;border: 1px dotted black;border-radius: 0.25em;box-sizing: border-box;margin-bottom: 0.5em;}#sk-container-id-13 div.sk-estimator:hover {background-color: #d4ebff;}#sk-container-id-13 div.sk-parallel-item::after {content: \"\";width: 100%;border-bottom: 1px solid gray;flex-grow: 1;}#sk-container-id-13 div.sk-label:hover label.sk-toggleable__label {background-color: #d4ebff;}#sk-container-id-13 div.sk-serial::before {content: \"\";position: absolute;border-left: 1px solid gray;box-sizing: border-box;top: 0;bottom: 0;left: 50%;z-index: 0;}#sk-container-id-13 div.sk-serial {display: flex;flex-direction: column;align-items: center;background-color: white;padding-right: 0.2em;padding-left: 0.2em;position: relative;}#sk-container-id-13 div.sk-item {position: relative;z-index: 1;}#sk-container-id-13 div.sk-parallel {display: flex;align-items: stretch;justify-content: center;background-color: white;position: relative;}#sk-container-id-13 div.sk-item::before, #sk-container-id-13 div.sk-parallel-item::before {content: \"\";position: absolute;border-left: 1px solid gray;box-sizing: border-box;top: 0;bottom: 0;left: 50%;z-index: -1;}#sk-container-id-13 div.sk-parallel-item {display: flex;flex-direction: column;z-index: 1;position: relative;background-color: white;}#sk-container-id-13 div.sk-parallel-item:first-child::after {align-self: flex-end;width: 50%;}#sk-container-id-13 div.sk-parallel-item:last-child::after {align-self: flex-start;width: 50%;}#sk-container-id-13 div.sk-parallel-item:only-child::after {width: 0;}#sk-container-id-13 div.sk-dashed-wrapped {border: 1px dashed gray;margin: 0 0.4em 0.5em 0.4em;box-sizing: border-box;padding-bottom: 0.4em;background-color: white;}#sk-container-id-13 div.sk-label label {font-family: monospace;font-weight: bold;display: inline-block;line-height: 1.2em;}#sk-container-id-13 div.sk-label-container {text-align: center;}#sk-container-id-13 div.sk-container {/* jupyter's `normalize.less` sets `[hidden] { display: none; }` but bootstrap.min.css set `[hidden] { display: none !important; }` so we also need the `!important` here to be able to override the default hidden behavior on the sphinx rendered scikit-learn.org. See: https://github.com/scikit-learn/scikit-learn/issues/21755 */display: inline-block !important;position: relative;}#sk-container-id-13 div.sk-text-repr-fallback {display: none;}</style><div id=\"sk-container-id-13\" class=\"sk-top-container\"><div class=\"sk-text-repr-fallback\"><pre>Pipeline(steps=[(&#x27;columntransformer&#x27;,\n",
              "                 ColumnTransformer(transformers=[(&#x27;standardscaler&#x27;,\n",
              "                                                  StandardScaler(),\n",
              "                                                  [&#x27;age&#x27;, &#x27;bmi&#x27;, &#x27;children&#x27;]),\n",
              "                                                 (&#x27;onehotencoder&#x27;,\n",
              "                                                  OneHotEncoder(handle_unknown=&#x27;ignore&#x27;),\n",
              "                                                  [&#x27;sex&#x27;, &#x27;smoker&#x27;])])),\n",
              "                (&#x27;linearregression&#x27;, LinearRegression(n_jobs=-1))])</pre><b>In a Jupyter environment, please rerun this cell to show the HTML representation or trust the notebook. <br />On GitHub, the HTML representation is unable to render, please try loading this page with nbviewer.org.</b></div><div class=\"sk-container\" hidden><div class=\"sk-item sk-dashed-wrapped\"><div class=\"sk-label-container\"><div class=\"sk-label sk-toggleable\"><input class=\"sk-toggleable__control sk-hidden--visually\" id=\"sk-estimator-id-65\" type=\"checkbox\" ><label for=\"sk-estimator-id-65\" class=\"sk-toggleable__label sk-toggleable__label-arrow\">Pipeline</label><div class=\"sk-toggleable__content\"><pre>Pipeline(steps=[(&#x27;columntransformer&#x27;,\n",
              "                 ColumnTransformer(transformers=[(&#x27;standardscaler&#x27;,\n",
              "                                                  StandardScaler(),\n",
              "                                                  [&#x27;age&#x27;, &#x27;bmi&#x27;, &#x27;children&#x27;]),\n",
              "                                                 (&#x27;onehotencoder&#x27;,\n",
              "                                                  OneHotEncoder(handle_unknown=&#x27;ignore&#x27;),\n",
              "                                                  [&#x27;sex&#x27;, &#x27;smoker&#x27;])])),\n",
              "                (&#x27;linearregression&#x27;, LinearRegression(n_jobs=-1))])</pre></div></div></div><div class=\"sk-serial\"><div class=\"sk-item sk-dashed-wrapped\"><div class=\"sk-label-container\"><div class=\"sk-label sk-toggleable\"><input class=\"sk-toggleable__control sk-hidden--visually\" id=\"sk-estimator-id-66\" type=\"checkbox\" ><label for=\"sk-estimator-id-66\" class=\"sk-toggleable__label sk-toggleable__label-arrow\">columntransformer: ColumnTransformer</label><div class=\"sk-toggleable__content\"><pre>ColumnTransformer(transformers=[(&#x27;standardscaler&#x27;, StandardScaler(),\n",
              "                                 [&#x27;age&#x27;, &#x27;bmi&#x27;, &#x27;children&#x27;]),\n",
              "                                (&#x27;onehotencoder&#x27;,\n",
              "                                 OneHotEncoder(handle_unknown=&#x27;ignore&#x27;),\n",
              "                                 [&#x27;sex&#x27;, &#x27;smoker&#x27;])])</pre></div></div></div><div class=\"sk-parallel\"><div class=\"sk-parallel-item\"><div class=\"sk-item\"><div class=\"sk-label-container\"><div class=\"sk-label sk-toggleable\"><input class=\"sk-toggleable__control sk-hidden--visually\" id=\"sk-estimator-id-67\" type=\"checkbox\" ><label for=\"sk-estimator-id-67\" class=\"sk-toggleable__label sk-toggleable__label-arrow\">standardscaler</label><div class=\"sk-toggleable__content\"><pre>[&#x27;age&#x27;, &#x27;bmi&#x27;, &#x27;children&#x27;]</pre></div></div></div><div class=\"sk-serial\"><div class=\"sk-item\"><div class=\"sk-estimator sk-toggleable\"><input class=\"sk-toggleable__control sk-hidden--visually\" id=\"sk-estimator-id-68\" type=\"checkbox\" ><label for=\"sk-estimator-id-68\" class=\"sk-toggleable__label sk-toggleable__label-arrow\">StandardScaler</label><div class=\"sk-toggleable__content\"><pre>StandardScaler()</pre></div></div></div></div></div></div><div class=\"sk-parallel-item\"><div class=\"sk-item\"><div class=\"sk-label-container\"><div class=\"sk-label sk-toggleable\"><input class=\"sk-toggleable__control sk-hidden--visually\" id=\"sk-estimator-id-69\" type=\"checkbox\" ><label for=\"sk-estimator-id-69\" class=\"sk-toggleable__label sk-toggleable__label-arrow\">onehotencoder</label><div class=\"sk-toggleable__content\"><pre>[&#x27;sex&#x27;, &#x27;smoker&#x27;]</pre></div></div></div><div class=\"sk-serial\"><div class=\"sk-item\"><div class=\"sk-estimator sk-toggleable\"><input class=\"sk-toggleable__control sk-hidden--visually\" id=\"sk-estimator-id-70\" type=\"checkbox\" ><label for=\"sk-estimator-id-70\" class=\"sk-toggleable__label sk-toggleable__label-arrow\">OneHotEncoder</label><div class=\"sk-toggleable__content\"><pre>OneHotEncoder(handle_unknown=&#x27;ignore&#x27;)</pre></div></div></div></div></div></div></div></div><div class=\"sk-item\"><div class=\"sk-estimator sk-toggleable\"><input class=\"sk-toggleable__control sk-hidden--visually\" id=\"sk-estimator-id-71\" type=\"checkbox\" ><label for=\"sk-estimator-id-71\" class=\"sk-toggleable__label sk-toggleable__label-arrow\">LinearRegression</label><div class=\"sk-toggleable__content\"><pre>LinearRegression(n_jobs=-1)</pre></div></div></div></div></div></div></div>"
            ]
          },
          "metadata": {},
          "execution_count": 121
        }
      ]
    },
    {
      "cell_type": "markdown",
      "metadata": {
        "application/vnd.databricks.v1+cell": {
          "cellMetadata": {},
          "inputWidgets": {},
          "nuid": "5674b6d3-48a3-478c-af4b-6dc237a52f49",
          "showTitle": false,
          "title": ""
        },
        "id": "_1MBYq-CIr6j"
      },
      "source": [
        "## Model Evaluation"
      ]
    },
    {
      "cell_type": "code",
      "source": [
        "# Make predictions on the testing data\n",
        "model_pipeline.predict(Xtest)"
      ],
      "metadata": {
        "colab": {
          "base_uri": "https://localhost:8080/"
        },
        "id": "4d-UQvZooVFm",
        "outputId": "40071f45-53e0-4579-cf10-3b099b361c79"
      },
      "execution_count": 123,
      "outputs": [
        {
          "output_type": "execute_result",
          "data": {
            "text/plain": [
              "array([ 8554.81711589,  6973.58746745, 36798.60416104,  9417.88282303,\n",
              "       26871.68031081, 11097.38383938,   145.27608963, 16746.1683771 ,\n",
              "         747.53414191, 11153.67590722, 28518.15016561,  9292.18345421,\n",
              "        5460.51975119, 38510.48013003, 40359.30938604, 37223.40538064,\n",
              "       15316.56711945, 36047.50032223,  9326.29049907, 31400.1559532 ,\n",
              "        4269.64414373, 10464.66374097,  2719.9260555 ,  6579.53742551,\n",
              "       11232.00255515, 12472.06793446, 14807.11281089,  6066.19283362,\n",
              "        9535.69029723,  2377.6983797 ,  9475.05690885, 12963.23366722,\n",
              "        4706.09057393,  3414.674504  ,  4815.64981654, 12484.17176954,\n",
              "        2359.13614479,  9161.02061228, 33238.67621442, 32743.41702445,\n",
              "        4274.58967205,  4229.5442107 , 14435.36485176, 11384.66898976,\n",
              "        8925.70468583, 12480.09178788,  5154.45787816,  3554.10047649,\n",
              "       35649.60942684,  9276.25523701, 15971.35991397,  2552.75200479,\n",
              "       12162.99980138,  1062.65132285, 13551.43771934, 12103.65505529,\n",
              "        3929.66908369, 32047.27892811, 13637.90785926, 12401.6930749 ,\n",
              "       14497.45910305, 10576.37158212, 16665.52678986,  7721.37886148,\n",
              "       11366.73201797,  4006.31579694, 27057.57750321, 11174.83104806,\n",
              "        2114.94429381,  6471.68791551, 10209.58863431, 11145.56236211,\n",
              "       11142.55094459,  9351.22917834, 12082.81125665,  6940.8341161 ,\n",
              "        6773.90177233, 10683.64525886,  6747.59450058,  9154.026641  ,\n",
              "        3936.66821244, 36214.28308055,  6727.76310638, 30318.20099861,\n",
              "       34836.98401781, 34809.70245765,  7212.66214292, 12752.30079216,\n",
              "        9845.38885092, 14772.74184841, 17156.7224695 , 35522.86112582,\n",
              "       32606.76076254,  5756.90763406, 32152.35357006,  9819.512411  ,\n",
              "       29661.50604547,  3836.53394134, 28282.08948639,  5424.04518496,\n",
              "        5329.46149993,  2236.57757356, 11604.92366908, 15380.18197847,\n",
              "       11307.60892238,  4462.2723887 , 10096.1436924 , 32002.6057091 ,\n",
              "        -462.01718266, 33086.32828478,  3604.26654205, 10229.77879529,\n",
              "       13834.25116273, 31162.92096386, 10991.66387786,  4255.83658348,\n",
              "       12668.55551697, 32194.07111422,  8340.6414313 ,  3179.75445397,\n",
              "        7944.63722212, 10474.57943807, 14679.37989808,  5793.6038508 ,\n",
              "        3749.02518416, 10109.14302101, 11041.06297998, 10672.55525164,\n",
              "       14582.79719996,  7518.11264541,  5588.30008858,  9398.72411654,\n",
              "        9483.82308524, 11994.27261733,  8655.33752191, 15624.41351783,\n",
              "        7905.79140047, 32155.40209722, 35608.91675629, 31133.48521476,\n",
              "        5946.76990251, 12105.36493684,  6163.6270294 , 14399.33874401,\n",
              "        2736.03365609, 33368.24623463,  6208.81419105,  5386.91182361,\n",
              "       14196.13600681,  7293.03723381, 38519.75566503,  3009.37728211,\n",
              "        5980.5670286 , 31200.91355909, 11368.82072275,  7976.16626004,\n",
              "       14333.97374161, 10015.70369922, 27269.39698029, 32977.42410324,\n",
              "       14074.81149052,  1630.46376886, 13570.37735406,  1819.02950988,\n",
              "        5783.29227727, 11707.69827069, 40083.81014766, 36399.32719546,\n",
              "       33538.96469556,  4237.53826618,  7886.64616954,  8984.33189836,\n",
              "       11875.22850945,  4769.57089541,  2418.22413603, 32364.62251199,\n",
              "       25489.48888369, 17589.56717446, 26439.80058571, 10131.7064427 ,\n",
              "       36821.57635284,  -780.27258246,  6797.9234782 ,  8092.02730321,\n",
              "        3989.77721558,  4977.80885262,  5468.9446385 ,  4671.29594238,\n",
              "       15239.86324012, 11072.05386772,  7224.43973683,  2066.30499237,\n",
              "        1134.29276297, 32245.61350846, 16534.99895257, 12165.95863685,\n",
              "        1225.95987965, 12081.94944404,  1132.83447879,  9124.85480951,\n",
              "        1851.41177422, 33861.40324427, 10928.70665865,  2547.61735158,\n",
              "       25900.0852432 , 26587.76850535,  9382.20516711,  1793.74237878,\n",
              "       13368.37771854,  1553.2243181 , 10826.08981163, 10820.98768404,\n",
              "       16310.76587058, 27079.35017098,  7194.37614586,  4746.62865049,\n",
              "        6056.45136244, 13450.63849673, 11345.08357281,  8516.1383574 ,\n",
              "        4984.49406043, 12133.7557559 , 13912.04624137, 35906.90003962,\n",
              "        4051.21525048, 29106.69292807,  -481.95058879,  2782.15742307,\n",
              "       11252.1998789 , 15774.76042909,  5346.65514236,  6909.04574459,\n",
              "        4253.38194916, 31691.89732972,  7259.46175823, 12544.58608615,\n",
              "        5529.49607139,  9844.38618798, 36414.38528198,  4594.92088295,\n",
              "        9316.01345646, 31469.44877307,  5608.26602033,  4797.39892382,\n",
              "        1008.56344727,  4737.21857795,  4946.16017613,  6849.36386051,\n",
              "       18702.5986979 , -1511.80693939,  2722.91999531, 11005.05177119,\n",
              "        3534.8443421 ,  9820.54960484,  3621.86753116,  5296.93237781,\n",
              "       12768.4532386 ,  6097.94352203,  7849.39316961,  7125.58436652,\n",
              "        8848.00703509, 10475.43724853, 28020.96417654, 39220.99588896,\n",
              "       11695.63412399,  7253.59867464, 40950.53990359, 12625.96641871])"
            ]
          },
          "metadata": {},
          "execution_count": 123
        }
      ]
    },
    {
      "cell_type": "code",
      "source": [
        "# Evaluate the model using mean squared error\n",
        "print(f\"RMSE: {mean_squared_error(ytest, model_pipeline.predict(Xtest), squared=False)}\")"
      ],
      "metadata": {
        "id": "rQKMBte_677I",
        "colab": {
          "base_uri": "https://localhost:8080/"
        },
        "outputId": "90219f53-2396-4888-a425-9e779429395b"
      },
      "execution_count": 125,
      "outputs": [
        {
          "output_type": "stream",
          "name": "stdout",
          "text": [
            "RMSE: 5829.17293025419\n"
          ]
        }
      ]
    },
    {
      "cell_type": "code",
      "source": [
        "# Evaluate the model using R-squared score\n",
        "print(f\"R-squared: {r2_score(ytest, model_pipeline.predict(Xtest))}\")"
      ],
      "metadata": {
        "colab": {
          "base_uri": "https://localhost:8080/"
        },
        "id": "RUzCW19Xlmby",
        "outputId": "aa75242b-5240-4ddc-a4bc-ab74341a28ad"
      },
      "execution_count": 126,
      "outputs": [
        {
          "output_type": "stream",
          "name": "stdout",
          "text": [
            "R-squared: 0.7811302113434095\n"
          ]
        }
      ]
    },
    {
      "cell_type": "markdown",
      "source": [
        "## Serialization"
      ],
      "metadata": {
        "id": "XGjFkRf5JTnC"
      }
    },
    {
      "cell_type": "code",
      "source": [
        "# Display information about the scikit-learn package\n",
        "print(\"Scikit-learn version:\", sklearn.__version__)\n",
        "\n",
        "# Display scikit-learn package information\n",
        "print(sklearn)"
      ],
      "metadata": {
        "id": "Q2pHKRtaJR9R",
        "colab": {
          "base_uri": "https://localhost:8080/"
        },
        "outputId": "6048827f-579e-49ab-fa95-9767d2cb8766"
      },
      "execution_count": 128,
      "outputs": [
        {
          "output_type": "stream",
          "name": "stdout",
          "text": [
            "Scikit-learn version: 1.2.2\n",
            "<module 'sklearn' from '/usr/local/lib/python3.10/dist-packages/sklearn/__init__.py'>\n"
          ]
        }
      ]
    },
    {
      "cell_type": "code",
      "source": [
        "# This command displays information about the installed version of the scikit-learn library.\n",
        "!pip show scikit-learn"
      ],
      "metadata": {
        "colab": {
          "base_uri": "https://localhost:8080/"
        },
        "id": "SSHdCeNdmzFh",
        "outputId": "775eecb4-45e2-4168-fe1f-75b7efb98e97"
      },
      "execution_count": 129,
      "outputs": [
        {
          "output_type": "stream",
          "name": "stdout",
          "text": [
            "Name: scikit-learn\n",
            "Version: 1.2.2\n",
            "Summary: A set of python modules for machine learning and data mining\n",
            "Home-page: http://scikit-learn.org\n",
            "Author: \n",
            "Author-email: \n",
            "License: new BSD\n",
            "Location: /usr/local/lib/python3.10/dist-packages\n",
            "Requires: joblib, numpy, scipy, threadpoolctl\n",
            "Required-by: bigframes, fastai, imbalanced-learn, librosa, mlxtend, qudida, sklearn-pandas, yellowbrick\n"
          ]
        }
      ]
    },
    {
      "cell_type": "code",
      "source": [
        "# Generate a requirements.txt file for the project's dependencies\n",
        "%%writefile requirements.txt\n",
        "scikit-learn==1.2.2"
      ],
      "metadata": {
        "id": "Wa0cqxINNTPq",
        "colab": {
          "base_uri": "https://localhost:8080/"
        },
        "outputId": "0a946d6d-0e87-48de-b20b-96abe70ab68d"
      },
      "execution_count": 130,
      "outputs": [
        {
          "output_type": "stream",
          "name": "stdout",
          "text": [
            "Writing requirements.txt\n"
          ]
        }
      ]
    },
    {
      "cell_type": "code",
      "source": [
        "%%writefile train.py\n",
        "import pandas as pd\n",
        "import joblib\n",
        "\n",
        "from sklearn.datasets import fetch_openml\n",
        "\n",
        "from sklearn.preprocessing import StandardScaler, OneHotEncoder\n",
        "from sklearn.compose import make_column_transformer\n",
        "\n",
        "from sklearn.pipeline import make_pipeline\n",
        "\n",
        "from sklearn.model_selection import train_test_split\n",
        "\n",
        "from sklearn.linear_model import LinearRegression\n",
        "from sklearn.metrics import mean_squared_error, r2_score\n",
        "\n",
        "# Read the data\n",
        "data_df = pd.read_csv(\"insurance.csv\")\n",
        "\n",
        "target = 'charges'\n",
        "numeric_features = ['age', 'bmi', 'children']\n",
        "categorical_features = ['sex', 'smoker']\n",
        "\n",
        "print(\"Creating data subsets\")\n",
        "\n",
        "X = data_df[numeric_features + categorical_features]\n",
        "y = data_df[target]\n",
        "\n",
        "Xtrain, Xtest, ytrain, ytest = train_test_split(\n",
        "    X, y,\n",
        "    test_size=0.2,\n",
        "    random_state=42\n",
        ")\n",
        "\n",
        "preprocessor = make_column_transformer(\n",
        "    (StandardScaler(), numeric_features),\n",
        "    (OneHotEncoder(handle_unknown='ignore'), categorical_features)\n",
        ")\n",
        "\n",
        "model_linear_regression = LinearRegression(n_jobs=-1)\n",
        "\n",
        "print(\"Estimating Model Pipeline\")\n",
        "\n",
        "model_pipeline = make_pipeline(\n",
        "    preprocessor,\n",
        "    model_linear_regression\n",
        ")\n",
        "\n",
        "model_pipeline.fit(Xtrain, ytrain)\n",
        "\n",
        "print(\"Logging Metrics\")\n",
        "print(f\"R-squared: {r2_score(ytest, model_pipeline.predict(Xtest))}\")\n",
        "\n",
        "print(\"Serializing Model\")\n",
        "\n",
        "saved_model_path = \"model.joblib\"\n",
        "\n",
        "joblib.dump(model_pipeline, saved_model_path)\n"
      ],
      "metadata": {
        "id": "wtMeSwLfJf7K",
        "colab": {
          "base_uri": "https://localhost:8080/"
        },
        "outputId": "ff8a136f-9d11-41c7-9ada-b43ef36e1442"
      },
      "execution_count": 131,
      "outputs": [
        {
          "output_type": "stream",
          "name": "stdout",
          "text": [
            "Writing train.py\n"
          ]
        }
      ]
    },
    {
      "cell_type": "code",
      "source": [
        "# Execute the training script\n",
        "# Run the script\n",
        "!python train.py"
      ],
      "metadata": {
        "id": "q9CmkTbsLn8C",
        "colab": {
          "base_uri": "https://localhost:8080/"
        },
        "outputId": "84bf1c4b-617d-455e-a04c-144bb091109e"
      },
      "execution_count": 132,
      "outputs": [
        {
          "output_type": "stream",
          "name": "stdout",
          "text": [
            "Creating data subsets\n",
            "Estimating Model Pipeline\n",
            "Logging Metrics\n",
            "R-squared: 0.7811302113434095\n",
            "Serializing Model\n"
          ]
        }
      ]
    },
    {
      "cell_type": "markdown",
      "source": [
        "## Test Predictions"
      ],
      "metadata": {
        "id": "lFC4HfHjMR2G"
      }
    },
    {
      "cell_type": "code",
      "source": [
        "# write you are code here\n",
        "# Load the saved model\n",
        "saved_model = joblib.load(\"model.joblib\")"
      ],
      "metadata": {
        "id": "GHUn9EEf7oW-"
      },
      "execution_count": 133,
      "outputs": []
    },
    {
      "cell_type": "code",
      "source": [
        "# Get the architecture of saved model\n",
        "saved_model"
      ],
      "metadata": {
        "colab": {
          "base_uri": "https://localhost:8080/",
          "height": 192
        },
        "id": "fuszH1ROpyDe",
        "outputId": "3f6ca338-ac32-4fde-9951-9db82b6faf31"
      },
      "execution_count": 134,
      "outputs": [
        {
          "output_type": "execute_result",
          "data": {
            "text/plain": [
              "Pipeline(steps=[('columntransformer',\n",
              "                 ColumnTransformer(transformers=[('standardscaler',\n",
              "                                                  StandardScaler(),\n",
              "                                                  ['age', 'bmi', 'children']),\n",
              "                                                 ('onehotencoder',\n",
              "                                                  OneHotEncoder(handle_unknown='ignore'),\n",
              "                                                  ['sex', 'smoker'])])),\n",
              "                ('linearregression', LinearRegression(n_jobs=-1))])"
            ],
            "text/html": [
              "<style>#sk-container-id-14 {color: black;background-color: white;}#sk-container-id-14 pre{padding: 0;}#sk-container-id-14 div.sk-toggleable {background-color: white;}#sk-container-id-14 label.sk-toggleable__label {cursor: pointer;display: block;width: 100%;margin-bottom: 0;padding: 0.3em;box-sizing: border-box;text-align: center;}#sk-container-id-14 label.sk-toggleable__label-arrow:before {content: \"▸\";float: left;margin-right: 0.25em;color: #696969;}#sk-container-id-14 label.sk-toggleable__label-arrow:hover:before {color: black;}#sk-container-id-14 div.sk-estimator:hover label.sk-toggleable__label-arrow:before {color: black;}#sk-container-id-14 div.sk-toggleable__content {max-height: 0;max-width: 0;overflow: hidden;text-align: left;background-color: #f0f8ff;}#sk-container-id-14 div.sk-toggleable__content pre {margin: 0.2em;color: black;border-radius: 0.25em;background-color: #f0f8ff;}#sk-container-id-14 input.sk-toggleable__control:checked~div.sk-toggleable__content {max-height: 200px;max-width: 100%;overflow: auto;}#sk-container-id-14 input.sk-toggleable__control:checked~label.sk-toggleable__label-arrow:before {content: \"▾\";}#sk-container-id-14 div.sk-estimator input.sk-toggleable__control:checked~label.sk-toggleable__label {background-color: #d4ebff;}#sk-container-id-14 div.sk-label input.sk-toggleable__control:checked~label.sk-toggleable__label {background-color: #d4ebff;}#sk-container-id-14 input.sk-hidden--visually {border: 0;clip: rect(1px 1px 1px 1px);clip: rect(1px, 1px, 1px, 1px);height: 1px;margin: -1px;overflow: hidden;padding: 0;position: absolute;width: 1px;}#sk-container-id-14 div.sk-estimator {font-family: monospace;background-color: #f0f8ff;border: 1px dotted black;border-radius: 0.25em;box-sizing: border-box;margin-bottom: 0.5em;}#sk-container-id-14 div.sk-estimator:hover {background-color: #d4ebff;}#sk-container-id-14 div.sk-parallel-item::after {content: \"\";width: 100%;border-bottom: 1px solid gray;flex-grow: 1;}#sk-container-id-14 div.sk-label:hover label.sk-toggleable__label {background-color: #d4ebff;}#sk-container-id-14 div.sk-serial::before {content: \"\";position: absolute;border-left: 1px solid gray;box-sizing: border-box;top: 0;bottom: 0;left: 50%;z-index: 0;}#sk-container-id-14 div.sk-serial {display: flex;flex-direction: column;align-items: center;background-color: white;padding-right: 0.2em;padding-left: 0.2em;position: relative;}#sk-container-id-14 div.sk-item {position: relative;z-index: 1;}#sk-container-id-14 div.sk-parallel {display: flex;align-items: stretch;justify-content: center;background-color: white;position: relative;}#sk-container-id-14 div.sk-item::before, #sk-container-id-14 div.sk-parallel-item::before {content: \"\";position: absolute;border-left: 1px solid gray;box-sizing: border-box;top: 0;bottom: 0;left: 50%;z-index: -1;}#sk-container-id-14 div.sk-parallel-item {display: flex;flex-direction: column;z-index: 1;position: relative;background-color: white;}#sk-container-id-14 div.sk-parallel-item:first-child::after {align-self: flex-end;width: 50%;}#sk-container-id-14 div.sk-parallel-item:last-child::after {align-self: flex-start;width: 50%;}#sk-container-id-14 div.sk-parallel-item:only-child::after {width: 0;}#sk-container-id-14 div.sk-dashed-wrapped {border: 1px dashed gray;margin: 0 0.4em 0.5em 0.4em;box-sizing: border-box;padding-bottom: 0.4em;background-color: white;}#sk-container-id-14 div.sk-label label {font-family: monospace;font-weight: bold;display: inline-block;line-height: 1.2em;}#sk-container-id-14 div.sk-label-container {text-align: center;}#sk-container-id-14 div.sk-container {/* jupyter's `normalize.less` sets `[hidden] { display: none; }` but bootstrap.min.css set `[hidden] { display: none !important; }` so we also need the `!important` here to be able to override the default hidden behavior on the sphinx rendered scikit-learn.org. See: https://github.com/scikit-learn/scikit-learn/issues/21755 */display: inline-block !important;position: relative;}#sk-container-id-14 div.sk-text-repr-fallback {display: none;}</style><div id=\"sk-container-id-14\" class=\"sk-top-container\"><div class=\"sk-text-repr-fallback\"><pre>Pipeline(steps=[(&#x27;columntransformer&#x27;,\n",
              "                 ColumnTransformer(transformers=[(&#x27;standardscaler&#x27;,\n",
              "                                                  StandardScaler(),\n",
              "                                                  [&#x27;age&#x27;, &#x27;bmi&#x27;, &#x27;children&#x27;]),\n",
              "                                                 (&#x27;onehotencoder&#x27;,\n",
              "                                                  OneHotEncoder(handle_unknown=&#x27;ignore&#x27;),\n",
              "                                                  [&#x27;sex&#x27;, &#x27;smoker&#x27;])])),\n",
              "                (&#x27;linearregression&#x27;, LinearRegression(n_jobs=-1))])</pre><b>In a Jupyter environment, please rerun this cell to show the HTML representation or trust the notebook. <br />On GitHub, the HTML representation is unable to render, please try loading this page with nbviewer.org.</b></div><div class=\"sk-container\" hidden><div class=\"sk-item sk-dashed-wrapped\"><div class=\"sk-label-container\"><div class=\"sk-label sk-toggleable\"><input class=\"sk-toggleable__control sk-hidden--visually\" id=\"sk-estimator-id-72\" type=\"checkbox\" ><label for=\"sk-estimator-id-72\" class=\"sk-toggleable__label sk-toggleable__label-arrow\">Pipeline</label><div class=\"sk-toggleable__content\"><pre>Pipeline(steps=[(&#x27;columntransformer&#x27;,\n",
              "                 ColumnTransformer(transformers=[(&#x27;standardscaler&#x27;,\n",
              "                                                  StandardScaler(),\n",
              "                                                  [&#x27;age&#x27;, &#x27;bmi&#x27;, &#x27;children&#x27;]),\n",
              "                                                 (&#x27;onehotencoder&#x27;,\n",
              "                                                  OneHotEncoder(handle_unknown=&#x27;ignore&#x27;),\n",
              "                                                  [&#x27;sex&#x27;, &#x27;smoker&#x27;])])),\n",
              "                (&#x27;linearregression&#x27;, LinearRegression(n_jobs=-1))])</pre></div></div></div><div class=\"sk-serial\"><div class=\"sk-item sk-dashed-wrapped\"><div class=\"sk-label-container\"><div class=\"sk-label sk-toggleable\"><input class=\"sk-toggleable__control sk-hidden--visually\" id=\"sk-estimator-id-73\" type=\"checkbox\" ><label for=\"sk-estimator-id-73\" class=\"sk-toggleable__label sk-toggleable__label-arrow\">columntransformer: ColumnTransformer</label><div class=\"sk-toggleable__content\"><pre>ColumnTransformer(transformers=[(&#x27;standardscaler&#x27;, StandardScaler(),\n",
              "                                 [&#x27;age&#x27;, &#x27;bmi&#x27;, &#x27;children&#x27;]),\n",
              "                                (&#x27;onehotencoder&#x27;,\n",
              "                                 OneHotEncoder(handle_unknown=&#x27;ignore&#x27;),\n",
              "                                 [&#x27;sex&#x27;, &#x27;smoker&#x27;])])</pre></div></div></div><div class=\"sk-parallel\"><div class=\"sk-parallel-item\"><div class=\"sk-item\"><div class=\"sk-label-container\"><div class=\"sk-label sk-toggleable\"><input class=\"sk-toggleable__control sk-hidden--visually\" id=\"sk-estimator-id-74\" type=\"checkbox\" ><label for=\"sk-estimator-id-74\" class=\"sk-toggleable__label sk-toggleable__label-arrow\">standardscaler</label><div class=\"sk-toggleable__content\"><pre>[&#x27;age&#x27;, &#x27;bmi&#x27;, &#x27;children&#x27;]</pre></div></div></div><div class=\"sk-serial\"><div class=\"sk-item\"><div class=\"sk-estimator sk-toggleable\"><input class=\"sk-toggleable__control sk-hidden--visually\" id=\"sk-estimator-id-75\" type=\"checkbox\" ><label for=\"sk-estimator-id-75\" class=\"sk-toggleable__label sk-toggleable__label-arrow\">StandardScaler</label><div class=\"sk-toggleable__content\"><pre>StandardScaler()</pre></div></div></div></div></div></div><div class=\"sk-parallel-item\"><div class=\"sk-item\"><div class=\"sk-label-container\"><div class=\"sk-label sk-toggleable\"><input class=\"sk-toggleable__control sk-hidden--visually\" id=\"sk-estimator-id-76\" type=\"checkbox\" ><label for=\"sk-estimator-id-76\" class=\"sk-toggleable__label sk-toggleable__label-arrow\">onehotencoder</label><div class=\"sk-toggleable__content\"><pre>[&#x27;sex&#x27;, &#x27;smoker&#x27;]</pre></div></div></div><div class=\"sk-serial\"><div class=\"sk-item\"><div class=\"sk-estimator sk-toggleable\"><input class=\"sk-toggleable__control sk-hidden--visually\" id=\"sk-estimator-id-77\" type=\"checkbox\" ><label for=\"sk-estimator-id-77\" class=\"sk-toggleable__label sk-toggleable__label-arrow\">OneHotEncoder</label><div class=\"sk-toggleable__content\"><pre>OneHotEncoder(handle_unknown=&#x27;ignore&#x27;)</pre></div></div></div></div></div></div></div></div><div class=\"sk-item\"><div class=\"sk-estimator sk-toggleable\"><input class=\"sk-toggleable__control sk-hidden--visually\" id=\"sk-estimator-id-78\" type=\"checkbox\" ><label for=\"sk-estimator-id-78\" class=\"sk-toggleable__label sk-toggleable__label-arrow\">LinearRegression</label><div class=\"sk-toggleable__content\"><pre>LinearRegression(n_jobs=-1)</pre></div></div></div></div></div></div></div>"
            ]
          },
          "metadata": {},
          "execution_count": 134
        }
      ]
    },
    {
      "cell_type": "code",
      "source": [
        "saved_model.predict(Xtest)"
      ],
      "metadata": {
        "colab": {
          "base_uri": "https://localhost:8080/"
        },
        "id": "N0ch1OTjF8aH",
        "outputId": "08297694-cc79-4349-a6b7-da8686adbcae"
      },
      "execution_count": 135,
      "outputs": [
        {
          "output_type": "execute_result",
          "data": {
            "text/plain": [
              "array([ 8554.81711589,  6973.58746745, 36798.60416104,  9417.88282303,\n",
              "       26871.68031081, 11097.38383938,   145.27608963, 16746.1683771 ,\n",
              "         747.53414191, 11153.67590722, 28518.15016561,  9292.18345421,\n",
              "        5460.51975119, 38510.48013003, 40359.30938604, 37223.40538064,\n",
              "       15316.56711945, 36047.50032223,  9326.29049907, 31400.1559532 ,\n",
              "        4269.64414373, 10464.66374097,  2719.9260555 ,  6579.53742551,\n",
              "       11232.00255515, 12472.06793446, 14807.11281089,  6066.19283362,\n",
              "        9535.69029723,  2377.6983797 ,  9475.05690885, 12963.23366722,\n",
              "        4706.09057393,  3414.674504  ,  4815.64981654, 12484.17176954,\n",
              "        2359.13614479,  9161.02061228, 33238.67621442, 32743.41702445,\n",
              "        4274.58967205,  4229.5442107 , 14435.36485176, 11384.66898976,\n",
              "        8925.70468583, 12480.09178788,  5154.45787816,  3554.10047649,\n",
              "       35649.60942684,  9276.25523701, 15971.35991397,  2552.75200479,\n",
              "       12162.99980138,  1062.65132285, 13551.43771934, 12103.65505529,\n",
              "        3929.66908369, 32047.27892811, 13637.90785926, 12401.6930749 ,\n",
              "       14497.45910305, 10576.37158212, 16665.52678986,  7721.37886148,\n",
              "       11366.73201797,  4006.31579694, 27057.57750321, 11174.83104806,\n",
              "        2114.94429381,  6471.68791551, 10209.58863431, 11145.56236211,\n",
              "       11142.55094459,  9351.22917834, 12082.81125665,  6940.8341161 ,\n",
              "        6773.90177233, 10683.64525886,  6747.59450058,  9154.026641  ,\n",
              "        3936.66821244, 36214.28308055,  6727.76310638, 30318.20099861,\n",
              "       34836.98401781, 34809.70245765,  7212.66214292, 12752.30079216,\n",
              "        9845.38885092, 14772.74184841, 17156.7224695 , 35522.86112582,\n",
              "       32606.76076254,  5756.90763406, 32152.35357006,  9819.512411  ,\n",
              "       29661.50604547,  3836.53394134, 28282.08948639,  5424.04518496,\n",
              "        5329.46149993,  2236.57757356, 11604.92366908, 15380.18197847,\n",
              "       11307.60892238,  4462.2723887 , 10096.1436924 , 32002.6057091 ,\n",
              "        -462.01718266, 33086.32828478,  3604.26654205, 10229.77879529,\n",
              "       13834.25116273, 31162.92096386, 10991.66387786,  4255.83658348,\n",
              "       12668.55551697, 32194.07111422,  8340.6414313 ,  3179.75445397,\n",
              "        7944.63722212, 10474.57943807, 14679.37989808,  5793.6038508 ,\n",
              "        3749.02518416, 10109.14302101, 11041.06297998, 10672.55525164,\n",
              "       14582.79719996,  7518.11264541,  5588.30008858,  9398.72411654,\n",
              "        9483.82308524, 11994.27261733,  8655.33752191, 15624.41351783,\n",
              "        7905.79140047, 32155.40209722, 35608.91675629, 31133.48521476,\n",
              "        5946.76990251, 12105.36493684,  6163.6270294 , 14399.33874401,\n",
              "        2736.03365609, 33368.24623463,  6208.81419105,  5386.91182361,\n",
              "       14196.13600681,  7293.03723381, 38519.75566503,  3009.37728211,\n",
              "        5980.5670286 , 31200.91355909, 11368.82072275,  7976.16626004,\n",
              "       14333.97374161, 10015.70369922, 27269.39698029, 32977.42410324,\n",
              "       14074.81149052,  1630.46376886, 13570.37735406,  1819.02950988,\n",
              "        5783.29227727, 11707.69827069, 40083.81014766, 36399.32719546,\n",
              "       33538.96469556,  4237.53826618,  7886.64616954,  8984.33189836,\n",
              "       11875.22850945,  4769.57089541,  2418.22413603, 32364.62251199,\n",
              "       25489.48888369, 17589.56717446, 26439.80058571, 10131.7064427 ,\n",
              "       36821.57635284,  -780.27258246,  6797.9234782 ,  8092.02730321,\n",
              "        3989.77721558,  4977.80885262,  5468.9446385 ,  4671.29594238,\n",
              "       15239.86324012, 11072.05386772,  7224.43973683,  2066.30499237,\n",
              "        1134.29276297, 32245.61350846, 16534.99895257, 12165.95863685,\n",
              "        1225.95987965, 12081.94944404,  1132.83447879,  9124.85480951,\n",
              "        1851.41177422, 33861.40324427, 10928.70665865,  2547.61735158,\n",
              "       25900.0852432 , 26587.76850535,  9382.20516711,  1793.74237878,\n",
              "       13368.37771854,  1553.2243181 , 10826.08981163, 10820.98768404,\n",
              "       16310.76587058, 27079.35017098,  7194.37614586,  4746.62865049,\n",
              "        6056.45136244, 13450.63849673, 11345.08357281,  8516.1383574 ,\n",
              "        4984.49406043, 12133.7557559 , 13912.04624137, 35906.90003962,\n",
              "        4051.21525048, 29106.69292807,  -481.95058879,  2782.15742307,\n",
              "       11252.1998789 , 15774.76042909,  5346.65514236,  6909.04574459,\n",
              "        4253.38194916, 31691.89732972,  7259.46175823, 12544.58608615,\n",
              "        5529.49607139,  9844.38618798, 36414.38528198,  4594.92088295,\n",
              "        9316.01345646, 31469.44877307,  5608.26602033,  4797.39892382,\n",
              "        1008.56344727,  4737.21857795,  4946.16017613,  6849.36386051,\n",
              "       18702.5986979 , -1511.80693939,  2722.91999531, 11005.05177119,\n",
              "        3534.8443421 ,  9820.54960484,  3621.86753116,  5296.93237781,\n",
              "       12768.4532386 ,  6097.94352203,  7849.39316961,  7125.58436652,\n",
              "        8848.00703509, 10475.43724853, 28020.96417654, 39220.99588896,\n",
              "       11695.63412399,  7253.59867464, 40950.53990359, 12625.96641871])"
            ]
          },
          "metadata": {},
          "execution_count": 135
        }
      ]
    },
    {
      "cell_type": "markdown",
      "source": [
        "# Gradio Interface"
      ],
      "metadata": {
        "id": "aTVpZrMJJq0Q"
      }
    },
    {
      "cell_type": "code",
      "source": [
        "%%writefile app.py\n",
        "# Import the libraries\n",
        "\n",
        "\n",
        "\n",
        "# Run the training script placed in the same directory as app.py\n",
        "# The training script will train and persist a linear regression\n",
        "# model with the filename 'model.joblib'\n",
        "\n",
        "\n",
        "\n",
        "\n",
        "# Load the freshly trained model from disk\n",
        "\n",
        "\n",
        "# Prepare the logging functionality\n",
        "log_file = Path(\"logs/\") / f\"data_{uuid.uuid4()}.json\"\n",
        "log_folder = log_file.parent\n",
        "\n",
        "scheduler = CommitScheduler(\n",
        "    repo_id=\"-----------\",  # provide a name \"insurance-charge-mlops-logs\" for the repo_id\n",
        "    repo_type=\"dataset\",\n",
        "    folder_path=log_folder,\n",
        "    path_in_repo=\"data\",\n",
        "    every=2\n",
        ")\n",
        "\n",
        "# Define the predict function which will take features, convert to dataframe and make predictions using the saved model\n",
        "# the functions runs when 'Submit' is clicked or when a API request is made\n",
        "\n",
        "\n",
        "    # While the prediction is made, log both the inputs and outputs to a  log file\n",
        "    # While writing to the log file, ensure that the commit scheduler is locked to avoid parallel\n",
        "    # access\n",
        "\n",
        "    with scheduler.lock:\n",
        "        with log_file.open(\"a\") as f:\n",
        "            f.write(json.dumps(\n",
        "                {\n",
        "                    'age': age,\n",
        "                    'bmi': bmi,\n",
        "                    'children': children,\n",
        "                    'sex': sex,\n",
        "                    'smoker': smoker,\n",
        "                    'region': region,\n",
        "                    'prediction': prediction[0]\n",
        "                }\n",
        "            ))\n",
        "            f.write(\"\\n\")\n",
        "\n",
        "    return prediction[0]\n",
        "\n",
        "\n",
        "\n",
        "# Set up UI components for input and output\n",
        "\n",
        "\n",
        "\n",
        "# Create the gradio interface, make title \"HealthyLife Insurance Charge Prediction\"\n",
        "\n",
        "\n",
        "# Launch with a load balancer\n",
        "demo.queue()\n",
        "demo.launch(share=False)"
      ],
      "metadata": {
        "colab": {
          "base_uri": "https://localhost:8080/"
        },
        "id": "xMloE1BhI4TK",
        "outputId": "8738f81f-0631-4336-9cd2-ea1159a970b4"
      },
      "execution_count": 39,
      "outputs": [
        {
          "output_type": "stream",
          "name": "stdout",
          "text": [
            "Writing app.py\n"
          ]
        }
      ]
    },
    {
      "cell_type": "markdown",
      "source": [
        "# Online/Batch Inferencing"
      ],
      "metadata": {
        "id": "U7r22COUnPhT"
      }
    },
    {
      "cell_type": "markdown",
      "source": [
        "### Paste your gradio app link\n",
        "\n",
        "*   app link here\n",
        "\n",
        "Note: Make sure your Hugging Face space repository is set to public. If it's private, the evaluator won't be able to access the app you've built, which could result in losing marks."
      ],
      "metadata": {
        "id": "khY2e1FzM29z"
      }
    },
    {
      "cell_type": "code",
      "execution_count": 40,
      "metadata": {
        "id": "AqkyIqoQhORh"
      },
      "outputs": [],
      "source": [
        "# Install the gradio_client package silently"
      ]
    },
    {
      "cell_type": "code",
      "source": [
        "# import the libraries"
      ],
      "metadata": {
        "id": "_6hqa3y5hWQ2"
      },
      "execution_count": 41,
      "outputs": []
    },
    {
      "cell_type": "markdown",
      "source": [
        "## Test Data"
      ],
      "metadata": {
        "id": "nHr-lJsMiAr3"
      }
    },
    {
      "cell_type": "code",
      "source": [
        "# Read the insurance dataset from a CSV file into a DataFrame\n",
        "\n",
        "# Define the target variable\n",
        "\n",
        "# Define the numeric features used for modeling\n",
        "\n",
        "# Define the categorical features used for modeling\n",
        "\n",
        "# Print a message indicating that data subsets are being created\n",
        "\n",
        "# Create a variable X by combining numeric and categorical features\n",
        "\n",
        "# Create the target variable y\n",
        "\n",
        "# Split the data into training and testing sets"
      ],
      "metadata": {
        "id": "UkgdHHg2hzRg"
      },
      "execution_count": 42,
      "outputs": []
    },
    {
      "cell_type": "code",
      "source": [
        "# Check the shape of the testing features dataset\n"
      ],
      "metadata": {
        "id": "8polBKfli8zm"
      },
      "execution_count": 43,
      "outputs": []
    },
    {
      "cell_type": "code",
      "source": [
        "# Display the first 3 rows of the testing features dataset\n"
      ],
      "metadata": {
        "id": "2u29J1KRiZfz"
      },
      "execution_count": 44,
      "outputs": []
    },
    {
      "cell_type": "code",
      "source": [
        "# Retrieve the values of a specific row (index 764) from the testing features dataset and convert them to a list\n"
      ],
      "metadata": {
        "id": "8Lqv_mP3igAN"
      },
      "execution_count": 45,
      "outputs": []
    },
    {
      "cell_type": "code",
      "source": [
        "# Randomly sample 100 rows from the testing features dataset\n"
      ],
      "metadata": {
        "id": "J7GEWMhwjCdC"
      },
      "execution_count": 46,
      "outputs": []
    },
    {
      "cell_type": "code",
      "source": [
        "# Convert the sampled rows from the DataFrame to a list of tuples\n"
      ],
      "metadata": {
        "id": "UsC7wJJPjGhu"
      },
      "execution_count": 47,
      "outputs": []
    },
    {
      "cell_type": "code",
      "source": [
        "# Access the first tuple in the list of sampled rows\n"
      ],
      "metadata": {
        "id": "4pgM6Xgtj3zj"
      },
      "execution_count": 48,
      "outputs": []
    },
    {
      "cell_type": "markdown",
      "source": [
        "## Inference"
      ],
      "metadata": {
        "id": "R76BjqoEiQZp"
      }
    },
    {
      "cell_type": "code",
      "source": [
        "# Create a Gradio client instance for the specified Gradio interface\n"
      ],
      "metadata": {
        "id": "DmLUATIshX8x"
      },
      "execution_count": 49,
      "outputs": []
    },
    {
      "cell_type": "markdown",
      "source": [
        "## Online/Real time"
      ],
      "metadata": {
        "id": "LlNyuobOk-Nz"
      }
    },
    {
      "cell_type": "code",
      "source": [
        "# Submit a single data point prediction request to the Gradio interface\n"
      ],
      "metadata": {
        "id": "zwCtvdcqkIG2"
      },
      "execution_count": 50,
      "outputs": []
    },
    {
      "cell_type": "code",
      "source": [
        "# Print the result of the prediction job\n"
      ],
      "metadata": {
        "id": "iXPyA3WYkvII"
      },
      "execution_count": 51,
      "outputs": []
    },
    {
      "cell_type": "markdown",
      "source": [
        "## Batch"
      ],
      "metadata": {
        "id": "iDORkOkBlNTf"
      }
    },
    {
      "cell_type": "code",
      "source": [
        "# Initialize an empty list to store batch predictions\n",
        "batch_predictions = []"
      ],
      "metadata": {
        "id": "0xGAU0EelVnV"
      },
      "execution_count": 52,
      "outputs": []
    },
    {
      "cell_type": "code",
      "source": [
        "# Iterate through the sampled rows and submit prediction requests to the Gradio interface\n",
        "# Store the results in batch_predictions list\n",
        "for row in tqdm(Xtest_sample_rows):\n",
        "    try:\n",
        "        # Submit a prediction request for the current row\n",
        "\n",
        "\n",
        "        # Append the prediction result to batch_predictions\n",
        "        batch_predictions.append(int(round(float(prediction))))\n",
        "\n",
        "        # Sleep for 1 second before the next request\n",
        "\n",
        "\n",
        "    except Exception as e:\n",
        "        # Print any exceptions that occur during the prediction\n",
        "        print(e)"
      ],
      "metadata": {
        "id": "0kYU2lspj_h2",
        "colab": {
          "base_uri": "https://localhost:8080/",
          "height": 216
        },
        "outputId": "6fc2012a-23c8-4851-eb4f-380517235994"
      },
      "execution_count": 53,
      "outputs": [
        {
          "output_type": "error",
          "ename": "NameError",
          "evalue": "name 'tqdm' is not defined",
          "traceback": [
            "\u001b[0;31m---------------------------------------------------------------------------\u001b[0m",
            "\u001b[0;31mNameError\u001b[0m                                 Traceback (most recent call last)",
            "\u001b[0;32m<ipython-input-53-1d0d446e69b2>\u001b[0m in \u001b[0;36m<cell line: 3>\u001b[0;34m()\u001b[0m\n\u001b[1;32m      1\u001b[0m \u001b[0;31m# Iterate through the sampled rows and submit prediction requests to the Gradio interface\u001b[0m\u001b[0;34m\u001b[0m\u001b[0;34m\u001b[0m\u001b[0m\n\u001b[1;32m      2\u001b[0m \u001b[0;31m# Store the results in batch_predictions list\u001b[0m\u001b[0;34m\u001b[0m\u001b[0;34m\u001b[0m\u001b[0m\n\u001b[0;32m----> 3\u001b[0;31m \u001b[0;32mfor\u001b[0m \u001b[0mrow\u001b[0m \u001b[0;32min\u001b[0m \u001b[0mtqdm\u001b[0m\u001b[0;34m(\u001b[0m\u001b[0mXtest_sample_rows\u001b[0m\u001b[0;34m)\u001b[0m\u001b[0;34m:\u001b[0m\u001b[0;34m\u001b[0m\u001b[0;34m\u001b[0m\u001b[0m\n\u001b[0m\u001b[1;32m      4\u001b[0m     \u001b[0;32mtry\u001b[0m\u001b[0;34m:\u001b[0m\u001b[0;34m\u001b[0m\u001b[0;34m\u001b[0m\u001b[0m\n\u001b[1;32m      5\u001b[0m         \u001b[0;31m# Submit a prediction request for the current row\u001b[0m\u001b[0;34m\u001b[0m\u001b[0;34m\u001b[0m\u001b[0m\n",
            "\u001b[0;31mNameError\u001b[0m: name 'tqdm' is not defined"
          ]
        }
      ]
    },
    {
      "cell_type": "code",
      "source": [
        "# Display the first 10 predictions from the batch_predictions list\n"
      ],
      "metadata": {
        "id": "rZu_UaAznHS2"
      },
      "execution_count": null,
      "outputs": []
    },
    {
      "cell_type": "markdown",
      "source": [
        "# Unit Testing"
      ],
      "metadata": {
        "id": "zP1JzlQMSTg6"
      }
    },
    {
      "cell_type": "markdown",
      "source": [
        "## Setup"
      ],
      "metadata": {
        "id": "jEVa0FtsSGhm"
      }
    },
    {
      "cell_type": "code",
      "execution_count": null,
      "metadata": {
        "id": "tIQG_KE1RS6Z"
      },
      "outputs": [],
      "source": [
        "# Install the gradio_client package silently using pip"
      ]
    },
    {
      "cell_type": "code",
      "source": [
        "# import the required libraries"
      ],
      "metadata": {
        "id": "doHAgE2LRiQz"
      },
      "execution_count": null,
      "outputs": []
    },
    {
      "cell_type": "code",
      "source": [
        "client = Client(\"---paste your gradio app api---\")"
      ],
      "metadata": {
        "id": "OpABIcusRvEa"
      },
      "execution_count": null,
      "outputs": []
    },
    {
      "cell_type": "markdown",
      "source": [
        "## Baseline Checks"
      ],
      "metadata": {
        "id": "OHo1oI7KVzYb"
      }
    },
    {
      "cell_type": "markdown",
      "source": [
        "Test Data"
      ],
      "metadata": {
        "id": "EKUB01C0WAyj"
      }
    },
    {
      "cell_type": "code",
      "source": [
        "# Read the insurance dataset from a CSV file into a DataFrame\n",
        "\n",
        "# Define the target variable and features\n",
        "\n",
        "# Display a message indicating the creation of data subsets\n",
        "\n",
        "# Create feature matrix (X) and target vector (y)\n",
        "\n",
        "# Split the dataset into training and testing sets\n",
        "\n",
        "# Sample 100 rows from the testing set for evaluation\n",
        "\n",
        "# Convert the sampled test set into a list of tuples\n"
      ],
      "metadata": {
        "id": "VCzBR-eMWC2W"
      },
      "execution_count": null,
      "outputs": []
    },
    {
      "cell_type": "markdown",
      "source": [
        "Predictions on the test data"
      ],
      "metadata": {
        "id": "mhF9vyYc_g7x"
      }
    },
    {
      "cell_type": "code",
      "source": [
        "# Initialize an empty list to store baseline test predictions\n",
        "baseline_test_predictions = []\n",
        "\n",
        "# Iterate over each row in the sampled test set\n",
        "for row in tqdm(Xtest_sample_rows):\n",
        "    try:\n",
        "        # Submit a prediction request to the client API using the row data\n",
        "\n",
        "        # Retrieve the prediction result and append it to the predictions list\n",
        "\n",
        "\n",
        "        baseline_test_predictions.append(int(round(float(prediction))))\n",
        "\n",
        "    # Handle any exceptions that may occur during prediction\n",
        "    except Exception as e:\n",
        "        print(e)"
      ],
      "metadata": {
        "id": "q8ZKCrLI8ojC"
      },
      "execution_count": null,
      "outputs": []
    },
    {
      "cell_type": "markdown",
      "source": [
        "Estimation of accuracy on the test sample. use RMSE and R-squared to measure the performance of the model"
      ],
      "metadata": {
        "id": "QCoDzuji_imC"
      }
    },
    {
      "cell_type": "code",
      "source": [
        "print(f\"RMSE: {mean_squared_error(ytest_sample, baseline_test_predictions, squared=False)}\")"
      ],
      "metadata": {
        "id": "00rW-LbEBxJC"
      },
      "execution_count": null,
      "outputs": []
    },
    {
      "cell_type": "code",
      "source": [
        "print(f\"R-squared: {r2_score(ytest_sample, baseline_test_predictions)}\")"
      ],
      "metadata": {
        "id": "konWIsg7Jw9u"
      },
      "execution_count": null,
      "outputs": []
    },
    {
      "cell_type": "markdown",
      "source": [
        "If the Mean Absolute Error (MAE) or Root Mean Square Error (RMSE) is lower than the existing baseline (human or a previous model version), we move on to unit tests."
      ],
      "metadata": {
        "id": "aBtvtTxqCAsg"
      }
    },
    {
      "cell_type": "markdown",
      "source": [
        "## Unit Tests"
      ],
      "metadata": {
        "id": "UYQ9dFH1Sifk"
      }
    },
    {
      "cell_type": "markdown",
      "source": [
        "### Perturbation tests"
      ],
      "metadata": {
        "id": "9ODYyMxQSset"
      }
    },
    {
      "cell_type": "markdown",
      "source": [
        "*Baseline*"
      ],
      "metadata": {
        "id": "XwyF7v1AUNAJ"
      }
    },
    {
      "cell_type": "code",
      "source": [],
      "metadata": {
        "id": "OnTktOwFRyJC"
      },
      "execution_count": null,
      "outputs": []
    },
    {
      "cell_type": "code",
      "source": [],
      "metadata": {
        "id": "RTGtOIptR2rr"
      },
      "execution_count": null,
      "outputs": []
    },
    {
      "cell_type": "markdown",
      "source": [
        "*Test (perturbed baseline)*"
      ],
      "metadata": {
        "id": "g_N9bnY1UUug"
      }
    },
    {
      "cell_type": "code",
      "source": [],
      "metadata": {
        "id": "797YohbXUWLe"
      },
      "execution_count": null,
      "outputs": []
    },
    {
      "cell_type": "code",
      "source": [],
      "metadata": {
        "id": "dsSSrjx7UZDE"
      },
      "execution_count": null,
      "outputs": []
    },
    {
      "cell_type": "markdown",
      "source": [
        "### Known edge-cases (criticial subgroups)"
      ],
      "metadata": {
        "id": "jJncHf4GUg0k"
      }
    },
    {
      "cell_type": "markdown",
      "source": [
        "In this scenario, a known edge case is that when a person is smoker , the insurance charge should be high. Let us see if the model can recognize this state."
      ],
      "metadata": {
        "id": "QL375h4NC7Ut"
      }
    },
    {
      "cell_type": "code",
      "source": [],
      "metadata": {
        "id": "kmHUHwvNU0aX"
      },
      "execution_count": null,
      "outputs": []
    },
    {
      "cell_type": "code",
      "source": [],
      "metadata": {
        "id": "9uNLOqyVU7ND"
      },
      "execution_count": null,
      "outputs": []
    },
    {
      "cell_type": "markdown",
      "source": [
        "If the unit tests pass, the model is ready to be tagged for release to staging and production."
      ],
      "metadata": {
        "id": "_tVEv4avDKof"
      }
    },
    {
      "cell_type": "markdown",
      "source": [
        "# Identify the driftness in model and data"
      ],
      "metadata": {
        "id": "Hb23BIvtG2mX"
      }
    },
    {
      "cell_type": "markdown",
      "source": [
        "## Setup"
      ],
      "metadata": {
        "id": "BbniRN4uHJm8"
      }
    },
    {
      "cell_type": "code",
      "source": [
        "# !pip install -q datasets"
      ],
      "metadata": {
        "id": "XL3gZp3-HLm_"
      },
      "execution_count": null,
      "outputs": []
    },
    {
      "cell_type": "code",
      "execution_count": null,
      "metadata": {
        "id": "XouCDxIAGM02"
      },
      "outputs": [],
      "source": [
        "# import the required libraries"
      ]
    },
    {
      "cell_type": "markdown",
      "source": [
        "## Monitoring Setup"
      ],
      "metadata": {
        "id": "Jgp0N6GvKo93"
      }
    },
    {
      "cell_type": "markdown",
      "source": [
        "## Access Training Data"
      ],
      "metadata": {
        "id": "l5U9dw9MH2ut"
      }
    },
    {
      "cell_type": "code",
      "source": [
        "# Read the insurance dataset from a CSV file into a DataFrame\n",
        "\n",
        "# Define the target variable\n",
        "\n",
        "# Define the numeric features used for modeling\n",
        "\n",
        "# Define the categorical features used for modeling\n",
        "\n",
        "# Print a message indicating that data subsets are being created\n",
        "\n",
        "# Create a variable X by combining numeric and categorical features\n",
        "\n",
        "# Create the target variable y\n",
        "\n",
        "# Split the data into training and testing sets"
      ],
      "metadata": {
        "id": "e0c2oV_9H4BB"
      },
      "execution_count": null,
      "outputs": []
    },
    {
      "cell_type": "markdown",
      "source": [
        "## Access Logs"
      ],
      "metadata": {
        "id": "YyFnWVYjHSoV"
      }
    },
    {
      "cell_type": "markdown",
      "source": [
        "We connect to the dataset of all the production logs and extract a 30% random sample to execute the monitoring workflow."
      ],
      "metadata": {
        "id": "eXg9Xnx0HiLt"
      }
    },
    {
      "cell_type": "code",
      "source": [
        "prediction_logs = load_dataset(\"--paste your log dataset api---\")"
      ],
      "metadata": {
        "id": "bR3gvxS3HT5D"
      },
      "execution_count": null,
      "outputs": []
    },
    {
      "cell_type": "code",
      "source": [
        "# Convert the 'train' logs from a Dask DataFrame to a Pandas DataFrame"
      ],
      "metadata": {
        "id": "BGVckeDiHZdo"
      },
      "execution_count": null,
      "outputs": []
    },
    {
      "cell_type": "code",
      "source": [
        "# Sample 30% of the rows from the prediction logs DataFrame with a random state 42"
      ],
      "metadata": {
        "id": "_CDETBvgHZ25"
      },
      "execution_count": null,
      "outputs": []
    },
    {
      "cell_type": "code",
      "source": [
        "# print the 5 sample data points"
      ],
      "metadata": {
        "id": "Yz5e79YEgRbu"
      },
      "execution_count": null,
      "outputs": []
    },
    {
      "cell_type": "markdown",
      "source": [
        "## Model Drift Checks"
      ],
      "metadata": {
        "id": "q-ELgi6VPF41"
      }
    },
    {
      "cell_type": "markdown",
      "source": [
        "### Predicted Targets vs Training Targets"
      ],
      "metadata": {
        "id": "qeZrIECqLA-K"
      }
    },
    {
      "cell_type": "code",
      "source": [
        "import matplotlib.pyplot as plt\n",
        "import seaborn as sns\n",
        "\n",
        "# Plotting the distributions of actual target values and predicted values\n",
        "plt.figure(figsize=(12, 6))\n",
        "\n",
        "plt.subplot(211)\n",
        "# Plot the histogram with a KDE (Kernel Density Estimation) curve\n",
        "# write your code here\n",
        "plt.title(\"Distribution of actual target values in training data\")\n",
        "plt.xlabel(\"Actual Target Values\")\n",
        "plt.ylabel(\"Frequency\")\n",
        "\n",
        "# Distribution of predicted target values from the deployed model\n",
        "plt.subplot(212)\n",
        "# Plot a histogram with a KDE (Kernel Density Estimation) curve for the predicted values from the sample prediction logs DataFrame\n",
        "# write your code here\n",
        "plt.title(\"Distribution of predicted target values from the deployed model\")\n",
        "plt.xlabel(\"Predicted Target Values\")\n",
        "plt.ylabel(\"Frequency\")\n",
        "\n",
        "plt.tight_layout()\n",
        "plt.show()"
      ],
      "metadata": {
        "id": "CsxP3oPQLIH3"
      },
      "execution_count": null,
      "outputs": []
    },
    {
      "cell_type": "code",
      "source": [
        "# Calculate mean of actual values in training data (sum(target y) / len(target y))\n",
        "mean_training_data ="
      ],
      "metadata": {
        "id": "KXAbBSD6gu5k"
      },
      "execution_count": null,
      "outputs": []
    },
    {
      "cell_type": "code",
      "source": [
        "# Calculate mean of predicted values in sample logs (sum(logs.prediction) / len(logs.prediction))\n",
        "mean_sample_logs ="
      ],
      "metadata": {
        "id": "ZYzySK8ghRbL"
      },
      "execution_count": null,
      "outputs": []
    },
    {
      "cell_type": "code",
      "source": [
        "# Calculate variance of actual values in training data\n",
        "variance = sum((y - mean_training_data)**2 for y in ytrain) / len(ytrain)"
      ],
      "metadata": {
        "id": "OOW4FmBkgw6O"
      },
      "execution_count": null,
      "outputs": []
    },
    {
      "cell_type": "code",
      "source": [
        "# Calculate absolute difference between means\n",
        "diff = abs()"
      ],
      "metadata": {
        "id": "NHcCLynOhLbu"
      },
      "execution_count": null,
      "outputs": []
    },
    {
      "cell_type": "code",
      "source": [
        "# Check for model drift\n",
        "if diff > 2 * math.sqrt(variance):\n",
        "    print(\"Model Drift Detected!\")\n",
        "else:\n",
        "    print(\"No Model Drift!\")"
      ],
      "metadata": {
        "id": "2rlSdxR8SgI1"
      },
      "execution_count": null,
      "outputs": []
    },
    {
      "cell_type": "markdown",
      "source": [
        "## Data Drift Checks"
      ],
      "metadata": {
        "id": "YjPEZAWKPuVK"
      }
    },
    {
      "cell_type": "markdown",
      "source": [
        "### Live Features vs Training Features"
      ],
      "metadata": {
        "id": "rb6-YR-IizG3"
      }
    },
    {
      "cell_type": "code",
      "source": [
        "mean_age_training_data =\n",
        "std_age_training_data =\n",
        "\n",
        "mean_age_sample_logs ="
      ],
      "metadata": {
        "id": "_purGOSINX3N"
      },
      "execution_count": null,
      "outputs": []
    },
    {
      "cell_type": "code",
      "source": [
        "(mean_age_training_data, mean_age_sample_logs)"
      ],
      "metadata": {
        "id": "vwW2BDa2jy3l"
      },
      "execution_count": null,
      "outputs": []
    },
    {
      "cell_type": "code",
      "source": [
        "mean_feature_training_data = 39.35\n",
        "mean_feature_sample_logs = 37.04\n",
        "std_feature_training_data = 14.07\n",
        "\n",
        "mean_diff = abs()\n",
        "\n",
        "if mean_diff > 2 * std_feature_training_data:\n",
        "    print(\"Data Drift Detected!\")\n",
        "else:\n",
        "    print(\"No Data Drift!\")"
      ],
      "metadata": {
        "id": "AYncqI_SkMuz"
      },
      "execution_count": null,
      "outputs": []
    },
    {
      "cell_type": "markdown",
      "source": [
        "The current model stays in production unless we detect model drift or data drift."
      ],
      "metadata": {
        "id": "QWnhVQDqmQ7Y"
      }
    },
    {
      "cell_type": "markdown",
      "source": [
        "# Convert ipynb to HTML"
      ],
      "metadata": {
        "id": "U2TN5Ik4KzvA"
      }
    },
    {
      "cell_type": "markdown",
      "source": [
        "Instructions:\n",
        "1. Go to File\n",
        "2. Download these current working Notebook in to ipynb format\n",
        "3. Now, run the below code, select the notebook from local where you downloaded the file\n",
        "4. Wait for few sec, your notebook will automatically converted in to html format and save in your local pc\n"
      ],
      "metadata": {
        "id": "VVmwzqQUOnXD"
      }
    },
    {
      "cell_type": "code",
      "source": [
        "# @title HTML Convert\n",
        "# Upload ipynb\n",
        "from google.colab import files\n",
        "f = files.upload()\n",
        "\n",
        "# Convert ipynb to html\n",
        "import subprocess\n",
        "file0 = list(f.keys())[0]\n",
        "_ = subprocess.run([\"pip\", \"install\", \"nbconvert\"])\n",
        "_ = subprocess.run([\"jupyter\", \"nbconvert\", file0, \"--to\", \"html\"])\n",
        "\n",
        "# download the html\n",
        "files.download(file0[:-5]+\"html\")\n"
      ],
      "metadata": {
        "id": "LEwxxs0LBivA",
        "cellView": "form"
      },
      "execution_count": null,
      "outputs": []
    },
    {
      "cell_type": "markdown",
      "source": [
        "## Power Ahead!"
      ],
      "metadata": {
        "id": "KM_NcbJvLjhm"
      }
    }
  ],
  "metadata": {
    "application/vnd.databricks.v1+notebook": {
      "dashboards": [],
      "language": "python",
      "notebookMetadata": {
        "pythonIndentUnit": 4
      },
      "notebookName": "diamond_price_prediction",
      "widgets": {}
    },
    "colab": {
      "provenance": [],
      "collapsed_sections": [
        "zP1JzlQMSTg6",
        "Hb23BIvtG2mX"
      ]
    },
    "language_info": {
      "name": "python"
    },
    "kernelspec": {
      "name": "python3",
      "display_name": "Python 3"
    }
  },
  "nbformat": 4,
  "nbformat_minor": 0
}