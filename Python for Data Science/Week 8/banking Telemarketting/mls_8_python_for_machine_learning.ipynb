{
  "cells": [
    {
      "cell_type": "markdown",
      "source": [
        "# **Week-8 Python for Machine Learning - MLS**\n",
        "\n",
        "## Term Deposit Prediction\n",
        "\n",
        "#### Problem Statement\n",
        "DirectMap Bank, located in the UAE, specializes in conducting direct marketing campaigns aimed at promoting term deposits to its customers. The bank conducts phone-call campaigns to reach out to potential subscribers. However, despite the bank's efforts, it faces challenges in effectively identifying customers who are more likely to subscribe to term deposits. These challenges include difficulties in understanding customer preferences, inefficient utilization of resources, and a lack of personalized targeting strategies. The bank has initiated various initiatives, such as increasing the number of campaign contacts and refining communication methods, to address these issues.\n",
        "\n",
        "### Objective\n",
        "As a Data Scientist hired by DirectMap Bank, the objective is to analyze the direct marketing campaign data and develop a predictive model that can accurately identify customers who are more likely to subscribe to term deposits"
      ],
      "metadata": {
        "id": "8Y6S7cnr13t_"
      }
    },
    {
      "cell_type": "markdown",
      "metadata": {
        "application/vnd.databricks.v1+cell": {
          "cellMetadata": {},
          "inputWidgets": {},
          "nuid": "f3a9806a-355a-41fe-9b2a-0bda43aedd4e",
          "showTitle": false,
          "title": ""
        },
        "id": "niLZjnkCHWG_"
      },
      "source": [
        "\n",
        "### Import the required libraries"
      ]
    },
    {
      "cell_type": "code",
      "execution_count": null,
      "metadata": {
        "application/vnd.databricks.v1+cell": {
          "cellMetadata": {
            "byteLimit": 2048000,
            "rowLimit": 10000
          },
          "inputWidgets": {},
          "nuid": "69c6950d-190a-4c7d-a5a2-a42164f4833b",
          "showTitle": false,
          "title": ""
        },
        "id": "SEBLSdL-HWHA"
      },
      "outputs": [],
      "source": [
        "# Importing necessary libraries\n",
        "import pandas as pd\n",
        "import sklearn\n",
        "import joblib\n",
        "\n",
        "# Fetching dataset from sklearn's openml module\n",
        "from sklearn.datasets import fetch_openml\n",
        "\n",
        "# Importing preprocessing modules from sklearn\n",
        "from sklearn.preprocessing import StandardScaler, OneHotEncoder, LabelEncoder\n",
        "from sklearn.compose import make_column_transformer\n",
        "from sklearn.impute import SimpleImputer\n",
        "from sklearn.pipeline import Pipeline\n",
        "\n",
        "# Importing make_pipeline function from pipeline module\n",
        "from sklearn.pipeline import make_pipeline\n",
        "\n",
        "# Importing train_test_split and RandomizedSearchCV from model_selection module\n",
        "from sklearn.model_selection import train_test_split, RandomizedSearchCV\n",
        "\n",
        "# Importing LogisticRegression model and evaluation metrics from linear_model and metrics modules\n",
        "from sklearn.linear_model import LogisticRegression\n",
        "from sklearn.metrics import accuracy_score, classification_report"
      ]
    },
    {
      "cell_type": "code",
      "execution_count": null,
      "metadata": {
        "application/vnd.databricks.v1+cell": {
          "cellMetadata": {
            "byteLimit": 2048000,
            "rowLimit": 10000
          },
          "inputWidgets": {},
          "nuid": "d006e342-db1e-42d7-95e1-7cfed889cb59",
          "showTitle": false,
          "title": ""
        },
        "id": "kzG9kVi4HWHB"
      },
      "outputs": [],
      "source": [
        "# Configure scikit-learn to display pipeline diagrams for visualizing the structure of machine learning pipelines\n",
        "sklearn.set_config(display='diagram')"
      ]
    },
    {
      "cell_type": "markdown",
      "source": [
        "This line configures scikit-learn to display pipeline diagrams for visualizing the structure of machine learning pipelines."
      ],
      "metadata": {
        "id": "7IktS12SgJw2"
      }
    },
    {
      "cell_type": "markdown",
      "metadata": {
        "application/vnd.databricks.v1+cell": {
          "cellMetadata": {},
          "inputWidgets": {},
          "nuid": "28fdb1c5-213d-4bfc-bf78-c14c60f0f365",
          "showTitle": false,
          "title": ""
        },
        "id": "bQrbzi5RHWHC"
      },
      "source": [
        "# Data"
      ]
    },
    {
      "cell_type": "code",
      "source": [
        "# Read the data\n",
        "data_df = pd.read_csv(\"Bank_Telemarketing.csv\")"
      ],
      "metadata": {
        "id": "aF51CMbf7DFT"
      },
      "execution_count": null,
      "outputs": []
    },
    {
      "cell_type": "code",
      "source": [
        "# Print the top 5 rows from the data\n",
        "data_df.head()"
      ],
      "metadata": {
        "colab": {
          "base_uri": "https://localhost:8080/",
          "height": 313
        },
        "id": "gckSxLRe-80V",
        "outputId": "a0914ad7-a122-4a9a-b2ef-eb9aec3480d6"
      },
      "execution_count": null,
      "outputs": [
        {
          "output_type": "execute_result",
          "data": {
            "text/plain": [
              "                customer_id                email_id first_name last_name  \\\n",
              "0  61e41ab36fb571a283ba252b     jared84@example.org      Aaron    Austin   \n",
              "1  61e41ab36fb571a283ba252c    gsanchez@example.net      Aaron      Gray   \n",
              "2  61e41ab36fb571a283ba252d    donald41@example.net      Aaron    Walker   \n",
              "3  61e41ab36fb571a283ba252e     ariel87@example.com      Aaron   Shelton   \n",
              "4  61e41ab36fb571a283ba252f  thomasjeff@example.com      Aaron   Johnson   \n",
              "\n",
              "    Age        Job Marital Status    Education Defaulter Home Loan  \\\n",
              "0  56.0  housemaid        married   experience        no        no   \n",
              "1  57.0   services        married  high school   unknown        no   \n",
              "2  37.0   services        married  high school        no       yes   \n",
              "3  40.0     admin.        married   experience        no        no   \n",
              "4  56.0   services        married  high school        no        no   \n",
              "\n",
              "  Personal  Loan Communication Type Last Contacted Day of Week  Duration(Sec)  \\\n",
              "0             no          telephone            may         mon            261   \n",
              "1             no          telephone            may         mon            149   \n",
              "2             no          telephone            may         mon            226   \n",
              "3             no          telephone            may         mon            151   \n",
              "4            yes          telephone            may         mon            307   \n",
              "\n",
              "   CC Contact Freq  Days Since PC  PC Contact Freq   PC Outcome  subscribed  \n",
              "0                1              0                0  nonexistent           0  \n",
              "1                1              0                0  nonexistent           0  \n",
              "2                1              0                0  nonexistent           0  \n",
              "3                1              0                0  nonexistent           0  \n",
              "4                1              0                0  nonexistent           0  "
            ],
            "text/html": [
              "\n",
              "  <div id=\"df-4843b932-54ef-498f-bf93-48f65836c01b\" class=\"colab-df-container\">\n",
              "    <div>\n",
              "<style scoped>\n",
              "    .dataframe tbody tr th:only-of-type {\n",
              "        vertical-align: middle;\n",
              "    }\n",
              "\n",
              "    .dataframe tbody tr th {\n",
              "        vertical-align: top;\n",
              "    }\n",
              "\n",
              "    .dataframe thead th {\n",
              "        text-align: right;\n",
              "    }\n",
              "</style>\n",
              "<table border=\"1\" class=\"dataframe\">\n",
              "  <thead>\n",
              "    <tr style=\"text-align: right;\">\n",
              "      <th></th>\n",
              "      <th>customer_id</th>\n",
              "      <th>email_id</th>\n",
              "      <th>first_name</th>\n",
              "      <th>last_name</th>\n",
              "      <th>Age</th>\n",
              "      <th>Job</th>\n",
              "      <th>Marital Status</th>\n",
              "      <th>Education</th>\n",
              "      <th>Defaulter</th>\n",
              "      <th>Home Loan</th>\n",
              "      <th>Personal  Loan</th>\n",
              "      <th>Communication Type</th>\n",
              "      <th>Last Contacted</th>\n",
              "      <th>Day of Week</th>\n",
              "      <th>Duration(Sec)</th>\n",
              "      <th>CC Contact Freq</th>\n",
              "      <th>Days Since PC</th>\n",
              "      <th>PC Contact Freq</th>\n",
              "      <th>PC Outcome</th>\n",
              "      <th>subscribed</th>\n",
              "    </tr>\n",
              "  </thead>\n",
              "  <tbody>\n",
              "    <tr>\n",
              "      <th>0</th>\n",
              "      <td>61e41ab36fb571a283ba252b</td>\n",
              "      <td>jared84@example.org</td>\n",
              "      <td>Aaron</td>\n",
              "      <td>Austin</td>\n",
              "      <td>56.0</td>\n",
              "      <td>housemaid</td>\n",
              "      <td>married</td>\n",
              "      <td>experience</td>\n",
              "      <td>no</td>\n",
              "      <td>no</td>\n",
              "      <td>no</td>\n",
              "      <td>telephone</td>\n",
              "      <td>may</td>\n",
              "      <td>mon</td>\n",
              "      <td>261</td>\n",
              "      <td>1</td>\n",
              "      <td>0</td>\n",
              "      <td>0</td>\n",
              "      <td>nonexistent</td>\n",
              "      <td>0</td>\n",
              "    </tr>\n",
              "    <tr>\n",
              "      <th>1</th>\n",
              "      <td>61e41ab36fb571a283ba252c</td>\n",
              "      <td>gsanchez@example.net</td>\n",
              "      <td>Aaron</td>\n",
              "      <td>Gray</td>\n",
              "      <td>57.0</td>\n",
              "      <td>services</td>\n",
              "      <td>married</td>\n",
              "      <td>high school</td>\n",
              "      <td>unknown</td>\n",
              "      <td>no</td>\n",
              "      <td>no</td>\n",
              "      <td>telephone</td>\n",
              "      <td>may</td>\n",
              "      <td>mon</td>\n",
              "      <td>149</td>\n",
              "      <td>1</td>\n",
              "      <td>0</td>\n",
              "      <td>0</td>\n",
              "      <td>nonexistent</td>\n",
              "      <td>0</td>\n",
              "    </tr>\n",
              "    <tr>\n",
              "      <th>2</th>\n",
              "      <td>61e41ab36fb571a283ba252d</td>\n",
              "      <td>donald41@example.net</td>\n",
              "      <td>Aaron</td>\n",
              "      <td>Walker</td>\n",
              "      <td>37.0</td>\n",
              "      <td>services</td>\n",
              "      <td>married</td>\n",
              "      <td>high school</td>\n",
              "      <td>no</td>\n",
              "      <td>yes</td>\n",
              "      <td>no</td>\n",
              "      <td>telephone</td>\n",
              "      <td>may</td>\n",
              "      <td>mon</td>\n",
              "      <td>226</td>\n",
              "      <td>1</td>\n",
              "      <td>0</td>\n",
              "      <td>0</td>\n",
              "      <td>nonexistent</td>\n",
              "      <td>0</td>\n",
              "    </tr>\n",
              "    <tr>\n",
              "      <th>3</th>\n",
              "      <td>61e41ab36fb571a283ba252e</td>\n",
              "      <td>ariel87@example.com</td>\n",
              "      <td>Aaron</td>\n",
              "      <td>Shelton</td>\n",
              "      <td>40.0</td>\n",
              "      <td>admin.</td>\n",
              "      <td>married</td>\n",
              "      <td>experience</td>\n",
              "      <td>no</td>\n",
              "      <td>no</td>\n",
              "      <td>no</td>\n",
              "      <td>telephone</td>\n",
              "      <td>may</td>\n",
              "      <td>mon</td>\n",
              "      <td>151</td>\n",
              "      <td>1</td>\n",
              "      <td>0</td>\n",
              "      <td>0</td>\n",
              "      <td>nonexistent</td>\n",
              "      <td>0</td>\n",
              "    </tr>\n",
              "    <tr>\n",
              "      <th>4</th>\n",
              "      <td>61e41ab36fb571a283ba252f</td>\n",
              "      <td>thomasjeff@example.com</td>\n",
              "      <td>Aaron</td>\n",
              "      <td>Johnson</td>\n",
              "      <td>56.0</td>\n",
              "      <td>services</td>\n",
              "      <td>married</td>\n",
              "      <td>high school</td>\n",
              "      <td>no</td>\n",
              "      <td>no</td>\n",
              "      <td>yes</td>\n",
              "      <td>telephone</td>\n",
              "      <td>may</td>\n",
              "      <td>mon</td>\n",
              "      <td>307</td>\n",
              "      <td>1</td>\n",
              "      <td>0</td>\n",
              "      <td>0</td>\n",
              "      <td>nonexistent</td>\n",
              "      <td>0</td>\n",
              "    </tr>\n",
              "  </tbody>\n",
              "</table>\n",
              "</div>\n",
              "    <div class=\"colab-df-buttons\">\n",
              "\n",
              "  <div class=\"colab-df-container\">\n",
              "    <button class=\"colab-df-convert\" onclick=\"convertToInteractive('df-4843b932-54ef-498f-bf93-48f65836c01b')\"\n",
              "            title=\"Convert this dataframe to an interactive table.\"\n",
              "            style=\"display:none;\">\n",
              "\n",
              "  <svg xmlns=\"http://www.w3.org/2000/svg\" height=\"24px\" viewBox=\"0 -960 960 960\">\n",
              "    <path d=\"M120-120v-720h720v720H120Zm60-500h600v-160H180v160Zm220 220h160v-160H400v160Zm0 220h160v-160H400v160ZM180-400h160v-160H180v160Zm440 0h160v-160H620v160ZM180-180h160v-160H180v160Zm440 0h160v-160H620v160Z\"/>\n",
              "  </svg>\n",
              "    </button>\n",
              "\n",
              "  <style>\n",
              "    .colab-df-container {\n",
              "      display:flex;\n",
              "      gap: 12px;\n",
              "    }\n",
              "\n",
              "    .colab-df-convert {\n",
              "      background-color: #E8F0FE;\n",
              "      border: none;\n",
              "      border-radius: 50%;\n",
              "      cursor: pointer;\n",
              "      display: none;\n",
              "      fill: #1967D2;\n",
              "      height: 32px;\n",
              "      padding: 0 0 0 0;\n",
              "      width: 32px;\n",
              "    }\n",
              "\n",
              "    .colab-df-convert:hover {\n",
              "      background-color: #E2EBFA;\n",
              "      box-shadow: 0px 1px 2px rgba(60, 64, 67, 0.3), 0px 1px 3px 1px rgba(60, 64, 67, 0.15);\n",
              "      fill: #174EA6;\n",
              "    }\n",
              "\n",
              "    .colab-df-buttons div {\n",
              "      margin-bottom: 4px;\n",
              "    }\n",
              "\n",
              "    [theme=dark] .colab-df-convert {\n",
              "      background-color: #3B4455;\n",
              "      fill: #D2E3FC;\n",
              "    }\n",
              "\n",
              "    [theme=dark] .colab-df-convert:hover {\n",
              "      background-color: #434B5C;\n",
              "      box-shadow: 0px 1px 3px 1px rgba(0, 0, 0, 0.15);\n",
              "      filter: drop-shadow(0px 1px 2px rgba(0, 0, 0, 0.3));\n",
              "      fill: #FFFFFF;\n",
              "    }\n",
              "  </style>\n",
              "\n",
              "    <script>\n",
              "      const buttonEl =\n",
              "        document.querySelector('#df-4843b932-54ef-498f-bf93-48f65836c01b button.colab-df-convert');\n",
              "      buttonEl.style.display =\n",
              "        google.colab.kernel.accessAllowed ? 'block' : 'none';\n",
              "\n",
              "      async function convertToInteractive(key) {\n",
              "        const element = document.querySelector('#df-4843b932-54ef-498f-bf93-48f65836c01b');\n",
              "        const dataTable =\n",
              "          await google.colab.kernel.invokeFunction('convertToInteractive',\n",
              "                                                    [key], {});\n",
              "        if (!dataTable) return;\n",
              "\n",
              "        const docLinkHtml = 'Like what you see? Visit the ' +\n",
              "          '<a target=\"_blank\" href=https://colab.research.google.com/notebooks/data_table.ipynb>data table notebook</a>'\n",
              "          + ' to learn more about interactive tables.';\n",
              "        element.innerHTML = '';\n",
              "        dataTable['output_type'] = 'display_data';\n",
              "        await google.colab.output.renderOutput(dataTable, element);\n",
              "        const docLink = document.createElement('div');\n",
              "        docLink.innerHTML = docLinkHtml;\n",
              "        element.appendChild(docLink);\n",
              "      }\n",
              "    </script>\n",
              "  </div>\n",
              "\n",
              "\n",
              "<div id=\"df-c54746f4-e5fe-43c8-8751-e7d7bb29f726\">\n",
              "  <button class=\"colab-df-quickchart\" onclick=\"quickchart('df-c54746f4-e5fe-43c8-8751-e7d7bb29f726')\"\n",
              "            title=\"Suggest charts\"\n",
              "            style=\"display:none;\">\n",
              "\n",
              "<svg xmlns=\"http://www.w3.org/2000/svg\" height=\"24px\"viewBox=\"0 0 24 24\"\n",
              "     width=\"24px\">\n",
              "    <g>\n",
              "        <path d=\"M19 3H5c-1.1 0-2 .9-2 2v14c0 1.1.9 2 2 2h14c1.1 0 2-.9 2-2V5c0-1.1-.9-2-2-2zM9 17H7v-7h2v7zm4 0h-2V7h2v10zm4 0h-2v-4h2v4z\"/>\n",
              "    </g>\n",
              "</svg>\n",
              "  </button>\n",
              "\n",
              "<style>\n",
              "  .colab-df-quickchart {\n",
              "      --bg-color: #E8F0FE;\n",
              "      --fill-color: #1967D2;\n",
              "      --hover-bg-color: #E2EBFA;\n",
              "      --hover-fill-color: #174EA6;\n",
              "      --disabled-fill-color: #AAA;\n",
              "      --disabled-bg-color: #DDD;\n",
              "  }\n",
              "\n",
              "  [theme=dark] .colab-df-quickchart {\n",
              "      --bg-color: #3B4455;\n",
              "      --fill-color: #D2E3FC;\n",
              "      --hover-bg-color: #434B5C;\n",
              "      --hover-fill-color: #FFFFFF;\n",
              "      --disabled-bg-color: #3B4455;\n",
              "      --disabled-fill-color: #666;\n",
              "  }\n",
              "\n",
              "  .colab-df-quickchart {\n",
              "    background-color: var(--bg-color);\n",
              "    border: none;\n",
              "    border-radius: 50%;\n",
              "    cursor: pointer;\n",
              "    display: none;\n",
              "    fill: var(--fill-color);\n",
              "    height: 32px;\n",
              "    padding: 0;\n",
              "    width: 32px;\n",
              "  }\n",
              "\n",
              "  .colab-df-quickchart:hover {\n",
              "    background-color: var(--hover-bg-color);\n",
              "    box-shadow: 0 1px 2px rgba(60, 64, 67, 0.3), 0 1px 3px 1px rgba(60, 64, 67, 0.15);\n",
              "    fill: var(--button-hover-fill-color);\n",
              "  }\n",
              "\n",
              "  .colab-df-quickchart-complete:disabled,\n",
              "  .colab-df-quickchart-complete:disabled:hover {\n",
              "    background-color: var(--disabled-bg-color);\n",
              "    fill: var(--disabled-fill-color);\n",
              "    box-shadow: none;\n",
              "  }\n",
              "\n",
              "  .colab-df-spinner {\n",
              "    border: 2px solid var(--fill-color);\n",
              "    border-color: transparent;\n",
              "    border-bottom-color: var(--fill-color);\n",
              "    animation:\n",
              "      spin 1s steps(1) infinite;\n",
              "  }\n",
              "\n",
              "  @keyframes spin {\n",
              "    0% {\n",
              "      border-color: transparent;\n",
              "      border-bottom-color: var(--fill-color);\n",
              "      border-left-color: var(--fill-color);\n",
              "    }\n",
              "    20% {\n",
              "      border-color: transparent;\n",
              "      border-left-color: var(--fill-color);\n",
              "      border-top-color: var(--fill-color);\n",
              "    }\n",
              "    30% {\n",
              "      border-color: transparent;\n",
              "      border-left-color: var(--fill-color);\n",
              "      border-top-color: var(--fill-color);\n",
              "      border-right-color: var(--fill-color);\n",
              "    }\n",
              "    40% {\n",
              "      border-color: transparent;\n",
              "      border-right-color: var(--fill-color);\n",
              "      border-top-color: var(--fill-color);\n",
              "    }\n",
              "    60% {\n",
              "      border-color: transparent;\n",
              "      border-right-color: var(--fill-color);\n",
              "    }\n",
              "    80% {\n",
              "      border-color: transparent;\n",
              "      border-right-color: var(--fill-color);\n",
              "      border-bottom-color: var(--fill-color);\n",
              "    }\n",
              "    90% {\n",
              "      border-color: transparent;\n",
              "      border-bottom-color: var(--fill-color);\n",
              "    }\n",
              "  }\n",
              "</style>\n",
              "\n",
              "  <script>\n",
              "    async function quickchart(key) {\n",
              "      const quickchartButtonEl =\n",
              "        document.querySelector('#' + key + ' button');\n",
              "      quickchartButtonEl.disabled = true;  // To prevent multiple clicks.\n",
              "      quickchartButtonEl.classList.add('colab-df-spinner');\n",
              "      try {\n",
              "        const charts = await google.colab.kernel.invokeFunction(\n",
              "            'suggestCharts', [key], {});\n",
              "      } catch (error) {\n",
              "        console.error('Error during call to suggestCharts:', error);\n",
              "      }\n",
              "      quickchartButtonEl.classList.remove('colab-df-spinner');\n",
              "      quickchartButtonEl.classList.add('colab-df-quickchart-complete');\n",
              "    }\n",
              "    (() => {\n",
              "      let quickchartButtonEl =\n",
              "        document.querySelector('#df-c54746f4-e5fe-43c8-8751-e7d7bb29f726 button');\n",
              "      quickchartButtonEl.style.display =\n",
              "        google.colab.kernel.accessAllowed ? 'block' : 'none';\n",
              "    })();\n",
              "  </script>\n",
              "</div>\n",
              "    </div>\n",
              "  </div>\n"
            ],
            "application/vnd.google.colaboratory.intrinsic+json": {
              "type": "dataframe",
              "variable_name": "data_df",
              "summary": "{\n  \"name\": \"data_df\",\n  \"rows\": 41183,\n  \"fields\": [\n    {\n      \"column\": \"customer_id\",\n      \"properties\": {\n        \"dtype\": \"string\",\n        \"num_unique_values\": 41183,\n        \"samples\": [\n          \"61e41ab66fb571a283ba95f1\",\n          \"61e41ab56fb571a283ba8549\",\n          \"61e41ab46fb571a283ba3a31\"\n        ],\n        \"semantic_type\": \"\",\n        \"description\": \"\"\n      }\n    },\n    {\n      \"column\": \"email_id\",\n      \"properties\": {\n        \"dtype\": \"string\",\n        \"num_unique_values\": 38279,\n        \"samples\": [\n          \"jgibson@example.net\",\n          \"brittany82@example.org\",\n          \"sarahherrera@example.org\"\n        ],\n        \"semantic_type\": \"\",\n        \"description\": \"\"\n      }\n    },\n    {\n      \"column\": \"first_name\",\n      \"properties\": {\n        \"dtype\": \"category\",\n        \"num_unique_values\": 562,\n        \"samples\": [\n          \"Mikayla\",\n          \"Marissa\",\n          \"Latasha\"\n        ],\n        \"semantic_type\": \"\",\n        \"description\": \"\"\n      }\n    },\n    {\n      \"column\": \"last_name\",\n      \"properties\": {\n        \"dtype\": \"category\",\n        \"num_unique_values\": 1000,\n        \"samples\": [\n          \"Hardy\",\n          \"Rich\",\n          \"Leblanc\"\n        ],\n        \"semantic_type\": \"\",\n        \"description\": \"\"\n      }\n    },\n    {\n      \"column\": \"Age\",\n      \"properties\": {\n        \"dtype\": \"number\",\n        \"std\": 10.418970838289255,\n        \"min\": 18.0,\n        \"max\": 98.0,\n        \"num_unique_values\": 77,\n        \"samples\": [\n          45.0,\n          27.0,\n          35.0\n        ],\n        \"semantic_type\": \"\",\n        \"description\": \"\"\n      }\n    },\n    {\n      \"column\": \"Job\",\n      \"properties\": {\n        \"dtype\": \"category\",\n        \"num_unique_values\": 12,\n        \"samples\": [\n          \"student\",\n          \"entrepreneur\",\n          \"housemaid\"\n        ],\n        \"semantic_type\": \"\",\n        \"description\": \"\"\n      }\n    },\n    {\n      \"column\": \"Marital Status\",\n      \"properties\": {\n        \"dtype\": \"category\",\n        \"num_unique_values\": 4,\n        \"samples\": [\n          \"single\",\n          \"unknown\",\n          \"married\"\n        ],\n        \"semantic_type\": \"\",\n        \"description\": \"\"\n      }\n    },\n    {\n      \"column\": \"Education\",\n      \"properties\": {\n        \"dtype\": \"category\",\n        \"num_unique_values\": 6,\n        \"samples\": [\n          \"experience\",\n          \"high school\",\n          \"illiterate\"\n        ],\n        \"semantic_type\": \"\",\n        \"description\": \"\"\n      }\n    },\n    {\n      \"column\": \"Defaulter\",\n      \"properties\": {\n        \"dtype\": \"category\",\n        \"num_unique_values\": 3,\n        \"samples\": [\n          \"no\",\n          \"unknown\",\n          \"yes\"\n        ],\n        \"semantic_type\": \"\",\n        \"description\": \"\"\n      }\n    },\n    {\n      \"column\": \"Home Loan\",\n      \"properties\": {\n        \"dtype\": \"category\",\n        \"num_unique_values\": 3,\n        \"samples\": [\n          \"no\",\n          \"yes\",\n          \"unknown\"\n        ],\n        \"semantic_type\": \"\",\n        \"description\": \"\"\n      }\n    },\n    {\n      \"column\": \"Personal  Loan\",\n      \"properties\": {\n        \"dtype\": \"category\",\n        \"num_unique_values\": 3,\n        \"samples\": [\n          \"no\",\n          \"yes\",\n          \"unknown\"\n        ],\n        \"semantic_type\": \"\",\n        \"description\": \"\"\n      }\n    },\n    {\n      \"column\": \"Communication Type\",\n      \"properties\": {\n        \"dtype\": \"category\",\n        \"num_unique_values\": 2,\n        \"samples\": [\n          \"cellular\",\n          \"telephone\"\n        ],\n        \"semantic_type\": \"\",\n        \"description\": \"\"\n      }\n    },\n    {\n      \"column\": \"Last Contacted\",\n      \"properties\": {\n        \"dtype\": \"category\",\n        \"num_unique_values\": 10,\n        \"samples\": [\n          \"apr\",\n          \"jun\"\n        ],\n        \"semantic_type\": \"\",\n        \"description\": \"\"\n      }\n    },\n    {\n      \"column\": \"Day of Week\",\n      \"properties\": {\n        \"dtype\": \"category\",\n        \"num_unique_values\": 5,\n        \"samples\": [\n          \"tue\",\n          \"fri\"\n        ],\n        \"semantic_type\": \"\",\n        \"description\": \"\"\n      }\n    },\n    {\n      \"column\": \"Duration(Sec)\",\n      \"properties\": {\n        \"dtype\": \"number\",\n        \"std\": 259,\n        \"min\": 0,\n        \"max\": 4918,\n        \"num_unique_values\": 1544,\n        \"samples\": [\n          1805,\n          335\n        ],\n        \"semantic_type\": \"\",\n        \"description\": \"\"\n      }\n    },\n    {\n      \"column\": \"CC Contact Freq\",\n      \"properties\": {\n        \"dtype\": \"number\",\n        \"std\": 2,\n        \"min\": 1,\n        \"max\": 56,\n        \"num_unique_values\": 42,\n        \"samples\": [\n          35,\n          19\n        ],\n        \"semantic_type\": \"\",\n        \"description\": \"\"\n      }\n    },\n    {\n      \"column\": \"Days Since PC\",\n      \"properties\": {\n        \"dtype\": \"number\",\n        \"std\": 1,\n        \"min\": 0,\n        \"max\": 27,\n        \"num_unique_values\": 26,\n        \"samples\": [\n          8,\n          16\n        ],\n        \"semantic_type\": \"\",\n        \"description\": \"\"\n      }\n    },\n    {\n      \"column\": \"PC Contact Freq\",\n      \"properties\": {\n        \"dtype\": \"number\",\n        \"std\": 0,\n        \"min\": 0,\n        \"max\": 7,\n        \"num_unique_values\": 8,\n        \"samples\": [\n          1,\n          5\n        ],\n        \"semantic_type\": \"\",\n        \"description\": \"\"\n      }\n    },\n    {\n      \"column\": \"PC Outcome\",\n      \"properties\": {\n        \"dtype\": \"category\",\n        \"num_unique_values\": 3,\n        \"samples\": [\n          \"nonexistent\",\n          \"failure\"\n        ],\n        \"semantic_type\": \"\",\n        \"description\": \"\"\n      }\n    },\n    {\n      \"column\": \"subscribed\",\n      \"properties\": {\n        \"dtype\": \"number\",\n        \"std\": 0,\n        \"min\": 0,\n        \"max\": 1,\n        \"num_unique_values\": 2,\n        \"samples\": [\n          1,\n          0\n        ],\n        \"semantic_type\": \"\",\n        \"description\": \"\"\n      }\n    }\n  ]\n}"
            }
          },
          "metadata": {},
          "execution_count": 51
        }
      ]
    },
    {
      "cell_type": "markdown",
      "source": [
        "### Data Description\n",
        "\n",
        "1. customer_id: unique customer ID\n",
        "2. email_id: email ID of a customer\n",
        "3. first_name: first name of the customer\n",
        "4. last_name: last name of the customer\n",
        "5. age: age of a customer\n",
        "6. job: type of job (admin,blue-collar,entrepreneur,housemaid,management,retired,self-employed,services,student,technician,unemployed,unknown)\n",
        "7. marital_status: marital status (divorced, married, single, unknown)\n",
        "8. education: education (basic_4y,basic_6y,basic_9y,high_school,illiterate,professional_course,university_degree,unknown)\n",
        "9. defaulter: has credit in default (yes,unknown,no)\n",
        "10. home_loan: customer has home loan? (yes,no,unknown)\n",
        "11. personal_loan: customer has personal loan? (yes,no,unknown)\n",
        "12. communication_type: This column provides the information on the means through which the customer has been contacted either ‘cellular’ and ‘telephone’\n",
        "13. last_contacted: customer last contacted month (mar,apr,may,jun,jul,aug,sep,oct,nov,dec)\n",
        "14. day_of_week: last contact day of the week (mon,tue,wed,thu,fri)\n",
        "15. duration:  This column represents the total call duration of each customer\n",
        "16. cc_contact_freq: This column is the number of campaign in which customer is contacted.\n",
        "17. days_since_pc: This column represents  the no of days passed by since the customer has been reached via bank for any of the other products (not term deposit). Here, the value ‘-1’ represents that the customer has never been reached for any product\n",
        "18. pc_contact_freq: This column represents the no of times the customer has been reached in the previous campaigns or for any of the other products(not term deposit)\n",
        "19. pc_outcome: This column represents the outcome of the previous reach outs for any of the products(other than term deposits) provided by banks\n",
        "*   Unknown - This represents that the customer has not been reached so far\n",
        "*   Success - This represents that the previous call was a successful conversion of the customer\n",
        "*   Failure - This represents that the customer is not interested in the last product\n",
        "20. subscribed: has the customer subscribed a term deposit? (yes, no)"
      ],
      "metadata": {
        "id": "u6rWWAc8DDJx"
      }
    },
    {
      "cell_type": "code",
      "source": [
        "# Get the column names in the dataset\n",
        "data_df.columns"
      ],
      "metadata": {
        "colab": {
          "base_uri": "https://localhost:8080/"
        },
        "id": "UVrmQVxtnbKA",
        "outputId": "b1f0ad7d-0934-40bd-ca3b-939e4c4ee80c"
      },
      "execution_count": null,
      "outputs": [
        {
          "output_type": "execute_result",
          "data": {
            "text/plain": [
              "Index(['customer_id', 'email_id', 'first_name', 'last_name', 'Age', 'Job',\n",
              "       'Marital Status', 'Education', 'Defaulter', 'Home Loan',\n",
              "       'Personal  Loan', 'Communication Type', 'Last Contacted', 'Day of Week',\n",
              "       'Duration(Sec)', 'CC Contact Freq', 'Days Since PC', 'PC Contact Freq',\n",
              "       'PC Outcome', 'subscribed'],\n",
              "      dtype='object')"
            ]
          },
          "metadata": {},
          "execution_count": 52
        }
      ]
    },
    {
      "cell_type": "code",
      "source": [
        "# Get the shape of the data\n",
        "data_df.shape"
      ],
      "metadata": {
        "colab": {
          "base_uri": "https://localhost:8080/"
        },
        "id": "gh0X1iuL_BnA",
        "outputId": "42c0b824-b464-46ab-9ca1-c68cc195306f"
      },
      "execution_count": null,
      "outputs": [
        {
          "output_type": "execute_result",
          "data": {
            "text/plain": [
              "(41183, 20)"
            ]
          },
          "metadata": {},
          "execution_count": 53
        }
      ]
    },
    {
      "cell_type": "code",
      "source": [
        "# Check is there any missing values iin the dataset\n",
        "data_df.isnull().sum()"
      ],
      "metadata": {
        "colab": {
          "base_uri": "https://localhost:8080/"
        },
        "id": "ILnMZrFoWaDS",
        "outputId": "0d650b58-2744-4666-c6a6-bac4e8e55547"
      },
      "execution_count": null,
      "outputs": [
        {
          "output_type": "execute_result",
          "data": {
            "text/plain": [
              "customer_id            0\n",
              "email_id               0\n",
              "first_name             0\n",
              "last_name              0\n",
              "Age                   15\n",
              "Job                   16\n",
              "Marital Status         0\n",
              "Education              0\n",
              "Defaulter              0\n",
              "Home Loan              0\n",
              "Personal  Loan         0\n",
              "Communication Type     0\n",
              "Last Contacted         0\n",
              "Day of Week            0\n",
              "Duration(Sec)          0\n",
              "CC Contact Freq        0\n",
              "Days Since PC          0\n",
              "PC Contact Freq        0\n",
              "PC Outcome             0\n",
              "subscribed             0\n",
              "dtype: int64"
            ]
          },
          "metadata": {},
          "execution_count": 54
        }
      ]
    },
    {
      "cell_type": "markdown",
      "source": [
        "As we notices, there are missing values in the dataset - lets impute numerical features with mean and categorical features with the most frequanct values in the part of the sklearn pipeline"
      ],
      "metadata": {
        "id": "VKFOu-virZEq"
      }
    },
    {
      "cell_type": "code",
      "source": [
        "# Drop the unnecessary features that are not required for model training\n",
        "data_df = data_df.drop(columns=['customer_id', 'email_id', 'first_name', 'last_name'])"
      ],
      "metadata": {
        "id": "jfI5EhbZnW-h"
      },
      "execution_count": null,
      "outputs": []
    },
    {
      "cell_type": "code",
      "source": [
        "# Store the numerical features in a new varable called numerical_features\n",
        "numerical_features =data_df[['Age', 'Duration(Sec)', 'CC Contact Freq', 'Days Since PC','PC Contact Freq']].columns"
      ],
      "metadata": {
        "id": "AZS-kmInByj_"
      },
      "execution_count": null,
      "outputs": []
    },
    {
      "cell_type": "code",
      "source": [
        "numerical_features"
      ],
      "metadata": {
        "colab": {
          "base_uri": "https://localhost:8080/"
        },
        "id": "RvQhYvrCqHR8",
        "outputId": "8debe2c7-c6b5-4992-f18a-54993af770dd"
      },
      "execution_count": null,
      "outputs": [
        {
          "output_type": "execute_result",
          "data": {
            "text/plain": [
              "Index(['Age', 'Duration(Sec)', 'CC Contact Freq', 'Days Since PC',\n",
              "       'PC Contact Freq'],\n",
              "      dtype='object')"
            ]
          },
          "metadata": {},
          "execution_count": 59
        }
      ]
    },
    {
      "cell_type": "code",
      "source": [
        "# Store the categorical features in a new varable called categorical_features\n",
        "categorical_features = data_df.select_dtypes(include=['object']).columns"
      ],
      "metadata": {
        "id": "7-jibk1Gn9LL"
      },
      "execution_count": null,
      "outputs": []
    },
    {
      "cell_type": "code",
      "source": [
        "categorical_features"
      ],
      "metadata": {
        "colab": {
          "base_uri": "https://localhost:8080/"
        },
        "id": "WEAbpIHiqPiQ",
        "outputId": "5e5ab24f-6306-413a-adf0-462674bf5263"
      },
      "execution_count": null,
      "outputs": [
        {
          "output_type": "execute_result",
          "data": {
            "text/plain": [
              "Index(['Job', 'Marital Status', 'Education', 'Defaulter', 'Home Loan',\n",
              "       'Personal  Loan', 'Communication Type', 'Last Contacted', 'Day of Week',\n",
              "       'PC Outcome'],\n",
              "      dtype='object')"
            ]
          },
          "metadata": {},
          "execution_count": 61
        }
      ]
    },
    {
      "cell_type": "code",
      "source": [
        "# Get the count of the peoples who have taken subscription or not\n",
        "data_df['subscribed'].value_counts()"
      ],
      "metadata": {
        "id": "dVRml2osH8Av",
        "outputId": "2f5f4505-ad85-421a-a6de-97e429ed6837",
        "colab": {
          "base_uri": "https://localhost:8080/"
        }
      },
      "execution_count": null,
      "outputs": [
        {
          "output_type": "execute_result",
          "data": {
            "text/plain": [
              "subscribed\n",
              "0    36545\n",
              "1     4638\n",
              "Name: count, dtype: int64"
            ]
          },
          "metadata": {},
          "execution_count": 62
        }
      ]
    },
    {
      "cell_type": "markdown",
      "metadata": {
        "application/vnd.databricks.v1+cell": {
          "cellMetadata": {},
          "inputWidgets": {},
          "nuid": "550dfffd-2a1f-44c5-8d31-23a452896bef",
          "showTitle": false,
          "title": ""
        },
        "id": "Cl7T7_jFHWHE"
      },
      "source": [
        "# Model Estimation"
      ]
    },
    {
      "cell_type": "code",
      "execution_count": null,
      "metadata": {
        "application/vnd.databricks.v1+cell": {
          "cellMetadata": {
            "byteLimit": 2048000,
            "rowLimit": 10000
          },
          "inputWidgets": {},
          "nuid": "0c99d9b0-4771-487b-86fd-9d452118b7ab",
          "showTitle": false,
          "title": ""
        },
        "id": "YKuRNqVuHWHE"
      },
      "outputs": [],
      "source": [
        "X = data_df.drop('subscribed',axis=1)\n",
        "y = data_df['subscribed']"
      ]
    },
    {
      "cell_type": "code",
      "execution_count": null,
      "metadata": {
        "application/vnd.databricks.v1+cell": {
          "cellMetadata": {
            "byteLimit": 2048000,
            "rowLimit": 10000
          },
          "inputWidgets": {},
          "nuid": "1e90b308-b374-4f65-81b8-598a0bab1d1d",
          "showTitle": false,
          "title": ""
        },
        "id": "tbgt_5ZCHWHF"
      },
      "outputs": [],
      "source": [
        "# Split the independenet and dependent features in to x and y variables with a test size 0.2% and random at 42\n",
        "Xtrain, Xtest, ytrain, ytest = train_test_split(\n",
        "    X, y,\n",
        "    test_size=0.2,\n",
        "    random_state=42\n",
        ")"
      ]
    },
    {
      "cell_type": "code",
      "source": [
        "# Creating a pipeline for numerical feature processing, including imputation of missing values with mean and standard scaling.\n",
        "numerical_pipeline = Pipeline([\n",
        "    ('imputer', SimpleImputer(strategy='median')),\n",
        "    ('scaler', StandardScaler())\n",
        "])"
      ],
      "metadata": {
        "id": "Lb_ViEF1We73"
      },
      "execution_count": null,
      "outputs": []
    },
    {
      "cell_type": "markdown",
      "source": [
        "\n",
        "This code creates a pipeline named numerical_pipeline to process numerical features. It consists of two steps:\n",
        "\n",
        "'imputer': Imputes missing values using the mean strategy with SimpleImputer.\n",
        "\n",
        "'scaler': Standardizes the numerical features using StandardScaler."
      ],
      "metadata": {
        "id": "DkPhHiZPsllL"
      }
    },
    {
      "cell_type": "code",
      "source": [
        "# Creating a pipeline for categorical feature processing, including imputation of missing values with the most frequent value and one-hot encoding with handling of unknown categories.\n",
        "categorical_pipeline = Pipeline([\n",
        "    ('imputer', SimpleImputer(strategy='most_frequent')),\n",
        "    ('onehot', OneHotEncoder(handle_unknown='ignore'))\n",
        "])"
      ],
      "metadata": {
        "id": "WMtfW_okWrG7"
      },
      "execution_count": null,
      "outputs": []
    },
    {
      "cell_type": "markdown",
      "source": [
        "This code constructs a pipeline named categorical_pipeline for processing categorical features, involving imputation of missing values using the most frequent value and one-hot encoding with handling of unknown categories."
      ],
      "metadata": {
        "id": "j3lpaPocs3U3"
      }
    },
    {
      "cell_type": "code",
      "execution_count": null,
      "metadata": {
        "application/vnd.databricks.v1+cell": {
          "cellMetadata": {
            "byteLimit": 2048000,
            "rowLimit": 10000
          },
          "inputWidgets": {},
          "nuid": "bffcbcac-0047-4332-b206-9fadb5c78956",
          "showTitle": false,
          "title": ""
        },
        "id": "GYnMo95hHWHF"
      },
      "outputs": [],
      "source": [
        "# Creating a column transformer named preprocessor to apply specific pipelines to numerical and categorical features separately.\n",
        "preprocessor = make_column_transformer(\n",
        "    (numerical_pipeline, numerical_features),\n",
        "    (categorical_pipeline, categorical_features)\n",
        ")"
      ]
    },
    {
      "cell_type": "code",
      "execution_count": null,
      "metadata": {
        "application/vnd.databricks.v1+cell": {
          "cellMetadata": {
            "byteLimit": 2048000,
            "rowLimit": 10000
          },
          "inputWidgets": {},
          "nuid": "76a64681-e124-4eef-ada8-75a8511dc783",
          "showTitle": false,
          "title": ""
        },
        "id": "D83BGGp3HWHF"
      },
      "outputs": [],
      "source": [
        "# Creating a logistic regression model with parallel processing enabled (-1 indicates using all available cores) for improved training efficiency.\n",
        "model_logistic_regression = LogisticRegression(n_jobs=-1)"
      ]
    },
    {
      "cell_type": "code",
      "execution_count": null,
      "metadata": {
        "application/vnd.databricks.v1+cell": {
          "cellMetadata": {
            "byteLimit": 2048000,
            "rowLimit": 10000
          },
          "inputWidgets": {},
          "nuid": "7e566699-0812-46e2-a48b-cf8a4f83c7b6",
          "showTitle": false,
          "title": ""
        },
        "id": "3HkzYXsPHWHF"
      },
      "outputs": [],
      "source": [
        "# Creating a pipeline combining preprocessing steps (imputation and encoding) with logistic regression modeling.\n",
        "model_pipeline = make_pipeline(\n",
        "    preprocessor,  # Applying preprocessing steps\n",
        "    model_logistic_regression  # Training logistic regression model\n",
        ")"
      ]
    },
    {
      "cell_type": "code",
      "execution_count": null,
      "metadata": {
        "application/vnd.databricks.v1+cell": {
          "cellMetadata": {
            "byteLimit": 2048000,
            "rowLimit": 10000
          },
          "inputWidgets": {},
          "nuid": "245034db-84c4-406f-b808-dde8860b9084",
          "showTitle": false,
          "title": ""
        },
        "id": "E_ZmCrDnHWHG",
        "outputId": "7cf14c3c-6ea0-45d7-bb61-e1562af2fe3a",
        "colab": {
          "base_uri": "https://localhost:8080/",
          "height": 227
        }
      },
      "outputs": [
        {
          "output_type": "execute_result",
          "data": {
            "text/plain": [
              "Pipeline(steps=[('columntransformer',\n",
              "                 ColumnTransformer(transformers=[('pipeline-1',\n",
              "                                                  Pipeline(steps=[('imputer',\n",
              "                                                                   SimpleImputer(strategy='median')),\n",
              "                                                                  ('scaler',\n",
              "                                                                   StandardScaler())]),\n",
              "                                                  Index(['Age', 'Duration(Sec)', 'CC Contact Freq', 'Days Since PC',\n",
              "       'PC Contact Freq'],\n",
              "      dtype='object')),\n",
              "                                                 ('pipeline-2',\n",
              "                                                  Pipeline(steps=[('imputer',\n",
              "                                                                   SimpleImputer(strategy='most_frequent')),\n",
              "                                                                  ('onehot',\n",
              "                                                                   OneHotEncoder(handle_unknown='ignore'))]),\n",
              "                                                  Index(['Job', 'Marital Status', 'Education', 'Defaulter', 'Home Loan',\n",
              "       'Personal  Loan', 'Communication Type', 'Last Contacted', 'Day of Week',\n",
              "       'PC Outcome'],\n",
              "      dtype='object'))])),\n",
              "                ('logisticregression', LogisticRegression(n_jobs=-1))])"
            ],
            "text/html": [
              "<style>#sk-container-id-10 {color: black;background-color: white;}#sk-container-id-10 pre{padding: 0;}#sk-container-id-10 div.sk-toggleable {background-color: white;}#sk-container-id-10 label.sk-toggleable__label {cursor: pointer;display: block;width: 100%;margin-bottom: 0;padding: 0.3em;box-sizing: border-box;text-align: center;}#sk-container-id-10 label.sk-toggleable__label-arrow:before {content: \"▸\";float: left;margin-right: 0.25em;color: #696969;}#sk-container-id-10 label.sk-toggleable__label-arrow:hover:before {color: black;}#sk-container-id-10 div.sk-estimator:hover label.sk-toggleable__label-arrow:before {color: black;}#sk-container-id-10 div.sk-toggleable__content {max-height: 0;max-width: 0;overflow: hidden;text-align: left;background-color: #f0f8ff;}#sk-container-id-10 div.sk-toggleable__content pre {margin: 0.2em;color: black;border-radius: 0.25em;background-color: #f0f8ff;}#sk-container-id-10 input.sk-toggleable__control:checked~div.sk-toggleable__content {max-height: 200px;max-width: 100%;overflow: auto;}#sk-container-id-10 input.sk-toggleable__control:checked~label.sk-toggleable__label-arrow:before {content: \"▾\";}#sk-container-id-10 div.sk-estimator input.sk-toggleable__control:checked~label.sk-toggleable__label {background-color: #d4ebff;}#sk-container-id-10 div.sk-label input.sk-toggleable__control:checked~label.sk-toggleable__label {background-color: #d4ebff;}#sk-container-id-10 input.sk-hidden--visually {border: 0;clip: rect(1px 1px 1px 1px);clip: rect(1px, 1px, 1px, 1px);height: 1px;margin: -1px;overflow: hidden;padding: 0;position: absolute;width: 1px;}#sk-container-id-10 div.sk-estimator {font-family: monospace;background-color: #f0f8ff;border: 1px dotted black;border-radius: 0.25em;box-sizing: border-box;margin-bottom: 0.5em;}#sk-container-id-10 div.sk-estimator:hover {background-color: #d4ebff;}#sk-container-id-10 div.sk-parallel-item::after {content: \"\";width: 100%;border-bottom: 1px solid gray;flex-grow: 1;}#sk-container-id-10 div.sk-label:hover label.sk-toggleable__label {background-color: #d4ebff;}#sk-container-id-10 div.sk-serial::before {content: \"\";position: absolute;border-left: 1px solid gray;box-sizing: border-box;top: 0;bottom: 0;left: 50%;z-index: 0;}#sk-container-id-10 div.sk-serial {display: flex;flex-direction: column;align-items: center;background-color: white;padding-right: 0.2em;padding-left: 0.2em;position: relative;}#sk-container-id-10 div.sk-item {position: relative;z-index: 1;}#sk-container-id-10 div.sk-parallel {display: flex;align-items: stretch;justify-content: center;background-color: white;position: relative;}#sk-container-id-10 div.sk-item::before, #sk-container-id-10 div.sk-parallel-item::before {content: \"\";position: absolute;border-left: 1px solid gray;box-sizing: border-box;top: 0;bottom: 0;left: 50%;z-index: -1;}#sk-container-id-10 div.sk-parallel-item {display: flex;flex-direction: column;z-index: 1;position: relative;background-color: white;}#sk-container-id-10 div.sk-parallel-item:first-child::after {align-self: flex-end;width: 50%;}#sk-container-id-10 div.sk-parallel-item:last-child::after {align-self: flex-start;width: 50%;}#sk-container-id-10 div.sk-parallel-item:only-child::after {width: 0;}#sk-container-id-10 div.sk-dashed-wrapped {border: 1px dashed gray;margin: 0 0.4em 0.5em 0.4em;box-sizing: border-box;padding-bottom: 0.4em;background-color: white;}#sk-container-id-10 div.sk-label label {font-family: monospace;font-weight: bold;display: inline-block;line-height: 1.2em;}#sk-container-id-10 div.sk-label-container {text-align: center;}#sk-container-id-10 div.sk-container {/* jupyter's `normalize.less` sets `[hidden] { display: none; }` but bootstrap.min.css set `[hidden] { display: none !important; }` so we also need the `!important` here to be able to override the default hidden behavior on the sphinx rendered scikit-learn.org. See: https://github.com/scikit-learn/scikit-learn/issues/21755 */display: inline-block !important;position: relative;}#sk-container-id-10 div.sk-text-repr-fallback {display: none;}</style><div id=\"sk-container-id-10\" class=\"sk-top-container\"><div class=\"sk-text-repr-fallback\"><pre>Pipeline(steps=[(&#x27;columntransformer&#x27;,\n",
              "                 ColumnTransformer(transformers=[(&#x27;pipeline-1&#x27;,\n",
              "                                                  Pipeline(steps=[(&#x27;imputer&#x27;,\n",
              "                                                                   SimpleImputer(strategy=&#x27;median&#x27;)),\n",
              "                                                                  (&#x27;scaler&#x27;,\n",
              "                                                                   StandardScaler())]),\n",
              "                                                  Index([&#x27;Age&#x27;, &#x27;Duration(Sec)&#x27;, &#x27;CC Contact Freq&#x27;, &#x27;Days Since PC&#x27;,\n",
              "       &#x27;PC Contact Freq&#x27;],\n",
              "      dtype=&#x27;object&#x27;)),\n",
              "                                                 (&#x27;pipeline-2&#x27;,\n",
              "                                                  Pipeline(steps=[(&#x27;imputer&#x27;,\n",
              "                                                                   SimpleImputer(strategy=&#x27;most_frequent&#x27;)),\n",
              "                                                                  (&#x27;onehot&#x27;,\n",
              "                                                                   OneHotEncoder(handle_unknown=&#x27;ignore&#x27;))]),\n",
              "                                                  Index([&#x27;Job&#x27;, &#x27;Marital Status&#x27;, &#x27;Education&#x27;, &#x27;Defaulter&#x27;, &#x27;Home Loan&#x27;,\n",
              "       &#x27;Personal  Loan&#x27;, &#x27;Communication Type&#x27;, &#x27;Last Contacted&#x27;, &#x27;Day of Week&#x27;,\n",
              "       &#x27;PC Outcome&#x27;],\n",
              "      dtype=&#x27;object&#x27;))])),\n",
              "                (&#x27;logisticregression&#x27;, LogisticRegression(n_jobs=-1))])</pre><b>In a Jupyter environment, please rerun this cell to show the HTML representation or trust the notebook. <br />On GitHub, the HTML representation is unable to render, please try loading this page with nbviewer.org.</b></div><div class=\"sk-container\" hidden><div class=\"sk-item sk-dashed-wrapped\"><div class=\"sk-label-container\"><div class=\"sk-label sk-toggleable\"><input class=\"sk-toggleable__control sk-hidden--visually\" id=\"sk-estimator-id-84\" type=\"checkbox\" ><label for=\"sk-estimator-id-84\" class=\"sk-toggleable__label sk-toggleable__label-arrow\">Pipeline</label><div class=\"sk-toggleable__content\"><pre>Pipeline(steps=[(&#x27;columntransformer&#x27;,\n",
              "                 ColumnTransformer(transformers=[(&#x27;pipeline-1&#x27;,\n",
              "                                                  Pipeline(steps=[(&#x27;imputer&#x27;,\n",
              "                                                                   SimpleImputer(strategy=&#x27;median&#x27;)),\n",
              "                                                                  (&#x27;scaler&#x27;,\n",
              "                                                                   StandardScaler())]),\n",
              "                                                  Index([&#x27;Age&#x27;, &#x27;Duration(Sec)&#x27;, &#x27;CC Contact Freq&#x27;, &#x27;Days Since PC&#x27;,\n",
              "       &#x27;PC Contact Freq&#x27;],\n",
              "      dtype=&#x27;object&#x27;)),\n",
              "                                                 (&#x27;pipeline-2&#x27;,\n",
              "                                                  Pipeline(steps=[(&#x27;imputer&#x27;,\n",
              "                                                                   SimpleImputer(strategy=&#x27;most_frequent&#x27;)),\n",
              "                                                                  (&#x27;onehot&#x27;,\n",
              "                                                                   OneHotEncoder(handle_unknown=&#x27;ignore&#x27;))]),\n",
              "                                                  Index([&#x27;Job&#x27;, &#x27;Marital Status&#x27;, &#x27;Education&#x27;, &#x27;Defaulter&#x27;, &#x27;Home Loan&#x27;,\n",
              "       &#x27;Personal  Loan&#x27;, &#x27;Communication Type&#x27;, &#x27;Last Contacted&#x27;, &#x27;Day of Week&#x27;,\n",
              "       &#x27;PC Outcome&#x27;],\n",
              "      dtype=&#x27;object&#x27;))])),\n",
              "                (&#x27;logisticregression&#x27;, LogisticRegression(n_jobs=-1))])</pre></div></div></div><div class=\"sk-serial\"><div class=\"sk-item sk-dashed-wrapped\"><div class=\"sk-label-container\"><div class=\"sk-label sk-toggleable\"><input class=\"sk-toggleable__control sk-hidden--visually\" id=\"sk-estimator-id-85\" type=\"checkbox\" ><label for=\"sk-estimator-id-85\" class=\"sk-toggleable__label sk-toggleable__label-arrow\">columntransformer: ColumnTransformer</label><div class=\"sk-toggleable__content\"><pre>ColumnTransformer(transformers=[(&#x27;pipeline-1&#x27;,\n",
              "                                 Pipeline(steps=[(&#x27;imputer&#x27;,\n",
              "                                                  SimpleImputer(strategy=&#x27;median&#x27;)),\n",
              "                                                 (&#x27;scaler&#x27;, StandardScaler())]),\n",
              "                                 Index([&#x27;Age&#x27;, &#x27;Duration(Sec)&#x27;, &#x27;CC Contact Freq&#x27;, &#x27;Days Since PC&#x27;,\n",
              "       &#x27;PC Contact Freq&#x27;],\n",
              "      dtype=&#x27;object&#x27;)),\n",
              "                                (&#x27;pipeline-2&#x27;,\n",
              "                                 Pipeline(steps=[(&#x27;imputer&#x27;,\n",
              "                                                  SimpleImputer(strategy=&#x27;most_frequent&#x27;)),\n",
              "                                                 (&#x27;onehot&#x27;,\n",
              "                                                  OneHotEncoder(handle_unknown=&#x27;ignore&#x27;))]),\n",
              "                                 Index([&#x27;Job&#x27;, &#x27;Marital Status&#x27;, &#x27;Education&#x27;, &#x27;Defaulter&#x27;, &#x27;Home Loan&#x27;,\n",
              "       &#x27;Personal  Loan&#x27;, &#x27;Communication Type&#x27;, &#x27;Last Contacted&#x27;, &#x27;Day of Week&#x27;,\n",
              "       &#x27;PC Outcome&#x27;],\n",
              "      dtype=&#x27;object&#x27;))])</pre></div></div></div><div class=\"sk-parallel\"><div class=\"sk-parallel-item\"><div class=\"sk-item\"><div class=\"sk-label-container\"><div class=\"sk-label sk-toggleable\"><input class=\"sk-toggleable__control sk-hidden--visually\" id=\"sk-estimator-id-86\" type=\"checkbox\" ><label for=\"sk-estimator-id-86\" class=\"sk-toggleable__label sk-toggleable__label-arrow\">pipeline-1</label><div class=\"sk-toggleable__content\"><pre>Index([&#x27;Age&#x27;, &#x27;Duration(Sec)&#x27;, &#x27;CC Contact Freq&#x27;, &#x27;Days Since PC&#x27;,\n",
              "       &#x27;PC Contact Freq&#x27;],\n",
              "      dtype=&#x27;object&#x27;)</pre></div></div></div><div class=\"sk-serial\"><div class=\"sk-item\"><div class=\"sk-serial\"><div class=\"sk-item\"><div class=\"sk-estimator sk-toggleable\"><input class=\"sk-toggleable__control sk-hidden--visually\" id=\"sk-estimator-id-87\" type=\"checkbox\" ><label for=\"sk-estimator-id-87\" class=\"sk-toggleable__label sk-toggleable__label-arrow\">SimpleImputer</label><div class=\"sk-toggleable__content\"><pre>SimpleImputer(strategy=&#x27;median&#x27;)</pre></div></div></div><div class=\"sk-item\"><div class=\"sk-estimator sk-toggleable\"><input class=\"sk-toggleable__control sk-hidden--visually\" id=\"sk-estimator-id-88\" type=\"checkbox\" ><label for=\"sk-estimator-id-88\" class=\"sk-toggleable__label sk-toggleable__label-arrow\">StandardScaler</label><div class=\"sk-toggleable__content\"><pre>StandardScaler()</pre></div></div></div></div></div></div></div></div><div class=\"sk-parallel-item\"><div class=\"sk-item\"><div class=\"sk-label-container\"><div class=\"sk-label sk-toggleable\"><input class=\"sk-toggleable__control sk-hidden--visually\" id=\"sk-estimator-id-89\" type=\"checkbox\" ><label for=\"sk-estimator-id-89\" class=\"sk-toggleable__label sk-toggleable__label-arrow\">pipeline-2</label><div class=\"sk-toggleable__content\"><pre>Index([&#x27;Job&#x27;, &#x27;Marital Status&#x27;, &#x27;Education&#x27;, &#x27;Defaulter&#x27;, &#x27;Home Loan&#x27;,\n",
              "       &#x27;Personal  Loan&#x27;, &#x27;Communication Type&#x27;, &#x27;Last Contacted&#x27;, &#x27;Day of Week&#x27;,\n",
              "       &#x27;PC Outcome&#x27;],\n",
              "      dtype=&#x27;object&#x27;)</pre></div></div></div><div class=\"sk-serial\"><div class=\"sk-item\"><div class=\"sk-serial\"><div class=\"sk-item\"><div class=\"sk-estimator sk-toggleable\"><input class=\"sk-toggleable__control sk-hidden--visually\" id=\"sk-estimator-id-90\" type=\"checkbox\" ><label for=\"sk-estimator-id-90\" class=\"sk-toggleable__label sk-toggleable__label-arrow\">SimpleImputer</label><div class=\"sk-toggleable__content\"><pre>SimpleImputer(strategy=&#x27;most_frequent&#x27;)</pre></div></div></div><div class=\"sk-item\"><div class=\"sk-estimator sk-toggleable\"><input class=\"sk-toggleable__control sk-hidden--visually\" id=\"sk-estimator-id-91\" type=\"checkbox\" ><label for=\"sk-estimator-id-91\" class=\"sk-toggleable__label sk-toggleable__label-arrow\">OneHotEncoder</label><div class=\"sk-toggleable__content\"><pre>OneHotEncoder(handle_unknown=&#x27;ignore&#x27;)</pre></div></div></div></div></div></div></div></div></div></div><div class=\"sk-item\"><div class=\"sk-estimator sk-toggleable\"><input class=\"sk-toggleable__control sk-hidden--visually\" id=\"sk-estimator-id-92\" type=\"checkbox\" ><label for=\"sk-estimator-id-92\" class=\"sk-toggleable__label sk-toggleable__label-arrow\">LogisticRegression</label><div class=\"sk-toggleable__content\"><pre>LogisticRegression(n_jobs=-1)</pre></div></div></div></div></div></div></div>"
            ]
          },
          "metadata": {},
          "execution_count": 115
        }
      ],
      "source": [
        "# Fit the model on training data\n",
        "model_pipeline.fit(Xtrain, ytrain)"
      ]
    },
    {
      "cell_type": "markdown",
      "source": [
        "This representation indicates the structure of a pipeline named Pipeline, which includes:\n",
        "\n",
        "A ColumnTransformer named columntransformer, containing two sub-pipelines:\n",
        "\n",
        "pipeline-1 consisting of SimpleImputer followed by StandardScaler.\n",
        "\n",
        "pipeline-2 consisting of SimpleImputer followed by OneHotEncoder.\n",
        "\n",
        "Finally, LogisticRegression model is applied after preprocessing."
      ],
      "metadata": {
        "id": "e2XzkTFCtXgD"
      }
    },
    {
      "cell_type": "markdown",
      "metadata": {
        "application/vnd.databricks.v1+cell": {
          "cellMetadata": {},
          "inputWidgets": {},
          "nuid": "b69edec2-1b51-47d1-89a4-18ed7d7814f7",
          "showTitle": false,
          "title": ""
        },
        "id": "vKh6Gg6BHWHG"
      },
      "source": [
        "# Model Evaluation"
      ]
    },
    {
      "cell_type": "code",
      "execution_count": null,
      "metadata": {
        "application/vnd.databricks.v1+cell": {
          "cellMetadata": {
            "byteLimit": 2048000,
            "rowLimit": 10000
          },
          "inputWidgets": {},
          "nuid": "087eeb21-d77e-4ca1-9f75-414586c18b7d",
          "showTitle": false,
          "title": ""
        },
        "id": "yquQSa6KHWHH",
        "outputId": "0b4112d6-3546-47f5-d119-cc255bf52682",
        "colab": {
          "base_uri": "https://localhost:8080/"
        }
      },
      "outputs": [
        {
          "output_type": "execute_result",
          "data": {
            "text/plain": [
              "array([1, 0, 0, ..., 0, 0, 1])"
            ]
          },
          "metadata": {},
          "execution_count": 116
        }
      ],
      "source": [
        "# Make prediction on the test data\n",
        "model_pipeline.predict(Xtest)"
      ]
    },
    {
      "cell_type": "code",
      "execution_count": null,
      "metadata": {
        "application/vnd.databricks.v1+cell": {
          "cellMetadata": {
            "byteLimit": 2048000,
            "rowLimit": 10000
          },
          "inputWidgets": {},
          "nuid": "841dbbf4-00fe-43bb-86b7-13e184d3759d",
          "showTitle": false,
          "title": ""
        },
        "id": "KdXMlBmGHWHH",
        "outputId": "0d9e6da3-05dc-4b33-ea84-6da7337a303d",
        "colab": {
          "base_uri": "https://localhost:8080/"
        }
      },
      "outputs": [
        {
          "output_type": "execute_result",
          "data": {
            "text/plain": [
              "0.9084618186232851"
            ]
          },
          "metadata": {},
          "execution_count": 117
        }
      ],
      "source": [
        "# Evaluate the model performance using accuracy_score metric\n",
        "accuracy_score(ytest, model_pipeline.predict(Xtest))"
      ]
    },
    {
      "cell_type": "code",
      "source": [
        "# Display the classification report metric which comprises recall, precision, f1 score\n",
        "print(classification_report(ytest, model_pipeline.predict(Xtest)))"
      ],
      "metadata": {
        "id": "ZTwKVOtmHr-M",
        "outputId": "1f3c8850-be84-48fe-c7ce-5452d32be2fc",
        "colab": {
          "base_uri": "https://localhost:8080/"
        }
      },
      "execution_count": null,
      "outputs": [
        {
          "output_type": "stream",
          "name": "stdout",
          "text": [
            "              precision    recall  f1-score   support\n",
            "\n",
            "           0       0.92      0.98      0.95      7312\n",
            "           1       0.67      0.37      0.47       925\n",
            "\n",
            "    accuracy                           0.91      8237\n",
            "   macro avg       0.80      0.67      0.71      8237\n",
            "weighted avg       0.90      0.91      0.90      8237\n",
            "\n"
          ]
        }
      ]
    },
    {
      "cell_type": "markdown",
      "source": [
        "# Hyperparameter Tuning"
      ],
      "metadata": {
        "id": "UGqiCLRnRx8i"
      }
    },
    {
      "cell_type": "code",
      "execution_count": null,
      "metadata": {
        "application/vnd.databricks.v1+cell": {
          "cellMetadata": {
            "byteLimit": 2048000,
            "rowLimit": 10000
          },
          "inputWidgets": {},
          "nuid": "bffcbcac-0047-4332-b206-9fadb5c78956",
          "showTitle": false,
          "title": ""
        },
        "id": "D8BdWyOUR46x"
      },
      "outputs": [],
      "source": [
        "preprocessor = make_column_transformer(\n",
        "    (numerical_pipeline, numerical_features),\n",
        "    (categorical_pipeline, categorical_features)\n",
        ")"
      ]
    },
    {
      "cell_type": "code",
      "execution_count": null,
      "metadata": {
        "application/vnd.databricks.v1+cell": {
          "cellMetadata": {
            "byteLimit": 2048000,
            "rowLimit": 10000
          },
          "inputWidgets": {},
          "nuid": "76a64681-e124-4eef-ada8-75a8511dc783",
          "showTitle": false,
          "title": ""
        },
        "id": "creqMx9fR46y"
      },
      "outputs": [],
      "source": [
        "model_logistic_regression = LogisticRegression(n_jobs=-1)"
      ]
    },
    {
      "cell_type": "code",
      "execution_count": null,
      "metadata": {
        "application/vnd.databricks.v1+cell": {
          "cellMetadata": {
            "byteLimit": 2048000,
            "rowLimit": 10000
          },
          "inputWidgets": {},
          "nuid": "7e566699-0812-46e2-a48b-cf8a4f83c7b6",
          "showTitle": false,
          "title": ""
        },
        "id": "bwV3VmWrR46y"
      },
      "outputs": [],
      "source": [
        "model_pipeline = make_pipeline(\n",
        "    preprocessor,\n",
        "    model_logistic_regression\n",
        ")"
      ]
    },
    {
      "cell_type": "code",
      "source": [
        "# Get the backend architecture of the model_pipeline\n",
        "model_pipeline.named_steps"
      ],
      "metadata": {
        "id": "fSNxALuGR6iT",
        "outputId": "dad379c2-0d49-47bd-a2d6-65b06342e329",
        "colab": {
          "base_uri": "https://localhost:8080/"
        }
      },
      "execution_count": null,
      "outputs": [
        {
          "output_type": "execute_result",
          "data": {
            "text/plain": [
              "{'columntransformer': ColumnTransformer(transformers=[('pipeline-1',\n",
              "                                  Pipeline(steps=[('imputer', SimpleImputer()),\n",
              "                                                  ('scaler', StandardScaler())]),\n",
              "                                  Index(['Age', 'Duration(Sec)', 'CC Contact Freq', 'Days Since PC',\n",
              "        'PC Contact Freq'],\n",
              "       dtype='object')),\n",
              "                                 ('pipeline-2',\n",
              "                                  Pipeline(steps=[('imputer',\n",
              "                                                   SimpleImputer(strategy='most_frequent')),\n",
              "                                                  ('onehot',\n",
              "                                                   OneHotEncoder(handle_unknown='ignore'))]),\n",
              "                                  Index(['Job', 'Marital Status', 'Education', 'Defaulter', 'Home Loan',\n",
              "        'Personal  Loan', 'Communication Type', 'Last Contacted', 'Day of Week',\n",
              "        'PC Outcome'],\n",
              "       dtype='object'))]),\n",
              " 'logisticregression': LogisticRegression(n_jobs=-1)}"
            ]
          },
          "metadata": {},
          "execution_count": 78
        }
      ]
    },
    {
      "cell_type": "code",
      "source": [
        "# Write down the list of values that we can use to tune the logistic regression model using the c parameter\n",
        "param_distribution = {\n",
        "    \"logisticregression__C\": [0.001, 0.01, 0.1, 0.5, 1, 5, 10]\n",
        "}"
      ],
      "metadata": {
        "id": "GlOJwOE2SA4m"
      },
      "execution_count": null,
      "outputs": []
    },
    {
      "cell_type": "code",
      "source": [
        "# Creating a randomized search cross-validation object to search for the best hyperparameters for the model pipeline.\n",
        "rand_search_cv = RandomizedSearchCV(\n",
        "    model_pipeline,  # Model pipeline to be optimized\n",
        "    param_distribution,  # Hyperparameter distribution to sample from\n",
        "    n_iter=3,  # Number of parameter settings that are sampled\n",
        "    cv=3,  # Number of folds for cross-validation\n",
        "    random_state=42  # Random state for reproducibility\n",
        ")"
      ],
      "metadata": {
        "id": "e-6kTwZkSfxT"
      },
      "execution_count": null,
      "outputs": []
    },
    {
      "cell_type": "code",
      "source": [
        "# Fit the model on training data\n",
        "rand_search_cv.fit(Xtrain, ytrain)"
      ],
      "metadata": {
        "id": "ycqTA2xKSjU7",
        "outputId": "775c2167-3964-41a1-a7de-31a10b734f28",
        "colab": {
          "base_uri": "https://localhost:8080/",
          "height": 253
        }
      },
      "execution_count": null,
      "outputs": [
        {
          "output_type": "execute_result",
          "data": {
            "text/plain": [
              "RandomizedSearchCV(cv=3,\n",
              "                   estimator=Pipeline(steps=[('columntransformer',\n",
              "                                              ColumnTransformer(transformers=[('pipeline-1',\n",
              "                                                                               Pipeline(steps=[('imputer',\n",
              "                                                                                                SimpleImputer()),\n",
              "                                                                                               ('scaler',\n",
              "                                                                                                StandardScaler())]),\n",
              "                                                                               Index(['Age', 'Duration(Sec)', 'CC Contact Freq', 'Days Since PC',\n",
              "       'PC Contact Freq'],\n",
              "      dtype='object')),\n",
              "                                                                              ('pipeline-2',\n",
              "                                                                               Pipeline(steps=[('imputer',\n",
              "                                                                                                SimpleImputer(strategy='m...\n",
              "                                                                                                OneHotEncoder(handle_unknown='ignore'))]),\n",
              "                                                                               Index(['Job', 'Marital Status', 'Education', 'Defaulter', 'Home Loan',\n",
              "       'Personal  Loan', 'Communication Type', 'Last Contacted', 'Day of Week',\n",
              "       'PC Outcome'],\n",
              "      dtype='object'))])),\n",
              "                                             ('logisticregression',\n",
              "                                              LogisticRegression(n_jobs=-1))]),\n",
              "                   n_iter=3,\n",
              "                   param_distributions={'logisticregression__C': [0.001, 0.01,\n",
              "                                                                  0.1, 0.5, 1,\n",
              "                                                                  5, 10]},\n",
              "                   random_state=42)"
            ],
            "text/html": [
              "<style>#sk-container-id-6 {color: black;background-color: white;}#sk-container-id-6 pre{padding: 0;}#sk-container-id-6 div.sk-toggleable {background-color: white;}#sk-container-id-6 label.sk-toggleable__label {cursor: pointer;display: block;width: 100%;margin-bottom: 0;padding: 0.3em;box-sizing: border-box;text-align: center;}#sk-container-id-6 label.sk-toggleable__label-arrow:before {content: \"▸\";float: left;margin-right: 0.25em;color: #696969;}#sk-container-id-6 label.sk-toggleable__label-arrow:hover:before {color: black;}#sk-container-id-6 div.sk-estimator:hover label.sk-toggleable__label-arrow:before {color: black;}#sk-container-id-6 div.sk-toggleable__content {max-height: 0;max-width: 0;overflow: hidden;text-align: left;background-color: #f0f8ff;}#sk-container-id-6 div.sk-toggleable__content pre {margin: 0.2em;color: black;border-radius: 0.25em;background-color: #f0f8ff;}#sk-container-id-6 input.sk-toggleable__control:checked~div.sk-toggleable__content {max-height: 200px;max-width: 100%;overflow: auto;}#sk-container-id-6 input.sk-toggleable__control:checked~label.sk-toggleable__label-arrow:before {content: \"▾\";}#sk-container-id-6 div.sk-estimator input.sk-toggleable__control:checked~label.sk-toggleable__label {background-color: #d4ebff;}#sk-container-id-6 div.sk-label input.sk-toggleable__control:checked~label.sk-toggleable__label {background-color: #d4ebff;}#sk-container-id-6 input.sk-hidden--visually {border: 0;clip: rect(1px 1px 1px 1px);clip: rect(1px, 1px, 1px, 1px);height: 1px;margin: -1px;overflow: hidden;padding: 0;position: absolute;width: 1px;}#sk-container-id-6 div.sk-estimator {font-family: monospace;background-color: #f0f8ff;border: 1px dotted black;border-radius: 0.25em;box-sizing: border-box;margin-bottom: 0.5em;}#sk-container-id-6 div.sk-estimator:hover {background-color: #d4ebff;}#sk-container-id-6 div.sk-parallel-item::after {content: \"\";width: 100%;border-bottom: 1px solid gray;flex-grow: 1;}#sk-container-id-6 div.sk-label:hover label.sk-toggleable__label {background-color: #d4ebff;}#sk-container-id-6 div.sk-serial::before {content: \"\";position: absolute;border-left: 1px solid gray;box-sizing: border-box;top: 0;bottom: 0;left: 50%;z-index: 0;}#sk-container-id-6 div.sk-serial {display: flex;flex-direction: column;align-items: center;background-color: white;padding-right: 0.2em;padding-left: 0.2em;position: relative;}#sk-container-id-6 div.sk-item {position: relative;z-index: 1;}#sk-container-id-6 div.sk-parallel {display: flex;align-items: stretch;justify-content: center;background-color: white;position: relative;}#sk-container-id-6 div.sk-item::before, #sk-container-id-6 div.sk-parallel-item::before {content: \"\";position: absolute;border-left: 1px solid gray;box-sizing: border-box;top: 0;bottom: 0;left: 50%;z-index: -1;}#sk-container-id-6 div.sk-parallel-item {display: flex;flex-direction: column;z-index: 1;position: relative;background-color: white;}#sk-container-id-6 div.sk-parallel-item:first-child::after {align-self: flex-end;width: 50%;}#sk-container-id-6 div.sk-parallel-item:last-child::after {align-self: flex-start;width: 50%;}#sk-container-id-6 div.sk-parallel-item:only-child::after {width: 0;}#sk-container-id-6 div.sk-dashed-wrapped {border: 1px dashed gray;margin: 0 0.4em 0.5em 0.4em;box-sizing: border-box;padding-bottom: 0.4em;background-color: white;}#sk-container-id-6 div.sk-label label {font-family: monospace;font-weight: bold;display: inline-block;line-height: 1.2em;}#sk-container-id-6 div.sk-label-container {text-align: center;}#sk-container-id-6 div.sk-container {/* jupyter's `normalize.less` sets `[hidden] { display: none; }` but bootstrap.min.css set `[hidden] { display: none !important; }` so we also need the `!important` here to be able to override the default hidden behavior on the sphinx rendered scikit-learn.org. See: https://github.com/scikit-learn/scikit-learn/issues/21755 */display: inline-block !important;position: relative;}#sk-container-id-6 div.sk-text-repr-fallback {display: none;}</style><div id=\"sk-container-id-6\" class=\"sk-top-container\"><div class=\"sk-text-repr-fallback\"><pre>RandomizedSearchCV(cv=3,\n",
              "                   estimator=Pipeline(steps=[(&#x27;columntransformer&#x27;,\n",
              "                                              ColumnTransformer(transformers=[(&#x27;pipeline-1&#x27;,\n",
              "                                                                               Pipeline(steps=[(&#x27;imputer&#x27;,\n",
              "                                                                                                SimpleImputer()),\n",
              "                                                                                               (&#x27;scaler&#x27;,\n",
              "                                                                                                StandardScaler())]),\n",
              "                                                                               Index([&#x27;Age&#x27;, &#x27;Duration(Sec)&#x27;, &#x27;CC Contact Freq&#x27;, &#x27;Days Since PC&#x27;,\n",
              "       &#x27;PC Contact Freq&#x27;],\n",
              "      dtype=&#x27;object&#x27;)),\n",
              "                                                                              (&#x27;pipeline-2&#x27;,\n",
              "                                                                               Pipeline(steps=[(&#x27;imputer&#x27;,\n",
              "                                                                                                SimpleImputer(strategy=&#x27;m...\n",
              "                                                                                                OneHotEncoder(handle_unknown=&#x27;ignore&#x27;))]),\n",
              "                                                                               Index([&#x27;Job&#x27;, &#x27;Marital Status&#x27;, &#x27;Education&#x27;, &#x27;Defaulter&#x27;, &#x27;Home Loan&#x27;,\n",
              "       &#x27;Personal  Loan&#x27;, &#x27;Communication Type&#x27;, &#x27;Last Contacted&#x27;, &#x27;Day of Week&#x27;,\n",
              "       &#x27;PC Outcome&#x27;],\n",
              "      dtype=&#x27;object&#x27;))])),\n",
              "                                             (&#x27;logisticregression&#x27;,\n",
              "                                              LogisticRegression(n_jobs=-1))]),\n",
              "                   n_iter=3,\n",
              "                   param_distributions={&#x27;logisticregression__C&#x27;: [0.001, 0.01,\n",
              "                                                                  0.1, 0.5, 1,\n",
              "                                                                  5, 10]},\n",
              "                   random_state=42)</pre><b>In a Jupyter environment, please rerun this cell to show the HTML representation or trust the notebook. <br />On GitHub, the HTML representation is unable to render, please try loading this page with nbviewer.org.</b></div><div class=\"sk-container\" hidden><div class=\"sk-item sk-dashed-wrapped\"><div class=\"sk-label-container\"><div class=\"sk-label sk-toggleable\"><input class=\"sk-toggleable__control sk-hidden--visually\" id=\"sk-estimator-id-47\" type=\"checkbox\" ><label for=\"sk-estimator-id-47\" class=\"sk-toggleable__label sk-toggleable__label-arrow\">RandomizedSearchCV</label><div class=\"sk-toggleable__content\"><pre>RandomizedSearchCV(cv=3,\n",
              "                   estimator=Pipeline(steps=[(&#x27;columntransformer&#x27;,\n",
              "                                              ColumnTransformer(transformers=[(&#x27;pipeline-1&#x27;,\n",
              "                                                                               Pipeline(steps=[(&#x27;imputer&#x27;,\n",
              "                                                                                                SimpleImputer()),\n",
              "                                                                                               (&#x27;scaler&#x27;,\n",
              "                                                                                                StandardScaler())]),\n",
              "                                                                               Index([&#x27;Age&#x27;, &#x27;Duration(Sec)&#x27;, &#x27;CC Contact Freq&#x27;, &#x27;Days Since PC&#x27;,\n",
              "       &#x27;PC Contact Freq&#x27;],\n",
              "      dtype=&#x27;object&#x27;)),\n",
              "                                                                              (&#x27;pipeline-2&#x27;,\n",
              "                                                                               Pipeline(steps=[(&#x27;imputer&#x27;,\n",
              "                                                                                                SimpleImputer(strategy=&#x27;m...\n",
              "                                                                                                OneHotEncoder(handle_unknown=&#x27;ignore&#x27;))]),\n",
              "                                                                               Index([&#x27;Job&#x27;, &#x27;Marital Status&#x27;, &#x27;Education&#x27;, &#x27;Defaulter&#x27;, &#x27;Home Loan&#x27;,\n",
              "       &#x27;Personal  Loan&#x27;, &#x27;Communication Type&#x27;, &#x27;Last Contacted&#x27;, &#x27;Day of Week&#x27;,\n",
              "       &#x27;PC Outcome&#x27;],\n",
              "      dtype=&#x27;object&#x27;))])),\n",
              "                                             (&#x27;logisticregression&#x27;,\n",
              "                                              LogisticRegression(n_jobs=-1))]),\n",
              "                   n_iter=3,\n",
              "                   param_distributions={&#x27;logisticregression__C&#x27;: [0.001, 0.01,\n",
              "                                                                  0.1, 0.5, 1,\n",
              "                                                                  5, 10]},\n",
              "                   random_state=42)</pre></div></div></div><div class=\"sk-parallel\"><div class=\"sk-parallel-item\"><div class=\"sk-item\"><div class=\"sk-label-container\"><div class=\"sk-label sk-toggleable\"><input class=\"sk-toggleable__control sk-hidden--visually\" id=\"sk-estimator-id-48\" type=\"checkbox\" ><label for=\"sk-estimator-id-48\" class=\"sk-toggleable__label sk-toggleable__label-arrow\">estimator: Pipeline</label><div class=\"sk-toggleable__content\"><pre>Pipeline(steps=[(&#x27;columntransformer&#x27;,\n",
              "                 ColumnTransformer(transformers=[(&#x27;pipeline-1&#x27;,\n",
              "                                                  Pipeline(steps=[(&#x27;imputer&#x27;,\n",
              "                                                                   SimpleImputer()),\n",
              "                                                                  (&#x27;scaler&#x27;,\n",
              "                                                                   StandardScaler())]),\n",
              "                                                  Index([&#x27;Age&#x27;, &#x27;Duration(Sec)&#x27;, &#x27;CC Contact Freq&#x27;, &#x27;Days Since PC&#x27;,\n",
              "       &#x27;PC Contact Freq&#x27;],\n",
              "      dtype=&#x27;object&#x27;)),\n",
              "                                                 (&#x27;pipeline-2&#x27;,\n",
              "                                                  Pipeline(steps=[(&#x27;imputer&#x27;,\n",
              "                                                                   SimpleImputer(strategy=&#x27;most_frequent&#x27;)),\n",
              "                                                                  (&#x27;onehot&#x27;,\n",
              "                                                                   OneHotEncoder(handle_unknown=&#x27;ignore&#x27;))]),\n",
              "                                                  Index([&#x27;Job&#x27;, &#x27;Marital Status&#x27;, &#x27;Education&#x27;, &#x27;Defaulter&#x27;, &#x27;Home Loan&#x27;,\n",
              "       &#x27;Personal  Loan&#x27;, &#x27;Communication Type&#x27;, &#x27;Last Contacted&#x27;, &#x27;Day of Week&#x27;,\n",
              "       &#x27;PC Outcome&#x27;],\n",
              "      dtype=&#x27;object&#x27;))])),\n",
              "                (&#x27;logisticregression&#x27;, LogisticRegression(n_jobs=-1))])</pre></div></div></div><div class=\"sk-serial\"><div class=\"sk-item\"><div class=\"sk-serial\"><div class=\"sk-item sk-dashed-wrapped\"><div class=\"sk-label-container\"><div class=\"sk-label sk-toggleable\"><input class=\"sk-toggleable__control sk-hidden--visually\" id=\"sk-estimator-id-49\" type=\"checkbox\" ><label for=\"sk-estimator-id-49\" class=\"sk-toggleable__label sk-toggleable__label-arrow\">columntransformer: ColumnTransformer</label><div class=\"sk-toggleable__content\"><pre>ColumnTransformer(transformers=[(&#x27;pipeline-1&#x27;,\n",
              "                                 Pipeline(steps=[(&#x27;imputer&#x27;, SimpleImputer()),\n",
              "                                                 (&#x27;scaler&#x27;, StandardScaler())]),\n",
              "                                 Index([&#x27;Age&#x27;, &#x27;Duration(Sec)&#x27;, &#x27;CC Contact Freq&#x27;, &#x27;Days Since PC&#x27;,\n",
              "       &#x27;PC Contact Freq&#x27;],\n",
              "      dtype=&#x27;object&#x27;)),\n",
              "                                (&#x27;pipeline-2&#x27;,\n",
              "                                 Pipeline(steps=[(&#x27;imputer&#x27;,\n",
              "                                                  SimpleImputer(strategy=&#x27;most_frequent&#x27;)),\n",
              "                                                 (&#x27;onehot&#x27;,\n",
              "                                                  OneHotEncoder(handle_unknown=&#x27;ignore&#x27;))]),\n",
              "                                 Index([&#x27;Job&#x27;, &#x27;Marital Status&#x27;, &#x27;Education&#x27;, &#x27;Defaulter&#x27;, &#x27;Home Loan&#x27;,\n",
              "       &#x27;Personal  Loan&#x27;, &#x27;Communication Type&#x27;, &#x27;Last Contacted&#x27;, &#x27;Day of Week&#x27;,\n",
              "       &#x27;PC Outcome&#x27;],\n",
              "      dtype=&#x27;object&#x27;))])</pre></div></div></div><div class=\"sk-parallel\"><div class=\"sk-parallel-item\"><div class=\"sk-item\"><div class=\"sk-label-container\"><div class=\"sk-label sk-toggleable\"><input class=\"sk-toggleable__control sk-hidden--visually\" id=\"sk-estimator-id-50\" type=\"checkbox\" ><label for=\"sk-estimator-id-50\" class=\"sk-toggleable__label sk-toggleable__label-arrow\">pipeline-1</label><div class=\"sk-toggleable__content\"><pre>Index([&#x27;Age&#x27;, &#x27;Duration(Sec)&#x27;, &#x27;CC Contact Freq&#x27;, &#x27;Days Since PC&#x27;,\n",
              "       &#x27;PC Contact Freq&#x27;],\n",
              "      dtype=&#x27;object&#x27;)</pre></div></div></div><div class=\"sk-serial\"><div class=\"sk-item\"><div class=\"sk-serial\"><div class=\"sk-item\"><div class=\"sk-estimator sk-toggleable\"><input class=\"sk-toggleable__control sk-hidden--visually\" id=\"sk-estimator-id-51\" type=\"checkbox\" ><label for=\"sk-estimator-id-51\" class=\"sk-toggleable__label sk-toggleable__label-arrow\">SimpleImputer</label><div class=\"sk-toggleable__content\"><pre>SimpleImputer()</pre></div></div></div><div class=\"sk-item\"><div class=\"sk-estimator sk-toggleable\"><input class=\"sk-toggleable__control sk-hidden--visually\" id=\"sk-estimator-id-52\" type=\"checkbox\" ><label for=\"sk-estimator-id-52\" class=\"sk-toggleable__label sk-toggleable__label-arrow\">StandardScaler</label><div class=\"sk-toggleable__content\"><pre>StandardScaler()</pre></div></div></div></div></div></div></div></div><div class=\"sk-parallel-item\"><div class=\"sk-item\"><div class=\"sk-label-container\"><div class=\"sk-label sk-toggleable\"><input class=\"sk-toggleable__control sk-hidden--visually\" id=\"sk-estimator-id-53\" type=\"checkbox\" ><label for=\"sk-estimator-id-53\" class=\"sk-toggleable__label sk-toggleable__label-arrow\">pipeline-2</label><div class=\"sk-toggleable__content\"><pre>Index([&#x27;Job&#x27;, &#x27;Marital Status&#x27;, &#x27;Education&#x27;, &#x27;Defaulter&#x27;, &#x27;Home Loan&#x27;,\n",
              "       &#x27;Personal  Loan&#x27;, &#x27;Communication Type&#x27;, &#x27;Last Contacted&#x27;, &#x27;Day of Week&#x27;,\n",
              "       &#x27;PC Outcome&#x27;],\n",
              "      dtype=&#x27;object&#x27;)</pre></div></div></div><div class=\"sk-serial\"><div class=\"sk-item\"><div class=\"sk-serial\"><div class=\"sk-item\"><div class=\"sk-estimator sk-toggleable\"><input class=\"sk-toggleable__control sk-hidden--visually\" id=\"sk-estimator-id-54\" type=\"checkbox\" ><label for=\"sk-estimator-id-54\" class=\"sk-toggleable__label sk-toggleable__label-arrow\">SimpleImputer</label><div class=\"sk-toggleable__content\"><pre>SimpleImputer(strategy=&#x27;most_frequent&#x27;)</pre></div></div></div><div class=\"sk-item\"><div class=\"sk-estimator sk-toggleable\"><input class=\"sk-toggleable__control sk-hidden--visually\" id=\"sk-estimator-id-55\" type=\"checkbox\" ><label for=\"sk-estimator-id-55\" class=\"sk-toggleable__label sk-toggleable__label-arrow\">OneHotEncoder</label><div class=\"sk-toggleable__content\"><pre>OneHotEncoder(handle_unknown=&#x27;ignore&#x27;)</pre></div></div></div></div></div></div></div></div></div></div><div class=\"sk-item\"><div class=\"sk-estimator sk-toggleable\"><input class=\"sk-toggleable__control sk-hidden--visually\" id=\"sk-estimator-id-56\" type=\"checkbox\" ><label for=\"sk-estimator-id-56\" class=\"sk-toggleable__label sk-toggleable__label-arrow\">LogisticRegression</label><div class=\"sk-toggleable__content\"><pre>LogisticRegression(n_jobs=-1)</pre></div></div></div></div></div></div></div></div></div></div></div></div>"
            ]
          },
          "metadata": {},
          "execution_count": 81
        }
      ]
    },
    {
      "cell_type": "code",
      "source": [
        "# Retrieve the best performing estimator (model) found during the randomized search cross-validation process.\n",
        "rand_search_cv.best_estimator_"
      ],
      "metadata": {
        "id": "J4E01MTHSxkN",
        "outputId": "e806c481-0698-46aa-91c2-aaf1fae40c7b",
        "colab": {
          "base_uri": "https://localhost:8080/",
          "height": 227
        }
      },
      "execution_count": null,
      "outputs": [
        {
          "output_type": "execute_result",
          "data": {
            "text/plain": [
              "Pipeline(steps=[('columntransformer',\n",
              "                 ColumnTransformer(transformers=[('pipeline-1',\n",
              "                                                  Pipeline(steps=[('imputer',\n",
              "                                                                   SimpleImputer()),\n",
              "                                                                  ('scaler',\n",
              "                                                                   StandardScaler())]),\n",
              "                                                  Index(['Age', 'Duration(Sec)', 'CC Contact Freq', 'Days Since PC',\n",
              "       'PC Contact Freq'],\n",
              "      dtype='object')),\n",
              "                                                 ('pipeline-2',\n",
              "                                                  Pipeline(steps=[('imputer',\n",
              "                                                                   SimpleImputer(strategy='most_frequent')),\n",
              "                                                                  ('onehot',\n",
              "                                                                   OneHotEncoder(handle_unknown='ignore'))]),\n",
              "                                                  Index(['Job', 'Marital Status', 'Education', 'Defaulter', 'Home Loan',\n",
              "       'Personal  Loan', 'Communication Type', 'Last Contacted', 'Day of Week',\n",
              "       'PC Outcome'],\n",
              "      dtype='object'))])),\n",
              "                ('logisticregression', LogisticRegression(C=5, n_jobs=-1))])"
            ],
            "text/html": [
              "<style>#sk-container-id-7 {color: black;background-color: white;}#sk-container-id-7 pre{padding: 0;}#sk-container-id-7 div.sk-toggleable {background-color: white;}#sk-container-id-7 label.sk-toggleable__label {cursor: pointer;display: block;width: 100%;margin-bottom: 0;padding: 0.3em;box-sizing: border-box;text-align: center;}#sk-container-id-7 label.sk-toggleable__label-arrow:before {content: \"▸\";float: left;margin-right: 0.25em;color: #696969;}#sk-container-id-7 label.sk-toggleable__label-arrow:hover:before {color: black;}#sk-container-id-7 div.sk-estimator:hover label.sk-toggleable__label-arrow:before {color: black;}#sk-container-id-7 div.sk-toggleable__content {max-height: 0;max-width: 0;overflow: hidden;text-align: left;background-color: #f0f8ff;}#sk-container-id-7 div.sk-toggleable__content pre {margin: 0.2em;color: black;border-radius: 0.25em;background-color: #f0f8ff;}#sk-container-id-7 input.sk-toggleable__control:checked~div.sk-toggleable__content {max-height: 200px;max-width: 100%;overflow: auto;}#sk-container-id-7 input.sk-toggleable__control:checked~label.sk-toggleable__label-arrow:before {content: \"▾\";}#sk-container-id-7 div.sk-estimator input.sk-toggleable__control:checked~label.sk-toggleable__label {background-color: #d4ebff;}#sk-container-id-7 div.sk-label input.sk-toggleable__control:checked~label.sk-toggleable__label {background-color: #d4ebff;}#sk-container-id-7 input.sk-hidden--visually {border: 0;clip: rect(1px 1px 1px 1px);clip: rect(1px, 1px, 1px, 1px);height: 1px;margin: -1px;overflow: hidden;padding: 0;position: absolute;width: 1px;}#sk-container-id-7 div.sk-estimator {font-family: monospace;background-color: #f0f8ff;border: 1px dotted black;border-radius: 0.25em;box-sizing: border-box;margin-bottom: 0.5em;}#sk-container-id-7 div.sk-estimator:hover {background-color: #d4ebff;}#sk-container-id-7 div.sk-parallel-item::after {content: \"\";width: 100%;border-bottom: 1px solid gray;flex-grow: 1;}#sk-container-id-7 div.sk-label:hover label.sk-toggleable__label {background-color: #d4ebff;}#sk-container-id-7 div.sk-serial::before {content: \"\";position: absolute;border-left: 1px solid gray;box-sizing: border-box;top: 0;bottom: 0;left: 50%;z-index: 0;}#sk-container-id-7 div.sk-serial {display: flex;flex-direction: column;align-items: center;background-color: white;padding-right: 0.2em;padding-left: 0.2em;position: relative;}#sk-container-id-7 div.sk-item {position: relative;z-index: 1;}#sk-container-id-7 div.sk-parallel {display: flex;align-items: stretch;justify-content: center;background-color: white;position: relative;}#sk-container-id-7 div.sk-item::before, #sk-container-id-7 div.sk-parallel-item::before {content: \"\";position: absolute;border-left: 1px solid gray;box-sizing: border-box;top: 0;bottom: 0;left: 50%;z-index: -1;}#sk-container-id-7 div.sk-parallel-item {display: flex;flex-direction: column;z-index: 1;position: relative;background-color: white;}#sk-container-id-7 div.sk-parallel-item:first-child::after {align-self: flex-end;width: 50%;}#sk-container-id-7 div.sk-parallel-item:last-child::after {align-self: flex-start;width: 50%;}#sk-container-id-7 div.sk-parallel-item:only-child::after {width: 0;}#sk-container-id-7 div.sk-dashed-wrapped {border: 1px dashed gray;margin: 0 0.4em 0.5em 0.4em;box-sizing: border-box;padding-bottom: 0.4em;background-color: white;}#sk-container-id-7 div.sk-label label {font-family: monospace;font-weight: bold;display: inline-block;line-height: 1.2em;}#sk-container-id-7 div.sk-label-container {text-align: center;}#sk-container-id-7 div.sk-container {/* jupyter's `normalize.less` sets `[hidden] { display: none; }` but bootstrap.min.css set `[hidden] { display: none !important; }` so we also need the `!important` here to be able to override the default hidden behavior on the sphinx rendered scikit-learn.org. See: https://github.com/scikit-learn/scikit-learn/issues/21755 */display: inline-block !important;position: relative;}#sk-container-id-7 div.sk-text-repr-fallback {display: none;}</style><div id=\"sk-container-id-7\" class=\"sk-top-container\"><div class=\"sk-text-repr-fallback\"><pre>Pipeline(steps=[(&#x27;columntransformer&#x27;,\n",
              "                 ColumnTransformer(transformers=[(&#x27;pipeline-1&#x27;,\n",
              "                                                  Pipeline(steps=[(&#x27;imputer&#x27;,\n",
              "                                                                   SimpleImputer()),\n",
              "                                                                  (&#x27;scaler&#x27;,\n",
              "                                                                   StandardScaler())]),\n",
              "                                                  Index([&#x27;Age&#x27;, &#x27;Duration(Sec)&#x27;, &#x27;CC Contact Freq&#x27;, &#x27;Days Since PC&#x27;,\n",
              "       &#x27;PC Contact Freq&#x27;],\n",
              "      dtype=&#x27;object&#x27;)),\n",
              "                                                 (&#x27;pipeline-2&#x27;,\n",
              "                                                  Pipeline(steps=[(&#x27;imputer&#x27;,\n",
              "                                                                   SimpleImputer(strategy=&#x27;most_frequent&#x27;)),\n",
              "                                                                  (&#x27;onehot&#x27;,\n",
              "                                                                   OneHotEncoder(handle_unknown=&#x27;ignore&#x27;))]),\n",
              "                                                  Index([&#x27;Job&#x27;, &#x27;Marital Status&#x27;, &#x27;Education&#x27;, &#x27;Defaulter&#x27;, &#x27;Home Loan&#x27;,\n",
              "       &#x27;Personal  Loan&#x27;, &#x27;Communication Type&#x27;, &#x27;Last Contacted&#x27;, &#x27;Day of Week&#x27;,\n",
              "       &#x27;PC Outcome&#x27;],\n",
              "      dtype=&#x27;object&#x27;))])),\n",
              "                (&#x27;logisticregression&#x27;, LogisticRegression(C=5, n_jobs=-1))])</pre><b>In a Jupyter environment, please rerun this cell to show the HTML representation or trust the notebook. <br />On GitHub, the HTML representation is unable to render, please try loading this page with nbviewer.org.</b></div><div class=\"sk-container\" hidden><div class=\"sk-item sk-dashed-wrapped\"><div class=\"sk-label-container\"><div class=\"sk-label sk-toggleable\"><input class=\"sk-toggleable__control sk-hidden--visually\" id=\"sk-estimator-id-57\" type=\"checkbox\" ><label for=\"sk-estimator-id-57\" class=\"sk-toggleable__label sk-toggleable__label-arrow\">Pipeline</label><div class=\"sk-toggleable__content\"><pre>Pipeline(steps=[(&#x27;columntransformer&#x27;,\n",
              "                 ColumnTransformer(transformers=[(&#x27;pipeline-1&#x27;,\n",
              "                                                  Pipeline(steps=[(&#x27;imputer&#x27;,\n",
              "                                                                   SimpleImputer()),\n",
              "                                                                  (&#x27;scaler&#x27;,\n",
              "                                                                   StandardScaler())]),\n",
              "                                                  Index([&#x27;Age&#x27;, &#x27;Duration(Sec)&#x27;, &#x27;CC Contact Freq&#x27;, &#x27;Days Since PC&#x27;,\n",
              "       &#x27;PC Contact Freq&#x27;],\n",
              "      dtype=&#x27;object&#x27;)),\n",
              "                                                 (&#x27;pipeline-2&#x27;,\n",
              "                                                  Pipeline(steps=[(&#x27;imputer&#x27;,\n",
              "                                                                   SimpleImputer(strategy=&#x27;most_frequent&#x27;)),\n",
              "                                                                  (&#x27;onehot&#x27;,\n",
              "                                                                   OneHotEncoder(handle_unknown=&#x27;ignore&#x27;))]),\n",
              "                                                  Index([&#x27;Job&#x27;, &#x27;Marital Status&#x27;, &#x27;Education&#x27;, &#x27;Defaulter&#x27;, &#x27;Home Loan&#x27;,\n",
              "       &#x27;Personal  Loan&#x27;, &#x27;Communication Type&#x27;, &#x27;Last Contacted&#x27;, &#x27;Day of Week&#x27;,\n",
              "       &#x27;PC Outcome&#x27;],\n",
              "      dtype=&#x27;object&#x27;))])),\n",
              "                (&#x27;logisticregression&#x27;, LogisticRegression(C=5, n_jobs=-1))])</pre></div></div></div><div class=\"sk-serial\"><div class=\"sk-item sk-dashed-wrapped\"><div class=\"sk-label-container\"><div class=\"sk-label sk-toggleable\"><input class=\"sk-toggleable__control sk-hidden--visually\" id=\"sk-estimator-id-58\" type=\"checkbox\" ><label for=\"sk-estimator-id-58\" class=\"sk-toggleable__label sk-toggleable__label-arrow\">columntransformer: ColumnTransformer</label><div class=\"sk-toggleable__content\"><pre>ColumnTransformer(transformers=[(&#x27;pipeline-1&#x27;,\n",
              "                                 Pipeline(steps=[(&#x27;imputer&#x27;, SimpleImputer()),\n",
              "                                                 (&#x27;scaler&#x27;, StandardScaler())]),\n",
              "                                 Index([&#x27;Age&#x27;, &#x27;Duration(Sec)&#x27;, &#x27;CC Contact Freq&#x27;, &#x27;Days Since PC&#x27;,\n",
              "       &#x27;PC Contact Freq&#x27;],\n",
              "      dtype=&#x27;object&#x27;)),\n",
              "                                (&#x27;pipeline-2&#x27;,\n",
              "                                 Pipeline(steps=[(&#x27;imputer&#x27;,\n",
              "                                                  SimpleImputer(strategy=&#x27;most_frequent&#x27;)),\n",
              "                                                 (&#x27;onehot&#x27;,\n",
              "                                                  OneHotEncoder(handle_unknown=&#x27;ignore&#x27;))]),\n",
              "                                 Index([&#x27;Job&#x27;, &#x27;Marital Status&#x27;, &#x27;Education&#x27;, &#x27;Defaulter&#x27;, &#x27;Home Loan&#x27;,\n",
              "       &#x27;Personal  Loan&#x27;, &#x27;Communication Type&#x27;, &#x27;Last Contacted&#x27;, &#x27;Day of Week&#x27;,\n",
              "       &#x27;PC Outcome&#x27;],\n",
              "      dtype=&#x27;object&#x27;))])</pre></div></div></div><div class=\"sk-parallel\"><div class=\"sk-parallel-item\"><div class=\"sk-item\"><div class=\"sk-label-container\"><div class=\"sk-label sk-toggleable\"><input class=\"sk-toggleable__control sk-hidden--visually\" id=\"sk-estimator-id-59\" type=\"checkbox\" ><label for=\"sk-estimator-id-59\" class=\"sk-toggleable__label sk-toggleable__label-arrow\">pipeline-1</label><div class=\"sk-toggleable__content\"><pre>Index([&#x27;Age&#x27;, &#x27;Duration(Sec)&#x27;, &#x27;CC Contact Freq&#x27;, &#x27;Days Since PC&#x27;,\n",
              "       &#x27;PC Contact Freq&#x27;],\n",
              "      dtype=&#x27;object&#x27;)</pre></div></div></div><div class=\"sk-serial\"><div class=\"sk-item\"><div class=\"sk-serial\"><div class=\"sk-item\"><div class=\"sk-estimator sk-toggleable\"><input class=\"sk-toggleable__control sk-hidden--visually\" id=\"sk-estimator-id-60\" type=\"checkbox\" ><label for=\"sk-estimator-id-60\" class=\"sk-toggleable__label sk-toggleable__label-arrow\">SimpleImputer</label><div class=\"sk-toggleable__content\"><pre>SimpleImputer()</pre></div></div></div><div class=\"sk-item\"><div class=\"sk-estimator sk-toggleable\"><input class=\"sk-toggleable__control sk-hidden--visually\" id=\"sk-estimator-id-61\" type=\"checkbox\" ><label for=\"sk-estimator-id-61\" class=\"sk-toggleable__label sk-toggleable__label-arrow\">StandardScaler</label><div class=\"sk-toggleable__content\"><pre>StandardScaler()</pre></div></div></div></div></div></div></div></div><div class=\"sk-parallel-item\"><div class=\"sk-item\"><div class=\"sk-label-container\"><div class=\"sk-label sk-toggleable\"><input class=\"sk-toggleable__control sk-hidden--visually\" id=\"sk-estimator-id-62\" type=\"checkbox\" ><label for=\"sk-estimator-id-62\" class=\"sk-toggleable__label sk-toggleable__label-arrow\">pipeline-2</label><div class=\"sk-toggleable__content\"><pre>Index([&#x27;Job&#x27;, &#x27;Marital Status&#x27;, &#x27;Education&#x27;, &#x27;Defaulter&#x27;, &#x27;Home Loan&#x27;,\n",
              "       &#x27;Personal  Loan&#x27;, &#x27;Communication Type&#x27;, &#x27;Last Contacted&#x27;, &#x27;Day of Week&#x27;,\n",
              "       &#x27;PC Outcome&#x27;],\n",
              "      dtype=&#x27;object&#x27;)</pre></div></div></div><div class=\"sk-serial\"><div class=\"sk-item\"><div class=\"sk-serial\"><div class=\"sk-item\"><div class=\"sk-estimator sk-toggleable\"><input class=\"sk-toggleable__control sk-hidden--visually\" id=\"sk-estimator-id-63\" type=\"checkbox\" ><label for=\"sk-estimator-id-63\" class=\"sk-toggleable__label sk-toggleable__label-arrow\">SimpleImputer</label><div class=\"sk-toggleable__content\"><pre>SimpleImputer(strategy=&#x27;most_frequent&#x27;)</pre></div></div></div><div class=\"sk-item\"><div class=\"sk-estimator sk-toggleable\"><input class=\"sk-toggleable__control sk-hidden--visually\" id=\"sk-estimator-id-64\" type=\"checkbox\" ><label for=\"sk-estimator-id-64\" class=\"sk-toggleable__label sk-toggleable__label-arrow\">OneHotEncoder</label><div class=\"sk-toggleable__content\"><pre>OneHotEncoder(handle_unknown=&#x27;ignore&#x27;)</pre></div></div></div></div></div></div></div></div></div></div><div class=\"sk-item\"><div class=\"sk-estimator sk-toggleable\"><input class=\"sk-toggleable__control sk-hidden--visually\" id=\"sk-estimator-id-65\" type=\"checkbox\" ><label for=\"sk-estimator-id-65\" class=\"sk-toggleable__label sk-toggleable__label-arrow\">LogisticRegression</label><div class=\"sk-toggleable__content\"><pre>LogisticRegression(C=5, n_jobs=-1)</pre></div></div></div></div></div></div></div>"
            ]
          },
          "metadata": {},
          "execution_count": 82
        }
      ]
    },
    {
      "cell_type": "code",
      "source": [
        "# Retrieve the mean cross-validated score of the best estimator found during the randomized search cross-validation process.\n",
        "rand_search_cv.best_score_"
      ],
      "metadata": {
        "id": "PL_j1mxxS8hm",
        "outputId": "8b5b89aa-af25-4039-f9ca-8d4c775a1d43",
        "colab": {
          "base_uri": "https://localhost:8080/"
        }
      },
      "execution_count": null,
      "outputs": [
        {
          "output_type": "execute_result",
          "data": {
            "text/plain": [
              "0.9056941662113762"
            ]
          },
          "metadata": {},
          "execution_count": 83
        }
      ]
    },
    {
      "cell_type": "code",
      "source": [
        "# Display the report\n",
        "print(classification_report(ytest, rand_search_cv.best_estimator_.predict(Xtest)))"
      ],
      "metadata": {
        "id": "n06s0FlJUKmN",
        "outputId": "ffed70a6-f45b-475a-de27-a3bd1994214f",
        "colab": {
          "base_uri": "https://localhost:8080/"
        }
      },
      "execution_count": null,
      "outputs": [
        {
          "output_type": "stream",
          "name": "stdout",
          "text": [
            "              precision    recall  f1-score   support\n",
            "\n",
            "           0       0.92      0.98      0.95      7312\n",
            "           1       0.67      0.37      0.47       925\n",
            "\n",
            "    accuracy                           0.91      8237\n",
            "   macro avg       0.80      0.67      0.71      8237\n",
            "weighted avg       0.90      0.91      0.90      8237\n",
            "\n"
          ]
        }
      ]
    },
    {
      "cell_type": "markdown",
      "source": [
        "# Serialization"
      ],
      "metadata": {
        "id": "lqkUvTHzO3UH"
      }
    },
    {
      "cell_type": "code",
      "source": [
        "# This command displays information about the installed version of the scikit-learn library.\n",
        "!pip show scikit-learn"
      ],
      "metadata": {
        "colab": {
          "base_uri": "https://localhost:8080/"
        },
        "id": "q1VtbaO3O1E4",
        "outputId": "0bbc7ded-4274-478c-b3a3-04a02c64b4d4"
      },
      "execution_count": null,
      "outputs": [
        {
          "output_type": "stream",
          "name": "stdout",
          "text": [
            "Name: scikit-learn\n",
            "Version: 1.2.2\n",
            "Summary: A set of python modules for machine learning and data mining\n",
            "Home-page: http://scikit-learn.org\n",
            "Author: \n",
            "Author-email: \n",
            "License: new BSD\n",
            "Location: /usr/local/lib/python3.10/dist-packages\n",
            "Requires: joblib, numpy, scipy, threadpoolctl\n",
            "Required-by: bigframes, fastai, imbalanced-learn, librosa, mlxtend, qudida, sklearn-pandas, yellowbrick\n"
          ]
        }
      ]
    },
    {
      "cell_type": "code",
      "source": [
        "%%writefile requirements.txt\n",
        "scikit-learn==1.2.2"
      ],
      "metadata": {
        "colab": {
          "base_uri": "https://localhost:8080/"
        },
        "id": "2O3H_GLiO6KG",
        "outputId": "c5aa2044-43ae-4008-a694-d03ba2be6588"
      },
      "execution_count": null,
      "outputs": [
        {
          "output_type": "stream",
          "name": "stdout",
          "text": [
            "Overwriting requirements.txt\n"
          ]
        }
      ]
    },
    {
      "cell_type": "markdown",
      "source": [
        "The command %%writefile requirements.txt is a magic command in notebooks that writes the following lines of text to a file named requirements.txt. In this case, it writes scikit-learn==1.2.2, specifying the version of scikit-learn required for the project."
      ],
      "metadata": {
        "id": "4eRbtSrNvg_7"
      }
    },
    {
      "cell_type": "code",
      "source": [
        "%%writefile train.py\n",
        "\n",
        "import joblib\n",
        "import pandas as pd\n",
        "\n",
        "from sklearn.preprocessing import StandardScaler, OneHotEncoder\n",
        "from sklearn.compose import make_column_transformer\n",
        "from sklearn.impute import SimpleImputer\n",
        "from sklearn.pipeline import Pipeline\n",
        "from sklearn.pipeline import make_pipeline\n",
        "\n",
        "from sklearn.model_selection import train_test_split, RandomizedSearchCV\n",
        "\n",
        "from sklearn.linear_model import LogisticRegression\n",
        "from sklearn.metrics import accuracy_score, classification_report\n",
        "\n",
        "data_df = pd.read_csv(\"Bank_Telemarketing.csv\")\n",
        "\n",
        "target = 'subscribed'\n",
        "numerical_features = ['Age', 'Duration(Sec)', 'CC Contact Freq', 'Days Since PC','PC Contact Freq']\n",
        "categorical_features = ['Job', 'Marital Status', 'Education', 'Defaulter', 'Home Loan',\n",
        "       'Personal Loan', 'Communication Type', 'Last Contacted', 'Day of Week',\n",
        "       'PC Outcome']\n",
        "\n",
        "print(\"Creating data subsets\")\n",
        "\n",
        "X = data_df[numerical_features + categorical_features]\n",
        "y = data_df[target]\n",
        "\n",
        "Xtrain, Xtest, ytrain, ytest = train_test_split(\n",
        "    X, y,\n",
        "    test_size=0.2,\n",
        "    random_state=42\n",
        ")\n",
        "\n",
        "numerical_pipeline = Pipeline([\n",
        "    ('imputer', SimpleImputer(strategy='median')),\n",
        "    ('scaler', StandardScaler())\n",
        "])\n",
        "\n",
        "categorical_pipeline = Pipeline([\n",
        "    ('imputer', SimpleImputer(strategy='most_frequent')),\n",
        "    ('onehot', OneHotEncoder(handle_unknown='ignore'))\n",
        "])\n",
        "\n",
        "preprocessor = make_column_transformer(\n",
        "    (numerical_pipeline, numerical_features),\n",
        "    (categorical_pipeline, categorical_features)\n",
        ")\n",
        "\n",
        "model_logistic_regression = LogisticRegression(n_jobs=-1)\n",
        "\n",
        "print(\"Estimating Best Model Pipeline\")\n",
        "\n",
        "model_pipeline = make_pipeline(\n",
        "    preprocessor,\n",
        "    model_logistic_regression\n",
        ")\n",
        "\n",
        "param_distribution = {\n",
        "    \"logisticregression__C\": [0.001, 0.01, 0.1, 0.5, 1, 5, 10]\n",
        "}\n",
        "\n",
        "rand_search_cv = RandomizedSearchCV(\n",
        "    model_pipeline,\n",
        "    param_distribution,\n",
        "    n_iter=3,\n",
        "    cv=3,\n",
        "    random_state=42\n",
        ")\n",
        "\n",
        "rand_search_cv.fit(Xtrain, ytrain)\n",
        "\n",
        "print(\"Logging Metrics\")\n",
        "print(f\"Accuracy: {rand_search_cv.best_score_}\")\n",
        "\n",
        "print(\"Serializing Model\")\n",
        "\n",
        "saved_model_path = \"model.joblib\"\n",
        "\n",
        "joblib.dump(rand_search_cv.best_estimator_, saved_model_path)"
      ],
      "metadata": {
        "colab": {
          "base_uri": "https://localhost:8080/"
        },
        "id": "gAMAcWTYO8_s",
        "outputId": "cb0a327c-4c00-4d7d-e48b-f39870f3c866"
      },
      "execution_count": null,
      "outputs": [
        {
          "output_type": "stream",
          "name": "stdout",
          "text": [
            "Overwriting train.py\n"
          ]
        }
      ]
    },
    {
      "cell_type": "code",
      "source": [
        "# Run the script\n",
        "!python train.py"
      ],
      "metadata": {
        "colab": {
          "base_uri": "https://localhost:8080/"
        },
        "id": "T-JTqunHPckf",
        "outputId": "70b94d9a-ae72-42b3-9d96-b9fe6a121a8d"
      },
      "execution_count": null,
      "outputs": [
        {
          "output_type": "stream",
          "name": "stdout",
          "text": [
            "Creating data subsets\n",
            "Estimating Best Model Pipeline\n",
            "/usr/local/lib/python3.10/dist-packages/sklearn/linear_model/_logistic.py:458: ConvergenceWarning: lbfgs failed to converge (status=1):\n",
            "STOP: TOTAL NO. of ITERATIONS REACHED LIMIT.\n",
            "\n",
            "Increase the number of iterations (max_iter) or scale the data as shown in:\n",
            "    https://scikit-learn.org/stable/modules/preprocessing.html\n",
            "Please also refer to the documentation for alternative solver options:\n",
            "    https://scikit-learn.org/stable/modules/linear_model.html#logistic-regression\n",
            "  n_iter_i = _check_optimize_result(\n",
            "/usr/local/lib/python3.10/dist-packages/sklearn/linear_model/_logistic.py:458: ConvergenceWarning: lbfgs failed to converge (status=1):\n",
            "STOP: TOTAL NO. of ITERATIONS REACHED LIMIT.\n",
            "\n",
            "Increase the number of iterations (max_iter) or scale the data as shown in:\n",
            "    https://scikit-learn.org/stable/modules/preprocessing.html\n",
            "Please also refer to the documentation for alternative solver options:\n",
            "    https://scikit-learn.org/stable/modules/linear_model.html#logistic-regression\n",
            "  n_iter_i = _check_optimize_result(\n",
            "Logging Metrics\n",
            "Accuracy: 0.9056941662113762\n",
            "Serializing Model\n"
          ]
        }
      ]
    },
    {
      "cell_type": "markdown",
      "source": [
        "# Test Predictions"
      ],
      "metadata": {
        "id": "lFC4HfHjMR2G"
      }
    },
    {
      "cell_type": "code",
      "source": [
        "# Load the saved model\n",
        "saved_model = joblib.load(\"model.joblib\")"
      ],
      "metadata": {
        "id": "uNR7Dxj2MTM9"
      },
      "execution_count": null,
      "outputs": []
    },
    {
      "cell_type": "code",
      "source": [
        "# Get the architecture of saved model\n",
        "saved_model"
      ],
      "metadata": {
        "colab": {
          "base_uri": "https://localhost:8080/",
          "height": 227
        },
        "id": "LoPE6PZUM7Uh",
        "outputId": "6f1b55f3-df5f-4636-efc6-888f7e04ec4a"
      },
      "execution_count": null,
      "outputs": [
        {
          "output_type": "execute_result",
          "data": {
            "text/plain": [
              "Pipeline(steps=[('columntransformer',\n",
              "                 ColumnTransformer(transformers=[('pipeline-1',\n",
              "                                                  Pipeline(steps=[('imputer',\n",
              "                                                                   SimpleImputer()),\n",
              "                                                                  ('scaler',\n",
              "                                                                   StandardScaler())]),\n",
              "                                                  ['Age', 'Duration(Sec)',\n",
              "                                                   'CC Contact Freq',\n",
              "                                                   'Days Since PC',\n",
              "                                                   'PC Contact Freq']),\n",
              "                                                 ('pipeline-2',\n",
              "                                                  Pipeline(steps=[('imputer',\n",
              "                                                                   SimpleImputer(strategy='most_frequent')),\n",
              "                                                                  ('onehot',\n",
              "                                                                   OneHotEncoder(handle_unknown='ignore'))]),\n",
              "                                                  ['Job', 'Marital Status',\n",
              "                                                   'Education', 'Defaulter',\n",
              "                                                   'Home Loan',\n",
              "                                                   'Personal  Loan',\n",
              "                                                   'Communication Type',\n",
              "                                                   'Last Contacted',\n",
              "                                                   'Day of Week',\n",
              "                                                   'PC Outcome'])])),\n",
              "                ('logisticregression', LogisticRegression(C=5, n_jobs=-1))])"
            ],
            "text/html": [
              "<style>#sk-container-id-9 {color: black;background-color: white;}#sk-container-id-9 pre{padding: 0;}#sk-container-id-9 div.sk-toggleable {background-color: white;}#sk-container-id-9 label.sk-toggleable__label {cursor: pointer;display: block;width: 100%;margin-bottom: 0;padding: 0.3em;box-sizing: border-box;text-align: center;}#sk-container-id-9 label.sk-toggleable__label-arrow:before {content: \"▸\";float: left;margin-right: 0.25em;color: #696969;}#sk-container-id-9 label.sk-toggleable__label-arrow:hover:before {color: black;}#sk-container-id-9 div.sk-estimator:hover label.sk-toggleable__label-arrow:before {color: black;}#sk-container-id-9 div.sk-toggleable__content {max-height: 0;max-width: 0;overflow: hidden;text-align: left;background-color: #f0f8ff;}#sk-container-id-9 div.sk-toggleable__content pre {margin: 0.2em;color: black;border-radius: 0.25em;background-color: #f0f8ff;}#sk-container-id-9 input.sk-toggleable__control:checked~div.sk-toggleable__content {max-height: 200px;max-width: 100%;overflow: auto;}#sk-container-id-9 input.sk-toggleable__control:checked~label.sk-toggleable__label-arrow:before {content: \"▾\";}#sk-container-id-9 div.sk-estimator input.sk-toggleable__control:checked~label.sk-toggleable__label {background-color: #d4ebff;}#sk-container-id-9 div.sk-label input.sk-toggleable__control:checked~label.sk-toggleable__label {background-color: #d4ebff;}#sk-container-id-9 input.sk-hidden--visually {border: 0;clip: rect(1px 1px 1px 1px);clip: rect(1px, 1px, 1px, 1px);height: 1px;margin: -1px;overflow: hidden;padding: 0;position: absolute;width: 1px;}#sk-container-id-9 div.sk-estimator {font-family: monospace;background-color: #f0f8ff;border: 1px dotted black;border-radius: 0.25em;box-sizing: border-box;margin-bottom: 0.5em;}#sk-container-id-9 div.sk-estimator:hover {background-color: #d4ebff;}#sk-container-id-9 div.sk-parallel-item::after {content: \"\";width: 100%;border-bottom: 1px solid gray;flex-grow: 1;}#sk-container-id-9 div.sk-label:hover label.sk-toggleable__label {background-color: #d4ebff;}#sk-container-id-9 div.sk-serial::before {content: \"\";position: absolute;border-left: 1px solid gray;box-sizing: border-box;top: 0;bottom: 0;left: 50%;z-index: 0;}#sk-container-id-9 div.sk-serial {display: flex;flex-direction: column;align-items: center;background-color: white;padding-right: 0.2em;padding-left: 0.2em;position: relative;}#sk-container-id-9 div.sk-item {position: relative;z-index: 1;}#sk-container-id-9 div.sk-parallel {display: flex;align-items: stretch;justify-content: center;background-color: white;position: relative;}#sk-container-id-9 div.sk-item::before, #sk-container-id-9 div.sk-parallel-item::before {content: \"\";position: absolute;border-left: 1px solid gray;box-sizing: border-box;top: 0;bottom: 0;left: 50%;z-index: -1;}#sk-container-id-9 div.sk-parallel-item {display: flex;flex-direction: column;z-index: 1;position: relative;background-color: white;}#sk-container-id-9 div.sk-parallel-item:first-child::after {align-self: flex-end;width: 50%;}#sk-container-id-9 div.sk-parallel-item:last-child::after {align-self: flex-start;width: 50%;}#sk-container-id-9 div.sk-parallel-item:only-child::after {width: 0;}#sk-container-id-9 div.sk-dashed-wrapped {border: 1px dashed gray;margin: 0 0.4em 0.5em 0.4em;box-sizing: border-box;padding-bottom: 0.4em;background-color: white;}#sk-container-id-9 div.sk-label label {font-family: monospace;font-weight: bold;display: inline-block;line-height: 1.2em;}#sk-container-id-9 div.sk-label-container {text-align: center;}#sk-container-id-9 div.sk-container {/* jupyter's `normalize.less` sets `[hidden] { display: none; }` but bootstrap.min.css set `[hidden] { display: none !important; }` so we also need the `!important` here to be able to override the default hidden behavior on the sphinx rendered scikit-learn.org. See: https://github.com/scikit-learn/scikit-learn/issues/21755 */display: inline-block !important;position: relative;}#sk-container-id-9 div.sk-text-repr-fallback {display: none;}</style><div id=\"sk-container-id-9\" class=\"sk-top-container\"><div class=\"sk-text-repr-fallback\"><pre>Pipeline(steps=[(&#x27;columntransformer&#x27;,\n",
              "                 ColumnTransformer(transformers=[(&#x27;pipeline-1&#x27;,\n",
              "                                                  Pipeline(steps=[(&#x27;imputer&#x27;,\n",
              "                                                                   SimpleImputer()),\n",
              "                                                                  (&#x27;scaler&#x27;,\n",
              "                                                                   StandardScaler())]),\n",
              "                                                  [&#x27;Age&#x27;, &#x27;Duration(Sec)&#x27;,\n",
              "                                                   &#x27;CC Contact Freq&#x27;,\n",
              "                                                   &#x27;Days Since PC&#x27;,\n",
              "                                                   &#x27;PC Contact Freq&#x27;]),\n",
              "                                                 (&#x27;pipeline-2&#x27;,\n",
              "                                                  Pipeline(steps=[(&#x27;imputer&#x27;,\n",
              "                                                                   SimpleImputer(strategy=&#x27;most_frequent&#x27;)),\n",
              "                                                                  (&#x27;onehot&#x27;,\n",
              "                                                                   OneHotEncoder(handle_unknown=&#x27;ignore&#x27;))]),\n",
              "                                                  [&#x27;Job&#x27;, &#x27;Marital Status&#x27;,\n",
              "                                                   &#x27;Education&#x27;, &#x27;Defaulter&#x27;,\n",
              "                                                   &#x27;Home Loan&#x27;,\n",
              "                                                   &#x27;Personal  Loan&#x27;,\n",
              "                                                   &#x27;Communication Type&#x27;,\n",
              "                                                   &#x27;Last Contacted&#x27;,\n",
              "                                                   &#x27;Day of Week&#x27;,\n",
              "                                                   &#x27;PC Outcome&#x27;])])),\n",
              "                (&#x27;logisticregression&#x27;, LogisticRegression(C=5, n_jobs=-1))])</pre><b>In a Jupyter environment, please rerun this cell to show the HTML representation or trust the notebook. <br />On GitHub, the HTML representation is unable to render, please try loading this page with nbviewer.org.</b></div><div class=\"sk-container\" hidden><div class=\"sk-item sk-dashed-wrapped\"><div class=\"sk-label-container\"><div class=\"sk-label sk-toggleable\"><input class=\"sk-toggleable__control sk-hidden--visually\" id=\"sk-estimator-id-75\" type=\"checkbox\" ><label for=\"sk-estimator-id-75\" class=\"sk-toggleable__label sk-toggleable__label-arrow\">Pipeline</label><div class=\"sk-toggleable__content\"><pre>Pipeline(steps=[(&#x27;columntransformer&#x27;,\n",
              "                 ColumnTransformer(transformers=[(&#x27;pipeline-1&#x27;,\n",
              "                                                  Pipeline(steps=[(&#x27;imputer&#x27;,\n",
              "                                                                   SimpleImputer()),\n",
              "                                                                  (&#x27;scaler&#x27;,\n",
              "                                                                   StandardScaler())]),\n",
              "                                                  [&#x27;Age&#x27;, &#x27;Duration(Sec)&#x27;,\n",
              "                                                   &#x27;CC Contact Freq&#x27;,\n",
              "                                                   &#x27;Days Since PC&#x27;,\n",
              "                                                   &#x27;PC Contact Freq&#x27;]),\n",
              "                                                 (&#x27;pipeline-2&#x27;,\n",
              "                                                  Pipeline(steps=[(&#x27;imputer&#x27;,\n",
              "                                                                   SimpleImputer(strategy=&#x27;most_frequent&#x27;)),\n",
              "                                                                  (&#x27;onehot&#x27;,\n",
              "                                                                   OneHotEncoder(handle_unknown=&#x27;ignore&#x27;))]),\n",
              "                                                  [&#x27;Job&#x27;, &#x27;Marital Status&#x27;,\n",
              "                                                   &#x27;Education&#x27;, &#x27;Defaulter&#x27;,\n",
              "                                                   &#x27;Home Loan&#x27;,\n",
              "                                                   &#x27;Personal  Loan&#x27;,\n",
              "                                                   &#x27;Communication Type&#x27;,\n",
              "                                                   &#x27;Last Contacted&#x27;,\n",
              "                                                   &#x27;Day of Week&#x27;,\n",
              "                                                   &#x27;PC Outcome&#x27;])])),\n",
              "                (&#x27;logisticregression&#x27;, LogisticRegression(C=5, n_jobs=-1))])</pre></div></div></div><div class=\"sk-serial\"><div class=\"sk-item sk-dashed-wrapped\"><div class=\"sk-label-container\"><div class=\"sk-label sk-toggleable\"><input class=\"sk-toggleable__control sk-hidden--visually\" id=\"sk-estimator-id-76\" type=\"checkbox\" ><label for=\"sk-estimator-id-76\" class=\"sk-toggleable__label sk-toggleable__label-arrow\">columntransformer: ColumnTransformer</label><div class=\"sk-toggleable__content\"><pre>ColumnTransformer(transformers=[(&#x27;pipeline-1&#x27;,\n",
              "                                 Pipeline(steps=[(&#x27;imputer&#x27;, SimpleImputer()),\n",
              "                                                 (&#x27;scaler&#x27;, StandardScaler())]),\n",
              "                                 [&#x27;Age&#x27;, &#x27;Duration(Sec)&#x27;, &#x27;CC Contact Freq&#x27;,\n",
              "                                  &#x27;Days Since PC&#x27;, &#x27;PC Contact Freq&#x27;]),\n",
              "                                (&#x27;pipeline-2&#x27;,\n",
              "                                 Pipeline(steps=[(&#x27;imputer&#x27;,\n",
              "                                                  SimpleImputer(strategy=&#x27;most_frequent&#x27;)),\n",
              "                                                 (&#x27;onehot&#x27;,\n",
              "                                                  OneHotEncoder(handle_unknown=&#x27;ignore&#x27;))]),\n",
              "                                 [&#x27;Job&#x27;, &#x27;Marital Status&#x27;, &#x27;Education&#x27;,\n",
              "                                  &#x27;Defaulter&#x27;, &#x27;Home Loan&#x27;, &#x27;Personal  Loan&#x27;,\n",
              "                                  &#x27;Communication Type&#x27;, &#x27;Last Contacted&#x27;,\n",
              "                                  &#x27;Day of Week&#x27;, &#x27;PC Outcome&#x27;])])</pre></div></div></div><div class=\"sk-parallel\"><div class=\"sk-parallel-item\"><div class=\"sk-item\"><div class=\"sk-label-container\"><div class=\"sk-label sk-toggleable\"><input class=\"sk-toggleable__control sk-hidden--visually\" id=\"sk-estimator-id-77\" type=\"checkbox\" ><label for=\"sk-estimator-id-77\" class=\"sk-toggleable__label sk-toggleable__label-arrow\">pipeline-1</label><div class=\"sk-toggleable__content\"><pre>[&#x27;Age&#x27;, &#x27;Duration(Sec)&#x27;, &#x27;CC Contact Freq&#x27;, &#x27;Days Since PC&#x27;, &#x27;PC Contact Freq&#x27;]</pre></div></div></div><div class=\"sk-serial\"><div class=\"sk-item\"><div class=\"sk-serial\"><div class=\"sk-item\"><div class=\"sk-estimator sk-toggleable\"><input class=\"sk-toggleable__control sk-hidden--visually\" id=\"sk-estimator-id-78\" type=\"checkbox\" ><label for=\"sk-estimator-id-78\" class=\"sk-toggleable__label sk-toggleable__label-arrow\">SimpleImputer</label><div class=\"sk-toggleable__content\"><pre>SimpleImputer()</pre></div></div></div><div class=\"sk-item\"><div class=\"sk-estimator sk-toggleable\"><input class=\"sk-toggleable__control sk-hidden--visually\" id=\"sk-estimator-id-79\" type=\"checkbox\" ><label for=\"sk-estimator-id-79\" class=\"sk-toggleable__label sk-toggleable__label-arrow\">StandardScaler</label><div class=\"sk-toggleable__content\"><pre>StandardScaler()</pre></div></div></div></div></div></div></div></div><div class=\"sk-parallel-item\"><div class=\"sk-item\"><div class=\"sk-label-container\"><div class=\"sk-label sk-toggleable\"><input class=\"sk-toggleable__control sk-hidden--visually\" id=\"sk-estimator-id-80\" type=\"checkbox\" ><label for=\"sk-estimator-id-80\" class=\"sk-toggleable__label sk-toggleable__label-arrow\">pipeline-2</label><div class=\"sk-toggleable__content\"><pre>[&#x27;Job&#x27;, &#x27;Marital Status&#x27;, &#x27;Education&#x27;, &#x27;Defaulter&#x27;, &#x27;Home Loan&#x27;, &#x27;Personal  Loan&#x27;, &#x27;Communication Type&#x27;, &#x27;Last Contacted&#x27;, &#x27;Day of Week&#x27;, &#x27;PC Outcome&#x27;]</pre></div></div></div><div class=\"sk-serial\"><div class=\"sk-item\"><div class=\"sk-serial\"><div class=\"sk-item\"><div class=\"sk-estimator sk-toggleable\"><input class=\"sk-toggleable__control sk-hidden--visually\" id=\"sk-estimator-id-81\" type=\"checkbox\" ><label for=\"sk-estimator-id-81\" class=\"sk-toggleable__label sk-toggleable__label-arrow\">SimpleImputer</label><div class=\"sk-toggleable__content\"><pre>SimpleImputer(strategy=&#x27;most_frequent&#x27;)</pre></div></div></div><div class=\"sk-item\"><div class=\"sk-estimator sk-toggleable\"><input class=\"sk-toggleable__control sk-hidden--visually\" id=\"sk-estimator-id-82\" type=\"checkbox\" ><label for=\"sk-estimator-id-82\" class=\"sk-toggleable__label sk-toggleable__label-arrow\">OneHotEncoder</label><div class=\"sk-toggleable__content\"><pre>OneHotEncoder(handle_unknown=&#x27;ignore&#x27;)</pre></div></div></div></div></div></div></div></div></div></div><div class=\"sk-item\"><div class=\"sk-estimator sk-toggleable\"><input class=\"sk-toggleable__control sk-hidden--visually\" id=\"sk-estimator-id-83\" type=\"checkbox\" ><label for=\"sk-estimator-id-83\" class=\"sk-toggleable__label sk-toggleable__label-arrow\">LogisticRegression</label><div class=\"sk-toggleable__content\"><pre>LogisticRegression(C=5, n_jobs=-1)</pre></div></div></div></div></div></div></div>"
            ]
          },
          "metadata": {},
          "execution_count": 98
        }
      ]
    },
    {
      "cell_type": "code",
      "source": [
        "# Make predictions on the test data\n",
        "saved_model.predict(Xtest)"
      ],
      "metadata": {
        "colab": {
          "base_uri": "https://localhost:8080/"
        },
        "id": "MzpxBjtSM9f-",
        "outputId": "39dd60d0-f340-4337-8aec-b3d2ca622ac5"
      },
      "execution_count": null,
      "outputs": [
        {
          "output_type": "execute_result",
          "data": {
            "text/plain": [
              "array([1, 0, 0, ..., 0, 0, 1])"
            ]
          },
          "metadata": {},
          "execution_count": 99
        }
      ]
    },
    {
      "cell_type": "markdown",
      "source": [
        "## Power Ahead!"
      ],
      "metadata": {
        "id": "vyWwQW__hIXs"
      }
    }
  ],
  "metadata": {
    "application/vnd.databricks.v1+notebook": {
      "dashboards": [],
      "language": "python",
      "notebookMetadata": {
        "pythonIndentUnit": 4
      },
      "notebookName": "machine_failure_prediction",
      "widgets": {}
    },
    "colab": {
      "provenance": []
    },
    "language_info": {
      "name": "python"
    },
    "kernelspec": {
      "name": "python3",
      "display_name": "Python 3"
    }
  },
  "nbformat": 4,
  "nbformat_minor": 0
}