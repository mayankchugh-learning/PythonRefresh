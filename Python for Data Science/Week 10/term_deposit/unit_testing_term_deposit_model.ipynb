{
 "cells": [
  {
   "cell_type": "markdown",
   "metadata": {
    "id": "zP1JzlQMSTg6"
   },
   "source": [
    "# Term Deposit Prediction - Unit Testing\n",
    "Present an overview of tests to be conducted before a containerized model is released for deployment."
   ]
  },
  {
   "cell_type": "markdown",
   "metadata": {
    "id": "jEVa0FtsSGhm"
   },
   "source": [
    "# Setup"
   ]
  },
  {
   "cell_type": "code",
   "execution_count": null,
   "metadata": {
    "colab": {
     "base_uri": "https://localhost:8080/"
    },
    "executionInfo": {
     "elapsed": 9290,
     "status": "ok",
     "timestamp": 1713531576140,
     "user": {
      "displayName": "Praneeth Kumar",
      "userId": "00144813861466085627"
     },
     "user_tz": -330
    },
    "id": "tIQG_KE1RS6Z",
    "outputId": "041a2dd0-a9a6-4ec4-a19d-b7d932b15836"
   },
   "outputs": [
    {
     "name": "stdout",
     "output_type": "stream",
     "text": [
      "\u001b[2K     \u001b[90m━━━━━━━━━━━━━━━━━━━━━━━━━━━━━━━━━━━━━━━━\u001b[0m \u001b[32m313.6/313.6 kB\u001b[0m \u001b[31m4.1 MB/s\u001b[0m eta \u001b[36m0:00:00\u001b[0m\n",
      "\u001b[2K     \u001b[90m━━━━━━━━━━━━━━━━━━━━━━━━━━━━━━━━━━━━━━━━\u001b[0m \u001b[32m75.6/75.6 kB\u001b[0m \u001b[31m6.6 MB/s\u001b[0m eta \u001b[36m0:00:00\u001b[0m\n",
      "\u001b[2K     \u001b[90m━━━━━━━━━━━━━━━━━━━━━━━━━━━━━━━━━━━━━━━━\u001b[0m \u001b[32m129.9/129.9 kB\u001b[0m \u001b[31m7.9 MB/s\u001b[0m eta \u001b[36m0:00:00\u001b[0m\n",
      "\u001b[2K     \u001b[90m━━━━━━━━━━━━━━━━━━━━━━━━━━━━━━━━━━━━━━━━\u001b[0m \u001b[32m77.9/77.9 kB\u001b[0m \u001b[31m7.9 MB/s\u001b[0m eta \u001b[36m0:00:00\u001b[0m\n",
      "\u001b[2K     \u001b[90m━━━━━━━━━━━━━━━━━━━━━━━━━━━━━━━━━━━━━━━━\u001b[0m \u001b[32m58.3/58.3 kB\u001b[0m \u001b[31m5.0 MB/s\u001b[0m eta \u001b[36m0:00:00\u001b[0m\n",
      "\u001b[?25h"
     ]
    }
   ],
   "source": [
    "# Install the gradio_client package\n",
    "!pip install -q gradio_client"
   ]
  },
  {
   "cell_type": "code",
   "execution_count": null,
   "metadata": {
    "id": "doHAgE2LRiQz"
   },
   "outputs": [],
   "source": [
    "# Import necessary libraries\n",
    "from gradio_client import Client  # Import the Gradio client for interacting with Gradio interfaces\n",
    "from sklearn.model_selection import train_test_split  # Import train_test_split for splitting datasets\n",
    "from sklearn.metrics import classification_report  # Import classification_report for model evaluation\n",
    "from tqdm import tqdm  # Import tqdm for progress bars"
   ]
  },
  {
   "cell_type": "code",
   "execution_count": null,
   "metadata": {
    "colab": {
     "base_uri": "https://localhost:8080/"
    },
    "executionInfo": {
     "elapsed": 3103,
     "status": "ok",
     "timestamp": 1713531596654,
     "user": {
      "displayName": "Praneeth Kumar",
      "userId": "00144813861466085627"
     },
     "user_tz": -330
    },
    "id": "OpABIcusRvEa",
    "outputId": "7493bf35-6634-4be2-88bb-e9daa09e5ef4"
   },
   "outputs": [
    {
     "name": "stderr",
     "output_type": "stream",
     "text": [
      "/usr/local/lib/python3.10/dist-packages/huggingface_hub/utils/_token.py:88: UserWarning: \n",
      "The secret `HF_TOKEN` does not exist in your Colab secrets.\n",
      "To authenticate with the Hugging Face Hub, create a token in your settings tab (https://huggingface.co/settings/tokens), set it as secret in your Google Colab and restart your session.\n",
      "You will be able to reuse this secret in all of your notebooks.\n",
      "Please note that authentication is recommended but still optional to access public models or datasets.\n",
      "  warnings.warn(\n"
     ]
    },
    {
     "name": "stdout",
     "output_type": "stream",
     "text": [
      "Loaded as API: https://praneeth232-tele-test.hf.space ✔\n"
     ]
    }
   ],
   "source": [
    "client = Client(\"---PASTE THE Gradio APP API Link--------\")"
   ]
  },
  {
   "cell_type": "markdown",
   "metadata": {
    "id": "OHo1oI7KVzYb"
   },
   "source": [
    "# Baseline Checks"
   ]
  },
  {
   "cell_type": "markdown",
   "metadata": {
    "id": "EKUB01C0WAyj"
   },
   "source": [
    "Test Data"
   ]
  },
  {
   "cell_type": "code",
   "execution_count": null,
   "metadata": {
    "id": "VCzBR-eMWC2W"
   },
   "outputs": [],
   "source": [
    "import pandas as pd  # Import pandas for data manipulation\n",
    "from sklearn.model_selection import train_test_split  # Import train_test_split for splitting datasets\n",
    "\n",
    "# Read the dataset from the CSV file into a DataFrame\n",
    "data_df = pd.read_csv(\"Bank_Telemarketing.csv\")\n",
    "\n",
    "# Drop the specified columns from the DataFrame\n",
    "data_df = data_df.drop(columns=['customer_id', 'email_id', 'first_name', 'last_name'])\n",
    "\n",
    "# Define numerical and categorical feature columns\n",
    "numerical_features = data_df[['Age', 'Duration(Sec)', 'CC Contact Freq', 'Days Since PC', 'PC Contact Freq']].columns\n",
    "categorical_features = data_df.select_dtypes(include=['object']).columns\n",
    "\n",
    "# Separate features (X) and target variable (y)\n",
    "X = data_df.drop('subscribed', axis=1)\n",
    "y = data_df['subscribed']\n",
    "\n",
    "# Split the dataset into training and testing sets\n",
    "Xtrain, Xtest, ytrain, ytest = train_test_split(\n",
    "    X, y,\n",
    "    test_size=0.2,\n",
    "    random_state=42\n",
    ")\n",
    "\n",
    "# Rearrange the columns in to numerical and categorical features\n",
    "Xtest = Xtest[['Age', 'Duration(Sec)', 'CC Contact Freq', 'Days Since PC',\n",
    "               'PC Contact Freq','Job', 'Marital Status', 'Education', 'Defaulter', 'Home Loan',\n",
    "               'Personal Loan', 'Communication Type', 'Last Contacted', 'Day of Week',\n",
    "               'PC Outcome']]\n",
    "\n",
    "\n",
    "# Randomly sample 100 rows from the testing features dataset\n",
    "Xtest_sample = Xtest.sample(100)\n",
    "ytest_sample = ytest.loc[Xtest_sample.index]\n",
    "\n",
    "# Convert the sampled rows from the DataFrame to a list of tuples\n",
    "Xtest_sample_rows = list(Xtest_sample.itertuples(index=False, name=None))"
   ]
  },
  {
   "cell_type": "markdown",
   "metadata": {
    "id": "mhF9vyYc_g7x"
   },
   "source": [
    "Predictions on the test data"
   ]
  },
  {
   "cell_type": "code",
   "execution_count": null,
   "metadata": {
    "colab": {
     "base_uri": "https://localhost:8080/"
    },
    "executionInfo": {
     "elapsed": 38351,
     "status": "ok",
     "timestamp": 1713531731455,
     "user": {
      "displayName": "Praneeth Kumar",
      "userId": "00144813861466085627"
     },
     "user_tz": -330
    },
    "id": "q8ZKCrLI8ojC",
    "outputId": "c4aa0bdb-b14c-4935-ccf1-9a65805322da"
   },
   "outputs": [
    {
     "name": "stderr",
     "output_type": "stream",
     "text": [
      "100%|██████████| 100/100 [00:38<00:00,  2.62it/s]\n"
     ]
    }
   ],
   "source": [
    "# Initialize an empty list to store baseline test predictions\n",
    "baseline_test_predictions = []\n",
    "\n",
    "# Iterate through the sampled rows and submit prediction requests to the Gradio interface\n",
    "for row in tqdm(Xtest_sample_rows):\n",
    "    try:\n",
    "        # Submit a prediction request for the current row\n",
    "        job = client.submit(\n",
    "            age=row[0],\n",
    "            duration=row[1],\n",
    "            cc_contact_freq=row[2],\n",
    "            days_since_pc=row[3],\n",
    "            pc_contact_freq=row[4],\n",
    "            job=row[5],\n",
    "            marital_status=row[6],\n",
    "            education=row[7],\n",
    "            defaulter=row[8],\n",
    "            home_loan=row[9],\n",
    "            personal_loan=row[10],\n",
    "            communication_type=row[11],\n",
    "            last_contacted=row[12],\n",
    "            day_of_week=row[13],\n",
    "            pc_outcome=row[14],\n",
    "            api_name=\"/predict\"\n",
    "        )\n",
    "\n",
    "        # Get the prediction result and append it to baseline_test_predictions\n",
    "        prediction = job.result()['label']\n",
    "        baseline_test_predictions.append(int(prediction))\n",
    "\n",
    "    except Exception as e:\n",
    "        # Print any exceptions that occur during prediction\n",
    "        print(e)"
   ]
  },
  {
   "cell_type": "markdown",
   "metadata": {
    "id": "QCoDzuji_imC"
   },
   "source": [
    "Estimation of accuracy on the test sample."
   ]
  },
  {
   "cell_type": "code",
   "execution_count": null,
   "metadata": {
    "colab": {
     "base_uri": "https://localhost:8080/"
    },
    "executionInfo": {
     "elapsed": 393,
     "status": "ok",
     "timestamp": 1713531735803,
     "user": {
      "displayName": "Praneeth Kumar",
      "userId": "00144813861466085627"
     },
     "user_tz": -330
    },
    "id": "00rW-LbEBxJC",
    "outputId": "9ca89988-106b-4d9c-80fb-11a677d74b65"
   },
   "outputs": [
    {
     "name": "stdout",
     "output_type": "stream",
     "text": [
      "              precision    recall  f1-score   support\n",
      "\n",
      "           0       0.90      0.98      0.94        87\n",
      "           1       0.67      0.31      0.42        13\n",
      "\n",
      "    accuracy                           0.89       100\n",
      "   macro avg       0.79      0.64      0.68       100\n",
      "weighted avg       0.87      0.89      0.87       100\n",
      "\n"
     ]
    }
   ],
   "source": [
    "# Print the classification report comparing ytest_sample and baseline_test_predictions\n",
    "print(classification_report(ytest_sample, baseline_test_predictions))"
   ]
  },
  {
   "cell_type": "markdown",
   "metadata": {
    "id": "aBtvtTxqCAsg"
   },
   "source": [
    "If the F1-score is more than the existing baseline (human or a previous model version), we move on to unit tests."
   ]
  },
  {
   "cell_type": "markdown",
   "metadata": {
    "id": "yaBunB6fxjoA"
   },
   "source": [
    "## Test your understanding\n",
    "\n",
    "What are the consequences of deploying a machine learning model to production without undergoing unit testing?\n",
    "\n",
    "- The model will perform optimally and achieve high accuracy\n",
    "- The model may produce incorrect predictions due to undetected bugs\n",
    "- The model will automatically fix any issues during deployment\n",
    "- Unit testing is not necessary for machine learning models."
   ]
  },
  {
   "cell_type": "markdown",
   "metadata": {
    "id": "UYQ9dFH1Sifk"
   },
   "source": [
    "# Unit Tests"
   ]
  },
  {
   "cell_type": "markdown",
   "metadata": {
    "id": "9ODYyMxQSset"
   },
   "source": [
    "## Perturbation tests"
   ]
  },
  {
   "cell_type": "markdown",
   "metadata": {
    "id": "XwyF7v1AUNAJ"
   },
   "source": [
    "*Baseline*"
   ]
  },
  {
   "cell_type": "code",
   "execution_count": null,
   "metadata": {
    "id": "OnTktOwFRyJC"
   },
   "outputs": [],
   "source": [
    "# Submit a prediction request to the Gradio interface with the given input values\n",
    "job = client.submit(\n",
    "    age=3,\n",
    "\t\tduration=3,\n",
    "\t\tcc_contact_freq=3,\n",
    "\t\tdays_since_pc=3,\n",
    "\t\tpc_contact_freq=3,\n",
    "\t\tjob=\"admin.\",\n",
    "\t\tmarital_status=\"married\",\n",
    "\t\teducation=\"experience\",\n",
    "\t\tdefaulter=\"no\",\n",
    "\t\thome_loan=\"yes\",\n",
    "\t\tpersonal_loan=\"yes\",\n",
    "\t\tcommunication_type=\"cellular\",\n",
    "\t\tlast_contacted=\"may\",\n",
    "\t\tday_of_week=\"thu\",\n",
    "\t\tpc_outcome=\"nonexistent\",\n",
    "    api_name=\"/predict\"\n",
    ")"
   ]
  },
  {
   "cell_type": "code",
   "execution_count": null,
   "metadata": {
    "colab": {
     "base_uri": "https://localhost:8080/"
    },
    "executionInfo": {
     "elapsed": 2,
     "status": "ok",
     "timestamp": 1713531789750,
     "user": {
      "displayName": "Praneeth Kumar",
      "userId": "00144813861466085627"
     },
     "user_tz": -330
    },
    "id": "RTGtOIptR2rr",
    "outputId": "9506d0aa-ad82-431a-e10e-21bd27741896"
   },
   "outputs": [
    {
     "name": "stdout",
     "output_type": "stream",
     "text": [
      "0\n"
     ]
    }
   ],
   "source": [
    "print(job.result()['label'])"
   ]
  },
  {
   "cell_type": "markdown",
   "metadata": {
    "id": "g_N9bnY1UUug"
   },
   "source": [
    "*Test (perturbed baseline)*"
   ]
  },
  {
   "cell_type": "code",
   "execution_count": null,
   "metadata": {
    "id": "797YohbXUWLe"
   },
   "outputs": [],
   "source": [
    "job = client.submit(\n",
    "    age=4,\n",
    "\t\tduration=4,\n",
    "\t\tcc_contact_freq=3,\n",
    "\t\tdays_since_pc=3,\n",
    "\t\tpc_contact_freq=3,\n",
    "\t\tjob=\"admin.\",\n",
    "\t\tmarital_status=\"married\",\n",
    "\t\teducation=\"experience\",\n",
    "\t\tdefaulter=\"no\",\n",
    "\t\thome_loan=\"yes\",\n",
    "\t\tpersonal_loan=\"yes\",\n",
    "\t\tcommunication_type=\"cellular\",\n",
    "\t\tlast_contacted=\"may\",\n",
    "\t\tday_of_week=\"thu\",\n",
    "\t\tpc_outcome=\"nonexistent\",\n",
    "    api_name=\"/predict\"\n",
    ")"
   ]
  },
  {
   "cell_type": "code",
   "execution_count": null,
   "metadata": {
    "colab": {
     "base_uri": "https://localhost:8080/"
    },
    "executionInfo": {
     "elapsed": 3,
     "status": "ok",
     "timestamp": 1713531841133,
     "user": {
      "displayName": "Praneeth Kumar",
      "userId": "00144813861466085627"
     },
     "user_tz": -330
    },
    "id": "dsSSrjx7UZDE",
    "outputId": "421c76f3-fc1f-4f23-fdf9-e05dd7a7b9ed"
   },
   "outputs": [
    {
     "name": "stdout",
     "output_type": "stream",
     "text": [
      "0\n"
     ]
    }
   ],
   "source": [
    "print(job.result()['label'])"
   ]
  },
  {
   "cell_type": "markdown",
   "metadata": {
    "id": "-L2a6PS_CPkG"
   },
   "source": [
    "Output in the above cell indicates that the model is robust to minor variations in duration also with age"
   ]
  },
  {
   "cell_type": "markdown",
   "metadata": {
    "id": "jJncHf4GUg0k"
   },
   "source": [
    "# Known edge-cases (criticial subgroups)"
   ]
  },
  {
   "cell_type": "markdown",
   "metadata": {
    "id": "1oUMrDMCUwAi"
   },
   "source": [
    "*Critical equipment state (known failure test case)*"
   ]
  },
  {
   "cell_type": "markdown",
   "metadata": {
    "id": "QL375h4NC7Ut"
   },
   "source": [
    "In this scenario, a known edge case is that when a client spend 300 sec call coversation to make the customer purchase the subscription .Let us see if the model can recognize this success state."
   ]
  },
  {
   "cell_type": "code",
   "execution_count": null,
   "metadata": {
    "id": "kmHUHwvNU0aX"
   },
   "outputs": [],
   "source": [
    "job = client.submit(\n",
    "    age=3,\n",
    "\t\tduration=390,\n",
    "\t\tcc_contact_freq=3,\n",
    "\t\tdays_since_pc=3,\n",
    "\t\tpc_contact_freq=3,\n",
    "\t\tjob=\"admin.\",\n",
    "\t\tmarital_status=\"married\",\n",
    "\t\teducation=\"experience\",\n",
    "\t\tdefaulter=\"no\",\n",
    "\t\thome_loan=\"yes\",\n",
    "\t\tpersonal_loan=\"yes\",\n",
    "\t\tcommunication_type=\"cellular\",\n",
    "\t\tlast_contacted=\"may\",\n",
    "\t\tday_of_week=\"thu\",\n",
    "\t\tpc_outcome=\"success\",\n",
    ")"
   ]
  },
  {
   "cell_type": "code",
   "execution_count": null,
   "metadata": {
    "colab": {
     "base_uri": "https://localhost:8080/"
    },
    "executionInfo": {
     "elapsed": 4,
     "status": "ok",
     "timestamp": 1713531939549,
     "user": {
      "displayName": "Praneeth Kumar",
      "userId": "00144813861466085627"
     },
     "user_tz": -330
    },
    "id": "9uNLOqyVU7ND",
    "outputId": "3933e9d2-af1d-4e51-86b4-0ce038a768a6"
   },
   "outputs": [
    {
     "name": "stdout",
     "output_type": "stream",
     "text": [
      "1\n"
     ]
    }
   ],
   "source": [
    "print(job.result()['label'])"
   ]
  },
  {
   "cell_type": "markdown",
   "metadata": {
    "id": "O-FgrREgCbc9"
   },
   "source": [
    "Output in the above cell indiates that the model is able to correctly predict the success of a known edge case"
   ]
  },
  {
   "cell_type": "markdown",
   "metadata": {
    "id": "3rPZOLsxDmeL"
   },
   "source": [
    "More instances of such unit tests could be facilitated by presenting a simple interface to the tester like so:"
   ]
  },
  {
   "cell_type": "code",
   "execution_count": null,
   "metadata": {
    "cellView": "form",
    "colab": {
     "base_uri": "https://localhost:8080/"
    },
    "executionInfo": {
     "elapsed": 860,
     "status": "ok",
     "timestamp": 1713532572781,
     "user": {
      "displayName": "Praneeth Kumar",
      "userId": "00144813861466085627"
     },
     "user_tz": -330
    },
    "id": "EdVpkPgEDtVx",
    "outputId": "d19c300d-6cd7-420d-f17e-a26f969d2663"
   },
   "outputs": [
    {
     "name": "stdout",
     "output_type": "stream",
     "text": [
      "customer purchase?: No\n"
     ]
    }
   ],
   "source": [
    "# @title Unit Test Interface\n",
    "age=3 # @param\n",
    "duration=39 # @param\n",
    "cc_contact_freq=3 # @param\n",
    "days_since_pc=3 # @param\n",
    "pc_contact_freq=3 # @param\n",
    "job=\"admin.\" # @param ['admin.', 'blue-collar', 'technician', 'services', 'management','retired', 'entrepreneur', 'self-employed', 'housemaid', 'unemployed','student', 'unknown']\n",
    "marital_status=\"married\" # @param ['married', 'single', 'divorced', 'unknown']\n",
    "education=\"experience\" # @param ['experience', 'university degree', 'high school', 'professional.course','Others', 'illiterate']\n",
    "defaulter=\"no\" # @param ['no', 'unknown', 'yes']\n",
    "home_loan=\"yes\" # @param ['yes', 'no', 'unknown']\n",
    "personal_loan=\"yes\" # @param ['yes', 'no', 'unknown']\n",
    "communication_type=\"cellular\" # @param ['cellular', 'telephone']\n",
    "last_contacted=\"may\" # @param ['may', 'jul', 'aug', 'jun', 'nov', 'apr', 'oct', 'mar', 'sep', 'dec']\n",
    "day_of_week=\"thu\" # @param ['thu', 'mon', 'wed', 'tue', 'fri']\n",
    "pc_outcome=\"success\" # @param ['nonexistent', 'failure', 'success']\n",
    "\n",
    "job = client.submit(\n",
    "      age = age,\n",
    "      duration = duration,\n",
    "      cc_contact_freq = cc_contact_freq,\n",
    "      days_since_pc = days_since_pc,\n",
    "      pc_contact_freq = pc_contact_freq,\n",
    "      job = job,\n",
    "      marital_status = marital_status,\n",
    "      education = education,\n",
    "      defaulter = defaulter,\n",
    "      home_loan = home_loan,\n",
    "      personal_loan = personal_loan,\n",
    "      communication_type = communication_type,\n",
    "      last_contacted = last_contacted,\n",
    "      day_of_week = day_of_week,\n",
    "      pc_outcome = pc_outcome,\n",
    "    api_name=\"/predict\"\n",
    ")\n",
    "\n",
    "customer_purchase = 'Yes' if job.result()['label'] == '1' else 'No'\n",
    "print(f\"customer purchase?: {customer_purchase}\")"
   ]
  },
  {
   "cell_type": "markdown",
   "metadata": {
    "id": "_tVEv4avDKof"
   },
   "source": [
    "If the unit tests pass, the model is ready to be tagged for release to staging and production."
   ]
  }
 ],
 "metadata": {
  "colab": {
   "provenance": []
  },
  "kernelspec": {
   "display_name": "Python 3 (ipykernel)",
   "language": "python",
   "name": "python3"
  },
  "language_info": {
   "codemirror_mode": {
    "name": "ipython",
    "version": 3
   },
   "file_extension": ".py",
   "mimetype": "text/x-python",
   "name": "python",
   "nbconvert_exporter": "python",
   "pygments_lexer": "ipython3",
   "version": "3.11.7"
  }
 },
 "nbformat": 4,
 "nbformat_minor": 1
}
