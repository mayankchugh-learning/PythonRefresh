{
  "cells": [
    {
      "cell_type": "markdown",
      "metadata": {
        "id": "zP1JzlQMSTg6"
      },
      "source": [
        "# Learning Objectives\n",
        "\n",
        "Present an overview of tests to be conducted before a containerized model is released for deployment."
      ]
    },
    {
      "cell_type": "markdown",
      "metadata": {
        "id": "jEVa0FtsSGhm"
      },
      "source": [
        "# Setup"
      ]
    },
    {
      "cell_type": "code",
      "execution_count": 1,
      "metadata": {
        "colab": {
          "base_uri": "https://localhost:8080/"
        },
        "id": "tIQG_KE1RS6Z",
        "outputId": "1917cac8-641d-4aca-f6f3-3bbb53e6f609"
      },
      "outputs": [
        {
          "output_type": "stream",
          "name": "stdout",
          "text": [
            "\u001b[2K     \u001b[90m━━━━━━━━━━━━━━━━━━━━━━━━━━━━━━━━━━━━━━━━\u001b[0m \u001b[32m314.4/314.4 kB\u001b[0m \u001b[31m4.6 MB/s\u001b[0m eta \u001b[36m0:00:00\u001b[0m\n",
            "\u001b[2K     \u001b[90m━━━━━━━━━━━━━━━━━━━━━━━━━━━━━━━━━━━━━━━━\u001b[0m \u001b[32m75.6/75.6 kB\u001b[0m \u001b[31m8.2 MB/s\u001b[0m eta \u001b[36m0:00:00\u001b[0m\n",
            "\u001b[2K     \u001b[90m━━━━━━━━━━━━━━━━━━━━━━━━━━━━━━━━━━━━━━━━\u001b[0m \u001b[32m129.9/129.9 kB\u001b[0m \u001b[31m4.3 MB/s\u001b[0m eta \u001b[36m0:00:00\u001b[0m\n",
            "\u001b[2K     \u001b[90m━━━━━━━━━━━━━━━━━━━━━━━━━━━━━━━━━━━━━━━━\u001b[0m \u001b[32m77.9/77.9 kB\u001b[0m \u001b[31m7.9 MB/s\u001b[0m eta \u001b[36m0:00:00\u001b[0m\n",
            "\u001b[2K     \u001b[90m━━━━━━━━━━━━━━━━━━━━━━━━━━━━━━━━━━━━━━━━\u001b[0m \u001b[32m58.3/58.3 kB\u001b[0m \u001b[31m6.6 MB/s\u001b[0m eta \u001b[36m0:00:00\u001b[0m\n",
            "\u001b[?25h"
          ]
        }
      ],
      "source": [
        "!pip install -q gradio_client"
      ]
    },
    {
      "cell_type": "code",
      "execution_count": 2,
      "metadata": {
        "id": "doHAgE2LRiQz"
      },
      "outputs": [],
      "source": [
        "from gradio_client import Client\n",
        "\n",
        "from sklearn.datasets import fetch_openml\n",
        "from sklearn.model_selection import train_test_split\n",
        "from sklearn.metrics import classification_report\n",
        "from tqdm import tqdm"
      ]
    },
    {
      "cell_type": "code",
      "execution_count": 3,
      "metadata": {
        "colab": {
          "base_uri": "https://localhost:8080/"
        },
        "id": "OpABIcusRvEa",
        "outputId": "6210c0a9-723d-475d-b38e-4ef8fd6f6033"
      },
      "outputs": [
        {
          "output_type": "stream",
          "name": "stdout",
          "text": [
            "Loaded as API: https://pgurazada1-machine-failure-predictor-mlops-demo.hf.space ✔\n"
          ]
        }
      ],
      "source": [
        "client = Client(\"pgurazada1/machine-failure-predictor-mlops-demo\")"
      ]
    },
    {
      "cell_type": "markdown",
      "metadata": {
        "id": "OHo1oI7KVzYb"
      },
      "source": [
        "# Baseline Checks"
      ]
    },
    {
      "cell_type": "markdown",
      "metadata": {
        "id": "EKUB01C0WAyj"
      },
      "source": [
        "Test Data"
      ]
    },
    {
      "cell_type": "code",
      "execution_count": 4,
      "metadata": {
        "id": "VCzBR-eMWC2W"
      },
      "outputs": [],
      "source": [
        "dataset = fetch_openml(data_id=42890, as_frame=True, parser=\"auto\")\n",
        "\n",
        "data_df = dataset.data\n",
        "\n",
        "target = 'Machine failure'\n",
        "numeric_features = [\n",
        "    'Air temperature [K]',\n",
        "    'Process temperature [K]',\n",
        "    'Rotational speed [rpm]',\n",
        "    'Torque [Nm]',\n",
        "    'Tool wear [min]'\n",
        "]\n",
        "categorical_features = ['Type']\n",
        "\n",
        "X = data_df[numeric_features + categorical_features]\n",
        "y = data_df[target]\n",
        "\n",
        "Xtrain, Xtest, ytrain, ytest = train_test_split(\n",
        "    X, y,\n",
        "    test_size=0.2,\n",
        "    random_state=42\n",
        ")\n",
        "\n",
        "Xtest_sample = Xtest.sample(100)\n",
        "ytest_sample = ytest.loc[Xtest_sample.index]\n",
        "\n",
        "Xtest_sample_rows = list(Xtest_sample.itertuples(index=False, name=None))"
      ]
    },
    {
      "cell_type": "markdown",
      "metadata": {
        "id": "mhF9vyYc_g7x"
      },
      "source": [
        "Predictions on the test data"
      ]
    },
    {
      "cell_type": "code",
      "execution_count": 5,
      "metadata": {
        "colab": {
          "base_uri": "https://localhost:8080/"
        },
        "id": "q8ZKCrLI8ojC",
        "outputId": "8e6eef9c-0d10-409c-c162-983649005b56"
      },
      "outputs": [
        {
          "output_type": "stream",
          "name": "stderr",
          "text": [
            "100%|██████████| 100/100 [01:15<00:00,  1.33it/s]\n"
          ]
        }
      ],
      "source": [
        "baseline_test_predictions = []\n",
        "\n",
        "for row in tqdm(Xtest_sample_rows):\n",
        "    try:\n",
        "        job = client.submit(\n",
        "            air_temperature=row[0],\n",
        "            process_temperature=row[1],\n",
        "            rotational_speed=row[2],\n",
        "            torque=row[3],\n",
        "            tool_wear=row[4],\n",
        "            type=row[5],\n",
        "            api_name=\"/predict\"\n",
        "        )\n",
        "\n",
        "        prediction = job.result()['label']\n",
        "\n",
        "        baseline_test_predictions.append(int(prediction))\n",
        "\n",
        "    except Exception as e:\n",
        "        print(e)"
      ]
    },
    {
      "cell_type": "markdown",
      "metadata": {
        "id": "QCoDzuji_imC"
      },
      "source": [
        "Estimation of accuracy on the test sample."
      ]
    },
    {
      "cell_type": "code",
      "execution_count": 6,
      "metadata": {
        "colab": {
          "base_uri": "https://localhost:8080/"
        },
        "id": "00rW-LbEBxJC",
        "outputId": "526818ea-719c-422f-cc56-58826d2b86e9"
      },
      "outputs": [
        {
          "output_type": "stream",
          "name": "stdout",
          "text": [
            "              precision    recall  f1-score   support\n",
            "\n",
            "           0       0.99      1.00      0.99        96\n",
            "           1       1.00      0.75      0.86         4\n",
            "\n",
            "    accuracy                           0.99       100\n",
            "   macro avg       0.99      0.88      0.93       100\n",
            "weighted avg       0.99      0.99      0.99       100\n",
            "\n"
          ]
        }
      ],
      "source": [
        "print(classification_report(ytest_sample, baseline_test_predictions))"
      ]
    },
    {
      "cell_type": "markdown",
      "metadata": {
        "id": "aBtvtTxqCAsg"
      },
      "source": [
        "If the F1-score is more than the existing baseline (human or a previous model version), we move on to unit tests."
      ]
    },
    {
      "cell_type": "markdown",
      "metadata": {
        "id": "UYQ9dFH1Sifk"
      },
      "source": [
        "# Unit Tests"
      ]
    },
    {
      "cell_type": "markdown",
      "metadata": {
        "id": "9ODYyMxQSset"
      },
      "source": [
        "## Perturbation tests"
      ]
    },
    {
      "cell_type": "markdown",
      "metadata": {
        "id": "ezPAjNPZSwpq"
      },
      "source": [
        "Perturbation analysis involves introducing deliberate changes or perturbations to the input data and observing the corresponding impact on model predictions. This task helps evaluate the stability and robustness of the model. By systematically perturbing variables or introducing simulated variations, organizations can assess how sensitive the model is to different inputs and determine if it responds in an expected manner. For instance, in a credit risk assessment model, perturbation analysis could involve altering individual features such as income or credit utilization ratios to observe how the model's predictions change. This analysis helps identify potential vulnerabilities or inconsistencies in the model's behavior and informs the need for recalibration or retraining."
      ]
    },
    {
      "cell_type": "markdown",
      "metadata": {
        "id": "XwyF7v1AUNAJ"
      },
      "source": [
        "*Baseline*"
      ]
    },
    {
      "cell_type": "code",
      "execution_count": 7,
      "metadata": {
        "id": "OnTktOwFRyJC"
      },
      "outputs": [],
      "source": [
        "job = client.submit(\n",
        "    air_temperature=300.8,\n",
        "    process_temperature=310.3,\n",
        "    rotational_speed=1538,\n",
        "    torque=36.1,\n",
        "    tool_wear=198,\n",
        "    type=\"L\",\n",
        "    api_name=\"/predict\"\n",
        ")"
      ]
    },
    {
      "cell_type": "code",
      "execution_count": 8,
      "metadata": {
        "colab": {
          "base_uri": "https://localhost:8080/"
        },
        "id": "RTGtOIptR2rr",
        "outputId": "47c8a057-5dca-4ded-b9f4-534c6fb154ea"
      },
      "outputs": [
        {
          "output_type": "stream",
          "name": "stdout",
          "text": [
            "0\n"
          ]
        }
      ],
      "source": [
        "print(job.result()['label'])"
      ]
    },
    {
      "cell_type": "markdown",
      "metadata": {
        "id": "g_N9bnY1UUug"
      },
      "source": [
        "*Test (perturbed baseline)*"
      ]
    },
    {
      "cell_type": "code",
      "execution_count": 9,
      "metadata": {
        "id": "797YohbXUWLe"
      },
      "outputs": [],
      "source": [
        "job = client.submit(\n",
        "    air_temperature=301.8,\n",
        "    process_temperature=310.3,\n",
        "    rotational_speed=1538,\n",
        "    torque=36.1,\n",
        "    tool_wear=198,\n",
        "    type=\"L\",\n",
        "    api_name=\"/predict\"\n",
        ")"
      ]
    },
    {
      "cell_type": "code",
      "execution_count": 10,
      "metadata": {
        "colab": {
          "base_uri": "https://localhost:8080/"
        },
        "id": "dsSSrjx7UZDE",
        "outputId": "affb31b5-44e5-4dbe-8768-df20fc5a3720"
      },
      "outputs": [
        {
          "output_type": "stream",
          "name": "stdout",
          "text": [
            "0\n"
          ]
        }
      ],
      "source": [
        "print(job.result()['label'])"
      ]
    },
    {
      "cell_type": "markdown",
      "metadata": {
        "id": "-L2a6PS_CPkG"
      },
      "source": [
        "Output in the above cell indicates that the model is robust to minor variations in air temperature."
      ]
    },
    {
      "cell_type": "markdown",
      "metadata": {
        "id": "jJncHf4GUg0k"
      },
      "source": [
        "# Known edge-cases (criticial subgroups)"
      ]
    },
    {
      "cell_type": "markdown",
      "metadata": {
        "id": "d07BgNtVUmCX"
      },
      "source": [
        "In some applications, it is important to monitor the performance of machine learning models specifically for critical subgroups or segments of the population. These subgroups may be defined by demographic characteristics, geographic location, or other relevant factors. For example, in healthcare, it is crucial to ensure that a medical diagnosis model performs well across different demographic groups to avoid bias or disparities in patient care. If significant disparities or performance gaps are detected, further investigation can be conducted to understand the root causes and take necessary corrective actions, such as retraining the model.\n",
        "\n",
        "In this case, we could test the model by presenting the edge cases of critical equipment failures and ascertaining that the model is able to detect these crucial failures."
      ]
    },
    {
      "cell_type": "markdown",
      "metadata": {
        "id": "1oUMrDMCUwAi"
      },
      "source": [
        "*Critical equipment state (known failure test case)*"
      ]
    },
    {
      "cell_type": "markdown",
      "metadata": {
        "id": "QL375h4NC7Ut"
      },
      "source": [
        "In this scenario, a known edge case is that when manufacturing products of type 'M', the tool wear should be less than 1010 minutes. Let us see if the model can recognize this failure state."
      ]
    },
    {
      "cell_type": "code",
      "execution_count": 11,
      "metadata": {
        "id": "kmHUHwvNU0aX"
      },
      "outputs": [],
      "source": [
        "job = client.submit(\n",
        "    air_temperature=303.6,\n",
        "    process_temperature=311.8,\n",
        "    rotational_speed=1421,\n",
        "    torque=44.8,\n",
        "    tool_wear=1010,\n",
        "    type=\"M\",\n",
        "    api_name=\"/predict\"\n",
        ")"
      ]
    },
    {
      "cell_type": "code",
      "execution_count": 12,
      "metadata": {
        "colab": {
          "base_uri": "https://localhost:8080/"
        },
        "id": "9uNLOqyVU7ND",
        "outputId": "d9031589-e41f-4c55-d6d1-a74df264e2e7"
      },
      "outputs": [
        {
          "output_type": "stream",
          "name": "stdout",
          "text": [
            "1\n"
          ]
        }
      ],
      "source": [
        "print(job.result()['label'])"
      ]
    },
    {
      "cell_type": "markdown",
      "metadata": {
        "id": "O-FgrREgCbc9"
      },
      "source": [
        "Output in the above cell indiates that the model is able to correctly predict the failure of a known edge case."
      ]
    },
    {
      "cell_type": "markdown",
      "metadata": {
        "id": "3rPZOLsxDmeL"
      },
      "source": [
        "More instances of such unit tests could be facilitated by presenting a simple interface to the tester like so:"
      ]
    },
    {
      "cell_type": "code",
      "execution_count": 13,
      "metadata": {
        "colab": {
          "base_uri": "https://localhost:8080/"
        },
        "id": "EdVpkPgEDtVx",
        "outputId": "c6d10714-4398-4bb7-b442-14ccbbc99c11"
      },
      "outputs": [
        {
          "output_type": "stream",
          "name": "stdout",
          "text": [
            "Failure expected?: Yes\n"
          ]
        }
      ],
      "source": [
        "# @title Unit Test Interface\n",
        "\n",
        "air_temperature=303.6 # @param\n",
        "process_temperature=311.8 # @param\n",
        "rotational_speed=1421 # @param\n",
        "torque=44.8 # @param\n",
        "tool_wear=1010 # @param\n",
        "type=\"M\" # @param ['L', 'M', 'H']\n",
        "\n",
        "job = client.submit(\n",
        "    air_temperature=air_temperature,\n",
        "    process_temperature=process_temperature,\n",
        "    rotational_speed=rotational_speed,\n",
        "    torque=torque,\n",
        "    tool_wear=tool_wear,\n",
        "    type=type,\n",
        "    api_name=\"/predict\"\n",
        ")\n",
        "\n",
        "failure_expected = 'Yes' if job.result()['label'] == '1' else 'No'\n",
        "print(f\"Failure expected?: {failure_expected}\")"
      ]
    },
    {
      "cell_type": "markdown",
      "metadata": {
        "id": "_tVEv4avDKof"
      },
      "source": [
        "If the unit tests pass, the model is ready to be tagged for release to staging and production."
      ]
    },
    {
      "cell_type": "code",
      "execution_count": 13,
      "metadata": {
        "id": "F_d0JkRWu_Ce"
      },
      "outputs": [],
      "source": []
    }
  ],
  "metadata": {
    "colab": {
      "provenance": []
    },
    "kernelspec": {
      "display_name": "Python 3 (ipykernel)",
      "language": "python",
      "name": "python3"
    },
    "language_info": {
      "codemirror_mode": {
        "name": "ipython",
        "version": 3
      },
      "file_extension": ".py",
      "mimetype": "text/x-python",
      "name": "python",
      "nbconvert_exporter": "python",
      "pygments_lexer": "ipython3",
      "version": "3.11.7"
    }
  },
  "nbformat": 4,
  "nbformat_minor": 0
}