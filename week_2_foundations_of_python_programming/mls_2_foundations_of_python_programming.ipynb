{
  "cells": [
    {
      "cell_type": "markdown",
      "metadata": {
        "id": "dSVuC3c9zAft"
      },
      "source": [
        "# Week-2 Foundations of Python Programming - MLS"
      ]
    },
    {
      "cell_type": "markdown",
      "metadata": {
        "id": "LFqGx_Dhf98M"
      },
      "source": [
        "## Table of Content\n",
        "1. Print\n",
        "2. Data Types\n",
        "3. Boolean Operations\n",
        "4. Concatenation\n",
        "5. Arithmetic Operations\n",
        "6. List\n",
        "7. Tuple\n",
        "8. Set\n",
        "9. Dictionary\n",
        "10. Conditional Statements\n",
        "11. Python Control Flow\n",
        "12. Print Patterns"
      ]
    },
    {
      "cell_type": "markdown",
      "metadata": {
        "id": "r4J-iIEhf98N"
      },
      "source": [
        "## Print\n",
        "1.1 Write a program to display a statement. For example, \"Hello, How are you?\""
      ]
    },
    {
      "cell_type": "code",
      "execution_count": null,
      "metadata": {
        "id": "TZatTfxJjAUr",
        "outputId": "69c7ca2c-a479-4ae1-889f-e18fe4e956b8"
      },
      "outputs": [
        {
          "data": {
            "text/plain": [
              "False"
            ]
          },
          "execution_count": 3,
          "metadata": {},
          "output_type": "execute_result"
        }
      ],
      "source": [
        "# type your code here"
      ]
    },
    {
      "cell_type": "markdown",
      "metadata": {
        "id": "1qmkJjrszAfy"
      },
      "source": [
        "1.2 Write the alphabets 'A', 'B', 'C' on new lines using a single print function."
      ]
    },
    {
      "cell_type": "code",
      "execution_count": null,
      "metadata": {
        "id": "SdmwGdgxjAUz"
      },
      "outputs": [],
      "source": [
        "# type your code here"
      ]
    },
    {
      "cell_type": "markdown",
      "metadata": {
        "id": "QLSslfFdf98b"
      },
      "source": [
        "<a id=\"types\"> </a>\n",
        "## 2. Data types\n",
        "Create a string, a numeric and boolean variables by assigning variable names. Further, check their datatype. For numeric variable check for whole numbers and numbers with decimal point"
      ]
    },
    {
      "cell_type": "markdown",
      "metadata": {
        "id": "2R8Ix1P4f98c"
      },
      "source": [
        "2.1 Declare a string variable and check its data type"
      ]
    },
    {
      "cell_type": "code",
      "execution_count": null,
      "metadata": {
        "id": "G9tUhjLzjAU4"
      },
      "outputs": [],
      "source": [
        "# type your code here"
      ]
    },
    {
      "cell_type": "markdown",
      "metadata": {
        "id": "3txBZsy1f98f"
      },
      "source": [
        "2.2 Declare a numeric variable and check its data type \\\n",
        "i. An interger variable."
      ]
    },
    {
      "cell_type": "code",
      "execution_count": null,
      "metadata": {
        "id": "YLEBSRgwjAU7"
      },
      "outputs": [],
      "source": [
        "# type your code here"
      ]
    },
    {
      "cell_type": "markdown",
      "metadata": {
        "id": "9pgoDopkf98i"
      },
      "source": [
        "ii. A fractional variable"
      ]
    },
    {
      "cell_type": "code",
      "execution_count": null,
      "metadata": {
        "id": "-MnJNs3wjAU_"
      },
      "outputs": [],
      "source": [
        "# type your code here"
      ]
    },
    {
      "cell_type": "markdown",
      "metadata": {
        "id": "AXxxJmhZf99c"
      },
      "source": [
        "<a id=\"boolean\"></a>\n",
        "## 3. Boolean Operations"
      ]
    },
    {
      "cell_type": "markdown",
      "metadata": {
        "id": "JZK5kOB9zAf1"
      },
      "source": [
        "Check whether the expression (54+34)* 45 is equal to the expression (0.9*2432)/0.9"
      ]
    },
    {
      "cell_type": "code",
      "execution_count": null,
      "metadata": {
        "id": "ZcU5ccNkjAVf"
      },
      "outputs": [],
      "source": [
        "# type your code here"
      ]
    },
    {
      "cell_type": "markdown",
      "metadata": {
        "id": "IShIieCJf99f"
      },
      "source": [
        "<a id=\"concatenation\"></a>\n",
        "## 4. Concatenation"
      ]
    },
    {
      "cell_type": "markdown",
      "metadata": {
        "id": "82jaPbMCzAf1"
      },
      "source": [
        "4.1 Create two strings and concatenate them using '+' operator."
      ]
    },
    {
      "cell_type": "code",
      "execution_count": null,
      "metadata": {
        "id": "sv3wPchOjAVi"
      },
      "outputs": [],
      "source": [
        "# type your code here"
      ]
    },
    {
      "cell_type": "markdown",
      "metadata": {
        "id": "OL9cj_rRf983"
      },
      "source": [
        "## 5. Arithmetic Operations"
      ]
    },
    {
      "cell_type": "markdown",
      "metadata": {
        "id": "d-fDNYvpzAf2"
      },
      "source": [
        "5.1 Evaluate 145 into 354 minus 1345 divided by 45 plus (462 plus 23) divided by 3"
      ]
    },
    {
      "cell_type": "code",
      "execution_count": null,
      "metadata": {
        "id": "0WSGZCeQjAVO"
      },
      "outputs": [],
      "source": [
        "# type your code here"
      ]
    },
    {
      "cell_type": "markdown",
      "metadata": {
        "id": "is1xvVPAzAf2"
      },
      "source": [
        "5.2 Evaluate and print the results of the following \\\n",
        "1353 plus 234 \\\n",
        "2355 minus 346 \\\n",
        "234 times 457 \\\n",
        "25 divided by 6 \\\n",
        "Obtain remainder of 25 divided by 6 \\\n",
        "33 raised to 4 \\\n",
        "45 divided by 6 (floor division) \\\n",
        "2 raised to 10"
      ]
    },
    {
      "cell_type": "code",
      "execution_count": null,
      "metadata": {
        "id": "i87c8jfIjAVR"
      },
      "outputs": [],
      "source": [
        "# type your code here"
      ]
    },
    {
      "cell_type": "markdown",
      "metadata": {
        "id": "xl5wPTg_zAf2"
      },
      "source": [
        "5.3  Calculate BMI of a person (take input for height and weight from user)."
      ]
    },
    {
      "cell_type": "code",
      "execution_count": null,
      "metadata": {
        "id": "8-izYT9kjAVU"
      },
      "outputs": [],
      "source": [
        "# type your code here"
      ]
    },
    {
      "cell_type": "markdown",
      "metadata": {
        "id": "xozR0EP9Hq77"
      },
      "source": [
        "<a id=\"list\"> </a>\n",
        "## 6. List"
      ]
    },
    {
      "cell_type": "markdown",
      "metadata": {
        "id": "qul0qpBtzAf2"
      },
      "source": [
        "6.1 Write a program to perform following list operations on the list given below:\n",
        "\n",
        "a. Check the length of mix_list_1 \\\n",
        "b. Check the membership of '24' in mix_list_1 \\\n",
        "c. Concatenate the mix_list_1 and mix_list_2 \\\n",
        "d. Repeat the mix_list_2 three times"
      ]
    },
    {
      "cell_type": "markdown",
      "metadata": {
        "id": "y5fuZzHvHq78"
      },
      "source": [
        "**Lists to perform operations:**\n",
        "\n",
        "mix_list_1 = ['Learn', 24, 'Blue', False, -8]\n",
        "\n",
        "mix_list_2 = [4, 7, 'Summer']"
      ]
    },
    {
      "cell_type": "markdown",
      "metadata": {
        "id": "fb4IvjnCHq79"
      },
      "source": [
        "**a. Check the length of mix_list_1**"
      ]
    },
    {
      "cell_type": "code",
      "execution_count": null,
      "metadata": {
        "id": "2LoU4Gt2Hq79"
      },
      "outputs": [],
      "source": [
        "# type your code here"
      ]
    },
    {
      "cell_type": "markdown",
      "metadata": {
        "id": "EHjSh-veHq8C"
      },
      "source": [
        "**b. Check the membership of '24' in mix_list_1**"
      ]
    },
    {
      "cell_type": "code",
      "execution_count": null,
      "metadata": {
        "id": "xy0gdMTsHq8C"
      },
      "outputs": [],
      "source": [
        "# type your code here"
      ]
    },
    {
      "cell_type": "markdown",
      "metadata": {
        "id": "NggnUh-sHq8F"
      },
      "source": [
        "**c. Concatenate the mix_list_1 and mix_list_2**"
      ]
    },
    {
      "cell_type": "code",
      "execution_count": null,
      "metadata": {
        "id": "zkokv2UxHq8F"
      },
      "outputs": [],
      "source": [
        "# type your code here"
      ]
    },
    {
      "cell_type": "markdown",
      "metadata": {
        "id": "KXnGgSLHHq8I"
      },
      "source": [
        "**d. Repeat the mix_list_2 three times**"
      ]
    },
    {
      "cell_type": "code",
      "execution_count": null,
      "metadata": {
        "id": "7_9BewysHq8I"
      },
      "outputs": [],
      "source": [
        "# type your code here"
      ]
    },
    {
      "cell_type": "markdown",
      "metadata": {
        "id": "fgSeN9dbzAf9"
      },
      "source": [
        "6.2 Write the program to multiply the two lists"
      ]
    },
    {
      "cell_type": "markdown",
      "metadata": {
        "id": "Rz2kjxyYHq8L"
      },
      "source": [
        "**Lists to perform multiplication:**\n",
        "\n",
        "num_list_1 = [1, 2, 3, 4]\n",
        "\n",
        "num_list_2 = [0, 5, 2, 1]"
      ]
    },
    {
      "cell_type": "code",
      "execution_count": null,
      "metadata": {
        "id": "Fu5bsAB3Hq8M"
      },
      "outputs": [],
      "source": [
        "# type your code here"
      ]
    },
    {
      "cell_type": "markdown",
      "metadata": {
        "id": "hVjfuMQ_zAf9"
      },
      "source": [
        "6.3 Write a code to retrieve elements from a list\n",
        "\n",
        "a. First element \\\n",
        "b. Second last element \\\n",
        "c. First three elements \\\n",
        "d. Slice the list from 1st index till the last index with an increment of an index by 2"
      ]
    },
    {
      "cell_type": "markdown",
      "metadata": {
        "id": "C7-N9cjuHq8P"
      },
      "source": [
        "**Use the below list**\n",
        "\n",
        "mix_list = ['Python', 1, 2, 3, 'Data', True]"
      ]
    },
    {
      "cell_type": "markdown",
      "metadata": {
        "id": "5gvhfoqGHq8Q"
      },
      "source": [
        "**a. First element**"
      ]
    },
    {
      "cell_type": "code",
      "execution_count": null,
      "metadata": {
        "id": "RnPABxeeHq8R"
      },
      "outputs": [],
      "source": [
        "# type your code here"
      ]
    },
    {
      "cell_type": "markdown",
      "metadata": {
        "id": "O4D_YwEEHq8U"
      },
      "source": [
        "**b. Second last element**"
      ]
    },
    {
      "cell_type": "code",
      "execution_count": null,
      "metadata": {
        "id": "qoNIWqPcHq8U"
      },
      "outputs": [],
      "source": [
        "# type your code here"
      ]
    },
    {
      "cell_type": "markdown",
      "metadata": {
        "id": "KkYrr5nxHq8X"
      },
      "source": [
        "**c. First three elements**"
      ]
    },
    {
      "cell_type": "code",
      "execution_count": null,
      "metadata": {
        "id": "cNrHgcS3Hq8Y"
      },
      "outputs": [],
      "source": [
        "# type your code here"
      ]
    },
    {
      "cell_type": "markdown",
      "metadata": {
        "id": "BfhQanNHzAf-"
      },
      "source": [
        "6.4 Manipulating a list:\n",
        "\n",
        "a. Add a new element 'Data' in the given list \\\n",
        "b. Add elements 'Excel' and 'Data' in the given list \\\n",
        "c. Replace an element 'C' with 'C++' in the given list"
      ]
    },
    {
      "cell_type": "markdown",
      "metadata": {
        "id": "6ksiCCmSHq8v"
      },
      "source": [
        "#### Use the below list\n",
        "\n",
        "languages_list = ['R', 'Python', 'C', 'Java']"
      ]
    },
    {
      "cell_type": "markdown",
      "metadata": {
        "id": "N1ZIGDiDHq8v"
      },
      "source": [
        "**a. Add a new element 'Data' in the given list**"
      ]
    },
    {
      "cell_type": "code",
      "execution_count": null,
      "metadata": {
        "id": "pqdSAn1MHq8w"
      },
      "outputs": [],
      "source": [
        "# type your code here"
      ]
    },
    {
      "cell_type": "markdown",
      "metadata": {
        "id": "xuln8KAsHq8y"
      },
      "source": [
        "**b. Add elements 'Excel' and 'Data' in the given list**"
      ]
    },
    {
      "cell_type": "code",
      "execution_count": null,
      "metadata": {
        "id": "8lu6nYthHq8z"
      },
      "outputs": [],
      "source": [
        "# type your code here"
      ]
    },
    {
      "cell_type": "markdown",
      "metadata": {
        "id": "wCl5_gw2Hq81"
      },
      "source": [
        "**c. Replace an element 'C' with 'C++' in the given list**"
      ]
    },
    {
      "cell_type": "code",
      "execution_count": null,
      "metadata": {
        "id": "r9wdhVe-Hq82"
      },
      "outputs": [],
      "source": [
        "# type your code here"
      ]
    },
    {
      "cell_type": "markdown",
      "metadata": {
        "id": "MSRFdg56zAf_"
      },
      "source": [
        "6.5 How many times 'Summer' is occuring in a given list?"
      ]
    },
    {
      "cell_type": "markdown",
      "metadata": {
        "id": "Jhgx8xp0Hq84"
      },
      "source": [
        "#### Use the below list\n",
        "\n",
        "seasons_list = ['Summer', 'Winter', 'Spring', 'Winter', 'Spring' ,'Summer', 'Spring', 'Summer', 'Winter', 'Summer', 'Spring']"
      ]
    },
    {
      "cell_type": "code",
      "execution_count": null,
      "metadata": {
        "id": "5u7MipCXHq84"
      },
      "outputs": [],
      "source": [
        "# type your code here"
      ]
    },
    {
      "cell_type": "markdown",
      "metadata": {
        "id": "tjmTbT_5Hq88"
      },
      "source": [
        "## 7. Tuple\n",
        "7.1 Write a code to perform operations on tuple:\n",
        "\n",
        "a. Check the length of num_tuple \\\n",
        "b. Concatenate the num_tuple and mix_tuple \\\n",
        "c. Repeat the mix_tuple two times"
      ]
    },
    {
      "cell_type": "markdown",
      "metadata": {
        "id": "OUWhCypvHq89"
      },
      "source": [
        "**Tuples to perform operations:**\n",
        "\n",
        "num_tuple = (4, 4, 8)\n",
        "\n",
        "mix_tuple = 'John', 5, -2"
      ]
    },
    {
      "cell_type": "markdown",
      "metadata": {
        "id": "6YRuHhpRHq89"
      },
      "source": [
        "**a. Check the length of num_tuple**"
      ]
    },
    {
      "cell_type": "code",
      "execution_count": null,
      "metadata": {
        "id": "fnDwxnKHHq8-"
      },
      "outputs": [],
      "source": [
        "# type your code here"
      ]
    },
    {
      "cell_type": "markdown",
      "metadata": {
        "id": "pf41oJT1Hq9A"
      },
      "source": [
        "**b. Concatenate the num_tuple and mix_tuple**"
      ]
    },
    {
      "cell_type": "code",
      "execution_count": null,
      "metadata": {
        "id": "k_4RrgIyHq9A"
      },
      "outputs": [],
      "source": [
        "# type your code here"
      ]
    },
    {
      "cell_type": "markdown",
      "metadata": {
        "id": "5eVMFRY4Hq9C"
      },
      "source": [
        "**c. Repeat the mix_tuple two times**"
      ]
    },
    {
      "cell_type": "code",
      "execution_count": null,
      "metadata": {
        "id": "scFq2y3VHq9C"
      },
      "outputs": [],
      "source": [
        "# type your code here"
      ]
    },
    {
      "cell_type": "markdown",
      "metadata": {
        "id": "JEDqxvh8zAgA"
      },
      "source": [
        "7.2 Add a new element '4' to the given tuple"
      ]
    },
    {
      "cell_type": "markdown",
      "metadata": {
        "id": "y1tlFRgTHq9G"
      },
      "source": [
        "**Use the tuple below:**\n",
        "\n",
        "mix_tuple = (['a', 1, True], 2, 'Science', -5)"
      ]
    },
    {
      "cell_type": "code",
      "execution_count": null,
      "metadata": {
        "id": "vVr8nMfWHq9G"
      },
      "outputs": [],
      "source": [
        "# type your code here"
      ]
    },
    {
      "cell_type": "markdown",
      "metadata": {
        "id": "sH78_NvyzAgA"
      },
      "source": [
        "7.3 Replace the elements in the given tuple:\n",
        "\n",
        "a. Replace '2' with '3' \\\n",
        "b. Replace 'True' in first element with 'False'"
      ]
    },
    {
      "cell_type": "markdown",
      "metadata": {
        "id": "bizHUBQ9Hq9J"
      },
      "source": [
        "**Use the tuple below:**\n",
        "\n",
        "mix_tuple = (['a', 1, True], 2, 'Science', -5)"
      ]
    },
    {
      "cell_type": "markdown",
      "metadata": {
        "id": "YG7TWxVhHq9K"
      },
      "source": [
        "**a. Replace '2' with '3'**"
      ]
    },
    {
      "cell_type": "code",
      "execution_count": null,
      "metadata": {
        "id": "eZAmxxuDHq9K"
      },
      "outputs": [],
      "source": [
        "# type your code here"
      ]
    },
    {
      "cell_type": "markdown",
      "metadata": {
        "id": "yYdRaCumHq9M"
      },
      "source": [
        "**b. Replace 'True' in first element of the tuple with 'False'**"
      ]
    },
    {
      "cell_type": "code",
      "execution_count": null,
      "metadata": {
        "id": "rr8Vr6Z_Hq9N"
      },
      "outputs": [],
      "source": [
        "# type your code here"
      ]
    },
    {
      "cell_type": "markdown",
      "metadata": {
        "id": "mVBzmc_8Cqw6"
      },
      "source": [
        "## 8. Set\n",
        "8.1 Write the program to perform following manipulations:\n",
        "\n",
        "a. Add '7' to the given set \\\n",
        "b. Remove '3' from a given set \\\n",
        "c. Clear the set"
      ]
    },
    {
      "cell_type": "markdown",
      "metadata": {
        "id": "Gh77UkvWCqw6"
      },
      "source": [
        "**Use the below set for manipulation**\n",
        "\n",
        "num_set = {1, 2, 3, 4, 5, 6}"
      ]
    },
    {
      "cell_type": "markdown",
      "metadata": {
        "id": "HH2xLD-iCqw7"
      },
      "source": [
        "**a. Add '7' to the given set**"
      ]
    },
    {
      "cell_type": "code",
      "execution_count": null,
      "metadata": {
        "id": "R4M-klc-Cqw7"
      },
      "outputs": [],
      "source": [
        "# type your code here"
      ]
    },
    {
      "cell_type": "markdown",
      "metadata": {
        "id": "OHbfGzHZCqw7"
      },
      "source": [
        "**b. Remove '3' from a given set**"
      ]
    },
    {
      "cell_type": "code",
      "execution_count": null,
      "metadata": {
        "id": "y5TlhZzbCqw7"
      },
      "outputs": [],
      "source": [
        "# type your code here"
      ]
    },
    {
      "cell_type": "markdown",
      "metadata": {
        "id": "FKwRnMZCCqw7"
      },
      "source": [
        "**c. Clear the set**"
      ]
    },
    {
      "cell_type": "code",
      "execution_count": null,
      "metadata": {
        "id": "FDIaweRYCqw7"
      },
      "outputs": [],
      "source": [
        "# type your code here"
      ]
    },
    {
      "cell_type": "markdown",
      "metadata": {
        "id": "gRGOe2zYzAgC"
      },
      "source": [
        "8.2 Create two sets of words from the given sentences and perform the following operations:\n",
        "\n",
        "a. Find the count of unique words in each of the sentence \\\n",
        "b. Find the common words in both the sentences"
      ]
    },
    {
      "cell_type": "markdown",
      "metadata": {
        "id": "bTr22F8rCqw7"
      },
      "source": [
        "**Use the sentences given below:**\n",
        "    \n",
        "sentence_1 = 'We shall analyse the data using python'\n",
        "\n",
        "sentence_2 = 'Python for data science'"
      ]
    },
    {
      "cell_type": "markdown",
      "metadata": {
        "id": "oLxhbsjXCqw7"
      },
      "source": [
        "**Create set of words**"
      ]
    },
    {
      "cell_type": "code",
      "execution_count": null,
      "metadata": {
        "id": "OkXrH-9iCqw7"
      },
      "outputs": [],
      "source": [
        "# type your code here"
      ]
    },
    {
      "cell_type": "markdown",
      "metadata": {
        "id": "5qDOJPIVCqw8"
      },
      "source": [
        "**a. Find the number of unique words in the sentences**"
      ]
    },
    {
      "cell_type": "code",
      "execution_count": null,
      "metadata": {
        "id": "oQepiQUICqw8"
      },
      "outputs": [],
      "source": [
        "# type your code here"
      ]
    },
    {
      "cell_type": "markdown",
      "metadata": {
        "id": "Ll0Z33_1Cqw8"
      },
      "source": [
        "**b. Find the common words in both the sentences**"
      ]
    },
    {
      "cell_type": "code",
      "execution_count": null,
      "metadata": {
        "id": "54fXg6wUCqw8"
      },
      "outputs": [],
      "source": [
        "# type your code here"
      ]
    },
    {
      "cell_type": "markdown",
      "metadata": {
        "id": "CZRoG0_gCqw-"
      },
      "source": [
        "<a id=\"dict\"> </a>\n",
        "## 9. Dictionary"
      ]
    },
    {
      "cell_type": "markdown",
      "metadata": {
        "id": "YrPJi6l7zAgD"
      },
      "source": [
        "9.1 Write a code to add a key to a dictionary"
      ]
    },
    {
      "cell_type": "markdown",
      "metadata": {
        "id": "7sO9f3foCqw-"
      },
      "source": [
        "**Use the given dictionary and add a key (4:16)**\n",
        "\n",
        "square_dictionary = {1:1, 2:4, 3:9}"
      ]
    },
    {
      "cell_type": "code",
      "execution_count": null,
      "metadata": {
        "id": "jWvg2gVbCqw-"
      },
      "outputs": [],
      "source": [
        "# type your code here"
      ]
    },
    {
      "cell_type": "markdown",
      "metadata": {
        "id": "RmH2TUGJzAgD"
      },
      "source": [
        "9.2 Write a program to retrieve the keys/values of dictionary"
      ]
    },
    {
      "cell_type": "markdown",
      "metadata": {
        "id": "_NYbLssUCqw-"
      },
      "source": [
        "**Use the dictionary**\n",
        "\n",
        "mix_dictionary = {0:3, 'x':5, 1:2}"
      ]
    },
    {
      "cell_type": "code",
      "execution_count": null,
      "metadata": {
        "id": "CoVYNvXdCqw-"
      },
      "outputs": [],
      "source": [
        "# type your code here"
      ]
    },
    {
      "cell_type": "markdown",
      "metadata": {
        "id": "ndYtrBeEzAgD"
      },
      "source": [
        "9.3 Write a program to get the value for 'Age' from the dictionary"
      ]
    },
    {
      "cell_type": "markdown",
      "metadata": {
        "id": "P1K4RdTxCqw-"
      },
      "source": [
        "**Use the dictionary**\n",
        "\n",
        "emp_record = {'Weight': 67, 'BMI': 25, 'Age': 27, 'Profession': 'CA'}"
      ]
    },
    {
      "cell_type": "code",
      "execution_count": null,
      "metadata": {
        "id": "iW0p9h4NCqw_"
      },
      "outputs": [],
      "source": [
        "# type your code here"
      ]
    },
    {
      "cell_type": "code",
      "execution_count": null,
      "metadata": {
        "id": "orOXqtA-Cqw_"
      },
      "outputs": [],
      "source": [
        "# type your code here"
      ]
    },
    {
      "cell_type": "markdown",
      "metadata": {
        "id": "bEAynmvFHq-M"
      },
      "source": [
        "## 10. Conditional Statements"
      ]
    },
    {
      "cell_type": "markdown",
      "metadata": {
        "id": "-p98Hw8_zAgE"
      },
      "source": [
        "10.1 Write a program to check whether a given number is multiple of 7 (use if statement)"
      ]
    },
    {
      "cell_type": "code",
      "execution_count": null,
      "metadata": {
        "id": "7v0jNVSEHq-M"
      },
      "outputs": [],
      "source": [
        "# type your code here"
      ]
    },
    {
      "cell_type": "markdown",
      "metadata": {
        "id": "K4lBfemyzAgE"
      },
      "source": [
        "10.2 Write a code to print the maximum of two numbers (use if-else)"
      ]
    },
    {
      "cell_type": "code",
      "execution_count": null,
      "metadata": {
        "id": "hr63zbq1Hq-Q"
      },
      "outputs": [],
      "source": [
        "# type your code here"
      ]
    },
    {
      "cell_type": "markdown",
      "metadata": {
        "id": "xyJSJOPkzAgF"
      },
      "source": [
        "10.3 Write a program to check whether a number is positive, negative or zero (use if-elif)"
      ]
    },
    {
      "cell_type": "code",
      "execution_count": null,
      "metadata": {
        "id": "Y47AyVjLHq-T"
      },
      "outputs": [],
      "source": [
        "# type your code here"
      ]
    },
    {
      "cell_type": "markdown",
      "metadata": {
        "id": "qzPAniC_V3Vc"
      },
      "source": [
        "## 11. Python Flow Control"
      ]
    },
    {
      "cell_type": "markdown",
      "metadata": {
        "id": "YOI61JFdzAgG"
      },
      "source": [
        "11.1 Write a code to print table of 5 using assignment operand +="
      ]
    },
    {
      "cell_type": "code",
      "execution_count": null,
      "metadata": {
        "collapsed": true,
        "id": "wVjYvCadV3Vc"
      },
      "outputs": [],
      "source": [
        "# type your code here"
      ]
    },
    {
      "cell_type": "markdown",
      "metadata": {
        "id": "BtH5xreczAgG"
      },
      "source": [
        "11.2 Write a program for generating a fibonacci series starting with 0 and 1 for the next 10 values using a while loop"
      ]
    },
    {
      "cell_type": "code",
      "execution_count": null,
      "metadata": {
        "collapsed": true,
        "id": "fyEIgjsyV3Vd"
      },
      "outputs": [],
      "source": [
        "# type your code here"
      ]
    },
    {
      "cell_type": "markdown",
      "source": [
        "## 12. Print Patterns"
      ],
      "metadata": {
        "id": "75gaiYtuSLee"
      }
    },
    {
      "cell_type": "markdown",
      "source": [
        "12.1 How to print full pyramid and asterisk(star) patterns in python\n",
        "\n",
        "        *   \n",
        "       *  *   \n",
        "      *  *  *   \n",
        "     *  *  *  *   \n",
        "    *  *  *  *  *   "
      ],
      "metadata": {
        "id": "2eUV00n0SWOT"
      }
    },
    {
      "cell_type": "code",
      "source": [
        "# type your code here"
      ],
      "metadata": {
        "id": "I9mdPXiwSPoZ"
      },
      "execution_count": null,
      "outputs": []
    },
    {
      "cell_type": "markdown",
      "source": [
        "12.2 Form a lower tringular matrix in ' * ' pattern\n",
        "\n",
        "*\n",
        "* *  \\\\\n",
        "* * *  \\\\\n",
        "* * * *  \\\\\n",
        "* * * * *  \\\\"
      ],
      "metadata": {
        "id": "sM97IDlOSdXF"
      }
    },
    {
      "cell_type": "code",
      "source": [
        "# type your code here"
      ],
      "metadata": {
        "id": "d04enOIzSgjL"
      },
      "execution_count": null,
      "outputs": []
    }
  ],
  "metadata": {
    "colab": {
      "provenance": []
    },
    "kernelspec": {
      "display_name": "Python 3 (ipykernel)",
      "language": "python",
      "name": "python3"
    },
    "language_info": {
      "codemirror_mode": {
        "name": "ipython",
        "version": 3
      },
      "file_extension": ".py",
      "mimetype": "text/x-python",
      "name": "python",
      "nbconvert_exporter": "python",
      "pygments_lexer": "ipython3",
      "version": "3.9.7"
    }
  },
  "nbformat": 4,
  "nbformat_minor": 0
}