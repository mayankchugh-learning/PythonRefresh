{
 "cells": [
  {
   "cell_type": "code",
   "execution_count": 1,
   "id": "1977fa74-6084-4ab0-852c-1a6b022f10c9",
   "metadata": {},
   "outputs": [
    {
     "data": {
      "text/plain": [
       "True"
      ]
     },
     "execution_count": 1,
     "metadata": {},
     "output_type": "execute_result"
    }
   ],
   "source": [
    "3 + 2 == 5"
   ]
  },
  {
   "cell_type": "code",
   "execution_count": 2,
   "id": "36cf9796-af42-4c73-9ecc-2f757798b26b",
   "metadata": {},
   "outputs": [
    {
     "name": "stdout",
     "output_type": "stream",
     "text": [
      "25.0\n"
     ]
    }
   ],
   "source": [
    "# Which of the following code snippet can be used to calculate the area of a triangle with base = 10 and height = 5?\n",
    "# Area of triangle = (base*height)/2\n",
    "base = 10.\n",
    "height = 5.\n",
    "areaOfTriangle = (base*height)/2\n",
    "print(areaOfTriangle)"
   ]
  },
  {
   "cell_type": "code",
   "execution_count": 3,
   "id": "525485a0-51c2-49f9-ae75-d2b485297b26",
   "metadata": {},
   "outputs": [
    {
     "name": "stdout",
     "output_type": "stream",
     "text": [
      "Area of triangle: 25.0\n"
     ]
    }
   ],
   "source": [
    "area = 0.5 * 10 * 5 \n",
    "print(\"Area of triangle:\", area)"
   ]
  },
  {
   "cell_type": "code",
   "execution_count": 4,
   "id": "33fa170a-a9d5-4377-8f9c-a56a7a912c6f",
   "metadata": {},
   "outputs": [
    {
     "name": "stdout",
     "output_type": "stream",
     "text": [
      "Area of triangle: 22.360679774997898\n"
     ]
    }
   ],
   "source": [
    "area = 10 * 5 ** 0.5 \n",
    "print(\"Area of triangle:\", area)"
   ]
  },
  {
   "cell_type": "code",
   "execution_count": 5,
   "id": "cca18564-ed3f-4284-9530-a2aef17d9893",
   "metadata": {},
   "outputs": [
    {
     "name": "stdout",
     "output_type": "stream",
     "text": [
      "Area of triangle: 50\n"
     ]
    }
   ],
   "source": [
    "area = 10 * 5 \n",
    "print(\"Area of triangle:\", area)"
   ]
  },
  {
   "cell_type": "code",
   "execution_count": 6,
   "id": "7a4f2b62-d130-4809-9a1f-6e18cf1a1a38",
   "metadata": {},
   "outputs": [
    {
     "name": "stdout",
     "output_type": "stream",
     "text": [
      "Area of triangle: 0.0048828125\n"
     ]
    }
   ],
   "source": [
    "area = 0.5 ** 10 * 5 \n",
    "print(\"Area of triangle:\", area)"
   ]
  },
  {
   "cell_type": "code",
   "execution_count": 7,
   "id": "a3b12965-a09f-4a7b-b610-253401f585b3",
   "metadata": {},
   "outputs": [
    {
     "name": "stdout",
     "output_type": "stream",
     "text": [
      "1225.0\n"
     ]
    }
   ],
   "source": [
    "#What will be the value of z in the following expression?\n",
    "\n",
    "v = 10\n",
    "w = 25\n",
    "x = 70\n",
    "y = 2\n",
    "z = (v + w) * (x / y)\n",
    "print(z)"
   ]
  },
  {
   "cell_type": "code",
   "execution_count": 9,
   "id": "585c0e87-a7e6-43c1-916e-320b59b2ec66",
   "metadata": {},
   "outputs": [
    {
     "data": {
      "text/plain": [
       "['apple', 'orange', 'grapes', 'watermelon', 'strawberries']"
      ]
     },
     "execution_count": 9,
     "metadata": {},
     "output_type": "execute_result"
    }
   ],
   "source": [
    "# Which of the following codes can be used to replace the first element of the list fruit with \"strawberries\"?\n",
    "\n",
    "fruit1 = [\"apple\",\"orange\",\"grapes\",\"watermelon\"]\n",
    "fruit1.append('strawberries')\n",
    "fruit1"
   ]
  },
  {
   "cell_type": "code",
   "execution_count": 10,
   "id": "638c4b40-b893-4495-aa3b-dabee4dbcee3",
   "metadata": {},
   "outputs": [
    {
     "ename": "AttributeError",
     "evalue": "'list' object has no attribute 'replace'",
     "output_type": "error",
     "traceback": [
      "\u001b[0;31m---------------------------------------------------------------------------\u001b[0m",
      "\u001b[0;31mAttributeError\u001b[0m                            Traceback (most recent call last)",
      "Cell \u001b[0;32mIn[10], line 2\u001b[0m\n\u001b[1;32m      1\u001b[0m fruit2 \u001b[38;5;241m=\u001b[39m [\u001b[38;5;124m\"\u001b[39m\u001b[38;5;124mapple\u001b[39m\u001b[38;5;124m\"\u001b[39m,\u001b[38;5;124m\"\u001b[39m\u001b[38;5;124morange\u001b[39m\u001b[38;5;124m\"\u001b[39m,\u001b[38;5;124m\"\u001b[39m\u001b[38;5;124mgrapes\u001b[39m\u001b[38;5;124m\"\u001b[39m,\u001b[38;5;124m\"\u001b[39m\u001b[38;5;124mwatermelon\u001b[39m\u001b[38;5;124m\"\u001b[39m]\n\u001b[0;32m----> 2\u001b[0m \u001b[43mfruit2\u001b[49m\u001b[38;5;241;43m.\u001b[39;49m\u001b[43mreplace\u001b[49m(\u001b[38;5;124m'\u001b[39m\u001b[38;5;124mstrawberries\u001b[39m\u001b[38;5;124m'\u001b[39m)\n\u001b[1;32m      3\u001b[0m fruit2\n",
      "\u001b[0;31mAttributeError\u001b[0m: 'list' object has no attribute 'replace'"
     ]
    }
   ],
   "source": [
    "fruit2 = [\"apple\",\"orange\",\"grapes\",\"watermelon\"]\n",
    "fruit2.replace('strawberries')\n",
    "fruit2"
   ]
  },
  {
   "cell_type": "code",
   "execution_count": 11,
   "id": "8ce9b092-f64f-43a6-8e33-581a456b724b",
   "metadata": {},
   "outputs": [
    {
     "data": {
      "text/plain": [
       "['apple', 'strawberries', 'grapes', 'watermelon']"
      ]
     },
     "execution_count": 11,
     "metadata": {},
     "output_type": "execute_result"
    }
   ],
   "source": [
    "fruit3 = [\"apple\",\"orange\",\"grapes\",\"watermelon\"]\n",
    "fruit3[1] = \"strawberries\"\n",
    "fruit3"
   ]
  },
  {
   "cell_type": "code",
   "execution_count": 12,
   "id": "35e304ea-cb49-4dfa-9e81-c497ee315b56",
   "metadata": {},
   "outputs": [
    {
     "data": {
      "text/plain": [
       "['strawberries', 'orange', 'grapes', 'watermelon']"
      ]
     },
     "execution_count": 12,
     "metadata": {},
     "output_type": "execute_result"
    }
   ],
   "source": [
    "fruit4 = [\"apple\",\"orange\",\"grapes\",\"watermelon\"]\n",
    "fruit4[0] = \"strawberries\"\n",
    "fruit4\n"
   ]
  },
  {
   "cell_type": "code",
   "execution_count": 13,
   "id": "b849ac20-633d-445f-b7ec-d566c6ea9ed1",
   "metadata": {},
   "outputs": [],
   "source": [
    "#Which of the following snippets can be used to iterate through the list and print its elements?\n",
    "\n",
    "alphabet = ['a','b','c']"
   ]
  },
  {
   "cell_type": "code",
   "execution_count": 14,
   "id": "019391e2-8477-461c-bc9d-8e9bc4b5fee2",
   "metadata": {},
   "outputs": [
    {
     "name": "stdout",
     "output_type": "stream",
     "text": [
      "a\n",
      "b\n",
      "c\n"
     ]
    }
   ],
   "source": [
    "for i in alphabet:\n",
    " print(i)"
   ]
  },
  {
   "cell_type": "code",
   "execution_count": 15,
   "id": "96a461e8-ca32-4897-8279-033ffabc632b",
   "metadata": {},
   "outputs": [
    {
     "ename": "TypeError",
     "evalue": "'list' object cannot be interpreted as an integer",
     "output_type": "error",
     "traceback": [
      "\u001b[0;31m---------------------------------------------------------------------------\u001b[0m",
      "\u001b[0;31mTypeError\u001b[0m                                 Traceback (most recent call last)",
      "Cell \u001b[0;32mIn[15], line 1\u001b[0m\n\u001b[0;32m----> 1\u001b[0m \u001b[38;5;28;01mfor\u001b[39;00m i \u001b[38;5;129;01min\u001b[39;00m \u001b[38;5;28;43mrange\u001b[39;49m\u001b[43m(\u001b[49m\u001b[43malphabet\u001b[49m\u001b[43m)\u001b[49m:\n\u001b[1;32m      2\u001b[0m  \u001b[38;5;28mprint\u001b[39m(i)\n",
      "\u001b[0;31mTypeError\u001b[0m: 'list' object cannot be interpreted as an integer"
     ]
    }
   ],
   "source": [
    "for i in range(alphabet):\n",
    " print(i)"
   ]
  },
  {
   "cell_type": "code",
   "execution_count": 16,
   "id": "d09fde3a-0ce4-49ea-ae53-7f994f2eaf32",
   "metadata": {},
   "outputs": [
    {
     "ename": "SyntaxError",
     "evalue": "Missing parentheses in call to 'print'. Did you mean print(i)? (3270939964.py, line 2)",
     "output_type": "error",
     "traceback": [
      "\u001b[0;36m  Cell \u001b[0;32mIn[16], line 2\u001b[0;36m\u001b[0m\n\u001b[0;31m    print i\u001b[0m\n\u001b[0m          ^\u001b[0m\n\u001b[0;31mSyntaxError\u001b[0m\u001b[0;31m:\u001b[0m Missing parentheses in call to 'print'. Did you mean print(i)?\n"
     ]
    }
   ],
   "source": [
    "for i in alphabet:\n",
    " print i"
   ]
  },
  {
   "cell_type": "code",
   "execution_count": 17,
   "id": "3f0f8c0d-f789-4c31-afeb-d14f26560e5d",
   "metadata": {},
   "outputs": [
    {
     "name": "stdout",
     "output_type": "stream",
     "text": [
      "0\n",
      "1\n",
      "2\n"
     ]
    }
   ],
   "source": [
    "for i in range(len(alphabet)):\n",
    " print(i)"
   ]
  },
  {
   "cell_type": "code",
   "execution_count": null,
   "id": "a20b70fa-6d92-4a21-bf2d-43044ec42818",
   "metadata": {},
   "outputs": [],
   "source": [
    "''' Choose the appropriate snippet to create and print a dictionary with the following information.\n",
    "\n",
    "brand = Audi\n",
    "\n",
    "Model = Q2\n",
    "\n",
    "Year = 1980\n",
    "'''\n"
   ]
  }
 ],
 "metadata": {
  "kernelspec": {
   "display_name": "Python 3 (ipykernel)",
   "language": "python",
   "name": "python3"
  },
  "language_info": {
   "codemirror_mode": {
    "name": "ipython",
    "version": 3
   },
   "file_extension": ".py",
   "mimetype": "text/x-python",
   "name": "python",
   "nbconvert_exporter": "python",
   "pygments_lexer": "ipython3",
   "version": "3.8.18"
  }
 },
 "nbformat": 4,
 "nbformat_minor": 5
}
