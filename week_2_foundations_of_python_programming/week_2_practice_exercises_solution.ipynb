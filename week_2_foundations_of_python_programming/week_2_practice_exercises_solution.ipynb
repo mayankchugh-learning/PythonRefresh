{
 "cells": [
  {
   "cell_type": "markdown",
   "metadata": {},
   "source": [
    "# Week-2 Foundations of Python Programming - Practice Exercises"
   ]
  },
  {
   "cell_type": "markdown",
   "metadata": {
    "id": "g80jOBmjQa_P"
   },
   "source": [
    "### Let's begin with some hands-on practice exercises"
   ]
  },
  {
   "cell_type": "markdown",
   "metadata": {},
   "source": [
    "### 1. Write a program to convert the value of 'pi' to integer"
   ]
  },
  {
   "cell_type": "code",
   "execution_count": 1,
   "metadata": {
    "id": "2dtXGOWZQa_Q"
   },
   "outputs": [
    {
     "name": "stdout",
     "output_type": "stream",
     "text": [
      "Original value of pi: 3.141592653589793\n",
      "Integer value of pi: 3\n"
     ]
    }
   ],
   "source": [
    "import math\n",
    "\n",
    "# Get the value of pi from the math module\n",
    "pi = math.pi\n",
    "\n",
    "# Convert pi to an integer\n",
    "pi_integer = int(pi)\n",
    "\n",
    "# Print the original value of pi and the converted integer value\n",
    "print(\"Original value of pi:\", pi)\n",
    "print(\"Integer value of pi:\", pi_integer)"
   ]
  },
  {
   "cell_type": "markdown",
   "metadata": {},
   "source": [
    "### 2. Find the remainder after dividing 542 by 16"
   ]
  },
  {
   "cell_type": "code",
   "execution_count": 3,
   "metadata": {
    "id": "QCHcvLAFQa_R"
   },
   "outputs": [
    {
     "name": "stdout",
     "output_type": "stream",
     "text": [
      "Remainder after dividing 542 by 16 is: 14\n"
     ]
    }
   ],
   "source": [
    "# Calculate the remainder after dividing 542 by 16\n",
    "remainder = 542 % 16\n",
    "\n",
    "# Print the remainder\n",
    "print(\"Remainder after dividing 542 by 16 is:\", remainder)"
   ]
  },
  {
   "cell_type": "markdown",
   "metadata": {},
   "source": [
    "### 3. Display the following pattern using single print()"
   ]
  },
  {
   "cell_type": "markdown",
   "metadata": {
    "id": "DK3tidsyQa_R"
   },
   "source": [
    "                                *\n",
    "                                **\n",
    "                                ***\n",
    "                                ****"
   ]
  },
  {
   "cell_type": "code",
   "execution_count": 4,
   "metadata": {
    "id": "6DGUY8KZQa_R"
   },
   "outputs": [
    {
     "name": "stdout",
     "output_type": "stream",
     "text": [
      "*\n",
      "**\n",
      "***\n",
      "****\n"
     ]
    }
   ],
   "source": [
    "# type your code here\n",
    "print(\"*\\n**\\n***\\n****\")"
   ]
  },
  {
   "cell_type": "markdown",
   "metadata": {},
   "source": [
    "### 4. Write a pseudo code to check whether an entered letter is a vowel or not"
   ]
  },
  {
   "cell_type": "code",
   "execution_count": 5,
   "metadata": {},
   "outputs": [
    {
     "name": "stdout",
     "output_type": "stream",
     "text": [
      "Enter a letter: o\n",
      "The entered letter is a vowel.\n"
     ]
    }
   ],
   "source": [
    "# type your code here\n",
    "# Read a letter from the user\n",
    "letter = input(\"Enter a letter: \")\n",
    "\n",
    "# Convert the letter to lowercase (optional)\n",
    "letter = letter.lower()\n",
    "\n",
    "# Check if the letter is a vowel\n",
    "if letter == 'a' or letter == 'e' or letter == 'i' or letter == 'o' or letter == 'u':\n",
    "    print(\"The entered letter is a vowel.\")\n",
    "else:\n",
    "    print(\"The entered letter is not a vowel.\")\n"
   ]
  },
  {
   "cell_type": "markdown",
   "metadata": {},
   "source": [
    "### 5. Write a program to swap the two integers passed as runtime variables"
   ]
  },
  {
   "cell_type": "code",
   "execution_count": 6,
   "metadata": {},
   "outputs": [
    {
     "name": "stdout",
     "output_type": "stream",
     "text": [
      "Enter the first integer: 3\n",
      "Enter the second integer: 1\n",
      "Before swapping:\n",
      "First integer: 3\n",
      "Second integer: 1\n",
      "\n",
      "After swapping:\n",
      "First integer: 1\n",
      "Second integer: 3\n"
     ]
    }
   ],
   "source": [
    "# type your code here\n",
    "# Read the two integers from the user as runtime variables\n",
    "num1 = int(input(\"Enter the first integer: \"))\n",
    "num2 = int(input(\"Enter the second integer: \"))\n",
    "\n",
    "# Display the values before swapping\n",
    "print(\"Before swapping:\")\n",
    "print(\"First integer:\", num1)\n",
    "print(\"Second integer:\", num2)\n",
    "\n",
    "# Swap the values\n",
    "temp = num1\n",
    "num1 = num2\n",
    "num2 = temp\n",
    "\n",
    "# Display the values after swapping\n",
    "print(\"\\nAfter swapping:\")\n",
    "print(\"First integer:\", num1)\n",
    "print(\"Second integer:\", num2)\n"
   ]
  },
  {
   "cell_type": "markdown",
   "metadata": {},
   "source": [
    "### 6. Write a program to print the product of two numbers 'x' and 'y'\n",
    "\n",
    "x = 10 ; y = \"15\""
   ]
  },
  {
   "cell_type": "code",
   "execution_count": 7,
   "metadata": {},
   "outputs": [
    {
     "name": "stdout",
     "output_type": "stream",
     "text": [
      "The product of 10 and 15 is: 150\n"
     ]
    }
   ],
   "source": [
    "# type your code here\n",
    "# Define the values of x and y\n",
    "x = 10\n",
    "y = \"15\"\n",
    "\n",
    "# Convert y to an integer\n",
    "y_int = int(y)\n",
    "\n",
    "# Calculate the product of x and y_int\n",
    "product = x * y_int\n",
    "\n",
    "# Print the product\n",
    "print(\"The product of\", x, \"and\", y_int, \"is:\", product)"
   ]
  },
  {
   "cell_type": "markdown",
   "metadata": {},
   "source": [
    "### 7. A text is given below. Write a program to find the character which is at the index position obtained by adding the indices of the character 'o' of the word 'Hello' and 'o' of the word 'welcome'"
   ]
  },
  {
   "cell_type": "markdown",
   "metadata": {
    "id": "YLm7JL-lRGql"
   },
   "source": [
    "<b>string = \"Hello, welcome to my world.\" </b>"
   ]
  },
  {
   "cell_type": "code",
   "execution_count": 8,
   "metadata": {
    "id": "nbCHKkd2RGql"
   },
   "outputs": [
    {
     "name": "stdout",
     "output_type": "stream",
     "text": [
      "The character at the index obtained by adding the indices of 'o' in 'Hello' and 'welcome' is: t\n"
     ]
    }
   ],
   "source": [
    "# type your code here\n",
    "# Define the string\n",
    "string = \"Hello, welcome to my world.\"\n",
    "\n",
    "# Find the indices of 'o' in the words 'Hello' and 'welcome'\n",
    "index_hello_o = string.index('o')\n",
    "index_welcome_o = string.index('o', index_hello_o + 1)  # Start searching for 'o' after the index of 'o' in 'Hello'\n",
    "\n",
    "# Calculate the sum of the indices\n",
    "sum_indices = index_hello_o + index_welcome_o\n",
    "\n",
    "# Find the character at the sum of indices position\n",
    "character_at_index = string[sum_indices]\n",
    "\n",
    "# Print the character\n",
    "print(\"The character at the index obtained by adding the indices of 'o' in 'Hello' and 'welcome' is:\", character_at_index)"
   ]
  },
  {
   "cell_type": "markdown",
   "metadata": {},
   "source": [
    "### 8. Create a tuple with single value '5'"
   ]
  },
  {
   "cell_type": "code",
   "execution_count": 9,
   "metadata": {},
   "outputs": [],
   "source": [
    "# type your code here\n",
    "my_tuple = (5,)"
   ]
  },
  {
   "cell_type": "markdown",
   "metadata": {},
   "source": [
    "### 9. Write a program to append a dictionary to a tuple"
   ]
  },
  {
   "cell_type": "markdown",
   "metadata": {
    "id": "2rQlfk_sRYvQ"
   },
   "source": [
    "**The original tuple : (4, 5, 6)**\n",
    "\n",
    "**Tuple after addition of dictionary : (4, 5, 6, {'gfg': 1, 'is': 2, 'best': 3})**"
   ]
  },
  {
   "cell_type": "code",
   "execution_count": 10,
   "metadata": {
    "id": "LH04fd0nRYvQ",
    "outputId": "9ef4e86b-d375-46ef-8e22-26bbedcc53f2"
   },
   "outputs": [
    {
     "name": "stdout",
     "output_type": "stream",
     "text": [
      "The original tuple: (4, 5, 6)\n",
      "Tuple after addition of dictionary: (4, 5, 6, {'gfg': 1, 'is': 2, 'best': 3})\n"
     ]
    }
   ],
   "source": [
    "# type your code here\n",
    "# Original tuple\n",
    "original_tuple = (4, 5, 6)\n",
    "\n",
    "# Dictionary to append\n",
    "dictionary_to_append = {'gfg': 1, 'is': 2, 'best': 3}\n",
    "\n",
    "# Convert tuple to list\n",
    "tuple_list = list(original_tuple)\n",
    "\n",
    "# Append dictionary to list\n",
    "tuple_list.append(dictionary_to_append)\n",
    "\n",
    "# Convert list back to tuple\n",
    "modified_tuple = tuple(tuple_list)\n",
    "\n",
    "# Print the original tuple and the modified tuple\n",
    "print(\"The original tuple:\", original_tuple)\n",
    "print(\"Tuple after addition of dictionary:\", modified_tuple)"
   ]
  },
  {
   "cell_type": "markdown",
   "metadata": {},
   "source": [
    "### 10. Write a program to check whether two strings are anagram or not (take input from user)"
   ]
  },
  {
   "cell_type": "markdown",
   "metadata": {
    "id": "sWuABQVeRYvQ"
   },
   "source": [
    "**Hint: An anagram of a string is another string that contains same characters, only the order of characters can be different.**"
   ]
  },
  {
   "cell_type": "code",
   "execution_count": 13,
   "metadata": {
    "id": "NyDs2f9URYvR",
    "outputId": "9f1ab8d2-01ab-456c-b773-7f76a58d5246"
   },
   "outputs": [
    {
     "name": "stdout",
     "output_type": "stream",
     "text": [
      "Enter the first string: HELLO\n",
      "Enter the second string: hello\n",
      "The strings 'hello' and 'hello' are anagrams.\n"
     ]
    }
   ],
   "source": [
    "# type your code here\n",
    "# Take input from the user\n",
    "string1 = input(\"Enter the first string: \")\n",
    "string2 = input(\"Enter the second string: \")\n",
    "\n",
    "# Convert both strings to lowercase for case-insensitive comparison\n",
    "string1 = string1.lower()\n",
    "string2 = string2.lower()\n",
    "\n",
    "# Sort the characters in both strings\n",
    "sorted_str1 = sorted(string1)\n",
    "sorted_str2 = sorted(string2)\n",
    "\n",
    "# Check if the sorted strings are equal\n",
    "if sorted_str1 == sorted_str2:\n",
    "    print(\"The strings '{}' and '{}' are anagrams.\".format(string1, string2))\n",
    "else:\n",
    "    print(\"The strings '{}' and '{}' are not anagrams.\".format(string1, string2))"
   ]
  },
  {
   "cell_type": "markdown",
   "metadata": {},
   "source": [
    "### 11. Write a program to add genre to the given dictionary if a book is titled \"The Da Vinci Code\" and was published in 2000 or later, assign its genre as \"Contemporary\"; otherwise, set it as \"Classic\" based on the given details.."
   ]
  },
  {
   "cell_type": "markdown",
   "metadata": {},
   "source": [
    "book = {'title': 'The Da Vinci Code', 'year': 2003}"
   ]
  },
  {
   "cell_type": "code",
   "execution_count": 14,
   "metadata": {},
   "outputs": [
    {
     "name": "stdout",
     "output_type": "stream",
     "text": [
      "Updated dictionary with genre: {'title': 'The Da Vinci Code', 'year': 2003, 'genre': 'Contemporary'}\n"
     ]
    }
   ],
   "source": [
    "# type your code here\n",
    "# Given dictionary\n",
    "book = {'title': 'The Da Vinci Code', 'year': 2003}\n",
    "\n",
    "# Check if the book title is \"The Da Vinci Code\" and if it was published in 2000 or later\n",
    "if book['title'] == \"The Da Vinci Code\" and book['year'] >= 2000:\n",
    "    book['genre'] = \"Contemporary\"\n",
    "else:\n",
    "    book['genre'] = \"Classic\"\n",
    "\n",
    "# Print the updated dictionary with the genre\n",
    "print(\"Updated dictionary with genre:\", book)"
   ]
  },
  {
   "cell_type": "markdown",
   "metadata": {},
   "source": [
    "### 12. Write a program to remove space from keys of the given dictionary (use for loop)"
   ]
  },
  {
   "cell_type": "markdown",
   "metadata": {
    "id": "xdJAcVi-RYvR"
   },
   "source": [
    "**fruity = {'Fruits 01' : 'Apple', 'Fruits 02' : 'Orange', \n",
    "                'Fruits 0 3 ': 'Grapes'}**\n",
    "\n",
    "**(Output) New dictionary :   {'Fruits01': 'Apple', 'Fruits02': 'Orange', 'Fruits03': 'Grapes'}**\n"
   ]
  },
  {
   "cell_type": "code",
   "execution_count": 17,
   "metadata": {
    "id": "YbEfbW3kRYvR",
    "outputId": "023146eb-c237-4868-d754-0a235fc3de1b"
   },
   "outputs": [
    {
     "name": "stdout",
     "output_type": "stream",
     "text": [
      "New dictionary: {'Fruits01': 'Apple', 'Fruits02': 'Orange', 'Fruits03': 'Grapes'}\n"
     ]
    }
   ],
   "source": [
    "# Given dictionary\n",
    "fruity = {'Fruits 01': 'Apple', 'Fruits 02': 'Orange', 'Fruits 0 3 ': 'Grapes'}\n",
    "\n",
    "# Create an empty dictionary to store the updated keys and values\n",
    "new_dict = {}\n",
    "\n",
    "# Iterate over the keys of the original dictionary\n",
    "for key, value in fruity.items():\n",
    "    # Remove spaces from the key and update the new dictionary\n",
    "    new_key = key.replace(' ', '')\n",
    "    new_dict[new_key] = value\n",
    "\n",
    "# Print the updated dictionary\n",
    "print(\"New dictionary:\", new_dict)\n"
   ]
  },
  {
   "cell_type": "markdown",
   "metadata": {},
   "source": [
    "### 13. Write a program to add the cubes of first 5 positive integers (use while loop)"
   ]
  },
  {
   "cell_type": "code",
   "execution_count": 18,
   "metadata": {
    "id": "2XP17s9pRYvS",
    "outputId": "3f962329-1bbb-4c90-fe77-1df8cbde9982"
   },
   "outputs": [
    {
     "name": "stdout",
     "output_type": "stream",
     "text": [
      "The sum of the cubes of the first 5 positive integers is: 225\n"
     ]
    }
   ],
   "source": [
    "# Type answer here\n",
    "# Initialize variables\n",
    "num = 1\n",
    "sum_of_cubes = 0\n",
    "\n",
    "# Iterate using a while loop until num reaches 5\n",
    "while num <= 5:\n",
    "    # Calculate the cube of the current number and add it to the sum\n",
    "    sum_of_cubes += num ** 3\n",
    "    # Increment num\n",
    "    num += 1\n",
    "\n",
    "# Print the sum of the cubes\n",
    "print(\"The sum of the cubes of the first 5 positive integers is:\", sum_of_cubes)\n"
   ]
  },
  {
   "cell_type": "code",
   "execution_count": null,
   "metadata": {},
   "outputs": [],
   "source": []
  }
 ],
 "metadata": {
  "colab": {
   "name": "ITP-Day 1_TH Exercise.ipynb",
   "provenance": []
  },
  "kernelspec": {
   "display_name": "Python 3 (ipykernel)",
   "language": "python",
   "name": "python3"
  },
  "language_info": {
   "codemirror_mode": {
    "name": "ipython",
    "version": 3
   },
   "file_extension": ".py",
   "mimetype": "text/x-python",
   "name": "python",
   "nbconvert_exporter": "python",
   "pygments_lexer": "ipython3",
   "version": "3.9.7"
  }
 },
 "nbformat": 4,
 "nbformat_minor": 1
}
