{
 "cells": [
  {
   "cell_type": "markdown",
   "metadata": {
    "id": "r4J-iIEhf98N"
   },
   "source": [
    "<a id =\"print\"> </a>\n",
    "## 1. Using print()"
   ]
  },
  {
   "cell_type": "markdown",
   "metadata": {},
   "source": [
    "1.1 Write a program to display a statement. For example, \"Hello, How are you?\""
   ]
  },
  {
   "cell_type": "code",
   "execution_count": null,
   "metadata": {
    "id": "AGUtV6eif98O",
    "outputId": "8cf76231-930d-4fd0-b968-4d7efd7bc151"
   },
   "outputs": [
    {
     "name": "stdout",
     "output_type": "stream",
     "text": [
      "Hello, How are you?\n"
     ]
    }
   ],
   "source": [
    "print(\"Hello, How are you?\")"
   ]
  },
  {
   "cell_type": "markdown",
   "metadata": {},
   "source": [
    "1.2 Write the alphabets 'A', 'B', 'C' on new lines using a single print function."
   ]
  },
  {
   "cell_type": "code",
   "execution_count": null,
   "metadata": {
    "id": "FOuP0prhf98Y",
    "outputId": "2fe222bd-b266-4a88-9436-e3c2d5ad36ab"
   },
   "outputs": [
    {
     "name": "stdout",
     "output_type": "stream",
     "text": [
      " A\n",
      " B\n",
      " C\n"
     ]
    }
   ],
   "source": [
    "# use '\\n' to add a new blank line  \n",
    "print(\" A\\n B\\n C\")"
   ]
  },
  {
   "cell_type": "markdown",
   "metadata": {
    "id": "QLSslfFdf98b"
   },
   "source": [
    "<a id=\"types\"> </a>\n",
    "## 2. Data types"
   ]
  },
  {
   "cell_type": "markdown",
   "metadata": {},
   "source": [
    "Create a string, a numeric and boolean variables by assigning variable names. Further, check their datatype. For numeric variable check for whole numbers and numbers with decimal point"
   ]
  },
  {
   "cell_type": "markdown",
   "metadata": {
    "id": "2R8Ix1P4f98c"
   },
   "source": [
    "**Declare a string variable and check its data type.**"
   ]
  },
  {
   "cell_type": "code",
   "execution_count": null,
   "metadata": {
    "id": "WHLlDC8Cf98c",
    "outputId": "06991736-88d8-41ff-b825-dd916d2a793b"
   },
   "outputs": [
    {
     "data": {
      "text/plain": [
       "str"
      ]
     },
     "execution_count": 4,
     "metadata": {
      "tags": []
     },
     "output_type": "execute_result"
    }
   ],
   "source": [
    "# create a string variable\n",
    "string_var = 'Hello, how are you?'\n",
    "\n",
    "# check it's type\n",
    "type(string_var)"
   ]
  },
  {
   "cell_type": "markdown",
   "metadata": {
    "id": "3txBZsy1f98f"
   },
   "source": [
    "**Declare a numeric variable and check its data type.** <br>\n",
    "i. An interger variable."
   ]
  },
  {
   "cell_type": "code",
   "execution_count": null,
   "metadata": {
    "id": "XjWXSx91f98f",
    "outputId": "6be367f4-24b6-4788-bb4a-5049fd41d6c5"
   },
   "outputs": [
    {
     "data": {
      "text/plain": [
       "int"
      ]
     },
     "execution_count": 5,
     "metadata": {
      "tags": []
     },
     "output_type": "execute_result"
    }
   ],
   "source": [
    "# create a numeric variable\n",
    "int_var = 50\n",
    "\n",
    "# check the variable type\n",
    "type(int_var)"
   ]
  },
  {
   "cell_type": "markdown",
   "metadata": {
    "id": "9pgoDopkf98i"
   },
   "source": [
    "ii. A fractional variable"
   ]
  },
  {
   "cell_type": "code",
   "execution_count": null,
   "metadata": {
    "id": "FXKlUr-Af98j",
    "outputId": "69a14dff-d416-4734-f06d-add610969be7"
   },
   "outputs": [
    {
     "data": {
      "text/plain": [
       "float"
      ]
     },
     "execution_count": 6,
     "metadata": {
      "tags": []
     },
     "output_type": "execute_result"
    }
   ],
   "source": [
    "# a fractional numeric variable\n",
    "frac_var = 23.837\n",
    "\n",
    "# check the variable type\n",
    "type(frac_var)"
   ]
  },
  {
   "cell_type": "markdown",
   "metadata": {
    "id": "fET_8WTXf98l"
   },
   "source": [
    "A fractional number is called a floating point number in python.\n",
    "\n",
    "**Note:** Float values are the numeric values specified with a decimal point."
   ]
  },
  {
   "cell_type": "markdown",
   "metadata": {
    "id": "AXxxJmhZf99c"
   },
   "source": [
    "<a id=\"boolean\"></a>\n",
    "## 3. Boolean Operations"
   ]
  },
  {
   "cell_type": "markdown",
   "metadata": {},
   "source": [
    "Check whether the expression (54+34)* 45 is equal to the expression (0.9*2432)/0.9"
   ]
  },
  {
   "cell_type": "code",
   "execution_count": null,
   "metadata": {
    "id": "yCHZR2-4f99d",
    "outputId": "f98f06e1-1cef-44d0-d508-3edd9b7db6db"
   },
   "outputs": [
    {
     "data": {
      "text/plain": [
       "False"
      ]
     },
     "execution_count": 29,
     "metadata": {
      "tags": []
     },
     "output_type": "execute_result"
    }
   ],
   "source": [
    "(54+34)* 45 ==  (0.9*2432)/0.9"
   ]
  },
  {
   "cell_type": "markdown",
   "metadata": {
    "id": "IShIieCJf99f"
   },
   "source": [
    "<a id=\"concatenation\"></a>\n",
    "## 4. Concatenation"
   ]
  },
  {
   "cell_type": "markdown",
   "metadata": {},
   "source": [
    "4.1 Create two strings and concatenate them using '+' operator."
   ]
  },
  {
   "cell_type": "code",
   "execution_count": null,
   "metadata": {
    "id": "HDtwbAmQf99g"
   },
   "outputs": [],
   "source": [
    "sentence_1 = 'We shall learn Python.'"
   ]
  },
  {
   "cell_type": "code",
   "execution_count": null,
   "metadata": {
    "id": "AjCNea97f99i"
   },
   "outputs": [],
   "source": [
    "sentence_2 = 'Specifically, python for data science.'"
   ]
  },
  {
   "cell_type": "code",
   "execution_count": null,
   "metadata": {
    "id": "3_CIWE3Kf99k",
    "outputId": "2f642498-2949-4cdc-a564-335f33be24fa"
   },
   "outputs": [
    {
     "data": {
      "text/plain": [
       "'We shall learn Python.Specifically, python for data science.'"
      ]
     },
     "execution_count": 32,
     "metadata": {
      "tags": []
     },
     "output_type": "execute_result"
    }
   ],
   "source": [
    "sentence_1 + sentence_2"
   ]
  },
  {
   "cell_type": "markdown",
   "metadata": {
    "id": "OL9cj_rRf983"
   },
   "source": [
    "<a id=\"arithmetic\"></a>\n",
    "## 5. Arithmetic Operations"
   ]
  },
  {
   "cell_type": "markdown",
   "metadata": {},
   "source": [
    "5.1 Evaluate 145 into 354 minus 1345 divided by 45 plus (462 plus 23) divided by 3"
   ]
  },
  {
   "cell_type": "code",
   "execution_count": null,
   "metadata": {
    "id": "QsxIiLCYf984",
    "outputId": "5f454eaf-f4d4-4d89-fdf3-63b70d6ffc42"
   },
   "outputs": [
    {
     "data": {
      "text/plain": [
       "51461.777777777774"
      ]
     },
     "execution_count": 13,
     "metadata": {
      "tags": []
     },
     "output_type": "execute_result"
    }
   ],
   "source": [
    "145*354 - 1345/45 + (462+23)/3"
   ]
  },
  {
   "cell_type": "markdown",
   "metadata": {
    "id": "evfNPtAOf986"
   },
   "source": [
    "**Note:** The Heirarchy of the arithmetic operators is as follows:<br>\n",
    "1) Parentheses <br>\n",
    "2) Exponential<br>\n",
    "3) Multiplication (from left to right) <br> \n",
    "4) Division (from left to right) <br>\n",
    "5) Addition<br>\n",
    "6) Subtraction<br>\n",
    "\n",
    "It is generally abbreviated as PEMDAS."
   ]
  },
  {
   "cell_type": "markdown",
   "metadata": {},
   "source": [
    "5.2 Evaluate and print the results of the following \\\n",
    "1353 plus 234 \\\n",
    "2355 minus 346 \\\n",
    "234 times 457 \\\n",
    "25 divided by 6 \\\n",
    "Obtain remainder of 25 divided by 6 \\\n",
    "33 raised to 4 \\\n",
    "45 divided by 6 (floor division) \\\n",
    "2 raised to 10"
   ]
  },
  {
   "cell_type": "code",
   "execution_count": null,
   "metadata": {
    "id": "nH8wSFdAf987",
    "outputId": "dee6c200-2091-4438-86e1-4742e1a2cda9"
   },
   "outputs": [
    {
     "data": {
      "text/plain": [
       "1587"
      ]
     },
     "execution_count": 14,
     "metadata": {
      "tags": []
     },
     "output_type": "execute_result"
    }
   ],
   "source": [
    "# 1353 plus 234\n",
    "1353 + 234"
   ]
  },
  {
   "cell_type": "code",
   "execution_count": null,
   "metadata": {
    "id": "-nJWC6q9f989",
    "outputId": "0cec6ead-1f0f-43fd-ea3a-facdca905525"
   },
   "outputs": [
    {
     "data": {
      "text/plain": [
       "2009"
      ]
     },
     "execution_count": 15,
     "metadata": {
      "tags": []
     },
     "output_type": "execute_result"
    }
   ],
   "source": [
    "# 2355 minus 346\n",
    "2355 - 346"
   ]
  },
  {
   "cell_type": "code",
   "execution_count": null,
   "metadata": {
    "id": "FH0Tmzeqf98_",
    "outputId": "6efef6eb-2179-4307-aef6-e0c0be323b8d"
   },
   "outputs": [
    {
     "data": {
      "text/plain": [
       "106938"
      ]
     },
     "execution_count": 16,
     "metadata": {
      "tags": []
     },
     "output_type": "execute_result"
    }
   ],
   "source": [
    "# 234 times 457\n",
    "234 * 457"
   ]
  },
  {
   "cell_type": "code",
   "execution_count": null,
   "metadata": {
    "id": "4_Z37IQBf99C",
    "outputId": "d7008b24-1c03-4283-c0b2-d9db9472fa6a"
   },
   "outputs": [
    {
     "data": {
      "text/plain": [
       "4.166666666666667"
      ]
     },
     "execution_count": 17,
     "metadata": {
      "tags": []
     },
     "output_type": "execute_result"
    }
   ],
   "source": [
    "# 25 divided by 6\n",
    "25 / 6"
   ]
  },
  {
   "cell_type": "code",
   "execution_count": null,
   "metadata": {
    "id": "Ggk_Rkrff99F",
    "outputId": "c2f6629e-2246-4f84-ca79-9a41fbc64371"
   },
   "outputs": [
    {
     "data": {
      "text/plain": [
       "1"
      ]
     },
     "execution_count": 18,
     "metadata": {
      "tags": []
     },
     "output_type": "execute_result"
    }
   ],
   "source": [
    "# Obtain remainder of 25 divided by 6\n",
    "25 % 6"
   ]
  },
  {
   "cell_type": "code",
   "execution_count": null,
   "metadata": {
    "id": "g_WmYi6rf99H",
    "outputId": "b200e3d8-1435-4ea7-f13b-587ea0e80ed8"
   },
   "outputs": [
    {
     "data": {
      "text/plain": [
       "1185921"
      ]
     },
     "execution_count": 19,
     "metadata": {
      "tags": []
     },
     "output_type": "execute_result"
    }
   ],
   "source": [
    "# 33 raised to 4\n",
    "33**4"
   ]
  },
  {
   "cell_type": "code",
   "execution_count": null,
   "metadata": {
    "id": "bZUWe88Bf99J",
    "outputId": "bd196aa5-2153-4b6f-cc05-aff612b6015e"
   },
   "outputs": [
    {
     "data": {
      "text/plain": [
       "7"
      ]
     },
     "execution_count": 20,
     "metadata": {
      "tags": []
     },
     "output_type": "execute_result"
    }
   ],
   "source": [
    "# 45 divided by 6 (floor division)\n",
    "45 // 6"
   ]
  },
  {
   "cell_type": "code",
   "execution_count": null,
   "metadata": {
    "id": "U3n1nvB2f99M",
    "outputId": "5284a05f-3bda-4962-aed1-fae6b9d6162e",
    "scrolled": true
   },
   "outputs": [
    {
     "data": {
      "text/plain": [
       "1024"
      ]
     },
     "execution_count": 21,
     "metadata": {
      "tags": []
     },
     "output_type": "execute_result"
    }
   ],
   "source": [
    "# 2 raised to 10\n",
    "2**10"
   ]
  },
  {
   "cell_type": "markdown",
   "metadata": {},
   "source": [
    "5.3 Calculate BMI of a person (take input for height and weight from user)"
   ]
  },
  {
   "cell_type": "code",
   "execution_count": null,
   "metadata": {
    "id": "2Qt2koNvAATP",
    "outputId": "e92a0d18-b738-488e-ea90-705bb5845cd3"
   },
   "outputs": [
    {
     "name": "stdout",
     "output_type": "stream",
     "text": [
      "Height (in m):1.62\n",
      "Weight (in kg):65\n"
     ]
    },
    {
     "data": {
      "text/plain": [
       "24.76756591982929"
      ]
     },
     "execution_count": 22,
     "metadata": {
      "tags": []
     },
     "output_type": "execute_result"
    }
   ],
   "source": [
    "# consider the runtime variables 'height' and 'weight'\n",
    "height = input('Height (in m):')\n",
    "weight = input('Weight (in kg):')\n",
    "\n",
    "# change the type of runtime variables to 'float' to calculate the BMI\n",
    "height = float(height)\n",
    "weight = float(weight)\n",
    "\n",
    "# compute BMI \n",
    "BMI = weight/(height**2)\n",
    "\n",
    "# print the value of BMI\n",
    "BMI"
   ]
  },
  {
   "cell_type": "markdown",
   "metadata": {},
   "source": [
    "## 6.List"
   ]
  },
  {
   "cell_type": "markdown",
   "metadata": {},
   "source": [
    "6.1 Write a program to perform following list operations on the list given below:\n",
    "\n",
    "a. Check the length of mix_list_1 \\\n",
    "b. Check the membership of '24' in mix_list_1 \\\n",
    "c. Concatenate the mix_list_1 and mix_list_2 \\\n",
    "d. Repeat the mix_list_2 three times"
   ]
  },
  {
   "cell_type": "markdown",
   "metadata": {
    "id": "DAow3UNDCqww"
   },
   "source": [
    "**Lists to perform operations:**\n",
    "\n",
    "mix_list_1 = ['Learn', 24, 'Blue', False, -8]\n",
    "\n",
    "mix_list_2 = [4, 7, 'Summer']"
   ]
  },
  {
   "cell_type": "markdown",
   "metadata": {
    "id": "jE_4LnVYCqww"
   },
   "source": [
    "**a. Check the length of mix_list_1**"
   ]
  },
  {
   "cell_type": "code",
   "execution_count": null,
   "metadata": {
    "id": "K9s2IjqTCqww",
    "outputId": "639c8162-51b2-4b02-c85b-ad5446774281"
   },
   "outputs": [
    {
     "name": "stdout",
     "output_type": "stream",
     "text": [
      "5\n"
     ]
    }
   ],
   "source": [
    "mix_list_1 = ['Learn', 24, 'Blue', False, -8]\n",
    "\n",
    "# len() returns number of elements in the list\n",
    "print(len(mix_list_1))"
   ]
  },
  {
   "cell_type": "markdown",
   "metadata": {
    "id": "lc373gjNCqwx"
   },
   "source": [
    "**b. Check the membership of '24' in mix_list_1**"
   ]
  },
  {
   "cell_type": "code",
   "execution_count": null,
   "metadata": {
    "id": "S4SiFh4tCqwx",
    "outputId": "6ec11b84-8de4-424b-e138-abbd6c1fd162"
   },
   "outputs": [
    {
     "name": "stdout",
     "output_type": "stream",
     "text": [
      "True\n"
     ]
    }
   ],
   "source": [
    "mix_list_1 = ['Learn', 24, 'Blue', False, -8]\n",
    "\n",
    "# check if the element '24' is present in the list or not\n",
    "print(24 in mix_list_1)"
   ]
  },
  {
   "cell_type": "markdown",
   "metadata": {
    "id": "mhdSC7csCqwx"
   },
   "source": [
    "**c. Concatenate the mix_list_1 and mix_list_2**"
   ]
  },
  {
   "cell_type": "code",
   "execution_count": null,
   "metadata": {
    "id": "sFw6p4imCqwy",
    "outputId": "38ea8cfb-e6ac-48ed-9573-32a440577b2b"
   },
   "outputs": [
    {
     "name": "stdout",
     "output_type": "stream",
     "text": [
      "['Learn', 24, 'Blue', False, -8, 4, 7, 'Summer']\n"
     ]
    }
   ],
   "source": [
    "mix_list_1 = ['Learn', 24, 'Blue', False, -8]\n",
    "mix_list_2 = [4, 7, 'Summer']\n",
    "\n",
    "# concate the above two lists\n",
    "concatenation = mix_list_1 + mix_list_2\n",
    "print(concatenation)"
   ]
  },
  {
   "cell_type": "markdown",
   "metadata": {
    "id": "vgeh198nCqwy"
   },
   "source": [
    "**d. Repeat the mix_list_2 three times**"
   ]
  },
  {
   "cell_type": "code",
   "execution_count": null,
   "metadata": {
    "id": "VJ2ltmYCCqwy",
    "outputId": "e8454ae4-902f-4feb-b5ed-208150d4d3d7"
   },
   "outputs": [
    {
     "name": "stdout",
     "output_type": "stream",
     "text": [
      "[4, 7, 'Summer', 4, 7, 'Summer', 4, 7, 'Summer']\n"
     ]
    }
   ],
   "source": [
    "mix_list_2 = [4, 7, 'Summer']\n",
    "\n",
    "# repeat the elements in the list\n",
    "repeat = mix_list_2*3\n",
    "print(repeat)"
   ]
  },
  {
   "cell_type": "markdown",
   "metadata": {},
   "source": [
    "6.2 Write the program to multiply the two lists"
   ]
  },
  {
   "cell_type": "markdown",
   "metadata": {
    "id": "7KbZCl4HCqwz"
   },
   "source": [
    "**Lists to perform multiplication:**\n",
    "\n",
    "num_list_1 = [1, 2, 3, 4]\n",
    "\n",
    "num_list_2 = [0, 5, 2, 1]"
   ]
  },
  {
   "cell_type": "code",
   "execution_count": null,
   "metadata": {
    "id": "unDEWuWRCqwz",
    "outputId": "5e17f71e-7859-4107-f8c9-1115968ef109"
   },
   "outputs": [
    {
     "ename": "TypeError",
     "evalue": "can't multiply sequence by non-int of type 'list'",
     "output_type": "error",
     "traceback": [
      "\u001b[1;31m---------------------------------------------------------------------------\u001b[0m",
      "\u001b[1;31mTypeError\u001b[0m                                 Traceback (most recent call last)",
      "\u001b[1;32m<ipython-input-5-3173fdb7ed00>\u001b[0m in \u001b[0;36m<module>\u001b[1;34m()\u001b[0m\n\u001b[0;32m      3\u001b[0m \u001b[1;33m\u001b[0m\u001b[0m\n\u001b[0;32m      4\u001b[0m \u001b[1;31m# multiply the above lists\u001b[0m\u001b[1;33m\u001b[0m\u001b[1;33m\u001b[0m\u001b[0m\n\u001b[1;32m----> 5\u001b[1;33m \u001b[0mmultiplication\u001b[0m \u001b[1;33m=\u001b[0m \u001b[0mnum_list_1\u001b[0m \u001b[1;33m*\u001b[0m \u001b[0mnum_list_2\u001b[0m\u001b[1;33m\u001b[0m\u001b[0m\n\u001b[0m\u001b[0;32m      6\u001b[0m \u001b[0mmultiplication\u001b[0m\u001b[1;33m\u001b[0m\u001b[0m\n",
      "\u001b[1;31mTypeError\u001b[0m: can't multiply sequence by non-int of type 'list'"
     ]
    }
   ],
   "source": [
    "num_list_1 = [1, 2, 3, 4]\n",
    "num_list_2 = [0, 5, 2, 1]\n",
    "\n",
    "# multiply the above lists\n",
    "multiplication = num_list_1 * num_list_2\n",
    "multiplication"
   ]
  },
  {
   "cell_type": "markdown",
   "metadata": {
    "id": "0D8gWKXkCqwz"
   },
   "source": [
    "**One can not perform element-wise multiplication of lists using the above method.**"
   ]
  },
  {
   "cell_type": "markdown",
   "metadata": {},
   "source": [
    "6.3 Write a code to retrieve elements from a list\n",
    "\n",
    "a. First element \\\n",
    "b. Second last element \\\n",
    "c. First three elements \\\n",
    "d. Slice the list from 1st index till the last index with an increment of an index by 2"
   ]
  },
  {
   "cell_type": "markdown",
   "metadata": {
    "id": "AGu5-jN9Cqw0"
   },
   "source": [
    "**Use the below list**\n",
    "\n",
    "mix_list = ['Python', 1, 2, 3, 'Data', True] "
   ]
  },
  {
   "cell_type": "markdown",
   "metadata": {
    "id": "lW6xO502Cqw0"
   },
   "source": [
    "**a. First element**"
   ]
  },
  {
   "cell_type": "code",
   "execution_count": null,
   "metadata": {
    "id": "grrsD6nICqw0",
    "outputId": "12e8b834-4465-42b4-985b-fe6dbca8afbd"
   },
   "outputs": [
    {
     "name": "stdout",
     "output_type": "stream",
     "text": [
      "First element: Python\n"
     ]
    }
   ],
   "source": [
    "mix_list = ['Python', 1, 2, 3, 'Data', True]\n",
    "\n",
    "# list indices starts from 0\n",
    "print('First element:', mix_list[0])"
   ]
  },
  {
   "cell_type": "markdown",
   "metadata": {
    "id": "sd-1uJpaCqw0"
   },
   "source": [
    "**b. Second last element**"
   ]
  },
  {
   "cell_type": "code",
   "execution_count": null,
   "metadata": {
    "id": "pPnF-l-MCqw0",
    "outputId": "cfa87cd0-d21d-4a67-8ae8-19204947f54d"
   },
   "outputs": [
    {
     "name": "stdout",
     "output_type": "stream",
     "text": [
      "Second last element: Data\n"
     ]
    }
   ],
   "source": [
    "mix_list = ['Python', 1, 2, 3, 'Data', True]\n",
    "\n",
    "# negative indices retrieve elements from last element \n",
    "# mix_list[-1] will give the last element\n",
    "print('Second last element:', mix_list[-2])"
   ]
  },
  {
   "cell_type": "markdown",
   "metadata": {
    "id": "unX1z47fCqw0"
   },
   "source": [
    "**c. First three elements**"
   ]
  },
  {
   "cell_type": "code",
   "execution_count": null,
   "metadata": {
    "id": "vQSJhx0YCqw0",
    "outputId": "074275fb-c2c9-423e-b13b-cef0ad73152f",
    "scrolled": true
   },
   "outputs": [
    {
     "name": "stdout",
     "output_type": "stream",
     "text": [
      "First three elements: ['Python', 1, 2]\n"
     ]
    }
   ],
   "source": [
    "mix_list = ['Python', 1, 2, 3, 'Data', True]\n",
    "\n",
    "# [0:3] returns the first three elements in the list\n",
    "print('First three elements:', mix_list[0:3])"
   ]
  },
  {
   "cell_type": "markdown",
   "metadata": {},
   "source": [
    "6.4 Manipulating a list:\n",
    "\n",
    "a. Add a new element 'Data' in the given list \\\n",
    "b. Add elements 'Excel' and 'Data' in the given list \\\n",
    "c. Replace an element 'C' with 'C++' in the given list"
   ]
  },
  {
   "cell_type": "markdown",
   "metadata": {
    "id": "IM8bKpUHCqw3"
   },
   "source": [
    "#### Use the below list\n",
    "\n",
    "languages_list = ['R', 'Python', 'C', 'Java']"
   ]
  },
  {
   "cell_type": "markdown",
   "metadata": {
    "id": "0iwGKFhpCqw3"
   },
   "source": [
    "**a. Add a new element 'Data' in the given list**"
   ]
  },
  {
   "cell_type": "code",
   "execution_count": null,
   "metadata": {
    "id": "ELZHSaVrCqw3",
    "outputId": "2780015c-583b-426a-a963-6b16ed779096"
   },
   "outputs": [
    {
     "name": "stdout",
     "output_type": "stream",
     "text": [
      "new_list: ['R', 'Python', 'C', 'Java', 'Data']\n"
     ]
    }
   ],
   "source": [
    "languages_list = ['R','Python', 'C', 'Java']\n",
    "\n",
    "# using .append() to add single element\n",
    "languages_list.append('Data')\n",
    "print('new_list:', languages_list)"
   ]
  },
  {
   "cell_type": "markdown",
   "metadata": {
    "id": "r7dorCypCqw3"
   },
   "source": [
    "**b. Add elements 'Excel' and 'Data' in the given list**"
   ]
  },
  {
   "cell_type": "code",
   "execution_count": null,
   "metadata": {
    "id": "V5Dinw5UCqw3",
    "outputId": "c7964e29-195e-40ed-9612-5a72b15a9db1"
   },
   "outputs": [
    {
     "name": "stdout",
     "output_type": "stream",
     "text": [
      "new_list: ['R', 'Python', 'C', 'Java', 'Excel', 'Data']\n"
     ]
    }
   ],
   "source": [
    "languages_list = ['R','Python', 'C', 'Java']\n",
    "\n",
    "# using .extend() to add two elements\n",
    "languages_list.extend(['Excel', 'Data'])\n",
    "print('new_list:', languages_list)"
   ]
  },
  {
   "cell_type": "markdown",
   "metadata": {
    "id": "oKQ65qHtCqw3"
   },
   "source": [
    "**NOTE: The function append() adds its argument as a single list of elements; thus increasing the length of the list by one.<br>\n",
    " extend() iterates over its argument adding each element to the list; thus the length of the list increases by the number of elements in the iterable argument.**\n",
    " \n",
    "See the example below:"
   ]
  },
  {
   "cell_type": "code",
   "execution_count": null,
   "metadata": {
    "id": "y5rhdvYCCqw4",
    "outputId": "409d37c9-13be-4eb4-8087-1eff74956418"
   },
   "outputs": [
    {
     "name": "stdout",
     "output_type": "stream",
     "text": [
      "given_list [1, 2, 3]\n",
      "updated list: [1, 2, 3, [4, 5]]\n"
     ]
    }
   ],
   "source": [
    "# Example\n",
    "\n",
    "given_list = [1,2,3]\n",
    "print('given_list',given_list)\n",
    "# add elements 4 and 5\n",
    "\n",
    "# append() adds the elements 4 and 5 as one element to the list\n",
    "given_list.append([4,5])\n",
    "\n",
    "print('updated list:', given_list)"
   ]
  },
  {
   "cell_type": "code",
   "execution_count": null,
   "metadata": {
    "id": "bX7-fdQrCqw4",
    "outputId": "b2218110-294f-475c-ddcf-43ab8e43ebcd"
   },
   "outputs": [
    {
     "name": "stdout",
     "output_type": "stream",
     "text": [
      "given_list [1, 2, 3]\n",
      "updated list: [1, 2, 3, 4, 5]\n"
     ]
    }
   ],
   "source": [
    "given_list = [1,2,3]\n",
    "print('given_list',given_list)\n",
    "\n",
    "# add elements 4 and 5\n",
    "# extend() adds the elements 4 and 5 as two elements to the list\n",
    "given_list.extend([4,5])\n",
    "\n",
    "print('updated list:', given_list)"
   ]
  },
  {
   "cell_type": "markdown",
   "metadata": {
    "id": "mL4jLxiyCqw4"
   },
   "source": [
    "**c. Replace an element 'C' with 'C++' in the given list**"
   ]
  },
  {
   "cell_type": "code",
   "execution_count": null,
   "metadata": {
    "id": "15W42AEdCqw4",
    "outputId": "54da562d-4ce8-4083-c581-dd88b8314563"
   },
   "outputs": [
    {
     "name": "stdout",
     "output_type": "stream",
     "text": [
      "new_list: ['R', 'Python', 'C++', 'Java']\n"
     ]
    }
   ],
   "source": [
    "languages_list = ['R','Python', 'C', 'Java']\n",
    "\n",
    "# replace 'C' with 'C++'\n",
    "languages_list[2] = 'C++'\n",
    "print('new_list:', languages_list)"
   ]
  },
  {
   "cell_type": "markdown",
   "metadata": {},
   "source": [
    "6.5 How many times 'Summer' is occuring in a given list?"
   ]
  },
  {
   "cell_type": "markdown",
   "metadata": {
    "id": "bo4kScvZCqw4"
   },
   "source": [
    "#### Use the below list\n",
    "\n",
    "seasons_list = ['Summer', 'Winter', 'Spring', 'Winter', 'Spring' ,'Summer', 'Spring', 'Summer', 'Winter', 'Summer', 'Spring']"
   ]
  },
  {
   "cell_type": "code",
   "execution_count": null,
   "metadata": {
    "id": "8ETmvDZlCqw4",
    "outputId": "ce1736e3-718b-4578-f71e-8ee841a65adc"
   },
   "outputs": [
    {
     "data": {
      "text/plain": [
       "4"
      ]
     },
     "execution_count": 21,
     "metadata": {},
     "output_type": "execute_result"
    }
   ],
   "source": [
    "# given list\n",
    "seasons_list = ['Summer', 'Winter', 'Spring', 'Winter', 'Spring' ,'Summer', 'Spring', 'Summer', 'Winter', 'Summer', 'Spring']\n",
    "\n",
    "# count the number of times 'Summer' occurs in a given list\n",
    "seasons_list.count('Summer')"
   ]
  },
  {
   "cell_type": "markdown",
   "metadata": {
    "id": "4RTyQ5rrCqw4"
   },
   "source": [
    "## 7. Tuple\n",
    "7.1 Write a code to perform operations on tuple:\n",
    "\n",
    "a. Check the length of num_tuple \\\n",
    "b. Concatenate the num_tuple and mix_tuple \\\n",
    "c. Repeat the mix_tuple two times"
   ]
  },
  {
   "cell_type": "markdown",
   "metadata": {
    "id": "wZcmWQzjCqw5"
   },
   "source": [
    "**Tuples to perform operations:**\n",
    "\n",
    "num_tuple = (4, 4, 8)\n",
    "\n",
    "mix_tuple = 'John', 5, -2"
   ]
  },
  {
   "cell_type": "markdown",
   "metadata": {
    "id": "BJihWwnMCqw5"
   },
   "source": [
    "**a. Check the length of num_tuple**"
   ]
  },
  {
   "cell_type": "code",
   "execution_count": null,
   "metadata": {
    "id": "zE3P9HM0Cqw5",
    "outputId": "22df3678-1d69-4c8b-8e89-8347a9b20204"
   },
   "outputs": [
    {
     "name": "stdout",
     "output_type": "stream",
     "text": [
      "3\n"
     ]
    }
   ],
   "source": [
    "num_tuple = (4, 4, 8)\n",
    "\n",
    "# number of elements in the list\n",
    "print(len(num_tuple))"
   ]
  },
  {
   "cell_type": "markdown",
   "metadata": {
    "id": "fkzrXf8JCqw5"
   },
   "source": [
    "**b. Concatenate the num_tuple and mix_tuple**"
   ]
  },
  {
   "cell_type": "code",
   "execution_count": null,
   "metadata": {
    "id": "MbXz5I4jCqw5",
    "outputId": "247668e8-fcd3-493d-eb56-9be6cfb0b109"
   },
   "outputs": [
    {
     "name": "stdout",
     "output_type": "stream",
     "text": [
      "(4, 4, 8, 'John', 5, -2)\n"
     ]
    }
   ],
   "source": [
    "num_tuple = (4, 4, 8)\n",
    "mix_tuple = 'John', 5, -2\n",
    "\n",
    "# concate the above two tuples\n",
    "concatenation = num_tuple + mix_tuple\n",
    "print(concatenation)"
   ]
  },
  {
   "cell_type": "markdown",
   "metadata": {
    "id": "sheOtjZECqw5"
   },
   "source": [
    "**c. Repeat the mix_tuple two times**"
   ]
  },
  {
   "cell_type": "code",
   "execution_count": null,
   "metadata": {
    "id": "p_uI2Bm5Cqw5",
    "outputId": "a0f09898-c55a-4b6b-9442-8d4fdda8fc96",
    "scrolled": true
   },
   "outputs": [
    {
     "data": {
      "text/plain": [
       "('John', 5, -2, 'John', 5, -2)"
      ]
     },
     "execution_count": 24,
     "metadata": {},
     "output_type": "execute_result"
    }
   ],
   "source": [
    "mix_tuple = 'John', 5, -2\n",
    "\n",
    "# repeat the tuple twice\n",
    "repetition = mix_tuple * 2\n",
    "repetition"
   ]
  },
  {
   "cell_type": "markdown",
   "metadata": {},
   "source": [
    "7.2 Replace the elements in the given tuple:\n",
    "\n",
    "a. Replace '2' with '3'\n",
    "b. Replace 'True' in first element with 'False'"
   ]
  },
  {
   "cell_type": "markdown",
   "metadata": {
    "id": "dbverhxWCqw6"
   },
   "source": [
    "**Use the tuple below:**\n",
    "\n",
    "mix_tuple = (['a', 1, True], 2, 'Science', -5)"
   ]
  },
  {
   "cell_type": "markdown",
   "metadata": {
    "id": "bxh7uAg1Cqw6"
   },
   "source": [
    "**a. Replace '2' with '3'**"
   ]
  },
  {
   "cell_type": "code",
   "execution_count": null,
   "metadata": {
    "id": "YH1ACFQ6Cqw6",
    "outputId": "4f985667-db2d-4870-9590-508997f14787"
   },
   "outputs": [
    {
     "ename": "TypeError",
     "evalue": "'tuple' object does not support item assignment",
     "output_type": "error",
     "traceback": [
      "\u001b[1;31m---------------------------------------------------------------------------\u001b[0m",
      "\u001b[1;31mTypeError\u001b[0m                                 Traceback (most recent call last)",
      "\u001b[1;32m<ipython-input-26-3d34db8698bc>\u001b[0m in \u001b[0;36m<module>\u001b[1;34m()\u001b[0m\n\u001b[0;32m      2\u001b[0m \u001b[1;33m\u001b[0m\u001b[0m\n\u001b[0;32m      3\u001b[0m \u001b[1;31m# replace '2' with '3'\u001b[0m\u001b[1;33m\u001b[0m\u001b[1;33m\u001b[0m\u001b[0m\n\u001b[1;32m----> 4\u001b[1;33m \u001b[0mmix_tuple\u001b[0m\u001b[1;33m[\u001b[0m\u001b[1;36m1\u001b[0m\u001b[1;33m]\u001b[0m \u001b[1;33m=\u001b[0m \u001b[1;36m3\u001b[0m\u001b[1;33m\u001b[0m\u001b[0m\n\u001b[0m\u001b[0;32m      5\u001b[0m \u001b[1;33m\u001b[0m\u001b[0m\n\u001b[0;32m      6\u001b[0m \u001b[0mprint\u001b[0m\u001b[1;33m(\u001b[0m\u001b[0mmix_tuple\u001b[0m\u001b[1;33m)\u001b[0m\u001b[1;33m\u001b[0m\u001b[0m\n",
      "\u001b[1;31mTypeError\u001b[0m: 'tuple' object does not support item assignment"
     ]
    }
   ],
   "source": [
    "mix_tuple = (['a', 1, True], 2, 'Science', -5)\n",
    "\n",
    "# replace '2' with '3'\n",
    "mix_tuple[1] = 3\n",
    "\n",
    "print(mix_tuple)"
   ]
  },
  {
   "cell_type": "markdown",
   "metadata": {
    "id": "wQIqQdAcCqw6"
   },
   "source": [
    "**Since, tuples are immutable, one can not modify the elements. But it can contain mutable elements like lists.**<br><br>\n",
    "\n",
    "**b. Replace 'True' in first element of the tuple with 'False'**"
   ]
  },
  {
   "cell_type": "code",
   "execution_count": null,
   "metadata": {
    "id": "7mCcjX66Cqw6",
    "outputId": "63c27a48-3b39-4ae6-f6b5-3216ff352d25"
   },
   "outputs": [
    {
     "name": "stdout",
     "output_type": "stream",
     "text": [
      "updated tuple: (['a', 1, False], 2, 'Science', -5)\n"
     ]
    }
   ],
   "source": [
    "mix_tuple = (['a', 1, True], 2, 'Science', -5)\n",
    "\n",
    "# 'True' is at 2nd index position in the list, which is at 0th position in the tuple\n",
    "mix_tuple[0][2] = False\n",
    "\n",
    "print('updated tuple:', mix_tuple)"
   ]
  },
  {
   "cell_type": "markdown",
   "metadata": {
    "id": "mVBzmc_8Cqw6"
   },
   "source": [
    "## 8.Set\n",
    "8.1 Write the program to perform following manipulations:\n",
    "\n",
    "a. Add '7' to the given set\n",
    "b. Remove '3' from a given set\n",
    "c. Clear the set"
   ]
  },
  {
   "cell_type": "markdown",
   "metadata": {
    "id": "Gh77UkvWCqw6"
   },
   "source": [
    "**Use the below set for manipulation**\n",
    "\n",
    "num_set = {1, 2, 3, 4, 5, 6}"
   ]
  },
  {
   "cell_type": "markdown",
   "metadata": {
    "id": "HH2xLD-iCqw7"
   },
   "source": [
    "**a. Add '7' to the given set**"
   ]
  },
  {
   "cell_type": "code",
   "execution_count": null,
   "metadata": {
    "id": "R4M-klc-Cqw7",
    "outputId": "11ad7059-825f-4411-c5f7-ba0affe618ed"
   },
   "outputs": [
    {
     "name": "stdout",
     "output_type": "stream",
     "text": [
      "updated set: {1, 2, 3, 4, 5, 6, 7}\n"
     ]
    }
   ],
   "source": [
    "num_set = {1, 2, 3, 4, 5, 6}\n",
    "\n",
    "# add() adds a new element to the set\n",
    "num_set.add(7)\n",
    "print('updated set:', num_set)"
   ]
  },
  {
   "cell_type": "markdown",
   "metadata": {
    "id": "OHbfGzHZCqw7"
   },
   "source": [
    "**b. Remove '3' from a given set**"
   ]
  },
  {
   "cell_type": "code",
   "execution_count": null,
   "metadata": {
    "id": "y5TlhZzbCqw7",
    "outputId": "73990001-5343-420d-8960-fb886da14223"
   },
   "outputs": [
    {
     "name": "stdout",
     "output_type": "stream",
     "text": [
      "updated set: {1, 2, 4, 5, 6}\n"
     ]
    }
   ],
   "source": [
    "num_set = {1, 2, 3, 4, 5, 6}\n",
    "\n",
    "# remove() returns the set after removal of the element\n",
    "num_set.remove(3)\n",
    "print('updated set:', num_set)"
   ]
  },
  {
   "cell_type": "markdown",
   "metadata": {
    "id": "FKwRnMZCCqw7"
   },
   "source": [
    "**c. Clear the set**"
   ]
  },
  {
   "cell_type": "code",
   "execution_count": null,
   "metadata": {
    "id": "FDIaweRYCqw7",
    "outputId": "eeb22d77-c5ce-4939-ce9f-031af5972141"
   },
   "outputs": [
    {
     "name": "stdout",
     "output_type": "stream",
     "text": [
      "set()\n"
     ]
    }
   ],
   "source": [
    "num_set = {1, 2, 3, 4, 5, 6}\n",
    "\n",
    "# clear() returns an empty set\n",
    "num_set.clear()\n",
    "print(num_set)"
   ]
  },
  {
   "cell_type": "markdown",
   "metadata": {},
   "source": [
    "8.2 Create two sets of words from the given sentences and perform the following operations:\n",
    "\n",
    "a. Find the count of unique words in each of the sentence \\\n",
    "b. Find the common words in both the sentences "
   ]
  },
  {
   "cell_type": "markdown",
   "metadata": {
    "id": "bTr22F8rCqw7"
   },
   "source": [
    "**Use the sentences given below:**\n",
    "    \n",
    "sentence_1 = 'We shall analyse the data using python' \n",
    "\n",
    "sentence_2 = 'Python for data science'"
   ]
  },
  {
   "cell_type": "markdown",
   "metadata": {
    "id": "oLxhbsjXCqw7"
   },
   "source": [
    "**Create set of words**"
   ]
  },
  {
   "cell_type": "code",
   "execution_count": null,
   "metadata": {
    "id": "OkXrH-9iCqw7"
   },
   "outputs": [],
   "source": [
    "sentence_1 = 'We shall analyse the data using python'\n",
    "sentence_2 = 'Specifically, python for data science'\n",
    "\n",
    "# create a set of words\n",
    "sen_1_words = set(sentence_1.split())\n",
    "sen_2_words = set(sentence_2.split())"
   ]
  },
  {
   "cell_type": "markdown",
   "metadata": {
    "id": "5qDOJPIVCqw8"
   },
   "source": [
    "**a. Find the number of unique words in the sentences**"
   ]
  },
  {
   "cell_type": "code",
   "execution_count": null,
   "metadata": {
    "id": "oQepiQUICqw8",
    "outputId": "9902d61d-b3b6-4653-e771-aa3c1e57485f"
   },
   "outputs": [
    {
     "name": "stdout",
     "output_type": "stream",
     "text": [
      "Number of unique words in 1st sentence: 7\n",
      "Number of unique words in 2nd sentence: 5\n"
     ]
    }
   ],
   "source": [
    "# number of unique words in sentence_1\n",
    "no_of_unique_words_in_sentence1 = len(sen_1_words)\n",
    "print('Number of unique words in 1st sentence:', no_of_unique_words_in_sentence1)\n",
    "\n",
    "# number of unique words in sentence_2\n",
    "no_of_unique_words_in_sentence2 = len(sen_2_words)\n",
    "print('Number of unique words in 2nd sentence:', no_of_unique_words_in_sentence2)"
   ]
  },
  {
   "cell_type": "markdown",
   "metadata": {
    "id": "Ll0Z33_1Cqw8"
   },
   "source": [
    "**b. Find the common words in both the sentences**"
   ]
  },
  {
   "cell_type": "code",
   "execution_count": null,
   "metadata": {
    "id": "54fXg6wUCqw8",
    "outputId": "b0568c6a-4096-4e0e-f449-97d56445c5f2"
   },
   "outputs": [
    {
     "name": "stdout",
     "output_type": "stream",
     "text": [
      "The common words between the two sentences: {'data', 'python'}\n"
     ]
    }
   ],
   "source": [
    "# intersection() returns common elements in the sets\n",
    "common_words = sen_1_words.intersection(sen_2_words)\n",
    "print('The common words between the two sentences:', common_words)"
   ]
  },
  {
   "cell_type": "markdown",
   "metadata": {
    "id": "CZRoG0_gCqw-"
   },
   "source": [
    "<a id=\"dict\"> </a>\n",
    "## 9. Dictionary"
   ]
  },
  {
   "cell_type": "markdown",
   "metadata": {},
   "source": [
    "9.1 Write a code to add a key to a dictionary"
   ]
  },
  {
   "cell_type": "markdown",
   "metadata": {
    "id": "7sO9f3foCqw-"
   },
   "source": [
    "**Use the given dictionary and add a key (4:16)**\n",
    "\n",
    "square_dictionary = {1:1, 2:4, 3:9}"
   ]
  },
  {
   "cell_type": "code",
   "execution_count": null,
   "metadata": {
    "id": "jWvg2gVbCqw-",
    "outputId": "c9b9e76f-64e4-45c6-e310-88eec80f01ac"
   },
   "outputs": [
    {
     "name": "stdout",
     "output_type": "stream",
     "text": [
      "updated dictionary: {1: 1, 2: 4, 3: 9, 4: 16}\n"
     ]
    }
   ],
   "source": [
    "square_dictionary = {1:1, 2:4, 3:9}\n",
    "\n",
    "# add a key using 'update()'\n",
    "square_dictionary.update({4:16})\n",
    "print('updated dictionary:', square_dictionary)"
   ]
  },
  {
   "cell_type": "markdown",
   "metadata": {},
   "source": [
    "9.2 Write a program to retrieve the keys/values of dictionary"
   ]
  },
  {
   "cell_type": "markdown",
   "metadata": {
    "id": "_NYbLssUCqw-"
   },
   "source": [
    "**Use the dictionary**\n",
    "\n",
    "mix_dictionary = {0:3, 'x':5, 1:2}"
   ]
  },
  {
   "cell_type": "code",
   "execution_count": null,
   "metadata": {
    "id": "CoVYNvXdCqw-",
    "outputId": "5f71940a-7325-41ed-edd4-fa1672b8b443"
   },
   "outputs": [
    {
     "name": "stdout",
     "output_type": "stream",
     "text": [
      "Keys: dict_keys([0, 'x', 1])\n",
      "Values: dict_values([3, 5, 2])\n"
     ]
    }
   ],
   "source": [
    "mix_dictionary = {0:3, 'x':5, 1:2}\n",
    "\n",
    "# keys() returns the keys in the dictionary\n",
    "print('Keys:', mix_dictionary.keys())\n",
    "\n",
    "# values() returns the corresponding values of the keys\n",
    "print('Values:', mix_dictionary.values())"
   ]
  },
  {
   "cell_type": "markdown",
   "metadata": {},
   "source": [
    "9.3 Write a program to get the value for 'Age' from the dictionary"
   ]
  },
  {
   "cell_type": "markdown",
   "metadata": {
    "id": "P1K4RdTxCqw-"
   },
   "source": [
    "**Use the dictionary**\n",
    "\n",
    "emp_record = {'Weight': 67, 'BMI': 25, 'Age': 27, 'Profession': 'CA'}"
   ]
  },
  {
   "cell_type": "code",
   "execution_count": null,
   "metadata": {
    "id": "iW0p9h4NCqw_",
    "outputId": "23d94345-c7ca-480d-812d-0d514e96e9f0"
   },
   "outputs": [
    {
     "name": "stdout",
     "output_type": "stream",
     "text": [
      "27\n"
     ]
    }
   ],
   "source": [
    "emp_record = {'Weight': 67, 'BMI': 25, 'Age': 27, 'Profession': 'CA'}\n",
    "\n",
    "# print the age \n",
    "print(emp_record['Age'])"
   ]
  },
  {
   "cell_type": "markdown",
   "metadata": {
    "id": "5dkQCFEqQB7R"
   },
   "source": [
    "<a id=\"cond\"> </a>\n",
    "## 10. Conditional Statements"
   ]
  },
  {
   "cell_type": "markdown",
   "metadata": {},
   "source": [
    "10.1 Write a program to check whether a given number is multiple of 7 (use if statement)"
   ]
  },
  {
   "cell_type": "code",
   "execution_count": null,
   "metadata": {
    "id": "FWmqt9z4QB7S",
    "outputId": "5a68cf96-515f-4311-e5ab-0b5daca1d2b8"
   },
   "outputs": [
    {
     "name": "stdout",
     "output_type": "stream",
     "text": [
      "28 is a multiple of 7.\n"
     ]
    }
   ],
   "source": [
    "# consider a number\n",
    "number = 28\n",
    "\n",
    "# pass condition to 'if' statement\n",
    "if number%7== 0:\n",
    "    print(number, \"is a multiple of 7.\")"
   ]
  },
  {
   "cell_type": "markdown",
   "metadata": {
    "id": "2V0rJ98ZQB7T"
   },
   "source": [
    "The print statement is executed only if the 'if' condition is true. Else, the print statement is not executed and there will be no output."
   ]
  },
  {
   "cell_type": "markdown",
   "metadata": {},
   "source": [
    "10.2 Write a code to print the maximum of two numbers (use if-else)"
   ]
  },
  {
   "cell_type": "code",
   "execution_count": null,
   "metadata": {
    "id": "mmgwY0pJQB7T",
    "outputId": "c4059569-de7b-4cba-d219-a485e8e24d1b"
   },
   "outputs": [
    {
     "name": "stdout",
     "output_type": "stream",
     "text": [
      "x = 55 is the maximum number\n"
     ]
    }
   ],
   "source": [
    "# consider the numbers\n",
    "x = 55\n",
    "y = 7\n",
    "\n",
    "# pass condition to 'if' statement\n",
    "if (x < y):\n",
    "    print('y =' +' '+ str(y)  +' '+ 'is the maximum number')\n",
    "else:\n",
    "    print('x =' +' '+ str(x)  +' '+ 'is the maximum number')"
   ]
  },
  {
   "cell_type": "markdown",
   "metadata": {},
   "source": [
    "10.3 Write a program to check whether a number is positive, negative or zero (use if-elif)"
   ]
  },
  {
   "cell_type": "code",
   "execution_count": null,
   "metadata": {
    "id": "FL6gTkidQB7U",
    "outputId": "31c7c060-9a41-41f3-e4cd-1b4c9dbb4fac"
   },
   "outputs": [
    {
     "name": "stdout",
     "output_type": "stream",
     "text": [
      "Number is positive\n"
     ]
    }
   ],
   "source": [
    "# consider a number\n",
    "number = 45\n",
    "\n",
    "# pass condition to 'if' statement\n",
    "if number == 0:\n",
    "    print(\"Number is zero\")\n",
    "    \n",
    "# pass condition to 'elif' statement\n",
    "elif number > 0:\n",
    "    print(\"Number is positive\")                  \n",
    "else:\n",
    "    print(\"Number is negative\")"
   ]
  },
  {
   "cell_type": "markdown",
   "metadata": {
    "id": "vys6i9wOQB7U"
   },
   "source": [
    "<a id= \"flow_control\"> </a>\n",
    "## 11. Python Flow Control"
   ]
  },
  {
   "cell_type": "markdown",
   "metadata": {},
   "source": [
    "11.1 Write a code to print table of 5 using assignment operand +="
   ]
  },
  {
   "cell_type": "code",
   "execution_count": null,
   "metadata": {
    "id": "oE5IVF_2QB7U",
    "outputId": "3cff3b89-e329-4e79-8595-4197cb3f354d"
   },
   "outputs": [
    {
     "name": "stdout",
     "output_type": "stream",
     "text": [
      "5 times 1 is 5\n",
      "5 times 2 is 10\n",
      "5 times 3 is 15\n",
      "5 times 4 is 20\n",
      "5 times 5 is 25\n",
      "5 times 6 is 30\n",
      "5 times 7 is 35\n",
      "5 times 8 is 40\n",
      "5 times 9 is 45\n",
      "5 times 10 is 50\n"
     ]
    }
   ],
   "source": [
    "# to write table of 5 until 10 using assignment operand +=\n",
    "total = 0\n",
    "for i in [1,2,3,4,5,6,7,8,9,10]:\n",
    "    total += 5\n",
    "    print('5 times %d is %d' %(i, total))"
   ]
  },
  {
   "cell_type": "markdown",
   "metadata": {},
   "source": [
    "8.2 Write a program for generating a fibonacci series starting with 0 and 1 for the next 10 values using a while loop"
   ]
  },
  {
   "cell_type": "code",
   "execution_count": null,
   "metadata": {
    "id": "7_gnOME3QB7U",
    "outputId": "c30f6a01-051c-4b9b-dcee-4bb405b038b8"
   },
   "outputs": [
    {
     "name": "stdout",
     "output_type": "stream",
     "text": [
      "The fibonnaci series is: [0, 1, 1, 2, 3, 5, 8, 13, 21, 34, 55, 89]\n"
     ]
    }
   ],
   "source": [
    "a = 0\n",
    "b = 1\n",
    "fibo = [a, b]\n",
    "i=1\n",
    "while i < 11: \n",
    "    c = a + b\n",
    "    a = b\n",
    "    b = c\n",
    "    i +=1\n",
    "    fibo.append(b) \n",
    "    \n",
    "print (\"The fibonnaci series is:\" , fibo)    "
   ]
  },
  {
   "cell_type": "markdown",
   "metadata": {},
   "source": [
    "## 12. Print Patterns"
   ]
  },
  {
   "cell_type": "markdown",
   "metadata": {},
   "source": [
    "12.1 How to print full pyramid and asterisk(star) patterns in python"
   ]
  },
  {
   "cell_type": "code",
   "execution_count": 6,
   "metadata": {},
   "outputs": [
    {
     "name": "stdout",
     "output_type": "stream",
     "text": [
      "Print full triangle using stars\n",
      "        *   \n",
      "       *  *   \n",
      "      *  *  *   \n",
      "     *  *  *  *   \n",
      "    *  *  *  *  *   \n"
     ]
    }
   ],
   "source": [
    "print(\"Print full triangle using stars\")\n",
    "size = 5\n",
    "m = (2 * size) - 2\n",
    "for i in range(0, size):\n",
    "    for j in range(0, m):\n",
    "        print(end=\" \")\n",
    "    m = m - 1 # decrementing m after each loop\n",
    "    for j in range(0, i + 1):\n",
    "        # printing full Triangle pyramid using stars\n",
    "        print(\"* \", end=' ')\n",
    "    print(\" \")"
   ]
  },
  {
   "cell_type": "markdown",
   "metadata": {},
   "source": [
    "12.2 Form a lower tringular matrix in ' * ' pattern"
   ]
  },
  {
   "cell_type": "code",
   "execution_count": 7,
   "metadata": {},
   "outputs": [
    {
     "name": "stdout",
     "output_type": "stream",
     "text": [
      "* \n",
      "* * \n",
      "* * * \n",
      "* * * * \n",
      "* * * * * \n"
     ]
    }
   ],
   "source": [
    "for i in range(0, 5):\n",
    "    for j in range(0, i+1):\n",
    "        print(\"* \",end=\"\")\n",
    "    print()"
   ]
  },
  {
   "cell_type": "code",
   "execution_count": null,
   "metadata": {},
   "outputs": [],
   "source": []
  }
 ],
 "metadata": {
  "colab": {
   "name": "ITP-Day 1_IC Solution.ipynb",
   "provenance": []
  },
  "kernelspec": {
   "display_name": "Python 3 (ipykernel)",
   "language": "python",
   "name": "python3"
  },
  "language_info": {
   "codemirror_mode": {
    "name": "ipython",
    "version": 3
   },
   "file_extension": ".py",
   "mimetype": "text/x-python",
   "name": "python",
   "nbconvert_exporter": "python",
   "pygments_lexer": "ipython3",
   "version": "3.8.18"
  }
 },
 "nbformat": 4,
 "nbformat_minor": 4
}
