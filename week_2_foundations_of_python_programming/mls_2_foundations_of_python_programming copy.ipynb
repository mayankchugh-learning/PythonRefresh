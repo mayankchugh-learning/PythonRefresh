{
 "cells": [
  {
   "cell_type": "markdown",
   "metadata": {
    "id": "dSVuC3c9zAft"
   },
   "source": [
    "# Week-2 Foundations of Python Programming - MLS"
   ]
  },
  {
   "cell_type": "markdown",
   "metadata": {
    "id": "LFqGx_Dhf98M"
   },
   "source": [
    "## Table of Content\n",
    "1. Print\n",
    "2. Data Types\n",
    "3. Boolean Operations\n",
    "4. Concatenation\n",
    "5. Arithmetic Operations\n",
    "6. List\n",
    "7. Tuple\n",
    "8. Set\n",
    "9. Dictionary\n",
    "10. Conditional Statements\n",
    "11. Python Control Flow\n",
    "12. Print Patterns"
   ]
  },
  {
   "cell_type": "markdown",
   "metadata": {
    "id": "r4J-iIEhf98N"
   },
   "source": [
    "## Print\n",
    "1.1 Write a program to display a statement. For example, \"Hello, How are you?\""
   ]
  },
  {
   "cell_type": "code",
   "execution_count": 1,
   "metadata": {
    "id": "TZatTfxJjAUr",
    "outputId": "69c7ca2c-a479-4ae1-889f-e18fe4e956b8"
   },
   "outputs": [
    {
     "name": "stdout",
     "output_type": "stream",
     "text": [
      "Hello, How are you?\n"
     ]
    }
   ],
   "source": [
    "# type your code here\n",
    "print(\"Hello, How are you?\")"
   ]
  },
  {
   "cell_type": "markdown",
   "metadata": {
    "id": "1qmkJjrszAfy"
   },
   "source": [
    "1.2 Write the alphabets 'A', 'B', 'C' on new lines using a single print function."
   ]
  },
  {
   "cell_type": "code",
   "execution_count": 2,
   "metadata": {
    "id": "SdmwGdgxjAUz"
   },
   "outputs": [
    {
     "name": "stdout",
     "output_type": "stream",
     "text": [
      "A\n",
      "B\n",
      "C\n"
     ]
    }
   ],
   "source": [
    "# type your code here\n",
    "print(\"A\\nB\\nC\")"
   ]
  },
  {
   "cell_type": "markdown",
   "metadata": {
    "id": "QLSslfFdf98b"
   },
   "source": [
    "<a id=\"types\"> </a>\n",
    "## 2. Data types\n",
    "Create a string, a numeric and boolean variables by assigning variable names. Further, check their datatype. For numeric variable check for whole numbers and numbers with decimal point"
   ]
  },
  {
   "cell_type": "markdown",
   "metadata": {
    "id": "2R8Ix1P4f98c"
   },
   "source": [
    "2.1 Declare a string variable and check its data type"
   ]
  },
  {
   "cell_type": "code",
   "execution_count": 3,
   "metadata": {
    "id": "G9tUhjLzjAU4"
   },
   "outputs": [
    {
     "data": {
      "text/plain": [
       "str"
      ]
     },
     "execution_count": 3,
     "metadata": {},
     "output_type": "execute_result"
    }
   ],
   "source": [
    "# type your code here\n",
    "str = \"hello\"\n",
    "type(str)"
   ]
  },
  {
   "cell_type": "markdown",
   "metadata": {
    "id": "3txBZsy1f98f"
   },
   "source": [
    "2.2 Declare a numeric variable and check its data type \\\n",
    "i. An interger variable."
   ]
  },
  {
   "cell_type": "code",
   "execution_count": 4,
   "metadata": {
    "id": "YLEBSRgwjAU7"
   },
   "outputs": [
    {
     "data": {
      "text/plain": [
       "int"
      ]
     },
     "execution_count": 4,
     "metadata": {},
     "output_type": "execute_result"
    }
   ],
   "source": [
    "# type your code here\n",
    "num = 100\n",
    "type(num)"
   ]
  },
  {
   "cell_type": "markdown",
   "metadata": {
    "id": "9pgoDopkf98i"
   },
   "source": [
    "ii. A fractional variable"
   ]
  },
  {
   "cell_type": "code",
   "execution_count": 5,
   "metadata": {
    "id": "-MnJNs3wjAU_"
   },
   "outputs": [
    {
     "data": {
      "text/plain": [
       "float"
      ]
     },
     "execution_count": 5,
     "metadata": {},
     "output_type": "execute_result"
    }
   ],
   "source": [
    "# type your code here\n",
    "fracNum = 10.\n",
    "type(fracNum)"
   ]
  },
  {
   "cell_type": "markdown",
   "metadata": {
    "id": "AXxxJmhZf99c"
   },
   "source": [
    "<a id=\"boolean\"></a>\n",
    "## 3. Boolean Operations"
   ]
  },
  {
   "cell_type": "markdown",
   "metadata": {
    "id": "JZK5kOB9zAf1"
   },
   "source": [
    "Check whether the expression (54+34)* 45 is equal to the expression (0.9*2432)/0.9"
   ]
  },
  {
   "cell_type": "code",
   "execution_count": 6,
   "metadata": {
    "id": "ZcU5ccNkjAVf"
   },
   "outputs": [
    {
     "data": {
      "text/plain": [
       "False"
      ]
     },
     "execution_count": 6,
     "metadata": {},
     "output_type": "execute_result"
    }
   ],
   "source": [
    "# type your code here\n",
    "(54+34)* 45 == (0.9*2432)/0.9"
   ]
  },
  {
   "cell_type": "markdown",
   "metadata": {
    "id": "IShIieCJf99f"
   },
   "source": [
    "<a id=\"concatenation\"></a>\n",
    "## 4. Concatenation"
   ]
  },
  {
   "cell_type": "markdown",
   "metadata": {
    "id": "82jaPbMCzAf1"
   },
   "source": [
    "4.1 Create two strings and concatenate them using '+' operator."
   ]
  },
  {
   "cell_type": "code",
   "execution_count": 7,
   "metadata": {
    "id": "sv3wPchOjAVi"
   },
   "outputs": [
    {
     "name": "stdout",
     "output_type": "stream",
     "text": [
      "string2 string2\n"
     ]
    }
   ],
   "source": [
    "# type your code here\n",
    "str1 = \"string1\"\n",
    "str2 = \"string2\"\n",
    "print(str2+\" \"+str2)"
   ]
  },
  {
   "cell_type": "markdown",
   "metadata": {
    "id": "OL9cj_rRf983"
   },
   "source": [
    "## 5. Arithmetic Operations"
   ]
  },
  {
   "cell_type": "markdown",
   "metadata": {
    "id": "d-fDNYvpzAf2"
   },
   "source": [
    "5.1 Evaluate 145 into 354 minus 1345 divided by 45 plus (462 plus 23) divided by 3"
   ]
  },
  {
   "cell_type": "code",
   "execution_count": 8,
   "metadata": {
    "id": "0WSGZCeQjAVO"
   },
   "outputs": [
    {
     "name": "stdout",
     "output_type": "stream",
     "text": [
      "51461.777777777774\n"
     ]
    }
   ],
   "source": [
    "# type your code here\n",
    "var = 145*354-1345/45+ (462+23)/3\n",
    "print(var)"
   ]
  },
  {
   "cell_type": "markdown",
   "metadata": {
    "id": "is1xvVPAzAf2"
   },
   "source": [
    "5.2 Evaluate and print the results of the following \\\n",
    "1353 plus 234 \\\n",
    "2355 minus 346 \\\n",
    "234 times 457 \\\n",
    "25 divided by 6 \\\n",
    "Obtain remainder of 25 divided by 6 \\\n",
    "33 raised to 4 \\\n",
    "45 divided by 6 (floor division) \\\n",
    "2 raised to 10"
   ]
  },
  {
   "cell_type": "code",
   "execution_count": 9,
   "metadata": {
    "id": "i87c8jfIjAVR"
   },
   "outputs": [
    {
     "name": "stdout",
     "output_type": "stream",
     "text": [
      "1587\n",
      "2009\n",
      "106938\n",
      "4.166666666666667\n",
      "1\n",
      "1185921\n",
      "7\n",
      "8\n"
     ]
    }
   ],
   "source": [
    "# type your code here\n",
    "print(1353+234)\n",
    "print(2355-346)\n",
    "print(234*457)\n",
    "print(25/6)\n",
    "print(25%6)\n",
    "print(33**4)\n",
    "print(45//6)\n",
    "print(2^10)\n",
    "1.67"
   ]
  },
  {
   "cell_type": "markdown",
   "metadata": {
    "id": "xl5wPTg_zAf2"
   },
   "source": [
    "5.3  Calculate BMI of a person (take input for height and weight from user)."
   ]
  },
  {
   "cell_type": "code",
   "execution_count": 14,
   "metadata": {
    "id": "8-izYT9kjAVU"
   },
   "outputs": [
    {
     "name": "stdin",
     "output_type": "stream",
     "text": [
      "Please enter height (in m):  1.67\n",
      "Please enter weight (in kg):  87\n"
     ]
    }
   ],
   "source": [
    "# type your code here\n",
    "height = input(\"Please enter height (in m): \")\n",
    "weight = input(\"Please enter weight (in kg): \")\n",
    "height = float(height)\n",
    "weight = float(weight)\n",
    "bmi = weight/(height**2)"
   ]
  },
  {
   "cell_type": "code",
   "execution_count": 15,
   "metadata": {},
   "outputs": [
    {
     "name": "stdout",
     "output_type": "stream",
     "text": [
      "31.1950948402596\n"
     ]
    }
   ],
   "source": [
    "print(bmi)"
   ]
  },
  {
   "cell_type": "markdown",
   "metadata": {
    "id": "xozR0EP9Hq77"
   },
   "source": [
    "<a id=\"list\"> </a>\n",
    "## 6. List"
   ]
  },
  {
   "cell_type": "markdown",
   "metadata": {
    "id": "qul0qpBtzAf2"
   },
   "source": [
    "6.1 Write a program to perform following list operations on the list given below:\n",
    "\n",
    "a. Check the length of mix_list_1 \\\n",
    "b. Check the membership of '24' in mix_list_1 \\\n",
    "c. Concatenate the mix_list_1 and mix_list_2 \\\n",
    "d. Repeat the mix_list_2 three times"
   ]
  },
  {
   "cell_type": "markdown",
   "metadata": {
    "id": "y5fuZzHvHq78"
   },
   "source": [
    "**Lists to perform operations:**\n",
    "\n",
    "mix_list_1 = ['Learn', 24, 'Blue', False, -8]\n",
    "\n",
    "mix_list_2 = [4, 7, 'Summer']"
   ]
  },
  {
   "cell_type": "markdown",
   "metadata": {
    "id": "fb4IvjnCHq79"
   },
   "source": [
    "**a. Check the length of mix_list_1**"
   ]
  },
  {
   "cell_type": "code",
   "execution_count": 16,
   "metadata": {
    "id": "2LoU4Gt2Hq79"
   },
   "outputs": [
    {
     "data": {
      "text/plain": [
       "5"
      ]
     },
     "execution_count": 16,
     "metadata": {},
     "output_type": "execute_result"
    }
   ],
   "source": [
    "# type your code here\n",
    "mix_list_1 = ['Learn', 24, 'Blue', False, -8]\n",
    "len(mix_list_1)"
   ]
  },
  {
   "cell_type": "markdown",
   "metadata": {
    "id": "EHjSh-veHq8C"
   },
   "source": [
    "**b. Check the membership of '24' in mix_list_1**"
   ]
  },
  {
   "cell_type": "code",
   "execution_count": 17,
   "metadata": {
    "id": "xy0gdMTsHq8C"
   },
   "outputs": [
    {
     "data": {
      "text/plain": [
       "True"
      ]
     },
     "execution_count": 17,
     "metadata": {},
     "output_type": "execute_result"
    }
   ],
   "source": [
    "# type your code here\n",
    "24 in mix_list_1"
   ]
  },
  {
   "cell_type": "markdown",
   "metadata": {
    "id": "NggnUh-sHq8F"
   },
   "source": [
    "**c. Concatenate the mix_list_1 and mix_list_2**"
   ]
  },
  {
   "cell_type": "code",
   "execution_count": 20,
   "metadata": {
    "id": "zkokv2UxHq8F"
   },
   "outputs": [
    {
     "data": {
      "text/plain": [
       "['Learn', 24, 'Blue', False, -8, 4, 7, 'Summer']"
      ]
     },
     "execution_count": 20,
     "metadata": {},
     "output_type": "execute_result"
    }
   ],
   "source": [
    "# type your code here\n",
    "mix_list_2 = [4, 7, 'Summer']\n",
    "\n",
    "mix_list_1 + mix_list_2"
   ]
  },
  {
   "cell_type": "markdown",
   "metadata": {
    "id": "KXnGgSLHHq8I"
   },
   "source": [
    "**d. Repeat the mix_list_2 three times**"
   ]
  },
  {
   "cell_type": "code",
   "execution_count": 19,
   "metadata": {
    "id": "7_9BewysHq8I"
   },
   "outputs": [
    {
     "data": {
      "text/plain": [
       "[4, 7, 'Summer', 4, 7, 'Summer', 4, 7, 'Summer']"
      ]
     },
     "execution_count": 19,
     "metadata": {},
     "output_type": "execute_result"
    }
   ],
   "source": [
    "# type your code here\n",
    "mix_list_2 * 3"
   ]
  },
  {
   "cell_type": "markdown",
   "metadata": {
    "id": "fgSeN9dbzAf9"
   },
   "source": [
    "6.2 Write the program to multiply the two lists"
   ]
  },
  {
   "cell_type": "markdown",
   "metadata": {
    "id": "Rz2kjxyYHq8L"
   },
   "source": [
    "**Lists to perform multiplication:**\n",
    "\n",
    "num_list_1 = [1, 2, 3, 4]\n",
    "\n",
    "num_list_2 = [0, 5, 2, 1]"
   ]
  },
  {
   "cell_type": "code",
   "execution_count": 22,
   "metadata": {
    "id": "Fu5bsAB3Hq8M"
   },
   "outputs": [
    {
     "ename": "TypeError",
     "evalue": "can't multiply sequence by non-int of type 'list'",
     "output_type": "error",
     "traceback": [
      "\u001b[0;31m---------------------------------------------------------------------------\u001b[0m",
      "\u001b[0;31mTypeError\u001b[0m                                 Traceback (most recent call last)",
      "Cell \u001b[0;32mIn[22], line 4\u001b[0m\n\u001b[1;32m      2\u001b[0m num_list_1 \u001b[38;5;241m=\u001b[39m [\u001b[38;5;241m1\u001b[39m, \u001b[38;5;241m2\u001b[39m, \u001b[38;5;241m3\u001b[39m, \u001b[38;5;241m4\u001b[39m]\n\u001b[1;32m      3\u001b[0m num_list_2 \u001b[38;5;241m=\u001b[39m [\u001b[38;5;241m0\u001b[39m, \u001b[38;5;241m5\u001b[39m, \u001b[38;5;241m2\u001b[39m, \u001b[38;5;241m1\u001b[39m]\n\u001b[0;32m----> 4\u001b[0m \u001b[43mnum_list_1\u001b[49m\u001b[43m \u001b[49m\u001b[38;5;241;43m*\u001b[39;49m\u001b[43m \u001b[49m\u001b[43mnum_list_2\u001b[49m\n",
      "\u001b[0;31mTypeError\u001b[0m: can't multiply sequence by non-int of type 'list'"
     ]
    }
   ],
   "source": [
    "# type your code here\n",
    "num_list_1 = [1, 2, 3, 4]\n",
    "num_list_2 = [0, 5, 2, 1]\n",
    "\n",
    "num_list_1 * num_list_2"
   ]
  },
  {
   "cell_type": "markdown",
   "metadata": {
    "id": "hVjfuMQ_zAf9"
   },
   "source": [
    "6.3 Write a code to retrieve elements from a list\n",
    "\n",
    "a. First element \\\n",
    "b. Second last element \\\n",
    "c. First three elements \\\n",
    "d. Slice the list from 1st index till the last index with an increment of an index by 2"
   ]
  },
  {
   "cell_type": "markdown",
   "metadata": {
    "id": "C7-N9cjuHq8P"
   },
   "source": [
    "**Use the below list**\n",
    "\n",
    "mix_list = ['Python', 1, 2, 3, 'Data', True]"
   ]
  },
  {
   "cell_type": "markdown",
   "metadata": {
    "id": "5gvhfoqGHq8Q"
   },
   "source": [
    "**a. First element**"
   ]
  },
  {
   "cell_type": "code",
   "execution_count": 24,
   "metadata": {
    "id": "RnPABxeeHq8R"
   },
   "outputs": [
    {
     "data": {
      "text/plain": [
       "'Python'"
      ]
     },
     "execution_count": 24,
     "metadata": {},
     "output_type": "execute_result"
    }
   ],
   "source": [
    "# type your code here\n",
    "mix_list = ['Python', 1, 2, 3, 'Data', True]\n",
    "mix_list[0]"
   ]
  },
  {
   "cell_type": "markdown",
   "metadata": {
    "id": "O4D_YwEEHq8U"
   },
   "source": [
    "**b. Second last element**"
   ]
  },
  {
   "cell_type": "code",
   "execution_count": 27,
   "metadata": {
    "id": "qoNIWqPcHq8U"
   },
   "outputs": [
    {
     "data": {
      "text/plain": [
       "'Data'"
      ]
     },
     "execution_count": 27,
     "metadata": {},
     "output_type": "execute_result"
    }
   ],
   "source": [
    "# type your code here\n",
    "mix_list[-2]"
   ]
  },
  {
   "cell_type": "markdown",
   "metadata": {
    "id": "KkYrr5nxHq8X"
   },
   "source": [
    "**c. First three elements**"
   ]
  },
  {
   "cell_type": "code",
   "execution_count": 29,
   "metadata": {
    "id": "cNrHgcS3Hq8Y"
   },
   "outputs": [
    {
     "data": {
      "text/plain": [
       "['Python', 1, 2]"
      ]
     },
     "execution_count": 29,
     "metadata": {},
     "output_type": "execute_result"
    }
   ],
   "source": [
    "# type your code here\n",
    "mix_list[0:3]"
   ]
  },
  {
   "cell_type": "markdown",
   "metadata": {
    "id": "BfhQanNHzAf-"
   },
   "source": [
    "6.4 Manipulating a list:\n",
    "\n",
    "a. Add a new element 'Data' in the given list \\\n",
    "b. Add elements 'Excel' and 'Data' in the given list \\\n",
    "c. Replace an element 'C' with 'C++' in the given list"
   ]
  },
  {
   "cell_type": "markdown",
   "metadata": {
    "id": "6ksiCCmSHq8v"
   },
   "source": [
    "#### Use the below list\n",
    "\n",
    "languages_list = ['R', 'Python', 'C', 'Java']"
   ]
  },
  {
   "cell_type": "markdown",
   "metadata": {
    "id": "N1ZIGDiDHq8v"
   },
   "source": [
    "**a. Add a new element 'Data' in the given list**"
   ]
  },
  {
   "cell_type": "code",
   "execution_count": 31,
   "metadata": {
    "id": "pqdSAn1MHq8w"
   },
   "outputs": [
    {
     "data": {
      "text/plain": [
       "['R', 'Python', 'C', 'Java', 'Data']"
      ]
     },
     "execution_count": 31,
     "metadata": {},
     "output_type": "execute_result"
    }
   ],
   "source": [
    "# type your code here\n",
    "languages_list = ['R', 'Python', 'C', 'Java']\n",
    "languages_list.append('Data')\n",
    "languages_list"
   ]
  },
  {
   "cell_type": "markdown",
   "metadata": {
    "id": "xuln8KAsHq8y"
   },
   "source": [
    "**b. Add elements 'Excel' and 'Data' in the given list**"
   ]
  },
  {
   "cell_type": "code",
   "execution_count": 36,
   "metadata": {
    "id": "8lu6nYthHq8z"
   },
   "outputs": [
    {
     "data": {
      "text/plain": [
       "['R', 'Python', 'C', 'Java', 'Data', 'Excel', 'Data']"
      ]
     },
     "execution_count": 36,
     "metadata": {},
     "output_type": "execute_result"
    }
   ],
   "source": [
    "# type your code here\n",
    "languages_list.extend( ['Excel','Data'])\n",
    "languages_list"
   ]
  },
  {
   "cell_type": "markdown",
   "metadata": {
    "id": "wCl5_gw2Hq81"
   },
   "source": [
    "**c. Replace an element 'C' with 'C++' in the given list**"
   ]
  },
  {
   "cell_type": "code",
   "execution_count": 37,
   "metadata": {
    "id": "r9wdhVe-Hq82"
   },
   "outputs": [
    {
     "data": {
      "text/plain": [
       "['R', 'Python', 'C++', 'Java', 'Data', 'Excel', 'Data']"
      ]
     },
     "execution_count": 37,
     "metadata": {},
     "output_type": "execute_result"
    }
   ],
   "source": [
    "# type your code here\n",
    "languages_list[2] = \"C++\"\n",
    "languages_list"
   ]
  },
  {
   "cell_type": "markdown",
   "metadata": {
    "id": "MSRFdg56zAf_"
   },
   "source": [
    "6.5 How many times 'Summer' is occuring in a given list?"
   ]
  },
  {
   "cell_type": "markdown",
   "metadata": {
    "id": "Jhgx8xp0Hq84"
   },
   "source": [
    "#### Use the below list\n",
    "\n",
    "seasons_list = ['Summer', 'Winter', 'Spring', 'Winter', 'Spring' ,'Summer', 'Spring', 'Summer', 'Winter', 'Summer', 'Spring']"
   ]
  },
  {
   "cell_type": "code",
   "execution_count": 38,
   "metadata": {
    "id": "5u7MipCXHq84"
   },
   "outputs": [
    {
     "data": {
      "text/plain": [
       "4"
      ]
     },
     "execution_count": 38,
     "metadata": {},
     "output_type": "execute_result"
    }
   ],
   "source": [
    "# type your code here\n",
    "seasons_list = ['Summer', 'Winter', 'Spring', 'Winter', 'Spring' ,'Summer', 'Spring', 'Summer', 'Winter', 'Summer', 'Spring']\n",
    "\n",
    "seasons_list.count('Summer')"
   ]
  },
  {
   "cell_type": "markdown",
   "metadata": {
    "id": "tjmTbT_5Hq88"
   },
   "source": [
    "## 7. Tuple\n",
    "7.1 Write a code to perform operations on tuple:\n",
    "\n",
    "a. Check the length of num_tuple \\\n",
    "b. Concatenate the num_tuple and mix_tuple \\\n",
    "c. Repeat the mix_tuple two times"
   ]
  },
  {
   "cell_type": "markdown",
   "metadata": {
    "id": "OUWhCypvHq89"
   },
   "source": [
    "**Tuples to perform operations:**\n",
    "\n",
    "num_tuple = (4, 4, 8)\n",
    "\n",
    "mix_tuple = 'John', 5, -2"
   ]
  },
  {
   "cell_type": "markdown",
   "metadata": {
    "id": "6YRuHhpRHq89"
   },
   "source": [
    "**a. Check the length of num_tuple**"
   ]
  },
  {
   "cell_type": "code",
   "execution_count": 39,
   "metadata": {
    "id": "fnDwxnKHHq8-"
   },
   "outputs": [
    {
     "data": {
      "text/plain": [
       "3"
      ]
     },
     "execution_count": 39,
     "metadata": {},
     "output_type": "execute_result"
    }
   ],
   "source": [
    "# type your code here\n",
    "num_tuple = (4, 4, 8)\n",
    "mix_tuple = 'John', 5, -2\n",
    "\n",
    "len(num_tuple)"
   ]
  },
  {
   "cell_type": "markdown",
   "metadata": {
    "id": "pf41oJT1Hq9A"
   },
   "source": [
    "**b. Concatenate the num_tuple and mix_tuple**"
   ]
  },
  {
   "cell_type": "code",
   "execution_count": 40,
   "metadata": {
    "id": "k_4RrgIyHq9A"
   },
   "outputs": [
    {
     "data": {
      "text/plain": [
       "(4, 4, 8, 'John', 5, -2)"
      ]
     },
     "execution_count": 40,
     "metadata": {},
     "output_type": "execute_result"
    }
   ],
   "source": [
    "# type your code here\n",
    "num_tuple + mix_tuple"
   ]
  },
  {
   "cell_type": "markdown",
   "metadata": {
    "id": "5eVMFRY4Hq9C"
   },
   "source": [
    "**c. Repeat the mix_tuple two times**"
   ]
  },
  {
   "cell_type": "code",
   "execution_count": 41,
   "metadata": {
    "id": "scFq2y3VHq9C"
   },
   "outputs": [
    {
     "data": {
      "text/plain": [
       "('John', 5, -2, 'John', 5, -2)"
      ]
     },
     "execution_count": 41,
     "metadata": {},
     "output_type": "execute_result"
    }
   ],
   "source": [
    "# type your code here\n",
    "mix_tuple * 2"
   ]
  },
  {
   "cell_type": "markdown",
   "metadata": {
    "id": "JEDqxvh8zAgA"
   },
   "source": [
    "7.2 Add a new element '4' to the given tuple"
   ]
  },
  {
   "cell_type": "markdown",
   "metadata": {
    "id": "y1tlFRgTHq9G"
   },
   "source": [
    "**Use the tuple below:**\n",
    "\n",
    "mix_tuple = (['a', 1, True], 2, 'Science', -5)"
   ]
  },
  {
   "cell_type": "code",
   "execution_count": 47,
   "metadata": {
    "id": "vVr8nMfWHq9G"
   },
   "outputs": [
    {
     "ename": "AttributeError",
     "evalue": "'tuple' object has no attribute 'append'",
     "output_type": "error",
     "traceback": [
      "\u001b[0;31m---------------------------------------------------------------------------\u001b[0m",
      "\u001b[0;31mAttributeError\u001b[0m                            Traceback (most recent call last)",
      "Cell \u001b[0;32mIn[47], line 4\u001b[0m\n\u001b[1;32m      1\u001b[0m \u001b[38;5;66;03m# type your code here\u001b[39;00m\n\u001b[1;32m      2\u001b[0m mix_tuple \u001b[38;5;241m=\u001b[39m ([\u001b[38;5;124m'\u001b[39m\u001b[38;5;124ma\u001b[39m\u001b[38;5;124m'\u001b[39m, \u001b[38;5;241m1\u001b[39m, \u001b[38;5;28;01mTrue\u001b[39;00m], \u001b[38;5;241m2\u001b[39m, \u001b[38;5;124m'\u001b[39m\u001b[38;5;124mScience\u001b[39m\u001b[38;5;124m'\u001b[39m, \u001b[38;5;241m-\u001b[39m\u001b[38;5;241m5\u001b[39m)\n\u001b[0;32m----> 4\u001b[0m \u001b[43mmix_tuple\u001b[49m\u001b[38;5;241;43m.\u001b[39;49m\u001b[43mappend\u001b[49m(\u001b[38;5;241m4\u001b[39m)\n\u001b[1;32m      5\u001b[0m mix_tuple\n",
      "\u001b[0;31mAttributeError\u001b[0m: 'tuple' object has no attribute 'append'"
     ]
    }
   ],
   "source": [
    "# type your code here\n",
    "mix_tuple = (['a', 1, True], 2, 'Science', -5)\n",
    "\n",
    "mix_tuple.append(4)\n",
    "mix_tuple"
   ]
  },
  {
   "cell_type": "markdown",
   "metadata": {
    "id": "sH78_NvyzAgA"
   },
   "source": [
    "7.3 Replace the elements in the given tuple:\n",
    "\n",
    "a. Replace '2' with '3' \\\n",
    "b. Replace 'True' in first element with 'False'"
   ]
  },
  {
   "cell_type": "code",
   "execution_count": 48,
   "metadata": {},
   "outputs": [
    {
     "ename": "TypeError",
     "evalue": "'tuple' object does not support item assignment",
     "output_type": "error",
     "traceback": [
      "\u001b[0;31m---------------------------------------------------------------------------\u001b[0m",
      "\u001b[0;31mTypeError\u001b[0m                                 Traceback (most recent call last)",
      "Cell \u001b[0;32mIn[48], line 1\u001b[0m\n\u001b[0;32m----> 1\u001b[0m \u001b[43mmix_tuple\u001b[49m\u001b[43m[\u001b[49m\u001b[38;5;241;43m1\u001b[39;49m\u001b[43m]\u001b[49m\u001b[38;5;241m=\u001b[39m\u001b[38;5;241m3\u001b[39m\n\u001b[1;32m      2\u001b[0m mix_tuple\n",
      "\u001b[0;31mTypeError\u001b[0m: 'tuple' object does not support item assignment"
     ]
    }
   ],
   "source": [
    "mix_tuple[1]=3\n",
    "mix_tuple"
   ]
  },
  {
   "cell_type": "code",
   "execution_count": 49,
   "metadata": {},
   "outputs": [
    {
     "data": {
      "text/plain": [
       "(['a', 1, False], 2, 'Science', -5)"
      ]
     },
     "execution_count": 49,
     "metadata": {},
     "output_type": "execute_result"
    }
   ],
   "source": [
    "mix_tuple[0][2]=False\n",
    "mix_tuple"
   ]
  },
  {
   "cell_type": "markdown",
   "metadata": {
    "id": "bizHUBQ9Hq9J"
   },
   "source": [
    "**Use the tuple below:**\n",
    "\n",
    "mix_tuple = (['a', 1, True], 2, 'Science', -5)"
   ]
  },
  {
   "cell_type": "markdown",
   "metadata": {
    "id": "YG7TWxVhHq9K"
   },
   "source": [
    "**a. Replace '2' with '3'**"
   ]
  },
  {
   "cell_type": "code",
   "execution_count": 50,
   "metadata": {
    "id": "eZAmxxuDHq9K"
   },
   "outputs": [
    {
     "ename": "TypeError",
     "evalue": "'tuple' object does not support item assignment",
     "output_type": "error",
     "traceback": [
      "\u001b[0;31m---------------------------------------------------------------------------\u001b[0m",
      "\u001b[0;31mTypeError\u001b[0m                                 Traceback (most recent call last)",
      "Cell \u001b[0;32mIn[50], line 2\u001b[0m\n\u001b[1;32m      1\u001b[0m \u001b[38;5;66;03m# type your code here\u001b[39;00m\n\u001b[0;32m----> 2\u001b[0m \u001b[43mmix_tuple\u001b[49m\u001b[43m[\u001b[49m\u001b[38;5;241;43m1\u001b[39;49m\u001b[43m]\u001b[49m\u001b[38;5;241m=\u001b[39m\u001b[38;5;241m3\u001b[39m\n\u001b[1;32m      3\u001b[0m mix_tuple\n",
      "\u001b[0;31mTypeError\u001b[0m: 'tuple' object does not support item assignment"
     ]
    }
   ],
   "source": [
    "# type your code here\n",
    "mix_tuple[1]=3\n",
    "mix_tuple"
   ]
  },
  {
   "cell_type": "markdown",
   "metadata": {
    "id": "yYdRaCumHq9M"
   },
   "source": [
    "**b. Replace 'True' in first element of the tuple with 'False'**"
   ]
  },
  {
   "cell_type": "code",
   "execution_count": 51,
   "metadata": {
    "id": "rr8Vr6Z_Hq9N"
   },
   "outputs": [
    {
     "data": {
      "text/plain": [
       "(['a', 1, False], 2, 'Science', -5)"
      ]
     },
     "execution_count": 51,
     "metadata": {},
     "output_type": "execute_result"
    }
   ],
   "source": [
    "# type your code here\n",
    "mix_tuple[0][2]=False\n",
    "mix_tuple"
   ]
  },
  {
   "cell_type": "markdown",
   "metadata": {
    "id": "mVBzmc_8Cqw6"
   },
   "source": [
    "## 8. Set\n",
    "8.1 Write the program to perform following manipulations:\n",
    "\n",
    "a. Add '7' to the given set \\\n",
    "b. Remove '3' from a given set \\\n",
    "c. Clear the set"
   ]
  },
  {
   "cell_type": "markdown",
   "metadata": {
    "id": "Gh77UkvWCqw6"
   },
   "source": [
    "**Use the below set for manipulation**\n",
    "\n",
    "num_set = {1, 2, 3, 4, 5, 6}"
   ]
  },
  {
   "cell_type": "markdown",
   "metadata": {
    "id": "HH2xLD-iCqw7"
   },
   "source": [
    "**a. Add '7' to the given set**"
   ]
  },
  {
   "cell_type": "code",
   "execution_count": 61,
   "metadata": {
    "id": "R4M-klc-Cqw7"
   },
   "outputs": [
    {
     "data": {
      "text/plain": [
       "{1, 2, 3, 4, 5, 6, 7}"
      ]
     },
     "execution_count": 61,
     "metadata": {},
     "output_type": "execute_result"
    }
   ],
   "source": [
    "# type your code here\n",
    "num_set = {1, 2, 3, 4, 5, 6}\n",
    "num_set.add(7)\n",
    "num_set"
   ]
  },
  {
   "cell_type": "markdown",
   "metadata": {
    "id": "OHbfGzHZCqw7"
   },
   "source": [
    "**b. Remove '3' from a given set**"
   ]
  },
  {
   "cell_type": "code",
   "execution_count": 63,
   "metadata": {
    "id": "y5TlhZzbCqw7"
   },
   "outputs": [
    {
     "data": {
      "text/plain": [
       "{1, 2, 4, 5, 6}"
      ]
     },
     "execution_count": 63,
     "metadata": {},
     "output_type": "execute_result"
    }
   ],
   "source": [
    "# type your code here\n",
    "num_set = {1, 2, 3, 4, 5, 6}\n",
    "num_set.remove(3)\n",
    "num_set"
   ]
  },
  {
   "cell_type": "markdown",
   "metadata": {
    "id": "FKwRnMZCCqw7"
   },
   "source": [
    "**c. Clear the set**"
   ]
  },
  {
   "cell_type": "code",
   "execution_count": 65,
   "metadata": {
    "id": "FDIaweRYCqw7"
   },
   "outputs": [
    {
     "data": {
      "text/plain": [
       "set()"
      ]
     },
     "execution_count": 65,
     "metadata": {},
     "output_type": "execute_result"
    }
   ],
   "source": [
    "# type your code here\n",
    "num_set = {1, 2, 3, 4, 5, 6}\n",
    "num_set.clear()\n",
    "num_set"
   ]
  },
  {
   "cell_type": "markdown",
   "metadata": {
    "id": "gRGOe2zYzAgC"
   },
   "source": [
    "8.2 Create two sets of words from the given sentences and perform the following operations:\n",
    "\n",
    "a. Find the count of unique words in each of the sentence \\\n",
    "b. Find the common words in both the sentences"
   ]
  },
  {
   "cell_type": "markdown",
   "metadata": {
    "id": "bTr22F8rCqw7"
   },
   "source": [
    "**Use the sentences given below:**\n",
    "    \n",
    "sentence_1 = 'We shall analyse the data using python'\n",
    "\n",
    "sentence_2 = 'Python for data science'"
   ]
  },
  {
   "cell_type": "markdown",
   "metadata": {
    "id": "oLxhbsjXCqw7"
   },
   "source": [
    "**Create set of words**"
   ]
  },
  {
   "cell_type": "code",
   "execution_count": 70,
   "metadata": {
    "id": "OkXrH-9iCqw7"
   },
   "outputs": [],
   "source": [
    "# type your code here\n",
    "sentence_1 = 'We shall analyse the data using python'\n",
    "sentence_2 = 'Python for data science'"
   ]
  },
  {
   "cell_type": "code",
   "execution_count": 71,
   "metadata": {},
   "outputs": [
    {
     "data": {
      "text/plain": [
       "{'We', 'analyse', 'data', 'python', 'shall', 'the', 'using'}"
      ]
     },
     "execution_count": 71,
     "metadata": {},
     "output_type": "execute_result"
    }
   ],
   "source": [
    "set1=set(sentence_1.split())\n",
    "set1"
   ]
  },
  {
   "cell_type": "code",
   "execution_count": 72,
   "metadata": {},
   "outputs": [
    {
     "data": {
      "text/plain": [
       "{'Python', 'data', 'for', 'science'}"
      ]
     },
     "execution_count": 72,
     "metadata": {},
     "output_type": "execute_result"
    }
   ],
   "source": [
    "set2=set(sentence_2.split())\n",
    "set2"
   ]
  },
  {
   "cell_type": "markdown",
   "metadata": {
    "id": "5qDOJPIVCqw8"
   },
   "source": [
    "**a. Find the number of unique words in the sentences**"
   ]
  },
  {
   "cell_type": "code",
   "execution_count": 93,
   "metadata": {
    "id": "oQepiQUICqw8"
   },
   "outputs": [
    {
     "name": "stdout",
     "output_type": "stream",
     "text": [
      "number of unique words in the sentence 1 7\n"
     ]
    }
   ],
   "source": [
    "# type your code here\n",
    "print(\"number of unique words in the sentence 1\",len(set1))"
   ]
  },
  {
   "cell_type": "code",
   "execution_count": 94,
   "metadata": {},
   "outputs": [
    {
     "name": "stdout",
     "output_type": "stream",
     "text": [
      "number of unique words in the sentence 2 4\n"
     ]
    }
   ],
   "source": [
    "print(\"number of unique words in the sentence 2\",len(set2))"
   ]
  },
  {
   "cell_type": "markdown",
   "metadata": {
    "id": "Ll0Z33_1Cqw8"
   },
   "source": [
    "**b. Find the common words in both the sentences**"
   ]
  },
  {
   "cell_type": "code",
   "execution_count": 79,
   "metadata": {
    "id": "54fXg6wUCqw8"
   },
   "outputs": [
    {
     "data": {
      "text/plain": [
       "{'data'}"
      ]
     },
     "execution_count": 79,
     "metadata": {},
     "output_type": "execute_result"
    }
   ],
   "source": [
    "# type your code here\n",
    "set1.intersection(set2)"
   ]
  },
  {
   "cell_type": "code",
   "execution_count": 80,
   "metadata": {},
   "outputs": [
    {
     "name": "stdout",
     "output_type": "stream",
     "text": [
      "The common words between the two sentences: {'data'}\n"
     ]
    }
   ],
   "source": [
    "common_words = set1.intersection(set2)\n",
    "print('The common words between the two sentences:', common_words)"
   ]
  },
  {
   "cell_type": "markdown",
   "metadata": {
    "id": "CZRoG0_gCqw-"
   },
   "source": [
    "<a id=\"dict\"> </a>\n",
    "## 9. Dictionary"
   ]
  },
  {
   "cell_type": "markdown",
   "metadata": {
    "id": "YrPJi6l7zAgD"
   },
   "source": [
    "9.1 Write a code to add a key to a dictionary"
   ]
  },
  {
   "cell_type": "markdown",
   "metadata": {
    "id": "7sO9f3foCqw-"
   },
   "source": [
    "**Use the given dictionary and add a key (4:16)**\n",
    "\n",
    "square_dictionary = {1:1, 2:4, 3:9}"
   ]
  },
  {
   "cell_type": "code",
   "execution_count": 86,
   "metadata": {
    "id": "jWvg2gVbCqw-"
   },
   "outputs": [
    {
     "data": {
      "text/plain": [
       "{1: 1, 2: 4, 3: 9, 4: 16}"
      ]
     },
     "execution_count": 86,
     "metadata": {},
     "output_type": "execute_result"
    }
   ],
   "source": [
    "# type your code here\n",
    "square_dictionary = {1:1, 2:4, 3:9}\n",
    "square_dictionary.update({4:16})\n",
    "square_dictionary"
   ]
  },
  {
   "cell_type": "markdown",
   "metadata": {
    "id": "RmH2TUGJzAgD"
   },
   "source": [
    "9.2 Write a program to retrieve the keys/values of dictionary"
   ]
  },
  {
   "cell_type": "markdown",
   "metadata": {
    "id": "_NYbLssUCqw-"
   },
   "source": [
    "**Use the dictionary**\n",
    "\n",
    "mix_dictionary = {0:3, 'x':5, 1:2}"
   ]
  },
  {
   "cell_type": "code",
   "execution_count": 89,
   "metadata": {
    "id": "CoVYNvXdCqw-"
   },
   "outputs": [
    {
     "name": "stdout",
     "output_type": "stream",
     "text": [
      "Keys in mix_dictionary = {0:3, 'x':5, 1:2} dict_keys([0, 'x', 1])\n",
      "Values in mix_dictionary = {0:3, 'x':5, 1:2} dict_values([3, 5, 2])\n"
     ]
    }
   ],
   "source": [
    "# type your code here\n",
    "mix_dictionary = {0:3, 'x':5, 1:2}\n",
    "\n",
    "print(\"Keys in mix_dictionary = {0:3, 'x':5, 1:2}\", mix_dictionary.keys())\n",
    "\n",
    "print(\"Values in mix_dictionary = {0:3, 'x':5, 1:2}\", mix_dictionary.values())"
   ]
  },
  {
   "cell_type": "markdown",
   "metadata": {
    "id": "ndYtrBeEzAgD"
   },
   "source": [
    "9.3 Write a program to get the value for 'Age' from the dictionary"
   ]
  },
  {
   "cell_type": "markdown",
   "metadata": {
    "id": "P1K4RdTxCqw-"
   },
   "source": [
    "**Use the dictionary**\n",
    "\n",
    "emp_record = {'Weight': 67, 'BMI': 25, 'Age': 27, 'Profession': 'CA'}"
   ]
  },
  {
   "cell_type": "code",
   "execution_count": 95,
   "metadata": {
    "id": "iW0p9h4NCqw_"
   },
   "outputs": [
    {
     "data": {
      "text/plain": [
       "27"
      ]
     },
     "execution_count": 95,
     "metadata": {},
     "output_type": "execute_result"
    }
   ],
   "source": [
    "# type your code here\n",
    "emp_record = {'Weight': 67, 'BMI': 25, 'Age': 27, 'Profession': 'CA'}\n",
    "emp_record['Age']"
   ]
  },
  {
   "cell_type": "code",
   "execution_count": null,
   "metadata": {
    "id": "orOXqtA-Cqw_"
   },
   "outputs": [],
   "source": [
    "# type your code here"
   ]
  },
  {
   "cell_type": "markdown",
   "metadata": {
    "id": "bEAynmvFHq-M"
   },
   "source": [
    "## 10. Conditional Statements"
   ]
  },
  {
   "cell_type": "markdown",
   "metadata": {
    "id": "-p98Hw8_zAgE"
   },
   "source": [
    "10.1 Write a program to check whether a given number is multiple of 7 (use if statement)"
   ]
  },
  {
   "cell_type": "code",
   "execution_count": 101,
   "metadata": {
    "id": "7v0jNVSEHq-M"
   },
   "outputs": [
    {
     "name": "stdout",
     "output_type": "stream",
     "text": [
      "77 is a multiple of 7.\n"
     ]
    }
   ],
   "source": [
    "# type your code here\n",
    "num = 77\n",
    "\n",
    "if num%7== 0:\n",
    "    print(num, \"is a multiple of 7.\")"
   ]
  },
  {
   "cell_type": "code",
   "execution_count": 104,
   "metadata": {},
   "outputs": [],
   "source": [
    "num = 324\n",
    "\n",
    "if num%7== 0:\n",
    "    print(num, \"is a multiple of 7.\")"
   ]
  },
  {
   "cell_type": "markdown",
   "metadata": {
    "id": "K4lBfemyzAgE"
   },
   "source": [
    "10.2 Write a code to print the maximum of two numbers (use if-else)"
   ]
  },
  {
   "cell_type": "code",
   "execution_count": 106,
   "metadata": {
    "id": "hr63zbq1Hq-Q"
   },
   "outputs": [
    {
     "name": "stdout",
     "output_type": "stream",
     "text": [
      "5 - b is bigger\n"
     ]
    }
   ],
   "source": [
    "# type your code here\n",
    "a=2\n",
    "b=5\n",
    "if(a>b):\n",
    "    print(a,\"- a is bigger\")\n",
    "else:\n",
    "    print(b,\"- b is bigger\")"
   ]
  },
  {
   "cell_type": "markdown",
   "metadata": {
    "id": "xyJSJOPkzAgF"
   },
   "source": [
    "10.3 Write a program to check whether a number is positive, negative or zero (use if-elif)"
   ]
  },
  {
   "cell_type": "code",
   "execution_count": 107,
   "metadata": {
    "id": "Y47AyVjLHq-T"
   },
   "outputs": [
    {
     "name": "stdout",
     "output_type": "stream",
     "text": [
      "number is positive\n"
     ]
    }
   ],
   "source": [
    "# type your code here\n",
    "\n",
    "c = 45\n",
    "if(c>0):\n",
    "    print(\"number is positive\")\n",
    "elif(c<0):\n",
    "    print(\"number is negative\")\n",
    "elif(c==0):\n",
    "    print(\"number is zero\")"
   ]
  },
  {
   "cell_type": "code",
   "execution_count": 108,
   "metadata": {},
   "outputs": [
    {
     "name": "stdout",
     "output_type": "stream",
     "text": [
      "number is negative\n"
     ]
    }
   ],
   "source": [
    "c = -45\n",
    "if(c>0):\n",
    "    print(\"number is positive\")\n",
    "elif(c<0):\n",
    "    print(\"number is negative\")\n",
    "elif(c==0):\n",
    "    print(\"number is zero\")"
   ]
  },
  {
   "cell_type": "code",
   "execution_count": 109,
   "metadata": {},
   "outputs": [
    {
     "name": "stdout",
     "output_type": "stream",
     "text": [
      "number is zero\n"
     ]
    }
   ],
   "source": [
    "c = 0\n",
    "if(c>0):\n",
    "    print(\"number is positive\")\n",
    "elif(c<0):\n",
    "    print(\"number is negative\")\n",
    "elif(c==0):\n",
    "    print(\"number is zero\")"
   ]
  },
  {
   "cell_type": "markdown",
   "metadata": {
    "id": "qzPAniC_V3Vc"
   },
   "source": [
    "## 11. Python Flow Control"
   ]
  },
  {
   "cell_type": "markdown",
   "metadata": {
    "id": "YOI61JFdzAgG"
   },
   "source": [
    "11.1 Write a code to print table of 5 using assignment operand +="
   ]
  },
  {
   "cell_type": "code",
   "execution_count": 111,
   "metadata": {
    "id": "wVjYvCadV3Vc"
   },
   "outputs": [
    {
     "name": "stdout",
     "output_type": "stream",
     "text": [
      "5\n",
      "10\n",
      "15\n",
      "20\n",
      "25\n",
      "30\n",
      "35\n",
      "40\n",
      "45\n",
      "50\n"
     ]
    }
   ],
   "source": [
    "# type your code here\n",
    "num = 5\n",
    "tablenum = 0\n",
    "for i in range(1,11):\n",
    "    tablenum+=num\n",
    "    print(tablenum)\n",
    "    "
   ]
  },
  {
   "cell_type": "markdown",
   "metadata": {
    "id": "BtH5xreczAgG"
   },
   "source": [
    "11.2 Write a program for generating a fibonacci series starting with 0 and 1 for the next 10 values using a while loop"
   ]
  },
  {
   "cell_type": "code",
   "execution_count": 114,
   "metadata": {
    "id": "fyEIgjsyV3Vd"
   },
   "outputs": [
    {
     "name": "stdout",
     "output_type": "stream",
     "text": [
      "1\n",
      "1\n",
      "2\n",
      "3\n",
      "5\n",
      "8\n",
      "13\n",
      "21\n",
      "34\n",
      "55\n",
      "89\n",
      "144\n"
     ]
    }
   ],
   "source": [
    "# type your code here\n",
    "a=1\n",
    "b=1\n",
    "c=0\n",
    "print(a)\n",
    "print(b)\n",
    "for i in range(10):\n",
    "    c = a + b\n",
    "    a = b\n",
    "    b = c\n",
    "    print(c)\n",
    "    "
   ]
  },
  {
   "cell_type": "markdown",
   "metadata": {
    "id": "75gaiYtuSLee"
   },
   "source": [
    "## 12. Print Patterns"
   ]
  },
  {
   "cell_type": "markdown",
   "metadata": {
    "id": "2eUV00n0SWOT"
   },
   "source": [
    "12.1 How to print full pyramid and asterisk(star) patterns in python\n",
    "\n",
    "        *   \n",
    "       *  *   \n",
    "      *  *  *   \n",
    "     *  *  *  *   \n",
    "    *  *  *  *  *   "
   ]
  },
  {
   "cell_type": "code",
   "execution_count": 123,
   "metadata": {
    "id": "I9mdPXiwSPoZ"
   },
   "outputs": [
    {
     "name": "stdout",
     "output_type": "stream",
     "text": [
      "i: 0\n",
      "m: 8\n",
      "j: 0\n",
      " j: 1\n",
      " j: 2\n",
      " j: 3\n",
      " j: 4\n",
      " j: 5\n",
      " j: 6\n",
      " j: 7\n",
      " after m - 1: 7\n",
      "*   \n",
      "i: 1\n",
      "m: 7\n",
      "j: 0\n",
      " j: 1\n",
      " j: 2\n",
      " j: 3\n",
      " j: 4\n",
      " j: 5\n",
      " j: 6\n",
      " after m - 1: 6\n",
      "*  *   \n",
      "i: 2\n",
      "m: 6\n",
      "j: 0\n",
      " j: 1\n",
      " j: 2\n",
      " j: 3\n",
      " j: 4\n",
      " j: 5\n",
      " after m - 1: 5\n",
      "*  *  *   \n",
      "i: 3\n",
      "m: 5\n",
      "j: 0\n",
      " j: 1\n",
      " j: 2\n",
      " j: 3\n",
      " j: 4\n",
      " after m - 1: 4\n",
      "*  *  *  *   \n",
      "i: 4\n",
      "m: 4\n",
      "j: 0\n",
      " j: 1\n",
      " j: 2\n",
      " j: 3\n",
      " after m - 1: 3\n",
      "*  *  *  *  *   \n"
     ]
    }
   ],
   "source": [
    "# type your code here\n",
    "size = 5\n",
    "m = (2*size) -2\n",
    "for i in range(0,size):\n",
    "    print(\"i:\",i)\n",
    "    print(\"m:\",m)\n",
    "    for j in range(0,m):\n",
    "        print(\"j:\",j)\n",
    "        print(end=\" \")\n",
    "    m = m - 1 \n",
    "    print(\"after m - 1:\",m)\n",
    "    for j in range(0,i+1):\n",
    "        print(\"* \",end=' ')\n",
    "    print(\" \")"
   ]
  },
  {
   "cell_type": "code",
   "execution_count": null,
   "metadata": {},
   "outputs": [],
   "source": [
    "print(\"Print full triangle using stars\")\n",
    "size = 5\n",
    "m = (2 * size) - 2\n",
    "for i in range(0, size):\n",
    "    for j in range(0, m):\n",
    "        print(end=\" \")\n",
    "    m = m - 1 # decrementing m after each loop\n",
    "    for j in range(0, i + 1):\n",
    "        # printing full Triangle pyramid using stars\n",
    "        print(\"* \", end=' ')\n",
    "    print(\" \")"
   ]
  },
  {
   "cell_type": "markdown",
   "metadata": {
    "id": "sM97IDlOSdXF"
   },
   "source": [
    "12.2 Form a lower tringular matrix in ' * ' pattern\n",
    "\n",
    "*\n",
    "* *  \\\\\n",
    "* * *  \\\\\n",
    "* * * *  \\\\\n",
    "* * * * *  \\\\"
   ]
  },
  {
   "cell_type": "code",
   "execution_count": 118,
   "metadata": {
    "id": "d04enOIzSgjL"
   },
   "outputs": [
    {
     "name": "stdout",
     "output_type": "stream",
     "text": [
      "* \n",
      "* * \n",
      "* * * \n",
      "* * * * \n",
      "* * * * * \n"
     ]
    }
   ],
   "source": [
    "# type your code here\n",
    "for i in range(0, 5):\n",
    "    for j in range(0, i+1):\n",
    "        print(\"* \",end=\"\")\n",
    "    print()"
   ]
  },
  {
   "cell_type": "code",
   "execution_count": null,
   "metadata": {},
   "outputs": [],
   "source": []
  }
 ],
 "metadata": {
  "colab": {
   "provenance": []
  },
  "kernelspec": {
   "display_name": "Python 3 (ipykernel)",
   "language": "python",
   "name": "python3"
  },
  "language_info": {
   "codemirror_mode": {
    "name": "ipython",
    "version": 3
   },
   "file_extension": ".py",
   "mimetype": "text/x-python",
   "name": "python",
   "nbconvert_exporter": "python",
   "pygments_lexer": "ipython3",
   "version": "3.8.18"
  }
 },
 "nbformat": 4,
 "nbformat_minor": 4
}
