{
 "cells": [
  {
   "cell_type": "markdown",
   "metadata": {},
   "source": [
    "# Week-2 Foundations of Python Programming - Practice Exercises"
   ]
  },
  {
   "cell_type": "markdown",
   "metadata": {
    "id": "g80jOBmjQa_P"
   },
   "source": [
    "### Let's begin with some hands-on practice exercises"
   ]
  },
  {
   "cell_type": "markdown",
   "metadata": {},
   "source": [
    "### 1. Write a program to convert the value of 'pi' to integer"
   ]
  },
  {
   "cell_type": "code",
   "execution_count": null,
   "metadata": {
    "id": "2dtXGOWZQa_Q"
   },
   "outputs": [],
   "source": [
    "# type your code here"
   ]
  },
  {
   "cell_type": "markdown",
   "metadata": {},
   "source": [
    "### 2. Find the remainder after dividing 542 by 16"
   ]
  },
  {
   "cell_type": "code",
   "execution_count": null,
   "metadata": {
    "id": "QCHcvLAFQa_R"
   },
   "outputs": [],
   "source": [
    "# type your code here"
   ]
  },
  {
   "cell_type": "markdown",
   "metadata": {},
   "source": [
    "### 3. Display the following pattern using single print()"
   ]
  },
  {
   "cell_type": "markdown",
   "metadata": {
    "id": "DK3tidsyQa_R"
   },
   "source": [
    "                                *\n",
    "                                **\n",
    "                                ***\n",
    "                                ****"
   ]
  },
  {
   "cell_type": "code",
   "execution_count": null,
   "metadata": {
    "id": "6DGUY8KZQa_R"
   },
   "outputs": [],
   "source": [
    "# type your code here"
   ]
  },
  {
   "cell_type": "markdown",
   "metadata": {},
   "source": [
    "### 4. Write a pseudo code to check whether an entered letter is a vowel or not"
   ]
  },
  {
   "cell_type": "code",
   "execution_count": null,
   "metadata": {},
   "outputs": [],
   "source": [
    "# type your code here"
   ]
  },
  {
   "cell_type": "markdown",
   "metadata": {},
   "source": [
    "### 5. Write a program to swap the two integers passed as runtime variables"
   ]
  },
  {
   "cell_type": "code",
   "execution_count": 2,
   "metadata": {},
   "outputs": [],
   "source": [
    "# type your code here"
   ]
  },
  {
   "cell_type": "markdown",
   "metadata": {},
   "source": [
    "### 6. Write a program to print the product of two numbers 'x' and 'y'\n",
    "\n",
    "x = 10 ; y = \"15\""
   ]
  },
  {
   "cell_type": "code",
   "execution_count": 1,
   "metadata": {},
   "outputs": [],
   "source": [
    "# type your code here"
   ]
  },
  {
   "cell_type": "markdown",
   "metadata": {},
   "source": [
    "### 7. A text is given below. Write a program to find the character which is at the index position obtained by adding the indices of the character 'o' of the word 'Hello' and 'o' of the word 'welcome'"
   ]
  },
  {
   "cell_type": "markdown",
   "metadata": {
    "id": "YLm7JL-lRGql"
   },
   "source": [
    "<b>string = \"Hello, welcome to my world.\" </b>"
   ]
  },
  {
   "cell_type": "code",
   "execution_count": null,
   "metadata": {
    "id": "nbCHKkd2RGql"
   },
   "outputs": [],
   "source": [
    "# type your code here"
   ]
  },
  {
   "cell_type": "markdown",
   "metadata": {},
   "source": [
    "### 8. Create a tuple with single value '5'"
   ]
  },
  {
   "cell_type": "code",
   "execution_count": null,
   "metadata": {},
   "outputs": [],
   "source": [
    "# type your code here"
   ]
  },
  {
   "cell_type": "markdown",
   "metadata": {},
   "source": [
    "### 9. Write a program to append a dictionary to a tuple"
   ]
  },
  {
   "cell_type": "markdown",
   "metadata": {
    "id": "2rQlfk_sRYvQ"
   },
   "source": [
    "**The original tuple : (4, 5, 6)**\n",
    "\n",
    "**Tuple after addition of dictionary : (4, 5, 6, {'gfg': 1, 'is': 2, 'best': 3})**"
   ]
  },
  {
   "cell_type": "code",
   "execution_count": 6,
   "metadata": {
    "id": "LH04fd0nRYvQ",
    "outputId": "9ef4e86b-d375-46ef-8e22-26bbedcc53f2"
   },
   "outputs": [],
   "source": [
    "# type your code here"
   ]
  },
  {
   "cell_type": "markdown",
   "metadata": {},
   "source": [
    "### 10. Write a program to check whether two strings are anagram or not (take input from user)"
   ]
  },
  {
   "cell_type": "markdown",
   "metadata": {
    "id": "sWuABQVeRYvQ"
   },
   "source": [
    "**Hint: An anagram of a string is another string that contains same characters, only the order of characters can be different.**"
   ]
  },
  {
   "cell_type": "code",
   "execution_count": 7,
   "metadata": {
    "id": "NyDs2f9URYvR",
    "outputId": "9f1ab8d2-01ab-456c-b773-7f76a58d5246"
   },
   "outputs": [],
   "source": [
    "# type your code here"
   ]
  },
  {
   "cell_type": "markdown",
   "metadata": {},
   "source": [
    "### 11. Write a program to add genre to the given dictionary if a book is titled \"The Da Vinci Code\" and was published in 2000 or later, assign its genre as \"Contemporary\"; otherwise, set it as \"Classic\" based on the given details.."
   ]
  },
  {
   "cell_type": "markdown",
   "metadata": {},
   "source": [
    "book = {'title': 'The Da Vinci Code', 'year': 2003}"
   ]
  },
  {
   "cell_type": "code",
   "execution_count": null,
   "metadata": {},
   "outputs": [],
   "source": [
    "# type your code here"
   ]
  },
  {
   "cell_type": "markdown",
   "metadata": {},
   "source": [
    "### 12. Write a program to remove space from keys of the given dictionary (use for loop)"
   ]
  },
  {
   "cell_type": "markdown",
   "metadata": {
    "id": "xdJAcVi-RYvR"
   },
   "source": [
    "**fruity = {'Fruits 01' : 'Apple', 'Fruits 02' : 'Orange', \n",
    "                'Fruits 0 3 ': 'Grapes'}**\n",
    "\n",
    "**(Output) New dictionary :   {'Fruits01': 'Apple', 'Fruits02': 'Orange', 'Fruits03': 'Grapes'}**\n"
   ]
  },
  {
   "cell_type": "code",
   "execution_count": 5,
   "metadata": {
    "id": "YbEfbW3kRYvR",
    "outputId": "023146eb-c237-4868-d754-0a235fc3de1b"
   },
   "outputs": [],
   "source": [
    "# Type answer here"
   ]
  },
  {
   "cell_type": "markdown",
   "metadata": {},
   "source": [
    "### 13. Write a program to add the cubes of first 5 positive integers (use while loop)"
   ]
  },
  {
   "cell_type": "code",
   "execution_count": 7,
   "metadata": {
    "id": "2XP17s9pRYvS",
    "outputId": "3f962329-1bbb-4c90-fe77-1df8cbde9982"
   },
   "outputs": [],
   "source": [
    "# Type answer here"
   ]
  }
 ],
 "metadata": {
  "colab": {
   "name": "ITP-Day 1_TH Exercise.ipynb",
   "provenance": []
  },
  "kernelspec": {
   "display_name": "Python 3 (ipykernel)",
   "language": "python",
   "name": "python3"
  },
  "language_info": {
   "codemirror_mode": {
    "name": "ipython",
    "version": 3
   },
   "file_extension": ".py",
   "mimetype": "text/x-python",
   "name": "python",
   "nbconvert_exporter": "python",
   "pygments_lexer": "ipython3",
   "version": "3.9.7"
  }
 },
 "nbformat": 4,
 "nbformat_minor": 1
}
