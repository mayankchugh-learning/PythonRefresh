{
 "cells": [
  {
   "cell_type": "code",
   "execution_count": 1,
   "id": "1977fa74-6084-4ab0-852c-1a6b022f10c9",
   "metadata": {},
   "outputs": [
    {
     "data": {
      "text/plain": [
       "True"
      ]
     },
     "execution_count": 1,
     "metadata": {},
     "output_type": "execute_result"
    }
   ],
   "source": [
    "3 + 2 == 5"
   ]
  },
  {
   "cell_type": "code",
   "execution_count": 2,
   "id": "36cf9796-af42-4c73-9ecc-2f757798b26b",
   "metadata": {},
   "outputs": [
    {
     "name": "stdout",
     "output_type": "stream",
     "text": [
      "25.0\n"
     ]
    }
   ],
   "source": [
    "# Which of the following code snippet can be used to calculate the area of a triangle with base = 10 and height = 5?\n",
    "# Area of triangle = (base*height)/2\n",
    "base = 10.\n",
    "height = 5.\n",
    "areaOfTriangle = (base*height)/2\n",
    "print(areaOfTriangle)"
   ]
  },
  {
   "cell_type": "code",
   "execution_count": 3,
   "id": "525485a0-51c2-49f9-ae75-d2b485297b26",
   "metadata": {},
   "outputs": [
    {
     "name": "stdout",
     "output_type": "stream",
     "text": [
      "Area of triangle: 25.0\n"
     ]
    }
   ],
   "source": [
    "area = 0.5 * 10 * 5 \n",
    "print(\"Area of triangle:\", area)"
   ]
  },
  {
   "cell_type": "code",
   "execution_count": 4,
   "id": "33fa170a-a9d5-4377-8f9c-a56a7a912c6f",
   "metadata": {},
   "outputs": [
    {
     "name": "stdout",
     "output_type": "stream",
     "text": [
      "Area of triangle: 22.360679774997898\n"
     ]
    }
   ],
   "source": [
    "area = 10 * 5 ** 0.5 \n",
    "print(\"Area of triangle:\", area)"
   ]
  },
  {
   "cell_type": "code",
   "execution_count": 5,
   "id": "cca18564-ed3f-4284-9530-a2aef17d9893",
   "metadata": {},
   "outputs": [
    {
     "name": "stdout",
     "output_type": "stream",
     "text": [
      "Area of triangle: 50\n"
     ]
    }
   ],
   "source": [
    "area = 10 * 5 \n",
    "print(\"Area of triangle:\", area)"
   ]
  },
  {
   "cell_type": "code",
   "execution_count": 6,
   "id": "7a4f2b62-d130-4809-9a1f-6e18cf1a1a38",
   "metadata": {},
   "outputs": [
    {
     "name": "stdout",
     "output_type": "stream",
     "text": [
      "Area of triangle: 0.0048828125\n"
     ]
    }
   ],
   "source": [
    "area = 0.5 ** 10 * 5 \n",
    "print(\"Area of triangle:\", area)"
   ]
  },
  {
   "cell_type": "code",
   "execution_count": 7,
   "id": "a3b12965-a09f-4a7b-b610-253401f585b3",
   "metadata": {},
   "outputs": [
    {
     "name": "stdout",
     "output_type": "stream",
     "text": [
      "1225.0\n"
     ]
    }
   ],
   "source": [
    "#What will be the value of z in the following expression?\n",
    "\n",
    "v = 10\n",
    "w = 25\n",
    "x = 70\n",
    "y = 2\n",
    "z = (v + w) * (x / y)\n",
    "print(z)"
   ]
  },
  {
   "cell_type": "code",
   "execution_count": 9,
   "id": "585c0e87-a7e6-43c1-916e-320b59b2ec66",
   "metadata": {},
   "outputs": [
    {
     "data": {
      "text/plain": [
       "['apple', 'orange', 'grapes', 'watermelon', 'strawberries']"
      ]
     },
     "execution_count": 9,
     "metadata": {},
     "output_type": "execute_result"
    }
   ],
   "source": [
    "# Which of the following codes can be used to replace the first element of the list fruit with \"strawberries\"?\n",
    "\n",
    "fruit1 = [\"apple\",\"orange\",\"grapes\",\"watermelon\"]\n",
    "fruit1.append('strawberries')\n",
    "fruit1"
   ]
  },
  {
   "cell_type": "code",
   "execution_count": 10,
   "id": "638c4b40-b893-4495-aa3b-dabee4dbcee3",
   "metadata": {},
   "outputs": [
    {
     "ename": "AttributeError",
     "evalue": "'list' object has no attribute 'replace'",
     "output_type": "error",
     "traceback": [
      "\u001b[0;31m---------------------------------------------------------------------------\u001b[0m",
      "\u001b[0;31mAttributeError\u001b[0m                            Traceback (most recent call last)",
      "Cell \u001b[0;32mIn[10], line 2\u001b[0m\n\u001b[1;32m      1\u001b[0m fruit2 \u001b[38;5;241m=\u001b[39m [\u001b[38;5;124m\"\u001b[39m\u001b[38;5;124mapple\u001b[39m\u001b[38;5;124m\"\u001b[39m,\u001b[38;5;124m\"\u001b[39m\u001b[38;5;124morange\u001b[39m\u001b[38;5;124m\"\u001b[39m,\u001b[38;5;124m\"\u001b[39m\u001b[38;5;124mgrapes\u001b[39m\u001b[38;5;124m\"\u001b[39m,\u001b[38;5;124m\"\u001b[39m\u001b[38;5;124mwatermelon\u001b[39m\u001b[38;5;124m\"\u001b[39m]\n\u001b[0;32m----> 2\u001b[0m \u001b[43mfruit2\u001b[49m\u001b[38;5;241;43m.\u001b[39;49m\u001b[43mreplace\u001b[49m(\u001b[38;5;124m'\u001b[39m\u001b[38;5;124mstrawberries\u001b[39m\u001b[38;5;124m'\u001b[39m)\n\u001b[1;32m      3\u001b[0m fruit2\n",
      "\u001b[0;31mAttributeError\u001b[0m: 'list' object has no attribute 'replace'"
     ]
    }
   ],
   "source": [
    "fruit2 = [\"apple\",\"orange\",\"grapes\",\"watermelon\"]\n",
    "fruit2.replace('strawberries')\n",
    "fruit2"
   ]
  },
  {
   "cell_type": "code",
   "execution_count": 11,
   "id": "8ce9b092-f64f-43a6-8e33-581a456b724b",
   "metadata": {},
   "outputs": [
    {
     "data": {
      "text/plain": [
       "['apple', 'strawberries', 'grapes', 'watermelon']"
      ]
     },
     "execution_count": 11,
     "metadata": {},
     "output_type": "execute_result"
    }
   ],
   "source": [
    "fruit3 = [\"apple\",\"orange\",\"grapes\",\"watermelon\"]\n",
    "fruit3[1] = \"strawberries\"\n",
    "fruit3"
   ]
  },
  {
   "cell_type": "code",
   "execution_count": 12,
   "id": "35e304ea-cb49-4dfa-9e81-c497ee315b56",
   "metadata": {},
   "outputs": [
    {
     "data": {
      "text/plain": [
       "['strawberries', 'orange', 'grapes', 'watermelon']"
      ]
     },
     "execution_count": 12,
     "metadata": {},
     "output_type": "execute_result"
    }
   ],
   "source": [
    "fruit4 = [\"apple\",\"orange\",\"grapes\",\"watermelon\"]\n",
    "fruit4[0] = \"strawberries\"\n",
    "fruit4\n"
   ]
  },
  {
   "cell_type": "code",
   "execution_count": 13,
   "id": "b849ac20-633d-445f-b7ec-d566c6ea9ed1",
   "metadata": {},
   "outputs": [],
   "source": [
    "#Which of the following snippets can be used to iterate through the list and print its elements?\n",
    "\n",
    "alphabet = ['a','b','c']"
   ]
  },
  {
   "cell_type": "code",
   "execution_count": 14,
   "id": "019391e2-8477-461c-bc9d-8e9bc4b5fee2",
   "metadata": {},
   "outputs": [
    {
     "name": "stdout",
     "output_type": "stream",
     "text": [
      "a\n",
      "b\n",
      "c\n"
     ]
    }
   ],
   "source": [
    "for i in alphabet:\n",
    " print(i)"
   ]
  },
  {
   "cell_type": "code",
   "execution_count": 15,
   "id": "96a461e8-ca32-4897-8279-033ffabc632b",
   "metadata": {},
   "outputs": [
    {
     "ename": "TypeError",
     "evalue": "'list' object cannot be interpreted as an integer",
     "output_type": "error",
     "traceback": [
      "\u001b[0;31m---------------------------------------------------------------------------\u001b[0m",
      "\u001b[0;31mTypeError\u001b[0m                                 Traceback (most recent call last)",
      "Cell \u001b[0;32mIn[15], line 1\u001b[0m\n\u001b[0;32m----> 1\u001b[0m \u001b[38;5;28;01mfor\u001b[39;00m i \u001b[38;5;129;01min\u001b[39;00m \u001b[38;5;28;43mrange\u001b[39;49m\u001b[43m(\u001b[49m\u001b[43malphabet\u001b[49m\u001b[43m)\u001b[49m:\n\u001b[1;32m      2\u001b[0m  \u001b[38;5;28mprint\u001b[39m(i)\n",
      "\u001b[0;31mTypeError\u001b[0m: 'list' object cannot be interpreted as an integer"
     ]
    }
   ],
   "source": [
    "for i in range(alphabet):\n",
    " print(i)"
   ]
  },
  {
   "cell_type": "code",
   "execution_count": 16,
   "id": "d09fde3a-0ce4-49ea-ae53-7f994f2eaf32",
   "metadata": {},
   "outputs": [
    {
     "ename": "SyntaxError",
     "evalue": "Missing parentheses in call to 'print'. Did you mean print(i)? (3270939964.py, line 2)",
     "output_type": "error",
     "traceback": [
      "\u001b[0;36m  Cell \u001b[0;32mIn[16], line 2\u001b[0;36m\u001b[0m\n\u001b[0;31m    print i\u001b[0m\n\u001b[0m          ^\u001b[0m\n\u001b[0;31mSyntaxError\u001b[0m\u001b[0;31m:\u001b[0m Missing parentheses in call to 'print'. Did you mean print(i)?\n"
     ]
    }
   ],
   "source": [
    "for i in alphabet:\n",
    " print i"
   ]
  },
  {
   "cell_type": "code",
   "execution_count": 17,
   "id": "3f0f8c0d-f789-4c31-afeb-d14f26560e5d",
   "metadata": {},
   "outputs": [
    {
     "name": "stdout",
     "output_type": "stream",
     "text": [
      "0\n",
      "1\n",
      "2\n"
     ]
    }
   ],
   "source": [
    "for i in range(len(alphabet)):\n",
    " print(i)"
   ]
  },
  {
   "cell_type": "code",
   "execution_count": 18,
   "id": "a20b70fa-6d92-4a21-bf2d-43044ec42818",
   "metadata": {},
   "outputs": [
    {
     "ename": "SyntaxError",
     "evalue": "invalid syntax (2558945854.py, line 9)",
     "output_type": "error",
     "traceback": [
      "\u001b[0;36m  Cell \u001b[0;32mIn[18], line 9\u001b[0;36m\u001b[0m\n\u001b[0;31m    car = [ \"brand\" : \"Audi\",\"model\" : \"Q2\", \"year\" : 1980]\u001b[0m\n\u001b[0m                    ^\u001b[0m\n\u001b[0;31mSyntaxError\u001b[0m\u001b[0;31m:\u001b[0m invalid syntax\n"
     ]
    }
   ],
   "source": [
    "''' Choose the appropriate snippet to create and print a dictionary with the following information.\n",
    "\n",
    "brand = Audi\n",
    "\n",
    "Model = Q2\n",
    "\n",
    "Year = 1980\n",
    "'''\n",
    "car = [ \"brand\" : \"Audi\",\"model\" : \"Q2\", \"year\" : 1980]\n",
    "print(car)"
   ]
  },
  {
   "cell_type": "code",
   "execution_count": 19,
   "id": "fa567c69-7286-47e8-910f-d3cdb903af5c",
   "metadata": {},
   "outputs": [
    {
     "ename": "TypeError",
     "evalue": "unsupported operand type(s) for -: 'str' and 'str'",
     "output_type": "error",
     "traceback": [
      "\u001b[0;31m---------------------------------------------------------------------------\u001b[0m",
      "\u001b[0;31mTypeError\u001b[0m                                 Traceback (most recent call last)",
      "Cell \u001b[0;32mIn[19], line 1\u001b[0m\n\u001b[0;32m----> 1\u001b[0m car \u001b[38;5;241m=\u001b[39m { \u001b[38;5;124;43m\"\u001b[39;49m\u001b[38;5;124;43mbrand\u001b[39;49m\u001b[38;5;124;43m\"\u001b[39;49m\u001b[43m \u001b[49m\u001b[38;5;241;43m-\u001b[39;49m\u001b[43m \u001b[49m\u001b[38;5;124;43m\"\u001b[39;49m\u001b[38;5;124;43mAudi\u001b[39;49m\u001b[38;5;124;43m\"\u001b[39;49m,\u001b[38;5;124m\"\u001b[39m\u001b[38;5;124mmodel\u001b[39m\u001b[38;5;124m\"\u001b[39m \u001b[38;5;241m-\u001b[39m \u001b[38;5;124m\"\u001b[39m\u001b[38;5;124mQ2\u001b[39m\u001b[38;5;124m\"\u001b[39m, \u001b[38;5;124m\"\u001b[39m\u001b[38;5;124myear\u001b[39m\u001b[38;5;124m\"\u001b[39m \u001b[38;5;241m-\u001b[39m \u001b[38;5;241m1980\u001b[39m}\n\u001b[1;32m      2\u001b[0m \u001b[38;5;28mprint\u001b[39m(car)\n",
      "\u001b[0;31mTypeError\u001b[0m: unsupported operand type(s) for -: 'str' and 'str'"
     ]
    }
   ],
   "source": [
    "car = { \"brand\" - \"Audi\",\"model\" - \"Q2\", \"year\" - 1980}\n",
    "print(car)"
   ]
  },
  {
   "cell_type": "code",
   "execution_count": 20,
   "id": "3d4301e8-4027-4727-8892-dee13b7f23fd",
   "metadata": {},
   "outputs": [
    {
     "name": "stdout",
     "output_type": "stream",
     "text": [
      "{'brand': 'Audi', 'model': 'Q2', 'year': 1980}\n"
     ]
    }
   ],
   "source": [
    "car = { \"brand\" : \"Audi\",\"model\" : \"Q2\", \"year\" : 1980}\n",
    "print(car)"
   ]
  },
  {
   "cell_type": "code",
   "execution_count": 23,
   "id": "9b3e5d14-ddcb-4088-8ec4-534e9aa560b9",
   "metadata": {},
   "outputs": [
    {
     "data": {
      "text/plain": [
       "dict"
      ]
     },
     "execution_count": 23,
     "metadata": {},
     "output_type": "execute_result"
    }
   ],
   "source": [
    "type(car)"
   ]
  },
  {
   "cell_type": "code",
   "execution_count": 22,
   "id": "e51dd773-b29c-41b4-81e0-0836e4eb5db9",
   "metadata": {},
   "outputs": [
    {
     "ename": "TypeError",
     "evalue": "unhashable type: 'dict'",
     "output_type": "error",
     "traceback": [
      "\u001b[0;31m---------------------------------------------------------------------------\u001b[0m",
      "\u001b[0;31mTypeError\u001b[0m                                 Traceback (most recent call last)",
      "Cell \u001b[0;32mIn[22], line 1\u001b[0m\n\u001b[0;32m----> 1\u001b[0m car \u001b[38;5;241m=\u001b[39m { {\u001b[38;5;124m\"\u001b[39m\u001b[38;5;124mbrand\u001b[39m\u001b[38;5;124m\"\u001b[39m : \u001b[38;5;124m\"\u001b[39m\u001b[38;5;124mAudi\u001b[39m\u001b[38;5;124m\"\u001b[39m}, {\u001b[38;5;124m\"\u001b[39m\u001b[38;5;124mmodel\u001b[39m\u001b[38;5;124m\"\u001b[39m : \u001b[38;5;124m\"\u001b[39m\u001b[38;5;124mQ2\u001b[39m\u001b[38;5;124m\"\u001b[39m}, {\u001b[38;5;124m\"\u001b[39m\u001b[38;5;124myear\u001b[39m\u001b[38;5;124m\"\u001b[39m : \u001b[38;5;241m1980\u001b[39m}}\n\u001b[1;32m      2\u001b[0m \u001b[38;5;28mprint\u001b[39m(car)\n",
      "\u001b[0;31mTypeError\u001b[0m: unhashable type: 'dict'"
     ]
    }
   ],
   "source": [
    "car = { {\"brand\" : \"Audi\"}, {\"model\" : \"Q2\"}, {\"year\" : 1980}}\n",
    "print(car)"
   ]
  },
  {
   "cell_type": "markdown",
   "id": "e5dd1906-ce47-43fe-a72d-752281a88966",
   "metadata": {},
   "source": [
    "# Which among the following code snippets can be used to calculate the average marks of a student in 5 subjects, and give grades according to the following rules:\n",
    "\n",
    "- If average > 90, then Grade = A\n",
    "\n",
    "- If average > 80, then Grade = B\n",
    "\n",
    "- If average > 70, then Grade = C\n",
    "\n",
    "- If average > 60, then Grade = D\n",
    "\n",
    "- If average > 50, then Grade = E\n",
    "#"
   ]
  },
  {
   "cell_type": "code",
   "execution_count": 25,
   "id": "389defcd-cccb-4d02-922e-1285b31cc5fb",
   "metadata": {},
   "outputs": [
    {
     "ename": "SyntaxError",
     "evalue": "invalid syntax (3957564366.py, line 10)",
     "output_type": "error",
     "traceback": [
      "\u001b[0;36m  Cell \u001b[0;32mIn[25], line 10\u001b[0;36m\u001b[0m\n\u001b[0;31m    else if avg > 80:\u001b[0m\n\u001b[0m         ^\u001b[0m\n\u001b[0;31mSyntaxError\u001b[0m\u001b[0;31m:\u001b[0m invalid syntax\n"
     ]
    }
   ],
   "source": [
    "m1 = 72\n",
    "m2 = 85\n",
    "m3 = 96\n",
    "m4 = 42\n",
    "m5 = 95\n",
    "avg = (m1 + m2 + m3 + m4 + m5) / 4\n",
    "print(\"Average=\", avg)\n",
    "if avg > 90:\n",
    " print(\"Grade A\")\n",
    "else if avg > 80:\n",
    " print(\"Grade B\")\n",
    "else if avg > 70:\n",
    " print(\"Grade C\")\n",
    "else if avg > 60:\n",
    " print(\"Grade D\")\n",
    "else if avg > 50:\n",
    " print(\"Grade E\")\n",
    "else:\n",
    " print(\"Fail\")"
   ]
  },
  {
   "cell_type": "code",
   "execution_count": 26,
   "id": "f21c25ef-fca5-4459-8898-ee677ce8b895",
   "metadata": {},
   "outputs": [
    {
     "name": "stdout",
     "output_type": "stream",
     "text": [
      "Average = 97.5\n",
      "Grade A\n"
     ]
    }
   ],
   "source": [
    "m1 = 72\n",
    "m2 = 85\n",
    "m3 = 96\n",
    "m4 = 42\n",
    "m5 = 95\n",
    "avg = (m1 + m2 + m3 + m4 + m5) / 4\n",
    "print(\"Average =\", avg)\n",
    "if avg > 90:\n",
    " print(\"Grade A\")\n",
    "elif avg > 80:\n",
    " print(\"Grade B\")\n",
    "elif avg > 70:\n",
    " print(\"Grade C\")\n",
    "elif avg > 60:\n",
    " print(\"Grade D\")\n",
    "elif avg > 50:\n",
    " print(\"Grade E\")\n",
    "else:\n",
    " print(\"Fail\")"
   ]
  },
  {
   "cell_type": "code",
   "execution_count": 27,
   "id": "7b895b90-fcf9-40c8-a76a-6c433ad878e6",
   "metadata": {},
   "outputs": [
    {
     "name": "stdout",
     "output_type": "stream",
     "text": [
      "Average= 78.0\n",
      "Grade C\n"
     ]
    }
   ],
   "source": [
    "m1 = 72\n",
    "m2 = 85\n",
    "m3 = 96\n",
    "m4 = 42\n",
    "m5 = 95\n",
    "avg = (m1 + m2 + m3 + m4 + m5) / 5\n",
    "print(\"Average=\", avg)\n",
    "if avg > 90:\n",
    " print(\"Grade A\")\n",
    "elif avg > 80:\n",
    " print(\"Grade B\")\n",
    "elif avg > 70:\n",
    " print(\"Grade C\")\n",
    "elif avg > 60:\n",
    " print(\"Grade D\")\n",
    "elif avg > 50:\n",
    " print(\"Grade E\")\n",
    "else:\n",
    " print(\"Fail\")"
   ]
  },
  {
   "cell_type": "markdown",
   "id": "86f62d70-1f17-479b-993d-77054c56bca6",
   "metadata": {},
   "source": [
    "# Choose the appropriate snippet to print the messages with the following information.\n",
    "\n",
    "### For numbers 1 to 100:\n",
    "\n",
    " - If a number is divisible by 3, then print Fizz.\n",
    "\n",
    " - If a number is divisible by 5, then print Buzz.\n",
    "\n",
    " - If a number is divisible by 3 and 5 both, then print FizzBuzz.\n",
    "\n",
    " - If a number is neither divisible by 3 or 5, just print the number."
   ]
  },
  {
   "cell_type": "code",
   "execution_count": 1,
   "id": "48b79fa3-8f14-480c-af9c-107aaf51a781",
   "metadata": {},
   "outputs": [
    {
     "ename": "SyntaxError",
     "evalue": "invalid syntax (713608295.py, line 2)",
     "output_type": "error",
     "traceback": [
      "\u001b[0;36m  Cell \u001b[0;32mIn[1], line 2\u001b[0;36m\u001b[0m\n\u001b[0;31m    if(i % 3 = 0 or i % 5 = 0):\u001b[0m\n\u001b[0m             ^\u001b[0m\n\u001b[0;31mSyntaxError\u001b[0m\u001b[0;31m:\u001b[0m invalid syntax\n"
     ]
    }
   ],
   "source": [
    "for i in range(1, 101):\n",
    " if(i % 3 = 0 or i % 5 = 0):\n",
    "     print(\"FizzBuzz\")\n",
    " elif (i % 3 == 0):\n",
    "     print(\"Fizz\")\n",
    " elif(i % 5 == 0):\n",
    "     print(\"Buzz\")\n",
    " else: \n",
    "     print(i)"
   ]
  },
  {
   "cell_type": "code",
   "execution_count": 2,
   "id": "e9966a17-cf14-423c-b927-1cc9f23e5ba4",
   "metadata": {},
   "outputs": [
    {
     "name": "stdout",
     "output_type": "stream",
     "text": [
      "1\n",
      "2\n",
      "FizzBuzz\n",
      "4\n",
      "FizzBuzz\n",
      "FizzBuzz\n",
      "7\n",
      "8\n",
      "FizzBuzz\n",
      "FizzBuzz\n",
      "11\n",
      "FizzBuzz\n",
      "13\n",
      "14\n",
      "FizzBuzz\n",
      "16\n",
      "17\n",
      "FizzBuzz\n",
      "19\n",
      "FizzBuzz\n",
      "FizzBuzz\n",
      "22\n",
      "23\n",
      "FizzBuzz\n",
      "FizzBuzz\n",
      "26\n",
      "FizzBuzz\n",
      "28\n",
      "29\n",
      "FizzBuzz\n",
      "31\n",
      "32\n",
      "FizzBuzz\n",
      "34\n",
      "FizzBuzz\n",
      "FizzBuzz\n",
      "37\n",
      "38\n",
      "FizzBuzz\n",
      "FizzBuzz\n",
      "41\n",
      "FizzBuzz\n",
      "43\n",
      "44\n",
      "FizzBuzz\n",
      "46\n",
      "47\n",
      "FizzBuzz\n",
      "49\n",
      "FizzBuzz\n",
      "FizzBuzz\n",
      "52\n",
      "53\n",
      "FizzBuzz\n",
      "FizzBuzz\n",
      "56\n",
      "FizzBuzz\n",
      "58\n",
      "59\n",
      "FizzBuzz\n",
      "61\n",
      "62\n",
      "FizzBuzz\n",
      "64\n",
      "FizzBuzz\n",
      "FizzBuzz\n",
      "67\n",
      "68\n",
      "FizzBuzz\n",
      "FizzBuzz\n",
      "71\n",
      "FizzBuzz\n",
      "73\n",
      "74\n",
      "FizzBuzz\n",
      "76\n",
      "77\n",
      "FizzBuzz\n",
      "79\n",
      "FizzBuzz\n",
      "FizzBuzz\n",
      "82\n",
      "83\n",
      "FizzBuzz\n",
      "FizzBuzz\n",
      "86\n",
      "FizzBuzz\n",
      "88\n",
      "89\n",
      "FizzBuzz\n",
      "91\n",
      "92\n",
      "FizzBuzz\n",
      "94\n",
      "FizzBuzz\n",
      "FizzBuzz\n",
      "97\n",
      "98\n",
      "FizzBuzz\n"
     ]
    }
   ],
   "source": [
    "for i in range(1, 100):\n",
    " if(i % 3 == 0 or i % 5 == 0):\n",
    "     print(\"FizzBuzz\")\n",
    " elif (i % 3 == 0):\n",
    "     print(\"Fizz\")\n",
    " elif(i % 5 == 0):\n",
    "     print(\"Buzz\")\n",
    " else: \n",
    "     print(i)"
   ]
  },
  {
   "cell_type": "code",
   "execution_count": 3,
   "id": "4332580c-e740-48dc-a189-a065e19b7122",
   "metadata": {},
   "outputs": [
    {
     "name": "stdout",
     "output_type": "stream",
     "text": [
      "1\n",
      "2\n",
      "Fizz\n",
      "4\n",
      "Buzz\n",
      "Fizz\n",
      "7\n",
      "8\n",
      "Fizz\n",
      "Buzz\n",
      "11\n",
      "Fizz\n",
      "13\n",
      "14\n",
      "FizzBuzz\n",
      "16\n",
      "17\n",
      "Fizz\n",
      "19\n",
      "Buzz\n",
      "Fizz\n",
      "22\n",
      "23\n",
      "Fizz\n",
      "Buzz\n",
      "26\n",
      "Fizz\n",
      "28\n",
      "29\n",
      "FizzBuzz\n",
      "31\n",
      "32\n",
      "Fizz\n",
      "34\n",
      "Buzz\n",
      "Fizz\n",
      "37\n",
      "38\n",
      "Fizz\n",
      "Buzz\n",
      "41\n",
      "Fizz\n",
      "43\n",
      "44\n",
      "FizzBuzz\n",
      "46\n",
      "47\n",
      "Fizz\n",
      "49\n",
      "Buzz\n",
      "Fizz\n",
      "52\n",
      "53\n",
      "Fizz\n",
      "Buzz\n",
      "56\n",
      "Fizz\n",
      "58\n",
      "59\n",
      "FizzBuzz\n",
      "61\n",
      "62\n",
      "Fizz\n",
      "64\n",
      "Buzz\n",
      "Fizz\n",
      "67\n",
      "68\n",
      "Fizz\n",
      "Buzz\n",
      "71\n",
      "Fizz\n",
      "73\n",
      "74\n",
      "FizzBuzz\n",
      "76\n",
      "77\n",
      "Fizz\n",
      "79\n",
      "Buzz\n",
      "Fizz\n",
      "82\n",
      "83\n",
      "Fizz\n",
      "Buzz\n",
      "86\n",
      "Fizz\n",
      "88\n",
      "89\n",
      "FizzBuzz\n",
      "91\n",
      "92\n",
      "Fizz\n",
      "94\n",
      "Buzz\n",
      "Fizz\n",
      "97\n",
      "98\n",
      "Fizz\n",
      "Buzz\n"
     ]
    }
   ],
   "source": [
    "for i in range(1, 101):\n",
    " if(i % 3 == 0 and i % 5 == 0):\n",
    "     print(\"FizzBuzz\")\n",
    " elif (i % 3 == 0):\n",
    "     print(\"Fizz\")\n",
    " elif(i % 5 == 0):\n",
    "     print(\"Buzz\")\n",
    " else: \n",
    "     print(i)"
   ]
  },
  {
   "cell_type": "code",
   "execution_count": 4,
   "id": "3548ba75-dcd9-4f81-8dbb-326dbe2c7f6d",
   "metadata": {},
   "outputs": [
    {
     "name": "stdout",
     "output_type": "stream",
     "text": [
      "1\n",
      "2\n",
      "Fizz\n",
      "4\n",
      "Buzz\n",
      "Fizz\n",
      "7\n",
      "8\n",
      "Fizz\n",
      "Buzz\n",
      "11\n",
      "Fizz\n",
      "13\n",
      "14\n",
      "FizzBuzz\n",
      "16\n",
      "17\n",
      "Fizz\n",
      "19\n",
      "Buzz\n",
      "Fizz\n",
      "22\n",
      "23\n",
      "Fizz\n",
      "Buzz\n",
      "26\n",
      "Fizz\n",
      "28\n",
      "29\n",
      "FizzBuzz\n",
      "31\n",
      "32\n",
      "Fizz\n",
      "34\n",
      "Buzz\n",
      "Fizz\n",
      "37\n",
      "38\n",
      "Fizz\n",
      "Buzz\n",
      "41\n",
      "Fizz\n",
      "43\n",
      "44\n",
      "FizzBuzz\n",
      "46\n",
      "47\n",
      "Fizz\n",
      "49\n",
      "Buzz\n",
      "Fizz\n",
      "52\n",
      "53\n",
      "Fizz\n",
      "Buzz\n",
      "56\n",
      "Fizz\n",
      "58\n",
      "59\n",
      "FizzBuzz\n",
      "61\n",
      "62\n",
      "Fizz\n",
      "64\n",
      "Buzz\n",
      "Fizz\n",
      "67\n",
      "68\n",
      "Fizz\n",
      "Buzz\n",
      "71\n",
      "Fizz\n",
      "73\n",
      "74\n",
      "FizzBuzz\n",
      "76\n",
      "77\n",
      "Fizz\n",
      "79\n",
      "Buzz\n",
      "Fizz\n",
      "82\n",
      "83\n",
      "Fizz\n",
      "Buzz\n",
      "86\n",
      "Fizz\n",
      "88\n",
      "89\n",
      "FizzBuzz\n",
      "91\n",
      "92\n",
      "Fizz\n",
      "94\n",
      "Buzz\n",
      "Fizz\n",
      "97\n",
      "98\n",
      "Fizz\n"
     ]
    }
   ],
   "source": [
    "for i in range(1, 100):\n",
    " if(i % 3 == 0 and i % 5 == 0):\n",
    "     print(\"FizzBuzz\")\n",
    " elif (i % 3 == 0):\n",
    "     print(\"Fizz\")\n",
    " elif(i % 5 == 0):\n",
    "     print(\"Buzz\")\n",
    " else: \n",
    "     print(i)"
   ]
  },
  {
   "cell_type": "code",
   "execution_count": null,
   "id": "36dc480f-0546-4e96-8b85-7c63dd3b7277",
   "metadata": {},
   "outputs": [],
   "source": []
  }
 ],
 "metadata": {
  "kernelspec": {
   "display_name": "Python 3 (ipykernel)",
   "language": "python",
   "name": "python3"
  },
  "language_info": {
   "codemirror_mode": {
    "name": "ipython",
    "version": 3
   },
   "file_extension": ".py",
   "mimetype": "text/x-python",
   "name": "python",
   "nbconvert_exporter": "python",
   "pygments_lexer": "ipython3",
   "version": "3.8.18"
  }
 },
 "nbformat": 4,
 "nbformat_minor": 5
}
