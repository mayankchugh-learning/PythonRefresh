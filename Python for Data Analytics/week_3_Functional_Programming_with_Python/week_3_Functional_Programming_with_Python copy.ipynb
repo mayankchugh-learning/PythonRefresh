{
 "cells": [
  {
   "cell_type": "markdown",
   "metadata": {},
   "source": [
    "# Week-3 Functional Programming with Python - LVC"
   ]
  },
  {
   "cell_type": "markdown",
   "metadata": {},
   "source": [
    "**Table of Contents**\n",
    "1. Functions\n",
    "2. OOPS \\\n",
    "   2.1 Class, Objects \\\n",
    "   2.2 Self variable \\\n",
    "   2.3 Constructor \\\n",
    "   2.4 Encapsulation \\\n",
    "   2.5 Abstraction \\\n",
    "   2.6 Inheritence \\\n",
    "   2.7 Polymorphism \n",
    "3. Modules"
   ]
  },
  {
   "cell_type": "markdown",
   "metadata": {},
   "source": [
    "# 1. Functions"
   ]
  },
  {
   "cell_type": "markdown",
   "metadata": {
    "id": "XsVOy7oaoSXM"
   },
   "source": [
    "**What is a Function in Python?**\n",
    "\n",
    "In Python, a function is a block of instructions that performs a specific task.\n",
    "\n",
    "We have already seen a few functions in python.  min and max were functions that found the minimum and maximum numbers in a list!\n",
    "\n",
    "In Python, we can also define our own functions! We don't have to rely on the ones that are already there.\n",
    "\n",
    "Functions break the program into modular chunks which can be reused later. Functions are used to make the program more organized and manageable.\n",
    "\n",
    "\n",
    "**Syntax of a function**\n",
    "\n",
    "Functions that users define themselves to a particular task are referred to as user-defined functions.\n",
    "\n",
    "```\n",
    "def function_name(parameters):\n",
    "\t'''explain what a function does'''\n",
    "\tstatement(s)\n",
    "```\n",
    "\n"
   ]
  },
  {
   "cell_type": "markdown",
   "metadata": {
    "id": "kMUsQDMVpgHh"
   },
   "source": [
    "Let's say, a store wants to market the Apple iPhone by displaying its attributes to each customer.\n",
    "\n",
    "Q. Write a function in Python that displays the attributes of the Apple iPhone."
   ]
  },
  {
   "cell_type": "code",
   "execution_count": 23,
   "metadata": {
    "id": "2qdL41zapfT5"
   },
   "outputs": [],
   "source": [
    "# write the function\n",
    "def display_iphone_attributes():\n",
    "    \"\"\"\n",
    "    This function displays\n",
    "    the stored attributes of\n",
    "    the Apple iPhone\n",
    "    \"\"\"\n",
    "    # store the price (in dollars) of the mobile in variable 'price'\n",
    "    price = 900\n",
    "    # store the RAM (in GB) of the mobile in variable 'ram'.\n",
    "    ram = 4\n",
    "    # store the internal storage (in GB) of the mobile in variable 'storage'.\n",
    "    storage = 128\n",
    "    # display the details\n",
    "    print('The Apple iPhone has ', ram, ' GB RAM and ', storage, ' GB internal storage and it costs $', price, sep='')"
   ]
  },
  {
   "cell_type": "markdown",
   "metadata": {
    "id": "8SQoJ4wWr-1g"
   },
   "source": [
    "**How to call a function in python?**\n",
    "\n",
    "Once the function is defined, we can simply call the function by writing the function name with appropriate parameters. The function definition must always be written before the function call. Else, we will get an error."
   ]
  },
  {
   "cell_type": "code",
   "execution_count": 24,
   "metadata": {
    "id": "qmSi4POvsYTM"
   },
   "outputs": [
    {
     "name": "stdout",
     "output_type": "stream",
     "text": [
      "The Apple iPhone has 4 GB RAM and 128 GB internal storage and it costs $900\n"
     ]
    }
   ],
   "source": [
    "# call the function\n",
    "display_iphone_attributes()"
   ]
  },
  {
   "cell_type": "markdown",
   "metadata": {
    "id": "8bKo7D3JtjlK"
   },
   "source": [
    "**How to write a Python function with arguments?**\n",
    "\n",
    "In Python, you can also define a function that takes a variable number of arguments. Let's try an example!\n",
    "\n",
    "Q. Write a function in Python that displays the attributes of a phone.\n",
    "\n"
   ]
  },
  {
   "cell_type": "code",
   "execution_count": 25,
   "metadata": {
    "id": "do-AAwmitijp"
   },
   "outputs": [],
   "source": [
    "# write the function\n",
    "def display_phone_attributes(brand, price, ram, storage):\n",
    "    \"\"\"\n",
    "    This function displays\n",
    "    the stored attributes of\n",
    "    any phone\n",
    "    \"\"\"\n",
    "    # display the details\n",
    "    print('The ', brand, ' phone has ', ram, ' GB RAM and ', storage,' GB internal storage and it costs $',price,sep='')"
   ]
  },
  {
   "cell_type": "code",
   "execution_count": 26,
   "metadata": {
    "id": "YHqgx5GWwZGT"
   },
   "outputs": [
    {
     "name": "stdout",
     "output_type": "stream",
     "text": [
      "The samsung phone has 12 GB RAM and 128 GB internal storage and it costs $899\n"
     ]
    }
   ],
   "source": [
    "# call the function\n",
    "display_phone_attributes('samsung', 899, 12, 128)"
   ]
  },
  {
   "cell_type": "markdown",
   "metadata": {
    "id": "Dpqah3c3xcuO"
   },
   "source": [
    "Since we have called the function with the appropriate number of arguments, it runs smoothly without any error. The interpreter will show an error message in case we call it with a different number of arguments.\n",
    "\n",
    "Let's try calling the function with 3 arguments."
   ]
  },
  {
   "cell_type": "code",
   "execution_count": 27,
   "metadata": {
    "id": "sLwV4-39xzDA"
   },
   "outputs": [
    {
     "ename": "TypeError",
     "evalue": "display_phone_attributes() missing 1 required positional argument: 'storage'",
     "output_type": "error",
     "traceback": [
      "\u001b[1;31m---------------------------------------------------------------------------\u001b[0m",
      "\u001b[1;31mTypeError\u001b[0m                                 Traceback (most recent call last)",
      "\u001b[1;32m~\\AppData\\Local\\Temp\\ipykernel_16636\\3516429667.py\u001b[0m in \u001b[0;36m<module>\u001b[1;34m\u001b[0m\n\u001b[0;32m      1\u001b[0m \u001b[1;31m# call the function with 3 arguments\u001b[0m\u001b[1;33m\u001b[0m\u001b[1;33m\u001b[0m\u001b[0m\n\u001b[1;32m----> 2\u001b[1;33m \u001b[0mdisplay_phone_attributes\u001b[0m\u001b[1;33m(\u001b[0m\u001b[1;34m'samsung'\u001b[0m\u001b[1;33m,\u001b[0m \u001b[1;36m899\u001b[0m\u001b[1;33m,\u001b[0m \u001b[1;36m12\u001b[0m\u001b[1;33m)\u001b[0m\u001b[1;33m\u001b[0m\u001b[1;33m\u001b[0m\u001b[0m\n\u001b[0m",
      "\u001b[1;31mTypeError\u001b[0m: display_phone_attributes() missing 1 required positional argument: 'storage'"
     ]
    }
   ],
   "source": [
    "# call the function with 3 arguments\n",
    "display_phone_attributes('samsung', 899, 12)"
   ]
  },
  {
   "cell_type": "markdown",
   "metadata": {
    "id": "es8xsN4dx8wG"
   },
   "source": [
    "**What is a return statement?**\n",
    "\n",
    "The return statement is used to exit a function and also returns the output.\n",
    "\n",
    "Q. Write a function in Python that takes the discount percentage as input and returns the discounted price of an Apple iPhone."
   ]
  },
  {
   "cell_type": "code",
   "execution_count": 28,
   "metadata": {
    "id": "gHOoGYQzyjYw"
   },
   "outputs": [],
   "source": [
    "# write the function\n",
    "def dis_price(discount):\n",
    "    \"\"\"\n",
    "    This function takes the discount \n",
    "    percentage as input and \n",
    "    returns the discounted price of Apple iPhone\n",
    "    \"\"\"\n",
    "    # store the price (in dollars) of the mobile in variable 'price'\n",
    "    price = 900\n",
    "    # calculate the price after discount\n",
    "    discounted_price = price - price * (discount / 100)\n",
    "    # return the discounted price\n",
    "    return discounted_price"
   ]
  },
  {
   "cell_type": "code",
   "execution_count": 29,
   "metadata": {
    "id": "kfxk0YnjzIdu"
   },
   "outputs": [
    {
     "data": {
      "text/plain": [
       "810.0"
      ]
     },
     "execution_count": 29,
     "metadata": {},
     "output_type": "execute_result"
    }
   ],
   "source": [
    "# call the function with discount = 10%\n",
    "dp = dis_price(10)\n",
    "dp"
   ]
  },
  {
   "cell_type": "markdown",
   "metadata": {
    "id": "_IPo7Bjiz7T0"
   },
   "source": [
    "In Python, lambda function are functions a different way to define a function \n",
    "\n",
    "* User-defined functions are defined using the def keyword, whereas lambda functions are defined using the lambda keyword.\n",
    "* We generally use them when we require an anonymous function for a small task\n",
    "* We cannot use a return statement with lambda functions.\n",
    "\n",
    "Let's try to get the discounted price using lambda function."
   ]
  },
  {
   "cell_type": "code",
   "execution_count": 30,
   "metadata": {
    "id": "DggmBW-X0xxa"
   },
   "outputs": [],
   "source": [
    "# lambda functions\n",
    "dis_price_lambda = lambda discount : 900 - ( 900 * (discount / 100) ) "
   ]
  },
  {
   "cell_type": "code",
   "execution_count": 31,
   "metadata": {
    "id": "0ptZLkjR1ER6"
   },
   "outputs": [
    {
     "data": {
      "text/plain": [
       "810.0"
      ]
     },
     "execution_count": 31,
     "metadata": {},
     "output_type": "execute_result"
    }
   ],
   "source": [
    "# call the function with discount = 10%\n",
    "dis_price_lambda(10)"
   ]
  },
  {
   "cell_type": "markdown",
   "metadata": {
    "id": "JE2FLBCIejeA"
   },
   "source": [
    "## *args & **kwargs"
   ]
  },
  {
   "cell_type": "markdown",
   "metadata": {
    "id": "yCj_GaLAgpLn"
   },
   "source": [
    "## *args\n",
    "**Python allows us flexibility in terms of the number of arguments passed to a function by using \\*args.**"
   ]
  },
  {
   "cell_type": "code",
   "execution_count": 32,
   "metadata": {
    "id": "Kp20hXTbel28"
   },
   "outputs": [],
   "source": [
    "def total_amount(*args):\n",
    "    \"\"\"\n",
    "    This function takes the prices of phones ordered\n",
    "    and returns the total order amount.\n",
    "    \"\"\"\n",
    "    total = 0\n",
    "    # computing the total order amount\n",
    "    for arg in args:\n",
    "        total += arg\n",
    "\n",
    "    # return the total amount\n",
    "    return total"
   ]
  },
  {
   "cell_type": "markdown",
   "metadata": {
    "id": "iotLTjjAnehn"
   },
   "source": [
    "Let's compute the total amount for 5 phones."
   ]
  },
  {
   "cell_type": "code",
   "execution_count": 33,
   "metadata": {
    "colab": {
     "base_uri": "https://localhost:8080/"
    },
    "id": "QTkUyHYJnc0I",
    "outputId": "407ac174-7ed6-4d34-d72e-f1d63fbb4f4f"
   },
   "outputs": [
    {
     "name": "stdout",
     "output_type": "stream",
     "text": [
      "Total order amount: 3669\n"
     ]
    }
   ],
   "source": [
    "print('Total order amount:', total_amount(700, 599, 650, 900, 820))"
   ]
  },
  {
   "cell_type": "markdown",
   "metadata": {
    "id": "FWyaI_WqnriO"
   },
   "source": [
    "Now, let's compute the total amount for 10 phones."
   ]
  },
  {
   "cell_type": "code",
   "execution_count": 34,
   "metadata": {
    "colab": {
     "base_uri": "https://localhost:8080/"
    },
    "id": "2ZsZt-FLnxcp",
    "outputId": "0837e21a-84fd-47c8-c3a5-273e26f6a1c1"
   },
   "outputs": [
    {
     "name": "stdout",
     "output_type": "stream",
     "text": [
      "Total order amount: 7457\n"
     ]
    }
   ],
   "source": [
    "print('Total order amount:', total_amount(700, 599, 650, 900, 820, 630, 520, 799, 999, 840))"
   ]
  },
  {
   "cell_type": "markdown",
   "metadata": {
    "id": "V3o5ByDooLFN"
   },
   "source": [
    "Till now, the arguments we have passed to our functions have been declared by names only, like brand, ram, price1. These types of arguments are called **positional arguments**.\n",
    "\n",
    "Another type of argument in Python is **called keyword argument**, which is declared using both a name and a default value."
   ]
  },
  {
   "cell_type": "markdown",
   "metadata": {
    "id": "tIDDR7GqpRzj"
   },
   "source": [
    "Let us consider the festive season sale, where the store is offering a discount of 5% on all its products. Outside the sale period, there will be no discount for the products.\n",
    "\n",
    "Let's create a new function to compute the total discounted price for an order of one or more phones placed by a customer."
   ]
  },
  {
   "cell_type": "code",
   "execution_count": 35,
   "metadata": {
    "id": "KwFVie38nHFl"
   },
   "outputs": [],
   "source": [
    "def total_discounted_amount(*prices, discount=0.0):\n",
    "    \"\"\"\n",
    "    This function takes the prices of phones ordered\n",
    "    and the discount percentage\n",
    "    and returns the total discounted order amount.\n",
    "    \"\"\"\n",
    "    total = 0\n",
    "    # computing the total order amount\n",
    "    for price in prices:\n",
    "        total += price\n",
    "\n",
    "    total_discounted_price = total - discount*total\n",
    "    \n",
    "    # return the total amount\n",
    "    return total_discounted_price"
   ]
  },
  {
   "cell_type": "code",
   "execution_count": 36,
   "metadata": {
    "colab": {
     "base_uri": "https://localhost:8080/"
    },
    "id": "eAoxq0-arNT-",
    "outputId": "ac9cd419-6d38-41af-bb12-5c30d47da1ab"
   },
   "outputs": [
    {
     "name": "stdout",
     "output_type": "stream",
     "text": [
      "Total discounted order amount: 7457.0\n"
     ]
    }
   ],
   "source": [
    "print('Total discounted order amount:', total_discounted_amount(700, 599, 650, 900, 820, 630, 520, 799, 999, 840))"
   ]
  },
  {
   "cell_type": "markdown",
   "metadata": {
    "id": "e3fU3p0trmSz"
   },
   "source": [
    "The discount percentage during the festive season sale will be 5%, which we can specify by setting the keyword argument *discount* to 0.05."
   ]
  },
  {
   "cell_type": "code",
   "execution_count": 37,
   "metadata": {
    "colab": {
     "base_uri": "https://localhost:8080/"
    },
    "id": "NY1oWOAWrNR2",
    "outputId": "af230853-2e86-4bab-bbf0-7b97d80c7bf6"
   },
   "outputs": [
    {
     "name": "stdout",
     "output_type": "stream",
     "text": [
      "Total discounted order amount (during festive season): 7084.15\n"
     ]
    }
   ],
   "source": [
    "print('Total discounted order amount (during festive season):', total_discounted_amount(700, 599, 650, 900, 820, 630, 520, 799, 999, 840, discount=0.05))"
   ]
  },
  {
   "cell_type": "markdown",
   "metadata": {},
   "source": [
    "## **kwargs"
   ]
  },
  {
   "cell_type": "markdown",
   "metadata": {
    "id": "zy1c9pLdsC4I"
   },
   "source": [
    "Just like \\*args helped us remove the constraint on the number of positional arguments, \\**kwargs helps us remove the constraint on the number of keyword arguments.\n",
    "\n",
    "The \\**kwargs argument passed while calling the function must be a mapping, such as a dictionary."
   ]
  },
  {
   "cell_type": "markdown",
   "metadata": {
    "id": "V1GvvsqZszot"
   },
   "source": [
    "MobiWorld has decided to offer a \\$5 cashback on all the products on top of the 5% discount for the last day of the festive season sale. Let's create a function to compute the customer's net spend."
   ]
  },
  {
   "cell_type": "code",
   "execution_count": 38,
   "metadata": {
    "id": "FXpSsvqErNM-"
   },
   "outputs": [],
   "source": [
    "def customer_net_spend(*prices, discount=0.0, **kwargs):\n",
    "    \"\"\"\n",
    "    This function takes the prices of phones ordered,\n",
    "    the discount percentage, and any other cost additions/subtractions,\n",
    "    and returns the customer's net spend on the order.\n",
    "    \"\"\"\n",
    "    total = 0\n",
    "    # computing the total order amount\n",
    "    for price in prices:\n",
    "        total += price\n",
    "\n",
    "    total_discounted_price = total - discount*total\n",
    "\n",
    "    net_spend = total_discounted_price - kwargs['cashback']\n",
    "    \n",
    "    # return the total amount\n",
    "    return net_spend"
   ]
  },
  {
   "cell_type": "code",
   "execution_count": 39,
   "metadata": {
    "colab": {
     "base_uri": "https://localhost:8080/"
    },
    "id": "EIsAtDpxvu6K",
    "outputId": "ab4b1c23-6ab5-45f7-e5fd-85cc0b445e6f"
   },
   "outputs": [
    {
     "name": "stdout",
     "output_type": "stream",
     "text": [
      "Customer net spend (during last day of festive season): 1846.55\n"
     ]
    }
   ],
   "source": [
    "additionals = {'cashback': 5}\n",
    "print('Customer net spend (during last day of festive season):', customer_net_spend(700, 599, 650, discount=0.05, **additionals))"
   ]
  },
  {
   "cell_type": "markdown",
   "metadata": {},
   "source": [
    "# 2. OOPS (Object-Oriented Programming System)"
   ]
  },
  {
   "cell_type": "markdown",
   "metadata": {
    "id": "W9KPxa8RzOZz"
   },
   "source": [
    "A **programming paradigm** defines the methodology of designing and implementing programs using the key features and other building blocks of a programming language and gives you an idea of how problems are generally analysed and solved in a particular programming language."
   ]
  },
  {
   "cell_type": "markdown",
   "metadata": {
    "id": "D9I8g7gIzSpV"
   },
   "source": [
    "1.   Procedural Programming\n",
    "2.   Object Based Programming\n",
    "3.  Object Oriented Programming"
   ]
  },
  {
   "cell_type": "markdown",
   "metadata": {
    "id": "nWyrEAXe4tzv"
   },
   "source": [
    "# OOP CONCEPTS\n",
    "1. **Abstraction** - is used as a technique to identify all the essential characteristics and behaviour of an object and to omit those aspects that are unimportant.\n",
    "2. **Encapsulation** - is one of the fundamental concepts in Object-oriented programming.\n",
    "     It describes the idea of bundling data and methods that work on the data within one unit restricting access to some of the object’s components (variables and methods)\n",
    "\n",
    "3. **Inheritance** -  Inheritance is the process by which an object of one class acquires the properties of objects of another class.\n",
    "    There are several reasons why inheritance was introduced into OO(Object Oriented) languages.\n",
    "    The main reason is reusability i.e., one can derive a new class from an existing class and add new features to it.\n",
    "    It ensures the closeness with real world models. Another reason is transitive nature. If a class A inherits properties of another class B, then all subclasses of A will automatically inherit the properties of B.\n",
    "\n",
    "4. **Polymorphism** - Polymorphism can be defined as the ability of a single entity to behave differently depending on the context. It has the ability to take more than one form. i.e., an operation may exhibit different behaviours in different instances."
   ]
  },
  {
   "cell_type": "markdown",
   "metadata": {},
   "source": [
    "## 2.1 Class and Object"
   ]
  },
  {
   "cell_type": "markdown",
   "metadata": {
    "id": "8WSPi21d23JV"
   },
   "source": [
    "**Class:**\n",
    "In Object-oriented programming, we use classes to represent real-world things and scenarios, and we create objects based on these classes.\n",
    "\n",
    "Definition: **A class** is a blueprint or design that defines the variables and the methods common to all objects of a certain kind.\n",
    "\n",
    "The data stored in its variables are known as **attributes / fields.**\n",
    "The code that can access this data to give the necessary output are called **methods / functions .**"
   ]
  },
  {
   "cell_type": "markdown",
   "metadata": {
    "id": "_8qyd96p2_TN"
   },
   "source": [
    "An **object** is a specimen of a class. An instance is a specific object created from a particular class.\n",
    "\n",
    "Creating an object from a class is called **instantiation.**"
   ]
  },
  {
   "cell_type": "code",
   "execution_count": 68,
   "metadata": {},
   "outputs": [
    {
     "name": "stdout",
     "output_type": "stream",
     "text": [
      "5\n",
      "10\n"
     ]
    }
   ],
   "source": [
    "class MyClass:\n",
    "    def __init__(self, x, y):\n",
    "        self.x = x\n",
    "        self.y = y\n",
    "\n",
    "obj = MyClass(5, 10)\n",
    "print(obj.x)\n",
    "print(obj.y)"
   ]
  },
  {
   "cell_type": "markdown",
   "metadata": {
    "id": "AJCe7HvB5-sb"
   },
   "source": [
    "A class consists of 4 key members:\n",
    "\n",
    "1.   **Constructor:** The constructor must have a special name __init__() and a special parameter called self. In Python, the constructor is invoked automatically whenever a new object of a class is instantiated.\n",
    "2.   **Class variable** / Class attribute: A class variable contains information that is shared by all objects of the class.\n",
    "\n",
    "1.   **Instance variable / Instance attribute:** An attribute that is created per instance/object.\n",
    "2.   **Method(s):** A function that can access any of these variables.\n",
    "\n",
    "\n",
    "\n",
    "\n",
    "\n",
    "\n",
    "\n",
    "\n",
    "\n",
    "\n"
   ]
  },
  {
   "cell_type": "code",
   "execution_count": 40,
   "metadata": {
    "colab": {
     "base_uri": "https://localhost:8080/"
    },
    "id": "5rGDPPAz3HMo",
    "outputId": "eaeaf641-56f3-4c50-d743-5d292895872f"
   },
   "outputs": [
    {
     "name": "stdout",
     "output_type": "stream",
     "text": [
      "Top speed of Honda City is 150 km/hr\n"
     ]
    }
   ],
   "source": [
    "# Code Example\n",
    "class Car:\n",
    "    def __init__(self, name, colour):\n",
    "        self.name = name\n",
    "        self.colour = colour\n",
    "    def get_Speed(self):\n",
    "        \"\"\"Setting the speed of the car.\"\"\"\n",
    "        print(\"Top speed of \" + self.name + \" is 150 km/hr\") \n",
    "# Creating an instance/object called Honda_City\n",
    "Honda_City = Car(\"Honda City\",\"Red\")\n",
    "# Calling the method using the name of the instance\n",
    "Honda_City.get_Speed() "
   ]
  },
  {
   "cell_type": "code",
   "execution_count": 41,
   "metadata": {
    "colab": {
     "base_uri": "https://localhost:8080/"
    },
    "id": "mDX9ko026U1J",
    "outputId": "c9d41d3c-07ec-4c65-8e4f-397b559ddbde"
   },
   "outputs": [
    {
     "name": "stdout",
     "output_type": "stream",
     "text": [
      "ID: 1 \n",
      "Name: Deepak\n",
      "ID: 2 \n",
      "Name: Moud\n"
     ]
    }
   ],
   "source": [
    "class Employee:    \n",
    "    def display(self, ID, Name):\n",
    "        self.ID=ID\n",
    "        self.Name=Name\n",
    "        print(\"ID: %d \\nName: %s\"%(self.ID,self.Name))    \n",
    "\n",
    "# Creating a emp instance of Employee class  \n",
    "emp = Employee()\n",
    "emp1=Employee()    \n",
    "emp.display(1, \"Deepak\")\n",
    "emp1.display(2, \"Moud\") "
   ]
  },
  {
   "cell_type": "code",
   "execution_count": 42,
   "metadata": {
    "colab": {
     "base_uri": "https://localhost:8080/"
    },
    "id": "szhQJkEDJGNE",
    "outputId": "ef64a1b1-ed16-492f-b13b-a9bd95f13c71"
   },
   "outputs": [
    {
     "name": "stdout",
     "output_type": "stream",
     "text": [
      "Inside display function\n",
      "Class Variable\n",
      "ID: 10 \n",
      "Name: John\n",
      "Inside display1 function\n",
      "Instance variable\n",
      "ID: 1 \n",
      "Name: A\n",
      "Class variable value\n",
      "ID: 10 \n",
      "Name: John\n",
      "Inside display2 function\n",
      "class vaiable\n",
      "ID: 2 \n",
      "Name: B\n",
      "2\n",
      "Inside display function\n",
      "Class Variable\n",
      "ID: 2 \n",
      "Name: B\n"
     ]
    }
   ],
   "source": [
    "class Employee:    \n",
    "    id = 10   \n",
    "    name = \"John\"    \n",
    "    def display (self):\n",
    "        print(\"Inside display function\")\n",
    "        print(\"Class Variable\")    \n",
    "        print(\"ID: %d \\nName: %s\"%(Employee.id,Employee.name))    \n",
    "    def display1 (self, id, name): \n",
    "        self.id=id\n",
    "        self.name=name   \n",
    "        print(\"Inside display1 function\") \n",
    "        print(\"Instance variable\")\n",
    "        print(\"ID: %d \\nName: %s\"%(self.id,self.name))\n",
    "        print(\"Class variable value\")\n",
    "        print(\"ID: %d \\nName: %s\"%(Employee.id,Employee.name))\n",
    "    def display2 (self, id, name): \n",
    "        Employee.id=id\n",
    "        Employee.name=name\n",
    "        print(\"Inside display2 function\")\n",
    "        print(\"class vaiable\")    \n",
    "        print(\"ID: %d \\nName: %s\"%(Employee.id,Employee.name))\n",
    "# Creating a emp instance of Employee class  \n",
    "emp = Employee()\n",
    "   \n",
    "emp.display()\n",
    " \n",
    "emp.display1(1,'A')\n",
    "emp.display2(2,'B')\n",
    "\n",
    "print(Employee.id)\n",
    "emp.display()"
   ]
  },
  {
   "cell_type": "markdown",
   "metadata": {
    "id": "tvjgzJuN6rU8"
   },
   "source": [
    "## 2.2 Understanding the self variable"
   ]
  },
  {
   "cell_type": "markdown",
   "metadata": {
    "id": "7TNJG7cQ61uc"
   },
   "source": [
    "__init__ method signature is as below.\n",
    "\n",
    "`def __init__(self):`\n",
    "\n",
    "\n",
    "The first argument of every class method, including init, is self variable. By convention, this argument is always named self.\n",
    "\n",
    "The self always a reference to the current instance of the class.\n",
    "\n",
    " In the init method, self refers to the newly created object and in other class methods, it refers to the instance whose method was called."
   ]
  },
  {
   "cell_type": "code",
   "execution_count": 43,
   "metadata": {
    "colab": {
     "base_uri": "https://localhost:8080/"
    },
    "id": "Gte1jzEi7LRg",
    "outputId": "3841c741-84c9-4214-dae8-de2c8711bcd3"
   },
   "outputs": [
    {
     "name": "stdout",
     "output_type": "stream",
     "text": [
      "Student1 detail Deepak Moud 42 deepakmoud@ymail.com\n",
      "Student2 detail  XYZ 45 xyz@gmail.com\n"
     ]
    }
   ],
   "source": [
    "class Student:\n",
    "  def __init__(self, name, age, email):\n",
    "    self.name=name\n",
    "    self.age=age\n",
    "    self.email=email\n",
    "student1=Student(\"Deepak Moud\", 42, \"deepakmoud@ymail.com\")\n",
    "student2=Student(\" XYZ\", 45, \"xyz@gmail.com\")  \n",
    "print(\"Student1 detail\", student1.name, student1.age,student1.email)\n",
    "print(\"Student2 detail\", student2.name, student2.age,student2.email)"
   ]
  },
  {
   "cell_type": "code",
   "execution_count": 44,
   "metadata": {
    "colab": {
     "base_uri": "https://localhost:8080/"
    },
    "id": "CYYDsZUM9sPj",
    "outputId": "668de395-2745-44e8-fb8e-74b8832c7acc"
   },
   "outputs": [
    {
     "name": "stdout",
     "output_type": "stream",
     "text": [
      "Hyndui car detals i10 RJ14AB5678\n",
      "Suzuki car detals swift RJ45CK1744\n"
     ]
    }
   ],
   "source": [
    "class Car:\n",
    "  def setDetails(self,model,regno):\n",
    "    self.model=model\n",
    "    self.regno=regno\n",
    "  def getModel(self):\n",
    "    return self.model\n",
    "  def getRegno(self):\n",
    "    return self.regno\n",
    "Hyndai=Car()\n",
    "suzuki=Car()\n",
    "Hyndai.setDetails(\"i10\", \"RJ14AB5678\")\n",
    "suzuki.setDetails(\"swift\", \"RJ45CK1744\")\n",
    "print(\"Hyndui car detals\", Hyndai.getModel(),Hyndai.getRegno())\n",
    "print(\"Suzuki car detals\", suzuki.getModel(),suzuki.getRegno())"
   ]
  },
  {
   "cell_type": "markdown",
   "metadata": {
    "id": "cQxj-Cd7AM54"
   },
   "source": [
    "**Important points regarding self variable are :**\n",
    "\n",
    "\n",
    "*   **Self is not a keyword but is a convention followed.**\n",
    "*  **When using self inside init or any method, it should be the first argument in the parameter list**\n",
    "\n",
    "*   **Self is a placeholder.**\n",
    "*   **Self is always a reference to the current** **instance of the class**.\n",
    "\n",
    "\n"
   ]
  },
  {
   "cell_type": "markdown",
   "metadata": {
    "id": "5FvftyEuAtVD"
   },
   "source": [
    "## 2.3 Constructor "
   ]
  },
  {
   "cell_type": "markdown",
   "metadata": {
    "id": "oH7PY1hDA0uK"
   },
   "source": [
    "**A constructor** can be viewed as a specific method used by a class to perform tasks such as initialising variables, or any startup task that needs to be done when an instance of a class (object) is created.\n"
   ]
  },
  {
   "cell_type": "markdown",
   "metadata": {
    "id": "FSuIj_OZA7py"
   },
   "source": [
    "In Python, the constructor is defined with a single name called __init__(self) across all the classes. This method has two leading underscores and two trailing underscores, a convention that helps prevent Python’s default method names from conflicting with user defined method names.\n",
    "\n",
    "\n",
    "When we create a class **without a constructor**, Python automatically creates a **default constructor** that doesn’t do anything but instantiates the object.\n",
    "\n",
    "\n",
    "**Constructors** in Python can be **overloaded** based on the number of arguments.\n",
    "\n",
    "\n",
    "Based on the number of arguments, the specific **constructor** on the class is invoked when an instance is created."
   ]
  },
  {
   "cell_type": "code",
   "execution_count": 45,
   "metadata": {
    "colab": {
     "base_uri": "https://localhost:8080/"
    },
    "id": "djua5b339KRc",
    "outputId": "20571f65-1208-4830-bd96-1a1caf141bef"
   },
   "outputs": [
    {
     "name": "stdout",
     "output_type": "stream",
     "text": [
      "Person detail    Name : Deepak Moud ID  :  1304 salary : 100000\n"
     ]
    }
   ],
   "source": [
    "class Person:\n",
    "  def __init__(self, name, id, salary):\n",
    "    self.name=name\n",
    "    self.id=id\n",
    "    self.salary=salary\n",
    "    \n",
    "p1=Person(\"Deepak Moud\", 1304, 100000)\n",
    " \n",
    "print(\"Person detail   \",\"Name :\", p1.name,\"ID  : \", p1.id,\"salary :\", p1.salary)"
   ]
  },
  {
   "cell_type": "code",
   "execution_count": 46,
   "metadata": {
    "colab": {
     "base_uri": "https://localhost:8080/"
    },
    "id": "NxkaikG4Jh10",
    "outputId": "b3584b60-bb58-4687-d731-04bbdc74cc15"
   },
   "outputs": [
    {
     "name": "stdout",
     "output_type": "stream",
     "text": [
      "ID: 101 \n",
      "Name: John\n",
      "ID: 102 \n",
      "Name: David\n"
     ]
    }
   ],
   "source": [
    "class Employee:  \n",
    "    def __init__(self, name, id):  \n",
    "        self.id = id  \n",
    "        self.name = name  \n",
    "  \n",
    "    def display(self):  \n",
    "        print(\"ID: %d \\nName: %s\" % (self.id, self.name))  \n",
    "  \n",
    "  \n",
    "emp1 = Employee(\"John\", 101)  \n",
    "emp2 = Employee(\"David\", 102)  \n",
    "  \n",
    "# accessing display() method to print employee 1 information  \n",
    "  \n",
    "emp1.display()  \n",
    "  \n",
    "# accessing display() method to print employee 2 information  \n",
    "emp2.display()  "
   ]
  },
  {
   "cell_type": "code",
   "execution_count": 47,
   "metadata": {
    "colab": {
     "base_uri": "https://localhost:8080/"
    },
    "id": "rGjVoZzhKCyl",
    "outputId": "402490f3-44ed-448c-ac59-c45e769cf005"
   },
   "outputs": [
    {
     "name": "stdout",
     "output_type": "stream",
     "text": [
      "This is non parametrized constructor\n",
      "Hello John\n"
     ]
    }
   ],
   "source": [
    "# Python Non-Parameterized Constructor\n",
    "\n",
    "class Student:  \n",
    "    # Constructor - non parameterized  \n",
    "    def __init__(self):  \n",
    "        print(\"This is non parametrized constructor\")  \n",
    "    \n",
    "    def show(self,name):  \n",
    "        print(\"Hello\",name)  \n",
    "student = Student()  \n",
    "student.show(\"John\")   "
   ]
  },
  {
   "cell_type": "code",
   "execution_count": 48,
   "metadata": {
    "colab": {
     "base_uri": "https://localhost:8080/"
    },
    "id": "vk1BRZvuKMaF",
    "outputId": "52a98d3e-9855-4786-8386-571d83cc24de"
   },
   "outputs": [
    {
     "name": "stdout",
     "output_type": "stream",
     "text": [
      "This is parametrized constructor\n",
      "Hello John\n"
     ]
    }
   ],
   "source": [
    "# Python Parameterized Constructor\n",
    "\n",
    "class Student:  \n",
    "    # Constructor - parameterized  \n",
    "    def __init__(self, name):  \n",
    "        print(\"This is parametrized constructor\")  \n",
    "        self.name = name  \n",
    "    \n",
    "    \n",
    "    def show(self):  \n",
    "        print(\"Hello\",self.name)  \n",
    "student = Student(\"John\")  \n",
    "student.show()  "
   ]
  },
  {
   "cell_type": "code",
   "execution_count": 49,
   "metadata": {
    "colab": {
     "base_uri": "https://localhost:8080/"
    },
    "id": "0iQ0hgPcKgCJ",
    "outputId": "07fbab75-e185-4ceb-eeb3-f2514a170b1f"
   },
   "outputs": [
    {
     "name": "stdout",
     "output_type": "stream",
     "text": [
      "101 Joseph\n"
     ]
    }
   ],
   "source": [
    "# Python Default Constructor\n",
    "class Student:  \n",
    "    roll_num = 101  \n",
    "    name = \"Joseph\"  \n",
    "  \n",
    "    def display(self):  \n",
    "        print(self.roll_num,self.name)  \n",
    "  \n",
    "st = Student()  \n",
    "st.display()  "
   ]
  },
  {
   "cell_type": "markdown",
   "metadata": {},
   "source": [
    "## 2.4 Encapsulation\n",
    "Encapsulation is the concept of wrapping data (attributes) and methods (functions) that operate on the data into a single unit, i.e., a class.\n",
    "It prevents direct access to the data from outside the class and allows controlled access through methods, thus enforcing data abstraction and hiding internal implementation details.\n",
    "Encapsulation helps in achieving data integrity, security, and modularity in the codebase."
   ]
  },
  {
   "cell_type": "code",
   "execution_count": 50,
   "metadata": {},
   "outputs": [
    {
     "name": "stdout",
     "output_type": "stream",
     "text": [
      "10\n"
     ]
    }
   ],
   "source": [
    "class Car:\n",
    "    def __init__(self):\n",
    "        self.__speed = 0   # Private attribute\n",
    "\n",
    "    def accelerate(self):\n",
    "        self.__speed += 10\n",
    "\n",
    "    def get_speed(self):\n",
    "        return self.__speed\n",
    "\n",
    "car = Car()\n",
    "car.accelerate()\n",
    "print(car.get_speed())  \n",
    "# Direct access to private attribute raises an error\n",
    "# print(car.__speed)  # AttributeError: 'Car' object has no attribute '__speed'"
   ]
  },
  {
   "cell_type": "code",
   "execution_count": 51,
   "metadata": {},
   "outputs": [
    {
     "name": "stdout",
     "output_type": "stream",
     "text": [
      "1000\n",
      "1000\n",
      "1300\n"
     ]
    }
   ],
   "source": [
    "class BankAccount:\n",
    "    def __init__(self, account_number, balance):\n",
    "        self._account_number = account_number  # Encapsulated attribute\n",
    "        self._balance = balance                # Encapsulated attribute\n",
    "\n",
    "    def deposit(self, amount):\n",
    "        if amount > 0:\n",
    "            self._balance += amount\n",
    "\n",
    "    def withdraw(self, amount):\n",
    "        if 0 < amount <= self._balance:\n",
    "            self._balance -= amount\n",
    "\n",
    "    def get_balance(self):\n",
    "        return self._balance\n",
    "\n",
    "# Creating a bank account object\n",
    "account = BankAccount(\"1234567890\", 1000)\n",
    "\n",
    "# Attempting to directly access the encapsulated attribute (not recommended)\n",
    "print(account._balance) \n",
    "\n",
    "# Accessing the balance using a getter method (recommended)\n",
    "print(account.get_balance())  \n",
    "\n",
    "# Depositing and withdrawing funds\n",
    "account.deposit(500)\n",
    "account.withdraw(200)\n",
    "\n",
    "# Displaying the updated balance\n",
    "print(account.get_balance()) "
   ]
  },
  {
   "cell_type": "markdown",
   "metadata": {},
   "source": [
    "In this example, the BankAccount class encapsulates the account number and balance attributes. Direct access to these attributes from outside the class is discouraged to maintain data integrity. Instead, methods such as deposit(), withdraw(), and get_balance() are provided to interact with the encapsulated data safely."
   ]
  },
  {
   "cell_type": "markdown",
   "metadata": {},
   "source": [
    "## 2.5 Abstraction"
   ]
  },
  {
   "cell_type": "markdown",
   "metadata": {},
   "source": [
    "Abstraction is a fundamental principle of object-oriented programming (OOP) that focuses on hiding the complex implementation details of a system and exposing only the necessary functionalities or behaviors to the outside world. In this article, we'll delve into the concept of abstraction in Python, exploring its significance, implementation, and practical examples.\n",
    "\n",
    "Abstraction involves focusing on essential qualities while ignoring irrelevant details.\n",
    "It allows developers to create a simplified view of a complex system, making it easier to understand and work with.\n",
    "Abstraction is achieved through the use of abstract classes, interfaces, and methods, which provide a blueprint for defining behaviors without specifying their implementation"
   ]
  },
  {
   "cell_type": "code",
   "execution_count": 52,
   "metadata": {},
   "outputs": [
    {
     "name": "stdout",
     "output_type": "stream",
     "text": [
      "Area of circle: 78.5\n"
     ]
    }
   ],
   "source": [
    "from abc import ABC, abstractmethod\n",
    "\n",
    "class Shape(ABC):\n",
    "    @abstractmethod\n",
    "    def area(self):\n",
    "        pass\n",
    "\n",
    "class Circle(Shape):\n",
    "    def __init__(self, radius):\n",
    "        self.radius = radius\n",
    "\n",
    "    def area(self):\n",
    "        return 3.14 * self.radius * self.radius\n",
    "\n",
    "# Creating an instance of a concrete subclass\n",
    "circle = Circle(5)\n",
    "print(\"Area of circle:\", circle.area())  "
   ]
  },
  {
   "cell_type": "code",
   "execution_count": 53,
   "metadata": {},
   "outputs": [
    {
     "name": "stdout",
     "output_type": "stream",
     "text": [
      "TV is powered on\n",
      "TV is powered off\n",
      "DVD player is powered on\n",
      "DVD player is powered off\n"
     ]
    }
   ],
   "source": [
    "from abc import ABC, abstractmethod\n",
    "\n",
    "class RemoteControl(ABC):\n",
    "    @abstractmethod\n",
    "    def power_on(self):\n",
    "        pass\n",
    "\n",
    "    @abstractmethod\n",
    "    def power_off(self):\n",
    "        pass\n",
    "\n",
    "class TVRemoteControl(RemoteControl):\n",
    "    def power_on(self):\n",
    "        print(\"TV is powered on\")\n",
    "\n",
    "    def power_off(self):\n",
    "        print(\"TV is powered off\")\n",
    "\n",
    "class DVDRemoteControl(RemoteControl):\n",
    "    def power_on(self):\n",
    "        print(\"DVD player is powered on\")\n",
    "\n",
    "    def power_off(self):\n",
    "        print(\"DVD player is powered off\")\n",
    "\n",
    "# Instantiate TV remote control\n",
    "tv_remote = TVRemoteControl()\n",
    "tv_remote.power_on()   \n",
    "tv_remote.power_off()  \n",
    "\n",
    "# Instantiate DVD remote control\n",
    "dvd_remote = DVDRemoteControl()\n",
    "dvd_remote.power_on()  \n",
    "dvd_remote.power_off() "
   ]
  },
  {
   "cell_type": "markdown",
   "metadata": {},
   "source": [
    "In this example, RemoteControl is an abstract base class (ABC) defining two abstract methods: power_on() and power_off(). The TVRemoteControl and DVDRemoteControl classes inherit from RemoteControl and provide their own implementations of the abstract methods. This abstraction allows us to interact with different electronic devices using a unified interface without worrying about the underlying details of each device.\n",
    "\n"
   ]
  },
  {
   "cell_type": "markdown",
   "metadata": {
    "id": "HVdwExLits39"
   },
   "source": [
    "## 2.6 Inheritance "
   ]
  },
  {
   "cell_type": "markdown",
   "metadata": {
    "id": "HNRK1McptwCT"
   },
   "source": [
    "is implemented by creating a derived class that can have the features of the base class in addition to having features of its own.\n",
    "\n",
    "\n",
    "In real time, it's more of the parent child relationship. A child generally has the features of the parent and has an addition of new features"
   ]
  },
  {
   "cell_type": "code",
   "execution_count": 54,
   "metadata": {
    "colab": {
     "base_uri": "https://localhost:8080/"
    },
    "id": "IcHMiojhu5vY",
    "outputId": "4c25180a-3568-4cc1-c347-d413ce1276c9"
   },
   "outputs": [
    {
     "name": "stdout",
     "output_type": "stream",
     "text": [
      "Car detail:  \n",
      "Car Engine :  BS6\n",
      "Car model : Swift\n"
     ]
    }
   ],
   "source": [
    "# Base class\n",
    "class Car:\n",
    "  def setenginemodel(self, engine):\n",
    "    self.engine=engine\n",
    "  def getenginemodel(self):\n",
    "    print(\"Car Engine : \", self.engine)\n",
    "\n",
    "# derived class\n",
    "class Suzuki(Car):\n",
    "  def setcarmodel(self,model):\n",
    "    self.model=model\n",
    "  def getcarmodel(self):\n",
    "    print(\"Car model :\", self.model)\n",
    "\n",
    "mycar=Suzuki()\n",
    "mycar.setenginemodel(\"BS6\")\n",
    "mycar.setcarmodel(\"Swift\")\n",
    "print(\"Car detail:  \")\n",
    "mycar.getenginemodel()\n",
    "mycar.getcarmodel()    "
   ]
  },
  {
   "cell_type": "code",
   "execution_count": 55,
   "metadata": {
    "colab": {
     "base_uri": "https://localhost:8080/"
    },
    "id": "BOPXjhUTLFFU",
    "outputId": "d9c90ce8-32a5-4151-d72c-02ce28a77fd5"
   },
   "outputs": [
    {
     "name": "stdout",
     "output_type": "stream",
     "text": [
      "dog barking\n",
      "Animal Speaking\n"
     ]
    }
   ],
   "source": [
    "class Animal:  \n",
    "    def speak(self):  \n",
    "        print(\"Animal Speaking\")  \n",
    "#child class Dog inherits the base class Animal  \n",
    "class Dog(Animal):  \n",
    "    def bark(self):  \n",
    "        print(\"dog barking\")  \n",
    "d = Dog()  \n",
    "d.bark()  \n",
    "d.speak()"
   ]
  },
  {
   "cell_type": "markdown",
   "metadata": {
    "id": "xcMzkETixhV_"
   },
   "source": [
    "Python supports **Multiple Inheritance** which means a class can inherit features (attributes and methods) from more than one base / parent class.\n",
    "\n",
    "\n"
   ]
  },
  {
   "cell_type": "markdown",
   "metadata": {
    "id": "hcuRrSb3xnTe"
   },
   "source": [
    "![image.png](data:image/png;base64,iVBORw0KGgoAAAANSUhEUgAAARkAAAC1CAYAAABruYs2AAAZXklEQVR4nO3dfVBTZ74H8C+JgUipBHXlzWoiy0ULqyIX/UNvO13r7naNuFMcr3Wqd/XeoaitnZUrlt5q60u12tGd2mqpcy/uSMfdcaVTMbS7tbY7HbgzyIR0Hai6XiStomDVBEshISbcPzDHA+SEJHJyAnw/M/zByXl5Ag9fnnNyfueJgg87T63NgDp6lUYdnX/P49J7PG6tr/UoeCqV2jFGpbG63N0VcHeXb11adknpNo107M/yCaQ/R/VfsLtqQ6mnx7MmLXFmVIpumiY+diI06pjwtHgUcLmdaO+8hev2K66mtvM9qijV0VcXHypUul0jFfuzvALpz0LIvHFqbYo2Ou5sks4wZfaUJ2L5i5Cfy+3E19991dlqb/7O0d2x8I2lZdeVbtNIwf4cflL9WeVdQRsddzY9MXt6rmERfyFholHHINewKDY9MXu6NjrurNLtGUnYn8NPqj+rgN4hZZLOMGV6Sq5yLRzFpqfkIklnmLK7akOp0m0ZCdifldW/P0ftPLU2I0odc96Y/R/RTHzluNxOmCz/3d3jds7kxeDQsT9HBnF/VkEdvSotcWYUfyHK0qhjkJY4Mwrq6FVKt2VYY3+OCOL+rNKoo/NTdNM0SjeKgBTdNI1GHZ2vdDuGM/bnyOHtz6p7Hpc+Pnai0u0hAPGxE3HP49Ir3Y7hjP05cnj7s8rjcWs5tIwMGnUMeKPYw2F/jhze/qwafFUiotAxZIhIVgwZIpIVQ4aIZMWQISJZMWSISFYMGSKSFUOGiGTFkCEiWYUUMqUHSpGZlNXny1RhGuq2Bay5yYrNhZtht9kVa4OXqcKE0gN8YsNwwv48kPhnUvDcCw/VlpBHMi8Vv4jG1gY0tjbAVGNC5Z8r0dxkDbkhI4GpwoQtG15RuhkUAvbnByznLAAg/Dzm5GbjT0f/FPL+huR0KTk1GalTJsN+2wYAsNvsKHjuBSEJxf/ZxQkpXt7cZMWzC/MHTU7xvqXWM1WYhGM8uzBf6CyWcxaf6Sy1PBilB0phrq3HG2+/HvS2FFlGe3/OnpuNwk0PHtM7b8E81NdZQh7NDEnI3Gi5gY67P8CQboDD4cQ7ew4ib9kS4b9C/bl6NDdZYTlnQVvrTZitZpitZvzY8SOam6yw2+zY89oebN3zmpCc7+w5CIfD2ec43n2v+10hGlsbkLdsyYCEtZyzoPLkadRcqEZjawN+sXgR/nrqL7Db7DhedhymGpOwbfUX1ZLLg1W4qRCv79uGsbFjH+pnScpjf+6r5WoLUh9LhXZsaH17TKgHfnffe3h333vC9x9WlkOXoAMAvL5vm7A8YbwO8br4AdtrtTEo2lYE4MHwzJBuAAD8cumvcPjtQ3B0dUGrfVBRK/7lA4Ax3wgAfYa12XOzceSPHwjfT546Gde+vTbg+N5t+6ezdzmNLuzPvjU3WVH550qUvPlqn7YHY0iuyZitZlSePC1cLBMP1+bPWICmy1cA9P7AcubNQY4+Z8DFtZovazB/xgJkJmXBON+IpstXYLvT9wdmv21De/tdv+1yOJzYXrxDOL73GokuQYf1mzegqKAImUlZ2F68Aw6HU3K5v30qeVGQ5MH+PFBzkxVFBUVYt2kdDGmhP+ZoSE6XtNoY5Mybg2vfXoPdZsf7vy/Fh5XlaGxtQM2FaqSlTxPWNeYbhV+kubZeSP3lq5fDbDULv+iPzlYMeGO6CQmIjx/nty2fV50BAGFfew+9JbxmSNPjo7MVaGxtQM68OfjD4aN+l4vf3+v7tglt42hnZGN/7g3WooIi7D+yH9lzs4P46Q00JCHjcDhhrq3H5KmTB7xW/UW1kPz9P96Ni3sEugkJMKQb0HK1BRfOfyOs5+uCVcJ4Hdrb76L5crOw3vbiHeh2dvtsl91mR+XJ0wB8fyw4eepkyeU0eo32/tzcZMX7B97H/iP7H2oE4xVyyLy77z1huJWjz0Fi0iQY843QJeiQt2wJns9bhcykLHR1dmFWzizYb9vw9OJFaGu9KWyTkZkBQ5oeugQdSnaVYGfJLmQmZaHs8FGU7CoRzom9+q9XefI0Xi7ZiOiYaGGdBT9fgJarLcjR56B4/Ras+Ld/RVvrTSSnJuPJRU8KQ1hzbT2eXrwIhjS9z+U0urA/P9D4dQNq/va/MM43Dsm9MlE7Thf05OduDGljGnoVdQexbcmRAdMHU2DYnyNLRd1BlhUQkbwYMkQkK4YMEcmKIUNEsgpryPiqdhXXYgTLbrNjc+HmUVvIRspifw5MyGUFoXqp+MU+xVdEwxn78+Ai6nRJfPu2+HZoX1Ww3uKyTz7+FEUFRbj0zT+wvXiHcMel+L9Cc5MVBSsKer/uf94vVSXLEgIaKuzPvSImZLx3GZpqTDBbzQCAPxw+KlkFe6PlBl4u2Yhf/+YZ7D+yH1OnTfW7/1vf38a6TeuEYjOpKtnPq84gMWmScAu5ubY+Ih6GRcML+/MDYQ8Z8Z2VmUlZDx6Q83UDUqdMRnJqMrTaGOQtW4K21psAeqtgvfUVUlWwg5n4kwnQTUgAAOE2bnGVbMfdH+Do6uqzjS5Bh9f3bRtwpyaRF/vz4CLqmsyJYydw4tgJ4fv5T82Ho6sLF85/g+fzVgnLMzIzgj5uvC4eCeMf/HC9VbLifdru2GHMNwoX9IDekv+HLRCjkYv9eXBhDxl/fP3CxFWw2XOzYbfZ8WbJm4Puy3bHjnZ7u+Try1cvx5YdW3w+I6NwUyEKNxUKx9JNSBiSQjEaXdife0XMNZnM2VnCE8eA3o8HtxfvgNPRtyJVXAXrS211LYDe4eqt72/7XMdflWzpgdI+F8fixj3a5z8GUSDYnx+ImJAxpOmxbtM6ofKzvs6Cl0s2IjF5kmQVrHbsWMSNexRFBUW40XIDq19Yjc+qziAzKQt3bt3p89wPMX9VsivWrEDlydPCA4ryli3hNRkKGvvzA6zCjjCswn447M+RhVXYRCQ7hgwRyYohQ0SyYsgQkawYMkQkK4YMEcmKIUNEsmLIEJGsGDJEJCuVSqV2uNzOwdck2bncTqhUaofS7RjO2J8jh7c/q8aoNNb2zltKt4cAtHfewhiVZmQ94DXM2J8jh7c/q1zu7orr9isupRtEwHX7FZfL3V2hdDuGM/bnyOHtzyq4u8ub2s73cIipLJfbiaa28z1wd5cr3ZZhjf05Ioj7s2rr0rJLqijV0a+/+6pT6YaNZl9/91WnKkp1dOvSsktKt2U4Y3+ODOL+LDxS4K1PN15IT8yePj0lV8m2jUoXr9fhcpvl4ivPHJyhdFtGCvZn5fTvz8JH2I7ujoWX2ywX65rPdHKoGR4utxN1zWc6L7dZLjq6OxYq3Z6RhP05/KT684CHI+2u2lDq6fGsSUucGZWim6aJj50IjXrgc0MpNC63E+2dt3DdfsXV1Ha+RxWlOvrq4kOcHUwm7M/yCqQ/+3wC285TazOgjl6lUUfn3/O49B6PWxueJofuy+NmPLUyR+lmDEqlUjvGqDRWl7u7Au7ucl6DkR/7s3xGW3/uUboBRENoxPRnlhUQkawYMkQkK4YMEcmKIUNEsmLIEJGsGDJEJCuGDBHJiiFDRLJiyBCRrBgyRCQrhgwRyYohQ0SyYsgQkawYMkQkK4YMEcmKIUNEsmLIEJGsGDJEJCuGDBHJiiFDRLJiyBCRrBgyRCQrhgwRyYohQ0SyYsgQkawYMkQkK4YMEcmKIUNEsmLIEJGsGDJEJCuGDBHJiiFDRLJiyBCRrBgyRCQrhgwRyYohQ0SyYsgQkawYMkQkqzFKN2AI/Q1Aj9KNIBoif1O6AURKYZBTUHi6RESyYsgQkawYMkQkK4YMEcmKIUNEsmLIEJGsGDJEJCuGDBHJiiFDRLJiyBCRrBgyRCQrhgwRyYohQ0SyYsgQkawYMkQkK4YMEcmKIUNEsmLIEJGsopRuwGi289TaDKijV2nU0fn3PC69x+PWKt2mwXx53IynVuYo3YxBqVRqxxiVxupyd1fA3V2+dWnZJaXbNFoxZBSyu2pDqafHsyYtcWZUim6aJj52IjTqGKWbNWK43E60d97CdfsVV1Pb+R5VlOroq4sPFSrdrtGIIRNmb5xam6KNjjubpDNMmT3liVgGi/xcbie+/u6rzlZ783eO7o6Fbywtu650m0YTXpMJM2103Nn0xOzpuYZFDJgw0ahjkGtYFJuemD1dGx13Vun2jDYMmTDaXbWhNElnmDI9JVfppoxK01NykaQzTNldtaFU6baMJgyZMNl5am2Gp8ezZvaUJ2KD2c5us6PguReQmZTV58tyzhJ0GxwOJ7YX7whpW19MFSZsL94Bh8MZ0PqWc5ag1pfD7ClPxHp6PGt2nlqboVgjRhmGTLioo1elJc6MCvUU6cPKcjS2NqCxtQGmGhN2luwKOiy02hi8vm8bsudmh9SGkUCjjkFa4swoqKNXKd2W0YIhEyYadXR+im6aZij2ZUjTY+36Nag8eVoYFVjOWYRRjne04B25/OcL/4nMpCzUVtcKI5nSA6UwVZiEfZoqTCg90HsW0dxkxbML85GZlIWC516A3WYX1vMe59mF+bjUKP2psHgfvkYv/Udo3mMDQOmB0qCWBytFN02jUUfnh7wDCgpDJkzueVz6+NiJQ7a/zNlZ6Lj7AxxdXWhusuL9A+/DVGOC2WoGAPzh8FFh3Z9m/BSNrQ2Y9c+zhWXzFsyDubZeCCNzbT3mLZgHu82OPa/twdY9r6GxtQFzcrPxzp6DcDicaG6yYmfJLnxYWY7jVcfR0fGjz7bZbXYcfvsQ9h/Zj8bWBiQmTcLnVWeE150OJ97ZcxB5y5YII7P6c/VobrLCcs6CttabMFvNMFvN+LHjR7/LQxEfOxH3PC59SBtT0BgyYeLxuLVyfZrU+HUDUqdMRnJqMrTaGOQtW4K21ptw3h89TJ46ecA2ugkJaPnuGm603MCNlhvouPsDDOkGNF9uBgAY0g0AgF8u/ZUQZvbbNszKmYUZMx8XjuNL8+VmxI17FMmpyQCAwk2FMOYbhddj7p+2eZcljNchXhc/YD9abQyKthXBkKYPaHmgNOoYDIcbH0eKMUo3gEJjv21De/td4fsTx07gxLETwvfzn5oPR1cXACD1sdQB2yenJiN1ymTYb9vQcrUFaf+UBl2CDgBQ82UN5s9YIKybkZkB2x07Wq62BNS2QNaznLPg+bwHl0UyMnuvw2bPzUbL1Rbk6HvvKt576C0Y842SyynycSQzTLVcbUHqY6nQjh0LAHip+EXhwnBjawOO/PEDxN8PDV+02hjkzJuD2upaXPv2GuYtmCe8tnz1cpitZmFfH52tgCFN7zOsfBlsvXZbO97/falwMbvmQjXS0qcJrxvzjWhsbeg9NaqtFy5wSy2nyMaQGYaam6woO3wUecuWQKuNQebsLOGaBtB7gXR78Q7hdElK5uwsfFZ1BvV1FuH0yJBuQMvVFlw4/w2A3gvC3ou/4tccDicqT572uV/xqZi3Pf4u1FZ/UY2my1eE44nXjYt7BLoJCZLLKfIxZIaJ5/NWCZ+sGOcbsXXPa8JH0YY0PdZtWgfjfCMyk7JQX2fByyUbEaP1fw0oOTUZs3JmYU5utnCqpEvQoWRXCXaW7EJmUhbKDh9Fya4S6BJ00CXosO53hXg+bxVy9Dl4/GczEBf3yID99m9PW+tN/Hb9GuH1+IR45C1bIrynrs4uzMqZBfttG55evAhtrTeRmZSFHH0OMjIzYEjTSy6nyMfapTDZcbqgJz93o9LNoPsq6g5i25Ij7P9hwJEMEcmKIUNEsmLIEJGsGDJEJCuGTARrbrJic+Fm2G122G12bC7cHPKt9IEK9Djitj0s8b6Gcr8UGXjHL4XEkKbH26VvK90MGgY4khkGvAWFn3z8KYoKinyOMqSqnv1VZ/evanb4OI5UtbR4xGE5Z8Hmws3YXLhZqND2tlF8/P4V3QCEgsxPPv4Uxeu34If7pRKVJyoH7Evq/VBkY8gMAzHaGLxcshG//s0z2H9k/4Cb0KSqnsVV076qs71VzR9WluOzqjO40XKjz3GSU5Mlq6X7++TjT7Fy7UqYrWbMypmFv576C+w2O46XHYepxoTG1gbkLVuC6i+q+2znvfnv1795BvsO78Wj8ePQdPkKxk8cj8bWBvxi8SIc++CYUAXur9qcIhNDZgSQqnr2VTVdX2dB+/3RRM68OdBqY2BIN/SpHfLSBlgtDfQWZBrSDUJNlC/GfGNARY0TfzIBmbOzAKBPTZVUtTlHM5GNITMCSFU991+um5CA+PhxwveBFDyKT0/mz1gg1Bj1Jy7WFI6XoMP6zRtQVFAU1OlNvC4eCeN9F3eeOHYCOfocZCZl4fm8VWi52iJUm1NkYsiMAFJh0X95/8dDDMZus/utlg6EIU2Pj85WoLG1ATnz5jz06Y2vanOdn2pzUh5DZgSQqnrWTUjA381/71M1PSc32+8jIPwRV0sHwtfH0b4eoBUoqWpzni5FNobMMKEdOxZx4x71+emSVNWzIU2PrXteE6qmAfSphh7sOLY7dslq6UAY0vR4ctGTmD9jATKTsmCurcfTixcNWC9hvA7t7Xf7fLoktT9f1ebaQarNSVmsQg0TVmFHFlZhhw9HMkQkK4YMEcmKIUNEsmLIEJGsGDIRQDwrYyhV1uGq0A6Gtz7K12yP4pop75d4NksaWViFHQFarraMuHmEvHfh1lyo9nmz3EvFL6JwUyGA3vtp9vzXbmTOzuLDwUcgjmQUZqowYcuGV7BlwyvCf3ypSmNfFdH9K6cvffMPYb5r7zbeUU5zkxUFKwp6v+5XREvNey0eifgbafja3m6zo3j9Fpw4dgJrl/37oCMs8URzUu/TS2o+bH/zd5OyGDIKM+YbsffQW8J/dqlKY4fE/NH9K6enTpvq93i3vr+NdZvW4cgfPwAAyXmvP686g8SkSUI5gbm2XvIxDWvXr+mzvXbsWOw7vFeyarw/8TS5Uu/T33zY/ubvJuUxZCKMVKUxgIArov2Z+JMJwqRo/ua9FtMl6PD6vm0DTntsd+yIjx+HBT9fIGwvLm/w59197/WZR2rl2pXQJegCrvwWz4cd6PsgZfCaTASSmtf6wvlvfM4fHYz+Fc5S814b843CqQkAfFhZLkwm59W/4DKY4BNfk3E4nNi7bS9arrbAmG8Mep5sf++DxZPKY8hEIPEfoJe4Ijp7bjbsNjveLHlz0H3Z7tjRbm+XfH356uXYsmOLz/qfwk2FKNxUKBxLNyGhz6lP/0dHDHYsKd5n0Fz79tqg79P7TBpvMHkrzf29D1IWT5cijPS81t191husIrq2uhZA7+nXre9v+1zH37zXpQdK+1zsjRv36IBnvHgLG71Pu/vrqb8Ip3rBcDicMNfW+6zQDmSebH/vg5THkIkwUpXGicmTJCuixZXTN1puYPULq/FZ1RlkJmXhzq07ks+A8Tfv9Yo1K1B58rTwsKq8ZUsGnHp4ty87fDToqmjxNZkcfQ4SkybBmG+ELkEX9DzZ/t4HKY9VqGHCKuzIwirs8OFIhohkxZAhIlkxZIhIVgwZIpIVQ2YY8NYReeuRlBSOuapNFSafDwjvX0/Fh4gPDwwZClhzkxVFBUVBTasylD6vOoOceXPQ2Nog1HV9XnVGkbZQ4BgyEUhcaexr9CKu0havI1U5HWhFtT+WcxYUFRThxc0b+tzl299gc2eL2yF+b+Jn6lxqvORz3+IZKL13CZtr6zmaiXAMmQjjDQBvBfLxsuPCtLIA+lRpN7Y2YO+ht1B58rTfyulAKqoHkz03Gx+drYDBz+Ru/iqoAaDp8hVhJPJS8YtCu8Vzdh+vOo6Ojh8DatO1b68hMWkSSwkiHEMmgnhvr/fO/2xI0+Pt0rf7TMZmSNPjyJ+OCDVEUrNHSlVOSy0fCoNVUEvNce1rzu7BWM5ZUF9nwYo1K4b4XdBQY8iEiUqldrjc/of1jq4uyXmtxcSnU+JqZe8fd//TEanlUvvs/7jMYPibO1tqjutA3nP/Y+ws2RVy6YDL7YRKpXYEvSGFhCETJmNUGmt75y2/62jHjpUcmXh5/4PXXKhGY2sDPqws7/N64aZC4bToeNlx4VRFann/7RpbGwZUgAcq1LmzB3vPYqYKE97/fSnKTv5PyI/qbO+8hTEqTeQ8EHmEY8iEicvdXXHdfsXlbx2tNgaJSZOECmrv4zK/vfKtz/W981t7SVVOB1JRLYdA584WV1H3f09ilnMWVJ48jX2H9z7U6d51+xWXy91dEfIOKCgMmXBxd5c3tZ3vGeyU6bfr1wiVxsb5RqzbtK7PIzVnzHwcqY+lYv6MBVi5eCX+5ecLhKfASVVOB1JRPRT8VVAPtt263xUKc3Y//rMZiIt7ZMB6tdW1wsOpQr1XxuV2oqntfA/c3eWDr01DgVWoYbS7akNpyvifrso1LIpVui2jVV3zmc7rd/6v/NXFh0I7J6SgMWTC7K1PN15IT8yePj0lV+mmjDoXr9fhcpvl4ivPHJyhdFtGE54uhZmju2Ph5TbLxbrmM52DnTrR0HC5nahrPtN5uc1y0dHdsVDp9ow2HMkoZHfVhlJPj2dNWuLMqBTdNE187ERo1LypbKi43E60d97CdfsVV1Pb+R5VlOooT5GUwZBR0M5TazOgjl6lUUfn3/O49B6PW6t0m0YKlUrtGKPSWF3u7gq4u8u3Li3zXatAsvt/Dsrt8Mn41RAAAAAASUVORK5CYII=)"
   ]
  },
  {
   "cell_type": "code",
   "execution_count": 56,
   "metadata": {
    "colab": {
     "base_uri": "https://localhost:8080/"
    },
    "id": "SigAT6bZxpvR",
    "outputId": "2f8aed54-9f20-4af4-bec4-a4d6e7867c45"
   },
   "outputs": [
    {
     "name": "stdout",
     "output_type": "stream",
     "text": [
      "Car Details : \n",
      "EK-1\n",
      "V6\n",
      "236\n"
     ]
    }
   ],
   "source": [
    "# class 1\n",
    "class Car:\n",
    "  def setenginemodel(self, engine):\n",
    "      self.engine = engine\n",
    "  def getenginemodel(self):\n",
    "      print (self.engine)\n",
    "\n",
    "\n",
    "#class 2\n",
    "class Tyre:\n",
    "  def settyrenumber(self, num):\n",
    "      self.num = num\n",
    "  def gettyrenumber(self):\n",
    "      print(self.num)    \n",
    "# class 3 inheriating Class 1 and class2\n",
    "\n",
    "\n",
    "class Honda(Car, Tyre):\n",
    "    def setcarmodel(self, model):\n",
    "      self.model=model\n",
    "    def getcarmodel(self):\n",
    "      print(self.model)\n",
    "    \n",
    "Accord = Honda()\n",
    "Accord.setenginemodel('EK-1')\n",
    "Accord.setcarmodel('V6')\n",
    "Accord.settyrenumber(236)\n",
    "print('Car Details : ')\n",
    "Accord.getenginemodel()\n",
    "Accord.getcarmodel()\n",
    "Accord.gettyrenumber()"
   ]
  },
  {
   "cell_type": "code",
   "execution_count": 57,
   "metadata": {
    "colab": {
     "base_uri": "https://localhost:8080/"
    },
    "id": "mzewOrZULYXd",
    "outputId": "d2747e9f-52d0-4fd2-ae72-1c52f1d40659"
   },
   "outputs": [
    {
     "name": "stdout",
     "output_type": "stream",
     "text": [
      "30\n",
      "200\n",
      "0.5\n"
     ]
    }
   ],
   "source": [
    "class Calculation1:  \n",
    "    def Summation(self,a,b):  \n",
    "        return a+b;\n",
    "\n",
    "\n",
    "class Calculation2:  \n",
    "    def Multiplication(self,a,b):  \n",
    "        return a*b;  \n",
    "\n",
    "\n",
    "class Derived(Calculation1,Calculation2):  \n",
    "    def Divide(self,a,b):  \n",
    "        return a/b;  \n",
    "\n",
    "\n",
    "d = Derived()  \n",
    "print(d.Summation(10,20))  \n",
    "print(d.Multiplication(10,20))  \n",
    "print(d.Divide(10,20))  "
   ]
  },
  {
   "cell_type": "markdown",
   "metadata": {},
   "source": [
    "## 2.7 Polymorphism\n",
    "Polymorphism, derived from the Greek words \"poly\" (many) and \"morph\" (form), refers to the ability of different objects to respond to the same message or method invocation in different ways.\n",
    "It allows objects of different classes to be treated as objects of a common superclass, thereby promoting code reusability and flexibility."
   ]
  },
  {
   "cell_type": "code",
   "execution_count": 58,
   "metadata": {},
   "outputs": [
    {
     "name": "stdout",
     "output_type": "stream",
     "text": [
      "Dog barks\n",
      "Cat meows\n"
     ]
    }
   ],
   "source": [
    "class Animal:\n",
    "    def sound(self):\n",
    "        print(\"Animal makes a sound\")\n",
    "\n",
    "class Dog(Animal):\n",
    "    def sound(self):\n",
    "        print(\"Dog barks\")\n",
    "\n",
    "class Cat(Animal):\n",
    "    def sound(self):\n",
    "        print(\"Cat meows\")\n",
    "\n",
    "dog = Dog()\n",
    "cat = Cat()\n",
    "\n",
    "dog.sound()  \n",
    "cat.sound() "
   ]
  },
  {
   "cell_type": "markdown",
   "metadata": {},
   "source": [
    "this code demonstrates polymorphism through method overriding, where objects of different classes (Dog and Cat) respond to the same method (sound()) in different ways, based on their specific implementations."
   ]
  },
  {
   "cell_type": "code",
   "execution_count": 59,
   "metadata": {},
   "outputs": [
    {
     "name": "stdout",
     "output_type": "stream",
     "text": [
      "Total area: 48.26\n"
     ]
    }
   ],
   "source": [
    "class Shape:\n",
    "    def area(self):\n",
    "        pass\n",
    "\n",
    "class Rectangle(Shape):\n",
    "    def __init__(self, length, width):\n",
    "        self.length = length\n",
    "        self.width = width\n",
    "    \n",
    "    def area(self):\n",
    "        return self.length * self.width\n",
    "\n",
    "class Circle(Shape):\n",
    "    def __init__(self, radius):\n",
    "        self.radius = radius\n",
    "    \n",
    "    def area(self):\n",
    "        return 3.14 * self.radius * self.radius\n",
    "\n",
    "# Function that calculates the total area of shapes\n",
    "def total_area(shapes):\n",
    "    total = 0\n",
    "    for shape in shapes:\n",
    "        total += shape.area()\n",
    "    return total\n",
    "\n",
    "# Creating instances of different shapes\n",
    "rectangle = Rectangle(5, 4)\n",
    "circle = Circle(3)\n",
    "\n",
    "# Calculating the total area\n",
    "shapes = [rectangle, circle]\n",
    "print(\"Total area:\", total_area(shapes))"
   ]
  },
  {
   "cell_type": "markdown",
   "metadata": {},
   "source": [
    "In this example, we have a base class Shape with an abstract method area(). We then have two subclasses, Rectangle and Circle, each implementing the area() method according to their specific shape. The total_area() function demonstrates polymorphism by accepting a list of shapes (which can be instances of any subclass of Shape) and calculating the total area regardless of the specific shape."
   ]
  },
  {
   "cell_type": "markdown",
   "metadata": {
    "id": "xNiGPHRPRo8T"
   },
   "source": [
    "# 3. Module"
   ]
  },
  {
   "cell_type": "markdown",
   "metadata": {
    "id": "p-3s121GQzjw"
   },
   "source": [
    "A **module** is a file containing Python definitions and statements. The file name is the module name with the suffix .py appended.\n",
    "\n",
    "\n",
    "Within a module, the module’s name (as a string) is available as the value of the global variable **__name__.** Before modules came into place, in early times, all the programming languages had huge lines of code that increased in leaps and bounds.\n",
    "\n",
    "\n",
    "**It had a lot of disadvantages:**\n",
    "\n",
    "It was very difficult maintain such huge code.\n",
    "And there was lot of redundant code.\n",
    "\n",
    "Same code was written by different set of programmers that were used on their own files.\n",
    "To overcome these disadvantages, modules came into place.\n",
    "\n",
    "A module contains a set of classes, functions, variables that got together to get a specific set of tasks done.\n",
    "\n",
    "A module could be reused by other modules.\n",
    "Modules reduced the lines of code that need to be written and thus maintainability improved and redundancy was avoided.\n",
    "\n",
    "In Python, **a module is a python file (.py) that has a set of classes, functions, variable, constants all doing some related tasks. **"
   ]
  },
  {
   "cell_type": "code",
   "execution_count": 60,
   "metadata": {
    "colab": {
     "base_uri": "https://localhost:8080/"
    },
    "id": "FtDK0_7eQrVF",
    "outputId": "50ee18d1-7de7-4117-e01f-0ffe19638cfb"
   },
   "outputs": [
    {
     "name": "stdout",
     "output_type": "stream",
     "text": [
      "Writing module1.py\n"
     ]
    }
   ],
   "source": [
    "%%writefile module1.py\n",
    "\n",
    "courses=['C', 'C++', 'JAVA', 'PYTHON']\n",
    "\n",
    "def  artmeticoperation(num1, num2):\n",
    "    print(\"Addition is  :\", num1+num2)\n",
    "    print(\"Subtraction is  :\", num1-num2)\n",
    "    print(\"Multiplication  is  :\", num1*num2)\n",
    "    print(\"Division  is  :\", num1/num2)\n",
    "    \n",
    "def  compareoperation(num1, num2):\n",
    "    print(num1, \"Greated than  :\",num2,  num1>num2)\n",
    "    print(num1, \"Less than  :\",num2,  num1<num2)\n",
    "    print(num1, \"Equal to   is  :\",num2,  num1==num2)\n",
    "    print(num1, \"Not equal to   is  :\",num2,  num1!=num2)"
   ]
  },
  {
   "cell_type": "markdown",
   "metadata": {
    "id": "gHbcF5giU15R"
   },
   "source": [
    "A **module** consists of a set of classes, functions, variables and constants that do a specific related tasks. But we have not reused the code of a module into some other module.\n",
    "\n",
    "\n",
    "A module can be used by an other module by using the import statement.\n",
    "\n",
    "\n",
    "The syntax for importing a module is as below.\n",
    "\n",
    "\n",
    "We need to use the modulename that we want to import, if the module is in the same package,.\n",
    "\n",
    "\n",
    "`import modulename  # We dont need to use the file extension.py`\n",
    "\n",
    "We use the packagename before the modulename, if the module is in a different package .\n",
    "\n",
    "\n",
    "`import packagename.modulename `\n",
    "\n",
    "All the functions, variables, classes and constants in the module will be imported and the developer can use it by using the modulename.functionname()"
   ]
  },
  {
   "cell_type": "code",
   "execution_count": 61,
   "metadata": {
    "colab": {
     "base_uri": "https://localhost:8080/"
    },
    "id": "Ta6O3T0sVSPj",
    "outputId": "4645db35-ba40-4a94-cb2e-9b13fa9b13c7"
   },
   "outputs": [
    {
     "name": "stdout",
     "output_type": "stream",
     "text": [
      "Please enter value for a 2\n",
      "Please enter value for b 1\n",
      "Addition is  : 3\n",
      "Subtraction is  : 1\n",
      "Multiplication  is  : 2\n",
      "Division  is  : 2.0\n",
      "2 Greated than  : 1 True\n",
      "2 Less than  : 1 False\n",
      "2 Equal to   is  : 1 False\n",
      "2 Not equal to   is  : 1 True\n",
      "Length of courses : 4\n"
     ]
    }
   ],
   "source": [
    "import module1\n",
    "a = int(input(\"Please enter value for a \"))\n",
    "b = int(input(\"Please enter value for b \"))\n",
    "module1.artmeticoperation(a,b)\n",
    "module1.compareoperation(a, b)\n",
    "print(\"Length of courses :\" , module1.courses.__len__())"
   ]
  },
  {
   "cell_type": "markdown",
   "metadata": {
    "id": "KGoVQldUWaBa"
   },
   "source": [
    "We have seen import statement that imports a module.\n",
    "\n",
    "Any number of import statements that can be used in your module.\n",
    "\n",
    "But having a function/variable called by using the huge modulenames becomes difficult to use in programs with many lines of code.\n",
    "\n",
    "So, **Python provides us a simple way of doing that using the as keyword.**\n",
    "\n",
    "The syntax for this is:\n",
    "import modulename as mn and use it as below inside the module.\n",
    "\n",
    "`mn.fn()`"
   ]
  },
  {
   "cell_type": "code",
   "execution_count": 62,
   "metadata": {
    "colab": {
     "base_uri": "https://localhost:8080/"
    },
    "id": "_jSR3BgQWWGF",
    "outputId": "4a70b2e5-9117-494a-d4e8-a73ef37991a8"
   },
   "outputs": [
    {
     "name": "stdout",
     "output_type": "stream",
     "text": [
      "Please enter value for a 23\n",
      "Please enter value for b 234\n",
      "Addition is  : 257\n",
      "Subtraction is  : -211\n",
      "Multiplication  is  : 5382\n",
      "Division  is  : 0.09829059829059829\n",
      "23 Greated than  : 234 False\n",
      "23 Less than  : 234 True\n",
      "23 Equal to   is  : 234 False\n",
      "23 Not equal to   is  : 234 True\n",
      "Length of courses : 4\n"
     ]
    }
   ],
   "source": [
    "import module1 as m\n",
    "a = int(input(\"Please enter value for a \"))\n",
    "b = int(input(\"Please enter value for b \"))\n",
    "m.artmeticoperation(a,b)\n",
    "m.compareoperation(a, b)\n",
    "print(\"Length of courses :\" , m.courses.__len__())"
   ]
  },
  {
   "cell_type": "code",
   "execution_count": null,
   "metadata": {},
   "outputs": [],
   "source": []
  }
 ],
 "metadata": {
  "colab": {
   "provenance": []
  },
  "kernelspec": {
   "display_name": "Python 3 (ipykernel)",
   "language": "python",
   "name": "python3"
  },
  "language_info": {
   "codemirror_mode": {
    "name": "ipython",
    "version": 3
   },
   "file_extension": ".py",
   "mimetype": "text/x-python",
   "name": "python",
   "nbconvert_exporter": "python",
   "pygments_lexer": "ipython3",
   "version": "3.9.7"
  }
 },
 "nbformat": 4,
 "nbformat_minor": 1
}
