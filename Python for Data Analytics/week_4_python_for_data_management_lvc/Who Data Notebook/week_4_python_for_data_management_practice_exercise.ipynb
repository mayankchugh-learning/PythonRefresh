{
 "cells": [
  {
   "cell_type": "markdown",
   "id": "425b4df4",
   "metadata": {},
   "source": [
    "# Week-4 Python for Data Management - Practice Exercise"
   ]
  },
  {
   "cell_type": "markdown",
   "id": "c63adcc8",
   "metadata": {},
   "source": [
    "### Import the required libraries"
   ]
  },
  {
   "cell_type": "code",
   "execution_count": null,
   "id": "64ed457a",
   "metadata": {},
   "outputs": [],
   "source": [
    "#type your code here"
   ]
  },
  {
   "cell_type": "markdown",
   "id": "ec55c800",
   "metadata": {},
   "source": [
    "### Data Loading"
   ]
  },
  {
   "cell_type": "code",
   "execution_count": null,
   "id": "2cde9037",
   "metadata": {},
   "outputs": [],
   "source": [
    "#type your code here"
   ]
  },
  {
   "cell_type": "markdown",
   "id": "d704fb6b",
   "metadata": {},
   "source": [
    "### Q1. Import the dataset in to the Notebook"
   ]
  },
  {
   "cell_type": "code",
   "execution_count": null,
   "id": "99cb7429",
   "metadata": {},
   "outputs": [],
   "source": [
    "#type your code here"
   ]
  },
  {
   "cell_type": "markdown",
   "id": "536e8ed8",
   "metadata": {},
   "source": [
    "### Q2. Understand the data \n",
    "        a. Top 5 rows\n",
    "        b. Bottom 5 rows\n",
    "        c. Structure of the data (rows and columns)\n",
    "        d. Information of the data\n",
    "        e. Statistical description of the data\n",
    "        f. Data types of each column"
   ]
  },
  {
   "cell_type": "code",
   "execution_count": null,
   "id": "674dadfe",
   "metadata": {},
   "outputs": [],
   "source": [
    "#type your code here"
   ]
  },
  {
   "cell_type": "markdown",
   "id": "490a11a6",
   "metadata": {},
   "source": [
    "### Q3. Check how many missing values are present in the dataset"
   ]
  },
  {
   "cell_type": "code",
   "execution_count": null,
   "id": "28352bd3",
   "metadata": {},
   "outputs": [],
   "source": [
    "#type your code here"
   ]
  },
  {
   "cell_type": "markdown",
   "id": "2675b183",
   "metadata": {},
   "source": [
    "### Q4. Fill the missing values in both numerical and categorical features"
   ]
  },
  {
   "cell_type": "code",
   "execution_count": null,
   "id": "0b7c5c05",
   "metadata": {},
   "outputs": [],
   "source": [
    "#type your code here"
   ]
  },
  {
   "cell_type": "markdown",
   "id": "99bca711",
   "metadata": {},
   "source": [
    "### Q5. Convert the data type of columns in to proper data type"
   ]
  },
  {
   "cell_type": "code",
   "execution_count": null,
   "id": "b58eae06",
   "metadata": {},
   "outputs": [],
   "source": [
    "#type your code here"
   ]
  },
  {
   "cell_type": "markdown",
   "id": "529804c3",
   "metadata": {},
   "source": [
    "### Q6. Identify the outliers in the dataset and treat them with percentile"
   ]
  },
  {
   "cell_type": "code",
   "execution_count": null,
   "id": "20981c3e",
   "metadata": {},
   "outputs": [],
   "source": [
    "#type your code here"
   ]
  },
  {
   "cell_type": "markdown",
   "id": "4b7dcfda",
   "metadata": {},
   "source": [
    "### Q7. Convert the categorical data in to numerical features and drop the irrelevant features"
   ]
  },
  {
   "cell_type": "code",
   "execution_count": null,
   "id": "2c87cea9",
   "metadata": {},
   "outputs": [],
   "source": [
    "#type your code here"
   ]
  },
  {
   "cell_type": "markdown",
   "id": "69411173",
   "metadata": {},
   "source": [
    "### Q8. Identify the features in the dataset that requires feature scaling"
   ]
  },
  {
   "cell_type": "code",
   "execution_count": null,
   "id": "ed3899ae",
   "metadata": {},
   "outputs": [],
   "source": [
    "#type your code here"
   ]
  },
  {
   "cell_type": "markdown",
   "id": "6acbbe15",
   "metadata": {},
   "source": [
    "## Power Ahead!"
   ]
  }
 ],
 "metadata": {
  "kernelspec": {
   "display_name": "Python 3 (ipykernel)",
   "language": "python",
   "name": "python3"
  },
  "language_info": {
   "codemirror_mode": {
    "name": "ipython",
    "version": 3
   },
   "file_extension": ".py",
   "mimetype": "text/x-python",
   "name": "python",
   "nbconvert_exporter": "python",
   "pygments_lexer": "ipython3",
   "version": "3.9.7"
  }
 },
 "nbformat": 4,
 "nbformat_minor": 5
}
