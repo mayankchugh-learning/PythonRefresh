{
 "cells": [
  {
   "cell_type": "markdown",
   "id": "425b4df4",
   "metadata": {},
   "source": [
    "# Week-4 Python for Data Management - Practice Exercise"
   ]
  },
  {
   "cell_type": "markdown",
   "id": "c63adcc8",
   "metadata": {},
   "source": [
    "### Import the required libraries"
   ]
  },
  {
   "cell_type": "code",
   "execution_count": 2,
   "id": "64ed457a",
   "metadata": {},
   "outputs": [],
   "source": [
    "#type your code here\n",
    "import numpy as np\n",
    "import pandas as pd\n",
    "import seaborn as sns\n",
    "from matplotlib import pyplot as py\n",
    "%matplotlib inline\n",
    "import warnings\n",
    "warnings.filterwarnings('ignore')"
   ]
  },
  {
   "cell_type": "markdown",
   "id": "ec55c800",
   "metadata": {},
   "source": [
    "### Data Loading"
   ]
  },
  {
   "cell_type": "code",
   "execution_count": 6,
   "id": "2cde9037",
   "metadata": {},
   "outputs": [],
   "source": [
    "#type your code here\n",
    "df = pd.read_csv('who_data.csv')"
   ]
  },
  {
   "cell_type": "markdown",
   "id": "d704fb6b",
   "metadata": {},
   "source": [
    "### Q1. Import the dataset in to the Notebook"
   ]
  },
  {
   "cell_type": "code",
   "execution_count": 16,
   "id": "4f5be9e6",
   "metadata": {
    "scrolled": true
   },
   "outputs": [
    {
     "data": {
      "text/html": [
       "<div>\n",
       "<style scoped>\n",
       "    .dataframe tbody tr th:only-of-type {\n",
       "        vertical-align: middle;\n",
       "    }\n",
       "\n",
       "    .dataframe tbody tr th {\n",
       "        vertical-align: top;\n",
       "    }\n",
       "\n",
       "    .dataframe thead th {\n",
       "        text-align: right;\n",
       "    }\n",
       "</style>\n",
       "<table border=\"1\" class=\"dataframe\">\n",
       "  <thead>\n",
       "    <tr style=\"text-align: right;\">\n",
       "      <th></th>\n",
       "      <th>age</th>\n",
       "      <th>workclass</th>\n",
       "      <th>fnlwgt</th>\n",
       "      <th>education</th>\n",
       "      <th>education_no_of_years</th>\n",
       "      <th>marital_status</th>\n",
       "      <th>occupation</th>\n",
       "      <th>sex</th>\n",
       "      <th>capital_gain</th>\n",
       "      <th>capital_loss</th>\n",
       "      <th>working_hours_per_week</th>\n",
       "      <th>native_contienent</th>\n",
       "      <th>salary</th>\n",
       "    </tr>\n",
       "  </thead>\n",
       "  <tbody>\n",
       "    <tr>\n",
       "      <th>0</th>\n",
       "      <td>39.0</td>\n",
       "      <td>State-gov</td>\n",
       "      <td>77516</td>\n",
       "      <td>Bachelors</td>\n",
       "      <td>13</td>\n",
       "      <td>Never-married</td>\n",
       "      <td>Adm-clerical</td>\n",
       "      <td>Male</td>\n",
       "      <td>2174</td>\n",
       "      <td>0</td>\n",
       "      <td>40.0</td>\n",
       "      <td>north_america</td>\n",
       "      <td>166273</td>\n",
       "    </tr>\n",
       "    <tr>\n",
       "      <th>1</th>\n",
       "      <td>50.0</td>\n",
       "      <td>Self-emp-not-inc</td>\n",
       "      <td>83311</td>\n",
       "      <td>Bachelors</td>\n",
       "      <td>13</td>\n",
       "      <td>married</td>\n",
       "      <td>Exec-managerial</td>\n",
       "      <td>Male</td>\n",
       "      <td>0</td>\n",
       "      <td>0</td>\n",
       "      <td>13.0</td>\n",
       "      <td>north_america</td>\n",
       "      <td>152897</td>\n",
       "    </tr>\n",
       "    <tr>\n",
       "      <th>2</th>\n",
       "      <td>38.0</td>\n",
       "      <td>Private</td>\n",
       "      <td>215646</td>\n",
       "      <td>HS-grad</td>\n",
       "      <td>9</td>\n",
       "      <td>not_married</td>\n",
       "      <td>Handlers-cleaners</td>\n",
       "      <td>Male</td>\n",
       "      <td>0</td>\n",
       "      <td>0</td>\n",
       "      <td>40.0</td>\n",
       "      <td>north_america</td>\n",
       "      <td>82536</td>\n",
       "    </tr>\n",
       "    <tr>\n",
       "      <th>3</th>\n",
       "      <td>53.0</td>\n",
       "      <td>Private</td>\n",
       "      <td>234721</td>\n",
       "      <td>11th</td>\n",
       "      <td>7</td>\n",
       "      <td>married</td>\n",
       "      <td>Handlers-cleaners</td>\n",
       "      <td>Male</td>\n",
       "      <td>0</td>\n",
       "      <td>0</td>\n",
       "      <td>40.0</td>\n",
       "      <td>north_america</td>\n",
       "      <td>243383</td>\n",
       "    </tr>\n",
       "    <tr>\n",
       "      <th>4</th>\n",
       "      <td>28.0</td>\n",
       "      <td>Private</td>\n",
       "      <td>338409</td>\n",
       "      <td>Bachelors</td>\n",
       "      <td>13</td>\n",
       "      <td>married</td>\n",
       "      <td>Prof-specialty</td>\n",
       "      <td>Female</td>\n",
       "      <td>0</td>\n",
       "      <td>0</td>\n",
       "      <td>40.0</td>\n",
       "      <td>north_america</td>\n",
       "      <td>143237</td>\n",
       "    </tr>\n",
       "  </tbody>\n",
       "</table>\n",
       "</div>"
      ],
      "text/plain": [
       "    age         workclass  fnlwgt  education  education_no_of_years  \\\n",
       "0  39.0         State-gov   77516  Bachelors                     13   \n",
       "1  50.0  Self-emp-not-inc   83311  Bachelors                     13   \n",
       "2  38.0           Private  215646    HS-grad                      9   \n",
       "3  53.0           Private  234721       11th                      7   \n",
       "4  28.0           Private  338409  Bachelors                     13   \n",
       "\n",
       "  marital_status         occupation     sex  capital_gain  capital_loss  \\\n",
       "0  Never-married       Adm-clerical    Male          2174             0   \n",
       "1        married    Exec-managerial    Male             0             0   \n",
       "2    not_married  Handlers-cleaners    Male             0             0   \n",
       "3        married  Handlers-cleaners    Male             0             0   \n",
       "4        married     Prof-specialty  Female             0             0   \n",
       "\n",
       "   working_hours_per_week native_contienent  salary  \n",
       "0                    40.0     north_america  166273  \n",
       "1                    13.0     north_america  152897  \n",
       "2                    40.0     north_america   82536  \n",
       "3                    40.0     north_america  243383  \n",
       "4                    40.0     north_america  143237  "
      ]
     },
     "execution_count": 16,
     "metadata": {},
     "output_type": "execute_result"
    }
   ],
   "source": [
    "#type your code here\n",
    "df.head()"
   ]
  },
  {
   "cell_type": "code",
   "execution_count": 10,
   "id": "cec1b288",
   "metadata": {},
   "outputs": [
    {
     "data": {
      "text/html": [
       "<div>\n",
       "<style scoped>\n",
       "    .dataframe tbody tr th:only-of-type {\n",
       "        vertical-align: middle;\n",
       "    }\n",
       "\n",
       "    .dataframe tbody tr th {\n",
       "        vertical-align: top;\n",
       "    }\n",
       "\n",
       "    .dataframe thead th {\n",
       "        text-align: right;\n",
       "    }\n",
       "</style>\n",
       "<table border=\"1\" class=\"dataframe\">\n",
       "  <thead>\n",
       "    <tr style=\"text-align: right;\">\n",
       "      <th></th>\n",
       "      <th>age</th>\n",
       "      <th>workclass</th>\n",
       "      <th>fnlwgt</th>\n",
       "      <th>education</th>\n",
       "      <th>education_no_of_years</th>\n",
       "      <th>marital_status</th>\n",
       "      <th>occupation</th>\n",
       "      <th>sex</th>\n",
       "      <th>capital_gain</th>\n",
       "      <th>capital_loss</th>\n",
       "      <th>working_hours_per_week</th>\n",
       "      <th>native_contienent</th>\n",
       "      <th>salary</th>\n",
       "    </tr>\n",
       "  </thead>\n",
       "  <tbody>\n",
       "    <tr>\n",
       "      <th>10525</th>\n",
       "      <td>39.0</td>\n",
       "      <td>Private</td>\n",
       "      <td>167728</td>\n",
       "      <td>Bachelors</td>\n",
       "      <td>13</td>\n",
       "      <td>married</td>\n",
       "      <td>Exec-managerial</td>\n",
       "      <td>Male</td>\n",
       "      <td>0</td>\n",
       "      <td>0</td>\n",
       "      <td>40.0</td>\n",
       "      <td>north_america</td>\n",
       "      <td>231588</td>\n",
       "    </tr>\n",
       "    <tr>\n",
       "      <th>10526</th>\n",
       "      <td>67.0</td>\n",
       "      <td>Local-gov</td>\n",
       "      <td>233681</td>\n",
       "      <td>Assoc-acdm</td>\n",
       "      <td>12</td>\n",
       "      <td>married</td>\n",
       "      <td>Exec-managerial</td>\n",
       "      <td>Male</td>\n",
       "      <td>0</td>\n",
       "      <td>0</td>\n",
       "      <td>35.0</td>\n",
       "      <td>north_america</td>\n",
       "      <td>273066</td>\n",
       "    </tr>\n",
       "    <tr>\n",
       "      <th>10527</th>\n",
       "      <td>60.0</td>\n",
       "      <td>Private</td>\n",
       "      <td>26756</td>\n",
       "      <td>HS-grad</td>\n",
       "      <td>9</td>\n",
       "      <td>not_married</td>\n",
       "      <td>Sales</td>\n",
       "      <td>Female</td>\n",
       "      <td>0</td>\n",
       "      <td>0</td>\n",
       "      <td>50.0</td>\n",
       "      <td>north_america</td>\n",
       "      <td>46228</td>\n",
       "    </tr>\n",
       "    <tr>\n",
       "      <th>10528</th>\n",
       "      <td>54.0</td>\n",
       "      <td>Private</td>\n",
       "      <td>101890</td>\n",
       "      <td>HS-grad</td>\n",
       "      <td>9</td>\n",
       "      <td>not_married</td>\n",
       "      <td>Sales</td>\n",
       "      <td>Female</td>\n",
       "      <td>0</td>\n",
       "      <td>0</td>\n",
       "      <td>40.0</td>\n",
       "      <td>north_america</td>\n",
       "      <td>86571</td>\n",
       "    </tr>\n",
       "    <tr>\n",
       "      <th>10529</th>\n",
       "      <td>38.0</td>\n",
       "      <td>Private</td>\n",
       "      <td>192337</td>\n",
       "      <td>Masters</td>\n",
       "      <td>14</td>\n",
       "      <td>married</td>\n",
       "      <td>Prof-specialty</td>\n",
       "      <td>Male</td>\n",
       "      <td>0</td>\n",
       "      <td>0</td>\n",
       "      <td>40.0</td>\n",
       "      <td>europe</td>\n",
       "      <td>121844</td>\n",
       "    </tr>\n",
       "  </tbody>\n",
       "</table>\n",
       "</div>"
      ],
      "text/plain": [
       "        age  workclass  fnlwgt   education  education_no_of_years  \\\n",
       "10525  39.0    Private  167728   Bachelors                     13   \n",
       "10526  67.0  Local-gov  233681  Assoc-acdm                     12   \n",
       "10527  60.0    Private   26756     HS-grad                      9   \n",
       "10528  54.0    Private  101890     HS-grad                      9   \n",
       "10529  38.0    Private  192337     Masters                     14   \n",
       "\n",
       "      marital_status       occupation     sex  capital_gain  capital_loss  \\\n",
       "10525        married  Exec-managerial    Male             0             0   \n",
       "10526        married  Exec-managerial    Male             0             0   \n",
       "10527    not_married            Sales  Female             0             0   \n",
       "10528    not_married            Sales  Female             0             0   \n",
       "10529        married   Prof-specialty    Male             0             0   \n",
       "\n",
       "       working_hours_per_week native_contienent  salary  \n",
       "10525                    40.0     north_america  231588  \n",
       "10526                    35.0     north_america  273066  \n",
       "10527                    50.0     north_america   46228  \n",
       "10528                    40.0     north_america   86571  \n",
       "10529                    40.0            europe  121844  "
      ]
     },
     "execution_count": 10,
     "metadata": {},
     "output_type": "execute_result"
    }
   ],
   "source": [
    "df.tail()"
   ]
  },
  {
   "cell_type": "code",
   "execution_count": 15,
   "id": "76b3ea39",
   "metadata": {},
   "outputs": [
    {
     "data": {
      "text/plain": [
       "(10530, 13)"
      ]
     },
     "execution_count": 15,
     "metadata": {},
     "output_type": "execute_result"
    }
   ],
   "source": [
    "df.shape"
   ]
  },
  {
   "cell_type": "code",
   "execution_count": 14,
   "id": "e795a03c",
   "metadata": {},
   "outputs": [
    {
     "data": {
      "text/html": [
       "<div>\n",
       "<style scoped>\n",
       "    .dataframe tbody tr th:only-of-type {\n",
       "        vertical-align: middle;\n",
       "    }\n",
       "\n",
       "    .dataframe tbody tr th {\n",
       "        vertical-align: top;\n",
       "    }\n",
       "\n",
       "    .dataframe thead th {\n",
       "        text-align: right;\n",
       "    }\n",
       "</style>\n",
       "<table border=\"1\" class=\"dataframe\">\n",
       "  <thead>\n",
       "    <tr style=\"text-align: right;\">\n",
       "      <th></th>\n",
       "      <th>age</th>\n",
       "      <th>fnlwgt</th>\n",
       "      <th>education_no_of_years</th>\n",
       "      <th>capital_gain</th>\n",
       "      <th>capital_loss</th>\n",
       "      <th>working_hours_per_week</th>\n",
       "      <th>salary</th>\n",
       "    </tr>\n",
       "  </thead>\n",
       "  <tbody>\n",
       "    <tr>\n",
       "      <th>count</th>\n",
       "      <td>10501.000000</td>\n",
       "      <td>1.053000e+04</td>\n",
       "      <td>10530.000000</td>\n",
       "      <td>10530.000000</td>\n",
       "      <td>10530.000000</td>\n",
       "      <td>10518.000000</td>\n",
       "      <td>10530.000000</td>\n",
       "    </tr>\n",
       "    <tr>\n",
       "      <th>mean</th>\n",
       "      <td>38.427578</td>\n",
       "      <td>1.907908e+05</td>\n",
       "      <td>10.074644</td>\n",
       "      <td>1041.188224</td>\n",
       "      <td>87.114530</td>\n",
       "      <td>40.532706</td>\n",
       "      <td>164473.904084</td>\n",
       "    </tr>\n",
       "    <tr>\n",
       "      <th>std</th>\n",
       "      <td>13.593430</td>\n",
       "      <td>1.057919e+05</td>\n",
       "      <td>2.550456</td>\n",
       "      <td>7175.370979</td>\n",
       "      <td>399.346344</td>\n",
       "      <td>12.335390</td>\n",
       "      <td>78068.350980</td>\n",
       "    </tr>\n",
       "    <tr>\n",
       "      <th>min</th>\n",
       "      <td>17.000000</td>\n",
       "      <td>1.930200e+04</td>\n",
       "      <td>1.000000</td>\n",
       "      <td>0.000000</td>\n",
       "      <td>0.000000</td>\n",
       "      <td>1.000000</td>\n",
       "      <td>29023.000000</td>\n",
       "    </tr>\n",
       "    <tr>\n",
       "      <th>25%</th>\n",
       "      <td>27.000000</td>\n",
       "      <td>1.188062e+05</td>\n",
       "      <td>9.000000</td>\n",
       "      <td>0.000000</td>\n",
       "      <td>0.000000</td>\n",
       "      <td>40.000000</td>\n",
       "      <td>96649.250000</td>\n",
       "    </tr>\n",
       "    <tr>\n",
       "      <th>50%</th>\n",
       "      <td>37.000000</td>\n",
       "      <td>1.794320e+05</td>\n",
       "      <td>10.000000</td>\n",
       "      <td>0.000000</td>\n",
       "      <td>0.000000</td>\n",
       "      <td>40.000000</td>\n",
       "      <td>164919.000000</td>\n",
       "    </tr>\n",
       "    <tr>\n",
       "      <th>75%</th>\n",
       "      <td>47.000000</td>\n",
       "      <td>2.390220e+05</td>\n",
       "      <td>12.000000</td>\n",
       "      <td>0.000000</td>\n",
       "      <td>0.000000</td>\n",
       "      <td>45.000000</td>\n",
       "      <td>231582.000000</td>\n",
       "    </tr>\n",
       "    <tr>\n",
       "      <th>max</th>\n",
       "      <td>90.000000</td>\n",
       "      <td>1.226583e+06</td>\n",
       "      <td>16.000000</td>\n",
       "      <td>99999.000000</td>\n",
       "      <td>4356.000000</td>\n",
       "      <td>99.000000</td>\n",
       "      <td>299988.000000</td>\n",
       "    </tr>\n",
       "  </tbody>\n",
       "</table>\n",
       "</div>"
      ],
      "text/plain": [
       "                age        fnlwgt  education_no_of_years  capital_gain  \\\n",
       "count  10501.000000  1.053000e+04           10530.000000  10530.000000   \n",
       "mean      38.427578  1.907908e+05              10.074644   1041.188224   \n",
       "std       13.593430  1.057919e+05               2.550456   7175.370979   \n",
       "min       17.000000  1.930200e+04               1.000000      0.000000   \n",
       "25%       27.000000  1.188062e+05               9.000000      0.000000   \n",
       "50%       37.000000  1.794320e+05              10.000000      0.000000   \n",
       "75%       47.000000  2.390220e+05              12.000000      0.000000   \n",
       "max       90.000000  1.226583e+06              16.000000  99999.000000   \n",
       "\n",
       "       capital_loss  working_hours_per_week         salary  \n",
       "count  10530.000000            10518.000000   10530.000000  \n",
       "mean      87.114530               40.532706  164473.904084  \n",
       "std      399.346344               12.335390   78068.350980  \n",
       "min        0.000000                1.000000   29023.000000  \n",
       "25%        0.000000               40.000000   96649.250000  \n",
       "50%        0.000000               40.000000  164919.000000  \n",
       "75%        0.000000               45.000000  231582.000000  \n",
       "max     4356.000000               99.000000  299988.000000  "
      ]
     },
     "execution_count": 14,
     "metadata": {},
     "output_type": "execute_result"
    }
   ],
   "source": [
    "df.describe()"
   ]
  },
  {
   "cell_type": "code",
   "execution_count": 17,
   "id": "d5969a8d",
   "metadata": {},
   "outputs": [
    {
     "name": "stdout",
     "output_type": "stream",
     "text": [
      "<class 'pandas.core.frame.DataFrame'>\n",
      "RangeIndex: 10530 entries, 0 to 10529\n",
      "Data columns (total 13 columns):\n",
      " #   Column                  Non-Null Count  Dtype  \n",
      "---  ------                  --------------  -----  \n",
      " 0   age                     10501 non-null  float64\n",
      " 1   workclass               10512 non-null  object \n",
      " 2   fnlwgt                  10530 non-null  int64  \n",
      " 3   education               10518 non-null  object \n",
      " 4   education_no_of_years   10530 non-null  int64  \n",
      " 5   marital_status          10519 non-null  object \n",
      " 6   occupation              10516 non-null  object \n",
      " 7   sex                     10519 non-null  object \n",
      " 8   capital_gain            10530 non-null  int64  \n",
      " 9   capital_loss            10530 non-null  int64  \n",
      " 10  working_hours_per_week  10518 non-null  float64\n",
      " 11  native_contienent       10518 non-null  object \n",
      " 12  salary                  10530 non-null  int64  \n",
      "dtypes: float64(2), int64(5), object(6)\n",
      "memory usage: 1.0+ MB\n"
     ]
    }
   ],
   "source": [
    "df.info()"
   ]
  },
  {
   "cell_type": "code",
   "execution_count": 18,
   "id": "11eb03fe",
   "metadata": {},
   "outputs": [
    {
     "data": {
      "text/plain": [
       "age                       float64\n",
       "workclass                  object\n",
       "fnlwgt                      int64\n",
       "education                  object\n",
       "education_no_of_years       int64\n",
       "marital_status             object\n",
       "occupation                 object\n",
       "sex                        object\n",
       "capital_gain                int64\n",
       "capital_loss                int64\n",
       "working_hours_per_week    float64\n",
       "native_contienent          object\n",
       "salary                      int64\n",
       "dtype: object"
      ]
     },
     "execution_count": 18,
     "metadata": {},
     "output_type": "execute_result"
    }
   ],
   "source": [
    "df.dtypes"
   ]
  },
  {
   "cell_type": "markdown",
   "id": "536e8ed8",
   "metadata": {},
   "source": [
    "### Q2. Understand the data \n",
    "        a. Top 5 rows\n",
    "        b. Bottom 5 rows\n",
    "        c. Structure of the data (rows and columns)\n",
    "        d. Information of the data\n",
    "        e. Statistical description of the data\n",
    "        f. Data types of each column"
   ]
  },
  {
   "cell_type": "code",
   "execution_count": 21,
   "id": "674dadfe",
   "metadata": {
    "scrolled": true
   },
   "outputs": [
    {
     "data": {
      "text/plain": [
       "age                        True\n",
       "workclass                  True\n",
       "fnlwgt                    False\n",
       "education                  True\n",
       "education_no_of_years     False\n",
       "marital_status             True\n",
       "occupation                 True\n",
       "sex                        True\n",
       "capital_gain              False\n",
       "capital_loss              False\n",
       "working_hours_per_week     True\n",
       "native_contienent          True\n",
       "salary                    False\n",
       "dtype: bool"
      ]
     },
     "execution_count": 21,
     "metadata": {},
     "output_type": "execute_result"
    }
   ],
   "source": [
    "#type your code here\n",
    "# Check if any missing value\n",
    "dataset.isnull().any()"
   ]
  },
  {
   "cell_type": "code",
   "execution_count": 22,
   "id": "4ece730a",
   "metadata": {},
   "outputs": [
    {
     "data": {
      "text/html": [
       "<div>\n",
       "<style scoped>\n",
       "    .dataframe tbody tr th:only-of-type {\n",
       "        vertical-align: middle;\n",
       "    }\n",
       "\n",
       "    .dataframe tbody tr th {\n",
       "        vertical-align: top;\n",
       "    }\n",
       "\n",
       "    .dataframe thead th {\n",
       "        text-align: right;\n",
       "    }\n",
       "</style>\n",
       "<table border=\"1\" class=\"dataframe\">\n",
       "  <thead>\n",
       "    <tr style=\"text-align: right;\">\n",
       "      <th></th>\n",
       "      <th>False</th>\n",
       "      <th>True</th>\n",
       "    </tr>\n",
       "  </thead>\n",
       "  <tbody>\n",
       "    <tr>\n",
       "      <th>age</th>\n",
       "      <td>10501.0</td>\n",
       "      <td>29.0</td>\n",
       "    </tr>\n",
       "    <tr>\n",
       "      <th>workclass</th>\n",
       "      <td>10512.0</td>\n",
       "      <td>18.0</td>\n",
       "    </tr>\n",
       "    <tr>\n",
       "      <th>fnlwgt</th>\n",
       "      <td>10530.0</td>\n",
       "      <td>NaN</td>\n",
       "    </tr>\n",
       "    <tr>\n",
       "      <th>education</th>\n",
       "      <td>10518.0</td>\n",
       "      <td>12.0</td>\n",
       "    </tr>\n",
       "    <tr>\n",
       "      <th>education_no_of_years</th>\n",
       "      <td>10530.0</td>\n",
       "      <td>NaN</td>\n",
       "    </tr>\n",
       "    <tr>\n",
       "      <th>marital_status</th>\n",
       "      <td>10519.0</td>\n",
       "      <td>11.0</td>\n",
       "    </tr>\n",
       "    <tr>\n",
       "      <th>occupation</th>\n",
       "      <td>10516.0</td>\n",
       "      <td>14.0</td>\n",
       "    </tr>\n",
       "    <tr>\n",
       "      <th>sex</th>\n",
       "      <td>10519.0</td>\n",
       "      <td>11.0</td>\n",
       "    </tr>\n",
       "    <tr>\n",
       "      <th>capital_gain</th>\n",
       "      <td>10530.0</td>\n",
       "      <td>NaN</td>\n",
       "    </tr>\n",
       "    <tr>\n",
       "      <th>capital_loss</th>\n",
       "      <td>10530.0</td>\n",
       "      <td>NaN</td>\n",
       "    </tr>\n",
       "    <tr>\n",
       "      <th>working_hours_per_week</th>\n",
       "      <td>10518.0</td>\n",
       "      <td>12.0</td>\n",
       "    </tr>\n",
       "    <tr>\n",
       "      <th>native_contienent</th>\n",
       "      <td>10518.0</td>\n",
       "      <td>12.0</td>\n",
       "    </tr>\n",
       "    <tr>\n",
       "      <th>salary</th>\n",
       "      <td>10530.0</td>\n",
       "      <td>NaN</td>\n",
       "    </tr>\n",
       "  </tbody>\n",
       "</table>\n",
       "</div>"
      ],
      "text/plain": [
       "                          False  True\n",
       "age                     10501.0  29.0\n",
       "workclass               10512.0  18.0\n",
       "fnlwgt                  10530.0   NaN\n",
       "education               10518.0  12.0\n",
       "education_no_of_years   10530.0   NaN\n",
       "marital_status          10519.0  11.0\n",
       "occupation              10516.0  14.0\n",
       "sex                     10519.0  11.0\n",
       "capital_gain            10530.0   NaN\n",
       "capital_loss            10530.0   NaN\n",
       "working_hours_per_week  10518.0  12.0\n",
       "native_contienent       10518.0  12.0\n",
       "salary                  10530.0   NaN"
      ]
     },
     "execution_count": 22,
     "metadata": {},
     "output_type": "execute_result"
    }
   ],
   "source": [
    "df.isnull().apply(pd.value_counts).T   #null value check"
   ]
  },
  {
   "cell_type": "markdown",
   "id": "490a11a6",
   "metadata": {},
   "source": [
    "### Q3. Check how many missing values are present in the dataset"
   ]
  },
  {
   "cell_type": "code",
   "execution_count": 20,
   "id": "28352bd3",
   "metadata": {},
   "outputs": [
    {
     "data": {
      "text/plain": [
       "age                       29\n",
       "workclass                 18\n",
       "fnlwgt                     0\n",
       "education                 12\n",
       "education_no_of_years      0\n",
       "marital_status            11\n",
       "occupation                14\n",
       "sex                       11\n",
       "capital_gain               0\n",
       "capital_loss               0\n",
       "working_hours_per_week    12\n",
       "native_contienent         12\n",
       "salary                     0\n",
       "dtype: int64"
      ]
     },
     "execution_count": 20,
     "metadata": {},
     "output_type": "execute_result"
    }
   ],
   "source": [
    "#type your code here\n",
    "df.isnull().sum()"
   ]
  },
  {
   "cell_type": "markdown",
   "id": "2675b183",
   "metadata": {},
   "source": [
    "### Q4. Fill the missing values in both numerical and categorical features"
   ]
  },
  {
   "cell_type": "code",
   "execution_count": 32,
   "id": "778f17c7",
   "metadata": {},
   "outputs": [
    {
     "data": {
      "text/plain": [
       "age                       float64\n",
       "workclass                  object\n",
       "fnlwgt                      int64\n",
       "education                  object\n",
       "education_no_of_years       int64\n",
       "marital_status             object\n",
       "occupation                 object\n",
       "sex                        object\n",
       "capital_gain                int64\n",
       "capital_loss                int64\n",
       "working_hours_per_week    float64\n",
       "native_contienent          object\n",
       "salary                      int64\n",
       "dtype: object"
      ]
     },
     "execution_count": 32,
     "metadata": {},
     "output_type": "execute_result"
    }
   ],
   "source": [
    "df.dtypes"
   ]
  },
  {
   "cell_type": "code",
   "execution_count": 26,
   "id": "0b7c5c05",
   "metadata": {},
   "outputs": [],
   "source": [
    "#type your code here\n",
    "# age - float64\n",
    "df[\"age\"].replace(np.nan,df['age'].median(),inplace=True)"
   ]
  },
  {
   "cell_type": "code",
   "execution_count": 33,
   "id": "6311b41d",
   "metadata": {},
   "outputs": [],
   "source": [
    "# workclass - object\n",
    "df[\"workclass\"].replace(np.nan,df['workclass'].mode()[0],inplace=True)"
   ]
  },
  {
   "cell_type": "code",
   "execution_count": 34,
   "id": "466246d8",
   "metadata": {},
   "outputs": [],
   "source": [
    "# education - object\n",
    "df[\"education\"].replace(np.nan,df['education'].mode()[0],inplace=True)"
   ]
  },
  {
   "cell_type": "code",
   "execution_count": 35,
   "id": "117338a9",
   "metadata": {},
   "outputs": [],
   "source": [
    "# marital_status - object\n",
    "df[\"marital_status\"].replace(np.nan,df['marital_status'].mode()[0],inplace=True)"
   ]
  },
  {
   "cell_type": "code",
   "execution_count": 36,
   "id": "51fad75a",
   "metadata": {},
   "outputs": [],
   "source": [
    "# occupation - object\n",
    "df[\"occupation\"].replace(np.nan,df['occupation'].mode()[0],inplace=True)"
   ]
  },
  {
   "cell_type": "code",
   "execution_count": 37,
   "id": "28aad092",
   "metadata": {},
   "outputs": [],
   "source": [
    "# sex - object\n",
    "df[\"sex\"].replace(np.nan,df['sex'].mode()[0],inplace=True)"
   ]
  },
  {
   "cell_type": "code",
   "execution_count": 38,
   "id": "f7268a60",
   "metadata": {},
   "outputs": [],
   "source": [
    "# working_hours_per_week - float64\n",
    "df[\"working_hours_per_week\"].replace(np.nan,df['working_hours_per_week'].median(),inplace=True)"
   ]
  },
  {
   "cell_type": "code",
   "execution_count": 39,
   "id": "4d3e94ea",
   "metadata": {},
   "outputs": [],
   "source": [
    "# native_contienent - object\n",
    "df[\"native_contienent\"].replace(np.nan,df['native_contienent'].mode()[0],inplace=True)"
   ]
  },
  {
   "cell_type": "code",
   "execution_count": 40,
   "id": "520b676b",
   "metadata": {},
   "outputs": [
    {
     "data": {
      "text/plain": [
       "age                       0\n",
       "workclass                 0\n",
       "fnlwgt                    0\n",
       "education                 0\n",
       "education_no_of_years     0\n",
       "marital_status            0\n",
       "occupation                0\n",
       "sex                       0\n",
       "capital_gain              0\n",
       "capital_loss              0\n",
       "working_hours_per_week    0\n",
       "native_contienent         0\n",
       "salary                    0\n",
       "dtype: int64"
      ]
     },
     "execution_count": 40,
     "metadata": {},
     "output_type": "execute_result"
    }
   ],
   "source": [
    "df.isnull().sum()"
   ]
  },
  {
   "cell_type": "markdown",
   "id": "99bca711",
   "metadata": {},
   "source": [
    "### Q5. Convert the data type of columns in to proper data type"
   ]
  },
  {
   "cell_type": "code",
   "execution_count": 41,
   "id": "b58eae06",
   "metadata": {},
   "outputs": [
    {
     "data": {
      "text/plain": [
       "dtype('float64')"
      ]
     },
     "execution_count": 41,
     "metadata": {},
     "output_type": "execute_result"
    }
   ],
   "source": [
    "#type your code here\n",
    "df['age'].dtypes"
   ]
  },
  {
   "cell_type": "code",
   "execution_count": 42,
   "id": "20478240",
   "metadata": {},
   "outputs": [],
   "source": [
    "df['age'] = df['age'].astype('int64')"
   ]
  },
  {
   "cell_type": "code",
   "execution_count": 43,
   "id": "44bb6183",
   "metadata": {},
   "outputs": [
    {
     "data": {
      "text/plain": [
       "dtype('int64')"
      ]
     },
     "execution_count": 43,
     "metadata": {},
     "output_type": "execute_result"
    }
   ],
   "source": [
    "df['age'].dtypes"
   ]
  },
  {
   "cell_type": "markdown",
   "id": "529804c3",
   "metadata": {},
   "source": [
    "### Q6. Identify the outliers in the dataset and treat them with percentile"
   ]
  },
  {
   "cell_type": "code",
   "execution_count": 44,
   "id": "20981c3e",
   "metadata": {},
   "outputs": [
    {
     "data": {
      "text/plain": [
       "<AxesSubplot:>"
      ]
     },
     "execution_count": 44,
     "metadata": {},
     "output_type": "execute_result"
    },
    {
     "data": {
      "image/png": "[encoded data removed]",
      "text/plain": [
       "<Figure size 360x288 with 1 Axes>"
      ]
     },
     "metadata": {
      "needs_background": "light"
     },
     "output_type": "display_data"
    }
   ],
   "source": [
    "#type your code here\n",
    "df[['fnlwgt']].boxplot(figsize=(5,4))"
   ]
  },
  {
   "cell_type": "markdown",
   "id": "4b7dcfda",
   "metadata": {},
   "source": [
    "### Q7. Convert the categorical data in to numerical features and drop the irrelevant features"
   ]
  },
  {
   "cell_type": "code",
   "execution_count": null,
   "id": "2c87cea9",
   "metadata": {},
   "outputs": [],
   "source": [
    "#type your code here"
   ]
  },
  {
   "cell_type": "markdown",
   "id": "69411173",
   "metadata": {},
   "source": [
    "### Q8. Identify the features in the dataset that requires feature scaling"
   ]
  },
  {
   "cell_type": "code",
   "execution_count": null,
   "id": "ed3899ae",
   "metadata": {},
   "outputs": [],
   "source": [
    "#type your code here"
   ]
  },
  {
   "cell_type": "markdown",
   "id": "6acbbe15",
   "metadata": {},
   "source": [
    "## Power Ahead!"
   ]
  }
 ],
 "metadata": {
  "kernelspec": {
   "display_name": "Python 3 (ipykernel)",
   "language": "python",
   "name": "python3"
  },
  "language_info": {
   "codemirror_mode": {
    "name": "ipython",
    "version": 3
   },
   "file_extension": ".py",
   "mimetype": "text/x-python",
   "name": "python",
   "nbconvert_exporter": "python",
   "pygments_lexer": "ipython3",
   "version": "3.9.7"
  }
 },
 "nbformat": 4,
 "nbformat_minor": 5
}
