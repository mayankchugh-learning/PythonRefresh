{
 "cells": [
  {
   "cell_type": "markdown",
   "id": "f23f2cfd",
   "metadata": {},
   "source": [
    "# Week-4 Python for Data Management - LVC\n",
    "\n",
    "#### Note: The notebook is designed to give you the demonstration of techniques and concepts that we learnt from the LVC - we will discuss in deep of the techniques in the mentor learning session by taking a industry scenario"
   ]
  },
  {
   "cell_type": "code",
   "execution_count": 1,
   "id": "a976b52a",
   "metadata": {},
   "outputs": [],
   "source": [
    "import numpy as  np\n",
    "import pandas as pd\n",
    "from warnings import filterwarnings\n",
    "filterwarnings(\"ignore\")"
   ]
  },
  {
   "cell_type": "markdown",
   "id": "a11b0af9",
   "metadata": {},
   "source": [
    "Importing data file        \n",
    "The below code shows how to read data from a specific tab from an excel file.      \n",
    "File name - Sales.xlsx      \n",
    "Tab name - Sales"
   ]
  },
  {
   "cell_type": "markdown",
   "id": "380a792e",
   "metadata": {},
   "source": [
    "### Data Loading"
   ]
  },
  {
   "cell_type": "code",
   "execution_count": 2,
   "id": "6eaa96ea",
   "metadata": {},
   "outputs": [],
   "source": [
    "df=pd.read_excel(\"Sales.xlsx\",sheet_name=\"Sales\")   # to read csv file, replace read_excel with read_csv"
   ]
  },
  {
   "cell_type": "markdown",
   "id": "7f5de0b3",
   "metadata": {},
   "source": [
    "Checking Top 5 Rows of the data "
   ]
  },
  {
   "cell_type": "code",
   "execution_count": 3,
   "id": "1beea8a7",
   "metadata": {},
   "outputs": [
    {
     "data": {
      "text/html": [
       "<div>\n",
       "<style scoped>\n",
       "    .dataframe tbody tr th:only-of-type {\n",
       "        vertical-align: middle;\n",
       "    }\n",
       "\n",
       "    .dataframe tbody tr th {\n",
       "        vertical-align: top;\n",
       "    }\n",
       "\n",
       "    .dataframe thead th {\n",
       "        text-align: right;\n",
       "    }\n",
       "</style>\n",
       "<table border=\"1\" class=\"dataframe\">\n",
       "  <thead>\n",
       "    <tr style=\"text-align: right;\">\n",
       "      <th></th>\n",
       "      <th>CustID</th>\n",
       "      <th>AgentBonus</th>\n",
       "      <th>Age</th>\n",
       "      <th>CustTenure</th>\n",
       "      <th>Channel</th>\n",
       "      <th>Occupation</th>\n",
       "      <th>EducationField</th>\n",
       "      <th>Gender</th>\n",
       "      <th>ExistingProdType</th>\n",
       "      <th>Designation</th>\n",
       "      <th>NumberOfPolicy</th>\n",
       "      <th>MaritalStatus</th>\n",
       "      <th>MonthlyIncome</th>\n",
       "      <th>Complaint</th>\n",
       "      <th>ExistingPolicyTenure</th>\n",
       "      <th>SumAssured</th>\n",
       "      <th>Zone</th>\n",
       "      <th>PaymentMethod</th>\n",
       "      <th>LastMonthCalls</th>\n",
       "      <th>CustCareScore</th>\n",
       "    </tr>\n",
       "  </thead>\n",
       "  <tbody>\n",
       "    <tr>\n",
       "      <th>0</th>\n",
       "      <td>7000000</td>\n",
       "      <td>4409</td>\n",
       "      <td>22.0</td>\n",
       "      <td>4.0</td>\n",
       "      <td>Agent</td>\n",
       "      <td>Salaried</td>\n",
       "      <td>Graduate</td>\n",
       "      <td>Female</td>\n",
       "      <td>3</td>\n",
       "      <td>Manager</td>\n",
       "      <td>2.0</td>\n",
       "      <td>Single</td>\n",
       "      <td>20993.0</td>\n",
       "      <td>1</td>\n",
       "      <td>2.0</td>\n",
       "      <td>806761.0</td>\n",
       "      <td>North</td>\n",
       "      <td>Half Yearly</td>\n",
       "      <td>5</td>\n",
       "      <td>2.0</td>\n",
       "    </tr>\n",
       "    <tr>\n",
       "      <th>1</th>\n",
       "      <td>7000001</td>\n",
       "      <td>2214</td>\n",
       "      <td>11.0</td>\n",
       "      <td>2.0</td>\n",
       "      <td>Third Party Partner</td>\n",
       "      <td>Salaried</td>\n",
       "      <td>Graduate</td>\n",
       "      <td>Male</td>\n",
       "      <td>4</td>\n",
       "      <td>Manager</td>\n",
       "      <td>4.0</td>\n",
       "      <td>Divorced</td>\n",
       "      <td>20130.0</td>\n",
       "      <td>0</td>\n",
       "      <td>3.0</td>\n",
       "      <td>294502.0</td>\n",
       "      <td>North</td>\n",
       "      <td>Yearly</td>\n",
       "      <td>7</td>\n",
       "      <td>3.0</td>\n",
       "    </tr>\n",
       "    <tr>\n",
       "      <th>2</th>\n",
       "      <td>7000002</td>\n",
       "      <td>4273</td>\n",
       "      <td>26.0</td>\n",
       "      <td>4.0</td>\n",
       "      <td>Agent</td>\n",
       "      <td>Free Lancer</td>\n",
       "      <td>Post Graduate</td>\n",
       "      <td>Male</td>\n",
       "      <td>4</td>\n",
       "      <td>Exe</td>\n",
       "      <td>3.0</td>\n",
       "      <td>Unmarried</td>\n",
       "      <td>17090.0</td>\n",
       "      <td>1</td>\n",
       "      <td>2.0</td>\n",
       "      <td>NaN</td>\n",
       "      <td>North</td>\n",
       "      <td>Yearly</td>\n",
       "      <td>0</td>\n",
       "      <td>3.0</td>\n",
       "    </tr>\n",
       "    <tr>\n",
       "      <th>3</th>\n",
       "      <td>7000003</td>\n",
       "      <td>1791</td>\n",
       "      <td>11.0</td>\n",
       "      <td>NaN</td>\n",
       "      <td>Third Party Partner</td>\n",
       "      <td>Salaried</td>\n",
       "      <td>Graduate</td>\n",
       "      <td>Fe male</td>\n",
       "      <td>3</td>\n",
       "      <td>Executive</td>\n",
       "      <td>3.0</td>\n",
       "      <td>Divorced</td>\n",
       "      <td>17909.0</td>\n",
       "      <td>1</td>\n",
       "      <td>2.0</td>\n",
       "      <td>268635.0</td>\n",
       "      <td>West</td>\n",
       "      <td>Half Yearly</td>\n",
       "      <td>0</td>\n",
       "      <td>5.0</td>\n",
       "    </tr>\n",
       "    <tr>\n",
       "      <th>4</th>\n",
       "      <td>7000004</td>\n",
       "      <td>2955</td>\n",
       "      <td>6.0</td>\n",
       "      <td>NaN</td>\n",
       "      <td>Agent</td>\n",
       "      <td>Small Business</td>\n",
       "      <td>UG</td>\n",
       "      <td>Male</td>\n",
       "      <td>3</td>\n",
       "      <td>Executive</td>\n",
       "      <td>4.0</td>\n",
       "      <td>Divorced</td>\n",
       "      <td>18468.0</td>\n",
       "      <td>0</td>\n",
       "      <td>4.0</td>\n",
       "      <td>366405.0</td>\n",
       "      <td>West</td>\n",
       "      <td>Half Yearly</td>\n",
       "      <td>2</td>\n",
       "      <td>5.0</td>\n",
       "    </tr>\n",
       "  </tbody>\n",
       "</table>\n",
       "</div>"
      ],
      "text/plain": [
       "    CustID  AgentBonus   Age  CustTenure              Channel      Occupation  \\\n",
       "0  7000000        4409  22.0         4.0                Agent        Salaried   \n",
       "1  7000001        2214  11.0         2.0  Third Party Partner        Salaried   \n",
       "2  7000002        4273  26.0         4.0                Agent     Free Lancer   \n",
       "3  7000003        1791  11.0         NaN  Third Party Partner        Salaried   \n",
       "4  7000004        2955   6.0         NaN                Agent  Small Business   \n",
       "\n",
       "  EducationField   Gender  ExistingProdType Designation  NumberOfPolicy  \\\n",
       "0       Graduate   Female                 3     Manager             2.0   \n",
       "1       Graduate     Male                 4     Manager             4.0   \n",
       "2  Post Graduate     Male                 4         Exe             3.0   \n",
       "3       Graduate  Fe male                 3   Executive             3.0   \n",
       "4             UG     Male                 3   Executive             4.0   \n",
       "\n",
       "  MaritalStatus  MonthlyIncome  Complaint  ExistingPolicyTenure  SumAssured  \\\n",
       "0        Single        20993.0          1                   2.0    806761.0   \n",
       "1      Divorced        20130.0          0                   3.0    294502.0   \n",
       "2     Unmarried        17090.0          1                   2.0         NaN   \n",
       "3      Divorced        17909.0          1                   2.0    268635.0   \n",
       "4      Divorced        18468.0          0                   4.0    366405.0   \n",
       "\n",
       "    Zone PaymentMethod  LastMonthCalls  CustCareScore  \n",
       "0  North   Half Yearly               5            2.0  \n",
       "1  North        Yearly               7            3.0  \n",
       "2  North        Yearly               0            3.0  \n",
       "3   West   Half Yearly               0            5.0  \n",
       "4   West   Half Yearly               2            5.0  "
      ]
     },
     "execution_count": 3,
     "metadata": {},
     "output_type": "execute_result"
    }
   ],
   "source": [
    "df.head()"
   ]
  },
  {
   "cell_type": "markdown",
   "id": "6920db1f",
   "metadata": {},
   "source": [
    "Checking Bottom 5 Rows "
   ]
  },
  {
   "cell_type": "code",
   "execution_count": 4,
   "id": "52473e0a",
   "metadata": {
    "scrolled": false
   },
   "outputs": [
    {
     "data": {
      "text/html": [
       "<div>\n",
       "<style scoped>\n",
       "    .dataframe tbody tr th:only-of-type {\n",
       "        vertical-align: middle;\n",
       "    }\n",
       "\n",
       "    .dataframe tbody tr th {\n",
       "        vertical-align: top;\n",
       "    }\n",
       "\n",
       "    .dataframe thead th {\n",
       "        text-align: right;\n",
       "    }\n",
       "</style>\n",
       "<table border=\"1\" class=\"dataframe\">\n",
       "  <thead>\n",
       "    <tr style=\"text-align: right;\">\n",
       "      <th></th>\n",
       "      <th>CustID</th>\n",
       "      <th>AgentBonus</th>\n",
       "      <th>Age</th>\n",
       "      <th>CustTenure</th>\n",
       "      <th>Channel</th>\n",
       "      <th>Occupation</th>\n",
       "      <th>EducationField</th>\n",
       "      <th>Gender</th>\n",
       "      <th>ExistingProdType</th>\n",
       "      <th>Designation</th>\n",
       "      <th>NumberOfPolicy</th>\n",
       "      <th>MaritalStatus</th>\n",
       "      <th>MonthlyIncome</th>\n",
       "      <th>Complaint</th>\n",
       "      <th>ExistingPolicyTenure</th>\n",
       "      <th>SumAssured</th>\n",
       "      <th>Zone</th>\n",
       "      <th>PaymentMethod</th>\n",
       "      <th>LastMonthCalls</th>\n",
       "      <th>CustCareScore</th>\n",
       "    </tr>\n",
       "  </thead>\n",
       "  <tbody>\n",
       "    <tr>\n",
       "      <th>4515</th>\n",
       "      <td>7004515</td>\n",
       "      <td>3953</td>\n",
       "      <td>4.0</td>\n",
       "      <td>8.0</td>\n",
       "      <td>Agent</td>\n",
       "      <td>Small Business</td>\n",
       "      <td>Graduate</td>\n",
       "      <td>Male</td>\n",
       "      <td>4</td>\n",
       "      <td>Senior Manager</td>\n",
       "      <td>2.0</td>\n",
       "      <td>Single</td>\n",
       "      <td>26355.0</td>\n",
       "      <td>0</td>\n",
       "      <td>2.0</td>\n",
       "      <td>636473.0</td>\n",
       "      <td>West</td>\n",
       "      <td>Yearly</td>\n",
       "      <td>9</td>\n",
       "      <td>1.0</td>\n",
       "    </tr>\n",
       "    <tr>\n",
       "      <th>4516</th>\n",
       "      <td>7004516</td>\n",
       "      <td>2939</td>\n",
       "      <td>9.0</td>\n",
       "      <td>9.0</td>\n",
       "      <td>Agent</td>\n",
       "      <td>Salaried</td>\n",
       "      <td>Under Graduate</td>\n",
       "      <td>Female</td>\n",
       "      <td>2</td>\n",
       "      <td>Executive</td>\n",
       "      <td>2.0</td>\n",
       "      <td>Married</td>\n",
       "      <td>20991.0</td>\n",
       "      <td>0</td>\n",
       "      <td>3.0</td>\n",
       "      <td>296813.0</td>\n",
       "      <td>North</td>\n",
       "      <td>Yearly</td>\n",
       "      <td>1</td>\n",
       "      <td>3.0</td>\n",
       "    </tr>\n",
       "    <tr>\n",
       "      <th>4517</th>\n",
       "      <td>7004517</td>\n",
       "      <td>3792</td>\n",
       "      <td>23.0</td>\n",
       "      <td>23.0</td>\n",
       "      <td>Agent</td>\n",
       "      <td>Salaried</td>\n",
       "      <td>Engineer</td>\n",
       "      <td>Female</td>\n",
       "      <td>5</td>\n",
       "      <td>AVP</td>\n",
       "      <td>5.0</td>\n",
       "      <td>Single</td>\n",
       "      <td>NaN</td>\n",
       "      <td>0</td>\n",
       "      <td>2.0</td>\n",
       "      <td>667371.0</td>\n",
       "      <td>North</td>\n",
       "      <td>Half Yearly</td>\n",
       "      <td>4</td>\n",
       "      <td>1.0</td>\n",
       "    </tr>\n",
       "    <tr>\n",
       "      <th>4518</th>\n",
       "      <td>7004518</td>\n",
       "      <td>4816</td>\n",
       "      <td>10.0</td>\n",
       "      <td>10.0</td>\n",
       "      <td>Online</td>\n",
       "      <td>Small Business</td>\n",
       "      <td>Graduate</td>\n",
       "      <td>Female</td>\n",
       "      <td>4</td>\n",
       "      <td>Executive</td>\n",
       "      <td>2.0</td>\n",
       "      <td>Single</td>\n",
       "      <td>20068.0</td>\n",
       "      <td>0</td>\n",
       "      <td>6.0</td>\n",
       "      <td>943999.0</td>\n",
       "      <td>West</td>\n",
       "      <td>Half Yearly</td>\n",
       "      <td>1</td>\n",
       "      <td>5.0</td>\n",
       "    </tr>\n",
       "    <tr>\n",
       "      <th>4519</th>\n",
       "      <td>7004519</td>\n",
       "      <td>4764</td>\n",
       "      <td>14.0</td>\n",
       "      <td>10.0</td>\n",
       "      <td>Agent</td>\n",
       "      <td>Salaried</td>\n",
       "      <td>Under Graduate</td>\n",
       "      <td>Female</td>\n",
       "      <td>5</td>\n",
       "      <td>Manager</td>\n",
       "      <td>2.0</td>\n",
       "      <td>Married</td>\n",
       "      <td>23820.0</td>\n",
       "      <td>0</td>\n",
       "      <td>3.0</td>\n",
       "      <td>700308.0</td>\n",
       "      <td>North</td>\n",
       "      <td>Half Yearly</td>\n",
       "      <td>1</td>\n",
       "      <td>3.0</td>\n",
       "    </tr>\n",
       "  </tbody>\n",
       "</table>\n",
       "</div>"
      ],
      "text/plain": [
       "       CustID  AgentBonus   Age  CustTenure Channel      Occupation  \\\n",
       "4515  7004515        3953   4.0         8.0   Agent  Small Business   \n",
       "4516  7004516        2939   9.0         9.0   Agent        Salaried   \n",
       "4517  7004517        3792  23.0        23.0   Agent        Salaried   \n",
       "4518  7004518        4816  10.0        10.0  Online  Small Business   \n",
       "4519  7004519        4764  14.0        10.0   Agent        Salaried   \n",
       "\n",
       "      EducationField  Gender  ExistingProdType     Designation  \\\n",
       "4515        Graduate    Male                 4  Senior Manager   \n",
       "4516  Under Graduate  Female                 2       Executive   \n",
       "4517        Engineer  Female                 5             AVP   \n",
       "4518        Graduate  Female                 4       Executive   \n",
       "4519  Under Graduate  Female                 5         Manager   \n",
       "\n",
       "      NumberOfPolicy MaritalStatus  MonthlyIncome  Complaint  \\\n",
       "4515             2.0        Single        26355.0          0   \n",
       "4516             2.0       Married        20991.0          0   \n",
       "4517             5.0        Single            NaN          0   \n",
       "4518             2.0        Single        20068.0          0   \n",
       "4519             2.0       Married        23820.0          0   \n",
       "\n",
       "      ExistingPolicyTenure  SumAssured   Zone PaymentMethod  LastMonthCalls  \\\n",
       "4515                   2.0    636473.0   West        Yearly               9   \n",
       "4516                   3.0    296813.0  North        Yearly               1   \n",
       "4517                   2.0    667371.0  North   Half Yearly               4   \n",
       "4518                   6.0    943999.0   West   Half Yearly               1   \n",
       "4519                   3.0    700308.0  North   Half Yearly               1   \n",
       "\n",
       "      CustCareScore  \n",
       "4515            1.0  \n",
       "4516            3.0  \n",
       "4517            1.0  \n",
       "4518            5.0  \n",
       "4519            3.0  "
      ]
     },
     "execution_count": 4,
     "metadata": {},
     "output_type": "execute_result"
    }
   ],
   "source": [
    "df.tail()"
   ]
  },
  {
   "cell_type": "markdown",
   "id": "df3ea929",
   "metadata": {},
   "source": [
    "### Data Understanding"
   ]
  },
  {
   "cell_type": "markdown",
   "id": "a405cc12",
   "metadata": {},
   "source": [
    "Checking the Shape of the dataset"
   ]
  },
  {
   "cell_type": "code",
   "execution_count": 5,
   "id": "e0aa29c4",
   "metadata": {},
   "outputs": [
    {
     "name": "stdout",
     "output_type": "stream",
     "text": [
      "Total rows in the dataset:  4520\n",
      "Total columns in the dataset:  20\n"
     ]
    }
   ],
   "source": [
    "print(\"Total rows in the dataset: \", df.shape[0])\n",
    "print(\"Total columns in the dataset: \", df.shape[1])"
   ]
  },
  {
   "cell_type": "markdown",
   "id": "7bb1ddf8",
   "metadata": {},
   "source": [
    "Checking the info on each column of Dataset "
   ]
  },
  {
   "cell_type": "code",
   "execution_count": 6,
   "id": "adeff997",
   "metadata": {},
   "outputs": [
    {
     "name": "stdout",
     "output_type": "stream",
     "text": [
      "<class 'pandas.core.frame.DataFrame'>\n",
      "RangeIndex: 4520 entries, 0 to 4519\n",
      "Data columns (total 20 columns):\n",
      " #   Column                Non-Null Count  Dtype  \n",
      "---  ------                --------------  -----  \n",
      " 0   CustID                4520 non-null   int64  \n",
      " 1   AgentBonus            4520 non-null   int64  \n",
      " 2   Age                   4251 non-null   float64\n",
      " 3   CustTenure            4294 non-null   float64\n",
      " 4   Channel               4520 non-null   object \n",
      " 5   Occupation            4520 non-null   object \n",
      " 6   EducationField        4520 non-null   object \n",
      " 7   Gender                4520 non-null   object \n",
      " 8   ExistingProdType      4520 non-null   int64  \n",
      " 9   Designation           4520 non-null   object \n",
      " 10  NumberOfPolicy        4475 non-null   float64\n",
      " 11  MaritalStatus         4520 non-null   object \n",
      " 12  MonthlyIncome         4284 non-null   float64\n",
      " 13  Complaint             4520 non-null   int64  \n",
      " 14  ExistingPolicyTenure  4336 non-null   float64\n",
      " 15  SumAssured            4366 non-null   float64\n",
      " 16  Zone                  4520 non-null   object \n",
      " 17  PaymentMethod         4520 non-null   object \n",
      " 18  LastMonthCalls        4520 non-null   int64  \n",
      " 19  CustCareScore         4468 non-null   float64\n",
      "dtypes: float64(7), int64(5), object(8)\n",
      "memory usage: 706.4+ KB\n"
     ]
    }
   ],
   "source": [
    "df.info()"
   ]
  },
  {
   "cell_type": "markdown",
   "id": "df77f6ca",
   "metadata": {},
   "source": [
    "There are 7 Float variables , 5 Integer variables and 8 object variables in the data set.     \n",
    "Also There are 7 variables which show Null values   \n",
    "Age is a float variable , we will check in further steps if there is need to change it to integer      \n",
    "We are building the model to predict Agent Bonus CustID seems irrelevant to agent bonus. We will be dropping this variable in the upcoming steps    "
   ]
  },
  {
   "cell_type": "markdown",
   "id": "21232dd7",
   "metadata": {},
   "source": [
    "Checking the 5 point summary , Descriptive Statistics of the dataset "
   ]
  },
  {
   "cell_type": "code",
   "execution_count": 7,
   "id": "fafaf313",
   "metadata": {},
   "outputs": [
    {
     "data": {
      "text/html": [
       "<div>\n",
       "<style scoped>\n",
       "    .dataframe tbody tr th:only-of-type {\n",
       "        vertical-align: middle;\n",
       "    }\n",
       "\n",
       "    .dataframe tbody tr th {\n",
       "        vertical-align: top;\n",
       "    }\n",
       "\n",
       "    .dataframe thead th {\n",
       "        text-align: right;\n",
       "    }\n",
       "</style>\n",
       "<table border=\"1\" class=\"dataframe\">\n",
       "  <thead>\n",
       "    <tr style=\"text-align: right;\">\n",
       "      <th></th>\n",
       "      <th>count</th>\n",
       "      <th>unique</th>\n",
       "      <th>top</th>\n",
       "      <th>freq</th>\n",
       "      <th>mean</th>\n",
       "      <th>std</th>\n",
       "      <th>min</th>\n",
       "      <th>25%</th>\n",
       "      <th>50%</th>\n",
       "      <th>75%</th>\n",
       "      <th>max</th>\n",
       "    </tr>\n",
       "  </thead>\n",
       "  <tbody>\n",
       "    <tr>\n",
       "      <th>CustID</th>\n",
       "      <td>4520.0</td>\n",
       "      <td>NaN</td>\n",
       "      <td>NaN</td>\n",
       "      <td>NaN</td>\n",
       "      <td>7002259.5</td>\n",
       "      <td>1304.955938</td>\n",
       "      <td>7000000.0</td>\n",
       "      <td>7001129.75</td>\n",
       "      <td>7002259.5</td>\n",
       "      <td>7003389.25</td>\n",
       "      <td>7004519.0</td>\n",
       "    </tr>\n",
       "    <tr>\n",
       "      <th>AgentBonus</th>\n",
       "      <td>4520.0</td>\n",
       "      <td>NaN</td>\n",
       "      <td>NaN</td>\n",
       "      <td>NaN</td>\n",
       "      <td>4077.838274</td>\n",
       "      <td>1403.321711</td>\n",
       "      <td>1605.0</td>\n",
       "      <td>3027.75</td>\n",
       "      <td>3911.5</td>\n",
       "      <td>4867.25</td>\n",
       "      <td>9608.0</td>\n",
       "    </tr>\n",
       "    <tr>\n",
       "      <th>Age</th>\n",
       "      <td>4251.0</td>\n",
       "      <td>NaN</td>\n",
       "      <td>NaN</td>\n",
       "      <td>NaN</td>\n",
       "      <td>14.494707</td>\n",
       "      <td>9.037629</td>\n",
       "      <td>2.0</td>\n",
       "      <td>7.0</td>\n",
       "      <td>13.0</td>\n",
       "      <td>20.0</td>\n",
       "      <td>58.0</td>\n",
       "    </tr>\n",
       "    <tr>\n",
       "      <th>CustTenure</th>\n",
       "      <td>4294.0</td>\n",
       "      <td>NaN</td>\n",
       "      <td>NaN</td>\n",
       "      <td>NaN</td>\n",
       "      <td>14.469027</td>\n",
       "      <td>8.963671</td>\n",
       "      <td>2.0</td>\n",
       "      <td>7.0</td>\n",
       "      <td>13.0</td>\n",
       "      <td>20.0</td>\n",
       "      <td>57.0</td>\n",
       "    </tr>\n",
       "    <tr>\n",
       "      <th>Channel</th>\n",
       "      <td>4520</td>\n",
       "      <td>3</td>\n",
       "      <td>Agent</td>\n",
       "      <td>3194</td>\n",
       "      <td>NaN</td>\n",
       "      <td>NaN</td>\n",
       "      <td>NaN</td>\n",
       "      <td>NaN</td>\n",
       "      <td>NaN</td>\n",
       "      <td>NaN</td>\n",
       "      <td>NaN</td>\n",
       "    </tr>\n",
       "    <tr>\n",
       "      <th>Occupation</th>\n",
       "      <td>4520</td>\n",
       "      <td>5</td>\n",
       "      <td>Salaried</td>\n",
       "      <td>2192</td>\n",
       "      <td>NaN</td>\n",
       "      <td>NaN</td>\n",
       "      <td>NaN</td>\n",
       "      <td>NaN</td>\n",
       "      <td>NaN</td>\n",
       "      <td>NaN</td>\n",
       "      <td>NaN</td>\n",
       "    </tr>\n",
       "    <tr>\n",
       "      <th>EducationField</th>\n",
       "      <td>4520</td>\n",
       "      <td>7</td>\n",
       "      <td>Graduate</td>\n",
       "      <td>1870</td>\n",
       "      <td>NaN</td>\n",
       "      <td>NaN</td>\n",
       "      <td>NaN</td>\n",
       "      <td>NaN</td>\n",
       "      <td>NaN</td>\n",
       "      <td>NaN</td>\n",
       "      <td>NaN</td>\n",
       "    </tr>\n",
       "    <tr>\n",
       "      <th>Gender</th>\n",
       "      <td>4520</td>\n",
       "      <td>3</td>\n",
       "      <td>Male</td>\n",
       "      <td>2688</td>\n",
       "      <td>NaN</td>\n",
       "      <td>NaN</td>\n",
       "      <td>NaN</td>\n",
       "      <td>NaN</td>\n",
       "      <td>NaN</td>\n",
       "      <td>NaN</td>\n",
       "      <td>NaN</td>\n",
       "    </tr>\n",
       "    <tr>\n",
       "      <th>ExistingProdType</th>\n",
       "      <td>4520.0</td>\n",
       "      <td>NaN</td>\n",
       "      <td>NaN</td>\n",
       "      <td>NaN</td>\n",
       "      <td>3.688938</td>\n",
       "      <td>1.015769</td>\n",
       "      <td>1.0</td>\n",
       "      <td>3.0</td>\n",
       "      <td>4.0</td>\n",
       "      <td>4.0</td>\n",
       "      <td>6.0</td>\n",
       "    </tr>\n",
       "    <tr>\n",
       "      <th>Designation</th>\n",
       "      <td>4520</td>\n",
       "      <td>6</td>\n",
       "      <td>Manager</td>\n",
       "      <td>1620</td>\n",
       "      <td>NaN</td>\n",
       "      <td>NaN</td>\n",
       "      <td>NaN</td>\n",
       "      <td>NaN</td>\n",
       "      <td>NaN</td>\n",
       "      <td>NaN</td>\n",
       "      <td>NaN</td>\n",
       "    </tr>\n",
       "    <tr>\n",
       "      <th>NumberOfPolicy</th>\n",
       "      <td>4475.0</td>\n",
       "      <td>NaN</td>\n",
       "      <td>NaN</td>\n",
       "      <td>NaN</td>\n",
       "      <td>3.565363</td>\n",
       "      <td>1.455926</td>\n",
       "      <td>1.0</td>\n",
       "      <td>2.0</td>\n",
       "      <td>4.0</td>\n",
       "      <td>5.0</td>\n",
       "      <td>6.0</td>\n",
       "    </tr>\n",
       "    <tr>\n",
       "      <th>MaritalStatus</th>\n",
       "      <td>4520</td>\n",
       "      <td>4</td>\n",
       "      <td>Married</td>\n",
       "      <td>2268</td>\n",
       "      <td>NaN</td>\n",
       "      <td>NaN</td>\n",
       "      <td>NaN</td>\n",
       "      <td>NaN</td>\n",
       "      <td>NaN</td>\n",
       "      <td>NaN</td>\n",
       "      <td>NaN</td>\n",
       "    </tr>\n",
       "    <tr>\n",
       "      <th>MonthlyIncome</th>\n",
       "      <td>4284.0</td>\n",
       "      <td>NaN</td>\n",
       "      <td>NaN</td>\n",
       "      <td>NaN</td>\n",
       "      <td>22890.309991</td>\n",
       "      <td>4885.600757</td>\n",
       "      <td>16009.0</td>\n",
       "      <td>19683.5</td>\n",
       "      <td>21606.0</td>\n",
       "      <td>24725.0</td>\n",
       "      <td>38456.0</td>\n",
       "    </tr>\n",
       "    <tr>\n",
       "      <th>Complaint</th>\n",
       "      <td>4520.0</td>\n",
       "      <td>NaN</td>\n",
       "      <td>NaN</td>\n",
       "      <td>NaN</td>\n",
       "      <td>0.287168</td>\n",
       "      <td>0.452491</td>\n",
       "      <td>0.0</td>\n",
       "      <td>0.0</td>\n",
       "      <td>0.0</td>\n",
       "      <td>1.0</td>\n",
       "      <td>1.0</td>\n",
       "    </tr>\n",
       "    <tr>\n",
       "      <th>ExistingPolicyTenure</th>\n",
       "      <td>4336.0</td>\n",
       "      <td>NaN</td>\n",
       "      <td>NaN</td>\n",
       "      <td>NaN</td>\n",
       "      <td>4.130074</td>\n",
       "      <td>3.346386</td>\n",
       "      <td>1.0</td>\n",
       "      <td>2.0</td>\n",
       "      <td>3.0</td>\n",
       "      <td>6.0</td>\n",
       "      <td>25.0</td>\n",
       "    </tr>\n",
       "    <tr>\n",
       "      <th>SumAssured</th>\n",
       "      <td>4366.0</td>\n",
       "      <td>NaN</td>\n",
       "      <td>NaN</td>\n",
       "      <td>NaN</td>\n",
       "      <td>619999.699267</td>\n",
       "      <td>246234.82214</td>\n",
       "      <td>168536.0</td>\n",
       "      <td>439443.25</td>\n",
       "      <td>578976.5</td>\n",
       "      <td>758236.0</td>\n",
       "      <td>1838496.0</td>\n",
       "    </tr>\n",
       "    <tr>\n",
       "      <th>Zone</th>\n",
       "      <td>4520</td>\n",
       "      <td>4</td>\n",
       "      <td>West</td>\n",
       "      <td>2566</td>\n",
       "      <td>NaN</td>\n",
       "      <td>NaN</td>\n",
       "      <td>NaN</td>\n",
       "      <td>NaN</td>\n",
       "      <td>NaN</td>\n",
       "      <td>NaN</td>\n",
       "      <td>NaN</td>\n",
       "    </tr>\n",
       "    <tr>\n",
       "      <th>PaymentMethod</th>\n",
       "      <td>4520</td>\n",
       "      <td>4</td>\n",
       "      <td>Half Yearly</td>\n",
       "      <td>2656</td>\n",
       "      <td>NaN</td>\n",
       "      <td>NaN</td>\n",
       "      <td>NaN</td>\n",
       "      <td>NaN</td>\n",
       "      <td>NaN</td>\n",
       "      <td>NaN</td>\n",
       "      <td>NaN</td>\n",
       "    </tr>\n",
       "    <tr>\n",
       "      <th>LastMonthCalls</th>\n",
       "      <td>4520.0</td>\n",
       "      <td>NaN</td>\n",
       "      <td>NaN</td>\n",
       "      <td>NaN</td>\n",
       "      <td>4.626991</td>\n",
       "      <td>3.620132</td>\n",
       "      <td>0.0</td>\n",
       "      <td>2.0</td>\n",
       "      <td>3.0</td>\n",
       "      <td>8.0</td>\n",
       "      <td>18.0</td>\n",
       "    </tr>\n",
       "    <tr>\n",
       "      <th>CustCareScore</th>\n",
       "      <td>4468.0</td>\n",
       "      <td>NaN</td>\n",
       "      <td>NaN</td>\n",
       "      <td>NaN</td>\n",
       "      <td>3.067592</td>\n",
       "      <td>1.382968</td>\n",
       "      <td>1.0</td>\n",
       "      <td>2.0</td>\n",
       "      <td>3.0</td>\n",
       "      <td>4.0</td>\n",
       "      <td>5.0</td>\n",
       "    </tr>\n",
       "  </tbody>\n",
       "</table>\n",
       "</div>"
      ],
      "text/plain": [
       "                       count unique          top  freq           mean  \\\n",
       "CustID                4520.0    NaN          NaN   NaN      7002259.5   \n",
       "AgentBonus            4520.0    NaN          NaN   NaN    4077.838274   \n",
       "Age                   4251.0    NaN          NaN   NaN      14.494707   \n",
       "CustTenure            4294.0    NaN          NaN   NaN      14.469027   \n",
       "Channel                 4520      3        Agent  3194            NaN   \n",
       "Occupation              4520      5     Salaried  2192            NaN   \n",
       "EducationField          4520      7     Graduate  1870            NaN   \n",
       "Gender                  4520      3         Male  2688            NaN   \n",
       "ExistingProdType      4520.0    NaN          NaN   NaN       3.688938   \n",
       "Designation             4520      6      Manager  1620            NaN   \n",
       "NumberOfPolicy        4475.0    NaN          NaN   NaN       3.565363   \n",
       "MaritalStatus           4520      4      Married  2268            NaN   \n",
       "MonthlyIncome         4284.0    NaN          NaN   NaN   22890.309991   \n",
       "Complaint             4520.0    NaN          NaN   NaN       0.287168   \n",
       "ExistingPolicyTenure  4336.0    NaN          NaN   NaN       4.130074   \n",
       "SumAssured            4366.0    NaN          NaN   NaN  619999.699267   \n",
       "Zone                    4520      4         West  2566            NaN   \n",
       "PaymentMethod           4520      4  Half Yearly  2656            NaN   \n",
       "LastMonthCalls        4520.0    NaN          NaN   NaN       4.626991   \n",
       "CustCareScore         4468.0    NaN          NaN   NaN       3.067592   \n",
       "\n",
       "                               std        min         25%        50%  \\\n",
       "CustID                 1304.955938  7000000.0  7001129.75  7002259.5   \n",
       "AgentBonus             1403.321711     1605.0     3027.75     3911.5   \n",
       "Age                       9.037629        2.0         7.0       13.0   \n",
       "CustTenure                8.963671        2.0         7.0       13.0   \n",
       "Channel                        NaN        NaN         NaN        NaN   \n",
       "Occupation                     NaN        NaN         NaN        NaN   \n",
       "EducationField                 NaN        NaN         NaN        NaN   \n",
       "Gender                         NaN        NaN         NaN        NaN   \n",
       "ExistingProdType          1.015769        1.0         3.0        4.0   \n",
       "Designation                    NaN        NaN         NaN        NaN   \n",
       "NumberOfPolicy            1.455926        1.0         2.0        4.0   \n",
       "MaritalStatus                  NaN        NaN         NaN        NaN   \n",
       "MonthlyIncome          4885.600757    16009.0     19683.5    21606.0   \n",
       "Complaint                 0.452491        0.0         0.0        0.0   \n",
       "ExistingPolicyTenure      3.346386        1.0         2.0        3.0   \n",
       "SumAssured            246234.82214   168536.0   439443.25   578976.5   \n",
       "Zone                           NaN        NaN         NaN        NaN   \n",
       "PaymentMethod                  NaN        NaN         NaN        NaN   \n",
       "LastMonthCalls            3.620132        0.0         2.0        3.0   \n",
       "CustCareScore             1.382968        1.0         2.0        3.0   \n",
       "\n",
       "                             75%        max  \n",
       "CustID                7003389.25  7004519.0  \n",
       "AgentBonus               4867.25     9608.0  \n",
       "Age                         20.0       58.0  \n",
       "CustTenure                  20.0       57.0  \n",
       "Channel                      NaN        NaN  \n",
       "Occupation                   NaN        NaN  \n",
       "EducationField               NaN        NaN  \n",
       "Gender                       NaN        NaN  \n",
       "ExistingProdType             4.0        6.0  \n",
       "Designation                  NaN        NaN  \n",
       "NumberOfPolicy               5.0        6.0  \n",
       "MaritalStatus                NaN        NaN  \n",
       "MonthlyIncome            24725.0    38456.0  \n",
       "Complaint                    1.0        1.0  \n",
       "ExistingPolicyTenure         6.0       25.0  \n",
       "SumAssured              758236.0  1838496.0  \n",
       "Zone                         NaN        NaN  \n",
       "PaymentMethod                NaN        NaN  \n",
       "LastMonthCalls               8.0       18.0  \n",
       "CustCareScore                4.0        5.0  "
      ]
     },
     "execution_count": 7,
     "metadata": {},
     "output_type": "execute_result"
    }
   ],
   "source": [
    "df.describe(include='all').T"
   ]
  },
  {
   "cell_type": "markdown",
   "id": "ec448eee",
   "metadata": {},
   "source": [
    "Observations :-     \n",
    "This table includes the complete description for all variables.    \n",
    "The description includes variable count, count of unique values,frequency, mean, standard deviation, minimum, 25%, 50%(median), 75%, and maximum values present in the respective variables.     \n",
    "The ‘NaN’ shown is observed for Categorical Variables as a string object cannot have numeric values.  \n",
    "This can be changed by encoding the data in future steps if needed.   \n",
    "There are  missing values shown as the count is not constant for all the variables.       \n",
    "Unique values are shown for only categorical variables which depict count for a specific categories in that variable.    \n",
    "One descripency seen is that Gender shows unque count of 3 , ideally it should be 2 male and female, we will investigate and take neceassaey steps to treat if reqiured in future steps.     \n"
   ]
  },
  {
   "cell_type": "markdown",
   "id": "4a493b9e",
   "metadata": {},
   "source": [
    "# Data Cleaning and Preprocessing"
   ]
  },
  {
   "cell_type": "markdown",
   "id": "f0a7aeb0",
   "metadata": {},
   "source": [
    "## 1. Handle Missing Values"
   ]
  },
  {
   "cell_type": "markdown",
   "id": "b56a7126",
   "metadata": {},
   "source": [
    "Checking count of missing values as per variables "
   ]
  },
  {
   "cell_type": "code",
   "execution_count": 10,
   "id": "25f468d2",
   "metadata": {},
   "outputs": [
    {
     "data": {
      "text/plain": [
       "CustID                    0\n",
       "AgentBonus                0\n",
       "Age                     269\n",
       "CustTenure              226\n",
       "Channel                   0\n",
       "Occupation                0\n",
       "EducationField            0\n",
       "Gender                    0\n",
       "ExistingProdType          0\n",
       "Designation               0\n",
       "NumberOfPolicy           45\n",
       "MaritalStatus             0\n",
       "MonthlyIncome           236\n",
       "Complaint                 0\n",
       "ExistingPolicyTenure    184\n",
       "SumAssured              154\n",
       "Zone                      0\n",
       "PaymentMethod             0\n",
       "LastMonthCalls            0\n",
       "CustCareScore            52\n",
       "dtype: int64"
      ]
     },
     "execution_count": 10,
     "metadata": {},
     "output_type": "execute_result"
    }
   ],
   "source": [
    "df.isna().sum()"
   ]
  },
  {
   "cell_type": "markdown",
   "id": "3528789f",
   "metadata": {},
   "source": [
    "The Missing values can affect the prediction’s hence need to be treated.    \n",
    "We would trreat the  missing values by imputing with the median values in the respective column."
   ]
  },
  {
   "cell_type": "markdown",
   "id": "b751b9c6",
   "metadata": {},
   "source": [
    "Treating the missing values by imputing with median."
   ]
  },
  {
   "cell_type": "code",
   "execution_count": 8,
   "id": "f0b4a6e4",
   "metadata": {},
   "outputs": [],
   "source": [
    "df.fillna(df.median(),inplace=True)"
   ]
  },
  {
   "cell_type": "markdown",
   "id": "99f6079b",
   "metadata": {},
   "source": [
    "checking missing value counts again after treating missing values "
   ]
  },
  {
   "cell_type": "code",
   "execution_count": 9,
   "id": "de7dadeb",
   "metadata": {},
   "outputs": [
    {
     "data": {
      "text/plain": [
       "CustID                  0\n",
       "AgentBonus              0\n",
       "Age                     0\n",
       "CustTenure              0\n",
       "Channel                 0\n",
       "Occupation              0\n",
       "EducationField          0\n",
       "Gender                  0\n",
       "ExistingProdType        0\n",
       "Designation             0\n",
       "NumberOfPolicy          0\n",
       "MaritalStatus           0\n",
       "MonthlyIncome           0\n",
       "Complaint               0\n",
       "ExistingPolicyTenure    0\n",
       "SumAssured              0\n",
       "Zone                    0\n",
       "PaymentMethod           0\n",
       "LastMonthCalls          0\n",
       "CustCareScore           0\n",
       "dtype: int64"
      ]
     },
     "execution_count": 9,
     "metadata": {},
     "output_type": "execute_result"
    }
   ],
   "source": [
    "df.isna().sum()"
   ]
  },
  {
   "cell_type": "markdown",
   "id": "e779384d",
   "metadata": {},
   "source": [
    "All the missing values are treated now."
   ]
  },
  {
   "cell_type": "markdown",
   "id": "e7ee1e0f",
   "metadata": {},
   "source": [
    "## 2. Removing Duplicates"
   ]
  },
  {
   "cell_type": "markdown",
   "id": "192e296f",
   "metadata": {},
   "source": [
    "We will check for any duplicates in data"
   ]
  },
  {
   "cell_type": "code",
   "execution_count": 14,
   "id": "a8e55af7",
   "metadata": {},
   "outputs": [
    {
     "name": "stdout",
     "output_type": "stream",
     "text": [
      "Number of duplicate rows = 0\n"
     ]
    }
   ],
   "source": [
    "dups = df.duplicated()\n",
    "print('Number of duplicate rows = %d' % (dups.sum()))"
   ]
  },
  {
   "cell_type": "markdown",
   "id": "23abe579",
   "metadata": {},
   "source": [
    "There are no duplicates in the data          \n",
    "In case data showd any duplicates, the code to drop duplicates is :-                 \n",
    "**df.drop_duplicates(keep=False)**\n"
   ]
  },
  {
   "cell_type": "markdown",
   "id": "f0b29072",
   "metadata": {},
   "source": [
    "## 3. Data Type Conversion"
   ]
  },
  {
   "cell_type": "code",
   "execution_count": 10,
   "id": "b314b709",
   "metadata": {},
   "outputs": [
    {
     "data": {
      "text/plain": [
       "CustID                    int64\n",
       "AgentBonus                int64\n",
       "Age                     float64\n",
       "CustTenure              float64\n",
       "Channel                  object\n",
       "Occupation               object\n",
       "EducationField           object\n",
       "Gender                   object\n",
       "ExistingProdType          int64\n",
       "Designation              object\n",
       "NumberOfPolicy          float64\n",
       "MaritalStatus            object\n",
       "MonthlyIncome           float64\n",
       "Complaint                 int64\n",
       "ExistingPolicyTenure    float64\n",
       "SumAssured              float64\n",
       "Zone                     object\n",
       "PaymentMethod            object\n",
       "LastMonthCalls            int64\n",
       "CustCareScore           float64\n",
       "dtype: object"
      ]
     },
     "execution_count": 10,
     "metadata": {},
     "output_type": "execute_result"
    }
   ],
   "source": [
    "df.dtypes"
   ]
  },
  {
   "cell_type": "markdown",
   "id": "71d4f27f",
   "metadata": {},
   "source": [
    "Age variablle is in float data type , lets convert in to int for better model results"
   ]
  },
  {
   "cell_type": "code",
   "execution_count": 11,
   "id": "274571a7",
   "metadata": {},
   "outputs": [],
   "source": [
    "df.Age=df.Age.astype('int64')"
   ]
  },
  {
   "cell_type": "markdown",
   "id": "cc2ec6e7",
   "metadata": {},
   "source": [
    "Checking data type for the age variable again "
   ]
  },
  {
   "cell_type": "code",
   "execution_count": 13,
   "id": "05cfbd71",
   "metadata": {},
   "outputs": [
    {
     "data": {
      "text/plain": [
       "dtype('int64')"
      ]
     },
     "execution_count": 13,
     "metadata": {},
     "output_type": "execute_result"
    }
   ],
   "source": [
    "df['Age'].dtype"
   ]
  },
  {
   "cell_type": "markdown",
   "id": "2f086a5f",
   "metadata": {},
   "source": [
    "## 4. Outlier Detection"
   ]
  },
  {
   "cell_type": "code",
   "execution_count": 15,
   "id": "d72977a8",
   "metadata": {},
   "outputs": [],
   "source": [
    "import matplotlib.pyplot as plt  "
   ]
  },
  {
   "cell_type": "markdown",
   "id": "4001d506",
   "metadata": {},
   "source": [
    "#### Note: We will gonna discuss Matplotlib in depth in the upcoming week exploratory data analysis"
   ]
  },
  {
   "cell_type": "markdown",
   "id": "eed5e0eb",
   "metadata": {},
   "source": [
    "Checking outliers in dataset per variable before we treat outliers"
   ]
  },
  {
   "cell_type": "code",
   "execution_count": 19,
   "id": "be31649b",
   "metadata": {},
   "outputs": [
    {
     "data": {
      "image/png": "[encoded data removed]",
      "text/plain": [
       "<Figure size 1000x500 with 1 Axes>"
      ]
     },
     "metadata": {},
     "output_type": "display_data"
    }
   ],
   "source": [
    "df.boxplot(figsize=(10,5))\n",
    "plt.xticks(rotation=45)\n",
    "plt.show()"
   ]
  },
  {
   "cell_type": "markdown",
   "id": "8f5e3c34",
   "metadata": {},
   "source": [
    "The column `SumAssured` has outliers "
   ]
  },
  {
   "cell_type": "code",
   "execution_count": 26,
   "id": "a2e146fd",
   "metadata": {},
   "outputs": [
    {
     "name": "stdout",
     "output_type": "stream",
     "text": [
      "Total numerical Columns =  12\n"
     ]
    }
   ],
   "source": [
    "# First we will seperate the numerical variables in a dataframe df_num\n",
    "df_num = df.select_dtypes(exclude = ['object'])\n",
    "lstnumericcolumns = list(df_num.columns.values)\n",
    "columnnumlen=len(lstnumericcolumns)\n",
    "print(\"Total numerical Columns = \",columnnumlen)"
   ]
  },
  {
   "cell_type": "code",
   "execution_count": 27,
   "id": "87e0c413",
   "metadata": {},
   "outputs": [],
   "source": [
    "# we will first Create a user defined function to treat outliers\n",
    "def remove_outlier(col):\n",
    "    sorted(col)\n",
    "    Q1,Q3=np.percentile(col,[25,75])\n",
    "    IQR=Q3-Q1\n",
    "    lower_range= Q1-(1.5 * IQR)\n",
    "    upper_range= Q3+(1.5 * IQR)\n",
    "    return lower_range, upper_range"
   ]
  },
  {
   "cell_type": "code",
   "execution_count": 28,
   "id": "84959c74",
   "metadata": {},
   "outputs": [],
   "source": [
    "for column in df_num.columns:\n",
    "    lr,ur=remove_outlier(df[column])\n",
    "    df[column]=np.where(df[column]>ur,ur,df[column])\n",
    "    df[column]=np.where(df[column]<lr,lr,df[column])"
   ]
  },
  {
   "cell_type": "code",
   "execution_count": 29,
   "id": "c0a9a982",
   "metadata": {},
   "outputs": [
    {
     "data": {
      "image/png": "[encoded data removed]",
      "text/plain": [
       "<Figure size 1500x700 with 1 Axes>"
      ]
     },
     "metadata": {},
     "output_type": "display_data"
    }
   ],
   "source": [
    "df.boxplot(figsize=(15,7))\n",
    "plt.xticks(rotation=45)\n",
    "plt.show()"
   ]
  },
  {
   "cell_type": "markdown",
   "id": "32601f67",
   "metadata": {},
   "source": [
    "All outliers are treated"
   ]
  },
  {
   "cell_type": "markdown",
   "id": "d3168475",
   "metadata": {},
   "source": [
    "## 5. Encoding"
   ]
  },
  {
   "cell_type": "markdown",
   "id": "0762e7b1",
   "metadata": {},
   "source": [
    "Divide the categorical columns in a new dataframe to make it easy for encoding categorical data"
   ]
  },
  {
   "cell_type": "code",
   "execution_count": 38,
   "id": "2d7b58d0",
   "metadata": {},
   "outputs": [
    {
     "name": "stdout",
     "output_type": "stream",
     "text": [
      "Total Categorical Columns =  8\n"
     ]
    }
   ],
   "source": [
    "df_cat = df.select_dtypes(include = ['object'])\n",
    "print(\"Total Categorical Columns = \",df_cat.shape[1])"
   ]
  },
  {
   "cell_type": "code",
   "execution_count": 39,
   "id": "cede1b55",
   "metadata": {},
   "outputs": [
    {
     "data": {
      "text/html": [
       "<div>\n",
       "<style scoped>\n",
       "    .dataframe tbody tr th:only-of-type {\n",
       "        vertical-align: middle;\n",
       "    }\n",
       "\n",
       "    .dataframe tbody tr th {\n",
       "        vertical-align: top;\n",
       "    }\n",
       "\n",
       "    .dataframe thead th {\n",
       "        text-align: right;\n",
       "    }\n",
       "</style>\n",
       "<table border=\"1\" class=\"dataframe\">\n",
       "  <thead>\n",
       "    <tr style=\"text-align: right;\">\n",
       "      <th></th>\n",
       "      <th>Channel</th>\n",
       "      <th>Occupation</th>\n",
       "      <th>EducationField</th>\n",
       "      <th>Gender</th>\n",
       "      <th>Designation</th>\n",
       "      <th>MaritalStatus</th>\n",
       "      <th>Zone</th>\n",
       "      <th>PaymentMethod</th>\n",
       "    </tr>\n",
       "  </thead>\n",
       "  <tbody>\n",
       "    <tr>\n",
       "      <th>0</th>\n",
       "      <td>Agent</td>\n",
       "      <td>Salaried</td>\n",
       "      <td>Post Graduate</td>\n",
       "      <td>Female</td>\n",
       "      <td>Manager</td>\n",
       "      <td>Single</td>\n",
       "      <td>North</td>\n",
       "      <td>Half Yearly</td>\n",
       "    </tr>\n",
       "    <tr>\n",
       "      <th>1</th>\n",
       "      <td>Third Party Partner</td>\n",
       "      <td>Salaried</td>\n",
       "      <td>Post Graduate</td>\n",
       "      <td>Male</td>\n",
       "      <td>Manager</td>\n",
       "      <td>Divorced</td>\n",
       "      <td>North</td>\n",
       "      <td>Yearly</td>\n",
       "    </tr>\n",
       "    <tr>\n",
       "      <th>2</th>\n",
       "      <td>Agent</td>\n",
       "      <td>Free Lancer</td>\n",
       "      <td>Post Graduate</td>\n",
       "      <td>Male</td>\n",
       "      <td>Exe</td>\n",
       "      <td>Unmarried</td>\n",
       "      <td>North</td>\n",
       "      <td>Yearly</td>\n",
       "    </tr>\n",
       "    <tr>\n",
       "      <th>3</th>\n",
       "      <td>Third Party Partner</td>\n",
       "      <td>Salaried</td>\n",
       "      <td>Post Graduate</td>\n",
       "      <td>Fe male</td>\n",
       "      <td>Executive</td>\n",
       "      <td>Divorced</td>\n",
       "      <td>West</td>\n",
       "      <td>Half Yearly</td>\n",
       "    </tr>\n",
       "    <tr>\n",
       "      <th>4</th>\n",
       "      <td>Agent</td>\n",
       "      <td>Small Business</td>\n",
       "      <td>Under Graduate</td>\n",
       "      <td>Male</td>\n",
       "      <td>Executive</td>\n",
       "      <td>Divorced</td>\n",
       "      <td>West</td>\n",
       "      <td>Half Yearly</td>\n",
       "    </tr>\n",
       "  </tbody>\n",
       "</table>\n",
       "</div>"
      ],
      "text/plain": [
       "               Channel      Occupation  EducationField   Gender Designation  \\\n",
       "0                Agent        Salaried   Post Graduate   Female     Manager   \n",
       "1  Third Party Partner        Salaried   Post Graduate     Male     Manager   \n",
       "2                Agent     Free Lancer   Post Graduate     Male         Exe   \n",
       "3  Third Party Partner        Salaried   Post Graduate  Fe male   Executive   \n",
       "4                Agent  Small Business  Under Graduate     Male   Executive   \n",
       "\n",
       "  MaritalStatus   Zone PaymentMethod  \n",
       "0        Single  North   Half Yearly  \n",
       "1      Divorced  North        Yearly  \n",
       "2     Unmarried  North        Yearly  \n",
       "3      Divorced   West   Half Yearly  \n",
       "4      Divorced   West   Half Yearly  "
      ]
     },
     "execution_count": 39,
     "metadata": {},
     "output_type": "execute_result"
    }
   ],
   "source": [
    "df_cat.head()"
   ]
  },
  {
   "cell_type": "code",
   "execution_count": 47,
   "id": "99d1d315",
   "metadata": {},
   "outputs": [
    {
     "data": {
      "text/plain": [
       "array(['Post Graduate', 'Under Graduate', 'Engineer', 'Diploma', 'MBA'],\n",
       "      dtype=object)"
      ]
     },
     "execution_count": 47,
     "metadata": {},
     "output_type": "execute_result"
    }
   ],
   "source": [
    "df_cat['EducationField'].unique()"
   ]
  },
  {
   "cell_type": "markdown",
   "id": "8af91a4a",
   "metadata": {},
   "source": [
    "### 5.1 One-Hot Encoding"
   ]
  },
  {
   "cell_type": "code",
   "execution_count": 42,
   "id": "5236a15a",
   "metadata": {},
   "outputs": [
    {
     "data": {
      "text/html": [
       "<div>\n",
       "<style scoped>\n",
       "    .dataframe tbody tr th:only-of-type {\n",
       "        vertical-align: middle;\n",
       "    }\n",
       "\n",
       "    .dataframe tbody tr th {\n",
       "        vertical-align: top;\n",
       "    }\n",
       "\n",
       "    .dataframe thead th {\n",
       "        text-align: right;\n",
       "    }\n",
       "</style>\n",
       "<table border=\"1\" class=\"dataframe\">\n",
       "  <thead>\n",
       "    <tr style=\"text-align: right;\">\n",
       "      <th></th>\n",
       "      <th>Channel_Online</th>\n",
       "      <th>Channel_Third Party Partner</th>\n",
       "      <th>Occupation_Large Business</th>\n",
       "      <th>Occupation_Salaried</th>\n",
       "      <th>Occupation_Small Business</th>\n",
       "      <th>EducationField_Engineer</th>\n",
       "      <th>EducationField_MBA</th>\n",
       "      <th>EducationField_Post Graduate</th>\n",
       "      <th>EducationField_Under Graduate</th>\n",
       "      <th>Gender_Female</th>\n",
       "      <th>...</th>\n",
       "      <th>Designation_VP</th>\n",
       "      <th>MaritalStatus_Married</th>\n",
       "      <th>MaritalStatus_Single</th>\n",
       "      <th>MaritalStatus_Unmarried</th>\n",
       "      <th>Zone_North</th>\n",
       "      <th>Zone_South</th>\n",
       "      <th>Zone_West</th>\n",
       "      <th>PaymentMethod_Monthly</th>\n",
       "      <th>PaymentMethod_Quarterly</th>\n",
       "      <th>PaymentMethod_Yearly</th>\n",
       "    </tr>\n",
       "  </thead>\n",
       "  <tbody>\n",
       "    <tr>\n",
       "      <th>0</th>\n",
       "      <td>0</td>\n",
       "      <td>0</td>\n",
       "      <td>0</td>\n",
       "      <td>1</td>\n",
       "      <td>0</td>\n",
       "      <td>0</td>\n",
       "      <td>0</td>\n",
       "      <td>1</td>\n",
       "      <td>0</td>\n",
       "      <td>1</td>\n",
       "      <td>...</td>\n",
       "      <td>0</td>\n",
       "      <td>0</td>\n",
       "      <td>1</td>\n",
       "      <td>0</td>\n",
       "      <td>1</td>\n",
       "      <td>0</td>\n",
       "      <td>0</td>\n",
       "      <td>0</td>\n",
       "      <td>0</td>\n",
       "      <td>0</td>\n",
       "    </tr>\n",
       "    <tr>\n",
       "      <th>1</th>\n",
       "      <td>0</td>\n",
       "      <td>1</td>\n",
       "      <td>0</td>\n",
       "      <td>1</td>\n",
       "      <td>0</td>\n",
       "      <td>0</td>\n",
       "      <td>0</td>\n",
       "      <td>1</td>\n",
       "      <td>0</td>\n",
       "      <td>0</td>\n",
       "      <td>...</td>\n",
       "      <td>0</td>\n",
       "      <td>0</td>\n",
       "      <td>0</td>\n",
       "      <td>0</td>\n",
       "      <td>1</td>\n",
       "      <td>0</td>\n",
       "      <td>0</td>\n",
       "      <td>0</td>\n",
       "      <td>0</td>\n",
       "      <td>1</td>\n",
       "    </tr>\n",
       "    <tr>\n",
       "      <th>2</th>\n",
       "      <td>0</td>\n",
       "      <td>0</td>\n",
       "      <td>0</td>\n",
       "      <td>0</td>\n",
       "      <td>0</td>\n",
       "      <td>0</td>\n",
       "      <td>0</td>\n",
       "      <td>1</td>\n",
       "      <td>0</td>\n",
       "      <td>0</td>\n",
       "      <td>...</td>\n",
       "      <td>0</td>\n",
       "      <td>0</td>\n",
       "      <td>0</td>\n",
       "      <td>1</td>\n",
       "      <td>1</td>\n",
       "      <td>0</td>\n",
       "      <td>0</td>\n",
       "      <td>0</td>\n",
       "      <td>0</td>\n",
       "      <td>1</td>\n",
       "    </tr>\n",
       "    <tr>\n",
       "      <th>3</th>\n",
       "      <td>0</td>\n",
       "      <td>1</td>\n",
       "      <td>0</td>\n",
       "      <td>1</td>\n",
       "      <td>0</td>\n",
       "      <td>0</td>\n",
       "      <td>0</td>\n",
       "      <td>1</td>\n",
       "      <td>0</td>\n",
       "      <td>0</td>\n",
       "      <td>...</td>\n",
       "      <td>0</td>\n",
       "      <td>0</td>\n",
       "      <td>0</td>\n",
       "      <td>0</td>\n",
       "      <td>0</td>\n",
       "      <td>0</td>\n",
       "      <td>1</td>\n",
       "      <td>0</td>\n",
       "      <td>0</td>\n",
       "      <td>0</td>\n",
       "    </tr>\n",
       "    <tr>\n",
       "      <th>4</th>\n",
       "      <td>0</td>\n",
       "      <td>0</td>\n",
       "      <td>0</td>\n",
       "      <td>0</td>\n",
       "      <td>1</td>\n",
       "      <td>0</td>\n",
       "      <td>0</td>\n",
       "      <td>0</td>\n",
       "      <td>1</td>\n",
       "      <td>0</td>\n",
       "      <td>...</td>\n",
       "      <td>0</td>\n",
       "      <td>0</td>\n",
       "      <td>0</td>\n",
       "      <td>0</td>\n",
       "      <td>0</td>\n",
       "      <td>0</td>\n",
       "      <td>1</td>\n",
       "      <td>0</td>\n",
       "      <td>0</td>\n",
       "      <td>0</td>\n",
       "    </tr>\n",
       "  </tbody>\n",
       "</table>\n",
       "<p>5 rows × 25 columns</p>\n",
       "</div>"
      ],
      "text/plain": [
       "   Channel_Online  Channel_Third Party Partner  Occupation_Large Business  \\\n",
       "0               0                            0                          0   \n",
       "1               0                            1                          0   \n",
       "2               0                            0                          0   \n",
       "3               0                            1                          0   \n",
       "4               0                            0                          0   \n",
       "\n",
       "   Occupation_Salaried  Occupation_Small Business  EducationField_Engineer  \\\n",
       "0                    1                          0                        0   \n",
       "1                    1                          0                        0   \n",
       "2                    0                          0                        0   \n",
       "3                    1                          0                        0   \n",
       "4                    0                          1                        0   \n",
       "\n",
       "   EducationField_MBA  EducationField_Post Graduate  \\\n",
       "0                   0                             1   \n",
       "1                   0                             1   \n",
       "2                   0                             1   \n",
       "3                   0                             1   \n",
       "4                   0                             0   \n",
       "\n",
       "   EducationField_Under Graduate  Gender_Female  ...  Designation_VP  \\\n",
       "0                              0              1  ...               0   \n",
       "1                              0              0  ...               0   \n",
       "2                              0              0  ...               0   \n",
       "3                              0              0  ...               0   \n",
       "4                              1              0  ...               0   \n",
       "\n",
       "   MaritalStatus_Married  MaritalStatus_Single  MaritalStatus_Unmarried  \\\n",
       "0                      0                     1                        0   \n",
       "1                      0                     0                        0   \n",
       "2                      0                     0                        1   \n",
       "3                      0                     0                        0   \n",
       "4                      0                     0                        0   \n",
       "\n",
       "   Zone_North  Zone_South  Zone_West  PaymentMethod_Monthly  \\\n",
       "0           1           0          0                      0   \n",
       "1           1           0          0                      0   \n",
       "2           1           0          0                      0   \n",
       "3           0           0          1                      0   \n",
       "4           0           0          1                      0   \n",
       "\n",
       "   PaymentMethod_Quarterly  PaymentMethod_Yearly  \n",
       "0                        0                     0  \n",
       "1                        0                     1  \n",
       "2                        0                     1  \n",
       "3                        0                     0  \n",
       "4                        0                     0  \n",
       "\n",
       "[5 rows x 25 columns]"
      ]
     },
     "execution_count": 42,
     "metadata": {},
     "output_type": "execute_result"
    }
   ],
   "source": [
    "one_hot = pd.get_dummies(df_cat,drop_first=True)\n",
    "one_hot.head()"
   ]
  },
  {
   "cell_type": "markdown",
   "id": "337c5eb7",
   "metadata": {},
   "source": [
    "### 5.2 Label Encoding"
   ]
  },
  {
   "cell_type": "code",
   "execution_count": 48,
   "id": "d84be065",
   "metadata": {},
   "outputs": [
    {
     "name": "stdout",
     "output_type": "stream",
     "text": [
      "[3 4 1 0 2]\n"
     ]
    }
   ],
   "source": [
    "from sklearn.preprocessing import LabelEncoder\n",
    "\n",
    "label_enc = ['Post Graduate', 'Under Graduate', 'Engineer', 'Diploma', 'MBA']\n",
    "\n",
    "# Initialize the LabelEncoder\n",
    "encoder = LabelEncoder()\n",
    "\n",
    "# Fit and transform the data\n",
    "encoded_data = encoder.fit_transform(label_enc)\n",
    "\n",
    "print(encoded_data)"
   ]
  },
  {
   "cell_type": "markdown",
   "id": "87d43157",
   "metadata": {},
   "source": [
    "## 6. Feature Scaling"
   ]
  },
  {
   "cell_type": "code",
   "execution_count": 56,
   "id": "160e2c12",
   "metadata": {},
   "outputs": [
    {
     "data": {
      "text/plain": [
       "count    4520.000000\n",
       "mean     4062.773894\n",
       "std      1358.284526\n",
       "min      1605.000000\n",
       "25%      3027.750000\n",
       "50%      3911.500000\n",
       "75%      4867.250000\n",
       "max      7626.500000\n",
       "Name: AgentBonus, dtype: float64"
      ]
     },
     "execution_count": 56,
     "metadata": {},
     "output_type": "execute_result"
    }
   ],
   "source": [
    "df['AgentBonus'].describe()"
   ]
  },
  {
   "cell_type": "markdown",
   "id": "ddaed50e",
   "metadata": {},
   "source": [
    "If you notice, the range of values in the column `AgentBonus` from 1605 to 7627 which brings huge difference between the range of values in other variables in the dataset. To avoid that, lets scale `AgentBonus` column in the same range of other variables"
   ]
  },
  {
   "cell_type": "markdown",
   "id": "9b74856c",
   "metadata": {},
   "source": [
    "### 6.1 Normalization"
   ]
  },
  {
   "cell_type": "code",
   "execution_count": 54,
   "id": "d8ddf863",
   "metadata": {},
   "outputs": [
    {
     "name": "stdout",
     "output_type": "stream",
     "text": [
      "Normalized data:\n",
      "[[0.4656647 ]\n",
      " [0.10113759]\n",
      " [0.44307897]\n",
      " ...\n",
      " [0.36319854]\n",
      " [0.53325583]\n",
      " [0.52462011]]\n"
     ]
    }
   ],
   "source": [
    "from sklearn.preprocessing import MinMaxScaler\n",
    "import numpy as np\n",
    "\n",
    "age_scale = df[['AgentBonus']]\n",
    "\n",
    "# Initialize the MinMaxScaler\n",
    "scaler = MinMaxScaler()\n",
    "\n",
    "# Fit and transform the data\n",
    "normalized_data = scaler.fit_transform(age_scale)\n",
    "\n",
    "print(\"Normalized data:\")\n",
    "print(normalized_data)"
   ]
  },
  {
   "cell_type": "markdown",
   "id": "968d1b52",
   "metadata": {},
   "source": [
    "Note:  \\\n",
    "    1. Normalization scales the features to a fixed range, typically [0, 1]. It is useful when the features have different scales and the algorithm being used assumes that the features are on the same scale. \\\n",
    "    2. For each feature, normalization subtracts the minimum value of the feature and then divides by the range (max value - min value).\\\n",
    "    3. Normalization can be sensitive to outliers since it's based on the minimum and maximum values of the features."
   ]
  },
  {
   "cell_type": "markdown",
   "id": "c7ab0467",
   "metadata": {},
   "source": [
    "### 6.2 Standardization"
   ]
  },
  {
   "cell_type": "code",
   "execution_count": 58,
   "id": "ebec393c",
   "metadata": {},
   "outputs": [
    {
     "name": "stdout",
     "output_type": "stream",
     "text": [
      "Standardized data:\n",
      "[[ 0.25492775]\n",
      " [-1.36126003]\n",
      " [ 0.15479037]\n",
      " ...\n",
      " [-0.19937196]\n",
      " [ 0.55460357]\n",
      " [ 0.51631575]]\n"
     ]
    }
   ],
   "source": [
    "from sklearn.preprocessing import StandardScaler\n",
    "import numpy as np\n",
    "\n",
    "age_scale = df[['AgentBonus']]\n",
    "\n",
    "# Initialize the StandardScaler\n",
    "scaler = StandardScaler()\n",
    "\n",
    "# Fit and transform the data\n",
    "standardized_data = scaler.fit_transform(age_scale)\n",
    "\n",
    "print(\"Standardized data:\")\n",
    "print(standardized_data)"
   ]
  },
  {
   "cell_type": "markdown",
   "id": "76283eb9",
   "metadata": {},
   "source": [
    "Note: \\\n",
    "    1. Standardization transforms the features to have a mean of 0 and a standard deviation of 1. It is useful when the features have different scales and the algorithm being used does not make assumptions about the distribution of the features. \\\n",
    "    2. For each feature, standardization subtracts the mean of the feature and then divides by the standard deviation of the feature. \\\n",
    "    3. Standardization is less affected by outliers compared to normalization because it uses the mean and standard deviation, which are less influenced by extreme values."
   ]
  }
 ],
 "metadata": {
  "kernelspec": {
   "display_name": "Python 3 (ipykernel)",
   "language": "python",
   "name": "python3"
  },
  "language_info": {
   "codemirror_mode": {
    "name": "ipython",
    "version": 3
   },
   "file_extension": ".py",
   "mimetype": "text/x-python",
   "name": "python",
   "nbconvert_exporter": "python",
   "pygments_lexer": "ipython3",
   "version": "3.9.7"
  }
 },
 "nbformat": 4,
 "nbformat_minor": 5
}
