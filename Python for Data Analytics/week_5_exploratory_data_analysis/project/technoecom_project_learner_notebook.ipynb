{
 "cells": [
  {
   "cell_type": "markdown",
   "metadata": {
    "id": "5Fc60oI6m6uD"
   },
   "source": [
    "# Technoecom: Digital Transformation - Project 1"
   ]
  },
  {
   "cell_type": "markdown",
   "metadata": {
    "id": "dTZOe75Um6uF"
   },
   "source": [
    "### Business Context:\n",
    "In the contemporary era, electronic devices have become an integral part of everyday life, ranging from basic LED lights to cutting-edge laptops and 4K televisions. With such widespread demand for these products, many entrepreneurs have ventured into the electronic goods and services sector. Technoecom stands out as one of Australia's premier direct-to-consumer retailers in this domain. Offering an extensive array of over 500 top-notch electronic products sourced from global manufacturers, the company caters to diverse consumer needs across various categories.\n",
    "\n",
    "Their product range spans gaming devices, accessories, wireless speakers, smartphones, laptop peripherals, entertainment systems, and high-end home appliances from luxury brands. Operating in more than 10 cities, Technoecom ensures nationwide accessibility by delivering products directly to customers' doorsteps.\n",
    "\n",
    "In a strategic move towards digital transformation, the company has recently launched its e-commerce platform. This initiative aims to pilot sales and delivery operations through the online platform for a duration of three months, reflecting their commitment to staying at the forefront of technological advancements in retail.\n",
    "\n",
    "### Problem Statement:\n",
    "Transitioning to conducting business via an e-commerce platform has proven to be a challenging endeavor. Over the course of the past three months, Technoecom has encountered numerous obstacles spanning different areas, including payment methods, order volume, geographical coverage, expedited shipping, and customer satisfaction. Now, the company is seeking to assess the feasibility of expanding this digital transformation to additional cities and to evaluate the revenue generated from this pilot program.\n",
    "\n",
    "### Objective:\n",
    "The Chief Experience Officer (CXO) is keen on enhancing monitoring and diagnostic capabilities to ensure the company makes informed decisions. As the analytics lead, your role is to conduct data preprocessing and exploratory data analysis (EDA) to gain insights into the digital transformation initiative and submit a detailed analysis report. This report will provide the necessary information for the CXO to make informed decisions regarding the potential expansion of this digital transformation to other cities. "
   ]
  },
  {
   "cell_type": "markdown",
   "metadata": {
    "id": "9tRIjr4im6uI"
   },
   "source": [
    "## Importing the required libraries"
   ]
  },
  {
   "cell_type": "code",
   "execution_count": 3,
   "metadata": {
    "id": "lPv3wfMGm6uJ"
   },
   "outputs": [],
   "source": [
    "# write you are code here "
   ]
  },
  {
   "cell_type": "markdown",
   "metadata": {
    "id": "PQ3NUa4mm6uM"
   },
   "source": [
    "## Dataset Import"
   ]
  },
  {
   "cell_type": "markdown",
   "metadata": {
    "id": "3OoEi3KQBk0C"
   },
   "source": [
    "Run the code written below. After running the code, Google Colab will ask you to upload the.csv file. Please upload the same."
   ]
  },
  {
   "cell_type": "code",
   "execution_count": null,
   "metadata": {
    "colab": {
     "base_uri": "https://localhost:8080/",
     "height": 344,
     "resources": {
      "http://localhost:8080/nbextensions/google.colab/files.js": {
       "data": "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",
       "headers": [
        [
         "content-type",
         "application/javascript"
        ]
       ],
       "ok": true,
       "status": 200,
       "status_text": ""
      }
     }
    },
    "executionInfo": {
     "elapsed": 13340,
     "status": "ok",
     "timestamp": 1656003506609,
     "user": {
      "displayName": "Shubham Prakash",
      "userId": "11995775202729319980"
     },
     "user_tz": -330
    },
    "id": "viGSxT42m6uN",
    "outputId": "054b781c-9473-4014-8ec2-b6e9d7817805",
    "scrolled": true
   },
   "outputs": [],
   "source": [
    "# write you are code here "
   ]
  },
  {
   "cell_type": "markdown",
   "metadata": {
    "id": "1e86HPuP_PLD"
   },
   "source": [
    "## Understand the data"
   ]
  },
  {
   "cell_type": "markdown",
   "metadata": {
    "id": "bKndbICMm6uT"
   },
   "source": [
    "#### **Question 1:** How many rows and columns are present in the data?"
   ]
  },
  {
   "cell_type": "code",
   "execution_count": null,
   "metadata": {
    "colab": {
     "base_uri": "https://localhost:8080/"
    },
    "executionInfo": {
     "elapsed": 614,
     "status": "ok",
     "timestamp": 1656003510884,
     "user": {
      "displayName": "Shubham Prakash",
      "userId": "11995775202729319980"
     },
     "user_tz": -330
    },
    "id": "ABFUnFLUm6uW",
    "outputId": "02a9deb4-9326-4b2f-a0a1-4386a4f0dc4b"
   },
   "outputs": [],
   "source": [
    "# write you are code here "
   ]
  },
  {
   "cell_type": "markdown",
   "metadata": {
    "id": "KmfVNFUXm6uY"
   },
   "source": [
    "#### **Question 2:** What are the datatypes of the different columns in the dataset? "
   ]
  },
  {
   "cell_type": "code",
   "execution_count": null,
   "metadata": {
    "colab": {
     "base_uri": "https://localhost:8080/"
    },
    "executionInfo": {
     "elapsed": 4,
     "status": "ok",
     "timestamp": 1656003512800,
     "user": {
      "displayName": "Shubham Prakash",
      "userId": "11995775202729319980"
     },
     "user_tz": -330
    },
    "id": "8E_D494tm6uZ",
    "outputId": "1d1fd742-94b8-4fbd-f468-f8eeab1f8f8c"
   },
   "outputs": [],
   "source": [
    "# write you are code here "
   ]
  },
  {
   "cell_type": "markdown",
   "metadata": {
    "id": "iTq8Zu8AxslZ"
   },
   "source": [
    "## Data Preprocessing"
   ]
  },
  {
   "cell_type": "markdown",
   "metadata": {
    "id": "_0d7ANtD_PLF"
   },
   "source": [
    "### Missing value Identification and Treatment"
   ]
  },
  {
   "cell_type": "markdown",
   "metadata": {
    "id": "JW4_u6TLm6ub"
   },
   "source": [
    "#### **Question 3:** Are there any missing values in the data? If so, treat them using an appropriate method."
   ]
  },
  {
   "cell_type": "code",
   "execution_count": null,
   "metadata": {
    "colab": {
     "base_uri": "https://localhost:8080/"
    },
    "executionInfo": {
     "elapsed": 620,
     "status": "ok",
     "timestamp": 1656003517280,
     "user": {
      "displayName": "Shubham Prakash",
      "userId": "11995775202729319980"
     },
     "user_tz": -330
    },
    "id": "SYgzlPK_m6uc",
    "outputId": "fab7dede-3682-4966-eef1-22f9b9ba710a"
   },
   "outputs": [],
   "source": [
    "# write you are code here "
   ]
  },
  {
   "cell_type": "markdown",
   "metadata": {
    "id": "EKq5NfLeQ3GE"
   },
   "source": [
    "#### **Question 4:** Check the statistical summary of the data."
   ]
  },
  {
   "cell_type": "code",
   "execution_count": null,
   "metadata": {
    "colab": {
     "base_uri": "https://localhost:8080/",
     "height": 237
    },
    "executionInfo": {
     "elapsed": 519,
     "status": "ok",
     "timestamp": 1656003530736,
     "user": {
      "displayName": "Shubham Prakash",
      "userId": "11995775202729319980"
     },
     "user_tz": -330
    },
    "id": "FM7o6Dqdm6uf",
    "outputId": "010249a8-5098-4047-e080-398879b64058"
   },
   "outputs": [],
   "source": [
    "# write you are code here "
   ]
  },
  {
   "cell_type": "markdown",
   "metadata": {
    "id": "FQSI3GV8_PLI"
   },
   "source": [
    "#### Question 5: Are there duplicates in the dataset, if so please treat them"
   ]
  },
  {
   "cell_type": "code",
   "execution_count": null,
   "metadata": {},
   "outputs": [],
   "source": [
    "# write you are code here "
   ]
  },
  {
   "cell_type": "markdown",
   "metadata": {
    "id": "CalgQcGo_PLI"
   },
   "source": [
    "## Data Treatment"
   ]
  },
  {
   "cell_type": "markdown",
   "metadata": {
    "id": "bZAc8KjB_PLI"
   },
   "source": [
    "#### Let's check if there is any discrepancy in the values in the following columns: 'occupation' and 'education'."
   ]
  },
  {
   "cell_type": "code",
   "execution_count": null,
   "metadata": {
    "colab": {
     "base_uri": "https://localhost:8080/"
    },
    "executionInfo": {
     "elapsed": 6,
     "status": "ok",
     "timestamp": 1656003534457,
     "user": {
      "displayName": "Shubham Prakash",
      "userId": "11995775202729319980"
     },
     "user_tz": -330
    },
    "id": "4lEiFyof_PLI",
    "outputId": "321a971c-ccde-460b-cafa-0d27bf01b5e6"
   },
   "outputs": [],
   "source": [
    "# write you are code here "
   ]
  },
  {
   "cell_type": "markdown",
   "metadata": {
    "id": "KyJ2ySR8Tmoy"
   },
   "source": [
    "* Replace '?' in education with 'Unknown'\n",
    "* Replace 'Blue-collar' with 'Blue Collar' in occupation\n",
    "\n"
   ]
  },
  {
   "cell_type": "code",
   "execution_count": null,
   "metadata": {},
   "outputs": [],
   "source": [
    "# write you are code here "
   ]
  },
  {
   "cell_type": "markdown",
   "metadata": {
    "id": "yzg6ATCym6um"
   },
   "source": [
    "## Exploratory Data Analysis (EDA)\n",
    "#### Now, after handling the missing values and also checking the data types, let's visualise the dataset."
   ]
  },
  {
   "cell_type": "markdown",
   "metadata": {
    "id": "f7GPrL1Rm6um"
   },
   "source": [
    "### Univariate Analysis"
   ]
  },
  {
   "cell_type": "markdown",
   "metadata": {
    "id": "nPGJLr1uHuYA"
   },
   "source": [
    "Perform univariate and bivariate analyses on different columns of the data and write the observations that you got from the charts and plots"
   ]
  },
  {
   "cell_type": "code",
   "execution_count": null,
   "metadata": {},
   "outputs": [],
   "source": [
    "# write you are code here "
   ]
  },
  {
   "cell_type": "markdown",
   "metadata": {
    "id": "QS_1qI74_PLY"
   },
   "source": [
    "### Bivariate Analysis\n"
   ]
  },
  {
   "cell_type": "markdown",
   "metadata": {
    "id": "Lj-g5W8Jm6vI",
    "outputId": "3c072052-ec56-4a49-ff28-3bf8c2c0d4a5",
    "scrolled": true
   },
   "source": [
    "Do the bivariate analysis between column name - \"customer_satisfaction\" and different integer and categorical variables and write down the observations"
   ]
  },
  {
   "cell_type": "code",
   "execution_count": null,
   "metadata": {},
   "outputs": [],
   "source": [
    "# write you are code here "
   ]
  },
  {
   "cell_type": "markdown",
   "metadata": {},
   "source": [
    "## Outlier Treatment\n",
    "Identify the columns in the dataset with the help of plots that was displayed above are required to treat outliers"
   ]
  },
  {
   "cell_type": "code",
   "execution_count": null,
   "metadata": {},
   "outputs": [],
   "source": [
    "# write you are code here "
   ]
  },
  {
   "cell_type": "markdown",
   "metadata": {
    "id": "ZvMVvk4s_PLh"
   },
   "source": [
    "## Answer the following business questions based upon the data"
   ]
  },
  {
   "cell_type": "markdown",
   "metadata": {
    "id": "3eMa39du_PLk"
   },
   "source": [
    "##### [Q1] What is the revenue across each warehouse?"
   ]
  },
  {
   "cell_type": "code",
   "execution_count": null,
   "metadata": {
    "colab": {
     "base_uri": "https://localhost:8080/"
    },
    "executionInfo": {
     "elapsed": 376,
     "status": "ok",
     "timestamp": 1656006672214,
     "user": {
      "displayName": "Shubham Prakash",
      "userId": "11995775202729319980"
     },
     "user_tz": -330
    },
    "id": "R93rPPhKVx4B",
    "outputId": "88007eaf-ae5f-4629-a786-0c509a804e8c"
   },
   "outputs": [],
   "source": [
    "# write you are code here "
   ]
  },
  {
   "cell_type": "markdown",
   "metadata": {
    "id": "KPEXD3JDUa_K"
   },
   "source": [
    "##### [Q2] What is the distribution of orders across different months?"
   ]
  },
  {
   "cell_type": "code",
   "execution_count": null,
   "metadata": {},
   "outputs": [],
   "source": [
    "# write you are code here "
   ]
  },
  {
   "cell_type": "markdown",
   "metadata": {
    "id": "p1WPKwYs_PLk"
   },
   "source": [
    "##### [Q3] What is the revenue generated across various months?"
   ]
  },
  {
   "cell_type": "code",
   "execution_count": null,
   "metadata": {},
   "outputs": [],
   "source": [
    "# write you are code here "
   ]
  },
  {
   "cell_type": "markdown",
   "metadata": {
    "id": "oa7QMzh3YVOM"
   },
   "source": [
    "##### [Q4] What is the customer satisfaction distribution across different coupon discounts?"
   ]
  },
  {
   "cell_type": "code",
   "execution_count": null,
   "metadata": {
    "colab": {
     "base_uri": "https://localhost:8080/",
     "height": 285
    },
    "executionInfo": {
     "elapsed": 46,
     "status": "ok",
     "timestamp": 1656006676839,
     "user": {
      "displayName": "Shubham Prakash",
      "userId": "11995775202729319980"
     },
     "user_tz": -330
    },
    "id": "LUqxcTa7gXR_",
    "outputId": "3164bfcc-51b7-4b8c-ded4-1b5ea42713b3"
   },
   "outputs": [],
   "source": [
    "# write you are code here "
   ]
  },
  {
   "cell_type": "markdown",
   "metadata": {
    "id": "toItl7C25ffI"
   },
   "source": [
    "## Power Ahead!"
   ]
  }
 ],
 "metadata": {
  "colab": {
   "collapsed_sections": [],
   "name": "AlphaKart_Milestone2_Solution_Notebook_v1.ipynb",
   "provenance": [
    {
     "file_id": "1OISZX6E7lYhZweVu4ccBCXXq9Nc_EXxm",
     "timestamp": 1655911922096
    }
   ]
  },
  "kernelspec": {
   "display_name": "Python 3 (ipykernel)",
   "language": "python",
   "name": "python3"
  },
  "language_info": {
   "codemirror_mode": {
    "name": "ipython",
    "version": 3
   },
   "file_extension": ".py",
   "mimetype": "text/x-python",
   "name": "python",
   "nbconvert_exporter": "python",
   "pygments_lexer": "ipython3",
   "version": "3.9.7"
  }
 },
 "nbformat": 4,
 "nbformat_minor": 1
}
