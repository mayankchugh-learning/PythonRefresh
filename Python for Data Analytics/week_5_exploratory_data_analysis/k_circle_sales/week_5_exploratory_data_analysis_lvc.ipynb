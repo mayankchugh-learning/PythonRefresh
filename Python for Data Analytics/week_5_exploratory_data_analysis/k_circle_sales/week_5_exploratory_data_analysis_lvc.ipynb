{
 "cells": [
  {
   "cell_type": "markdown",
   "metadata": {},
   "source": [
    "# Week 5: Exploratory Data Analysis - LVC "
   ]
  },
  {
   "cell_type": "markdown",
   "metadata": {
    "id": "ZyOQYhpUWcDR"
   },
   "source": [
    "<a id=\"eda\"></a>\n",
    "## 1. What is Exploratory Data Analysis?"
   ]
  },
  {
   "cell_type": "markdown",
   "metadata": {
    "id": "oN53Cip2WcDS"
   },
   "source": [
    "Exploratory data analysis is an important step in any research analysis. It searches for patterns and relationships in the data. In other words, we may explain EDA as a process to summarise the crucial characteristics of the data to get better insights.<br>\n",
    "We explore each dataset using multiple techniques and compare the results"
   ]
  },
  {
   "cell_type": "markdown",
   "metadata": {
    "id": "bs7y_-f6WcDT"
   },
   "source": [
    "**Data analysis is divided into the following parts:**\n",
    "\n",
    "### 1. Descriptive Statistics:\n",
    "\n",
    "Descriptive statistics summarize a given data set. It includes measures of central tendency, measures of variation and distribution of the data.\n",
    "<br> The **measures of central tendency** include the mean, median, and mode, while **measures of variability** include the standard deviation, variance, the coefficient of variation, and so on.\n",
    "\n",
    "### 2. Inferential Statistics:\n",
    "Inferential statistics are procedures that help in making inferences about a population based on findings from a sample.<br>\n",
    "It includes **testing of hypothesis** and **parameter estimation**. It allows us to infer parameters of the population based on sample and build models on it.\n"
   ]
  },
  {
   "cell_type": "markdown",
   "metadata": {
    "id": "LU1ac4CZWcDT"
   },
   "source": [
    "### What are Population and Sample?\n",
    "The population is a complete set of elements having some common characteristics selected for a research study.<br>\n",
    "A sample is a set of randomly chosen observations from a population. Samples are drawn from the population when a dataset is large since it is challenging to study the whole population. We draw a sample when the item under study is feared to exhaust. For instance,<br> \n",
    "<ul>\n",
    "    <li>the study of the durability of an electric bulb </li>\n",
    "        <li>the study of the effectiveness of new medicine</li>\n",
    "</ul> "
   ]
  },
  {
   "cell_type": "markdown",
   "metadata": {
    "id": "vJsesXu0WcDU"
   },
   "source": [
    "<a id=\"data\"></a>\n",
    "## 2. Working with a Dataset"
   ]
  },
  {
   "cell_type": "code",
   "execution_count": 1,
   "metadata": {
    "id": "xbnqPsWZNxxg"
   },
   "outputs": [],
   "source": [
    "import pandas as pd\n",
    "import numpy as np\n",
    "from warnings import filterwarnings\n",
    "filterwarnings('ignore')"
   ]
  },
  {
   "cell_type": "markdown",
   "metadata": {
    "id": "HBM4PM1uWcDV"
   },
   "source": [
    "<a id=\"read_data\"> </a>\n",
    "## 2.1 Read the data\n",
    "\n",
    "We are using the `k-circlesales` dataset. Let us explore the data with some statistical metrics.\n"
   ]
  },
  {
   "cell_type": "code",
   "execution_count": 3,
   "metadata": {
    "id": "vCKwk_gzNxxh",
    "outputId": "7c6a9471-966c-4d69-ed3b-3b7996295f02",
    "scrolled": true
   },
   "outputs": [
    {
     "data": {
      "text/html": [
       "<div>\n",
       "<style scoped>\n",
       "    .dataframe tbody tr th:only-of-type {\n",
       "        vertical-align: middle;\n",
       "    }\n",
       "\n",
       "    .dataframe tbody tr th {\n",
       "        vertical-align: top;\n",
       "    }\n",
       "\n",
       "    .dataframe thead th {\n",
       "        text-align: right;\n",
       "    }\n",
       "</style>\n",
       "<table border=\"1\" class=\"dataframe\">\n",
       "  <thead>\n",
       "    <tr style=\"text-align: right;\">\n",
       "      <th></th>\n",
       "      <th>Item_Identifier</th>\n",
       "      <th>Item_Weight</th>\n",
       "      <th>Item_Fat_Content</th>\n",
       "      <th>Item_Visibility</th>\n",
       "      <th>Item_Type</th>\n",
       "      <th>Item_MRP</th>\n",
       "      <th>Outlet_Identifier</th>\n",
       "      <th>Outlet_Establishment_Year</th>\n",
       "      <th>Outlet_Size</th>\n",
       "      <th>Outlet_Location_Type</th>\n",
       "      <th>Outlet_Type</th>\n",
       "      <th>Item_Outlet_Sales</th>\n",
       "      <th>Profit</th>\n",
       "    </tr>\n",
       "  </thead>\n",
       "  <tbody>\n",
       "    <tr>\n",
       "      <th>0</th>\n",
       "      <td>FDA15</td>\n",
       "      <td>9.30</td>\n",
       "      <td>Low Fat</td>\n",
       "      <td>0.016047</td>\n",
       "      <td>Dairy</td>\n",
       "      <td>249.8</td>\n",
       "      <td>OUT049</td>\n",
       "      <td>1999</td>\n",
       "      <td>Medium</td>\n",
       "      <td>Tier 2</td>\n",
       "      <td>Supermarket Type1</td>\n",
       "      <td>3735.1380</td>\n",
       "      <td>11.5</td>\n",
       "    </tr>\n",
       "    <tr>\n",
       "      <th>1</th>\n",
       "      <td>DRC01</td>\n",
       "      <td>5.92</td>\n",
       "      <td>Regular</td>\n",
       "      <td>0.019278</td>\n",
       "      <td>Soft Drinks</td>\n",
       "      <td>48.3</td>\n",
       "      <td>OUT018</td>\n",
       "      <td>2009</td>\n",
       "      <td>Medium</td>\n",
       "      <td>Tier 2</td>\n",
       "      <td>Supermarket Type2</td>\n",
       "      <td>443.4228</td>\n",
       "      <td>14.3</td>\n",
       "    </tr>\n",
       "    <tr>\n",
       "      <th>2</th>\n",
       "      <td>FDN15</td>\n",
       "      <td>17.50</td>\n",
       "      <td>Low Fat</td>\n",
       "      <td>0.016760</td>\n",
       "      <td>Meat</td>\n",
       "      <td>141.6</td>\n",
       "      <td>OUT049</td>\n",
       "      <td>1999</td>\n",
       "      <td>Medium</td>\n",
       "      <td>Tier 2</td>\n",
       "      <td>Supermarket Type1</td>\n",
       "      <td>2097.2700</td>\n",
       "      <td>14.5</td>\n",
       "    </tr>\n",
       "    <tr>\n",
       "      <th>3</th>\n",
       "      <td>FDX07</td>\n",
       "      <td>19.20</td>\n",
       "      <td>Regular</td>\n",
       "      <td>0.000000</td>\n",
       "      <td>Fruits and Vegetables</td>\n",
       "      <td>182.1</td>\n",
       "      <td>OUT010</td>\n",
       "      <td>1998</td>\n",
       "      <td>NaN</td>\n",
       "      <td>NaN</td>\n",
       "      <td>Grocery Store</td>\n",
       "      <td>732.3800</td>\n",
       "      <td>13.6</td>\n",
       "    </tr>\n",
       "    <tr>\n",
       "      <th>4</th>\n",
       "      <td>NCD19</td>\n",
       "      <td>8.93</td>\n",
       "      <td>Low Fat</td>\n",
       "      <td>0.000000</td>\n",
       "      <td>Household</td>\n",
       "      <td>53.9</td>\n",
       "      <td>OUT013</td>\n",
       "      <td>1987</td>\n",
       "      <td>High</td>\n",
       "      <td>Tier 3</td>\n",
       "      <td>Supermarket Type1</td>\n",
       "      <td>994.7052</td>\n",
       "      <td>14.1</td>\n",
       "    </tr>\n",
       "  </tbody>\n",
       "</table>\n",
       "</div>"
      ],
      "text/plain": [
       "  Item_Identifier  Item_Weight Item_Fat_Content  Item_Visibility  \\\n",
       "0           FDA15         9.30          Low Fat         0.016047   \n",
       "1           DRC01         5.92          Regular         0.019278   \n",
       "2           FDN15        17.50          Low Fat         0.016760   \n",
       "3           FDX07        19.20          Regular         0.000000   \n",
       "4           NCD19         8.93          Low Fat         0.000000   \n",
       "\n",
       "               Item_Type  Item_MRP Outlet_Identifier  \\\n",
       "0                  Dairy     249.8            OUT049   \n",
       "1            Soft Drinks      48.3            OUT018   \n",
       "2                   Meat     141.6            OUT049   \n",
       "3  Fruits and Vegetables     182.1            OUT010   \n",
       "4              Household      53.9            OUT013   \n",
       "\n",
       "   Outlet_Establishment_Year Outlet_Size Outlet_Location_Type  \\\n",
       "0                       1999      Medium               Tier 2   \n",
       "1                       2009      Medium               Tier 2   \n",
       "2                       1999      Medium               Tier 2   \n",
       "3                       1998         NaN                  NaN   \n",
       "4                       1987        High               Tier 3   \n",
       "\n",
       "         Outlet_Type  Item_Outlet_Sales  Profit  \n",
       "0  Supermarket Type1          3735.1380    11.5  \n",
       "1  Supermarket Type2           443.4228    14.3  \n",
       "2  Supermarket Type1          2097.2700    14.5  \n",
       "3      Grocery Store           732.3800    13.6  \n",
       "4  Supermarket Type1           994.7052    14.1  "
      ]
     },
     "execution_count": 3,
     "metadata": {},
     "output_type": "execute_result"
    }
   ],
   "source": [
    "df = pd.read_csv('k_circle_sales.csv')\n",
    "df.head()"
   ]
  },
  {
   "cell_type": "markdown",
   "metadata": {
    "id": "eJsr7HHlWcDb"
   },
   "source": [
    "<a id=\"variable\"> </a>\n",
    "## 2.2 Variable type\n",
    "\n",
    "Identifying the type of variable we are working with is always the first step of the data analysis process. We classify the variables as follows:\n",
    "<ol>\n",
    "    <li><b>Numerical (quantitative)</b></li>\n",
    "    <ul><li>Continuous - A random variable which takes continuous values, i.e. values within a range, usually measured, such as height (within the range of human heights)</li>\n",
    "        <li>Discrete -  A random variable which takes discrete values, i.e. values from the set of whole numbers only. It can take countably finite values</li></ul><br>\n",
    "    <li><b>Categorical (qualitative)</b></li>\n",
    "    <ul>\n",
    "        <li> Ordinal - Values that have inherent ordering levels, such as (high, medium, low)</li>\n",
    "        <li>Nominal - Nominal data has no order. The values represent discrete units and are used to label variables (male or female)</li></ul>\n",
    "</ol>  \n",
    "Data has categorical and/or numerical variables. The main data types stored in pandas dataframes are object, float, int, boolean and datetime64. It is important to check whether the data types are correctly identified by python.<br>"
   ]
  },
  {
   "cell_type": "code",
   "execution_count": 14,
   "metadata": {},
   "outputs": [
    {
     "name": "stdout",
     "output_type": "stream",
     "text": [
      "<class 'pandas.core.frame.DataFrame'>\n",
      "RangeIndex: 8523 entries, 0 to 8522\n",
      "Data columns (total 13 columns):\n",
      " #   Column                     Non-Null Count  Dtype  \n",
      "---  ------                     --------------  -----  \n",
      " 0   Item_Identifier            8523 non-null   object \n",
      " 1   Item_Weight                7774 non-null   float64\n",
      " 2   Item_Fat_Content           8523 non-null   object \n",
      " 3   Item_Visibility            8523 non-null   float64\n",
      " 4   Item_Type                  8523 non-null   object \n",
      " 5   Item_MRP                   8523 non-null   float64\n",
      " 6   Outlet_Identifier          8523 non-null   object \n",
      " 7   Outlet_Establishment_Year  8523 non-null   int64  \n",
      " 8   Outlet_Size                6113 non-null   object \n",
      " 9   Outlet_Location_Type       6473 non-null   object \n",
      " 10  Outlet_Type                8523 non-null   object \n",
      " 11  Item_Outlet_Sales          8523 non-null   float64\n",
      " 12  Profit                     8523 non-null   float64\n",
      "dtypes: float64(5), int64(1), object(7)\n",
      "memory usage: 865.7+ KB\n"
     ]
    }
   ],
   "source": [
    "df.info()"
   ]
  },
  {
   "cell_type": "code",
   "execution_count": 15,
   "metadata": {},
   "outputs": [
    {
     "data": {
      "text/plain": [
       "(8523, 13)"
      ]
     },
     "execution_count": 15,
     "metadata": {},
     "output_type": "execute_result"
    }
   ],
   "source": [
    "df.shape"
   ]
  },
  {
   "cell_type": "code",
   "execution_count": 9,
   "metadata": {
    "scrolled": false
   },
   "outputs": [
    {
     "data": {
      "text/html": [
       "<div>\n",
       "<style scoped>\n",
       "    .dataframe tbody tr th:only-of-type {\n",
       "        vertical-align: middle;\n",
       "    }\n",
       "\n",
       "    .dataframe tbody tr th {\n",
       "        vertical-align: top;\n",
       "    }\n",
       "\n",
       "    .dataframe thead th {\n",
       "        text-align: right;\n",
       "    }\n",
       "</style>\n",
       "<table border=\"1\" class=\"dataframe\">\n",
       "  <thead>\n",
       "    <tr style=\"text-align: right;\">\n",
       "      <th></th>\n",
       "      <th>count</th>\n",
       "      <th>mean</th>\n",
       "      <th>std</th>\n",
       "      <th>min</th>\n",
       "      <th>25%</th>\n",
       "      <th>50%</th>\n",
       "      <th>75%</th>\n",
       "      <th>max</th>\n",
       "    </tr>\n",
       "  </thead>\n",
       "  <tbody>\n",
       "    <tr>\n",
       "      <th>Item_Weight</th>\n",
       "      <td>7774.0</td>\n",
       "      <td>11.676740</td>\n",
       "      <td>5.776851</td>\n",
       "      <td>0.00</td>\n",
       "      <td>7.720000</td>\n",
       "      <td>11.800000</td>\n",
       "      <td>16.500000</td>\n",
       "      <td>21.350000</td>\n",
       "    </tr>\n",
       "    <tr>\n",
       "      <th>Item_Visibility</th>\n",
       "      <td>8523.0</td>\n",
       "      <td>0.066132</td>\n",
       "      <td>0.051598</td>\n",
       "      <td>0.00</td>\n",
       "      <td>0.026989</td>\n",
       "      <td>0.053931</td>\n",
       "      <td>0.094585</td>\n",
       "      <td>0.328391</td>\n",
       "    </tr>\n",
       "    <tr>\n",
       "      <th>Item_MRP</th>\n",
       "      <td>8523.0</td>\n",
       "      <td>140.998838</td>\n",
       "      <td>62.258099</td>\n",
       "      <td>31.30</td>\n",
       "      <td>93.800000</td>\n",
       "      <td>142.700000</td>\n",
       "      <td>185.650000</td>\n",
       "      <td>266.900000</td>\n",
       "    </tr>\n",
       "    <tr>\n",
       "      <th>Outlet_Establishment_Year</th>\n",
       "      <td>8523.0</td>\n",
       "      <td>1997.831867</td>\n",
       "      <td>8.371760</td>\n",
       "      <td>1985.00</td>\n",
       "      <td>1987.000000</td>\n",
       "      <td>1999.000000</td>\n",
       "      <td>2004.000000</td>\n",
       "      <td>2009.000000</td>\n",
       "    </tr>\n",
       "    <tr>\n",
       "      <th>Item_Outlet_Sales</th>\n",
       "      <td>8523.0</td>\n",
       "      <td>2181.288914</td>\n",
       "      <td>1706.499616</td>\n",
       "      <td>33.29</td>\n",
       "      <td>834.247400</td>\n",
       "      <td>1794.331000</td>\n",
       "      <td>3101.296400</td>\n",
       "      <td>13086.964800</td>\n",
       "    </tr>\n",
       "    <tr>\n",
       "      <th>Profit</th>\n",
       "      <td>8523.0</td>\n",
       "      <td>13.414514</td>\n",
       "      <td>1.701840</td>\n",
       "      <td>0.10</td>\n",
       "      <td>13.150000</td>\n",
       "      <td>13.900000</td>\n",
       "      <td>14.300000</td>\n",
       "      <td>24.000000</td>\n",
       "    </tr>\n",
       "  </tbody>\n",
       "</table>\n",
       "</div>"
      ],
      "text/plain": [
       "                            count         mean          std      min  \\\n",
       "Item_Weight                7774.0    11.676740     5.776851     0.00   \n",
       "Item_Visibility            8523.0     0.066132     0.051598     0.00   \n",
       "Item_MRP                   8523.0   140.998838    62.258099    31.30   \n",
       "Outlet_Establishment_Year  8523.0  1997.831867     8.371760  1985.00   \n",
       "Item_Outlet_Sales          8523.0  2181.288914  1706.499616    33.29   \n",
       "Profit                     8523.0    13.414514     1.701840     0.10   \n",
       "\n",
       "                                   25%          50%          75%           max  \n",
       "Item_Weight                   7.720000    11.800000    16.500000     21.350000  \n",
       "Item_Visibility               0.026989     0.053931     0.094585      0.328391  \n",
       "Item_MRP                     93.800000   142.700000   185.650000    266.900000  \n",
       "Outlet_Establishment_Year  1987.000000  1999.000000  2004.000000   2009.000000  \n",
       "Item_Outlet_Sales           834.247400  1794.331000  3101.296400  13086.964800  \n",
       "Profit                       13.150000    13.900000    14.300000     24.000000  "
      ]
     },
     "execution_count": 9,
     "metadata": {},
     "output_type": "execute_result"
    }
   ],
   "source": [
    "df.describe().T"
   ]
  },
  {
   "cell_type": "markdown",
   "metadata": {
    "id": "kVSOlTSxWcDd"
   },
   "source": [
    "<a id=\"central_tendency\"> </a>\n",
    "## 3. Measures of Central Tendency\n",
    "\n",
    "Let us now understand the measures of central tendency."
   ]
  },
  {
   "cell_type": "markdown",
   "metadata": {
    "id": "NklEWcxtWcDd"
   },
   "source": [
    "<a id=\"mean\"></a>\n",
    "### 3.1 Mean\n",
    "<ul>\n",
    "  <li>Mean is the average of the data</li>\n",
    "  <li>The important property of the mean is that it includes all values in the data. Thus it can be affected by the outliers. Presence of outliers can give unreliable results    \n",
    "</ul>\n",
    "\n",
    "\n",
    "The answer to the questions above is to find the mean. Let us use the function `.mean()`"
   ]
  },
  {
   "cell_type": "code",
   "execution_count": 4,
   "metadata": {
    "id": "q2Fz0deZNxxk",
    "outputId": "43e6b222-e82d-4b5a-9d88-b926e824731f"
   },
   "outputs": [
    {
     "data": {
      "text/plain": [
       "11.67673977360451"
      ]
     },
     "execution_count": 4,
     "metadata": {},
     "output_type": "execute_result"
    }
   ],
   "source": [
    "df['Item_Weight'].mean()"
   ]
  },
  {
   "cell_type": "markdown",
   "metadata": {
    "id": "FYtd5b6UWcDh"
   },
   "source": [
    "<a id=\"median\"></a>\n",
    "### 3.2 Median\n",
    "<ul>\n",
    "  <li>The median value is the middlemost value of the dataset, it divides the data into two equal halves. Thus, it is a positional value</li>\n",
    "     <li>It cannot be obtained for categorical variables</li>\n",
    "  <li>Unlike mean, the median value is not affected by extreme values</li>\n",
    "    <li>The median value is at times used to impute the missing values in the data</li>\n",
    "</ul>"
   ]
  },
  {
   "cell_type": "code",
   "execution_count": 5,
   "metadata": {
    "id": "7QqBn5V2Nxxk",
    "outputId": "6c710023-afad-4bd7-bc8f-c05408fda77c"
   },
   "outputs": [
    {
     "data": {
      "text/plain": [
       "11.8"
      ]
     },
     "execution_count": 5,
     "metadata": {},
     "output_type": "execute_result"
    }
   ],
   "source": [
    "df['Item_Weight'].median()"
   ]
  },
  {
   "cell_type": "markdown",
   "metadata": {
    "id": "IFwidudbWcDj"
   },
   "source": [
    "<a id=\"mode\"></a>\n",
    "### 3.3 Mode\n",
    "<ul>\n",
    "  <li> Mode of the data is the value which has the highest frequency</li>\n",
    "  <li>It is a measure that can be used for categorical variables. Example: gender</li>\n",
    "</ul>  "
   ]
  },
  {
   "cell_type": "code",
   "execution_count": 6,
   "metadata": {
    "id": "trCt6E2dNxxk",
    "outputId": "7a1b99aa-2e09-4084-885e-4ff1f1f242f4",
    "scrolled": true
   },
   "outputs": [
    {
     "data": {
      "text/plain": [
       "0    Low Fat\n",
       "dtype: object"
      ]
     },
     "execution_count": 6,
     "metadata": {},
     "output_type": "execute_result"
    }
   ],
   "source": [
    "df['Item_Fat_Content'].mode()"
   ]
  },
  {
   "cell_type": "code",
   "execution_count": 7,
   "metadata": {
    "id": "JJz38TCMNxxk",
    "outputId": "a4c0e005-fa05-4ea9-e89e-9f1be08bf418"
   },
   "outputs": [
    {
     "data": {
      "text/plain": [
       "'Low Fat'"
      ]
     },
     "execution_count": 7,
     "metadata": {},
     "output_type": "execute_result"
    }
   ],
   "source": [
    "df['Item_Fat_Content'].mode()[0]"
   ]
  },
  {
   "cell_type": "code",
   "execution_count": 7,
   "metadata": {
    "id": "hukweVjgNxxl",
    "outputId": "f528ead5-9e4d-4b72-c395-e1a72e824c5b"
   },
   "outputs": [
    {
     "data": {
      "text/plain": [
       "Low Fat    5089\n",
       "Regular    2889\n",
       "LF          316\n",
       "reg         117\n",
       "low fat     112\n",
       "Name: Item_Fat_Content, dtype: int64"
      ]
     },
     "execution_count": 7,
     "metadata": {},
     "output_type": "execute_result"
    }
   ],
   "source": [
    "df['Item_Fat_Content'].value_counts()"
   ]
  },
  {
   "cell_type": "markdown",
   "metadata": {
    "id": "sLF9gw4-WcD0"
   },
   "source": [
    "<a id=\"dispersion\"> </a>\n",
    "## 4 Measure of Dispersion\n",
    "<br>\n",
    "<b><ul>\n",
    "  <li>The measure of dispersion indicates the variability within a set of measures</li>\n",
    "  <li>Less variability implies more data is closer to the central observations. More variability implies more data is spread further away from the center\n",
    "</li>\n",
    "  <li>The most popular variability measures are the range, interquartile range (IQR), variance, and standard deviation\n",
    "</li>\n",
    "</ul> </b> "
   ]
  },
  {
   "cell_type": "markdown",
   "metadata": {
    "id": "_kc9xeXWWcD0"
   },
   "source": [
    "<a id=\"range\"> </a>\n",
    "### 4.1 Range\n",
    "<ul>\n",
    "  <li>The range represents the difference between the largest and the smallest points in the data</li>\n",
    "    <li>In spite of being very easy to define and calculate, it is not a reliable measure</li>\n",
    "    <li>It is highly affected by extreme values</li>\n",
    "</ul>  \n"
   ]
  },
  {
   "cell_type": "code",
   "execution_count": 8,
   "metadata": {
    "id": "wWydceAxNxxm",
    "outputId": "decfeaad-3ed3-45a4-b221-7123da8c8355"
   },
   "outputs": [
    {
     "data": {
      "text/html": [
       "<div>\n",
       "<style scoped>\n",
       "    .dataframe tbody tr th:only-of-type {\n",
       "        vertical-align: middle;\n",
       "    }\n",
       "\n",
       "    .dataframe tbody tr th {\n",
       "        vertical-align: top;\n",
       "    }\n",
       "\n",
       "    .dataframe thead th {\n",
       "        text-align: right;\n",
       "    }\n",
       "</style>\n",
       "<table border=\"1\" class=\"dataframe\">\n",
       "  <thead>\n",
       "    <tr style=\"text-align: right;\">\n",
       "      <th></th>\n",
       "      <th>Item_Identifier</th>\n",
       "      <th>Item_Weight</th>\n",
       "      <th>Item_Fat_Content</th>\n",
       "      <th>Item_Visibility</th>\n",
       "      <th>Item_Type</th>\n",
       "      <th>Item_MRP</th>\n",
       "      <th>Outlet_Identifier</th>\n",
       "      <th>Outlet_Establishment_Year</th>\n",
       "      <th>Outlet_Size</th>\n",
       "      <th>Outlet_Location_Type</th>\n",
       "      <th>Outlet_Type</th>\n",
       "      <th>Item_Outlet_Sales</th>\n",
       "      <th>Profit</th>\n",
       "    </tr>\n",
       "  </thead>\n",
       "  <tbody>\n",
       "    <tr>\n",
       "      <th>0</th>\n",
       "      <td>FDA15</td>\n",
       "      <td>9.30</td>\n",
       "      <td>Low Fat</td>\n",
       "      <td>0.016047</td>\n",
       "      <td>Dairy</td>\n",
       "      <td>249.8</td>\n",
       "      <td>OUT049</td>\n",
       "      <td>1999</td>\n",
       "      <td>Medium</td>\n",
       "      <td>Tier 2</td>\n",
       "      <td>Supermarket Type1</td>\n",
       "      <td>3735.1380</td>\n",
       "      <td>11.5</td>\n",
       "    </tr>\n",
       "    <tr>\n",
       "      <th>1</th>\n",
       "      <td>DRC01</td>\n",
       "      <td>5.92</td>\n",
       "      <td>Regular</td>\n",
       "      <td>0.019278</td>\n",
       "      <td>Soft Drinks</td>\n",
       "      <td>48.3</td>\n",
       "      <td>OUT018</td>\n",
       "      <td>2009</td>\n",
       "      <td>Medium</td>\n",
       "      <td>Tier 2</td>\n",
       "      <td>Supermarket Type2</td>\n",
       "      <td>443.4228</td>\n",
       "      <td>14.3</td>\n",
       "    </tr>\n",
       "    <tr>\n",
       "      <th>2</th>\n",
       "      <td>FDN15</td>\n",
       "      <td>17.50</td>\n",
       "      <td>Low Fat</td>\n",
       "      <td>0.016760</td>\n",
       "      <td>Meat</td>\n",
       "      <td>141.6</td>\n",
       "      <td>OUT049</td>\n",
       "      <td>1999</td>\n",
       "      <td>Medium</td>\n",
       "      <td>Tier 2</td>\n",
       "      <td>Supermarket Type1</td>\n",
       "      <td>2097.2700</td>\n",
       "      <td>14.5</td>\n",
       "    </tr>\n",
       "    <tr>\n",
       "      <th>3</th>\n",
       "      <td>FDX07</td>\n",
       "      <td>19.20</td>\n",
       "      <td>Regular</td>\n",
       "      <td>0.000000</td>\n",
       "      <td>Fruits and Vegetables</td>\n",
       "      <td>182.1</td>\n",
       "      <td>OUT010</td>\n",
       "      <td>1998</td>\n",
       "      <td>NaN</td>\n",
       "      <td>NaN</td>\n",
       "      <td>Grocery Store</td>\n",
       "      <td>732.3800</td>\n",
       "      <td>13.6</td>\n",
       "    </tr>\n",
       "    <tr>\n",
       "      <th>4</th>\n",
       "      <td>NCD19</td>\n",
       "      <td>8.93</td>\n",
       "      <td>Low Fat</td>\n",
       "      <td>0.000000</td>\n",
       "      <td>Household</td>\n",
       "      <td>53.9</td>\n",
       "      <td>OUT013</td>\n",
       "      <td>1987</td>\n",
       "      <td>High</td>\n",
       "      <td>Tier 3</td>\n",
       "      <td>Supermarket Type1</td>\n",
       "      <td>994.7052</td>\n",
       "      <td>14.1</td>\n",
       "    </tr>\n",
       "  </tbody>\n",
       "</table>\n",
       "</div>"
      ],
      "text/plain": [
       "  Item_Identifier  Item_Weight Item_Fat_Content  Item_Visibility  \\\n",
       "0           FDA15         9.30          Low Fat         0.016047   \n",
       "1           DRC01         5.92          Regular         0.019278   \n",
       "2           FDN15        17.50          Low Fat         0.016760   \n",
       "3           FDX07        19.20          Regular         0.000000   \n",
       "4           NCD19         8.93          Low Fat         0.000000   \n",
       "\n",
       "               Item_Type  Item_MRP Outlet_Identifier  \\\n",
       "0                  Dairy     249.8            OUT049   \n",
       "1            Soft Drinks      48.3            OUT018   \n",
       "2                   Meat     141.6            OUT049   \n",
       "3  Fruits and Vegetables     182.1            OUT010   \n",
       "4              Household      53.9            OUT013   \n",
       "\n",
       "   Outlet_Establishment_Year Outlet_Size Outlet_Location_Type  \\\n",
       "0                       1999      Medium               Tier 2   \n",
       "1                       2009      Medium               Tier 2   \n",
       "2                       1999      Medium               Tier 2   \n",
       "3                       1998         NaN                  NaN   \n",
       "4                       1987        High               Tier 3   \n",
       "\n",
       "         Outlet_Type  Item_Outlet_Sales  Profit  \n",
       "0  Supermarket Type1          3735.1380    11.5  \n",
       "1  Supermarket Type2           443.4228    14.3  \n",
       "2  Supermarket Type1          2097.2700    14.5  \n",
       "3      Grocery Store           732.3800    13.6  \n",
       "4  Supermarket Type1           994.7052    14.1  "
      ]
     },
     "execution_count": 8,
     "metadata": {},
     "output_type": "execute_result"
    }
   ],
   "source": [
    "df.head()"
   ]
  },
  {
   "cell_type": "code",
   "execution_count": 10,
   "metadata": {
    "id": "nqkY0YtZNxxm",
    "outputId": "dd206ef4-d725-46e5-ce2b-b8df52a7500a"
   },
   "outputs": [
    {
     "data": {
      "text/plain": [
       "235.59999999999997"
      ]
     },
     "execution_count": 10,
     "metadata": {},
     "output_type": "execute_result"
    }
   ],
   "source": [
    "df['Item_MRP'].max()-df['Item_MRP'].min()"
   ]
  },
  {
   "cell_type": "markdown",
   "metadata": {
    "id": "_JjPoYUPWcD4"
   },
   "source": [
    "<a id=\"variance\"> </a>\n",
    "### 4.2 Variance\n",
    "<ul>\n",
    "  <li>Variance measure the dispersion of the data from the mean</li>\n",
    "  <li>It is an average of the sum of squares of difference between an observation and the mean. Thus the variance is always positive</li>\n",
    "    <li>The variance is based on all the observations</li>\n",
    "</ul>"
   ]
  },
  {
   "cell_type": "code",
   "execution_count": 11,
   "metadata": {
    "id": "Hsn5ukjINxxn",
    "outputId": "7ea01101-11eb-4fb7-e3d1-27cc27fa6553"
   },
   "outputs": [
    {
     "data": {
      "text/plain": [
       "3876.0708845928852"
      ]
     },
     "execution_count": 11,
     "metadata": {},
     "output_type": "execute_result"
    }
   ],
   "source": [
    "df['Item_MRP'].var()"
   ]
  },
  {
   "cell_type": "markdown",
   "metadata": {
    "id": "KgkKk8xdWcD_"
   },
   "source": [
    "<a id=\"std\"> </a>\n",
    "### 4.3 Standard Deviation\n",
    "\n",
    "<ol>\n",
    "    <li> Standard deviation is the positive square root of the variance </li>\n",
    "    <li> It has the same unit as that of the observations</li>\n",
    "    <li> Like variance, it also measures the variability of the observations from the mean </li>\n",
    "    </ol>"
   ]
  },
  {
   "cell_type": "code",
   "execution_count": 12,
   "metadata": {
    "id": "sHm_lLzdNxxn",
    "outputId": "b45ec411-922f-4d9e-8053-1809b57b6870"
   },
   "outputs": [
    {
     "data": {
      "text/plain": [
       "62.2580989477906"
      ]
     },
     "execution_count": 12,
     "metadata": {},
     "output_type": "execute_result"
    }
   ],
   "source": [
    "df['Item_MRP'].std()"
   ]
  },
  {
   "cell_type": "markdown",
   "metadata": {
    "id": "94Ad7aOiWcEA"
   },
   "source": [
    "<a id=\"cv\"> </a>\n",
    "### 4.4 Coefficient of Variation\n",
    "<ul>\n",
    "    <li>The coefficient of variation is a statistical measure of dispersion of data points around the mean</li>\n",
    "    <li>It is a unit free measure and is always expressed in percentage</li>\n",
    "    <li>We compare the coefficient of variation in order to decide which of the two sets of observations has more spread</li>\n",
    "    </ul>"
   ]
  },
  {
   "cell_type": "markdown",
   "metadata": {},
   "source": [
    "## coefficient of variation = Standard deviation/ Mean\n",
    "## % of variation = Standard deviation/ Mean * 100"
   ]
  },
  {
   "cell_type": "code",
   "execution_count": 13,
   "metadata": {
    "id": "jHjRFPRkNxxn",
    "outputId": "de43f075-8689-4c6b-9ba5-16584a957826"
   },
   "outputs": [
    {
     "name": "stdout",
     "output_type": "stream",
     "text": [
      "coefficient of variation: 0.4415504385557973\n",
      "% of variation: 44.15504385557973\n"
     ]
    }
   ],
   "source": [
    "print('coefficient of variation:',df['Item_MRP'].std()/df['Item_MRP'].mean())\n",
    "print('% of variation:',df['Item_MRP'].std()/df['Item_MRP'].mean() * 100)"
   ]
  },
  {
   "cell_type": "markdown",
   "metadata": {
    "id": "fu8yGhzXWcEF"
   },
   "source": [
    "<a id=\"shape\"> </a>\n",
    "## 5 Shape of the data"
   ]
  },
  {
   "cell_type": "markdown",
   "metadata": {
    "id": "Zlt2LmvhWcEF"
   },
   "source": [
    "<a id=\"skewness\"> </a>\n",
    "### 5.1 Skewness\n",
    "<ul>\n",
    "  <li>Skewness helps us to study the shape of the data.</li>\n",
    "  <li>It represents how much a distribution differs from a normal distribution, either to the left or to the right.</li>\n",
    "    <li>The value of the skewness can be either positive, negative or zero.</li>\n",
    "</ul>  "
   ]
  },
  {
   "cell_type": "code",
   "execution_count": 16,
   "metadata": {
    "id": "0zon3eopNxxo",
    "outputId": "d680aac0-3741-4925-cf4f-0a36d76155b9",
    "scrolled": false
   },
   "outputs": [
    {
     "data": {
      "text/plain": [
       "Item_Weight                 -0.352215\n",
       "Item_Visibility              1.167091\n",
       "Item_MRP                     0.127390\n",
       "Outlet_Establishment_Year   -0.396641\n",
       "Item_Outlet_Sales            1.177531\n",
       "Profit                      -3.379808\n",
       "dtype: float64"
      ]
     },
     "execution_count": 16,
     "metadata": {},
     "output_type": "execute_result"
    }
   ],
   "source": [
    "df.skew()"
   ]
  },
  {
   "cell_type": "markdown",
   "metadata": {
    "id": "4rV8bouZWcEG"
   },
   "source": [
    "<a id=\"kurtosis\"> </a>\n",
    "### 5.2 Kurtosis\n",
    "<ul>\n",
    "    <li> Kurtosis measures the peakedness of the distribution</li>\n",
    "   <li>In other words, kurtosis is a statistical measure that defines how the tails of the distribution differ from the normal distribution</li>\n",
    "       <li>Kurtosis identifies whether the tails of a given distribution contain extreme values</li>\n",
    "</ul>  \n",
    "\n",
    "To find the kurtosis of the data, we find use the function `kurt()`"
   ]
  },
  {
   "cell_type": "code",
   "execution_count": 17,
   "metadata": {
    "id": "ZvLPROlJNxxp",
    "outputId": "be8fd7dc-e2b2-4720-9abb-13f096cc4ec7"
   },
   "outputs": [
    {
     "data": {
      "text/plain": [
       "Item_Weight                  -0.613755\n",
       "Item_Visibility               1.679445\n",
       "Item_MRP                     -0.887901\n",
       "Outlet_Establishment_Year    -1.205694\n",
       "Item_Outlet_Sales             1.615877\n",
       "Profit                       16.965881\n",
       "dtype: float64"
      ]
     },
     "execution_count": 17,
     "metadata": {},
     "output_type": "execute_result"
    }
   ],
   "source": [
    "df.kurt()"
   ]
  },
  {
   "cell_type": "code",
   "execution_count": 18,
   "metadata": {
    "id": "nZHzNt_3Nxxp",
    "outputId": "dbeafd1e-ba1a-4c74-bcf5-c8a1ffe8def2"
   },
   "outputs": [
    {
     "data": {
      "text/plain": [
       "-0.8879008549272447"
      ]
     },
     "execution_count": 18,
     "metadata": {},
     "output_type": "execute_result"
    }
   ],
   "source": [
    "df['Item_MRP'].kurt()"
   ]
  },
  {
   "cell_type": "markdown",
   "metadata": {
    "id": "Rqorke-INxxp"
   },
   "source": [
    "<a id=\"corr_cov\"> </a>\n",
    "## 6. Covariance and Correlation"
   ]
  },
  {
   "cell_type": "markdown",
   "metadata": {
    "id": "nFqMD56hNxxp"
   },
   "source": [
    "<a id=\"corr\"></a>\n",
    "### 6.1 Correlation\n",
    "  <li>It shows whether pairs of variables are related to each other</li>\n",
    "  <li>If there is correlation, it shows how strong the correlation is</li>\n",
    "  <li>Correlation takes values between -1 to +1, where values close to +1 represents strong positive correlation while values close to -1 represents strong negative correlation</li>\n",
    "</ul>  \n"
   ]
  },
  {
   "cell_type": "code",
   "execution_count": 19,
   "metadata": {
    "id": "Rug5lAmuNxxp",
    "outputId": "686b992c-b411-4786-c666-6f2ab028fc17"
   },
   "outputs": [
    {
     "data": {
      "text/html": [
       "<div>\n",
       "<style scoped>\n",
       "    .dataframe tbody tr th:only-of-type {\n",
       "        vertical-align: middle;\n",
       "    }\n",
       "\n",
       "    .dataframe tbody tr th {\n",
       "        vertical-align: top;\n",
       "    }\n",
       "\n",
       "    .dataframe thead th {\n",
       "        text-align: right;\n",
       "    }\n",
       "</style>\n",
       "<table border=\"1\" class=\"dataframe\">\n",
       "  <thead>\n",
       "    <tr style=\"text-align: right;\">\n",
       "      <th></th>\n",
       "      <th>Item_Weight</th>\n",
       "      <th>Item_Visibility</th>\n",
       "      <th>Item_MRP</th>\n",
       "      <th>Outlet_Establishment_Year</th>\n",
       "      <th>Item_Outlet_Sales</th>\n",
       "      <th>Profit</th>\n",
       "    </tr>\n",
       "  </thead>\n",
       "  <tbody>\n",
       "    <tr>\n",
       "      <th>Item_Weight</th>\n",
       "      <td>1.000000</td>\n",
       "      <td>-0.055081</td>\n",
       "      <td>0.020616</td>\n",
       "      <td>0.365815</td>\n",
       "      <td>-0.034997</td>\n",
       "      <td>-0.016058</td>\n",
       "    </tr>\n",
       "    <tr>\n",
       "      <th>Item_Visibility</th>\n",
       "      <td>-0.055081</td>\n",
       "      <td>1.000000</td>\n",
       "      <td>-0.001597</td>\n",
       "      <td>-0.074834</td>\n",
       "      <td>-0.128625</td>\n",
       "      <td>0.014269</td>\n",
       "    </tr>\n",
       "    <tr>\n",
       "      <th>Item_MRP</th>\n",
       "      <td>0.020616</td>\n",
       "      <td>-0.001597</td>\n",
       "      <td>1.000000</td>\n",
       "      <td>0.005046</td>\n",
       "      <td>0.567555</td>\n",
       "      <td>0.004109</td>\n",
       "    </tr>\n",
       "    <tr>\n",
       "      <th>Outlet_Establishment_Year</th>\n",
       "      <td>0.365815</td>\n",
       "      <td>-0.074834</td>\n",
       "      <td>0.005046</td>\n",
       "      <td>1.000000</td>\n",
       "      <td>-0.049135</td>\n",
       "      <td>-0.019674</td>\n",
       "    </tr>\n",
       "    <tr>\n",
       "      <th>Item_Outlet_Sales</th>\n",
       "      <td>-0.034997</td>\n",
       "      <td>-0.128625</td>\n",
       "      <td>0.567555</td>\n",
       "      <td>-0.049135</td>\n",
       "      <td>1.000000</td>\n",
       "      <td>0.000951</td>\n",
       "    </tr>\n",
       "    <tr>\n",
       "      <th>Profit</th>\n",
       "      <td>-0.016058</td>\n",
       "      <td>0.014269</td>\n",
       "      <td>0.004109</td>\n",
       "      <td>-0.019674</td>\n",
       "      <td>0.000951</td>\n",
       "      <td>1.000000</td>\n",
       "    </tr>\n",
       "  </tbody>\n",
       "</table>\n",
       "</div>"
      ],
      "text/plain": [
       "                           Item_Weight  Item_Visibility  Item_MRP  \\\n",
       "Item_Weight                   1.000000        -0.055081  0.020616   \n",
       "Item_Visibility              -0.055081         1.000000 -0.001597   \n",
       "Item_MRP                      0.020616        -0.001597  1.000000   \n",
       "Outlet_Establishment_Year     0.365815        -0.074834  0.005046   \n",
       "Item_Outlet_Sales            -0.034997        -0.128625  0.567555   \n",
       "Profit                       -0.016058         0.014269  0.004109   \n",
       "\n",
       "                           Outlet_Establishment_Year  Item_Outlet_Sales  \\\n",
       "Item_Weight                                 0.365815          -0.034997   \n",
       "Item_Visibility                            -0.074834          -0.128625   \n",
       "Item_MRP                                    0.005046           0.567555   \n",
       "Outlet_Establishment_Year                   1.000000          -0.049135   \n",
       "Item_Outlet_Sales                          -0.049135           1.000000   \n",
       "Profit                                     -0.019674           0.000951   \n",
       "\n",
       "                             Profit  \n",
       "Item_Weight               -0.016058  \n",
       "Item_Visibility            0.014269  \n",
       "Item_MRP                   0.004109  \n",
       "Outlet_Establishment_Year -0.019674  \n",
       "Item_Outlet_Sales          0.000951  \n",
       "Profit                     1.000000  "
      ]
     },
     "execution_count": 19,
     "metadata": {},
     "output_type": "execute_result"
    }
   ],
   "source": [
    "df.corr()"
   ]
  },
  {
   "cell_type": "markdown",
   "metadata": {
    "id": "1VwzZZcLNxxq"
   },
   "source": [
    "<a id=\"cov\"> </a>\n",
    "## 6.2 Covariance\n",
    "\n",
    "<ul>\n",
    "  <li>It is the relationship between a pair of random variables where change in one variable causes change in another variable</li>\n",
    "  <li>It can take any value between -infinity to +infinity, where the negative value represents the negative relationship whereas a positive value represents the positive relationship</li>\n",
    "</ul>  \n",
    "\n",
    "</body>\n",
    "</html>"
   ]
  },
  {
   "cell_type": "code",
   "execution_count": 20,
   "metadata": {
    "id": "g4Q807OMNxxq",
    "outputId": "b8532e62-7218-419f-ff81-b3bef78ac27b"
   },
   "outputs": [
    {
     "data": {
      "text/html": [
       "<div>\n",
       "<style scoped>\n",
       "    .dataframe tbody tr th:only-of-type {\n",
       "        vertical-align: middle;\n",
       "    }\n",
       "\n",
       "    .dataframe tbody tr th {\n",
       "        vertical-align: top;\n",
       "    }\n",
       "\n",
       "    .dataframe thead th {\n",
       "        text-align: right;\n",
       "    }\n",
       "</style>\n",
       "<table border=\"1\" class=\"dataframe\">\n",
       "  <thead>\n",
       "    <tr style=\"text-align: right;\">\n",
       "      <th></th>\n",
       "      <th>Item_Weight</th>\n",
       "      <th>Item_Visibility</th>\n",
       "      <th>Item_MRP</th>\n",
       "      <th>Outlet_Establishment_Year</th>\n",
       "      <th>Item_Outlet_Sales</th>\n",
       "      <th>Profit</th>\n",
       "    </tr>\n",
       "  </thead>\n",
       "  <tbody>\n",
       "    <tr>\n",
       "      <th>Item_Weight</th>\n",
       "      <td>33.372008</td>\n",
       "      <td>-0.016030</td>\n",
       "      <td>7.425851</td>\n",
       "      <td>16.293339</td>\n",
       "      <td>-3.295708e+02</td>\n",
       "      <td>-0.160196</td>\n",
       "    </tr>\n",
       "    <tr>\n",
       "      <th>Item_Visibility</th>\n",
       "      <td>-0.016030</td>\n",
       "      <td>0.002662</td>\n",
       "      <td>-0.005131</td>\n",
       "      <td>-0.032325</td>\n",
       "      <td>-1.132561e+01</td>\n",
       "      <td>0.001253</td>\n",
       "    </tr>\n",
       "    <tr>\n",
       "      <th>Item_MRP</th>\n",
       "      <td>7.425851</td>\n",
       "      <td>-0.005131</td>\n",
       "      <td>3876.070885</td>\n",
       "      <td>2.629821</td>\n",
       "      <td>6.029901e+04</td>\n",
       "      <td>0.435364</td>\n",
       "    </tr>\n",
       "    <tr>\n",
       "      <th>Outlet_Establishment_Year</th>\n",
       "      <td>16.293339</td>\n",
       "      <td>-0.032325</td>\n",
       "      <td>2.629821</td>\n",
       "      <td>70.086372</td>\n",
       "      <td>-7.019621e+02</td>\n",
       "      <td>-0.280298</td>\n",
       "    </tr>\n",
       "    <tr>\n",
       "      <th>Item_Outlet_Sales</th>\n",
       "      <td>-329.570782</td>\n",
       "      <td>-11.325611</td>\n",
       "      <td>60299.006078</td>\n",
       "      <td>-701.962133</td>\n",
       "      <td>2.912141e+06</td>\n",
       "      <td>2.762921</td>\n",
       "    </tr>\n",
       "    <tr>\n",
       "      <th>Profit</th>\n",
       "      <td>-0.160196</td>\n",
       "      <td>0.001253</td>\n",
       "      <td>0.435364</td>\n",
       "      <td>-0.280298</td>\n",
       "      <td>2.762921e+00</td>\n",
       "      <td>2.896258</td>\n",
       "    </tr>\n",
       "  </tbody>\n",
       "</table>\n",
       "</div>"
      ],
      "text/plain": [
       "                           Item_Weight  Item_Visibility      Item_MRP  \\\n",
       "Item_Weight                  33.372008        -0.016030      7.425851   \n",
       "Item_Visibility              -0.016030         0.002662     -0.005131   \n",
       "Item_MRP                      7.425851        -0.005131   3876.070885   \n",
       "Outlet_Establishment_Year    16.293339        -0.032325      2.629821   \n",
       "Item_Outlet_Sales          -329.570782       -11.325611  60299.006078   \n",
       "Profit                       -0.160196         0.001253      0.435364   \n",
       "\n",
       "                           Outlet_Establishment_Year  Item_Outlet_Sales  \\\n",
       "Item_Weight                                16.293339      -3.295708e+02   \n",
       "Item_Visibility                            -0.032325      -1.132561e+01   \n",
       "Item_MRP                                    2.629821       6.029901e+04   \n",
       "Outlet_Establishment_Year                  70.086372      -7.019621e+02   \n",
       "Item_Outlet_Sales                        -701.962133       2.912141e+06   \n",
       "Profit                                     -0.280298       2.762921e+00   \n",
       "\n",
       "                             Profit  \n",
       "Item_Weight               -0.160196  \n",
       "Item_Visibility            0.001253  \n",
       "Item_MRP                   0.435364  \n",
       "Outlet_Establishment_Year -0.280298  \n",
       "Item_Outlet_Sales          2.762921  \n",
       "Profit                     2.896258  "
      ]
     },
     "execution_count": 20,
     "metadata": {},
     "output_type": "execute_result"
    }
   ],
   "source": [
    "df.cov()"
   ]
  },
  {
   "cell_type": "code",
   "execution_count": 21,
   "metadata": {
    "id": "Lsa-VBKfNxxq",
    "outputId": "c75bc8fc-96e6-4b07-f500-847e8b7a0a8e",
    "scrolled": true
   },
   "outputs": [
    {
     "data": {
      "text/plain": [
       "33.37200778908514"
      ]
     },
     "execution_count": 21,
     "metadata": {},
     "output_type": "execute_result"
    }
   ],
   "source": [
    "df['Item_Weight'].var()"
   ]
  },
  {
   "cell_type": "markdown",
   "metadata": {},
   "source": [
    "# Data Visualization"
   ]
  },
  {
   "cell_type": "markdown",
   "metadata": {
    "id": "f6xvdJzD7cR1"
   },
   "source": [
    "**There are different visualization libraries in python that provides an interface for drawing various graphics. Some most widely used libraries are Matplotlib, Seaborn**"
   ]
  },
  {
   "cell_type": "markdown",
   "metadata": {
    "id": "hqCfYJ767cR3"
   },
   "source": [
    "#### Import the required libraries  "
   ]
  },
  {
   "cell_type": "code",
   "execution_count": 22,
   "metadata": {
    "id": "Xz-t5MI07cR7"
   },
   "outputs": [],
   "source": [
    "import matplotlib.pyplot as plt\n",
    "import seaborn as sns"
   ]
  },
  {
   "cell_type": "code",
   "execution_count": 23,
   "metadata": {
    "id": "R3mXdK-h7cSF",
    "outputId": "9ed1f13a-a954-4c13-8928-c4ffe9ca1e4e"
   },
   "outputs": [
    {
     "data": {
      "text/html": [
       "<div>\n",
       "<style scoped>\n",
       "    .dataframe tbody tr th:only-of-type {\n",
       "        vertical-align: middle;\n",
       "    }\n",
       "\n",
       "    .dataframe tbody tr th {\n",
       "        vertical-align: top;\n",
       "    }\n",
       "\n",
       "    .dataframe thead th {\n",
       "        text-align: right;\n",
       "    }\n",
       "</style>\n",
       "<table border=\"1\" class=\"dataframe\">\n",
       "  <thead>\n",
       "    <tr style=\"text-align: right;\">\n",
       "      <th></th>\n",
       "      <th>total_bill</th>\n",
       "      <th>tip</th>\n",
       "      <th>sex</th>\n",
       "      <th>smoker</th>\n",
       "      <th>day</th>\n",
       "      <th>time</th>\n",
       "      <th>size</th>\n",
       "    </tr>\n",
       "  </thead>\n",
       "  <tbody>\n",
       "    <tr>\n",
       "      <th>0</th>\n",
       "      <td>16.99</td>\n",
       "      <td>1.01</td>\n",
       "      <td>Female</td>\n",
       "      <td>No</td>\n",
       "      <td>Sun</td>\n",
       "      <td>Dinner</td>\n",
       "      <td>2</td>\n",
       "    </tr>\n",
       "    <tr>\n",
       "      <th>1</th>\n",
       "      <td>10.34</td>\n",
       "      <td>1.66</td>\n",
       "      <td>Male</td>\n",
       "      <td>No</td>\n",
       "      <td>Sun</td>\n",
       "      <td>Dinner</td>\n",
       "      <td>3</td>\n",
       "    </tr>\n",
       "    <tr>\n",
       "      <th>2</th>\n",
       "      <td>21.01</td>\n",
       "      <td>3.50</td>\n",
       "      <td>Male</td>\n",
       "      <td>No</td>\n",
       "      <td>Sun</td>\n",
       "      <td>Dinner</td>\n",
       "      <td>3</td>\n",
       "    </tr>\n",
       "    <tr>\n",
       "      <th>3</th>\n",
       "      <td>23.68</td>\n",
       "      <td>3.31</td>\n",
       "      <td>Male</td>\n",
       "      <td>No</td>\n",
       "      <td>Sun</td>\n",
       "      <td>Dinner</td>\n",
       "      <td>2</td>\n",
       "    </tr>\n",
       "    <tr>\n",
       "      <th>4</th>\n",
       "      <td>24.59</td>\n",
       "      <td>3.61</td>\n",
       "      <td>Female</td>\n",
       "      <td>No</td>\n",
       "      <td>Sun</td>\n",
       "      <td>Dinner</td>\n",
       "      <td>4</td>\n",
       "    </tr>\n",
       "  </tbody>\n",
       "</table>\n",
       "</div>"
      ],
      "text/plain": [
       "   total_bill   tip     sex smoker  day    time  size\n",
       "0       16.99  1.01  Female     No  Sun  Dinner     2\n",
       "1       10.34  1.66    Male     No  Sun  Dinner     3\n",
       "2       21.01  3.50    Male     No  Sun  Dinner     3\n",
       "3       23.68  3.31    Male     No  Sun  Dinner     2\n",
       "4       24.59  3.61  Female     No  Sun  Dinner     4"
      ]
     },
     "execution_count": 23,
     "metadata": {},
     "output_type": "execute_result"
    }
   ],
   "source": [
    "# load the 'tips' dataset from seaborn\n",
    "df_tips = sns.load_dataset('tips')\n",
    "\n",
    "# display head() of the dataset\n",
    "df_tips.head()"
   ]
  },
  {
   "cell_type": "markdown",
   "metadata": {
    "id": "R-Gg8KZK7cSM"
   },
   "source": [
    "<a id=\"matplotlib\"> </a>\n",
    "## 1. Plots using Matplotlib\n",
    "\n",
    "Matplotlib is a Python 2D plotting library. Many libraries are built based on it and use its functions in the backend. pyplot is a subpackage of matplotlib that provides a MATLAB-like way of plotting. <br><br>\n",
    "                        matplotlib.pyplot is a mostly used package because it is elementary to use, and it generates plots in less time."
   ]
  },
  {
   "cell_type": "markdown",
   "metadata": {
    "collapsed": true,
    "id": "6c7l_R7Q7cSR"
   },
   "source": [
    "**How to install Matplotlib?**<br>\n",
    "1. You can use-<br>\n",
    "`!pip install matplotlib`<br>"
   ]
  },
  {
   "cell_type": "markdown",
   "metadata": {
    "id": "EBgi_D-y7cST"
   },
   "source": [
    "### 1.1 Line Plot\n",
    "A line graph is the most uncomplicated plot that displays the relationship between the one independent and one dependent dataset. In this plot, the points are joined by straight line segments."
   ]
  },
  {
   "cell_type": "code",
   "execution_count": 34,
   "metadata": {
    "id": "eaejQzY17cSZ",
    "outputId": "68939971-b69a-4f9d-d574-6365484afbb8"
   },
   "outputs": [
    {
     "data": {
      "image/png": "[encoded data removed]",
      "text/plain": [
       "<Figure size 432x288 with 1 Axes>"
      ]
     },
     "metadata": {
      "needs_background": "light"
     },
     "output_type": "display_data"
    }
   ],
   "source": [
    "# data\n",
    "# create an array using linspace\n",
    "X = np.linspace(1,10,100000000)\n",
    "# create an array by taking exponential of X\n",
    "Y = np.exp(X)\n",
    "\n",
    "# line plot\n",
    "plt.plot(X,Y)\n",
    "\n",
    "# display the plot\n",
    "plt.show()"
   ]
  },
  {
   "cell_type": "markdown",
   "metadata": {
    "id": "P5MljStv7cSb"
   },
   "source": [
    "From the plot, it can be observed that as X increases, Y  increases exponential."
   ]
  },
  {
   "cell_type": "markdown",
   "metadata": {
    "id": "xz3siDW77cSd"
   },
   "source": [
    "\n",
    "**The above plot can be represented not only by a solid line, but also a dotted line with varied thickness. The points can be marked explicitly using any symbol.**"
   ]
  },
  {
   "cell_type": "code",
   "execution_count": 46,
   "metadata": {
    "id": "tYRHkVY87cSe",
    "outputId": "99f33bbf-0105-485b-b5eb-ae1391e50901",
    "scrolled": false
   },
   "outputs": [
    {
     "data": {
      "image/png": "[encoded data removed]",
      "text/plain": [
       "<Figure size 432x288 with 1 Axes>"
      ]
     },
     "metadata": {
      "needs_background": "light"
     },
     "output_type": "display_data"
    }
   ],
   "source": [
    "# data\n",
    "# create an array using linspace\n",
    "X = np.linspace(1,20,100)\n",
    "# create an array by taking exponential of X\n",
    "Y = np.exp(X)\n",
    "\n",
    "# line plot\n",
    "# the argument 'r*' plots each point as a red '*' \n",
    "plt.plot(X,Y, 'r*')\n",
    "\n",
    "# display the plot\n",
    "plt.show()"
   ]
  },
  {
   "cell_type": "markdown",
   "metadata": {
    "id": "d9Or9XBb7cSk"
   },
   "source": [
    "We can change the colours or shapes of the data points.\n",
    "\n",
    "There can be multiple line plots in one plot. Let us plot three plots together in a single graph. Also, add a plot title."
   ]
  },
  {
   "cell_type": "code",
   "execution_count": 62,
   "metadata": {
    "id": "1T8Ye7Xs7cSk",
    "outputId": "bd1a85ef-c4f9-46c5-a556-688ec25726fd"
   },
   "outputs": [
    {
     "data": {
      "image/png": "[encoded data removed]",
      "text/plain": [
       "<Figure size 432x288 with 1 Axes>"
      ]
     },
     "metadata": {
      "needs_background": "light"
     },
     "output_type": "display_data"
    }
   ],
   "source": [
    "# data\n",
    "# create an array using linspace\n",
    "X = np.linspace(1,20,100)\n",
    "# create an array by taking square of X\n",
    "Y_square = np.square(X)\n",
    "# create an array by taking squareroot of X\n",
    "Y_sqrt = np.sqrt(X)\n",
    "\n",
    "# line plot\n",
    "plt.plot( X,Y_square,'r', X,Y_sqrt,'g')\n",
    "\n",
    "# add title to the plot\n",
    "plt.title('Line Plot')\n",
    "\n",
    "# display the plot\n",
    "plt.show()"
   ]
  },
  {
   "cell_type": "markdown",
   "metadata": {
    "id": "WR2jmgQ37cSm"
   },
   "source": [
    "### 1.2 Scatter Plot\n",
    "\n",
    "A scatter plot is a set of points plotted on horizontal and vertical axes. The scatter plot can be used to study the correlation between the two variables. One can also detect the extreme data points using a scatter plot."
   ]
  },
  {
   "cell_type": "code",
   "execution_count": 66,
   "metadata": {},
   "outputs": [
    {
     "data": {
      "text/plain": [
       "(244, 7)"
      ]
     },
     "execution_count": 66,
     "metadata": {},
     "output_type": "execute_result"
    }
   ],
   "source": [
    "df_tips.shape"
   ]
  },
  {
   "cell_type": "code",
   "execution_count": 63,
   "metadata": {
    "id": "qfILExBG7cSo",
    "outputId": "b411e680-8997-440b-ae8b-20052d291406"
   },
   "outputs": [
    {
     "data": {
      "text/html": [
       "<div>\n",
       "<style scoped>\n",
       "    .dataframe tbody tr th:only-of-type {\n",
       "        vertical-align: middle;\n",
       "    }\n",
       "\n",
       "    .dataframe tbody tr th {\n",
       "        vertical-align: top;\n",
       "    }\n",
       "\n",
       "    .dataframe thead th {\n",
       "        text-align: right;\n",
       "    }\n",
       "</style>\n",
       "<table border=\"1\" class=\"dataframe\">\n",
       "  <thead>\n",
       "    <tr style=\"text-align: right;\">\n",
       "      <th></th>\n",
       "      <th>total_bill</th>\n",
       "      <th>tip</th>\n",
       "      <th>sex</th>\n",
       "      <th>smoker</th>\n",
       "      <th>day</th>\n",
       "      <th>time</th>\n",
       "      <th>size</th>\n",
       "    </tr>\n",
       "  </thead>\n",
       "  <tbody>\n",
       "    <tr>\n",
       "      <th>0</th>\n",
       "      <td>16.99</td>\n",
       "      <td>1.01</td>\n",
       "      <td>Female</td>\n",
       "      <td>No</td>\n",
       "      <td>Sun</td>\n",
       "      <td>Dinner</td>\n",
       "      <td>2</td>\n",
       "    </tr>\n",
       "    <tr>\n",
       "      <th>1</th>\n",
       "      <td>10.34</td>\n",
       "      <td>1.66</td>\n",
       "      <td>Male</td>\n",
       "      <td>No</td>\n",
       "      <td>Sun</td>\n",
       "      <td>Dinner</td>\n",
       "      <td>3</td>\n",
       "    </tr>\n",
       "    <tr>\n",
       "      <th>2</th>\n",
       "      <td>21.01</td>\n",
       "      <td>3.50</td>\n",
       "      <td>Male</td>\n",
       "      <td>No</td>\n",
       "      <td>Sun</td>\n",
       "      <td>Dinner</td>\n",
       "      <td>3</td>\n",
       "    </tr>\n",
       "    <tr>\n",
       "      <th>3</th>\n",
       "      <td>23.68</td>\n",
       "      <td>3.31</td>\n",
       "      <td>Male</td>\n",
       "      <td>No</td>\n",
       "      <td>Sun</td>\n",
       "      <td>Dinner</td>\n",
       "      <td>2</td>\n",
       "    </tr>\n",
       "    <tr>\n",
       "      <th>4</th>\n",
       "      <td>24.59</td>\n",
       "      <td>3.61</td>\n",
       "      <td>Female</td>\n",
       "      <td>No</td>\n",
       "      <td>Sun</td>\n",
       "      <td>Dinner</td>\n",
       "      <td>4</td>\n",
       "    </tr>\n",
       "  </tbody>\n",
       "</table>\n",
       "</div>"
      ],
      "text/plain": [
       "   total_bill   tip     sex smoker  day    time  size\n",
       "0       16.99  1.01  Female     No  Sun  Dinner     2\n",
       "1       10.34  1.66    Male     No  Sun  Dinner     3\n",
       "2       21.01  3.50    Male     No  Sun  Dinner     3\n",
       "3       23.68  3.31    Male     No  Sun  Dinner     2\n",
       "4       24.59  3.61  Female     No  Sun  Dinner     4"
      ]
     },
     "execution_count": 63,
     "metadata": {},
     "output_type": "execute_result"
    }
   ],
   "source": [
    "df_tips.head()"
   ]
  },
  {
   "cell_type": "markdown",
   "metadata": {
    "id": "NTTgLIBL7cSp"
   },
   "source": [
    "Plot the scatter plot for the variables 'total_bill' and 'tip'"
   ]
  },
  {
   "cell_type": "code",
   "execution_count": 69,
   "metadata": {
    "id": "skf8fd_I7cSq",
    "outputId": "5c5e41bb-fb7c-4143-d8b3-693144ad0895"
   },
   "outputs": [
    {
     "data": {
      "image/png": "[encoded data removed]",
      "text/plain": [
       "<Figure size 1080x576 with 1 Axes>"
      ]
     },
     "metadata": {
      "needs_background": "light"
     },
     "output_type": "display_data"
    }
   ],
   "source": [
    "# data\n",
    "# let X be the column of total bill\n",
    "X = df_tips['total_bill']\n",
    "# let Y be the column of the tip collected\n",
    "Y = df_tips['tip']\n",
    "\n",
    "# set the plot size\n",
    "plt.figure(figsize=(15,8))\n",
    "\n",
    "# plot the scatter plot\n",
    "plt.scatter(X,Y)\n",
    "\n",
    "# add the axes labels to the plot\n",
    "plt.xlabel('total_bill')\n",
    "plt.ylabel('tip')\n",
    "\n",
    "# display the plot\n",
    "plt.show()"
   ]
  },
  {
   "cell_type": "markdown",
   "metadata": {
    "id": "hF0q5PFe7cSu"
   },
   "source": [
    "We can add different colours, opacity, and shape of data points. Let us customize the above plot."
   ]
  },
  {
   "cell_type": "code",
   "execution_count": 83,
   "metadata": {
    "id": "DYdGqtSo7cSu",
    "outputId": "31a686af-66fa-4849-d3b8-04fd844ea3f1"
   },
   "outputs": [
    {
     "data": {
      "image/png": "[encoded data removed]",
      "text/plain": [
       "<Figure size 1080x576 with 1 Axes>"
      ]
     },
     "metadata": {
      "needs_background": "light"
     },
     "output_type": "display_data"
    }
   ],
   "source": [
    "# plot the scatter plot for the variables 'total_bill' and 'tip'\n",
    "\n",
    "# data\n",
    "# let X be the column of total bill\n",
    "X = df_tips['total_bill']\n",
    "# let Y be the column of the tip collected\n",
    "Y = df_tips['tip']\n",
    "\n",
    "# set the plot size\n",
    "plt.figure(figsize=(15,8))\n",
    "\n",
    "# plot the scatter plot\n",
    "# s is for shape, c is for colour, alpha is for opacity (0 < alpha < 1)\n",
    "plt.scatter(X, Y, s = np.array(Y)**3, c= 'g', alpha= 0.8)\n",
    "\n",
    "# add title \n",
    "plt.title('Scatter Plot')\n",
    "\n",
    "# add the axes labels to the plot\n",
    "plt.xlabel('total_bill')\n",
    "plt.ylabel('tip')\n",
    "\n",
    "# display the plot\n",
    "plt.show()"
   ]
  },
  {
   "cell_type": "markdown",
   "metadata": {
    "id": "NlODiTIJ7cSw"
   },
   "source": [
    "The bubbles with higher radius display that the tip amount is more as compared to the bubbles with less radius."
   ]
  },
  {
   "cell_type": "markdown",
   "metadata": {
    "id": "v6X6lYcF7cSy"
   },
   "source": [
    "### 1.3 Bar Plot\n",
    " To display categorical data use a  bar plot with bars having lengths proportional to the values that they represent. The comparison between different categories of a categorical variable can be made by studying a bar plot. <br><br>\n",
    "                        In the vertical bar plot, the X-axis displays the categorical variable, and Y-axis contains the values corresponding to different categories."
   ]
  },
  {
   "cell_type": "code",
   "execution_count": 84,
   "metadata": {
    "id": "cOedYfJk7cS0",
    "outputId": "d4099064-abc8-444d-b1df-f8de1a16de58"
   },
   "outputs": [
    {
     "data": {
      "text/plain": [
       "{'No', 'Yes'}"
      ]
     },
     "execution_count": 84,
     "metadata": {},
     "output_type": "execute_result"
    }
   ],
   "source": [
    "# the variable 'smoker' is categorical\n",
    "# check categories in the variable\n",
    "set(df_tips['smoker'])"
   ]
  },
  {
   "cell_type": "code",
   "execution_count": 92,
   "metadata": {
    "id": "lMOKfyqb7cS2",
    "outputId": "3564ee05-8654-411e-850c-9bd18ecf0f8c"
   },
   "outputs": [
    {
     "data": {
      "image/png": "[encoded data removed]",
      "text/plain": [
       "<Figure size 432x288 with 1 Axes>"
      ]
     },
     "metadata": {
      "needs_background": "light"
     },
     "output_type": "display_data"
    }
   ],
   "source": [
    "# bar plot to get the count of smokers and non-smokers in the data\n",
    "\n",
    "# kind='bar' plots a bar plot\n",
    "# 'rot = 0' returns the categoric labels horizontally\n",
    "df_tips.smoker.value_counts().plot(kind='bar', rot = 1)\n",
    "\n",
    "# display the plot\n",
    "plt.show()"
   ]
  },
  {
   "cell_type": "markdown",
   "metadata": {
    "id": "v08bOQJw7cS8"
   },
   "source": [
    "### 1.4 Pie Plot\n",
    "Pie plot is a graphical representation of univariate data. It is a circular graph divided into slices displaying the numerical proportion. For the categorical variable, each slice of the pie plot corresponds to each of the categories."
   ]
  },
  {
   "cell_type": "code",
   "execution_count": 93,
   "metadata": {
    "id": "7hWbRb4S7cS8",
    "outputId": "ebc4a1e6-690e-4faf-ab7b-e3386426259e"
   },
   "outputs": [
    {
     "data": {
      "text/html": [
       "<div>\n",
       "<style scoped>\n",
       "    .dataframe tbody tr th:only-of-type {\n",
       "        vertical-align: middle;\n",
       "    }\n",
       "\n",
       "    .dataframe tbody tr th {\n",
       "        vertical-align: top;\n",
       "    }\n",
       "\n",
       "    .dataframe thead th {\n",
       "        text-align: right;\n",
       "    }\n",
       "</style>\n",
       "<table border=\"1\" class=\"dataframe\">\n",
       "  <thead>\n",
       "    <tr style=\"text-align: right;\">\n",
       "      <th></th>\n",
       "      <th>total_bill</th>\n",
       "      <th>tip</th>\n",
       "      <th>sex</th>\n",
       "      <th>smoker</th>\n",
       "      <th>day</th>\n",
       "      <th>time</th>\n",
       "      <th>size</th>\n",
       "    </tr>\n",
       "  </thead>\n",
       "  <tbody>\n",
       "    <tr>\n",
       "      <th>0</th>\n",
       "      <td>16.99</td>\n",
       "      <td>1.01</td>\n",
       "      <td>Female</td>\n",
       "      <td>No</td>\n",
       "      <td>Sun</td>\n",
       "      <td>Dinner</td>\n",
       "      <td>2</td>\n",
       "    </tr>\n",
       "    <tr>\n",
       "      <th>1</th>\n",
       "      <td>10.34</td>\n",
       "      <td>1.66</td>\n",
       "      <td>Male</td>\n",
       "      <td>No</td>\n",
       "      <td>Sun</td>\n",
       "      <td>Dinner</td>\n",
       "      <td>3</td>\n",
       "    </tr>\n",
       "    <tr>\n",
       "      <th>2</th>\n",
       "      <td>21.01</td>\n",
       "      <td>3.50</td>\n",
       "      <td>Male</td>\n",
       "      <td>No</td>\n",
       "      <td>Sun</td>\n",
       "      <td>Dinner</td>\n",
       "      <td>3</td>\n",
       "    </tr>\n",
       "    <tr>\n",
       "      <th>3</th>\n",
       "      <td>23.68</td>\n",
       "      <td>3.31</td>\n",
       "      <td>Male</td>\n",
       "      <td>No</td>\n",
       "      <td>Sun</td>\n",
       "      <td>Dinner</td>\n",
       "      <td>2</td>\n",
       "    </tr>\n",
       "    <tr>\n",
       "      <th>4</th>\n",
       "      <td>24.59</td>\n",
       "      <td>3.61</td>\n",
       "      <td>Female</td>\n",
       "      <td>No</td>\n",
       "      <td>Sun</td>\n",
       "      <td>Dinner</td>\n",
       "      <td>4</td>\n",
       "    </tr>\n",
       "  </tbody>\n",
       "</table>\n",
       "</div>"
      ],
      "text/plain": [
       "   total_bill   tip     sex smoker  day    time  size\n",
       "0       16.99  1.01  Female     No  Sun  Dinner     2\n",
       "1       10.34  1.66    Male     No  Sun  Dinner     3\n",
       "2       21.01  3.50    Male     No  Sun  Dinner     3\n",
       "3       23.68  3.31    Male     No  Sun  Dinner     2\n",
       "4       24.59  3.61  Female     No  Sun  Dinner     4"
      ]
     },
     "execution_count": 93,
     "metadata": {},
     "output_type": "execute_result"
    }
   ],
   "source": [
    "# check the head() of the tips dataset\n",
    "df_tips.head()"
   ]
  },
  {
   "cell_type": "code",
   "execution_count": 97,
   "metadata": {},
   "outputs": [
    {
     "data": {
      "text/plain": [
       "['Sun', 'Sat', 'Thur', 'Fri']\n",
       "Categories (4, object): ['Thur', 'Fri', 'Sat', 'Sun']"
      ]
     },
     "execution_count": 97,
     "metadata": {},
     "output_type": "execute_result"
    }
   ],
   "source": [
    "df_tips['day'].unique()"
   ]
  },
  {
   "cell_type": "code",
   "execution_count": 94,
   "metadata": {
    "id": "mJnx8rNs7cS-",
    "outputId": "25c2491b-377d-4a6d-b57d-cc97e6a7e100",
    "scrolled": false
   },
   "outputs": [
    {
     "data": {
      "text/plain": [
       "Sat     87\n",
       "Sun     76\n",
       "Thur    62\n",
       "Fri     19\n",
       "Name: day, dtype: int64"
      ]
     },
     "execution_count": 94,
     "metadata": {},
     "output_type": "execute_result"
    }
   ],
   "source": [
    "# categories in the 'day' variable\n",
    "df_tips.day.value_counts()"
   ]
  },
  {
   "cell_type": "code",
   "execution_count": 107,
   "metadata": {
    "id": "K2QkgLY87cTB",
    "outputId": "531c6089-b7a1-428a-ca08-08a0d6eb83d6"
   },
   "outputs": [
    {
     "data": {
      "image/png": "[encoded data removed]",
      "text/plain": [
       "<Figure size 432x288 with 1 Axes>"
      ]
     },
     "metadata": {},
     "output_type": "display_data"
    }
   ],
   "source": [
    "# plot the occurrence of different days in the dataset\n",
    "\n",
    "# 'autopct' displays the percentage upto 1 decimal place\n",
    "# 'radius' sets the radius of the pie plot\n",
    "# 'labels' are the labels given to each section \n",
    "plt.pie(df_tips.day.value_counts(), autopct = '%.1f%%', radius = 2.2, labels = ['Sat', 'Sun','Thur','Fri'])\n",
    "\n",
    "# display the plot\n",
    "plt.show()"
   ]
  },
  {
   "cell_type": "markdown",
   "metadata": {
    "id": "6yaj3Sux7cTC"
   },
   "source": [
    "From the above pie plot, we see that the data has a high proportion for Saturday followed by Sunday.\n"
   ]
  },
  {
   "cell_type": "markdown",
   "metadata": {
    "id": "D-3033zr7cTE"
   },
   "source": [
    "**Exploded pie plot** is a plot in which one or more sectors are separated from the disc"
   ]
  },
  {
   "cell_type": "code",
   "execution_count": 116,
   "metadata": {},
   "outputs": [
    {
     "data": {
      "image/png": "[encoded data removed]",
      "text/plain": [
       "<Figure size 432x288 with 1 Axes>"
      ]
     },
     "metadata": {},
     "output_type": "display_data"
    }
   ],
   "source": [
    "# plot the occurrence of different days in the dataset\n",
    "\n",
    "# 'autopct' displays the percentage upto 1 decimal place\n",
    "# 'radius' sets the radius of the pie plot\n",
    "# 'labels' are the labels given to each section \n",
    "# 'explode' specifies the radius with which to offset each section\n",
    "plt.pie(df_tips.day.value_counts(), autopct = '%.1f%%', radius = 2.2, labels = ['Sat', 'Sun','Thur','Fri'],\n",
    "        explode = [0.05,0.05,0.05,0.05])\n",
    "\n",
    "# display the plot\n",
    "plt.show()"
   ]
  },
  {
   "cell_type": "code",
   "execution_count": 119,
   "metadata": {
    "id": "K0tEGsMU7cTE",
    "outputId": "f5c4e79b-eb7c-4d08-c027-4bb9cc8eebe6"
   },
   "outputs": [
    {
     "data": {
      "image/png": "[encoded data removed]",
      "text/plain": [
       "<Figure size 432x288 with 1 Axes>"
      ]
     },
     "metadata": {},
     "output_type": "display_data"
    }
   ],
   "source": [
    "# plot the occurrence of different days in the dataset\n",
    "\n",
    "# 'autopct' displays the percentage upto 1 decimal place\n",
    "# 'radius' sets the radius of the pie plot\n",
    "# 'labels' are the labels given to each section \n",
    "# 'explode' specifies the radius with which to offset each section\n",
    "plt.pie(df_tips.day.value_counts(), autopct = '%.1f%%', radius = 1.2, labels = ['Sat', 'Sun','Thur','Fri'],\n",
    "        explode = [0,0,0,0.5])\n",
    "\n",
    "# display the plot\n",
    "plt.show()"
   ]
  },
  {
   "cell_type": "markdown",
   "metadata": {
    "id": "OX3V9r_d7cTN"
   },
   "source": [
    "### 1.5 Histogram\n",
    "A histogram is used to display the distribution and spread of the continuous variable. One axis represents the range of variable, and the other axis shows the frequency of the data points. In a histogram, there are no gaps between the bars."
   ]
  },
  {
   "cell_type": "markdown",
   "metadata": {
    "id": "3Bd1QEwH7cTO"
   },
   "source": [
    "In tips dataset, 'tip' is the continuous variable. Let us plot the histogram to understand the distribution of the variable."
   ]
  },
  {
   "cell_type": "code",
   "execution_count": 121,
   "metadata": {
    "id": "0drS0Cxr7cTO",
    "outputId": "9f670334-97c1-431e-b935-936a22c5defa"
   },
   "outputs": [
    {
     "data": {
      "image/png": "[encoded data removed]",
      "text/plain": [
       "<Figure size 432x288 with 1 Axes>"
      ]
     },
     "metadata": {
      "needs_background": "light"
     },
     "output_type": "display_data"
    }
   ],
   "source": [
    "# plot the histogram\n",
    "# specify the number of bins, using 'bins' parameter\n",
    "plt.hist(df_tips['tip'], bins= 9)\n",
    "\n",
    "# add the graph title \n",
    "plt.title('Distribution of tip amount')\n",
    "\n",
    "# add th x-axis label\n",
    "plt.xlabel('tip')\n",
    "\n",
    "# # add th y-axis label\n",
    "plt.ylabel('Frequency')\n",
    "\n",
    "# display the plot\n",
    "plt.show()"
   ]
  },
  {
   "cell_type": "markdown",
   "metadata": {
    "id": "39TywLt57cTQ"
   },
   "source": [
    "From the above plot, we can see that the tip amount is positively skewed. "
   ]
  },
  {
   "cell_type": "markdown",
   "metadata": {
    "id": "RCBdXvzE7cTQ"
   },
   "source": [
    "### 1.6 Box Plot\n",
    "Boxplot is a way to visualize the five-number summary of the variable. The five-number summary includes the numerical quantities like minimum, first quartile (Q1), median (Q2), third quartile (Q3), and maximum. It gives information about the outliers in the data. Detecting and removing outliers is one of the essential steps in exploratory data analysis. Boxplots also tells about the distribution of the data."
   ]
  },
  {
   "cell_type": "markdown",
   "metadata": {
    "id": "khSPaEZ-7cTR"
   },
   "source": [
    "Plot the boxplot of 'total_bill' to check the distribution and presence of outliers in the variable."
   ]
  },
  {
   "cell_type": "code",
   "execution_count": 125,
   "metadata": {},
   "outputs": [
    {
     "data": {
      "image/png": "[encoded data removed]",
      "text/plain": [
       "<Figure size 432x288 with 1 Axes>"
      ]
     },
     "metadata": {
      "needs_background": "light"
     },
     "output_type": "display_data"
    }
   ],
   "source": [
    "# plot a boxplot of total bill\n",
    "plt.boxplot(df_tips['total_bill'])\n",
    "\n",
    "# add labels for five number summary using text()\n",
    "# x is location on x-axis\n",
    "# y is the location on y-axis\n",
    "# s is the text \n",
    "plt.text(x = 1.1, y = df_tips['total_bill'].min(), s ='min')              # for minimun\n",
    "plt.text(x = 1.1, y = df_tips.total_bill.quantile(0.25), s ='Q1')         # for quartile 1\n",
    "plt.text(x = 1.1, y = df_tips['total_bill'].median(), s ='median (Q2)')   # for quartile 2\n",
    "plt.text(x = 1.1, y = df_tips.total_bill.quantile(0.75), s ='Q3')         # for quartile 3\n",
    "plt.text(x = 1.1, y = df_tips['total_bill'].max(), s ='max')              # for maximum\n",
    "\n",
    "\n",
    "# add the graph title \n",
    "plt.title('Boxplot of Total Bill Amount')\n",
    "\n",
    "# add the y-axis label\n",
    "plt.ylabel('Total bill')\n",
    "\n",
    "# display the plot\n",
    "plt.show()"
   ]
  },
  {
   "cell_type": "code",
   "execution_count": 151,
   "metadata": {
    "id": "nFhxYjLN7cTS",
    "outputId": "df836408-a333-44c4-c65f-e113c30d2134"
   },
   "outputs": [
    {
     "data": {
      "image/png": "[encoded data removed]",
      "text/plain": [
       "<Figure size 432x288 with 1 Axes>"
      ]
     },
     "metadata": {
      "needs_background": "light"
     },
     "output_type": "display_data"
    }
   ],
   "source": [
    "# plot a boxplot of total bill\n",
    "plt.boxplot(df_tips['total_bill'])\n",
    "\n",
    "# add labels for five number summary using text()\n",
    "# x is location on x-axis\n",
    "# y is the location on y-axis\n",
    "# s is the text \n",
    "plt.text(x = 0.9, y = df_tips['total_bill'].min(), s ='min')              # for minimun\n",
    "plt.text(x = 1.1, y = df_tips.total_bill.quantile(0.25), s ='Q1')         # for quartile 1\n",
    "plt.text(x = 0.7, y = df_tips['total_bill'].median(), s ='median (Q2)')   # for quartile 2\n",
    "plt.text(x = 1.1, y = df_tips.total_bill.quantile(0.75), s ='Q3')         # for quartile 3\n",
    "plt.text(x = 0.9, y = df_tips['total_bill'].max(), s ='max')              # for maximum\n",
    "\n",
    "\n",
    "# add the graph title \n",
    "plt.title('Boxplot of Total Bill Amount')\n",
    "\n",
    "# add the y-axis label\n",
    "plt.ylabel('Total bill')\n",
    "\n",
    "# display the plot\n",
    "plt.show()"
   ]
  },
  {
   "cell_type": "markdown",
   "metadata": {
    "id": "kdxXT6Hy7cTW"
   },
   "source": [
    "### 1.7 Area Plot\n",
    "Area plot is a graphical representation of quantitative data based on the line plot. The area under the line plot is shaded. <br>\n",
    "                        Usually, it is used to compare the two or more quantities."
   ]
  },
  {
   "cell_type": "code",
   "execution_count": 152,
   "metadata": {
    "id": "wfOZhgBl7cTX",
    "outputId": "b21f051d-5536-4f5a-df74-8e9e204b26df",
    "scrolled": false
   },
   "outputs": [
    {
     "data": {
      "image/png": "[encoded data removed]",
      "text/plain": [
       "<Figure size 432x288 with 1 Axes>"
      ]
     },
     "metadata": {
      "needs_background": "light"
     },
     "output_type": "display_data"
    }
   ],
   "source": [
    "# value_counts counts the number of observations for each day\n",
    "# sorts the index - thursday to be first\n",
    "# plot.area() plots area plot\n",
    "df_tips['day'].value_counts().sort_index().plot.area() \n",
    "\n",
    "# display the plot\n",
    "plt.show()"
   ]
  },
  {
   "cell_type": "markdown",
   "metadata": {
    "id": "9hRRZrzn7cTY"
   },
   "source": [
    "The above plot gives the count of observations for each day. We see that the highest number of tips collected are on Saturday. "
   ]
  },
  {
   "cell_type": "markdown",
   "metadata": {
    "id": "zCigJcyl7cTa"
   },
   "source": [
    "<a id=\"seaborn\"> </a>\n",
    "## 2. Plots using Seaborn\n",
    "\n",
    "Seaborn is a Python visualization library based on matplotlib. The library provides a high-level interface for plotting statistical graphics. As the library uses matplotlib in the backend, we can use the functions in matplotlib along with functions in seaborn.<br><br>\n",
    "Various functions in the seaborn library allow us to plot complex and advance statistical plots such as linear/higher-order regression, univariate/multivariate distribution, violin, swarm, strip plots, correlations."
   ]
  },
  {
   "cell_type": "markdown",
   "metadata": {
    "id": "X9MUfDHD7cTb"
   },
   "source": [
    "**How to install Seaborn?**<br>\n",
    "1. You can use-<br>`!pip install seaborn`<br>"
   ]
  },
  {
   "cell_type": "markdown",
   "metadata": {
    "id": "MsvY6gIm7cTf"
   },
   "source": [
    "### 2.1 Strip Plot\n",
    "\n",
    "The strip plot resembles a scatterplot when one variable is categorical. This plot can help study the underlying distribution of the data. "
   ]
  },
  {
   "cell_type": "code",
   "execution_count": 153,
   "metadata": {
    "id": "HUsXFneo7cTg",
    "outputId": "79e52eb7-3b08-44e3-ac29-01eee0258cb4"
   },
   "outputs": [
    {
     "data": {
      "text/html": [
       "<div>\n",
       "<style scoped>\n",
       "    .dataframe tbody tr th:only-of-type {\n",
       "        vertical-align: middle;\n",
       "    }\n",
       "\n",
       "    .dataframe tbody tr th {\n",
       "        vertical-align: top;\n",
       "    }\n",
       "\n",
       "    .dataframe thead th {\n",
       "        text-align: right;\n",
       "    }\n",
       "</style>\n",
       "<table border=\"1\" class=\"dataframe\">\n",
       "  <thead>\n",
       "    <tr style=\"text-align: right;\">\n",
       "      <th></th>\n",
       "      <th>total_bill</th>\n",
       "      <th>tip</th>\n",
       "      <th>sex</th>\n",
       "      <th>smoker</th>\n",
       "      <th>day</th>\n",
       "      <th>time</th>\n",
       "      <th>size</th>\n",
       "    </tr>\n",
       "  </thead>\n",
       "  <tbody>\n",
       "    <tr>\n",
       "      <th>0</th>\n",
       "      <td>16.99</td>\n",
       "      <td>1.01</td>\n",
       "      <td>Female</td>\n",
       "      <td>No</td>\n",
       "      <td>Sun</td>\n",
       "      <td>Dinner</td>\n",
       "      <td>2</td>\n",
       "    </tr>\n",
       "    <tr>\n",
       "      <th>1</th>\n",
       "      <td>10.34</td>\n",
       "      <td>1.66</td>\n",
       "      <td>Male</td>\n",
       "      <td>No</td>\n",
       "      <td>Sun</td>\n",
       "      <td>Dinner</td>\n",
       "      <td>3</td>\n",
       "    </tr>\n",
       "    <tr>\n",
       "      <th>2</th>\n",
       "      <td>21.01</td>\n",
       "      <td>3.50</td>\n",
       "      <td>Male</td>\n",
       "      <td>No</td>\n",
       "      <td>Sun</td>\n",
       "      <td>Dinner</td>\n",
       "      <td>3</td>\n",
       "    </tr>\n",
       "    <tr>\n",
       "      <th>3</th>\n",
       "      <td>23.68</td>\n",
       "      <td>3.31</td>\n",
       "      <td>Male</td>\n",
       "      <td>No</td>\n",
       "      <td>Sun</td>\n",
       "      <td>Dinner</td>\n",
       "      <td>2</td>\n",
       "    </tr>\n",
       "    <tr>\n",
       "      <th>4</th>\n",
       "      <td>24.59</td>\n",
       "      <td>3.61</td>\n",
       "      <td>Female</td>\n",
       "      <td>No</td>\n",
       "      <td>Sun</td>\n",
       "      <td>Dinner</td>\n",
       "      <td>4</td>\n",
       "    </tr>\n",
       "  </tbody>\n",
       "</table>\n",
       "</div>"
      ],
      "text/plain": [
       "   total_bill   tip     sex smoker  day    time  size\n",
       "0       16.99  1.01  Female     No  Sun  Dinner     2\n",
       "1       10.34  1.66    Male     No  Sun  Dinner     3\n",
       "2       21.01  3.50    Male     No  Sun  Dinner     3\n",
       "3       23.68  3.31    Male     No  Sun  Dinner     2\n",
       "4       24.59  3.61  Female     No  Sun  Dinner     4"
      ]
     },
     "execution_count": 153,
     "metadata": {},
     "output_type": "execute_result"
    }
   ],
   "source": [
    "# check the head() of the tips dataset\n",
    "df_tips.head()"
   ]
  },
  {
   "cell_type": "markdown",
   "metadata": {
    "id": "XwO7DQ537cTh"
   },
   "source": [
    "Plot a strip plot to check the relationship between the variables 'tip' and 'time'"
   ]
  },
  {
   "cell_type": "code",
   "execution_count": 154,
   "metadata": {
    "id": "gFmiKaDd7cTj",
    "outputId": "bceca643-d639-4d61-e347-c6052779d962"
   },
   "outputs": [
    {
     "data": {
      "image/png": "[encoded data removed]",
      "text/plain": [
       "<Figure size 432x288 with 1 Axes>"
      ]
     },
     "metadata": {
      "needs_background": "light"
     },
     "output_type": "display_data"
    }
   ],
   "source": [
    "# strip plot\n",
    "# data specifies the DataFrame to be used\n",
    "sns.stripplot(y = 'tip', x = 'time', data = df_tips)\n",
    "\n",
    "# display the plot\n",
    "plt.show()"
   ]
  },
  {
   "cell_type": "markdown",
   "metadata": {
    "id": "HowdwstV7cTk"
   },
   "source": [
    "We see that the tip amount is more at dinner time than at lunchtime. Nevertheless, the above plot is unable to display the spread of the data. We can plot the points with spread using the 'jitter' parameter in the strip plot function."
   ]
  },
  {
   "cell_type": "code",
   "execution_count": 155,
   "metadata": {
    "id": "IWugJXeL7cTn",
    "outputId": "f9bd2c65-09a6-4eeb-89bb-4034401e8609",
    "scrolled": false
   },
   "outputs": [
    {
     "data": {
      "image/png": "[encoded data removed]",
      "text/plain": [
       "<Figure size 432x288 with 1 Axes>"
      ]
     },
     "metadata": {
      "needs_background": "light"
     },
     "output_type": "display_data"
    }
   ],
   "source": [
    "# strip plot\n",
    "# data specifies the DataFrame to be used\n",
    "# jitter to spread the points\n",
    "sns.stripplot(y = 'tip', x = 'time', data = df_tips, jitter = True)\n",
    "\n",
    "# display the plot\n",
    "plt.show()"
   ]
  },
  {
   "cell_type": "markdown",
   "metadata": {
    "id": "Qug1Rtv-7cTo"
   },
   "source": [
    "The plot shows most of the observations the tip amount is in the range 1 to 4 irrespective of time."
   ]
  },
  {
   "cell_type": "markdown",
   "metadata": {
    "id": "Lz5vUJDD7cTo"
   },
   "source": [
    "### 2.2 Swarm Plot\n",
    "The swarm plot is similar to the strip plot, but it avoids the overlapping of the points, giving a better representation of the distribution of the data. "
   ]
  },
  {
   "cell_type": "markdown",
   "metadata": {
    "id": "C8l3afqe7cTs"
   },
   "source": [
    "Plot the swarm plot for the variables 'tip' and 'time'. "
   ]
  },
  {
   "cell_type": "code",
   "execution_count": 156,
   "metadata": {
    "id": "wxbjSCqx7cTt",
    "outputId": "7326ee2d-32f1-42f9-b740-57ebdf5ab03b"
   },
   "outputs": [
    {
     "data": {
      "image/png": "[encoded data removed]",
      "text/plain": [
       "<Figure size 432x288 with 1 Axes>"
      ]
     },
     "metadata": {
      "needs_background": "light"
     },
     "output_type": "display_data"
    }
   ],
   "source": [
    "# swarm plot\n",
    "# data specifies the DataFrame to be used\n",
    "sns.swarmplot(y = 'tip', x = 'time', data = df_tips)\n",
    "\n",
    "# display the plot\n",
    "plt.show()"
   ]
  },
  {
   "cell_type": "markdown",
   "metadata": {
    "id": "4yyBG3vQ7cTu"
   },
   "source": [
    "The above plot gives a good representation of the tip amount for the time. It can be seen that the tip amount is 2 for most of the observations. We can see that the swarm plot gives a better understanding of the variables than the strip plot.\n",
    "\n",
    "We can add another categorical variable in the above plot by using a parameter 'hue'."
   ]
  },
  {
   "cell_type": "code",
   "execution_count": 157,
   "metadata": {
    "id": "E00MVvUr7cTu",
    "outputId": "78ea96fd-7b30-4867-b0cd-319965734025"
   },
   "outputs": [
    {
     "data": {
      "image/png": "[encoded data removed]",
      "text/plain": [
       "<Figure size 432x288 with 1 Axes>"
      ]
     },
     "metadata": {
      "needs_background": "light"
     },
     "output_type": "display_data"
    }
   ],
   "source": [
    "# swarm plot with one more categorical variable 'day'\n",
    "# data specifies the DataFrame to be used\n",
    "sns.swarmplot(y = 'tip', x = 'time', data = df_tips, hue = 'day')\n",
    "\n",
    "# display the plot\n",
    "plt.show()"
   ]
  },
  {
   "cell_type": "markdown",
   "metadata": {
    "id": "qWobma5m7cTv"
   },
   "source": [
    "The plot shows that the tip was collected at lunch only on Thursday and Friday. The amount of tips collected at dinner time on Saturday is the highest."
   ]
  },
  {
   "cell_type": "markdown",
   "metadata": {
    "id": "RNq1qu_U7cTw"
   },
   "source": [
    "### 2.3 Distribution Plot\n",
    "A seaborn provides a distplot() function to visualize a distribution of the univariate variable. This function uses matplotlib to plot a histogram and fit a kernel density estimate (KDE). "
   ]
  },
  {
   "cell_type": "markdown",
   "metadata": {
    "id": "U-d3ehUD7cT0"
   },
   "source": [
    "Lets plot a distribution plot of 'total_bill' "
   ]
  },
  {
   "cell_type": "code",
   "execution_count": 159,
   "metadata": {
    "id": "dIgjo_nh7cT1",
    "outputId": "2359c782-7655-477b-b91e-d8d8d6ab83fd"
   },
   "outputs": [
    {
     "data": {
      "image/png": "[encoded data removed]",
      "text/plain": [
       "<Figure size 432x288 with 1 Axes>"
      ]
     },
     "metadata": {
      "needs_background": "light"
     },
     "output_type": "display_data"
    }
   ],
   "source": [
    "# plot a distribution plot\n",
    "sns.distplot(df_tips['total_bill'])\n",
    "\n",
    "# display the plot\n",
    "plt.show()"
   ]
  },
  {
   "cell_type": "markdown",
   "metadata": {
    "id": "BVekUHFz7cT4"
   },
   "source": [
    "We can interpret from the above plot that the total bill amount is between 10 to 20 for a large number of observations. The distribution plot can be used to visualize the total bill for different times of the day."
   ]
  },
  {
   "cell_type": "code",
   "execution_count": 160,
   "metadata": {
    "id": "1p8iE8-97cT5",
    "outputId": "c5e8572c-55d1-4101-ad9a-516df12058c1"
   },
   "outputs": [
    {
     "data": {
      "image/png": "[encoded data removed]",
      "text/plain": [
       "<Figure size 432x288 with 1 Axes>"
      ]
     },
     "metadata": {
      "needs_background": "light"
     },
     "output_type": "display_data"
    }
   ],
   "source": [
    "# iterate the distplot() function over the time\n",
    "\n",
    "# list of time\n",
    "time = ['Lunch', 'Dinner']\n",
    "\n",
    "# iterate through time\n",
    "# Draw the density plot\n",
    "# 'hist = False' will not plot a histogram\n",
    "# 'kde = True' plots density curve\n",
    "for i in time:\n",
    "    subset = df_tips[df_tips['time'] == i]\n",
    "    sns.distplot(subset['total_bill'], hist = False, kde = True,\n",
    "                 kde_kws = {'shade':True},\n",
    "                 label = i)"
   ]
  },
  {
   "cell_type": "markdown",
   "metadata": {
    "id": "RxOjOHMA7cT6"
   },
   "source": [
    "It can be seen that the distribution plot for lunch is more right-skewed than a plot for dinner. This implies that the customers are spending more on dinner rather than lunch. "
   ]
  },
  {
   "cell_type": "markdown",
   "metadata": {
    "id": "WdnMertD7cT6"
   },
   "source": [
    "### 2.4 Count Plot\n",
    "Count plot shows the count of observations in each category of a categorical variable. We can add another variable using a parameter 'hue'. "
   ]
  },
  {
   "cell_type": "markdown",
   "metadata": {
    "id": "8Vtz4hTE7cT8"
   },
   "source": [
    "Let us plot the count of observations for each day based on time"
   ]
  },
  {
   "cell_type": "code",
   "execution_count": 161,
   "metadata": {
    "id": "DgAL2y6v7cT9",
    "outputId": "94c2be51-ce1c-4fd6-f68b-d5a4a07dc1ad"
   },
   "outputs": [
    {
     "data": {
      "image/png": "[encoded data removed]",
      "text/plain": [
       "<Figure size 432x288 with 1 Axes>"
      ]
     },
     "metadata": {
      "needs_background": "light"
     },
     "output_type": "display_data"
    }
   ],
   "source": [
    "# count of observations for each day based on time\n",
    "# set 'time' as hue parameter\n",
    "# data specifies the DataFrame to be used\n",
    "sns.countplot(data = df_tips, x = 'day', hue = 'time')\n",
    "\n",
    "# display the plot\n",
    "plt.show()"
   ]
  },
  {
   "cell_type": "markdown",
   "metadata": {
    "id": "y63vI8uQ7cT-"
   },
   "source": [
    "All the observations recorded on Saturday and Sunday are for dinner. Observations for lunch on Thursday is highest among lunchtime."
   ]
  },
  {
   "cell_type": "markdown",
   "metadata": {
    "id": "9-7U5Gg87cT-"
   },
   "source": [
    "### 2.5 Regression Plot\n",
    "Regression plot is a plot which gives the relationship with two quantitative variables"
   ]
  },
  {
   "cell_type": "markdown",
   "metadata": {
    "id": "uAHAfm0m7cUA"
   },
   "source": [
    "The line regression plot in this library plots the data and the fitted regression model."
   ]
  },
  {
   "cell_type": "code",
   "execution_count": 162,
   "metadata": {
    "id": "Z6Hq61J27cUB",
    "outputId": "81217a8c-2f00-431e-9ae5-b7370ff79863"
   },
   "outputs": [
    {
     "data": {
      "image/png": "[encoded data removed]",
      "text/plain": [
       "<Figure size 432x288 with 1 Axes>"
      ]
     },
     "metadata": {
      "needs_background": "light"
     },
     "output_type": "display_data"
    }
   ],
   "source": [
    "# plot the regression plot\n",
    "# data specifies the DataFrame to be used\n",
    "sns.regplot(x = \"total_bill\", y = \"tip\", data = df_tips)\n",
    "\n",
    "# display the plot\n",
    "plt.show()"
   ]
  },
  {
   "cell_type": "markdown",
   "metadata": {
    "id": "4QfCnCAA7cUB"
   },
   "source": [
    "The above plot is a scatter plot of the tip against the total bill. We may say as the bill amount increases the tip amount also increases, that is, there is an increasing  trend."
   ]
  },
  {
   "cell_type": "markdown",
   "metadata": {
    "id": "6AbnHleL7cUC"
   },
   "source": [
    "Let us plot a regression plot of total_bill against the size. We shall take the average of values from the "
   ]
  },
  {
   "cell_type": "code",
   "execution_count": 165,
   "metadata": {
    "id": "GsJ9Oi_n7cUD",
    "outputId": "492650a0-3a48-4165-fef4-a42d9bf139b5"
   },
   "outputs": [
    {
     "data": {
      "image/png": "[encoded data removed]",
      "text/plain": [
       "<Figure size 432x288 with 1 Axes>"
      ]
     },
     "metadata": {
      "needs_background": "light"
     },
     "output_type": "display_data"
    }
   ],
   "source": [
    "# plot a regression plot\n",
    "# data specifies the DataFrame to be used\n",
    "# 'x.estmator' is the estimate to be obtained for values taking particular value in x\n",
    "# 'color' is the colour of the plot \n",
    "sns.regplot(x = \"size\", y = \"total_bill\", data = df_tips, x_estimator = np.mean, color = 'r')\n",
    "\n",
    "# display the plot\n",
    "plt.show()"
   ]
  },
  {
   "cell_type": "markdown",
   "metadata": {
    "id": "RIKCFUEh7cUE"
   },
   "source": [
    "We see there is a lot of variation as the size increases."
   ]
  },
  {
   "cell_type": "markdown",
   "metadata": {
    "id": "se1HhFFu7cUG"
   },
   "source": [
    "### 2.6 Point plot \n",
    "A point plot is a plot between two categorical variables and a numeric variable. It represents the measure of central tendency. The point indicates the mean and the lines indicate the variation. These plots are useful for comparison between different levels of one or more categorical variable."
   ]
  },
  {
   "cell_type": "markdown",
   "metadata": {
    "id": "hOC1u7oI7cUI"
   },
   "source": [
    "Let us plot a day-wise point plot of the total_bill collected."
   ]
  },
  {
   "cell_type": "code",
   "execution_count": 166,
   "metadata": {
    "id": "YHflPdmh7cUI",
    "outputId": "b6c1f1f0-bfa5-44ae-ecd9-318ddf709d55"
   },
   "outputs": [
    {
     "data": {
      "image/png": "[encoded data removed]",
      "text/plain": [
       "<Figure size 432x288 with 1 Axes>"
      ]
     },
     "metadata": {
      "needs_background": "light"
     },
     "output_type": "display_data"
    }
   ],
   "source": [
    "# plot a point plot\n",
    "# data specifies the DataFrame to be used\n",
    "# palette is the color palette \n",
    "sns.pointplot(x = \"day\", y = \"total_bill\", hue = \"time\", data = df_tips, palette = \"Set1\")\n",
    "\n",
    "# display the plot\n",
    "plt.show()"
   ]
  },
  {
   "cell_type": "markdown",
   "metadata": {
    "id": "5DoFt_cV7cUJ"
   },
   "source": [
    "We see that the blue line indicates the summary statistics for dinner orders and red line indicates the summary of lunch orders\n",
    "The average of total_bill for dinner is higher on all days."
   ]
  },
  {
   "cell_type": "markdown",
   "metadata": {
    "id": "v4w8OIor7cUK"
   },
   "source": [
    "### 2.5 Joint plot\n",
    "A joint plot is a bivariate plot along with the distribution plot along the margins. "
   ]
  },
  {
   "cell_type": "code",
   "execution_count": 168,
   "metadata": {
    "id": "M-L7J-0H7cUL",
    "outputId": "b1b30838-d3b2-4f76-a2a0-b1472dfa4fcd"
   },
   "outputs": [
    {
     "data": {
      "image/png": "[encoded data removed]",
      "text/plain": [
       "<Figure size 432x432 with 3 Axes>"
      ]
     },
     "metadata": {
      "needs_background": "light"
     },
     "output_type": "display_data"
    }
   ],
   "source": [
    "# plot a joint plot\n",
    "# data specifies the DataFrame to be used\n",
    "sns.JointGrid(x = \"total_bill\", y = \"tip\", data = df_tips).plot(sns.scatterplot, sns.kdeplot)\n",
    "\n",
    "# display the plot\n",
    "plt.show()"
   ]
  },
  {
   "cell_type": "markdown",
   "metadata": {
    "id": "8qVOwCcJ7cUM"
   },
   "source": [
    "We see there is a nearly linear relationship between the total bill and the tip. Along the margins, we see the kernel density plot for the variables. \n",
    "\n",
    "It is possible to plot the distribution plot or even histogram. Also, the scatter plot can be replaced by the regression plot."
   ]
  },
  {
   "cell_type": "markdown",
   "metadata": {
    "id": "rRyu9KkG7cUM"
   },
   "source": [
    "### 2.6 Violin Plot\n",
    "The violin plot is similar to a box plot that features a kernel density estimation of the underlying distribution. The plot shows the distribution of numerical variables across categories of one (or more) categorical variables such that those distributions can be compared."
   ]
  },
  {
   "cell_type": "markdown",
   "metadata": {
    "id": "Wf571cFM7cUN"
   },
   "source": [
    "Let's draw a violin plot for the numerical variable 'total_bill' and a categorical variable 'day'."
   ]
  },
  {
   "cell_type": "code",
   "execution_count": 169,
   "metadata": {
    "id": "c9OY2-O87cUP",
    "outputId": "bae6c92b-6ca0-4277-aec0-72e65da82e8c"
   },
   "outputs": [
    {
     "data": {
      "image/png": "[encoded data removed]",
      "text/plain": [
       "<Figure size 432x288 with 1 Axes>"
      ]
     },
     "metadata": {
      "needs_background": "light"
     },
     "output_type": "display_data"
    }
   ],
   "source": [
    "# violin plot\n",
    "# data specifies the DataFrame to be used\n",
    "sns.violinplot(y = 'total_bill', x = 'day', data = df_tips)\n",
    "\n",
    "# display the plot\n",
    "plt.show()"
   ]
  },
  {
   "cell_type": "markdown",
   "metadata": {
    "id": "JCq1aK-A7cUR"
   },
   "source": [
    "The above violin plot shows that the total bill distribution is nearly the same for different days. We can add another categorical variable 'sex' to the above plot to get a better insight on the bill amount distribution based on days as well as gender."
   ]
  },
  {
   "cell_type": "code",
   "execution_count": 170,
   "metadata": {
    "id": "tEN10hHx7cUR",
    "outputId": "ab3896f3-df2e-4399-f3d5-717a60ecb31d"
   },
   "outputs": [
    {
     "data": {
      "image/png": "[encoded data removed]",
      "text/plain": [
       "<Figure size 1080x576 with 1 Axes>"
      ]
     },
     "metadata": {
      "needs_background": "light"
     },
     "output_type": "display_data"
    }
   ],
   "source": [
    "# set the figure size\n",
    "plt.figure(figsize = (15,8))\n",
    "\n",
    "# violin plot with addition of the variable 'sex'  \n",
    "# data specifies the DataFrame to be used\n",
    "# 'split = True' draws half plot for each of the category of 'sex' \n",
    "sns.violinplot(y = 'total_bill', x = 'day', data = df_tips, hue = 'sex', split = True)\n",
    "\n",
    "# display the plot\n",
    "plt.show()"
   ]
  },
  {
   "cell_type": "markdown",
   "metadata": {
    "id": "dm6Fihyr7cUT"
   },
   "source": [
    "There is no significant difference in the distribution of bill amount and sex."
   ]
  },
  {
   "cell_type": "markdown",
   "metadata": {
    "id": "Jt2Bekqf7cUV"
   },
   "source": [
    "### 2.7 Pair Plot\n",
    "The pair plot gives a pairwise distribution of variables in the dataset. The pairplot() function creates a matrix such that each grid shows the relationship between a pair of variables. On the diagonal axes, a plot shows the univariate distribution of each variable."
   ]
  },
  {
   "cell_type": "markdown",
   "metadata": {
    "id": "UEGyII7h7cUW"
   },
   "source": [
    "Plot a pair plot for the tips dataset"
   ]
  },
  {
   "cell_type": "code",
   "execution_count": 171,
   "metadata": {
    "id": "Ofju9WVR7cUX",
    "outputId": "349757fc-2410-4150-b281-c4c083c402ee"
   },
   "outputs": [
    {
     "data": {
      "text/plain": [
       "<Figure size 1080x576 with 0 Axes>"
      ]
     },
     "metadata": {},
     "output_type": "display_data"
    },
    {
     "data": {
      "image/png": "[encoded data removed]",
      "text/plain": [
       "<Figure size 540x540 with 12 Axes>"
      ]
     },
     "metadata": {
      "needs_background": "light"
     },
     "output_type": "display_data"
    }
   ],
   "source": [
    "# set the figure size\n",
    "plt.figure(figsize = (15,8))\n",
    "\n",
    "# plot a pair plot\n",
    "sns.pairplot(df_tips)\n",
    "\n",
    "# display the plot\n",
    "plt.show()"
   ]
  },
  {
   "cell_type": "markdown",
   "metadata": {
    "id": "Pxgm9E_67cUY"
   },
   "source": [
    "The above plot shows the relationship between all the numerical variables. 'total_bill' and 'tip' has a positive linear relationship with each other. Also, 'total_bill' and 'tip' are positively skewed. The 'size' has a significant impact on the 'total_bill', as the minimum bill amount is increasing with an increasing number of customers (size)."
   ]
  },
  {
   "cell_type": "markdown",
   "metadata": {
    "id": "q-h4vIx_7cUb"
   },
   "source": [
    "### 2.8 Heatmap\n",
    "Heatmap is a  graphical representation of two-dimensional data. It represents the individual values that are contained in a matrix are represented as colours. <br><br>\n",
    "                       Generally, the heatmap is used to the correlation matrix among numeric variables of a dataset. Each square in the heatmap shows the correlation between the two variables on each axis."
   ]
  },
  {
   "cell_type": "markdown",
   "metadata": {
    "id": "_u58wHpA7cUe"
   },
   "source": [
    "Compute correlation between the variables using .corr() function. Plot a heatmap of the correlation matrix."
   ]
  },
  {
   "cell_type": "code",
   "execution_count": 172,
   "metadata": {
    "id": "X94jHcvJ7cUe",
    "outputId": "211e3549-63c5-4ed2-aae3-fb462ddb1d0d",
    "scrolled": true
   },
   "outputs": [
    {
     "data": {
      "text/html": [
       "<div>\n",
       "<style scoped>\n",
       "    .dataframe tbody tr th:only-of-type {\n",
       "        vertical-align: middle;\n",
       "    }\n",
       "\n",
       "    .dataframe tbody tr th {\n",
       "        vertical-align: top;\n",
       "    }\n",
       "\n",
       "    .dataframe thead th {\n",
       "        text-align: right;\n",
       "    }\n",
       "</style>\n",
       "<table border=\"1\" class=\"dataframe\">\n",
       "  <thead>\n",
       "    <tr style=\"text-align: right;\">\n",
       "      <th></th>\n",
       "      <th>total_bill</th>\n",
       "      <th>tip</th>\n",
       "      <th>size</th>\n",
       "    </tr>\n",
       "  </thead>\n",
       "  <tbody>\n",
       "    <tr>\n",
       "      <th>total_bill</th>\n",
       "      <td>1.000000</td>\n",
       "      <td>0.675734</td>\n",
       "      <td>0.598315</td>\n",
       "    </tr>\n",
       "    <tr>\n",
       "      <th>tip</th>\n",
       "      <td>0.675734</td>\n",
       "      <td>1.000000</td>\n",
       "      <td>0.489299</td>\n",
       "    </tr>\n",
       "    <tr>\n",
       "      <th>size</th>\n",
       "      <td>0.598315</td>\n",
       "      <td>0.489299</td>\n",
       "      <td>1.000000</td>\n",
       "    </tr>\n",
       "  </tbody>\n",
       "</table>\n",
       "</div>"
      ],
      "text/plain": [
       "            total_bill       tip      size\n",
       "total_bill    1.000000  0.675734  0.598315\n",
       "tip           0.675734  1.000000  0.489299\n",
       "size          0.598315  0.489299  1.000000"
      ]
     },
     "execution_count": 172,
     "metadata": {},
     "output_type": "execute_result"
    }
   ],
   "source": [
    "# compute correlation\n",
    "corr_matrix = df_tips.corr()\n",
    "\n",
    "# display the correlation matrix\n",
    "corr_matrix"
   ]
  },
  {
   "cell_type": "code",
   "execution_count": 173,
   "metadata": {
    "id": "9SW2XQmP7cUg",
    "outputId": "c9d422ce-e0ae-494a-e1fd-9d9bc6aff3e8"
   },
   "outputs": [
    {
     "data": {
      "image/png": "[encoded data removed]",
      "text/plain": [
       "<Figure size 432x288 with 2 Axes>"
      ]
     },
     "metadata": {
      "needs_background": "light"
     },
     "output_type": "display_data"
    }
   ],
   "source": [
    "# plot heatmap\n",
    "# 'annot=True' returns the correlation values \n",
    "# vmin is the minimum range of values\n",
    "sns.heatmap(corr_matrix, annot = True, vmin = -1)\n",
    "\n",
    "# display the plot\n",
    "plt.show()"
   ]
  },
  {
   "cell_type": "markdown",
   "metadata": {
    "id": "SouRsN0K7cUg"
   },
   "source": [
    "The above plot shows that there is a moderate correlation between 'total_bill' and 'tip' (0.68). The diagonal values are '1' as it is the correlation of the variable with itself."
   ]
  },
  {
   "cell_type": "markdown",
   "metadata": {},
   "source": [
    "## Power Ahead!"
   ]
  },
  {
   "cell_type": "code",
   "execution_count": null,
   "metadata": {},
   "outputs": [],
   "source": []
  }
 ],
 "metadata": {
  "colab": {
   "collapsed_sections": [
    "NklEWcxtWcDd",
    "FYtd5b6UWcDh",
    "IFwidudbWcDj",
    "_kc9xeXWWcD0",
    "5MyzbaGNWcEC",
    "_JjPoYUPWcD4",
    "KgkKk8xdWcD_",
    "94Ad7aOiWcEA",
    "Zlt2LmvhWcEF",
    "4rV8bouZWcEG",
    "nFqMD56hNxxp"
   ],
   "name": "EDA - Faculty Notebook - Day 1 .ipynb",
   "provenance": []
  },
  "kernelspec": {
   "display_name": "Python 3 (ipykernel)",
   "language": "python",
   "name": "python3"
  },
  "language_info": {
   "codemirror_mode": {
    "name": "ipython",
    "version": 3
   },
   "file_extension": ".py",
   "mimetype": "text/x-python",
   "name": "python",
   "nbconvert_exporter": "python",
   "pygments_lexer": "ipython3",
   "version": "3.9.7"
  }
 },
 "nbformat": 4,
 "nbformat_minor": 1
}
