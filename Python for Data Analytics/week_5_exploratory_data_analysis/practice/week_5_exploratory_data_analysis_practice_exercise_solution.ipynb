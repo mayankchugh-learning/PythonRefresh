{
 "cells": [
  {
   "cell_type": "markdown",
   "metadata": {},
   "source": [
    "# Week 5: Exploratory Data Analysis - Practice Exercise (Solution)"
   ]
  },
  {
   "cell_type": "markdown",
   "metadata": {
    "id": "Bj9QHXwgx_er"
   },
   "source": [
    "### About the dataset (Customer Tip Data)\n",
    "\n",
    "The dataset contains information about the 244 orders served at a restaurant in the United States. Each observation includes the factors related to the order like total bill, time, the total number of people in a group, gender of the person paying for the order and so on.\n",
    "\n",
    "Attribute Information:\n",
    "\n",
    "**total_bill:** Total bill (cost of the meal), including tax, in US dollars\n",
    "\n",
    "**tip:** Tip in US dollars\n",
    "\n",
    "**sex:** Sex of person paying for the meal\n",
    "\n",
    "**smoker:** There is a smoker in a group or not\n",
    "\n",
    "**day:** Day on which the order is served\n",
    "\n",
    "**time:** Time of the order\n",
    "\n",
    "**size:** Size of the group"
   ]
  },
  {
   "cell_type": "markdown",
   "metadata": {
    "id": "SgK6Vkacx_et"
   },
   "source": [
    "**Import the required libraries**"
   ]
  },
  {
   "cell_type": "code",
   "execution_count": 4,
   "metadata": {
    "id": "6plbL8m-x_eu"
   },
   "outputs": [],
   "source": [
    "# import pandas\n",
    "import pandas as pd\n",
    "\n",
    "# import numpy\n",
    "import numpy as np\n",
    "\n",
    "# import matplotlib.pyplot\n",
    "import matplotlib.pyplot as plt\n",
    "\n",
    "# import seaborn \n",
    "import seaborn as sns\n",
    "\n",
    "# to suppress the warnings\n",
    "import warnings\n",
    "warnings.filterwarnings('ignore')"
   ]
  },
  {
   "cell_type": "markdown",
   "metadata": {
    "id": "QomxK8eCx_ex"
   },
   "source": [
    "#### Load the customer tip dataset and print the first five observations"
   ]
  },
  {
   "cell_type": "code",
   "execution_count": 6,
   "metadata": {
    "id": "vl2SZgZLx_ey",
    "outputId": "c395da35-164f-4cb6-95aa-88d408f06865"
   },
   "outputs": [
    {
     "data": {
      "text/html": [
       "<div>\n",
       "<style scoped>\n",
       "    .dataframe tbody tr th:only-of-type {\n",
       "        vertical-align: middle;\n",
       "    }\n",
       "\n",
       "    .dataframe tbody tr th {\n",
       "        vertical-align: top;\n",
       "    }\n",
       "\n",
       "    .dataframe thead th {\n",
       "        text-align: right;\n",
       "    }\n",
       "</style>\n",
       "<table border=\"1\" class=\"dataframe\">\n",
       "  <thead>\n",
       "    <tr style=\"text-align: right;\">\n",
       "      <th></th>\n",
       "      <th>total_bill</th>\n",
       "      <th>tip</th>\n",
       "      <th>sex</th>\n",
       "      <th>smoker</th>\n",
       "      <th>day</th>\n",
       "      <th>time</th>\n",
       "      <th>size</th>\n",
       "    </tr>\n",
       "  </thead>\n",
       "  <tbody>\n",
       "    <tr>\n",
       "      <th>0</th>\n",
       "      <td>16.99</td>\n",
       "      <td>1.01</td>\n",
       "      <td>Female</td>\n",
       "      <td>No</td>\n",
       "      <td>Sun</td>\n",
       "      <td>Dinner</td>\n",
       "      <td>2</td>\n",
       "    </tr>\n",
       "    <tr>\n",
       "      <th>1</th>\n",
       "      <td>10.34</td>\n",
       "      <td>1.66</td>\n",
       "      <td>Male</td>\n",
       "      <td>No</td>\n",
       "      <td>Sun</td>\n",
       "      <td>Dinner</td>\n",
       "      <td>3</td>\n",
       "    </tr>\n",
       "    <tr>\n",
       "      <th>2</th>\n",
       "      <td>21.01</td>\n",
       "      <td>3.50</td>\n",
       "      <td>Male</td>\n",
       "      <td>No</td>\n",
       "      <td>Sun</td>\n",
       "      <td>Dinner</td>\n",
       "      <td>3</td>\n",
       "    </tr>\n",
       "    <tr>\n",
       "      <th>3</th>\n",
       "      <td>23.68</td>\n",
       "      <td>3.31</td>\n",
       "      <td>Male</td>\n",
       "      <td>No</td>\n",
       "      <td>Sun</td>\n",
       "      <td>Dinner</td>\n",
       "      <td>2</td>\n",
       "    </tr>\n",
       "    <tr>\n",
       "      <th>4</th>\n",
       "      <td>24.59</td>\n",
       "      <td>3.61</td>\n",
       "      <td>Female</td>\n",
       "      <td>No</td>\n",
       "      <td>Sun</td>\n",
       "      <td>Dinner</td>\n",
       "      <td>4</td>\n",
       "    </tr>\n",
       "  </tbody>\n",
       "</table>\n",
       "</div>"
      ],
      "text/plain": [
       "   total_bill   tip     sex smoker  day    time  size\n",
       "0       16.99  1.01  Female     No  Sun  Dinner     2\n",
       "1       10.34  1.66    Male     No  Sun  Dinner     3\n",
       "2       21.01  3.50    Male     No  Sun  Dinner     3\n",
       "3       23.68  3.31    Male     No  Sun  Dinner     2\n",
       "4       24.59  3.61  Female     No  Sun  Dinner     4"
      ]
     },
     "execution_count": 6,
     "metadata": {},
     "output_type": "execute_result"
    }
   ],
   "source": [
    "# load the csv file\n",
    "df_tips = pd.read_csv('tips.csv')\n",
    "\n",
    "# display the first five observations\n",
    "df_tips.head()"
   ]
  },
  {
   "cell_type": "markdown",
   "metadata": {
    "id": "LYwNZP0cx_e2"
   },
   "source": [
    "### Let's begin with some hands-on practice exercises"
   ]
  },
  {
   "cell_type": "markdown",
   "metadata": {},
   "source": [
    "#### 1. Make a list of categorical and numerical variables in the data"
   ]
  },
  {
   "cell_type": "code",
   "execution_count": 7,
   "metadata": {
    "id": "Fn6lGZp5rcCv",
    "outputId": "5d14fad1-6ceb-4246-c16c-aecc95a78410"
   },
   "outputs": [
    {
     "name": "stdout",
     "output_type": "stream",
     "text": [
      "Numerical Variables: ['total_bill', 'tip', 'size']\n",
      "Categorical Variables: ['sex', 'smoker', 'day', 'time']\n"
     ]
    }
   ],
   "source": [
    "# use list comprehension to create the lists\n",
    "# 'select_dtypes' selects the variable of given data type \n",
    "num_var = [var for var in df_tips.select_dtypes(include=np.number)]\n",
    "print('Numerical Variables:', num_var)\n",
    "\n",
    "cat_var = [var for var in df_tips.select_dtypes(include=object)]\n",
    "print('Categorical Variables:', cat_var)"
   ]
  },
  {
   "cell_type": "markdown",
   "metadata": {},
   "source": [
    "#### 2. Compute the average bill amount for each day"
   ]
  },
  {
   "cell_type": "code",
   "execution_count": 8,
   "metadata": {
    "id": "pjJ-9-UdrcCz",
    "outputId": "adeeb181-1bda-4b76-bddc-247bf8bdd5ea"
   },
   "outputs": [
    {
     "name": "stdout",
     "output_type": "stream",
     "text": [
      "Average Bill Amount for Each Day: day\n",
      "Fri     17.151579\n",
      "Sat     20.441379\n",
      "Sun     21.410000\n",
      "Thur    17.682742\n",
      "Name: total_bill, dtype: float64\n"
     ]
    }
   ],
   "source": [
    "# compute the average bill amount for each day using groupby()\n",
    "avg_bill = df_tips.groupby(['day'])['total_bill'].mean()\n",
    "\n",
    "print('Average Bill Amount for Each Day:', avg_bill)"
   ]
  },
  {
   "cell_type": "markdown",
   "metadata": {
    "id": "IYqr5vtircC1"
   },
   "source": [
    "On Sunday the average bill is highest. There is not much difference in the average bill amount for Saturday and Sunday. Also, the average bill amount on Thursday and Friday is nearly the same."
   ]
  },
  {
   "cell_type": "markdown",
   "metadata": {},
   "source": [
    "#### 3. Which gender is more generous in giving the tip? "
   ]
  },
  {
   "cell_type": "code",
   "execution_count": 9,
   "metadata": {
    "id": "Omqm-u65rcC4",
    "outputId": "9edc244a-394f-4570-ef9e-8e94b07c7c3d"
   },
   "outputs": [
    {
     "data": {
      "text/plain": [
       "sex\n",
       "Female    2.833448\n",
       "Male      3.089618\n",
       "Name: tip, dtype: float64"
      ]
     },
     "execution_count": 9,
     "metadata": {},
     "output_type": "execute_result"
    }
   ],
   "source": [
    "# compute average tip for each gender\n",
    "df_tips.groupby(['sex'])['tip'].mean()"
   ]
  },
  {
   "cell_type": "markdown",
   "metadata": {
    "id": "-ZnEvvSvrcC5"
   },
   "source": [
    "From the above output, we can infer that males are giving slightly higher tip amount than females. "
   ]
  },
  {
   "cell_type": "markdown",
   "metadata": {},
   "source": [
    "#### 4. According to the data, were there more customers for dinner or lunch?"
   ]
  },
  {
   "cell_type": "code",
   "execution_count": 10,
   "metadata": {
    "id": "si-S01VhrcC6",
    "outputId": "e6f03aaa-04ce-4fe5-81e1-0a5b578f6198"
   },
   "outputs": [
    {
     "data": {
      "text/plain": [
       "0    Dinner\n",
       "dtype: object"
      ]
     },
     "execution_count": 10,
     "metadata": {},
     "output_type": "execute_result"
    }
   ],
   "source": [
    "# find the mode of the variable 'time'\n",
    "df_tips.time.mode()"
   ]
  },
  {
   "cell_type": "markdown",
   "metadata": {
    "id": "liPLoNobrcC7"
   },
   "source": [
    "The output shows that there were more customers for dinner."
   ]
  },
  {
   "cell_type": "markdown",
   "metadata": {},
   "source": [
    "#### 5. Based on the statistical summary, comment on the variable 'tip'"
   ]
  },
  {
   "cell_type": "code",
   "execution_count": 11,
   "metadata": {
    "id": "QjUbibRzrcC9",
    "outputId": "ce417854-8457-47c4-98f6-7a2045c9e3f4"
   },
   "outputs": [
    {
     "data": {
      "text/plain": [
       "count    244.000000\n",
       "mean       2.998279\n",
       "std        1.383638\n",
       "min        1.000000\n",
       "25%        2.000000\n",
       "50%        2.900000\n",
       "75%        3.562500\n",
       "max       10.000000\n",
       "Name: tip, dtype: float64"
      ]
     },
     "execution_count": 11,
     "metadata": {},
     "output_type": "execute_result"
    }
   ],
   "source": [
    "# describe() function returns the statistical summary of the data\n",
    "df_tips.tip.describe()"
   ]
  },
  {
   "cell_type": "markdown",
   "metadata": {
    "id": "nV6qpjXsrcC-"
   },
   "source": [
    "There are 244 tip amount records in the data; where the average tip amount is nearly 3 US dollars. The statistical summary shows that the variable is positively skewed, as 75% of the amounts are less than 3.5 US dollars."
   ]
  },
  {
   "cell_type": "markdown",
   "metadata": {},
   "source": [
    "#### 6. Find the busiest day in terms of the orders"
   ]
  },
  {
   "cell_type": "code",
   "execution_count": 12,
   "metadata": {
    "id": "gRDjtqXYrcDA",
    "outputId": "d80d6bd0-fb51-4472-da7e-2b07d5f0d3a2"
   },
   "outputs": [
    {
     "data": {
      "text/plain": [
       "Sat     87\n",
       "Sun     76\n",
       "Thur    62\n",
       "Fri     19\n",
       "Name: day, dtype: int64"
      ]
     },
     "execution_count": 12,
     "metadata": {},
     "output_type": "execute_result"
    }
   ],
   "source": [
    "# value_counts() returns the number of observations for each category\n",
    "df_tips.day.value_counts()"
   ]
  },
  {
   "cell_type": "markdown",
   "metadata": {
    "id": "BfOFSbPErcDB"
   },
   "source": [
    "The output shows that Saturday is the busiest day, as the count for orders is highest."
   ]
  },
  {
   "cell_type": "markdown",
   "metadata": {},
   "source": [
    "#### 7. Is the variable 'total_bill' skewed? If yes, identify the type of skewness"
   ]
  },
  {
   "cell_type": "code",
   "execution_count": 13,
   "metadata": {
    "id": "hF5QW9W4rcDC",
    "outputId": "a0c7aefd-dc33-4082-d3d8-acbd370f45cc"
   },
   "outputs": [
    {
     "data": {
      "text/plain": [
       "1.1332130376158205"
      ]
     },
     "execution_count": 13,
     "metadata": {},
     "output_type": "execute_result"
    }
   ],
   "source": [
    "# skew() returns the coefficient of skewness\n",
    "df_tips.total_bill.skew()"
   ]
  },
  {
   "cell_type": "markdown",
   "metadata": {
    "id": "jph9GcrdrcDE"
   },
   "source": [
    "The value for skewness is positive."
   ]
  },
  {
   "cell_type": "markdown",
   "metadata": {},
   "source": [
    "#### 8. Is the tip amount dependent on the total bill?"
   ]
  },
  {
   "cell_type": "code",
   "execution_count": 14,
   "metadata": {
    "id": "3EIxP5r-rcDG",
    "outputId": "f0bfb744-a5af-420e-8b1f-3c6d5e758ff5"
   },
   "outputs": [
    {
     "data": {
      "text/html": [
       "<div>\n",
       "<style scoped>\n",
       "    .dataframe tbody tr th:only-of-type {\n",
       "        vertical-align: middle;\n",
       "    }\n",
       "\n",
       "    .dataframe tbody tr th {\n",
       "        vertical-align: top;\n",
       "    }\n",
       "\n",
       "    .dataframe thead th {\n",
       "        text-align: right;\n",
       "    }\n",
       "</style>\n",
       "<table border=\"1\" class=\"dataframe\">\n",
       "  <thead>\n",
       "    <tr style=\"text-align: right;\">\n",
       "      <th></th>\n",
       "      <th>total_bill</th>\n",
       "      <th>tip</th>\n",
       "    </tr>\n",
       "  </thead>\n",
       "  <tbody>\n",
       "    <tr>\n",
       "      <th>total_bill</th>\n",
       "      <td>1.000000</td>\n",
       "      <td>0.675734</td>\n",
       "    </tr>\n",
       "    <tr>\n",
       "      <th>tip</th>\n",
       "      <td>0.675734</td>\n",
       "      <td>1.000000</td>\n",
       "    </tr>\n",
       "  </tbody>\n",
       "</table>\n",
       "</div>"
      ],
      "text/plain": [
       "            total_bill       tip\n",
       "total_bill    1.000000  0.675734\n",
       "tip           0.675734  1.000000"
      ]
     },
     "execution_count": 14,
     "metadata": {},
     "output_type": "execute_result"
    }
   ],
   "source": [
    "# corr() returns the correlation between numeric variables\n",
    "df_tips[['total_bill', 'tip']].corr()"
   ]
  },
  {
   "cell_type": "markdown",
   "metadata": {
    "id": "KMJNlt1ArcDH"
   },
   "source": [
    "There is a moderate positive correlation between the tip amount and the total bill. We may say that the customers tend to give tip based on their order bill amount."
   ]
  },
  {
   "cell_type": "markdown",
   "metadata": {},
   "source": [
    "#### 9. What is the percentage of males and females in the dataset? and display it in the plot"
   ]
  },
  {
   "cell_type": "code",
   "execution_count": 15,
   "metadata": {
    "id": "2zeDqQe3x_e7",
    "outputId": "9eea6080-d3ac-4735-b7ec-e34e4e5b6a54"
   },
   "outputs": [
    {
     "data": {
      "image/png": "[encoded data removed]",
      "text/plain": [
       "<Figure size 1080x576 with 1 Axes>"
      ]
     },
     "metadata": {
      "needs_background": "light"
     },
     "output_type": "display_data"
    }
   ],
   "source": [
    "# set the plot size\n",
    "plt.figure(figsize = (15,8))\n",
    "\n",
    "# countplot() returns the number of observations for each category\n",
    "sns.countplot(x = 'sex', data = df_tips)\n",
    "\n",
    "# add percentage values on a plot\n",
    "# x and y are positions for text on axes\n",
    "# 's' is the text to display\n",
    "plt.text(x = -0.05, y = 90, s = str(round((df_tips.sex.value_counts()[1]/len(df_tips.sex)*100),2)) +'%')\n",
    "plt.text(x = 0.95, y = 158, s = str(round((df_tips.sex.value_counts()[0]/len(df_tips.sex)*100),2))+'%')\n",
    "\n",
    "# add plot and axes labels\n",
    "# set text size using 'fontsize'\n",
    "plt.title('Gender-wise Distribution', fontsize = 15)\n",
    "plt.xlabel('Sex', fontsize = 15)\n",
    "plt.ylabel('Count', fontsize = 15)\n",
    "\n",
    "# display the plot\n",
    "plt.show()"
   ]
  },
  {
   "cell_type": "markdown",
   "metadata": {
    "id": "FV9jXAytx_e-"
   },
   "source": [
    "The above plot shows that there are 35.66% females and 64.34% males in the data. "
   ]
  },
  {
   "cell_type": "markdown",
   "metadata": {},
   "source": [
    "#### 10. Is there any relationship between tip and total bill amount? Support your answer with a plot"
   ]
  },
  {
   "cell_type": "code",
   "execution_count": 16,
   "metadata": {
    "id": "neK-5qNlx_fC",
    "outputId": "55acbfc4-d0c0-44f0-a749-a5be75e81554"
   },
   "outputs": [
    {
     "data": {
      "image/png": "[encoded data removed]",
      "text/plain": [
       "<Figure size 1080x576 with 1 Axes>"
      ]
     },
     "metadata": {
      "needs_background": "light"
     },
     "output_type": "display_data"
    }
   ],
   "source": [
    "# set the plot size\n",
    "plt.figure(figsize = (15,8))\n",
    "\n",
    "# plot scatter plot for 'total_bill' and 'tip' to check the relationship\n",
    "sns.scatterplot(x = 'total_bill', y = 'tip', data = df_tips)\n",
    "\n",
    "# add plot and axes labels\n",
    "# set text size using 'fontsize'\n",
    "plt.title('Relationship between Total Bill and Tip', fontsize = 15)\n",
    "plt.xlabel('Total Bill Amount', fontsize = 15)\n",
    "plt.ylabel('Tip Amount', fontsize = 15)\n",
    "\n",
    "# display the plot \n",
    "plt.show()"
   ]
  },
  {
   "cell_type": "markdown",
   "metadata": {
    "id": "Vbvnhubdx_fE"
   },
   "source": [
    "The plot shows that there is a positive relationship between the total bill amount and the tip. The highest tip given  was approximately 10 dollars. A large proportion of observations are clustered where total_bill is between 10 to 20 dollars and the tip is between 1 to 4 dollars."
   ]
  },
  {
   "cell_type": "markdown",
   "metadata": {},
   "source": [
    "#### 11. Which is the busiest day and time at the restaurant?"
   ]
  },
  {
   "cell_type": "code",
   "execution_count": 17,
   "metadata": {
    "id": "FtivMpIXx_fH",
    "outputId": "bb1e31cb-b19a-4a98-b202-caaa86acec4e"
   },
   "outputs": [
    {
     "data": {
      "image/png": "[encoded data removed]",
      "text/plain": [
       "<Figure size 1080x576 with 1 Axes>"
      ]
     },
     "metadata": {
      "needs_background": "light"
     },
     "output_type": "display_data"
    }
   ],
   "source": [
    "# set the plot size\n",
    "plt.figure(figsize = (15,8))\n",
    "\n",
    "# 'hue = time' returns the count for different categories of time \n",
    "# set colors using 'palette'\n",
    "sns.countplot(x = 'day', hue = 'time', data = df_tips, palette = 'Set2')\n",
    "\n",
    "# add plot and axes labels\n",
    "# set text size using 'fontsize'\n",
    "plt.title('Count of Orders on Different Days', fontsize = 15)\n",
    "plt.xlabel('Day', fontsize = 15)\n",
    "plt.ylabel('Count', fontsize = 15)\n",
    "\n",
    "# display the plot\n",
    "plt.show()"
   ]
  },
  {
   "cell_type": "markdown",
   "metadata": {
    "id": "eh3bfrS9x_fI"
   },
   "source": [
    "Saturday evening is the busiest time according to the data. All the orders accepted on Saturday and Sunday are for dinner. While, on Thursday there is a high proportion of lunch orders among all days."
   ]
  },
  {
   "cell_type": "markdown",
   "metadata": {},
   "source": [
    "#### 12. Compute the gender-wise count based on smoking habits"
   ]
  },
  {
   "cell_type": "code",
   "execution_count": 18,
   "metadata": {
    "id": "1eIatXzEx_fK",
    "outputId": "374ea95b-8dca-4570-826c-97069cf88d2c"
   },
   "outputs": [
    {
     "data": {
      "text/html": [
       "<div>\n",
       "<style scoped>\n",
       "    .dataframe tbody tr th:only-of-type {\n",
       "        vertical-align: middle;\n",
       "    }\n",
       "\n",
       "    .dataframe tbody tr th {\n",
       "        vertical-align: top;\n",
       "    }\n",
       "\n",
       "    .dataframe thead th {\n",
       "        text-align: right;\n",
       "    }\n",
       "</style>\n",
       "<table border=\"1\" class=\"dataframe\">\n",
       "  <thead>\n",
       "    <tr style=\"text-align: right;\">\n",
       "      <th>sex</th>\n",
       "      <th>Female</th>\n",
       "      <th>Male</th>\n",
       "    </tr>\n",
       "    <tr>\n",
       "      <th>smoker</th>\n",
       "      <th></th>\n",
       "      <th></th>\n",
       "    </tr>\n",
       "  </thead>\n",
       "  <tbody>\n",
       "    <tr>\n",
       "      <th>No</th>\n",
       "      <td>54</td>\n",
       "      <td>97</td>\n",
       "    </tr>\n",
       "    <tr>\n",
       "      <th>Yes</th>\n",
       "      <td>33</td>\n",
       "      <td>60</td>\n",
       "    </tr>\n",
       "  </tbody>\n",
       "</table>\n",
       "</div>"
      ],
      "text/plain": [
       "sex     Female  Male\n",
       "smoker              \n",
       "No          54    97\n",
       "Yes         33    60"
      ]
     },
     "execution_count": 18,
     "metadata": {},
     "output_type": "execute_result"
    }
   ],
   "source": [
    "# create a cross table for smoking habits and gender\n",
    "# 'index' represents the variable on rows\n",
    "# 'columns' represents the variable on columns\n",
    "pd.crosstab(index = df_tips.smoker, columns = df_tips.sex)"
   ]
  },
  {
   "cell_type": "markdown",
   "metadata": {
    "id": "YsnSwhDfx_fL"
   },
   "source": [
    "The count of non-smokers is high for both males and females. The crosstab showing the relationship between two categorical variables is known as, 'contingency table'."
   ]
  },
  {
   "cell_type": "markdown",
   "metadata": {},
   "source": [
    "#### 13. Compare the tip amount given for different days"
   ]
  },
  {
   "cell_type": "code",
   "execution_count": 19,
   "metadata": {
    "id": "2hivAorpx_fO",
    "outputId": "53701b99-8eb8-4ed4-cb8e-3e6dd958c703"
   },
   "outputs": [
    {
     "data": {
      "image/png": "[encoded data removed]",
      "text/plain": [
       "<Figure size 1080x576 with 1 Axes>"
      ]
     },
     "metadata": {
      "needs_background": "light"
     },
     "output_type": "display_data"
    }
   ],
   "source": [
    "# set the plot size\n",
    "plt.figure(figsize = (15,8))\n",
    "\n",
    "# plot a violinplot\n",
    "sns.violinplot(x = 'day', y = 'tip', data = df_tips)\n",
    "\n",
    "# add plot and axes labels\n",
    "# set text size using 'fontsize'\n",
    "plt.title('Comparison of Tip Amount on Different Days', fontsize = 15)\n",
    "plt.xlabel('Day', fontsize = 15)\n",
    "plt.ylabel('Tip Amount', fontsize = 15)\n",
    "\n",
    "# display the plot\n",
    "plt.show()"
   ]
  },
  {
   "cell_type": "markdown",
   "metadata": {
    "id": "4aq6jHBNx_fP"
   },
   "source": [
    "The above violin plot shows the distribution of the tip amount given on different days. The tip is approximately 1 to 5 dollars for all the days. The highest tip was given on Saturday."
   ]
  },
  {
   "cell_type": "markdown",
   "metadata": {},
   "source": [
    "#### 14. Is the average bill amount dependent on the size of the group?"
   ]
  },
  {
   "cell_type": "code",
   "execution_count": 20,
   "metadata": {
    "id": "YDJ-_t6Jx_fR",
    "outputId": "90d57add-cd07-4dbf-9aee-01dde82e8ff2"
   },
   "outputs": [
    {
     "data": {
      "text/html": [
       "<div>\n",
       "<style scoped>\n",
       "    .dataframe tbody tr th:only-of-type {\n",
       "        vertical-align: middle;\n",
       "    }\n",
       "\n",
       "    .dataframe tbody tr th {\n",
       "        vertical-align: top;\n",
       "    }\n",
       "\n",
       "    .dataframe thead th {\n",
       "        text-align: right;\n",
       "    }\n",
       "</style>\n",
       "<table border=\"1\" class=\"dataframe\">\n",
       "  <thead>\n",
       "    <tr style=\"text-align: right;\">\n",
       "      <th></th>\n",
       "      <th>total_bill</th>\n",
       "    </tr>\n",
       "    <tr>\n",
       "      <th>size</th>\n",
       "      <th></th>\n",
       "    </tr>\n",
       "  </thead>\n",
       "  <tbody>\n",
       "    <tr>\n",
       "      <th>1</th>\n",
       "      <td>7.242500</td>\n",
       "    </tr>\n",
       "    <tr>\n",
       "      <th>2</th>\n",
       "      <td>16.448013</td>\n",
       "    </tr>\n",
       "    <tr>\n",
       "      <th>3</th>\n",
       "      <td>23.277632</td>\n",
       "    </tr>\n",
       "    <tr>\n",
       "      <th>4</th>\n",
       "      <td>28.613514</td>\n",
       "    </tr>\n",
       "    <tr>\n",
       "      <th>5</th>\n",
       "      <td>30.068000</td>\n",
       "    </tr>\n",
       "    <tr>\n",
       "      <th>6</th>\n",
       "      <td>34.830000</td>\n",
       "    </tr>\n",
       "  </tbody>\n",
       "</table>\n",
       "</div>"
      ],
      "text/plain": [
       "      total_bill\n",
       "size            \n",
       "1       7.242500\n",
       "2      16.448013\n",
       "3      23.277632\n",
       "4      28.613514\n",
       "5      30.068000\n",
       "6      34.830000"
      ]
     },
     "execution_count": 20,
     "metadata": {},
     "output_type": "execute_result"
    }
   ],
   "source": [
    "# compute average bill for unique size using groupby()\n",
    "# set plot size using 'figsize'\n",
    "avg_total_bill = df_tips[['total_bill', 'size']].groupby('size').mean()\n",
    "avg_total_bill"
   ]
  },
  {
   "cell_type": "code",
   "execution_count": 21,
   "metadata": {
    "id": "Qe7gLxeax_fS",
    "outputId": "7dfc9bb4-345f-4839-af7b-8217ad17151a"
   },
   "outputs": [
    {
     "data": {
      "text/plain": [
       "Int64Index([1, 2, 3, 4, 5, 6], dtype='int64', name='size')"
      ]
     },
     "execution_count": 21,
     "metadata": {},
     "output_type": "execute_result"
    }
   ],
   "source": [
    "# store the index of the dataframe avg_total_bill i.e. the unique values of the variable size\n",
    "size_index = avg_total_bill.index\n",
    "size_index"
   ]
  },
  {
   "cell_type": "code",
   "execution_count": 22,
   "metadata": {
    "id": "EQFg9r25x_fT",
    "outputId": "ef6408c6-0864-4ffb-c4b4-156767a8eb68",
    "scrolled": false
   },
   "outputs": [
    {
     "data": {
      "image/png": "[encoded data removed]",
      "text/plain": [
       "<Figure size 1080x576 with 1 Axes>"
      ]
     },
     "metadata": {
      "needs_background": "light"
     },
     "output_type": "display_data"
    }
   ],
   "source": [
    "# set the size of the plot\n",
    "plt.rcParams['figure.figsize'] = 15, 8\n",
    "\n",
    "# plot a barplot\n",
    "sns.barplot(x = size_index, y = avg_total_bill['total_bill'])\n",
    "\n",
    "# add plot and axes labels\n",
    "# set text size using 'fontsize'\n",
    "plt.title('Bar Plot for Average Bill And Size', fontsize = 15)\n",
    "plt.xlabel('Size', fontsize = 15)\n",
    "plt.ylabel('Average Bill Amount', fontsize = 15)\n",
    "\n",
    "# display the plot\n",
    "plt.show()"
   ]
  },
  {
   "cell_type": "markdown",
   "metadata": {
    "id": "D1JTujKex_fU"
   },
   "source": [
    "The average bill amount is increasing with the size."
   ]
  },
  {
   "cell_type": "markdown",
   "metadata": {},
   "source": [
    "#### 15. Is the tip amount varying based on gender and time?"
   ]
  },
  {
   "cell_type": "code",
   "execution_count": 23,
   "metadata": {
    "id": "qSjxTtNsx_fV",
    "outputId": "66af7f99-d964-4e70-a6ef-a2599ded5d4a"
   },
   "outputs": [
    {
     "data": {
      "image/png": "[encoded data removed]",
      "text/plain": [
       "<Figure size 1080x576 with 1 Axes>"
      ]
     },
     "metadata": {
      "needs_background": "light"
     },
     "output_type": "display_data"
    }
   ],
   "source": [
    "# construct the pivot table to calculate average tip amount for different gender and time\n",
    "stack = pd.pivot_table(df_tips,index=[\"sex\"], columns=[\"time\"], values='tip', aggfunc='mean')\n",
    "\n",
    "# set the colors for the plot\n",
    "color = sns.color_palette(\"twilight\")\n",
    "\n",
    "# plot the stacked bar graph\n",
    "# 'stacked=True' retruns the stacked bar plot\n",
    "# set plot size using 'figsize'\n",
    "# 'color' assigns colors to the plot \n",
    "fig = stack.plot.bar(stacked = True, figsize = (15,8), color = color)\n",
    "\n",
    "# set axes and plot labels\n",
    "# set text size using 'fontsize'\n",
    "plt.title('Stacked Bar Plot', fontsize = 15)\n",
    "fig.set_xlabel('Sex', fontsize = 15)\n",
    "fig.set_ylabel('Age', fontsize = 15)\n",
    "\n",
    "# set the position of legend\n",
    "fig.legend(loc='upper right')\n",
    "\n",
    "# display the plot\n",
    "plt.show()"
   ]
  },
  {
   "cell_type": "markdown",
   "metadata": {
    "id": "1egBd2Wlx_fW"
   },
   "source": [
    "The stacked bar plot shows that there is no significant difference in the tip given by males and females."
   ]
  },
  {
   "cell_type": "markdown",
   "metadata": {},
   "source": [
    "#### 16. Visualize the average bill amount for each day"
   ]
  },
  {
   "cell_type": "code",
   "execution_count": 24,
   "metadata": {
    "id": "XsZ_Jy7kx_fY",
    "outputId": "57894241-9655-4966-f127-e039f399d79d",
    "scrolled": false
   },
   "outputs": [
    {
     "data": {
      "image/png": "[encoded data removed]",
      "text/plain": [
       "<Figure size 1080x576 with 1 Axes>"
      ]
     },
     "metadata": {
      "needs_background": "light"
     },
     "output_type": "display_data"
    }
   ],
   "source": [
    "# set the plot size\n",
    "plt.figure(figsize = (15,8))\n",
    "\n",
    "# plot a barplot with mean of total bill on y-axis and days on x-axis\n",
    "sns.barplot(x = 'day', y = 'total_bill', data = df_tips)\n",
    "\n",
    "# add plot and axes labels\n",
    "# set text size using 'fontsize'\n",
    "plt.title('Bar Plot for Bill Amount and Day', fontsize = 15)\n",
    "plt.xlabel('Day', fontsize = 15)\n",
    "plt.ylabel('Total Bill Amount', fontsize = 15)\n",
    "\n",
    "# display the plot\n",
    "plt.show()"
   ]
  },
  {
   "cell_type": "markdown",
   "metadata": {
    "id": "IboC4sPYx_fZ"
   },
   "source": [
    "The bars show that the average bill is highest on Sunday. The black rectangles on each bar show the estimate of mean value and confidence interval for corresponding data. There is more variability in the bill amount for Friday."
   ]
  },
  {
   "cell_type": "markdown",
   "metadata": {},
   "source": [
    "#### 17. Plot a horizontal boxplot to compare the bill amount based on gender"
   ]
  },
  {
   "cell_type": "code",
   "execution_count": 25,
   "metadata": {
    "id": "K1dEAs_Gx_fd",
    "outputId": "6a8eddbe-1345-49fd-c101-0d2d45bb9656"
   },
   "outputs": [
    {
     "data": {
      "image/png": "[encoded data removed]",
      "text/plain": [
       "<Figure size 1080x576 with 1 Axes>"
      ]
     },
     "metadata": {
      "needs_background": "light"
     },
     "output_type": "display_data"
    }
   ],
   "source": [
    "# set the plot size\n",
    "plt.figure(figsize = (15,8))\n",
    "\n",
    "# 'orient = h' plots the plot horizontally\n",
    "# 'y' represents categorical variable on y-azis\n",
    "# 'x' represents numerical variable on x-azis\n",
    "sns.boxplot(x = 'total_bill', y = 'sex', data = df_tips, orient='h')\n",
    "\n",
    "# add plot and axes labels\n",
    "# set text size using 'fontsize'\n",
    "plt.title('Gender-wise Comparison of Bill Amount', fontsize = 15)\n",
    "plt.xlabel('Total Bill Amount', fontsize = 15)\n",
    "plt.ylabel('Gender', fontsize = 15)\n",
    "\n",
    "# display the plot\n",
    "plt.show()"
   ]
  },
  {
   "cell_type": "markdown",
   "metadata": {
    "id": "4zky8qTmx_fe"
   },
   "source": [
    "The average bill amount for males is slightly higher than females. Also, the outliers are present for both the distributions."
   ]
  },
  {
   "cell_type": "markdown",
   "metadata": {},
   "source": [
    "#### 18. Find the maximum bill amount for lunch and dinner on Saturday and Sunday"
   ]
  },
  {
   "cell_type": "code",
   "execution_count": 26,
   "metadata": {
    "id": "J2uX2e4xx_ff",
    "outputId": "bc4e3409-5042-4054-d4ee-72dd50ec9fe1"
   },
   "outputs": [
    {
     "data": {
      "text/html": [
       "<div>\n",
       "<style scoped>\n",
       "    .dataframe tbody tr th:only-of-type {\n",
       "        vertical-align: middle;\n",
       "    }\n",
       "\n",
       "    .dataframe tbody tr th {\n",
       "        vertical-align: top;\n",
       "    }\n",
       "\n",
       "    .dataframe thead th {\n",
       "        text-align: right;\n",
       "    }\n",
       "</style>\n",
       "<table border=\"1\" class=\"dataframe\">\n",
       "  <thead>\n",
       "    <tr style=\"text-align: right;\">\n",
       "      <th>day</th>\n",
       "      <th>Sat</th>\n",
       "      <th>Sun</th>\n",
       "    </tr>\n",
       "    <tr>\n",
       "      <th>time</th>\n",
       "      <th></th>\n",
       "      <th></th>\n",
       "    </tr>\n",
       "  </thead>\n",
       "  <tbody>\n",
       "    <tr>\n",
       "      <th>Dinner</th>\n",
       "      <td>50.81</td>\n",
       "      <td>48.17</td>\n",
       "    </tr>\n",
       "  </tbody>\n",
       "</table>\n",
       "</div>"
      ],
      "text/plain": [
       "day       Sat    Sun\n",
       "time                \n",
       "Dinner  50.81  48.17"
      ]
     },
     "execution_count": 26,
     "metadata": {},
     "output_type": "execute_result"
    }
   ],
   "source": [
    "# create a subset of dataframe with orders on Saturday and Sunday\n",
    "df_weekend = df_tips[(df_tips['day'] == 'Sat') | (df_tips['day'] == 'Sun')]\n",
    "\n",
    "# create a pivot table for maximum bill amount\n",
    "max_amt =  pd.pivot_table(data = df_weekend, values = 'total_bill', index = 'time', columns = 'day', aggfunc = 'max')\n",
    "\n",
    "max_amt"
   ]
  },
  {
   "cell_type": "markdown",
   "metadata": {
    "id": "EwKAvBzBx_fg"
   },
   "source": [
    "From the output, we can see that people prefer to go for dinner on weekends rather than lunch."
   ]
  },
  {
   "cell_type": "markdown",
   "metadata": {},
   "source": [
    "## Power Ahead!"
   ]
  },
  {
   "cell_type": "code",
   "execution_count": null,
   "metadata": {},
   "outputs": [],
   "source": []
  }
 ],
 "metadata": {
  "colab": {
   "collapsed_sections": [],
   "name": "EDA - Take Home (Day 3) - Solutions [v4.0 - 121020].ipynb",
   "provenance": []
  },
  "kernelspec": {
   "display_name": "Python 3 (ipykernel)",
   "language": "python",
   "name": "python3"
  },
  "language_info": {
   "codemirror_mode": {
    "name": "ipython",
    "version": 3
   },
   "file_extension": ".py",
   "mimetype": "text/x-python",
   "name": "python",
   "nbconvert_exporter": "python",
   "pygments_lexer": "ipython3",
   "version": "3.9.7"
  }
 },
 "nbformat": 4,
 "nbformat_minor": 1
}
